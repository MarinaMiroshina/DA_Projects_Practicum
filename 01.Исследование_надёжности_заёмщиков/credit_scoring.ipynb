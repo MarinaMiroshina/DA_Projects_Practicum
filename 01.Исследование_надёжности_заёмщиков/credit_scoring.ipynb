{
 "cells": [
  {
   "cell_type": "markdown",
   "metadata": {},
   "source": [
    "# Исследование надёжности заёмщиков"
   ]
  },
  {
   "cell_type": "markdown",
   "metadata": {},
   "source": [
    "Для анализа предоставлены данные кредитного отдела банка с информацией о семейном положении и количестве детей клиентов, а также статистикой их платежеспособности.\n",
    "\n",
    "Цель исследования: определить факторы, которые влияют на невыполнение обязательств по погашению кредитной задолженности.\n",
    "\n",
    "Согласно документации:\n",
    "\n",
    "* children — количество детей в семье;\n",
    "* days_employed — общий трудовой стаж в днях;\n",
    "* dob_years — возраст клиента в годах;\n",
    "* education — уровень образования клиента;\n",
    "* education_id — идентификатор уровня образования;\n",
    "* family_status — семейное положение;\n",
    "* family_status_id — идентификатор семейного положения;\n",
    "* gender — пол клиента;\n",
    "* income_type — тип занятости;\n",
    "* debt — имел ли задолженность по возврату кредитов (1 - да, 0 - нет);\n",
    "* total_income — ежемесячный доход;\n",
    "* purpose — цель получения кредита.\n",
    "\n",
    "Результаты исследования будут учтены при построении модели кредитного скоринга — специальной системы, которая оценивает способность потенциального заёмщика вернуть кредит банку."
   ]
  },
  {
   "cell_type": "markdown",
   "metadata": {},
   "source": [
    "## План работы\n",
    "\n",
    "1. [Изучение](#1)\n",
    "\n",
    "2. [Предобработка данных](#2) \n",
    "    \n",
    "    2.1 [Обработка пропусков](#2.1)\n",
    "    \n",
    "    2.2 [Замена типа данных](#2.2)\n",
    "    \n",
    "    2.3 [Обработка дубликатов](#2.3)\n",
    "    \n",
    "    2.4 [Лемматизация](#2.4)\n",
    "    \n",
    "    2.5 [Категоризация данных](#2.5)\n",
    "         \n",
    "3. [Ответы на вопросы](#3) \n",
    "\n",
    "    3.1 [Есть ли зависимость между наличием детей и возвратом кредита в срок?](#3.1)\n",
    "    \n",
    "    3.2 [Есть ли зависимость между семейным положением и возвратом кредита в срок?](#3.2)\n",
    "    \n",
    "    3.3 [Есть ли зависимость между уровнем дохода и возвратом кредита в срок?](#3.3)\n",
    "    \n",
    "    3.4 [Как разные цели кредита влияют на его возврат в срок?](#3.4)\n",
    "\n",
    "4. [Общие выводы](#4)"
   ]
  },
  {
   "cell_type": "markdown",
   "metadata": {},
   "source": [
    "<a name=\"1\"><h2>1 Изучение данных</h2></a>"
   ]
  },
  {
   "cell_type": "markdown",
   "metadata": {},
   "source": [
    "Импортируем библиотеки:"
   ]
  },
  {
   "cell_type": "code",
   "execution_count": 1,
   "metadata": {},
   "outputs": [],
   "source": [
    "import pandas as pd\n",
    "from pymystem3 import Mystem"
   ]
  },
  {
   "cell_type": "markdown",
   "metadata": {},
   "source": [
    "Прочитаем данные и сохраним в переменную data:"
   ]
  },
  {
   "cell_type": "code",
   "execution_count": 2,
   "metadata": {},
   "outputs": [],
   "source": [
    "data = pd.read_csv('/datasets/data.csv')"
   ]
  },
  {
   "cell_type": "markdown",
   "metadata": {},
   "source": [
    "Выведем на экран первые 10 строк и просмотрим общую информацию о таблице:"
   ]
  },
  {
   "cell_type": "code",
   "execution_count": 3,
   "metadata": {},
   "outputs": [
    {
     "data": {
      "text/html": [
       "<div>\n",
       "<style scoped>\n",
       "    .dataframe tbody tr th:only-of-type {\n",
       "        vertical-align: middle;\n",
       "    }\n",
       "\n",
       "    .dataframe tbody tr th {\n",
       "        vertical-align: top;\n",
       "    }\n",
       "\n",
       "    .dataframe thead th {\n",
       "        text-align: right;\n",
       "    }\n",
       "</style>\n",
       "<table border=\"1\" class=\"dataframe\">\n",
       "  <thead>\n",
       "    <tr style=\"text-align: right;\">\n",
       "      <th></th>\n",
       "      <th>children</th>\n",
       "      <th>days_employed</th>\n",
       "      <th>dob_years</th>\n",
       "      <th>education</th>\n",
       "      <th>education_id</th>\n",
       "      <th>family_status</th>\n",
       "      <th>family_status_id</th>\n",
       "      <th>gender</th>\n",
       "      <th>income_type</th>\n",
       "      <th>debt</th>\n",
       "      <th>total_income</th>\n",
       "      <th>purpose</th>\n",
       "    </tr>\n",
       "  </thead>\n",
       "  <tbody>\n",
       "    <tr>\n",
       "      <th>0</th>\n",
       "      <td>1</td>\n",
       "      <td>-8437.673028</td>\n",
       "      <td>42</td>\n",
       "      <td>высшее</td>\n",
       "      <td>0</td>\n",
       "      <td>женат / замужем</td>\n",
       "      <td>0</td>\n",
       "      <td>F</td>\n",
       "      <td>сотрудник</td>\n",
       "      <td>0</td>\n",
       "      <td>253875.639453</td>\n",
       "      <td>покупка жилья</td>\n",
       "    </tr>\n",
       "    <tr>\n",
       "      <th>1</th>\n",
       "      <td>1</td>\n",
       "      <td>-4024.803754</td>\n",
       "      <td>36</td>\n",
       "      <td>среднее</td>\n",
       "      <td>1</td>\n",
       "      <td>женат / замужем</td>\n",
       "      <td>0</td>\n",
       "      <td>F</td>\n",
       "      <td>сотрудник</td>\n",
       "      <td>0</td>\n",
       "      <td>112080.014102</td>\n",
       "      <td>приобретение автомобиля</td>\n",
       "    </tr>\n",
       "    <tr>\n",
       "      <th>2</th>\n",
       "      <td>0</td>\n",
       "      <td>-5623.422610</td>\n",
       "      <td>33</td>\n",
       "      <td>Среднее</td>\n",
       "      <td>1</td>\n",
       "      <td>женат / замужем</td>\n",
       "      <td>0</td>\n",
       "      <td>M</td>\n",
       "      <td>сотрудник</td>\n",
       "      <td>0</td>\n",
       "      <td>145885.952297</td>\n",
       "      <td>покупка жилья</td>\n",
       "    </tr>\n",
       "    <tr>\n",
       "      <th>3</th>\n",
       "      <td>3</td>\n",
       "      <td>-4124.747207</td>\n",
       "      <td>32</td>\n",
       "      <td>среднее</td>\n",
       "      <td>1</td>\n",
       "      <td>женат / замужем</td>\n",
       "      <td>0</td>\n",
       "      <td>M</td>\n",
       "      <td>сотрудник</td>\n",
       "      <td>0</td>\n",
       "      <td>267628.550329</td>\n",
       "      <td>дополнительное образование</td>\n",
       "    </tr>\n",
       "    <tr>\n",
       "      <th>4</th>\n",
       "      <td>0</td>\n",
       "      <td>340266.072047</td>\n",
       "      <td>53</td>\n",
       "      <td>среднее</td>\n",
       "      <td>1</td>\n",
       "      <td>гражданский брак</td>\n",
       "      <td>1</td>\n",
       "      <td>F</td>\n",
       "      <td>пенсионер</td>\n",
       "      <td>0</td>\n",
       "      <td>158616.077870</td>\n",
       "      <td>сыграть свадьбу</td>\n",
       "    </tr>\n",
       "    <tr>\n",
       "      <th>5</th>\n",
       "      <td>0</td>\n",
       "      <td>-926.185831</td>\n",
       "      <td>27</td>\n",
       "      <td>высшее</td>\n",
       "      <td>0</td>\n",
       "      <td>гражданский брак</td>\n",
       "      <td>1</td>\n",
       "      <td>M</td>\n",
       "      <td>компаньон</td>\n",
       "      <td>0</td>\n",
       "      <td>255763.565419</td>\n",
       "      <td>покупка жилья</td>\n",
       "    </tr>\n",
       "    <tr>\n",
       "      <th>6</th>\n",
       "      <td>0</td>\n",
       "      <td>-2879.202052</td>\n",
       "      <td>43</td>\n",
       "      <td>высшее</td>\n",
       "      <td>0</td>\n",
       "      <td>женат / замужем</td>\n",
       "      <td>0</td>\n",
       "      <td>F</td>\n",
       "      <td>компаньон</td>\n",
       "      <td>0</td>\n",
       "      <td>240525.971920</td>\n",
       "      <td>операции с жильем</td>\n",
       "    </tr>\n",
       "    <tr>\n",
       "      <th>7</th>\n",
       "      <td>0</td>\n",
       "      <td>-152.779569</td>\n",
       "      <td>50</td>\n",
       "      <td>СРЕДНЕЕ</td>\n",
       "      <td>1</td>\n",
       "      <td>женат / замужем</td>\n",
       "      <td>0</td>\n",
       "      <td>M</td>\n",
       "      <td>сотрудник</td>\n",
       "      <td>0</td>\n",
       "      <td>135823.934197</td>\n",
       "      <td>образование</td>\n",
       "    </tr>\n",
       "    <tr>\n",
       "      <th>8</th>\n",
       "      <td>2</td>\n",
       "      <td>-6929.865299</td>\n",
       "      <td>35</td>\n",
       "      <td>ВЫСШЕЕ</td>\n",
       "      <td>0</td>\n",
       "      <td>гражданский брак</td>\n",
       "      <td>1</td>\n",
       "      <td>F</td>\n",
       "      <td>сотрудник</td>\n",
       "      <td>0</td>\n",
       "      <td>95856.832424</td>\n",
       "      <td>на проведение свадьбы</td>\n",
       "    </tr>\n",
       "    <tr>\n",
       "      <th>9</th>\n",
       "      <td>0</td>\n",
       "      <td>-2188.756445</td>\n",
       "      <td>41</td>\n",
       "      <td>среднее</td>\n",
       "      <td>1</td>\n",
       "      <td>женат / замужем</td>\n",
       "      <td>0</td>\n",
       "      <td>M</td>\n",
       "      <td>сотрудник</td>\n",
       "      <td>0</td>\n",
       "      <td>144425.938277</td>\n",
       "      <td>покупка жилья для семьи</td>\n",
       "    </tr>\n",
       "  </tbody>\n",
       "</table>\n",
       "</div>"
      ],
      "text/plain": [
       "   children  days_employed  dob_years education  education_id  \\\n",
       "0         1   -8437.673028         42    высшее             0   \n",
       "1         1   -4024.803754         36   среднее             1   \n",
       "2         0   -5623.422610         33   Среднее             1   \n",
       "3         3   -4124.747207         32   среднее             1   \n",
       "4         0  340266.072047         53   среднее             1   \n",
       "5         0    -926.185831         27    высшее             0   \n",
       "6         0   -2879.202052         43    высшее             0   \n",
       "7         0    -152.779569         50   СРЕДНЕЕ             1   \n",
       "8         2   -6929.865299         35    ВЫСШЕЕ             0   \n",
       "9         0   -2188.756445         41   среднее             1   \n",
       "\n",
       "      family_status  family_status_id gender income_type  debt   total_income  \\\n",
       "0   женат / замужем                 0      F   сотрудник     0  253875.639453   \n",
       "1   женат / замужем                 0      F   сотрудник     0  112080.014102   \n",
       "2   женат / замужем                 0      M   сотрудник     0  145885.952297   \n",
       "3   женат / замужем                 0      M   сотрудник     0  267628.550329   \n",
       "4  гражданский брак                 1      F   пенсионер     0  158616.077870   \n",
       "5  гражданский брак                 1      M   компаньон     0  255763.565419   \n",
       "6   женат / замужем                 0      F   компаньон     0  240525.971920   \n",
       "7   женат / замужем                 0      M   сотрудник     0  135823.934197   \n",
       "8  гражданский брак                 1      F   сотрудник     0   95856.832424   \n",
       "9   женат / замужем                 0      M   сотрудник     0  144425.938277   \n",
       "\n",
       "                      purpose  \n",
       "0               покупка жилья  \n",
       "1     приобретение автомобиля  \n",
       "2               покупка жилья  \n",
       "3  дополнительное образование  \n",
       "4             сыграть свадьбу  \n",
       "5               покупка жилья  \n",
       "6           операции с жильем  \n",
       "7                 образование  \n",
       "8       на проведение свадьбы  \n",
       "9     покупка жилья для семьи  "
      ]
     },
     "execution_count": 3,
     "metadata": {},
     "output_type": "execute_result"
    }
   ],
   "source": [
    "data.head(10)"
   ]
  },
  {
   "cell_type": "code",
   "execution_count": 4,
   "metadata": {},
   "outputs": [
    {
     "name": "stdout",
     "output_type": "stream",
     "text": [
      "<class 'pandas.core.frame.DataFrame'>\n",
      "RangeIndex: 21525 entries, 0 to 21524\n",
      "Data columns (total 12 columns):\n",
      " #   Column            Non-Null Count  Dtype  \n",
      "---  ------            --------------  -----  \n",
      " 0   children          21525 non-null  int64  \n",
      " 1   days_employed     19351 non-null  float64\n",
      " 2   dob_years         21525 non-null  int64  \n",
      " 3   education         21525 non-null  object \n",
      " 4   education_id      21525 non-null  int64  \n",
      " 5   family_status     21525 non-null  object \n",
      " 6   family_status_id  21525 non-null  int64  \n",
      " 7   gender            21525 non-null  object \n",
      " 8   income_type       21525 non-null  object \n",
      " 9   debt              21525 non-null  int64  \n",
      " 10  total_income      19351 non-null  float64\n",
      " 11  purpose           21525 non-null  object \n",
      "dtypes: float64(2), int64(5), object(5)\n",
      "memory usage: 2.0+ MB\n"
     ]
    }
   ],
   "source": [
    "data.info()"
   ]
  },
  {
   "cell_type": "markdown",
   "metadata": {},
   "source": [
    "В таблице 12 столбцов. В каждой строке таблицы данные, которые содержат информацию о клиенте, всего 21525 записей."
   ]
  },
  {
   "cell_type": "markdown",
   "metadata": {},
   "source": [
    "<div style=\"border: solid green 2px; padding: 20px\">\n",
    "\n",
    "**Выводы**\n",
    "    \n",
    "* Количество значений в столбцах 'days_employed' и 'total_income' различается, значит в данных есть пропуски.\n",
    "* В столбце 'days_employed' отрицательные значения, вероятнеее всего такая ошибка связана с человеческим фактором, так как трудовой стаж не может быть отрицательным, поэтому нужно заменить значения на абсолютные.\n",
    "* В столбце 'education' символы записаны по-разному, следует привести их к общему виду.\n",
    "* Для столбцов с уровнем образования и семейным положением есть колонки с цифровыми обозначениями, поэтому к этим данным можно будет создать словари.</div>"
   ]
  },
  {
   "cell_type": "markdown",
   "metadata": {},
   "source": [
    "<a name=\"2\"><h2>2 Предобработка данных</h2></a>"
   ]
  },
  {
   "cell_type": "markdown",
   "metadata": {},
   "source": [
    "<a name=\"2.1\"><h3>2.1 Обработка пропусков</h3></a>"
   ]
  },
  {
   "cell_type": "markdown",
   "metadata": {},
   "source": [
    "Подсчитаем количество пропусков:"
   ]
  },
  {
   "cell_type": "code",
   "execution_count": 5,
   "metadata": {
    "scrolled": true
   },
   "outputs": [
    {
     "data": {
      "text/plain": [
       "children               0\n",
       "days_employed       2174\n",
       "dob_years              0\n",
       "education              0\n",
       "education_id           0\n",
       "family_status          0\n",
       "family_status_id       0\n",
       "gender                 0\n",
       "income_type            0\n",
       "debt                   0\n",
       "total_income        2174\n",
       "purpose                0\n",
       "dtype: int64"
      ]
     },
     "execution_count": 5,
     "metadata": {},
     "output_type": "execute_result"
    }
   ],
   "source": [
    "data.isna().sum()"
   ]
  },
  {
   "cell_type": "markdown",
   "metadata": {},
   "source": [
    "В столбцах примерно 10% пропусков, удаление такого объема значений может привести к существенным искажениям показателей, поэтому их лучше заменить на среднее значение или медиану."
   ]
  },
  {
   "cell_type": "markdown",
   "metadata": {},
   "source": [
    "Сначала поменяем отрицательные значения в столбце 'days_employed' на абсолютные:"
   ]
  },
  {
   "cell_type": "code",
   "execution_count": 6,
   "metadata": {},
   "outputs": [],
   "source": [
    "data['days_employed'] = data['days_employed'].apply(abs)"
   ]
  },
  {
   "cell_type": "markdown",
   "metadata": {},
   "source": [
    "Определим, каким значением лучше заменять, подсчитаем медиану и среднее значение:"
   ]
  },
  {
   "cell_type": "code",
   "execution_count": 7,
   "metadata": {},
   "outputs": [
    {
     "data": {
      "text/plain": [
       "2194.22"
      ]
     },
     "execution_count": 7,
     "metadata": {},
     "output_type": "execute_result"
    }
   ],
   "source": [
    "round(data['days_employed'].median(),2)"
   ]
  },
  {
   "cell_type": "code",
   "execution_count": 8,
   "metadata": {},
   "outputs": [
    {
     "data": {
      "text/plain": [
       "66914.73"
      ]
     },
     "execution_count": 8,
     "metadata": {},
     "output_type": "execute_result"
    }
   ],
   "source": [
    "round(data['days_employed'].mean(),2)"
   ]
  },
  {
   "cell_type": "markdown",
   "metadata": {},
   "source": [
    "Значения различаются значительно. Чтобы данные были более корректные, лучше сгруппировать клиентов по возрасту, так как от этого зависит стаж работы, и затем взять значение медианы."
   ]
  },
  {
   "cell_type": "markdown",
   "metadata": {},
   "source": [
    "Циклом рассчитываем медиану для каждого возраста и заменяем строки с пропусками в столбце 'days_employed':"
   ]
  },
  {
   "cell_type": "code",
   "execution_count": 9,
   "metadata": {},
   "outputs": [],
   "source": [
    "for age in data['dob_years'].unique():\n",
    "  median = data.loc[data['dob_years'] == age, 'days_employed'].median()\n",
    "  data.loc[(data['days_employed'].isna()) & (data['dob_years'] == age), 'days_employed'] = median"
   ]
  },
  {
   "cell_type": "markdown",
   "metadata": {},
   "source": [
    "Проверяем, что пропусков в колонке с количеством дней стажа больше нет:"
   ]
  },
  {
   "cell_type": "code",
   "execution_count": 10,
   "metadata": {},
   "outputs": [
    {
     "data": {
      "text/plain": [
       "children               0\n",
       "days_employed          0\n",
       "dob_years              0\n",
       "education              0\n",
       "education_id           0\n",
       "family_status          0\n",
       "family_status_id       0\n",
       "gender                 0\n",
       "income_type            0\n",
       "debt                   0\n",
       "total_income        2174\n",
       "purpose                0\n",
       "dtype: int64"
      ]
     },
     "execution_count": 10,
     "metadata": {},
     "output_type": "execute_result"
    }
   ],
   "source": [
    "data.isna().sum()"
   ]
  },
  {
   "cell_type": "markdown",
   "metadata": {},
   "source": [
    "В столбце 'days_employed' пропусков не осталось, теперь обработаем пропуски в столбце с ежемесячным доходом 'total_income'. Выведем первые строки таблицы, чтобы принять решение, какими данными лучше заполнить пустые строки в этом столбце."
   ]
  },
  {
   "cell_type": "code",
   "execution_count": 11,
   "metadata": {},
   "outputs": [
    {
     "data": {
      "text/html": [
       "<div>\n",
       "<style scoped>\n",
       "    .dataframe tbody tr th:only-of-type {\n",
       "        vertical-align: middle;\n",
       "    }\n",
       "\n",
       "    .dataframe tbody tr th {\n",
       "        vertical-align: top;\n",
       "    }\n",
       "\n",
       "    .dataframe thead th {\n",
       "        text-align: right;\n",
       "    }\n",
       "</style>\n",
       "<table border=\"1\" class=\"dataframe\">\n",
       "  <thead>\n",
       "    <tr style=\"text-align: right;\">\n",
       "      <th></th>\n",
       "      <th>children</th>\n",
       "      <th>days_employed</th>\n",
       "      <th>dob_years</th>\n",
       "      <th>education</th>\n",
       "      <th>education_id</th>\n",
       "      <th>family_status</th>\n",
       "      <th>family_status_id</th>\n",
       "      <th>gender</th>\n",
       "      <th>income_type</th>\n",
       "      <th>debt</th>\n",
       "      <th>total_income</th>\n",
       "      <th>purpose</th>\n",
       "    </tr>\n",
       "  </thead>\n",
       "  <tbody>\n",
       "    <tr>\n",
       "      <th>0</th>\n",
       "      <td>1</td>\n",
       "      <td>8437.673028</td>\n",
       "      <td>42</td>\n",
       "      <td>высшее</td>\n",
       "      <td>0</td>\n",
       "      <td>женат / замужем</td>\n",
       "      <td>0</td>\n",
       "      <td>F</td>\n",
       "      <td>сотрудник</td>\n",
       "      <td>0</td>\n",
       "      <td>253875.639453</td>\n",
       "      <td>покупка жилья</td>\n",
       "    </tr>\n",
       "    <tr>\n",
       "      <th>1</th>\n",
       "      <td>1</td>\n",
       "      <td>4024.803754</td>\n",
       "      <td>36</td>\n",
       "      <td>среднее</td>\n",
       "      <td>1</td>\n",
       "      <td>женат / замужем</td>\n",
       "      <td>0</td>\n",
       "      <td>F</td>\n",
       "      <td>сотрудник</td>\n",
       "      <td>0</td>\n",
       "      <td>112080.014102</td>\n",
       "      <td>приобретение автомобиля</td>\n",
       "    </tr>\n",
       "    <tr>\n",
       "      <th>2</th>\n",
       "      <td>0</td>\n",
       "      <td>5623.422610</td>\n",
       "      <td>33</td>\n",
       "      <td>Среднее</td>\n",
       "      <td>1</td>\n",
       "      <td>женат / замужем</td>\n",
       "      <td>0</td>\n",
       "      <td>M</td>\n",
       "      <td>сотрудник</td>\n",
       "      <td>0</td>\n",
       "      <td>145885.952297</td>\n",
       "      <td>покупка жилья</td>\n",
       "    </tr>\n",
       "    <tr>\n",
       "      <th>3</th>\n",
       "      <td>3</td>\n",
       "      <td>4124.747207</td>\n",
       "      <td>32</td>\n",
       "      <td>среднее</td>\n",
       "      <td>1</td>\n",
       "      <td>женат / замужем</td>\n",
       "      <td>0</td>\n",
       "      <td>M</td>\n",
       "      <td>сотрудник</td>\n",
       "      <td>0</td>\n",
       "      <td>267628.550329</td>\n",
       "      <td>дополнительное образование</td>\n",
       "    </tr>\n",
       "    <tr>\n",
       "      <th>4</th>\n",
       "      <td>0</td>\n",
       "      <td>340266.072047</td>\n",
       "      <td>53</td>\n",
       "      <td>среднее</td>\n",
       "      <td>1</td>\n",
       "      <td>гражданский брак</td>\n",
       "      <td>1</td>\n",
       "      <td>F</td>\n",
       "      <td>пенсионер</td>\n",
       "      <td>0</td>\n",
       "      <td>158616.077870</td>\n",
       "      <td>сыграть свадьбу</td>\n",
       "    </tr>\n",
       "  </tbody>\n",
       "</table>\n",
       "</div>"
      ],
      "text/plain": [
       "   children  days_employed  dob_years education  education_id  \\\n",
       "0         1    8437.673028         42    высшее             0   \n",
       "1         1    4024.803754         36   среднее             1   \n",
       "2         0    5623.422610         33   Среднее             1   \n",
       "3         3    4124.747207         32   среднее             1   \n",
       "4         0  340266.072047         53   среднее             1   \n",
       "\n",
       "      family_status  family_status_id gender income_type  debt   total_income  \\\n",
       "0   женат / замужем                 0      F   сотрудник     0  253875.639453   \n",
       "1   женат / замужем                 0      F   сотрудник     0  112080.014102   \n",
       "2   женат / замужем                 0      M   сотрудник     0  145885.952297   \n",
       "3   женат / замужем                 0      M   сотрудник     0  267628.550329   \n",
       "4  гражданский брак                 1      F   пенсионер     0  158616.077870   \n",
       "\n",
       "                      purpose  \n",
       "0               покупка жилья  \n",
       "1     приобретение автомобиля  \n",
       "2               покупка жилья  \n",
       "3  дополнительное образование  \n",
       "4             сыграть свадьбу  "
      ]
     },
     "execution_count": 11,
     "metadata": {},
     "output_type": "execute_result"
    }
   ],
   "source": [
    "data.head()"
   ]
  },
  {
   "cell_type": "markdown",
   "metadata": {},
   "source": [
    "Ежемесячный доход может зависить от образования и статуса сотрудника, поэтому сгруппируем клиентов по этим критериям и тоже заполним значением медианы. Но так как в столбце 'education' видно, что используется разный регистр, то сначала переведём все символы в нижний регистр."
   ]
  },
  {
   "cell_type": "code",
   "execution_count": 12,
   "metadata": {},
   "outputs": [],
   "source": [
    "data['education'] = data['education'].str.lower()"
   ]
  },
  {
   "cell_type": "markdown",
   "metadata": {},
   "source": [
    "Проверяем результат:"
   ]
  },
  {
   "cell_type": "code",
   "execution_count": 13,
   "metadata": {},
   "outputs": [
    {
     "data": {
      "text/plain": [
       "array(['высшее', 'начальное', 'неоконченное высшее', 'среднее',\n",
       "       'ученая степень'], dtype=object)"
      ]
     },
     "execution_count": 13,
     "metadata": {},
     "output_type": "execute_result"
    }
   ],
   "source": [
    "data['education'].sort_values().unique()"
   ]
  },
  {
   "cell_type": "markdown",
   "metadata": {},
   "source": [
    "Проверим уникальные значения в столбце 'income_type':"
   ]
  },
  {
   "cell_type": "code",
   "execution_count": 14,
   "metadata": {},
   "outputs": [
    {
     "data": {
      "text/plain": [
       "array(['безработный', 'в декрете', 'госслужащий', 'компаньон',\n",
       "       'пенсионер', 'предприниматель', 'сотрудник', 'студент'],\n",
       "      dtype=object)"
      ]
     },
     "execution_count": 14,
     "metadata": {},
     "output_type": "execute_result"
    }
   ],
   "source": [
    "data['income_type'].sort_values().unique()"
   ]
  },
  {
   "cell_type": "markdown",
   "metadata": {},
   "source": [
    "\n",
    "В колонке c уровнем образования дубликатов нет."
   ]
  },
  {
   "cell_type": "markdown",
   "metadata": {},
   "source": [
    "Создаём DataFrame с группировкой по типу занятости и по уровню образования клиентов:"
   ]
  },
  {
   "cell_type": "code",
   "execution_count": 15,
   "metadata": {},
   "outputs": [],
   "source": [
    "group_data = (data.groupby(['income_type','education'])\n",
    ".agg({'total_income': 'median'}).rename(columns = {'total_income': 'median_total_income'}))"
   ]
  },
  {
   "cell_type": "markdown",
   "metadata": {},
   "source": [
    "Объединяем таблицы data и group_data:"
   ]
  },
  {
   "cell_type": "code",
   "execution_count": 16,
   "metadata": {},
   "outputs": [],
   "source": [
    "data = data.merge(group_data, on = ['income_type','education'])"
   ]
  },
  {
   "cell_type": "markdown",
   "metadata": {},
   "source": [
    "Заменяем медианным значением ежемесячного дохода строки с пропусками в столбце 'income_type':"
   ]
  },
  {
   "cell_type": "code",
   "execution_count": 17,
   "metadata": {},
   "outputs": [],
   "source": [
    "data.loc[data['total_income'].isna(), 'total_income'] = data.loc[data['total_income'].isna(), 'median_total_income']"
   ]
  },
  {
   "cell_type": "markdown",
   "metadata": {},
   "source": [
    "Проверяем, что значений с пропусками больше нет:"
   ]
  },
  {
   "cell_type": "code",
   "execution_count": 18,
   "metadata": {},
   "outputs": [
    {
     "data": {
      "text/plain": [
       "children               0\n",
       "days_employed          0\n",
       "dob_years              0\n",
       "education              0\n",
       "education_id           0\n",
       "family_status          0\n",
       "family_status_id       0\n",
       "gender                 0\n",
       "income_type            0\n",
       "debt                   0\n",
       "total_income           0\n",
       "purpose                0\n",
       "median_total_income    0\n",
       "dtype: int64"
      ]
     },
     "execution_count": 18,
     "metadata": {},
     "output_type": "execute_result"
    }
   ],
   "source": [
    "data.isna().sum()"
   ]
  },
  {
   "cell_type": "markdown",
   "metadata": {},
   "source": [
    "В таблице отсутствуют пропущенные значения."
   ]
  },
  {
   "cell_type": "markdown",
   "metadata": {},
   "source": [
    "Теперь столбец 'median_total_income' не нужен и его можно удалить:"
   ]
  },
  {
   "cell_type": "code",
   "execution_count": 19,
   "metadata": {},
   "outputs": [],
   "source": [
    "data = data.drop('median_total_income', axis=1)"
   ]
  },
  {
   "cell_type": "markdown",
   "metadata": {},
   "source": [
    "Проверим, что столбец был удален:"
   ]
  },
  {
   "cell_type": "code",
   "execution_count": 20,
   "metadata": {},
   "outputs": [
    {
     "data": {
      "text/html": [
       "<div>\n",
       "<style scoped>\n",
       "    .dataframe tbody tr th:only-of-type {\n",
       "        vertical-align: middle;\n",
       "    }\n",
       "\n",
       "    .dataframe tbody tr th {\n",
       "        vertical-align: top;\n",
       "    }\n",
       "\n",
       "    .dataframe thead th {\n",
       "        text-align: right;\n",
       "    }\n",
       "</style>\n",
       "<table border=\"1\" class=\"dataframe\">\n",
       "  <thead>\n",
       "    <tr style=\"text-align: right;\">\n",
       "      <th></th>\n",
       "      <th>children</th>\n",
       "      <th>days_employed</th>\n",
       "      <th>dob_years</th>\n",
       "      <th>education</th>\n",
       "      <th>education_id</th>\n",
       "      <th>family_status</th>\n",
       "      <th>family_status_id</th>\n",
       "      <th>gender</th>\n",
       "      <th>income_type</th>\n",
       "      <th>debt</th>\n",
       "      <th>total_income</th>\n",
       "      <th>purpose</th>\n",
       "    </tr>\n",
       "  </thead>\n",
       "  <tbody>\n",
       "    <tr>\n",
       "      <th>0</th>\n",
       "      <td>1</td>\n",
       "      <td>8437.673028</td>\n",
       "      <td>42</td>\n",
       "      <td>высшее</td>\n",
       "      <td>0</td>\n",
       "      <td>женат / замужем</td>\n",
       "      <td>0</td>\n",
       "      <td>F</td>\n",
       "      <td>сотрудник</td>\n",
       "      <td>0</td>\n",
       "      <td>253875.639453</td>\n",
       "      <td>покупка жилья</td>\n",
       "    </tr>\n",
       "    <tr>\n",
       "      <th>1</th>\n",
       "      <td>2</td>\n",
       "      <td>6929.865299</td>\n",
       "      <td>35</td>\n",
       "      <td>высшее</td>\n",
       "      <td>0</td>\n",
       "      <td>гражданский брак</td>\n",
       "      <td>1</td>\n",
       "      <td>F</td>\n",
       "      <td>сотрудник</td>\n",
       "      <td>0</td>\n",
       "      <td>95856.832424</td>\n",
       "      <td>на проведение свадьбы</td>\n",
       "    </tr>\n",
       "    <tr>\n",
       "      <th>2</th>\n",
       "      <td>0</td>\n",
       "      <td>2369.999720</td>\n",
       "      <td>33</td>\n",
       "      <td>высшее</td>\n",
       "      <td>0</td>\n",
       "      <td>гражданский брак</td>\n",
       "      <td>1</td>\n",
       "      <td>M</td>\n",
       "      <td>сотрудник</td>\n",
       "      <td>0</td>\n",
       "      <td>90410.586745</td>\n",
       "      <td>строительство недвижимости</td>\n",
       "    </tr>\n",
       "    <tr>\n",
       "      <th>3</th>\n",
       "      <td>0</td>\n",
       "      <td>272.981385</td>\n",
       "      <td>21</td>\n",
       "      <td>высшее</td>\n",
       "      <td>0</td>\n",
       "      <td>гражданский брак</td>\n",
       "      <td>1</td>\n",
       "      <td>M</td>\n",
       "      <td>сотрудник</td>\n",
       "      <td>0</td>\n",
       "      <td>128265.720871</td>\n",
       "      <td>сыграть свадьбу</td>\n",
       "    </tr>\n",
       "    <tr>\n",
       "      <th>4</th>\n",
       "      <td>0</td>\n",
       "      <td>529.191635</td>\n",
       "      <td>28</td>\n",
       "      <td>высшее</td>\n",
       "      <td>0</td>\n",
       "      <td>женат / замужем</td>\n",
       "      <td>0</td>\n",
       "      <td>M</td>\n",
       "      <td>сотрудник</td>\n",
       "      <td>0</td>\n",
       "      <td>308848.983691</td>\n",
       "      <td>строительство собственной недвижимости</td>\n",
       "    </tr>\n",
       "  </tbody>\n",
       "</table>\n",
       "</div>"
      ],
      "text/plain": [
       "   children  days_employed  dob_years education  education_id  \\\n",
       "0         1    8437.673028         42    высшее             0   \n",
       "1         2    6929.865299         35    высшее             0   \n",
       "2         0    2369.999720         33    высшее             0   \n",
       "3         0     272.981385         21    высшее             0   \n",
       "4         0     529.191635         28    высшее             0   \n",
       "\n",
       "      family_status  family_status_id gender income_type  debt   total_income  \\\n",
       "0   женат / замужем                 0      F   сотрудник     0  253875.639453   \n",
       "1  гражданский брак                 1      F   сотрудник     0   95856.832424   \n",
       "2  гражданский брак                 1      M   сотрудник     0   90410.586745   \n",
       "3  гражданский брак                 1      M   сотрудник     0  128265.720871   \n",
       "4   женат / замужем                 0      M   сотрудник     0  308848.983691   \n",
       "\n",
       "                                  purpose  \n",
       "0                           покупка жилья  \n",
       "1                   на проведение свадьбы  \n",
       "2              строительство недвижимости  \n",
       "3                         сыграть свадьбу  \n",
       "4  строительство собственной недвижимости  "
      ]
     },
     "execution_count": 20,
     "metadata": {},
     "output_type": "execute_result"
    }
   ],
   "source": [
    "data.head()"
   ]
  },
  {
   "cell_type": "markdown",
   "metadata": {},
   "source": [
    "<div style=\"border: solid green 2px; padding: 20px\">\n",
    "    \n",
    "**Вывод**\n",
    "\n",
    "Все имевшиеся пропуски в столбцах 'days_employed' и 'total_income' были обработаны и заменены на медианные значения по выбранным критериям.</div>"
   ]
  },
  {
   "cell_type": "markdown",
   "metadata": {},
   "source": [
    "<a name=\"2.2\"><h3>2.2 Замена типа данных</h3></a>"
   ]
  },
  {
   "cell_type": "markdown",
   "metadata": {},
   "source": [
    "В столбцах 'days_employed' и 'total_income' заменим тип 'float' на 'int' методом astype, так как такой вид данных более читабелен:"
   ]
  },
  {
   "cell_type": "code",
   "execution_count": 21,
   "metadata": {},
   "outputs": [],
   "source": [
    "data['days_employed'] = data['days_employed'].astype('int')\n",
    "data['total_income'] = data['total_income'].astype('int')"
   ]
  },
  {
   "cell_type": "markdown",
   "metadata": {},
   "source": [
    "Проверим результат:"
   ]
  },
  {
   "cell_type": "code",
   "execution_count": 22,
   "metadata": {},
   "outputs": [
    {
     "name": "stdout",
     "output_type": "stream",
     "text": [
      "<class 'pandas.core.frame.DataFrame'>\n",
      "Int64Index: 21525 entries, 0 to 21524\n",
      "Data columns (total 12 columns):\n",
      " #   Column            Non-Null Count  Dtype \n",
      "---  ------            --------------  ----- \n",
      " 0   children          21525 non-null  int64 \n",
      " 1   days_employed     21525 non-null  int64 \n",
      " 2   dob_years         21525 non-null  int64 \n",
      " 3   education         21525 non-null  object\n",
      " 4   education_id      21525 non-null  int64 \n",
      " 5   family_status     21525 non-null  object\n",
      " 6   family_status_id  21525 non-null  int64 \n",
      " 7   gender            21525 non-null  object\n",
      " 8   income_type       21525 non-null  object\n",
      " 9   debt              21525 non-null  int64 \n",
      " 10  total_income      21525 non-null  int64 \n",
      " 11  purpose           21525 non-null  object\n",
      "dtypes: int64(7), object(5)\n",
      "memory usage: 2.1+ MB\n"
     ]
    }
   ],
   "source": [
    "data.info()"
   ]
  },
  {
   "cell_type": "markdown",
   "metadata": {},
   "source": [
    "<div style=\"border: solid green 2px; padding: 20px\">\n",
    "\n",
    "**Вывод**\n",
    "    \n",
    "Тип значений в столбцах с общим трудовым стажем и ежемесячным доходом изменён на целочисленный.</div>"
   ]
  },
  {
   "cell_type": "markdown",
   "metadata": {},
   "source": [
    "<a name=\"2.3\"><h3>2.3 Обработка дубликатов</h3></a>"
   ]
  },
  {
   "cell_type": "markdown",
   "metadata": {},
   "source": [
    "Посчитаем явные дубликаты методами duplicated() и sum():"
   ]
  },
  {
   "cell_type": "code",
   "execution_count": 23,
   "metadata": {},
   "outputs": [
    {
     "data": {
      "text/plain": [
       "71"
      ]
     },
     "execution_count": 23,
     "metadata": {},
     "output_type": "execute_result"
    }
   ],
   "source": [
    "data.duplicated().sum()"
   ]
  },
  {
   "cell_type": "markdown",
   "metadata": {},
   "source": [
    "В таблице дублируется 71 запись, удалим дубликаты и перезапишем индексы:"
   ]
  },
  {
   "cell_type": "code",
   "execution_count": 24,
   "metadata": {},
   "outputs": [],
   "source": [
    "data = data.drop_duplicates().reset_index(drop=True)"
   ]
  },
  {
   "cell_type": "markdown",
   "metadata": {},
   "source": [
    "Проверяем, что дубликаты были удалены:"
   ]
  },
  {
   "cell_type": "code",
   "execution_count": 25,
   "metadata": {},
   "outputs": [
    {
     "data": {
      "text/plain": [
       "0"
      ]
     },
     "execution_count": 25,
     "metadata": {},
     "output_type": "execute_result"
    }
   ],
   "source": [
    "data.duplicated().sum()"
   ]
  },
  {
   "cell_type": "markdown",
   "metadata": {},
   "source": [
    "Явные дубликаты удалены. Для поиска неявных дубликатов воспользуемся методом value_counts(). Столбцы 'education' и 'income_type' были проверены на этапе обработки пропусков, поэтому их пропускаем и проверяем остальные колонки, содержащие строки: 'family_status', 'gender' и 'purpose'."
   ]
  },
  {
   "cell_type": "markdown",
   "metadata": {},
   "source": [
    "Проверим столбец 'family_status':"
   ]
  },
  {
   "cell_type": "code",
   "execution_count": 26,
   "metadata": {},
   "outputs": [
    {
     "data": {
      "text/plain": [
       "женат / замужем          12339\n",
       "гражданский брак          4151\n",
       "Не женат / не замужем     2810\n",
       "в разводе                 1195\n",
       "вдовец / вдова             959\n",
       "Name: family_status, dtype: int64"
      ]
     },
     "execution_count": 26,
     "metadata": {},
     "output_type": "execute_result"
    }
   ],
   "source": [
    "data['family_status'].value_counts()"
   ]
  },
  {
   "cell_type": "markdown",
   "metadata": {},
   "source": [
    "Дубликатов нет, но в категории 'Не женат / не замужем' символы в разных регистрах, поэтому приведем символы к одному стилю."
   ]
  },
  {
   "cell_type": "code",
   "execution_count": 27,
   "metadata": {},
   "outputs": [],
   "source": [
    "data['family_status'] = data['family_status'].str.lower()"
   ]
  },
  {
   "cell_type": "markdown",
   "metadata": {},
   "source": [
    "Проверим столбец 'gender' на неявные дубликаты:"
   ]
  },
  {
   "cell_type": "code",
   "execution_count": 28,
   "metadata": {},
   "outputs": [
    {
     "data": {
      "text/plain": [
       "F      14174\n",
       "M       7279\n",
       "XNA        1\n",
       "Name: gender, dtype: int64"
      ]
     },
     "execution_count": 28,
     "metadata": {},
     "output_type": "execute_result"
    }
   ],
   "source": [
    "data['gender'].value_counts()"
   ]
  },
  {
   "cell_type": "code",
   "execution_count": 29,
   "metadata": {},
   "outputs": [
    {
     "data": {
      "text/html": [
       "<div>\n",
       "<style scoped>\n",
       "    .dataframe tbody tr th:only-of-type {\n",
       "        vertical-align: middle;\n",
       "    }\n",
       "\n",
       "    .dataframe tbody tr th {\n",
       "        vertical-align: top;\n",
       "    }\n",
       "\n",
       "    .dataframe thead th {\n",
       "        text-align: right;\n",
       "    }\n",
       "</style>\n",
       "<table border=\"1\" class=\"dataframe\">\n",
       "  <thead>\n",
       "    <tr style=\"text-align: right;\">\n",
       "      <th></th>\n",
       "      <th>children</th>\n",
       "      <th>days_employed</th>\n",
       "      <th>dob_years</th>\n",
       "      <th>education</th>\n",
       "      <th>education_id</th>\n",
       "      <th>family_status</th>\n",
       "      <th>family_status_id</th>\n",
       "      <th>gender</th>\n",
       "      <th>income_type</th>\n",
       "      <th>debt</th>\n",
       "      <th>total_income</th>\n",
       "      <th>purpose</th>\n",
       "    </tr>\n",
       "  </thead>\n",
       "  <tbody>\n",
       "    <tr>\n",
       "      <th>19947</th>\n",
       "      <td>0</td>\n",
       "      <td>2358</td>\n",
       "      <td>24</td>\n",
       "      <td>неоконченное высшее</td>\n",
       "      <td>2</td>\n",
       "      <td>гражданский брак</td>\n",
       "      <td>1</td>\n",
       "      <td>XNA</td>\n",
       "      <td>компаньон</td>\n",
       "      <td>0</td>\n",
       "      <td>203905</td>\n",
       "      <td>покупка недвижимости</td>\n",
       "    </tr>\n",
       "  </tbody>\n",
       "</table>\n",
       "</div>"
      ],
      "text/plain": [
       "       children  days_employed  dob_years            education  education_id  \\\n",
       "19947         0           2358         24  неоконченное высшее             2   \n",
       "\n",
       "          family_status  family_status_id gender income_type  debt  \\\n",
       "19947  гражданский брак                 1    XNA   компаньон     0   \n",
       "\n",
       "       total_income               purpose  \n",
       "19947        203905  покупка недвижимости  "
      ]
     },
     "execution_count": 29,
     "metadata": {},
     "output_type": "execute_result"
    }
   ],
   "source": [
    "data[data['gender'] == 'XNA']"
   ]
  },
  {
   "cell_type": "markdown",
   "metadata": {},
   "source": [
    "Для одного клиента указан пол 'XNA', но так как в столбце 'gender' может быть только женский пол ('F') или мужской ('M'), то значение 'XNA' ошибочное и его можно удалить, так как это всего лишь 0,005% от всей выборки."
   ]
  },
  {
   "cell_type": "markdown",
   "metadata": {},
   "source": [
    "Удаляем строчку методом drop() и перезаписываем индексы:"
   ]
  },
  {
   "cell_type": "code",
   "execution_count": 30,
   "metadata": {},
   "outputs": [],
   "source": [
    "data = data.drop(labels=[19947],axis=0).reset_index(drop=True)"
   ]
  },
  {
   "cell_type": "markdown",
   "metadata": {},
   "source": [
    "Проверяем, что строчка была удалена:"
   ]
  },
  {
   "cell_type": "code",
   "execution_count": 31,
   "metadata": {},
   "outputs": [
    {
     "data": {
      "text/plain": [
       "F    14174\n",
       "M     7279\n",
       "Name: gender, dtype: int64"
      ]
     },
     "execution_count": 31,
     "metadata": {},
     "output_type": "execute_result"
    }
   ],
   "source": [
    "data['gender'].value_counts()"
   ]
  },
  {
   "cell_type": "markdown",
   "metadata": {},
   "source": [
    "Проверим столбец 'purpose' на неявные дубликаты:"
   ]
  },
  {
   "cell_type": "code",
   "execution_count": 32,
   "metadata": {},
   "outputs": [
    {
     "data": {
      "text/plain": [
       "свадьба                                   791\n",
       "на проведение свадьбы                     768\n",
       "сыграть свадьбу                           765\n",
       "операции с недвижимостью                  675\n",
       "покупка коммерческой недвижимости         661\n",
       "операции с жильем                         652\n",
       "покупка жилья для сдачи                   651\n",
       "операции с коммерческой недвижимостью     650\n",
       "жилье                                     646\n",
       "покупка жилья                             646\n",
       "покупка жилья для семьи                   638\n",
       "строительство собственной недвижимости    635\n",
       "недвижимость                              633\n",
       "операции со своей недвижимостью           627\n",
       "строительство жилой недвижимости          624\n",
       "покупка недвижимости                      620\n",
       "покупка своего жилья                      620\n",
       "строительство недвижимости                619\n",
       "ремонт жилью                              607\n",
       "покупка жилой недвижимости                606\n",
       "на покупку своего автомобиля              505\n",
       "заняться высшим образованием              496\n",
       "автомобиль                                494\n",
       "сделка с подержанным автомобилем          486\n",
       "автомобили                                478\n",
       "на покупку подержанного автомобиля        478\n",
       "свой автомобиль                           478\n",
       "на покупку автомобиля                     471\n",
       "приобретение автомобиля                   461\n",
       "дополнительное образование                460\n",
       "сделка с автомобилем                      455\n",
       "высшее образование                        452\n",
       "образование                               447\n",
       "получение дополнительного образования     446\n",
       "получение образования                     442\n",
       "профильное образование                    436\n",
       "получение высшего образования             426\n",
       "заняться образованием                     408\n",
       "Name: purpose, dtype: int64"
      ]
     },
     "execution_count": 32,
     "metadata": {},
     "output_type": "execute_result"
    }
   ],
   "source": [
    "data['purpose'].value_counts()"
   ]
  },
  {
   "cell_type": "markdown",
   "metadata": {},
   "source": [
    "В столбце с целями кредита много неявных дубликатов, можно воспользоваться лемматизацией для поиска слов, записанных в разных формах и привести их к словарной форме."
   ]
  },
  {
   "cell_type": "markdown",
   "metadata": {},
   "source": [
    "<div style=\"border: solid green 2px; padding: 20px\">\n",
    "\n",
    "**Вывод**\n",
    "    \n",
    "Обнаруженные явные дубликаты были удалены, неявные дубликаты есть в столбце с целями, но так как вручную обрабатывать их неудобно, то применим лемматизацию.</div>"
   ]
  },
  {
   "cell_type": "markdown",
   "metadata": {},
   "source": [
    "<a name=\"2.4\"><h3>2.4 Лемматизация</h3></a>"
   ]
  },
  {
   "cell_type": "markdown",
   "metadata": {},
   "source": [
    "Создаём функцию, которая лемматизирует каждое слово из списка, проверяет содержимое lemmas и распределяет по категориям 'свадьба', 'ремонт', 'недвижимость', 'автомобиль', 'образование' или 'другое':"
   ]
  },
  {
   "cell_type": "code",
   "execution_count": 33,
   "metadata": {},
   "outputs": [],
   "source": [
    "m = Mystem()\n",
    "def lemmatize(purpose):\n",
    "    for word in purpose.split():\n",
    "        lemmas = m.lemmatize(word)\n",
    "        if 'свадьба' in lemmas:\n",
    "            return 'свадьба'\n",
    "        elif 'ремонт' in lemmas:\n",
    "            return 'ремонт'\n",
    "        elif 'жилье' in lemmas or 'недвижимость' in lemmas:\n",
    "            return 'недвижимость'\n",
    "        elif 'автомобиль' in lemmas:\n",
    "            return 'автомобиль'\n",
    "        elif 'образование' in lemmas:\n",
    "            return 'образование'\n",
    "    else:\n",
    "        return 'другое'"
   ]
  },
  {
   "cell_type": "markdown",
   "metadata": {},
   "source": [
    "Добавляем новый столбец 'lemmatize_purpose' в таблицу и вызываем функцию 'lemmatize' для целей в столбце 'purpose':"
   ]
  },
  {
   "cell_type": "code",
   "execution_count": 34,
   "metadata": {},
   "outputs": [],
   "source": [
    "data['lemmatize_purpose'] = data['purpose'].apply(lemmatize)"
   ]
  },
  {
   "cell_type": "markdown",
   "metadata": {},
   "source": [
    "Проверяем столбец 'purpose':"
   ]
  },
  {
   "cell_type": "code",
   "execution_count": 35,
   "metadata": {},
   "outputs": [
    {
     "data": {
      "text/plain": [
       "недвижимость    10203\n",
       "автомобиль       4306\n",
       "образование      4013\n",
       "свадьба          2324\n",
       "ремонт            607\n",
       "Name: lemmatize_purpose, dtype: int64"
      ]
     },
     "execution_count": 35,
     "metadata": {},
     "output_type": "execute_result"
    }
   ],
   "source": [
    "data['lemmatize_purpose'].value_counts()"
   ]
  },
  {
   "cell_type": "markdown",
   "metadata": {},
   "source": [
    "Заменяем значения столбца с целями получения кредита на леммы:"
   ]
  },
  {
   "cell_type": "code",
   "execution_count": 36,
   "metadata": {},
   "outputs": [],
   "source": [
    "data['purpose'] = data['lemmatize_purpose']"
   ]
  },
  {
   "cell_type": "markdown",
   "metadata": {},
   "source": [
    "Выведем таблицу и проверим, что значения в столбце 'purpose' были заменены:"
   ]
  },
  {
   "cell_type": "code",
   "execution_count": 37,
   "metadata": {},
   "outputs": [
    {
     "data": {
      "text/html": [
       "<div>\n",
       "<style scoped>\n",
       "    .dataframe tbody tr th:only-of-type {\n",
       "        vertical-align: middle;\n",
       "    }\n",
       "\n",
       "    .dataframe tbody tr th {\n",
       "        vertical-align: top;\n",
       "    }\n",
       "\n",
       "    .dataframe thead th {\n",
       "        text-align: right;\n",
       "    }\n",
       "</style>\n",
       "<table border=\"1\" class=\"dataframe\">\n",
       "  <thead>\n",
       "    <tr style=\"text-align: right;\">\n",
       "      <th></th>\n",
       "      <th>children</th>\n",
       "      <th>days_employed</th>\n",
       "      <th>dob_years</th>\n",
       "      <th>education</th>\n",
       "      <th>education_id</th>\n",
       "      <th>family_status</th>\n",
       "      <th>family_status_id</th>\n",
       "      <th>gender</th>\n",
       "      <th>income_type</th>\n",
       "      <th>debt</th>\n",
       "      <th>total_income</th>\n",
       "      <th>purpose</th>\n",
       "      <th>lemmatize_purpose</th>\n",
       "    </tr>\n",
       "  </thead>\n",
       "  <tbody>\n",
       "    <tr>\n",
       "      <th>0</th>\n",
       "      <td>1</td>\n",
       "      <td>8437</td>\n",
       "      <td>42</td>\n",
       "      <td>высшее</td>\n",
       "      <td>0</td>\n",
       "      <td>женат / замужем</td>\n",
       "      <td>0</td>\n",
       "      <td>F</td>\n",
       "      <td>сотрудник</td>\n",
       "      <td>0</td>\n",
       "      <td>253875</td>\n",
       "      <td>недвижимость</td>\n",
       "      <td>недвижимость</td>\n",
       "    </tr>\n",
       "    <tr>\n",
       "      <th>1</th>\n",
       "      <td>2</td>\n",
       "      <td>6929</td>\n",
       "      <td>35</td>\n",
       "      <td>высшее</td>\n",
       "      <td>0</td>\n",
       "      <td>гражданский брак</td>\n",
       "      <td>1</td>\n",
       "      <td>F</td>\n",
       "      <td>сотрудник</td>\n",
       "      <td>0</td>\n",
       "      <td>95856</td>\n",
       "      <td>свадьба</td>\n",
       "      <td>свадьба</td>\n",
       "    </tr>\n",
       "    <tr>\n",
       "      <th>2</th>\n",
       "      <td>0</td>\n",
       "      <td>2369</td>\n",
       "      <td>33</td>\n",
       "      <td>высшее</td>\n",
       "      <td>0</td>\n",
       "      <td>гражданский брак</td>\n",
       "      <td>1</td>\n",
       "      <td>M</td>\n",
       "      <td>сотрудник</td>\n",
       "      <td>0</td>\n",
       "      <td>90410</td>\n",
       "      <td>недвижимость</td>\n",
       "      <td>недвижимость</td>\n",
       "    </tr>\n",
       "    <tr>\n",
       "      <th>3</th>\n",
       "      <td>0</td>\n",
       "      <td>272</td>\n",
       "      <td>21</td>\n",
       "      <td>высшее</td>\n",
       "      <td>0</td>\n",
       "      <td>гражданский брак</td>\n",
       "      <td>1</td>\n",
       "      <td>M</td>\n",
       "      <td>сотрудник</td>\n",
       "      <td>0</td>\n",
       "      <td>128265</td>\n",
       "      <td>свадьба</td>\n",
       "      <td>свадьба</td>\n",
       "    </tr>\n",
       "    <tr>\n",
       "      <th>4</th>\n",
       "      <td>0</td>\n",
       "      <td>529</td>\n",
       "      <td>28</td>\n",
       "      <td>высшее</td>\n",
       "      <td>0</td>\n",
       "      <td>женат / замужем</td>\n",
       "      <td>0</td>\n",
       "      <td>M</td>\n",
       "      <td>сотрудник</td>\n",
       "      <td>0</td>\n",
       "      <td>308848</td>\n",
       "      <td>недвижимость</td>\n",
       "      <td>недвижимость</td>\n",
       "    </tr>\n",
       "    <tr>\n",
       "      <th>5</th>\n",
       "      <td>1</td>\n",
       "      <td>717</td>\n",
       "      <td>26</td>\n",
       "      <td>высшее</td>\n",
       "      <td>0</td>\n",
       "      <td>женат / замужем</td>\n",
       "      <td>0</td>\n",
       "      <td>F</td>\n",
       "      <td>сотрудник</td>\n",
       "      <td>0</td>\n",
       "      <td>187863</td>\n",
       "      <td>недвижимость</td>\n",
       "      <td>недвижимость</td>\n",
       "    </tr>\n",
       "    <tr>\n",
       "      <th>6</th>\n",
       "      <td>0</td>\n",
       "      <td>597</td>\n",
       "      <td>25</td>\n",
       "      <td>высшее</td>\n",
       "      <td>0</td>\n",
       "      <td>не женат / не замужем</td>\n",
       "      <td>4</td>\n",
       "      <td>M</td>\n",
       "      <td>сотрудник</td>\n",
       "      <td>1</td>\n",
       "      <td>192247</td>\n",
       "      <td>образование</td>\n",
       "      <td>образование</td>\n",
       "    </tr>\n",
       "    <tr>\n",
       "      <th>7</th>\n",
       "      <td>1</td>\n",
       "      <td>6953</td>\n",
       "      <td>50</td>\n",
       "      <td>высшее</td>\n",
       "      <td>0</td>\n",
       "      <td>гражданский брак</td>\n",
       "      <td>1</td>\n",
       "      <td>F</td>\n",
       "      <td>сотрудник</td>\n",
       "      <td>0</td>\n",
       "      <td>203199</td>\n",
       "      <td>свадьба</td>\n",
       "      <td>свадьба</td>\n",
       "    </tr>\n",
       "    <tr>\n",
       "      <th>8</th>\n",
       "      <td>0</td>\n",
       "      <td>3480</td>\n",
       "      <td>27</td>\n",
       "      <td>высшее</td>\n",
       "      <td>0</td>\n",
       "      <td>гражданский брак</td>\n",
       "      <td>1</td>\n",
       "      <td>F</td>\n",
       "      <td>сотрудник</td>\n",
       "      <td>0</td>\n",
       "      <td>92238</td>\n",
       "      <td>автомобиль</td>\n",
       "      <td>автомобиль</td>\n",
       "    </tr>\n",
       "    <tr>\n",
       "      <th>9</th>\n",
       "      <td>0</td>\n",
       "      <td>335</td>\n",
       "      <td>36</td>\n",
       "      <td>высшее</td>\n",
       "      <td>0</td>\n",
       "      <td>женат / замужем</td>\n",
       "      <td>0</td>\n",
       "      <td>M</td>\n",
       "      <td>сотрудник</td>\n",
       "      <td>0</td>\n",
       "      <td>414404</td>\n",
       "      <td>недвижимость</td>\n",
       "      <td>недвижимость</td>\n",
       "    </tr>\n",
       "  </tbody>\n",
       "</table>\n",
       "</div>"
      ],
      "text/plain": [
       "   children  days_employed  dob_years education  education_id  \\\n",
       "0         1           8437         42    высшее             0   \n",
       "1         2           6929         35    высшее             0   \n",
       "2         0           2369         33    высшее             0   \n",
       "3         0            272         21    высшее             0   \n",
       "4         0            529         28    высшее             0   \n",
       "5         1            717         26    высшее             0   \n",
       "6         0            597         25    высшее             0   \n",
       "7         1           6953         50    высшее             0   \n",
       "8         0           3480         27    высшее             0   \n",
       "9         0            335         36    высшее             0   \n",
       "\n",
       "           family_status  family_status_id gender income_type  debt  \\\n",
       "0        женат / замужем                 0      F   сотрудник     0   \n",
       "1       гражданский брак                 1      F   сотрудник     0   \n",
       "2       гражданский брак                 1      M   сотрудник     0   \n",
       "3       гражданский брак                 1      M   сотрудник     0   \n",
       "4        женат / замужем                 0      M   сотрудник     0   \n",
       "5        женат / замужем                 0      F   сотрудник     0   \n",
       "6  не женат / не замужем                 4      M   сотрудник     1   \n",
       "7       гражданский брак                 1      F   сотрудник     0   \n",
       "8       гражданский брак                 1      F   сотрудник     0   \n",
       "9        женат / замужем                 0      M   сотрудник     0   \n",
       "\n",
       "   total_income       purpose lemmatize_purpose  \n",
       "0        253875  недвижимость      недвижимость  \n",
       "1         95856       свадьба           свадьба  \n",
       "2         90410  недвижимость      недвижимость  \n",
       "3        128265       свадьба           свадьба  \n",
       "4        308848  недвижимость      недвижимость  \n",
       "5        187863  недвижимость      недвижимость  \n",
       "6        192247   образование       образование  \n",
       "7        203199       свадьба           свадьба  \n",
       "8         92238    автомобиль        автомобиль  \n",
       "9        414404  недвижимость      недвижимость  "
      ]
     },
     "execution_count": 37,
     "metadata": {},
     "output_type": "execute_result"
    }
   ],
   "source": [
    "data.head(10)"
   ]
  },
  {
   "cell_type": "markdown",
   "metadata": {},
   "source": [
    "Колонка с целями обновлена, поэтому столбец 'lemmatize_purpose' больше не нужен и его можно удалить:"
   ]
  },
  {
   "cell_type": "code",
   "execution_count": 38,
   "metadata": {},
   "outputs": [],
   "source": [
    "data.drop('lemmatize_purpose', axis=1, inplace=True)"
   ]
  },
  {
   "cell_type": "markdown",
   "metadata": {},
   "source": [
    "<div style=\"border: solid green 2px; padding: 20px\">\n",
    "    \n",
    "**Вывод**\n",
    "\n",
    "В результате обработки столбца 'purpose' цели заменены на категории: 'недвижимость', 'автомобиль', 'образование', 'свадьба' и 'ремонт'.</div>"
   ]
  },
  {
   "cell_type": "markdown",
   "metadata": {},
   "source": [
    "<a name=\"2.5\"><h3>2.5 Категоризация данных</h3></a>"
   ]
  },
  {
   "cell_type": "markdown",
   "metadata": {},
   "source": [
    "Для целей исследования объединим данные в категории по количеству детей, возрасту и уровню дохода."
   ]
  },
  {
   "cell_type": "markdown",
   "metadata": {},
   "source": [
    "#### 2.5.1 Категории клиентов по количеству детей"
   ]
  },
  {
   "cell_type": "markdown",
   "metadata": {},
   "source": [
    "Проверяем столбец с количеством детей клиентов:"
   ]
  },
  {
   "cell_type": "code",
   "execution_count": 39,
   "metadata": {},
   "outputs": [
    {
     "data": {
      "text/plain": [
       " 0     14090\n",
       " 1      4808\n",
       " 2      2052\n",
       " 3       330\n",
       " 20       76\n",
       "-1        47\n",
       " 4        41\n",
       " 5         9\n",
       "Name: children, dtype: int64"
      ]
     },
     "execution_count": 39,
     "metadata": {},
     "output_type": "execute_result"
    }
   ],
   "source": [
    "data['children'].value_counts()"
   ]
  },
  {
   "cell_type": "markdown",
   "metadata": {},
   "source": [
    "В колонке с количеством детей встречаются значения -1 и 20. Минус один ребёнок быть не может, скорее всего это ошибка ввода данных, поэтому заменим значение -1 на 1 ребенка.\n",
    "Нельзя утверждать, что у семьи не может быть 20 детей, так как возможно усыновление, но все же такие семьи встречаются очень редко, а в таблице таких 76 записей. Вероятнее всего ноль был поставлен ошибочно, поэтому заменим 20 на 2 детей."
   ]
  },
  {
   "cell_type": "code",
   "execution_count": 40,
   "metadata": {},
   "outputs": [],
   "source": [
    "data.loc[data['children'] == 20, 'children'] = 2\n",
    "data.loc[data['children'] == -1, 'children'] = 1"
   ]
  },
  {
   "cell_type": "markdown",
   "metadata": {},
   "source": [
    "Проверяем, что некорректных значений больше нет:"
   ]
  },
  {
   "cell_type": "code",
   "execution_count": 41,
   "metadata": {},
   "outputs": [
    {
     "data": {
      "text/plain": [
       "0    14090\n",
       "1     4855\n",
       "2     2128\n",
       "3      330\n",
       "4       41\n",
       "5        9\n",
       "Name: children, dtype: int64"
      ]
     },
     "execution_count": 41,
     "metadata": {},
     "output_type": "execute_result"
    }
   ],
   "source": [
    "data['children'].value_counts()"
   ]
  },
  {
   "cell_type": "markdown",
   "metadata": {},
   "source": [
    "Создадим следующие категории:\n",
    "* 0 детей - 'бездетные'\n",
    "* до 2 детей - '1-2 ребенка'\n",
    "* больше 3 - 'многодетные'"
   ]
  },
  {
   "cell_type": "markdown",
   "metadata": {},
   "source": [
    "Функция для распределения клиентов по количеству детей:"
   ]
  },
  {
   "cell_type": "code",
   "execution_count": 42,
   "metadata": {},
   "outputs": [],
   "source": [
    "def children_group(number_children):\n",
    "    if number_children == 0:\n",
    "        return 'бездетные'\n",
    "    elif number_children == 1 or number_children == 2:\n",
    "        return '1-2 ребенка'\n",
    "    else:\n",
    "        return 'многодетные'"
   ]
  },
  {
   "cell_type": "markdown",
   "metadata": {},
   "source": [
    "Создаем новый столбец и применяем к колонке 'children' функцию 'children_group':"
   ]
  },
  {
   "cell_type": "code",
   "execution_count": 43,
   "metadata": {},
   "outputs": [],
   "source": [
    "data['children_group'] = data['children'].apply(children_group)"
   ]
  },
  {
   "cell_type": "markdown",
   "metadata": {},
   "source": [
    "Проверяем, что новый столбец был добавлен:"
   ]
  },
  {
   "cell_type": "code",
   "execution_count": 44,
   "metadata": {},
   "outputs": [
    {
     "data": {
      "text/html": [
       "<div>\n",
       "<style scoped>\n",
       "    .dataframe tbody tr th:only-of-type {\n",
       "        vertical-align: middle;\n",
       "    }\n",
       "\n",
       "    .dataframe tbody tr th {\n",
       "        vertical-align: top;\n",
       "    }\n",
       "\n",
       "    .dataframe thead th {\n",
       "        text-align: right;\n",
       "    }\n",
       "</style>\n",
       "<table border=\"1\" class=\"dataframe\">\n",
       "  <thead>\n",
       "    <tr style=\"text-align: right;\">\n",
       "      <th></th>\n",
       "      <th>children</th>\n",
       "      <th>days_employed</th>\n",
       "      <th>dob_years</th>\n",
       "      <th>education</th>\n",
       "      <th>education_id</th>\n",
       "      <th>family_status</th>\n",
       "      <th>family_status_id</th>\n",
       "      <th>gender</th>\n",
       "      <th>income_type</th>\n",
       "      <th>debt</th>\n",
       "      <th>total_income</th>\n",
       "      <th>purpose</th>\n",
       "      <th>children_group</th>\n",
       "    </tr>\n",
       "  </thead>\n",
       "  <tbody>\n",
       "    <tr>\n",
       "      <th>0</th>\n",
       "      <td>1</td>\n",
       "      <td>8437</td>\n",
       "      <td>42</td>\n",
       "      <td>высшее</td>\n",
       "      <td>0</td>\n",
       "      <td>женат / замужем</td>\n",
       "      <td>0</td>\n",
       "      <td>F</td>\n",
       "      <td>сотрудник</td>\n",
       "      <td>0</td>\n",
       "      <td>253875</td>\n",
       "      <td>недвижимость</td>\n",
       "      <td>1-2 ребенка</td>\n",
       "    </tr>\n",
       "    <tr>\n",
       "      <th>1</th>\n",
       "      <td>2</td>\n",
       "      <td>6929</td>\n",
       "      <td>35</td>\n",
       "      <td>высшее</td>\n",
       "      <td>0</td>\n",
       "      <td>гражданский брак</td>\n",
       "      <td>1</td>\n",
       "      <td>F</td>\n",
       "      <td>сотрудник</td>\n",
       "      <td>0</td>\n",
       "      <td>95856</td>\n",
       "      <td>свадьба</td>\n",
       "      <td>1-2 ребенка</td>\n",
       "    </tr>\n",
       "    <tr>\n",
       "      <th>2</th>\n",
       "      <td>0</td>\n",
       "      <td>2369</td>\n",
       "      <td>33</td>\n",
       "      <td>высшее</td>\n",
       "      <td>0</td>\n",
       "      <td>гражданский брак</td>\n",
       "      <td>1</td>\n",
       "      <td>M</td>\n",
       "      <td>сотрудник</td>\n",
       "      <td>0</td>\n",
       "      <td>90410</td>\n",
       "      <td>недвижимость</td>\n",
       "      <td>бездетные</td>\n",
       "    </tr>\n",
       "    <tr>\n",
       "      <th>3</th>\n",
       "      <td>0</td>\n",
       "      <td>272</td>\n",
       "      <td>21</td>\n",
       "      <td>высшее</td>\n",
       "      <td>0</td>\n",
       "      <td>гражданский брак</td>\n",
       "      <td>1</td>\n",
       "      <td>M</td>\n",
       "      <td>сотрудник</td>\n",
       "      <td>0</td>\n",
       "      <td>128265</td>\n",
       "      <td>свадьба</td>\n",
       "      <td>бездетные</td>\n",
       "    </tr>\n",
       "    <tr>\n",
       "      <th>4</th>\n",
       "      <td>0</td>\n",
       "      <td>529</td>\n",
       "      <td>28</td>\n",
       "      <td>высшее</td>\n",
       "      <td>0</td>\n",
       "      <td>женат / замужем</td>\n",
       "      <td>0</td>\n",
       "      <td>M</td>\n",
       "      <td>сотрудник</td>\n",
       "      <td>0</td>\n",
       "      <td>308848</td>\n",
       "      <td>недвижимость</td>\n",
       "      <td>бездетные</td>\n",
       "    </tr>\n",
       "  </tbody>\n",
       "</table>\n",
       "</div>"
      ],
      "text/plain": [
       "   children  days_employed  dob_years education  education_id  \\\n",
       "0         1           8437         42    высшее             0   \n",
       "1         2           6929         35    высшее             0   \n",
       "2         0           2369         33    высшее             0   \n",
       "3         0            272         21    высшее             0   \n",
       "4         0            529         28    высшее             0   \n",
       "\n",
       "      family_status  family_status_id gender income_type  debt  total_income  \\\n",
       "0   женат / замужем                 0      F   сотрудник     0        253875   \n",
       "1  гражданский брак                 1      F   сотрудник     0         95856   \n",
       "2  гражданский брак                 1      M   сотрудник     0         90410   \n",
       "3  гражданский брак                 1      M   сотрудник     0        128265   \n",
       "4   женат / замужем                 0      M   сотрудник     0        308848   \n",
       "\n",
       "        purpose children_group  \n",
       "0  недвижимость    1-2 ребенка  \n",
       "1       свадьба    1-2 ребенка  \n",
       "2  недвижимость      бездетные  \n",
       "3       свадьба      бездетные  \n",
       "4  недвижимость      бездетные  "
      ]
     },
     "execution_count": 44,
     "metadata": {},
     "output_type": "execute_result"
    }
   ],
   "source": [
    "data.head()"
   ]
  },
  {
   "cell_type": "markdown",
   "metadata": {},
   "source": [
    "Выведем статистику с группами по количеству детей:"
   ]
  },
  {
   "cell_type": "code",
   "execution_count": 45,
   "metadata": {},
   "outputs": [
    {
     "data": {
      "text/plain": [
       "бездетные      14090\n",
       "1-2 ребенка     6983\n",
       "многодетные      380\n",
       "Name: children_group, dtype: int64"
      ]
     },
     "execution_count": 45,
     "metadata": {},
     "output_type": "execute_result"
    }
   ],
   "source": [
    "data['children_group'].value_counts()"
   ]
  },
  {
   "cell_type": "markdown",
   "metadata": {},
   "source": [
    "Большинство клиентов бездетные, многодетных всего 1,8%."
   ]
  },
  {
   "cell_type": "markdown",
   "metadata": {},
   "source": [
    "#### 2.5.2 Категории клиентов по возрасту"
   ]
  },
  {
   "cell_type": "markdown",
   "metadata": {},
   "source": [
    "Выберем и отсортируем уникальные значения возраста клиентов для распределения по категориям:"
   ]
  },
  {
   "cell_type": "code",
   "execution_count": 46,
   "metadata": {},
   "outputs": [
    {
     "data": {
      "text/plain": [
       "array([ 0, 19, 20, 21, 22, 23, 24, 25, 26, 27, 28, 29, 30, 31, 32, 33, 34,\n",
       "       35, 36, 37, 38, 39, 40, 41, 42, 43, 44, 45, 46, 47, 48, 49, 50, 51,\n",
       "       52, 53, 54, 55, 56, 57, 58, 59, 60, 61, 62, 63, 64, 65, 66, 67, 68,\n",
       "       69, 70, 71, 72, 73, 74, 75])"
      ]
     },
     "execution_count": 46,
     "metadata": {},
     "output_type": "execute_result"
    }
   ],
   "source": [
    "data['dob_years'].sort_values().unique()"
   ]
  },
  {
   "cell_type": "markdown",
   "metadata": {},
   "source": [
    "В столбце есть значения с возрастом 0, но так как такого быть не может, заменим их на средний возраст:"
   ]
  },
  {
   "cell_type": "code",
   "execution_count": 47,
   "metadata": {},
   "outputs": [],
   "source": [
    "data.loc[data['dob_years'] == 0, 'dob_years'] = data['dob_years'].mean()"
   ]
  },
  {
   "cell_type": "markdown",
   "metadata": {},
   "source": [
    "Проверяем значения:"
   ]
  },
  {
   "cell_type": "code",
   "execution_count": 48,
   "metadata": {},
   "outputs": [
    {
     "data": {
      "text/plain": [
       "array([19.        , 20.        , 21.        , 22.        , 23.        ,\n",
       "       24.        , 25.        , 26.        , 27.        , 28.        ,\n",
       "       29.        , 30.        , 31.        , 32.        , 33.        ,\n",
       "       34.        , 35.        , 36.        , 37.        , 38.        ,\n",
       "       39.        , 40.        , 41.        , 42.        , 43.        ,\n",
       "       43.27212977, 44.        , 45.        , 46.        , 47.        ,\n",
       "       48.        , 49.        , 50.        , 51.        , 52.        ,\n",
       "       53.        , 54.        , 55.        , 56.        , 57.        ,\n",
       "       58.        , 59.        , 60.        , 61.        , 62.        ,\n",
       "       63.        , 64.        , 65.        , 66.        , 67.        ,\n",
       "       68.        , 69.        , 70.        , 71.        , 72.        ,\n",
       "       73.        , 74.        , 75.        ])"
      ]
     },
     "execution_count": 48,
     "metadata": {},
     "output_type": "execute_result"
    }
   ],
   "source": [
    "data['dob_years'].sort_values().unique()"
   ]
  },
  {
   "cell_type": "markdown",
   "metadata": {},
   "source": [
    "После замены тип данных стал 'float', поменяем тип в столбце 'dob_years' на целочисленный:"
   ]
  },
  {
   "cell_type": "code",
   "execution_count": 49,
   "metadata": {},
   "outputs": [],
   "source": [
    "data['dob_years'] = data['dob_years'].astype('int')"
   ]
  },
  {
   "cell_type": "markdown",
   "metadata": {},
   "source": [
    "Проверяем, что тип данных в столбце 'dob_years' изменился на 'int':"
   ]
  },
  {
   "cell_type": "code",
   "execution_count": 50,
   "metadata": {},
   "outputs": [
    {
     "name": "stdout",
     "output_type": "stream",
     "text": [
      "<class 'pandas.core.frame.DataFrame'>\n",
      "RangeIndex: 21453 entries, 0 to 21452\n",
      "Data columns (total 13 columns):\n",
      " #   Column            Non-Null Count  Dtype \n",
      "---  ------            --------------  ----- \n",
      " 0   children          21453 non-null  int64 \n",
      " 1   days_employed     21453 non-null  int64 \n",
      " 2   dob_years         21453 non-null  int64 \n",
      " 3   education         21453 non-null  object\n",
      " 4   education_id      21453 non-null  int64 \n",
      " 5   family_status     21453 non-null  object\n",
      " 6   family_status_id  21453 non-null  int64 \n",
      " 7   gender            21453 non-null  object\n",
      " 8   income_type       21453 non-null  object\n",
      " 9   debt              21453 non-null  int64 \n",
      " 10  total_income      21453 non-null  int64 \n",
      " 11  purpose           21453 non-null  object\n",
      " 12  children_group    21453 non-null  object\n",
      "dtypes: int64(7), object(6)\n",
      "memory usage: 2.1+ MB\n"
     ]
    }
   ],
   "source": [
    "data.info()"
   ]
  },
  {
   "cell_type": "markdown",
   "metadata": {},
   "source": [
    "Выделим категории по возрастам:\n",
    "* от 19 до 35 лет  - молодой возраст\n",
    "* от 36 до 59 - средний возраст\n",
    "* после 60 - пожилой возраст"
   ]
  },
  {
   "cell_type": "markdown",
   "metadata": {},
   "source": [
    "Функция для распределения клиентов по возрастам:"
   ]
  },
  {
   "cell_type": "code",
   "execution_count": 51,
   "metadata": {},
   "outputs": [],
   "source": [
    "def years_group(age):\n",
    "    if age <= 35:\n",
    "        return 'молодой возраст'\n",
    "    elif 36 <= age <= 59:\n",
    "        return 'средний возраст'\n",
    "    elif age >= 60:\n",
    "        return 'пожилой возраст'"
   ]
  },
  {
   "cell_type": "markdown",
   "metadata": {},
   "source": [
    "Создаем новый столбец и применяем к колонке 'dob_years' функцию 'years_group':"
   ]
  },
  {
   "cell_type": "code",
   "execution_count": 52,
   "metadata": {},
   "outputs": [],
   "source": [
    "data['dob_years_group'] = data['dob_years'].apply(years_group)"
   ]
  },
  {
   "cell_type": "markdown",
   "metadata": {},
   "source": [
    "Проверяем, что колонка с категориями по возрастам добавлена:"
   ]
  },
  {
   "cell_type": "code",
   "execution_count": 53,
   "metadata": {},
   "outputs": [
    {
     "data": {
      "text/html": [
       "<div>\n",
       "<style scoped>\n",
       "    .dataframe tbody tr th:only-of-type {\n",
       "        vertical-align: middle;\n",
       "    }\n",
       "\n",
       "    .dataframe tbody tr th {\n",
       "        vertical-align: top;\n",
       "    }\n",
       "\n",
       "    .dataframe thead th {\n",
       "        text-align: right;\n",
       "    }\n",
       "</style>\n",
       "<table border=\"1\" class=\"dataframe\">\n",
       "  <thead>\n",
       "    <tr style=\"text-align: right;\">\n",
       "      <th></th>\n",
       "      <th>children</th>\n",
       "      <th>days_employed</th>\n",
       "      <th>dob_years</th>\n",
       "      <th>education</th>\n",
       "      <th>education_id</th>\n",
       "      <th>family_status</th>\n",
       "      <th>family_status_id</th>\n",
       "      <th>gender</th>\n",
       "      <th>income_type</th>\n",
       "      <th>debt</th>\n",
       "      <th>total_income</th>\n",
       "      <th>purpose</th>\n",
       "      <th>children_group</th>\n",
       "      <th>dob_years_group</th>\n",
       "    </tr>\n",
       "  </thead>\n",
       "  <tbody>\n",
       "    <tr>\n",
       "      <th>0</th>\n",
       "      <td>1</td>\n",
       "      <td>8437</td>\n",
       "      <td>42</td>\n",
       "      <td>высшее</td>\n",
       "      <td>0</td>\n",
       "      <td>женат / замужем</td>\n",
       "      <td>0</td>\n",
       "      <td>F</td>\n",
       "      <td>сотрудник</td>\n",
       "      <td>0</td>\n",
       "      <td>253875</td>\n",
       "      <td>недвижимость</td>\n",
       "      <td>1-2 ребенка</td>\n",
       "      <td>средний возраст</td>\n",
       "    </tr>\n",
       "    <tr>\n",
       "      <th>1</th>\n",
       "      <td>2</td>\n",
       "      <td>6929</td>\n",
       "      <td>35</td>\n",
       "      <td>высшее</td>\n",
       "      <td>0</td>\n",
       "      <td>гражданский брак</td>\n",
       "      <td>1</td>\n",
       "      <td>F</td>\n",
       "      <td>сотрудник</td>\n",
       "      <td>0</td>\n",
       "      <td>95856</td>\n",
       "      <td>свадьба</td>\n",
       "      <td>1-2 ребенка</td>\n",
       "      <td>молодой возраст</td>\n",
       "    </tr>\n",
       "    <tr>\n",
       "      <th>2</th>\n",
       "      <td>0</td>\n",
       "      <td>2369</td>\n",
       "      <td>33</td>\n",
       "      <td>высшее</td>\n",
       "      <td>0</td>\n",
       "      <td>гражданский брак</td>\n",
       "      <td>1</td>\n",
       "      <td>M</td>\n",
       "      <td>сотрудник</td>\n",
       "      <td>0</td>\n",
       "      <td>90410</td>\n",
       "      <td>недвижимость</td>\n",
       "      <td>бездетные</td>\n",
       "      <td>молодой возраст</td>\n",
       "    </tr>\n",
       "    <tr>\n",
       "      <th>3</th>\n",
       "      <td>0</td>\n",
       "      <td>272</td>\n",
       "      <td>21</td>\n",
       "      <td>высшее</td>\n",
       "      <td>0</td>\n",
       "      <td>гражданский брак</td>\n",
       "      <td>1</td>\n",
       "      <td>M</td>\n",
       "      <td>сотрудник</td>\n",
       "      <td>0</td>\n",
       "      <td>128265</td>\n",
       "      <td>свадьба</td>\n",
       "      <td>бездетные</td>\n",
       "      <td>молодой возраст</td>\n",
       "    </tr>\n",
       "    <tr>\n",
       "      <th>4</th>\n",
       "      <td>0</td>\n",
       "      <td>529</td>\n",
       "      <td>28</td>\n",
       "      <td>высшее</td>\n",
       "      <td>0</td>\n",
       "      <td>женат / замужем</td>\n",
       "      <td>0</td>\n",
       "      <td>M</td>\n",
       "      <td>сотрудник</td>\n",
       "      <td>0</td>\n",
       "      <td>308848</td>\n",
       "      <td>недвижимость</td>\n",
       "      <td>бездетные</td>\n",
       "      <td>молодой возраст</td>\n",
       "    </tr>\n",
       "  </tbody>\n",
       "</table>\n",
       "</div>"
      ],
      "text/plain": [
       "   children  days_employed  dob_years education  education_id  \\\n",
       "0         1           8437         42    высшее             0   \n",
       "1         2           6929         35    высшее             0   \n",
       "2         0           2369         33    высшее             0   \n",
       "3         0            272         21    высшее             0   \n",
       "4         0            529         28    высшее             0   \n",
       "\n",
       "      family_status  family_status_id gender income_type  debt  total_income  \\\n",
       "0   женат / замужем                 0      F   сотрудник     0        253875   \n",
       "1  гражданский брак                 1      F   сотрудник     0         95856   \n",
       "2  гражданский брак                 1      M   сотрудник     0         90410   \n",
       "3  гражданский брак                 1      M   сотрудник     0        128265   \n",
       "4   женат / замужем                 0      M   сотрудник     0        308848   \n",
       "\n",
       "        purpose children_group  dob_years_group  \n",
       "0  недвижимость    1-2 ребенка  средний возраст  \n",
       "1       свадьба    1-2 ребенка  молодой возраст  \n",
       "2  недвижимость      бездетные  молодой возраст  \n",
       "3       свадьба      бездетные  молодой возраст  \n",
       "4  недвижимость      бездетные  молодой возраст  "
      ]
     },
     "execution_count": 53,
     "metadata": {},
     "output_type": "execute_result"
    }
   ],
   "source": [
    "data.head()"
   ]
  },
  {
   "cell_type": "markdown",
   "metadata": {},
   "source": [
    "Выведем статистику с группами по возрасту:"
   ]
  },
  {
   "cell_type": "code",
   "execution_count": 54,
   "metadata": {},
   "outputs": [
    {
     "data": {
      "text/plain": [
       "средний возраст    12371\n",
       "молодой возраст     6582\n",
       "пожилой возраст     2500\n",
       "Name: dob_years_group, dtype: int64"
      ]
     },
     "execution_count": 54,
     "metadata": {},
     "output_type": "execute_result"
    }
   ],
   "source": [
    "data['dob_years_group'].value_counts()"
   ]
  },
  {
   "cell_type": "markdown",
   "metadata": {},
   "source": [
    "Большинство клиентов среднего возраста"
   ]
  },
  {
   "cell_type": "markdown",
   "metadata": {},
   "source": [
    "#### 2.5.3 Категории клиентов по уровню дохода"
   ]
  },
  {
   "cell_type": "markdown",
   "metadata": {},
   "source": [
    "Просмотрим основные статистические данные в столбце 'total_income' методом describe():"
   ]
  },
  {
   "cell_type": "code",
   "execution_count": 55,
   "metadata": {},
   "outputs": [
    {
     "data": {
      "text/plain": [
       "count      21453\n",
       "mean      165451\n",
       "std        98291\n",
       "min        20667\n",
       "25%       107515\n",
       "50%       143707\n",
       "75%       198301\n",
       "max      2265604\n",
       "Name: total_income, dtype: object"
      ]
     },
     "execution_count": 55,
     "metadata": {},
     "output_type": "execute_result"
    }
   ],
   "source": [
    "data['total_income'].describe().apply(\"{0:.0f}\".format)"
   ]
  },
  {
   "cell_type": "markdown",
   "metadata": {},
   "source": [
    "Выделим категории по доходам клиентов по процентилям:\n",
    "* от минимального значения до 25%  - низкий доход\n",
    "* от 25% до медианы  - средний доход \n",
    "* от медианы до 75% - выше среднего\n",
    "* после 75%  - высокий доход"
   ]
  },
  {
   "cell_type": "markdown",
   "metadata": {},
   "source": [
    "Распределим клиентов по доходам:"
   ]
  },
  {
   "cell_type": "code",
   "execution_count": 56,
   "metadata": {},
   "outputs": [],
   "source": [
    "data['total_income_group'] = pd.qcut(data['total_income'], 4, ['низкий доход','средний доход','выше среднего', 'высокий доход'])"
   ]
  },
  {
   "cell_type": "markdown",
   "metadata": {},
   "source": [
    "Проверяем, что колонка с категориями по доходам добавлена:"
   ]
  },
  {
   "cell_type": "code",
   "execution_count": 57,
   "metadata": {},
   "outputs": [
    {
     "data": {
      "text/html": [
       "<div>\n",
       "<style scoped>\n",
       "    .dataframe tbody tr th:only-of-type {\n",
       "        vertical-align: middle;\n",
       "    }\n",
       "\n",
       "    .dataframe tbody tr th {\n",
       "        vertical-align: top;\n",
       "    }\n",
       "\n",
       "    .dataframe thead th {\n",
       "        text-align: right;\n",
       "    }\n",
       "</style>\n",
       "<table border=\"1\" class=\"dataframe\">\n",
       "  <thead>\n",
       "    <tr style=\"text-align: right;\">\n",
       "      <th></th>\n",
       "      <th>total_income</th>\n",
       "      <th>total_income_group</th>\n",
       "    </tr>\n",
       "  </thead>\n",
       "  <tbody>\n",
       "    <tr>\n",
       "      <th>0</th>\n",
       "      <td>253875</td>\n",
       "      <td>высокий доход</td>\n",
       "    </tr>\n",
       "    <tr>\n",
       "      <th>1</th>\n",
       "      <td>95856</td>\n",
       "      <td>низкий доход</td>\n",
       "    </tr>\n",
       "    <tr>\n",
       "      <th>2</th>\n",
       "      <td>90410</td>\n",
       "      <td>низкий доход</td>\n",
       "    </tr>\n",
       "    <tr>\n",
       "      <th>3</th>\n",
       "      <td>128265</td>\n",
       "      <td>средний доход</td>\n",
       "    </tr>\n",
       "    <tr>\n",
       "      <th>4</th>\n",
       "      <td>308848</td>\n",
       "      <td>высокий доход</td>\n",
       "    </tr>\n",
       "    <tr>\n",
       "      <th>5</th>\n",
       "      <td>187863</td>\n",
       "      <td>выше среднего</td>\n",
       "    </tr>\n",
       "    <tr>\n",
       "      <th>6</th>\n",
       "      <td>192247</td>\n",
       "      <td>выше среднего</td>\n",
       "    </tr>\n",
       "    <tr>\n",
       "      <th>7</th>\n",
       "      <td>203199</td>\n",
       "      <td>высокий доход</td>\n",
       "    </tr>\n",
       "    <tr>\n",
       "      <th>8</th>\n",
       "      <td>92238</td>\n",
       "      <td>низкий доход</td>\n",
       "    </tr>\n",
       "    <tr>\n",
       "      <th>9</th>\n",
       "      <td>414404</td>\n",
       "      <td>высокий доход</td>\n",
       "    </tr>\n",
       "  </tbody>\n",
       "</table>\n",
       "</div>"
      ],
      "text/plain": [
       "   total_income total_income_group\n",
       "0        253875      высокий доход\n",
       "1         95856       низкий доход\n",
       "2         90410       низкий доход\n",
       "3        128265      средний доход\n",
       "4        308848      высокий доход\n",
       "5        187863      выше среднего\n",
       "6        192247      выше среднего\n",
       "7        203199      высокий доход\n",
       "8         92238       низкий доход\n",
       "9        414404      высокий доход"
      ]
     },
     "execution_count": 57,
     "metadata": {},
     "output_type": "execute_result"
    }
   ],
   "source": [
    "data[['total_income','total_income_group']].head(10)"
   ]
  },
  {
   "cell_type": "markdown",
   "metadata": {},
   "source": [
    "#### 2.5.4 Создание словарей"
   ]
  },
  {
   "cell_type": "markdown",
   "metadata": {},
   "source": [
    "Создадим словари для уровня образования и семейного статуса, где названию категории будет соответствовать номер."
   ]
  },
  {
   "cell_type": "markdown",
   "metadata": {},
   "source": [
    "Словарь 'dict_education':"
   ]
  },
  {
   "cell_type": "code",
   "execution_count": 58,
   "metadata": {},
   "outputs": [],
   "source": [
    "dict_education = data[['education','education_id']]"
   ]
  },
  {
   "cell_type": "markdown",
   "metadata": {},
   "source": [
    "Удаляем из словаря дубликаты и перезаписываем индексы:"
   ]
  },
  {
   "cell_type": "code",
   "execution_count": 59,
   "metadata": {},
   "outputs": [],
   "source": [
    "dict_education = dict_education.drop_duplicates().reset_index(drop=True)"
   ]
  },
  {
   "cell_type": "markdown",
   "metadata": {},
   "source": [
    "Выводим словарь 'dict_education':"
   ]
  },
  {
   "cell_type": "code",
   "execution_count": 60,
   "metadata": {},
   "outputs": [
    {
     "data": {
      "text/html": [
       "<div>\n",
       "<style scoped>\n",
       "    .dataframe tbody tr th:only-of-type {\n",
       "        vertical-align: middle;\n",
       "    }\n",
       "\n",
       "    .dataframe tbody tr th {\n",
       "        vertical-align: top;\n",
       "    }\n",
       "\n",
       "    .dataframe thead th {\n",
       "        text-align: right;\n",
       "    }\n",
       "</style>\n",
       "<table border=\"1\" class=\"dataframe\">\n",
       "  <thead>\n",
       "    <tr style=\"text-align: right;\">\n",
       "      <th></th>\n",
       "      <th>education</th>\n",
       "      <th>education_id</th>\n",
       "    </tr>\n",
       "  </thead>\n",
       "  <tbody>\n",
       "    <tr>\n",
       "      <th>0</th>\n",
       "      <td>высшее</td>\n",
       "      <td>0</td>\n",
       "    </tr>\n",
       "    <tr>\n",
       "      <th>1</th>\n",
       "      <td>среднее</td>\n",
       "      <td>1</td>\n",
       "    </tr>\n",
       "    <tr>\n",
       "      <th>2</th>\n",
       "      <td>неоконченное высшее</td>\n",
       "      <td>2</td>\n",
       "    </tr>\n",
       "    <tr>\n",
       "      <th>3</th>\n",
       "      <td>начальное</td>\n",
       "      <td>3</td>\n",
       "    </tr>\n",
       "    <tr>\n",
       "      <th>4</th>\n",
       "      <td>ученая степень</td>\n",
       "      <td>4</td>\n",
       "    </tr>\n",
       "  </tbody>\n",
       "</table>\n",
       "</div>"
      ],
      "text/plain": [
       "             education  education_id\n",
       "0               высшее             0\n",
       "1              среднее             1\n",
       "2  неоконченное высшее             2\n",
       "3            начальное             3\n",
       "4       ученая степень             4"
      ]
     },
     "execution_count": 60,
     "metadata": {},
     "output_type": "execute_result"
    }
   ],
   "source": [
    "dict_education.head()"
   ]
  },
  {
   "cell_type": "markdown",
   "metadata": {},
   "source": [
    "Словарь 'dict_family_status':"
   ]
  },
  {
   "cell_type": "code",
   "execution_count": 61,
   "metadata": {},
   "outputs": [],
   "source": [
    "dict_family_status = data[['family_status','family_status_id']]"
   ]
  },
  {
   "cell_type": "markdown",
   "metadata": {},
   "source": [
    "Удаляем из словаря дубликаты и перезаписываем индексы:"
   ]
  },
  {
   "cell_type": "code",
   "execution_count": 62,
   "metadata": {},
   "outputs": [],
   "source": [
    "dict_family_status = dict_family_status.drop_duplicates().reset_index(drop=True)"
   ]
  },
  {
   "cell_type": "markdown",
   "metadata": {},
   "source": [
    "Выводим словарь 'dict_family_status':"
   ]
  },
  {
   "cell_type": "code",
   "execution_count": 63,
   "metadata": {},
   "outputs": [
    {
     "data": {
      "text/html": [
       "<div>\n",
       "<style scoped>\n",
       "    .dataframe tbody tr th:only-of-type {\n",
       "        vertical-align: middle;\n",
       "    }\n",
       "\n",
       "    .dataframe tbody tr th {\n",
       "        vertical-align: top;\n",
       "    }\n",
       "\n",
       "    .dataframe thead th {\n",
       "        text-align: right;\n",
       "    }\n",
       "</style>\n",
       "<table border=\"1\" class=\"dataframe\">\n",
       "  <thead>\n",
       "    <tr style=\"text-align: right;\">\n",
       "      <th></th>\n",
       "      <th>family_status</th>\n",
       "      <th>family_status_id</th>\n",
       "    </tr>\n",
       "  </thead>\n",
       "  <tbody>\n",
       "    <tr>\n",
       "      <th>0</th>\n",
       "      <td>женат / замужем</td>\n",
       "      <td>0</td>\n",
       "    </tr>\n",
       "    <tr>\n",
       "      <th>1</th>\n",
       "      <td>гражданский брак</td>\n",
       "      <td>1</td>\n",
       "    </tr>\n",
       "    <tr>\n",
       "      <th>2</th>\n",
       "      <td>не женат / не замужем</td>\n",
       "      <td>4</td>\n",
       "    </tr>\n",
       "    <tr>\n",
       "      <th>3</th>\n",
       "      <td>вдовец / вдова</td>\n",
       "      <td>2</td>\n",
       "    </tr>\n",
       "    <tr>\n",
       "      <th>4</th>\n",
       "      <td>в разводе</td>\n",
       "      <td>3</td>\n",
       "    </tr>\n",
       "  </tbody>\n",
       "</table>\n",
       "</div>"
      ],
      "text/plain": [
       "           family_status  family_status_id\n",
       "0        женат / замужем                 0\n",
       "1       гражданский брак                 1\n",
       "2  не женат / не замужем                 4\n",
       "3         вдовец / вдова                 2\n",
       "4              в разводе                 3"
      ]
     },
     "execution_count": 63,
     "metadata": {},
     "output_type": "execute_result"
    }
   ],
   "source": [
    "dict_family_status.head()"
   ]
  },
  {
   "cell_type": "markdown",
   "metadata": {},
   "source": [
    "<div style=\"border: solid green 2px; padding: 20px\">\n",
    "    \n",
    "**Вывод**  \n",
    "\n",
    "В результате проведенной категоризации данных, в DataFrame было добавлено три новых столбца с разделением клиентов на категории, также было создано два словаря для колонок с образованием и семейным статусом.</div>"
   ]
  },
  {
   "cell_type": "markdown",
   "metadata": {},
   "source": [
    "<a name=\"3\"><h2>3 Ответы на вопросы</h2></a>"
   ]
  },
  {
   "cell_type": "markdown",
   "metadata": {},
   "source": [
    "<a name=\"3.1\"><h3>3.1 Есть ли зависимость между наличием детей и возвратом кредита в срок?</h3></a>"
   ]
  },
  {
   "cell_type": "markdown",
   "metadata": {},
   "source": [
    "Создаем функцию, которая рассчитывает процент клиентов, имеющих задолженность перед банком, переименовывает колонки и выводит отсортированную таблицу по столбцу 'percentage_debtors':"
   ]
  },
  {
   "cell_type": "code",
   "execution_count": 64,
   "metadata": {},
   "outputs": [],
   "source": [
    "def func_pivot_table(table):\n",
    "    table['all_clients'] = table[0] + table[1]\n",
    "    table['percentage_debtors'] = round(table[1] * 100 / table['all_clients'], 2)\n",
    "    table = table.set_axis(['no_debt', 'number_debtorse', 'all_clients', 'percentage_debtors'], axis='columns', inplace=False)\n",
    "    return table.sort_values(by='percentage_debtors', ascending=False)"
   ]
  },
  {
   "cell_type": "markdown",
   "metadata": {},
   "source": [
    "Выводим сводную таблицу, сгруппированную по количеству детей:"
   ]
  },
  {
   "cell_type": "code",
   "execution_count": 65,
   "metadata": {},
   "outputs": [
    {
     "data": {
      "text/html": [
       "<div>\n",
       "<style scoped>\n",
       "    .dataframe tbody tr th:only-of-type {\n",
       "        vertical-align: middle;\n",
       "    }\n",
       "\n",
       "    .dataframe tbody tr th {\n",
       "        vertical-align: top;\n",
       "    }\n",
       "\n",
       "    .dataframe thead th {\n",
       "        text-align: right;\n",
       "    }\n",
       "</style>\n",
       "<table border=\"1\" class=\"dataframe\">\n",
       "  <thead>\n",
       "    <tr style=\"text-align: right;\">\n",
       "      <th></th>\n",
       "      <th>no_debt</th>\n",
       "      <th>number_debtorse</th>\n",
       "      <th>all_clients</th>\n",
       "      <th>percentage_debtors</th>\n",
       "    </tr>\n",
       "    <tr>\n",
       "      <th>children_group</th>\n",
       "      <th></th>\n",
       "      <th></th>\n",
       "      <th></th>\n",
       "      <th></th>\n",
       "    </tr>\n",
       "  </thead>\n",
       "  <tbody>\n",
       "    <tr>\n",
       "      <th>1-2 ребенка</th>\n",
       "      <td>6336</td>\n",
       "      <td>647</td>\n",
       "      <td>6983</td>\n",
       "      <td>9.27</td>\n",
       "    </tr>\n",
       "    <tr>\n",
       "      <th>многодетные</th>\n",
       "      <td>349</td>\n",
       "      <td>31</td>\n",
       "      <td>380</td>\n",
       "      <td>8.16</td>\n",
       "    </tr>\n",
       "    <tr>\n",
       "      <th>бездетные</th>\n",
       "      <td>13027</td>\n",
       "      <td>1063</td>\n",
       "      <td>14090</td>\n",
       "      <td>7.54</td>\n",
       "    </tr>\n",
       "  </tbody>\n",
       "</table>\n",
       "</div>"
      ],
      "text/plain": [
       "                no_debt  number_debtorse  all_clients  percentage_debtors\n",
       "children_group                                                           \n",
       "1-2 ребенка        6336              647         6983                9.27\n",
       "многодетные         349               31          380                8.16\n",
       "бездетные         13027             1063        14090                7.54"
      ]
     },
     "execution_count": 65,
     "metadata": {},
     "output_type": "execute_result"
    }
   ],
   "source": [
    "pivot_children = data.pivot_table(index='children_group', columns='debt', values='education_id', aggfunc='count')\n",
    "func_pivot_table(pivot_children)"
   ]
  },
  {
   "cell_type": "markdown",
   "metadata": {},
   "source": [
    "<div style=\"border: solid green 2px; padding: 20px\">\n",
    "    \n",
    "**Вывод**\n",
    "\n",
    "Бездетные клиенты лучше возвращают кредит в срок. Клиенты, имеющие 1 или 2 детей, являются наименее исполнительными.\n",
    "</div>"
   ]
  },
  {
   "cell_type": "markdown",
   "metadata": {},
   "source": [
    "<a name=\"3.2\"><h3>3.2 Есть ли зависимость между семейным положением и возвратом кредита в срок?</h3></a>"
   ]
  },
  {
   "cell_type": "markdown",
   "metadata": {},
   "source": [
    "Создаём сводную таблицу, сгруппированную по семейному статусу:"
   ]
  },
  {
   "cell_type": "code",
   "execution_count": 66,
   "metadata": {},
   "outputs": [
    {
     "data": {
      "text/html": [
       "<div>\n",
       "<style scoped>\n",
       "    .dataframe tbody tr th:only-of-type {\n",
       "        vertical-align: middle;\n",
       "    }\n",
       "\n",
       "    .dataframe tbody tr th {\n",
       "        vertical-align: top;\n",
       "    }\n",
       "\n",
       "    .dataframe thead th {\n",
       "        text-align: right;\n",
       "    }\n",
       "</style>\n",
       "<table border=\"1\" class=\"dataframe\">\n",
       "  <thead>\n",
       "    <tr style=\"text-align: right;\">\n",
       "      <th></th>\n",
       "      <th>no_debt</th>\n",
       "      <th>number_debtorse</th>\n",
       "      <th>all_clients</th>\n",
       "      <th>percentage_debtors</th>\n",
       "    </tr>\n",
       "    <tr>\n",
       "      <th>family_status</th>\n",
       "      <th></th>\n",
       "      <th></th>\n",
       "      <th></th>\n",
       "      <th></th>\n",
       "    </tr>\n",
       "  </thead>\n",
       "  <tbody>\n",
       "    <tr>\n",
       "      <th>не женат / не замужем</th>\n",
       "      <td>2536</td>\n",
       "      <td>274</td>\n",
       "      <td>2810</td>\n",
       "      <td>9.75</td>\n",
       "    </tr>\n",
       "    <tr>\n",
       "      <th>гражданский брак</th>\n",
       "      <td>3762</td>\n",
       "      <td>388</td>\n",
       "      <td>4150</td>\n",
       "      <td>9.35</td>\n",
       "    </tr>\n",
       "    <tr>\n",
       "      <th>женат / замужем</th>\n",
       "      <td>11408</td>\n",
       "      <td>931</td>\n",
       "      <td>12339</td>\n",
       "      <td>7.55</td>\n",
       "    </tr>\n",
       "    <tr>\n",
       "      <th>в разводе</th>\n",
       "      <td>1110</td>\n",
       "      <td>85</td>\n",
       "      <td>1195</td>\n",
       "      <td>7.11</td>\n",
       "    </tr>\n",
       "    <tr>\n",
       "      <th>вдовец / вдова</th>\n",
       "      <td>896</td>\n",
       "      <td>63</td>\n",
       "      <td>959</td>\n",
       "      <td>6.57</td>\n",
       "    </tr>\n",
       "  </tbody>\n",
       "</table>\n",
       "</div>"
      ],
      "text/plain": [
       "                       no_debt  number_debtorse  all_clients  \\\n",
       "family_status                                                  \n",
       "не женат / не замужем     2536              274         2810   \n",
       "гражданский брак          3762              388         4150   \n",
       "женат / замужем          11408              931        12339   \n",
       "в разводе                 1110               85         1195   \n",
       "вдовец / вдова             896               63          959   \n",
       "\n",
       "                       percentage_debtors  \n",
       "family_status                              \n",
       "не женат / не замужем                9.75  \n",
       "гражданский брак                     9.35  \n",
       "женат / замужем                      7.55  \n",
       "в разводе                            7.11  \n",
       "вдовец / вдова                       6.57  "
      ]
     },
     "execution_count": 66,
     "metadata": {},
     "output_type": "execute_result"
    }
   ],
   "source": [
    "pivot_family_status = data.pivot_table(index='family_status', columns='debt', values='education_id', aggfunc='count')\n",
    "func_pivot_table(pivot_family_status)"
   ]
  },
  {
   "cell_type": "markdown",
   "metadata": {},
   "source": [
    "Клиенты в категории 'вдовец / вдова' лучше возвращают долг, самый высокий показатель по задолженности у клиентов 'не женат / не замужем' и 'гражданский брак'."
   ]
  },
  {
   "cell_type": "markdown",
   "metadata": {},
   "source": [
    "Рассмотрим также сводную таблицу с группировкой по семейному статусу и количеству детей:"
   ]
  },
  {
   "cell_type": "code",
   "execution_count": 67,
   "metadata": {},
   "outputs": [
    {
     "data": {
      "text/html": [
       "<div>\n",
       "<style scoped>\n",
       "    .dataframe tbody tr th:only-of-type {\n",
       "        vertical-align: middle;\n",
       "    }\n",
       "\n",
       "    .dataframe tbody tr th {\n",
       "        vertical-align: top;\n",
       "    }\n",
       "\n",
       "    .dataframe thead th {\n",
       "        text-align: right;\n",
       "    }\n",
       "</style>\n",
       "<table border=\"1\" class=\"dataframe\">\n",
       "  <thead>\n",
       "    <tr style=\"text-align: right;\">\n",
       "      <th></th>\n",
       "      <th></th>\n",
       "      <th>no_debt</th>\n",
       "      <th>number_debtorse</th>\n",
       "      <th>all_clients</th>\n",
       "      <th>percentage_debtors</th>\n",
       "    </tr>\n",
       "    <tr>\n",
       "      <th>family_status</th>\n",
       "      <th>children_group</th>\n",
       "      <th></th>\n",
       "      <th></th>\n",
       "      <th></th>\n",
       "      <th></th>\n",
       "    </tr>\n",
       "  </thead>\n",
       "  <tbody>\n",
       "    <tr>\n",
       "      <th>не женат / не замужем</th>\n",
       "      <th>многодетные</th>\n",
       "      <td>8.0</td>\n",
       "      <td>2.0</td>\n",
       "      <td>10.0</td>\n",
       "      <td>20.00</td>\n",
       "    </tr>\n",
       "    <tr>\n",
       "      <th>гражданский брак</th>\n",
       "      <th>многодетные</th>\n",
       "      <td>58.0</td>\n",
       "      <td>8.0</td>\n",
       "      <td>66.0</td>\n",
       "      <td>12.12</td>\n",
       "    </tr>\n",
       "    <tr>\n",
       "      <th>не женат / не замужем</th>\n",
       "      <th>1-2 ребенка</th>\n",
       "      <td>476.0</td>\n",
       "      <td>62.0</td>\n",
       "      <td>538.0</td>\n",
       "      <td>11.52</td>\n",
       "    </tr>\n",
       "    <tr>\n",
       "      <th>гражданский брак</th>\n",
       "      <th>1-2 ребенка</th>\n",
       "      <td>1204.0</td>\n",
       "      <td>151.0</td>\n",
       "      <td>1355.0</td>\n",
       "      <td>11.14</td>\n",
       "    </tr>\n",
       "    <tr>\n",
       "      <th>вдовец / вдова</th>\n",
       "      <th>1-2 ребенка</th>\n",
       "      <td>95.0</td>\n",
       "      <td>10.0</td>\n",
       "      <td>105.0</td>\n",
       "      <td>9.52</td>\n",
       "    </tr>\n",
       "    <tr>\n",
       "      <th>не женат / не замужем</th>\n",
       "      <th>бездетные</th>\n",
       "      <td>2052.0</td>\n",
       "      <td>210.0</td>\n",
       "      <td>2262.0</td>\n",
       "      <td>9.28</td>\n",
       "    </tr>\n",
       "    <tr>\n",
       "      <th>женат / замужем</th>\n",
       "      <th>1-2 ребенка</th>\n",
       "      <td>4191.0</td>\n",
       "      <td>395.0</td>\n",
       "      <td>4586.0</td>\n",
       "      <td>8.61</td>\n",
       "    </tr>\n",
       "    <tr>\n",
       "      <th>гражданский брак</th>\n",
       "      <th>бездетные</th>\n",
       "      <td>2500.0</td>\n",
       "      <td>229.0</td>\n",
       "      <td>2729.0</td>\n",
       "      <td>8.39</td>\n",
       "    </tr>\n",
       "    <tr>\n",
       "      <th rowspan=\"3\" valign=\"top\">в разводе</th>\n",
       "      <th>многодетные</th>\n",
       "      <td>11.0</td>\n",
       "      <td>1.0</td>\n",
       "      <td>12.0</td>\n",
       "      <td>8.33</td>\n",
       "    </tr>\n",
       "    <tr>\n",
       "      <th>1-2 ребенка</th>\n",
       "      <td>370.0</td>\n",
       "      <td>29.0</td>\n",
       "      <td>399.0</td>\n",
       "      <td>7.27</td>\n",
       "    </tr>\n",
       "    <tr>\n",
       "      <th>бездетные</th>\n",
       "      <td>729.0</td>\n",
       "      <td>55.0</td>\n",
       "      <td>784.0</td>\n",
       "      <td>7.02</td>\n",
       "    </tr>\n",
       "    <tr>\n",
       "      <th rowspan=\"2\" valign=\"top\">женат / замужем</th>\n",
       "      <th>многодетные</th>\n",
       "      <td>265.0</td>\n",
       "      <td>20.0</td>\n",
       "      <td>285.0</td>\n",
       "      <td>7.02</td>\n",
       "    </tr>\n",
       "    <tr>\n",
       "      <th>бездетные</th>\n",
       "      <td>6952.0</td>\n",
       "      <td>516.0</td>\n",
       "      <td>7468.0</td>\n",
       "      <td>6.91</td>\n",
       "    </tr>\n",
       "    <tr>\n",
       "      <th rowspan=\"2\" valign=\"top\">вдовец / вдова</th>\n",
       "      <th>бездетные</th>\n",
       "      <td>794.0</td>\n",
       "      <td>53.0</td>\n",
       "      <td>847.0</td>\n",
       "      <td>6.26</td>\n",
       "    </tr>\n",
       "    <tr>\n",
       "      <th>многодетные</th>\n",
       "      <td>7.0</td>\n",
       "      <td>NaN</td>\n",
       "      <td>NaN</td>\n",
       "      <td>NaN</td>\n",
       "    </tr>\n",
       "  </tbody>\n",
       "</table>\n",
       "</div>"
      ],
      "text/plain": [
       "                                      no_debt  number_debtorse  all_clients  \\\n",
       "family_status         children_group                                          \n",
       "не женат / не замужем многодетные         8.0              2.0         10.0   \n",
       "гражданский брак      многодетные        58.0              8.0         66.0   \n",
       "не женат / не замужем 1-2 ребенка       476.0             62.0        538.0   \n",
       "гражданский брак      1-2 ребенка      1204.0            151.0       1355.0   \n",
       "вдовец / вдова        1-2 ребенка        95.0             10.0        105.0   \n",
       "не женат / не замужем бездетные        2052.0            210.0       2262.0   \n",
       "женат / замужем       1-2 ребенка      4191.0            395.0       4586.0   \n",
       "гражданский брак      бездетные        2500.0            229.0       2729.0   \n",
       "в разводе             многодетные        11.0              1.0         12.0   \n",
       "                      1-2 ребенка       370.0             29.0        399.0   \n",
       "                      бездетные         729.0             55.0        784.0   \n",
       "женат / замужем       многодетные       265.0             20.0        285.0   \n",
       "                      бездетные        6952.0            516.0       7468.0   \n",
       "вдовец / вдова        бездетные         794.0             53.0        847.0   \n",
       "                      многодетные         7.0              NaN          NaN   \n",
       "\n",
       "                                      percentage_debtors  \n",
       "family_status         children_group                      \n",
       "не женат / не замужем многодетные                  20.00  \n",
       "гражданский брак      многодетные                  12.12  \n",
       "не женат / не замужем 1-2 ребенка                  11.52  \n",
       "гражданский брак      1-2 ребенка                  11.14  \n",
       "вдовец / вдова        1-2 ребенка                   9.52  \n",
       "не женат / не замужем бездетные                     9.28  \n",
       "женат / замужем       1-2 ребенка                   8.61  \n",
       "гражданский брак      бездетные                     8.39  \n",
       "в разводе             многодетные                   8.33  \n",
       "                      1-2 ребенка                   7.27  \n",
       "                      бездетные                     7.02  \n",
       "женат / замужем       многодетные                   7.02  \n",
       "                      бездетные                     6.91  \n",
       "вдовец / вдова        бездетные                     6.26  \n",
       "                      многодетные                    NaN  "
      ]
     },
     "execution_count": 67,
     "metadata": {},
     "output_type": "execute_result"
    }
   ],
   "source": [
    "pivot_family_children = data.pivot_table(index=['family_status','children_group'], columns='debt', values='education_id', aggfunc='count')\n",
    "func_pivot_table(pivot_family_children)"
   ]
  },
  {
   "cell_type": "markdown",
   "metadata": {},
   "source": [
    "Самый большой процент задолженности у многодетных клиентов в категории 'не женат/ не замужем', но при этом очень маленькая выборка, всего 10 человек, поэтому такие данные ненадёжные. Но если посмотреть на верхние строки, то всё же можно сказать, что клиенты с детьми и в категории 'не женат / не замужем' или 'гражданский брак' хуже возвращают долги по кредитам.  Самый маленький процент по задолженности у бездетных клиентов в категории 'женат / замужем', 'вдовец / вдова' или 'в разводе'."
   ]
  },
  {
   "cell_type": "markdown",
   "metadata": {},
   "source": [
    "Посчитаем общий процент задолженности у клиентов с детьми в категории 'не женат/ не замужем'."
   ]
  },
  {
   "cell_type": "markdown",
   "metadata": {},
   "source": [
    "Для этого сортируем таблицу по категориям 'не женат/ не замужем' и не 'бездетные':"
   ]
  },
  {
   "cell_type": "code",
   "execution_count": 68,
   "metadata": {},
   "outputs": [],
   "source": [
    "not_married = data[(data['family_status'] == 'не женат / не замужем') & (data['children_group'] != 'бездетные')]"
   ]
  },
  {
   "cell_type": "markdown",
   "metadata": {},
   "source": [
    "Выводим сводную таблицу:"
   ]
  },
  {
   "cell_type": "code",
   "execution_count": 69,
   "metadata": {},
   "outputs": [
    {
     "data": {
      "text/html": [
       "<div>\n",
       "<style scoped>\n",
       "    .dataframe tbody tr th:only-of-type {\n",
       "        vertical-align: middle;\n",
       "    }\n",
       "\n",
       "    .dataframe tbody tr th {\n",
       "        vertical-align: top;\n",
       "    }\n",
       "\n",
       "    .dataframe thead th {\n",
       "        text-align: right;\n",
       "    }\n",
       "</style>\n",
       "<table border=\"1\" class=\"dataframe\">\n",
       "  <thead>\n",
       "    <tr style=\"text-align: right;\">\n",
       "      <th></th>\n",
       "      <th>no_debt</th>\n",
       "      <th>number_debtorse</th>\n",
       "      <th>all_clients</th>\n",
       "      <th>percentage_debtors</th>\n",
       "    </tr>\n",
       "    <tr>\n",
       "      <th>family_status</th>\n",
       "      <th></th>\n",
       "      <th></th>\n",
       "      <th></th>\n",
       "      <th></th>\n",
       "    </tr>\n",
       "  </thead>\n",
       "  <tbody>\n",
       "    <tr>\n",
       "      <th>не женат / не замужем</th>\n",
       "      <td>484</td>\n",
       "      <td>64</td>\n",
       "      <td>548</td>\n",
       "      <td>11.68</td>\n",
       "    </tr>\n",
       "  </tbody>\n",
       "</table>\n",
       "</div>"
      ],
      "text/plain": [
       "                       no_debt  number_debtorse  all_clients  \\\n",
       "family_status                                                  \n",
       "не женат / не замужем      484               64          548   \n",
       "\n",
       "                       percentage_debtors  \n",
       "family_status                              \n",
       "не женат / не замужем               11.68  "
      ]
     },
     "execution_count": 69,
     "metadata": {},
     "output_type": "execute_result"
    }
   ],
   "source": [
    "pivot_family_children = not_married.pivot_table(index=['family_status'], columns='debt', values='education_id', aggfunc='count')\n",
    "func_pivot_table(pivot_family_children)"
   ]
  },
  {
   "cell_type": "markdown",
   "metadata": {},
   "source": [
    "Посчитаем общий процент задолженности у клиентов с детьми в категории 'гражданский брак'."
   ]
  },
  {
   "cell_type": "markdown",
   "metadata": {},
   "source": [
    "Cортируем таблицу по категориям 'гражданский брак' и не 'бездетные':"
   ]
  },
  {
   "cell_type": "code",
   "execution_count": 70,
   "metadata": {},
   "outputs": [],
   "source": [
    "civil_marriage = data[(data['family_status'] == 'гражданский брак') & (data['children_group'] != 'бездетные')]"
   ]
  },
  {
   "cell_type": "markdown",
   "metadata": {},
   "source": [
    "Выводим сводную таблицу:"
   ]
  },
  {
   "cell_type": "code",
   "execution_count": 71,
   "metadata": {},
   "outputs": [
    {
     "data": {
      "text/html": [
       "<div>\n",
       "<style scoped>\n",
       "    .dataframe tbody tr th:only-of-type {\n",
       "        vertical-align: middle;\n",
       "    }\n",
       "\n",
       "    .dataframe tbody tr th {\n",
       "        vertical-align: top;\n",
       "    }\n",
       "\n",
       "    .dataframe thead th {\n",
       "        text-align: right;\n",
       "    }\n",
       "</style>\n",
       "<table border=\"1\" class=\"dataframe\">\n",
       "  <thead>\n",
       "    <tr style=\"text-align: right;\">\n",
       "      <th></th>\n",
       "      <th>no_debt</th>\n",
       "      <th>number_debtorse</th>\n",
       "      <th>all_clients</th>\n",
       "      <th>percentage_debtors</th>\n",
       "    </tr>\n",
       "    <tr>\n",
       "      <th>family_status</th>\n",
       "      <th></th>\n",
       "      <th></th>\n",
       "      <th></th>\n",
       "      <th></th>\n",
       "    </tr>\n",
       "  </thead>\n",
       "  <tbody>\n",
       "    <tr>\n",
       "      <th>гражданский брак</th>\n",
       "      <td>1262</td>\n",
       "      <td>159</td>\n",
       "      <td>1421</td>\n",
       "      <td>11.19</td>\n",
       "    </tr>\n",
       "  </tbody>\n",
       "</table>\n",
       "</div>"
      ],
      "text/plain": [
       "                  no_debt  number_debtorse  all_clients  percentage_debtors\n",
       "family_status                                                              \n",
       "гражданский брак     1262              159         1421               11.19"
      ]
     },
     "execution_count": 71,
     "metadata": {},
     "output_type": "execute_result"
    }
   ],
   "source": [
    "pivot_family_children = civil_marriage.pivot_table(index=['family_status'], columns='debt', values='education_id', aggfunc='count')\n",
    "func_pivot_table(pivot_family_children)"
   ]
  },
  {
   "cell_type": "markdown",
   "metadata": {},
   "source": [
    "У клиентов с семейным статусом \"не женат / не замужем\" и \"гражданский брак\" процент задолженности составляет 11.68% и 11,19% соответственно."
   ]
  },
  {
   "cell_type": "markdown",
   "metadata": {},
   "source": [
    "<div style=\"border: solid green 2px; padding: 20px\">\n",
    "    \n",
    "**Вывод**\n",
    "\n",
    "Семейное положение влияет на возврат кредита. Наименьший процент долга у клиентов в категории 'вдовец / вдова'.</div>"
   ]
  },
  {
   "cell_type": "markdown",
   "metadata": {},
   "source": [
    "<a name=\"3.3\"><h3>3.3 Есть ли зависимость между уровнем дохода и возвратом кредита в срок?</h3></a>"
   ]
  },
  {
   "cell_type": "markdown",
   "metadata": {},
   "source": [
    "Создаём сводную таблицу, сгруппированную по уровню дохода:"
   ]
  },
  {
   "cell_type": "code",
   "execution_count": 72,
   "metadata": {},
   "outputs": [
    {
     "data": {
      "text/html": [
       "<div>\n",
       "<style scoped>\n",
       "    .dataframe tbody tr th:only-of-type {\n",
       "        vertical-align: middle;\n",
       "    }\n",
       "\n",
       "    .dataframe tbody tr th {\n",
       "        vertical-align: top;\n",
       "    }\n",
       "\n",
       "    .dataframe thead th {\n",
       "        text-align: right;\n",
       "    }\n",
       "</style>\n",
       "<table border=\"1\" class=\"dataframe\">\n",
       "  <thead>\n",
       "    <tr style=\"text-align: right;\">\n",
       "      <th></th>\n",
       "      <th>no_debt</th>\n",
       "      <th>number_debtorse</th>\n",
       "      <th>all_clients</th>\n",
       "      <th>percentage_debtors</th>\n",
       "    </tr>\n",
       "    <tr>\n",
       "      <th>total_income_group</th>\n",
       "      <th></th>\n",
       "      <th></th>\n",
       "      <th></th>\n",
       "      <th></th>\n",
       "    </tr>\n",
       "  </thead>\n",
       "  <tbody>\n",
       "    <tr>\n",
       "      <th>средний доход</th>\n",
       "      <td>4878</td>\n",
       "      <td>485</td>\n",
       "      <td>5363</td>\n",
       "      <td>9.04</td>\n",
       "    </tr>\n",
       "    <tr>\n",
       "      <th>выше среднего</th>\n",
       "      <td>4907</td>\n",
       "      <td>456</td>\n",
       "      <td>5363</td>\n",
       "      <td>8.50</td>\n",
       "    </tr>\n",
       "    <tr>\n",
       "      <th>низкий доход</th>\n",
       "      <td>4937</td>\n",
       "      <td>427</td>\n",
       "      <td>5364</td>\n",
       "      <td>7.96</td>\n",
       "    </tr>\n",
       "    <tr>\n",
       "      <th>высокий доход</th>\n",
       "      <td>4990</td>\n",
       "      <td>373</td>\n",
       "      <td>5363</td>\n",
       "      <td>6.96</td>\n",
       "    </tr>\n",
       "  </tbody>\n",
       "</table>\n",
       "</div>"
      ],
      "text/plain": [
       "                    no_debt  number_debtorse  all_clients  percentage_debtors\n",
       "total_income_group                                                           \n",
       "средний доход          4878              485         5363                9.04\n",
       "выше среднего          4907              456         5363                8.50\n",
       "низкий доход           4937              427         5364                7.96\n",
       "высокий доход          4990              373         5363                6.96"
      ]
     },
     "execution_count": 72,
     "metadata": {},
     "output_type": "execute_result"
    }
   ],
   "source": [
    "pivot_total_income = data.pivot_table(index='total_income_group', columns='debt', values='education_id', aggfunc='count')\n",
    "func_pivot_table(pivot_total_income)"
   ]
  },
  {
   "cell_type": "markdown",
   "metadata": {},
   "source": [
    "<div style=\"border: solid green 2px; padding: 20px\">\n",
    "    \n",
    "**Вывод**\n",
    "\n",
    "Клиенты с высоким доходом лучше возвращают долги, менее надежная категория клиентов со средним доходом, но при этом показатели клиентов из категорий с доходом выше среднего и низким доходом не сильно отличаются от клиентов с категорией 'средний доход'.</div>"
   ]
  },
  {
   "cell_type": "markdown",
   "metadata": {},
   "source": [
    "<a name=\"3.4\"><h3>3.4 Как разные цели кредита влияют на его возврат в срок?</h3></a>"
   ]
  },
  {
   "cell_type": "markdown",
   "metadata": {},
   "source": [
    "Создаём сводную таблицу, сгруппированную по целям кредита:"
   ]
  },
  {
   "cell_type": "code",
   "execution_count": 73,
   "metadata": {},
   "outputs": [
    {
     "data": {
      "text/html": [
       "<div>\n",
       "<style scoped>\n",
       "    .dataframe tbody tr th:only-of-type {\n",
       "        vertical-align: middle;\n",
       "    }\n",
       "\n",
       "    .dataframe tbody tr th {\n",
       "        vertical-align: top;\n",
       "    }\n",
       "\n",
       "    .dataframe thead th {\n",
       "        text-align: right;\n",
       "    }\n",
       "</style>\n",
       "<table border=\"1\" class=\"dataframe\">\n",
       "  <thead>\n",
       "    <tr style=\"text-align: right;\">\n",
       "      <th></th>\n",
       "      <th>no_debt</th>\n",
       "      <th>number_debtorse</th>\n",
       "      <th>all_clients</th>\n",
       "      <th>percentage_debtors</th>\n",
       "    </tr>\n",
       "    <tr>\n",
       "      <th>purpose</th>\n",
       "      <th></th>\n",
       "      <th></th>\n",
       "      <th></th>\n",
       "      <th></th>\n",
       "    </tr>\n",
       "  </thead>\n",
       "  <tbody>\n",
       "    <tr>\n",
       "      <th>автомобиль</th>\n",
       "      <td>3903</td>\n",
       "      <td>403</td>\n",
       "      <td>4306</td>\n",
       "      <td>9.36</td>\n",
       "    </tr>\n",
       "    <tr>\n",
       "      <th>образование</th>\n",
       "      <td>3643</td>\n",
       "      <td>370</td>\n",
       "      <td>4013</td>\n",
       "      <td>9.22</td>\n",
       "    </tr>\n",
       "    <tr>\n",
       "      <th>свадьба</th>\n",
       "      <td>2138</td>\n",
       "      <td>186</td>\n",
       "      <td>2324</td>\n",
       "      <td>8.00</td>\n",
       "    </tr>\n",
       "    <tr>\n",
       "      <th>недвижимость</th>\n",
       "      <td>9456</td>\n",
       "      <td>747</td>\n",
       "      <td>10203</td>\n",
       "      <td>7.32</td>\n",
       "    </tr>\n",
       "    <tr>\n",
       "      <th>ремонт</th>\n",
       "      <td>572</td>\n",
       "      <td>35</td>\n",
       "      <td>607</td>\n",
       "      <td>5.77</td>\n",
       "    </tr>\n",
       "  </tbody>\n",
       "</table>\n",
       "</div>"
      ],
      "text/plain": [
       "              no_debt  number_debtorse  all_clients  percentage_debtors\n",
       "purpose                                                                \n",
       "автомобиль       3903              403         4306                9.36\n",
       "образование      3643              370         4013                9.22\n",
       "свадьба          2138              186         2324                8.00\n",
       "недвижимость     9456              747        10203                7.32\n",
       "ремонт            572               35          607                5.77"
      ]
     },
     "execution_count": 73,
     "metadata": {},
     "output_type": "execute_result"
    }
   ],
   "source": [
    "pivot_purpose = data.pivot_table(index='purpose', columns='debt', values='education_id', aggfunc='count')\n",
    "func_pivot_table(pivot_purpose)"
   ]
  },
  {
   "cell_type": "markdown",
   "metadata": {},
   "source": [
    "<div style=\"border: solid green 2px; padding: 20px\">\n",
    "    \n",
    "**Вывод**\n",
    "\n",
    "Самый низкий показатель по задолженности в категории 'ремонт', кредиты на цели 'автомобиль' и 'образование' погашаются хуже, чем в случае с другими целями.</div>"
   ]
  },
  {
   "cell_type": "markdown",
   "metadata": {},
   "source": [
    "<a name=\"4\"><h2>4 Общие выводы</h2></a>"
   ]
  },
  {
   "cell_type": "markdown",
   "metadata": {},
   "source": [
    "Проанализировав статистику платежеспособности клиентов, можно сказать, что семейное положение, количество детей, доход клиентов и цели кредита влияют на факт погашения кредитной задолженности.\n",
    "    \n",
    "Результаты исследования показали:\n",
    "    \n",
    "   - Самые надежные клиенты это люди, не имеющие детей, в категории 'вдовец / вдова' (6.26%), 'женат / замужем' (6.9%) или 'в разводе' (7.01%), а самые безответственные это клиенты с детьми и в категории 'не женат / не замужем' (11.67%) или 'гражданский брак' (11.19%).\n",
    "   - По уровню дохода определили, что лучше всего клиенты возвращают долг в категории с высоким доходом (6.96%), клиенты с наибольшей задолженностью имеют средний доход (9.04%) и доход выше среднего (8.5%).\n",
    "   - По целям самый низкий процент задолженности у клиентов, берущих кредит на оплату ремонта (5.77%), а самый высокий у тех, кто обращается в банк для покупки автомобиля (9.36%) или оплаты образования (9.22%)."
   ]
  }
 ],
 "metadata": {
  "ExecuteTimeLog": [
   {
    "duration": 1172,
    "start_time": "2021-12-23T14:07:20.642Z"
   },
   {
    "duration": 2912,
    "start_time": "2021-12-23T14:07:22.486Z"
   },
   {
    "duration": 3,
    "start_time": "2021-12-23T14:08:14.691Z"
   },
   {
    "duration": 2794,
    "start_time": "2021-12-23T14:08:14.698Z"
   },
   {
    "duration": 467,
    "start_time": "2021-12-23T14:11:11.484Z"
   },
   {
    "duration": 947,
    "start_time": "2021-12-23T14:13:12.612Z"
   },
   {
    "duration": 293,
    "start_time": "2021-12-23T14:13:13.563Z"
   },
   {
    "duration": 198,
    "start_time": "2021-12-23T14:14:42.951Z"
   },
   {
    "duration": 1012,
    "start_time": "2021-12-23T14:14:47.764Z"
   },
   {
    "duration": 135,
    "start_time": "2021-12-23T14:17:16.008Z"
   },
   {
    "duration": 65,
    "start_time": "2021-12-23T14:17:27.485Z"
   },
   {
    "duration": 34,
    "start_time": "2021-12-23T14:18:03.731Z"
   },
   {
    "duration": 21,
    "start_time": "2021-12-23T14:18:27.159Z"
   },
   {
    "duration": 21,
    "start_time": "2021-12-23T14:18:46.125Z"
   },
   {
    "duration": 24,
    "start_time": "2021-12-23T14:32:32.960Z"
   },
   {
    "duration": 19,
    "start_time": "2021-12-23T18:51:46.584Z"
   },
   {
    "duration": 10,
    "start_time": "2021-12-23T18:57:09.223Z"
   },
   {
    "duration": 496,
    "start_time": "2021-12-23T19:12:33.472Z"
   },
   {
    "duration": 7,
    "start_time": "2021-12-23T19:13:54.652Z"
   },
   {
    "duration": 7,
    "start_time": "2021-12-23T19:14:15.233Z"
   },
   {
    "duration": 244,
    "start_time": "2021-12-23T19:23:44.723Z"
   },
   {
    "duration": 18,
    "start_time": "2021-12-23T19:27:56.610Z"
   },
   {
    "duration": 25,
    "start_time": "2021-12-23T19:32:03.165Z"
   },
   {
    "duration": 19,
    "start_time": "2021-12-23T19:45:01.445Z"
   },
   {
    "duration": 14,
    "start_time": "2021-12-23T19:45:27.925Z"
   },
   {
    "duration": 11,
    "start_time": "2021-12-23T19:48:42.164Z"
   },
   {
    "duration": 20,
    "start_time": "2021-12-23T19:53:01.926Z"
   },
   {
    "duration": 36,
    "start_time": "2021-12-23T19:53:31.314Z"
   },
   {
    "duration": 18,
    "start_time": "2021-12-23T19:55:05.057Z"
   },
   {
    "duration": 15,
    "start_time": "2021-12-23T19:55:49.494Z"
   },
   {
    "duration": 516,
    "start_time": "2021-12-24T07:35:52.539Z"
   },
   {
    "duration": 820,
    "start_time": "2021-12-24T07:36:03.456Z"
   },
   {
    "duration": 68,
    "start_time": "2021-12-24T07:36:04.279Z"
   },
   {
    "duration": 31,
    "start_time": "2021-12-24T07:36:04.351Z"
   },
   {
    "duration": 16,
    "start_time": "2021-12-24T07:36:04.385Z"
   },
   {
    "duration": 17,
    "start_time": "2021-12-24T07:36:04.404Z"
   },
   {
    "duration": 37,
    "start_time": "2021-12-24T07:36:04.424Z"
   },
   {
    "duration": 26,
    "start_time": "2021-12-24T07:36:04.463Z"
   },
   {
    "duration": 15,
    "start_time": "2021-12-24T07:36:04.493Z"
   },
   {
    "duration": 234,
    "start_time": "2021-12-24T07:36:04.511Z"
   },
   {
    "duration": 16,
    "start_time": "2021-12-24T07:36:04.748Z"
   },
   {
    "duration": 18,
    "start_time": "2021-12-24T07:36:04.767Z"
   },
   {
    "duration": 15,
    "start_time": "2021-12-24T07:36:04.788Z"
   },
   {
    "duration": 14,
    "start_time": "2021-12-24T07:36:04.805Z"
   },
   {
    "duration": 44,
    "start_time": "2021-12-24T07:36:04.821Z"
   },
   {
    "duration": 17,
    "start_time": "2021-12-24T07:36:04.868Z"
   },
   {
    "duration": 29,
    "start_time": "2021-12-24T07:36:04.888Z"
   },
   {
    "duration": 46,
    "start_time": "2021-12-24T07:36:04.920Z"
   },
   {
    "duration": 13,
    "start_time": "2021-12-24T07:36:04.969Z"
   },
   {
    "duration": 5,
    "start_time": "2021-12-24T07:36:04.984Z"
   },
   {
    "duration": 19,
    "start_time": "2021-12-24T07:37:08.358Z"
   },
   {
    "duration": 15,
    "start_time": "2021-12-24T08:01:35.763Z"
   },
   {
    "duration": 491,
    "start_time": "2021-12-24T08:04:39.397Z"
   },
   {
    "duration": 39,
    "start_time": "2021-12-24T08:04:49.325Z"
   },
   {
    "duration": 25,
    "start_time": "2021-12-24T08:06:00.536Z"
   },
   {
    "duration": 382,
    "start_time": "2021-12-24T08:06:51.948Z"
   },
   {
    "duration": 23,
    "start_time": "2021-12-24T08:06:59.001Z"
   },
   {
    "duration": 25,
    "start_time": "2021-12-24T08:07:47.925Z"
   },
   {
    "duration": 25,
    "start_time": "2021-12-24T08:12:56.848Z"
   },
   {
    "duration": 24,
    "start_time": "2021-12-24T08:13:17.983Z"
   },
   {
    "duration": 6,
    "start_time": "2021-12-24T08:16:01.925Z"
   },
   {
    "duration": 7,
    "start_time": "2021-12-24T08:20:09.468Z"
   },
   {
    "duration": 10255,
    "start_time": "2021-12-24T08:22:27.504Z"
   },
   {
    "duration": 419,
    "start_time": "2021-12-24T08:22:44.964Z"
   },
   {
    "duration": 391,
    "start_time": "2021-12-24T08:23:04.675Z"
   },
   {
    "duration": 9,
    "start_time": "2021-12-24T08:23:34.423Z"
   },
   {
    "duration": 7,
    "start_time": "2021-12-24T08:25:41.502Z"
   },
   {
    "duration": 8,
    "start_time": "2021-12-24T08:25:52.466Z"
   },
   {
    "duration": 25,
    "start_time": "2021-12-24T08:27:55.640Z"
   },
   {
    "duration": 22,
    "start_time": "2021-12-24T08:28:43.798Z"
   },
   {
    "duration": 26,
    "start_time": "2021-12-24T08:28:46.997Z"
   },
   {
    "duration": 28,
    "start_time": "2021-12-24T08:29:01.252Z"
   },
   {
    "duration": 7,
    "start_time": "2021-12-24T08:29:20.201Z"
   },
   {
    "duration": 7,
    "start_time": "2021-12-24T08:29:29.754Z"
   },
   {
    "duration": 34,
    "start_time": "2021-12-24T08:31:51.301Z"
   },
   {
    "duration": 24,
    "start_time": "2021-12-24T08:41:20.923Z"
   },
   {
    "duration": 24,
    "start_time": "2021-12-24T08:41:28.869Z"
   },
   {
    "duration": 11,
    "start_time": "2021-12-24T08:41:58.300Z"
   },
   {
    "duration": 6,
    "start_time": "2021-12-24T08:52:36.332Z"
   },
   {
    "duration": 22,
    "start_time": "2021-12-24T08:52:54.692Z"
   },
   {
    "duration": 16,
    "start_time": "2021-12-24T09:01:18.820Z"
   },
   {
    "duration": 28,
    "start_time": "2021-12-24T09:01:33.854Z"
   },
   {
    "duration": 28,
    "start_time": "2021-12-24T09:15:14.249Z"
   },
   {
    "duration": 20,
    "start_time": "2021-12-24T09:16:01.913Z"
   },
   {
    "duration": 12,
    "start_time": "2021-12-24T09:16:28.368Z"
   },
   {
    "duration": 19,
    "start_time": "2021-12-24T09:31:15.890Z"
   },
   {
    "duration": 12,
    "start_time": "2021-12-24T09:32:30.584Z"
   },
   {
    "duration": 14,
    "start_time": "2021-12-24T09:40:14.865Z"
   },
   {
    "duration": 415,
    "start_time": "2021-12-24T09:40:26.405Z"
   },
   {
    "duration": 21,
    "start_time": "2021-12-24T09:40:32.443Z"
   },
   {
    "duration": 18,
    "start_time": "2021-12-24T09:55:57.903Z"
   },
   {
    "duration": 15,
    "start_time": "2021-12-24T09:57:35.296Z"
   },
   {
    "duration": 14,
    "start_time": "2021-12-24T09:58:07.102Z"
   },
   {
    "duration": 431,
    "start_time": "2021-12-24T09:59:17.338Z"
   },
   {
    "duration": 8,
    "start_time": "2021-12-24T09:59:24.343Z"
   },
   {
    "duration": 12,
    "start_time": "2021-12-24T10:01:41.993Z"
   },
   {
    "duration": 14,
    "start_time": "2021-12-24T10:01:56.823Z"
   },
   {
    "duration": 10,
    "start_time": "2021-12-24T10:02:12.180Z"
   },
   {
    "duration": 18,
    "start_time": "2021-12-24T10:09:02.118Z"
   },
   {
    "duration": 50,
    "start_time": "2021-12-24T10:09:18.797Z"
   },
   {
    "duration": 7,
    "start_time": "2021-12-24T10:09:33.287Z"
   },
   {
    "duration": 17,
    "start_time": "2021-12-24T10:09:36.372Z"
   },
   {
    "duration": 7,
    "start_time": "2021-12-24T10:13:56.773Z"
   },
   {
    "duration": 7,
    "start_time": "2021-12-24T10:14:59.679Z"
   },
   {
    "duration": 805,
    "start_time": "2021-12-24T10:46:20.073Z"
   },
   {
    "duration": 68,
    "start_time": "2021-12-24T10:46:20.880Z"
   },
   {
    "duration": 36,
    "start_time": "2021-12-24T10:46:20.951Z"
   },
   {
    "duration": 15,
    "start_time": "2021-12-24T10:46:20.990Z"
   },
   {
    "duration": 12,
    "start_time": "2021-12-24T10:46:21.007Z"
   },
   {
    "duration": 20,
    "start_time": "2021-12-24T10:46:21.058Z"
   },
   {
    "duration": 6,
    "start_time": "2021-12-24T10:46:21.081Z"
   },
   {
    "duration": 6,
    "start_time": "2021-12-24T10:46:21.089Z"
   },
   {
    "duration": 286,
    "start_time": "2021-12-24T10:46:21.099Z"
   },
   {
    "duration": 12,
    "start_time": "2021-12-24T10:46:21.388Z"
   },
   {
    "duration": 18,
    "start_time": "2021-12-24T10:46:21.403Z"
   },
   {
    "duration": 57,
    "start_time": "2021-12-24T10:46:21.424Z"
   },
   {
    "duration": 13,
    "start_time": "2021-12-24T10:46:21.483Z"
   },
   {
    "duration": 14,
    "start_time": "2021-12-24T10:46:21.499Z"
   },
   {
    "duration": 19,
    "start_time": "2021-12-24T10:46:21.516Z"
   },
   {
    "duration": 54,
    "start_time": "2021-12-24T10:46:21.538Z"
   },
   {
    "duration": 16,
    "start_time": "2021-12-24T10:46:21.594Z"
   },
   {
    "duration": 15,
    "start_time": "2021-12-24T10:46:21.612Z"
   },
   {
    "duration": 9,
    "start_time": "2021-12-24T10:46:21.664Z"
   },
   {
    "duration": 22,
    "start_time": "2021-12-24T10:46:21.676Z"
   },
   {
    "duration": 6,
    "start_time": "2021-12-24T10:46:21.700Z"
   },
   {
    "duration": 18,
    "start_time": "2021-12-24T10:46:21.708Z"
   },
   {
    "duration": 55,
    "start_time": "2021-12-24T10:46:21.728Z"
   },
   {
    "duration": 32,
    "start_time": "2021-12-24T10:46:21.786Z"
   },
   {
    "duration": 48,
    "start_time": "2021-12-24T10:46:21.821Z"
   },
   {
    "duration": 22,
    "start_time": "2021-12-24T10:46:21.871Z"
   },
   {
    "duration": 17,
    "start_time": "2021-12-24T10:46:21.898Z"
   },
   {
    "duration": 54,
    "start_time": "2021-12-24T10:46:21.918Z"
   },
   {
    "duration": 11,
    "start_time": "2021-12-24T10:46:21.975Z"
   },
   {
    "duration": 20,
    "start_time": "2021-12-24T10:46:21.988Z"
   },
   {
    "duration": 48,
    "start_time": "2021-12-24T10:46:22.011Z"
   },
   {
    "duration": 15,
    "start_time": "2021-12-24T10:46:22.062Z"
   },
   {
    "duration": 27,
    "start_time": "2021-12-24T10:46:22.080Z"
   },
   {
    "duration": 6,
    "start_time": "2021-12-24T10:46:22.109Z"
   },
   {
    "duration": 109,
    "start_time": "2021-12-24T10:47:37.979Z"
   },
   {
    "duration": 19,
    "start_time": "2021-12-24T10:47:42.301Z"
   },
   {
    "duration": 16,
    "start_time": "2021-12-24T10:47:45.696Z"
   },
   {
    "duration": 13,
    "start_time": "2021-12-24T10:47:50.184Z"
   },
   {
    "duration": 10,
    "start_time": "2021-12-24T10:47:52.507Z"
   },
   {
    "duration": 6,
    "start_time": "2021-12-24T10:47:54.731Z"
   },
   {
    "duration": 7,
    "start_time": "2021-12-24T10:47:56.702Z"
   },
   {
    "duration": 232,
    "start_time": "2021-12-24T10:47:59.612Z"
   },
   {
    "duration": 13,
    "start_time": "2021-12-24T10:48:02.040Z"
   },
   {
    "duration": 22,
    "start_time": "2021-12-24T10:48:04.950Z"
   },
   {
    "duration": 16,
    "start_time": "2021-12-24T10:48:07.719Z"
   },
   {
    "duration": 12,
    "start_time": "2021-12-24T10:48:10.179Z"
   },
   {
    "duration": 10,
    "start_time": "2021-12-24T10:48:14.407Z"
   },
   {
    "duration": 15,
    "start_time": "2021-12-24T10:48:17.702Z"
   },
   {
    "duration": 26,
    "start_time": "2021-12-24T10:48:19.581Z"
   },
   {
    "duration": 15,
    "start_time": "2021-12-24T10:48:21.488Z"
   },
   {
    "duration": 14,
    "start_time": "2021-12-24T10:48:23.483Z"
   },
   {
    "duration": 7,
    "start_time": "2021-12-24T10:48:29.895Z"
   },
   {
    "duration": 18,
    "start_time": "2021-12-24T10:48:32.070Z"
   },
   {
    "duration": 6,
    "start_time": "2021-12-24T10:49:15.914Z"
   },
   {
    "duration": 16,
    "start_time": "2021-12-24T10:49:17.778Z"
   },
   {
    "duration": 6,
    "start_time": "2021-12-24T10:50:19.078Z"
   },
   {
    "duration": 15,
    "start_time": "2021-12-24T10:50:21.413Z"
   },
   {
    "duration": 22,
    "start_time": "2021-12-24T10:52:51.736Z"
   },
   {
    "duration": 25,
    "start_time": "2021-12-24T10:52:54.633Z"
   },
   {
    "duration": 24,
    "start_time": "2021-12-24T10:52:56.880Z"
   },
   {
    "duration": 28,
    "start_time": "2021-12-24T10:52:58.553Z"
   },
   {
    "duration": 23,
    "start_time": "2021-12-24T10:53:15.755Z"
   },
   {
    "duration": 31,
    "start_time": "2021-12-24T10:53:17.956Z"
   },
   {
    "duration": 11,
    "start_time": "2021-12-24T10:53:21.711Z"
   },
   {
    "duration": 17,
    "start_time": "2021-12-24T10:53:24.145Z"
   },
   {
    "duration": 11,
    "start_time": "2021-12-24T10:53:44.237Z"
   },
   {
    "duration": 14,
    "start_time": "2021-12-24T10:53:45.675Z"
   },
   {
    "duration": 37,
    "start_time": "2021-12-24T10:53:47.789Z"
   },
   {
    "duration": 8,
    "start_time": "2021-12-24T10:53:51.334Z"
   },
   {
    "duration": 10,
    "start_time": "2021-12-24T11:50:24.833Z"
   },
   {
    "duration": 7,
    "start_time": "2021-12-24T11:51:54.304Z"
   },
   {
    "duration": 10,
    "start_time": "2021-12-24T11:52:14.306Z"
   },
   {
    "duration": 11,
    "start_time": "2021-12-24T13:12:58.371Z"
   },
   {
    "duration": 166,
    "start_time": "2021-12-24T13:13:01.317Z"
   },
   {
    "duration": 120,
    "start_time": "2021-12-24T13:13:47.913Z"
   },
   {
    "duration": 4,
    "start_time": "2021-12-24T13:14:04.928Z"
   },
   {
    "duration": 81657,
    "start_time": "2021-12-24T13:14:07.964Z"
   },
   {
    "duration": 35,
    "start_time": "2021-12-24T13:15:29.662Z"
   },
   {
    "duration": 33,
    "start_time": "2021-12-24T13:15:29.701Z"
   },
   {
    "duration": 4035,
    "start_time": "2021-12-24T13:18:50.527Z"
   },
   {
    "duration": 21,
    "start_time": "2021-12-24T13:18:54.565Z"
   },
   {
    "duration": 5,
    "start_time": "2021-12-24T13:25:30.547Z"
   },
   {
    "duration": 21,
    "start_time": "2021-12-24T13:25:35.258Z"
   },
   {
    "duration": 7015,
    "start_time": "2021-12-24T13:25:51.831Z"
   },
   {
    "duration": 20,
    "start_time": "2021-12-24T13:25:58.861Z"
   },
   {
    "duration": 4,
    "start_time": "2021-12-24T13:30:17.191Z"
   },
   {
    "duration": 7329,
    "start_time": "2021-12-24T13:30:20.269Z"
   },
   {
    "duration": 28,
    "start_time": "2021-12-24T13:30:27.601Z"
   },
   {
    "duration": 4,
    "start_time": "2021-12-24T13:43:58.397Z"
   },
   {
    "duration": 6,
    "start_time": "2021-12-24T13:43:59.980Z"
   },
   {
    "duration": 9440,
    "start_time": "2021-12-24T13:44:07.675Z"
   },
   {
    "duration": 20,
    "start_time": "2021-12-24T13:44:17.118Z"
   },
   {
    "duration": 6,
    "start_time": "2021-12-24T13:45:41.276Z"
   },
   {
    "duration": 3085,
    "start_time": "2021-12-24T13:45:44.092Z"
   },
   {
    "duration": 5,
    "start_time": "2021-12-24T13:46:33.825Z"
   },
   {
    "duration": 2994,
    "start_time": "2021-12-24T13:46:38.513Z"
   },
   {
    "duration": 17,
    "start_time": "2021-12-24T13:46:41.509Z"
   },
   {
    "duration": 121,
    "start_time": "2021-12-24T13:47:37.599Z"
   },
   {
    "duration": 9,
    "start_time": "2021-12-24T13:47:45.423Z"
   },
   {
    "duration": 6,
    "start_time": "2021-12-24T13:47:48.294Z"
   },
   {
    "duration": 12244,
    "start_time": "2021-12-24T13:47:55.292Z"
   },
   {
    "duration": 74,
    "start_time": "2021-12-24T13:48:37.385Z"
   },
   {
    "duration": 5,
    "start_time": "2021-12-24T13:51:06.225Z"
   },
   {
    "duration": 18,
    "start_time": "2021-12-24T13:51:10.407Z"
   },
   {
    "duration": 5,
    "start_time": "2021-12-24T13:51:40.923Z"
   },
   {
    "duration": 2617,
    "start_time": "2021-12-24T13:51:44.127Z"
   },
   {
    "duration": 27,
    "start_time": "2021-12-24T13:51:46.977Z"
   },
   {
    "duration": 6,
    "start_time": "2021-12-24T13:52:09.098Z"
   },
   {
    "duration": 2605,
    "start_time": "2021-12-24T13:52:11.501Z"
   },
   {
    "duration": 22,
    "start_time": "2021-12-24T13:52:14.109Z"
   },
   {
    "duration": 881,
    "start_time": "2021-12-24T13:53:18.968Z"
   },
   {
    "duration": 68,
    "start_time": "2021-12-24T13:53:19.853Z"
   },
   {
    "duration": 34,
    "start_time": "2021-12-24T13:53:19.927Z"
   },
   {
    "duration": 15,
    "start_time": "2021-12-24T13:53:19.963Z"
   },
   {
    "duration": 12,
    "start_time": "2021-12-24T13:53:19.981Z"
   },
   {
    "duration": 11,
    "start_time": "2021-12-24T13:53:19.995Z"
   },
   {
    "duration": 9,
    "start_time": "2021-12-24T13:53:20.010Z"
   },
   {
    "duration": 7,
    "start_time": "2021-12-24T13:53:20.058Z"
   },
   {
    "duration": 269,
    "start_time": "2021-12-24T13:53:20.068Z"
   },
   {
    "duration": 24,
    "start_time": "2021-12-24T13:53:20.339Z"
   },
   {
    "duration": 19,
    "start_time": "2021-12-24T13:53:20.366Z"
   },
   {
    "duration": 18,
    "start_time": "2021-12-24T13:53:20.388Z"
   },
   {
    "duration": 12,
    "start_time": "2021-12-24T13:53:20.409Z"
   },
   {
    "duration": 12,
    "start_time": "2021-12-24T13:53:20.460Z"
   },
   {
    "duration": 18,
    "start_time": "2021-12-24T13:53:20.475Z"
   },
   {
    "duration": 65,
    "start_time": "2021-12-24T13:53:20.495Z"
   },
   {
    "duration": 19,
    "start_time": "2021-12-24T13:53:20.563Z"
   },
   {
    "duration": 13,
    "start_time": "2021-12-24T13:53:20.584Z"
   },
   {
    "duration": 7,
    "start_time": "2021-12-24T13:53:20.599Z"
   },
   {
    "duration": 53,
    "start_time": "2021-12-24T13:53:20.608Z"
   },
   {
    "duration": 8,
    "start_time": "2021-12-24T13:53:20.664Z"
   },
   {
    "duration": 17,
    "start_time": "2021-12-24T13:53:20.678Z"
   },
   {
    "duration": 21,
    "start_time": "2021-12-24T13:53:20.698Z"
   },
   {
    "duration": 59,
    "start_time": "2021-12-24T13:53:20.721Z"
   },
   {
    "duration": 23,
    "start_time": "2021-12-24T13:53:20.783Z"
   },
   {
    "duration": 22,
    "start_time": "2021-12-24T13:53:20.808Z"
   },
   {
    "duration": 42,
    "start_time": "2021-12-24T13:53:20.832Z"
   },
   {
    "duration": 21,
    "start_time": "2021-12-24T13:53:20.877Z"
   },
   {
    "duration": 10,
    "start_time": "2021-12-24T13:53:20.900Z"
   },
   {
    "duration": 53,
    "start_time": "2021-12-24T13:53:20.912Z"
   },
   {
    "duration": 12,
    "start_time": "2021-12-24T13:53:20.968Z"
   },
   {
    "duration": 11,
    "start_time": "2021-12-24T13:53:20.983Z"
   },
   {
    "duration": 31,
    "start_time": "2021-12-24T13:53:20.997Z"
   },
   {
    "duration": 34,
    "start_time": "2021-12-24T13:53:21.030Z"
   },
   {
    "duration": 6,
    "start_time": "2021-12-24T13:53:21.068Z"
   },
   {
    "duration": 3539,
    "start_time": "2021-12-24T13:53:21.087Z"
   },
   {
    "duration": 46,
    "start_time": "2021-12-24T13:53:24.630Z"
   },
   {
    "duration": 28,
    "start_time": "2021-12-24T14:00:32.360Z"
   },
   {
    "duration": 8,
    "start_time": "2021-12-24T14:00:34.159Z"
   },
   {
    "duration": 3794,
    "start_time": "2021-12-24T14:00:37.457Z"
   },
   {
    "duration": 61,
    "start_time": "2021-12-24T14:00:41.260Z"
   },
   {
    "duration": 6,
    "start_time": "2021-12-24T14:02:06.666Z"
   },
   {
    "duration": 3510,
    "start_time": "2021-12-24T14:02:14.811Z"
   },
   {
    "duration": 27,
    "start_time": "2021-12-24T14:02:40.403Z"
   },
   {
    "duration": 7,
    "start_time": "2021-12-24T14:06:26.379Z"
   },
   {
    "duration": 3724,
    "start_time": "2021-12-24T14:06:29.395Z"
   },
   {
    "duration": 41,
    "start_time": "2021-12-24T15:35:05.949Z"
   },
   {
    "duration": 5,
    "start_time": "2021-12-24T15:35:08.079Z"
   },
   {
    "duration": 5046,
    "start_time": "2021-12-24T15:35:13.081Z"
   },
   {
    "duration": 21,
    "start_time": "2021-12-24T15:35:18.130Z"
   },
   {
    "duration": 7,
    "start_time": "2021-12-24T15:36:01.099Z"
   },
   {
    "duration": 11818,
    "start_time": "2021-12-24T15:36:03.562Z"
   },
   {
    "duration": 9,
    "start_time": "2021-12-24T15:41:03.882Z"
   },
   {
    "duration": 18558,
    "start_time": "2021-12-24T15:41:06.254Z"
   },
   {
    "duration": 7,
    "start_time": "2021-12-24T15:42:18.394Z"
   },
   {
    "duration": 11091,
    "start_time": "2021-12-24T15:42:20.308Z"
   },
   {
    "duration": 132,
    "start_time": "2021-12-24T15:42:34.844Z"
   },
   {
    "duration": 5,
    "start_time": "2021-12-24T15:42:41.451Z"
   },
   {
    "duration": 11193,
    "start_time": "2021-12-24T15:42:45.987Z"
   },
   {
    "duration": 5,
    "start_time": "2021-12-24T15:43:02.112Z"
   },
   {
    "duration": 12075,
    "start_time": "2021-12-24T15:43:03.532Z"
   },
   {
    "duration": 6,
    "start_time": "2021-12-24T15:43:35.002Z"
   },
   {
    "duration": 11149,
    "start_time": "2021-12-24T15:43:39.146Z"
   },
   {
    "duration": 6,
    "start_time": "2021-12-24T16:05:04.982Z"
   },
   {
    "duration": 7714,
    "start_time": "2021-12-24T16:05:08.295Z"
   },
   {
    "duration": 21,
    "start_time": "2021-12-24T16:05:16.012Z"
   },
   {
    "duration": 7,
    "start_time": "2021-12-24T17:12:57.696Z"
   },
   {
    "duration": 6263,
    "start_time": "2021-12-24T17:13:03.434Z"
   },
   {
    "duration": 20,
    "start_time": "2021-12-24T17:13:09.700Z"
   },
   {
    "duration": 19,
    "start_time": "2021-12-24T19:13:14.240Z"
   },
   {
    "duration": 10,
    "start_time": "2021-12-24T19:13:57.369Z"
   },
   {
    "duration": 11,
    "start_time": "2021-12-24T19:15:39.714Z"
   },
   {
    "duration": 202,
    "start_time": "2021-12-24T19:18:22.628Z"
   },
   {
    "duration": 12,
    "start_time": "2021-12-24T19:19:01.377Z"
   },
   {
    "duration": 5898,
    "start_time": "2021-12-24T19:19:04.563Z"
   },
   {
    "duration": 21,
    "start_time": "2021-12-24T19:19:10.464Z"
   },
   {
    "duration": 11,
    "start_time": "2021-12-24T19:19:21.809Z"
   },
   {
    "duration": 8,
    "start_time": "2021-12-24T19:54:04.904Z"
   },
   {
    "duration": 17,
    "start_time": "2021-12-24T20:00:12.966Z"
   },
   {
    "duration": 9,
    "start_time": "2021-12-24T20:00:23.482Z"
   },
   {
    "duration": 5,
    "start_time": "2021-12-24T20:14:07.649Z"
   },
   {
    "duration": 125,
    "start_time": "2021-12-24T20:15:32.719Z"
   },
   {
    "duration": 11,
    "start_time": "2021-12-24T20:15:38.232Z"
   },
   {
    "duration": 18,
    "start_time": "2021-12-24T20:15:59.550Z"
   },
   {
    "duration": 19,
    "start_time": "2021-12-24T20:16:16.730Z"
   },
   {
    "duration": 11,
    "start_time": "2021-12-24T20:16:27.607Z"
   },
   {
    "duration": 36,
    "start_time": "2021-12-24T20:18:51.693Z"
   },
   {
    "duration": 9,
    "start_time": "2021-12-24T20:36:17.917Z"
   },
   {
    "duration": 137,
    "start_time": "2021-12-24T20:38:19.409Z"
   },
   {
    "duration": 120,
    "start_time": "2021-12-24T20:38:25.241Z"
   },
   {
    "duration": 11,
    "start_time": "2021-12-24T20:38:32.999Z"
   },
   {
    "duration": 6,
    "start_time": "2021-12-24T20:39:03.079Z"
   },
   {
    "duration": 9,
    "start_time": "2021-12-24T20:47:27.028Z"
   },
   {
    "duration": 33,
    "start_time": "2021-12-24T20:48:13.714Z"
   },
   {
    "duration": 11,
    "start_time": "2021-12-24T20:48:22.719Z"
   },
   {
    "duration": 39,
    "start_time": "2021-12-24T20:48:24.638Z"
   },
   {
    "duration": 8,
    "start_time": "2021-12-24T20:48:34.727Z"
   },
   {
    "duration": 36,
    "start_time": "2021-12-24T20:48:37.294Z"
   },
   {
    "duration": 8,
    "start_time": "2021-12-24T20:52:04.788Z"
   },
   {
    "duration": 35,
    "start_time": "2021-12-24T20:52:13.653Z"
   },
   {
    "duration": 20,
    "start_time": "2021-12-24T20:52:25.208Z"
   },
   {
    "duration": 8,
    "start_time": "2021-12-24T20:52:59.693Z"
   },
   {
    "duration": 19,
    "start_time": "2021-12-24T20:53:01.641Z"
   },
   {
    "duration": 12,
    "start_time": "2021-12-24T20:55:51.248Z"
   },
   {
    "duration": 8,
    "start_time": "2021-12-24T20:57:40.122Z"
   },
   {
    "duration": 10,
    "start_time": "2021-12-24T20:58:00.985Z"
   },
   {
    "duration": 14,
    "start_time": "2021-12-24T21:02:06.025Z"
   },
   {
    "duration": 30,
    "start_time": "2021-12-24T21:02:39.531Z"
   },
   {
    "duration": 9,
    "start_time": "2021-12-24T21:03:18.744Z"
   },
   {
    "duration": 14,
    "start_time": "2021-12-24T21:03:20.776Z"
   },
   {
    "duration": 27,
    "start_time": "2021-12-24T21:03:31.086Z"
   },
   {
    "duration": 8,
    "start_time": "2021-12-24T21:03:44.494Z"
   },
   {
    "duration": 20,
    "start_time": "2021-12-24T21:03:48.382Z"
   },
   {
    "duration": 8,
    "start_time": "2021-12-24T21:04:17.925Z"
   },
   {
    "duration": 20,
    "start_time": "2021-12-24T21:04:22.375Z"
   },
   {
    "duration": 9,
    "start_time": "2021-12-24T21:05:32.524Z"
   },
   {
    "duration": 20,
    "start_time": "2021-12-24T21:05:35.925Z"
   },
   {
    "duration": 20,
    "start_time": "2021-12-24T21:06:02.171Z"
   },
   {
    "duration": 10,
    "start_time": "2021-12-24T21:06:07.171Z"
   },
   {
    "duration": 20,
    "start_time": "2021-12-24T21:06:10.737Z"
   },
   {
    "duration": 18,
    "start_time": "2021-12-24T21:07:07.016Z"
   },
   {
    "duration": 16,
    "start_time": "2021-12-24T21:07:34.145Z"
   },
   {
    "duration": 5,
    "start_time": "2021-12-24T21:07:54.078Z"
   },
   {
    "duration": 18,
    "start_time": "2021-12-24T21:07:57.422Z"
   },
   {
    "duration": 18,
    "start_time": "2021-12-24T21:08:00.850Z"
   },
   {
    "duration": 9,
    "start_time": "2021-12-24T21:08:34.790Z"
   },
   {
    "duration": 859,
    "start_time": "2021-12-24T21:11:14.003Z"
   },
   {
    "duration": 89,
    "start_time": "2021-12-24T21:11:14.865Z"
   },
   {
    "duration": 32,
    "start_time": "2021-12-24T21:11:14.957Z"
   },
   {
    "duration": 16,
    "start_time": "2021-12-24T21:11:14.992Z"
   },
   {
    "duration": 13,
    "start_time": "2021-12-24T21:11:15.011Z"
   },
   {
    "duration": 42,
    "start_time": "2021-12-24T21:11:15.026Z"
   },
   {
    "duration": 8,
    "start_time": "2021-12-24T21:11:15.071Z"
   },
   {
    "duration": 6,
    "start_time": "2021-12-24T21:11:15.083Z"
   },
   {
    "duration": 307,
    "start_time": "2021-12-24T21:11:15.092Z"
   },
   {
    "duration": 16,
    "start_time": "2021-12-24T21:11:15.402Z"
   },
   {
    "duration": 40,
    "start_time": "2021-12-24T21:11:15.422Z"
   },
   {
    "duration": 17,
    "start_time": "2021-12-24T21:11:15.466Z"
   },
   {
    "duration": 28,
    "start_time": "2021-12-24T21:11:15.486Z"
   },
   {
    "duration": 16,
    "start_time": "2021-12-24T21:11:15.516Z"
   },
   {
    "duration": 37,
    "start_time": "2021-12-24T21:11:15.535Z"
   },
   {
    "duration": 32,
    "start_time": "2021-12-24T21:11:15.574Z"
   },
   {
    "duration": 15,
    "start_time": "2021-12-24T21:11:15.609Z"
   },
   {
    "duration": 47,
    "start_time": "2021-12-24T21:11:15.627Z"
   },
   {
    "duration": 8,
    "start_time": "2021-12-24T21:11:15.676Z"
   },
   {
    "duration": 21,
    "start_time": "2021-12-24T21:11:15.686Z"
   },
   {
    "duration": 6,
    "start_time": "2021-12-24T21:11:15.709Z"
   },
   {
    "duration": 49,
    "start_time": "2021-12-24T21:11:15.717Z"
   },
   {
    "duration": 23,
    "start_time": "2021-12-24T21:11:15.771Z"
   },
   {
    "duration": 26,
    "start_time": "2021-12-24T21:11:15.796Z"
   },
   {
    "duration": 32,
    "start_time": "2021-12-24T21:11:15.859Z"
   },
   {
    "duration": 31,
    "start_time": "2021-12-24T21:11:15.894Z"
   },
   {
    "duration": 43,
    "start_time": "2021-12-24T21:11:15.927Z"
   },
   {
    "duration": 23,
    "start_time": "2021-12-24T21:11:15.972Z"
   },
   {
    "duration": 9,
    "start_time": "2021-12-24T21:11:15.997Z"
   },
   {
    "duration": 52,
    "start_time": "2021-12-24T21:11:16.009Z"
   },
   {
    "duration": 12,
    "start_time": "2021-12-24T21:11:16.063Z"
   },
   {
    "duration": 11,
    "start_time": "2021-12-24T21:11:16.077Z"
   },
   {
    "duration": 32,
    "start_time": "2021-12-24T21:11:16.091Z"
   },
   {
    "duration": 42,
    "start_time": "2021-12-24T21:11:16.126Z"
   },
   {
    "duration": 8,
    "start_time": "2021-12-24T21:11:16.171Z"
   },
   {
    "duration": 7241,
    "start_time": "2021-12-24T21:11:16.182Z"
   },
   {
    "duration": 38,
    "start_time": "2021-12-24T21:11:23.425Z"
   },
   {
    "duration": 12,
    "start_time": "2021-12-24T21:11:23.465Z"
   },
   {
    "duration": 8,
    "start_time": "2021-12-24T21:11:23.479Z"
   },
   {
    "duration": 17,
    "start_time": "2021-12-24T21:11:23.489Z"
   },
   {
    "duration": 51,
    "start_time": "2021-12-24T21:11:23.508Z"
   },
   {
    "duration": 4,
    "start_time": "2021-12-24T21:11:23.562Z"
   },
   {
    "duration": 13,
    "start_time": "2021-12-24T21:11:23.568Z"
   },
   {
    "duration": 18,
    "start_time": "2021-12-24T21:11:23.584Z"
   },
   {
    "duration": 14,
    "start_time": "2021-12-24T21:11:23.604Z"
   },
   {
    "duration": 41,
    "start_time": "2021-12-24T21:11:23.621Z"
   },
   {
    "duration": 19,
    "start_time": "2021-12-24T21:11:23.665Z"
   },
   {
    "duration": 10,
    "start_time": "2021-12-24T21:11:23.687Z"
   },
   {
    "duration": 15,
    "start_time": "2021-12-24T21:11:23.699Z"
   },
   {
    "duration": 5,
    "start_time": "2021-12-24T21:11:23.717Z"
   },
   {
    "duration": 19,
    "start_time": "2021-12-24T21:11:23.760Z"
   },
   {
    "duration": 13,
    "start_time": "2021-12-24T21:11:23.782Z"
   },
   {
    "duration": 18,
    "start_time": "2021-12-24T21:11:39.299Z"
   },
   {
    "duration": 11,
    "start_time": "2021-12-24T21:15:28.691Z"
   },
   {
    "duration": 10,
    "start_time": "2021-12-24T21:19:08.861Z"
   },
   {
    "duration": 19,
    "start_time": "2021-12-24T21:19:12.075Z"
   },
   {
    "duration": 6,
    "start_time": "2021-12-24T21:25:58.349Z"
   },
   {
    "duration": 20,
    "start_time": "2021-12-24T21:26:02.780Z"
   },
   {
    "duration": 12,
    "start_time": "2021-12-24T21:26:06.482Z"
   },
   {
    "duration": 19,
    "start_time": "2021-12-24T21:26:09.099Z"
   },
   {
    "duration": 12,
    "start_time": "2021-12-24T21:26:13.098Z"
   },
   {
    "duration": 18,
    "start_time": "2021-12-24T21:26:16.402Z"
   },
   {
    "duration": 19,
    "start_time": "2021-12-24T21:26:31.296Z"
   },
   {
    "duration": 10,
    "start_time": "2021-12-24T21:27:01.243Z"
   },
   {
    "duration": 5,
    "start_time": "2021-12-24T21:27:11.414Z"
   },
   {
    "duration": 18,
    "start_time": "2021-12-24T21:27:16.687Z"
   },
   {
    "duration": 16,
    "start_time": "2021-12-24T21:29:05.835Z"
   },
   {
    "duration": 5,
    "start_time": "2021-12-24T21:31:10.465Z"
   },
   {
    "duration": 18,
    "start_time": "2021-12-24T21:31:12.558Z"
   },
   {
    "duration": 11,
    "start_time": "2021-12-24T21:31:47.664Z"
   },
   {
    "duration": 10,
    "start_time": "2021-12-24T21:31:49.764Z"
   },
   {
    "duration": 7,
    "start_time": "2021-12-24T21:33:37.072Z"
   },
   {
    "duration": 21,
    "start_time": "2021-12-24T21:34:00.076Z"
   },
   {
    "duration": 5,
    "start_time": "2021-12-24T21:49:40.313Z"
   },
   {
    "duration": 503,
    "start_time": "2021-12-24T21:53:45.633Z"
   },
   {
    "duration": 4,
    "start_time": "2021-12-24T21:53:52.025Z"
   },
   {
    "duration": 18,
    "start_time": "2021-12-24T21:53:54.565Z"
   },
   {
    "duration": 25,
    "start_time": "2021-12-24T21:54:27.370Z"
   },
   {
    "duration": 132,
    "start_time": "2021-12-24T22:00:32.735Z"
   },
   {
    "duration": 4,
    "start_time": "2021-12-24T22:01:53.219Z"
   },
   {
    "duration": 12,
    "start_time": "2021-12-24T22:01:55.408Z"
   },
   {
    "duration": 20,
    "start_time": "2021-12-24T22:01:57.344Z"
   },
   {
    "duration": 14,
    "start_time": "2021-12-24T22:22:42.814Z"
   },
   {
    "duration": 11,
    "start_time": "2021-12-24T22:22:45.073Z"
   },
   {
    "duration": 5,
    "start_time": "2021-12-24T22:22:50.288Z"
   },
   {
    "duration": 20,
    "start_time": "2021-12-24T22:22:52.976Z"
   },
   {
    "duration": 4,
    "start_time": "2021-12-24T22:23:26.456Z"
   },
   {
    "duration": 11,
    "start_time": "2021-12-24T22:23:29.320Z"
   },
   {
    "duration": 19,
    "start_time": "2021-12-24T22:23:31.720Z"
   },
   {
    "duration": 11,
    "start_time": "2021-12-24T22:23:53.582Z"
   },
   {
    "duration": 390,
    "start_time": "2021-12-24T22:25:36.981Z"
   },
   {
    "duration": 372,
    "start_time": "2021-12-24T22:25:43.151Z"
   },
   {
    "duration": 12,
    "start_time": "2021-12-24T22:26:21.516Z"
   },
   {
    "duration": 6,
    "start_time": "2021-12-24T22:27:45.411Z"
   },
   {
    "duration": 5,
    "start_time": "2021-12-24T22:27:50.142Z"
   },
   {
    "duration": 12,
    "start_time": "2021-12-24T22:28:30.165Z"
   },
   {
    "duration": 12,
    "start_time": "2021-12-24T22:29:25.616Z"
   },
   {
    "duration": 12,
    "start_time": "2021-12-24T22:29:41.102Z"
   },
   {
    "duration": 1500,
    "start_time": "2021-12-24T22:29:47.327Z"
   },
   {
    "duration": 11,
    "start_time": "2021-12-24T22:29:54.076Z"
   },
   {
    "duration": 7,
    "start_time": "2021-12-24T22:35:51.277Z"
   },
   {
    "duration": 136,
    "start_time": "2021-12-24T22:57:02.819Z"
   },
   {
    "duration": 4,
    "start_time": "2021-12-24T22:57:48.892Z"
   },
   {
    "duration": 14,
    "start_time": "2021-12-24T22:59:35.461Z"
   },
   {
    "duration": 21,
    "start_time": "2021-12-24T23:00:08.729Z"
   },
   {
    "duration": 5,
    "start_time": "2021-12-24T23:01:26.745Z"
   },
   {
    "duration": 14,
    "start_time": "2021-12-24T23:01:31.043Z"
   },
   {
    "duration": 22,
    "start_time": "2021-12-24T23:01:42.409Z"
   },
   {
    "duration": 4,
    "start_time": "2021-12-24T23:18:46.814Z"
   },
   {
    "duration": 24,
    "start_time": "2021-12-24T23:18:59.743Z"
   },
   {
    "duration": 5,
    "start_time": "2021-12-24T23:32:38.690Z"
   },
   {
    "duration": 2034,
    "start_time": "2021-12-24T23:32:46.525Z"
   },
   {
    "duration": 24,
    "start_time": "2021-12-24T23:32:50.434Z"
   },
   {
    "duration": 378,
    "start_time": "2021-12-24T23:44:06.040Z"
   },
   {
    "duration": 11,
    "start_time": "2021-12-24T23:44:10.958Z"
   },
   {
    "duration": 9,
    "start_time": "2021-12-24T23:44:12.906Z"
   },
   {
    "duration": 10,
    "start_time": "2021-12-24T23:44:14.959Z"
   },
   {
    "duration": 10,
    "start_time": "2021-12-24T23:44:23.149Z"
   },
   {
    "duration": 9,
    "start_time": "2021-12-24T23:44:28.282Z"
   },
   {
    "duration": 413,
    "start_time": "2021-12-24T23:48:09.505Z"
   },
   {
    "duration": 6,
    "start_time": "2021-12-24T23:48:13.013Z"
   },
   {
    "duration": 12,
    "start_time": "2021-12-24T23:48:15.207Z"
   },
   {
    "duration": 7,
    "start_time": "2021-12-24T23:48:23.238Z"
   },
   {
    "duration": 10,
    "start_time": "2021-12-24T23:48:38.352Z"
   },
   {
    "duration": 10,
    "start_time": "2021-12-24T23:48:52.252Z"
   },
   {
    "duration": 9,
    "start_time": "2021-12-24T23:49:21.510Z"
   },
   {
    "duration": 9,
    "start_time": "2021-12-24T23:49:26.259Z"
   },
   {
    "duration": 5,
    "start_time": "2021-12-24T23:53:09.797Z"
   },
   {
    "duration": 9,
    "start_time": "2021-12-24T23:54:32.302Z"
   },
   {
    "duration": 16,
    "start_time": "2021-12-24T23:58:59.122Z"
   },
   {
    "duration": 17,
    "start_time": "2021-12-25T00:00:17.209Z"
   },
   {
    "duration": 16,
    "start_time": "2021-12-25T00:00:49.344Z"
   },
   {
    "duration": 15,
    "start_time": "2021-12-25T00:01:09.377Z"
   },
   {
    "duration": 16,
    "start_time": "2021-12-25T00:02:09.458Z"
   },
   {
    "duration": 15,
    "start_time": "2021-12-25T00:04:29.284Z"
   },
   {
    "duration": 361,
    "start_time": "2021-12-25T00:05:32.810Z"
   },
   {
    "duration": 16,
    "start_time": "2021-12-25T00:05:42.206Z"
   },
   {
    "duration": 17,
    "start_time": "2021-12-25T00:06:48.828Z"
   },
   {
    "duration": 20,
    "start_time": "2021-12-25T00:06:53.125Z"
   },
   {
    "duration": 19,
    "start_time": "2021-12-25T00:06:56.205Z"
   },
   {
    "duration": 18,
    "start_time": "2021-12-25T00:06:59.072Z"
   },
   {
    "duration": 134,
    "start_time": "2021-12-25T00:26:19.237Z"
   },
   {
    "duration": 126,
    "start_time": "2021-12-25T00:34:48.392Z"
   },
   {
    "duration": 127,
    "start_time": "2021-12-25T00:34:56.108Z"
   },
   {
    "duration": 848,
    "start_time": "2021-12-25T00:35:26.072Z"
   },
   {
    "duration": 18,
    "start_time": "2021-12-25T00:35:55.756Z"
   },
   {
    "duration": 19,
    "start_time": "2021-12-25T00:38:47.883Z"
   },
   {
    "duration": 17,
    "start_time": "2021-12-25T00:39:18.546Z"
   },
   {
    "duration": 322,
    "start_time": "2021-12-25T07:57:32.029Z"
   },
   {
    "duration": 594,
    "start_time": "2021-12-25T07:58:18.077Z"
   },
   {
    "duration": 52,
    "start_time": "2021-12-25T07:58:18.673Z"
   },
   {
    "duration": 31,
    "start_time": "2021-12-25T07:58:18.729Z"
   },
   {
    "duration": 16,
    "start_time": "2021-12-25T07:58:18.762Z"
   },
   {
    "duration": 9,
    "start_time": "2021-12-25T07:58:18.780Z"
   },
   {
    "duration": 9,
    "start_time": "2021-12-25T07:58:18.790Z"
   },
   {
    "duration": 9,
    "start_time": "2021-12-25T07:58:18.802Z"
   },
   {
    "duration": 4,
    "start_time": "2021-12-25T07:58:18.813Z"
   },
   {
    "duration": 170,
    "start_time": "2021-12-25T07:58:18.818Z"
   },
   {
    "duration": 9,
    "start_time": "2021-12-25T07:58:18.990Z"
   },
   {
    "duration": 12,
    "start_time": "2021-12-25T07:58:19.000Z"
   },
   {
    "duration": 13,
    "start_time": "2021-12-25T07:58:19.013Z"
   },
   {
    "duration": 18,
    "start_time": "2021-12-25T07:58:19.027Z"
   },
   {
    "duration": 8,
    "start_time": "2021-12-25T07:58:19.061Z"
   },
   {
    "duration": 13,
    "start_time": "2021-12-25T07:58:19.070Z"
   },
   {
    "duration": 17,
    "start_time": "2021-12-25T07:58:19.085Z"
   },
   {
    "duration": 11,
    "start_time": "2021-12-25T07:58:19.104Z"
   },
   {
    "duration": 10,
    "start_time": "2021-12-25T07:58:19.117Z"
   },
   {
    "duration": 37,
    "start_time": "2021-12-25T07:58:19.128Z"
   },
   {
    "duration": 15,
    "start_time": "2021-12-25T07:58:19.167Z"
   },
   {
    "duration": 5,
    "start_time": "2021-12-25T07:58:19.184Z"
   },
   {
    "duration": 18,
    "start_time": "2021-12-25T07:58:19.193Z"
   },
   {
    "duration": 17,
    "start_time": "2021-12-25T07:58:19.213Z"
   },
   {
    "duration": 45,
    "start_time": "2021-12-25T07:58:19.232Z"
   },
   {
    "duration": 18,
    "start_time": "2021-12-25T07:58:19.278Z"
   },
   {
    "duration": 16,
    "start_time": "2021-12-25T07:58:19.297Z"
   },
   {
    "duration": 13,
    "start_time": "2021-12-25T07:58:19.314Z"
   },
   {
    "duration": 44,
    "start_time": "2021-12-25T07:58:19.328Z"
   },
   {
    "duration": 7,
    "start_time": "2021-12-25T07:58:19.374Z"
   },
   {
    "duration": 12,
    "start_time": "2021-12-25T07:58:19.383Z"
   },
   {
    "duration": 11,
    "start_time": "2021-12-25T07:58:19.397Z"
   },
   {
    "duration": 10,
    "start_time": "2021-12-25T07:58:19.410Z"
   },
   {
    "duration": 52,
    "start_time": "2021-12-25T07:58:19.422Z"
   },
   {
    "duration": 7,
    "start_time": "2021-12-25T07:58:19.476Z"
   },
   {
    "duration": 4,
    "start_time": "2021-12-25T07:58:19.485Z"
   },
   {
    "duration": 5582,
    "start_time": "2021-12-25T07:58:19.491Z"
   },
   {
    "duration": 14,
    "start_time": "2021-12-25T07:58:25.075Z"
   },
   {
    "duration": 15,
    "start_time": "2021-12-25T07:58:25.090Z"
   },
   {
    "duration": 4,
    "start_time": "2021-12-25T07:58:25.106Z"
   },
   {
    "duration": 14,
    "start_time": "2021-12-25T07:58:25.112Z"
   },
   {
    "duration": 16,
    "start_time": "2021-12-25T07:58:25.127Z"
   },
   {
    "duration": 18,
    "start_time": "2021-12-25T07:58:25.145Z"
   },
   {
    "duration": 12,
    "start_time": "2021-12-25T07:58:25.165Z"
   },
   {
    "duration": 5,
    "start_time": "2021-12-25T07:58:25.178Z"
   },
   {
    "duration": 7,
    "start_time": "2021-12-25T07:58:25.185Z"
   },
   {
    "duration": 10,
    "start_time": "2021-12-25T07:58:25.194Z"
   },
   {
    "duration": 14,
    "start_time": "2021-12-25T07:58:25.206Z"
   },
   {
    "duration": 8,
    "start_time": "2021-12-25T07:58:25.222Z"
   },
   {
    "duration": 30,
    "start_time": "2021-12-25T07:58:25.231Z"
   },
   {
    "duration": 9,
    "start_time": "2021-12-25T07:58:25.263Z"
   },
   {
    "duration": 12,
    "start_time": "2021-12-25T07:58:25.274Z"
   },
   {
    "duration": 3,
    "start_time": "2021-12-25T07:58:25.288Z"
   },
   {
    "duration": 16,
    "start_time": "2021-12-25T07:58:25.292Z"
   },
   {
    "duration": 3,
    "start_time": "2021-12-25T07:58:25.310Z"
   },
   {
    "duration": 20,
    "start_time": "2021-12-25T07:58:25.315Z"
   },
   {
    "duration": 28,
    "start_time": "2021-12-25T07:58:25.336Z"
   },
   {
    "duration": 13,
    "start_time": "2021-12-25T07:58:25.366Z"
   },
   {
    "duration": 90,
    "start_time": "2021-12-25T07:58:25.381Z"
   },
   {
    "duration": -1531,
    "start_time": "2021-12-25T07:58:27.004Z"
   },
   {
    "duration": -1535,
    "start_time": "2021-12-25T07:58:27.009Z"
   },
   {
    "duration": -1553,
    "start_time": "2021-12-25T07:58:27.028Z"
   },
   {
    "duration": -1557,
    "start_time": "2021-12-25T07:58:27.033Z"
   },
   {
    "duration": -1562,
    "start_time": "2021-12-25T07:58:27.039Z"
   },
   {
    "duration": -1568,
    "start_time": "2021-12-25T07:58:27.046Z"
   },
   {
    "duration": -1573,
    "start_time": "2021-12-25T07:58:27.051Z"
   },
   {
    "duration": -1577,
    "start_time": "2021-12-25T07:58:27.056Z"
   },
   {
    "duration": -1582,
    "start_time": "2021-12-25T07:58:27.062Z"
   },
   {
    "duration": -1586,
    "start_time": "2021-12-25T07:58:27.067Z"
   },
   {
    "duration": -1590,
    "start_time": "2021-12-25T07:58:27.072Z"
   },
   {
    "duration": -1595,
    "start_time": "2021-12-25T07:58:27.078Z"
   },
   {
    "duration": -1600,
    "start_time": "2021-12-25T07:58:27.083Z"
   },
   {
    "duration": 18,
    "start_time": "2021-12-25T07:58:36.777Z"
   },
   {
    "duration": 3,
    "start_time": "2021-12-25T07:58:56.516Z"
   },
   {
    "duration": 9,
    "start_time": "2021-12-25T07:58:58.963Z"
   },
   {
    "duration": 14,
    "start_time": "2021-12-25T07:59:00.028Z"
   },
   {
    "duration": 7,
    "start_time": "2021-12-25T07:59:05.152Z"
   },
   {
    "duration": 8,
    "start_time": "2021-12-25T07:59:08.064Z"
   },
   {
    "duration": 7,
    "start_time": "2021-12-25T07:59:09.492Z"
   },
   {
    "duration": 5,
    "start_time": "2021-12-25T07:59:12.976Z"
   },
   {
    "duration": 9,
    "start_time": "2021-12-25T07:59:16.950Z"
   },
   {
    "duration": 6,
    "start_time": "2021-12-25T07:59:17.448Z"
   },
   {
    "duration": 15,
    "start_time": "2021-12-25T07:59:20.688Z"
   },
   {
    "duration": 13,
    "start_time": "2021-12-25T07:59:34.560Z"
   },
   {
    "duration": 1101,
    "start_time": "2021-12-25T08:00:22.092Z"
   },
   {
    "duration": 91,
    "start_time": "2021-12-25T08:00:36.568Z"
   },
   {
    "duration": 84,
    "start_time": "2021-12-25T08:00:43.351Z"
   },
   {
    "duration": 17,
    "start_time": "2021-12-25T08:03:33.282Z"
   },
   {
    "duration": 22,
    "start_time": "2021-12-25T08:07:03.099Z"
   },
   {
    "duration": 354,
    "start_time": "2021-12-25T08:08:04.694Z"
   },
   {
    "duration": 13,
    "start_time": "2021-12-25T08:09:53.220Z"
   },
   {
    "duration": 22,
    "start_time": "2021-12-25T08:16:26.056Z"
   },
   {
    "duration": 85,
    "start_time": "2021-12-25T08:19:46.243Z"
   },
   {
    "duration": 30,
    "start_time": "2021-12-25T08:19:54.478Z"
   },
   {
    "duration": 42,
    "start_time": "2021-12-25T08:20:02.447Z"
   },
   {
    "duration": 122,
    "start_time": "2021-12-25T08:23:19.566Z"
   },
   {
    "duration": 269,
    "start_time": "2021-12-25T08:23:30.499Z"
   },
   {
    "duration": 272,
    "start_time": "2021-12-25T08:33:22.858Z"
   },
   {
    "duration": 30,
    "start_time": "2021-12-25T08:33:52.167Z"
   },
   {
    "duration": 29,
    "start_time": "2021-12-25T08:35:16.215Z"
   },
   {
    "duration": 132,
    "start_time": "2021-12-25T08:35:35.941Z"
   },
   {
    "duration": 39,
    "start_time": "2021-12-25T08:35:48.877Z"
   },
   {
    "duration": 6637,
    "start_time": "2021-12-25T08:37:37.387Z"
   },
   {
    "duration": 38,
    "start_time": "2021-12-25T08:38:13.838Z"
   },
   {
    "duration": 6292,
    "start_time": "2021-12-25T08:39:48.628Z"
   },
   {
    "duration": 42,
    "start_time": "2021-12-25T08:43:46.605Z"
   },
   {
    "duration": 6295,
    "start_time": "2021-12-25T08:44:43.101Z"
   },
   {
    "duration": 39,
    "start_time": "2021-12-25T08:45:32.613Z"
   },
   {
    "duration": 5,
    "start_time": "2021-12-25T08:46:17.733Z"
   },
   {
    "duration": 39,
    "start_time": "2021-12-25T08:46:39.943Z"
   },
   {
    "duration": 8,
    "start_time": "2021-12-25T08:54:52.350Z"
   },
   {
    "duration": 9,
    "start_time": "2021-12-25T08:55:07.460Z"
   },
   {
    "duration": 9,
    "start_time": "2021-12-25T08:56:07.362Z"
   },
   {
    "duration": 40,
    "start_time": "2021-12-25T08:56:45.860Z"
   },
   {
    "duration": 9,
    "start_time": "2021-12-25T09:00:41.051Z"
   },
   {
    "duration": 38,
    "start_time": "2021-12-25T09:02:58.840Z"
   },
   {
    "duration": 43,
    "start_time": "2021-12-25T10:07:25.340Z"
   },
   {
    "duration": 8,
    "start_time": "2021-12-25T10:07:28.715Z"
   },
   {
    "duration": 37,
    "start_time": "2021-12-25T10:18:59.394Z"
   },
   {
    "duration": 276,
    "start_time": "2021-12-25T10:19:01.901Z"
   },
   {
    "duration": 46,
    "start_time": "2021-12-25T10:19:23.639Z"
   },
   {
    "duration": 14,
    "start_time": "2021-12-25T10:19:25.467Z"
   },
   {
    "duration": 48,
    "start_time": "2021-12-25T10:21:54.957Z"
   },
   {
    "duration": 40,
    "start_time": "2021-12-25T10:25:18.632Z"
   },
   {
    "duration": 9,
    "start_time": "2021-12-25T10:25:20.486Z"
   },
   {
    "duration": 382,
    "start_time": "2021-12-25T10:26:02.137Z"
   },
   {
    "duration": 316,
    "start_time": "2021-12-25T10:27:02.188Z"
   },
   {
    "duration": 9,
    "start_time": "2021-12-25T10:27:17.351Z"
   },
   {
    "duration": 13,
    "start_time": "2021-12-25T10:28:35.355Z"
   },
   {
    "duration": 321,
    "start_time": "2021-12-25T10:28:50.257Z"
   },
   {
    "duration": 38,
    "start_time": "2021-12-25T10:29:02.223Z"
   },
   {
    "duration": 10,
    "start_time": "2021-12-25T10:29:04.357Z"
   },
   {
    "duration": 38,
    "start_time": "2021-12-25T10:30:38.798Z"
   },
   {
    "duration": 12,
    "start_time": "2021-12-25T10:30:40.161Z"
   },
   {
    "duration": 3,
    "start_time": "2021-12-25T10:33:27.575Z"
   },
   {
    "duration": 4,
    "start_time": "2021-12-25T10:34:19.287Z"
   },
   {
    "duration": 42,
    "start_time": "2021-12-25T10:34:23.102Z"
   },
   {
    "duration": 4,
    "start_time": "2021-12-25T10:37:30.736Z"
   },
   {
    "duration": 49,
    "start_time": "2021-12-25T10:39:46.552Z"
   },
   {
    "duration": 45,
    "start_time": "2021-12-25T10:41:53.236Z"
   },
   {
    "duration": 287,
    "start_time": "2021-12-25T10:42:10.859Z"
   },
   {
    "duration": 51,
    "start_time": "2021-12-25T10:42:46.674Z"
   },
   {
    "duration": 41,
    "start_time": "2021-12-25T10:44:52.675Z"
   },
   {
    "duration": 43,
    "start_time": "2021-12-25T10:45:45.714Z"
   },
   {
    "duration": 39,
    "start_time": "2021-12-25T10:46:06.299Z"
   },
   {
    "duration": 4964,
    "start_time": "2021-12-25T10:47:28.097Z"
   },
   {
    "duration": 6136,
    "start_time": "2021-12-25T10:47:35.056Z"
   },
   {
    "duration": 27,
    "start_time": "2021-12-25T10:48:43.055Z"
   },
   {
    "duration": 3,
    "start_time": "2021-12-25T10:51:08.575Z"
   },
   {
    "duration": 1616,
    "start_time": "2021-12-25T10:51:16.195Z"
   },
   {
    "duration": 4,
    "start_time": "2021-12-25T10:53:10.334Z"
   },
   {
    "duration": 1320,
    "start_time": "2021-12-25T10:53:13.728Z"
   },
   {
    "duration": 4,
    "start_time": "2021-12-25T10:54:13.241Z"
   },
   {
    "duration": 2005,
    "start_time": "2021-12-25T10:54:15.814Z"
   },
   {
    "duration": 21,
    "start_time": "2021-12-25T10:54:58.505Z"
   },
   {
    "duration": 2220,
    "start_time": "2021-12-25T10:55:26.947Z"
   },
   {
    "duration": 25,
    "start_time": "2021-12-25T10:55:36.950Z"
   },
   {
    "duration": 27,
    "start_time": "2021-12-25T11:04:17.549Z"
   },
   {
    "duration": 22,
    "start_time": "2021-12-25T11:04:30.335Z"
   },
   {
    "duration": 24,
    "start_time": "2021-12-25T11:05:04.784Z"
   },
   {
    "duration": 1749,
    "start_time": "2021-12-25T11:06:28.781Z"
   },
   {
    "duration": 23,
    "start_time": "2021-12-25T11:06:36.445Z"
   },
   {
    "duration": 4,
    "start_time": "2021-12-25T11:15:21.417Z"
   },
   {
    "duration": 25,
    "start_time": "2021-12-25T11:15:23.838Z"
   },
   {
    "duration": 23,
    "start_time": "2021-12-25T11:15:27.685Z"
   },
   {
    "duration": 21,
    "start_time": "2021-12-25T11:15:30.232Z"
   },
   {
    "duration": 23,
    "start_time": "2021-12-25T11:15:32.771Z"
   },
   {
    "duration": 25,
    "start_time": "2021-12-25T11:28:02.940Z"
   },
   {
    "duration": 116,
    "start_time": "2021-12-25T19:16:59.166Z"
   },
   {
    "duration": 326,
    "start_time": "2021-12-25T19:17:09.208Z"
   },
   {
    "duration": 793,
    "start_time": "2021-12-25T19:17:43.475Z"
   },
   {
    "duration": 66,
    "start_time": "2021-12-25T19:17:44.270Z"
   },
   {
    "duration": 33,
    "start_time": "2021-12-25T19:17:44.339Z"
   },
   {
    "duration": 15,
    "start_time": "2021-12-25T19:17:44.375Z"
   },
   {
    "duration": 13,
    "start_time": "2021-12-25T19:17:44.392Z"
   },
   {
    "duration": 9,
    "start_time": "2021-12-25T19:17:44.407Z"
   },
   {
    "duration": 50,
    "start_time": "2021-12-25T19:17:44.418Z"
   },
   {
    "duration": 5,
    "start_time": "2021-12-25T19:17:44.472Z"
   },
   {
    "duration": 283,
    "start_time": "2021-12-25T19:17:44.480Z"
   },
   {
    "duration": 12,
    "start_time": "2021-12-25T19:17:44.767Z"
   },
   {
    "duration": 19,
    "start_time": "2021-12-25T19:17:44.781Z"
   },
   {
    "duration": 20,
    "start_time": "2021-12-25T19:17:44.802Z"
   },
   {
    "duration": 12,
    "start_time": "2021-12-25T19:17:44.824Z"
   },
   {
    "duration": 13,
    "start_time": "2021-12-25T19:17:44.838Z"
   },
   {
    "duration": 25,
    "start_time": "2021-12-25T19:17:44.853Z"
   },
   {
    "duration": 28,
    "start_time": "2021-12-25T19:17:44.880Z"
   },
   {
    "duration": 14,
    "start_time": "2021-12-25T19:17:44.911Z"
   },
   {
    "duration": 14,
    "start_time": "2021-12-25T19:17:44.927Z"
   },
   {
    "duration": 9,
    "start_time": "2021-12-25T19:17:44.943Z"
   },
   {
    "duration": 25,
    "start_time": "2021-12-25T19:17:44.954Z"
   },
   {
    "duration": 7,
    "start_time": "2021-12-25T19:17:44.982Z"
   },
   {
    "duration": 18,
    "start_time": "2021-12-25T19:17:44.991Z"
   },
   {
    "duration": 23,
    "start_time": "2021-12-25T19:17:45.015Z"
   },
   {
    "duration": 77,
    "start_time": "2021-12-25T19:17:45.042Z"
   },
   {
    "duration": 26,
    "start_time": "2021-12-25T19:17:45.122Z"
   },
   {
    "duration": 22,
    "start_time": "2021-12-25T19:17:45.150Z"
   },
   {
    "duration": 19,
    "start_time": "2021-12-25T19:17:45.174Z"
   },
   {
    "duration": 24,
    "start_time": "2021-12-25T19:17:45.195Z"
   },
   {
    "duration": 13,
    "start_time": "2021-12-25T19:17:45.222Z"
   },
   {
    "duration": 20,
    "start_time": "2021-12-25T19:17:45.237Z"
   },
   {
    "duration": 24,
    "start_time": "2021-12-25T19:17:45.259Z"
   },
   {
    "duration": 13,
    "start_time": "2021-12-25T19:17:45.286Z"
   },
   {
    "duration": 31,
    "start_time": "2021-12-25T19:17:45.301Z"
   },
   {
    "duration": 9,
    "start_time": "2021-12-25T19:17:45.334Z"
   },
   {
    "duration": 7,
    "start_time": "2021-12-25T19:17:45.346Z"
   },
   {
    "duration": 6792,
    "start_time": "2021-12-25T19:17:45.355Z"
   },
   {
    "duration": 21,
    "start_time": "2021-12-25T19:17:52.166Z"
   },
   {
    "duration": 12,
    "start_time": "2021-12-25T19:17:52.190Z"
   },
   {
    "duration": 6,
    "start_time": "2021-12-25T19:17:52.204Z"
   },
   {
    "duration": 21,
    "start_time": "2021-12-25T19:17:52.213Z"
   },
   {
    "duration": 53,
    "start_time": "2021-12-25T19:17:52.236Z"
   },
   {
    "duration": 12,
    "start_time": "2021-12-25T19:17:52.291Z"
   },
   {
    "duration": 11,
    "start_time": "2021-12-25T19:17:52.306Z"
   },
   {
    "duration": 17,
    "start_time": "2021-12-25T19:17:52.319Z"
   },
   {
    "duration": 14,
    "start_time": "2021-12-25T19:17:52.338Z"
   },
   {
    "duration": 19,
    "start_time": "2021-12-25T19:17:52.355Z"
   },
   {
    "duration": 19,
    "start_time": "2021-12-25T19:17:52.376Z"
   },
   {
    "duration": 11,
    "start_time": "2021-12-25T19:17:52.398Z"
   },
   {
    "duration": 15,
    "start_time": "2021-12-25T19:17:52.412Z"
   },
   {
    "duration": 39,
    "start_time": "2021-12-25T19:17:52.429Z"
   },
   {
    "duration": 10,
    "start_time": "2021-12-25T19:17:52.470Z"
   },
   {
    "duration": 9,
    "start_time": "2021-12-25T19:17:52.483Z"
   },
   {
    "duration": 22,
    "start_time": "2021-12-25T19:17:52.495Z"
   },
   {
    "duration": 4,
    "start_time": "2021-12-25T19:17:52.519Z"
   },
   {
    "duration": 47,
    "start_time": "2021-12-25T19:17:52.525Z"
   },
   {
    "duration": 19,
    "start_time": "2021-12-25T19:17:52.574Z"
   },
   {
    "duration": 16,
    "start_time": "2021-12-25T19:17:52.595Z"
   },
   {
    "duration": 4,
    "start_time": "2021-12-25T19:17:52.613Z"
   },
   {
    "duration": 48,
    "start_time": "2021-12-25T19:17:52.619Z"
   },
   {
    "duration": 22,
    "start_time": "2021-12-25T19:17:52.670Z"
   },
   {
    "duration": 14,
    "start_time": "2021-12-25T19:17:52.694Z"
   },
   {
    "duration": 9,
    "start_time": "2021-12-25T19:17:52.710Z"
   },
   {
    "duration": 9,
    "start_time": "2021-12-25T19:17:52.721Z"
   },
   {
    "duration": 39,
    "start_time": "2021-12-25T19:17:52.732Z"
   },
   {
    "duration": 14,
    "start_time": "2021-12-25T19:17:52.774Z"
   },
   {
    "duration": 10,
    "start_time": "2021-12-25T19:17:52.790Z"
   },
   {
    "duration": 7,
    "start_time": "2021-12-25T19:17:52.802Z"
   },
   {
    "duration": 73,
    "start_time": "2021-12-25T19:17:52.817Z"
   },
   {
    "duration": 356,
    "start_time": "2021-12-25T19:17:52.892Z"
   },
   {
    "duration": -93,
    "start_time": "2021-12-25T19:17:53.344Z"
   },
   {
    "duration": -97,
    "start_time": "2021-12-25T19:17:53.349Z"
   },
   {
    "duration": -103,
    "start_time": "2021-12-25T19:17:53.356Z"
   },
   {
    "duration": 23,
    "start_time": "2021-12-25T19:18:29.672Z"
   },
   {
    "duration": 685,
    "start_time": "2021-12-25T19:19:41.500Z"
   },
   {
    "duration": 3,
    "start_time": "2021-12-25T19:28:53.708Z"
   },
   {
    "duration": 35,
    "start_time": "2021-12-25T19:55:46.635Z"
   },
   {
    "duration": 22,
    "start_time": "2021-12-25T19:55:50.390Z"
   },
   {
    "duration": 13,
    "start_time": "2021-12-25T20:28:33.620Z"
   },
   {
    "duration": 11,
    "start_time": "2021-12-25T20:28:44.911Z"
   },
   {
    "duration": 10,
    "start_time": "2021-12-25T20:36:39.589Z"
   },
   {
    "duration": 22,
    "start_time": "2021-12-25T20:50:34.593Z"
   },
   {
    "duration": 20,
    "start_time": "2021-12-25T20:53:31.472Z"
   },
   {
    "duration": 26,
    "start_time": "2021-12-25T21:07:16.555Z"
   },
   {
    "duration": 86,
    "start_time": "2021-12-25T21:40:37.362Z"
   },
   {
    "duration": 14,
    "start_time": "2021-12-25T21:46:28.640Z"
   },
   {
    "duration": 11,
    "start_time": "2021-12-25T21:49:19.922Z"
   },
   {
    "duration": 290,
    "start_time": "2021-12-25T22:12:41.845Z"
   },
   {
    "duration": 29,
    "start_time": "2021-12-25T22:15:39.522Z"
   },
   {
    "duration": 33,
    "start_time": "2021-12-25T22:15:54.211Z"
   },
   {
    "duration": 58,
    "start_time": "2021-12-25T22:16:40.573Z"
   },
   {
    "duration": 723,
    "start_time": "2021-12-25T22:18:47.306Z"
   },
   {
    "duration": 81,
    "start_time": "2021-12-25T22:18:48.032Z"
   },
   {
    "duration": 32,
    "start_time": "2021-12-25T22:18:48.115Z"
   },
   {
    "duration": 30,
    "start_time": "2021-12-25T22:18:48.149Z"
   },
   {
    "duration": 15,
    "start_time": "2021-12-25T22:18:48.182Z"
   },
   {
    "duration": 10,
    "start_time": "2021-12-25T22:18:48.200Z"
   },
   {
    "duration": 10,
    "start_time": "2021-12-25T22:18:48.212Z"
   },
   {
    "duration": 7,
    "start_time": "2021-12-25T22:18:48.267Z"
   },
   {
    "duration": 248,
    "start_time": "2021-12-25T22:18:48.277Z"
   },
   {
    "duration": 12,
    "start_time": "2021-12-25T22:18:48.528Z"
   },
   {
    "duration": 35,
    "start_time": "2021-12-25T22:18:48.542Z"
   },
   {
    "duration": 25,
    "start_time": "2021-12-25T22:18:48.579Z"
   },
   {
    "duration": 39,
    "start_time": "2021-12-25T22:18:48.606Z"
   },
   {
    "duration": 30,
    "start_time": "2021-12-25T22:18:48.647Z"
   },
   {
    "duration": 13,
    "start_time": "2021-12-25T22:18:48.680Z"
   },
   {
    "duration": 43,
    "start_time": "2021-12-25T22:18:48.695Z"
   },
   {
    "duration": 34,
    "start_time": "2021-12-25T22:18:48.741Z"
   },
   {
    "duration": 13,
    "start_time": "2021-12-25T22:18:48.777Z"
   },
   {
    "duration": 6,
    "start_time": "2021-12-25T22:18:48.793Z"
   },
   {
    "duration": 21,
    "start_time": "2021-12-25T22:18:48.801Z"
   },
   {
    "duration": 13,
    "start_time": "2021-12-25T22:18:48.824Z"
   },
   {
    "duration": 42,
    "start_time": "2021-12-25T22:18:48.839Z"
   },
   {
    "duration": 23,
    "start_time": "2021-12-25T22:18:48.884Z"
   },
   {
    "duration": 27,
    "start_time": "2021-12-25T22:18:48.909Z"
   },
   {
    "duration": 23,
    "start_time": "2021-12-25T22:18:48.968Z"
   },
   {
    "duration": 9,
    "start_time": "2021-12-25T22:18:48.998Z"
   },
   {
    "duration": 24,
    "start_time": "2021-12-25T22:18:49.010Z"
   },
   {
    "duration": 35,
    "start_time": "2021-12-25T22:18:49.036Z"
   },
   {
    "duration": 22,
    "start_time": "2021-12-25T22:18:49.073Z"
   },
   {
    "duration": 16,
    "start_time": "2021-12-25T22:18:49.097Z"
   },
   {
    "duration": 9,
    "start_time": "2021-12-25T22:18:49.115Z"
   },
   {
    "duration": 18,
    "start_time": "2021-12-25T22:18:49.126Z"
   },
   {
    "duration": 9,
    "start_time": "2021-12-25T22:18:49.167Z"
   },
   {
    "duration": 5,
    "start_time": "2021-12-25T22:18:49.178Z"
   },
   {
    "duration": 6463,
    "start_time": "2021-12-25T22:18:49.186Z"
   },
   {
    "duration": 23,
    "start_time": "2021-12-25T22:18:55.652Z"
   },
   {
    "duration": 6,
    "start_time": "2021-12-25T22:18:55.678Z"
   },
   {
    "duration": 23,
    "start_time": "2021-12-25T22:18:55.686Z"
   },
   {
    "duration": 58,
    "start_time": "2021-12-25T22:18:55.712Z"
   },
   {
    "duration": 10,
    "start_time": "2021-12-25T22:18:55.773Z"
   },
   {
    "duration": 13,
    "start_time": "2021-12-25T22:18:55.786Z"
   },
   {
    "duration": 12,
    "start_time": "2021-12-25T22:18:55.801Z"
   },
   {
    "duration": 5,
    "start_time": "2021-12-25T22:18:55.816Z"
   },
   {
    "duration": 54,
    "start_time": "2021-12-25T22:18:55.823Z"
   },
   {
    "duration": 22,
    "start_time": "2021-12-25T22:18:55.879Z"
   },
   {
    "duration": 15,
    "start_time": "2021-12-25T22:18:55.904Z"
   },
   {
    "duration": 14,
    "start_time": "2021-12-25T22:18:55.921Z"
   },
   {
    "duration": 32,
    "start_time": "2021-12-25T22:18:55.937Z"
   },
   {
    "duration": 11,
    "start_time": "2021-12-25T22:18:55.971Z"
   },
   {
    "duration": 5,
    "start_time": "2021-12-25T22:18:55.984Z"
   },
   {
    "duration": 23,
    "start_time": "2021-12-25T22:18:55.991Z"
   },
   {
    "duration": 4,
    "start_time": "2021-12-25T22:18:56.017Z"
   },
   {
    "duration": 54,
    "start_time": "2021-12-25T22:18:56.023Z"
   },
   {
    "duration": 25,
    "start_time": "2021-12-25T22:18:56.079Z"
   },
   {
    "duration": 26,
    "start_time": "2021-12-25T22:18:56.106Z"
   },
   {
    "duration": 18,
    "start_time": "2021-12-25T22:18:56.134Z"
   },
   {
    "duration": 4,
    "start_time": "2021-12-25T22:18:56.166Z"
   },
   {
    "duration": 18,
    "start_time": "2021-12-25T22:18:56.172Z"
   },
   {
    "duration": 24,
    "start_time": "2021-12-25T22:18:56.192Z"
   },
   {
    "duration": 11,
    "start_time": "2021-12-25T22:18:56.218Z"
   },
   {
    "duration": 45,
    "start_time": "2021-12-25T22:18:56.231Z"
   },
   {
    "duration": 10,
    "start_time": "2021-12-25T22:18:56.279Z"
   },
   {
    "duration": 10,
    "start_time": "2021-12-25T22:18:56.291Z"
   },
   {
    "duration": 7,
    "start_time": "2021-12-25T22:18:56.303Z"
   },
   {
    "duration": 58,
    "start_time": "2021-12-25T22:18:56.313Z"
   },
   {
    "duration": 10,
    "start_time": "2021-12-25T22:18:56.373Z"
   },
   {
    "duration": 8,
    "start_time": "2021-12-25T22:18:56.385Z"
   },
   {
    "duration": 39,
    "start_time": "2021-12-25T22:18:56.395Z"
   },
   {
    "duration": 53,
    "start_time": "2021-12-25T22:18:56.436Z"
   },
   {
    "duration": 42,
    "start_time": "2021-12-25T22:18:56.491Z"
   },
   {
    "duration": 716,
    "start_time": "2021-12-25T22:18:56.535Z"
   },
   {
    "duration": 41,
    "start_time": "2021-12-25T22:18:57.254Z"
   },
   {
    "duration": 31,
    "start_time": "2021-12-25T22:18:57.297Z"
   },
   {
    "duration": 395,
    "start_time": "2021-12-25T22:26:56.974Z"
   },
   {
    "duration": 297,
    "start_time": "2021-12-25T22:27:05.495Z"
   },
   {
    "duration": 296,
    "start_time": "2021-12-25T22:27:17.603Z"
   },
   {
    "duration": 299,
    "start_time": "2021-12-25T22:27:20.081Z"
   },
   {
    "duration": 5,
    "start_time": "2021-12-25T22:27:29.690Z"
   },
   {
    "duration": 32,
    "start_time": "2021-12-25T22:27:32.325Z"
   },
   {
    "duration": 35,
    "start_time": "2021-12-25T22:27:35.764Z"
   },
   {
    "duration": 44,
    "start_time": "2021-12-25T22:27:40.015Z"
   },
   {
    "duration": 24,
    "start_time": "2021-12-25T22:27:43.592Z"
   },
   {
    "duration": 34,
    "start_time": "2021-12-25T22:27:47.320Z"
   },
   {
    "duration": 31,
    "start_time": "2021-12-25T22:27:50.276Z"
   },
   {
    "duration": 33,
    "start_time": "2021-12-25T22:34:12.167Z"
   },
   {
    "duration": 41,
    "start_time": "2021-12-25T22:53:15.729Z"
   },
   {
    "duration": 86,
    "start_time": "2021-12-25T23:08:43.643Z"
   },
   {
    "duration": 39,
    "start_time": "2021-12-25T23:57:22.160Z"
   },
   {
    "duration": 56,
    "start_time": "2021-12-26T00:03:05.102Z"
   },
   {
    "duration": 826,
    "start_time": "2021-12-26T00:28:38.160Z"
   },
   {
    "duration": 67,
    "start_time": "2021-12-26T00:28:38.989Z"
   },
   {
    "duration": 35,
    "start_time": "2021-12-26T00:28:39.060Z"
   },
   {
    "duration": 15,
    "start_time": "2021-12-26T00:28:39.097Z"
   },
   {
    "duration": 14,
    "start_time": "2021-12-26T00:28:39.114Z"
   },
   {
    "duration": 44,
    "start_time": "2021-12-26T00:28:39.130Z"
   },
   {
    "duration": 12,
    "start_time": "2021-12-26T00:28:39.177Z"
   },
   {
    "duration": 6,
    "start_time": "2021-12-26T00:28:39.193Z"
   },
   {
    "duration": 269,
    "start_time": "2021-12-26T00:28:39.202Z"
   },
   {
    "duration": 12,
    "start_time": "2021-12-26T00:28:39.473Z"
   },
   {
    "duration": 18,
    "start_time": "2021-12-26T00:28:39.488Z"
   },
   {
    "duration": 23,
    "start_time": "2021-12-26T00:28:39.508Z"
   },
   {
    "duration": 62,
    "start_time": "2021-12-26T00:28:39.535Z"
   },
   {
    "duration": 22,
    "start_time": "2021-12-26T00:28:39.599Z"
   },
   {
    "duration": 43,
    "start_time": "2021-12-26T00:28:39.624Z"
   },
   {
    "duration": 30,
    "start_time": "2021-12-26T00:28:39.670Z"
   },
   {
    "duration": 16,
    "start_time": "2021-12-26T00:28:39.702Z"
   },
   {
    "duration": 14,
    "start_time": "2021-12-26T00:28:39.720Z"
   },
   {
    "duration": 7,
    "start_time": "2021-12-26T00:28:39.767Z"
   },
   {
    "duration": 20,
    "start_time": "2021-12-26T00:28:39.777Z"
   },
   {
    "duration": 8,
    "start_time": "2021-12-26T00:28:39.800Z"
   },
   {
    "duration": 17,
    "start_time": "2021-12-26T00:28:39.811Z"
   },
   {
    "duration": 24,
    "start_time": "2021-12-26T00:28:39.866Z"
   },
   {
    "duration": 27,
    "start_time": "2021-12-26T00:28:39.894Z"
   },
   {
    "duration": 55,
    "start_time": "2021-12-26T00:28:39.923Z"
   },
   {
    "duration": 10,
    "start_time": "2021-12-26T00:28:39.981Z"
   },
   {
    "duration": 32,
    "start_time": "2021-12-26T00:28:39.993Z"
   },
   {
    "duration": 10,
    "start_time": "2021-12-26T00:28:40.028Z"
   },
   {
    "duration": 40,
    "start_time": "2021-12-26T00:28:40.040Z"
   },
   {
    "duration": 12,
    "start_time": "2021-12-26T00:28:40.083Z"
   },
   {
    "duration": 13,
    "start_time": "2021-12-26T00:28:40.097Z"
   },
   {
    "duration": 15,
    "start_time": "2021-12-26T00:28:40.112Z"
   },
   {
    "duration": 38,
    "start_time": "2021-12-26T00:28:40.130Z"
   },
   {
    "duration": 8,
    "start_time": "2021-12-26T00:28:40.171Z"
   },
   {
    "duration": 6433,
    "start_time": "2021-12-26T00:28:40.182Z"
   },
   {
    "duration": 12,
    "start_time": "2021-12-26T00:28:46.619Z"
   },
   {
    "duration": 5,
    "start_time": "2021-12-26T00:28:46.634Z"
   },
   {
    "duration": 46,
    "start_time": "2021-12-26T00:28:46.641Z"
   },
   {
    "duration": 18,
    "start_time": "2021-12-26T00:28:46.689Z"
   },
   {
    "duration": 8,
    "start_time": "2021-12-26T00:28:46.709Z"
   },
   {
    "duration": 49,
    "start_time": "2021-12-26T00:28:46.719Z"
   },
   {
    "duration": 8,
    "start_time": "2021-12-26T00:28:46.771Z"
   },
   {
    "duration": 5,
    "start_time": "2021-12-26T00:28:46.781Z"
   },
   {
    "duration": 14,
    "start_time": "2021-12-26T00:28:46.789Z"
   },
   {
    "duration": 18,
    "start_time": "2021-12-26T00:28:46.806Z"
   },
   {
    "duration": 51,
    "start_time": "2021-12-26T00:28:46.827Z"
   },
   {
    "duration": 12,
    "start_time": "2021-12-26T00:28:46.881Z"
   },
   {
    "duration": 15,
    "start_time": "2021-12-26T00:28:46.896Z"
   },
   {
    "duration": 55,
    "start_time": "2021-12-26T00:28:46.914Z"
   },
   {
    "duration": 6,
    "start_time": "2021-12-26T00:28:46.972Z"
   },
   {
    "duration": 24,
    "start_time": "2021-12-26T00:28:46.981Z"
   },
   {
    "duration": 6,
    "start_time": "2021-12-26T00:28:47.008Z"
   },
   {
    "duration": 56,
    "start_time": "2021-12-26T00:28:47.017Z"
   },
   {
    "duration": 30,
    "start_time": "2021-12-26T00:28:47.075Z"
   },
   {
    "duration": 13,
    "start_time": "2021-12-26T00:28:47.108Z"
   },
   {
    "duration": 15,
    "start_time": "2021-12-26T00:28:47.124Z"
   },
   {
    "duration": 6,
    "start_time": "2021-12-26T00:28:47.168Z"
   },
   {
    "duration": 17,
    "start_time": "2021-12-26T00:28:47.177Z"
   },
   {
    "duration": 23,
    "start_time": "2021-12-26T00:28:47.197Z"
   },
   {
    "duration": 49,
    "start_time": "2021-12-26T00:28:47.223Z"
   },
   {
    "duration": 19,
    "start_time": "2021-12-26T00:28:47.275Z"
   },
   {
    "duration": 12,
    "start_time": "2021-12-26T00:28:47.296Z"
   },
   {
    "duration": 18,
    "start_time": "2021-12-26T00:28:47.311Z"
   },
   {
    "duration": 36,
    "start_time": "2021-12-26T00:28:47.331Z"
   },
   {
    "duration": 13,
    "start_time": "2021-12-26T00:28:47.370Z"
   },
   {
    "duration": 11,
    "start_time": "2021-12-26T00:28:47.386Z"
   },
   {
    "duration": 7,
    "start_time": "2021-12-26T00:28:47.400Z"
   },
   {
    "duration": 72,
    "start_time": "2021-12-26T00:28:47.417Z"
   },
   {
    "duration": 33,
    "start_time": "2021-12-26T00:28:47.492Z"
   },
   {
    "duration": 67,
    "start_time": "2021-12-26T00:28:47.527Z"
   },
   {
    "duration": 31,
    "start_time": "2021-12-26T00:28:47.596Z"
   },
   {
    "duration": 54,
    "start_time": "2021-12-26T00:28:47.630Z"
   },
   {
    "duration": 790,
    "start_time": "2021-12-26T21:40:57.241Z"
   },
   {
    "duration": 69,
    "start_time": "2021-12-26T21:40:58.033Z"
   },
   {
    "duration": 29,
    "start_time": "2021-12-26T21:40:58.104Z"
   },
   {
    "duration": 31,
    "start_time": "2021-12-26T21:40:58.136Z"
   },
   {
    "duration": 13,
    "start_time": "2021-12-26T21:40:58.169Z"
   },
   {
    "duration": 9,
    "start_time": "2021-12-26T21:40:58.185Z"
   },
   {
    "duration": 8,
    "start_time": "2021-12-26T21:40:58.196Z"
   },
   {
    "duration": 6,
    "start_time": "2021-12-26T21:40:58.208Z"
   },
   {
    "duration": 286,
    "start_time": "2021-12-26T21:40:58.217Z"
   },
   {
    "duration": 12,
    "start_time": "2021-12-26T21:40:58.506Z"
   },
   {
    "duration": 17,
    "start_time": "2021-12-26T21:40:58.520Z"
   },
   {
    "duration": 16,
    "start_time": "2021-12-26T21:40:58.563Z"
   },
   {
    "duration": 33,
    "start_time": "2021-12-26T21:40:58.582Z"
   },
   {
    "duration": 51,
    "start_time": "2021-12-26T21:40:58.617Z"
   },
   {
    "duration": 14,
    "start_time": "2021-12-26T21:40:58.671Z"
   },
   {
    "duration": 28,
    "start_time": "2021-12-26T21:40:58.688Z"
   },
   {
    "duration": 15,
    "start_time": "2021-12-26T21:40:58.718Z"
   },
   {
    "duration": 15,
    "start_time": "2021-12-26T21:40:58.764Z"
   },
   {
    "duration": 8,
    "start_time": "2021-12-26T21:40:58.781Z"
   },
   {
    "duration": 19,
    "start_time": "2021-12-26T21:40:58.791Z"
   },
   {
    "duration": 7,
    "start_time": "2021-12-26T21:40:58.812Z"
   },
   {
    "duration": 53,
    "start_time": "2021-12-26T21:40:58.821Z"
   },
   {
    "duration": 22,
    "start_time": "2021-12-26T21:40:58.880Z"
   },
   {
    "duration": 25,
    "start_time": "2021-12-26T21:40:58.906Z"
   },
   {
    "duration": 51,
    "start_time": "2021-12-26T21:40:58.933Z"
   },
   {
    "duration": 11,
    "start_time": "2021-12-26T21:40:58.987Z"
   },
   {
    "duration": 20,
    "start_time": "2021-12-26T21:40:59.000Z"
   },
   {
    "duration": 47,
    "start_time": "2021-12-26T21:40:59.023Z"
   },
   {
    "duration": 19,
    "start_time": "2021-12-26T21:40:59.074Z"
   },
   {
    "duration": 12,
    "start_time": "2021-12-26T21:40:59.095Z"
   },
   {
    "duration": 9,
    "start_time": "2021-12-26T21:40:59.110Z"
   },
   {
    "duration": 50,
    "start_time": "2021-12-26T21:40:59.122Z"
   },
   {
    "duration": 12,
    "start_time": "2021-12-26T21:40:59.175Z"
   },
   {
    "duration": 6,
    "start_time": "2021-12-26T21:40:59.190Z"
   },
   {
    "duration": 6279,
    "start_time": "2021-12-26T21:40:59.199Z"
   },
   {
    "duration": 11,
    "start_time": "2021-12-26T21:41:05.481Z"
   },
   {
    "duration": 5,
    "start_time": "2021-12-26T21:41:05.495Z"
   },
   {
    "duration": 21,
    "start_time": "2021-12-26T21:41:05.503Z"
   },
   {
    "duration": 48,
    "start_time": "2021-12-26T21:41:05.526Z"
   },
   {
    "duration": 8,
    "start_time": "2021-12-26T21:41:05.577Z"
   },
   {
    "duration": 12,
    "start_time": "2021-12-26T21:41:05.588Z"
   },
   {
    "duration": 8,
    "start_time": "2021-12-26T21:41:05.603Z"
   },
   {
    "duration": 4,
    "start_time": "2021-12-26T21:41:05.613Z"
   },
   {
    "duration": 11,
    "start_time": "2021-12-26T21:41:05.664Z"
   },
   {
    "duration": 19,
    "start_time": "2021-12-26T21:41:05.678Z"
   },
   {
    "duration": 14,
    "start_time": "2021-12-26T21:41:05.699Z"
   },
   {
    "duration": 10,
    "start_time": "2021-12-26T21:41:05.716Z"
   },
   {
    "duration": 46,
    "start_time": "2021-12-26T21:41:05.728Z"
   },
   {
    "duration": 10,
    "start_time": "2021-12-26T21:41:05.777Z"
   },
   {
    "duration": 4,
    "start_time": "2021-12-26T21:41:05.790Z"
   },
   {
    "duration": 22,
    "start_time": "2021-12-26T21:41:05.797Z"
   },
   {
    "duration": 42,
    "start_time": "2021-12-26T21:41:05.823Z"
   },
   {
    "duration": 18,
    "start_time": "2021-12-26T21:41:05.868Z"
   },
   {
    "duration": 21,
    "start_time": "2021-12-26T21:41:05.888Z"
   },
   {
    "duration": 51,
    "start_time": "2021-12-26T21:41:05.912Z"
   },
   {
    "duration": 13,
    "start_time": "2021-12-26T21:41:05.966Z"
   },
   {
    "duration": 5,
    "start_time": "2021-12-26T21:41:05.981Z"
   },
   {
    "duration": 16,
    "start_time": "2021-12-26T21:41:05.988Z"
   },
   {
    "duration": 57,
    "start_time": "2021-12-26T21:41:06.006Z"
   },
   {
    "duration": 10,
    "start_time": "2021-12-26T21:41:06.065Z"
   },
   {
    "duration": 18,
    "start_time": "2021-12-26T21:41:06.078Z"
   },
   {
    "duration": 12,
    "start_time": "2021-12-26T21:41:06.099Z"
   },
   {
    "duration": 17,
    "start_time": "2021-12-26T21:41:06.113Z"
   },
   {
    "duration": 32,
    "start_time": "2021-12-26T21:41:06.133Z"
   },
   {
    "duration": 11,
    "start_time": "2021-12-26T21:41:06.167Z"
   },
   {
    "duration": 14,
    "start_time": "2021-12-26T21:41:06.180Z"
   },
   {
    "duration": 7,
    "start_time": "2021-12-26T21:41:06.196Z"
   },
   {
    "duration": 70,
    "start_time": "2021-12-26T21:41:06.210Z"
   },
   {
    "duration": 36,
    "start_time": "2021-12-26T21:41:06.282Z"
   },
   {
    "duration": 62,
    "start_time": "2021-12-26T21:41:06.320Z"
   },
   {
    "duration": 34,
    "start_time": "2021-12-26T21:41:06.384Z"
   },
   {
    "duration": 58,
    "start_time": "2021-12-26T21:41:06.421Z"
   },
   {
    "duration": 19,
    "start_time": "2021-12-26T21:44:42.511Z"
   },
   {
    "duration": 20,
    "start_time": "2021-12-26T21:44:43.039Z"
   },
   {
    "duration": 19,
    "start_time": "2021-12-26T21:44:43.559Z"
   },
   {
    "duration": 12,
    "start_time": "2021-12-26T21:45:20.281Z"
   },
   {
    "duration": 46,
    "start_time": "2021-12-26T21:45:32.051Z"
   },
   {
    "duration": 20,
    "start_time": "2021-12-26T21:46:20.125Z"
   },
   {
    "duration": 16,
    "start_time": "2021-12-26T21:46:25.191Z"
   },
   {
    "duration": 234,
    "start_time": "2021-12-27T09:06:52.061Z"
   },
   {
    "duration": 59,
    "start_time": "2021-12-27T13:06:03.036Z"
   },
   {
    "duration": 792,
    "start_time": "2021-12-27T13:06:14.955Z"
   },
   {
    "duration": 599,
    "start_time": "2021-12-27T13:17:26.373Z"
   },
   {
    "duration": 50,
    "start_time": "2021-12-27T13:17:26.974Z"
   },
   {
    "duration": 27,
    "start_time": "2021-12-27T13:17:27.027Z"
   },
   {
    "duration": 11,
    "start_time": "2021-12-27T13:17:27.056Z"
   },
   {
    "duration": 26,
    "start_time": "2021-12-27T13:17:27.069Z"
   },
   {
    "duration": 8,
    "start_time": "2021-12-27T13:17:27.096Z"
   },
   {
    "duration": 7,
    "start_time": "2021-12-27T13:17:27.105Z"
   },
   {
    "duration": 4,
    "start_time": "2021-12-27T13:17:27.114Z"
   },
   {
    "duration": 171,
    "start_time": "2021-12-27T13:17:27.120Z"
   },
   {
    "duration": 9,
    "start_time": "2021-12-27T13:17:27.293Z"
   },
   {
    "duration": 17,
    "start_time": "2021-12-27T13:17:27.304Z"
   },
   {
    "duration": 14,
    "start_time": "2021-12-27T13:17:27.323Z"
   },
   {
    "duration": 28,
    "start_time": "2021-12-27T13:17:27.339Z"
   },
   {
    "duration": 32,
    "start_time": "2021-12-27T13:17:27.368Z"
   },
   {
    "duration": 9,
    "start_time": "2021-12-27T13:17:27.402Z"
   },
   {
    "duration": 17,
    "start_time": "2021-12-27T13:17:27.413Z"
   },
   {
    "duration": 9,
    "start_time": "2021-12-27T13:17:27.432Z"
   },
   {
    "duration": 9,
    "start_time": "2021-12-27T13:17:27.443Z"
   },
   {
    "duration": 38,
    "start_time": "2021-12-27T13:17:27.454Z"
   },
   {
    "duration": 14,
    "start_time": "2021-12-27T13:17:27.494Z"
   },
   {
    "duration": 6,
    "start_time": "2021-12-27T13:17:27.509Z"
   },
   {
    "duration": 13,
    "start_time": "2021-12-27T13:17:27.516Z"
   },
   {
    "duration": 15,
    "start_time": "2021-12-27T13:17:27.533Z"
   },
   {
    "duration": 53,
    "start_time": "2021-12-27T13:17:27.551Z"
   },
   {
    "duration": 17,
    "start_time": "2021-12-27T13:17:27.606Z"
   },
   {
    "duration": 7,
    "start_time": "2021-12-27T13:17:27.625Z"
   },
   {
    "duration": 13,
    "start_time": "2021-12-27T13:17:27.633Z"
   },
   {
    "duration": 11,
    "start_time": "2021-12-27T13:17:27.648Z"
   },
   {
    "duration": 37,
    "start_time": "2021-12-27T13:17:27.661Z"
   },
   {
    "duration": 8,
    "start_time": "2021-12-27T13:17:27.700Z"
   },
   {
    "duration": 7,
    "start_time": "2021-12-27T13:17:27.709Z"
   },
   {
    "duration": 9,
    "start_time": "2021-12-27T13:17:27.718Z"
   },
   {
    "duration": 5,
    "start_time": "2021-12-27T13:17:27.729Z"
   },
   {
    "duration": 4,
    "start_time": "2021-12-27T13:17:27.736Z"
   },
   {
    "duration": 5166,
    "start_time": "2021-12-27T13:17:27.741Z"
   },
   {
    "duration": 11,
    "start_time": "2021-12-27T13:17:32.910Z"
   },
   {
    "duration": 6,
    "start_time": "2021-12-27T13:17:32.922Z"
   },
   {
    "duration": 14,
    "start_time": "2021-12-27T13:17:32.929Z"
   },
   {
    "duration": 10,
    "start_time": "2021-12-27T13:17:32.945Z"
   },
   {
    "duration": 5,
    "start_time": "2021-12-27T13:17:32.956Z"
   },
   {
    "duration": 8,
    "start_time": "2021-12-27T13:17:32.991Z"
   },
   {
    "duration": 5,
    "start_time": "2021-12-27T13:17:33.001Z"
   },
   {
    "duration": 5,
    "start_time": "2021-12-27T13:17:33.008Z"
   },
   {
    "duration": 9,
    "start_time": "2021-12-27T13:17:33.015Z"
   },
   {
    "duration": 13,
    "start_time": "2021-12-27T13:17:33.025Z"
   },
   {
    "duration": 8,
    "start_time": "2021-12-27T13:17:33.039Z"
   },
   {
    "duration": 44,
    "start_time": "2021-12-27T13:17:33.049Z"
   },
   {
    "duration": 10,
    "start_time": "2021-12-27T13:17:33.095Z"
   },
   {
    "duration": 9,
    "start_time": "2021-12-27T13:17:33.107Z"
   },
   {
    "duration": 3,
    "start_time": "2021-12-27T13:17:33.118Z"
   },
   {
    "duration": 21,
    "start_time": "2021-12-27T13:17:33.123Z"
   },
   {
    "duration": 3,
    "start_time": "2021-12-27T13:17:33.146Z"
   },
   {
    "duration": 48,
    "start_time": "2021-12-27T13:17:33.151Z"
   },
   {
    "duration": 18,
    "start_time": "2021-12-27T13:17:33.201Z"
   },
   {
    "duration": 10,
    "start_time": "2021-12-27T13:17:33.221Z"
   },
   {
    "duration": 11,
    "start_time": "2021-12-27T13:17:33.233Z"
   },
   {
    "duration": 19,
    "start_time": "2021-12-27T13:17:33.245Z"
   },
   {
    "duration": 37,
    "start_time": "2021-12-27T13:17:33.266Z"
   },
   {
    "duration": 4,
    "start_time": "2021-12-27T13:17:33.305Z"
   },
   {
    "duration": 13,
    "start_time": "2021-12-27T13:17:33.311Z"
   },
   {
    "duration": 14,
    "start_time": "2021-12-27T13:17:33.325Z"
   },
   {
    "duration": 7,
    "start_time": "2021-12-27T13:17:33.341Z"
   },
   {
    "duration": 41,
    "start_time": "2021-12-27T13:17:33.350Z"
   },
   {
    "duration": 7,
    "start_time": "2021-12-27T13:17:33.393Z"
   },
   {
    "duration": 7,
    "start_time": "2021-12-27T13:17:33.401Z"
   },
   {
    "duration": 6,
    "start_time": "2021-12-27T13:17:33.409Z"
   },
   {
    "duration": 11,
    "start_time": "2021-12-27T13:17:33.416Z"
   },
   {
    "duration": 7,
    "start_time": "2021-12-27T13:17:33.433Z"
   },
   {
    "duration": 10,
    "start_time": "2021-12-27T13:17:33.442Z"
   },
   {
    "duration": 7,
    "start_time": "2021-12-27T13:17:33.454Z"
   },
   {
    "duration": 51,
    "start_time": "2021-12-27T13:17:33.462Z"
   },
   {
    "duration": 12,
    "start_time": "2021-12-27T13:17:33.514Z"
   },
   {
    "duration": 13,
    "start_time": "2021-12-27T13:17:33.528Z"
   },
   {
    "duration": 13,
    "start_time": "2021-12-27T13:17:33.543Z"
   },
   {
    "duration": 53,
    "start_time": "2021-12-27T13:17:33.558Z"
   },
   {
    "duration": 29,
    "start_time": "2021-12-27T13:17:33.613Z"
   },
   {
    "duration": 57,
    "start_time": "2021-12-27T13:17:33.644Z"
   },
   {
    "duration": 4257,
    "start_time": "2021-12-27T13:17:33.703Z"
   },
   {
    "duration": -1121,
    "start_time": "2021-12-27T13:17:39.083Z"
   },
   {
    "duration": -1130,
    "start_time": "2021-12-27T13:17:39.093Z"
   },
   {
    "duration": 4,
    "start_time": "2021-12-27T13:18:49.603Z"
   },
   {
    "duration": 5,
    "start_time": "2021-12-27T13:20:57.943Z"
   },
   {
    "duration": 4598,
    "start_time": "2021-12-27T13:22:45.188Z"
   },
   {
    "duration": 23,
    "start_time": "2021-12-27T13:29:14.558Z"
   },
   {
    "duration": 9,
    "start_time": "2021-12-27T13:29:23.058Z"
   },
   {
    "duration": 22,
    "start_time": "2021-12-27T13:29:50.186Z"
   },
   {
    "duration": 8,
    "start_time": "2021-12-27T13:29:59.829Z"
   },
   {
    "duration": 21,
    "start_time": "2021-12-27T13:30:03.631Z"
   },
   {
    "duration": 19,
    "start_time": "2021-12-27T13:30:35.813Z"
   },
   {
    "duration": 9,
    "start_time": "2021-12-27T13:32:22.253Z"
   },
   {
    "duration": 4522,
    "start_time": "2021-12-27T13:32:24.593Z"
   },
   {
    "duration": 8,
    "start_time": "2021-12-27T13:33:22.855Z"
   },
   {
    "duration": 20,
    "start_time": "2021-12-27T13:33:25.696Z"
   },
   {
    "duration": 10,
    "start_time": "2021-12-27T13:34:04.406Z"
   },
   {
    "duration": 25,
    "start_time": "2021-12-27T13:34:16.761Z"
   },
   {
    "duration": 181,
    "start_time": "2021-12-27T13:35:40.664Z"
   },
   {
    "duration": 194,
    "start_time": "2021-12-27T13:35:54.284Z"
   },
   {
    "duration": 9,
    "start_time": "2021-12-27T13:36:02.763Z"
   },
   {
    "duration": 56,
    "start_time": "2021-12-27T13:38:12.602Z"
   },
   {
    "duration": 66,
    "start_time": "2021-12-27T13:38:36.892Z"
   },
   {
    "duration": 61,
    "start_time": "2021-12-27T13:38:47.651Z"
   },
   {
    "duration": 8,
    "start_time": "2021-12-27T13:40:28.334Z"
   },
   {
    "duration": 22,
    "start_time": "2021-12-27T13:40:30.500Z"
   },
   {
    "duration": 7,
    "start_time": "2021-12-27T13:41:07.800Z"
   },
   {
    "duration": 19,
    "start_time": "2021-12-27T13:41:10.065Z"
   },
   {
    "duration": 9,
    "start_time": "2021-12-27T13:49:17.495Z"
   },
   {
    "duration": 4535,
    "start_time": "2021-12-27T13:49:23.756Z"
   },
   {
    "duration": 8,
    "start_time": "2021-12-27T13:53:19.912Z"
   },
   {
    "duration": 9,
    "start_time": "2021-12-27T13:53:26.156Z"
   },
   {
    "duration": 4557,
    "start_time": "2021-12-27T13:53:29.523Z"
   },
   {
    "duration": 8,
    "start_time": "2021-12-27T13:56:39.396Z"
   },
   {
    "duration": 20,
    "start_time": "2021-12-27T13:56:42.239Z"
   },
   {
    "duration": 9,
    "start_time": "2021-12-27T13:57:11.510Z"
   },
   {
    "duration": 20,
    "start_time": "2021-12-27T13:57:13.689Z"
   },
   {
    "duration": 32,
    "start_time": "2021-12-27T13:58:35.113Z"
   },
   {
    "duration": 8,
    "start_time": "2021-12-27T14:11:02.123Z"
   },
   {
    "duration": 20,
    "start_time": "2021-12-27T14:11:03.805Z"
   },
   {
    "duration": 580,
    "start_time": "2021-12-27T14:41:06.050Z"
   },
   {
    "duration": 52,
    "start_time": "2021-12-27T14:41:06.632Z"
   },
   {
    "duration": 22,
    "start_time": "2021-12-27T14:41:06.686Z"
   },
   {
    "duration": 13,
    "start_time": "2021-12-27T14:41:06.711Z"
   },
   {
    "duration": 10,
    "start_time": "2021-12-27T14:41:06.726Z"
   },
   {
    "duration": 7,
    "start_time": "2021-12-27T14:41:06.738Z"
   },
   {
    "duration": 6,
    "start_time": "2021-12-27T14:41:06.747Z"
   },
   {
    "duration": 35,
    "start_time": "2021-12-27T14:41:06.756Z"
   },
   {
    "duration": 156,
    "start_time": "2021-12-27T14:41:06.794Z"
   },
   {
    "duration": 8,
    "start_time": "2021-12-27T14:41:06.952Z"
   },
   {
    "duration": 10,
    "start_time": "2021-12-27T14:41:06.962Z"
   },
   {
    "duration": 27,
    "start_time": "2021-12-27T14:41:06.974Z"
   },
   {
    "duration": 27,
    "start_time": "2021-12-27T14:41:07.002Z"
   },
   {
    "duration": 15,
    "start_time": "2021-12-27T14:41:07.031Z"
   },
   {
    "duration": 10,
    "start_time": "2021-12-27T14:41:07.047Z"
   },
   {
    "duration": 42,
    "start_time": "2021-12-27T14:41:07.059Z"
   },
   {
    "duration": 11,
    "start_time": "2021-12-27T14:41:07.103Z"
   },
   {
    "duration": 10,
    "start_time": "2021-12-27T14:41:07.115Z"
   },
   {
    "duration": 5,
    "start_time": "2021-12-27T14:41:07.127Z"
   },
   {
    "duration": 15,
    "start_time": "2021-12-27T14:41:07.133Z"
   },
   {
    "duration": 6,
    "start_time": "2021-12-27T14:41:07.149Z"
   },
   {
    "duration": 40,
    "start_time": "2021-12-27T14:41:07.157Z"
   },
   {
    "duration": 15,
    "start_time": "2021-12-27T14:41:07.201Z"
   },
   {
    "duration": 18,
    "start_time": "2021-12-27T14:41:07.219Z"
   },
   {
    "duration": 16,
    "start_time": "2021-12-27T14:41:07.239Z"
   },
   {
    "duration": 7,
    "start_time": "2021-12-27T14:41:07.256Z"
   },
   {
    "duration": 12,
    "start_time": "2021-12-27T14:41:07.292Z"
   },
   {
    "duration": 10,
    "start_time": "2021-12-27T14:41:07.306Z"
   },
   {
    "duration": 13,
    "start_time": "2021-12-27T14:41:07.317Z"
   },
   {
    "duration": 9,
    "start_time": "2021-12-27T14:41:07.331Z"
   },
   {
    "duration": 7,
    "start_time": "2021-12-27T14:41:07.342Z"
   },
   {
    "duration": 40,
    "start_time": "2021-12-27T14:41:07.352Z"
   },
   {
    "duration": 5,
    "start_time": "2021-12-27T14:41:07.394Z"
   },
   {
    "duration": 4,
    "start_time": "2021-12-27T14:41:07.401Z"
   },
   {
    "duration": 4907,
    "start_time": "2021-12-27T14:41:07.407Z"
   },
   {
    "duration": 8,
    "start_time": "2021-12-27T14:41:12.316Z"
   },
   {
    "duration": 5,
    "start_time": "2021-12-27T14:41:12.325Z"
   },
   {
    "duration": 13,
    "start_time": "2021-12-27T14:41:12.332Z"
   },
   {
    "duration": 13,
    "start_time": "2021-12-27T14:41:12.346Z"
   },
   {
    "duration": 5,
    "start_time": "2021-12-27T14:41:12.360Z"
   },
   {
    "duration": 9,
    "start_time": "2021-12-27T14:41:12.391Z"
   },
   {
    "duration": 5,
    "start_time": "2021-12-27T14:41:12.401Z"
   },
   {
    "duration": 6,
    "start_time": "2021-12-27T14:41:12.407Z"
   },
   {
    "duration": 9,
    "start_time": "2021-12-27T14:41:12.414Z"
   },
   {
    "duration": 14,
    "start_time": "2021-12-27T14:41:12.424Z"
   },
   {
    "duration": 16,
    "start_time": "2021-12-27T14:41:12.440Z"
   },
   {
    "duration": 7,
    "start_time": "2021-12-27T14:41:12.457Z"
   },
   {
    "duration": 25,
    "start_time": "2021-12-27T14:41:12.466Z"
   },
   {
    "duration": 8,
    "start_time": "2021-12-27T14:41:12.493Z"
   },
   {
    "duration": 4,
    "start_time": "2021-12-27T14:41:12.502Z"
   },
   {
    "duration": 15,
    "start_time": "2021-12-27T14:41:12.507Z"
   },
   {
    "duration": 3,
    "start_time": "2021-12-27T14:41:12.523Z"
   },
   {
    "duration": 10,
    "start_time": "2021-12-27T14:41:12.528Z"
   },
   {
    "duration": 16,
    "start_time": "2021-12-27T14:41:12.539Z"
   },
   {
    "duration": 38,
    "start_time": "2021-12-27T14:41:12.557Z"
   },
   {
    "duration": 11,
    "start_time": "2021-12-27T14:41:12.597Z"
   },
   {
    "duration": 15,
    "start_time": "2021-12-27T14:41:12.609Z"
   },
   {
    "duration": 10,
    "start_time": "2021-12-27T14:41:12.625Z"
   },
   {
    "duration": 3,
    "start_time": "2021-12-27T14:41:12.636Z"
   },
   {
    "duration": 14,
    "start_time": "2021-12-27T14:41:12.641Z"
   },
   {
    "duration": 44,
    "start_time": "2021-12-27T14:41:12.656Z"
   },
   {
    "duration": 10,
    "start_time": "2021-12-27T14:41:12.702Z"
   },
   {
    "duration": 16,
    "start_time": "2021-12-27T14:41:12.713Z"
   },
   {
    "duration": 9,
    "start_time": "2021-12-27T14:41:12.730Z"
   },
   {
    "duration": 6,
    "start_time": "2021-12-27T14:41:12.741Z"
   },
   {
    "duration": 5,
    "start_time": "2021-12-27T14:41:12.749Z"
   },
   {
    "duration": 12,
    "start_time": "2021-12-27T14:41:12.755Z"
   },
   {
    "duration": 6,
    "start_time": "2021-12-27T14:41:12.794Z"
   },
   {
    "duration": 13,
    "start_time": "2021-12-27T14:41:12.802Z"
   },
   {
    "duration": 4,
    "start_time": "2021-12-27T14:41:12.817Z"
   },
   {
    "duration": 24,
    "start_time": "2021-12-27T14:41:12.823Z"
   },
   {
    "duration": 13,
    "start_time": "2021-12-27T14:41:12.848Z"
   },
   {
    "duration": 36,
    "start_time": "2021-12-27T14:41:12.862Z"
   },
   {
    "duration": 12,
    "start_time": "2021-12-27T14:41:12.899Z"
   },
   {
    "duration": 22,
    "start_time": "2021-12-27T14:41:12.912Z"
   },
   {
    "duration": 56,
    "start_time": "2021-12-27T14:41:12.936Z"
   },
   {
    "duration": 27,
    "start_time": "2021-12-27T14:41:12.994Z"
   },
   {
    "duration": 7,
    "start_time": "2021-12-27T14:41:13.022Z"
   },
   {
    "duration": 23,
    "start_time": "2021-12-27T14:41:13.031Z"
   },
   {
    "duration": 7,
    "start_time": "2021-12-27T14:41:13.056Z"
   },
   {
    "duration": 21,
    "start_time": "2021-12-27T14:41:13.091Z"
   },
   {
    "duration": 23,
    "start_time": "2021-12-27T14:41:13.114Z"
   },
   {
    "duration": 22,
    "start_time": "2021-12-27T14:41:13.138Z"
   },
   {
    "duration": 10,
    "start_time": "2021-12-27T15:15:07.755Z"
   },
   {
    "duration": 5693,
    "start_time": "2021-12-27T15:15:25.906Z"
   },
   {
    "duration": 736,
    "start_time": "2021-12-28T09:36:55.591Z"
   },
   {
    "duration": 65,
    "start_time": "2021-12-28T09:36:56.330Z"
   },
   {
    "duration": 29,
    "start_time": "2021-12-28T09:36:56.398Z"
   },
   {
    "duration": 31,
    "start_time": "2021-12-28T09:36:56.429Z"
   },
   {
    "duration": 12,
    "start_time": "2021-12-28T09:36:56.463Z"
   },
   {
    "duration": 10,
    "start_time": "2021-12-28T09:36:56.477Z"
   },
   {
    "duration": 7,
    "start_time": "2021-12-28T09:36:56.489Z"
   },
   {
    "duration": 5,
    "start_time": "2021-12-28T09:36:56.499Z"
   },
   {
    "duration": 265,
    "start_time": "2021-12-28T09:36:56.507Z"
   },
   {
    "duration": 12,
    "start_time": "2021-12-28T09:36:56.774Z"
   },
   {
    "duration": 16,
    "start_time": "2021-12-28T09:36:56.788Z"
   },
   {
    "duration": 17,
    "start_time": "2021-12-28T09:36:56.807Z"
   },
   {
    "duration": 34,
    "start_time": "2021-12-28T09:36:56.859Z"
   },
   {
    "duration": 20,
    "start_time": "2021-12-28T09:36:56.896Z"
   },
   {
    "duration": 42,
    "start_time": "2021-12-28T09:36:56.919Z"
   },
   {
    "duration": 28,
    "start_time": "2021-12-28T09:36:56.963Z"
   },
   {
    "duration": 14,
    "start_time": "2021-12-28T09:36:56.994Z"
   },
   {
    "duration": 12,
    "start_time": "2021-12-28T09:36:57.010Z"
   },
   {
    "duration": 37,
    "start_time": "2021-12-28T09:36:57.024Z"
   },
   {
    "duration": 18,
    "start_time": "2021-12-28T09:36:57.063Z"
   },
   {
    "duration": 10,
    "start_time": "2021-12-28T09:36:57.084Z"
   },
   {
    "duration": 21,
    "start_time": "2021-12-28T09:36:57.096Z"
   },
   {
    "duration": 46,
    "start_time": "2021-12-28T09:36:57.123Z"
   },
   {
    "duration": 25,
    "start_time": "2021-12-28T09:36:57.173Z"
   },
   {
    "duration": 23,
    "start_time": "2021-12-28T09:36:57.201Z"
   },
   {
    "duration": 35,
    "start_time": "2021-12-28T09:36:57.226Z"
   },
   {
    "duration": 18,
    "start_time": "2021-12-28T09:36:57.263Z"
   },
   {
    "duration": 9,
    "start_time": "2021-12-28T09:36:57.284Z"
   },
   {
    "duration": 18,
    "start_time": "2021-12-28T09:36:57.296Z"
   },
   {
    "duration": 52,
    "start_time": "2021-12-28T09:36:57.316Z"
   },
   {
    "duration": 11,
    "start_time": "2021-12-28T09:36:57.370Z"
   },
   {
    "duration": 9,
    "start_time": "2021-12-28T09:36:57.384Z"
   },
   {
    "duration": 11,
    "start_time": "2021-12-28T09:36:57.395Z"
   },
   {
    "duration": 4,
    "start_time": "2021-12-28T09:36:57.408Z"
   },
   {
    "duration": 7196,
    "start_time": "2021-12-28T09:36:57.415Z"
   },
   {
    "duration": 11,
    "start_time": "2021-12-28T09:37:04.613Z"
   },
   {
    "duration": 6,
    "start_time": "2021-12-28T09:37:04.626Z"
   },
   {
    "duration": 44,
    "start_time": "2021-12-28T09:37:04.635Z"
   },
   {
    "duration": 15,
    "start_time": "2021-12-28T09:37:04.682Z"
   },
   {
    "duration": 7,
    "start_time": "2021-12-28T09:37:04.700Z"
   },
   {
    "duration": 49,
    "start_time": "2021-12-28T09:37:04.710Z"
   },
   {
    "duration": 8,
    "start_time": "2021-12-28T09:37:04.761Z"
   },
   {
    "duration": 5,
    "start_time": "2021-12-28T09:37:04.771Z"
   },
   {
    "duration": 13,
    "start_time": "2021-12-28T09:37:04.779Z"
   },
   {
    "duration": 18,
    "start_time": "2021-12-28T09:37:04.794Z"
   },
   {
    "duration": 46,
    "start_time": "2021-12-28T09:37:04.814Z"
   },
   {
    "duration": 8,
    "start_time": "2021-12-28T09:37:04.863Z"
   },
   {
    "duration": 12,
    "start_time": "2021-12-28T09:37:04.873Z"
   },
   {
    "duration": 11,
    "start_time": "2021-12-28T09:37:04.888Z"
   },
   {
    "duration": 4,
    "start_time": "2021-12-28T09:37:04.901Z"
   },
   {
    "duration": 59,
    "start_time": "2021-12-28T09:37:04.907Z"
   },
   {
    "duration": 4,
    "start_time": "2021-12-28T09:37:04.968Z"
   },
   {
    "duration": 15,
    "start_time": "2021-12-28T09:37:04.975Z"
   },
   {
    "duration": 21,
    "start_time": "2021-12-28T09:37:04.992Z"
   },
   {
    "duration": 50,
    "start_time": "2021-12-28T09:37:05.016Z"
   },
   {
    "duration": 16,
    "start_time": "2021-12-28T09:37:05.068Z"
   },
   {
    "duration": 21,
    "start_time": "2021-12-28T09:37:05.088Z"
   },
   {
    "duration": 52,
    "start_time": "2021-12-28T09:37:05.111Z"
   },
   {
    "duration": 5,
    "start_time": "2021-12-28T09:37:05.165Z"
   },
   {
    "duration": 17,
    "start_time": "2021-12-28T09:37:05.172Z"
   },
   {
    "duration": 22,
    "start_time": "2021-12-28T09:37:05.191Z"
   },
   {
    "duration": 14,
    "start_time": "2021-12-28T09:37:05.216Z"
   },
   {
    "duration": 36,
    "start_time": "2021-12-28T09:37:05.232Z"
   },
   {
    "duration": 11,
    "start_time": "2021-12-28T09:37:05.270Z"
   },
   {
    "duration": 9,
    "start_time": "2021-12-28T09:37:05.284Z"
   },
   {
    "duration": 8,
    "start_time": "2021-12-28T09:37:05.295Z"
   },
   {
    "duration": 14,
    "start_time": "2021-12-28T09:37:05.306Z"
   },
   {
    "duration": 10,
    "start_time": "2021-12-28T09:37:05.359Z"
   },
   {
    "duration": 13,
    "start_time": "2021-12-28T09:37:05.371Z"
   },
   {
    "duration": 5,
    "start_time": "2021-12-28T09:37:05.386Z"
   },
   {
    "duration": 71,
    "start_time": "2021-12-28T09:37:05.393Z"
   },
   {
    "duration": 22,
    "start_time": "2021-12-28T09:37:05.467Z"
   },
   {
    "duration": 20,
    "start_time": "2021-12-28T09:37:05.491Z"
   },
   {
    "duration": 51,
    "start_time": "2021-12-28T09:37:05.513Z"
   },
   {
    "duration": 32,
    "start_time": "2021-12-28T09:37:05.566Z"
   },
   {
    "duration": 73,
    "start_time": "2021-12-28T09:37:05.600Z"
   },
   {
    "duration": 43,
    "start_time": "2021-12-28T09:37:05.675Z"
   },
   {
    "duration": 19,
    "start_time": "2021-12-28T09:37:07.901Z"
   },
   {
    "duration": 162,
    "start_time": "2021-12-28T09:38:30.649Z"
   },
   {
    "duration": 41,
    "start_time": "2021-12-28T09:38:32.696Z"
   },
   {
    "duration": 25,
    "start_time": "2021-12-28T09:39:24.731Z"
   },
   {
    "duration": 22,
    "start_time": "2021-12-28T09:40:00.495Z"
   },
   {
    "duration": 9,
    "start_time": "2021-12-28T09:41:10.014Z"
   },
   {
    "duration": 8,
    "start_time": "2021-12-28T09:41:45.444Z"
   },
   {
    "duration": 6,
    "start_time": "2021-12-28T09:41:55.315Z"
   },
   {
    "duration": 13,
    "start_time": "2021-12-28T09:42:04.191Z"
   },
   {
    "duration": 403,
    "start_time": "2022-07-25T13:49:56.056Z"
   },
   {
    "duration": 117,
    "start_time": "2022-07-25T13:49:56.460Z"
   },
   {
    "duration": 17,
    "start_time": "2022-07-25T13:49:56.578Z"
   },
   {
    "duration": 13,
    "start_time": "2022-07-25T13:49:56.597Z"
   },
   {
    "duration": 7,
    "start_time": "2022-07-25T13:49:56.612Z"
   },
   {
    "duration": 5,
    "start_time": "2022-07-25T13:49:56.621Z"
   },
   {
    "duration": 6,
    "start_time": "2022-07-25T13:49:56.627Z"
   },
   {
    "duration": 5,
    "start_time": "2022-07-25T13:49:56.634Z"
   },
   {
    "duration": 72,
    "start_time": "2022-07-25T13:49:56.641Z"
   },
   {
    "duration": 19,
    "start_time": "2022-07-25T13:49:56.715Z"
   },
   {
    "duration": 15,
    "start_time": "2022-07-25T13:49:56.735Z"
   },
   {
    "duration": 18,
    "start_time": "2022-07-25T13:49:56.751Z"
   },
   {
    "duration": 16,
    "start_time": "2022-07-25T13:49:56.771Z"
   },
   {
    "duration": 12,
    "start_time": "2022-07-25T13:49:56.789Z"
   },
   {
    "duration": 32,
    "start_time": "2022-07-25T13:49:56.802Z"
   },
   {
    "duration": 15,
    "start_time": "2022-07-25T13:49:56.835Z"
   },
   {
    "duration": 4,
    "start_time": "2022-07-25T13:49:56.851Z"
   },
   {
    "duration": 11,
    "start_time": "2022-07-25T13:49:56.857Z"
   },
   {
    "duration": 7,
    "start_time": "2022-07-25T13:49:56.869Z"
   },
   {
    "duration": 10,
    "start_time": "2022-07-25T13:49:56.877Z"
   },
   {
    "duration": 5,
    "start_time": "2022-07-25T13:49:56.889Z"
   },
   {
    "duration": 39,
    "start_time": "2022-07-25T13:49:56.895Z"
   },
   {
    "duration": 14,
    "start_time": "2022-07-25T13:49:56.935Z"
   },
   {
    "duration": 16,
    "start_time": "2022-07-25T13:49:56.950Z"
   },
   {
    "duration": 14,
    "start_time": "2022-07-25T13:49:56.968Z"
   },
   {
    "duration": 8,
    "start_time": "2022-07-25T13:49:56.983Z"
   },
   {
    "duration": 13,
    "start_time": "2022-07-25T13:49:56.992Z"
   },
   {
    "duration": 6,
    "start_time": "2022-07-25T13:49:57.031Z"
   },
   {
    "duration": 11,
    "start_time": "2022-07-25T13:49:57.039Z"
   },
   {
    "duration": 10,
    "start_time": "2022-07-25T13:49:57.051Z"
   },
   {
    "duration": 5,
    "start_time": "2022-07-25T13:49:57.062Z"
   },
   {
    "duration": 7,
    "start_time": "2022-07-25T13:49:57.069Z"
   },
   {
    "duration": 5,
    "start_time": "2022-07-25T13:49:57.077Z"
   },
   {
    "duration": 4,
    "start_time": "2022-07-25T13:49:57.083Z"
   },
   {
    "duration": 4376,
    "start_time": "2022-07-25T13:49:57.089Z"
   },
   {
    "duration": 6,
    "start_time": "2022-07-25T13:50:01.467Z"
   },
   {
    "duration": 20,
    "start_time": "2022-07-25T13:50:01.475Z"
   },
   {
    "duration": 19,
    "start_time": "2022-07-25T13:50:01.496Z"
   },
   {
    "duration": 10,
    "start_time": "2022-07-25T13:50:01.517Z"
   },
   {
    "duration": 5,
    "start_time": "2022-07-25T13:50:01.528Z"
   },
   {
    "duration": 6,
    "start_time": "2022-07-25T13:50:01.537Z"
   },
   {
    "duration": 9,
    "start_time": "2022-07-25T13:50:01.545Z"
   },
   {
    "duration": 10,
    "start_time": "2022-07-25T13:50:01.555Z"
   },
   {
    "duration": 17,
    "start_time": "2022-07-25T13:50:01.566Z"
   },
   {
    "duration": 13,
    "start_time": "2022-07-25T13:50:01.584Z"
   },
   {
    "duration": 13,
    "start_time": "2022-07-25T13:50:01.598Z"
   },
   {
    "duration": 13,
    "start_time": "2022-07-25T13:50:01.613Z"
   },
   {
    "duration": 8,
    "start_time": "2022-07-25T13:50:01.627Z"
   },
   {
    "duration": 10,
    "start_time": "2022-07-25T13:50:01.636Z"
   },
   {
    "duration": 11,
    "start_time": "2022-07-25T13:50:01.648Z"
   },
   {
    "duration": 39,
    "start_time": "2022-07-25T13:50:01.661Z"
   },
   {
    "duration": 3,
    "start_time": "2022-07-25T13:50:01.702Z"
   },
   {
    "duration": 9,
    "start_time": "2022-07-25T13:50:01.707Z"
   },
   {
    "duration": 18,
    "start_time": "2022-07-25T13:50:01.717Z"
   },
   {
    "duration": 8,
    "start_time": "2022-07-25T13:50:01.737Z"
   },
   {
    "duration": 17,
    "start_time": "2022-07-25T13:50:01.746Z"
   },
   {
    "duration": 23,
    "start_time": "2022-07-25T13:50:01.765Z"
   },
   {
    "duration": 9,
    "start_time": "2022-07-25T13:50:01.789Z"
   },
   {
    "duration": 3,
    "start_time": "2022-07-25T13:50:01.800Z"
   },
   {
    "duration": 13,
    "start_time": "2022-07-25T13:50:01.805Z"
   },
   {
    "duration": 21,
    "start_time": "2022-07-25T13:50:01.819Z"
   },
   {
    "duration": 8,
    "start_time": "2022-07-25T13:50:01.842Z"
   },
   {
    "duration": 15,
    "start_time": "2022-07-25T13:50:01.852Z"
   },
   {
    "duration": 6,
    "start_time": "2022-07-25T13:50:01.869Z"
   },
   {
    "duration": 14,
    "start_time": "2022-07-25T13:50:01.877Z"
   },
   {
    "duration": 14,
    "start_time": "2022-07-25T13:50:01.892Z"
   },
   {
    "duration": 25,
    "start_time": "2022-07-25T13:50:01.908Z"
   },
   {
    "duration": 9,
    "start_time": "2022-07-25T13:50:01.943Z"
   },
   {
    "duration": 46,
    "start_time": "2022-07-25T13:50:01.954Z"
   },
   {
    "duration": 6,
    "start_time": "2022-07-25T13:50:02.002Z"
   },
   {
    "duration": 23,
    "start_time": "2022-07-25T13:50:02.010Z"
   },
   {
    "duration": 19,
    "start_time": "2022-07-25T13:50:02.034Z"
   },
   {
    "duration": 33,
    "start_time": "2022-07-25T13:50:02.055Z"
   },
   {
    "duration": 23,
    "start_time": "2022-07-25T13:50:02.090Z"
   },
   {
    "duration": 20,
    "start_time": "2022-07-25T13:50:02.115Z"
   },
   {
    "duration": 28,
    "start_time": "2022-07-25T13:50:02.137Z"
   },
   {
    "duration": 25,
    "start_time": "2022-07-25T13:50:02.167Z"
   },
   {
    "duration": 38,
    "start_time": "2022-07-25T13:50:02.194Z"
   },
   {
    "duration": 27,
    "start_time": "2022-07-25T13:50:02.233Z"
   },
   {
    "duration": 11,
    "start_time": "2022-07-25T13:50:02.262Z"
   },
   {
    "duration": 13,
    "start_time": "2022-07-25T13:50:02.274Z"
   },
   {
    "duration": 10,
    "start_time": "2022-07-25T13:50:02.288Z"
   },
   {
    "duration": 11,
    "start_time": "2022-07-25T13:50:02.299Z"
   },
   {
    "duration": 21,
    "start_time": "2022-07-25T13:50:02.311Z"
   },
   {
    "duration": 7,
    "start_time": "2022-07-25T13:50:02.333Z"
   },
   {
    "duration": 29,
    "start_time": "2022-07-25T13:50:02.342Z"
   },
   {
    "duration": 17,
    "start_time": "2022-07-25T13:50:02.373Z"
   },
   {
    "duration": 16,
    "start_time": "2022-07-25T13:50:02.391Z"
   },
   {
    "duration": 373,
    "start_time": "2022-07-25T14:02:28.196Z"
   },
   {
    "duration": 62,
    "start_time": "2022-07-25T14:02:28.571Z"
   },
   {
    "duration": 17,
    "start_time": "2022-07-25T14:02:28.635Z"
   },
   {
    "duration": 12,
    "start_time": "2022-07-25T14:02:28.654Z"
   },
   {
    "duration": 8,
    "start_time": "2022-07-25T14:02:28.667Z"
   },
   {
    "duration": 6,
    "start_time": "2022-07-25T14:02:28.676Z"
   },
   {
    "duration": 5,
    "start_time": "2022-07-25T14:02:28.683Z"
   },
   {
    "duration": 5,
    "start_time": "2022-07-25T14:02:28.689Z"
   },
   {
    "duration": 110,
    "start_time": "2022-07-25T14:02:28.695Z"
   },
   {
    "duration": 8,
    "start_time": "2022-07-25T14:02:28.807Z"
   },
   {
    "duration": 10,
    "start_time": "2022-07-25T14:02:28.831Z"
   },
   {
    "duration": 10,
    "start_time": "2022-07-25T14:02:28.843Z"
   },
   {
    "duration": 17,
    "start_time": "2022-07-25T14:02:28.854Z"
   },
   {
    "duration": 13,
    "start_time": "2022-07-25T14:02:28.873Z"
   },
   {
    "duration": 45,
    "start_time": "2022-07-25T14:02:28.888Z"
   },
   {
    "duration": 18,
    "start_time": "2022-07-25T14:02:28.935Z"
   },
   {
    "duration": 5,
    "start_time": "2022-07-25T14:02:28.954Z"
   },
   {
    "duration": 13,
    "start_time": "2022-07-25T14:02:28.961Z"
   },
   {
    "duration": 7,
    "start_time": "2022-07-25T14:02:28.976Z"
   },
   {
    "duration": 11,
    "start_time": "2022-07-25T14:02:28.985Z"
   },
   {
    "duration": 5,
    "start_time": "2022-07-25T14:02:29.031Z"
   },
   {
    "duration": 31,
    "start_time": "2022-07-25T14:02:29.037Z"
   },
   {
    "duration": 24,
    "start_time": "2022-07-25T14:02:29.069Z"
   },
   {
    "duration": 18,
    "start_time": "2022-07-25T14:02:29.094Z"
   },
   {
    "duration": 24,
    "start_time": "2022-07-25T14:02:29.114Z"
   },
   {
    "duration": 6,
    "start_time": "2022-07-25T14:02:29.140Z"
   },
   {
    "duration": 15,
    "start_time": "2022-07-25T14:02:29.147Z"
   },
   {
    "duration": 6,
    "start_time": "2022-07-25T14:02:29.164Z"
   },
   {
    "duration": 20,
    "start_time": "2022-07-25T14:02:29.171Z"
   },
   {
    "duration": 10,
    "start_time": "2022-07-25T14:02:29.193Z"
   },
   {
    "duration": 30,
    "start_time": "2022-07-25T14:02:29.204Z"
   },
   {
    "duration": 16,
    "start_time": "2022-07-25T14:02:29.235Z"
   },
   {
    "duration": 15,
    "start_time": "2022-07-25T14:02:29.252Z"
   },
   {
    "duration": 7,
    "start_time": "2022-07-25T14:02:29.269Z"
   },
   {
    "duration": 4507,
    "start_time": "2022-07-25T14:02:29.277Z"
   },
   {
    "duration": 7,
    "start_time": "2022-07-25T14:02:33.786Z"
   },
   {
    "duration": 7,
    "start_time": "2022-07-25T14:02:33.794Z"
   },
   {
    "duration": 30,
    "start_time": "2022-07-25T14:02:33.802Z"
   },
   {
    "duration": 9,
    "start_time": "2022-07-25T14:02:33.833Z"
   },
   {
    "duration": 10,
    "start_time": "2022-07-25T14:02:33.843Z"
   },
   {
    "duration": 4,
    "start_time": "2022-07-25T14:02:33.858Z"
   },
   {
    "duration": 6,
    "start_time": "2022-07-25T14:02:33.863Z"
   },
   {
    "duration": 9,
    "start_time": "2022-07-25T14:02:33.870Z"
   },
   {
    "duration": 10,
    "start_time": "2022-07-25T14:02:33.880Z"
   },
   {
    "duration": 10,
    "start_time": "2022-07-25T14:02:33.891Z"
   },
   {
    "duration": 6,
    "start_time": "2022-07-25T14:02:33.931Z"
   },
   {
    "duration": 7,
    "start_time": "2022-07-25T14:02:33.939Z"
   },
   {
    "duration": 5,
    "start_time": "2022-07-25T14:02:33.948Z"
   },
   {
    "duration": 14,
    "start_time": "2022-07-25T14:02:33.955Z"
   },
   {
    "duration": 4,
    "start_time": "2022-07-25T14:02:33.971Z"
   },
   {
    "duration": 54,
    "start_time": "2022-07-25T14:02:33.977Z"
   },
   {
    "duration": 3,
    "start_time": "2022-07-25T14:02:34.033Z"
   },
   {
    "duration": 10,
    "start_time": "2022-07-25T14:02:34.037Z"
   },
   {
    "duration": 10,
    "start_time": "2022-07-25T14:02:34.049Z"
   },
   {
    "duration": 14,
    "start_time": "2022-07-25T14:02:34.061Z"
   },
   {
    "duration": 10,
    "start_time": "2022-07-25T14:02:34.077Z"
   },
   {
    "duration": 10,
    "start_time": "2022-07-25T14:02:34.089Z"
   },
   {
    "duration": 35,
    "start_time": "2022-07-25T14:02:34.101Z"
   },
   {
    "duration": 3,
    "start_time": "2022-07-25T14:02:34.138Z"
   },
   {
    "duration": 11,
    "start_time": "2022-07-25T14:02:34.142Z"
   },
   {
    "duration": 12,
    "start_time": "2022-07-25T14:02:34.154Z"
   },
   {
    "duration": 8,
    "start_time": "2022-07-25T14:02:34.168Z"
   },
   {
    "duration": 11,
    "start_time": "2022-07-25T14:02:34.177Z"
   },
   {
    "duration": 41,
    "start_time": "2022-07-25T14:02:34.190Z"
   },
   {
    "duration": 6,
    "start_time": "2022-07-25T14:02:34.233Z"
   },
   {
    "duration": 5,
    "start_time": "2022-07-25T14:02:34.241Z"
   },
   {
    "duration": 9,
    "start_time": "2022-07-25T14:02:34.248Z"
   },
   {
    "duration": 8,
    "start_time": "2022-07-25T14:02:34.258Z"
   },
   {
    "duration": 9,
    "start_time": "2022-07-25T14:02:34.267Z"
   },
   {
    "duration": 4,
    "start_time": "2022-07-25T14:02:34.278Z"
   },
   {
    "duration": 66,
    "start_time": "2022-07-25T14:02:34.284Z"
   },
   {
    "duration": 12,
    "start_time": "2022-07-25T14:02:34.351Z"
   },
   {
    "duration": 11,
    "start_time": "2022-07-25T14:02:34.364Z"
   },
   {
    "duration": 10,
    "start_time": "2022-07-25T14:02:34.376Z"
   },
   {
    "duration": 49,
    "start_time": "2022-07-25T14:02:34.388Z"
   },
   {
    "duration": 27,
    "start_time": "2022-07-25T14:02:34.438Z"
   },
   {
    "duration": 24,
    "start_time": "2022-07-25T14:02:34.467Z"
   },
   {
    "duration": 43,
    "start_time": "2022-07-25T14:02:34.492Z"
   },
   {
    "duration": 24,
    "start_time": "2022-07-25T14:02:34.537Z"
   },
   {
    "duration": 9,
    "start_time": "2022-07-25T14:02:34.562Z"
   },
   {
    "duration": 8,
    "start_time": "2022-07-25T14:02:34.572Z"
   },
   {
    "duration": 6,
    "start_time": "2022-07-25T14:02:34.581Z"
   },
   {
    "duration": 6,
    "start_time": "2022-07-25T14:02:34.589Z"
   },
   {
    "duration": 47,
    "start_time": "2022-07-25T14:02:34.596Z"
   },
   {
    "duration": 6,
    "start_time": "2022-07-25T14:02:34.645Z"
   },
   {
    "duration": 27,
    "start_time": "2022-07-25T14:02:34.652Z"
   },
   {
    "duration": 51,
    "start_time": "2022-07-25T14:02:34.681Z"
   },
   {
    "duration": 20,
    "start_time": "2022-07-25T14:02:34.734Z"
   },
   {
    "duration": 16,
    "start_time": "2022-07-25T14:17:59.266Z"
   },
   {
    "duration": 64,
    "start_time": "2022-07-25T14:18:00.935Z"
   },
   {
    "duration": 11,
    "start_time": "2022-07-25T14:18:02.395Z"
   },
   {
    "duration": 13,
    "start_time": "2022-07-25T14:18:03.527Z"
   },
   {
    "duration": 9,
    "start_time": "2022-07-25T14:18:05.135Z"
   },
   {
    "duration": 7,
    "start_time": "2022-07-25T14:18:05.815Z"
   },
   {
    "duration": 5,
    "start_time": "2022-07-25T14:18:06.923Z"
   },
   {
    "duration": 5,
    "start_time": "2022-07-25T14:18:07.155Z"
   },
   {
    "duration": 76,
    "start_time": "2022-07-25T14:18:08.055Z"
   },
   {
    "duration": 9,
    "start_time": "2022-07-25T14:18:09.236Z"
   },
   {
    "duration": 11,
    "start_time": "2022-07-25T14:18:10.281Z"
   },
   {
    "duration": 9,
    "start_time": "2022-07-25T14:18:11.026Z"
   },
   {
    "duration": 18,
    "start_time": "2022-07-25T14:18:11.975Z"
   },
   {
    "duration": 14,
    "start_time": "2022-07-25T14:18:12.795Z"
   },
   {
    "duration": 11,
    "start_time": "2022-07-25T14:18:14.283Z"
   },
   {
    "duration": 16,
    "start_time": "2022-07-25T14:18:15.076Z"
   },
   {
    "duration": 5,
    "start_time": "2022-07-25T14:18:15.767Z"
   },
   {
    "duration": 10,
    "start_time": "2022-07-25T14:18:16.634Z"
   },
   {
    "duration": 10,
    "start_time": "2022-07-25T14:18:18.495Z"
   },
   {
    "duration": 11,
    "start_time": "2022-07-25T14:18:19.856Z"
   },
   {
    "duration": 5,
    "start_time": "2022-07-25T14:18:23.004Z"
   },
   {
    "duration": 15,
    "start_time": "2022-07-25T14:18:23.863Z"
   },
   {
    "duration": 13,
    "start_time": "2022-07-25T14:26:37.095Z"
   },
   {
    "duration": 17,
    "start_time": "2022-07-25T14:26:55.000Z"
   },
   {
    "duration": 19,
    "start_time": "2022-07-25T14:26:56.587Z"
   },
   {
    "duration": 19,
    "start_time": "2022-07-25T14:26:57.648Z"
   },
   {
    "duration": 6,
    "start_time": "2022-07-25T14:27:01.595Z"
   },
   {
    "duration": 12,
    "start_time": "2022-07-25T14:27:07.255Z"
   },
   {
    "duration": 6,
    "start_time": "2022-07-25T14:27:08.615Z"
   },
   {
    "duration": 10,
    "start_time": "2022-07-25T14:27:09.755Z"
   },
   {
    "duration": 8,
    "start_time": "2022-07-25T14:28:55.549Z"
   },
   {
    "duration": 6,
    "start_time": "2022-07-25T14:28:57.027Z"
   },
   {
    "duration": 6,
    "start_time": "2022-07-25T14:28:59.018Z"
   },
   {
    "duration": 5,
    "start_time": "2022-07-25T14:29:06.543Z"
   },
   {
    "duration": 4479,
    "start_time": "2022-07-25T14:29:08.975Z"
   },
   {
    "duration": 7,
    "start_time": "2022-07-25T14:29:16.163Z"
   },
   {
    "duration": 4,
    "start_time": "2022-07-25T14:29:20.796Z"
   },
   {
    "duration": 11,
    "start_time": "2022-07-25T14:29:24.215Z"
   },
   {
    "duration": 10,
    "start_time": "2022-07-25T14:34:41.823Z"
   },
   {
    "duration": 10,
    "start_time": "2022-07-25T14:34:44.067Z"
   },
   {
    "duration": 6,
    "start_time": "2022-07-25T14:34:57.804Z"
   },
   {
    "duration": 5,
    "start_time": "2022-07-25T14:37:32.523Z"
   },
   {
    "duration": 5,
    "start_time": "2022-07-25T14:37:33.919Z"
   },
   {
    "duration": 3,
    "start_time": "2022-07-25T14:37:40.294Z"
   },
   {
    "duration": 6,
    "start_time": "2022-07-25T14:37:43.195Z"
   },
   {
    "duration": 11,
    "start_time": "2022-07-25T14:53:47.928Z"
   },
   {
    "duration": 6,
    "start_time": "2022-07-25T14:53:52.389Z"
   },
   {
    "duration": 6,
    "start_time": "2022-07-25T14:53:55.789Z"
   },
   {
    "duration": 6,
    "start_time": "2022-07-25T14:53:57.827Z"
   },
   {
    "duration": 7,
    "start_time": "2022-07-25T14:54:01.276Z"
   },
   {
    "duration": 4,
    "start_time": "2022-07-25T14:54:02.781Z"
   },
   {
    "duration": 14,
    "start_time": "2022-07-25T14:54:05.804Z"
   },
   {
    "duration": 3,
    "start_time": "2022-07-25T14:54:10.099Z"
   },
   {
    "duration": 7,
    "start_time": "2022-07-25T14:54:12.580Z"
   },
   {
    "duration": 11,
    "start_time": "2022-07-25T14:54:16.282Z"
   },
   {
    "duration": 6,
    "start_time": "2022-07-25T14:54:20.480Z"
   },
   {
    "duration": 8,
    "start_time": "2022-07-25T14:54:25.612Z"
   },
   {
    "duration": 7,
    "start_time": "2022-07-25T14:54:35.545Z"
   },
   {
    "duration": 15,
    "start_time": "2022-07-25T14:54:49.261Z"
   },
   {
    "duration": 7,
    "start_time": "2022-07-25T14:56:05.000Z"
   },
   {
    "duration": 15,
    "start_time": "2022-07-25T14:56:25.312Z"
   },
   {
    "duration": 5,
    "start_time": "2022-07-25T14:57:27.091Z"
   },
   {
    "duration": 13,
    "start_time": "2022-07-25T15:01:55.981Z"
   },
   {
    "duration": 13,
    "start_time": "2022-07-25T15:02:32.952Z"
   },
   {
    "duration": 11,
    "start_time": "2022-07-25T15:09:58.932Z"
   },
   {
    "duration": 8,
    "start_time": "2022-07-25T15:10:10.614Z"
   },
   {
    "duration": 6,
    "start_time": "2022-07-25T15:10:28.230Z"
   },
   {
    "duration": 94,
    "start_time": "2022-07-25T15:26:41.464Z"
   },
   {
    "duration": 3,
    "start_time": "2022-07-25T15:26:51.478Z"
   },
   {
    "duration": 392,
    "start_time": "2022-07-25T15:27:01.385Z"
   },
   {
    "duration": 3,
    "start_time": "2022-07-25T15:27:12.525Z"
   },
   {
    "duration": 25,
    "start_time": "2022-07-25T15:27:14.607Z"
   },
   {
    "duration": 4,
    "start_time": "2022-07-25T15:27:20.510Z"
   },
   {
    "duration": 16,
    "start_time": "2022-07-25T15:27:22.480Z"
   },
   {
    "duration": 4,
    "start_time": "2022-07-25T15:27:34.376Z"
   },
   {
    "duration": 20,
    "start_time": "2022-07-25T15:27:36.567Z"
   },
   {
    "duration": 3,
    "start_time": "2022-07-25T15:27:43.165Z"
   },
   {
    "duration": 17,
    "start_time": "2022-07-25T15:27:45.312Z"
   },
   {
    "duration": 4,
    "start_time": "2022-07-25T15:27:52.709Z"
   },
   {
    "duration": 20,
    "start_time": "2022-07-25T15:27:54.669Z"
   },
   {
    "duration": 3,
    "start_time": "2022-07-25T15:28:03.638Z"
   },
   {
    "duration": 15,
    "start_time": "2022-07-25T15:28:05.487Z"
   },
   {
    "duration": 3,
    "start_time": "2022-07-25T15:28:25.457Z"
   },
   {
    "duration": 19,
    "start_time": "2022-07-25T15:28:28.638Z"
   },
   {
    "duration": 362,
    "start_time": "2022-07-25T15:28:51.150Z"
   },
   {
    "duration": 64,
    "start_time": "2022-07-25T15:28:51.513Z"
   },
   {
    "duration": 17,
    "start_time": "2022-07-25T15:28:51.579Z"
   },
   {
    "duration": 12,
    "start_time": "2022-07-25T15:28:51.598Z"
   },
   {
    "duration": 7,
    "start_time": "2022-07-25T15:28:51.612Z"
   },
   {
    "duration": 14,
    "start_time": "2022-07-25T15:28:51.621Z"
   },
   {
    "duration": 7,
    "start_time": "2022-07-25T15:28:51.636Z"
   },
   {
    "duration": 4,
    "start_time": "2022-07-25T15:28:51.645Z"
   },
   {
    "duration": 92,
    "start_time": "2022-07-25T15:28:51.650Z"
   },
   {
    "duration": 9,
    "start_time": "2022-07-25T15:28:51.743Z"
   },
   {
    "duration": 11,
    "start_time": "2022-07-25T15:28:51.754Z"
   },
   {
    "duration": 12,
    "start_time": "2022-07-25T15:28:51.766Z"
   },
   {
    "duration": 18,
    "start_time": "2022-07-25T15:28:51.780Z"
   },
   {
    "duration": 14,
    "start_time": "2022-07-25T15:28:51.830Z"
   },
   {
    "duration": 10,
    "start_time": "2022-07-25T15:28:51.846Z"
   },
   {
    "duration": 16,
    "start_time": "2022-07-25T15:28:51.857Z"
   },
   {
    "duration": 6,
    "start_time": "2022-07-25T15:28:51.874Z"
   },
   {
    "duration": 12,
    "start_time": "2022-07-25T15:28:51.881Z"
   },
   {
    "duration": 36,
    "start_time": "2022-07-25T15:28:51.895Z"
   },
   {
    "duration": 11,
    "start_time": "2022-07-25T15:28:51.933Z"
   },
   {
    "duration": 5,
    "start_time": "2022-07-25T15:28:51.946Z"
   },
   {
    "duration": 16,
    "start_time": "2022-07-25T15:28:51.952Z"
   },
   {
    "duration": 15,
    "start_time": "2022-07-25T15:28:51.970Z"
   },
   {
    "duration": 16,
    "start_time": "2022-07-25T15:28:51.987Z"
   },
   {
    "duration": 16,
    "start_time": "2022-07-25T15:28:52.030Z"
   },
   {
    "duration": 6,
    "start_time": "2022-07-25T15:28:52.047Z"
   },
   {
    "duration": 12,
    "start_time": "2022-07-25T15:28:52.055Z"
   },
   {
    "duration": 6,
    "start_time": "2022-07-25T15:28:52.068Z"
   },
   {
    "duration": 13,
    "start_time": "2022-07-25T15:28:52.076Z"
   },
   {
    "duration": 8,
    "start_time": "2022-07-25T15:28:52.090Z"
   },
   {
    "duration": 33,
    "start_time": "2022-07-25T15:28:52.099Z"
   },
   {
    "duration": 8,
    "start_time": "2022-07-25T15:28:52.133Z"
   },
   {
    "duration": 5,
    "start_time": "2022-07-25T15:28:52.142Z"
   },
   {
    "duration": 4304,
    "start_time": "2022-07-25T15:28:52.148Z"
   },
   {
    "duration": 7,
    "start_time": "2022-07-25T15:28:56.454Z"
   },
   {
    "duration": 7,
    "start_time": "2022-07-25T15:28:56.463Z"
   },
   {
    "duration": 20,
    "start_time": "2022-07-25T15:28:56.472Z"
   },
   {
    "duration": 16,
    "start_time": "2022-07-25T15:28:56.493Z"
   },
   {
    "duration": 10,
    "start_time": "2022-07-25T15:28:56.510Z"
   },
   {
    "duration": 21,
    "start_time": "2022-07-25T15:28:56.522Z"
   },
   {
    "duration": 20,
    "start_time": "2022-07-25T15:28:56.547Z"
   },
   {
    "duration": 5,
    "start_time": "2022-07-25T15:28:56.568Z"
   },
   {
    "duration": 14,
    "start_time": "2022-07-25T15:28:56.574Z"
   },
   {
    "duration": 14,
    "start_time": "2022-07-25T15:28:56.590Z"
   },
   {
    "duration": 8,
    "start_time": "2022-07-25T15:28:56.606Z"
   },
   {
    "duration": 9,
    "start_time": "2022-07-25T15:28:56.615Z"
   },
   {
    "duration": 5,
    "start_time": "2022-07-25T15:28:56.626Z"
   },
   {
    "duration": 8,
    "start_time": "2022-07-25T15:28:56.632Z"
   },
   {
    "duration": 3,
    "start_time": "2022-07-25T15:28:56.642Z"
   },
   {
    "duration": 21,
    "start_time": "2022-07-25T15:28:56.646Z"
   },
   {
    "duration": 8,
    "start_time": "2022-07-25T15:28:56.668Z"
   },
   {
    "duration": 12,
    "start_time": "2022-07-25T15:28:56.677Z"
   },
   {
    "duration": 12,
    "start_time": "2022-07-25T15:28:56.691Z"
   },
   {
    "duration": 7,
    "start_time": "2022-07-25T15:28:56.705Z"
   },
   {
    "duration": 23,
    "start_time": "2022-07-25T15:28:56.714Z"
   },
   {
    "duration": 6,
    "start_time": "2022-07-25T15:28:56.738Z"
   },
   {
    "duration": 12,
    "start_time": "2022-07-25T15:28:56.746Z"
   },
   {
    "duration": 4,
    "start_time": "2022-07-25T15:28:56.759Z"
   },
   {
    "duration": 14,
    "start_time": "2022-07-25T15:28:56.764Z"
   },
   {
    "duration": 6,
    "start_time": "2022-07-25T15:28:56.780Z"
   },
   {
    "duration": 6,
    "start_time": "2022-07-25T15:28:56.787Z"
   },
   {
    "duration": 15,
    "start_time": "2022-07-25T15:28:56.794Z"
   },
   {
    "duration": 7,
    "start_time": "2022-07-25T15:28:56.831Z"
   },
   {
    "duration": 9,
    "start_time": "2022-07-25T15:28:56.839Z"
   },
   {
    "duration": 21,
    "start_time": "2022-07-25T15:28:56.849Z"
   },
   {
    "duration": 17,
    "start_time": "2022-07-25T15:28:56.871Z"
   },
   {
    "duration": 11,
    "start_time": "2022-07-25T15:28:56.889Z"
   },
   {
    "duration": 31,
    "start_time": "2022-07-25T15:28:56.901Z"
   },
   {
    "duration": 19,
    "start_time": "2022-07-25T15:28:56.933Z"
   },
   {
    "duration": 27,
    "start_time": "2022-07-25T15:28:56.953Z"
   },
   {
    "duration": 8,
    "start_time": "2022-07-25T15:28:56.981Z"
   },
   {
    "duration": 44,
    "start_time": "2022-07-25T15:28:56.990Z"
   },
   {
    "duration": 7,
    "start_time": "2022-07-25T15:28:57.035Z"
   },
   {
    "duration": 17,
    "start_time": "2022-07-25T15:28:57.043Z"
   },
   {
    "duration": 18,
    "start_time": "2022-07-25T15:28:57.062Z"
   },
   {
    "duration": 18,
    "start_time": "2022-07-25T15:28:57.081Z"
   },
   {
    "duration": 388,
    "start_time": "2022-07-25T16:09:56.006Z"
   },
   {
    "duration": 68,
    "start_time": "2022-07-25T16:09:56.396Z"
   },
   {
    "duration": 18,
    "start_time": "2022-07-25T16:09:56.465Z"
   },
   {
    "duration": 13,
    "start_time": "2022-07-25T16:09:56.485Z"
   },
   {
    "duration": 35,
    "start_time": "2022-07-25T16:09:56.500Z"
   },
   {
    "duration": 7,
    "start_time": "2022-07-25T16:09:56.536Z"
   },
   {
    "duration": 6,
    "start_time": "2022-07-25T16:09:56.544Z"
   },
   {
    "duration": 6,
    "start_time": "2022-07-25T16:09:56.551Z"
   },
   {
    "duration": 107,
    "start_time": "2022-07-25T16:09:56.558Z"
   },
   {
    "duration": 9,
    "start_time": "2022-07-25T16:09:56.666Z"
   },
   {
    "duration": 11,
    "start_time": "2022-07-25T16:09:56.676Z"
   },
   {
    "duration": 13,
    "start_time": "2022-07-25T16:09:56.689Z"
   },
   {
    "duration": 43,
    "start_time": "2022-07-25T16:09:56.703Z"
   },
   {
    "duration": 13,
    "start_time": "2022-07-25T16:09:56.748Z"
   },
   {
    "duration": 11,
    "start_time": "2022-07-25T16:09:56.763Z"
   },
   {
    "duration": 17,
    "start_time": "2022-07-25T16:09:56.775Z"
   },
   {
    "duration": 37,
    "start_time": "2022-07-25T16:09:56.794Z"
   },
   {
    "duration": 14,
    "start_time": "2022-07-25T16:09:56.833Z"
   },
   {
    "duration": 10,
    "start_time": "2022-07-25T16:09:56.848Z"
   },
   {
    "duration": 15,
    "start_time": "2022-07-25T16:09:56.860Z"
   },
   {
    "duration": 7,
    "start_time": "2022-07-25T16:09:56.877Z"
   },
   {
    "duration": 53,
    "start_time": "2022-07-25T16:09:56.885Z"
   },
   {
    "duration": 21,
    "start_time": "2022-07-25T16:09:56.940Z"
   },
   {
    "duration": 19,
    "start_time": "2022-07-25T16:09:56.963Z"
   },
   {
    "duration": 17,
    "start_time": "2022-07-25T16:09:56.984Z"
   },
   {
    "duration": 8,
    "start_time": "2022-07-25T16:09:57.030Z"
   },
   {
    "duration": 23,
    "start_time": "2022-07-25T16:09:57.040Z"
   },
   {
    "duration": 10,
    "start_time": "2022-07-25T16:09:57.065Z"
   },
   {
    "duration": 10,
    "start_time": "2022-07-25T16:09:57.077Z"
   },
   {
    "duration": 10,
    "start_time": "2022-07-25T16:09:57.089Z"
   },
   {
    "duration": 33,
    "start_time": "2022-07-25T16:09:57.101Z"
   },
   {
    "duration": 9,
    "start_time": "2022-07-25T16:09:57.136Z"
   },
   {
    "duration": 6,
    "start_time": "2022-07-25T16:09:57.146Z"
   },
   {
    "duration": 5147,
    "start_time": "2022-07-25T16:09:57.153Z"
   },
   {
    "duration": 7,
    "start_time": "2022-07-25T16:10:02.302Z"
   },
   {
    "duration": 23,
    "start_time": "2022-07-25T16:10:02.311Z"
   },
   {
    "duration": 25,
    "start_time": "2022-07-25T16:10:02.336Z"
   },
   {
    "duration": 50,
    "start_time": "2022-07-25T16:10:02.363Z"
   },
   {
    "duration": 49,
    "start_time": "2022-07-25T16:10:02.415Z"
   },
   {
    "duration": 17,
    "start_time": "2022-07-25T16:10:02.465Z"
   },
   {
    "duration": 6,
    "start_time": "2022-07-25T16:10:02.486Z"
   },
   {
    "duration": 9,
    "start_time": "2022-07-25T16:10:02.493Z"
   },
   {
    "duration": 15,
    "start_time": "2022-07-25T16:10:02.503Z"
   },
   {
    "duration": 23,
    "start_time": "2022-07-25T16:10:02.520Z"
   },
   {
    "duration": 23,
    "start_time": "2022-07-25T16:10:02.545Z"
   },
   {
    "duration": 17,
    "start_time": "2022-07-25T16:10:02.569Z"
   },
   {
    "duration": 7,
    "start_time": "2022-07-25T16:10:02.588Z"
   },
   {
    "duration": 10,
    "start_time": "2022-07-25T16:10:02.597Z"
   },
   {
    "duration": 5,
    "start_time": "2022-07-25T16:10:02.609Z"
   },
   {
    "duration": 61,
    "start_time": "2022-07-25T16:10:02.615Z"
   },
   {
    "duration": 14,
    "start_time": "2022-07-25T16:10:02.678Z"
   },
   {
    "duration": 23,
    "start_time": "2022-07-25T16:10:02.693Z"
   },
   {
    "duration": 20,
    "start_time": "2022-07-25T16:10:02.718Z"
   },
   {
    "duration": 13,
    "start_time": "2022-07-25T16:10:02.739Z"
   },
   {
    "duration": 13,
    "start_time": "2022-07-25T16:10:02.753Z"
   },
   {
    "duration": 6,
    "start_time": "2022-07-25T16:10:02.768Z"
   },
   {
    "duration": 16,
    "start_time": "2022-07-25T16:10:02.776Z"
   },
   {
    "duration": 39,
    "start_time": "2022-07-25T16:10:02.794Z"
   },
   {
    "duration": 18,
    "start_time": "2022-07-25T16:10:02.835Z"
   },
   {
    "duration": 15,
    "start_time": "2022-07-25T16:10:02.854Z"
   },
   {
    "duration": 6,
    "start_time": "2022-07-25T16:10:02.871Z"
   },
   {
    "duration": 15,
    "start_time": "2022-07-25T16:10:02.879Z"
   },
   {
    "duration": 6,
    "start_time": "2022-07-25T16:10:02.895Z"
   },
   {
    "duration": 29,
    "start_time": "2022-07-25T16:10:02.902Z"
   },
   {
    "duration": 41,
    "start_time": "2022-07-25T16:10:02.933Z"
   },
   {
    "duration": 29,
    "start_time": "2022-07-25T16:10:02.976Z"
   },
   {
    "duration": 41,
    "start_time": "2022-07-25T16:10:03.007Z"
   },
   {
    "duration": 7,
    "start_time": "2022-07-25T16:10:03.050Z"
   },
   {
    "duration": 30,
    "start_time": "2022-07-25T16:10:03.058Z"
   },
   {
    "duration": 8,
    "start_time": "2022-07-25T16:10:03.090Z"
   },
   {
    "duration": 40,
    "start_time": "2022-07-25T16:10:03.100Z"
   },
   {
    "duration": 18,
    "start_time": "2022-07-25T16:10:03.142Z"
   },
   {
    "duration": 18,
    "start_time": "2022-07-25T16:10:03.161Z"
   },
   {
    "duration": 354,
    "start_time": "2022-07-25T16:17:16.267Z"
   },
   {
    "duration": 64,
    "start_time": "2022-07-25T16:17:16.623Z"
   },
   {
    "duration": 17,
    "start_time": "2022-07-25T16:17:16.688Z"
   },
   {
    "duration": 15,
    "start_time": "2022-07-25T16:17:16.706Z"
   },
   {
    "duration": 13,
    "start_time": "2022-07-25T16:17:16.722Z"
   },
   {
    "duration": 6,
    "start_time": "2022-07-25T16:17:16.736Z"
   },
   {
    "duration": 7,
    "start_time": "2022-07-25T16:17:16.744Z"
   },
   {
    "duration": 4,
    "start_time": "2022-07-25T16:17:16.753Z"
   },
   {
    "duration": 104,
    "start_time": "2022-07-25T16:17:16.758Z"
   },
   {
    "duration": 9,
    "start_time": "2022-07-25T16:17:16.865Z"
   },
   {
    "duration": 14,
    "start_time": "2022-07-25T16:17:16.875Z"
   },
   {
    "duration": 15,
    "start_time": "2022-07-25T16:17:16.891Z"
   },
   {
    "duration": 36,
    "start_time": "2022-07-25T16:17:16.907Z"
   },
   {
    "duration": 12,
    "start_time": "2022-07-25T16:17:16.944Z"
   },
   {
    "duration": 10,
    "start_time": "2022-07-25T16:17:16.957Z"
   },
   {
    "duration": 18,
    "start_time": "2022-07-25T16:17:16.968Z"
   },
   {
    "duration": 5,
    "start_time": "2022-07-25T16:17:16.988Z"
   },
   {
    "duration": 43,
    "start_time": "2022-07-25T16:17:16.994Z"
   },
   {
    "duration": 8,
    "start_time": "2022-07-25T16:17:17.038Z"
   },
   {
    "duration": 10,
    "start_time": "2022-07-25T16:17:17.048Z"
   },
   {
    "duration": 6,
    "start_time": "2022-07-25T16:17:17.059Z"
   },
   {
    "duration": 15,
    "start_time": "2022-07-25T16:17:17.067Z"
   },
   {
    "duration": 14,
    "start_time": "2022-07-25T16:17:17.083Z"
   },
   {
    "duration": 49,
    "start_time": "2022-07-25T16:17:17.099Z"
   },
   {
    "duration": 15,
    "start_time": "2022-07-25T16:17:17.150Z"
   },
   {
    "duration": 7,
    "start_time": "2022-07-25T16:17:17.167Z"
   },
   {
    "duration": 16,
    "start_time": "2022-07-25T16:17:17.176Z"
   },
   {
    "duration": 6,
    "start_time": "2022-07-25T16:17:17.196Z"
   },
   {
    "duration": 12,
    "start_time": "2022-07-25T16:17:17.232Z"
   },
   {
    "duration": 12,
    "start_time": "2022-07-25T16:17:17.246Z"
   },
   {
    "duration": 6,
    "start_time": "2022-07-25T16:17:17.260Z"
   },
   {
    "duration": 11,
    "start_time": "2022-07-25T16:17:17.268Z"
   },
   {
    "duration": 6,
    "start_time": "2022-07-25T16:17:17.280Z"
   },
   {
    "duration": 4488,
    "start_time": "2022-07-25T16:17:17.287Z"
   },
   {
    "duration": 7,
    "start_time": "2022-07-25T16:17:21.777Z"
   },
   {
    "duration": 10,
    "start_time": "2022-07-25T16:17:21.785Z"
   },
   {
    "duration": 13,
    "start_time": "2022-07-25T16:17:21.796Z"
   },
   {
    "duration": 27,
    "start_time": "2022-07-25T16:17:21.811Z"
   },
   {
    "duration": 6,
    "start_time": "2022-07-25T16:17:21.840Z"
   },
   {
    "duration": 4,
    "start_time": "2022-07-25T16:17:21.847Z"
   },
   {
    "duration": 7,
    "start_time": "2022-07-25T16:17:21.853Z"
   },
   {
    "duration": 7,
    "start_time": "2022-07-25T16:17:21.861Z"
   },
   {
    "duration": 17,
    "start_time": "2022-07-25T16:17:21.870Z"
   },
   {
    "duration": 11,
    "start_time": "2022-07-25T16:17:21.889Z"
   },
   {
    "duration": 34,
    "start_time": "2022-07-25T16:17:21.902Z"
   },
   {
    "duration": 10,
    "start_time": "2022-07-25T16:17:21.937Z"
   },
   {
    "duration": 5,
    "start_time": "2022-07-25T16:17:21.948Z"
   },
   {
    "duration": 10,
    "start_time": "2022-07-25T16:17:21.954Z"
   },
   {
    "duration": 4,
    "start_time": "2022-07-25T16:17:21.965Z"
   },
   {
    "duration": 20,
    "start_time": "2022-07-25T16:17:21.970Z"
   },
   {
    "duration": 3,
    "start_time": "2022-07-25T16:17:21.992Z"
   },
   {
    "duration": 8,
    "start_time": "2022-07-25T16:17:22.031Z"
   },
   {
    "duration": 19,
    "start_time": "2022-07-25T16:17:22.040Z"
   },
   {
    "duration": 10,
    "start_time": "2022-07-25T16:17:22.061Z"
   },
   {
    "duration": 9,
    "start_time": "2022-07-25T16:17:22.073Z"
   },
   {
    "duration": 9,
    "start_time": "2022-07-25T16:17:22.084Z"
   },
   {
    "duration": 41,
    "start_time": "2022-07-25T16:17:22.095Z"
   },
   {
    "duration": 5,
    "start_time": "2022-07-25T16:17:22.137Z"
   },
   {
    "duration": 11,
    "start_time": "2022-07-25T16:17:22.143Z"
   },
   {
    "duration": 10,
    "start_time": "2022-07-25T16:17:22.155Z"
   },
   {
    "duration": 7,
    "start_time": "2022-07-25T16:17:22.167Z"
   },
   {
    "duration": 10,
    "start_time": "2022-07-25T16:17:22.175Z"
   },
   {
    "duration": 7,
    "start_time": "2022-07-25T16:17:22.187Z"
   },
   {
    "duration": 7,
    "start_time": "2022-07-25T16:17:22.195Z"
   },
   {
    "duration": 18,
    "start_time": "2022-07-25T16:17:22.231Z"
   },
   {
    "duration": 18,
    "start_time": "2022-07-25T16:17:22.251Z"
   },
   {
    "duration": 24,
    "start_time": "2022-07-25T16:17:22.270Z"
   },
   {
    "duration": 36,
    "start_time": "2022-07-25T16:17:22.296Z"
   },
   {
    "duration": 21,
    "start_time": "2022-07-25T16:17:22.334Z"
   },
   {
    "duration": 6,
    "start_time": "2022-07-25T16:17:22.357Z"
   },
   {
    "duration": 23,
    "start_time": "2022-07-25T16:17:22.365Z"
   },
   {
    "duration": 43,
    "start_time": "2022-07-25T16:17:22.389Z"
   },
   {
    "duration": 21,
    "start_time": "2022-07-25T16:17:22.433Z"
   },
   {
    "duration": 436,
    "start_time": "2022-07-26T14:56:33.054Z"
   },
   {
    "duration": 84,
    "start_time": "2022-07-26T14:56:33.492Z"
   },
   {
    "duration": 23,
    "start_time": "2022-07-26T14:56:33.578Z"
   },
   {
    "duration": 27,
    "start_time": "2022-07-26T14:56:33.603Z"
   },
   {
    "duration": 13,
    "start_time": "2022-07-26T14:56:33.632Z"
   },
   {
    "duration": 8,
    "start_time": "2022-07-26T14:56:33.647Z"
   },
   {
    "duration": 8,
    "start_time": "2022-07-26T14:56:33.656Z"
   },
   {
    "duration": 5,
    "start_time": "2022-07-26T14:56:33.666Z"
   },
   {
    "duration": 126,
    "start_time": "2022-07-26T14:56:33.673Z"
   },
   {
    "duration": 24,
    "start_time": "2022-07-26T14:56:33.801Z"
   },
   {
    "duration": 17,
    "start_time": "2022-07-26T14:56:33.827Z"
   },
   {
    "duration": 15,
    "start_time": "2022-07-26T14:56:33.846Z"
   },
   {
    "duration": 29,
    "start_time": "2022-07-26T14:56:33.864Z"
   },
   {
    "duration": 28,
    "start_time": "2022-07-26T14:56:33.909Z"
   },
   {
    "duration": 12,
    "start_time": "2022-07-26T14:56:33.939Z"
   },
   {
    "duration": 19,
    "start_time": "2022-07-26T14:56:33.953Z"
   },
   {
    "duration": 5,
    "start_time": "2022-07-26T14:56:33.974Z"
   },
   {
    "duration": 45,
    "start_time": "2022-07-26T14:56:33.981Z"
   },
   {
    "duration": 10,
    "start_time": "2022-07-26T14:56:34.028Z"
   },
   {
    "duration": 13,
    "start_time": "2022-07-26T14:56:34.039Z"
   },
   {
    "duration": 7,
    "start_time": "2022-07-26T14:56:34.054Z"
   },
   {
    "duration": 20,
    "start_time": "2022-07-26T14:56:34.063Z"
   },
   {
    "duration": 43,
    "start_time": "2022-07-26T14:56:34.084Z"
   },
   {
    "duration": 23,
    "start_time": "2022-07-26T14:56:34.129Z"
   },
   {
    "duration": 18,
    "start_time": "2022-07-26T14:56:34.154Z"
   },
   {
    "duration": 7,
    "start_time": "2022-07-26T14:56:34.174Z"
   },
   {
    "duration": 47,
    "start_time": "2022-07-26T14:56:34.183Z"
   },
   {
    "duration": 8,
    "start_time": "2022-07-26T14:56:34.231Z"
   },
   {
    "duration": 15,
    "start_time": "2022-07-26T14:56:34.241Z"
   },
   {
    "duration": 10,
    "start_time": "2022-07-26T14:56:34.258Z"
   },
   {
    "duration": 19,
    "start_time": "2022-07-26T14:56:34.270Z"
   },
   {
    "duration": 18,
    "start_time": "2022-07-26T14:56:34.291Z"
   },
   {
    "duration": 9,
    "start_time": "2022-07-26T14:56:34.317Z"
   },
   {
    "duration": 5685,
    "start_time": "2022-07-26T14:56:34.327Z"
   },
   {
    "duration": 10,
    "start_time": "2022-07-26T14:56:40.019Z"
   },
   {
    "duration": 14,
    "start_time": "2022-07-26T14:56:40.031Z"
   },
   {
    "duration": 23,
    "start_time": "2022-07-26T14:56:40.047Z"
   },
   {
    "duration": 18,
    "start_time": "2022-07-26T14:56:40.072Z"
   },
   {
    "duration": 7,
    "start_time": "2022-07-26T14:56:40.091Z"
   },
   {
    "duration": 22,
    "start_time": "2022-07-26T14:56:40.099Z"
   },
   {
    "duration": 9,
    "start_time": "2022-07-26T14:56:40.128Z"
   },
   {
    "duration": 9,
    "start_time": "2022-07-26T14:56:40.139Z"
   },
   {
    "duration": 14,
    "start_time": "2022-07-26T14:56:40.150Z"
   },
   {
    "duration": 14,
    "start_time": "2022-07-26T14:56:40.167Z"
   },
   {
    "duration": 14,
    "start_time": "2022-07-26T14:56:40.183Z"
   },
   {
    "duration": 23,
    "start_time": "2022-07-26T14:56:40.199Z"
   },
   {
    "duration": 5,
    "start_time": "2022-07-26T14:56:40.225Z"
   },
   {
    "duration": 11,
    "start_time": "2022-07-26T14:56:40.232Z"
   },
   {
    "duration": 4,
    "start_time": "2022-07-26T14:56:40.245Z"
   },
   {
    "duration": 23,
    "start_time": "2022-07-26T14:56:40.251Z"
   },
   {
    "duration": 4,
    "start_time": "2022-07-26T14:56:40.276Z"
   },
   {
    "duration": 16,
    "start_time": "2022-07-26T14:56:40.314Z"
   },
   {
    "duration": 14,
    "start_time": "2022-07-26T14:56:40.332Z"
   },
   {
    "duration": 15,
    "start_time": "2022-07-26T14:56:40.348Z"
   },
   {
    "duration": 20,
    "start_time": "2022-07-26T14:56:40.365Z"
   },
   {
    "duration": 27,
    "start_time": "2022-07-26T14:56:40.387Z"
   },
   {
    "duration": 18,
    "start_time": "2022-07-26T14:56:40.419Z"
   },
   {
    "duration": 10,
    "start_time": "2022-07-26T14:56:40.439Z"
   },
   {
    "duration": 12,
    "start_time": "2022-07-26T14:56:40.451Z"
   },
   {
    "duration": 10,
    "start_time": "2022-07-26T14:56:40.465Z"
   },
   {
    "duration": 9,
    "start_time": "2022-07-26T14:56:40.477Z"
   },
   {
    "duration": 40,
    "start_time": "2022-07-26T14:56:40.488Z"
   },
   {
    "duration": 11,
    "start_time": "2022-07-26T14:56:40.530Z"
   },
   {
    "duration": 15,
    "start_time": "2022-07-26T14:56:40.543Z"
   },
   {
    "duration": 33,
    "start_time": "2022-07-26T14:56:40.561Z"
   },
   {
    "duration": 38,
    "start_time": "2022-07-26T14:56:40.596Z"
   },
   {
    "duration": 37,
    "start_time": "2022-07-26T14:56:40.637Z"
   },
   {
    "duration": 11,
    "start_time": "2022-07-26T14:56:40.676Z"
   },
   {
    "duration": 31,
    "start_time": "2022-07-26T14:56:40.710Z"
   },
   {
    "duration": 9,
    "start_time": "2022-07-26T14:56:40.743Z"
   },
   {
    "duration": 26,
    "start_time": "2022-07-26T14:56:40.754Z"
   },
   {
    "duration": 49,
    "start_time": "2022-07-26T14:56:40.781Z"
   },
   {
    "duration": 25,
    "start_time": "2022-07-26T14:56:40.831Z"
   },
   {
    "duration": 393,
    "start_time": "2022-07-28T22:07:10.021Z"
   },
   {
    "duration": 296,
    "start_time": "2022-07-28T22:07:10.416Z"
   },
   {
    "duration": 21,
    "start_time": "2022-07-28T22:07:10.714Z"
   },
   {
    "duration": 20,
    "start_time": "2022-07-28T22:07:10.737Z"
   },
   {
    "duration": 9,
    "start_time": "2022-07-28T22:07:10.759Z"
   },
   {
    "duration": 10,
    "start_time": "2022-07-28T22:07:10.770Z"
   },
   {
    "duration": 9,
    "start_time": "2022-07-28T22:07:10.782Z"
   },
   {
    "duration": 4,
    "start_time": "2022-07-28T22:07:10.793Z"
   },
   {
    "duration": 99,
    "start_time": "2022-07-28T22:07:10.798Z"
   },
   {
    "duration": 9,
    "start_time": "2022-07-28T22:07:10.899Z"
   },
   {
    "duration": 16,
    "start_time": "2022-07-28T22:07:10.910Z"
   },
   {
    "duration": 14,
    "start_time": "2022-07-28T22:07:10.928Z"
   },
   {
    "duration": 33,
    "start_time": "2022-07-28T22:07:10.943Z"
   },
   {
    "duration": 16,
    "start_time": "2022-07-28T22:07:10.979Z"
   },
   {
    "duration": 12,
    "start_time": "2022-07-28T22:07:10.997Z"
   },
   {
    "duration": 19,
    "start_time": "2022-07-28T22:07:11.010Z"
   },
   {
    "duration": 34,
    "start_time": "2022-07-28T22:07:11.030Z"
   },
   {
    "duration": 12,
    "start_time": "2022-07-28T22:07:11.066Z"
   },
   {
    "duration": 9,
    "start_time": "2022-07-28T22:07:11.079Z"
   },
   {
    "duration": 12,
    "start_time": "2022-07-28T22:07:11.089Z"
   },
   {
    "duration": 6,
    "start_time": "2022-07-28T22:07:11.102Z"
   },
   {
    "duration": 51,
    "start_time": "2022-07-28T22:07:11.110Z"
   },
   {
    "duration": 22,
    "start_time": "2022-07-28T22:07:11.163Z"
   },
   {
    "duration": 18,
    "start_time": "2022-07-28T22:07:11.187Z"
   },
   {
    "duration": 16,
    "start_time": "2022-07-28T22:07:11.207Z"
   },
   {
    "duration": 7,
    "start_time": "2022-07-28T22:07:11.224Z"
   },
   {
    "duration": 21,
    "start_time": "2022-07-28T22:07:11.261Z"
   },
   {
    "duration": 10,
    "start_time": "2022-07-28T22:07:11.284Z"
   },
   {
    "duration": 14,
    "start_time": "2022-07-28T22:07:11.296Z"
   },
   {
    "duration": 9,
    "start_time": "2022-07-28T22:07:11.312Z"
   },
   {
    "duration": 7,
    "start_time": "2022-07-28T22:07:11.322Z"
   },
   {
    "duration": 36,
    "start_time": "2022-07-28T22:07:11.330Z"
   },
   {
    "duration": 5,
    "start_time": "2022-07-28T22:07:11.367Z"
   },
   {
    "duration": 5026,
    "start_time": "2022-07-28T22:07:11.373Z"
   },
   {
    "duration": 11,
    "start_time": "2022-07-28T22:07:16.402Z"
   },
   {
    "duration": 9,
    "start_time": "2022-07-28T22:07:16.414Z"
   },
   {
    "duration": 37,
    "start_time": "2022-07-28T22:07:16.425Z"
   },
   {
    "duration": 16,
    "start_time": "2022-07-28T22:07:16.464Z"
   },
   {
    "duration": 7,
    "start_time": "2022-07-28T22:07:16.483Z"
   },
   {
    "duration": 21,
    "start_time": "2022-07-28T22:07:16.492Z"
   },
   {
    "duration": 10,
    "start_time": "2022-07-28T22:07:16.519Z"
   },
   {
    "duration": 27,
    "start_time": "2022-07-28T22:07:16.536Z"
   },
   {
    "duration": 11,
    "start_time": "2022-07-28T22:07:16.565Z"
   },
   {
    "duration": 11,
    "start_time": "2022-07-28T22:07:16.578Z"
   },
   {
    "duration": 8,
    "start_time": "2022-07-28T22:07:16.591Z"
   },
   {
    "duration": 9,
    "start_time": "2022-07-28T22:07:16.600Z"
   },
   {
    "duration": 6,
    "start_time": "2022-07-28T22:07:16.610Z"
   },
   {
    "duration": 9,
    "start_time": "2022-07-28T22:07:16.617Z"
   },
   {
    "duration": 4,
    "start_time": "2022-07-28T22:07:16.627Z"
   },
   {
    "duration": 42,
    "start_time": "2022-07-28T22:07:16.633Z"
   },
   {
    "duration": 3,
    "start_time": "2022-07-28T22:07:16.677Z"
   },
   {
    "duration": 15,
    "start_time": "2022-07-28T22:07:16.682Z"
   },
   {
    "duration": 12,
    "start_time": "2022-07-28T22:07:16.699Z"
   },
   {
    "duration": 11,
    "start_time": "2022-07-28T22:07:16.713Z"
   },
   {
    "duration": 35,
    "start_time": "2022-07-28T22:07:16.726Z"
   },
   {
    "duration": 9,
    "start_time": "2022-07-28T22:07:16.763Z"
   },
   {
    "duration": 16,
    "start_time": "2022-07-28T22:07:16.773Z"
   },
   {
    "duration": 4,
    "start_time": "2022-07-28T22:07:16.791Z"
   },
   {
    "duration": 10,
    "start_time": "2022-07-28T22:07:16.796Z"
   },
   {
    "duration": 7,
    "start_time": "2022-07-28T22:07:16.807Z"
   },
   {
    "duration": 5,
    "start_time": "2022-07-28T22:07:16.815Z"
   },
   {
    "duration": 40,
    "start_time": "2022-07-28T22:07:16.822Z"
   },
   {
    "duration": 11,
    "start_time": "2022-07-28T22:07:16.864Z"
   },
   {
    "duration": 5,
    "start_time": "2022-07-28T22:07:16.877Z"
   },
   {
    "duration": 24,
    "start_time": "2022-07-28T22:07:16.884Z"
   },
   {
    "duration": 20,
    "start_time": "2022-07-28T22:07:16.909Z"
   },
   {
    "duration": 48,
    "start_time": "2022-07-28T22:07:16.930Z"
   },
   {
    "duration": 6,
    "start_time": "2022-07-28T22:07:16.979Z"
   },
   {
    "duration": 19,
    "start_time": "2022-07-28T22:07:16.987Z"
   },
   {
    "duration": 6,
    "start_time": "2022-07-28T22:07:17.008Z"
   },
   {
    "duration": 22,
    "start_time": "2022-07-28T22:07:17.015Z"
   },
   {
    "duration": 40,
    "start_time": "2022-07-28T22:07:17.038Z"
   },
   {
    "duration": 18,
    "start_time": "2022-07-28T22:07:17.080Z"
   },
   {
    "duration": 467,
    "start_time": "2022-10-28T12:50:44.217Z"
   },
   {
    "duration": 305,
    "start_time": "2022-10-28T12:50:44.686Z"
   },
   {
    "duration": 19,
    "start_time": "2022-10-28T12:50:44.992Z"
   },
   {
    "duration": 24,
    "start_time": "2022-10-28T12:50:45.013Z"
   },
   {
    "duration": 9,
    "start_time": "2022-10-28T12:50:45.038Z"
   },
   {
    "duration": 7,
    "start_time": "2022-10-28T12:50:45.049Z"
   },
   {
    "duration": 7,
    "start_time": "2022-10-28T12:50:45.057Z"
   },
   {
    "duration": 4,
    "start_time": "2022-10-28T12:50:45.065Z"
   },
   {
    "duration": 96,
    "start_time": "2022-10-28T12:50:45.070Z"
   },
   {
    "duration": 8,
    "start_time": "2022-10-28T12:50:45.169Z"
   },
   {
    "duration": 13,
    "start_time": "2022-10-28T12:50:45.179Z"
   },
   {
    "duration": 24,
    "start_time": "2022-10-28T12:50:45.193Z"
   },
   {
    "duration": 19,
    "start_time": "2022-10-28T12:50:45.218Z"
   },
   {
    "duration": 14,
    "start_time": "2022-10-28T12:50:45.238Z"
   },
   {
    "duration": 13,
    "start_time": "2022-10-28T12:50:45.254Z"
   },
   {
    "duration": 22,
    "start_time": "2022-10-28T12:50:45.268Z"
   },
   {
    "duration": 19,
    "start_time": "2022-10-28T12:50:45.292Z"
   },
   {
    "duration": 13,
    "start_time": "2022-10-28T12:50:45.313Z"
   },
   {
    "duration": 9,
    "start_time": "2022-10-28T12:50:45.327Z"
   },
   {
    "duration": 11,
    "start_time": "2022-10-28T12:50:45.337Z"
   },
   {
    "duration": 5,
    "start_time": "2022-10-28T12:50:45.350Z"
   },
   {
    "duration": 16,
    "start_time": "2022-10-28T12:50:45.356Z"
   },
   {
    "duration": 50,
    "start_time": "2022-10-28T12:50:45.374Z"
   },
   {
    "duration": 18,
    "start_time": "2022-10-28T12:50:45.426Z"
   },
   {
    "duration": 16,
    "start_time": "2022-10-28T12:50:45.446Z"
   },
   {
    "duration": 5,
    "start_time": "2022-10-28T12:50:45.464Z"
   },
   {
    "duration": 38,
    "start_time": "2022-10-28T12:50:45.471Z"
   },
   {
    "duration": 7,
    "start_time": "2022-10-28T12:50:45.513Z"
   },
   {
    "duration": 13,
    "start_time": "2022-10-28T12:50:45.521Z"
   },
   {
    "duration": 9,
    "start_time": "2022-10-28T12:50:45.536Z"
   },
   {
    "duration": 7,
    "start_time": "2022-10-28T12:50:45.546Z"
   },
   {
    "duration": 8,
    "start_time": "2022-10-28T12:50:45.555Z"
   },
   {
    "duration": 4,
    "start_time": "2022-10-28T12:50:45.564Z"
   },
   {
    "duration": 4354,
    "start_time": "2022-10-28T12:50:45.570Z"
   },
   {
    "duration": 8,
    "start_time": "2022-10-28T12:50:49.925Z"
   },
   {
    "duration": 5,
    "start_time": "2022-10-28T12:50:49.934Z"
   },
   {
    "duration": 13,
    "start_time": "2022-10-28T12:50:49.941Z"
   },
   {
    "duration": 11,
    "start_time": "2022-10-28T12:50:49.955Z"
   },
   {
    "duration": 5,
    "start_time": "2022-10-28T12:50:49.967Z"
   },
   {
    "duration": 5,
    "start_time": "2022-10-28T12:50:49.974Z"
   },
   {
    "duration": 9,
    "start_time": "2022-10-28T12:50:50.010Z"
   },
   {
    "duration": 5,
    "start_time": "2022-10-28T12:50:50.020Z"
   },
   {
    "duration": 10,
    "start_time": "2022-10-28T12:50:50.026Z"
   },
   {
    "duration": 13,
    "start_time": "2022-10-28T12:50:50.037Z"
   },
   {
    "duration": 12,
    "start_time": "2022-10-28T12:50:50.052Z"
   },
   {
    "duration": 7,
    "start_time": "2022-10-28T12:50:50.066Z"
   },
   {
    "duration": 7,
    "start_time": "2022-10-28T12:50:50.074Z"
   },
   {
    "duration": 6,
    "start_time": "2022-10-28T12:50:50.083Z"
   },
   {
    "duration": 3,
    "start_time": "2022-10-28T12:50:50.110Z"
   },
   {
    "duration": 18,
    "start_time": "2022-10-28T12:50:50.115Z"
   },
   {
    "duration": 2,
    "start_time": "2022-10-28T12:50:50.135Z"
   },
   {
    "duration": 14,
    "start_time": "2022-10-28T12:50:50.139Z"
   },
   {
    "duration": 11,
    "start_time": "2022-10-28T12:50:50.154Z"
   },
   {
    "duration": 6,
    "start_time": "2022-10-28T12:50:50.167Z"
   },
   {
    "duration": 8,
    "start_time": "2022-10-28T12:50:50.175Z"
   },
   {
    "duration": 7,
    "start_time": "2022-10-28T12:50:50.209Z"
   },
   {
    "duration": 12,
    "start_time": "2022-10-28T12:50:50.218Z"
   },
   {
    "duration": 3,
    "start_time": "2022-10-28T12:50:50.232Z"
   },
   {
    "duration": 8,
    "start_time": "2022-10-28T12:50:50.236Z"
   },
   {
    "duration": 6,
    "start_time": "2022-10-28T12:50:50.246Z"
   },
   {
    "duration": 5,
    "start_time": "2022-10-28T12:50:50.254Z"
   },
   {
    "duration": 10,
    "start_time": "2022-10-28T12:50:50.260Z"
   },
   {
    "duration": 42,
    "start_time": "2022-10-28T12:50:50.271Z"
   },
   {
    "duration": 4,
    "start_time": "2022-10-28T12:50:50.314Z"
   },
   {
    "duration": 23,
    "start_time": "2022-10-28T12:50:50.320Z"
   },
   {
    "duration": 18,
    "start_time": "2022-10-28T12:50:50.345Z"
   },
   {
    "duration": 48,
    "start_time": "2022-10-28T12:50:50.364Z"
   },
   {
    "duration": 6,
    "start_time": "2022-10-28T12:50:50.414Z"
   },
   {
    "duration": 18,
    "start_time": "2022-10-28T12:50:50.421Z"
   },
   {
    "duration": 6,
    "start_time": "2022-10-28T12:50:50.441Z"
   },
   {
    "duration": 21,
    "start_time": "2022-10-28T12:50:50.449Z"
   },
   {
    "duration": 46,
    "start_time": "2022-10-28T12:50:50.472Z"
   },
   {
    "duration": 23,
    "start_time": "2022-10-28T12:50:50.520Z"
   },
   {
    "duration": 407,
    "start_time": "2022-10-28T12:53:39.723Z"
   },
   {
    "duration": 77,
    "start_time": "2022-10-28T12:53:40.132Z"
   },
   {
    "duration": 22,
    "start_time": "2022-10-28T12:53:40.211Z"
   },
   {
    "duration": 14,
    "start_time": "2022-10-28T12:53:40.235Z"
   },
   {
    "duration": 8,
    "start_time": "2022-10-28T12:53:40.250Z"
   },
   {
    "duration": 7,
    "start_time": "2022-10-28T12:53:40.260Z"
   },
   {
    "duration": 8,
    "start_time": "2022-10-28T12:53:40.269Z"
   },
   {
    "duration": 8,
    "start_time": "2022-10-28T12:53:40.278Z"
   },
   {
    "duration": 78,
    "start_time": "2022-10-28T12:53:40.308Z"
   },
   {
    "duration": 21,
    "start_time": "2022-10-28T12:53:40.389Z"
   },
   {
    "duration": 11,
    "start_time": "2022-10-28T12:53:40.411Z"
   },
   {
    "duration": 14,
    "start_time": "2022-10-28T12:53:40.424Z"
   },
   {
    "duration": 19,
    "start_time": "2022-10-28T12:53:40.440Z"
   },
   {
    "duration": 14,
    "start_time": "2022-10-28T12:53:40.460Z"
   },
   {
    "duration": 37,
    "start_time": "2022-10-28T12:53:40.476Z"
   },
   {
    "duration": 19,
    "start_time": "2022-10-28T12:53:40.514Z"
   },
   {
    "duration": 5,
    "start_time": "2022-10-28T12:53:40.534Z"
   },
   {
    "duration": 12,
    "start_time": "2022-10-28T12:53:40.541Z"
   },
   {
    "duration": 12,
    "start_time": "2022-10-28T12:53:40.554Z"
   },
   {
    "duration": 12,
    "start_time": "2022-10-28T12:53:40.567Z"
   },
   {
    "duration": 5,
    "start_time": "2022-10-28T12:53:40.608Z"
   },
   {
    "duration": 18,
    "start_time": "2022-10-28T12:53:40.615Z"
   },
   {
    "duration": 17,
    "start_time": "2022-10-28T12:53:40.634Z"
   },
   {
    "duration": 19,
    "start_time": "2022-10-28T12:53:40.652Z"
   },
   {
    "duration": 43,
    "start_time": "2022-10-28T12:53:40.673Z"
   },
   {
    "duration": 6,
    "start_time": "2022-10-28T12:53:40.717Z"
   },
   {
    "duration": 18,
    "start_time": "2022-10-28T12:53:40.724Z"
   },
   {
    "duration": 8,
    "start_time": "2022-10-28T12:53:40.745Z"
   },
   {
    "duration": 34,
    "start_time": "2022-10-28T12:53:40.755Z"
   },
   {
    "duration": 14,
    "start_time": "2022-10-28T12:53:40.791Z"
   },
   {
    "duration": 11,
    "start_time": "2022-10-28T12:53:40.807Z"
   },
   {
    "duration": 9,
    "start_time": "2022-10-28T12:53:40.819Z"
   },
   {
    "duration": 6,
    "start_time": "2022-10-28T12:53:40.830Z"
   },
   {
    "duration": 4479,
    "start_time": "2022-10-28T12:53:40.837Z"
   },
   {
    "duration": 7,
    "start_time": "2022-10-28T12:53:45.318Z"
   },
   {
    "duration": 8,
    "start_time": "2022-10-28T12:53:45.327Z"
   },
   {
    "duration": 14,
    "start_time": "2022-10-28T12:53:45.337Z"
   },
   {
    "duration": 11,
    "start_time": "2022-10-28T12:53:45.353Z"
   },
   {
    "duration": 5,
    "start_time": "2022-10-28T12:53:45.365Z"
   },
   {
    "duration": 11,
    "start_time": "2022-10-28T12:53:45.372Z"
   },
   {
    "duration": 26,
    "start_time": "2022-10-28T12:53:45.385Z"
   },
   {
    "duration": 3,
    "start_time": "2022-10-28T12:53:45.413Z"
   },
   {
    "duration": 8,
    "start_time": "2022-10-28T12:53:45.417Z"
   },
   {
    "duration": 11,
    "start_time": "2022-10-28T12:53:45.427Z"
   },
   {
    "duration": 7,
    "start_time": "2022-10-28T12:53:45.440Z"
   },
   {
    "duration": 6,
    "start_time": "2022-10-28T12:53:45.448Z"
   },
   {
    "duration": 4,
    "start_time": "2022-10-28T12:53:45.456Z"
   },
   {
    "duration": 8,
    "start_time": "2022-10-28T12:53:45.462Z"
   },
   {
    "duration": 3,
    "start_time": "2022-10-28T12:53:45.509Z"
   },
   {
    "duration": 19,
    "start_time": "2022-10-28T12:53:45.514Z"
   },
   {
    "duration": 3,
    "start_time": "2022-10-28T12:53:45.535Z"
   },
   {
    "duration": 10,
    "start_time": "2022-10-28T12:53:45.539Z"
   },
   {
    "duration": 14,
    "start_time": "2022-10-28T12:53:45.550Z"
   },
   {
    "duration": 8,
    "start_time": "2022-10-28T12:53:45.566Z"
   },
   {
    "duration": 9,
    "start_time": "2022-10-28T12:53:45.576Z"
   },
   {
    "duration": 8,
    "start_time": "2022-10-28T12:53:45.608Z"
   },
   {
    "duration": 12,
    "start_time": "2022-10-28T12:53:45.618Z"
   },
   {
    "duration": 4,
    "start_time": "2022-10-28T12:53:45.632Z"
   },
   {
    "duration": 8,
    "start_time": "2022-10-28T12:53:45.637Z"
   },
   {
    "duration": 6,
    "start_time": "2022-10-28T12:53:45.646Z"
   },
   {
    "duration": 5,
    "start_time": "2022-10-28T12:53:45.654Z"
   },
   {
    "duration": 11,
    "start_time": "2022-10-28T12:53:45.660Z"
   },
   {
    "duration": 38,
    "start_time": "2022-10-28T12:53:45.672Z"
   },
   {
    "duration": 3,
    "start_time": "2022-10-28T12:53:45.712Z"
   },
   {
    "duration": 22,
    "start_time": "2022-10-28T12:53:45.717Z"
   },
   {
    "duration": 19,
    "start_time": "2022-10-28T12:53:45.741Z"
   },
   {
    "duration": 53,
    "start_time": "2022-10-28T12:53:45.761Z"
   },
   {
    "duration": 7,
    "start_time": "2022-10-28T12:53:45.815Z"
   },
   {
    "duration": 18,
    "start_time": "2022-10-28T12:53:45.824Z"
   },
   {
    "duration": 7,
    "start_time": "2022-10-28T12:53:45.844Z"
   },
   {
    "duration": 19,
    "start_time": "2022-10-28T12:53:45.852Z"
   },
   {
    "duration": 40,
    "start_time": "2022-10-28T12:53:45.873Z"
   },
   {
    "duration": 19,
    "start_time": "2022-10-28T12:53:45.914Z"
   },
   {
    "duration": 427,
    "start_time": "2022-10-28T20:54:49.283Z"
   },
   {
    "duration": 638,
    "start_time": "2022-10-28T20:54:49.712Z"
   },
   {
    "duration": 19,
    "start_time": "2022-10-28T20:54:50.352Z"
   },
   {
    "duration": 14,
    "start_time": "2022-10-28T20:54:50.373Z"
   },
   {
    "duration": 14,
    "start_time": "2022-10-28T20:54:50.390Z"
   },
   {
    "duration": 9,
    "start_time": "2022-10-28T20:54:50.406Z"
   },
   {
    "duration": 6,
    "start_time": "2022-10-28T20:54:50.417Z"
   },
   {
    "duration": 4,
    "start_time": "2022-10-28T20:54:50.425Z"
   },
   {
    "duration": 88,
    "start_time": "2022-10-28T20:54:50.430Z"
   },
   {
    "duration": 9,
    "start_time": "2022-10-28T20:54:50.519Z"
   },
   {
    "duration": 19,
    "start_time": "2022-10-28T20:54:50.529Z"
   },
   {
    "duration": 16,
    "start_time": "2022-10-28T20:54:50.550Z"
   },
   {
    "duration": 26,
    "start_time": "2022-10-28T20:54:50.568Z"
   },
   {
    "duration": 20,
    "start_time": "2022-10-28T20:54:50.597Z"
   },
   {
    "duration": 18,
    "start_time": "2022-10-28T20:54:50.618Z"
   },
   {
    "duration": 16,
    "start_time": "2022-10-28T20:54:50.637Z"
   },
   {
    "duration": 4,
    "start_time": "2022-10-28T20:54:50.655Z"
   },
   {
    "duration": 27,
    "start_time": "2022-10-28T20:54:50.661Z"
   },
   {
    "duration": 18,
    "start_time": "2022-10-28T20:54:50.689Z"
   },
   {
    "duration": 16,
    "start_time": "2022-10-28T20:54:50.709Z"
   },
   {
    "duration": 16,
    "start_time": "2022-10-28T20:54:50.727Z"
   },
   {
    "duration": 18,
    "start_time": "2022-10-28T20:54:50.745Z"
   },
   {
    "duration": 24,
    "start_time": "2022-10-28T20:54:50.765Z"
   },
   {
    "duration": 28,
    "start_time": "2022-10-28T20:54:50.791Z"
   },
   {
    "duration": 22,
    "start_time": "2022-10-28T20:54:50.820Z"
   },
   {
    "duration": 20,
    "start_time": "2022-10-28T20:54:50.843Z"
   },
   {
    "duration": 31,
    "start_time": "2022-10-28T20:54:50.865Z"
   },
   {
    "duration": 6,
    "start_time": "2022-10-28T20:54:50.897Z"
   },
   {
    "duration": 38,
    "start_time": "2022-10-28T20:54:50.904Z"
   },
   {
    "duration": 32,
    "start_time": "2022-10-28T20:54:50.943Z"
   },
   {
    "duration": 15,
    "start_time": "2022-10-28T20:54:50.977Z"
   },
   {
    "duration": 14,
    "start_time": "2022-10-28T20:54:50.994Z"
   },
   {
    "duration": 9,
    "start_time": "2022-10-28T20:54:51.010Z"
   },
   {
    "duration": 4863,
    "start_time": "2022-10-28T20:54:51.020Z"
   },
   {
    "duration": 27,
    "start_time": "2022-10-28T20:54:55.885Z"
   },
   {
    "duration": 23,
    "start_time": "2022-10-28T20:54:55.913Z"
   },
   {
    "duration": 45,
    "start_time": "2022-10-28T20:54:55.937Z"
   },
   {
    "duration": 37,
    "start_time": "2022-10-28T20:54:55.984Z"
   },
   {
    "duration": 11,
    "start_time": "2022-10-28T20:54:56.022Z"
   },
   {
    "duration": 26,
    "start_time": "2022-10-28T20:54:56.034Z"
   },
   {
    "duration": 33,
    "start_time": "2022-10-28T20:54:56.064Z"
   },
   {
    "duration": 29,
    "start_time": "2022-10-28T20:54:56.098Z"
   },
   {
    "duration": 20,
    "start_time": "2022-10-28T20:54:56.129Z"
   },
   {
    "duration": 16,
    "start_time": "2022-10-28T20:54:56.151Z"
   },
   {
    "duration": 10,
    "start_time": "2022-10-28T20:54:56.169Z"
   },
   {
    "duration": 10,
    "start_time": "2022-10-28T20:54:56.181Z"
   },
   {
    "duration": 4,
    "start_time": "2022-10-28T20:54:56.193Z"
   },
   {
    "duration": 9,
    "start_time": "2022-10-28T20:54:56.199Z"
   },
   {
    "duration": 5,
    "start_time": "2022-10-28T20:54:56.209Z"
   },
   {
    "duration": 18,
    "start_time": "2022-10-28T20:54:56.215Z"
   },
   {
    "duration": 2,
    "start_time": "2022-10-28T20:54:56.235Z"
   },
   {
    "duration": 11,
    "start_time": "2022-10-28T20:54:56.239Z"
   },
   {
    "duration": 14,
    "start_time": "2022-10-28T20:54:56.251Z"
   },
   {
    "duration": 12,
    "start_time": "2022-10-28T20:54:56.268Z"
   },
   {
    "duration": 28,
    "start_time": "2022-10-28T20:54:56.282Z"
   },
   {
    "duration": 7,
    "start_time": "2022-10-28T20:54:56.311Z"
   },
   {
    "duration": 12,
    "start_time": "2022-10-28T20:54:56.320Z"
   },
   {
    "duration": 4,
    "start_time": "2022-10-28T20:54:56.334Z"
   },
   {
    "duration": 10,
    "start_time": "2022-10-28T20:54:56.339Z"
   },
   {
    "duration": 8,
    "start_time": "2022-10-28T20:54:56.351Z"
   },
   {
    "duration": 5,
    "start_time": "2022-10-28T20:54:56.361Z"
   },
   {
    "duration": 10,
    "start_time": "2022-10-28T20:54:56.368Z"
   },
   {
    "duration": 33,
    "start_time": "2022-10-28T20:54:56.380Z"
   },
   {
    "duration": 5,
    "start_time": "2022-10-28T20:54:56.415Z"
   },
   {
    "duration": 20,
    "start_time": "2022-10-28T20:54:56.421Z"
   },
   {
    "duration": 32,
    "start_time": "2022-10-28T20:54:56.443Z"
   },
   {
    "duration": 33,
    "start_time": "2022-10-28T20:54:56.477Z"
   },
   {
    "duration": 23,
    "start_time": "2022-10-28T20:54:56.511Z"
   },
   {
    "duration": 45,
    "start_time": "2022-10-28T20:54:56.536Z"
   },
   {
    "duration": 29,
    "start_time": "2022-10-28T20:54:56.583Z"
   },
   {
    "duration": 34,
    "start_time": "2022-10-28T20:54:56.614Z"
   },
   {
    "duration": 48,
    "start_time": "2022-10-28T20:54:56.650Z"
   },
   {
    "duration": 51,
    "start_time": "2022-10-28T20:54:56.700Z"
   },
   {
    "duration": 399,
    "start_time": "2022-11-03T10:38:49.239Z"
   },
   {
    "duration": 387,
    "start_time": "2022-11-03T10:38:49.640Z"
   },
   {
    "duration": 20,
    "start_time": "2022-11-03T10:38:50.029Z"
   },
   {
    "duration": 15,
    "start_time": "2022-11-03T10:38:50.050Z"
   },
   {
    "duration": 16,
    "start_time": "2022-11-03T10:38:50.067Z"
   },
   {
    "duration": 14,
    "start_time": "2022-11-03T10:38:50.085Z"
   },
   {
    "duration": 8,
    "start_time": "2022-11-03T10:38:50.100Z"
   },
   {
    "duration": 6,
    "start_time": "2022-11-03T10:38:50.110Z"
   },
   {
    "duration": 80,
    "start_time": "2022-11-03T10:38:50.117Z"
   },
   {
    "duration": 10,
    "start_time": "2022-11-03T10:38:50.199Z"
   },
   {
    "duration": 10,
    "start_time": "2022-11-03T10:38:50.211Z"
   },
   {
    "duration": 12,
    "start_time": "2022-11-03T10:38:50.223Z"
   },
   {
    "duration": 19,
    "start_time": "2022-11-03T10:38:50.236Z"
   },
   {
    "duration": 14,
    "start_time": "2022-11-03T10:38:50.259Z"
   },
   {
    "duration": 35,
    "start_time": "2022-11-03T10:38:50.274Z"
   },
   {
    "duration": 17,
    "start_time": "2022-11-03T10:38:50.311Z"
   },
   {
    "duration": 4,
    "start_time": "2022-11-03T10:38:50.329Z"
   },
   {
    "duration": 16,
    "start_time": "2022-11-03T10:38:50.335Z"
   },
   {
    "duration": 8,
    "start_time": "2022-11-03T10:38:50.353Z"
   },
   {
    "duration": 11,
    "start_time": "2022-11-03T10:38:50.362Z"
   },
   {
    "duration": 5,
    "start_time": "2022-11-03T10:38:50.375Z"
   },
   {
    "duration": 39,
    "start_time": "2022-11-03T10:38:50.382Z"
   },
   {
    "duration": 38,
    "start_time": "2022-11-03T10:38:50.423Z"
   },
   {
    "duration": 43,
    "start_time": "2022-11-03T10:38:50.462Z"
   },
   {
    "duration": 16,
    "start_time": "2022-11-03T10:38:50.507Z"
   },
   {
    "duration": 7,
    "start_time": "2022-11-03T10:38:50.524Z"
   },
   {
    "duration": 18,
    "start_time": "2022-11-03T10:38:50.532Z"
   },
   {
    "duration": 11,
    "start_time": "2022-11-03T10:38:50.551Z"
   },
   {
    "duration": 12,
    "start_time": "2022-11-03T10:38:50.563Z"
   },
   {
    "duration": 7,
    "start_time": "2022-11-03T10:38:50.576Z"
   },
   {
    "duration": 6,
    "start_time": "2022-11-03T10:38:50.584Z"
   },
   {
    "duration": 21,
    "start_time": "2022-11-03T10:38:50.592Z"
   },
   {
    "duration": 6,
    "start_time": "2022-11-03T10:38:50.615Z"
   },
   {
    "duration": 4454,
    "start_time": "2022-11-03T10:38:50.623Z"
   },
   {
    "duration": 8,
    "start_time": "2022-11-03T10:38:55.079Z"
   },
   {
    "duration": 22,
    "start_time": "2022-11-03T10:38:55.088Z"
   },
   {
    "duration": 36,
    "start_time": "2022-11-03T10:38:55.112Z"
   },
   {
    "duration": 13,
    "start_time": "2022-11-03T10:38:55.149Z"
   },
   {
    "duration": 9,
    "start_time": "2022-11-03T10:38:55.164Z"
   },
   {
    "duration": 14,
    "start_time": "2022-11-03T10:38:55.174Z"
   },
   {
    "duration": 14,
    "start_time": "2022-11-03T10:38:55.192Z"
   },
   {
    "duration": 10,
    "start_time": "2022-11-03T10:38:55.207Z"
   },
   {
    "duration": 12,
    "start_time": "2022-11-03T10:38:55.219Z"
   },
   {
    "duration": 21,
    "start_time": "2022-11-03T10:38:55.232Z"
   },
   {
    "duration": 31,
    "start_time": "2022-11-03T10:38:55.254Z"
   },
   {
    "duration": 18,
    "start_time": "2022-11-03T10:38:55.286Z"
   },
   {
    "duration": 8,
    "start_time": "2022-11-03T10:38:55.306Z"
   },
   {
    "duration": 8,
    "start_time": "2022-11-03T10:38:55.316Z"
   },
   {
    "duration": 3,
    "start_time": "2022-11-03T10:38:55.326Z"
   },
   {
    "duration": 20,
    "start_time": "2022-11-03T10:38:55.330Z"
   },
   {
    "duration": 2,
    "start_time": "2022-11-03T10:38:55.352Z"
   },
   {
    "duration": 9,
    "start_time": "2022-11-03T10:38:55.356Z"
   },
   {
    "duration": 11,
    "start_time": "2022-11-03T10:38:55.366Z"
   },
   {
    "duration": 8,
    "start_time": "2022-11-03T10:38:55.378Z"
   },
   {
    "duration": 8,
    "start_time": "2022-11-03T10:38:55.408Z"
   },
   {
    "duration": 11,
    "start_time": "2022-11-03T10:38:55.417Z"
   },
   {
    "duration": 17,
    "start_time": "2022-11-03T10:38:55.430Z"
   },
   {
    "duration": 3,
    "start_time": "2022-11-03T10:38:55.449Z"
   },
   {
    "duration": 9,
    "start_time": "2022-11-03T10:38:55.454Z"
   },
   {
    "duration": 6,
    "start_time": "2022-11-03T10:38:55.465Z"
   },
   {
    "duration": 5,
    "start_time": "2022-11-03T10:38:55.472Z"
   },
   {
    "duration": 31,
    "start_time": "2022-11-03T10:38:55.478Z"
   },
   {
    "duration": 6,
    "start_time": "2022-11-03T10:38:55.511Z"
   },
   {
    "duration": 6,
    "start_time": "2022-11-03T10:38:55.519Z"
   },
   {
    "duration": 32,
    "start_time": "2022-11-03T10:38:55.526Z"
   },
   {
    "duration": 20,
    "start_time": "2022-11-03T10:38:55.560Z"
   },
   {
    "duration": 42,
    "start_time": "2022-11-03T10:38:55.582Z"
   },
   {
    "duration": 6,
    "start_time": "2022-11-03T10:38:55.626Z"
   },
   {
    "duration": 21,
    "start_time": "2022-11-03T10:38:55.634Z"
   },
   {
    "duration": 6,
    "start_time": "2022-11-03T10:38:55.657Z"
   },
   {
    "duration": 21,
    "start_time": "2022-11-03T10:38:55.664Z"
   },
   {
    "duration": 38,
    "start_time": "2022-11-03T10:38:55.686Z"
   },
   {
    "duration": 26,
    "start_time": "2022-11-03T10:38:55.726Z"
   },
   {
    "duration": 50,
    "start_time": "2022-11-03T11:15:24.123Z"
   },
   {
    "duration": 438,
    "start_time": "2022-11-03T11:27:21.213Z"
   },
   {
    "duration": 78,
    "start_time": "2022-11-03T11:27:21.653Z"
   },
   {
    "duration": 20,
    "start_time": "2022-11-03T11:27:21.733Z"
   },
   {
    "duration": 15,
    "start_time": "2022-11-03T11:27:21.755Z"
   },
   {
    "duration": 17,
    "start_time": "2022-11-03T11:27:21.771Z"
   },
   {
    "duration": 24,
    "start_time": "2022-11-03T11:27:21.790Z"
   },
   {
    "duration": 5,
    "start_time": "2022-11-03T11:27:21.815Z"
   },
   {
    "duration": 19,
    "start_time": "2022-11-03T11:27:21.822Z"
   },
   {
    "duration": 96,
    "start_time": "2022-11-03T11:27:21.843Z"
   },
   {
    "duration": 9,
    "start_time": "2022-11-03T11:27:21.942Z"
   },
   {
    "duration": 35,
    "start_time": "2022-11-03T11:27:21.952Z"
   },
   {
    "duration": 29,
    "start_time": "2022-11-03T11:27:21.989Z"
   },
   {
    "duration": 36,
    "start_time": "2022-11-03T11:27:22.019Z"
   },
   {
    "duration": 15,
    "start_time": "2022-11-03T11:27:22.056Z"
   },
   {
    "duration": 16,
    "start_time": "2022-11-03T11:27:22.073Z"
   },
   {
    "duration": 18,
    "start_time": "2022-11-03T11:27:22.091Z"
   },
   {
    "duration": 6,
    "start_time": "2022-11-03T11:27:22.110Z"
   },
   {
    "duration": 26,
    "start_time": "2022-11-03T11:27:22.118Z"
   },
   {
    "duration": 25,
    "start_time": "2022-11-03T11:27:22.146Z"
   },
   {
    "duration": 21,
    "start_time": "2022-11-03T11:27:22.173Z"
   },
   {
    "duration": 14,
    "start_time": "2022-11-03T11:27:22.196Z"
   },
   {
    "duration": 39,
    "start_time": "2022-11-03T11:27:22.212Z"
   },
   {
    "duration": 25,
    "start_time": "2022-11-03T11:27:22.253Z"
   },
   {
    "duration": 19,
    "start_time": "2022-11-03T11:27:22.280Z"
   },
   {
    "duration": 17,
    "start_time": "2022-11-03T11:27:22.301Z"
   },
   {
    "duration": 14,
    "start_time": "2022-11-03T11:27:22.320Z"
   },
   {
    "duration": 28,
    "start_time": "2022-11-03T11:27:22.335Z"
   },
   {
    "duration": 6,
    "start_time": "2022-11-03T11:27:22.367Z"
   },
   {
    "duration": 32,
    "start_time": "2022-11-03T11:27:22.375Z"
   },
   {
    "duration": 30,
    "start_time": "2022-11-03T11:27:22.409Z"
   },
   {
    "duration": 17,
    "start_time": "2022-11-03T11:27:22.441Z"
   },
   {
    "duration": 14,
    "start_time": "2022-11-03T11:27:22.460Z"
   },
   {
    "duration": 51,
    "start_time": "2022-11-03T11:27:22.476Z"
   },
   {
    "duration": 4558,
    "start_time": "2022-11-03T11:27:22.530Z"
   },
   {
    "duration": 24,
    "start_time": "2022-11-03T11:27:27.090Z"
   },
   {
    "duration": 25,
    "start_time": "2022-11-03T11:27:27.116Z"
   },
   {
    "duration": 22,
    "start_time": "2022-11-03T11:27:27.142Z"
   },
   {
    "duration": 15,
    "start_time": "2022-11-03T11:27:27.166Z"
   },
   {
    "duration": 16,
    "start_time": "2022-11-03T11:27:27.183Z"
   },
   {
    "duration": 9,
    "start_time": "2022-11-03T11:27:27.201Z"
   },
   {
    "duration": 11,
    "start_time": "2022-11-03T11:27:27.212Z"
   },
   {
    "duration": 9,
    "start_time": "2022-11-03T11:27:27.226Z"
   },
   {
    "duration": 30,
    "start_time": "2022-11-03T11:27:27.237Z"
   },
   {
    "duration": 18,
    "start_time": "2022-11-03T11:27:27.269Z"
   },
   {
    "duration": 31,
    "start_time": "2022-11-03T11:27:27.289Z"
   },
   {
    "duration": 12,
    "start_time": "2022-11-03T11:27:27.322Z"
   },
   {
    "duration": 6,
    "start_time": "2022-11-03T11:27:27.336Z"
   },
   {
    "duration": 12,
    "start_time": "2022-11-03T11:27:27.344Z"
   },
   {
    "duration": 4,
    "start_time": "2022-11-03T11:27:27.358Z"
   },
   {
    "duration": 32,
    "start_time": "2022-11-03T11:27:27.364Z"
   },
   {
    "duration": 4,
    "start_time": "2022-11-03T11:27:27.408Z"
   },
   {
    "duration": 17,
    "start_time": "2022-11-03T11:27:27.414Z"
   },
   {
    "duration": 17,
    "start_time": "2022-11-03T11:27:27.433Z"
   },
   {
    "duration": 9,
    "start_time": "2022-11-03T11:27:27.452Z"
   },
   {
    "duration": 13,
    "start_time": "2022-11-03T11:27:27.462Z"
   },
   {
    "duration": 37,
    "start_time": "2022-11-03T11:27:27.477Z"
   },
   {
    "duration": 12,
    "start_time": "2022-11-03T11:27:27.516Z"
   },
   {
    "duration": 4,
    "start_time": "2022-11-03T11:27:27.530Z"
   },
   {
    "duration": 10,
    "start_time": "2022-11-03T11:27:27.535Z"
   },
   {
    "duration": 6,
    "start_time": "2022-11-03T11:27:27.547Z"
   },
   {
    "duration": 10,
    "start_time": "2022-11-03T11:27:27.554Z"
   },
   {
    "duration": 10,
    "start_time": "2022-11-03T11:27:27.566Z"
   },
   {
    "duration": 6,
    "start_time": "2022-11-03T11:27:27.578Z"
   },
   {
    "duration": 25,
    "start_time": "2022-11-03T11:27:27.586Z"
   },
   {
    "duration": 35,
    "start_time": "2022-11-03T11:27:27.613Z"
   },
   {
    "duration": 24,
    "start_time": "2022-11-03T11:27:27.651Z"
   },
   {
    "duration": 47,
    "start_time": "2022-11-03T11:27:27.677Z"
   },
   {
    "duration": 6,
    "start_time": "2022-11-03T11:27:27.726Z"
   },
   {
    "duration": 21,
    "start_time": "2022-11-03T11:27:27.733Z"
   },
   {
    "duration": 11,
    "start_time": "2022-11-03T11:27:27.755Z"
   },
   {
    "duration": 32,
    "start_time": "2022-11-03T11:27:27.767Z"
   },
   {
    "duration": 25,
    "start_time": "2022-11-03T11:27:27.800Z"
   },
   {
    "duration": 19,
    "start_time": "2022-11-03T11:27:27.826Z"
   },
   {
    "duration": 436,
    "start_time": "2022-11-03T11:35:41.523Z"
   },
   {
    "duration": 77,
    "start_time": "2022-11-03T11:35:41.961Z"
   },
   {
    "duration": 25,
    "start_time": "2022-11-03T11:35:42.040Z"
   },
   {
    "duration": 26,
    "start_time": "2022-11-03T11:35:42.067Z"
   },
   {
    "duration": 15,
    "start_time": "2022-11-03T11:35:42.095Z"
   },
   {
    "duration": 7,
    "start_time": "2022-11-03T11:35:42.111Z"
   },
   {
    "duration": 6,
    "start_time": "2022-11-03T11:35:42.120Z"
   },
   {
    "duration": 6,
    "start_time": "2022-11-03T11:35:42.128Z"
   },
   {
    "duration": 111,
    "start_time": "2022-11-03T11:35:42.136Z"
   },
   {
    "duration": 9,
    "start_time": "2022-11-03T11:35:42.250Z"
   },
   {
    "duration": 25,
    "start_time": "2022-11-03T11:35:42.261Z"
   },
   {
    "duration": 13,
    "start_time": "2022-11-03T11:35:42.288Z"
   },
   {
    "duration": 19,
    "start_time": "2022-11-03T11:35:42.309Z"
   },
   {
    "duration": 15,
    "start_time": "2022-11-03T11:35:42.330Z"
   },
   {
    "duration": 14,
    "start_time": "2022-11-03T11:35:42.347Z"
   },
   {
    "duration": 17,
    "start_time": "2022-11-03T11:35:42.362Z"
   },
   {
    "duration": 31,
    "start_time": "2022-11-03T11:35:42.381Z"
   },
   {
    "duration": 13,
    "start_time": "2022-11-03T11:35:42.413Z"
   },
   {
    "duration": 10,
    "start_time": "2022-11-03T11:35:42.428Z"
   },
   {
    "duration": 11,
    "start_time": "2022-11-03T11:35:42.440Z"
   },
   {
    "duration": 8,
    "start_time": "2022-11-03T11:35:42.453Z"
   },
   {
    "duration": 28,
    "start_time": "2022-11-03T11:35:42.462Z"
   },
   {
    "duration": 19,
    "start_time": "2022-11-03T11:35:42.509Z"
   },
   {
    "duration": 29,
    "start_time": "2022-11-03T11:35:42.530Z"
   },
   {
    "duration": 42,
    "start_time": "2022-11-03T11:35:42.561Z"
   },
   {
    "duration": 18,
    "start_time": "2022-11-03T11:35:42.609Z"
   },
   {
    "duration": 26,
    "start_time": "2022-11-03T11:35:42.629Z"
   },
   {
    "duration": 23,
    "start_time": "2022-11-03T11:35:42.661Z"
   },
   {
    "duration": 25,
    "start_time": "2022-11-03T11:35:42.686Z"
   },
   {
    "duration": 24,
    "start_time": "2022-11-03T11:35:42.714Z"
   },
   {
    "duration": 10,
    "start_time": "2022-11-03T11:35:42.740Z"
   },
   {
    "duration": 15,
    "start_time": "2022-11-03T11:35:42.752Z"
   },
   {
    "duration": 25,
    "start_time": "2022-11-03T11:35:42.769Z"
   },
   {
    "duration": 4563,
    "start_time": "2022-11-03T11:35:42.796Z"
   },
   {
    "duration": 8,
    "start_time": "2022-11-03T11:35:47.361Z"
   },
   {
    "duration": 7,
    "start_time": "2022-11-03T11:35:47.371Z"
   },
   {
    "duration": 29,
    "start_time": "2022-11-03T11:35:47.380Z"
   },
   {
    "duration": 8,
    "start_time": "2022-11-03T11:35:47.411Z"
   },
   {
    "duration": 4,
    "start_time": "2022-11-03T11:35:47.421Z"
   },
   {
    "duration": 6,
    "start_time": "2022-11-03T11:35:47.427Z"
   },
   {
    "duration": 9,
    "start_time": "2022-11-03T11:35:47.434Z"
   },
   {
    "duration": 5,
    "start_time": "2022-11-03T11:35:47.444Z"
   },
   {
    "duration": 7,
    "start_time": "2022-11-03T11:35:47.451Z"
   },
   {
    "duration": 14,
    "start_time": "2022-11-03T11:35:47.460Z"
   },
   {
    "duration": 7,
    "start_time": "2022-11-03T11:35:47.475Z"
   },
   {
    "duration": 6,
    "start_time": "2022-11-03T11:35:47.508Z"
   },
   {
    "duration": 6,
    "start_time": "2022-11-03T11:35:47.516Z"
   },
   {
    "duration": 9,
    "start_time": "2022-11-03T11:35:47.523Z"
   },
   {
    "duration": 3,
    "start_time": "2022-11-03T11:35:47.533Z"
   },
   {
    "duration": 16,
    "start_time": "2022-11-03T11:35:47.537Z"
   },
   {
    "duration": 2,
    "start_time": "2022-11-03T11:35:47.555Z"
   },
   {
    "duration": 14,
    "start_time": "2022-11-03T11:35:47.559Z"
   },
   {
    "duration": 40,
    "start_time": "2022-11-03T11:35:47.574Z"
   },
   {
    "duration": 7,
    "start_time": "2022-11-03T11:35:47.616Z"
   },
   {
    "duration": 9,
    "start_time": "2022-11-03T11:35:47.624Z"
   },
   {
    "duration": 7,
    "start_time": "2022-11-03T11:35:47.634Z"
   },
   {
    "duration": 11,
    "start_time": "2022-11-03T11:35:47.642Z"
   },
   {
    "duration": 3,
    "start_time": "2022-11-03T11:35:47.655Z"
   },
   {
    "duration": 8,
    "start_time": "2022-11-03T11:35:47.659Z"
   },
   {
    "duration": 5,
    "start_time": "2022-11-03T11:35:47.669Z"
   },
   {
    "duration": 35,
    "start_time": "2022-11-03T11:35:47.676Z"
   },
   {
    "duration": 10,
    "start_time": "2022-11-03T11:35:47.712Z"
   },
   {
    "duration": 6,
    "start_time": "2022-11-03T11:35:47.724Z"
   },
   {
    "duration": 12,
    "start_time": "2022-11-03T11:35:47.731Z"
   },
   {
    "duration": 22,
    "start_time": "2022-11-03T11:35:47.744Z"
   },
   {
    "duration": 19,
    "start_time": "2022-11-03T11:35:47.767Z"
   },
   {
    "duration": 46,
    "start_time": "2022-11-03T11:35:47.787Z"
   },
   {
    "duration": 6,
    "start_time": "2022-11-03T11:35:47.835Z"
   },
   {
    "duration": 18,
    "start_time": "2022-11-03T11:35:47.843Z"
   },
   {
    "duration": 6,
    "start_time": "2022-11-03T11:35:47.863Z"
   },
   {
    "duration": 18,
    "start_time": "2022-11-03T11:35:47.870Z"
   },
   {
    "duration": 19,
    "start_time": "2022-11-03T11:35:47.909Z"
   },
   {
    "duration": 19,
    "start_time": "2022-11-03T11:35:47.930Z"
   },
   {
    "duration": 390,
    "start_time": "2022-11-03T11:39:16.033Z"
   },
   {
    "duration": 76,
    "start_time": "2022-11-03T11:39:16.425Z"
   },
   {
    "duration": 20,
    "start_time": "2022-11-03T11:39:16.502Z"
   },
   {
    "duration": 29,
    "start_time": "2022-11-03T11:39:16.525Z"
   },
   {
    "duration": 38,
    "start_time": "2022-11-03T11:39:16.556Z"
   },
   {
    "duration": 60,
    "start_time": "2022-11-03T11:39:16.596Z"
   },
   {
    "duration": 50,
    "start_time": "2022-11-03T11:39:16.658Z"
   },
   {
    "duration": 29,
    "start_time": "2022-11-03T11:39:16.710Z"
   },
   {
    "duration": 86,
    "start_time": "2022-11-03T11:39:16.741Z"
   },
   {
    "duration": 9,
    "start_time": "2022-11-03T11:39:16.829Z"
   },
   {
    "duration": 27,
    "start_time": "2022-11-03T11:39:16.840Z"
   },
   {
    "duration": 60,
    "start_time": "2022-11-03T11:39:16.869Z"
   },
   {
    "duration": 76,
    "start_time": "2022-11-03T11:39:16.930Z"
   },
   {
    "duration": 49,
    "start_time": "2022-11-03T11:39:17.008Z"
   },
   {
    "duration": 47,
    "start_time": "2022-11-03T11:39:17.058Z"
   },
   {
    "duration": 40,
    "start_time": "2022-11-03T11:39:17.107Z"
   },
   {
    "duration": 41,
    "start_time": "2022-11-03T11:39:17.149Z"
   },
   {
    "duration": 42,
    "start_time": "2022-11-03T11:39:17.192Z"
   },
   {
    "duration": 27,
    "start_time": "2022-11-03T11:39:17.235Z"
   },
   {
    "duration": 28,
    "start_time": "2022-11-03T11:39:17.264Z"
   },
   {
    "duration": 6,
    "start_time": "2022-11-03T11:39:17.293Z"
   },
   {
    "duration": 16,
    "start_time": "2022-11-03T11:39:17.300Z"
   },
   {
    "duration": 15,
    "start_time": "2022-11-03T11:39:17.317Z"
   },
   {
    "duration": 18,
    "start_time": "2022-11-03T11:39:17.334Z"
   },
   {
    "duration": 16,
    "start_time": "2022-11-03T11:39:17.354Z"
   },
   {
    "duration": 6,
    "start_time": "2022-11-03T11:39:17.372Z"
   },
   {
    "duration": 35,
    "start_time": "2022-11-03T11:39:17.379Z"
   },
   {
    "duration": 6,
    "start_time": "2022-11-03T11:39:17.418Z"
   },
   {
    "duration": 14,
    "start_time": "2022-11-03T11:39:17.426Z"
   },
   {
    "duration": 11,
    "start_time": "2022-11-03T11:39:17.442Z"
   },
   {
    "duration": 12,
    "start_time": "2022-11-03T11:39:17.454Z"
   },
   {
    "duration": 11,
    "start_time": "2022-11-03T11:39:17.467Z"
   },
   {
    "duration": 7,
    "start_time": "2022-11-03T11:39:17.480Z"
   },
   {
    "duration": 4259,
    "start_time": "2022-11-03T11:39:17.488Z"
   },
   {
    "duration": 7,
    "start_time": "2022-11-03T11:39:21.749Z"
   },
   {
    "duration": 4,
    "start_time": "2022-11-03T11:39:21.758Z"
   },
   {
    "duration": 14,
    "start_time": "2022-11-03T11:39:21.764Z"
   },
   {
    "duration": 29,
    "start_time": "2022-11-03T11:39:21.780Z"
   },
   {
    "duration": 5,
    "start_time": "2022-11-03T11:39:21.810Z"
   },
   {
    "duration": 5,
    "start_time": "2022-11-03T11:39:21.817Z"
   },
   {
    "duration": 40,
    "start_time": "2022-11-03T11:39:21.824Z"
   },
   {
    "duration": 23,
    "start_time": "2022-11-03T11:39:21.865Z"
   },
   {
    "duration": 15,
    "start_time": "2022-11-03T11:39:21.890Z"
   },
   {
    "duration": 13,
    "start_time": "2022-11-03T11:39:21.906Z"
   },
   {
    "duration": 8,
    "start_time": "2022-11-03T11:39:21.921Z"
   },
   {
    "duration": 7,
    "start_time": "2022-11-03T11:39:21.930Z"
   },
   {
    "duration": 5,
    "start_time": "2022-11-03T11:39:21.938Z"
   },
   {
    "duration": 12,
    "start_time": "2022-11-03T11:39:21.945Z"
   },
   {
    "duration": 6,
    "start_time": "2022-11-03T11:39:21.959Z"
   },
   {
    "duration": 15,
    "start_time": "2022-11-03T11:39:21.967Z"
   },
   {
    "duration": 3,
    "start_time": "2022-11-03T11:39:21.984Z"
   },
   {
    "duration": 21,
    "start_time": "2022-11-03T11:39:21.988Z"
   },
   {
    "duration": 11,
    "start_time": "2022-11-03T11:39:22.010Z"
   },
   {
    "duration": 11,
    "start_time": "2022-11-03T11:39:22.022Z"
   },
   {
    "duration": 11,
    "start_time": "2022-11-03T11:39:22.034Z"
   },
   {
    "duration": 7,
    "start_time": "2022-11-03T11:39:22.046Z"
   },
   {
    "duration": 18,
    "start_time": "2022-11-03T11:39:22.054Z"
   },
   {
    "duration": 3,
    "start_time": "2022-11-03T11:39:22.074Z"
   },
   {
    "duration": 30,
    "start_time": "2022-11-03T11:39:22.079Z"
   },
   {
    "duration": 6,
    "start_time": "2022-11-03T11:39:22.110Z"
   },
   {
    "duration": 9,
    "start_time": "2022-11-03T11:39:22.117Z"
   },
   {
    "duration": 11,
    "start_time": "2022-11-03T11:39:22.127Z"
   },
   {
    "duration": 6,
    "start_time": "2022-11-03T11:39:22.140Z"
   },
   {
    "duration": 10,
    "start_time": "2022-11-03T11:39:22.147Z"
   },
   {
    "duration": 24,
    "start_time": "2022-11-03T11:39:22.159Z"
   },
   {
    "duration": 32,
    "start_time": "2022-11-03T11:39:22.184Z"
   },
   {
    "duration": 25,
    "start_time": "2022-11-03T11:39:22.218Z"
   },
   {
    "duration": 6,
    "start_time": "2022-11-03T11:39:22.245Z"
   },
   {
    "duration": 20,
    "start_time": "2022-11-03T11:39:22.253Z"
   },
   {
    "duration": 6,
    "start_time": "2022-11-03T11:39:22.274Z"
   },
   {
    "duration": 39,
    "start_time": "2022-11-03T11:39:22.282Z"
   },
   {
    "duration": 27,
    "start_time": "2022-11-03T11:39:22.323Z"
   },
   {
    "duration": 18,
    "start_time": "2022-11-03T11:39:22.351Z"
   },
   {
    "duration": 375,
    "start_time": "2022-11-09T11:20:47.588Z"
   },
   {
    "duration": 113,
    "start_time": "2022-11-09T11:20:47.965Z"
   },
   {
    "duration": 18,
    "start_time": "2022-11-09T11:20:48.079Z"
   },
   {
    "duration": 14,
    "start_time": "2022-11-09T11:20:48.099Z"
   },
   {
    "duration": 16,
    "start_time": "2022-11-09T11:20:48.115Z"
   },
   {
    "duration": 7,
    "start_time": "2022-11-09T11:20:48.133Z"
   },
   {
    "duration": 16,
    "start_time": "2022-11-09T11:20:48.142Z"
   },
   {
    "duration": 8,
    "start_time": "2022-11-09T11:20:48.160Z"
   },
   {
    "duration": 88,
    "start_time": "2022-11-09T11:20:48.170Z"
   },
   {
    "duration": 9,
    "start_time": "2022-11-09T11:20:48.260Z"
   },
   {
    "duration": 15,
    "start_time": "2022-11-09T11:20:48.271Z"
   },
   {
    "duration": 13,
    "start_time": "2022-11-09T11:20:48.287Z"
   },
   {
    "duration": 35,
    "start_time": "2022-11-09T11:20:48.301Z"
   },
   {
    "duration": 14,
    "start_time": "2022-11-09T11:20:48.338Z"
   },
   {
    "duration": 18,
    "start_time": "2022-11-09T11:20:48.353Z"
   },
   {
    "duration": 18,
    "start_time": "2022-11-09T11:20:48.373Z"
   },
   {
    "duration": 4,
    "start_time": "2022-11-09T11:20:48.393Z"
   },
   {
    "duration": 33,
    "start_time": "2022-11-09T11:20:48.398Z"
   },
   {
    "duration": 14,
    "start_time": "2022-11-09T11:20:48.432Z"
   },
   {
    "duration": 11,
    "start_time": "2022-11-09T11:20:48.448Z"
   },
   {
    "duration": 7,
    "start_time": "2022-11-09T11:20:48.461Z"
   },
   {
    "duration": 17,
    "start_time": "2022-11-09T11:20:48.470Z"
   },
   {
    "duration": 16,
    "start_time": "2022-11-09T11:20:48.489Z"
   },
   {
    "duration": 41,
    "start_time": "2022-11-09T11:20:48.506Z"
   },
   {
    "duration": 16,
    "start_time": "2022-11-09T11:20:48.548Z"
   },
   {
    "duration": 7,
    "start_time": "2022-11-09T11:20:48.566Z"
   },
   {
    "duration": 22,
    "start_time": "2022-11-09T11:20:48.574Z"
   },
   {
    "duration": 7,
    "start_time": "2022-11-09T11:20:48.599Z"
   },
   {
    "duration": 31,
    "start_time": "2022-11-09T11:20:48.608Z"
   },
   {
    "duration": 11,
    "start_time": "2022-11-09T11:20:48.640Z"
   },
   {
    "duration": 7,
    "start_time": "2022-11-09T11:20:48.652Z"
   },
   {
    "duration": 10,
    "start_time": "2022-11-09T11:20:48.661Z"
   },
   {
    "duration": 9,
    "start_time": "2022-11-09T11:20:48.673Z"
   },
   {
    "duration": 4377,
    "start_time": "2022-11-09T11:20:48.684Z"
   },
   {
    "duration": 8,
    "start_time": "2022-11-09T11:20:53.062Z"
   },
   {
    "duration": 8,
    "start_time": "2022-11-09T11:20:53.071Z"
   },
   {
    "duration": 14,
    "start_time": "2022-11-09T11:20:53.081Z"
   },
   {
    "duration": 10,
    "start_time": "2022-11-09T11:20:53.097Z"
   },
   {
    "duration": 22,
    "start_time": "2022-11-09T11:20:53.109Z"
   },
   {
    "duration": 5,
    "start_time": "2022-11-09T11:20:53.132Z"
   },
   {
    "duration": 7,
    "start_time": "2022-11-09T11:20:53.139Z"
   },
   {
    "duration": 5,
    "start_time": "2022-11-09T11:20:53.147Z"
   },
   {
    "duration": 10,
    "start_time": "2022-11-09T11:20:53.153Z"
   },
   {
    "duration": 13,
    "start_time": "2022-11-09T11:20:53.164Z"
   },
   {
    "duration": 11,
    "start_time": "2022-11-09T11:20:53.179Z"
   },
   {
    "duration": 7,
    "start_time": "2022-11-09T11:20:53.192Z"
   },
   {
    "duration": 5,
    "start_time": "2022-11-09T11:20:53.200Z"
   },
   {
    "duration": 7,
    "start_time": "2022-11-09T11:20:53.230Z"
   },
   {
    "duration": 4,
    "start_time": "2022-11-09T11:20:53.239Z"
   },
   {
    "duration": 19,
    "start_time": "2022-11-09T11:20:53.244Z"
   },
   {
    "duration": 3,
    "start_time": "2022-11-09T11:20:53.264Z"
   },
   {
    "duration": 19,
    "start_time": "2022-11-09T11:20:53.268Z"
   },
   {
    "duration": 12,
    "start_time": "2022-11-09T11:20:53.288Z"
   },
   {
    "duration": 29,
    "start_time": "2022-11-09T11:20:53.302Z"
   },
   {
    "duration": 9,
    "start_time": "2022-11-09T11:20:53.332Z"
   },
   {
    "duration": 10,
    "start_time": "2022-11-09T11:20:53.342Z"
   },
   {
    "duration": 14,
    "start_time": "2022-11-09T11:20:53.354Z"
   },
   {
    "duration": 3,
    "start_time": "2022-11-09T11:20:53.370Z"
   },
   {
    "duration": 10,
    "start_time": "2022-11-09T11:20:53.374Z"
   },
   {
    "duration": 7,
    "start_time": "2022-11-09T11:20:53.385Z"
   },
   {
    "duration": 5,
    "start_time": "2022-11-09T11:20:53.393Z"
   },
   {
    "duration": 48,
    "start_time": "2022-11-09T11:20:53.400Z"
   },
   {
    "duration": 13,
    "start_time": "2022-11-09T11:20:53.449Z"
   },
   {
    "duration": 7,
    "start_time": "2022-11-09T11:20:53.464Z"
   },
   {
    "duration": 26,
    "start_time": "2022-11-09T11:20:53.473Z"
   },
   {
    "duration": 21,
    "start_time": "2022-11-09T11:20:53.501Z"
   },
   {
    "duration": 35,
    "start_time": "2022-11-09T11:20:53.524Z"
   },
   {
    "duration": 9,
    "start_time": "2022-11-09T11:20:53.560Z"
   },
   {
    "duration": 21,
    "start_time": "2022-11-09T11:20:53.570Z"
   },
   {
    "duration": 8,
    "start_time": "2022-11-09T11:20:53.593Z"
   },
   {
    "duration": 47,
    "start_time": "2022-11-09T11:20:53.602Z"
   },
   {
    "duration": 23,
    "start_time": "2022-11-09T11:20:53.650Z"
   },
   {
    "duration": 25,
    "start_time": "2022-11-09T11:20:53.677Z"
   },
   {
    "duration": 411,
    "start_time": "2022-11-09T11:36:40.954Z"
   },
   {
    "duration": 82,
    "start_time": "2022-11-09T11:36:41.367Z"
   },
   {
    "duration": 20,
    "start_time": "2022-11-09T11:36:41.450Z"
   },
   {
    "duration": 14,
    "start_time": "2022-11-09T11:36:41.472Z"
   },
   {
    "duration": 10,
    "start_time": "2022-11-09T11:36:41.487Z"
   },
   {
    "duration": 8,
    "start_time": "2022-11-09T11:36:41.498Z"
   },
   {
    "duration": 6,
    "start_time": "2022-11-09T11:36:41.531Z"
   },
   {
    "duration": 6,
    "start_time": "2022-11-09T11:36:41.538Z"
   },
   {
    "duration": 102,
    "start_time": "2022-11-09T11:36:41.546Z"
   },
   {
    "duration": 9,
    "start_time": "2022-11-09T11:36:41.650Z"
   },
   {
    "duration": 12,
    "start_time": "2022-11-09T11:36:41.660Z"
   },
   {
    "duration": 13,
    "start_time": "2022-11-09T11:36:41.673Z"
   },
   {
    "duration": 19,
    "start_time": "2022-11-09T11:36:41.687Z"
   },
   {
    "duration": 14,
    "start_time": "2022-11-09T11:36:41.731Z"
   },
   {
    "duration": 10,
    "start_time": "2022-11-09T11:36:41.747Z"
   },
   {
    "duration": 16,
    "start_time": "2022-11-09T11:36:41.759Z"
   },
   {
    "duration": 4,
    "start_time": "2022-11-09T11:36:41.777Z"
   },
   {
    "duration": 15,
    "start_time": "2022-11-09T11:36:41.783Z"
   },
   {
    "duration": 37,
    "start_time": "2022-11-09T11:36:41.800Z"
   },
   {
    "duration": 11,
    "start_time": "2022-11-09T11:36:41.839Z"
   },
   {
    "duration": 5,
    "start_time": "2022-11-09T11:36:41.852Z"
   },
   {
    "duration": 19,
    "start_time": "2022-11-09T11:36:41.859Z"
   },
   {
    "duration": 15,
    "start_time": "2022-11-09T11:36:41.879Z"
   },
   {
    "duration": 43,
    "start_time": "2022-11-09T11:36:41.897Z"
   },
   {
    "duration": 16,
    "start_time": "2022-11-09T11:36:41.941Z"
   },
   {
    "duration": 6,
    "start_time": "2022-11-09T11:36:41.959Z"
   },
   {
    "duration": 16,
    "start_time": "2022-11-09T11:36:41.966Z"
   },
   {
    "duration": 6,
    "start_time": "2022-11-09T11:36:41.986Z"
   },
   {
    "duration": 12,
    "start_time": "2022-11-09T11:36:41.994Z"
   },
   {
    "duration": 8,
    "start_time": "2022-11-09T11:36:42.031Z"
   },
   {
    "duration": 7,
    "start_time": "2022-11-09T11:36:42.040Z"
   },
   {
    "duration": 11,
    "start_time": "2022-11-09T11:36:42.048Z"
   },
   {
    "duration": 10,
    "start_time": "2022-11-09T11:36:42.060Z"
   },
   {
    "duration": 4663,
    "start_time": "2022-11-09T11:36:42.072Z"
   },
   {
    "duration": 8,
    "start_time": "2022-11-09T11:36:46.737Z"
   },
   {
    "duration": 22,
    "start_time": "2022-11-09T11:36:46.747Z"
   },
   {
    "duration": 18,
    "start_time": "2022-11-09T11:36:46.770Z"
   },
   {
    "duration": 11,
    "start_time": "2022-11-09T11:36:46.790Z"
   },
   {
    "duration": 7,
    "start_time": "2022-11-09T11:36:46.803Z"
   },
   {
    "duration": 5,
    "start_time": "2022-11-09T11:36:46.811Z"
   },
   {
    "duration": 14,
    "start_time": "2022-11-09T11:36:46.817Z"
   },
   {
    "duration": 4,
    "start_time": "2022-11-09T11:36:46.833Z"
   },
   {
    "duration": 11,
    "start_time": "2022-11-09T11:36:46.839Z"
   },
   {
    "duration": 12,
    "start_time": "2022-11-09T11:36:46.852Z"
   },
   {
    "duration": 11,
    "start_time": "2022-11-09T11:36:46.866Z"
   },
   {
    "duration": 7,
    "start_time": "2022-11-09T11:36:46.879Z"
   },
   {
    "duration": 6,
    "start_time": "2022-11-09T11:36:46.888Z"
   },
   {
    "duration": 7,
    "start_time": "2022-11-09T11:36:46.896Z"
   },
   {
    "duration": 27,
    "start_time": "2022-11-09T11:36:46.905Z"
   },
   {
    "duration": 20,
    "start_time": "2022-11-09T11:36:46.934Z"
   },
   {
    "duration": 3,
    "start_time": "2022-11-09T11:36:46.956Z"
   },
   {
    "duration": 14,
    "start_time": "2022-11-09T11:36:46.960Z"
   },
   {
    "duration": 16,
    "start_time": "2022-11-09T11:36:46.975Z"
   },
   {
    "duration": 9,
    "start_time": "2022-11-09T11:36:46.993Z"
   },
   {
    "duration": 10,
    "start_time": "2022-11-09T11:36:47.003Z"
   },
   {
    "duration": 17,
    "start_time": "2022-11-09T11:36:47.014Z"
   },
   {
    "duration": 12,
    "start_time": "2022-11-09T11:36:47.033Z"
   },
   {
    "duration": 3,
    "start_time": "2022-11-09T11:36:47.047Z"
   },
   {
    "duration": 13,
    "start_time": "2022-11-09T11:36:47.051Z"
   },
   {
    "duration": 7,
    "start_time": "2022-11-09T11:36:47.065Z"
   },
   {
    "duration": 8,
    "start_time": "2022-11-09T11:36:47.073Z"
   },
   {
    "duration": 11,
    "start_time": "2022-11-09T11:36:47.082Z"
   },
   {
    "duration": 7,
    "start_time": "2022-11-09T11:36:47.094Z"
   },
   {
    "duration": 30,
    "start_time": "2022-11-09T11:36:47.102Z"
   },
   {
    "duration": 24,
    "start_time": "2022-11-09T11:36:47.133Z"
   },
   {
    "duration": 19,
    "start_time": "2022-11-09T11:36:47.158Z"
   },
   {
    "duration": 25,
    "start_time": "2022-11-09T11:36:47.179Z"
   },
   {
    "duration": 29,
    "start_time": "2022-11-09T11:36:47.206Z"
   },
   {
    "duration": 21,
    "start_time": "2022-11-09T11:36:47.236Z"
   },
   {
    "duration": 11,
    "start_time": "2022-11-09T11:36:47.258Z"
   },
   {
    "duration": 21,
    "start_time": "2022-11-09T11:36:47.270Z"
   },
   {
    "duration": 42,
    "start_time": "2022-11-09T11:36:47.292Z"
   },
   {
    "duration": 21,
    "start_time": "2022-11-09T11:36:47.335Z"
   },
   {
    "duration": 422,
    "start_time": "2022-11-09T11:40:54.015Z"
   },
   {
    "duration": 73,
    "start_time": "2022-11-09T11:40:54.439Z"
   },
   {
    "duration": 19,
    "start_time": "2022-11-09T11:40:54.514Z"
   },
   {
    "duration": 14,
    "start_time": "2022-11-09T11:40:54.535Z"
   },
   {
    "duration": 9,
    "start_time": "2022-11-09T11:40:54.551Z"
   },
   {
    "duration": 8,
    "start_time": "2022-11-09T11:40:54.562Z"
   },
   {
    "duration": 5,
    "start_time": "2022-11-09T11:40:54.572Z"
   },
   {
    "duration": 13,
    "start_time": "2022-11-09T11:40:54.578Z"
   },
   {
    "duration": 97,
    "start_time": "2022-11-09T11:40:54.593Z"
   },
   {
    "duration": 10,
    "start_time": "2022-11-09T11:40:54.691Z"
   },
   {
    "duration": 14,
    "start_time": "2022-11-09T11:40:54.702Z"
   },
   {
    "duration": 11,
    "start_time": "2022-11-09T11:40:54.731Z"
   },
   {
    "duration": 25,
    "start_time": "2022-11-09T11:40:54.743Z"
   },
   {
    "duration": 15,
    "start_time": "2022-11-09T11:40:54.771Z"
   },
   {
    "duration": 78,
    "start_time": "2022-11-09T11:40:54.788Z"
   },
   {
    "duration": 18,
    "start_time": "2022-11-09T11:40:54.867Z"
   },
   {
    "duration": 9,
    "start_time": "2022-11-09T11:40:54.886Z"
   },
   {
    "duration": 18,
    "start_time": "2022-11-09T11:40:54.896Z"
   },
   {
    "duration": 10,
    "start_time": "2022-11-09T11:40:54.916Z"
   },
   {
    "duration": 14,
    "start_time": "2022-11-09T11:40:54.927Z"
   },
   {
    "duration": 6,
    "start_time": "2022-11-09T11:40:54.942Z"
   },
   {
    "duration": 18,
    "start_time": "2022-11-09T11:40:54.950Z"
   },
   {
    "duration": 17,
    "start_time": "2022-11-09T11:40:54.969Z"
   },
   {
    "duration": 19,
    "start_time": "2022-11-09T11:40:54.987Z"
   },
   {
    "duration": 35,
    "start_time": "2022-11-09T11:40:55.008Z"
   },
   {
    "duration": 7,
    "start_time": "2022-11-09T11:40:55.044Z"
   },
   {
    "duration": 15,
    "start_time": "2022-11-09T11:40:55.052Z"
   },
   {
    "duration": 7,
    "start_time": "2022-11-09T11:40:55.068Z"
   },
   {
    "duration": 16,
    "start_time": "2022-11-09T11:40:55.076Z"
   },
   {
    "duration": 12,
    "start_time": "2022-11-09T11:40:55.094Z"
   },
   {
    "duration": 8,
    "start_time": "2022-11-09T11:40:55.131Z"
   },
   {
    "duration": 10,
    "start_time": "2022-11-09T11:40:55.141Z"
   },
   {
    "duration": 8,
    "start_time": "2022-11-09T11:40:55.153Z"
   },
   {
    "duration": 4590,
    "start_time": "2022-11-09T11:40:55.163Z"
   },
   {
    "duration": 8,
    "start_time": "2022-11-09T11:40:59.755Z"
   },
   {
    "duration": 8,
    "start_time": "2022-11-09T11:40:59.765Z"
   },
   {
    "duration": 15,
    "start_time": "2022-11-09T11:40:59.774Z"
   },
   {
    "duration": 15,
    "start_time": "2022-11-09T11:40:59.790Z"
   },
   {
    "duration": 5,
    "start_time": "2022-11-09T11:40:59.807Z"
   },
   {
    "duration": 5,
    "start_time": "2022-11-09T11:40:59.831Z"
   },
   {
    "duration": 6,
    "start_time": "2022-11-09T11:40:59.840Z"
   },
   {
    "duration": 5,
    "start_time": "2022-11-09T11:40:59.848Z"
   },
   {
    "duration": 9,
    "start_time": "2022-11-09T11:40:59.855Z"
   },
   {
    "duration": 19,
    "start_time": "2022-11-09T11:40:59.865Z"
   },
   {
    "duration": 9,
    "start_time": "2022-11-09T11:40:59.886Z"
   },
   {
    "duration": 11,
    "start_time": "2022-11-09T11:40:59.896Z"
   },
   {
    "duration": 25,
    "start_time": "2022-11-09T11:40:59.909Z"
   },
   {
    "duration": 14,
    "start_time": "2022-11-09T11:40:59.936Z"
   },
   {
    "duration": 5,
    "start_time": "2022-11-09T11:40:59.951Z"
   },
   {
    "duration": 21,
    "start_time": "2022-11-09T11:40:59.958Z"
   },
   {
    "duration": 3,
    "start_time": "2022-11-09T11:40:59.981Z"
   },
   {
    "duration": 9,
    "start_time": "2022-11-09T11:40:59.986Z"
   },
   {
    "duration": 12,
    "start_time": "2022-11-09T11:40:59.997Z"
   },
   {
    "duration": 19,
    "start_time": "2022-11-09T11:41:00.031Z"
   },
   {
    "duration": 17,
    "start_time": "2022-11-09T11:41:00.052Z"
   },
   {
    "duration": 8,
    "start_time": "2022-11-09T11:41:00.070Z"
   },
   {
    "duration": 15,
    "start_time": "2022-11-09T11:41:00.079Z"
   },
   {
    "duration": 4,
    "start_time": "2022-11-09T11:41:00.095Z"
   },
   {
    "duration": 47,
    "start_time": "2022-11-09T11:41:00.101Z"
   },
   {
    "duration": 13,
    "start_time": "2022-11-09T11:41:00.150Z"
   },
   {
    "duration": 16,
    "start_time": "2022-11-09T11:41:00.165Z"
   },
   {
    "duration": 30,
    "start_time": "2022-11-09T11:41:00.182Z"
   },
   {
    "duration": 21,
    "start_time": "2022-11-09T11:41:00.213Z"
   },
   {
    "duration": 23,
    "start_time": "2022-11-09T11:41:00.235Z"
   },
   {
    "duration": 41,
    "start_time": "2022-11-09T11:41:00.260Z"
   },
   {
    "duration": 26,
    "start_time": "2022-11-09T11:41:00.303Z"
   },
   {
    "duration": 47,
    "start_time": "2022-11-09T11:41:00.331Z"
   },
   {
    "duration": 7,
    "start_time": "2022-11-09T11:41:00.380Z"
   },
   {
    "duration": 50,
    "start_time": "2022-11-09T11:41:00.388Z"
   },
   {
    "duration": 8,
    "start_time": "2022-11-09T11:41:00.440Z"
   },
   {
    "duration": 39,
    "start_time": "2022-11-09T11:41:00.450Z"
   },
   {
    "duration": 44,
    "start_time": "2022-11-09T11:41:00.490Z"
   },
   {
    "duration": 34,
    "start_time": "2022-11-09T11:41:00.536Z"
   }
  ],
  "kernelspec": {
   "display_name": "Python 3 (ipykernel)",
   "language": "python",
   "name": "python3"
  },
  "language_info": {
   "codemirror_mode": {
    "name": "ipython",
    "version": 3
   },
   "file_extension": ".py",
   "mimetype": "text/x-python",
   "name": "python",
   "nbconvert_exporter": "python",
   "pygments_lexer": "ipython3",
   "version": "3.9.5"
  },
  "toc": {
   "base_numbering": 1,
   "nav_menu": {},
   "number_sections": true,
   "sideBar": true,
   "skip_h1_title": true,
   "title_cell": "Table of Contents",
   "title_sidebar": "Contents",
   "toc_cell": false,
   "toc_position": {
    "height": "calc(100% - 180px)",
    "left": "10px",
    "top": "150px",
    "width": "262.361px"
   },
   "toc_section_display": true,
   "toc_window_display": true
  }
 },
 "nbformat": 4,
 "nbformat_minor": 2
}
