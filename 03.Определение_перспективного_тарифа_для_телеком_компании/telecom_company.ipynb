{
 "cells": [
  {
   "cell_type": "markdown",
   "source": [
    "# Определение перспективного тарифа для телеком-компании"
   ],
   "metadata": {
    "id": "fXO5Cy4Zsimt"
   }
  },
  {
   "cell_type": "markdown",
   "source": [
    "Для исследования тарифов используются данные оператора сотовой связи «Мегалайн», которые содержат информацию о 500 пользователях за 2018 год. Клиентам предлагают два тарифных плана: «Смарт» и «Ультра».\n",
    "\n",
    "Тариф «Смарт»\n",
    "- Ежемесячная плата: 550 рублей\n",
    "- Включено 500 минут разговора, 50 сообщений и 15 Гб интернет-трафика\n",
    "- Стоимость услуг сверх тарифного пакета: 1. минута разговора: 3 рубля («Мегалайн» всегда округляет вверх значения минут и мегабайтов. Если пользователь проговорил всего 1 секунду, в тарифе засчитывается целая минута); 2. сообщение: 3 рубля; 3. 1 Гб интернет-трафика: 200 рублей.\n",
    "\n",
    "Тариф «Ультра»\n",
    "- Ежемесячная плата: 1950 рублей\n",
    "- Включено 3000 минут разговора, 1000 сообщений и 30 Гб интернет-трафика\n",
    "- Стоимость услуг сверх тарифного пакета: 1. минута разговора: 1 рубль; 2. сообщение: 1 рубль; 3. 1 Гб интернет-трафика: 150 рублей.\n",
    "\n",
    "Цель исследования: определить наиболее выгодный тариф для оператора сотовой связи."
   ],
   "metadata": {
    "id": "7MwFNZYosicl"
   }
  },
  {
   "cell_type": "markdown",
   "source": [
    "**Описание данных:**\n",
    "\n",
    "Таблица users (информация о пользователях):\n",
    "\n",
    "* user_id — уникальный идентификатор пользователя;\n",
    "* first_name — имя пользователя;\n",
    "* last_name — фамилия пользователя;\n",
    "* age — возраст пользователя (годы);\n",
    "* reg_date — дата подключения тарифа (день, месяц, год);\n",
    "* churn_date — дата прекращения пользования тарифом (если значение пропущено, то тариф ещё действовал на момент выгрузки данных);\n",
    "* city — город проживания пользователя;\n",
    "* tariff — название тарифного плана.\n",
    "\n",
    "Таблица calls (информация о звонках):\n",
    "\n",
    "* id — уникальный номер звонка;\n",
    "* call_date — дата звонка;\n",
    "* duration — длительность звонка в минутах;\n",
    "* user_id — идентификатор пользователя, сделавшего звонок.\n",
    "\n",
    "Таблица messages (информация о сообщениях):\n",
    "\n",
    "* id — уникальный номер сообщения;\n",
    "* message_date — дата сообщения;\n",
    "* user_id — идентификатор пользователя, отправившего сообщение.\n",
    "\n",
    "Таблица internet (информация об интернет-сессиях):\n",
    "\n",
    "* id — уникальный номер сессии;\n",
    "* mb_used — объём потраченного за сессию интернет-трафика (в мегабайтах);\n",
    "* session_date — дата интернет-сессии;\n",
    "* user_id — идентификатор пользователя.\n",
    "\n",
    "Таблица tariffs (информация о тарифах):\n",
    "\n",
    "* tariff_name — название тарифа;\n",
    "* rub_monthly_fee — ежемесячная абонентская плата в рублях;\n",
    "* minutes_included — количество минут разговора в месяц, включённых в абонентскую плату;\n",
    "* messages_included — количество сообщений в месяц, включённых в абонентскую плату;\n",
    "* mb_per_month_included — объём интернет-трафика, включённого в абонентскую плату (в мегабайтах);\n",
    "* rub_per_minute — стоимость минуты разговора сверх тарифного пакета (например, если в тарифе 100 минут разговора в месяц, то со 101 минуты будет взиматься плата);\n",
    "* rub_per_message — стоимость отправки сообщения сверх тарифного пакета;\n",
    "* rub_per_gb — стоимость дополнительного гигабайта интернет-трафика сверх тарифного пакета (1 гигабайт = 1024 мегабайта)."
   ],
   "metadata": {
    "id": "5uh3pJ5xv9We"
   }
  },
  {
   "cell_type": "markdown",
   "source": [
    "## План работы\n",
    "\n",
    "1. [Изучение данных](#1)\n",
    "\n",
    "2. [Предобработка данных](#2)\n",
    "\n",
    "    2.1 [Замена типа данных](#2.1)\n",
    "\n",
    "    2.2 [Проверка и преобразование таблиц](#2.2)\n",
    "\n",
    "    2.3 [Объединение таблиц](#2.3)\n",
    "\n",
    "3. [Исследовательский анализ данных](#3)\n",
    "\n",
    "\n",
    "4. [Проверка гипотез](#4)\n",
    "\n",
    "    4.1  [Сравнение средней выручки по тарифам](#4.1)\n",
    "\n",
    "    4.2  [Сравнение средней выручки пользователей из Москвы и регионов](#4.2)\n",
    "\n",
    "5. [Общие выводы](#5)"
   ],
   "metadata": {
    "id": "IVWH1rqwNAat"
   }
  },
  {
   "cell_type": "markdown",
   "source": [
    "<a name=\"1\"><h2>1 Изучение данных</h2></a>"
   ],
   "metadata": {
    "id": "E6noFLtivec9"
   }
  },
  {
   "cell_type": "markdown",
   "metadata": {
    "id": "qzyLoQD_tOXZ"
   },
   "source": [
    "Импортируем библиотеки:"
   ]
  },
  {
   "cell_type": "code",
   "execution_count": null,
   "metadata": {
    "id": "3DgXFXCvtOXa",
    "pycharm": {
     "is_executing": true
    }
   },
   "outputs": [],
   "source": [
    "import pandas as pd\n",
    "import numpy as np\n",
    "import matplotlib.pyplot as plt\n",
    "%config InlineBackend.figure_format = 'retina'\n",
    "from scipy import stats as st"
   ]
  },
  {
   "cell_type": "markdown",
   "metadata": {
    "id": "bmm115pbtOXb"
   },
   "source": [
    "Прочитаем файлы и сохраним в переменных calls, internet, messages и users и tariffs:"
   ]
  },
  {
   "cell_type": "code",
   "execution_count": null,
   "metadata": {
    "id": "3w5ug52ltOXc",
    "pycharm": {
     "is_executing": true
    }
   },
   "outputs": [],
   "source": [
    "calls = pd.read_csv('/content/calls.csv')\n",
    "internet = pd.read_csv('/content/internet.csv')\n",
    "messages = pd.read_csv('/content/messages.csv')\n",
    "users = pd.read_csv('/content/users.csv')\n",
    "tariffs = pd.read_csv('/content/tariffs.csv')"
   ]
  },
  {
   "cell_type": "markdown",
   "metadata": {
    "id": "uSeH6rUBtOXd"
   },
   "source": [
    "Выведем на экран первые строки таблицы 'calls' и просмотрим общую информацию:"
   ]
  },
  {
   "cell_type": "code",
   "execution_count": null,
   "metadata": {
    "colab": {
     "base_uri": "https://localhost:8080/",
     "height": 363
    },
    "id": "rBRfD1kWtOXd",
    "outputId": "32dec622-e95a-4c09-f303-b6c258f335a8",
    "pycharm": {
     "is_executing": true
    }
   },
   "outputs": [],
   "source": [
    "calls.head(10)"
   ]
  },
  {
   "cell_type": "code",
   "execution_count": null,
   "metadata": {
    "colab": {
     "base_uri": "https://localhost:8080/"
    },
    "id": "yOMHQesDtOXe",
    "outputId": "da917540-700c-4255-8ec8-2406e7de643a",
    "pycharm": {
     "is_executing": true
    }
   },
   "outputs": [],
   "source": [
    "calls.info()"
   ]
  },
  {
   "cell_type": "markdown",
   "metadata": {
    "id": "nJyfuW8ktOXe"
   },
   "source": [
    "Таблица 'calls' содержит информацию о звонках, всего 202607 строк и 4 столбца, пропусков нет."
   ]
  },
  {
   "cell_type": "markdown",
   "metadata": {
    "id": "hG4k9LoftOXe"
   },
   "source": [
    "Просмотрим данные таблицы 'internet':"
   ]
  },
  {
   "cell_type": "code",
   "execution_count": null,
   "metadata": {
    "colab": {
     "base_uri": "https://localhost:8080/",
     "height": 363
    },
    "id": "kYF5HonstOXe",
    "outputId": "08b9c38e-f070-4d18-df11-96f3976dfb39",
    "pycharm": {
     "is_executing": true
    }
   },
   "outputs": [],
   "source": [
    "internet.head(10)"
   ]
  },
  {
   "cell_type": "code",
   "execution_count": null,
   "metadata": {
    "colab": {
     "base_uri": "https://localhost:8080/"
    },
    "id": "E1YAPUUatOXf",
    "outputId": "f9fc850b-a3ff-41f3-e3ff-498e6c3309c8",
    "pycharm": {
     "is_executing": true
    }
   },
   "outputs": [],
   "source": [
    "internet.info()"
   ]
  },
  {
   "cell_type": "markdown",
   "metadata": {
    "id": "daoXEDuotOXf"
   },
   "source": [
    "Таблица 'internet' содержит информацию об интернет-сессиях, всего 149396 строк и 5 столбцов, пропусков нет."
   ]
  },
  {
   "cell_type": "markdown",
   "metadata": {
    "id": "Teucvxh1tOXf"
   },
   "source": [
    "Просмотрим данные таблицы 'messages':"
   ]
  },
  {
   "cell_type": "code",
   "execution_count": null,
   "metadata": {
    "colab": {
     "base_uri": "https://localhost:8080/",
     "height": 363
    },
    "id": "adly7h8VtOXf",
    "outputId": "131c94d7-af40-40fd-9f03-10863130b9ad",
    "pycharm": {
     "is_executing": true
    }
   },
   "outputs": [],
   "source": [
    "messages.head(10)"
   ]
  },
  {
   "cell_type": "code",
   "execution_count": null,
   "metadata": {
    "colab": {
     "base_uri": "https://localhost:8080/"
    },
    "id": "lPAM07HttOXf",
    "outputId": "84d77f63-c854-47d8-ed2b-7cba311638fe",
    "pycharm": {
     "is_executing": true
    }
   },
   "outputs": [],
   "source": [
    "messages.info()"
   ]
  },
  {
   "cell_type": "markdown",
   "metadata": {
    "id": "79pzUsSctOXf"
   },
   "source": [
    "Таблица 'messages' содержит информацию о сообщениях, всего 123036 строк и 3 столбца, пропусков нет."
   ]
  },
  {
   "cell_type": "markdown",
   "metadata": {
    "id": "L9BQJ-cHtOXg"
   },
   "source": [
    "Просмотрим данные таблицы users:"
   ]
  },
  {
   "cell_type": "code",
   "execution_count": null,
   "metadata": {
    "colab": {
     "base_uri": "https://localhost:8080/",
     "height": 363
    },
    "id": "mpFvX5uStOXg",
    "outputId": "3028f97c-be3c-431d-b673-2145cabe70fb",
    "pycharm": {
     "is_executing": true
    }
   },
   "outputs": [],
   "source": [
    "users.head(10)"
   ]
  },
  {
   "cell_type": "code",
   "execution_count": null,
   "metadata": {
    "colab": {
     "base_uri": "https://localhost:8080/"
    },
    "id": "3UajUeeotOXg",
    "outputId": "cd4ae64a-525e-411f-f8b4-f9093cf0c2f0",
    "pycharm": {
     "is_executing": true
    }
   },
   "outputs": [],
   "source": [
    "users.info()"
   ]
  },
  {
   "cell_type": "markdown",
   "metadata": {
    "id": "WHr3m3vGtOXg"
   },
   "source": [
    "В таблице 'users' 8 столбцов. В каждой строке таблицы данные, которые содержат информацию о пользователях. Всего 500 записей."
   ]
  },
  {
   "cell_type": "markdown",
   "metadata": {
    "id": "8XxVi2ARtOXg"
   },
   "source": [
    "Просмотрим данные таблицы 'tariffs':"
   ]
  },
  {
   "cell_type": "code",
   "execution_count": null,
   "metadata": {
    "colab": {
     "base_uri": "https://localhost:8080/",
     "height": 112
    },
    "id": "8c7LTAGLtOXg",
    "outputId": "7eccbf05-9379-4096-ea7d-03bacaca266f",
    "pycharm": {
     "is_executing": true
    }
   },
   "outputs": [],
   "source": [
    "tariffs.head()"
   ]
  },
  {
   "cell_type": "code",
   "execution_count": null,
   "metadata": {
    "colab": {
     "base_uri": "https://localhost:8080/"
    },
    "id": "4VacEdQItOXh",
    "outputId": "db216db8-afe2-430c-ee90-702e124d3fea",
    "pycharm": {
     "is_executing": true
    }
   },
   "outputs": [],
   "source": [
    "tariffs.info()"
   ]
  },
  {
   "cell_type": "markdown",
   "metadata": {
    "id": "HNXIRdUwtOXh"
   },
   "source": [
    "Таблица 'tariffs' содержит информацию о тарифах, всего 2 строки и 8 столбцов."
   ]
  },
  {
   "cell_type": "markdown",
   "metadata": {
    "id": "DxQ0ex6NtOXh"
   },
   "source": [
    "<div style=\"border: solid green 2px; padding: 20px\">\n",
    "    \n",
    "**Выводы**\n",
    "\n",
    "* В таблицах 'users', 'calls', 'internet' и 'messages' содержатся столбцы с датой, которые имеют тип object, переведём их в формат даты.\n",
    "* Пропуски есть только в таблице 'users' в столбце 'churn_date', которые означают, что тариф еще действует, поэтому обрабатывать такие строки не нужно. \n",
    "* В таблице 'internet' столбец 'Unnamed: 0' дублирует индексы, поэтому его можно удалить.\n",
    "* Для дальнейшего анализа удобнее объединить таблицы, преварительно подготовив сводные таблицы для 'calls', 'internet' и 'messages', в которых будет рассчитано для каждого пользователя сколько всего минут, сообщений и трафика за месяц было израсходовано."
   ]
  },
  {
   "cell_type": "markdown",
   "metadata": {
    "id": "DnlqSJ9MtOXh"
   },
   "source": [
    "<a name=\"2\"><h2>2 Предобработка данных</h2></a>"
   ]
  },
  {
   "cell_type": "markdown",
   "metadata": {
    "id": "X1zIzWw-tOXi"
   },
   "source": [
    "<a name=\"2.1\"><h3>2.1 Замена типа данных</h3></a>"
   ]
  },
  {
   "cell_type": "markdown",
   "metadata": {
    "id": "Y5foXKS-tOXi"
   },
   "source": [
    "Создадим функцию для замены типа на формат даты:"
   ]
  },
  {
   "cell_type": "code",
   "execution_count": null,
   "metadata": {
    "id": "BISmDaAQtOXi",
    "pycharm": {
     "is_executing": true
    }
   },
   "outputs": [],
   "source": [
    "def type_data(table, column):\n",
    "    table[column] = pd.to_datetime(table[column], format='%Y-%m-%d')"
   ]
  },
  {
   "cell_type": "markdown",
   "metadata": {
    "id": "OkTTtJkZtOXi"
   },
   "source": [
    "Применим функцию к таблицам:"
   ]
  },
  {
   "cell_type": "code",
   "execution_count": null,
   "metadata": {
    "id": "rIKpGpp0tOXi",
    "pycharm": {
     "is_executing": true
    }
   },
   "outputs": [],
   "source": [
    "type_data(users,'reg_date')\n",
    "type_data(calls,'call_date')\n",
    "type_data(internet,'session_date')\n",
    "type_data(messages,'message_date')"
   ]
  },
  {
   "cell_type": "markdown",
   "metadata": {
    "id": "00kDOHFZtOXi"
   },
   "source": [
    "<a name=\"2.2\"><h3>2.2 Проверка и преобразование таблиц</h3></a>"
   ]
  },
  {
   "cell_type": "markdown",
   "metadata": {
    "id": "nFqf9m7dtOXi"
   },
   "source": [
    "Проверим в таблицах наличие возможных дубликатов, добавим столбцы с месяцем для дальнейшей оценки данных по месяцам и создадим сводные таблицы."
   ]
  },
  {
   "cell_type": "markdown",
   "metadata": {
    "id": "-gJ_8f4ptOXj"
   },
   "source": [
    "**Таблица 'calls'**"
   ]
  },
  {
   "cell_type": "code",
   "execution_count": null,
   "metadata": {
    "colab": {
     "base_uri": "https://localhost:8080/",
     "height": 206
    },
    "id": "mFAsNXL2tOXj",
    "outputId": "a5e98f86-bfa1-405b-d861-2c291237b443",
    "pycharm": {
     "is_executing": true
    }
   },
   "outputs": [],
   "source": [
    "calls.head()"
   ]
  },
  {
   "cell_type": "markdown",
   "metadata": {
    "id": "AQ9-la6DtOXj"
   },
   "source": [
    "Проверим на наличие явных дубликатов:"
   ]
  },
  {
   "cell_type": "code",
   "execution_count": null,
   "metadata": {
    "colab": {
     "base_uri": "https://localhost:8080/"
    },
    "id": "enJbGYB6tOXj",
    "outputId": "09f01f0b-3f41-482b-fe18-6ce0a6501356",
    "pycharm": {
     "is_executing": true
    }
   },
   "outputs": [],
   "source": [
    "calls.duplicated().sum()"
   ]
  },
  {
   "cell_type": "markdown",
   "metadata": {
    "id": "eBDqkkIZtOXj"
   },
   "source": [
    "Дубликатов нет."
   ]
  },
  {
   "cell_type": "markdown",
   "metadata": {
    "id": "MaT-kpNNtOXj"
   },
   "source": [
    "Так как каждый звонок округляется отдельно, то перед тем как создавать сводную таблицу с подсчетом итоговых минут за месяц, округлим минуты в столбце 'duration':"
   ]
  },
  {
   "cell_type": "code",
   "execution_count": null,
   "metadata": {
    "id": "BGzKv9oYtOXj",
    "pycharm": {
     "is_executing": true
    }
   },
   "outputs": [],
   "source": [
    "calls['duration'] = calls['duration'].apply(np.ceil)"
   ]
  },
  {
   "cell_type": "markdown",
   "metadata": {
    "id": "v2ib2OZOtOXj"
   },
   "source": [
    "Добавим столбец с месяцем:"
   ]
  },
  {
   "cell_type": "code",
   "execution_count": null,
   "metadata": {
    "id": "mqO3lspJtOXj",
    "pycharm": {
     "is_executing": true
    }
   },
   "outputs": [],
   "source": [
    "calls['month'] = calls['call_date'].dt.month"
   ]
  },
  {
   "cell_type": "markdown",
   "metadata": {
    "id": "HO28xum5tOXj"
   },
   "source": [
    "Создадим сводную таблицу 'calls_pivot', которая будет содержать общее количество звонков и минут за каждый месяц:"
   ]
  },
  {
   "cell_type": "code",
   "execution_count": null,
   "metadata": {
    "colab": {
     "base_uri": "https://localhost:8080/",
     "height": 206
    },
    "id": "UfWdJ-h3tOXk",
    "outputId": "37047931-4d43-498f-a886-df79111f885c",
    "pycharm": {
     "is_executing": true
    }
   },
   "outputs": [],
   "source": [
    "calls_pivot = calls.pivot_table(index=['user_id', 'month'], values='duration', aggfunc=['count','sum'])\n",
    "calls_pivot.columns = ['total_calls','total_minutes']\n",
    "calls_pivot.reset_index(inplace=True)\n",
    "calls_pivot.head()"
   ]
  },
  {
   "cell_type": "markdown",
   "metadata": {
    "id": "oCEs2R36tOXk"
   },
   "source": [
    "**Таблица 'internet'**"
   ]
  },
  {
   "cell_type": "code",
   "execution_count": null,
   "metadata": {
    "colab": {
     "base_uri": "https://localhost:8080/",
     "height": 206
    },
    "id": "O2sXdgUMtOXk",
    "outputId": "0be4f18e-a410-4d43-df1a-7b643f751cd8",
    "pycharm": {
     "is_executing": true
    }
   },
   "outputs": [],
   "source": [
    "internet.head()"
   ]
  },
  {
   "cell_type": "markdown",
   "metadata": {
    "id": "mTCm_DeTtOXk"
   },
   "source": [
    "Проверим таблицу 'internet' на наличие явных дубликатов:"
   ]
  },
  {
   "cell_type": "code",
   "execution_count": null,
   "metadata": {
    "colab": {
     "base_uri": "https://localhost:8080/"
    },
    "id": "JcwSCpOStOXk",
    "outputId": "55a64eca-5be6-49fb-d542-35c5a437f2f0",
    "pycharm": {
     "is_executing": true
    }
   },
   "outputs": [],
   "source": [
    "internet.duplicated().sum()"
   ]
  },
  {
   "cell_type": "markdown",
   "metadata": {
    "id": "LqG8CXbFtOXk"
   },
   "source": [
    "Дубликатов нет."
   ]
  },
  {
   "cell_type": "markdown",
   "metadata": {
    "id": "-ct-HNF1tOXk"
   },
   "source": [
    "Удалим столбец 'Unnamed: 0':"
   ]
  },
  {
   "cell_type": "code",
   "execution_count": null,
   "metadata": {
    "id": "T-EtX2kBtOXk",
    "pycharm": {
     "is_executing": true
    }
   },
   "outputs": [],
   "source": [
    "internet.drop('Unnamed: 0', axis=1, inplace=True)"
   ]
  },
  {
   "cell_type": "markdown",
   "metadata": {
    "id": "YaLXKbFvtOXk"
   },
   "source": [
    "Добавим столбец с месяцем:"
   ]
  },
  {
   "cell_type": "code",
   "execution_count": null,
   "metadata": {
    "id": "qAUYvYA8tOXk",
    "pycharm": {
     "is_executing": true
    }
   },
   "outputs": [],
   "source": [
    "internet['month'] = internet['session_date'].dt.month"
   ]
  },
  {
   "cell_type": "markdown",
   "metadata": {
    "id": "IJtjcE4OtOXl"
   },
   "source": [
    "Создадим сводную таблицу 'internet_pivot', содержащую итоговое значение интернет-трафика по месяцам:"
   ]
  },
  {
   "cell_type": "code",
   "execution_count": null,
   "metadata": {
    "colab": {
     "base_uri": "https://localhost:8080/",
     "height": 206
    },
    "id": "CLK96ZQVtOXl",
    "outputId": "482cb854-2d21-4b0b-a2bd-8fd7f17c5f43",
    "pycharm": {
     "is_executing": true
    }
   },
   "outputs": [],
   "source": [
    "internet_pivot = internet.pivot_table(index=['user_id', 'month'], values='mb_used', aggfunc='sum')\n",
    "internet_pivot.columns = ['total_gb']\n",
    "internet_pivot.reset_index(inplace=True)\n",
    "internet_pivot.head()"
   ]
  },
  {
   "cell_type": "markdown",
   "metadata": {
    "id": "2ifO6t8OtOXl"
   },
   "source": [
    "Так как оператор округляет общую сумму мегабайтов за месяц до гигабайтов в большую сторону, то обновим столбец 'total_gb':"
   ]
  },
  {
   "cell_type": "code",
   "execution_count": null,
   "metadata": {
    "id": "NNXuFjbHtOXl",
    "pycharm": {
     "is_executing": true
    }
   },
   "outputs": [],
   "source": [
    "internet_pivot['total_gb'] = internet_pivot['total_gb'] / 1024\n",
    "internet_pivot['total_gb'] = internet_pivot['total_gb'].apply(np.ceil)"
   ]
  },
  {
   "cell_type": "markdown",
   "metadata": {
    "id": "aBJtbc2GtOXl"
   },
   "source": [
    "Проверим результат:"
   ]
  },
  {
   "cell_type": "code",
   "execution_count": null,
   "metadata": {
    "colab": {
     "base_uri": "https://localhost:8080/",
     "height": 206
    },
    "id": "piJ2vuFxtOXl",
    "outputId": "6efd3ac8-4ead-4e32-944e-c8fa4829a253",
    "pycharm": {
     "is_executing": true
    }
   },
   "outputs": [],
   "source": [
    "internet_pivot.head()"
   ]
  },
  {
   "cell_type": "markdown",
   "metadata": {
    "id": "O1mOcArHtOXl"
   },
   "source": [
    "**Таблица 'messages'**"
   ]
  },
  {
   "cell_type": "code",
   "execution_count": null,
   "metadata": {
    "colab": {
     "base_uri": "https://localhost:8080/",
     "height": 206
    },
    "id": "DmBfk6tZtOXl",
    "outputId": "86ca03f1-e1b7-4d88-9249-8666a77a6fa1",
    "pycharm": {
     "is_executing": true
    }
   },
   "outputs": [],
   "source": [
    "messages.head()"
   ]
  },
  {
   "cell_type": "markdown",
   "metadata": {
    "id": "fmH5JkVKtOXl"
   },
   "source": [
    "Добавим в таблицу 'messages' столбец с месяцем:"
   ]
  },
  {
   "cell_type": "code",
   "execution_count": null,
   "metadata": {
    "id": "Htn7IA3OtOXl",
    "pycharm": {
     "is_executing": true
    }
   },
   "outputs": [],
   "source": [
    "messages['month'] = messages['message_date'].dt.month"
   ]
  },
  {
   "cell_type": "markdown",
   "metadata": {
    "id": "sc_W89VYtOXm"
   },
   "source": [
    "Создаём сводную таблицу 'messages_pivot' с общим количеством сообщений за месяц:"
   ]
  },
  {
   "cell_type": "code",
   "execution_count": null,
   "metadata": {
    "colab": {
     "base_uri": "https://localhost:8080/",
     "height": 206
    },
    "id": "cKE6GqeQtOXm",
    "outputId": "45a61654-28ab-46ef-9967-c413fbab41cc",
    "pycharm": {
     "is_executing": true
    }
   },
   "outputs": [],
   "source": [
    "messages_pivot = messages.pivot_table(index=['user_id', 'month'], values='id', aggfunc='count')\n",
    "messages_pivot.columns = ['total_messages']\n",
    "messages_pivot.reset_index(inplace=True)\n",
    "messages_pivot.head()"
   ]
  },
  {
   "cell_type": "markdown",
   "metadata": {
    "id": "1EZby5sKtOXm"
   },
   "source": [
    "**Таблица 'users'**"
   ]
  },
  {
   "cell_type": "code",
   "execution_count": null,
   "metadata": {
    "colab": {
     "base_uri": "https://localhost:8080/",
     "height": 206
    },
    "id": "au_AJWnwtOXm",
    "outputId": "64bde724-e56f-4232-8cb6-dd2fd894a6a3",
    "pycharm": {
     "is_executing": true
    }
   },
   "outputs": [],
   "source": [
    "users.head()"
   ]
  },
  {
   "cell_type": "markdown",
   "metadata": {
    "id": "7WMS9WaUtOXm"
   },
   "source": [
    "Проверим таблицу 'users' на наличие дубликатов:"
   ]
  },
  {
   "cell_type": "code",
   "execution_count": null,
   "metadata": {
    "colab": {
     "base_uri": "https://localhost:8080/"
    },
    "id": "miJWh4V3tOXm",
    "outputId": "25c67e5a-0eb9-46cc-e077-3e8e16c8775c",
    "pycharm": {
     "is_executing": true
    }
   },
   "outputs": [],
   "source": [
    "users.duplicated().sum()"
   ]
  },
  {
   "cell_type": "markdown",
   "metadata": {
    "id": "EGmUKa-stOXm"
   },
   "source": [
    "Явных дубликатов нет. Проверим столбцы 'city' и 'tariff' на наличие неявных дубликатов:"
   ]
  },
  {
   "cell_type": "code",
   "execution_count": null,
   "metadata": {
    "colab": {
     "base_uri": "https://localhost:8080/"
    },
    "id": "xBkRndujtOXm",
    "outputId": "ef2f5e8b-e3f6-462c-cb67-53bb107b4da2",
    "pycharm": {
     "is_executing": true
    }
   },
   "outputs": [],
   "source": [
    "users['city'].sort_values().unique()"
   ]
  },
  {
   "cell_type": "markdown",
   "metadata": {
    "id": "GPGfHpc7tOXm"
   },
   "source": [
    "Записей немного, видно что названия записаны в одном стиле и дубикатов нет, поэтому в нижний регистр можно не переводить."
   ]
  },
  {
   "cell_type": "markdown",
   "metadata": {
    "id": "4MumzcBitOXm"
   },
   "source": [
    "Посмотрим уникальные названия в столбце 'tariff':"
   ]
  },
  {
   "cell_type": "code",
   "execution_count": null,
   "metadata": {
    "colab": {
     "base_uri": "https://localhost:8080/"
    },
    "id": "JU63M6zltOXn",
    "outputId": "edd4f0c4-ae27-4bb2-df6c-a1c26edc20b0",
    "pycharm": {
     "is_executing": true
    }
   },
   "outputs": [],
   "source": [
    "users['tariff'].sort_values().unique()"
   ]
  },
  {
   "cell_type": "markdown",
   "metadata": {
    "id": "xTao4bnltOXn"
   },
   "source": [
    "Дубликатов тоже нет."
   ]
  },
  {
   "cell_type": "markdown",
   "metadata": {
    "id": "Gj5RWdqCtOXn"
   },
   "source": [
    "Удалим из таблицы столбцы, которые не понадобятся для анализа:"
   ]
  },
  {
   "cell_type": "code",
   "execution_count": null,
   "metadata": {
    "id": "6SEwFfV2tOXn",
    "pycharm": {
     "is_executing": true
    }
   },
   "outputs": [],
   "source": [
    "users.drop(['age', 'churn_date', 'first_name', 'last_name', 'reg_date'], axis=1, inplace=True)"
   ]
  },
  {
   "cell_type": "markdown",
   "source": [
    "Проверим таблицу:"
   ],
   "metadata": {
    "id": "8yT1BjbEj8i6"
   }
  },
  {
   "cell_type": "code",
   "execution_count": null,
   "metadata": {
    "colab": {
     "base_uri": "https://localhost:8080/",
     "height": 206
    },
    "id": "xg5Rnwo1tOXn",
    "outputId": "95344cb5-c96a-41b0-bf05-f9ac0f7944e4",
    "pycharm": {
     "is_executing": true
    }
   },
   "outputs": [],
   "source": [
    "users.head()"
   ]
  },
  {
   "cell_type": "markdown",
   "metadata": {
    "id": "jPZ9YYrYtOXn"
   },
   "source": [
    "<div style=\"border: solid green 2px; padding: 20px\">\n",
    "    \n",
    "**Выводы**\n",
    "    \n",
    "* В результате проверки таблиц дубликатов обнаружено не было.\n",
    "* Созданы три сводные таблицы с общим количеством израсходованных сообщений, минут разговоров и интернет-трафика за месяц для каждого пользователя.\n",
    "* В таблице 'users' удалены ненужные для дальнейшего исследования столбцы 'age', 'churn_date', 'first_name', 'last_name' и 'reg_date'.\n",
    "</div>"
   ]
  },
  {
   "cell_type": "markdown",
   "metadata": {
    "id": "Dt9phIdatOXn"
   },
   "source": [
    "<a name=\"2.3\"><h3>2.3 Объединение таблиц</h3></a>"
   ]
  },
  {
   "cell_type": "markdown",
   "metadata": {
    "id": "t73qUjL-tOXn"
   },
   "source": [
    "Создадим общую таблицу, объединив сводные таблицы 'calls_pivot', 'internet_pivot', 'messages_pivot' и таблицу 'users':"
   ]
  },
  {
   "cell_type": "code",
   "execution_count": null,
   "metadata": {
    "colab": {
     "base_uri": "https://localhost:8080/",
     "height": 206
    },
    "id": "yuU9NO1UtOXn",
    "outputId": "444b5679-f0dd-4384-c160-5e3b84c12155",
    "pycharm": {
     "is_executing": true
    }
   },
   "outputs": [],
   "source": [
    "df = messages_pivot.merge(calls_pivot, on=['user_id','month'], how='outer')\n",
    "df = df.merge(internet_pivot, on=['user_id','month'], how='outer')\n",
    "df = df.merge(users, on='user_id', how='left')\n",
    "df.head()"
   ]
  },
  {
   "cell_type": "code",
   "execution_count": null,
   "metadata": {
    "colab": {
     "base_uri": "https://localhost:8080/"
    },
    "id": "TyDMOCY2tOXo",
    "outputId": "5017056d-e41b-4177-80a6-6ba44a703b05",
    "pycharm": {
     "is_executing": true
    }
   },
   "outputs": [],
   "source": [
    "df.info()"
   ]
  },
  {
   "cell_type": "markdown",
   "metadata": {
    "id": "Bl5oeMXrtOXo"
   },
   "source": [
    "Всего в таблице 3214 строк. Пустые значения в столбцах 'total_messages', 'total_calls',\t'total_minutes', 'total_gb' означают, что трафик не был израсходован пользователями, поэтому такие пропуски заменим на нули и поменяем в этих столбцах тип float на int, так как целочисленный формат более читабелен. Создадим для этого функцию:"
   ]
  },
  {
   "cell_type": "code",
   "source": [
    "def fill_gaps_type(columns):\n",
    "    for column in columns:\n",
    "        df[column] = df[column].fillna(0).astype('int')\n",
    "    \n",
    "fill_gaps_type(['total_messages', 'total_calls', 'total_minutes','total_gb'])"
   ],
   "metadata": {
    "id": "jBkdByLJf_c6",
    "pycharm": {
     "is_executing": true
    }
   },
   "execution_count": null,
   "outputs": []
  },
  {
   "cell_type": "markdown",
   "metadata": {
    "id": "AD-kB-_ktOXo"
   },
   "source": [
    "Проверим, что в таблице не осталось пропусков и тип данных:"
   ]
  },
  {
   "cell_type": "code",
   "execution_count": null,
   "metadata": {
    "colab": {
     "base_uri": "https://localhost:8080/"
    },
    "id": "ZCeP_N-gtOXo",
    "outputId": "c523d280-cf7e-4d6d-a3fc-310604d1ecac",
    "pycharm": {
     "is_executing": true
    }
   },
   "outputs": [],
   "source": [
    "df.info()"
   ]
  },
  {
   "cell_type": "markdown",
   "metadata": {
    "id": "eLKs6OtBtOXo"
   },
   "source": [
    "Теперь создадим функцию для расчета ежемесячной выручки с каждого пользователя. В функции проверяем тариф клиента и если количество израсходованных сообщений, минут или гигабайт превышает установленный лимит, то умножаем остаток на значение тарифного плана, затем считаем общую выручку за месяц, сложив возможный перерасход и абонентскую плату за месяц:"
   ]
  },
  {
   "cell_type": "code",
   "execution_count": null,
   "metadata": {
    "id": "W-IaHT0rtOXo",
    "pycharm": {
     "is_executing": true
    }
   },
   "outputs": [],
   "source": [
    "def revenue_calculation(row):\n",
    "    tariff_inx = 0\n",
    "    if row['tariff'] == 'ultra':\n",
    "        tariff_inx = 1\n",
    "    surcharge_for_messages = row['total_messages'] - tariffs.loc[tariff_inx, 'messages_included']\n",
    "    if surcharge_for_messages > 0:\n",
    "        surcharge_for_messages = surcharge_for_messages * tariffs.loc[tariff_inx, 'rub_per_message']\n",
    "    else:\n",
    "        surcharge_for_messages = 0\n",
    "\n",
    "    surcharge_for_calls = row['total_minutes'] - tariffs.loc[tariff_inx, 'minutes_included']\n",
    "    if surcharge_for_calls > 0:\n",
    "        surcharge_for_calls = surcharge_for_calls * tariffs.loc[tariff_inx, 'rub_per_minute']\n",
    "    else:\n",
    "        surcharge_for_calls = 0\n",
    "\n",
    "    surcharge_for_gb = row['total_gb'] - (tariffs.loc[tariff_inx, 'mb_per_month_included'] / 1024)\n",
    "    if surcharge_for_gb > 0:\n",
    "        surcharge_for_gb = surcharge_for_gb * tariffs.loc[tariff_inx, 'rub_per_gb']\n",
    "    else:\n",
    "        surcharge_for_gb = 0\n",
    "\n",
    "    revenue = surcharge_for_messages + surcharge_for_calls + surcharge_for_gb + tariffs.loc[tariff_inx, 'rub_monthly_fee']\n",
    "    return revenue       "
   ]
  },
  {
   "cell_type": "markdown",
   "metadata": {
    "id": "xb48Nw0ntOXp"
   },
   "source": [
    "В табилце 'df' создаём столбец 'revenue_per_month' и вызываем функцию revenue_calculation, результатом выполнения которой является расчёт ежемесячной выручки:"
   ]
  },
  {
   "cell_type": "code",
   "execution_count": null,
   "metadata": {
    "id": "IMEohgLKtOXp",
    "pycharm": {
     "is_executing": true
    }
   },
   "outputs": [],
   "source": [
    "df['revenue_per_month'] = df.apply(revenue_calculation, axis=1)"
   ]
  },
  {
   "cell_type": "markdown",
   "metadata": {
    "id": "c2sYDeKQtOXp"
   },
   "source": [
    "Выведем первые 10 строк таблицы для проверки:"
   ]
  },
  {
   "cell_type": "code",
   "execution_count": null,
   "metadata": {
    "colab": {
     "base_uri": "https://localhost:8080/",
     "height": 363
    },
    "id": "C5H0hJL-tOXp",
    "outputId": "fc781e85-067a-4bef-931c-1d3d7bf58936",
    "pycharm": {
     "is_executing": true
    }
   },
   "outputs": [],
   "source": [
    "df.head(10)"
   ]
  },
  {
   "cell_type": "markdown",
   "metadata": {
    "id": "8dNMsLk4tOXp"
   },
   "source": [
    "Значения распределены корректно."
   ]
  },
  {
   "cell_type": "markdown",
   "metadata": {
    "id": "dDVu9v2_tOXp"
   },
   "source": [
    "<div style=\"border: solid green 2px; padding: 20px\">\n",
    "    \n",
    "**Вывод**\n",
    "    \n",
    "В результате объединения таблиц 'calls_pivot', 'internet_pivot', 'messages_pivot' и 'users' была создана таблица 'df', в которой  рассчитали помесячную выручку для каждого пользователя."
   ]
  },
  {
   "cell_type": "markdown",
   "metadata": {
    "id": "6kmOxXB5tOXp"
   },
   "source": [
    "<a name=\"3\"><h2>3 Исследовательский анализ данных</h2></a>"
   ]
  },
  {
   "cell_type": "markdown",
   "metadata": {
    "id": "XMxrN39atOXp"
   },
   "source": [
    "Проанализируем поведение клиентов в интенсивности использования сообщений, минут разговора и интернета, а также посмотрим на затраты пользователей:"
   ]
  },
  {
   "cell_type": "markdown",
   "metadata": {
    "id": "6PDZN9PEtOXq"
   },
   "source": [
    "Для этого выделим две таблицы для тарифов smart и ultra:"
   ]
  },
  {
   "cell_type": "code",
   "execution_count": null,
   "metadata": {
    "id": "zPzwaJYNtOXq",
    "pycharm": {
     "is_executing": true
    }
   },
   "outputs": [],
   "source": [
    "df_smart = df.query('tariff == \"smart\"')\n",
    "df_ultra = df.query('tariff == \"ultra\"')"
   ]
  },
  {
   "cell_type": "markdown",
   "metadata": {
    "id": "YJrb_uy8tOXq"
   },
   "source": [
    "**Сообщения**"
   ]
  },
  {
   "cell_type": "markdown",
   "metadata": {
    "id": "lw5xql39tOXq"
   },
   "source": [
    "Построим графики с частотой использования сообщений для  пользователей обоих тарифов:"
   ]
  },
  {
   "cell_type": "code",
   "execution_count": null,
   "metadata": {
    "colab": {
     "base_uri": "https://localhost:8080/",
     "height": 348
    },
    "id": "5QSFhZ6CtOXq",
    "outputId": "c8fd1237-daf9-49f0-e2e9-83259e191cca",
    "pycharm": {
     "is_executing": true
    }
   },
   "outputs": [],
   "source": [
    "figure, ax = plt.subplots(1,2,figsize=(12,5))\n",
    "\n",
    "df_smart.plot(kind='hist', y='total_messages', title='Cообщения (smart)', bins=30, grid=True, ax=ax[0])\n",
    "ax[0].set_xlabel('Количество сообщений')\n",
    "ax[0].set_ylabel('Частота')\n",
    "\n",
    "df_ultra.plot(kind='hist', y='total_messages', title='Cообщения (ultra)', bins=30, grid=True, ax=ax[1])\n",
    "ax[1].set_xlabel('Количество сообщений')\n",
    "ax[1].set_ylabel('Частота')                \n",
    "\n",
    "plt.show()"
   ]
  },
  {
   "cell_type": "markdown",
   "metadata": {
    "id": "m4qO06iUtOXq"
   },
   "source": [
    "На обоих графиках сильно выделяется пик в значении 0, поэтому можно сказать, что многие пользователи не пользуются сообщениями. \n",
    "При этом клиенты с тарифом ultra активнее используют сообщения, их количество достигает 200, выше только единичные случаи, а у пользователей тарифа smart значение редко превышает больше 110 сообщений.\n",
    "\n",
    "Обе гистограммы имеют распределение Пуассона."
   ]
  },
  {
   "cell_type": "markdown",
   "metadata": {
    "id": "qGXyKEI9tOXq"
   },
   "source": [
    "Создадим сводную таблицу, рассчитав среднее значение, дисперсию и стандартное отклонение для тарифов  smart и ultra. Так как среднее значение неустойчиво к выбросам, то будем рассматривать медиану. Напишем функцию, так как такие расчёты также понадобятся для звонков и интернет-трафика:"
   ]
  },
  {
   "cell_type": "code",
   "execution_count": null,
   "metadata": {
    "id": "rqBVAfSMtOXq",
    "pycharm": {
     "is_executing": true
    }
   },
   "outputs": [],
   "source": [
    "def pivot_std(column):\n",
    "    data = df.groupby('tariff')[column].agg(['count', 'median',\n",
    "                                                                 lambda x: round(np.var(x, ddof=1)),\n",
    "                                                                 lambda x: round(np.sqrt(np.var(x, ddof=1)))])\n",
    "    data.columns = ['count', 'median', 'variance', 'standard_deviation']\n",
    "    return data"
   ]
  },
  {
   "cell_type": "markdown",
   "metadata": {
    "id": "ykHb9IPTtOXr"
   },
   "source": [
    "Выведем сводную таблицу:"
   ]
  },
  {
   "cell_type": "code",
   "execution_count": null,
   "metadata": {
    "colab": {
     "base_uri": "https://localhost:8080/",
     "height": 143
    },
    "id": "yX1NNiXKtOXr",
    "outputId": "cd6732ac-0e00-477b-e2b9-36005cdedd5a",
    "pycharm": {
     "is_executing": true
    }
   },
   "outputs": [],
   "source": [
    "pivot_std('total_messages')"
   ]
  },
  {
   "cell_type": "markdown",
   "metadata": {
    "id": "sft13ebytOXr"
   },
   "source": [
    "В среднем пользователи smart тратят 28 сообщений за месяц, а клиенты ultra 38 сообщений. Стандартное отклонение для smart равно 28, для ultra разброс больше, значения в выборке отличаются от среднего на 48 сообщений."
   ]
  },
  {
   "cell_type": "markdown",
   "metadata": {
    "id": "dfwKJsmStOXr"
   },
   "source": [
    "**Звонки**"
   ]
  },
  {
   "cell_type": "markdown",
   "metadata": {
    "id": "o8is-QD2tOXr"
   },
   "source": [
    "Построим графики с информацией о продолжительности звонков пользователей:"
   ]
  },
  {
   "cell_type": "code",
   "execution_count": null,
   "metadata": {
    "colab": {
     "base_uri": "https://localhost:8080/",
     "height": 348
    },
    "id": "fHU8fypStOXr",
    "outputId": "060151a2-913a-409e-816e-8e78d2f3cba6",
    "pycharm": {
     "is_executing": true
    }
   },
   "outputs": [],
   "source": [
    "figure, ax = plt.subplots(1,2,figsize=(12,5))\n",
    "\n",
    "df_smart.plot(kind='hist', y='total_minutes', title='Продолжительность звонков (smart)', bins=30, grid=True, ax=ax[0])\n",
    "ax[0].set_xlabel('Длительность звонков в минутах')\n",
    "ax[0].set_ylabel('Частота')\n",
    "\n",
    "df_ultra.plot(kind='hist', y='total_minutes', title='Продолжительность звонков (ultra)', bins=30, grid=True, ax=ax[1])\n",
    "ax[1].set_xlabel('Длительность звонков в минутах')\n",
    "ax[1].set_ylabel('Частота')                \n",
    "\n",
    "plt.show()"
   ]
  },
  {
   "cell_type": "markdown",
   "metadata": {
    "id": "zgXDRQ7CtOXs"
   },
   "source": [
    "У большинства пользователей smart на разговоры в месяц уходит от 200 до 600 минут, у пользователей тарифа ultra звонки более длительные и составляют от 250 и примерно до 850 минут, хотя многие клиенты совсем не используют минуты разговора. Выбросами по тарифу smart являются значения более 1000 минут, а для ultra звонки продолжительностью более 1400 минут.\n",
    "\n",
    "Гистограмма с тарифом smart имеет вид нормального распределения, а график с тарифом ultra похож на распределение Пуассона."
   ]
  },
  {
   "cell_type": "markdown",
   "metadata": {
    "id": "H7V8rud4tOXs"
   },
   "source": [
    "Вызовем функцию pivot_std для вывода сводной таблицы с расчетами по звонкам:"
   ]
  },
  {
   "cell_type": "code",
   "execution_count": null,
   "metadata": {
    "colab": {
     "base_uri": "https://localhost:8080/",
     "height": 143
    },
    "id": "KV9fdb2MtOXs",
    "outputId": "e6971ff3-7402-479a-c751-7c31a01eab21",
    "pycharm": {
     "is_executing": true
    }
   },
   "outputs": [],
   "source": [
    "pivot_std('total_minutes')"
   ]
  },
  {
   "cell_type": "markdown",
   "metadata": {
    "id": "BTOGRbcEtOXs"
   },
   "source": [
    "В среднем клиенты smart разговаривают 422 минуты, у пользователей ultra время разговора составляет 518 минут. По количеству израсходованных минут разброс довольно большой и сильно отклоняется от среднего, особенно у пользователей тарифа ultra, стандартнее отклонение у которых 318 минут."
   ]
  },
  {
   "cell_type": "markdown",
   "metadata": {
    "id": "Er8cfzcktOXs"
   },
   "source": [
    "**Интернет-трафик**"
   ]
  },
  {
   "cell_type": "markdown",
   "metadata": {
    "id": "LcneM7HrtOXs"
   },
   "source": [
    "Построим графики для оценки использования объёма интернет-трафика:"
   ]
  },
  {
   "cell_type": "code",
   "execution_count": null,
   "metadata": {
    "colab": {
     "base_uri": "https://localhost:8080/",
     "height": 348
    },
    "id": "DHE0bpzztOXs",
    "outputId": "62d0f17a-7f37-4f9d-a0d5-f8ae28f8e84a",
    "pycharm": {
     "is_executing": true
    }
   },
   "outputs": [],
   "source": [
    "figure, ax = plt.subplots(1,2,figsize=(12,5))\n",
    "\n",
    "df_smart.plot(kind='hist', y='total_gb', title='Интернет-трафик (smart)', bins=30, grid=True, ax=ax[0])\n",
    "ax[0].set_xlabel('Количество использованных гигабайтов')\n",
    "ax[0].set_ylabel('Частота')\n",
    "\n",
    "df_ultra.plot(kind='hist', y='total_gb', title='Интернет-трафик (ultra)', bins=30, grid=True, ax=ax[1])\n",
    "ax[1].set_xlabel('Количество использованных гигабайтов')\n",
    "ax[1].set_ylabel('Частота')                \n",
    "\n",
    "plt.show()"
   ]
  },
  {
   "cell_type": "markdown",
   "metadata": {
    "id": "j2sVSgTdtOXs"
   },
   "source": [
    "Большинство пользователей тарифа smart используют от 9 до 25 гигабайт, с выделяющимися значениями 15 и 20 гигабайт. В тарифе ultra эти данные похожи, в основном тратится от 10 до 29 гигабайт, с пиком 15 и 20 гигабайт, но также видно, что есть клиенты, которые чаще используют больше 30 гигабайт, для тарифа smart это единичные случаи. \n",
    "\n",
    "Гистограммы имеют вид нормального распределения."
   ]
  },
  {
   "cell_type": "markdown",
   "metadata": {
    "id": "T1MCVFAztOXs"
   },
   "source": [
    "Обратимся к функции pivot_std и выведем сводную таблицу для интернет-трафика:"
   ]
  },
  {
   "cell_type": "code",
   "execution_count": null,
   "metadata": {
    "colab": {
     "base_uri": "https://localhost:8080/",
     "height": 143
    },
    "id": "5mLKUrFHtOXt",
    "outputId": "991fe522-0c9f-4c14-eceb-56092b4fbb27",
    "pycharm": {
     "is_executing": true
    }
   },
   "outputs": [],
   "source": [
    "pivot_std('total_gb')"
   ]
  },
  {
   "cell_type": "markdown",
   "metadata": {
    "id": "qi_404O6tOXt"
   },
   "source": [
    "Пользователи тарифа smart в среднем используют 17 гигабайт, а пользователи ultra - 19 гб. Для тарифа smart стандартное отклонение 6 гб, а для ultra разброс величин больше и составляет 10 гб."
   ]
  },
  {
   "cell_type": "markdown",
   "metadata": {
    "id": "wrB_UVWYtOXt"
   },
   "source": [
    "**Выручка**"
   ]
  },
  {
   "cell_type": "markdown",
   "metadata": {
    "id": "p6iT-pd8tOXt"
   },
   "source": [
    "Построим графики для оценки распределения выручки по тарифам:"
   ]
  },
  {
   "cell_type": "code",
   "execution_count": null,
   "metadata": {
    "colab": {
     "base_uri": "https://localhost:8080/",
     "height": 348
    },
    "id": "0DIqxPfZtOXt",
    "outputId": "1f609ee8-c927-41d8-9e30-4ce1627fa4be",
    "pycharm": {
     "is_executing": true
    }
   },
   "outputs": [],
   "source": [
    "figure, ax = plt.subplots(1,2,figsize=(12,5))\n",
    "\n",
    "df_smart.plot(kind='hist', y='revenue_per_month', title='Выручка (smart)', bins=20, grid=True, ax=ax[0])\n",
    "ax[0].set_xlabel('Сумма выручки')\n",
    "ax[0].set_ylabel('Частота')\n",
    "\n",
    "df_ultra.plot(kind='hist', y='revenue_per_month', title='Выручка (ultra)', bins=20, grid=True, ax=ax[1])\n",
    "ax[1].set_xlabel('Сумма выручки')\n",
    "ax[1].set_ylabel('Частота')                \n",
    "\n",
    "plt.show()"
   ]
  },
  {
   "cell_type": "markdown",
   "metadata": {
    "id": "sMFrdvkGtOXt"
   },
   "source": [
    "Большинство пользователей тарифа smart тратят 550 рублей в месяц, при этом очень много клиентов тратят выше этой суммы, и если сравнивать с пользователями тарифа ultra, чаще не укладываются в установленный лимит. Клиенты ultra редко тратят больше 1950 рублей."
   ]
  },
  {
   "cell_type": "markdown",
   "metadata": {
    "id": "ZJnuVfq2tOXt"
   },
   "source": [
    "Сгруппируем по тарифам и выведем числовое описание данных методом describe():"
   ]
  },
  {
   "cell_type": "code",
   "execution_count": null,
   "metadata": {
    "colab": {
     "base_uri": "https://localhost:8080/",
     "height": 143
    },
    "id": "I63qLz5LtOXt",
    "outputId": "2a9d86f1-ec03-476e-d5bc-751aefde2882",
    "pycharm": {
     "is_executing": true
    }
   },
   "outputs": [],
   "source": [
    "round(df.groupby('tariff')['revenue_per_month'].describe())"
   ]
  },
  {
   "cell_type": "markdown",
   "metadata": {
    "id": "WfNb7MpXtOXt"
   },
   "source": [
    "В выборке больше клиентов тарифа smart, средняя сумма выручки по этому тарифу меньше, чем по тарифу ultra."
   ]
  },
  {
   "cell_type": "markdown",
   "metadata": {
    "id": "5s1J5Be4tOXu"
   },
   "source": [
    "<div style=\"border: solid green 2px; padding: 20px\">\n",
    "    \n",
    "**Выводы**\n",
    "    \n",
    "* Пользователи тарифа «Ультра» более активные и используют больше сообщений, минут для разговоров и гигабайт интернет-трафика. При этом пользователей тарифа «Смарт» чаще используют услуги сверх тарифного пакета и выходят за пределы ежемесячной абонентской платы.\n",
    "* Многие клиенты не пользуются сообщениями.\n",
    "* Большинству требуется 15-20 гб интернета, это также характерно для обоих тарифов."
   ]
  },
  {
   "cell_type": "markdown",
   "metadata": {
    "id": "BWoeW4LptOXu"
   },
   "source": [
    "<a name=\"4\"><h2>4 Проверка гипотез</h2></a>"
   ]
  },
  {
   "cell_type": "markdown",
   "metadata": {
    "id": "IZDb3_ZUtOXu"
   },
   "source": [
    "<a name=\"4.1\"><h3>4.1 Сравнение средней выручки по тарифам</h3></a>"
   ]
  },
  {
   "cell_type": "markdown",
   "metadata": {
    "id": "rElbH514tOXu"
   },
   "source": [
    "Для оценки выручки сделаем срез таблицы без учёта выбивающихся значений. Выбросами будем считать сумму выше 4000 тысяч:"
   ]
  },
  {
   "cell_type": "code",
   "execution_count": null,
   "metadata": {
    "id": "xWbOCbeHtOXu",
    "pycharm": {
     "is_executing": true
    }
   },
   "outputs": [],
   "source": [
    "df_filter = df.query('revenue_per_month < 4000').reset_index(drop=True)"
   ]
  },
  {
   "cell_type": "markdown",
   "metadata": {
    "id": "cMoEz3bltOXu"
   },
   "source": [
    "Проверим гипотезу, что средняя выручка пользователей тарифов «Ультра» и «Смарт» различаются. \n",
    "\n",
    "Сформулируем нулевую и альтернативную гипотезу:\n",
    "\n",
    "* H₀: средняя выручка тарифа «Ультра» равна выручке «Смарт».\n",
    "* H₁: средняя выручка тарифа «Ультра» различается с выручкой «Смарт»."
   ]
  },
  {
   "cell_type": "markdown",
   "metadata": {
    "id": "zQxoy9EptOXu"
   },
   "source": [
    "Для проверки равенства средних двух независимых совокупностей воспользуемся методом scipy.stats.ttest_ind(). Перед проверкой гипотезы посмотрим размах выборки и дисперсию:"
   ]
  },
  {
   "cell_type": "code",
   "execution_count": null,
   "metadata": {
    "colab": {
     "base_uri": "https://localhost:8080/",
     "height": 143
    },
    "id": "yiT7pw_ktOXu",
    "outputId": "87077061-fad4-41ec-a4e6-67973e308a13",
    "pycharm": {
     "is_executing": true
    }
   },
   "outputs": [],
   "source": [
    "tariff_group = round(df_filter.groupby('tariff')['revenue_per_month'].agg(['count', lambda x: round(np.var(x, ddof=1))]))\n",
    "tariff_group.columns = ['count', 'variance']\n",
    "tariff_group"
   ]
  },
  {
   "cell_type": "markdown",
   "metadata": {
    "id": "Dyx_2VritOXu"
   },
   "source": [
    "Так как выборки разного размера и дисперсии не равны, то укажем в методе equal_var = False и проверим гипотезы:"
   ]
  },
  {
   "cell_type": "code",
   "execution_count": null,
   "metadata": {
    "colab": {
     "base_uri": "https://localhost:8080/"
    },
    "id": "GqAyi_lxtOXv",
    "outputId": "0d542a11-3223-4411-c909-904f54a78d9f",
    "pycharm": {
     "is_executing": true
    }
   },
   "outputs": [],
   "source": [
    "revenue_smart = df_filter.query('tariff == \"smart\"')['revenue_per_month']\n",
    "revenue_ultra = df_filter.query('tariff == \"ultra\"')['revenue_per_month']\n",
    "\n",
    "alpha = .05\n",
    "\n",
    "results = st.ttest_ind(\n",
    "    revenue_smart, \n",
    "    revenue_ultra,\n",
    "    equal_var = False)\n",
    "\n",
    "print('p-значение:', results.pvalue)\n",
    "\n",
    "if results.pvalue < alpha:\n",
    "    print(\"Отвергаем нулевую гипотезу\")\n",
    "else:\n",
    "    print(\"Не получилось отвергнуть нулевую гипотезу\")"
   ]
  },
  {
   "cell_type": "markdown",
   "metadata": {
    "id": "ry-3m8oatOXv"
   },
   "source": [
    "<div style=\"border: solid green 2px; padding: 20px\">\n",
    "    \n",
    "**Вывод**\n",
    "\n",
    "Проверка гипотез показала, что вероятность того, что выручки равны очень низка и практически равна нулю, поэтому отвергли нулевую гипотезу о равенстве выручки тарифов «Ультра» и «Смарт»."
   ]
  },
  {
   "cell_type": "markdown",
   "metadata": {
    "id": "zLJ1fJhStOXv"
   },
   "source": [
    "<a name=\"4.2\"><h3>4.2 Сравнение средней выручки пользователей из Москвы и регионов</h3></a>"
   ]
  },
  {
   "cell_type": "markdown",
   "metadata": {
    "id": "1RXe4wLxtOXv"
   },
   "source": [
    "Проверим гипотезу о равенстве средней выручки пользователей из Москвы и выручки пользователей из других регионов.\n",
    "\n",
    "Сформулируем нулевую и альтернативную гипотезу:\n",
    "\n",
    "* H₀: средняя выручка пользователей из Москвы равна выручке пользователей из других регионов.\n",
    "* H₁: средняя выручка пользователей из Москвы отличается от выручки пользователей из других регионов."
   ]
  },
  {
   "cell_type": "markdown",
   "metadata": {
    "id": "GUXTjHcatOXv"
   },
   "source": [
    "Добавим в таблицу 'df_filter' столбец 'moscow_city' типа bool. Eсли пользователь из Москвы, то столбец примет значение True, иначе False."
   ]
  },
  {
   "cell_type": "code",
   "execution_count": null,
   "metadata": {
    "id": "yei6OF7otOXv",
    "pycharm": {
     "is_executing": true
    }
   },
   "outputs": [],
   "source": [
    "df_filter['moscow_city'] = df_filter['city'] == \"Москва\""
   ]
  },
  {
   "cell_type": "markdown",
   "metadata": {
    "id": "1N4D2KoHtOXv"
   },
   "source": [
    "Проверим, что столбец был добавлен:"
   ]
  },
  {
   "cell_type": "code",
   "execution_count": null,
   "metadata": {
    "colab": {
     "base_uri": "https://localhost:8080/",
     "height": 206
    },
    "id": "JwFWDcfOtOXv",
    "outputId": "65daf884-12dd-4837-ddb5-828fcf91c5c5",
    "pycharm": {
     "is_executing": true
    }
   },
   "outputs": [],
   "source": [
    "df_filter.head()"
   ]
  },
  {
   "cell_type": "markdown",
   "metadata": {
    "id": "vH8hSCCetOXw"
   },
   "source": [
    "Посмотрим размер выборок и дисперсию:"
   ]
  },
  {
   "cell_type": "code",
   "execution_count": null,
   "metadata": {
    "colab": {
     "base_uri": "https://localhost:8080/",
     "height": 143
    },
    "id": "o6O0mzCXtOXw",
    "outputId": "f88ab306-511b-40c7-c206-6b4b43d8205d",
    "pycharm": {
     "is_executing": true
    }
   },
   "outputs": [],
   "source": [
    "city_group = df_filter.groupby('moscow_city')['revenue_per_month'].agg(['count', lambda x: round(np.var(x, ddof=1))])\n",
    "city_group.columns = ['count', 'variance']\n",
    "city_group"
   ]
  },
  {
   "cell_type": "markdown",
   "metadata": {
    "id": "Atyv7GG3tOXw"
   },
   "source": [
    "Выборки разного размера и дисперсии не равны, поэтому также укажем equal_var = False и воспользуемся методом scipy.stats.ttest_ind():"
   ]
  },
  {
   "cell_type": "code",
   "execution_count": null,
   "metadata": {
    "colab": {
     "base_uri": "https://localhost:8080/"
    },
    "id": "MmpnB22itOXw",
    "outputId": "27218db6-b0f9-4155-a52d-0345e19d6e85",
    "pycharm": {
     "is_executing": true
    }
   },
   "outputs": [],
   "source": [
    "revenue_moscow = df_filter.query('moscow_city == True')['revenue_per_month']\n",
    "revenue_region = df_filter.query('moscow_city == False')['revenue_per_month']\n",
    "\n",
    "alpha = .05\n",
    "\n",
    "results = st.ttest_ind(\n",
    "    revenue_moscow, \n",
    "    revenue_region,\n",
    "    equal_var = False)\n",
    "\n",
    "print('p-значение:', results.pvalue)\n",
    "\n",
    "if results.pvalue < alpha:\n",
    "    print(\"Отвергаем нулевую гипотезу\")\n",
    "else:\n",
    "    print(\"Не получилось отвергнуть нулевую гипотезу\")"
   ]
  },
  {
   "cell_type": "markdown",
   "metadata": {
    "id": "N9d1o-WJtOXw"
   },
   "source": [
    "<div style=\"border: solid green 2px; padding: 20px\">\n",
    "    \n",
    "**Вывод**\n",
    "    \n",
    "Проверка гипотез показала, что нельзя отвергнуть нулевую гипотезу о том, что средняя выручка по Москве равна средней выручке по регионам."
   ]
  },
  {
   "cell_type": "markdown",
   "metadata": {
    "id": "02ijxNEjtOXw"
   },
   "source": [
    "<a name=\"5\"><h2>5 Общие выводы</h2></a>"
   ]
  },
  {
   "cell_type": "markdown",
   "metadata": {
    "id": "aQgltqOvtOXx"
   },
   "source": [
    "В результате работы рассмотрели два тарифных плана оператора сотовой связи компании «Мегалайн».\n",
    "\n",
    "Сделаны следующие выводы:\n",
    "    \n",
    "Пользователи тарифа ultra наиболее активные и расходуют больше сообщений, минут для разговора и гб интернет-трафика. Так, в среднем:\n",
    "    \n",
    "* клиенты ultra отправляют 38 сообщений, а пользователи smart на 10 сообщений меньше;\n",
    "* продолжительность затраченных в месяц минут равна 518, что почти на 100 минут больше, чем у пользователей тарифа smart;\n",
    "* по тарифу ultra используется 19 гб, по тарифу smart 17 гигабайт. Пользователи обоих тарифов близки по среднему значению в использовании интернет-трафика, но в тарифе ultra многие пользователи тратят больше 30 гигабайт, тогда как в тарифе smart такие пользователи встречаются очень редко.\n",
    "     \n",
    "Также отметили, что многие клиенты не пользуются сообщениями.\n",
    "    \n",
    "Проверили две гипотезы и установили, что:\n",
    "* средняя выручка тарифа ultra не равна выручке smart;\n",
    "* средняя выручка пользователей из Москвы равна выручке пользователей из других регионов.\n",
    "    \n",
    "Рассмотрев выручку по обоим тарифам, можно сказать, что несмотря на то, что пользователи smart чаще переплачивают, средняя выручка по этому тарифу 1290 рублей, а выручка клиентов ultra составляет 2070 рублей, поэтому тариф ultra более выгоден, если не учитывать затраты и ресурсы компании на предоставление услуг по тарифному пакету."
   ]
  }
 ],
 "metadata": {
  "ExecuteTimeLog": [
   {
    "duration": 588,
    "start_time": "2022-01-27T08:08:57.614Z"
   },
   {
    "duration": 153,
    "start_time": "2022-01-27T08:08:59.472Z"
   },
   {
    "duration": 492,
    "start_time": "2022-01-27T08:23:23.783Z"
   },
   {
    "duration": 153,
    "start_time": "2022-01-27T08:23:26.989Z"
   },
   {
    "duration": 125,
    "start_time": "2022-01-27T08:23:27.713Z"
   },
   {
    "duration": 283,
    "start_time": "2022-01-27T08:23:28.233Z"
   },
   {
    "duration": 15,
    "start_time": "2022-01-27T08:23:28.661Z"
   },
   {
    "duration": 17,
    "start_time": "2022-01-27T08:23:29.236Z"
   },
   {
    "duration": 11,
    "start_time": "2022-01-27T08:23:54.438Z"
   },
   {
    "duration": 8,
    "start_time": "2022-01-27T08:24:08.058Z"
   },
   {
    "duration": 7,
    "start_time": "2022-01-27T08:24:25.898Z"
   },
   {
    "duration": 11,
    "start_time": "2022-01-27T08:24:40.606Z"
   },
   {
    "duration": 9,
    "start_time": "2022-01-27T08:24:56.428Z"
   },
   {
    "duration": 21,
    "start_time": "2022-01-27T08:29:32.177Z"
   },
   {
    "duration": 8,
    "start_time": "2022-01-27T08:29:53.820Z"
   },
   {
    "duration": 20,
    "start_time": "2022-01-27T08:29:55.760Z"
   },
   {
    "duration": 17,
    "start_time": "2022-01-27T08:30:15.305Z"
   },
   {
    "duration": 15,
    "start_time": "2022-01-27T08:30:37.130Z"
   },
   {
    "duration": 6,
    "start_time": "2022-01-27T08:30:58.641Z"
   },
   {
    "duration": 6,
    "start_time": "2022-01-27T08:31:15.040Z"
   },
   {
    "duration": 1034,
    "start_time": "2022-01-27T10:41:46.256Z"
   },
   {
    "duration": 141,
    "start_time": "2022-01-27T10:41:47.291Z"
   },
   {
    "duration": 111,
    "start_time": "2022-01-27T10:41:47.434Z"
   },
   {
    "duration": 478,
    "start_time": "2022-01-27T10:41:47.547Z"
   },
   {
    "duration": 13,
    "start_time": "2022-01-27T10:41:48.027Z"
   },
   {
    "duration": 25,
    "start_time": "2022-01-27T10:41:48.041Z"
   },
   {
    "duration": 12,
    "start_time": "2022-01-27T10:41:48.068Z"
   },
   {
    "duration": 20,
    "start_time": "2022-01-27T10:41:48.082Z"
   },
   {
    "duration": 8,
    "start_time": "2022-01-27T10:41:48.104Z"
   },
   {
    "duration": 17,
    "start_time": "2022-01-27T10:41:48.114Z"
   },
   {
    "duration": 6,
    "start_time": "2022-01-27T10:41:48.132Z"
   },
   {
    "duration": 14,
    "start_time": "2022-01-27T10:41:48.140Z"
   },
   {
    "duration": 7,
    "start_time": "2022-01-27T10:41:48.156Z"
   },
   {
    "duration": 8,
    "start_time": "2022-01-27T10:41:48.164Z"
   },
   {
    "duration": 43,
    "start_time": "2022-01-27T10:41:48.174Z"
   },
   {
    "duration": 8,
    "start_time": "2022-01-27T10:41:48.219Z"
   },
   {
    "duration": 234,
    "start_time": "2022-01-27T10:48:21.810Z"
   },
   {
    "duration": 205,
    "start_time": "2022-01-27T10:48:36.126Z"
   },
   {
    "duration": 1032,
    "start_time": "2022-01-27T10:48:39.949Z"
   },
   {
    "duration": 131,
    "start_time": "2022-01-27T10:48:42.114Z"
   },
   {
    "duration": 118,
    "start_time": "2022-01-27T10:48:44.036Z"
   },
   {
    "duration": 256,
    "start_time": "2022-01-27T10:48:46.405Z"
   },
   {
    "duration": 13,
    "start_time": "2022-01-27T10:48:47.041Z"
   },
   {
    "duration": 22,
    "start_time": "2022-01-27T10:48:47.510Z"
   },
   {
    "duration": 12,
    "start_time": "2022-01-27T10:48:48.374Z"
   },
   {
    "duration": 20,
    "start_time": "2022-01-27T10:48:48.882Z"
   },
   {
    "duration": 9,
    "start_time": "2022-01-27T10:48:49.824Z"
   },
   {
    "duration": 16,
    "start_time": "2022-01-27T10:48:50.212Z"
   },
   {
    "duration": 7,
    "start_time": "2022-01-27T10:48:51.096Z"
   },
   {
    "duration": 13,
    "start_time": "2022-01-27T10:48:51.551Z"
   },
   {
    "duration": 7,
    "start_time": "2022-01-27T10:48:52.584Z"
   },
   {
    "duration": 6,
    "start_time": "2022-01-27T10:48:53.123Z"
   },
   {
    "duration": 9,
    "start_time": "2022-01-27T10:48:54.375Z"
   },
   {
    "duration": 7,
    "start_time": "2022-01-27T10:48:54.843Z"
   },
   {
    "duration": 356,
    "start_time": "2022-01-27T10:48:55.787Z"
   },
   {
    "duration": 26,
    "start_time": "2022-01-27T11:54:50.873Z"
   },
   {
    "duration": 13,
    "start_time": "2022-01-27T11:54:57.228Z"
   },
   {
    "duration": 7,
    "start_time": "2022-01-27T12:03:29.145Z"
   },
   {
    "duration": 18,
    "start_time": "2022-01-27T12:03:29.953Z"
   },
   {
    "duration": 5,
    "start_time": "2022-01-27T12:03:30.501Z"
   },
   {
    "duration": 17,
    "start_time": "2022-01-27T12:03:30.978Z"
   },
   {
    "duration": 212,
    "start_time": "2022-01-27T12:11:58.699Z"
   },
   {
    "duration": 211,
    "start_time": "2022-01-27T12:14:56.950Z"
   },
   {
    "duration": 67,
    "start_time": "2022-01-27T12:15:20.934Z"
   },
   {
    "duration": 15,
    "start_time": "2022-01-27T12:15:32.481Z"
   },
   {
    "duration": 97,
    "start_time": "2022-01-27T12:16:01.246Z"
   },
   {
    "duration": 8,
    "start_time": "2022-01-27T12:34:34.142Z"
   },
   {
    "duration": 188,
    "start_time": "2022-01-27T12:36:50.514Z"
   },
   {
    "duration": 23,
    "start_time": "2022-01-27T12:37:01.767Z"
   },
   {
    "duration": 9,
    "start_time": "2022-01-27T12:37:07.435Z"
   },
   {
    "duration": 16,
    "start_time": "2022-01-27T12:37:45.230Z"
   },
   {
    "duration": 60,
    "start_time": "2022-01-27T12:40:27.030Z"
   },
   {
    "duration": 7,
    "start_time": "2022-01-27T12:46:57.939Z"
   },
   {
    "duration": 11,
    "start_time": "2022-01-27T12:47:00.041Z"
   },
   {
    "duration": 4,
    "start_time": "2022-01-27T13:02:05.024Z"
   },
   {
    "duration": 9,
    "start_time": "2022-01-27T13:02:14.687Z"
   },
   {
    "duration": 4,
    "start_time": "2022-01-27T13:02:14.737Z"
   },
   {
    "duration": 124,
    "start_time": "2022-01-27T13:18:52.771Z"
   },
   {
    "duration": 205,
    "start_time": "2022-01-27T13:19:16.632Z"
   },
   {
    "duration": 8,
    "start_time": "2022-01-27T13:34:38.198Z"
   },
   {
    "duration": 5,
    "start_time": "2022-01-27T13:34:43.373Z"
   },
   {
    "duration": 9,
    "start_time": "2022-01-27T13:34:53.563Z"
   },
   {
    "duration": 211,
    "start_time": "2022-01-27T13:35:17.781Z"
   },
   {
    "duration": 27,
    "start_time": "2022-01-27T13:35:26.494Z"
   },
   {
    "duration": 6,
    "start_time": "2022-01-27T13:35:27.027Z"
   },
   {
    "duration": 4,
    "start_time": "2022-01-27T13:35:27.516Z"
   },
   {
    "duration": 7,
    "start_time": "2022-01-27T13:35:28.110Z"
   },
   {
    "duration": 23,
    "start_time": "2022-01-27T13:36:21.421Z"
   },
   {
    "duration": 10,
    "start_time": "2022-01-27T13:36:25.977Z"
   },
   {
    "duration": 44,
    "start_time": "2022-01-27T13:38:20.553Z"
   },
   {
    "duration": 38,
    "start_time": "2022-01-27T13:46:06.791Z"
   },
   {
    "duration": 39,
    "start_time": "2022-01-27T13:46:23.251Z"
   },
   {
    "duration": 74,
    "start_time": "2022-01-27T13:49:28.937Z"
   },
   {
    "duration": 57,
    "start_time": "2022-01-27T13:49:57.512Z"
   },
   {
    "duration": 28,
    "start_time": "2022-01-27T13:50:12.797Z"
   },
   {
    "duration": 778,
    "start_time": "2022-01-27T13:50:28.827Z"
   },
   {
    "duration": 40,
    "start_time": "2022-01-27T13:50:42.913Z"
   },
   {
    "duration": 37,
    "start_time": "2022-01-27T13:51:28.806Z"
   },
   {
    "duration": 928,
    "start_time": "2022-01-27T13:51:28.845Z"
   },
   {
    "duration": 807,
    "start_time": "2022-01-27T13:52:02.150Z"
   },
   {
    "duration": 4,
    "start_time": "2022-01-27T13:52:19.636Z"
   },
   {
    "duration": 43,
    "start_time": "2022-01-27T13:52:23.859Z"
   },
   {
    "duration": 13,
    "start_time": "2022-01-27T13:52:39.892Z"
   },
   {
    "duration": 45,
    "start_time": "2022-01-27T13:53:53.619Z"
   },
   {
    "duration": 19,
    "start_time": "2022-01-27T13:56:39.132Z"
   },
   {
    "duration": 3,
    "start_time": "2022-01-27T13:56:39.174Z"
   },
   {
    "duration": 38,
    "start_time": "2022-01-27T13:59:36.031Z"
   },
   {
    "duration": 18,
    "start_time": "2022-01-27T14:00:03.167Z"
   },
   {
    "duration": 210,
    "start_time": "2022-01-27T14:00:19.475Z"
   },
   {
    "duration": 19,
    "start_time": "2022-01-27T14:00:26.619Z"
   },
   {
    "duration": 243,
    "start_time": "2022-01-27T14:02:41.533Z"
   },
   {
    "duration": 46,
    "start_time": "2022-01-27T14:03:03.250Z"
   },
   {
    "duration": 42,
    "start_time": "2022-01-27T14:13:35.647Z"
   },
   {
    "duration": 43,
    "start_time": "2022-01-27T14:14:28.868Z"
   },
   {
    "duration": 294,
    "start_time": "2022-01-27T14:15:02.867Z"
   },
   {
    "duration": 35,
    "start_time": "2022-01-27T14:15:11.408Z"
   },
   {
    "duration": 43,
    "start_time": "2022-01-27T14:15:21.317Z"
   },
   {
    "duration": 22,
    "start_time": "2022-01-27T14:15:29.592Z"
   },
   {
    "duration": 218,
    "start_time": "2022-01-27T14:15:56.920Z"
   },
   {
    "duration": 43,
    "start_time": "2022-01-27T14:16:21.332Z"
   },
   {
    "duration": 7,
    "start_time": "2022-01-27T14:19:33.934Z"
   },
   {
    "duration": 5,
    "start_time": "2022-01-27T14:19:49.288Z"
   },
   {
    "duration": 40,
    "start_time": "2022-01-27T14:20:15.046Z"
   },
   {
    "duration": 44,
    "start_time": "2022-01-27T14:20:32.269Z"
   },
   {
    "duration": 232,
    "start_time": "2022-01-27T14:21:36.888Z"
   },
   {
    "duration": 214,
    "start_time": "2022-01-27T14:22:47.433Z"
   },
   {
    "duration": 66,
    "start_time": "2022-01-27T14:22:58.204Z"
   },
   {
    "duration": 885,
    "start_time": "2022-01-27T14:23:08.867Z"
   },
   {
    "duration": 188,
    "start_time": "2022-01-27T14:25:36.494Z"
   },
   {
    "duration": 64,
    "start_time": "2022-01-27T14:29:15.291Z"
   },
   {
    "duration": 3,
    "start_time": "2022-01-27T14:29:24.017Z"
   },
   {
    "duration": 11,
    "start_time": "2022-01-27T14:29:35.678Z"
   },
   {
    "duration": 4,
    "start_time": "2022-01-27T14:35:09.061Z"
   },
   {
    "duration": 200,
    "start_time": "2022-01-27T14:35:10.966Z"
   },
   {
    "duration": 9,
    "start_time": "2022-01-27T14:35:38.826Z"
   },
   {
    "duration": 9,
    "start_time": "2022-01-27T14:35:55.891Z"
   },
   {
    "duration": 9,
    "start_time": "2022-01-27T14:36:04.177Z"
   },
   {
    "duration": 3,
    "start_time": "2022-01-27T14:36:15.959Z"
   },
   {
    "duration": 9,
    "start_time": "2022-01-27T14:36:23.367Z"
   },
   {
    "duration": 17,
    "start_time": "2022-01-27T14:36:32.307Z"
   },
   {
    "duration": 18,
    "start_time": "2022-01-27T14:36:55.363Z"
   },
   {
    "duration": 3,
    "start_time": "2022-01-27T14:45:33.629Z"
   },
   {
    "duration": 7,
    "start_time": "2022-01-27T14:45:37.445Z"
   },
   {
    "duration": 212,
    "start_time": "2022-01-27T14:46:54.017Z"
   },
   {
    "duration": 2,
    "start_time": "2022-01-27T14:46:57.131Z"
   },
   {
    "duration": 9,
    "start_time": "2022-01-27T14:46:58.510Z"
   },
   {
    "duration": 10,
    "start_time": "2022-01-27T14:47:02.651Z"
   },
   {
    "duration": 127,
    "start_time": "2022-01-27T14:47:03.650Z"
   },
   {
    "duration": 123,
    "start_time": "2022-01-27T14:47:04.082Z"
   },
   {
    "duration": 78,
    "start_time": "2022-01-27T14:47:04.651Z"
   },
   {
    "duration": 14,
    "start_time": "2022-01-27T14:47:05.186Z"
   },
   {
    "duration": 22,
    "start_time": "2022-01-27T14:47:05.957Z"
   },
   {
    "duration": 3,
    "start_time": "2022-01-27T14:47:14.302Z"
   },
   {
    "duration": 28,
    "start_time": "2022-01-27T14:47:16.382Z"
   },
   {
    "duration": 15,
    "start_time": "2022-01-27T14:47:37.566Z"
   },
   {
    "duration": 5,
    "start_time": "2022-01-27T14:49:55.071Z"
   },
   {
    "duration": 41,
    "start_time": "2022-01-27T15:16:18.036Z"
   },
   {
    "duration": 208,
    "start_time": "2022-01-27T15:20:07.726Z"
   },
   {
    "duration": 4,
    "start_time": "2022-01-27T15:20:21.358Z"
   },
   {
    "duration": 21,
    "start_time": "2022-01-27T15:20:21.974Z"
   },
   {
    "duration": 43,
    "start_time": "2022-01-27T15:20:24.339Z"
   },
   {
    "duration": 8,
    "start_time": "2022-01-27T19:18:12.257Z"
   },
   {
    "duration": 9,
    "start_time": "2022-01-27T19:18:26.625Z"
   },
   {
    "duration": 145,
    "start_time": "2022-01-27T19:20:15.716Z"
   },
   {
    "duration": 194,
    "start_time": "2022-01-27T19:20:28.534Z"
   },
   {
    "duration": 203,
    "start_time": "2022-01-27T19:20:48.640Z"
   },
   {
    "duration": 4,
    "start_time": "2022-01-27T19:21:24.854Z"
   },
   {
    "duration": 11,
    "start_time": "2022-01-27T19:24:20.913Z"
   },
   {
    "duration": 9,
    "start_time": "2022-01-27T19:24:40.083Z"
   },
   {
    "duration": 9,
    "start_time": "2022-01-27T19:24:46.634Z"
   },
   {
    "duration": 8,
    "start_time": "2022-01-27T19:24:56.819Z"
   },
   {
    "duration": 10,
    "start_time": "2022-01-27T19:25:05.556Z"
   },
   {
    "duration": 7,
    "start_time": "2022-01-27T19:26:35.478Z"
   },
   {
    "duration": 8,
    "start_time": "2022-01-27T19:26:49.048Z"
   },
   {
    "duration": 4,
    "start_time": "2022-01-27T19:36:40.937Z"
   },
   {
    "duration": 8,
    "start_time": "2022-01-27T19:36:51.631Z"
   },
   {
    "duration": 201,
    "start_time": "2022-01-27T19:39:32.272Z"
   },
   {
    "duration": 5,
    "start_time": "2022-01-27T19:39:46.939Z"
   },
   {
    "duration": 125,
    "start_time": "2022-01-27T19:41:30.406Z"
   },
   {
    "duration": 2,
    "start_time": "2022-01-27T19:41:40.727Z"
   },
   {
    "duration": 27,
    "start_time": "2022-01-27T19:41:42.206Z"
   },
   {
    "duration": 16,
    "start_time": "2022-01-27T19:42:33.593Z"
   },
   {
    "duration": 9,
    "start_time": "2022-01-27T19:42:36.813Z"
   },
   {
    "duration": 786,
    "start_time": "2022-01-27T19:45:30.137Z"
   },
   {
    "duration": 218,
    "start_time": "2022-01-27T19:45:47.407Z"
   },
   {
    "duration": 29,
    "start_time": "2022-01-27T19:46:23.203Z"
   },
   {
    "duration": 36,
    "start_time": "2022-01-27T19:46:35.377Z"
   },
   {
    "duration": 43,
    "start_time": "2022-01-27T19:50:06.474Z"
   },
   {
    "duration": 21,
    "start_time": "2022-01-27T19:50:09.667Z"
   },
   {
    "duration": 17,
    "start_time": "2022-01-27T19:52:26.221Z"
   },
   {
    "duration": 23,
    "start_time": "2022-01-27T19:52:45.485Z"
   },
   {
    "duration": 22,
    "start_time": "2022-01-27T19:52:52.055Z"
   },
   {
    "duration": 21,
    "start_time": "2022-01-27T19:56:51.998Z"
   },
   {
    "duration": 8,
    "start_time": "2022-01-27T19:59:16.049Z"
   },
   {
    "duration": 9,
    "start_time": "2022-01-27T19:59:23.282Z"
   },
   {
    "duration": 8,
    "start_time": "2022-01-27T20:00:27.622Z"
   },
   {
    "duration": 16,
    "start_time": "2022-01-27T20:02:15.006Z"
   },
   {
    "duration": 29,
    "start_time": "2022-01-27T20:03:11.220Z"
   },
   {
    "duration": 13,
    "start_time": "2022-01-27T20:15:23.396Z"
   },
   {
    "duration": 18,
    "start_time": "2022-01-27T20:15:29.907Z"
   },
   {
    "duration": 8,
    "start_time": "2022-01-27T20:20:58.028Z"
   },
   {
    "duration": 21,
    "start_time": "2022-01-27T20:21:00.055Z"
   },
   {
    "duration": 15,
    "start_time": "2022-01-27T20:22:21.388Z"
   },
   {
    "duration": 10,
    "start_time": "2022-01-27T20:22:37.377Z"
   },
   {
    "duration": 14,
    "start_time": "2022-01-27T20:22:44.787Z"
   },
   {
    "duration": 13,
    "start_time": "2022-01-27T20:23:37.253Z"
   },
   {
    "duration": 23,
    "start_time": "2022-01-27T20:23:40.202Z"
   },
   {
    "duration": 14,
    "start_time": "2022-01-27T20:24:47.516Z"
   },
   {
    "duration": 16,
    "start_time": "2022-01-27T20:24:50.054Z"
   },
   {
    "duration": 16,
    "start_time": "2022-01-27T20:25:26.573Z"
   },
   {
    "duration": 9,
    "start_time": "2022-01-27T20:26:12.182Z"
   },
   {
    "duration": 9,
    "start_time": "2022-01-27T20:26:24.729Z"
   },
   {
    "duration": 14,
    "start_time": "2022-01-27T20:26:31.685Z"
   },
   {
    "duration": 9,
    "start_time": "2022-01-27T20:26:41.007Z"
   },
   {
    "duration": 14,
    "start_time": "2022-01-27T20:26:47.946Z"
   },
   {
    "duration": 17,
    "start_time": "2022-01-27T20:34:56.087Z"
   },
   {
    "duration": 20,
    "start_time": "2022-01-27T20:35:00.826Z"
   },
   {
    "duration": 8,
    "start_time": "2022-01-27T20:35:40.006Z"
   },
   {
    "duration": 14,
    "start_time": "2022-01-27T20:35:42.965Z"
   },
   {
    "duration": 26,
    "start_time": "2022-01-27T20:35:59.447Z"
   },
   {
    "duration": 6,
    "start_time": "2022-01-27T20:36:02.063Z"
   },
   {
    "duration": 17,
    "start_time": "2022-01-27T20:36:45.849Z"
   },
   {
    "duration": 33,
    "start_time": "2022-01-27T20:37:10.205Z"
   },
   {
    "duration": 9,
    "start_time": "2022-01-27T20:37:21.702Z"
   },
   {
    "duration": 4,
    "start_time": "2022-01-27T20:49:06.292Z"
   },
   {
    "duration": 14,
    "start_time": "2022-01-27T20:49:57.709Z"
   },
   {
    "duration": 194,
    "start_time": "2022-01-27T20:51:59.271Z"
   },
   {
    "duration": 10,
    "start_time": "2022-01-27T20:52:05.657Z"
   },
   {
    "duration": 9,
    "start_time": "2022-01-27T20:52:24.720Z"
   },
   {
    "duration": 15,
    "start_time": "2022-01-27T20:56:46.035Z"
   },
   {
    "duration": 10,
    "start_time": "2022-01-27T20:56:53.168Z"
   },
   {
    "duration": 13,
    "start_time": "2022-01-27T20:56:57.341Z"
   },
   {
    "duration": 8,
    "start_time": "2022-01-27T20:58:26.531Z"
   },
   {
    "duration": 10,
    "start_time": "2022-01-27T20:58:29.212Z"
   },
   {
    "duration": 14,
    "start_time": "2022-01-27T20:58:34.867Z"
   },
   {
    "duration": 5,
    "start_time": "2022-01-27T21:05:44.929Z"
   },
   {
    "duration": 4,
    "start_time": "2022-01-27T21:06:18.568Z"
   },
   {
    "duration": 4,
    "start_time": "2022-01-27T21:16:24.944Z"
   },
   {
    "duration": 4,
    "start_time": "2022-01-27T21:31:54.992Z"
   },
   {
    "duration": 19,
    "start_time": "2022-01-27T21:32:02.858Z"
   },
   {
    "duration": 8,
    "start_time": "2022-01-27T21:34:26.074Z"
   },
   {
    "duration": 16,
    "start_time": "2022-01-27T21:35:46.002Z"
   },
   {
    "duration": 9,
    "start_time": "2022-01-27T21:59:29.151Z"
   },
   {
    "duration": 14,
    "start_time": "2022-01-27T22:00:10.537Z"
   },
   {
    "duration": 17,
    "start_time": "2022-01-27T22:00:42.218Z"
   },
   {
    "duration": 37,
    "start_time": "2022-01-27T22:00:49.192Z"
   },
   {
    "duration": 7,
    "start_time": "2022-01-27T22:01:33.420Z"
   },
   {
    "duration": 31,
    "start_time": "2022-01-27T22:02:55.820Z"
   },
   {
    "duration": 8,
    "start_time": "2022-01-27T22:03:00.735Z"
   },
   {
    "duration": 33,
    "start_time": "2022-01-27T22:04:03.917Z"
   },
   {
    "duration": 9,
    "start_time": "2022-01-27T22:04:08.823Z"
   },
   {
    "duration": 33,
    "start_time": "2022-01-27T22:04:18.157Z"
   },
   {
    "duration": 21,
    "start_time": "2022-01-27T22:10:51.189Z"
   },
   {
    "duration": 10,
    "start_time": "2022-01-27T22:11:53.985Z"
   },
   {
    "duration": 12,
    "start_time": "2022-01-27T22:12:16.847Z"
   },
   {
    "duration": 11,
    "start_time": "2022-01-27T22:12:56.490Z"
   },
   {
    "duration": 13,
    "start_time": "2022-01-27T22:13:42.015Z"
   },
   {
    "duration": 23,
    "start_time": "2022-01-27T22:14:18.148Z"
   },
   {
    "duration": 21,
    "start_time": "2022-01-27T22:14:29.973Z"
   },
   {
    "duration": 30,
    "start_time": "2022-01-27T22:16:33.470Z"
   },
   {
    "duration": 33,
    "start_time": "2022-01-27T22:17:08.685Z"
   },
   {
    "duration": 31,
    "start_time": "2022-01-27T22:17:27.077Z"
   },
   {
    "duration": 32,
    "start_time": "2022-01-27T22:17:43.831Z"
   },
   {
    "duration": 31,
    "start_time": "2022-01-27T22:18:31.059Z"
   },
   {
    "duration": 32,
    "start_time": "2022-01-27T22:23:18.609Z"
   },
   {
    "duration": 8,
    "start_time": "2022-01-27T22:23:21.279Z"
   },
   {
    "duration": 4,
    "start_time": "2022-01-27T22:23:46.766Z"
   },
   {
    "duration": 4,
    "start_time": "2022-01-27T22:40:39.330Z"
   },
   {
    "duration": 35,
    "start_time": "2022-01-27T22:40:41.296Z"
   },
   {
    "duration": 8,
    "start_time": "2022-01-27T22:43:26.440Z"
   },
   {
    "duration": 5,
    "start_time": "2022-01-27T22:49:23.865Z"
   },
   {
    "duration": 337,
    "start_time": "2022-01-27T22:54:42.129Z"
   },
   {
    "duration": 7,
    "start_time": "2022-01-27T22:55:08.838Z"
   },
   {
    "duration": 6,
    "start_time": "2022-01-27T22:57:58.549Z"
   },
   {
    "duration": 7,
    "start_time": "2022-01-27T22:58:07.294Z"
   },
   {
    "duration": 321,
    "start_time": "2022-01-27T22:58:39.484Z"
   },
   {
    "duration": 7,
    "start_time": "2022-01-27T22:59:39.056Z"
   },
   {
    "duration": 8,
    "start_time": "2022-01-27T22:59:52.991Z"
   },
   {
    "duration": 9,
    "start_time": "2022-01-27T23:00:24.524Z"
   },
   {
    "duration": 9,
    "start_time": "2022-01-27T23:05:11.076Z"
   },
   {
    "duration": 4,
    "start_time": "2022-01-27T23:07:24.579Z"
   },
   {
    "duration": 12,
    "start_time": "2022-01-27T23:07:28.513Z"
   },
   {
    "duration": 7,
    "start_time": "2022-01-27T23:08:17.264Z"
   },
   {
    "duration": 334,
    "start_time": "2022-01-28T11:54:18.393Z"
   },
   {
    "duration": 1053,
    "start_time": "2022-01-28T11:54:30.672Z"
   },
   {
    "duration": 29,
    "start_time": "2022-01-28T11:54:31.727Z"
   },
   {
    "duration": 151,
    "start_time": "2022-01-28T11:54:31.758Z"
   },
   {
    "duration": 128,
    "start_time": "2022-01-28T11:54:31.910Z"
   },
   {
    "duration": 89,
    "start_time": "2022-01-28T11:54:32.040Z"
   },
   {
    "duration": 17,
    "start_time": "2022-01-28T11:54:32.131Z"
   },
   {
    "duration": 12,
    "start_time": "2022-01-28T11:54:32.149Z"
   },
   {
    "duration": 18,
    "start_time": "2022-01-28T11:54:32.163Z"
   },
   {
    "duration": 7,
    "start_time": "2022-01-28T11:54:32.183Z"
   },
   {
    "duration": 17,
    "start_time": "2022-01-28T11:54:32.192Z"
   },
   {
    "duration": 8,
    "start_time": "2022-01-28T11:54:32.210Z"
   },
   {
    "duration": 14,
    "start_time": "2022-01-28T11:54:32.219Z"
   },
   {
    "duration": 39,
    "start_time": "2022-01-28T11:54:32.235Z"
   },
   {
    "duration": 6,
    "start_time": "2022-01-28T11:54:32.276Z"
   },
   {
    "duration": 11,
    "start_time": "2022-01-28T11:54:32.283Z"
   },
   {
    "duration": 6,
    "start_time": "2022-01-28T11:54:32.296Z"
   },
   {
    "duration": 3,
    "start_time": "2022-01-28T11:54:32.303Z"
   },
   {
    "duration": 98,
    "start_time": "2022-01-28T11:54:32.308Z"
   },
   {
    "duration": 88,
    "start_time": "2022-01-28T11:54:32.407Z"
   },
   {
    "duration": 5,
    "start_time": "2022-01-28T11:54:32.496Z"
   },
   {
    "duration": 21,
    "start_time": "2022-01-28T11:54:32.502Z"
   },
   {
    "duration": 77,
    "start_time": "2022-01-28T11:54:32.524Z"
   },
   {
    "duration": 7,
    "start_time": "2022-01-28T11:54:32.605Z"
   },
   {
    "duration": 8,
    "start_time": "2022-01-28T11:54:32.614Z"
   },
   {
    "duration": 15,
    "start_time": "2022-01-28T11:54:32.624Z"
   },
   {
    "duration": 7,
    "start_time": "2022-01-28T11:54:32.641Z"
   },
   {
    "duration": 59,
    "start_time": "2022-01-28T11:54:32.649Z"
   },
   {
    "duration": 13,
    "start_time": "2022-01-28T11:54:32.709Z"
   },
   {
    "duration": 28,
    "start_time": "2022-01-28T11:54:32.723Z"
   },
   {
    "duration": 3,
    "start_time": "2022-01-28T11:54:32.753Z"
   },
   {
    "duration": 34,
    "start_time": "2022-01-28T11:54:32.774Z"
   },
   {
    "duration": 6,
    "start_time": "2022-01-28T11:54:32.809Z"
   },
   {
    "duration": 428,
    "start_time": "2022-01-28T11:54:32.817Z"
   },
   {
    "duration": -559,
    "start_time": "2022-01-28T11:54:33.806Z"
   },
   {
    "duration": -563,
    "start_time": "2022-01-28T11:54:33.811Z"
   },
   {
    "duration": 32,
    "start_time": "2022-01-28T12:08:34.695Z"
   },
   {
    "duration": 8,
    "start_time": "2022-01-28T13:25:39.668Z"
   },
   {
    "duration": 3,
    "start_time": "2022-01-28T13:25:42.595Z"
   },
   {
    "duration": 9,
    "start_time": "2022-01-28T13:25:46.544Z"
   },
   {
    "duration": 2788,
    "start_time": "2022-01-28T13:27:13.654Z"
   },
   {
    "duration": 2933,
    "start_time": "2022-01-28T13:27:33.587Z"
   },
   {
    "duration": 49,
    "start_time": "2022-01-28T13:31:39.289Z"
   },
   {
    "duration": 9,
    "start_time": "2022-01-28T13:31:45.604Z"
   },
   {
    "duration": 4,
    "start_time": "2022-01-28T14:31:26.766Z"
   },
   {
    "duration": 9,
    "start_time": "2022-01-28T14:31:29.811Z"
   },
   {
    "duration": -682,
    "start_time": "2022-01-28T14:32:33.361Z"
   },
   {
    "duration": -684,
    "start_time": "2022-01-28T14:32:33.364Z"
   },
   {
    "duration": -686,
    "start_time": "2022-01-28T14:32:33.367Z"
   },
   {
    "duration": -687,
    "start_time": "2022-01-28T14:32:33.369Z"
   },
   {
    "duration": -689,
    "start_time": "2022-01-28T14:32:33.372Z"
   },
   {
    "duration": -696,
    "start_time": "2022-01-28T14:32:33.380Z"
   },
   {
    "duration": -702,
    "start_time": "2022-01-28T14:32:33.387Z"
   },
   {
    "duration": -705,
    "start_time": "2022-01-28T14:32:33.391Z"
   },
   {
    "duration": -709,
    "start_time": "2022-01-28T14:32:33.396Z"
   },
   {
    "duration": -711,
    "start_time": "2022-01-28T14:32:33.399Z"
   },
   {
    "duration": -714,
    "start_time": "2022-01-28T14:32:33.403Z"
   },
   {
    "duration": -716,
    "start_time": "2022-01-28T14:32:33.406Z"
   },
   {
    "duration": -718,
    "start_time": "2022-01-28T14:32:33.408Z"
   },
   {
    "duration": -720,
    "start_time": "2022-01-28T14:32:33.412Z"
   },
   {
    "duration": -721,
    "start_time": "2022-01-28T14:32:33.414Z"
   },
   {
    "duration": -723,
    "start_time": "2022-01-28T14:32:33.416Z"
   },
   {
    "duration": -725,
    "start_time": "2022-01-28T14:32:33.419Z"
   },
   {
    "duration": -732,
    "start_time": "2022-01-28T14:32:33.427Z"
   },
   {
    "duration": -734,
    "start_time": "2022-01-28T14:32:33.430Z"
   },
   {
    "duration": -736,
    "start_time": "2022-01-28T14:32:33.433Z"
   },
   {
    "duration": -738,
    "start_time": "2022-01-28T14:32:33.436Z"
   },
   {
    "duration": -740,
    "start_time": "2022-01-28T14:32:33.439Z"
   },
   {
    "duration": -742,
    "start_time": "2022-01-28T14:32:33.442Z"
   },
   {
    "duration": -744,
    "start_time": "2022-01-28T14:32:33.445Z"
   },
   {
    "duration": -746,
    "start_time": "2022-01-28T14:32:33.448Z"
   },
   {
    "duration": -748,
    "start_time": "2022-01-28T14:32:33.451Z"
   },
   {
    "duration": -750,
    "start_time": "2022-01-28T14:32:33.454Z"
   },
   {
    "duration": -752,
    "start_time": "2022-01-28T14:32:33.457Z"
   },
   {
    "duration": -754,
    "start_time": "2022-01-28T14:32:33.460Z"
   },
   {
    "duration": -755,
    "start_time": "2022-01-28T14:32:33.462Z"
   },
   {
    "duration": -757,
    "start_time": "2022-01-28T14:32:33.465Z"
   },
   {
    "duration": -761,
    "start_time": "2022-01-28T14:32:33.470Z"
   },
   {
    "duration": -764,
    "start_time": "2022-01-28T14:32:33.474Z"
   },
   {
    "duration": -774,
    "start_time": "2022-01-28T14:32:33.485Z"
   },
   {
    "duration": -777,
    "start_time": "2022-01-28T14:32:33.489Z"
   },
   {
    "duration": -779,
    "start_time": "2022-01-28T14:32:33.492Z"
   },
   {
    "duration": -782,
    "start_time": "2022-01-28T14:32:33.495Z"
   },
   {
    "duration": 9,
    "start_time": "2022-01-28T14:33:53.804Z"
   },
   {
    "duration": 30,
    "start_time": "2022-01-28T14:33:56.918Z"
   },
   {
    "duration": 1854,
    "start_time": "2022-01-28T14:33:57.151Z"
   },
   {
    "duration": 116,
    "start_time": "2022-01-28T14:33:59.007Z"
   },
   {
    "duration": 85,
    "start_time": "2022-01-28T14:33:59.125Z"
   },
   {
    "duration": 17,
    "start_time": "2022-01-28T14:33:59.211Z"
   },
   {
    "duration": 8,
    "start_time": "2022-01-28T14:34:00.387Z"
   },
   {
    "duration": 18,
    "start_time": "2022-01-28T14:34:00.669Z"
   },
   {
    "duration": 9,
    "start_time": "2022-01-28T14:34:02.100Z"
   },
   {
    "duration": 18,
    "start_time": "2022-01-28T14:34:02.345Z"
   },
   {
    "duration": 7,
    "start_time": "2022-01-28T14:34:03.529Z"
   },
   {
    "duration": 14,
    "start_time": "2022-01-28T14:34:04.277Z"
   },
   {
    "duration": 8,
    "start_time": "2022-01-28T14:34:05.360Z"
   },
   {
    "duration": 6,
    "start_time": "2022-01-28T14:34:05.621Z"
   },
   {
    "duration": 11,
    "start_time": "2022-01-28T14:34:06.616Z"
   },
   {
    "duration": 6,
    "start_time": "2022-01-28T14:34:07.161Z"
   },
   {
    "duration": 3,
    "start_time": "2022-01-28T14:34:10.224Z"
   },
   {
    "duration": 52,
    "start_time": "2022-01-28T14:34:11.946Z"
   },
   {
    "duration": 77,
    "start_time": "2022-01-28T14:34:13.739Z"
   },
   {
    "duration": 5,
    "start_time": "2022-01-28T14:34:14.650Z"
   },
   {
    "duration": 21,
    "start_time": "2022-01-28T14:34:15.250Z"
   },
   {
    "duration": 54,
    "start_time": "2022-01-28T14:34:15.948Z"
   },
   {
    "duration": 9,
    "start_time": "2022-01-28T14:34:17.832Z"
   },
   {
    "duration": 44,
    "start_time": "2022-01-28T14:34:18.864Z"
   },
   {
    "duration": 6,
    "start_time": "2022-01-28T14:34:21.152Z"
   },
   {
    "duration": 17,
    "start_time": "2022-01-28T14:34:22.603Z"
   },
   {
    "duration": 28,
    "start_time": "2022-01-28T14:34:24.144Z"
   },
   {
    "duration": 4,
    "start_time": "2022-01-28T14:34:28.714Z"
   },
   {
    "duration": 10,
    "start_time": "2022-01-28T14:34:29.889Z"
   },
   {
    "duration": 14,
    "start_time": "2022-01-28T14:37:52.698Z"
   },
   {
    "duration": 31,
    "start_time": "2022-01-28T14:37:53.838Z"
   },
   {
    "duration": 3,
    "start_time": "2022-01-28T14:37:55.891Z"
   },
   {
    "duration": 29,
    "start_time": "2022-01-28T14:37:57.402Z"
   },
   {
    "duration": 7,
    "start_time": "2022-01-28T14:37:58.198Z"
   },
   {
    "duration": 348,
    "start_time": "2022-01-28T14:38:00.747Z"
   },
   {
    "duration": 304,
    "start_time": "2022-01-28T14:38:21.466Z"
   },
   {
    "duration": 7744,
    "start_time": "2022-01-28T14:38:47.582Z"
   },
   {
    "duration": -698,
    "start_time": "2022-01-28T14:38:56.026Z"
   },
   {
    "duration": 12,
    "start_time": "2022-01-28T19:51:12.002Z"
   },
   {
    "duration": 7,
    "start_time": "2022-01-28T19:51:17.919Z"
   },
   {
    "duration": 8,
    "start_time": "2022-01-28T19:53:58.450Z"
   },
   {
    "duration": 393,
    "start_time": "2022-01-28T19:56:02.648Z"
   },
   {
    "duration": 7,
    "start_time": "2022-01-28T19:57:26.484Z"
   },
   {
    "duration": 1008,
    "start_time": "2022-01-28T20:07:51.208Z"
   },
   {
    "duration": 31,
    "start_time": "2022-01-28T20:07:52.218Z"
   },
   {
    "duration": 135,
    "start_time": "2022-01-28T20:07:52.251Z"
   },
   {
    "duration": 118,
    "start_time": "2022-01-28T20:07:52.388Z"
   },
   {
    "duration": 81,
    "start_time": "2022-01-28T20:07:52.507Z"
   },
   {
    "duration": 16,
    "start_time": "2022-01-28T20:07:52.589Z"
   },
   {
    "duration": 15,
    "start_time": "2022-01-28T20:07:52.607Z"
   },
   {
    "duration": 17,
    "start_time": "2022-01-28T20:07:52.623Z"
   },
   {
    "duration": 7,
    "start_time": "2022-01-28T20:07:52.643Z"
   },
   {
    "duration": 24,
    "start_time": "2022-01-28T20:07:52.652Z"
   },
   {
    "duration": 6,
    "start_time": "2022-01-28T20:07:52.677Z"
   },
   {
    "duration": 13,
    "start_time": "2022-01-28T20:07:52.685Z"
   },
   {
    "duration": 6,
    "start_time": "2022-01-28T20:07:52.699Z"
   },
   {
    "duration": 7,
    "start_time": "2022-01-28T20:07:52.706Z"
   },
   {
    "duration": 13,
    "start_time": "2022-01-28T20:07:52.714Z"
   },
   {
    "duration": 9,
    "start_time": "2022-01-28T20:07:52.728Z"
   },
   {
    "duration": 8,
    "start_time": "2022-01-28T20:07:52.738Z"
   },
   {
    "duration": 82,
    "start_time": "2022-01-28T20:07:52.747Z"
   },
   {
    "duration": 87,
    "start_time": "2022-01-28T20:07:52.831Z"
   },
   {
    "duration": 4,
    "start_time": "2022-01-28T20:07:52.919Z"
   },
   {
    "duration": 20,
    "start_time": "2022-01-28T20:07:52.924Z"
   },
   {
    "duration": 73,
    "start_time": "2022-01-28T20:07:52.946Z"
   },
   {
    "duration": 7,
    "start_time": "2022-01-28T20:07:53.020Z"
   },
   {
    "duration": 56,
    "start_time": "2022-01-28T20:07:53.028Z"
   },
   {
    "duration": 6,
    "start_time": "2022-01-28T20:07:53.086Z"
   },
   {
    "duration": 19,
    "start_time": "2022-01-28T20:07:53.093Z"
   },
   {
    "duration": 30,
    "start_time": "2022-01-28T20:07:53.115Z"
   },
   {
    "duration": 25,
    "start_time": "2022-01-28T20:07:53.147Z"
   },
   {
    "duration": 7,
    "start_time": "2022-01-28T20:07:53.173Z"
   },
   {
    "duration": 14,
    "start_time": "2022-01-28T20:07:53.182Z"
   },
   {
    "duration": 30,
    "start_time": "2022-01-28T20:07:53.198Z"
   },
   {
    "duration": 9,
    "start_time": "2022-01-28T20:07:53.230Z"
   },
   {
    "duration": 33,
    "start_time": "2022-01-28T20:07:53.241Z"
   },
   {
    "duration": 30,
    "start_time": "2022-01-28T20:07:53.276Z"
   },
   {
    "duration": 8,
    "start_time": "2022-01-28T20:07:53.308Z"
   },
   {
    "duration": 12,
    "start_time": "2022-01-28T20:07:53.317Z"
   },
   {
    "duration": 5,
    "start_time": "2022-01-28T20:07:53.331Z"
   },
   {
    "duration": 3,
    "start_time": "2022-01-28T20:12:34.727Z"
   },
   {
    "duration": 3263,
    "start_time": "2022-01-28T20:12:44.057Z"
   },
   {
    "duration": 7,
    "start_time": "2022-01-28T20:13:41.675Z"
   },
   {
    "duration": 28,
    "start_time": "2022-01-28T20:17:45.348Z"
   },
   {
    "duration": 14,
    "start_time": "2022-01-28T20:17:53.604Z"
   },
   {
    "duration": 11,
    "start_time": "2022-01-28T20:18:01.867Z"
   },
   {
    "duration": 5,
    "start_time": "2022-01-28T20:21:04.160Z"
   },
   {
    "duration": 377,
    "start_time": "2022-01-28T20:21:45.986Z"
   },
   {
    "duration": 5,
    "start_time": "2022-01-28T20:21:57.236Z"
   },
   {
    "duration": 6,
    "start_time": "2022-01-28T20:25:37.738Z"
   },
   {
    "duration": 302,
    "start_time": "2022-01-28T20:27:12.612Z"
   },
   {
    "duration": 29,
    "start_time": "2022-01-28T20:27:20.219Z"
   },
   {
    "duration": 9,
    "start_time": "2022-01-28T20:29:32.465Z"
   },
   {
    "duration": 8,
    "start_time": "2022-01-28T20:29:34.646Z"
   },
   {
    "duration": 6,
    "start_time": "2022-01-28T20:29:36.114Z"
   },
   {
    "duration": 6,
    "start_time": "2022-01-28T20:29:38.801Z"
   },
   {
    "duration": 4,
    "start_time": "2022-01-28T20:29:43.307Z"
   },
   {
    "duration": 7,
    "start_time": "2022-01-28T20:29:59.520Z"
   },
   {
    "duration": 11,
    "start_time": "2022-01-28T20:30:05.798Z"
   },
   {
    "duration": 348,
    "start_time": "2022-01-28T20:30:56.978Z"
   },
   {
    "duration": 99,
    "start_time": "2022-01-28T20:31:11.333Z"
   },
   {
    "duration": 327,
    "start_time": "2022-01-28T20:32:41.920Z"
   },
   {
    "duration": 8,
    "start_time": "2022-01-28T20:33:17.273Z"
   },
   {
    "duration": 7,
    "start_time": "2022-01-28T20:33:32.624Z"
   },
   {
    "duration": 27,
    "start_time": "2022-01-28T20:33:37.879Z"
   },
   {
    "duration": 7,
    "start_time": "2022-01-28T20:33:41.246Z"
   },
   {
    "duration": 12,
    "start_time": "2022-01-28T20:34:17.191Z"
   },
   {
    "duration": 7,
    "start_time": "2022-01-28T20:34:19.154Z"
   },
   {
    "duration": 4,
    "start_time": "2022-01-28T20:42:48.534Z"
   },
   {
    "duration": 12,
    "start_time": "2022-01-28T20:43:03.014Z"
   },
   {
    "duration": 40,
    "start_time": "2022-01-28T20:43:24.658Z"
   },
   {
    "duration": 3,
    "start_time": "2022-01-28T20:43:31.945Z"
   },
   {
    "duration": 13,
    "start_time": "2022-01-28T20:43:33.365Z"
   },
   {
    "duration": 10,
    "start_time": "2022-01-28T20:43:47.068Z"
   },
   {
    "duration": 5,
    "start_time": "2022-01-28T20:43:50.113Z"
   },
   {
    "duration": 4,
    "start_time": "2022-01-28T20:44:13.603Z"
   },
   {
    "duration": 4,
    "start_time": "2022-01-28T20:44:19.605Z"
   },
   {
    "duration": 13,
    "start_time": "2022-01-28T20:44:21.903Z"
   },
   {
    "duration": 4,
    "start_time": "2022-01-28T20:47:44.996Z"
   },
   {
    "duration": 14,
    "start_time": "2022-01-28T20:47:46.896Z"
   },
   {
    "duration": 1010,
    "start_time": "2022-01-28T20:48:54.297Z"
   },
   {
    "duration": 41,
    "start_time": "2022-01-28T20:48:55.308Z"
   },
   {
    "duration": 136,
    "start_time": "2022-01-28T20:48:55.350Z"
   },
   {
    "duration": 117,
    "start_time": "2022-01-28T20:48:55.488Z"
   },
   {
    "duration": 79,
    "start_time": "2022-01-28T20:48:55.606Z"
   },
   {
    "duration": 17,
    "start_time": "2022-01-28T20:48:55.686Z"
   },
   {
    "duration": 12,
    "start_time": "2022-01-28T20:48:55.704Z"
   },
   {
    "duration": 17,
    "start_time": "2022-01-28T20:48:55.718Z"
   },
   {
    "duration": 6,
    "start_time": "2022-01-28T20:48:55.737Z"
   },
   {
    "duration": 15,
    "start_time": "2022-01-28T20:48:55.745Z"
   },
   {
    "duration": 12,
    "start_time": "2022-01-28T20:48:55.761Z"
   },
   {
    "duration": 11,
    "start_time": "2022-01-28T20:48:55.774Z"
   },
   {
    "duration": 7,
    "start_time": "2022-01-28T20:48:55.787Z"
   },
   {
    "duration": 10,
    "start_time": "2022-01-28T20:48:55.795Z"
   },
   {
    "duration": 15,
    "start_time": "2022-01-28T20:48:55.806Z"
   },
   {
    "duration": 9,
    "start_time": "2022-01-28T20:48:55.822Z"
   },
   {
    "duration": 8,
    "start_time": "2022-01-28T20:48:55.832Z"
   },
   {
    "duration": 77,
    "start_time": "2022-01-28T20:48:55.841Z"
   },
   {
    "duration": 87,
    "start_time": "2022-01-28T20:48:55.920Z"
   },
   {
    "duration": 5,
    "start_time": "2022-01-28T20:48:56.008Z"
   },
   {
    "duration": 21,
    "start_time": "2022-01-28T20:48:56.014Z"
   },
   {
    "duration": 66,
    "start_time": "2022-01-28T20:48:56.036Z"
   },
   {
    "duration": 7,
    "start_time": "2022-01-28T20:48:56.105Z"
   },
   {
    "duration": 58,
    "start_time": "2022-01-28T20:48:56.114Z"
   },
   {
    "duration": 6,
    "start_time": "2022-01-28T20:48:56.174Z"
   },
   {
    "duration": 17,
    "start_time": "2022-01-28T20:48:56.181Z"
   },
   {
    "duration": 29,
    "start_time": "2022-01-28T20:48:56.200Z"
   },
   {
    "duration": 6,
    "start_time": "2022-01-28T20:48:56.231Z"
   },
   {
    "duration": 6,
    "start_time": "2022-01-28T20:48:56.238Z"
   },
   {
    "duration": 34,
    "start_time": "2022-01-28T20:48:56.246Z"
   },
   {
    "duration": 37,
    "start_time": "2022-01-28T20:48:56.282Z"
   },
   {
    "duration": 9,
    "start_time": "2022-01-28T20:48:56.320Z"
   },
   {
    "duration": 7,
    "start_time": "2022-01-28T20:48:56.330Z"
   },
   {
    "duration": 5,
    "start_time": "2022-01-28T20:48:56.338Z"
   },
   {
    "duration": 4,
    "start_time": "2022-01-28T20:48:56.372Z"
   },
   {
    "duration": 4,
    "start_time": "2022-01-28T20:48:56.378Z"
   },
   {
    "duration": 3,
    "start_time": "2022-01-28T20:48:56.384Z"
   },
   {
    "duration": 7,
    "start_time": "2022-01-28T20:48:56.389Z"
   },
   {
    "duration": 17,
    "start_time": "2022-01-28T20:48:56.397Z"
   },
   {
    "duration": 12,
    "start_time": "2022-01-28T20:48:56.416Z"
   },
   {
    "duration": 49,
    "start_time": "2022-01-28T20:48:56.429Z"
   },
   {
    "duration": 6,
    "start_time": "2022-01-28T20:48:56.480Z"
   },
   {
    "duration": 10,
    "start_time": "2022-01-28T20:48:56.487Z"
   },
   {
    "duration": 5,
    "start_time": "2022-01-28T20:48:56.499Z"
   },
   {
    "duration": 48,
    "start_time": "2022-01-28T21:03:42.697Z"
   },
   {
    "duration": 31,
    "start_time": "2022-01-28T21:04:35.668Z"
   },
   {
    "duration": 12,
    "start_time": "2022-01-28T21:05:26.928Z"
   },
   {
    "duration": 6,
    "start_time": "2022-01-28T21:05:29.839Z"
   },
   {
    "duration": 7,
    "start_time": "2022-01-28T21:08:35.132Z"
   },
   {
    "duration": 8,
    "start_time": "2022-01-28T21:08:39.419Z"
   },
   {
    "duration": 378,
    "start_time": "2022-01-28T21:30:27.481Z"
   },
   {
    "duration": 6,
    "start_time": "2022-01-28T21:30:42.555Z"
   },
   {
    "duration": 24,
    "start_time": "2022-01-28T21:30:52.188Z"
   },
   {
    "duration": 308,
    "start_time": "2022-01-28T21:38:47.800Z"
   },
   {
    "duration": 1572,
    "start_time": "2022-01-30T09:15:08.518Z"
   },
   {
    "duration": 42,
    "start_time": "2022-01-30T09:15:10.093Z"
   },
   {
    "duration": 216,
    "start_time": "2022-01-30T09:15:10.138Z"
   },
   {
    "duration": 192,
    "start_time": "2022-01-30T09:15:10.357Z"
   },
   {
    "duration": 113,
    "start_time": "2022-01-30T09:15:10.552Z"
   },
   {
    "duration": 16,
    "start_time": "2022-01-30T09:15:10.668Z"
   },
   {
    "duration": 20,
    "start_time": "2022-01-30T09:15:10.687Z"
   },
   {
    "duration": 46,
    "start_time": "2022-01-30T09:15:10.724Z"
   },
   {
    "duration": 16,
    "start_time": "2022-01-30T09:15:10.774Z"
   },
   {
    "duration": 47,
    "start_time": "2022-01-30T09:15:10.793Z"
   },
   {
    "duration": 11,
    "start_time": "2022-01-30T09:15:10.842Z"
   },
   {
    "duration": 24,
    "start_time": "2022-01-30T09:15:10.856Z"
   },
   {
    "duration": 41,
    "start_time": "2022-01-30T09:15:10.883Z"
   },
   {
    "duration": 12,
    "start_time": "2022-01-30T09:15:10.927Z"
   },
   {
    "duration": 22,
    "start_time": "2022-01-30T09:15:10.943Z"
   },
   {
    "duration": 10,
    "start_time": "2022-01-30T09:15:10.967Z"
   },
   {
    "duration": 43,
    "start_time": "2022-01-30T09:15:10.980Z"
   },
   {
    "duration": 104,
    "start_time": "2022-01-30T09:15:11.026Z"
   },
   {
    "duration": 135,
    "start_time": "2022-01-30T09:15:11.133Z"
   },
   {
    "duration": 6,
    "start_time": "2022-01-30T09:15:11.271Z"
   },
   {
    "duration": 48,
    "start_time": "2022-01-30T09:15:11.279Z"
   },
   {
    "duration": 81,
    "start_time": "2022-01-30T09:15:11.330Z"
   },
   {
    "duration": 14,
    "start_time": "2022-01-30T09:15:11.426Z"
   },
   {
    "duration": 106,
    "start_time": "2022-01-30T09:15:11.442Z"
   },
   {
    "duration": 9,
    "start_time": "2022-01-30T09:15:11.550Z"
   },
   {
    "duration": 35,
    "start_time": "2022-01-30T09:15:11.561Z"
   },
   {
    "duration": 56,
    "start_time": "2022-01-30T09:15:11.598Z"
   },
   {
    "duration": 11,
    "start_time": "2022-01-30T09:15:11.658Z"
   },
   {
    "duration": 11,
    "start_time": "2022-01-30T09:15:11.672Z"
   },
   {
    "duration": 50,
    "start_time": "2022-01-30T09:15:11.686Z"
   },
   {
    "duration": 47,
    "start_time": "2022-01-30T09:15:11.739Z"
   },
   {
    "duration": 36,
    "start_time": "2022-01-30T09:15:11.789Z"
   },
   {
    "duration": 9,
    "start_time": "2022-01-30T09:15:11.827Z"
   },
   {
    "duration": 7,
    "start_time": "2022-01-30T09:15:11.838Z"
   },
   {
    "duration": 11,
    "start_time": "2022-01-30T09:15:11.847Z"
   },
   {
    "duration": 8,
    "start_time": "2022-01-30T09:15:11.861Z"
   },
   {
    "duration": 6,
    "start_time": "2022-01-30T09:15:11.872Z"
   },
   {
    "duration": 46,
    "start_time": "2022-01-30T09:15:11.881Z"
   },
   {
    "duration": 24,
    "start_time": "2022-01-30T09:15:11.930Z"
   },
   {
    "duration": 75,
    "start_time": "2022-01-30T09:15:11.956Z"
   },
   {
    "duration": 12,
    "start_time": "2022-01-30T09:15:12.033Z"
   },
   {
    "duration": 30,
    "start_time": "2022-01-30T09:15:12.047Z"
   },
   {
    "duration": 44,
    "start_time": "2022-01-30T09:15:12.079Z"
   },
   {
    "duration": 19,
    "start_time": "2022-01-30T09:15:12.126Z"
   },
   {
    "duration": 13,
    "start_time": "2022-01-30T09:15:12.147Z"
   },
   {
    "duration": 389,
    "start_time": "2022-01-30T09:25:24.071Z"
   },
   {
    "duration": 288,
    "start_time": "2022-01-30T09:26:18.212Z"
   },
   {
    "duration": 13,
    "start_time": "2022-01-30T10:11:46.138Z"
   },
   {
    "duration": 439,
    "start_time": "2022-01-30T10:11:48.693Z"
   },
   {
    "duration": 25,
    "start_time": "2022-01-30T10:12:02.871Z"
   },
   {
    "duration": 37,
    "start_time": "2022-01-30T10:12:48.620Z"
   },
   {
    "duration": 105,
    "start_time": "2022-01-30T10:20:21.365Z"
   },
   {
    "duration": 103,
    "start_time": "2022-01-30T10:22:39.345Z"
   },
   {
    "duration": 9109,
    "start_time": "2022-01-30T10:22:47.096Z"
   },
   {
    "duration": -2306,
    "start_time": "2022-01-30T10:22:58.514Z"
   },
   {
    "duration": 16105,
    "start_time": "2022-01-30T10:24:16.151Z"
   },
   {
    "duration": 805,
    "start_time": "2022-01-30T10:27:08.181Z"
   },
   {
    "duration": 37,
    "start_time": "2022-01-30T10:27:12.170Z"
   },
   {
    "duration": 1299,
    "start_time": "2022-01-30T10:51:21.770Z"
   },
   {
    "duration": 35,
    "start_time": "2022-01-30T10:51:23.072Z"
   },
   {
    "duration": 250,
    "start_time": "2022-01-30T10:51:23.109Z"
   },
   {
    "duration": 173,
    "start_time": "2022-01-30T10:51:23.362Z"
   },
   {
    "duration": 109,
    "start_time": "2022-01-30T10:51:23.539Z"
   },
   {
    "duration": 16,
    "start_time": "2022-01-30T10:51:23.650Z"
   },
   {
    "duration": 29,
    "start_time": "2022-01-30T10:51:23.668Z"
   },
   {
    "duration": 27,
    "start_time": "2022-01-30T10:51:23.701Z"
   },
   {
    "duration": 14,
    "start_time": "2022-01-30T10:51:23.733Z"
   },
   {
    "duration": 23,
    "start_time": "2022-01-30T10:51:23.750Z"
   },
   {
    "duration": 10,
    "start_time": "2022-01-30T10:51:23.776Z"
   },
   {
    "duration": 25,
    "start_time": "2022-01-30T10:51:23.825Z"
   },
   {
    "duration": 11,
    "start_time": "2022-01-30T10:51:23.853Z"
   },
   {
    "duration": 8,
    "start_time": "2022-01-30T10:51:23.867Z"
   },
   {
    "duration": 56,
    "start_time": "2022-01-30T10:51:23.877Z"
   },
   {
    "duration": 16,
    "start_time": "2022-01-30T10:51:23.935Z"
   },
   {
    "duration": 7,
    "start_time": "2022-01-30T10:51:23.953Z"
   },
   {
    "duration": 121,
    "start_time": "2022-01-30T10:51:23.963Z"
   },
   {
    "duration": 126,
    "start_time": "2022-01-30T10:51:24.087Z"
   },
   {
    "duration": 11,
    "start_time": "2022-01-30T10:51:24.216Z"
   },
   {
    "duration": 49,
    "start_time": "2022-01-30T10:51:24.229Z"
   },
   {
    "duration": 96,
    "start_time": "2022-01-30T10:51:24.280Z"
   },
   {
    "duration": 12,
    "start_time": "2022-01-30T10:51:24.383Z"
   },
   {
    "duration": 101,
    "start_time": "2022-01-30T10:51:24.397Z"
   },
   {
    "duration": 9,
    "start_time": "2022-01-30T10:51:24.501Z"
   },
   {
    "duration": 29,
    "start_time": "2022-01-30T10:51:24.523Z"
   },
   {
    "duration": 45,
    "start_time": "2022-01-30T10:51:24.554Z"
   },
   {
    "duration": 31,
    "start_time": "2022-01-30T10:51:24.601Z"
   },
   {
    "duration": 11,
    "start_time": "2022-01-30T10:51:24.635Z"
   },
   {
    "duration": 34,
    "start_time": "2022-01-30T10:51:24.648Z"
   },
   {
    "duration": 64,
    "start_time": "2022-01-30T10:51:24.685Z"
   },
   {
    "duration": 15,
    "start_time": "2022-01-30T10:51:24.751Z"
   },
   {
    "duration": 12,
    "start_time": "2022-01-30T10:51:24.768Z"
   },
   {
    "duration": 10,
    "start_time": "2022-01-30T10:51:24.782Z"
   },
   {
    "duration": 36,
    "start_time": "2022-01-30T10:51:24.794Z"
   },
   {
    "duration": 16,
    "start_time": "2022-01-30T10:51:24.833Z"
   },
   {
    "duration": 5,
    "start_time": "2022-01-30T10:51:24.851Z"
   },
   {
    "duration": 6,
    "start_time": "2022-01-30T10:51:24.859Z"
   },
   {
    "duration": 23,
    "start_time": "2022-01-30T10:51:24.867Z"
   },
   {
    "duration": 83,
    "start_time": "2022-01-30T10:51:24.892Z"
   },
   {
    "duration": 10,
    "start_time": "2022-01-30T10:51:24.977Z"
   },
   {
    "duration": 56,
    "start_time": "2022-01-30T10:51:24.989Z"
   },
   {
    "duration": 10,
    "start_time": "2022-01-30T10:51:25.048Z"
   },
   {
    "duration": 17,
    "start_time": "2022-01-30T10:51:25.061Z"
   },
   {
    "duration": 9,
    "start_time": "2022-01-30T10:51:25.081Z"
   },
   {
    "duration": 15,
    "start_time": "2022-01-30T10:51:25.123Z"
   },
   {
    "duration": 458,
    "start_time": "2022-01-30T10:51:25.140Z"
   },
   {
    "duration": 1259,
    "start_time": "2022-01-30T10:57:11.209Z"
   },
   {
    "duration": 25,
    "start_time": "2022-01-30T10:57:12.470Z"
   },
   {
    "duration": 193,
    "start_time": "2022-01-30T10:57:12.500Z"
   },
   {
    "duration": 166,
    "start_time": "2022-01-30T10:57:12.696Z"
   },
   {
    "duration": 117,
    "start_time": "2022-01-30T10:57:12.864Z"
   },
   {
    "duration": 16,
    "start_time": "2022-01-30T10:57:12.984Z"
   },
   {
    "duration": 22,
    "start_time": "2022-01-30T10:57:13.004Z"
   },
   {
    "duration": 33,
    "start_time": "2022-01-30T10:57:13.029Z"
   },
   {
    "duration": 12,
    "start_time": "2022-01-30T10:57:13.065Z"
   },
   {
    "duration": 46,
    "start_time": "2022-01-30T10:57:13.079Z"
   },
   {
    "duration": 10,
    "start_time": "2022-01-30T10:57:13.127Z"
   },
   {
    "duration": 28,
    "start_time": "2022-01-30T10:57:13.140Z"
   },
   {
    "duration": 26,
    "start_time": "2022-01-30T10:57:13.170Z"
   },
   {
    "duration": 25,
    "start_time": "2022-01-30T10:57:13.199Z"
   },
   {
    "duration": 29,
    "start_time": "2022-01-30T10:57:13.226Z"
   },
   {
    "duration": 18,
    "start_time": "2022-01-30T10:57:13.258Z"
   },
   {
    "duration": 13,
    "start_time": "2022-01-30T10:57:13.278Z"
   },
   {
    "duration": 103,
    "start_time": "2022-01-30T10:57:13.294Z"
   },
   {
    "duration": 118,
    "start_time": "2022-01-30T10:57:13.399Z"
   },
   {
    "duration": 7,
    "start_time": "2022-01-30T10:57:13.523Z"
   },
   {
    "duration": 45,
    "start_time": "2022-01-30T10:57:13.533Z"
   },
   {
    "duration": 93,
    "start_time": "2022-01-30T10:57:13.584Z"
   },
   {
    "duration": 12,
    "start_time": "2022-01-30T10:57:13.681Z"
   },
   {
    "duration": 107,
    "start_time": "2022-01-30T10:57:13.696Z"
   },
   {
    "duration": 23,
    "start_time": "2022-01-30T10:57:13.806Z"
   },
   {
    "duration": 43,
    "start_time": "2022-01-30T10:57:13.832Z"
   },
   {
    "duration": 49,
    "start_time": "2022-01-30T10:57:13.878Z"
   },
   {
    "duration": 11,
    "start_time": "2022-01-30T10:57:13.929Z"
   },
   {
    "duration": 18,
    "start_time": "2022-01-30T10:57:13.942Z"
   },
   {
    "duration": 34,
    "start_time": "2022-01-30T10:57:13.962Z"
   },
   {
    "duration": 52,
    "start_time": "2022-01-30T10:57:13.998Z"
   },
   {
    "duration": 14,
    "start_time": "2022-01-30T10:57:14.052Z"
   },
   {
    "duration": 25,
    "start_time": "2022-01-30T10:57:14.068Z"
   },
   {
    "duration": 25,
    "start_time": "2022-01-30T10:57:14.095Z"
   },
   {
    "duration": 22,
    "start_time": "2022-01-30T10:57:14.123Z"
   },
   {
    "duration": 17,
    "start_time": "2022-01-30T10:57:14.148Z"
   },
   {
    "duration": 8,
    "start_time": "2022-01-30T10:57:14.167Z"
   },
   {
    "duration": 12,
    "start_time": "2022-01-30T10:57:14.177Z"
   },
   {
    "duration": 26,
    "start_time": "2022-01-30T10:57:14.191Z"
   },
   {
    "duration": 58,
    "start_time": "2022-01-30T10:57:14.220Z"
   },
   {
    "duration": 10,
    "start_time": "2022-01-30T10:57:14.280Z"
   },
   {
    "duration": 34,
    "start_time": "2022-01-30T10:57:14.293Z"
   },
   {
    "duration": 10,
    "start_time": "2022-01-30T10:57:14.329Z"
   },
   {
    "duration": 11,
    "start_time": "2022-01-30T10:57:14.341Z"
   },
   {
    "duration": 469,
    "start_time": "2022-01-30T10:57:14.354Z"
   },
   {
    "duration": 13,
    "start_time": "2022-01-30T11:42:10.082Z"
   },
   {
    "duration": 11,
    "start_time": "2022-01-30T11:42:42.834Z"
   },
   {
    "duration": 19,
    "start_time": "2022-01-30T11:50:23.529Z"
   },
   {
    "duration": 428,
    "start_time": "2022-01-30T11:55:25.609Z"
   },
   {
    "duration": 749,
    "start_time": "2022-01-30T11:55:58.618Z"
   },
   {
    "duration": 515,
    "start_time": "2022-01-30T11:56:06.885Z"
   },
   {
    "duration": 446,
    "start_time": "2022-01-30T11:56:47.460Z"
   },
   {
    "duration": 502,
    "start_time": "2022-01-30T11:56:57.409Z"
   },
   {
    "duration": 485,
    "start_time": "2022-01-30T11:57:13.517Z"
   },
   {
    "duration": 563,
    "start_time": "2022-01-30T11:58:40.208Z"
   },
   {
    "duration": 564,
    "start_time": "2022-01-30T11:58:57.573Z"
   },
   {
    "duration": 817,
    "start_time": "2022-01-30T12:01:10.995Z"
   },
   {
    "duration": 585,
    "start_time": "2022-01-30T12:02:22.120Z"
   },
   {
    "duration": 582,
    "start_time": "2022-01-30T12:04:04.809Z"
   },
   {
    "duration": 544,
    "start_time": "2022-01-30T12:05:28.675Z"
   },
   {
    "duration": 522,
    "start_time": "2022-01-30T12:05:33.723Z"
   },
   {
    "duration": 575,
    "start_time": "2022-01-30T12:08:32.152Z"
   },
   {
    "duration": 4,
    "start_time": "2022-01-30T12:11:10.171Z"
   },
   {
    "duration": 7,
    "start_time": "2022-01-30T12:11:24.403Z"
   },
   {
    "duration": 1178,
    "start_time": "2022-01-30T12:19:03.295Z"
   },
   {
    "duration": 1101,
    "start_time": "2022-01-30T12:19:58.740Z"
   },
   {
    "duration": 1350,
    "start_time": "2022-01-30T12:21:52.947Z"
   },
   {
    "duration": 1126,
    "start_time": "2022-01-30T12:23:43.897Z"
   },
   {
    "duration": 1126,
    "start_time": "2022-01-30T12:25:03.921Z"
   },
   {
    "duration": 1089,
    "start_time": "2022-01-30T12:26:19.426Z"
   },
   {
    "duration": 1098,
    "start_time": "2022-01-30T12:27:07.858Z"
   },
   {
    "duration": 11,
    "start_time": "2022-01-30T12:51:35.525Z"
   },
   {
    "duration": 1174,
    "start_time": "2022-01-30T12:51:37.280Z"
   },
   {
    "duration": 367,
    "start_time": "2022-01-30T12:51:40.077Z"
   },
   {
    "duration": 144,
    "start_time": "2022-01-30T12:51:54.454Z"
   },
   {
    "duration": 52,
    "start_time": "2022-01-30T12:52:07.926Z"
   },
   {
    "duration": 30,
    "start_time": "2022-01-30T12:52:54.440Z"
   },
   {
    "duration": 7,
    "start_time": "2022-01-30T12:53:46.694Z"
   },
   {
    "duration": 92,
    "start_time": "2022-01-30T13:00:07.507Z"
   },
   {
    "duration": 364,
    "start_time": "2022-01-30T13:01:55.087Z"
   },
   {
    "duration": 7,
    "start_time": "2022-01-30T13:02:54.919Z"
   },
   {
    "duration": 7,
    "start_time": "2022-01-30T13:03:10.276Z"
   },
   {
    "duration": 122,
    "start_time": "2022-01-30T13:05:13.462Z"
   },
   {
    "duration": 6,
    "start_time": "2022-01-30T13:05:21.557Z"
   },
   {
    "duration": 6,
    "start_time": "2022-01-30T13:05:24.135Z"
   },
   {
    "duration": 6,
    "start_time": "2022-01-30T13:08:20.615Z"
   },
   {
    "duration": 82,
    "start_time": "2022-01-30T13:09:49.574Z"
   },
   {
    "duration": 7,
    "start_time": "2022-01-30T13:23:05.460Z"
   },
   {
    "duration": 7,
    "start_time": "2022-01-30T13:23:42.830Z"
   },
   {
    "duration": 11,
    "start_time": "2022-01-30T13:31:44.579Z"
   },
   {
    "duration": 1401,
    "start_time": "2022-01-30T13:32:05.622Z"
   },
   {
    "duration": 9,
    "start_time": "2022-01-30T13:33:59.576Z"
   },
   {
    "duration": 11,
    "start_time": "2022-01-30T13:34:16.542Z"
   },
   {
    "duration": 283,
    "start_time": "2022-01-30T13:35:37.129Z"
   },
   {
    "duration": 8,
    "start_time": "2022-01-30T13:36:04.852Z"
   },
   {
    "duration": 6,
    "start_time": "2022-01-30T13:36:19.500Z"
   },
   {
    "duration": 11,
    "start_time": "2022-01-30T13:45:30.973Z"
   },
   {
    "duration": 372,
    "start_time": "2022-01-30T13:53:06.282Z"
   },
   {
    "duration": 326,
    "start_time": "2022-01-30T13:54:44.084Z"
   },
   {
    "duration": 1252,
    "start_time": "2022-01-30T13:55:37.984Z"
   },
   {
    "duration": 1288,
    "start_time": "2022-01-30T13:57:56.631Z"
   },
   {
    "duration": 1257,
    "start_time": "2022-01-30T13:59:07.628Z"
   },
   {
    "duration": 1581,
    "start_time": "2022-01-30T14:00:02.623Z"
   },
   {
    "duration": 1372,
    "start_time": "2022-01-30T14:13:47.287Z"
   },
   {
    "duration": 1425,
    "start_time": "2022-01-30T14:14:14.231Z"
   },
   {
    "duration": 1592,
    "start_time": "2022-01-30T14:15:53.336Z"
   },
   {
    "duration": 1598,
    "start_time": "2022-01-30T14:16:10.544Z"
   },
   {
    "duration": 1660,
    "start_time": "2022-01-30T14:16:22.944Z"
   },
   {
    "duration": 1515,
    "start_time": "2022-01-30T14:16:36.280Z"
   },
   {
    "duration": 14,
    "start_time": "2022-01-30T14:18:01.457Z"
   },
   {
    "duration": 11,
    "start_time": "2022-01-30T14:18:40.801Z"
   },
   {
    "duration": 11,
    "start_time": "2022-01-30T14:20:31.885Z"
   },
   {
    "duration": 309,
    "start_time": "2022-01-30T14:25:44.851Z"
   },
   {
    "duration": 406,
    "start_time": "2022-01-30T14:25:51.904Z"
   },
   {
    "duration": 316,
    "start_time": "2022-01-30T14:27:49.909Z"
   },
   {
    "duration": 499,
    "start_time": "2022-01-30T14:28:50.344Z"
   },
   {
    "duration": 31,
    "start_time": "2022-01-30T14:29:00.510Z"
   },
   {
    "duration": 35,
    "start_time": "2022-01-30T14:30:00.353Z"
   },
   {
    "duration": 29,
    "start_time": "2022-01-30T14:30:30.536Z"
   },
   {
    "duration": 32,
    "start_time": "2022-01-30T14:31:17.641Z"
   },
   {
    "duration": 30,
    "start_time": "2022-01-30T14:34:38.691Z"
   },
   {
    "duration": 38,
    "start_time": "2022-01-30T14:34:55.505Z"
   },
   {
    "duration": 1231,
    "start_time": "2022-01-30T14:44:04.196Z"
   },
   {
    "duration": 1093,
    "start_time": "2022-01-30T14:44:19.202Z"
   },
   {
    "duration": 50,
    "start_time": "2022-01-30T14:46:46.448Z"
   },
   {
    "duration": 1248,
    "start_time": "2022-01-30T15:09:55.277Z"
   },
   {
    "duration": 15,
    "start_time": "2022-01-30T15:10:29.668Z"
   },
   {
    "duration": 3693,
    "start_time": "2022-01-30T15:12:28.818Z"
   },
   {
    "duration": 3859,
    "start_time": "2022-01-30T15:14:00.604Z"
   },
   {
    "duration": 19,
    "start_time": "2022-01-30T16:01:45.084Z"
   },
   {
    "duration": 18,
    "start_time": "2022-01-30T16:02:27.220Z"
   },
   {
    "duration": 325,
    "start_time": "2022-01-30T16:02:48.128Z"
   },
   {
    "duration": 1053,
    "start_time": "2022-01-30T16:02:54.814Z"
   },
   {
    "duration": 20,
    "start_time": "2022-01-30T16:03:29.475Z"
   },
   {
    "duration": 21,
    "start_time": "2022-01-30T16:06:04.651Z"
   },
   {
    "duration": 21,
    "start_time": "2022-01-30T16:06:32.316Z"
   },
   {
    "duration": 280,
    "start_time": "2022-01-30T16:07:06.040Z"
   },
   {
    "duration": 21,
    "start_time": "2022-01-30T16:07:31.078Z"
   },
   {
    "duration": 1186,
    "start_time": "2022-01-30T16:18:15.602Z"
   },
   {
    "duration": 1222,
    "start_time": "2022-01-30T16:19:39.461Z"
   },
   {
    "duration": 21,
    "start_time": "2022-01-30T16:20:27.146Z"
   },
   {
    "duration": 6,
    "start_time": "2022-01-30T16:22:40.485Z"
   },
   {
    "duration": 13,
    "start_time": "2022-01-30T16:22:43.166Z"
   },
   {
    "duration": 18,
    "start_time": "2022-01-30T16:22:58.186Z"
   },
   {
    "duration": 6,
    "start_time": "2022-01-30T16:23:11.224Z"
   },
   {
    "duration": 21,
    "start_time": "2022-01-30T16:23:13.171Z"
   },
   {
    "duration": 22,
    "start_time": "2022-01-30T16:24:02.575Z"
   },
   {
    "duration": 5,
    "start_time": "2022-01-30T16:41:38.183Z"
   },
   {
    "duration": 20,
    "start_time": "2022-01-30T16:41:41.090Z"
   },
   {
    "duration": 6,
    "start_time": "2022-01-30T16:42:07.749Z"
   },
   {
    "duration": 19,
    "start_time": "2022-01-30T16:42:11.446Z"
   },
   {
    "duration": 7,
    "start_time": "2022-01-30T17:03:33.232Z"
   },
   {
    "duration": 20,
    "start_time": "2022-01-30T17:03:36.819Z"
   },
   {
    "duration": 19,
    "start_time": "2022-01-30T17:04:55.387Z"
   },
   {
    "duration": 18,
    "start_time": "2022-01-30T17:11:01.396Z"
   },
   {
    "duration": 1372,
    "start_time": "2022-01-30T17:40:37.274Z"
   },
   {
    "duration": 1347,
    "start_time": "2022-01-30T17:40:59.442Z"
   },
   {
    "duration": 1269,
    "start_time": "2022-01-30T17:41:17.820Z"
   },
   {
    "duration": 11,
    "start_time": "2022-01-30T17:42:55.211Z"
   },
   {
    "duration": 9,
    "start_time": "2022-01-30T18:59:42.929Z"
   },
   {
    "duration": 6,
    "start_time": "2022-01-30T19:09:07.775Z"
   },
   {
    "duration": 6,
    "start_time": "2022-01-30T19:09:09.911Z"
   },
   {
    "duration": 8,
    "start_time": "2022-01-30T19:15:54.591Z"
   },
   {
    "duration": 8,
    "start_time": "2022-01-30T19:16:08.463Z"
   },
   {
    "duration": 12,
    "start_time": "2022-01-30T19:20:39.718Z"
   },
   {
    "duration": 15,
    "start_time": "2022-01-30T19:20:51.737Z"
   },
   {
    "duration": 6,
    "start_time": "2022-01-30T19:21:39.840Z"
   },
   {
    "duration": 7,
    "start_time": "2022-01-30T19:21:47.581Z"
   },
   {
    "duration": 7,
    "start_time": "2022-01-30T19:24:20.769Z"
   },
   {
    "duration": 7,
    "start_time": "2022-01-30T19:24:27.698Z"
   },
   {
    "duration": 39,
    "start_time": "2022-01-30T19:31:09.735Z"
   },
   {
    "duration": 26,
    "start_time": "2022-01-30T19:32:20.514Z"
   },
   {
    "duration": 302,
    "start_time": "2022-01-30T19:34:14.384Z"
   },
   {
    "duration": 21,
    "start_time": "2022-01-30T19:34:47.673Z"
   },
   {
    "duration": 345,
    "start_time": "2022-01-30T19:39:59.673Z"
   },
   {
    "duration": 361,
    "start_time": "2022-01-30T19:42:44.026Z"
   },
   {
    "duration": 458,
    "start_time": "2022-01-30T19:44:14.731Z"
   },
   {
    "duration": 17,
    "start_time": "2022-01-30T19:44:40.960Z"
   },
   {
    "duration": 20,
    "start_time": "2022-01-30T19:45:07.359Z"
   },
   {
    "duration": 18,
    "start_time": "2022-01-30T19:46:08.019Z"
   },
   {
    "duration": 19,
    "start_time": "2022-01-30T19:46:26.261Z"
   },
   {
    "duration": 6,
    "start_time": "2022-01-30T19:46:30.082Z"
   },
   {
    "duration": 1045,
    "start_time": "2022-01-30T19:48:50.432Z"
   },
   {
    "duration": 757,
    "start_time": "2022-01-30T19:50:16.936Z"
   },
   {
    "duration": 716,
    "start_time": "2022-01-30T20:19:55.457Z"
   },
   {
    "duration": 17,
    "start_time": "2022-01-30T20:31:52.988Z"
   },
   {
    "duration": 11,
    "start_time": "2022-01-30T20:34:11.802Z"
   },
   {
    "duration": 336,
    "start_time": "2022-01-30T20:35:06.330Z"
   },
   {
    "duration": 134,
    "start_time": "2022-01-30T20:35:27.169Z"
   },
   {
    "duration": 18,
    "start_time": "2022-01-30T20:35:39.781Z"
   },
   {
    "duration": 6,
    "start_time": "2022-01-30T20:35:59.719Z"
   },
   {
    "duration": 8,
    "start_time": "2022-01-30T20:36:30.464Z"
   },
   {
    "duration": 7,
    "start_time": "2022-01-30T20:43:07.294Z"
   },
   {
    "duration": 8,
    "start_time": "2022-01-30T20:43:16.203Z"
   },
   {
    "duration": 12,
    "start_time": "2022-01-30T21:08:31.937Z"
   },
   {
    "duration": 9,
    "start_time": "2022-01-30T21:11:54.700Z"
   },
   {
    "duration": 9,
    "start_time": "2022-01-30T21:12:22.419Z"
   },
   {
    "duration": 10,
    "start_time": "2022-01-30T21:13:03.307Z"
   },
   {
    "duration": 8,
    "start_time": "2022-01-30T21:17:53.186Z"
   },
   {
    "duration": 12,
    "start_time": "2022-01-30T21:17:58.407Z"
   },
   {
    "duration": 12,
    "start_time": "2022-01-30T21:18:09.895Z"
   },
   {
    "duration": 32,
    "start_time": "2022-01-30T21:21:04.203Z"
   },
   {
    "duration": 414,
    "start_time": "2022-01-30T21:39:04.433Z"
   },
   {
    "duration": 14,
    "start_time": "2022-01-30T21:39:37.772Z"
   },
   {
    "duration": 47,
    "start_time": "2022-01-30T21:39:54.566Z"
   },
   {
    "duration": 13,
    "start_time": "2022-01-30T21:40:05.637Z"
   },
   {
    "duration": 18,
    "start_time": "2022-01-30T21:40:19.359Z"
   },
   {
    "duration": 10,
    "start_time": "2022-01-30T21:40:21.573Z"
   },
   {
    "duration": 13,
    "start_time": "2022-01-30T21:42:21.791Z"
   },
   {
    "duration": 9,
    "start_time": "2022-01-30T21:42:36.327Z"
   },
   {
    "duration": 17,
    "start_time": "2022-01-30T21:42:38.645Z"
   },
   {
    "duration": 9,
    "start_time": "2022-01-30T21:42:41.591Z"
   },
   {
    "duration": 10,
    "start_time": "2022-01-30T21:42:58.185Z"
   },
   {
    "duration": 428,
    "start_time": "2022-01-30T21:43:00.570Z"
   },
   {
    "duration": 16,
    "start_time": "2022-01-30T21:43:02.734Z"
   },
   {
    "duration": 95,
    "start_time": "2022-01-30T22:05:27.504Z"
   },
   {
    "duration": 1301,
    "start_time": "2022-01-30T22:16:12.168Z"
   },
   {
    "duration": 47,
    "start_time": "2022-01-30T22:16:13.472Z"
   },
   {
    "duration": 202,
    "start_time": "2022-01-30T22:16:13.525Z"
   },
   {
    "duration": 166,
    "start_time": "2022-01-30T22:16:13.729Z"
   },
   {
    "duration": 109,
    "start_time": "2022-01-30T22:16:13.898Z"
   },
   {
    "duration": 15,
    "start_time": "2022-01-30T22:16:14.010Z"
   },
   {
    "duration": 17,
    "start_time": "2022-01-30T22:16:14.028Z"
   },
   {
    "duration": 26,
    "start_time": "2022-01-30T22:16:14.049Z"
   },
   {
    "duration": 12,
    "start_time": "2022-01-30T22:16:14.078Z"
   },
   {
    "duration": 53,
    "start_time": "2022-01-30T22:16:14.091Z"
   },
   {
    "duration": 11,
    "start_time": "2022-01-30T22:16:14.146Z"
   },
   {
    "duration": 21,
    "start_time": "2022-01-30T22:16:14.159Z"
   },
   {
    "duration": 43,
    "start_time": "2022-01-30T22:16:14.182Z"
   },
   {
    "duration": 9,
    "start_time": "2022-01-30T22:16:14.228Z"
   },
   {
    "duration": 17,
    "start_time": "2022-01-30T22:16:14.240Z"
   },
   {
    "duration": 8,
    "start_time": "2022-01-30T22:16:14.260Z"
   },
   {
    "duration": 4,
    "start_time": "2022-01-30T22:16:14.271Z"
   },
   {
    "duration": 138,
    "start_time": "2022-01-30T22:16:14.278Z"
   },
   {
    "duration": 10,
    "start_time": "2022-01-30T22:16:14.424Z"
   },
   {
    "duration": 128,
    "start_time": "2022-01-30T22:16:14.437Z"
   },
   {
    "duration": 5,
    "start_time": "2022-01-30T22:16:14.567Z"
   },
   {
    "duration": 48,
    "start_time": "2022-01-30T22:16:14.575Z"
   },
   {
    "duration": 85,
    "start_time": "2022-01-30T22:16:14.625Z"
   },
   {
    "duration": 20,
    "start_time": "2022-01-30T22:16:14.712Z"
   },
   {
    "duration": 103,
    "start_time": "2022-01-30T22:16:14.734Z"
   },
   {
    "duration": 9,
    "start_time": "2022-01-30T22:16:14.843Z"
   },
   {
    "duration": 24,
    "start_time": "2022-01-30T22:16:14.856Z"
   },
   {
    "duration": 72,
    "start_time": "2022-01-30T22:16:14.882Z"
   },
   {
    "duration": 10,
    "start_time": "2022-01-30T22:16:14.956Z"
   },
   {
    "duration": 10,
    "start_time": "2022-01-30T22:16:14.969Z"
   },
   {
    "duration": 10,
    "start_time": "2022-01-30T22:16:14.982Z"
   },
   {
    "duration": 50,
    "start_time": "2022-01-30T22:16:14.994Z"
   },
   {
    "duration": 50,
    "start_time": "2022-01-30T22:16:15.046Z"
   },
   {
    "duration": 36,
    "start_time": "2022-01-30T22:16:15.098Z"
   },
   {
    "duration": 11,
    "start_time": "2022-01-30T22:16:15.136Z"
   },
   {
    "duration": 7,
    "start_time": "2022-01-30T22:16:15.150Z"
   },
   {
    "duration": 7,
    "start_time": "2022-01-30T22:16:15.159Z"
   },
   {
    "duration": 7,
    "start_time": "2022-01-30T22:16:15.168Z"
   },
   {
    "duration": 49,
    "start_time": "2022-01-30T22:16:15.177Z"
   },
   {
    "duration": 16,
    "start_time": "2022-01-30T22:16:15.229Z"
   },
   {
    "duration": 46,
    "start_time": "2022-01-30T22:16:15.247Z"
   },
   {
    "duration": 11,
    "start_time": "2022-01-30T22:16:15.323Z"
   },
   {
    "duration": 20,
    "start_time": "2022-01-30T22:16:15.336Z"
   },
   {
    "duration": 9,
    "start_time": "2022-01-30T22:16:15.358Z"
   },
   {
    "duration": 11,
    "start_time": "2022-01-30T22:16:15.369Z"
   },
   {
    "duration": 446,
    "start_time": "2022-01-30T22:16:15.383Z"
   },
   {
    "duration": 16,
    "start_time": "2022-01-30T22:16:15.832Z"
   },
   {
    "duration": 12,
    "start_time": "2022-01-30T22:16:15.850Z"
   },
   {
    "duration": 1125,
    "start_time": "2022-01-30T22:16:15.864Z"
   },
   {
    "duration": 5,
    "start_time": "2022-01-30T22:16:16.992Z"
   },
   {
    "duration": 37,
    "start_time": "2022-01-30T22:16:16.999Z"
   },
   {
    "duration": 1116,
    "start_time": "2022-01-30T22:16:17.038Z"
   },
   {
    "duration": 19,
    "start_time": "2022-01-30T22:16:18.157Z"
   },
   {
    "duration": 1140,
    "start_time": "2022-01-30T22:16:18.178Z"
   },
   {
    "duration": 18,
    "start_time": "2022-01-30T22:16:19.323Z"
   },
   {
    "duration": 23,
    "start_time": "2022-01-30T22:16:19.344Z"
   },
   {
    "duration": 7,
    "start_time": "2022-01-30T22:16:19.369Z"
   },
   {
    "duration": 48,
    "start_time": "2022-01-30T22:16:19.378Z"
   },
   {
    "duration": 10,
    "start_time": "2022-01-30T22:16:19.429Z"
   },
   {
    "duration": 13,
    "start_time": "2022-01-30T22:16:19.441Z"
   },
   {
    "duration": 7,
    "start_time": "2022-01-30T22:16:19.456Z"
   },
   {
    "duration": 1189,
    "start_time": "2022-01-30T22:17:44.840Z"
   },
   {
    "duration": 407,
    "start_time": "2022-01-30T22:27:27.420Z"
   },
   {
    "duration": 296,
    "start_time": "2022-01-30T22:27:36.456Z"
   },
   {
    "duration": 432,
    "start_time": "2022-01-30T22:27:47.921Z"
   },
   {
    "duration": 12,
    "start_time": "2022-01-30T22:28:36.120Z"
   },
   {
    "duration": 18,
    "start_time": "2022-01-30T22:28:51.240Z"
   },
   {
    "duration": 1183,
    "start_time": "2022-01-30T23:03:40.682Z"
   },
   {
    "duration": 1058,
    "start_time": "2022-01-30T23:04:55.279Z"
   },
   {
    "duration": 1079,
    "start_time": "2022-01-30T23:05:04.728Z"
   },
   {
    "duration": 1144,
    "start_time": "2022-01-30T23:05:48.922Z"
   },
   {
    "duration": 1085,
    "start_time": "2022-01-30T23:06:58.192Z"
   },
   {
    "duration": 1087,
    "start_time": "2022-01-30T23:07:23.401Z"
   },
   {
    "duration": 86,
    "start_time": "2022-01-31T08:25:52.423Z"
   },
   {
    "duration": 1346,
    "start_time": "2022-01-31T08:26:04.889Z"
   },
   {
    "duration": 198,
    "start_time": "2022-01-31T08:26:06.238Z"
   },
   {
    "duration": 157,
    "start_time": "2022-01-31T08:26:06.439Z"
   },
   {
    "duration": 111,
    "start_time": "2022-01-31T08:26:06.598Z"
   },
   {
    "duration": 25,
    "start_time": "2022-01-31T08:26:06.711Z"
   },
   {
    "duration": 19,
    "start_time": "2022-01-31T08:26:06.739Z"
   },
   {
    "duration": 19,
    "start_time": "2022-01-31T08:26:06.760Z"
   },
   {
    "duration": 26,
    "start_time": "2022-01-31T08:26:06.781Z"
   },
   {
    "duration": 32,
    "start_time": "2022-01-31T08:26:06.811Z"
   },
   {
    "duration": 24,
    "start_time": "2022-01-31T08:26:06.846Z"
   },
   {
    "duration": 12,
    "start_time": "2022-01-31T08:26:06.872Z"
   },
   {
    "duration": 53,
    "start_time": "2022-01-31T08:26:06.886Z"
   },
   {
    "duration": 16,
    "start_time": "2022-01-31T08:26:06.941Z"
   },
   {
    "duration": 12,
    "start_time": "2022-01-31T08:26:06.959Z"
   },
   {
    "duration": 14,
    "start_time": "2022-01-31T08:26:06.973Z"
   },
   {
    "duration": 44,
    "start_time": "2022-01-31T08:26:06.990Z"
   },
   {
    "duration": 6,
    "start_time": "2022-01-31T08:26:07.037Z"
   },
   {
    "duration": 111,
    "start_time": "2022-01-31T08:26:07.045Z"
   },
   {
    "duration": 12,
    "start_time": "2022-01-31T08:26:07.158Z"
   },
   {
    "duration": 130,
    "start_time": "2022-01-31T08:26:07.173Z"
   },
   {
    "duration": 5,
    "start_time": "2022-01-31T08:26:07.306Z"
   },
   {
    "duration": 43,
    "start_time": "2022-01-31T08:26:07.313Z"
   },
   {
    "duration": 98,
    "start_time": "2022-01-31T08:26:07.358Z"
   },
   {
    "duration": 13,
    "start_time": "2022-01-31T08:26:07.458Z"
   },
   {
    "duration": 114,
    "start_time": "2022-01-31T08:26:07.474Z"
   },
   {
    "duration": 10,
    "start_time": "2022-01-31T08:26:07.591Z"
   },
   {
    "duration": 43,
    "start_time": "2022-01-31T08:26:07.608Z"
   },
   {
    "duration": 45,
    "start_time": "2022-01-31T08:26:07.654Z"
   },
   {
    "duration": 9,
    "start_time": "2022-01-31T08:26:07.701Z"
   },
   {
    "duration": 27,
    "start_time": "2022-01-31T08:26:07.712Z"
   },
   {
    "duration": 18,
    "start_time": "2022-01-31T08:26:07.742Z"
   },
   {
    "duration": 27,
    "start_time": "2022-01-31T08:26:07.762Z"
   },
   {
    "duration": 61,
    "start_time": "2022-01-31T08:26:07.791Z"
   },
   {
    "duration": 14,
    "start_time": "2022-01-31T08:26:07.855Z"
   },
   {
    "duration": 12,
    "start_time": "2022-01-31T08:26:07.871Z"
   },
   {
    "duration": 7,
    "start_time": "2022-01-31T08:26:07.885Z"
   },
   {
    "duration": 39,
    "start_time": "2022-01-31T08:26:07.894Z"
   },
   {
    "duration": 5,
    "start_time": "2022-01-31T08:26:07.936Z"
   },
   {
    "duration": 15,
    "start_time": "2022-01-31T08:26:07.943Z"
   },
   {
    "duration": 45,
    "start_time": "2022-01-31T08:26:07.960Z"
   },
   {
    "duration": 10,
    "start_time": "2022-01-31T08:26:08.033Z"
   },
   {
    "duration": 20,
    "start_time": "2022-01-31T08:26:08.045Z"
   },
   {
    "duration": 12,
    "start_time": "2022-01-31T08:26:08.067Z"
   },
   {
    "duration": 52,
    "start_time": "2022-01-31T08:26:08.081Z"
   },
   {
    "duration": 418,
    "start_time": "2022-01-31T08:26:08.135Z"
   },
   {
    "duration": 14,
    "start_time": "2022-01-31T08:26:08.555Z"
   },
   {
    "duration": 13,
    "start_time": "2022-01-31T08:26:08.571Z"
   },
   {
    "duration": 1105,
    "start_time": "2022-01-31T08:26:08.586Z"
   },
   {
    "duration": 5,
    "start_time": "2022-01-31T08:26:09.693Z"
   },
   {
    "duration": 39,
    "start_time": "2022-01-31T08:26:09.701Z"
   },
   {
    "duration": 1105,
    "start_time": "2022-01-31T08:26:09.742Z"
   },
   {
    "duration": 18,
    "start_time": "2022-01-31T08:26:10.850Z"
   },
   {
    "duration": 1140,
    "start_time": "2022-01-31T08:26:10.871Z"
   },
   {
    "duration": 1219,
    "start_time": "2022-01-31T08:26:12.013Z"
   },
   {
    "duration": 21,
    "start_time": "2022-01-31T08:26:13.235Z"
   },
   {
    "duration": 98,
    "start_time": "2022-01-31T08:26:13.259Z"
   },
   {
    "duration": -823,
    "start_time": "2022-01-31T08:26:14.183Z"
   },
   {
    "duration": -825,
    "start_time": "2022-01-31T08:26:14.188Z"
   },
   {
    "duration": -827,
    "start_time": "2022-01-31T08:26:14.192Z"
   },
   {
    "duration": -830,
    "start_time": "2022-01-31T08:26:14.197Z"
   },
   {
    "duration": -833,
    "start_time": "2022-01-31T08:26:14.202Z"
   },
   {
    "duration": -836,
    "start_time": "2022-01-31T08:26:14.207Z"
   },
   {
    "duration": 20,
    "start_time": "2022-01-31T08:26:46.848Z"
   },
   {
    "duration": 1184,
    "start_time": "2022-01-31T08:28:17.065Z"
   },
   {
    "duration": 952,
    "start_time": "2022-01-31T08:28:48.086Z"
   },
   {
    "duration": 11,
    "start_time": "2022-01-31T08:29:13.102Z"
   },
   {
    "duration": 18,
    "start_time": "2022-01-31T08:29:19.568Z"
   },
   {
    "duration": 20,
    "start_time": "2022-01-31T08:32:08.637Z"
   },
   {
    "duration": 233,
    "start_time": "2022-01-31T08:37:44.190Z"
   },
   {
    "duration": 25,
    "start_time": "2022-01-31T08:37:54.874Z"
   },
   {
    "duration": 9,
    "start_time": "2022-01-31T08:37:56.715Z"
   },
   {
    "duration": 10,
    "start_time": "2022-01-31T08:37:59.879Z"
   },
   {
    "duration": 20,
    "start_time": "2022-01-31T08:38:02.750Z"
   },
   {
    "duration": 18,
    "start_time": "2022-01-31T08:39:33.770Z"
   },
   {
    "duration": 19,
    "start_time": "2022-01-31T08:41:33.478Z"
   },
   {
    "duration": 20,
    "start_time": "2022-01-31T08:41:56.754Z"
   },
   {
    "duration": 22,
    "start_time": "2022-01-31T08:43:45.568Z"
   },
   {
    "duration": 38,
    "start_time": "2022-01-31T08:46:37.945Z"
   },
   {
    "duration": 10,
    "start_time": "2022-01-31T08:46:54.790Z"
   },
   {
    "duration": 7,
    "start_time": "2022-01-31T08:47:51.188Z"
   },
   {
    "duration": 11,
    "start_time": "2022-01-31T08:47:59.072Z"
   },
   {
    "duration": 5,
    "start_time": "2022-01-31T08:55:33.078Z"
   },
   {
    "duration": 23,
    "start_time": "2022-01-31T08:55:39.473Z"
   },
   {
    "duration": 6,
    "start_time": "2022-01-31T08:55:54.901Z"
   },
   {
    "duration": 249,
    "start_time": "2022-01-31T08:56:35.546Z"
   },
   {
    "duration": 24,
    "start_time": "2022-01-31T08:56:49.246Z"
   },
   {
    "duration": 21,
    "start_time": "2022-01-31T08:57:36.378Z"
   },
   {
    "duration": 23,
    "start_time": "2022-01-31T09:01:49.429Z"
   },
   {
    "duration": 16,
    "start_time": "2022-01-31T09:04:46.685Z"
   },
   {
    "duration": 19,
    "start_time": "2022-01-31T09:08:08.982Z"
   },
   {
    "duration": 14,
    "start_time": "2022-01-31T09:23:16.915Z"
   },
   {
    "duration": 15,
    "start_time": "2022-01-31T09:24:28.699Z"
   },
   {
    "duration": 15,
    "start_time": "2022-01-31T09:53:20.871Z"
   },
   {
    "duration": 16,
    "start_time": "2022-01-31T09:53:34.047Z"
   },
   {
    "duration": 15,
    "start_time": "2022-01-31T09:54:01.330Z"
   },
   {
    "duration": 8,
    "start_time": "2022-01-31T09:58:10.954Z"
   },
   {
    "duration": 276,
    "start_time": "2022-01-31T09:59:58.646Z"
   },
   {
    "duration": 267,
    "start_time": "2022-01-31T10:00:18.689Z"
   },
   {
    "duration": 255,
    "start_time": "2022-01-31T10:00:35.266Z"
   },
   {
    "duration": 270,
    "start_time": "2022-01-31T10:00:40.721Z"
   },
   {
    "duration": 11,
    "start_time": "2022-01-31T10:00:58.408Z"
   },
   {
    "duration": 9,
    "start_time": "2022-01-31T10:01:09.418Z"
   },
   {
    "duration": 28,
    "start_time": "2022-01-31T10:02:35.049Z"
   },
   {
    "duration": 27,
    "start_time": "2022-01-31T10:04:03.016Z"
   },
   {
    "duration": 25,
    "start_time": "2022-01-31T10:04:28.425Z"
   },
   {
    "duration": 1214,
    "start_time": "2022-01-31T10:05:50.591Z"
   },
   {
    "duration": 976,
    "start_time": "2022-01-31T10:06:15.207Z"
   },
   {
    "duration": 964,
    "start_time": "2022-01-31T10:07:52.248Z"
   },
   {
    "duration": 957,
    "start_time": "2022-01-31T10:08:12.821Z"
   },
   {
    "duration": 6,
    "start_time": "2022-01-31T10:10:52.120Z"
   },
   {
    "duration": 26,
    "start_time": "2022-01-31T10:10:58.855Z"
   },
   {
    "duration": 11,
    "start_time": "2022-01-31T10:13:42.146Z"
   },
   {
    "duration": 10,
    "start_time": "2022-01-31T10:14:00.145Z"
   },
   {
    "duration": 10,
    "start_time": "2022-01-31T10:14:21.921Z"
   },
   {
    "duration": 6,
    "start_time": "2022-01-31T10:18:36.259Z"
   },
   {
    "duration": 26,
    "start_time": "2022-01-31T10:18:44.509Z"
   },
   {
    "duration": 1113,
    "start_time": "2022-01-31T10:24:04.088Z"
   },
   {
    "duration": 18,
    "start_time": "2022-01-31T10:24:14.190Z"
   },
   {
    "duration": 18,
    "start_time": "2022-01-31T10:25:08.105Z"
   },
   {
    "duration": 26,
    "start_time": "2022-01-31T10:30:31.915Z"
   },
   {
    "duration": 26,
    "start_time": "2022-01-31T10:30:50.506Z"
   },
   {
    "duration": 969,
    "start_time": "2022-01-31T10:32:31.056Z"
   },
   {
    "duration": 529,
    "start_time": "2022-01-31T10:45:50.028Z"
   },
   {
    "duration": 528,
    "start_time": "2022-01-31T10:46:06.127Z"
   },
   {
    "duration": 393,
    "start_time": "2022-01-31T10:46:22.329Z"
   },
   {
    "duration": 442,
    "start_time": "2022-01-31T10:46:39.432Z"
   },
   {
    "duration": 1202,
    "start_time": "2022-01-31T10:57:14.256Z"
   },
   {
    "duration": 1160,
    "start_time": "2022-01-31T10:57:38.584Z"
   },
   {
    "duration": 1608,
    "start_time": "2022-01-31T11:01:59.800Z"
   },
   {
    "duration": 1309,
    "start_time": "2022-01-31T11:02:20.383Z"
   },
   {
    "duration": 1308,
    "start_time": "2022-01-31T11:04:59.813Z"
   },
   {
    "duration": 1140,
    "start_time": "2022-01-31T11:05:17.298Z"
   },
   {
    "duration": 29,
    "start_time": "2022-01-31T11:09:57.984Z"
   },
   {
    "duration": 29,
    "start_time": "2022-01-31T11:10:07.329Z"
   },
   {
    "duration": 29,
    "start_time": "2022-01-31T11:10:14.464Z"
   },
   {
    "duration": 260,
    "start_time": "2022-01-31T11:10:43.299Z"
   },
   {
    "duration": 29,
    "start_time": "2022-01-31T11:10:50.845Z"
   },
   {
    "duration": 1323,
    "start_time": "2022-01-31T11:29:57.178Z"
   },
   {
    "duration": 206,
    "start_time": "2022-01-31T11:29:58.504Z"
   },
   {
    "duration": 176,
    "start_time": "2022-01-31T11:29:58.714Z"
   },
   {
    "duration": 113,
    "start_time": "2022-01-31T11:29:58.892Z"
   },
   {
    "duration": 23,
    "start_time": "2022-01-31T11:29:59.008Z"
   },
   {
    "duration": 17,
    "start_time": "2022-01-31T11:29:59.034Z"
   },
   {
    "duration": 20,
    "start_time": "2022-01-31T11:29:59.053Z"
   },
   {
    "duration": 32,
    "start_time": "2022-01-31T11:29:59.077Z"
   },
   {
    "duration": 22,
    "start_time": "2022-01-31T11:29:59.112Z"
   },
   {
    "duration": 25,
    "start_time": "2022-01-31T11:29:59.137Z"
   },
   {
    "duration": 12,
    "start_time": "2022-01-31T11:29:59.165Z"
   },
   {
    "duration": 58,
    "start_time": "2022-01-31T11:29:59.180Z"
   },
   {
    "duration": 17,
    "start_time": "2022-01-31T11:29:59.241Z"
   },
   {
    "duration": 11,
    "start_time": "2022-01-31T11:29:59.260Z"
   },
   {
    "duration": 13,
    "start_time": "2022-01-31T11:29:59.273Z"
   },
   {
    "duration": 48,
    "start_time": "2022-01-31T11:29:59.289Z"
   },
   {
    "duration": 5,
    "start_time": "2022-01-31T11:29:59.340Z"
   },
   {
    "duration": 176,
    "start_time": "2022-01-31T11:29:59.348Z"
   },
   {
    "duration": 18,
    "start_time": "2022-01-31T11:29:59.527Z"
   },
   {
    "duration": 193,
    "start_time": "2022-01-31T11:29:59.548Z"
   },
   {
    "duration": 7,
    "start_time": "2022-01-31T11:29:59.745Z"
   },
   {
    "duration": 39,
    "start_time": "2022-01-31T11:29:59.755Z"
   },
   {
    "duration": 145,
    "start_time": "2022-01-31T11:29:59.803Z"
   },
   {
    "duration": 16,
    "start_time": "2022-01-31T11:29:59.952Z"
   },
   {
    "duration": 132,
    "start_time": "2022-01-31T11:29:59.971Z"
   },
   {
    "duration": 9,
    "start_time": "2022-01-31T11:30:00.106Z"
   },
   {
    "duration": 38,
    "start_time": "2022-01-31T11:30:00.118Z"
   },
   {
    "duration": 48,
    "start_time": "2022-01-31T11:30:00.159Z"
   },
   {
    "duration": 10,
    "start_time": "2022-01-31T11:30:00.232Z"
   },
   {
    "duration": 17,
    "start_time": "2022-01-31T11:30:00.244Z"
   },
   {
    "duration": 26,
    "start_time": "2022-01-31T11:30:00.264Z"
   },
   {
    "duration": 32,
    "start_time": "2022-01-31T11:30:00.293Z"
   },
   {
    "duration": 49,
    "start_time": "2022-01-31T11:30:00.332Z"
   },
   {
    "duration": 15,
    "start_time": "2022-01-31T11:30:00.383Z"
   },
   {
    "duration": 36,
    "start_time": "2022-01-31T11:30:00.400Z"
   },
   {
    "duration": 12,
    "start_time": "2022-01-31T11:30:00.438Z"
   },
   {
    "duration": 11,
    "start_time": "2022-01-31T11:30:00.453Z"
   },
   {
    "duration": 24,
    "start_time": "2022-01-31T11:30:00.467Z"
   },
   {
    "duration": 24,
    "start_time": "2022-01-31T11:30:00.493Z"
   },
   {
    "duration": 29,
    "start_time": "2022-01-31T11:30:00.520Z"
   },
   {
    "duration": 63,
    "start_time": "2022-01-31T11:30:00.552Z"
   },
   {
    "duration": 11,
    "start_time": "2022-01-31T11:30:00.617Z"
   },
   {
    "duration": 23,
    "start_time": "2022-01-31T11:30:00.632Z"
   },
   {
    "duration": 16,
    "start_time": "2022-01-31T11:30:00.658Z"
   },
   {
    "duration": 12,
    "start_time": "2022-01-31T11:30:00.676Z"
   },
   {
    "duration": 434,
    "start_time": "2022-01-31T11:30:00.691Z"
   },
   {
    "duration": 16,
    "start_time": "2022-01-31T11:30:01.128Z"
   },
   {
    "duration": 21,
    "start_time": "2022-01-31T11:30:01.147Z"
   },
   {
    "duration": 1289,
    "start_time": "2022-01-31T11:30:01.170Z"
   },
   {
    "duration": 6,
    "start_time": "2022-01-31T11:30:02.461Z"
   },
   {
    "duration": 30,
    "start_time": "2022-01-31T11:30:02.469Z"
   },
   {
    "duration": 1183,
    "start_time": "2022-01-31T11:30:02.501Z"
   },
   {
    "duration": 18,
    "start_time": "2022-01-31T11:30:03.686Z"
   },
   {
    "duration": 1137,
    "start_time": "2022-01-31T11:30:03.706Z"
   },
   {
    "duration": 19,
    "start_time": "2022-01-31T11:30:04.845Z"
   },
   {
    "duration": 1068,
    "start_time": "2022-01-31T11:30:04.867Z"
   },
   {
    "duration": 29,
    "start_time": "2022-01-31T11:30:05.938Z"
   },
   {
    "duration": 18,
    "start_time": "2022-01-31T11:30:05.969Z"
   },
   {
    "duration": 7,
    "start_time": "2022-01-31T11:30:05.989Z"
   },
   {
    "duration": 37,
    "start_time": "2022-01-31T11:30:05.998Z"
   },
   {
    "duration": 19,
    "start_time": "2022-01-31T11:30:06.038Z"
   },
   {
    "duration": 19,
    "start_time": "2022-01-31T11:30:06.059Z"
   },
   {
    "duration": 17,
    "start_time": "2022-01-31T11:30:06.080Z"
   },
   {
    "duration": 21,
    "start_time": "2022-01-31T11:35:38.940Z"
   },
   {
    "duration": 23,
    "start_time": "2022-01-31T11:35:47.915Z"
   },
   {
    "duration": 14,
    "start_time": "2022-01-31T12:08:48.547Z"
   },
   {
    "duration": 13,
    "start_time": "2022-01-31T12:09:34.152Z"
   },
   {
    "duration": 9,
    "start_time": "2022-01-31T12:09:48.822Z"
   },
   {
    "duration": 8,
    "start_time": "2022-01-31T12:10:32.077Z"
   },
   {
    "duration": 14,
    "start_time": "2022-01-31T12:10:43.506Z"
   },
   {
    "duration": 7,
    "start_time": "2022-01-31T12:10:49.589Z"
   },
   {
    "duration": 7,
    "start_time": "2022-01-31T12:11:36.759Z"
   },
   {
    "duration": 412,
    "start_time": "2022-01-31T12:17:01.077Z"
   },
   {
    "duration": 8,
    "start_time": "2022-01-31T12:19:46.290Z"
   },
   {
    "duration": 8,
    "start_time": "2022-01-31T12:19:48.183Z"
   },
   {
    "duration": 8,
    "start_time": "2022-01-31T12:20:56.056Z"
   },
   {
    "duration": 11,
    "start_time": "2022-01-31T12:20:56.983Z"
   },
   {
    "duration": 7,
    "start_time": "2022-01-31T12:20:58.092Z"
   },
   {
    "duration": 438,
    "start_time": "2022-01-31T12:26:14.912Z"
   },
   {
    "duration": 9,
    "start_time": "2022-01-31T12:40:49.026Z"
   },
   {
    "duration": 25,
    "start_time": "2022-01-31T12:41:20.724Z"
   },
   {
    "duration": 16,
    "start_time": "2022-01-31T12:45:16.518Z"
   },
   {
    "duration": 27,
    "start_time": "2022-01-31T12:50:50.529Z"
   },
   {
    "duration": 19,
    "start_time": "2022-01-31T13:28:40.543Z"
   },
   {
    "duration": 5,
    "start_time": "2022-01-31T13:29:45.386Z"
   },
   {
    "duration": 15,
    "start_time": "2022-01-31T13:29:48.006Z"
   },
   {
    "duration": 18,
    "start_time": "2022-01-31T13:30:04.942Z"
   },
   {
    "duration": 15,
    "start_time": "2022-01-31T13:30:44.927Z"
   },
   {
    "duration": 18,
    "start_time": "2022-01-31T13:33:31.368Z"
   },
   {
    "duration": 1539,
    "start_time": "2022-01-31T13:34:46.666Z"
   },
   {
    "duration": 226,
    "start_time": "2022-01-31T13:34:48.207Z"
   },
   {
    "duration": 180,
    "start_time": "2022-01-31T13:34:48.436Z"
   },
   {
    "duration": 129,
    "start_time": "2022-01-31T13:34:48.619Z"
   },
   {
    "duration": 24,
    "start_time": "2022-01-31T13:34:48.751Z"
   },
   {
    "duration": 16,
    "start_time": "2022-01-31T13:34:48.778Z"
   },
   {
    "duration": 22,
    "start_time": "2022-01-31T13:34:48.796Z"
   },
   {
    "duration": 31,
    "start_time": "2022-01-31T13:34:48.822Z"
   },
   {
    "duration": 12,
    "start_time": "2022-01-31T13:34:48.856Z"
   },
   {
    "duration": 26,
    "start_time": "2022-01-31T13:34:48.871Z"
   },
   {
    "duration": 33,
    "start_time": "2022-01-31T13:34:48.900Z"
   },
   {
    "duration": 32,
    "start_time": "2022-01-31T13:34:48.936Z"
   },
   {
    "duration": 20,
    "start_time": "2022-01-31T13:34:48.971Z"
   },
   {
    "duration": 41,
    "start_time": "2022-01-31T13:34:48.994Z"
   },
   {
    "duration": 17,
    "start_time": "2022-01-31T13:34:49.038Z"
   },
   {
    "duration": 10,
    "start_time": "2022-01-31T13:34:49.058Z"
   },
   {
    "duration": 6,
    "start_time": "2022-01-31T13:34:49.071Z"
   },
   {
    "duration": 130,
    "start_time": "2022-01-31T13:34:49.079Z"
   },
   {
    "duration": 23,
    "start_time": "2022-01-31T13:34:49.212Z"
   },
   {
    "duration": 152,
    "start_time": "2022-01-31T13:34:49.238Z"
   },
   {
    "duration": 7,
    "start_time": "2022-01-31T13:34:49.393Z"
   },
   {
    "duration": 50,
    "start_time": "2022-01-31T13:34:49.402Z"
   },
   {
    "duration": 104,
    "start_time": "2022-01-31T13:34:49.458Z"
   },
   {
    "duration": 11,
    "start_time": "2022-01-31T13:34:49.565Z"
   },
   {
    "duration": 116,
    "start_time": "2022-01-31T13:34:49.579Z"
   },
   {
    "duration": 11,
    "start_time": "2022-01-31T13:34:49.698Z"
   },
   {
    "duration": 38,
    "start_time": "2022-01-31T13:34:49.712Z"
   },
   {
    "duration": 43,
    "start_time": "2022-01-31T13:34:49.753Z"
   },
   {
    "duration": 34,
    "start_time": "2022-01-31T13:34:49.798Z"
   },
   {
    "duration": 11,
    "start_time": "2022-01-31T13:34:49.835Z"
   },
   {
    "duration": 31,
    "start_time": "2022-01-31T13:34:49.848Z"
   },
   {
    "duration": 26,
    "start_time": "2022-01-31T13:34:49.881Z"
   },
   {
    "duration": 63,
    "start_time": "2022-01-31T13:34:49.909Z"
   },
   {
    "duration": 15,
    "start_time": "2022-01-31T13:34:49.975Z"
   },
   {
    "duration": 20,
    "start_time": "2022-01-31T13:34:49.993Z"
   },
   {
    "duration": 22,
    "start_time": "2022-01-31T13:34:50.016Z"
   },
   {
    "duration": 13,
    "start_time": "2022-01-31T13:34:50.040Z"
   },
   {
    "duration": 7,
    "start_time": "2022-01-31T13:34:50.055Z"
   },
   {
    "duration": 24,
    "start_time": "2022-01-31T13:34:50.064Z"
   },
   {
    "duration": 73,
    "start_time": "2022-01-31T13:34:50.090Z"
   },
   {
    "duration": 10,
    "start_time": "2022-01-31T13:34:50.166Z"
   },
   {
    "duration": 20,
    "start_time": "2022-01-31T13:34:50.179Z"
   },
   {
    "duration": 39,
    "start_time": "2022-01-31T13:34:50.201Z"
   },
   {
    "duration": 11,
    "start_time": "2022-01-31T13:34:50.243Z"
   },
   {
    "duration": 469,
    "start_time": "2022-01-31T13:34:50.257Z"
   },
   {
    "duration": 22,
    "start_time": "2022-01-31T13:34:50.728Z"
   },
   {
    "duration": 27,
    "start_time": "2022-01-31T13:34:50.753Z"
   },
   {
    "duration": 1184,
    "start_time": "2022-01-31T13:34:50.782Z"
   },
   {
    "duration": 5,
    "start_time": "2022-01-31T13:34:51.968Z"
   },
   {
    "duration": 25,
    "start_time": "2022-01-31T13:34:51.976Z"
   },
   {
    "duration": 1235,
    "start_time": "2022-01-31T13:34:52.003Z"
   },
   {
    "duration": 22,
    "start_time": "2022-01-31T13:34:53.240Z"
   },
   {
    "duration": 1215,
    "start_time": "2022-01-31T13:34:53.264Z"
   },
   {
    "duration": 19,
    "start_time": "2022-01-31T13:34:54.481Z"
   },
   {
    "duration": 1118,
    "start_time": "2022-01-31T13:34:54.504Z"
   },
   {
    "duration": 35,
    "start_time": "2022-01-31T13:34:55.624Z"
   },
   {
    "duration": 9,
    "start_time": "2022-01-31T13:34:55.662Z"
   },
   {
    "duration": 26,
    "start_time": "2022-01-31T13:34:55.673Z"
   },
   {
    "duration": 20,
    "start_time": "2022-01-31T13:34:55.732Z"
   },
   {
    "duration": 9,
    "start_time": "2022-01-31T13:34:55.755Z"
   },
   {
    "duration": 22,
    "start_time": "2022-01-31T13:34:55.766Z"
   },
   {
    "duration": 48,
    "start_time": "2022-01-31T13:34:55.791Z"
   },
   {
    "duration": 16,
    "start_time": "2022-01-31T13:34:55.842Z"
   },
   {
    "duration": 1417,
    "start_time": "2022-01-31T13:41:11.781Z"
   },
   {
    "duration": 240,
    "start_time": "2022-01-31T13:41:13.201Z"
   },
   {
    "duration": 174,
    "start_time": "2022-01-31T13:41:13.446Z"
   },
   {
    "duration": 125,
    "start_time": "2022-01-31T13:41:13.623Z"
   },
   {
    "duration": 30,
    "start_time": "2022-01-31T13:41:13.752Z"
   },
   {
    "duration": 15,
    "start_time": "2022-01-31T13:41:13.786Z"
   },
   {
    "duration": 28,
    "start_time": "2022-01-31T13:41:13.804Z"
   },
   {
    "duration": 36,
    "start_time": "2022-01-31T13:41:13.836Z"
   },
   {
    "duration": 13,
    "start_time": "2022-01-31T13:41:13.876Z"
   },
   {
    "duration": 59,
    "start_time": "2022-01-31T13:41:13.892Z"
   },
   {
    "duration": 12,
    "start_time": "2022-01-31T13:41:13.954Z"
   },
   {
    "duration": 24,
    "start_time": "2022-01-31T13:41:13.969Z"
   },
   {
    "duration": 43,
    "start_time": "2022-01-31T13:41:13.996Z"
   },
   {
    "duration": 21,
    "start_time": "2022-01-31T13:41:14.041Z"
   },
   {
    "duration": 16,
    "start_time": "2022-01-31T13:41:14.064Z"
   },
   {
    "duration": 13,
    "start_time": "2022-01-31T13:41:14.083Z"
   },
   {
    "duration": 9,
    "start_time": "2022-01-31T13:41:14.099Z"
   },
   {
    "duration": 131,
    "start_time": "2022-01-31T13:41:14.111Z"
   },
   {
    "duration": 12,
    "start_time": "2022-01-31T13:41:14.244Z"
   },
   {
    "duration": 147,
    "start_time": "2022-01-31T13:41:14.258Z"
   },
   {
    "duration": 6,
    "start_time": "2022-01-31T13:41:14.407Z"
   },
   {
    "duration": 44,
    "start_time": "2022-01-31T13:41:14.415Z"
   },
   {
    "duration": 109,
    "start_time": "2022-01-31T13:41:14.465Z"
   },
   {
    "duration": 13,
    "start_time": "2022-01-31T13:41:14.579Z"
   },
   {
    "duration": 139,
    "start_time": "2022-01-31T13:41:14.595Z"
   },
   {
    "duration": 14,
    "start_time": "2022-01-31T13:41:14.737Z"
   },
   {
    "duration": 34,
    "start_time": "2022-01-31T13:41:14.753Z"
   },
   {
    "duration": 67,
    "start_time": "2022-01-31T13:41:14.789Z"
   },
   {
    "duration": 9,
    "start_time": "2022-01-31T13:41:14.858Z"
   },
   {
    "duration": 12,
    "start_time": "2022-01-31T13:41:14.869Z"
   },
   {
    "duration": 15,
    "start_time": "2022-01-31T13:41:14.884Z"
   },
   {
    "duration": 51,
    "start_time": "2022-01-31T13:41:14.902Z"
   },
   {
    "duration": 79,
    "start_time": "2022-01-31T13:41:14.957Z"
   },
   {
    "duration": 17,
    "start_time": "2022-01-31T13:41:15.039Z"
   },
   {
    "duration": 17,
    "start_time": "2022-01-31T13:41:15.058Z"
   },
   {
    "duration": 12,
    "start_time": "2022-01-31T13:41:15.079Z"
   },
   {
    "duration": 10,
    "start_time": "2022-01-31T13:41:15.095Z"
   },
   {
    "duration": 7,
    "start_time": "2022-01-31T13:41:15.140Z"
   },
   {
    "duration": 18,
    "start_time": "2022-01-31T13:41:15.152Z"
   },
   {
    "duration": 63,
    "start_time": "2022-01-31T13:41:15.172Z"
   },
   {
    "duration": 13,
    "start_time": "2022-01-31T13:41:15.238Z"
   },
   {
    "duration": 20,
    "start_time": "2022-01-31T13:41:15.253Z"
   },
   {
    "duration": 10,
    "start_time": "2022-01-31T13:41:15.275Z"
   },
   {
    "duration": 11,
    "start_time": "2022-01-31T13:41:15.288Z"
   },
   {
    "duration": 440,
    "start_time": "2022-01-31T13:41:15.337Z"
   },
   {
    "duration": 15,
    "start_time": "2022-01-31T13:41:15.779Z"
   },
   {
    "duration": 13,
    "start_time": "2022-01-31T13:41:15.796Z"
   },
   {
    "duration": 1202,
    "start_time": "2022-01-31T13:41:15.811Z"
   },
   {
    "duration": 22,
    "start_time": "2022-01-31T13:41:17.016Z"
   },
   {
    "duration": 29,
    "start_time": "2022-01-31T13:41:17.040Z"
   },
   {
    "duration": 1213,
    "start_time": "2022-01-31T13:41:17.072Z"
   },
   {
    "duration": 20,
    "start_time": "2022-01-31T13:41:18.287Z"
   },
   {
    "duration": 1218,
    "start_time": "2022-01-31T13:41:18.309Z"
   },
   {
    "duration": 22,
    "start_time": "2022-01-31T13:41:19.533Z"
   },
   {
    "duration": 1318,
    "start_time": "2022-01-31T13:41:19.558Z"
   },
   {
    "duration": 56,
    "start_time": "2022-01-31T13:41:20.879Z"
   },
   {
    "duration": 9,
    "start_time": "2022-01-31T13:41:20.942Z"
   },
   {
    "duration": 21,
    "start_time": "2022-01-31T13:41:20.953Z"
   },
   {
    "duration": 15,
    "start_time": "2022-01-31T13:41:20.977Z"
   },
   {
    "duration": 15,
    "start_time": "2022-01-31T13:41:20.994Z"
   },
   {
    "duration": 42,
    "start_time": "2022-01-31T13:41:21.011Z"
   },
   {
    "duration": 21,
    "start_time": "2022-01-31T13:41:21.056Z"
   },
   {
    "duration": 14,
    "start_time": "2022-01-31T13:41:21.080Z"
   },
   {
    "duration": 1739,
    "start_time": "2022-01-31T13:55:13.647Z"
   },
   {
    "duration": 294,
    "start_time": "2022-01-31T13:55:15.389Z"
   },
   {
    "duration": 231,
    "start_time": "2022-01-31T13:55:15.688Z"
   },
   {
    "duration": 183,
    "start_time": "2022-01-31T13:55:15.922Z"
   },
   {
    "duration": 25,
    "start_time": "2022-01-31T13:55:16.109Z"
   },
   {
    "duration": 22,
    "start_time": "2022-01-31T13:55:16.137Z"
   },
   {
    "duration": 28,
    "start_time": "2022-01-31T13:55:16.162Z"
   },
   {
    "duration": 26,
    "start_time": "2022-01-31T13:55:16.194Z"
   },
   {
    "duration": 13,
    "start_time": "2022-01-31T13:55:16.234Z"
   },
   {
    "duration": 26,
    "start_time": "2022-01-31T13:55:16.250Z"
   },
   {
    "duration": 11,
    "start_time": "2022-01-31T13:55:16.278Z"
   },
   {
    "duration": 53,
    "start_time": "2022-01-31T13:55:16.291Z"
   },
   {
    "duration": 17,
    "start_time": "2022-01-31T13:55:16.346Z"
   },
   {
    "duration": 14,
    "start_time": "2022-01-31T13:55:16.365Z"
   },
   {
    "duration": 15,
    "start_time": "2022-01-31T13:55:16.381Z"
   },
   {
    "duration": 40,
    "start_time": "2022-01-31T13:55:16.398Z"
   },
   {
    "duration": 5,
    "start_time": "2022-01-31T13:55:16.440Z"
   },
   {
    "duration": 157,
    "start_time": "2022-01-31T13:55:16.447Z"
   },
   {
    "duration": 26,
    "start_time": "2022-01-31T13:55:16.608Z"
   },
   {
    "duration": 136,
    "start_time": "2022-01-31T13:55:16.636Z"
   },
   {
    "duration": 6,
    "start_time": "2022-01-31T13:55:16.774Z"
   },
   {
    "duration": 52,
    "start_time": "2022-01-31T13:55:16.782Z"
   },
   {
    "duration": 97,
    "start_time": "2022-01-31T13:55:16.839Z"
   },
   {
    "duration": 12,
    "start_time": "2022-01-31T13:55:16.939Z"
   },
   {
    "duration": 111,
    "start_time": "2022-01-31T13:55:16.953Z"
   },
   {
    "duration": 10,
    "start_time": "2022-01-31T13:55:17.066Z"
   },
   {
    "duration": 32,
    "start_time": "2022-01-31T13:55:17.078Z"
   },
   {
    "duration": 64,
    "start_time": "2022-01-31T13:55:17.112Z"
   },
   {
    "duration": 9,
    "start_time": "2022-01-31T13:55:17.178Z"
   },
   {
    "duration": 13,
    "start_time": "2022-01-31T13:55:17.190Z"
   },
   {
    "duration": 33,
    "start_time": "2022-01-31T13:55:17.206Z"
   },
   {
    "duration": 22,
    "start_time": "2022-01-31T13:55:17.241Z"
   },
   {
    "duration": 80,
    "start_time": "2022-01-31T13:55:17.266Z"
   },
   {
    "duration": 15,
    "start_time": "2022-01-31T13:55:17.349Z"
   },
   {
    "duration": 10,
    "start_time": "2022-01-31T13:55:17.366Z"
   },
   {
    "duration": 13,
    "start_time": "2022-01-31T13:55:17.378Z"
   },
   {
    "duration": 43,
    "start_time": "2022-01-31T13:55:17.393Z"
   },
   {
    "duration": 16,
    "start_time": "2022-01-31T13:55:17.439Z"
   },
   {
    "duration": 17,
    "start_time": "2022-01-31T13:55:17.459Z"
   },
   {
    "duration": 68,
    "start_time": "2022-01-31T13:55:17.479Z"
   },
   {
    "duration": 9,
    "start_time": "2022-01-31T13:55:17.549Z"
   },
   {
    "duration": 18,
    "start_time": "2022-01-31T13:55:17.561Z"
   },
   {
    "duration": 11,
    "start_time": "2022-01-31T13:55:17.582Z"
   },
   {
    "duration": 12,
    "start_time": "2022-01-31T13:55:17.633Z"
   },
   {
    "duration": 421,
    "start_time": "2022-01-31T13:55:17.648Z"
   },
   {
    "duration": 17,
    "start_time": "2022-01-31T13:55:18.071Z"
   },
   {
    "duration": 13,
    "start_time": "2022-01-31T13:55:18.090Z"
   },
   {
    "duration": 1189,
    "start_time": "2022-01-31T13:55:18.106Z"
   },
   {
    "duration": 6,
    "start_time": "2022-01-31T13:55:19.299Z"
   },
   {
    "duration": 44,
    "start_time": "2022-01-31T13:55:19.308Z"
   },
   {
    "duration": 1251,
    "start_time": "2022-01-31T13:55:19.355Z"
   },
   {
    "duration": 39,
    "start_time": "2022-01-31T13:55:20.609Z"
   },
   {
    "duration": 1822,
    "start_time": "2022-01-31T13:55:20.651Z"
   },
   {
    "duration": 21,
    "start_time": "2022-01-31T13:55:22.475Z"
   },
   {
    "duration": 1566,
    "start_time": "2022-01-31T13:55:22.499Z"
   },
   {
    "duration": 42,
    "start_time": "2022-01-31T13:55:24.068Z"
   },
   {
    "duration": 26,
    "start_time": "2022-01-31T13:55:24.113Z"
   },
   {
    "duration": 28,
    "start_time": "2022-01-31T13:55:24.143Z"
   },
   {
    "duration": 15,
    "start_time": "2022-01-31T13:55:24.174Z"
   },
   {
    "duration": 6,
    "start_time": "2022-01-31T13:55:24.192Z"
   },
   {
    "duration": 14,
    "start_time": "2022-01-31T13:55:24.234Z"
   },
   {
    "duration": 21,
    "start_time": "2022-01-31T13:55:24.251Z"
   },
   {
    "duration": 18,
    "start_time": "2022-01-31T13:55:24.275Z"
   },
   {
    "duration": 1364,
    "start_time": "2022-02-09T16:59:34.950Z"
   },
   {
    "duration": 202,
    "start_time": "2022-02-09T16:59:36.317Z"
   },
   {
    "duration": 165,
    "start_time": "2022-02-09T16:59:36.522Z"
   },
   {
    "duration": 105,
    "start_time": "2022-02-09T16:59:36.690Z"
   },
   {
    "duration": 19,
    "start_time": "2022-02-09T16:59:36.798Z"
   },
   {
    "duration": 12,
    "start_time": "2022-02-09T16:59:36.820Z"
   },
   {
    "duration": 27,
    "start_time": "2022-02-09T16:59:36.834Z"
   },
   {
    "duration": 26,
    "start_time": "2022-02-09T16:59:36.866Z"
   },
   {
    "duration": 13,
    "start_time": "2022-02-09T16:59:36.895Z"
   },
   {
    "duration": 53,
    "start_time": "2022-02-09T16:59:36.910Z"
   },
   {
    "duration": 14,
    "start_time": "2022-02-09T16:59:36.965Z"
   },
   {
    "duration": 26,
    "start_time": "2022-02-09T16:59:36.982Z"
   },
   {
    "duration": 39,
    "start_time": "2022-02-09T16:59:37.011Z"
   },
   {
    "duration": 12,
    "start_time": "2022-02-09T16:59:37.054Z"
   },
   {
    "duration": 19,
    "start_time": "2022-02-09T16:59:37.069Z"
   },
   {
    "duration": 13,
    "start_time": "2022-02-09T16:59:37.091Z"
   },
   {
    "duration": 43,
    "start_time": "2022-02-09T16:59:37.107Z"
   },
   {
    "duration": 109,
    "start_time": "2022-02-09T16:59:37.152Z"
   },
   {
    "duration": 14,
    "start_time": "2022-02-09T16:59:37.264Z"
   },
   {
    "duration": 150,
    "start_time": "2022-02-09T16:59:37.281Z"
   },
   {
    "duration": 15,
    "start_time": "2022-02-09T16:59:37.434Z"
   },
   {
    "duration": 41,
    "start_time": "2022-02-09T16:59:37.451Z"
   },
   {
    "duration": 98,
    "start_time": "2022-02-09T16:59:37.497Z"
   },
   {
    "duration": 12,
    "start_time": "2022-02-09T16:59:37.599Z"
   },
   {
    "duration": 115,
    "start_time": "2022-02-09T16:59:37.614Z"
   },
   {
    "duration": 18,
    "start_time": "2022-02-09T16:59:37.733Z"
   },
   {
    "duration": 32,
    "start_time": "2022-02-09T16:59:37.754Z"
   },
   {
    "duration": 61,
    "start_time": "2022-02-09T16:59:37.789Z"
   },
   {
    "duration": 11,
    "start_time": "2022-02-09T16:59:37.852Z"
   },
   {
    "duration": 23,
    "start_time": "2022-02-09T16:59:37.865Z"
   },
   {
    "duration": 19,
    "start_time": "2022-02-09T16:59:37.891Z"
   },
   {
    "duration": 33,
    "start_time": "2022-02-09T16:59:37.913Z"
   },
   {
    "duration": 50,
    "start_time": "2022-02-09T16:59:37.949Z"
   },
   {
    "duration": 15,
    "start_time": "2022-02-09T16:59:38.002Z"
   },
   {
    "duration": 35,
    "start_time": "2022-02-09T16:59:38.020Z"
   },
   {
    "duration": 8,
    "start_time": "2022-02-09T16:59:38.058Z"
   },
   {
    "duration": 16,
    "start_time": "2022-02-09T16:59:38.068Z"
   },
   {
    "duration": 12,
    "start_time": "2022-02-09T16:59:38.086Z"
   },
   {
    "duration": 51,
    "start_time": "2022-02-09T16:59:38.100Z"
   },
   {
    "duration": 44,
    "start_time": "2022-02-09T16:59:38.154Z"
   },
   {
    "duration": 11,
    "start_time": "2022-02-09T16:59:38.201Z"
   },
   {
    "duration": 50,
    "start_time": "2022-02-09T16:59:38.214Z"
   },
   {
    "duration": 10,
    "start_time": "2022-02-09T16:59:38.267Z"
   },
   {
    "duration": 11,
    "start_time": "2022-02-09T16:59:38.279Z"
   },
   {
    "duration": 427,
    "start_time": "2022-02-09T16:59:38.292Z"
   },
   {
    "duration": 16,
    "start_time": "2022-02-09T16:59:38.722Z"
   },
   {
    "duration": 10,
    "start_time": "2022-02-09T16:59:38.749Z"
   },
   {
    "duration": 1139,
    "start_time": "2022-02-09T16:59:38.762Z"
   },
   {
    "duration": 6,
    "start_time": "2022-02-09T16:59:39.904Z"
   },
   {
    "duration": 38,
    "start_time": "2022-02-09T16:59:39.912Z"
   },
   {
    "duration": 1185,
    "start_time": "2022-02-09T16:59:39.952Z"
   },
   {
    "duration": 27,
    "start_time": "2022-02-09T16:59:41.139Z"
   },
   {
    "duration": 1406,
    "start_time": "2022-02-09T16:59:41.169Z"
   },
   {
    "duration": 20,
    "start_time": "2022-02-09T16:59:42.577Z"
   },
   {
    "duration": 1104,
    "start_time": "2022-02-09T16:59:42.601Z"
   },
   {
    "duration": 48,
    "start_time": "2022-02-09T16:59:43.708Z"
   },
   {
    "duration": 9,
    "start_time": "2022-02-09T16:59:43.759Z"
   },
   {
    "duration": 24,
    "start_time": "2022-02-09T16:59:43.771Z"
   },
   {
    "duration": 15,
    "start_time": "2022-02-09T16:59:43.798Z"
   },
   {
    "duration": 7,
    "start_time": "2022-02-09T16:59:43.849Z"
   },
   {
    "duration": 25,
    "start_time": "2022-02-09T16:59:43.860Z"
   },
   {
    "duration": 20,
    "start_time": "2022-02-09T16:59:43.888Z"
   },
   {
    "duration": 38,
    "start_time": "2022-02-09T16:59:43.911Z"
   }
  ],
  "kernelspec": {
   "display_name": "Python 3 (ipykernel)",
   "language": "python",
   "name": "python3"
  },
  "language_info": {
   "codemirror_mode": {
    "name": "ipython",
    "version": 3
   },
   "file_extension": ".py",
   "mimetype": "text/x-python",
   "name": "python",
   "nbconvert_exporter": "python",
   "pygments_lexer": "ipython3",
   "version": "3.9.5"
  },
  "toc": {
   "base_numbering": 1,
   "nav_menu": {},
   "number_sections": true,
   "sideBar": true,
   "skip_h1_title": true,
   "title_cell": "Table of Contents",
   "title_sidebar": "Contents",
   "toc_cell": false,
   "toc_position": {
    "height": "calc(100% - 180px)",
    "left": "10px",
    "top": "150px",
    "width": "225.455px"
   },
   "toc_section_display": true,
   "toc_window_display": true
  },
  "colab": {
   "provenance": [],
   "collapsed_sections": [],
   "toc_visible": true
  }
 },
 "nbformat": 4,
 "nbformat_minor": 0
}
