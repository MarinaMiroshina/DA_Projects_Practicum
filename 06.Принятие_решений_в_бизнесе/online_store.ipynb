{
  "cells": [
    {
      "cell_type": "markdown",
      "source": [
        "# Принятие решений в бизнесе"
      ],
      "metadata": {
        "id": "7bU-etPyqBWc"
      }
    },
    {
      "cell_type": "markdown",
      "source": [
        "Для анализа предоставлены данные интернет-магазина по посетителям и совершённым заказам для групп А и В за один месяц.\n",
        "\n",
        "Цель исследования: приоритизировать гипотезы, проанализировать результаты A/B-теста и определить наиболее успешную группу, либо зафиксировать отсутствие различий.\n",
        "\n",
        "**Описание данных:**\n",
        "\n",
        "Таблица hypothesis:\n",
        "- Hypothesis — краткое описание гипотезы;\n",
        "- Reach — охват пользователей по 10-балльной шкале;\n",
        "- Impact — влияние на пользователей по 10-балльной шкале;\n",
        "- Confidence — уверенность в гипотезе по 10-балльной шкале;\n",
        "- Efforts — затраты ресурсов на проверку гипотезы по 10-балльной шкале. Чем больше значение Efforts, тем дороже проверка гипотезы.\n",
        "\n",
        "Таблица orders:\n",
        "- transactionId — идентификатор заказа;\n",
        "- visitorId — идентификатор пользователя, совершившего заказ;\n",
        "- date — дата, когда был совершён заказ;\n",
        "- revenue — выручка заказа;\n",
        "- group — группа A/B-теста, в которую попал заказ.\n",
        " \n",
        "Таблица visitors:\n",
        "- date — дата;\n",
        "- group — группа A/B-теста;\n",
        "- visitors — количество пользователей в указанную дату в указанной группе A/B-теста."
      ],
      "metadata": {
        "id": "c6arSMtlqCSs"
      }
    },
    {
      "cell_type": "markdown",
      "source": [
        "## План работы\n",
        "\n",
        "1. [Изучение данных](#1)\n",
        "\n",
        "2. [Предобработка данных](#2)\n",
        "\n",
        "3. [Приоритизация гипотез](#3)\n",
        "\n",
        "4. [Анализ А/В теста](#4)\n",
        "\n",
        "    4.1 [Кумулятивная выручка по группам](#4.1)\n",
        "\n",
        "    4.2 [Кумулятивный средний чек по группам](#4.2)\n",
        "\n",
        "    4.3 [Оносительное изменение кумулятивного среднего чека группы B к группе A](#4.3)\n",
        "\n",
        "    4.4 [Кумулятивная конверсия по группам](#4.4)\n",
        "\n",
        "    4.5 [Относительное изменение кумулятивной конверсии группы B к группе A](#4.5)\n",
        "\n",
        "    4.6 [Количество заказов](#4.6)\n",
        "\n",
        "    4.7 [Стоимость заказов](#4.7)\n",
        "\n",
        "    4.8 [Статистическая значимость различий в конверсии между группами по «сырым» данным](#4.8)\n",
        "\n",
        "    4.9 [Статистическая значимость различий в среднем чеке по «сырым» данным](#4.9)\n",
        "\n",
        "    4.10 [Cтатистическая значимость различий в конверсии между группами по «очищенным» данным](#4.10)\n",
        "  \n",
        "    4.11 [Статистическая значимость различий в среднем чеке по «очищенным» данным](#4.11)\n",
        "\n",
        "5. [Общие выводы](#5)\n"
      ],
      "metadata": {
        "id": "SNU97-oW9jEg"
      }
    },
    {
      "cell_type": "markdown",
      "metadata": {
        "id": "QDRWiSqZCoPU"
      },
      "source": [
        "<a name=\"1\"><h2>1 Изучение данных</h2></a>"
      ]
    },
    {
      "cell_type": "markdown",
      "metadata": {
        "id": "bgepGJqrCoPU"
      },
      "source": [
        "Импортируем библиотеки:"
      ]
    },
    {
      "cell_type": "code",
      "execution_count": 1,
      "metadata": {
        "id": "3vpGld6lCoPV"
      },
      "outputs": [],
      "source": [
        "import pandas as pd\n",
        "from datetime import datetime, timedelta\n",
        "import datetime as dt\n",
        "import numpy as np\n",
        "import seaborn as sns\n",
        "from scipy import stats as st\n",
        "import matplotlib.pyplot as plt\n",
        "import matplotlib\n",
        "%config InlineBackend.figure_format = 'retina'\n",
        "from pylab import rcParams\n",
        "rcParams['figure.figsize'] = 8, 6\n",
        "pd.set_option('display.max_columns', None)\n",
        "pd.options.display.max_colwidth = 150"
      ]
    },
    {
      "cell_type": "markdown",
      "metadata": {
        "id": "ZQXx8oh3CoPW"
      },
      "source": [
        "Прочитаем данные и сохраним их в переменные hypothesis, visitors, orders:"
      ]
    },
    {
      "cell_type": "code",
      "execution_count": 2,
      "metadata": {
        "id": "Fd7y4kKACoPW"
      },
      "outputs": [],
      "source": [
        "hypothesis = pd.read_csv('/content/hypothesis.csv')\n",
        "orders = pd.read_csv('/content/orders.csv')\n",
        "visitors = pd.read_csv('/content/visitors.csv')"
      ]
    },
    {
      "cell_type": "markdown",
      "metadata": {
        "id": "M5MnFXmPCoPW"
      },
      "source": [
        "Посмотрим таблицу с гипотезами:"
      ]
    },
    {
      "cell_type": "code",
      "execution_count": 3,
      "metadata": {
        "id": "tJnY34kuCoPX",
        "colab": {
          "base_uri": "https://localhost:8080/",
          "height": 331
        },
        "outputId": "17b08f2a-91e2-4103-e717-89d11ec0a194"
      },
      "outputs": [
        {
          "output_type": "execute_result",
          "data": {
            "text/plain": [
              "                                                                                                     Hypothesis  \\\n",
              "0            Добавить два новых канала привлечения трафика, что позволит привлекать на 30% больше пользователей   \n",
              "1                                     Запустить собственную службу доставки, что сократит срок доставки заказов   \n",
              "2  Добавить блоки рекомендаций товаров на сайт интернет магазина, чтобы повысить конверсию и средний чек заказа   \n",
              "3           Изменить структура категорий, что увеличит конверсию, т.к. пользователи быстрее найдут нужный товар   \n",
              "4                              Изменить цвет фона главной страницы, чтобы увеличить вовлеченность пользователей   \n",
              "5                      Добавить страницу отзывов клиентов о магазине, что позволит увеличить количество заказов   \n",
              "6          Показать на главной странице баннеры с актуальными акциями и распродажами, чтобы увеличить конверсию   \n",
              "7              Добавить форму подписки на все основные страницы, чтобы собрать базу клиентов для email-рассылок   \n",
              "8                                                       Запустить акцию, дающую скидку на товар в день рождения   \n",
              "\n",
              "   Reach  Impact  Confidence  Efforts  \n",
              "0      3      10           8        6  \n",
              "1      2       5           4       10  \n",
              "2      8       3           7        3  \n",
              "3      8       3           3        8  \n",
              "4      3       1           1        1  \n",
              "5      3       2           2        3  \n",
              "6      5       3           8        3  \n",
              "7     10       7           8        5  \n",
              "8      1       9           9        5  "
            ],
            "text/html": [
              "\n",
              "  <div id=\"df-3fd198ac-ed01-4b4c-8a76-5aaf0620cbaa\">\n",
              "    <div class=\"colab-df-container\">\n",
              "      <div>\n",
              "<style scoped>\n",
              "    .dataframe tbody tr th:only-of-type {\n",
              "        vertical-align: middle;\n",
              "    }\n",
              "\n",
              "    .dataframe tbody tr th {\n",
              "        vertical-align: top;\n",
              "    }\n",
              "\n",
              "    .dataframe thead th {\n",
              "        text-align: right;\n",
              "    }\n",
              "</style>\n",
              "<table border=\"1\" class=\"dataframe\">\n",
              "  <thead>\n",
              "    <tr style=\"text-align: right;\">\n",
              "      <th></th>\n",
              "      <th>Hypothesis</th>\n",
              "      <th>Reach</th>\n",
              "      <th>Impact</th>\n",
              "      <th>Confidence</th>\n",
              "      <th>Efforts</th>\n",
              "    </tr>\n",
              "  </thead>\n",
              "  <tbody>\n",
              "    <tr>\n",
              "      <th>0</th>\n",
              "      <td>Добавить два новых канала привлечения трафика, что позволит привлекать на 30% больше пользователей</td>\n",
              "      <td>3</td>\n",
              "      <td>10</td>\n",
              "      <td>8</td>\n",
              "      <td>6</td>\n",
              "    </tr>\n",
              "    <tr>\n",
              "      <th>1</th>\n",
              "      <td>Запустить собственную службу доставки, что сократит срок доставки заказов</td>\n",
              "      <td>2</td>\n",
              "      <td>5</td>\n",
              "      <td>4</td>\n",
              "      <td>10</td>\n",
              "    </tr>\n",
              "    <tr>\n",
              "      <th>2</th>\n",
              "      <td>Добавить блоки рекомендаций товаров на сайт интернет магазина, чтобы повысить конверсию и средний чек заказа</td>\n",
              "      <td>8</td>\n",
              "      <td>3</td>\n",
              "      <td>7</td>\n",
              "      <td>3</td>\n",
              "    </tr>\n",
              "    <tr>\n",
              "      <th>3</th>\n",
              "      <td>Изменить структура категорий, что увеличит конверсию, т.к. пользователи быстрее найдут нужный товар</td>\n",
              "      <td>8</td>\n",
              "      <td>3</td>\n",
              "      <td>3</td>\n",
              "      <td>8</td>\n",
              "    </tr>\n",
              "    <tr>\n",
              "      <th>4</th>\n",
              "      <td>Изменить цвет фона главной страницы, чтобы увеличить вовлеченность пользователей</td>\n",
              "      <td>3</td>\n",
              "      <td>1</td>\n",
              "      <td>1</td>\n",
              "      <td>1</td>\n",
              "    </tr>\n",
              "    <tr>\n",
              "      <th>5</th>\n",
              "      <td>Добавить страницу отзывов клиентов о магазине, что позволит увеличить количество заказов</td>\n",
              "      <td>3</td>\n",
              "      <td>2</td>\n",
              "      <td>2</td>\n",
              "      <td>3</td>\n",
              "    </tr>\n",
              "    <tr>\n",
              "      <th>6</th>\n",
              "      <td>Показать на главной странице баннеры с актуальными акциями и распродажами, чтобы увеличить конверсию</td>\n",
              "      <td>5</td>\n",
              "      <td>3</td>\n",
              "      <td>8</td>\n",
              "      <td>3</td>\n",
              "    </tr>\n",
              "    <tr>\n",
              "      <th>7</th>\n",
              "      <td>Добавить форму подписки на все основные страницы, чтобы собрать базу клиентов для email-рассылок</td>\n",
              "      <td>10</td>\n",
              "      <td>7</td>\n",
              "      <td>8</td>\n",
              "      <td>5</td>\n",
              "    </tr>\n",
              "    <tr>\n",
              "      <th>8</th>\n",
              "      <td>Запустить акцию, дающую скидку на товар в день рождения</td>\n",
              "      <td>1</td>\n",
              "      <td>9</td>\n",
              "      <td>9</td>\n",
              "      <td>5</td>\n",
              "    </tr>\n",
              "  </tbody>\n",
              "</table>\n",
              "</div>\n",
              "      <button class=\"colab-df-convert\" onclick=\"convertToInteractive('df-3fd198ac-ed01-4b4c-8a76-5aaf0620cbaa')\"\n",
              "              title=\"Convert this dataframe to an interactive table.\"\n",
              "              style=\"display:none;\">\n",
              "        \n",
              "  <svg xmlns=\"http://www.w3.org/2000/svg\" height=\"24px\"viewBox=\"0 0 24 24\"\n",
              "       width=\"24px\">\n",
              "    <path d=\"M0 0h24v24H0V0z\" fill=\"none\"/>\n",
              "    <path d=\"M18.56 5.44l.94 2.06.94-2.06 2.06-.94-2.06-.94-.94-2.06-.94 2.06-2.06.94zm-11 1L8.5 8.5l.94-2.06 2.06-.94-2.06-.94L8.5 2.5l-.94 2.06-2.06.94zm10 10l.94 2.06.94-2.06 2.06-.94-2.06-.94-.94-2.06-.94 2.06-2.06.94z\"/><path d=\"M17.41 7.96l-1.37-1.37c-.4-.4-.92-.59-1.43-.59-.52 0-1.04.2-1.43.59L10.3 9.45l-7.72 7.72c-.78.78-.78 2.05 0 2.83L4 21.41c.39.39.9.59 1.41.59.51 0 1.02-.2 1.41-.59l7.78-7.78 2.81-2.81c.8-.78.8-2.07 0-2.86zM5.41 20L4 18.59l7.72-7.72 1.47 1.35L5.41 20z\"/>\n",
              "  </svg>\n",
              "      </button>\n",
              "      \n",
              "  <style>\n",
              "    .colab-df-container {\n",
              "      display:flex;\n",
              "      flex-wrap:wrap;\n",
              "      gap: 12px;\n",
              "    }\n",
              "\n",
              "    .colab-df-convert {\n",
              "      background-color: #E8F0FE;\n",
              "      border: none;\n",
              "      border-radius: 50%;\n",
              "      cursor: pointer;\n",
              "      display: none;\n",
              "      fill: #1967D2;\n",
              "      height: 32px;\n",
              "      padding: 0 0 0 0;\n",
              "      width: 32px;\n",
              "    }\n",
              "\n",
              "    .colab-df-convert:hover {\n",
              "      background-color: #E2EBFA;\n",
              "      box-shadow: 0px 1px 2px rgba(60, 64, 67, 0.3), 0px 1px 3px 1px rgba(60, 64, 67, 0.15);\n",
              "      fill: #174EA6;\n",
              "    }\n",
              "\n",
              "    [theme=dark] .colab-df-convert {\n",
              "      background-color: #3B4455;\n",
              "      fill: #D2E3FC;\n",
              "    }\n",
              "\n",
              "    [theme=dark] .colab-df-convert:hover {\n",
              "      background-color: #434B5C;\n",
              "      box-shadow: 0px 1px 3px 1px rgba(0, 0, 0, 0.15);\n",
              "      filter: drop-shadow(0px 1px 2px rgba(0, 0, 0, 0.3));\n",
              "      fill: #FFFFFF;\n",
              "    }\n",
              "  </style>\n",
              "\n",
              "      <script>\n",
              "        const buttonEl =\n",
              "          document.querySelector('#df-3fd198ac-ed01-4b4c-8a76-5aaf0620cbaa button.colab-df-convert');\n",
              "        buttonEl.style.display =\n",
              "          google.colab.kernel.accessAllowed ? 'block' : 'none';\n",
              "\n",
              "        async function convertToInteractive(key) {\n",
              "          const element = document.querySelector('#df-3fd198ac-ed01-4b4c-8a76-5aaf0620cbaa');\n",
              "          const dataTable =\n",
              "            await google.colab.kernel.invokeFunction('convertToInteractive',\n",
              "                                                     [key], {});\n",
              "          if (!dataTable) return;\n",
              "\n",
              "          const docLinkHtml = 'Like what you see? Visit the ' +\n",
              "            '<a target=\"_blank\" href=https://colab.research.google.com/notebooks/data_table.ipynb>data table notebook</a>'\n",
              "            + ' to learn more about interactive tables.';\n",
              "          element.innerHTML = '';\n",
              "          dataTable['output_type'] = 'display_data';\n",
              "          await google.colab.output.renderOutput(dataTable, element);\n",
              "          const docLink = document.createElement('div');\n",
              "          docLink.innerHTML = docLinkHtml;\n",
              "          element.appendChild(docLink);\n",
              "        }\n",
              "      </script>\n",
              "    </div>\n",
              "  </div>\n",
              "  "
            ]
          },
          "metadata": {},
          "execution_count": 3
        }
      ],
      "source": [
        "hypothesis "
      ]
    },
    {
      "cell_type": "code",
      "execution_count": 4,
      "metadata": {
        "id": "Urx7-6HSCoPX",
        "colab": {
          "base_uri": "https://localhost:8080/"
        },
        "outputId": "542f0d9d-8237-49b0-c0af-8cbca6f2321d"
      },
      "outputs": [
        {
          "output_type": "stream",
          "name": "stdout",
          "text": [
            "<class 'pandas.core.frame.DataFrame'>\n",
            "RangeIndex: 9 entries, 0 to 8\n",
            "Data columns (total 5 columns):\n",
            " #   Column      Non-Null Count  Dtype \n",
            "---  ------      --------------  ----- \n",
            " 0   Hypothesis  9 non-null      object\n",
            " 1   Reach       9 non-null      int64 \n",
            " 2   Impact      9 non-null      int64 \n",
            " 3   Confidence  9 non-null      int64 \n",
            " 4   Efforts     9 non-null      int64 \n",
            "dtypes: int64(4), object(1)\n",
            "memory usage: 488.0+ bytes\n"
          ]
        }
      ],
      "source": [
        "hypothesis.info()"
      ]
    },
    {
      "cell_type": "markdown",
      "metadata": {
        "id": "5lUyLatTCoPY"
      },
      "source": [
        "Таблица содержит 7 столбцов и 9 строк с описанием гипотез. "
      ]
    },
    {
      "cell_type": "markdown",
      "metadata": {
        "id": "AXnJkzYzCoPY"
      },
      "source": [
        "Выведем первые 10 строк таблицы orders и посмотрим общую информацию:"
      ]
    },
    {
      "cell_type": "code",
      "execution_count": 5,
      "metadata": {
        "id": "FB2WxIIHCoPY",
        "colab": {
          "base_uri": "https://localhost:8080/",
          "height": 363
        },
        "outputId": "15297a1f-9be3-43ec-9d15-d74c38fdf4d0"
      },
      "outputs": [
        {
          "output_type": "execute_result",
          "data": {
            "text/plain": [
              "   transactionId   visitorId        date  revenue group\n",
              "0     3667963787  3312258926  2019-08-15     1650     B\n",
              "1     2804400009  3642806036  2019-08-15      730     B\n",
              "2     2961555356  4069496402  2019-08-15      400     A\n",
              "3     3797467345  1196621759  2019-08-15     9759     B\n",
              "4     2282983706  2322279887  2019-08-15     2308     B\n",
              "5      182168103   935554773  2019-08-15     2210     B\n",
              "6      398296753  2900797465  2019-08-15     1860     B\n",
              "7     2626614568    78758296  2019-08-15     1044     A\n",
              "8     1576988021   295230930  2019-08-15    13710     A\n",
              "9     1506739906  1882260405  2019-08-15     1855     B"
            ],
            "text/html": [
              "\n",
              "  <div id=\"df-7cd68854-042c-4956-876f-95ad7c87833a\">\n",
              "    <div class=\"colab-df-container\">\n",
              "      <div>\n",
              "<style scoped>\n",
              "    .dataframe tbody tr th:only-of-type {\n",
              "        vertical-align: middle;\n",
              "    }\n",
              "\n",
              "    .dataframe tbody tr th {\n",
              "        vertical-align: top;\n",
              "    }\n",
              "\n",
              "    .dataframe thead th {\n",
              "        text-align: right;\n",
              "    }\n",
              "</style>\n",
              "<table border=\"1\" class=\"dataframe\">\n",
              "  <thead>\n",
              "    <tr style=\"text-align: right;\">\n",
              "      <th></th>\n",
              "      <th>transactionId</th>\n",
              "      <th>visitorId</th>\n",
              "      <th>date</th>\n",
              "      <th>revenue</th>\n",
              "      <th>group</th>\n",
              "    </tr>\n",
              "  </thead>\n",
              "  <tbody>\n",
              "    <tr>\n",
              "      <th>0</th>\n",
              "      <td>3667963787</td>\n",
              "      <td>3312258926</td>\n",
              "      <td>2019-08-15</td>\n",
              "      <td>1650</td>\n",
              "      <td>B</td>\n",
              "    </tr>\n",
              "    <tr>\n",
              "      <th>1</th>\n",
              "      <td>2804400009</td>\n",
              "      <td>3642806036</td>\n",
              "      <td>2019-08-15</td>\n",
              "      <td>730</td>\n",
              "      <td>B</td>\n",
              "    </tr>\n",
              "    <tr>\n",
              "      <th>2</th>\n",
              "      <td>2961555356</td>\n",
              "      <td>4069496402</td>\n",
              "      <td>2019-08-15</td>\n",
              "      <td>400</td>\n",
              "      <td>A</td>\n",
              "    </tr>\n",
              "    <tr>\n",
              "      <th>3</th>\n",
              "      <td>3797467345</td>\n",
              "      <td>1196621759</td>\n",
              "      <td>2019-08-15</td>\n",
              "      <td>9759</td>\n",
              "      <td>B</td>\n",
              "    </tr>\n",
              "    <tr>\n",
              "      <th>4</th>\n",
              "      <td>2282983706</td>\n",
              "      <td>2322279887</td>\n",
              "      <td>2019-08-15</td>\n",
              "      <td>2308</td>\n",
              "      <td>B</td>\n",
              "    </tr>\n",
              "    <tr>\n",
              "      <th>5</th>\n",
              "      <td>182168103</td>\n",
              "      <td>935554773</td>\n",
              "      <td>2019-08-15</td>\n",
              "      <td>2210</td>\n",
              "      <td>B</td>\n",
              "    </tr>\n",
              "    <tr>\n",
              "      <th>6</th>\n",
              "      <td>398296753</td>\n",
              "      <td>2900797465</td>\n",
              "      <td>2019-08-15</td>\n",
              "      <td>1860</td>\n",
              "      <td>B</td>\n",
              "    </tr>\n",
              "    <tr>\n",
              "      <th>7</th>\n",
              "      <td>2626614568</td>\n",
              "      <td>78758296</td>\n",
              "      <td>2019-08-15</td>\n",
              "      <td>1044</td>\n",
              "      <td>A</td>\n",
              "    </tr>\n",
              "    <tr>\n",
              "      <th>8</th>\n",
              "      <td>1576988021</td>\n",
              "      <td>295230930</td>\n",
              "      <td>2019-08-15</td>\n",
              "      <td>13710</td>\n",
              "      <td>A</td>\n",
              "    </tr>\n",
              "    <tr>\n",
              "      <th>9</th>\n",
              "      <td>1506739906</td>\n",
              "      <td>1882260405</td>\n",
              "      <td>2019-08-15</td>\n",
              "      <td>1855</td>\n",
              "      <td>B</td>\n",
              "    </tr>\n",
              "  </tbody>\n",
              "</table>\n",
              "</div>\n",
              "      <button class=\"colab-df-convert\" onclick=\"convertToInteractive('df-7cd68854-042c-4956-876f-95ad7c87833a')\"\n",
              "              title=\"Convert this dataframe to an interactive table.\"\n",
              "              style=\"display:none;\">\n",
              "        \n",
              "  <svg xmlns=\"http://www.w3.org/2000/svg\" height=\"24px\"viewBox=\"0 0 24 24\"\n",
              "       width=\"24px\">\n",
              "    <path d=\"M0 0h24v24H0V0z\" fill=\"none\"/>\n",
              "    <path d=\"M18.56 5.44l.94 2.06.94-2.06 2.06-.94-2.06-.94-.94-2.06-.94 2.06-2.06.94zm-11 1L8.5 8.5l.94-2.06 2.06-.94-2.06-.94L8.5 2.5l-.94 2.06-2.06.94zm10 10l.94 2.06.94-2.06 2.06-.94-2.06-.94-.94-2.06-.94 2.06-2.06.94z\"/><path d=\"M17.41 7.96l-1.37-1.37c-.4-.4-.92-.59-1.43-.59-.52 0-1.04.2-1.43.59L10.3 9.45l-7.72 7.72c-.78.78-.78 2.05 0 2.83L4 21.41c.39.39.9.59 1.41.59.51 0 1.02-.2 1.41-.59l7.78-7.78 2.81-2.81c.8-.78.8-2.07 0-2.86zM5.41 20L4 18.59l7.72-7.72 1.47 1.35L5.41 20z\"/>\n",
              "  </svg>\n",
              "      </button>\n",
              "      \n",
              "  <style>\n",
              "    .colab-df-container {\n",
              "      display:flex;\n",
              "      flex-wrap:wrap;\n",
              "      gap: 12px;\n",
              "    }\n",
              "\n",
              "    .colab-df-convert {\n",
              "      background-color: #E8F0FE;\n",
              "      border: none;\n",
              "      border-radius: 50%;\n",
              "      cursor: pointer;\n",
              "      display: none;\n",
              "      fill: #1967D2;\n",
              "      height: 32px;\n",
              "      padding: 0 0 0 0;\n",
              "      width: 32px;\n",
              "    }\n",
              "\n",
              "    .colab-df-convert:hover {\n",
              "      background-color: #E2EBFA;\n",
              "      box-shadow: 0px 1px 2px rgba(60, 64, 67, 0.3), 0px 1px 3px 1px rgba(60, 64, 67, 0.15);\n",
              "      fill: #174EA6;\n",
              "    }\n",
              "\n",
              "    [theme=dark] .colab-df-convert {\n",
              "      background-color: #3B4455;\n",
              "      fill: #D2E3FC;\n",
              "    }\n",
              "\n",
              "    [theme=dark] .colab-df-convert:hover {\n",
              "      background-color: #434B5C;\n",
              "      box-shadow: 0px 1px 3px 1px rgba(0, 0, 0, 0.15);\n",
              "      filter: drop-shadow(0px 1px 2px rgba(0, 0, 0, 0.3));\n",
              "      fill: #FFFFFF;\n",
              "    }\n",
              "  </style>\n",
              "\n",
              "      <script>\n",
              "        const buttonEl =\n",
              "          document.querySelector('#df-7cd68854-042c-4956-876f-95ad7c87833a button.colab-df-convert');\n",
              "        buttonEl.style.display =\n",
              "          google.colab.kernel.accessAllowed ? 'block' : 'none';\n",
              "\n",
              "        async function convertToInteractive(key) {\n",
              "          const element = document.querySelector('#df-7cd68854-042c-4956-876f-95ad7c87833a');\n",
              "          const dataTable =\n",
              "            await google.colab.kernel.invokeFunction('convertToInteractive',\n",
              "                                                     [key], {});\n",
              "          if (!dataTable) return;\n",
              "\n",
              "          const docLinkHtml = 'Like what you see? Visit the ' +\n",
              "            '<a target=\"_blank\" href=https://colab.research.google.com/notebooks/data_table.ipynb>data table notebook</a>'\n",
              "            + ' to learn more about interactive tables.';\n",
              "          element.innerHTML = '';\n",
              "          dataTable['output_type'] = 'display_data';\n",
              "          await google.colab.output.renderOutput(dataTable, element);\n",
              "          const docLink = document.createElement('div');\n",
              "          docLink.innerHTML = docLinkHtml;\n",
              "          element.appendChild(docLink);\n",
              "        }\n",
              "      </script>\n",
              "    </div>\n",
              "  </div>\n",
              "  "
            ]
          },
          "metadata": {},
          "execution_count": 5
        }
      ],
      "source": [
        "orders.head(10)"
      ]
    },
    {
      "cell_type": "code",
      "execution_count": 6,
      "metadata": {
        "id": "q4qqGr2_CoPY",
        "colab": {
          "base_uri": "https://localhost:8080/"
        },
        "outputId": "dbbad83b-2f0b-4992-eb76-6f51fe614cc0"
      },
      "outputs": [
        {
          "output_type": "stream",
          "name": "stdout",
          "text": [
            "<class 'pandas.core.frame.DataFrame'>\n",
            "RangeIndex: 1197 entries, 0 to 1196\n",
            "Data columns (total 5 columns):\n",
            " #   Column         Non-Null Count  Dtype \n",
            "---  ------         --------------  ----- \n",
            " 0   transactionId  1197 non-null   int64 \n",
            " 1   visitorId      1197 non-null   int64 \n",
            " 2   date           1197 non-null   object\n",
            " 3   revenue        1197 non-null   int64 \n",
            " 4   group          1197 non-null   object\n",
            "dtypes: int64(3), object(2)\n",
            "memory usage: 46.9+ KB\n"
          ]
        }
      ],
      "source": [
        "orders.info()"
      ]
    },
    {
      "cell_type": "markdown",
      "metadata": {
        "id": "4_no_o2-CoPY"
      },
      "source": [
        "В таблице 5 столбцов и 1197 записей, пропусков нет."
      ]
    },
    {
      "cell_type": "markdown",
      "metadata": {
        "id": "lD9-3s-JCoPY"
      },
      "source": [
        "Посмотрим таблицу visitors:"
      ]
    },
    {
      "cell_type": "code",
      "execution_count": 7,
      "metadata": {
        "id": "ArZZSW8eCoPZ",
        "colab": {
          "base_uri": "https://localhost:8080/",
          "height": 363
        },
        "outputId": "2b5652a9-e587-4582-822f-01ab7169c159"
      },
      "outputs": [
        {
          "output_type": "execute_result",
          "data": {
            "text/plain": [
              "         date group  visitors\n",
              "0  2019-08-01     A       719\n",
              "1  2019-08-02     A       619\n",
              "2  2019-08-03     A       507\n",
              "3  2019-08-04     A       717\n",
              "4  2019-08-05     A       756\n",
              "5  2019-08-06     A       667\n",
              "6  2019-08-07     A       644\n",
              "7  2019-08-08     A       610\n",
              "8  2019-08-09     A       617\n",
              "9  2019-08-10     A       406"
            ],
            "text/html": [
              "\n",
              "  <div id=\"df-f562be61-0991-4203-a28b-55b1b525a837\">\n",
              "    <div class=\"colab-df-container\">\n",
              "      <div>\n",
              "<style scoped>\n",
              "    .dataframe tbody tr th:only-of-type {\n",
              "        vertical-align: middle;\n",
              "    }\n",
              "\n",
              "    .dataframe tbody tr th {\n",
              "        vertical-align: top;\n",
              "    }\n",
              "\n",
              "    .dataframe thead th {\n",
              "        text-align: right;\n",
              "    }\n",
              "</style>\n",
              "<table border=\"1\" class=\"dataframe\">\n",
              "  <thead>\n",
              "    <tr style=\"text-align: right;\">\n",
              "      <th></th>\n",
              "      <th>date</th>\n",
              "      <th>group</th>\n",
              "      <th>visitors</th>\n",
              "    </tr>\n",
              "  </thead>\n",
              "  <tbody>\n",
              "    <tr>\n",
              "      <th>0</th>\n",
              "      <td>2019-08-01</td>\n",
              "      <td>A</td>\n",
              "      <td>719</td>\n",
              "    </tr>\n",
              "    <tr>\n",
              "      <th>1</th>\n",
              "      <td>2019-08-02</td>\n",
              "      <td>A</td>\n",
              "      <td>619</td>\n",
              "    </tr>\n",
              "    <tr>\n",
              "      <th>2</th>\n",
              "      <td>2019-08-03</td>\n",
              "      <td>A</td>\n",
              "      <td>507</td>\n",
              "    </tr>\n",
              "    <tr>\n",
              "      <th>3</th>\n",
              "      <td>2019-08-04</td>\n",
              "      <td>A</td>\n",
              "      <td>717</td>\n",
              "    </tr>\n",
              "    <tr>\n",
              "      <th>4</th>\n",
              "      <td>2019-08-05</td>\n",
              "      <td>A</td>\n",
              "      <td>756</td>\n",
              "    </tr>\n",
              "    <tr>\n",
              "      <th>5</th>\n",
              "      <td>2019-08-06</td>\n",
              "      <td>A</td>\n",
              "      <td>667</td>\n",
              "    </tr>\n",
              "    <tr>\n",
              "      <th>6</th>\n",
              "      <td>2019-08-07</td>\n",
              "      <td>A</td>\n",
              "      <td>644</td>\n",
              "    </tr>\n",
              "    <tr>\n",
              "      <th>7</th>\n",
              "      <td>2019-08-08</td>\n",
              "      <td>A</td>\n",
              "      <td>610</td>\n",
              "    </tr>\n",
              "    <tr>\n",
              "      <th>8</th>\n",
              "      <td>2019-08-09</td>\n",
              "      <td>A</td>\n",
              "      <td>617</td>\n",
              "    </tr>\n",
              "    <tr>\n",
              "      <th>9</th>\n",
              "      <td>2019-08-10</td>\n",
              "      <td>A</td>\n",
              "      <td>406</td>\n",
              "    </tr>\n",
              "  </tbody>\n",
              "</table>\n",
              "</div>\n",
              "      <button class=\"colab-df-convert\" onclick=\"convertToInteractive('df-f562be61-0991-4203-a28b-55b1b525a837')\"\n",
              "              title=\"Convert this dataframe to an interactive table.\"\n",
              "              style=\"display:none;\">\n",
              "        \n",
              "  <svg xmlns=\"http://www.w3.org/2000/svg\" height=\"24px\"viewBox=\"0 0 24 24\"\n",
              "       width=\"24px\">\n",
              "    <path d=\"M0 0h24v24H0V0z\" fill=\"none\"/>\n",
              "    <path d=\"M18.56 5.44l.94 2.06.94-2.06 2.06-.94-2.06-.94-.94-2.06-.94 2.06-2.06.94zm-11 1L8.5 8.5l.94-2.06 2.06-.94-2.06-.94L8.5 2.5l-.94 2.06-2.06.94zm10 10l.94 2.06.94-2.06 2.06-.94-2.06-.94-.94-2.06-.94 2.06-2.06.94z\"/><path d=\"M17.41 7.96l-1.37-1.37c-.4-.4-.92-.59-1.43-.59-.52 0-1.04.2-1.43.59L10.3 9.45l-7.72 7.72c-.78.78-.78 2.05 0 2.83L4 21.41c.39.39.9.59 1.41.59.51 0 1.02-.2 1.41-.59l7.78-7.78 2.81-2.81c.8-.78.8-2.07 0-2.86zM5.41 20L4 18.59l7.72-7.72 1.47 1.35L5.41 20z\"/>\n",
              "  </svg>\n",
              "      </button>\n",
              "      \n",
              "  <style>\n",
              "    .colab-df-container {\n",
              "      display:flex;\n",
              "      flex-wrap:wrap;\n",
              "      gap: 12px;\n",
              "    }\n",
              "\n",
              "    .colab-df-convert {\n",
              "      background-color: #E8F0FE;\n",
              "      border: none;\n",
              "      border-radius: 50%;\n",
              "      cursor: pointer;\n",
              "      display: none;\n",
              "      fill: #1967D2;\n",
              "      height: 32px;\n",
              "      padding: 0 0 0 0;\n",
              "      width: 32px;\n",
              "    }\n",
              "\n",
              "    .colab-df-convert:hover {\n",
              "      background-color: #E2EBFA;\n",
              "      box-shadow: 0px 1px 2px rgba(60, 64, 67, 0.3), 0px 1px 3px 1px rgba(60, 64, 67, 0.15);\n",
              "      fill: #174EA6;\n",
              "    }\n",
              "\n",
              "    [theme=dark] .colab-df-convert {\n",
              "      background-color: #3B4455;\n",
              "      fill: #D2E3FC;\n",
              "    }\n",
              "\n",
              "    [theme=dark] .colab-df-convert:hover {\n",
              "      background-color: #434B5C;\n",
              "      box-shadow: 0px 1px 3px 1px rgba(0, 0, 0, 0.15);\n",
              "      filter: drop-shadow(0px 1px 2px rgba(0, 0, 0, 0.3));\n",
              "      fill: #FFFFFF;\n",
              "    }\n",
              "  </style>\n",
              "\n",
              "      <script>\n",
              "        const buttonEl =\n",
              "          document.querySelector('#df-f562be61-0991-4203-a28b-55b1b525a837 button.colab-df-convert');\n",
              "        buttonEl.style.display =\n",
              "          google.colab.kernel.accessAllowed ? 'block' : 'none';\n",
              "\n",
              "        async function convertToInteractive(key) {\n",
              "          const element = document.querySelector('#df-f562be61-0991-4203-a28b-55b1b525a837');\n",
              "          const dataTable =\n",
              "            await google.colab.kernel.invokeFunction('convertToInteractive',\n",
              "                                                     [key], {});\n",
              "          if (!dataTable) return;\n",
              "\n",
              "          const docLinkHtml = 'Like what you see? Visit the ' +\n",
              "            '<a target=\"_blank\" href=https://colab.research.google.com/notebooks/data_table.ipynb>data table notebook</a>'\n",
              "            + ' to learn more about interactive tables.';\n",
              "          element.innerHTML = '';\n",
              "          dataTable['output_type'] = 'display_data';\n",
              "          await google.colab.output.renderOutput(dataTable, element);\n",
              "          const docLink = document.createElement('div');\n",
              "          docLink.innerHTML = docLinkHtml;\n",
              "          element.appendChild(docLink);\n",
              "        }\n",
              "      </script>\n",
              "    </div>\n",
              "  </div>\n",
              "  "
            ]
          },
          "metadata": {},
          "execution_count": 7
        }
      ],
      "source": [
        "visitors.head(10)"
      ]
    },
    {
      "cell_type": "code",
      "execution_count": 8,
      "metadata": {
        "id": "65VeZDM2CoPZ",
        "colab": {
          "base_uri": "https://localhost:8080/"
        },
        "outputId": "9351255a-97cf-4644-f1ba-52f07dce9491"
      },
      "outputs": [
        {
          "output_type": "stream",
          "name": "stdout",
          "text": [
            "<class 'pandas.core.frame.DataFrame'>\n",
            "RangeIndex: 62 entries, 0 to 61\n",
            "Data columns (total 3 columns):\n",
            " #   Column    Non-Null Count  Dtype \n",
            "---  ------    --------------  ----- \n",
            " 0   date      62 non-null     object\n",
            " 1   group     62 non-null     object\n",
            " 2   visitors  62 non-null     int64 \n",
            "dtypes: int64(1), object(2)\n",
            "memory usage: 1.6+ KB\n"
          ]
        }
      ],
      "source": [
        "visitors.info()"
      ]
    },
    {
      "cell_type": "markdown",
      "metadata": {
        "id": "2G1OBew9CoPZ"
      },
      "source": [
        "В таблице 3 столбца и 62 записи, пропусков нет."
      ]
    },
    {
      "cell_type": "markdown",
      "metadata": {
        "id": "jyqouwK7CoPZ"
      },
      "source": [
        "<div style=\"border: solid green 2px; padding: 20px\">\n",
        "    \n",
        "**Выводы**\n",
        "    \n",
        " * Названия столбцов в таблице hypothesis нужно привести к нижнему регистру, так как они записаны с прописной буквы.\n",
        " * Для удобства можно заменить индексацию в таблице с гипотезами, чтобы она начиналась с единицы.\n",
        " * Столбцы с датами имеют формат object, поэтому их следует перевести в формат даты.",
        "</div>"
      ]
    },
    {
      "cell_type": "markdown",
      "metadata": {
        "id": "GJq0CZlECoPZ"
      },
      "source": [
        "<a name=\"2\"><h2>2 Предобработка данных</h2></a>\n"
      ]
    },
    {
      "cell_type": "markdown",
      "metadata": {
        "id": "QJmzPM1wCoPZ"
      },
      "source": [
        "Приведём названия столбцов к нижнему регистру в таблице hypothesis:"
      ]
    },
    {
      "cell_type": "code",
      "execution_count": 9,
      "metadata": {
        "id": "yHJsFmY1CoPZ"
      },
      "outputs": [],
      "source": [
        "hypothesis.columns = [x.lower() for x in hypothesis.columns]"
      ]
    },
    {
      "cell_type": "markdown",
      "metadata": {
        "id": "GrsYxCD4CoPa"
      },
      "source": [
        "Изменим тип данных в столбцах с датами:"
      ]
    },
    {
      "cell_type": "code",
      "execution_count": 10,
      "metadata": {
        "id": "Q8m1jbYxCoPa"
      },
      "outputs": [],
      "source": [
        "orders['date'] = orders['date'].map(lambda x: dt.datetime.strptime(x, '%Y-%m-%d'))\n",
        "visitors['date'] = visitors['date'].map(lambda x: dt.datetime.strptime(x, '%Y-%m-%d'))"
      ]
    },
    {
      "cell_type": "markdown",
      "metadata": {
        "id": "zoF07OW6CoPa"
      },
      "source": [
        "Проверим формат в таблицах:"
      ]
    },
    {
      "cell_type": "code",
      "execution_count": 11,
      "metadata": {
        "id": "30TirtQTCoPa",
        "colab": {
          "base_uri": "https://localhost:8080/"
        },
        "outputId": "b5cfe0f6-ce0c-409c-85b9-a327b5b966a3"
      },
      "outputs": [
        {
          "output_type": "stream",
          "name": "stdout",
          "text": [
            "<class 'pandas.core.frame.DataFrame'>\n",
            "RangeIndex: 62 entries, 0 to 61\n",
            "Data columns (total 3 columns):\n",
            " #   Column    Non-Null Count  Dtype         \n",
            "---  ------    --------------  -----         \n",
            " 0   date      62 non-null     datetime64[ns]\n",
            " 1   group     62 non-null     object        \n",
            " 2   visitors  62 non-null     int64         \n",
            "dtypes: datetime64[ns](1), int64(1), object(1)\n",
            "memory usage: 1.6+ KB\n"
          ]
        }
      ],
      "source": [
        "visitors.info()"
      ]
    },
    {
      "cell_type": "code",
      "execution_count": 12,
      "metadata": {
        "id": "Ve3-G8sfCoPa",
        "colab": {
          "base_uri": "https://localhost:8080/"
        },
        "outputId": "e7a9c48a-856e-49ec-d100-f0b2bae5de5b"
      },
      "outputs": [
        {
          "output_type": "stream",
          "name": "stdout",
          "text": [
            "<class 'pandas.core.frame.DataFrame'>\n",
            "RangeIndex: 1197 entries, 0 to 1196\n",
            "Data columns (total 5 columns):\n",
            " #   Column         Non-Null Count  Dtype         \n",
            "---  ------         --------------  -----         \n",
            " 0   transactionId  1197 non-null   int64         \n",
            " 1   visitorId      1197 non-null   int64         \n",
            " 2   date           1197 non-null   datetime64[ns]\n",
            " 3   revenue        1197 non-null   int64         \n",
            " 4   group          1197 non-null   object        \n",
            "dtypes: datetime64[ns](1), int64(3), object(1)\n",
            "memory usage: 46.9+ KB\n"
          ]
        }
      ],
      "source": [
        "orders.info()"
      ]
    },
    {
      "cell_type": "markdown",
      "metadata": {
        "id": "vczFPKihCoPa"
      },
      "source": [
        "Проверим на наличие явных дубликатов:"
      ]
    },
    {
      "cell_type": "code",
      "execution_count": 13,
      "metadata": {
        "id": "ZZ3-O1XCCoPa",
        "colab": {
          "base_uri": "https://localhost:8080/"
        },
        "outputId": "487c5b0f-150c-42b6-9a34-4bf339bd2c7e"
      },
      "outputs": [
        {
          "output_type": "execute_result",
          "data": {
            "text/plain": [
              "0"
            ]
          },
          "metadata": {},
          "execution_count": 13
        }
      ],
      "source": [
        "visitors.duplicated().sum()"
      ]
    },
    {
      "cell_type": "code",
      "execution_count": 14,
      "metadata": {
        "id": "DGvOeCRCCoPa",
        "colab": {
          "base_uri": "https://localhost:8080/"
        },
        "outputId": "329f5b02-48d8-4fbf-f460-d04241a2fb41"
      },
      "outputs": [
        {
          "output_type": "execute_result",
          "data": {
            "text/plain": [
              "0"
            ]
          },
          "metadata": {},
          "execution_count": 14
        }
      ],
      "source": [
        "orders.duplicated().sum()"
      ]
    },
    {
      "cell_type": "markdown",
      "metadata": {
        "id": "bZO8KVITCoPb"
      },
      "source": [
        "<div style=\"border: solid green 2px; padding: 20px\">\n",
        "    \n",
        "**Выводы**\n",
        "\n",
        "В результате предобработки данных:\n",
        "\n",
        " * привели названия столбцов в соответствие с правильным стилем;\n",
        " * проверили таблицу на наличие дубликатов;\n",
        " * столбцы с датами привели в соответствующий формат.",
        "</div>"
      ]
    },
    {
      "cell_type": "markdown",
      "metadata": {
        "id": "nssPRieACoPb"
      },
      "source": [
        "<a name=\"3\"><h2>3 Приоритизация гипотез</h2></a>"
      ]
    },
    {
      "cell_type": "markdown",
      "metadata": {
        "id": "NVIbdkw2CoPb"
      },
      "source": [
        "Заменим индексацию в таблице hypothesis:"
      ]
    },
    {
      "cell_type": "code",
      "execution_count": 15,
      "metadata": {
        "id": "dzRD6HuzCoPb"
      },
      "outputs": [],
      "source": [
        "hypothesis.index += 1"
      ]
    },
    {
      "cell_type": "markdown",
      "metadata": {
        "id": "BpkZkuYwCoPc"
      },
      "source": [
        "Для приоритизации гипотез воспользуемся фреймворком ICE:"
      ]
    },
    {
      "cell_type": "code",
      "execution_count": 16,
      "metadata": {
        "id": "OMKRIsS2CoPc"
      },
      "outputs": [],
      "source": [
        "hypothesis['ICE'] = round(hypothesis['confidence'] * hypothesis['impact'] / hypothesis['efforts'], 2)"
      ]
    },
    {
      "cell_type": "markdown",
      "metadata": {
        "id": "Nv-NbSNxCoPc"
      },
      "source": [
        "Выведем таблицу с гипотезами, отсортированную по убыванию ICE:"
      ]
    },
    {
      "cell_type": "code",
      "execution_count": 17,
      "metadata": {
        "id": "MbDysqeICoPc",
        "colab": {
          "base_uri": "https://localhost:8080/",
          "height": 331
        },
        "outputId": "fce09972-c6ed-45df-827f-603a1a20a31d"
      },
      "outputs": [
        {
          "output_type": "execute_result",
          "data": {
            "text/plain": [
              "                                                                                                     hypothesis  \\\n",
              "9                                                       Запустить акцию, дающую скидку на товар в день рождения   \n",
              "1            Добавить два новых канала привлечения трафика, что позволит привлекать на 30% больше пользователей   \n",
              "8              Добавить форму подписки на все основные страницы, чтобы собрать базу клиентов для email-рассылок   \n",
              "7          Показать на главной странице баннеры с актуальными акциями и распродажами, чтобы увеличить конверсию   \n",
              "3  Добавить блоки рекомендаций товаров на сайт интернет магазина, чтобы повысить конверсию и средний чек заказа   \n",
              "2                                     Запустить собственную службу доставки, что сократит срок доставки заказов   \n",
              "6                      Добавить страницу отзывов клиентов о магазине, что позволит увеличить количество заказов   \n",
              "4           Изменить структура категорий, что увеличит конверсию, т.к. пользователи быстрее найдут нужный товар   \n",
              "5                              Изменить цвет фона главной страницы, чтобы увеличить вовлеченность пользователей   \n",
              "\n",
              "   reach  impact  confidence  efforts    ICE  \n",
              "9      1       9           9        5  16.20  \n",
              "1      3      10           8        6  13.33  \n",
              "8     10       7           8        5  11.20  \n",
              "7      5       3           8        3   8.00  \n",
              "3      8       3           7        3   7.00  \n",
              "2      2       5           4       10   2.00  \n",
              "6      3       2           2        3   1.33  \n",
              "4      8       3           3        8   1.12  \n",
              "5      3       1           1        1   1.00  "
            ],
            "text/html": [
              "\n",
              "  <div id=\"df-3a85b967-71a2-40bc-aef6-dd60bd1e87dd\">\n",
              "    <div class=\"colab-df-container\">\n",
              "      <div>\n",
              "<style scoped>\n",
              "    .dataframe tbody tr th:only-of-type {\n",
              "        vertical-align: middle;\n",
              "    }\n",
              "\n",
              "    .dataframe tbody tr th {\n",
              "        vertical-align: top;\n",
              "    }\n",
              "\n",
              "    .dataframe thead th {\n",
              "        text-align: right;\n",
              "    }\n",
              "</style>\n",
              "<table border=\"1\" class=\"dataframe\">\n",
              "  <thead>\n",
              "    <tr style=\"text-align: right;\">\n",
              "      <th></th>\n",
              "      <th>hypothesis</th>\n",
              "      <th>reach</th>\n",
              "      <th>impact</th>\n",
              "      <th>confidence</th>\n",
              "      <th>efforts</th>\n",
              "      <th>ICE</th>\n",
              "    </tr>\n",
              "  </thead>\n",
              "  <tbody>\n",
              "    <tr>\n",
              "      <th>9</th>\n",
              "      <td>Запустить акцию, дающую скидку на товар в день рождения</td>\n",
              "      <td>1</td>\n",
              "      <td>9</td>\n",
              "      <td>9</td>\n",
              "      <td>5</td>\n",
              "      <td>16.20</td>\n",
              "    </tr>\n",
              "    <tr>\n",
              "      <th>1</th>\n",
              "      <td>Добавить два новых канала привлечения трафика, что позволит привлекать на 30% больше пользователей</td>\n",
              "      <td>3</td>\n",
              "      <td>10</td>\n",
              "      <td>8</td>\n",
              "      <td>6</td>\n",
              "      <td>13.33</td>\n",
              "    </tr>\n",
              "    <tr>\n",
              "      <th>8</th>\n",
              "      <td>Добавить форму подписки на все основные страницы, чтобы собрать базу клиентов для email-рассылок</td>\n",
              "      <td>10</td>\n",
              "      <td>7</td>\n",
              "      <td>8</td>\n",
              "      <td>5</td>\n",
              "      <td>11.20</td>\n",
              "    </tr>\n",
              "    <tr>\n",
              "      <th>7</th>\n",
              "      <td>Показать на главной странице баннеры с актуальными акциями и распродажами, чтобы увеличить конверсию</td>\n",
              "      <td>5</td>\n",
              "      <td>3</td>\n",
              "      <td>8</td>\n",
              "      <td>3</td>\n",
              "      <td>8.00</td>\n",
              "    </tr>\n",
              "    <tr>\n",
              "      <th>3</th>\n",
              "      <td>Добавить блоки рекомендаций товаров на сайт интернет магазина, чтобы повысить конверсию и средний чек заказа</td>\n",
              "      <td>8</td>\n",
              "      <td>3</td>\n",
              "      <td>7</td>\n",
              "      <td>3</td>\n",
              "      <td>7.00</td>\n",
              "    </tr>\n",
              "    <tr>\n",
              "      <th>2</th>\n",
              "      <td>Запустить собственную службу доставки, что сократит срок доставки заказов</td>\n",
              "      <td>2</td>\n",
              "      <td>5</td>\n",
              "      <td>4</td>\n",
              "      <td>10</td>\n",
              "      <td>2.00</td>\n",
              "    </tr>\n",
              "    <tr>\n",
              "      <th>6</th>\n",
              "      <td>Добавить страницу отзывов клиентов о магазине, что позволит увеличить количество заказов</td>\n",
              "      <td>3</td>\n",
              "      <td>2</td>\n",
              "      <td>2</td>\n",
              "      <td>3</td>\n",
              "      <td>1.33</td>\n",
              "    </tr>\n",
              "    <tr>\n",
              "      <th>4</th>\n",
              "      <td>Изменить структура категорий, что увеличит конверсию, т.к. пользователи быстрее найдут нужный товар</td>\n",
              "      <td>8</td>\n",
              "      <td>3</td>\n",
              "      <td>3</td>\n",
              "      <td>8</td>\n",
              "      <td>1.12</td>\n",
              "    </tr>\n",
              "    <tr>\n",
              "      <th>5</th>\n",
              "      <td>Изменить цвет фона главной страницы, чтобы увеличить вовлеченность пользователей</td>\n",
              "      <td>3</td>\n",
              "      <td>1</td>\n",
              "      <td>1</td>\n",
              "      <td>1</td>\n",
              "      <td>1.00</td>\n",
              "    </tr>\n",
              "  </tbody>\n",
              "</table>\n",
              "</div>\n",
              "      <button class=\"colab-df-convert\" onclick=\"convertToInteractive('df-3a85b967-71a2-40bc-aef6-dd60bd1e87dd')\"\n",
              "              title=\"Convert this dataframe to an interactive table.\"\n",
              "              style=\"display:none;\">\n",
              "        \n",
              "  <svg xmlns=\"http://www.w3.org/2000/svg\" height=\"24px\"viewBox=\"0 0 24 24\"\n",
              "       width=\"24px\">\n",
              "    <path d=\"M0 0h24v24H0V0z\" fill=\"none\"/>\n",
              "    <path d=\"M18.56 5.44l.94 2.06.94-2.06 2.06-.94-2.06-.94-.94-2.06-.94 2.06-2.06.94zm-11 1L8.5 8.5l.94-2.06 2.06-.94-2.06-.94L8.5 2.5l-.94 2.06-2.06.94zm10 10l.94 2.06.94-2.06 2.06-.94-2.06-.94-.94-2.06-.94 2.06-2.06.94z\"/><path d=\"M17.41 7.96l-1.37-1.37c-.4-.4-.92-.59-1.43-.59-.52 0-1.04.2-1.43.59L10.3 9.45l-7.72 7.72c-.78.78-.78 2.05 0 2.83L4 21.41c.39.39.9.59 1.41.59.51 0 1.02-.2 1.41-.59l7.78-7.78 2.81-2.81c.8-.78.8-2.07 0-2.86zM5.41 20L4 18.59l7.72-7.72 1.47 1.35L5.41 20z\"/>\n",
              "  </svg>\n",
              "      </button>\n",
              "      \n",
              "  <style>\n",
              "    .colab-df-container {\n",
              "      display:flex;\n",
              "      flex-wrap:wrap;\n",
              "      gap: 12px;\n",
              "    }\n",
              "\n",
              "    .colab-df-convert {\n",
              "      background-color: #E8F0FE;\n",
              "      border: none;\n",
              "      border-radius: 50%;\n",
              "      cursor: pointer;\n",
              "      display: none;\n",
              "      fill: #1967D2;\n",
              "      height: 32px;\n",
              "      padding: 0 0 0 0;\n",
              "      width: 32px;\n",
              "    }\n",
              "\n",
              "    .colab-df-convert:hover {\n",
              "      background-color: #E2EBFA;\n",
              "      box-shadow: 0px 1px 2px rgba(60, 64, 67, 0.3), 0px 1px 3px 1px rgba(60, 64, 67, 0.15);\n",
              "      fill: #174EA6;\n",
              "    }\n",
              "\n",
              "    [theme=dark] .colab-df-convert {\n",
              "      background-color: #3B4455;\n",
              "      fill: #D2E3FC;\n",
              "    }\n",
              "\n",
              "    [theme=dark] .colab-df-convert:hover {\n",
              "      background-color: #434B5C;\n",
              "      box-shadow: 0px 1px 3px 1px rgba(0, 0, 0, 0.15);\n",
              "      filter: drop-shadow(0px 1px 2px rgba(0, 0, 0, 0.3));\n",
              "      fill: #FFFFFF;\n",
              "    }\n",
              "  </style>\n",
              "\n",
              "      <script>\n",
              "        const buttonEl =\n",
              "          document.querySelector('#df-3a85b967-71a2-40bc-aef6-dd60bd1e87dd button.colab-df-convert');\n",
              "        buttonEl.style.display =\n",
              "          google.colab.kernel.accessAllowed ? 'block' : 'none';\n",
              "\n",
              "        async function convertToInteractive(key) {\n",
              "          const element = document.querySelector('#df-3a85b967-71a2-40bc-aef6-dd60bd1e87dd');\n",
              "          const dataTable =\n",
              "            await google.colab.kernel.invokeFunction('convertToInteractive',\n",
              "                                                     [key], {});\n",
              "          if (!dataTable) return;\n",
              "\n",
              "          const docLinkHtml = 'Like what you see? Visit the ' +\n",
              "            '<a target=\"_blank\" href=https://colab.research.google.com/notebooks/data_table.ipynb>data table notebook</a>'\n",
              "            + ' to learn more about interactive tables.';\n",
              "          element.innerHTML = '';\n",
              "          dataTable['output_type'] = 'display_data';\n",
              "          await google.colab.output.renderOutput(dataTable, element);\n",
              "          const docLink = document.createElement('div');\n",
              "          docLink.innerHTML = docLinkHtml;\n",
              "          element.appendChild(docLink);\n",
              "        }\n",
              "      </script>\n",
              "    </div>\n",
              "  </div>\n",
              "  "
            ]
          },
          "metadata": {},
          "execution_count": 17
        }
      ],
      "source": [
        "hypothesis.sort_values(by='ICE',ascending=False)"
      ]
    },
    {
      "cell_type": "markdown",
      "metadata": {
        "id": "ix9ax8o1CoPd"
      },
      "source": [
        "Применим фреймворк RICE для приоритизации гипотез:"
      ]
    },
    {
      "cell_type": "code",
      "execution_count": 18,
      "metadata": {
        "id": "htmCTNVQCoPd"
      },
      "outputs": [],
      "source": [
        "hypothesis['RICE'] = (hypothesis['reach'] * hypothesis['impact'] * hypothesis['confidence']) / hypothesis['efforts']"
      ]
    },
    {
      "cell_type": "markdown",
      "metadata": {
        "id": "J4nD0yt_CoPd"
      },
      "source": [
        "Выведем таблицу с гипотезами, отсортированную по убыванию RICE:"
      ]
    },
    {
      "cell_type": "code",
      "execution_count": 19,
      "metadata": {
        "id": "iBJ9Zd-DCoPd",
        "colab": {
          "base_uri": "https://localhost:8080/",
          "height": 331
        },
        "outputId": "91269664-bd07-4a3c-e389-8c9fec859893"
      },
      "outputs": [
        {
          "output_type": "execute_result",
          "data": {
            "text/plain": [
              "                                                                                                     hypothesis  \\\n",
              "8              Добавить форму подписки на все основные страницы, чтобы собрать базу клиентов для email-рассылок   \n",
              "3  Добавить блоки рекомендаций товаров на сайт интернет магазина, чтобы повысить конверсию и средний чек заказа   \n",
              "1            Добавить два новых канала привлечения трафика, что позволит привлекать на 30% больше пользователей   \n",
              "7          Показать на главной странице баннеры с актуальными акциями и распродажами, чтобы увеличить конверсию   \n",
              "9                                                       Запустить акцию, дающую скидку на товар в день рождения   \n",
              "4           Изменить структура категорий, что увеличит конверсию, т.к. пользователи быстрее найдут нужный товар   \n",
              "2                                     Запустить собственную службу доставки, что сократит срок доставки заказов   \n",
              "6                      Добавить страницу отзывов клиентов о магазине, что позволит увеличить количество заказов   \n",
              "5                              Изменить цвет фона главной страницы, чтобы увеличить вовлеченность пользователей   \n",
              "\n",
              "   reach  impact  confidence  efforts    ICE   RICE  \n",
              "8     10       7           8        5  11.20  112.0  \n",
              "3      8       3           7        3   7.00   56.0  \n",
              "1      3      10           8        6  13.33   40.0  \n",
              "7      5       3           8        3   8.00   40.0  \n",
              "9      1       9           9        5  16.20   16.2  \n",
              "4      8       3           3        8   1.12    9.0  \n",
              "2      2       5           4       10   2.00    4.0  \n",
              "6      3       2           2        3   1.33    4.0  \n",
              "5      3       1           1        1   1.00    3.0  "
            ],
            "text/html": [
              "\n",
              "  <div id=\"df-44194f7e-bc16-4f71-ba45-77440fba90a3\">\n",
              "    <div class=\"colab-df-container\">\n",
              "      <div>\n",
              "<style scoped>\n",
              "    .dataframe tbody tr th:only-of-type {\n",
              "        vertical-align: middle;\n",
              "    }\n",
              "\n",
              "    .dataframe tbody tr th {\n",
              "        vertical-align: top;\n",
              "    }\n",
              "\n",
              "    .dataframe thead th {\n",
              "        text-align: right;\n",
              "    }\n",
              "</style>\n",
              "<table border=\"1\" class=\"dataframe\">\n",
              "  <thead>\n",
              "    <tr style=\"text-align: right;\">\n",
              "      <th></th>\n",
              "      <th>hypothesis</th>\n",
              "      <th>reach</th>\n",
              "      <th>impact</th>\n",
              "      <th>confidence</th>\n",
              "      <th>efforts</th>\n",
              "      <th>ICE</th>\n",
              "      <th>RICE</th>\n",
              "    </tr>\n",
              "  </thead>\n",
              "  <tbody>\n",
              "    <tr>\n",
              "      <th>8</th>\n",
              "      <td>Добавить форму подписки на все основные страницы, чтобы собрать базу клиентов для email-рассылок</td>\n",
              "      <td>10</td>\n",
              "      <td>7</td>\n",
              "      <td>8</td>\n",
              "      <td>5</td>\n",
              "      <td>11.20</td>\n",
              "      <td>112.0</td>\n",
              "    </tr>\n",
              "    <tr>\n",
              "      <th>3</th>\n",
              "      <td>Добавить блоки рекомендаций товаров на сайт интернет магазина, чтобы повысить конверсию и средний чек заказа</td>\n",
              "      <td>8</td>\n",
              "      <td>3</td>\n",
              "      <td>7</td>\n",
              "      <td>3</td>\n",
              "      <td>7.00</td>\n",
              "      <td>56.0</td>\n",
              "    </tr>\n",
              "    <tr>\n",
              "      <th>1</th>\n",
              "      <td>Добавить два новых канала привлечения трафика, что позволит привлекать на 30% больше пользователей</td>\n",
              "      <td>3</td>\n",
              "      <td>10</td>\n",
              "      <td>8</td>\n",
              "      <td>6</td>\n",
              "      <td>13.33</td>\n",
              "      <td>40.0</td>\n",
              "    </tr>\n",
              "    <tr>\n",
              "      <th>7</th>\n",
              "      <td>Показать на главной странице баннеры с актуальными акциями и распродажами, чтобы увеличить конверсию</td>\n",
              "      <td>5</td>\n",
              "      <td>3</td>\n",
              "      <td>8</td>\n",
              "      <td>3</td>\n",
              "      <td>8.00</td>\n",
              "      <td>40.0</td>\n",
              "    </tr>\n",
              "    <tr>\n",
              "      <th>9</th>\n",
              "      <td>Запустить акцию, дающую скидку на товар в день рождения</td>\n",
              "      <td>1</td>\n",
              "      <td>9</td>\n",
              "      <td>9</td>\n",
              "      <td>5</td>\n",
              "      <td>16.20</td>\n",
              "      <td>16.2</td>\n",
              "    </tr>\n",
              "    <tr>\n",
              "      <th>4</th>\n",
              "      <td>Изменить структура категорий, что увеличит конверсию, т.к. пользователи быстрее найдут нужный товар</td>\n",
              "      <td>8</td>\n",
              "      <td>3</td>\n",
              "      <td>3</td>\n",
              "      <td>8</td>\n",
              "      <td>1.12</td>\n",
              "      <td>9.0</td>\n",
              "    </tr>\n",
              "    <tr>\n",
              "      <th>2</th>\n",
              "      <td>Запустить собственную службу доставки, что сократит срок доставки заказов</td>\n",
              "      <td>2</td>\n",
              "      <td>5</td>\n",
              "      <td>4</td>\n",
              "      <td>10</td>\n",
              "      <td>2.00</td>\n",
              "      <td>4.0</td>\n",
              "    </tr>\n",
              "    <tr>\n",
              "      <th>6</th>\n",
              "      <td>Добавить страницу отзывов клиентов о магазине, что позволит увеличить количество заказов</td>\n",
              "      <td>3</td>\n",
              "      <td>2</td>\n",
              "      <td>2</td>\n",
              "      <td>3</td>\n",
              "      <td>1.33</td>\n",
              "      <td>4.0</td>\n",
              "    </tr>\n",
              "    <tr>\n",
              "      <th>5</th>\n",
              "      <td>Изменить цвет фона главной страницы, чтобы увеличить вовлеченность пользователей</td>\n",
              "      <td>3</td>\n",
              "      <td>1</td>\n",
              "      <td>1</td>\n",
              "      <td>1</td>\n",
              "      <td>1.00</td>\n",
              "      <td>3.0</td>\n",
              "    </tr>\n",
              "  </tbody>\n",
              "</table>\n",
              "</div>\n",
              "      <button class=\"colab-df-convert\" onclick=\"convertToInteractive('df-44194f7e-bc16-4f71-ba45-77440fba90a3')\"\n",
              "              title=\"Convert this dataframe to an interactive table.\"\n",
              "              style=\"display:none;\">\n",
              "        \n",
              "  <svg xmlns=\"http://www.w3.org/2000/svg\" height=\"24px\"viewBox=\"0 0 24 24\"\n",
              "       width=\"24px\">\n",
              "    <path d=\"M0 0h24v24H0V0z\" fill=\"none\"/>\n",
              "    <path d=\"M18.56 5.44l.94 2.06.94-2.06 2.06-.94-2.06-.94-.94-2.06-.94 2.06-2.06.94zm-11 1L8.5 8.5l.94-2.06 2.06-.94-2.06-.94L8.5 2.5l-.94 2.06-2.06.94zm10 10l.94 2.06.94-2.06 2.06-.94-2.06-.94-.94-2.06-.94 2.06-2.06.94z\"/><path d=\"M17.41 7.96l-1.37-1.37c-.4-.4-.92-.59-1.43-.59-.52 0-1.04.2-1.43.59L10.3 9.45l-7.72 7.72c-.78.78-.78 2.05 0 2.83L4 21.41c.39.39.9.59 1.41.59.51 0 1.02-.2 1.41-.59l7.78-7.78 2.81-2.81c.8-.78.8-2.07 0-2.86zM5.41 20L4 18.59l7.72-7.72 1.47 1.35L5.41 20z\"/>\n",
              "  </svg>\n",
              "      </button>\n",
              "      \n",
              "  <style>\n",
              "    .colab-df-container {\n",
              "      display:flex;\n",
              "      flex-wrap:wrap;\n",
              "      gap: 12px;\n",
              "    }\n",
              "\n",
              "    .colab-df-convert {\n",
              "      background-color: #E8F0FE;\n",
              "      border: none;\n",
              "      border-radius: 50%;\n",
              "      cursor: pointer;\n",
              "      display: none;\n",
              "      fill: #1967D2;\n",
              "      height: 32px;\n",
              "      padding: 0 0 0 0;\n",
              "      width: 32px;\n",
              "    }\n",
              "\n",
              "    .colab-df-convert:hover {\n",
              "      background-color: #E2EBFA;\n",
              "      box-shadow: 0px 1px 2px rgba(60, 64, 67, 0.3), 0px 1px 3px 1px rgba(60, 64, 67, 0.15);\n",
              "      fill: #174EA6;\n",
              "    }\n",
              "\n",
              "    [theme=dark] .colab-df-convert {\n",
              "      background-color: #3B4455;\n",
              "      fill: #D2E3FC;\n",
              "    }\n",
              "\n",
              "    [theme=dark] .colab-df-convert:hover {\n",
              "      background-color: #434B5C;\n",
              "      box-shadow: 0px 1px 3px 1px rgba(0, 0, 0, 0.15);\n",
              "      filter: drop-shadow(0px 1px 2px rgba(0, 0, 0, 0.3));\n",
              "      fill: #FFFFFF;\n",
              "    }\n",
              "  </style>\n",
              "\n",
              "      <script>\n",
              "        const buttonEl =\n",
              "          document.querySelector('#df-44194f7e-bc16-4f71-ba45-77440fba90a3 button.colab-df-convert');\n",
              "        buttonEl.style.display =\n",
              "          google.colab.kernel.accessAllowed ? 'block' : 'none';\n",
              "\n",
              "        async function convertToInteractive(key) {\n",
              "          const element = document.querySelector('#df-44194f7e-bc16-4f71-ba45-77440fba90a3');\n",
              "          const dataTable =\n",
              "            await google.colab.kernel.invokeFunction('convertToInteractive',\n",
              "                                                     [key], {});\n",
              "          if (!dataTable) return;\n",
              "\n",
              "          const docLinkHtml = 'Like what you see? Visit the ' +\n",
              "            '<a target=\"_blank\" href=https://colab.research.google.com/notebooks/data_table.ipynb>data table notebook</a>'\n",
              "            + ' to learn more about interactive tables.';\n",
              "          element.innerHTML = '';\n",
              "          dataTable['output_type'] = 'display_data';\n",
              "          await google.colab.output.renderOutput(dataTable, element);\n",
              "          const docLink = document.createElement('div');\n",
              "          docLink.innerHTML = docLinkHtml;\n",
              "          element.appendChild(docLink);\n",
              "        }\n",
              "      </script>\n",
              "    </div>\n",
              "  </div>\n",
              "  "
            ]
          },
          "metadata": {},
          "execution_count": 19
        }
      ],
      "source": [
        "hypothesis.sort_values(by='RICE',ascending=False)"
      ]
    },
    {
      "cell_type": "markdown",
      "metadata": {
        "id": "Hpk05OeXCoPd"
      },
      "source": [
        "<div style=\"border: solid green 2px; padding: 20px\">\n",
        "    \n",
        "**Выводы**\n",
        "\n",
        "* В случае приоритизации методом ICE на первом месте оказалась гипотеза \"Запустить акцию, дающую скидку на товар в день рождения\". При использовании метода RICE данная гипотеза опустилась на пятое место, а наиболее приоритетной стала гипотеза \"Добавить форму подписки на все основные страницы, чтобы собрать базу клиентов для email-рассылок\", которая в методе ICE занимала 3 место.\n",
        "* Гипотезы, которые занимают последние места в обоих случаях:\n",
        " - Изменить структура категорий, что увеличит конверсию, т.к. пользователи быстрее найдут нужный товар;\n",
        " - Запустить собственную службу доставки, что сократит срок доставки заказов;\n",
        " - Добавить страницу отзывов клиентов о магазине, что позволит увеличить количество заказов\n",
        " - Изменить цвет фона главной страницы, чтобы увеличить вовлеченность пользователей\t",
        "</div>"
      ]
    },
    {
      "cell_type": "markdown",
      "metadata": {
        "id": "7K9-xtZuCoPe"
      },
      "source": [
        "<a name=\"4\"><h2>4 Анализ А/В теста</h2></a>"
      ]
    },
    {
      "cell_type": "markdown",
      "metadata": {
        "id": "4OnFR4rFCoPe"
      },
      "source": [
        "<a name=\"4.1\"><h3>4.1 Кумулятивная выручка по группам</h3></a>"
      ]
    },
    {
      "cell_type": "markdown",
      "metadata": {
        "id": "jgRfhp7pCoPe"
      },
      "source": [
        "Подсчитаем количество пользователей в группах А и В:"
      ]
    },
    {
      "cell_type": "code",
      "execution_count": 20,
      "metadata": {
        "id": "fHHU7WlnCoPe",
        "colab": {
          "base_uri": "https://localhost:8080/",
          "height": 143
        },
        "outputId": "4c48e9e2-d6f4-4da6-ef8a-22fda7f2aea2"
      },
      "outputs": [
        {
          "output_type": "execute_result",
          "data": {
            "text/plain": [
              "       visitorId\n",
              "group           \n",
              "A            503\n",
              "B            586"
            ],
            "text/html": [
              "\n",
              "  <div id=\"df-1ab13133-bc0c-4c78-8950-01b6216c6f52\">\n",
              "    <div class=\"colab-df-container\">\n",
              "      <div>\n",
              "<style scoped>\n",
              "    .dataframe tbody tr th:only-of-type {\n",
              "        vertical-align: middle;\n",
              "    }\n",
              "\n",
              "    .dataframe tbody tr th {\n",
              "        vertical-align: top;\n",
              "    }\n",
              "\n",
              "    .dataframe thead th {\n",
              "        text-align: right;\n",
              "    }\n",
              "</style>\n",
              "<table border=\"1\" class=\"dataframe\">\n",
              "  <thead>\n",
              "    <tr style=\"text-align: right;\">\n",
              "      <th></th>\n",
              "      <th>visitorId</th>\n",
              "    </tr>\n",
              "    <tr>\n",
              "      <th>group</th>\n",
              "      <th></th>\n",
              "    </tr>\n",
              "  </thead>\n",
              "  <tbody>\n",
              "    <tr>\n",
              "      <th>A</th>\n",
              "      <td>503</td>\n",
              "    </tr>\n",
              "    <tr>\n",
              "      <th>B</th>\n",
              "      <td>586</td>\n",
              "    </tr>\n",
              "  </tbody>\n",
              "</table>\n",
              "</div>\n",
              "      <button class=\"colab-df-convert\" onclick=\"convertToInteractive('df-1ab13133-bc0c-4c78-8950-01b6216c6f52')\"\n",
              "              title=\"Convert this dataframe to an interactive table.\"\n",
              "              style=\"display:none;\">\n",
              "        \n",
              "  <svg xmlns=\"http://www.w3.org/2000/svg\" height=\"24px\"viewBox=\"0 0 24 24\"\n",
              "       width=\"24px\">\n",
              "    <path d=\"M0 0h24v24H0V0z\" fill=\"none\"/>\n",
              "    <path d=\"M18.56 5.44l.94 2.06.94-2.06 2.06-.94-2.06-.94-.94-2.06-.94 2.06-2.06.94zm-11 1L8.5 8.5l.94-2.06 2.06-.94-2.06-.94L8.5 2.5l-.94 2.06-2.06.94zm10 10l.94 2.06.94-2.06 2.06-.94-2.06-.94-.94-2.06-.94 2.06-2.06.94z\"/><path d=\"M17.41 7.96l-1.37-1.37c-.4-.4-.92-.59-1.43-.59-.52 0-1.04.2-1.43.59L10.3 9.45l-7.72 7.72c-.78.78-.78 2.05 0 2.83L4 21.41c.39.39.9.59 1.41.59.51 0 1.02-.2 1.41-.59l7.78-7.78 2.81-2.81c.8-.78.8-2.07 0-2.86zM5.41 20L4 18.59l7.72-7.72 1.47 1.35L5.41 20z\"/>\n",
              "  </svg>\n",
              "      </button>\n",
              "      \n",
              "  <style>\n",
              "    .colab-df-container {\n",
              "      display:flex;\n",
              "      flex-wrap:wrap;\n",
              "      gap: 12px;\n",
              "    }\n",
              "\n",
              "    .colab-df-convert {\n",
              "      background-color: #E8F0FE;\n",
              "      border: none;\n",
              "      border-radius: 50%;\n",
              "      cursor: pointer;\n",
              "      display: none;\n",
              "      fill: #1967D2;\n",
              "      height: 32px;\n",
              "      padding: 0 0 0 0;\n",
              "      width: 32px;\n",
              "    }\n",
              "\n",
              "    .colab-df-convert:hover {\n",
              "      background-color: #E2EBFA;\n",
              "      box-shadow: 0px 1px 2px rgba(60, 64, 67, 0.3), 0px 1px 3px 1px rgba(60, 64, 67, 0.15);\n",
              "      fill: #174EA6;\n",
              "    }\n",
              "\n",
              "    [theme=dark] .colab-df-convert {\n",
              "      background-color: #3B4455;\n",
              "      fill: #D2E3FC;\n",
              "    }\n",
              "\n",
              "    [theme=dark] .colab-df-convert:hover {\n",
              "      background-color: #434B5C;\n",
              "      box-shadow: 0px 1px 3px 1px rgba(0, 0, 0, 0.15);\n",
              "      filter: drop-shadow(0px 1px 2px rgba(0, 0, 0, 0.3));\n",
              "      fill: #FFFFFF;\n",
              "    }\n",
              "  </style>\n",
              "\n",
              "      <script>\n",
              "        const buttonEl =\n",
              "          document.querySelector('#df-1ab13133-bc0c-4c78-8950-01b6216c6f52 button.colab-df-convert');\n",
              "        buttonEl.style.display =\n",
              "          google.colab.kernel.accessAllowed ? 'block' : 'none';\n",
              "\n",
              "        async function convertToInteractive(key) {\n",
              "          const element = document.querySelector('#df-1ab13133-bc0c-4c78-8950-01b6216c6f52');\n",
              "          const dataTable =\n",
              "            await google.colab.kernel.invokeFunction('convertToInteractive',\n",
              "                                                     [key], {});\n",
              "          if (!dataTable) return;\n",
              "\n",
              "          const docLinkHtml = 'Like what you see? Visit the ' +\n",
              "            '<a target=\"_blank\" href=https://colab.research.google.com/notebooks/data_table.ipynb>data table notebook</a>'\n",
              "            + ' to learn more about interactive tables.';\n",
              "          element.innerHTML = '';\n",
              "          dataTable['output_type'] = 'display_data';\n",
              "          await google.colab.output.renderOutput(dataTable, element);\n",
              "          const docLink = document.createElement('div');\n",
              "          docLink.innerHTML = docLinkHtml;\n",
              "          element.appendChild(docLink);\n",
              "        }\n",
              "      </script>\n",
              "    </div>\n",
              "  </div>\n",
              "  "
            ]
          },
          "metadata": {},
          "execution_count": 20
        }
      ],
      "source": [
        "orders.groupby('group').agg({'visitorId' : 'nunique'})"
      ]
    },
    {
      "cell_type": "markdown",
      "metadata": {
        "id": "pY_QzNJqCoPe"
      },
      "source": [
        "Проверим, есть ли пользователи, которые попали в обе группы:"
      ]
    },
    {
      "cell_type": "code",
      "execution_count": 21,
      "metadata": {
        "id": "_13MYvjqCoPe",
        "colab": {
          "base_uri": "https://localhost:8080/"
        },
        "outputId": "84cd5171-d78d-4548-e07c-186945e1e16f"
      },
      "outputs": [
        {
          "output_type": "execute_result",
          "data": {
            "text/plain": [
              "58"
            ]
          },
          "metadata": {},
          "execution_count": 21
        }
      ],
      "source": [
        "dubl_visitorId = orders.drop_duplicates(subset=['visitorId', 'group'])\n",
        "dubl_visitorId = dubl_visitorId.groupby('visitorId', as_index=False)['group'].count().query('group == 2')\n",
        "dubl_visitorId = dubl_visitorId['visitorId'].reset_index(drop=True)\n",
        "len(dubl_visitorId)"
      ]
    },
    {
      "cell_type": "markdown",
      "metadata": {
        "id": "y8zqo63ACoPe"
      },
      "source": [
        "В таблице обнаружено 58 пользователей, которые есть в обоих тестовых группах. Исключим их, обновив таблицу orders:"
      ]
    },
    {
      "cell_type": "code",
      "execution_count": 22,
      "metadata": {
        "id": "c2gXWxdCCoPf"
      },
      "outputs": [],
      "source": [
        "orders = orders.query('visitorId not in @dubl_visitorId')"
      ]
    },
    {
      "cell_type": "markdown",
      "metadata": {
        "id": "eD_hIBoWCoPf"
      },
      "source": [
        "Проверим, что дубликаты были удалены:"
      ]
    },
    {
      "cell_type": "code",
      "execution_count": 23,
      "metadata": {
        "id": "JIBfrFeWCoPf",
        "colab": {
          "base_uri": "https://localhost:8080/",
          "height": 143
        },
        "outputId": "4bf49973-bfcc-4b24-b95f-509ebf716af3"
      },
      "outputs": [
        {
          "output_type": "execute_result",
          "data": {
            "text/plain": [
              "       visitorId\n",
              "group           \n",
              "A            445\n",
              "B            528"
            ],
            "text/html": [
              "\n",
              "  <div id=\"df-2ba1aeed-1d70-4b35-9382-37f52b6866b2\">\n",
              "    <div class=\"colab-df-container\">\n",
              "      <div>\n",
              "<style scoped>\n",
              "    .dataframe tbody tr th:only-of-type {\n",
              "        vertical-align: middle;\n",
              "    }\n",
              "\n",
              "    .dataframe tbody tr th {\n",
              "        vertical-align: top;\n",
              "    }\n",
              "\n",
              "    .dataframe thead th {\n",
              "        text-align: right;\n",
              "    }\n",
              "</style>\n",
              "<table border=\"1\" class=\"dataframe\">\n",
              "  <thead>\n",
              "    <tr style=\"text-align: right;\">\n",
              "      <th></th>\n",
              "      <th>visitorId</th>\n",
              "    </tr>\n",
              "    <tr>\n",
              "      <th>group</th>\n",
              "      <th></th>\n",
              "    </tr>\n",
              "  </thead>\n",
              "  <tbody>\n",
              "    <tr>\n",
              "      <th>A</th>\n",
              "      <td>445</td>\n",
              "    </tr>\n",
              "    <tr>\n",
              "      <th>B</th>\n",
              "      <td>528</td>\n",
              "    </tr>\n",
              "  </tbody>\n",
              "</table>\n",
              "</div>\n",
              "      <button class=\"colab-df-convert\" onclick=\"convertToInteractive('df-2ba1aeed-1d70-4b35-9382-37f52b6866b2')\"\n",
              "              title=\"Convert this dataframe to an interactive table.\"\n",
              "              style=\"display:none;\">\n",
              "        \n",
              "  <svg xmlns=\"http://www.w3.org/2000/svg\" height=\"24px\"viewBox=\"0 0 24 24\"\n",
              "       width=\"24px\">\n",
              "    <path d=\"M0 0h24v24H0V0z\" fill=\"none\"/>\n",
              "    <path d=\"M18.56 5.44l.94 2.06.94-2.06 2.06-.94-2.06-.94-.94-2.06-.94 2.06-2.06.94zm-11 1L8.5 8.5l.94-2.06 2.06-.94-2.06-.94L8.5 2.5l-.94 2.06-2.06.94zm10 10l.94 2.06.94-2.06 2.06-.94-2.06-.94-.94-2.06-.94 2.06-2.06.94z\"/><path d=\"M17.41 7.96l-1.37-1.37c-.4-.4-.92-.59-1.43-.59-.52 0-1.04.2-1.43.59L10.3 9.45l-7.72 7.72c-.78.78-.78 2.05 0 2.83L4 21.41c.39.39.9.59 1.41.59.51 0 1.02-.2 1.41-.59l7.78-7.78 2.81-2.81c.8-.78.8-2.07 0-2.86zM5.41 20L4 18.59l7.72-7.72 1.47 1.35L5.41 20z\"/>\n",
              "  </svg>\n",
              "      </button>\n",
              "      \n",
              "  <style>\n",
              "    .colab-df-container {\n",
              "      display:flex;\n",
              "      flex-wrap:wrap;\n",
              "      gap: 12px;\n",
              "    }\n",
              "\n",
              "    .colab-df-convert {\n",
              "      background-color: #E8F0FE;\n",
              "      border: none;\n",
              "      border-radius: 50%;\n",
              "      cursor: pointer;\n",
              "      display: none;\n",
              "      fill: #1967D2;\n",
              "      height: 32px;\n",
              "      padding: 0 0 0 0;\n",
              "      width: 32px;\n",
              "    }\n",
              "\n",
              "    .colab-df-convert:hover {\n",
              "      background-color: #E2EBFA;\n",
              "      box-shadow: 0px 1px 2px rgba(60, 64, 67, 0.3), 0px 1px 3px 1px rgba(60, 64, 67, 0.15);\n",
              "      fill: #174EA6;\n",
              "    }\n",
              "\n",
              "    [theme=dark] .colab-df-convert {\n",
              "      background-color: #3B4455;\n",
              "      fill: #D2E3FC;\n",
              "    }\n",
              "\n",
              "    [theme=dark] .colab-df-convert:hover {\n",
              "      background-color: #434B5C;\n",
              "      box-shadow: 0px 1px 3px 1px rgba(0, 0, 0, 0.15);\n",
              "      filter: drop-shadow(0px 1px 2px rgba(0, 0, 0, 0.3));\n",
              "      fill: #FFFFFF;\n",
              "    }\n",
              "  </style>\n",
              "\n",
              "      <script>\n",
              "        const buttonEl =\n",
              "          document.querySelector('#df-2ba1aeed-1d70-4b35-9382-37f52b6866b2 button.colab-df-convert');\n",
              "        buttonEl.style.display =\n",
              "          google.colab.kernel.accessAllowed ? 'block' : 'none';\n",
              "\n",
              "        async function convertToInteractive(key) {\n",
              "          const element = document.querySelector('#df-2ba1aeed-1d70-4b35-9382-37f52b6866b2');\n",
              "          const dataTable =\n",
              "            await google.colab.kernel.invokeFunction('convertToInteractive',\n",
              "                                                     [key], {});\n",
              "          if (!dataTable) return;\n",
              "\n",
              "          const docLinkHtml = 'Like what you see? Visit the ' +\n",
              "            '<a target=\"_blank\" href=https://colab.research.google.com/notebooks/data_table.ipynb>data table notebook</a>'\n",
              "            + ' to learn more about interactive tables.';\n",
              "          element.innerHTML = '';\n",
              "          dataTable['output_type'] = 'display_data';\n",
              "          await google.colab.output.renderOutput(dataTable, element);\n",
              "          const docLink = document.createElement('div');\n",
              "          docLink.innerHTML = docLinkHtml;\n",
              "          element.appendChild(docLink);\n",
              "        }\n",
              "      </script>\n",
              "    </div>\n",
              "  </div>\n",
              "  "
            ]
          },
          "metadata": {},
          "execution_count": 23
        }
      ],
      "source": [
        "orders.groupby('group').agg({'visitorId' : 'nunique'})"
      ]
    },
    {
      "cell_type": "markdown",
      "metadata": {
        "id": "zKglTfZpCoPf"
      },
      "source": [
        "Создадим массив уникальных пар значений дат и групп теста методом drop_duplicates():"
      ]
    },
    {
      "cell_type": "code",
      "execution_count": 24,
      "metadata": {
        "id": "xVBDt7H4CoPf",
        "colab": {
          "base_uri": "https://localhost:8080/",
          "height": 206
        },
        "outputId": "dc539dfc-4837-406d-b54c-b0beadcf5912"
      },
      "outputs": [
        {
          "output_type": "execute_result",
          "data": {
            "text/plain": [
              "         date group\n",
              "0  2019-08-15     B\n",
              "7  2019-08-15     A\n",
              "45 2019-08-16     A\n",
              "47 2019-08-16     B\n",
              "55 2019-08-01     A"
            ],
            "text/html": [
              "\n",
              "  <div id=\"df-0130f7d2-8b84-4221-b05e-04d93be65b81\">\n",
              "    <div class=\"colab-df-container\">\n",
              "      <div>\n",
              "<style scoped>\n",
              "    .dataframe tbody tr th:only-of-type {\n",
              "        vertical-align: middle;\n",
              "    }\n",
              "\n",
              "    .dataframe tbody tr th {\n",
              "        vertical-align: top;\n",
              "    }\n",
              "\n",
              "    .dataframe thead th {\n",
              "        text-align: right;\n",
              "    }\n",
              "</style>\n",
              "<table border=\"1\" class=\"dataframe\">\n",
              "  <thead>\n",
              "    <tr style=\"text-align: right;\">\n",
              "      <th></th>\n",
              "      <th>date</th>\n",
              "      <th>group</th>\n",
              "    </tr>\n",
              "  </thead>\n",
              "  <tbody>\n",
              "    <tr>\n",
              "      <th>0</th>\n",
              "      <td>2019-08-15</td>\n",
              "      <td>B</td>\n",
              "    </tr>\n",
              "    <tr>\n",
              "      <th>7</th>\n",
              "      <td>2019-08-15</td>\n",
              "      <td>A</td>\n",
              "    </tr>\n",
              "    <tr>\n",
              "      <th>45</th>\n",
              "      <td>2019-08-16</td>\n",
              "      <td>A</td>\n",
              "    </tr>\n",
              "    <tr>\n",
              "      <th>47</th>\n",
              "      <td>2019-08-16</td>\n",
              "      <td>B</td>\n",
              "    </tr>\n",
              "    <tr>\n",
              "      <th>55</th>\n",
              "      <td>2019-08-01</td>\n",
              "      <td>A</td>\n",
              "    </tr>\n",
              "  </tbody>\n",
              "</table>\n",
              "</div>\n",
              "      <button class=\"colab-df-convert\" onclick=\"convertToInteractive('df-0130f7d2-8b84-4221-b05e-04d93be65b81')\"\n",
              "              title=\"Convert this dataframe to an interactive table.\"\n",
              "              style=\"display:none;\">\n",
              "        \n",
              "  <svg xmlns=\"http://www.w3.org/2000/svg\" height=\"24px\"viewBox=\"0 0 24 24\"\n",
              "       width=\"24px\">\n",
              "    <path d=\"M0 0h24v24H0V0z\" fill=\"none\"/>\n",
              "    <path d=\"M18.56 5.44l.94 2.06.94-2.06 2.06-.94-2.06-.94-.94-2.06-.94 2.06-2.06.94zm-11 1L8.5 8.5l.94-2.06 2.06-.94-2.06-.94L8.5 2.5l-.94 2.06-2.06.94zm10 10l.94 2.06.94-2.06 2.06-.94-2.06-.94-.94-2.06-.94 2.06-2.06.94z\"/><path d=\"M17.41 7.96l-1.37-1.37c-.4-.4-.92-.59-1.43-.59-.52 0-1.04.2-1.43.59L10.3 9.45l-7.72 7.72c-.78.78-.78 2.05 0 2.83L4 21.41c.39.39.9.59 1.41.59.51 0 1.02-.2 1.41-.59l7.78-7.78 2.81-2.81c.8-.78.8-2.07 0-2.86zM5.41 20L4 18.59l7.72-7.72 1.47 1.35L5.41 20z\"/>\n",
              "  </svg>\n",
              "      </button>\n",
              "      \n",
              "  <style>\n",
              "    .colab-df-container {\n",
              "      display:flex;\n",
              "      flex-wrap:wrap;\n",
              "      gap: 12px;\n",
              "    }\n",
              "\n",
              "    .colab-df-convert {\n",
              "      background-color: #E8F0FE;\n",
              "      border: none;\n",
              "      border-radius: 50%;\n",
              "      cursor: pointer;\n",
              "      display: none;\n",
              "      fill: #1967D2;\n",
              "      height: 32px;\n",
              "      padding: 0 0 0 0;\n",
              "      width: 32px;\n",
              "    }\n",
              "\n",
              "    .colab-df-convert:hover {\n",
              "      background-color: #E2EBFA;\n",
              "      box-shadow: 0px 1px 2px rgba(60, 64, 67, 0.3), 0px 1px 3px 1px rgba(60, 64, 67, 0.15);\n",
              "      fill: #174EA6;\n",
              "    }\n",
              "\n",
              "    [theme=dark] .colab-df-convert {\n",
              "      background-color: #3B4455;\n",
              "      fill: #D2E3FC;\n",
              "    }\n",
              "\n",
              "    [theme=dark] .colab-df-convert:hover {\n",
              "      background-color: #434B5C;\n",
              "      box-shadow: 0px 1px 3px 1px rgba(0, 0, 0, 0.15);\n",
              "      filter: drop-shadow(0px 1px 2px rgba(0, 0, 0, 0.3));\n",
              "      fill: #FFFFFF;\n",
              "    }\n",
              "  </style>\n",
              "\n",
              "      <script>\n",
              "        const buttonEl =\n",
              "          document.querySelector('#df-0130f7d2-8b84-4221-b05e-04d93be65b81 button.colab-df-convert');\n",
              "        buttonEl.style.display =\n",
              "          google.colab.kernel.accessAllowed ? 'block' : 'none';\n",
              "\n",
              "        async function convertToInteractive(key) {\n",
              "          const element = document.querySelector('#df-0130f7d2-8b84-4221-b05e-04d93be65b81');\n",
              "          const dataTable =\n",
              "            await google.colab.kernel.invokeFunction('convertToInteractive',\n",
              "                                                     [key], {});\n",
              "          if (!dataTable) return;\n",
              "\n",
              "          const docLinkHtml = 'Like what you see? Visit the ' +\n",
              "            '<a target=\"_blank\" href=https://colab.research.google.com/notebooks/data_table.ipynb>data table notebook</a>'\n",
              "            + ' to learn more about interactive tables.';\n",
              "          element.innerHTML = '';\n",
              "          dataTable['output_type'] = 'display_data';\n",
              "          await google.colab.output.renderOutput(dataTable, element);\n",
              "          const docLink = document.createElement('div');\n",
              "          docLink.innerHTML = docLinkHtml;\n",
              "          element.appendChild(docLink);\n",
              "        }\n",
              "      </script>\n",
              "    </div>\n",
              "  </div>\n",
              "  "
            ]
          },
          "metadata": {},
          "execution_count": 24
        }
      ],
      "source": [
        "datesGroups = orders[['date','group']].drop_duplicates()\n",
        "datesGroups.head()"
      ]
    },
    {
      "cell_type": "markdown",
      "metadata": {
        "id": "zccmlidhCoPf"
      },
      "source": [
        "Получим агрегированные кумулятивные данные о заказах по дням:"
      ]
    },
    {
      "cell_type": "code",
      "execution_count": 25,
      "metadata": {
        "id": "5AAM8DvGCoPf",
        "colab": {
          "base_uri": "https://localhost:8080/",
          "height": 206
        },
        "outputId": "10f08fc4-eb29-4350-fce3-d57258746455"
      },
      "outputs": [
        {
          "output_type": "execute_result",
          "data": {
            "text/plain": [
              "          date group  transactionId  visitorId  revenue\n",
              "55  2019-08-01     A             23         19   142779\n",
              "66  2019-08-01     B             17         17    59758\n",
              "175 2019-08-02     A             42         36   234381\n",
              "173 2019-08-02     B             40         39   221801\n",
              "291 2019-08-03     A             66         60   346854"
            ],
            "text/html": [
              "\n",
              "  <div id=\"df-4570f1f5-235b-4124-8229-06a90cf9b14c\">\n",
              "    <div class=\"colab-df-container\">\n",
              "      <div>\n",
              "<style scoped>\n",
              "    .dataframe tbody tr th:only-of-type {\n",
              "        vertical-align: middle;\n",
              "    }\n",
              "\n",
              "    .dataframe tbody tr th {\n",
              "        vertical-align: top;\n",
              "    }\n",
              "\n",
              "    .dataframe thead th {\n",
              "        text-align: right;\n",
              "    }\n",
              "</style>\n",
              "<table border=\"1\" class=\"dataframe\">\n",
              "  <thead>\n",
              "    <tr style=\"text-align: right;\">\n",
              "      <th></th>\n",
              "      <th>date</th>\n",
              "      <th>group</th>\n",
              "      <th>transactionId</th>\n",
              "      <th>visitorId</th>\n",
              "      <th>revenue</th>\n",
              "    </tr>\n",
              "  </thead>\n",
              "  <tbody>\n",
              "    <tr>\n",
              "      <th>55</th>\n",
              "      <td>2019-08-01</td>\n",
              "      <td>A</td>\n",
              "      <td>23</td>\n",
              "      <td>19</td>\n",
              "      <td>142779</td>\n",
              "    </tr>\n",
              "    <tr>\n",
              "      <th>66</th>\n",
              "      <td>2019-08-01</td>\n",
              "      <td>B</td>\n",
              "      <td>17</td>\n",
              "      <td>17</td>\n",
              "      <td>59758</td>\n",
              "    </tr>\n",
              "    <tr>\n",
              "      <th>175</th>\n",
              "      <td>2019-08-02</td>\n",
              "      <td>A</td>\n",
              "      <td>42</td>\n",
              "      <td>36</td>\n",
              "      <td>234381</td>\n",
              "    </tr>\n",
              "    <tr>\n",
              "      <th>173</th>\n",
              "      <td>2019-08-02</td>\n",
              "      <td>B</td>\n",
              "      <td>40</td>\n",
              "      <td>39</td>\n",
              "      <td>221801</td>\n",
              "    </tr>\n",
              "    <tr>\n",
              "      <th>291</th>\n",
              "      <td>2019-08-03</td>\n",
              "      <td>A</td>\n",
              "      <td>66</td>\n",
              "      <td>60</td>\n",
              "      <td>346854</td>\n",
              "    </tr>\n",
              "  </tbody>\n",
              "</table>\n",
              "</div>\n",
              "      <button class=\"colab-df-convert\" onclick=\"convertToInteractive('df-4570f1f5-235b-4124-8229-06a90cf9b14c')\"\n",
              "              title=\"Convert this dataframe to an interactive table.\"\n",
              "              style=\"display:none;\">\n",
              "        \n",
              "  <svg xmlns=\"http://www.w3.org/2000/svg\" height=\"24px\"viewBox=\"0 0 24 24\"\n",
              "       width=\"24px\">\n",
              "    <path d=\"M0 0h24v24H0V0z\" fill=\"none\"/>\n",
              "    <path d=\"M18.56 5.44l.94 2.06.94-2.06 2.06-.94-2.06-.94-.94-2.06-.94 2.06-2.06.94zm-11 1L8.5 8.5l.94-2.06 2.06-.94-2.06-.94L8.5 2.5l-.94 2.06-2.06.94zm10 10l.94 2.06.94-2.06 2.06-.94-2.06-.94-.94-2.06-.94 2.06-2.06.94z\"/><path d=\"M17.41 7.96l-1.37-1.37c-.4-.4-.92-.59-1.43-.59-.52 0-1.04.2-1.43.59L10.3 9.45l-7.72 7.72c-.78.78-.78 2.05 0 2.83L4 21.41c.39.39.9.59 1.41.59.51 0 1.02-.2 1.41-.59l7.78-7.78 2.81-2.81c.8-.78.8-2.07 0-2.86zM5.41 20L4 18.59l7.72-7.72 1.47 1.35L5.41 20z\"/>\n",
              "  </svg>\n",
              "      </button>\n",
              "      \n",
              "  <style>\n",
              "    .colab-df-container {\n",
              "      display:flex;\n",
              "      flex-wrap:wrap;\n",
              "      gap: 12px;\n",
              "    }\n",
              "\n",
              "    .colab-df-convert {\n",
              "      background-color: #E8F0FE;\n",
              "      border: none;\n",
              "      border-radius: 50%;\n",
              "      cursor: pointer;\n",
              "      display: none;\n",
              "      fill: #1967D2;\n",
              "      height: 32px;\n",
              "      padding: 0 0 0 0;\n",
              "      width: 32px;\n",
              "    }\n",
              "\n",
              "    .colab-df-convert:hover {\n",
              "      background-color: #E2EBFA;\n",
              "      box-shadow: 0px 1px 2px rgba(60, 64, 67, 0.3), 0px 1px 3px 1px rgba(60, 64, 67, 0.15);\n",
              "      fill: #174EA6;\n",
              "    }\n",
              "\n",
              "    [theme=dark] .colab-df-convert {\n",
              "      background-color: #3B4455;\n",
              "      fill: #D2E3FC;\n",
              "    }\n",
              "\n",
              "    [theme=dark] .colab-df-convert:hover {\n",
              "      background-color: #434B5C;\n",
              "      box-shadow: 0px 1px 3px 1px rgba(0, 0, 0, 0.15);\n",
              "      filter: drop-shadow(0px 1px 2px rgba(0, 0, 0, 0.3));\n",
              "      fill: #FFFFFF;\n",
              "    }\n",
              "  </style>\n",
              "\n",
              "      <script>\n",
              "        const buttonEl =\n",
              "          document.querySelector('#df-4570f1f5-235b-4124-8229-06a90cf9b14c button.colab-df-convert');\n",
              "        buttonEl.style.display =\n",
              "          google.colab.kernel.accessAllowed ? 'block' : 'none';\n",
              "\n",
              "        async function convertToInteractive(key) {\n",
              "          const element = document.querySelector('#df-4570f1f5-235b-4124-8229-06a90cf9b14c');\n",
              "          const dataTable =\n",
              "            await google.colab.kernel.invokeFunction('convertToInteractive',\n",
              "                                                     [key], {});\n",
              "          if (!dataTable) return;\n",
              "\n",
              "          const docLinkHtml = 'Like what you see? Visit the ' +\n",
              "            '<a target=\"_blank\" href=https://colab.research.google.com/notebooks/data_table.ipynb>data table notebook</a>'\n",
              "            + ' to learn more about interactive tables.';\n",
              "          element.innerHTML = '';\n",
              "          dataTable['output_type'] = 'display_data';\n",
              "          await google.colab.output.renderOutput(dataTable, element);\n",
              "          const docLink = document.createElement('div');\n",
              "          docLink.innerHTML = docLinkHtml;\n",
              "          element.appendChild(docLink);\n",
              "        }\n",
              "      </script>\n",
              "    </div>\n",
              "  </div>\n",
              "  "
            ]
          },
          "metadata": {},
          "execution_count": 25
        }
      ],
      "source": [
        "ordersAggregated = datesGroups.apply(\n",
        "    lambda x: orders[np.logical_and(orders['date'] <= x['date'], orders['group'] == x['group'])].agg(\n",
        "        {'date': 'max', 'group': 'max', 'transactionId': 'nunique', 'visitorId': 'nunique', 'revenue': 'sum',}\n",
        "    ), axis=1,).sort_values(by=['date', 'group'])\n",
        "ordersAggregated.head()"
      ]
    },
    {
      "cell_type": "markdown",
      "metadata": {
        "id": "sRhF4cVXCoPf"
      },
      "source": [
        "Получим агрегированные кумулятивные данные о посетителях по дням:"
      ]
    },
    {
      "cell_type": "code",
      "execution_count": 26,
      "metadata": {
        "id": "qRaNr9DoCoPf",
        "colab": {
          "base_uri": "https://localhost:8080/",
          "height": 206
        },
        "outputId": "454c1044-fd8f-4927-db05-232fbc2ef717"
      },
      "outputs": [
        {
          "output_type": "execute_result",
          "data": {
            "text/plain": [
              "          date group  visitors\n",
              "55  2019-08-01     A       719\n",
              "66  2019-08-01     B       713\n",
              "175 2019-08-02     A      1338\n",
              "173 2019-08-02     B      1294\n",
              "291 2019-08-03     A      1845"
            ],
            "text/html": [
              "\n",
              "  <div id=\"df-ecbd1d29-fed7-40a4-a861-28a228977933\">\n",
              "    <div class=\"colab-df-container\">\n",
              "      <div>\n",
              "<style scoped>\n",
              "    .dataframe tbody tr th:only-of-type {\n",
              "        vertical-align: middle;\n",
              "    }\n",
              "\n",
              "    .dataframe tbody tr th {\n",
              "        vertical-align: top;\n",
              "    }\n",
              "\n",
              "    .dataframe thead th {\n",
              "        text-align: right;\n",
              "    }\n",
              "</style>\n",
              "<table border=\"1\" class=\"dataframe\">\n",
              "  <thead>\n",
              "    <tr style=\"text-align: right;\">\n",
              "      <th></th>\n",
              "      <th>date</th>\n",
              "      <th>group</th>\n",
              "      <th>visitors</th>\n",
              "    </tr>\n",
              "  </thead>\n",
              "  <tbody>\n",
              "    <tr>\n",
              "      <th>55</th>\n",
              "      <td>2019-08-01</td>\n",
              "      <td>A</td>\n",
              "      <td>719</td>\n",
              "    </tr>\n",
              "    <tr>\n",
              "      <th>66</th>\n",
              "      <td>2019-08-01</td>\n",
              "      <td>B</td>\n",
              "      <td>713</td>\n",
              "    </tr>\n",
              "    <tr>\n",
              "      <th>175</th>\n",
              "      <td>2019-08-02</td>\n",
              "      <td>A</td>\n",
              "      <td>1338</td>\n",
              "    </tr>\n",
              "    <tr>\n",
              "      <th>173</th>\n",
              "      <td>2019-08-02</td>\n",
              "      <td>B</td>\n",
              "      <td>1294</td>\n",
              "    </tr>\n",
              "    <tr>\n",
              "      <th>291</th>\n",
              "      <td>2019-08-03</td>\n",
              "      <td>A</td>\n",
              "      <td>1845</td>\n",
              "    </tr>\n",
              "  </tbody>\n",
              "</table>\n",
              "</div>\n",
              "      <button class=\"colab-df-convert\" onclick=\"convertToInteractive('df-ecbd1d29-fed7-40a4-a861-28a228977933')\"\n",
              "              title=\"Convert this dataframe to an interactive table.\"\n",
              "              style=\"display:none;\">\n",
              "        \n",
              "  <svg xmlns=\"http://www.w3.org/2000/svg\" height=\"24px\"viewBox=\"0 0 24 24\"\n",
              "       width=\"24px\">\n",
              "    <path d=\"M0 0h24v24H0V0z\" fill=\"none\"/>\n",
              "    <path d=\"M18.56 5.44l.94 2.06.94-2.06 2.06-.94-2.06-.94-.94-2.06-.94 2.06-2.06.94zm-11 1L8.5 8.5l.94-2.06 2.06-.94-2.06-.94L8.5 2.5l-.94 2.06-2.06.94zm10 10l.94 2.06.94-2.06 2.06-.94-2.06-.94-.94-2.06-.94 2.06-2.06.94z\"/><path d=\"M17.41 7.96l-1.37-1.37c-.4-.4-.92-.59-1.43-.59-.52 0-1.04.2-1.43.59L10.3 9.45l-7.72 7.72c-.78.78-.78 2.05 0 2.83L4 21.41c.39.39.9.59 1.41.59.51 0 1.02-.2 1.41-.59l7.78-7.78 2.81-2.81c.8-.78.8-2.07 0-2.86zM5.41 20L4 18.59l7.72-7.72 1.47 1.35L5.41 20z\"/>\n",
              "  </svg>\n",
              "      </button>\n",
              "      \n",
              "  <style>\n",
              "    .colab-df-container {\n",
              "      display:flex;\n",
              "      flex-wrap:wrap;\n",
              "      gap: 12px;\n",
              "    }\n",
              "\n",
              "    .colab-df-convert {\n",
              "      background-color: #E8F0FE;\n",
              "      border: none;\n",
              "      border-radius: 50%;\n",
              "      cursor: pointer;\n",
              "      display: none;\n",
              "      fill: #1967D2;\n",
              "      height: 32px;\n",
              "      padding: 0 0 0 0;\n",
              "      width: 32px;\n",
              "    }\n",
              "\n",
              "    .colab-df-convert:hover {\n",
              "      background-color: #E2EBFA;\n",
              "      box-shadow: 0px 1px 2px rgba(60, 64, 67, 0.3), 0px 1px 3px 1px rgba(60, 64, 67, 0.15);\n",
              "      fill: #174EA6;\n",
              "    }\n",
              "\n",
              "    [theme=dark] .colab-df-convert {\n",
              "      background-color: #3B4455;\n",
              "      fill: #D2E3FC;\n",
              "    }\n",
              "\n",
              "    [theme=dark] .colab-df-convert:hover {\n",
              "      background-color: #434B5C;\n",
              "      box-shadow: 0px 1px 3px 1px rgba(0, 0, 0, 0.15);\n",
              "      filter: drop-shadow(0px 1px 2px rgba(0, 0, 0, 0.3));\n",
              "      fill: #FFFFFF;\n",
              "    }\n",
              "  </style>\n",
              "\n",
              "      <script>\n",
              "        const buttonEl =\n",
              "          document.querySelector('#df-ecbd1d29-fed7-40a4-a861-28a228977933 button.colab-df-convert');\n",
              "        buttonEl.style.display =\n",
              "          google.colab.kernel.accessAllowed ? 'block' : 'none';\n",
              "\n",
              "        async function convertToInteractive(key) {\n",
              "          const element = document.querySelector('#df-ecbd1d29-fed7-40a4-a861-28a228977933');\n",
              "          const dataTable =\n",
              "            await google.colab.kernel.invokeFunction('convertToInteractive',\n",
              "                                                     [key], {});\n",
              "          if (!dataTable) return;\n",
              "\n",
              "          const docLinkHtml = 'Like what you see? Visit the ' +\n",
              "            '<a target=\"_blank\" href=https://colab.research.google.com/notebooks/data_table.ipynb>data table notebook</a>'\n",
              "            + ' to learn more about interactive tables.';\n",
              "          element.innerHTML = '';\n",
              "          dataTable['output_type'] = 'display_data';\n",
              "          await google.colab.output.renderOutput(dataTable, element);\n",
              "          const docLink = document.createElement('div');\n",
              "          docLink.innerHTML = docLinkHtml;\n",
              "          element.appendChild(docLink);\n",
              "        }\n",
              "      </script>\n",
              "    </div>\n",
              "  </div>\n",
              "  "
            ]
          },
          "metadata": {},
          "execution_count": 26
        }
      ],
      "source": [
        "visitorsAggregated = datesGroups.apply(\n",
        "    lambda x: visitors[np.logical_and(visitors['date'] <= x['date'], visitors['group'] == x['group'])].agg(\n",
        "        {'date' : 'max', 'group' : 'max', 'visitors' : 'sum'}), axis=1).sort_values(by=['date','group'])\n",
        "visitorsAggregated.head()"
      ]
    },
    {
      "cell_type": "markdown",
      "metadata": {
        "id": "c_jUvGpjCoPf"
      },
      "source": [
        "Объединим кумулятивные данные в таблице cumulativeData и переименуем столбцы:"
      ]
    },
    {
      "cell_type": "code",
      "execution_count": 27,
      "metadata": {
        "id": "ar3uLrO_CoPg",
        "colab": {
          "base_uri": "https://localhost:8080/",
          "height": 206
        },
        "outputId": "c95c88f8-b6ad-4521-d5b7-93dfb5b21b8f"
      },
      "outputs": [
        {
          "output_type": "execute_result",
          "data": {
            "text/plain": [
              "        date group  orders  buyers  revenue  visitors\n",
              "0 2019-08-01     A      23      19   142779       719\n",
              "1 2019-08-01     B      17      17    59758       713\n",
              "2 2019-08-02     A      42      36   234381      1338\n",
              "3 2019-08-02     B      40      39   221801      1294\n",
              "4 2019-08-03     A      66      60   346854      1845"
            ],
            "text/html": [
              "\n",
              "  <div id=\"df-4c595df2-31e1-466e-9907-a4a47d18c8f6\">\n",
              "    <div class=\"colab-df-container\">\n",
              "      <div>\n",
              "<style scoped>\n",
              "    .dataframe tbody tr th:only-of-type {\n",
              "        vertical-align: middle;\n",
              "    }\n",
              "\n",
              "    .dataframe tbody tr th {\n",
              "        vertical-align: top;\n",
              "    }\n",
              "\n",
              "    .dataframe thead th {\n",
              "        text-align: right;\n",
              "    }\n",
              "</style>\n",
              "<table border=\"1\" class=\"dataframe\">\n",
              "  <thead>\n",
              "    <tr style=\"text-align: right;\">\n",
              "      <th></th>\n",
              "      <th>date</th>\n",
              "      <th>group</th>\n",
              "      <th>orders</th>\n",
              "      <th>buyers</th>\n",
              "      <th>revenue</th>\n",
              "      <th>visitors</th>\n",
              "    </tr>\n",
              "  </thead>\n",
              "  <tbody>\n",
              "    <tr>\n",
              "      <th>0</th>\n",
              "      <td>2019-08-01</td>\n",
              "      <td>A</td>\n",
              "      <td>23</td>\n",
              "      <td>19</td>\n",
              "      <td>142779</td>\n",
              "      <td>719</td>\n",
              "    </tr>\n",
              "    <tr>\n",
              "      <th>1</th>\n",
              "      <td>2019-08-01</td>\n",
              "      <td>B</td>\n",
              "      <td>17</td>\n",
              "      <td>17</td>\n",
              "      <td>59758</td>\n",
              "      <td>713</td>\n",
              "    </tr>\n",
              "    <tr>\n",
              "      <th>2</th>\n",
              "      <td>2019-08-02</td>\n",
              "      <td>A</td>\n",
              "      <td>42</td>\n",
              "      <td>36</td>\n",
              "      <td>234381</td>\n",
              "      <td>1338</td>\n",
              "    </tr>\n",
              "    <tr>\n",
              "      <th>3</th>\n",
              "      <td>2019-08-02</td>\n",
              "      <td>B</td>\n",
              "      <td>40</td>\n",
              "      <td>39</td>\n",
              "      <td>221801</td>\n",
              "      <td>1294</td>\n",
              "    </tr>\n",
              "    <tr>\n",
              "      <th>4</th>\n",
              "      <td>2019-08-03</td>\n",
              "      <td>A</td>\n",
              "      <td>66</td>\n",
              "      <td>60</td>\n",
              "      <td>346854</td>\n",
              "      <td>1845</td>\n",
              "    </tr>\n",
              "  </tbody>\n",
              "</table>\n",
              "</div>\n",
              "      <button class=\"colab-df-convert\" onclick=\"convertToInteractive('df-4c595df2-31e1-466e-9907-a4a47d18c8f6')\"\n",
              "              title=\"Convert this dataframe to an interactive table.\"\n",
              "              style=\"display:none;\">\n",
              "        \n",
              "  <svg xmlns=\"http://www.w3.org/2000/svg\" height=\"24px\"viewBox=\"0 0 24 24\"\n",
              "       width=\"24px\">\n",
              "    <path d=\"M0 0h24v24H0V0z\" fill=\"none\"/>\n",
              "    <path d=\"M18.56 5.44l.94 2.06.94-2.06 2.06-.94-2.06-.94-.94-2.06-.94 2.06-2.06.94zm-11 1L8.5 8.5l.94-2.06 2.06-.94-2.06-.94L8.5 2.5l-.94 2.06-2.06.94zm10 10l.94 2.06.94-2.06 2.06-.94-2.06-.94-.94-2.06-.94 2.06-2.06.94z\"/><path d=\"M17.41 7.96l-1.37-1.37c-.4-.4-.92-.59-1.43-.59-.52 0-1.04.2-1.43.59L10.3 9.45l-7.72 7.72c-.78.78-.78 2.05 0 2.83L4 21.41c.39.39.9.59 1.41.59.51 0 1.02-.2 1.41-.59l7.78-7.78 2.81-2.81c.8-.78.8-2.07 0-2.86zM5.41 20L4 18.59l7.72-7.72 1.47 1.35L5.41 20z\"/>\n",
              "  </svg>\n",
              "      </button>\n",
              "      \n",
              "  <style>\n",
              "    .colab-df-container {\n",
              "      display:flex;\n",
              "      flex-wrap:wrap;\n",
              "      gap: 12px;\n",
              "    }\n",
              "\n",
              "    .colab-df-convert {\n",
              "      background-color: #E8F0FE;\n",
              "      border: none;\n",
              "      border-radius: 50%;\n",
              "      cursor: pointer;\n",
              "      display: none;\n",
              "      fill: #1967D2;\n",
              "      height: 32px;\n",
              "      padding: 0 0 0 0;\n",
              "      width: 32px;\n",
              "    }\n",
              "\n",
              "    .colab-df-convert:hover {\n",
              "      background-color: #E2EBFA;\n",
              "      box-shadow: 0px 1px 2px rgba(60, 64, 67, 0.3), 0px 1px 3px 1px rgba(60, 64, 67, 0.15);\n",
              "      fill: #174EA6;\n",
              "    }\n",
              "\n",
              "    [theme=dark] .colab-df-convert {\n",
              "      background-color: #3B4455;\n",
              "      fill: #D2E3FC;\n",
              "    }\n",
              "\n",
              "    [theme=dark] .colab-df-convert:hover {\n",
              "      background-color: #434B5C;\n",
              "      box-shadow: 0px 1px 3px 1px rgba(0, 0, 0, 0.15);\n",
              "      filter: drop-shadow(0px 1px 2px rgba(0, 0, 0, 0.3));\n",
              "      fill: #FFFFFF;\n",
              "    }\n",
              "  </style>\n",
              "\n",
              "      <script>\n",
              "        const buttonEl =\n",
              "          document.querySelector('#df-4c595df2-31e1-466e-9907-a4a47d18c8f6 button.colab-df-convert');\n",
              "        buttonEl.style.display =\n",
              "          google.colab.kernel.accessAllowed ? 'block' : 'none';\n",
              "\n",
              "        async function convertToInteractive(key) {\n",
              "          const element = document.querySelector('#df-4c595df2-31e1-466e-9907-a4a47d18c8f6');\n",
              "          const dataTable =\n",
              "            await google.colab.kernel.invokeFunction('convertToInteractive',\n",
              "                                                     [key], {});\n",
              "          if (!dataTable) return;\n",
              "\n",
              "          const docLinkHtml = 'Like what you see? Visit the ' +\n",
              "            '<a target=\"_blank\" href=https://colab.research.google.com/notebooks/data_table.ipynb>data table notebook</a>'\n",
              "            + ' to learn more about interactive tables.';\n",
              "          element.innerHTML = '';\n",
              "          dataTable['output_type'] = 'display_data';\n",
              "          await google.colab.output.renderOutput(dataTable, element);\n",
              "          const docLink = document.createElement('div');\n",
              "          docLink.innerHTML = docLinkHtml;\n",
              "          element.appendChild(docLink);\n",
              "        }\n",
              "      </script>\n",
              "    </div>\n",
              "  </div>\n",
              "  "
            ]
          },
          "metadata": {},
          "execution_count": 27
        }
      ],
      "source": [
        "cumulativeData = ordersAggregated.merge(\n",
        "    visitorsAggregated, left_on=['date', 'group'], right_on=['date', 'group'])\n",
        "cumulativeData.columns = ['date','group','orders','buyers','revenue','visitors']\n",
        "cumulativeData.head()"
      ]
    },
    {
      "cell_type": "markdown",
      "metadata": {
        "id": "jJenzsMxCoPh"
      },
      "source": [
        "Создадим таблицы с кумулятивным количеством заказов и кумулятивной выручкой по дням в группе A и B:"
      ]
    },
    {
      "cell_type": "code",
      "execution_count": 28,
      "metadata": {
        "id": "uL3p_yCaCoPh"
      },
      "outputs": [],
      "source": [
        "cumulativeRevenueA = cumulativeData[cumulativeData['group']=='A'][['date','revenue', 'orders']]\n",
        "cumulativeRevenueB = cumulativeData[cumulativeData['group']=='B'][['date','revenue', 'orders']]"
      ]
    },
    {
      "cell_type": "markdown",
      "metadata": {
        "id": "9SYmXwiKCoPh"
      },
      "source": [
        "Построим график выручки для групп А и B:"
      ]
    },
    {
      "cell_type": "code",
      "execution_count": 29,
      "metadata": {
        "id": "_iJYlhaYCoPh",
        "colab": {
          "base_uri": "https://localhost:8080/",
          "height": 444
        },
        "outputId": "e65d45c6-d6ef-4f11-f2d4-19cd1c6c5f0b"
      },
      "outputs": [
        {
          "output_type": "display_data",
          "data": {
            "text/plain": [
              "<Figure size 576x432 with 1 Axes>"
            ],
            "image/png": "[encoded data removed]"
          },
          "metadata": {
            "image/png": {
              "width": 507,
              "height": 427
            },
            "needs_background": "light"
          }
        }
      ],
      "source": [
        "plt.plot(cumulativeRevenueA['date'], cumulativeRevenueA['revenue'], label='A')\n",
        "plt.plot(cumulativeRevenueB['date'], cumulativeRevenueB['revenue'], label='B')\n",
        "\n",
        "plt.title('Кумулятивная выручка')\n",
        "plt.xlabel(\"Дата\", fontsize=12)\n",
        "plt.ylabel(\"Выручка\", fontsize=12)\n",
        "plt.xticks(rotation=45)\n",
        "plt.legend()\n",
        "plt.show()"
      ]
    },
    {
      "cell_type": "markdown",
      "metadata": {
        "id": "vxgDrhHcCoPh"
      },
      "source": [
        "<div style=\"border: solid green 2px; padding: 20px\">\n",
        "    \n",
        "**Вывод**\n",
        "    \n",
        "Выручка группы B существенно выше группы А. В начале теста разница была небольшая, но после 17 августа выручка группы B резко возрасла и затем росла равномерно.",
        "</div>"
      ]
    },
    {
      "cell_type": "markdown",
      "metadata": {
        "id": "i71AVzbOCoPh"
      },
      "source": [
        "<a name=\"4.2\"><h3>4.2 Кумулятивный средний чек по группам</h3></a>"
      ]
    },
    {
      "cell_type": "markdown",
      "metadata": {
        "id": "ZFNiobkMCoPh"
      },
      "source": [
        "Построим график среднего чека по группам, разделив кумулятивную выручку на кумулятивное число заказов:"
      ]
    },
    {
      "cell_type": "code",
      "execution_count": 30,
      "metadata": {
        "id": "4g1dzhrCCoPh",
        "colab": {
          "base_uri": "https://localhost:8080/",
          "height": 444
        },
        "outputId": "fa891b85-f4d3-40d0-db09-4c0fe691ab4b"
      },
      "outputs": [
        {
          "output_type": "display_data",
          "data": {
            "text/plain": [
              "<Figure size 576x432 with 1 Axes>"
            ],
            "image/png": "[encoded data removed]"
          },
          "metadata": {
            "image/png": {
              "width": 533,
              "height": 427
            },
            "needs_background": "light"
          }
        }
      ],
      "source": [
        "plt.plot(cumulativeRevenueA['date'], cumulativeRevenueA['revenue']/cumulativeRevenueA['orders'], label='A')\n",
        "plt.plot(cumulativeRevenueB['date'], cumulativeRevenueB['revenue']/cumulativeRevenueB['orders'], label='B')\n",
        "\n",
        "plt.title('Кумулятивный средний чек')\n",
        "plt.xlabel(\"Дата\", fontsize=12)\n",
        "plt.ylabel(\"Средний чек\", fontsize=12)\n",
        "plt.xticks(rotation=45)\n",
        "plt.legend()\n",
        "plt.show()"
      ]
    },
    {
      "cell_type": "markdown",
      "metadata": {
        "id": "T4e9e87lCoPi"
      },
      "source": [
        "<div style=\"border: solid green 2px; padding: 20px\">\n",
        "    \n",
        "**Вывод**\n",
        "    \n",
        "Для группы А средний чек становится равномерным примерно через 10 дней теста, у группы В сумма сначала нестабильна, но затем резко возрастает после 17 августа и далее плавно понижается, но все равно остается заметно выше, чем сумма среднего чека группы А. Такой резкий подъем скорее всего связан с особо крупным заказом.",
        "</div>"
      ]
    },
    {
      "cell_type": "markdown",
      "metadata": {
        "id": "V9uZzqaBCoPi"
      },
      "source": [
        "<a name=\"4.3\"><h3>4.3 Оносительное изменение кумулятивного среднего чека группы B к группе A</h3></a>"
      ]
    },
    {
      "cell_type": "markdown",
      "metadata": {
        "id": "QD__9lo8CoPi"
      },
      "source": [
        "Объединим таблицы кумулятивной выручки группы А и группы В:"
      ]
    },
    {
      "cell_type": "code",
      "execution_count": 31,
      "metadata": {
        "id": "mKtdmQJRCoPi",
        "colab": {
          "base_uri": "https://localhost:8080/",
          "height": 206
        },
        "outputId": "e6c14101-2b1d-468d-b7ac-1ba30ad8c2f1"
      },
      "outputs": [
        {
          "output_type": "execute_result",
          "data": {
            "text/plain": [
              "        date  revenueA  ordersA  revenueB  ordersB\n",
              "0 2019-08-01    142779       23     59758       17\n",
              "1 2019-08-02    234381       42    221801       40\n",
              "2 2019-08-03    346854       66    288850       54\n",
              "3 2019-08-04    388030       77    385740       68\n",
              "4 2019-08-05    474413       99    475648       89"
            ],
            "text/html": [
              "\n",
              "  <div id=\"df-f94a32bd-1127-48c4-a8c5-62bf6a32dfe5\">\n",
              "    <div class=\"colab-df-container\">\n",
              "      <div>\n",
              "<style scoped>\n",
              "    .dataframe tbody tr th:only-of-type {\n",
              "        vertical-align: middle;\n",
              "    }\n",
              "\n",
              "    .dataframe tbody tr th {\n",
              "        vertical-align: top;\n",
              "    }\n",
              "\n",
              "    .dataframe thead th {\n",
              "        text-align: right;\n",
              "    }\n",
              "</style>\n",
              "<table border=\"1\" class=\"dataframe\">\n",
              "  <thead>\n",
              "    <tr style=\"text-align: right;\">\n",
              "      <th></th>\n",
              "      <th>date</th>\n",
              "      <th>revenueA</th>\n",
              "      <th>ordersA</th>\n",
              "      <th>revenueB</th>\n",
              "      <th>ordersB</th>\n",
              "    </tr>\n",
              "  </thead>\n",
              "  <tbody>\n",
              "    <tr>\n",
              "      <th>0</th>\n",
              "      <td>2019-08-01</td>\n",
              "      <td>142779</td>\n",
              "      <td>23</td>\n",
              "      <td>59758</td>\n",
              "      <td>17</td>\n",
              "    </tr>\n",
              "    <tr>\n",
              "      <th>1</th>\n",
              "      <td>2019-08-02</td>\n",
              "      <td>234381</td>\n",
              "      <td>42</td>\n",
              "      <td>221801</td>\n",
              "      <td>40</td>\n",
              "    </tr>\n",
              "    <tr>\n",
              "      <th>2</th>\n",
              "      <td>2019-08-03</td>\n",
              "      <td>346854</td>\n",
              "      <td>66</td>\n",
              "      <td>288850</td>\n",
              "      <td>54</td>\n",
              "    </tr>\n",
              "    <tr>\n",
              "      <th>3</th>\n",
              "      <td>2019-08-04</td>\n",
              "      <td>388030</td>\n",
              "      <td>77</td>\n",
              "      <td>385740</td>\n",
              "      <td>68</td>\n",
              "    </tr>\n",
              "    <tr>\n",
              "      <th>4</th>\n",
              "      <td>2019-08-05</td>\n",
              "      <td>474413</td>\n",
              "      <td>99</td>\n",
              "      <td>475648</td>\n",
              "      <td>89</td>\n",
              "    </tr>\n",
              "  </tbody>\n",
              "</table>\n",
              "</div>\n",
              "      <button class=\"colab-df-convert\" onclick=\"convertToInteractive('df-f94a32bd-1127-48c4-a8c5-62bf6a32dfe5')\"\n",
              "              title=\"Convert this dataframe to an interactive table.\"\n",
              "              style=\"display:none;\">\n",
              "        \n",
              "  <svg xmlns=\"http://www.w3.org/2000/svg\" height=\"24px\"viewBox=\"0 0 24 24\"\n",
              "       width=\"24px\">\n",
              "    <path d=\"M0 0h24v24H0V0z\" fill=\"none\"/>\n",
              "    <path d=\"M18.56 5.44l.94 2.06.94-2.06 2.06-.94-2.06-.94-.94-2.06-.94 2.06-2.06.94zm-11 1L8.5 8.5l.94-2.06 2.06-.94-2.06-.94L8.5 2.5l-.94 2.06-2.06.94zm10 10l.94 2.06.94-2.06 2.06-.94-2.06-.94-.94-2.06-.94 2.06-2.06.94z\"/><path d=\"M17.41 7.96l-1.37-1.37c-.4-.4-.92-.59-1.43-.59-.52 0-1.04.2-1.43.59L10.3 9.45l-7.72 7.72c-.78.78-.78 2.05 0 2.83L4 21.41c.39.39.9.59 1.41.59.51 0 1.02-.2 1.41-.59l7.78-7.78 2.81-2.81c.8-.78.8-2.07 0-2.86zM5.41 20L4 18.59l7.72-7.72 1.47 1.35L5.41 20z\"/>\n",
              "  </svg>\n",
              "      </button>\n",
              "      \n",
              "  <style>\n",
              "    .colab-df-container {\n",
              "      display:flex;\n",
              "      flex-wrap:wrap;\n",
              "      gap: 12px;\n",
              "    }\n",
              "\n",
              "    .colab-df-convert {\n",
              "      background-color: #E8F0FE;\n",
              "      border: none;\n",
              "      border-radius: 50%;\n",
              "      cursor: pointer;\n",
              "      display: none;\n",
              "      fill: #1967D2;\n",
              "      height: 32px;\n",
              "      padding: 0 0 0 0;\n",
              "      width: 32px;\n",
              "    }\n",
              "\n",
              "    .colab-df-convert:hover {\n",
              "      background-color: #E2EBFA;\n",
              "      box-shadow: 0px 1px 2px rgba(60, 64, 67, 0.3), 0px 1px 3px 1px rgba(60, 64, 67, 0.15);\n",
              "      fill: #174EA6;\n",
              "    }\n",
              "\n",
              "    [theme=dark] .colab-df-convert {\n",
              "      background-color: #3B4455;\n",
              "      fill: #D2E3FC;\n",
              "    }\n",
              "\n",
              "    [theme=dark] .colab-df-convert:hover {\n",
              "      background-color: #434B5C;\n",
              "      box-shadow: 0px 1px 3px 1px rgba(0, 0, 0, 0.15);\n",
              "      filter: drop-shadow(0px 1px 2px rgba(0, 0, 0, 0.3));\n",
              "      fill: #FFFFFF;\n",
              "    }\n",
              "  </style>\n",
              "\n",
              "      <script>\n",
              "        const buttonEl =\n",
              "          document.querySelector('#df-f94a32bd-1127-48c4-a8c5-62bf6a32dfe5 button.colab-df-convert');\n",
              "        buttonEl.style.display =\n",
              "          google.colab.kernel.accessAllowed ? 'block' : 'none';\n",
              "\n",
              "        async function convertToInteractive(key) {\n",
              "          const element = document.querySelector('#df-f94a32bd-1127-48c4-a8c5-62bf6a32dfe5');\n",
              "          const dataTable =\n",
              "            await google.colab.kernel.invokeFunction('convertToInteractive',\n",
              "                                                     [key], {});\n",
              "          if (!dataTable) return;\n",
              "\n",
              "          const docLinkHtml = 'Like what you see? Visit the ' +\n",
              "            '<a target=\"_blank\" href=https://colab.research.google.com/notebooks/data_table.ipynb>data table notebook</a>'\n",
              "            + ' to learn more about interactive tables.';\n",
              "          element.innerHTML = '';\n",
              "          dataTable['output_type'] = 'display_data';\n",
              "          await google.colab.output.renderOutput(dataTable, element);\n",
              "          const docLink = document.createElement('div');\n",
              "          docLink.innerHTML = docLinkHtml;\n",
              "          element.appendChild(docLink);\n",
              "        }\n",
              "      </script>\n",
              "    </div>\n",
              "  </div>\n",
              "  "
            ]
          },
          "metadata": {},
          "execution_count": 31
        }
      ],
      "source": [
        "mergedCumulativeRevenue = cumulativeRevenueA.merge(\n",
        "    cumulativeRevenueB, left_on='date', right_on='date', how='left', suffixes=['A', 'B'])\n",
        "mergedCumulativeRevenue.head()"
      ]
    },
    {
      "cell_type": "markdown",
      "metadata": {
        "id": "AUzdFt4iCoPi"
      },
      "source": [
        "Строим отношение средних чеков и добавляем ось X:"
      ]
    },
    {
      "cell_type": "code",
      "execution_count": 32,
      "metadata": {
        "id": "bY6Am5IACoPi",
        "colab": {
          "base_uri": "https://localhost:8080/",
          "height": 444
        },
        "outputId": "7830c158-e248-4fdc-82e3-7be4b5865ec4"
      },
      "outputs": [
        {
          "output_type": "display_data",
          "data": {
            "text/plain": [
              "<Figure size 576x432 with 1 Axes>"
            ],
            "image/png": "[encoded data removed]"
          },
          "metadata": {
            "image/png": {
              "width": 525,
              "height": 427
            },
            "needs_background": "light"
          }
        }
      ],
      "source": [
        "plt.plot(mergedCumulativeRevenue['date'],\n",
        "         (mergedCumulativeRevenue['revenueB']/mergedCumulativeRevenue['ordersB'])/\n",
        "         (mergedCumulativeRevenue['revenueA']/mergedCumulativeRevenue['ordersA'])-1)\n",
        "plt.axhline(y=0, color='black', linestyle='--') \n",
        "\n",
        "plt.title('График относительно различия кумулятивного среднего чека')\n",
        "plt.xlabel(\"Дата\", fontsize=12)\n",
        "plt.ylabel(\"Отношение средних чеков\", fontsize=12)\n",
        "plt.xticks(rotation=45)\n",
        "plt.show()"
      ]
    },
    {
      "cell_type": "markdown",
      "metadata": {
        "id": "RWRM0_CRCoPj"
      },
      "source": [
        "<div style=\"border: solid green 2px; padding: 20px\">\n",
        "    \n",
        "**Вывод**\n",
        "    \n",
        "На графике относительного различия для среднего чека наблюдаются резкие скачки, в начале и в конце средний чек группы B существенно выше группы А, хотя на середине теста он проигрывал группе А примерно на 15%. К концу тестового периода средний чек группы В стал понижаться, но остался выше примерно на 30%.",
        "</div>"
      ]
    },
    {
      "cell_type": "markdown",
      "metadata": {
        "id": "QbI-aChCCoPj"
      },
      "source": [
        "<a name=\"4.4\"><h3>4.4 Кумулятивная конверсия по группам</h3></a>"
      ]
    },
    {
      "cell_type": "markdown",
      "metadata": {
        "id": "TttR7GWwCoPj"
      },
      "source": [
        "Подсчитаем кумулятивную конверсию:"
      ]
    },
    {
      "cell_type": "code",
      "execution_count": 33,
      "metadata": {
        "id": "pTgCieppCoPj"
      },
      "outputs": [],
      "source": [
        "cumulativeData['conversion'] = cumulativeData['orders']/cumulativeData['visitors']"
      ]
    },
    {
      "cell_type": "markdown",
      "metadata": {
        "id": "lOJFGOa7CoPj"
      },
      "source": [
        "Отделим данные по группе А и группе В:"
      ]
    },
    {
      "cell_type": "code",
      "execution_count": 34,
      "metadata": {
        "id": "QbHtBCm_CoPj"
      },
      "outputs": [],
      "source": [
        "cumulativeDataA = cumulativeData[cumulativeData['group']=='A']\n",
        "cumulativeDataB = cumulativeData[cumulativeData['group']=='B']"
      ]
    },
    {
      "cell_type": "markdown",
      "metadata": {
        "id": "aeHFD-1FCoPj"
      },
      "source": [
        "Построим график с кумулятивной конверсией:"
      ]
    },
    {
      "cell_type": "code",
      "execution_count": 35,
      "metadata": {
        "id": "tOK_3cxdCoPj",
        "colab": {
          "base_uri": "https://localhost:8080/",
          "height": 444
        },
        "outputId": "3c253d81-c11c-460d-afce-8699ff0ad14f"
      },
      "outputs": [
        {
          "output_type": "display_data",
          "data": {
            "text/plain": [
              "<Figure size 576x432 with 1 Axes>"
            ],
            "image/png": "[encoded data removed]"
          },
          "metadata": {
            "image/png": {
              "width": 529,
              "height": 427
            },
            "needs_background": "light"
          }
        }
      ],
      "source": [
        "plt.plot(cumulativeDataA['date'], cumulativeDataA['conversion'], label='A')\n",
        "plt.plot(cumulativeDataB['date'], cumulativeDataB['conversion'], label='B')\n",
        "\n",
        "plt.title('Кумулятивная конверсия по группам')\n",
        "plt.xlabel(\"Дата\", fontsize=12)\n",
        "plt.ylabel(\"Конверсия\", fontsize=12)\n",
        "plt.xticks(rotation=45)\n",
        "plt.legend()\n",
        "plt.show()"
      ]
    },
    {
      "cell_type": "markdown",
      "metadata": {
        "id": "CopIalG5CoPj"
      },
      "source": [
        "<div style=\"border: solid green 2px; padding: 20px\">\n",
        "    \n",
        "**Вывод**\n",
        "    \n",
        "Изначально конверсия группы А была значительно выше второй группы, но затем резко понизилась и стала равной прмерно 2,5%. Конверсия группы В сначала сильно колебалась и в итоге стабилизировалась примерно на уровне 3%.",
        "</div>"
      ]
    },
    {
      "cell_type": "markdown",
      "metadata": {
        "id": "3FXa9LrbCoPk"
      },
      "source": [
        "<a name=\"4.5\"><h3>4.5 Относительное изменение кумулятивной конверсии группы B к группе A</h3></a>"
      ]
    },
    {
      "cell_type": "markdown",
      "metadata": {
        "id": "MFOS_KQgCoPk"
      },
      "source": [
        "Создадим таблицу mergedCumulativeConversions, объединив таблицы с конверсией по группам А и В:"
      ]
    },
    {
      "cell_type": "code",
      "execution_count": 36,
      "metadata": {
        "id": "9SKQ0wRACoPk",
        "colab": {
          "base_uri": "https://localhost:8080/",
          "height": 363
        },
        "outputId": "248113d2-3e56-4764-bbb6-040bfc12b88a"
      },
      "outputs": [
        {
          "output_type": "execute_result",
          "data": {
            "text/plain": [
              "        date  conversionA  conversionB\n",
              "0 2019-08-01     0.031989     0.023843\n",
              "1 2019-08-02     0.031390     0.030912\n",
              "2 2019-08-03     0.035772     0.029950\n",
              "3 2019-08-04     0.030055     0.026428\n",
              "4 2019-08-05     0.029837     0.027134\n",
              "5 2019-08-06     0.028607     0.028463\n",
              "6 2019-08-07     0.028084     0.029070\n",
              "7 2019-08-08     0.027486     0.029634\n",
              "8 2019-08-09     0.026469     0.029790\n",
              "9 2019-08-10     0.027148     0.031544"
            ],
            "text/html": [
              "\n",
              "  <div id=\"df-a5a5f8f2-5319-4e65-84c3-68d339af5a7d\">\n",
              "    <div class=\"colab-df-container\">\n",
              "      <div>\n",
              "<style scoped>\n",
              "    .dataframe tbody tr th:only-of-type {\n",
              "        vertical-align: middle;\n",
              "    }\n",
              "\n",
              "    .dataframe tbody tr th {\n",
              "        vertical-align: top;\n",
              "    }\n",
              "\n",
              "    .dataframe thead th {\n",
              "        text-align: right;\n",
              "    }\n",
              "</style>\n",
              "<table border=\"1\" class=\"dataframe\">\n",
              "  <thead>\n",
              "    <tr style=\"text-align: right;\">\n",
              "      <th></th>\n",
              "      <th>date</th>\n",
              "      <th>conversionA</th>\n",
              "      <th>conversionB</th>\n",
              "    </tr>\n",
              "  </thead>\n",
              "  <tbody>\n",
              "    <tr>\n",
              "      <th>0</th>\n",
              "      <td>2019-08-01</td>\n",
              "      <td>0.031989</td>\n",
              "      <td>0.023843</td>\n",
              "    </tr>\n",
              "    <tr>\n",
              "      <th>1</th>\n",
              "      <td>2019-08-02</td>\n",
              "      <td>0.031390</td>\n",
              "      <td>0.030912</td>\n",
              "    </tr>\n",
              "    <tr>\n",
              "      <th>2</th>\n",
              "      <td>2019-08-03</td>\n",
              "      <td>0.035772</td>\n",
              "      <td>0.029950</td>\n",
              "    </tr>\n",
              "    <tr>\n",
              "      <th>3</th>\n",
              "      <td>2019-08-04</td>\n",
              "      <td>0.030055</td>\n",
              "      <td>0.026428</td>\n",
              "    </tr>\n",
              "    <tr>\n",
              "      <th>4</th>\n",
              "      <td>2019-08-05</td>\n",
              "      <td>0.029837</td>\n",
              "      <td>0.027134</td>\n",
              "    </tr>\n",
              "    <tr>\n",
              "      <th>5</th>\n",
              "      <td>2019-08-06</td>\n",
              "      <td>0.028607</td>\n",
              "      <td>0.028463</td>\n",
              "    </tr>\n",
              "    <tr>\n",
              "      <th>6</th>\n",
              "      <td>2019-08-07</td>\n",
              "      <td>0.028084</td>\n",
              "      <td>0.029070</td>\n",
              "    </tr>\n",
              "    <tr>\n",
              "      <th>7</th>\n",
              "      <td>2019-08-08</td>\n",
              "      <td>0.027486</td>\n",
              "      <td>0.029634</td>\n",
              "    </tr>\n",
              "    <tr>\n",
              "      <th>8</th>\n",
              "      <td>2019-08-09</td>\n",
              "      <td>0.026469</td>\n",
              "      <td>0.029790</td>\n",
              "    </tr>\n",
              "    <tr>\n",
              "      <th>9</th>\n",
              "      <td>2019-08-10</td>\n",
              "      <td>0.027148</td>\n",
              "      <td>0.031544</td>\n",
              "    </tr>\n",
              "  </tbody>\n",
              "</table>\n",
              "</div>\n",
              "      <button class=\"colab-df-convert\" onclick=\"convertToInteractive('df-a5a5f8f2-5319-4e65-84c3-68d339af5a7d')\"\n",
              "              title=\"Convert this dataframe to an interactive table.\"\n",
              "              style=\"display:none;\">\n",
              "        \n",
              "  <svg xmlns=\"http://www.w3.org/2000/svg\" height=\"24px\"viewBox=\"0 0 24 24\"\n",
              "       width=\"24px\">\n",
              "    <path d=\"M0 0h24v24H0V0z\" fill=\"none\"/>\n",
              "    <path d=\"M18.56 5.44l.94 2.06.94-2.06 2.06-.94-2.06-.94-.94-2.06-.94 2.06-2.06.94zm-11 1L8.5 8.5l.94-2.06 2.06-.94-2.06-.94L8.5 2.5l-.94 2.06-2.06.94zm10 10l.94 2.06.94-2.06 2.06-.94-2.06-.94-.94-2.06-.94 2.06-2.06.94z\"/><path d=\"M17.41 7.96l-1.37-1.37c-.4-.4-.92-.59-1.43-.59-.52 0-1.04.2-1.43.59L10.3 9.45l-7.72 7.72c-.78.78-.78 2.05 0 2.83L4 21.41c.39.39.9.59 1.41.59.51 0 1.02-.2 1.41-.59l7.78-7.78 2.81-2.81c.8-.78.8-2.07 0-2.86zM5.41 20L4 18.59l7.72-7.72 1.47 1.35L5.41 20z\"/>\n",
              "  </svg>\n",
              "      </button>\n",
              "      \n",
              "  <style>\n",
              "    .colab-df-container {\n",
              "      display:flex;\n",
              "      flex-wrap:wrap;\n",
              "      gap: 12px;\n",
              "    }\n",
              "\n",
              "    .colab-df-convert {\n",
              "      background-color: #E8F0FE;\n",
              "      border: none;\n",
              "      border-radius: 50%;\n",
              "      cursor: pointer;\n",
              "      display: none;\n",
              "      fill: #1967D2;\n",
              "      height: 32px;\n",
              "      padding: 0 0 0 0;\n",
              "      width: 32px;\n",
              "    }\n",
              "\n",
              "    .colab-df-convert:hover {\n",
              "      background-color: #E2EBFA;\n",
              "      box-shadow: 0px 1px 2px rgba(60, 64, 67, 0.3), 0px 1px 3px 1px rgba(60, 64, 67, 0.15);\n",
              "      fill: #174EA6;\n",
              "    }\n",
              "\n",
              "    [theme=dark] .colab-df-convert {\n",
              "      background-color: #3B4455;\n",
              "      fill: #D2E3FC;\n",
              "    }\n",
              "\n",
              "    [theme=dark] .colab-df-convert:hover {\n",
              "      background-color: #434B5C;\n",
              "      box-shadow: 0px 1px 3px 1px rgba(0, 0, 0, 0.15);\n",
              "      filter: drop-shadow(0px 1px 2px rgba(0, 0, 0, 0.3));\n",
              "      fill: #FFFFFF;\n",
              "    }\n",
              "  </style>\n",
              "\n",
              "      <script>\n",
              "        const buttonEl =\n",
              "          document.querySelector('#df-a5a5f8f2-5319-4e65-84c3-68d339af5a7d button.colab-df-convert');\n",
              "        buttonEl.style.display =\n",
              "          google.colab.kernel.accessAllowed ? 'block' : 'none';\n",
              "\n",
              "        async function convertToInteractive(key) {\n",
              "          const element = document.querySelector('#df-a5a5f8f2-5319-4e65-84c3-68d339af5a7d');\n",
              "          const dataTable =\n",
              "            await google.colab.kernel.invokeFunction('convertToInteractive',\n",
              "                                                     [key], {});\n",
              "          if (!dataTable) return;\n",
              "\n",
              "          const docLinkHtml = 'Like what you see? Visit the ' +\n",
              "            '<a target=\"_blank\" href=https://colab.research.google.com/notebooks/data_table.ipynb>data table notebook</a>'\n",
              "            + ' to learn more about interactive tables.';\n",
              "          element.innerHTML = '';\n",
              "          dataTable['output_type'] = 'display_data';\n",
              "          await google.colab.output.renderOutput(dataTable, element);\n",
              "          const docLink = document.createElement('div');\n",
              "          docLink.innerHTML = docLinkHtml;\n",
              "          element.appendChild(docLink);\n",
              "        }\n",
              "      </script>\n",
              "    </div>\n",
              "  </div>\n",
              "  "
            ]
          },
          "metadata": {},
          "execution_count": 36
        }
      ],
      "source": [
        "mergedCumulativeConversions = cumulativeDataA[['date','conversion']].merge(\n",
        "    cumulativeDataB[['date','conversion']], left_on='date', right_on='date', how='left', suffixes=['A', 'B'])\n",
        "mergedCumulativeConversions.head(10)"
      ]
    },
    {
      "cell_type": "markdown",
      "metadata": {
        "id": "rPCxUkT6CoPk"
      },
      "source": [
        "Построим график относительного различия кумулятивных конверсий:"
      ]
    },
    {
      "cell_type": "code",
      "execution_count": 37,
      "metadata": {
        "id": "dsXLtDiaCoPk",
        "colab": {
          "base_uri": "https://localhost:8080/",
          "height": 444
        },
        "outputId": "e0898c96-f4c9-4026-d378-3527212f97e1"
      },
      "outputs": [
        {
          "output_type": "display_data",
          "data": {
            "text/plain": [
              "<Figure size 576x432 with 1 Axes>"
            ],
            "image/png": "[encoded data removed]"
          },
          "metadata": {
            "image/png": {
              "width": 525,
              "height": 427
            },
            "needs_background": "light"
          }
        }
      ],
      "source": [
        "plt.plot(mergedCumulativeConversions['date'], mergedCumulativeConversions['conversionB']/mergedCumulativeConversions['conversionA']-1)\n",
        "plt.axhline(y=0, color='black', linestyle='--')\n",
        "\n",
        "plt.title('Относительный прирост конверсии группы B относительно группы A')\n",
        "plt.xlabel(\"Дата\", fontsize=12)\n",
        "plt.ylabel(\"Конверсия\", fontsize=12)\n",
        "plt.xticks(rotation=45)\n",
        "plt.show()"
      ]
    },
    {
      "cell_type": "markdown",
      "metadata": {
        "id": "r2pOrLDkCoPk"
      },
      "source": [
        "<div style=\"border: solid green 2px; padding: 20px\">\n",
        "    \n",
        "**Вывод**\n",
        "    \n",
        "Конверсия группы B выше конверсии группы А примерно на 15%.",
        "</div>"
      ]
    },
    {
      "cell_type": "markdown",
      "metadata": {
        "id": "YtvhkfW0CoPk"
      },
      "source": [
        "<a name=\"4.6\"><h3>4.6 Количество заказов</h3></a>"
      ]
    },
    {
      "cell_type": "markdown",
      "metadata": {
        "id": "D7QoMtsKCoPk"
      },
      "source": [
        "Подсчитаем количество заказов по пользователям и выведем первые 10 строк таблицы, отсортированной по уменьшению количества заказов:"
      ]
    },
    {
      "cell_type": "code",
      "execution_count": 38,
      "metadata": {
        "id": "pjaQY-22CoPk",
        "colab": {
          "base_uri": "https://localhost:8080/",
          "height": 363
        },
        "outputId": "d5c64b8f-3739-4fcc-a28d-c17acdaefc97"
      },
      "outputs": [
        {
          "output_type": "execute_result",
          "data": {
            "text/plain": [
              "       visitors  orders\n",
              "908  3967698036       3\n",
              "55    249864742       3\n",
              "478  2108163459       3\n",
              "687  2988190573       3\n",
              "890  3908431265       3\n",
              "138   611059232       3\n",
              "632  2742574263       3\n",
              "157   678354126       2\n",
              "323  1404560065       2\n",
              "452  1985475298       2"
            ],
            "text/html": [
              "\n",
              "  <div id=\"df-9488f914-858a-47c6-a01f-efeba1639d54\">\n",
              "    <div class=\"colab-df-container\">\n",
              "      <div>\n",
              "<style scoped>\n",
              "    .dataframe tbody tr th:only-of-type {\n",
              "        vertical-align: middle;\n",
              "    }\n",
              "\n",
              "    .dataframe tbody tr th {\n",
              "        vertical-align: top;\n",
              "    }\n",
              "\n",
              "    .dataframe thead th {\n",
              "        text-align: right;\n",
              "    }\n",
              "</style>\n",
              "<table border=\"1\" class=\"dataframe\">\n",
              "  <thead>\n",
              "    <tr style=\"text-align: right;\">\n",
              "      <th></th>\n",
              "      <th>visitors</th>\n",
              "      <th>orders</th>\n",
              "    </tr>\n",
              "  </thead>\n",
              "  <tbody>\n",
              "    <tr>\n",
              "      <th>908</th>\n",
              "      <td>3967698036</td>\n",
              "      <td>3</td>\n",
              "    </tr>\n",
              "    <tr>\n",
              "      <th>55</th>\n",
              "      <td>249864742</td>\n",
              "      <td>3</td>\n",
              "    </tr>\n",
              "    <tr>\n",
              "      <th>478</th>\n",
              "      <td>2108163459</td>\n",
              "      <td>3</td>\n",
              "    </tr>\n",
              "    <tr>\n",
              "      <th>687</th>\n",
              "      <td>2988190573</td>\n",
              "      <td>3</td>\n",
              "    </tr>\n",
              "    <tr>\n",
              "      <th>890</th>\n",
              "      <td>3908431265</td>\n",
              "      <td>3</td>\n",
              "    </tr>\n",
              "    <tr>\n",
              "      <th>138</th>\n",
              "      <td>611059232</td>\n",
              "      <td>3</td>\n",
              "    </tr>\n",
              "    <tr>\n",
              "      <th>632</th>\n",
              "      <td>2742574263</td>\n",
              "      <td>3</td>\n",
              "    </tr>\n",
              "    <tr>\n",
              "      <th>157</th>\n",
              "      <td>678354126</td>\n",
              "      <td>2</td>\n",
              "    </tr>\n",
              "    <tr>\n",
              "      <th>323</th>\n",
              "      <td>1404560065</td>\n",
              "      <td>2</td>\n",
              "    </tr>\n",
              "    <tr>\n",
              "      <th>452</th>\n",
              "      <td>1985475298</td>\n",
              "      <td>2</td>\n",
              "    </tr>\n",
              "  </tbody>\n",
              "</table>\n",
              "</div>\n",
              "      <button class=\"colab-df-convert\" onclick=\"convertToInteractive('df-9488f914-858a-47c6-a01f-efeba1639d54')\"\n",
              "              title=\"Convert this dataframe to an interactive table.\"\n",
              "              style=\"display:none;\">\n",
              "        \n",
              "  <svg xmlns=\"http://www.w3.org/2000/svg\" height=\"24px\"viewBox=\"0 0 24 24\"\n",
              "       width=\"24px\">\n",
              "    <path d=\"M0 0h24v24H0V0z\" fill=\"none\"/>\n",
              "    <path d=\"M18.56 5.44l.94 2.06.94-2.06 2.06-.94-2.06-.94-.94-2.06-.94 2.06-2.06.94zm-11 1L8.5 8.5l.94-2.06 2.06-.94-2.06-.94L8.5 2.5l-.94 2.06-2.06.94zm10 10l.94 2.06.94-2.06 2.06-.94-2.06-.94-.94-2.06-.94 2.06-2.06.94z\"/><path d=\"M17.41 7.96l-1.37-1.37c-.4-.4-.92-.59-1.43-.59-.52 0-1.04.2-1.43.59L10.3 9.45l-7.72 7.72c-.78.78-.78 2.05 0 2.83L4 21.41c.39.39.9.59 1.41.59.51 0 1.02-.2 1.41-.59l7.78-7.78 2.81-2.81c.8-.78.8-2.07 0-2.86zM5.41 20L4 18.59l7.72-7.72 1.47 1.35L5.41 20z\"/>\n",
              "  </svg>\n",
              "      </button>\n",
              "      \n",
              "  <style>\n",
              "    .colab-df-container {\n",
              "      display:flex;\n",
              "      flex-wrap:wrap;\n",
              "      gap: 12px;\n",
              "    }\n",
              "\n",
              "    .colab-df-convert {\n",
              "      background-color: #E8F0FE;\n",
              "      border: none;\n",
              "      border-radius: 50%;\n",
              "      cursor: pointer;\n",
              "      display: none;\n",
              "      fill: #1967D2;\n",
              "      height: 32px;\n",
              "      padding: 0 0 0 0;\n",
              "      width: 32px;\n",
              "    }\n",
              "\n",
              "    .colab-df-convert:hover {\n",
              "      background-color: #E2EBFA;\n",
              "      box-shadow: 0px 1px 2px rgba(60, 64, 67, 0.3), 0px 1px 3px 1px rgba(60, 64, 67, 0.15);\n",
              "      fill: #174EA6;\n",
              "    }\n",
              "\n",
              "    [theme=dark] .colab-df-convert {\n",
              "      background-color: #3B4455;\n",
              "      fill: #D2E3FC;\n",
              "    }\n",
              "\n",
              "    [theme=dark] .colab-df-convert:hover {\n",
              "      background-color: #434B5C;\n",
              "      box-shadow: 0px 1px 3px 1px rgba(0, 0, 0, 0.15);\n",
              "      filter: drop-shadow(0px 1px 2px rgba(0, 0, 0, 0.3));\n",
              "      fill: #FFFFFF;\n",
              "    }\n",
              "  </style>\n",
              "\n",
              "      <script>\n",
              "        const buttonEl =\n",
              "          document.querySelector('#df-9488f914-858a-47c6-a01f-efeba1639d54 button.colab-df-convert');\n",
              "        buttonEl.style.display =\n",
              "          google.colab.kernel.accessAllowed ? 'block' : 'none';\n",
              "\n",
              "        async function convertToInteractive(key) {\n",
              "          const element = document.querySelector('#df-9488f914-858a-47c6-a01f-efeba1639d54');\n",
              "          const dataTable =\n",
              "            await google.colab.kernel.invokeFunction('convertToInteractive',\n",
              "                                                     [key], {});\n",
              "          if (!dataTable) return;\n",
              "\n",
              "          const docLinkHtml = 'Like what you see? Visit the ' +\n",
              "            '<a target=\"_blank\" href=https://colab.research.google.com/notebooks/data_table.ipynb>data table notebook</a>'\n",
              "            + ' to learn more about interactive tables.';\n",
              "          element.innerHTML = '';\n",
              "          dataTable['output_type'] = 'display_data';\n",
              "          await google.colab.output.renderOutput(dataTable, element);\n",
              "          const docLink = document.createElement('div');\n",
              "          docLink.innerHTML = docLinkHtml;\n",
              "          element.appendChild(docLink);\n",
              "        }\n",
              "      </script>\n",
              "    </div>\n",
              "  </div>\n",
              "  "
            ]
          },
          "metadata": {},
          "execution_count": 38
        }
      ],
      "source": [
        "ordersByUsers = orders.groupby('visitorId', as_index=False).agg({'transactionId': 'nunique'})\n",
        "ordersByUsers.columns = ['visitors', 'orders']\n",
        "ordersByUsers.sort_values(by='orders', ascending=False).head(10)"
      ]
    },
    {
      "cell_type": "markdown",
      "metadata": {
        "id": "UDb5-ETpCoPl"
      },
      "source": [
        "Построим точечную диаграмму:"
      ]
    },
    {
      "cell_type": "code",
      "execution_count": 39,
      "metadata": {
        "id": "2IrPin8YCoPl",
        "colab": {
          "base_uri": "https://localhost:8080/",
          "height": 405
        },
        "outputId": "1c247962-923f-4f69-91a0-ca62f531402d"
      },
      "outputs": [
        {
          "output_type": "display_data",
          "data": {
            "text/plain": [
              "<Figure size 576x432 with 1 Axes>"
            ],
            "image/png": "[encoded data removed]"
          },
          "metadata": {
            "image/png": {
              "width": 510,
              "height": 388
            },
            "needs_background": "light"
          }
        }
      ],
      "source": [
        "x_values = pd.Series(range(0,len(ordersByUsers))) \n",
        "plt.scatter(x_values, ordersByUsers['orders'])\n",
        "plt.title('Количество заказов по пользователям')\n",
        "plt.xlabel(\"Заказы\", fontsize=12)\n",
        "plt.ylabel(\"Количество\", fontsize=12)\n",
        "plt.show()"
      ]
    },
    {
      "cell_type": "markdown",
      "metadata": {
        "id": "b-AVZO5VCoPl"
      },
      "source": [
        "Большинство пользователей совершают один заказ и совсем редко 3 заказа."
      ]
    },
    {
      "cell_type": "markdown",
      "metadata": {
        "id": "wBCs5oV7CoPm"
      },
      "source": [
        "Посчитаем 95-й и 99-й перцентили количества заказов на одного пользователя:"
      ]
    },
    {
      "cell_type": "code",
      "execution_count": 40,
      "metadata": {
        "id": "nIxav7J_CoPm",
        "colab": {
          "base_uri": "https://localhost:8080/"
        },
        "outputId": "b18a2de2-9b1b-48b2-9605-791f0a3946e0"
      },
      "outputs": [
        {
          "output_type": "execute_result",
          "data": {
            "text/plain": [
              "array([1., 2.])"
            ]
          },
          "metadata": {},
          "execution_count": 40
        }
      ],
      "source": [
        "percentile_orders = np.percentile(ordersByUsers['orders'], [95, 99])\n",
        "percentile_orders"
      ]
    },
    {
      "cell_type": "markdown",
      "metadata": {
        "id": "SGXpSPhoCoPm"
      },
      "source": [
        "<div style=\"border: solid green 2px; padding: 20px\">\n",
        "    \n",
        "**Вывод**\n",
        "    \n",
        "Не более 1% клиентов заказывали больше 2 раз. Таких пользователей можно считать аномальными.",
        "</div>"
      ]
    },
    {
      "cell_type": "markdown",
      "metadata": {
        "id": "8BkC5PcGCoPm"
      },
      "source": [
        "<a name=\"4.7\"><h3>4.7 Стоимость заказов</h3></a>"
      ]
    },
    {
      "cell_type": "markdown",
      "metadata": {
        "id": "g65Uk0e8CoPm"
      },
      "source": [
        "Построим точечную диаграмму стоимостей заказов:"
      ]
    },
    {
      "cell_type": "code",
      "execution_count": 41,
      "metadata": {
        "id": "BgiNmH9GCoPm",
        "colab": {
          "base_uri": "https://localhost:8080/",
          "height": 405
        },
        "outputId": "ab020438-6f8b-4f67-d97c-fc2041ac24f4"
      },
      "outputs": [
        {
          "output_type": "display_data",
          "data": {
            "text/plain": [
              "<Figure size 576x432 with 1 Axes>"
            ],
            "image/png": "[encoded data removed]"
          },
          "metadata": {
            "image/png": {
              "width": 499,
              "height": 388
            },
            "needs_background": "light"
          }
        }
      ],
      "source": [
        "x_values = pd.Series(range(0,len(orders['revenue'])))\n",
        "plt.scatter(x_values, orders['revenue'])\n",
        "plt.title('Стоимость заказов по пользователям')\n",
        "plt.xlabel(\"Заказы\", fontsize=12)\n",
        "plt.ylabel(\"Стоимость\", fontsize=12)\n",
        "plt.show()"
      ]
    },
    {
      "cell_type": "markdown",
      "metadata": {
        "id": "hsRb_pzUCoPm"
      },
      "source": [
        "Всего один аномально дорогой заказ стоимостью больше 1,2 млн рублей и один заказ на сумму около 200 тысяч, такие заказы можно считать выбросами. Остальные заказы не превышают ста тысяч."
      ]
    },
    {
      "cell_type": "markdown",
      "metadata": {
        "id": "Cqr0kGYtCoPm"
      },
      "source": [
        "Посчитаем 95-й и 99-й перцентили стоимости заказов:"
      ]
    },
    {
      "cell_type": "code",
      "execution_count": 42,
      "metadata": {
        "id": "cHOK6ApuCoPm",
        "colab": {
          "base_uri": "https://localhost:8080/"
        },
        "outputId": "bd8c39c3-36f3-441f-e033-b655266f3a1e"
      },
      "outputs": [
        {
          "output_type": "execute_result",
          "data": {
            "text/plain": [
              "array([26785., 53904.])"
            ]
          },
          "metadata": {},
          "execution_count": 42
        }
      ],
      "source": [
        "percentile_revenue = np.percentile(orders['revenue'], [95, 99])\n",
        "percentile_revenue"
      ]
    },
    {
      "cell_type": "markdown",
      "metadata": {
        "id": "f6qLJSY9CoPn"
      },
      "source": [
        "<div style=\"border: solid green 2px; padding: 20px\">\n",
        "    \n",
        "**Вывод**\n",
        "    \n",
        "Не более 5% заказов дороже 26 785 рублей и не более 1% дороже 53 904 рублей, такие заказы будем считать аномальными.",
        "</div>"
      ]
    },
    {
      "cell_type": "markdown",
      "metadata": {
        "id": "TBm2FAG9CoPn"
      },
      "source": [
        "<a name=\"4.8\"><h3>4.8 Статистическая значимость различий в конверсии между группами по «сырым» данным</h3></a>"
      ]
    },
    {
      "cell_type": "markdown",
      "metadata": {
        "id": "pNA56qwrCoPn"
      },
      "source": [
        "Сформулируем нулевую и альтернативную гипотезу:\n",
        "\n",
        " * H₀: статистически значимых различий в средней конверсии между группами нет.\n",
        " * H₁: есть статистически значимые различия в средней конверсии между группами."
      ]
    },
    {
      "cell_type": "markdown",
      "metadata": {
        "id": "RyjsgXQvCoPn"
      },
      "source": [
        "Подготовим данные для проверки гипотез и расчета статистической значимости различий конверсий."
      ]
    },
    {
      "cell_type": "markdown",
      "metadata": {
        "id": "fK2O5f1XCoPn"
      },
      "source": [
        "Выделим таблицу с количеством посетителей по дням для группы А:"
      ]
    },
    {
      "cell_type": "code",
      "execution_count": 43,
      "metadata": {
        "id": "QVe1LOLSCoPn",
        "colab": {
          "base_uri": "https://localhost:8080/",
          "height": 206
        },
        "outputId": "87342b8f-eba2-45c4-adad-809c9e27f9b7"
      },
      "outputs": [
        {
          "output_type": "execute_result",
          "data": {
            "text/plain": [
              "        date  visitorsPerDateA\n",
              "0 2019-08-01               719\n",
              "1 2019-08-02               619\n",
              "2 2019-08-03               507\n",
              "3 2019-08-04               717\n",
              "4 2019-08-05               756"
            ],
            "text/html": [
              "\n",
              "  <div id=\"df-4174f7c3-7c9e-46fe-9f87-775d1f7a9792\">\n",
              "    <div class=\"colab-df-container\">\n",
              "      <div>\n",
              "<style scoped>\n",
              "    .dataframe tbody tr th:only-of-type {\n",
              "        vertical-align: middle;\n",
              "    }\n",
              "\n",
              "    .dataframe tbody tr th {\n",
              "        vertical-align: top;\n",
              "    }\n",
              "\n",
              "    .dataframe thead th {\n",
              "        text-align: right;\n",
              "    }\n",
              "</style>\n",
              "<table border=\"1\" class=\"dataframe\">\n",
              "  <thead>\n",
              "    <tr style=\"text-align: right;\">\n",
              "      <th></th>\n",
              "      <th>date</th>\n",
              "      <th>visitorsPerDateA</th>\n",
              "    </tr>\n",
              "  </thead>\n",
              "  <tbody>\n",
              "    <tr>\n",
              "      <th>0</th>\n",
              "      <td>2019-08-01</td>\n",
              "      <td>719</td>\n",
              "    </tr>\n",
              "    <tr>\n",
              "      <th>1</th>\n",
              "      <td>2019-08-02</td>\n",
              "      <td>619</td>\n",
              "    </tr>\n",
              "    <tr>\n",
              "      <th>2</th>\n",
              "      <td>2019-08-03</td>\n",
              "      <td>507</td>\n",
              "    </tr>\n",
              "    <tr>\n",
              "      <th>3</th>\n",
              "      <td>2019-08-04</td>\n",
              "      <td>717</td>\n",
              "    </tr>\n",
              "    <tr>\n",
              "      <th>4</th>\n",
              "      <td>2019-08-05</td>\n",
              "      <td>756</td>\n",
              "    </tr>\n",
              "  </tbody>\n",
              "</table>\n",
              "</div>\n",
              "      <button class=\"colab-df-convert\" onclick=\"convertToInteractive('df-4174f7c3-7c9e-46fe-9f87-775d1f7a9792')\"\n",
              "              title=\"Convert this dataframe to an interactive table.\"\n",
              "              style=\"display:none;\">\n",
              "        \n",
              "  <svg xmlns=\"http://www.w3.org/2000/svg\" height=\"24px\"viewBox=\"0 0 24 24\"\n",
              "       width=\"24px\">\n",
              "    <path d=\"M0 0h24v24H0V0z\" fill=\"none\"/>\n",
              "    <path d=\"M18.56 5.44l.94 2.06.94-2.06 2.06-.94-2.06-.94-.94-2.06-.94 2.06-2.06.94zm-11 1L8.5 8.5l.94-2.06 2.06-.94-2.06-.94L8.5 2.5l-.94 2.06-2.06.94zm10 10l.94 2.06.94-2.06 2.06-.94-2.06-.94-.94-2.06-.94 2.06-2.06.94z\"/><path d=\"M17.41 7.96l-1.37-1.37c-.4-.4-.92-.59-1.43-.59-.52 0-1.04.2-1.43.59L10.3 9.45l-7.72 7.72c-.78.78-.78 2.05 0 2.83L4 21.41c.39.39.9.59 1.41.59.51 0 1.02-.2 1.41-.59l7.78-7.78 2.81-2.81c.8-.78.8-2.07 0-2.86zM5.41 20L4 18.59l7.72-7.72 1.47 1.35L5.41 20z\"/>\n",
              "  </svg>\n",
              "      </button>\n",
              "      \n",
              "  <style>\n",
              "    .colab-df-container {\n",
              "      display:flex;\n",
              "      flex-wrap:wrap;\n",
              "      gap: 12px;\n",
              "    }\n",
              "\n",
              "    .colab-df-convert {\n",
              "      background-color: #E8F0FE;\n",
              "      border: none;\n",
              "      border-radius: 50%;\n",
              "      cursor: pointer;\n",
              "      display: none;\n",
              "      fill: #1967D2;\n",
              "      height: 32px;\n",
              "      padding: 0 0 0 0;\n",
              "      width: 32px;\n",
              "    }\n",
              "\n",
              "    .colab-df-convert:hover {\n",
              "      background-color: #E2EBFA;\n",
              "      box-shadow: 0px 1px 2px rgba(60, 64, 67, 0.3), 0px 1px 3px 1px rgba(60, 64, 67, 0.15);\n",
              "      fill: #174EA6;\n",
              "    }\n",
              "\n",
              "    [theme=dark] .colab-df-convert {\n",
              "      background-color: #3B4455;\n",
              "      fill: #D2E3FC;\n",
              "    }\n",
              "\n",
              "    [theme=dark] .colab-df-convert:hover {\n",
              "      background-color: #434B5C;\n",
              "      box-shadow: 0px 1px 3px 1px rgba(0, 0, 0, 0.15);\n",
              "      filter: drop-shadow(0px 1px 2px rgba(0, 0, 0, 0.3));\n",
              "      fill: #FFFFFF;\n",
              "    }\n",
              "  </style>\n",
              "\n",
              "      <script>\n",
              "        const buttonEl =\n",
              "          document.querySelector('#df-4174f7c3-7c9e-46fe-9f87-775d1f7a9792 button.colab-df-convert');\n",
              "        buttonEl.style.display =\n",
              "          google.colab.kernel.accessAllowed ? 'block' : 'none';\n",
              "\n",
              "        async function convertToInteractive(key) {\n",
              "          const element = document.querySelector('#df-4174f7c3-7c9e-46fe-9f87-775d1f7a9792');\n",
              "          const dataTable =\n",
              "            await google.colab.kernel.invokeFunction('convertToInteractive',\n",
              "                                                     [key], {});\n",
              "          if (!dataTable) return;\n",
              "\n",
              "          const docLinkHtml = 'Like what you see? Visit the ' +\n",
              "            '<a target=\"_blank\" href=https://colab.research.google.com/notebooks/data_table.ipynb>data table notebook</a>'\n",
              "            + ' to learn more about interactive tables.';\n",
              "          element.innerHTML = '';\n",
              "          dataTable['output_type'] = 'display_data';\n",
              "          await google.colab.output.renderOutput(dataTable, element);\n",
              "          const docLink = document.createElement('div');\n",
              "          docLink.innerHTML = docLinkHtml;\n",
              "          element.appendChild(docLink);\n",
              "        }\n",
              "      </script>\n",
              "    </div>\n",
              "  </div>\n",
              "  "
            ]
          },
          "metadata": {},
          "execution_count": 43
        }
      ],
      "source": [
        "visitorsADaily = visitors[visitors['group'] == 'A'][['date', 'visitors']]\n",
        "visitorsADaily.columns = ['date', 'visitorsPerDateA']\n",
        "visitorsADaily.head()"
      ]
    },
    {
      "cell_type": "markdown",
      "metadata": {
        "id": "4wY5TNu5CoPn"
      },
      "source": [
        "Создадим таблицу с кумулятивными данными:"
      ]
    },
    {
      "cell_type": "code",
      "execution_count": 44,
      "metadata": {
        "id": "OrJ7aoWwCoPo",
        "colab": {
          "base_uri": "https://localhost:8080/",
          "height": 206
        },
        "outputId": "f4e9f07c-61ec-4de5-bd67-fe2a5dc6ffa6"
      },
      "outputs": [
        {
          "output_type": "execute_result",
          "data": {
            "text/plain": [
              "        date  visitorsCummulativeA\n",
              "0 2019-08-01                   719\n",
              "1 2019-08-02                  1338\n",
              "2 2019-08-03                  1845\n",
              "3 2019-08-04                  2562\n",
              "4 2019-08-05                  3318"
            ],
            "text/html": [
              "\n",
              "  <div id=\"df-0ca6c386-9872-45f5-bb2c-2424682de2b7\">\n",
              "    <div class=\"colab-df-container\">\n",
              "      <div>\n",
              "<style scoped>\n",
              "    .dataframe tbody tr th:only-of-type {\n",
              "        vertical-align: middle;\n",
              "    }\n",
              "\n",
              "    .dataframe tbody tr th {\n",
              "        vertical-align: top;\n",
              "    }\n",
              "\n",
              "    .dataframe thead th {\n",
              "        text-align: right;\n",
              "    }\n",
              "</style>\n",
              "<table border=\"1\" class=\"dataframe\">\n",
              "  <thead>\n",
              "    <tr style=\"text-align: right;\">\n",
              "      <th></th>\n",
              "      <th>date</th>\n",
              "      <th>visitorsCummulativeA</th>\n",
              "    </tr>\n",
              "  </thead>\n",
              "  <tbody>\n",
              "    <tr>\n",
              "      <th>0</th>\n",
              "      <td>2019-08-01</td>\n",
              "      <td>719</td>\n",
              "    </tr>\n",
              "    <tr>\n",
              "      <th>1</th>\n",
              "      <td>2019-08-02</td>\n",
              "      <td>1338</td>\n",
              "    </tr>\n",
              "    <tr>\n",
              "      <th>2</th>\n",
              "      <td>2019-08-03</td>\n",
              "      <td>1845</td>\n",
              "    </tr>\n",
              "    <tr>\n",
              "      <th>3</th>\n",
              "      <td>2019-08-04</td>\n",
              "      <td>2562</td>\n",
              "    </tr>\n",
              "    <tr>\n",
              "      <th>4</th>\n",
              "      <td>2019-08-05</td>\n",
              "      <td>3318</td>\n",
              "    </tr>\n",
              "  </tbody>\n",
              "</table>\n",
              "</div>\n",
              "      <button class=\"colab-df-convert\" onclick=\"convertToInteractive('df-0ca6c386-9872-45f5-bb2c-2424682de2b7')\"\n",
              "              title=\"Convert this dataframe to an interactive table.\"\n",
              "              style=\"display:none;\">\n",
              "        \n",
              "  <svg xmlns=\"http://www.w3.org/2000/svg\" height=\"24px\"viewBox=\"0 0 24 24\"\n",
              "       width=\"24px\">\n",
              "    <path d=\"M0 0h24v24H0V0z\" fill=\"none\"/>\n",
              "    <path d=\"M18.56 5.44l.94 2.06.94-2.06 2.06-.94-2.06-.94-.94-2.06-.94 2.06-2.06.94zm-11 1L8.5 8.5l.94-2.06 2.06-.94-2.06-.94L8.5 2.5l-.94 2.06-2.06.94zm10 10l.94 2.06.94-2.06 2.06-.94-2.06-.94-.94-2.06-.94 2.06-2.06.94z\"/><path d=\"M17.41 7.96l-1.37-1.37c-.4-.4-.92-.59-1.43-.59-.52 0-1.04.2-1.43.59L10.3 9.45l-7.72 7.72c-.78.78-.78 2.05 0 2.83L4 21.41c.39.39.9.59 1.41.59.51 0 1.02-.2 1.41-.59l7.78-7.78 2.81-2.81c.8-.78.8-2.07 0-2.86zM5.41 20L4 18.59l7.72-7.72 1.47 1.35L5.41 20z\"/>\n",
              "  </svg>\n",
              "      </button>\n",
              "      \n",
              "  <style>\n",
              "    .colab-df-container {\n",
              "      display:flex;\n",
              "      flex-wrap:wrap;\n",
              "      gap: 12px;\n",
              "    }\n",
              "\n",
              "    .colab-df-convert {\n",
              "      background-color: #E8F0FE;\n",
              "      border: none;\n",
              "      border-radius: 50%;\n",
              "      cursor: pointer;\n",
              "      display: none;\n",
              "      fill: #1967D2;\n",
              "      height: 32px;\n",
              "      padding: 0 0 0 0;\n",
              "      width: 32px;\n",
              "    }\n",
              "\n",
              "    .colab-df-convert:hover {\n",
              "      background-color: #E2EBFA;\n",
              "      box-shadow: 0px 1px 2px rgba(60, 64, 67, 0.3), 0px 1px 3px 1px rgba(60, 64, 67, 0.15);\n",
              "      fill: #174EA6;\n",
              "    }\n",
              "\n",
              "    [theme=dark] .colab-df-convert {\n",
              "      background-color: #3B4455;\n",
              "      fill: #D2E3FC;\n",
              "    }\n",
              "\n",
              "    [theme=dark] .colab-df-convert:hover {\n",
              "      background-color: #434B5C;\n",
              "      box-shadow: 0px 1px 3px 1px rgba(0, 0, 0, 0.15);\n",
              "      filter: drop-shadow(0px 1px 2px rgba(0, 0, 0, 0.3));\n",
              "      fill: #FFFFFF;\n",
              "    }\n",
              "  </style>\n",
              "\n",
              "      <script>\n",
              "        const buttonEl =\n",
              "          document.querySelector('#df-0ca6c386-9872-45f5-bb2c-2424682de2b7 button.colab-df-convert');\n",
              "        buttonEl.style.display =\n",
              "          google.colab.kernel.accessAllowed ? 'block' : 'none';\n",
              "\n",
              "        async function convertToInteractive(key) {\n",
              "          const element = document.querySelector('#df-0ca6c386-9872-45f5-bb2c-2424682de2b7');\n",
              "          const dataTable =\n",
              "            await google.colab.kernel.invokeFunction('convertToInteractive',\n",
              "                                                     [key], {});\n",
              "          if (!dataTable) return;\n",
              "\n",
              "          const docLinkHtml = 'Like what you see? Visit the ' +\n",
              "            '<a target=\"_blank\" href=https://colab.research.google.com/notebooks/data_table.ipynb>data table notebook</a>'\n",
              "            + ' to learn more about interactive tables.';\n",
              "          element.innerHTML = '';\n",
              "          dataTable['output_type'] = 'display_data';\n",
              "          await google.colab.output.renderOutput(dataTable, element);\n",
              "          const docLink = document.createElement('div');\n",
              "          docLink.innerHTML = docLinkHtml;\n",
              "          element.appendChild(docLink);\n",
              "        }\n",
              "      </script>\n",
              "    </div>\n",
              "  </div>\n",
              "  "
            ]
          },
          "metadata": {},
          "execution_count": 44
        }
      ],
      "source": [
        "visitorsACummulative = visitorsADaily.apply(\n",
        "    lambda x: visitorsADaily[visitorsADaily['date'] <= x['date']].agg(\n",
        "        {'date': 'max', 'visitorsPerDateA': 'sum'}),axis=1,)\n",
        "visitorsACummulative.columns = ['date', 'visitorsCummulativeA']\n",
        "visitorsACummulative.head()"
      ]
    },
    {
      "cell_type": "markdown",
      "metadata": {
        "id": "x0wMGW4ICoPo"
      },
      "source": [
        "Выделим таблицу с количеством посетителей по дням для группы B:"
      ]
    },
    {
      "cell_type": "code",
      "execution_count": 45,
      "metadata": {
        "id": "0oZAsJ60CoPo",
        "colab": {
          "base_uri": "https://localhost:8080/",
          "height": 206
        },
        "outputId": "8ca5ba35-8056-4f5a-91b1-da3193835862"
      },
      "outputs": [
        {
          "output_type": "execute_result",
          "data": {
            "text/plain": [
              "         date  visitorsPerDateB\n",
              "31 2019-08-01               713\n",
              "32 2019-08-02               581\n",
              "33 2019-08-03               509\n",
              "34 2019-08-04               770\n",
              "35 2019-08-05               707"
            ],
            "text/html": [
              "\n",
              "  <div id=\"df-474f00af-aa5b-4d1a-a963-b1d7117c4ab7\">\n",
              "    <div class=\"colab-df-container\">\n",
              "      <div>\n",
              "<style scoped>\n",
              "    .dataframe tbody tr th:only-of-type {\n",
              "        vertical-align: middle;\n",
              "    }\n",
              "\n",
              "    .dataframe tbody tr th {\n",
              "        vertical-align: top;\n",
              "    }\n",
              "\n",
              "    .dataframe thead th {\n",
              "        text-align: right;\n",
              "    }\n",
              "</style>\n",
              "<table border=\"1\" class=\"dataframe\">\n",
              "  <thead>\n",
              "    <tr style=\"text-align: right;\">\n",
              "      <th></th>\n",
              "      <th>date</th>\n",
              "      <th>visitorsPerDateB</th>\n",
              "    </tr>\n",
              "  </thead>\n",
              "  <tbody>\n",
              "    <tr>\n",
              "      <th>31</th>\n",
              "      <td>2019-08-01</td>\n",
              "      <td>713</td>\n",
              "    </tr>\n",
              "    <tr>\n",
              "      <th>32</th>\n",
              "      <td>2019-08-02</td>\n",
              "      <td>581</td>\n",
              "    </tr>\n",
              "    <tr>\n",
              "      <th>33</th>\n",
              "      <td>2019-08-03</td>\n",
              "      <td>509</td>\n",
              "    </tr>\n",
              "    <tr>\n",
              "      <th>34</th>\n",
              "      <td>2019-08-04</td>\n",
              "      <td>770</td>\n",
              "    </tr>\n",
              "    <tr>\n",
              "      <th>35</th>\n",
              "      <td>2019-08-05</td>\n",
              "      <td>707</td>\n",
              "    </tr>\n",
              "  </tbody>\n",
              "</table>\n",
              "</div>\n",
              "      <button class=\"colab-df-convert\" onclick=\"convertToInteractive('df-474f00af-aa5b-4d1a-a963-b1d7117c4ab7')\"\n",
              "              title=\"Convert this dataframe to an interactive table.\"\n",
              "              style=\"display:none;\">\n",
              "        \n",
              "  <svg xmlns=\"http://www.w3.org/2000/svg\" height=\"24px\"viewBox=\"0 0 24 24\"\n",
              "       width=\"24px\">\n",
              "    <path d=\"M0 0h24v24H0V0z\" fill=\"none\"/>\n",
              "    <path d=\"M18.56 5.44l.94 2.06.94-2.06 2.06-.94-2.06-.94-.94-2.06-.94 2.06-2.06.94zm-11 1L8.5 8.5l.94-2.06 2.06-.94-2.06-.94L8.5 2.5l-.94 2.06-2.06.94zm10 10l.94 2.06.94-2.06 2.06-.94-2.06-.94-.94-2.06-.94 2.06-2.06.94z\"/><path d=\"M17.41 7.96l-1.37-1.37c-.4-.4-.92-.59-1.43-.59-.52 0-1.04.2-1.43.59L10.3 9.45l-7.72 7.72c-.78.78-.78 2.05 0 2.83L4 21.41c.39.39.9.59 1.41.59.51 0 1.02-.2 1.41-.59l7.78-7.78 2.81-2.81c.8-.78.8-2.07 0-2.86zM5.41 20L4 18.59l7.72-7.72 1.47 1.35L5.41 20z\"/>\n",
              "  </svg>\n",
              "      </button>\n",
              "      \n",
              "  <style>\n",
              "    .colab-df-container {\n",
              "      display:flex;\n",
              "      flex-wrap:wrap;\n",
              "      gap: 12px;\n",
              "    }\n",
              "\n",
              "    .colab-df-convert {\n",
              "      background-color: #E8F0FE;\n",
              "      border: none;\n",
              "      border-radius: 50%;\n",
              "      cursor: pointer;\n",
              "      display: none;\n",
              "      fill: #1967D2;\n",
              "      height: 32px;\n",
              "      padding: 0 0 0 0;\n",
              "      width: 32px;\n",
              "    }\n",
              "\n",
              "    .colab-df-convert:hover {\n",
              "      background-color: #E2EBFA;\n",
              "      box-shadow: 0px 1px 2px rgba(60, 64, 67, 0.3), 0px 1px 3px 1px rgba(60, 64, 67, 0.15);\n",
              "      fill: #174EA6;\n",
              "    }\n",
              "\n",
              "    [theme=dark] .colab-df-convert {\n",
              "      background-color: #3B4455;\n",
              "      fill: #D2E3FC;\n",
              "    }\n",
              "\n",
              "    [theme=dark] .colab-df-convert:hover {\n",
              "      background-color: #434B5C;\n",
              "      box-shadow: 0px 1px 3px 1px rgba(0, 0, 0, 0.15);\n",
              "      filter: drop-shadow(0px 1px 2px rgba(0, 0, 0, 0.3));\n",
              "      fill: #FFFFFF;\n",
              "    }\n",
              "  </style>\n",
              "\n",
              "      <script>\n",
              "        const buttonEl =\n",
              "          document.querySelector('#df-474f00af-aa5b-4d1a-a963-b1d7117c4ab7 button.colab-df-convert');\n",
              "        buttonEl.style.display =\n",
              "          google.colab.kernel.accessAllowed ? 'block' : 'none';\n",
              "\n",
              "        async function convertToInteractive(key) {\n",
              "          const element = document.querySelector('#df-474f00af-aa5b-4d1a-a963-b1d7117c4ab7');\n",
              "          const dataTable =\n",
              "            await google.colab.kernel.invokeFunction('convertToInteractive',\n",
              "                                                     [key], {});\n",
              "          if (!dataTable) return;\n",
              "\n",
              "          const docLinkHtml = 'Like what you see? Visit the ' +\n",
              "            '<a target=\"_blank\" href=https://colab.research.google.com/notebooks/data_table.ipynb>data table notebook</a>'\n",
              "            + ' to learn more about interactive tables.';\n",
              "          element.innerHTML = '';\n",
              "          dataTable['output_type'] = 'display_data';\n",
              "          await google.colab.output.renderOutput(dataTable, element);\n",
              "          const docLink = document.createElement('div');\n",
              "          docLink.innerHTML = docLinkHtml;\n",
              "          element.appendChild(docLink);\n",
              "        }\n",
              "      </script>\n",
              "    </div>\n",
              "  </div>\n",
              "  "
            ]
          },
          "metadata": {},
          "execution_count": 45
        }
      ],
      "source": [
        "visitorsBDaily = visitors[visitors['group'] == 'B'][['date', 'visitors']]\n",
        "visitorsBDaily.columns = ['date', 'visitorsPerDateB']\n",
        "visitorsBDaily.head()"
      ]
    },
    {
      "cell_type": "markdown",
      "metadata": {
        "id": "ukY0e58aCoPo"
      },
      "source": [
        "Создадим таблицу с кумулятивными данными по группе B:"
      ]
    },
    {
      "cell_type": "code",
      "execution_count": 46,
      "metadata": {
        "id": "xZxI8FSoCoPo",
        "colab": {
          "base_uri": "https://localhost:8080/",
          "height": 206
        },
        "outputId": "d5334826-76e1-4cd8-e106-79e21d9c1f7e"
      },
      "outputs": [
        {
          "output_type": "execute_result",
          "data": {
            "text/plain": [
              "         date  visitorsCummulativeB\n",
              "31 2019-08-01                   713\n",
              "32 2019-08-02                  1294\n",
              "33 2019-08-03                  1803\n",
              "34 2019-08-04                  2573\n",
              "35 2019-08-05                  3280"
            ],
            "text/html": [
              "\n",
              "  <div id=\"df-0c10802e-3773-44bf-a2f2-90a102c92e0f\">\n",
              "    <div class=\"colab-df-container\">\n",
              "      <div>\n",
              "<style scoped>\n",
              "    .dataframe tbody tr th:only-of-type {\n",
              "        vertical-align: middle;\n",
              "    }\n",
              "\n",
              "    .dataframe tbody tr th {\n",
              "        vertical-align: top;\n",
              "    }\n",
              "\n",
              "    .dataframe thead th {\n",
              "        text-align: right;\n",
              "    }\n",
              "</style>\n",
              "<table border=\"1\" class=\"dataframe\">\n",
              "  <thead>\n",
              "    <tr style=\"text-align: right;\">\n",
              "      <th></th>\n",
              "      <th>date</th>\n",
              "      <th>visitorsCummulativeB</th>\n",
              "    </tr>\n",
              "  </thead>\n",
              "  <tbody>\n",
              "    <tr>\n",
              "      <th>31</th>\n",
              "      <td>2019-08-01</td>\n",
              "      <td>713</td>\n",
              "    </tr>\n",
              "    <tr>\n",
              "      <th>32</th>\n",
              "      <td>2019-08-02</td>\n",
              "      <td>1294</td>\n",
              "    </tr>\n",
              "    <tr>\n",
              "      <th>33</th>\n",
              "      <td>2019-08-03</td>\n",
              "      <td>1803</td>\n",
              "    </tr>\n",
              "    <tr>\n",
              "      <th>34</th>\n",
              "      <td>2019-08-04</td>\n",
              "      <td>2573</td>\n",
              "    </tr>\n",
              "    <tr>\n",
              "      <th>35</th>\n",
              "      <td>2019-08-05</td>\n",
              "      <td>3280</td>\n",
              "    </tr>\n",
              "  </tbody>\n",
              "</table>\n",
              "</div>\n",
              "      <button class=\"colab-df-convert\" onclick=\"convertToInteractive('df-0c10802e-3773-44bf-a2f2-90a102c92e0f')\"\n",
              "              title=\"Convert this dataframe to an interactive table.\"\n",
              "              style=\"display:none;\">\n",
              "        \n",
              "  <svg xmlns=\"http://www.w3.org/2000/svg\" height=\"24px\"viewBox=\"0 0 24 24\"\n",
              "       width=\"24px\">\n",
              "    <path d=\"M0 0h24v24H0V0z\" fill=\"none\"/>\n",
              "    <path d=\"M18.56 5.44l.94 2.06.94-2.06 2.06-.94-2.06-.94-.94-2.06-.94 2.06-2.06.94zm-11 1L8.5 8.5l.94-2.06 2.06-.94-2.06-.94L8.5 2.5l-.94 2.06-2.06.94zm10 10l.94 2.06.94-2.06 2.06-.94-2.06-.94-.94-2.06-.94 2.06-2.06.94z\"/><path d=\"M17.41 7.96l-1.37-1.37c-.4-.4-.92-.59-1.43-.59-.52 0-1.04.2-1.43.59L10.3 9.45l-7.72 7.72c-.78.78-.78 2.05 0 2.83L4 21.41c.39.39.9.59 1.41.59.51 0 1.02-.2 1.41-.59l7.78-7.78 2.81-2.81c.8-.78.8-2.07 0-2.86zM5.41 20L4 18.59l7.72-7.72 1.47 1.35L5.41 20z\"/>\n",
              "  </svg>\n",
              "      </button>\n",
              "      \n",
              "  <style>\n",
              "    .colab-df-container {\n",
              "      display:flex;\n",
              "      flex-wrap:wrap;\n",
              "      gap: 12px;\n",
              "    }\n",
              "\n",
              "    .colab-df-convert {\n",
              "      background-color: #E8F0FE;\n",
              "      border: none;\n",
              "      border-radius: 50%;\n",
              "      cursor: pointer;\n",
              "      display: none;\n",
              "      fill: #1967D2;\n",
              "      height: 32px;\n",
              "      padding: 0 0 0 0;\n",
              "      width: 32px;\n",
              "    }\n",
              "\n",
              "    .colab-df-convert:hover {\n",
              "      background-color: #E2EBFA;\n",
              "      box-shadow: 0px 1px 2px rgba(60, 64, 67, 0.3), 0px 1px 3px 1px rgba(60, 64, 67, 0.15);\n",
              "      fill: #174EA6;\n",
              "    }\n",
              "\n",
              "    [theme=dark] .colab-df-convert {\n",
              "      background-color: #3B4455;\n",
              "      fill: #D2E3FC;\n",
              "    }\n",
              "\n",
              "    [theme=dark] .colab-df-convert:hover {\n",
              "      background-color: #434B5C;\n",
              "      box-shadow: 0px 1px 3px 1px rgba(0, 0, 0, 0.15);\n",
              "      filter: drop-shadow(0px 1px 2px rgba(0, 0, 0, 0.3));\n",
              "      fill: #FFFFFF;\n",
              "    }\n",
              "  </style>\n",
              "\n",
              "      <script>\n",
              "        const buttonEl =\n",
              "          document.querySelector('#df-0c10802e-3773-44bf-a2f2-90a102c92e0f button.colab-df-convert');\n",
              "        buttonEl.style.display =\n",
              "          google.colab.kernel.accessAllowed ? 'block' : 'none';\n",
              "\n",
              "        async function convertToInteractive(key) {\n",
              "          const element = document.querySelector('#df-0c10802e-3773-44bf-a2f2-90a102c92e0f');\n",
              "          const dataTable =\n",
              "            await google.colab.kernel.invokeFunction('convertToInteractive',\n",
              "                                                     [key], {});\n",
              "          if (!dataTable) return;\n",
              "\n",
              "          const docLinkHtml = 'Like what you see? Visit the ' +\n",
              "            '<a target=\"_blank\" href=https://colab.research.google.com/notebooks/data_table.ipynb>data table notebook</a>'\n",
              "            + ' to learn more about interactive tables.';\n",
              "          element.innerHTML = '';\n",
              "          dataTable['output_type'] = 'display_data';\n",
              "          await google.colab.output.renderOutput(dataTable, element);\n",
              "          const docLink = document.createElement('div');\n",
              "          docLink.innerHTML = docLinkHtml;\n",
              "          element.appendChild(docLink);\n",
              "        }\n",
              "      </script>\n",
              "    </div>\n",
              "  </div>\n",
              "  "
            ]
          },
          "metadata": {},
          "execution_count": 46
        }
      ],
      "source": [
        "visitorsBCummulative = visitorsBDaily.apply(\n",
        "    lambda x: visitorsBDaily[visitorsBDaily['date'] <= x['date']].agg(\n",
        "        {'date': 'max', 'visitorsPerDateB': 'sum'}),axis=1,)\n",
        "visitorsBCummulative.columns = ['date', 'visitorsCummulativeB']\n",
        "visitorsBCummulative.head()"
      ]
    },
    {
      "cell_type": "markdown",
      "metadata": {
        "id": "3W4MINSoCoPo"
      },
      "source": [
        "Создадим таблицу с количеством заказов и общей выручкой по дням для группы А:"
      ]
    },
    {
      "cell_type": "code",
      "execution_count": 47,
      "metadata": {
        "id": "Jud5zwetCoPo",
        "colab": {
          "base_uri": "https://localhost:8080/",
          "height": 206
        },
        "outputId": "3b54a6a4-09e3-40b2-eb1e-44cb74b19bb3"
      },
      "outputs": [
        {
          "output_type": "execute_result",
          "data": {
            "text/plain": [
              "        date  ordersPerDateA  revenuePerDateA\n",
              "0 2019-08-01              23           142779\n",
              "1 2019-08-02              19            91602\n",
              "2 2019-08-03              24           112473\n",
              "3 2019-08-04              11            41176\n",
              "4 2019-08-05              22            86383"
            ],
            "text/html": [
              "\n",
              "  <div id=\"df-680c1610-7076-4b6c-a6a9-1ff90b47de24\">\n",
              "    <div class=\"colab-df-container\">\n",
              "      <div>\n",
              "<style scoped>\n",
              "    .dataframe tbody tr th:only-of-type {\n",
              "        vertical-align: middle;\n",
              "    }\n",
              "\n",
              "    .dataframe tbody tr th {\n",
              "        vertical-align: top;\n",
              "    }\n",
              "\n",
              "    .dataframe thead th {\n",
              "        text-align: right;\n",
              "    }\n",
              "</style>\n",
              "<table border=\"1\" class=\"dataframe\">\n",
              "  <thead>\n",
              "    <tr style=\"text-align: right;\">\n",
              "      <th></th>\n",
              "      <th>date</th>\n",
              "      <th>ordersPerDateA</th>\n",
              "      <th>revenuePerDateA</th>\n",
              "    </tr>\n",
              "  </thead>\n",
              "  <tbody>\n",
              "    <tr>\n",
              "      <th>0</th>\n",
              "      <td>2019-08-01</td>\n",
              "      <td>23</td>\n",
              "      <td>142779</td>\n",
              "    </tr>\n",
              "    <tr>\n",
              "      <th>1</th>\n",
              "      <td>2019-08-02</td>\n",
              "      <td>19</td>\n",
              "      <td>91602</td>\n",
              "    </tr>\n",
              "    <tr>\n",
              "      <th>2</th>\n",
              "      <td>2019-08-03</td>\n",
              "      <td>24</td>\n",
              "      <td>112473</td>\n",
              "    </tr>\n",
              "    <tr>\n",
              "      <th>3</th>\n",
              "      <td>2019-08-04</td>\n",
              "      <td>11</td>\n",
              "      <td>41176</td>\n",
              "    </tr>\n",
              "    <tr>\n",
              "      <th>4</th>\n",
              "      <td>2019-08-05</td>\n",
              "      <td>22</td>\n",
              "      <td>86383</td>\n",
              "    </tr>\n",
              "  </tbody>\n",
              "</table>\n",
              "</div>\n",
              "      <button class=\"colab-df-convert\" onclick=\"convertToInteractive('df-680c1610-7076-4b6c-a6a9-1ff90b47de24')\"\n",
              "              title=\"Convert this dataframe to an interactive table.\"\n",
              "              style=\"display:none;\">\n",
              "        \n",
              "  <svg xmlns=\"http://www.w3.org/2000/svg\" height=\"24px\"viewBox=\"0 0 24 24\"\n",
              "       width=\"24px\">\n",
              "    <path d=\"M0 0h24v24H0V0z\" fill=\"none\"/>\n",
              "    <path d=\"M18.56 5.44l.94 2.06.94-2.06 2.06-.94-2.06-.94-.94-2.06-.94 2.06-2.06.94zm-11 1L8.5 8.5l.94-2.06 2.06-.94-2.06-.94L8.5 2.5l-.94 2.06-2.06.94zm10 10l.94 2.06.94-2.06 2.06-.94-2.06-.94-.94-2.06-.94 2.06-2.06.94z\"/><path d=\"M17.41 7.96l-1.37-1.37c-.4-.4-.92-.59-1.43-.59-.52 0-1.04.2-1.43.59L10.3 9.45l-7.72 7.72c-.78.78-.78 2.05 0 2.83L4 21.41c.39.39.9.59 1.41.59.51 0 1.02-.2 1.41-.59l7.78-7.78 2.81-2.81c.8-.78.8-2.07 0-2.86zM5.41 20L4 18.59l7.72-7.72 1.47 1.35L5.41 20z\"/>\n",
              "  </svg>\n",
              "      </button>\n",
              "      \n",
              "  <style>\n",
              "    .colab-df-container {\n",
              "      display:flex;\n",
              "      flex-wrap:wrap;\n",
              "      gap: 12px;\n",
              "    }\n",
              "\n",
              "    .colab-df-convert {\n",
              "      background-color: #E8F0FE;\n",
              "      border: none;\n",
              "      border-radius: 50%;\n",
              "      cursor: pointer;\n",
              "      display: none;\n",
              "      fill: #1967D2;\n",
              "      height: 32px;\n",
              "      padding: 0 0 0 0;\n",
              "      width: 32px;\n",
              "    }\n",
              "\n",
              "    .colab-df-convert:hover {\n",
              "      background-color: #E2EBFA;\n",
              "      box-shadow: 0px 1px 2px rgba(60, 64, 67, 0.3), 0px 1px 3px 1px rgba(60, 64, 67, 0.15);\n",
              "      fill: #174EA6;\n",
              "    }\n",
              "\n",
              "    [theme=dark] .colab-df-convert {\n",
              "      background-color: #3B4455;\n",
              "      fill: #D2E3FC;\n",
              "    }\n",
              "\n",
              "    [theme=dark] .colab-df-convert:hover {\n",
              "      background-color: #434B5C;\n",
              "      box-shadow: 0px 1px 3px 1px rgba(0, 0, 0, 0.15);\n",
              "      filter: drop-shadow(0px 1px 2px rgba(0, 0, 0, 0.3));\n",
              "      fill: #FFFFFF;\n",
              "    }\n",
              "  </style>\n",
              "\n",
              "      <script>\n",
              "        const buttonEl =\n",
              "          document.querySelector('#df-680c1610-7076-4b6c-a6a9-1ff90b47de24 button.colab-df-convert');\n",
              "        buttonEl.style.display =\n",
              "          google.colab.kernel.accessAllowed ? 'block' : 'none';\n",
              "\n",
              "        async function convertToInteractive(key) {\n",
              "          const element = document.querySelector('#df-680c1610-7076-4b6c-a6a9-1ff90b47de24');\n",
              "          const dataTable =\n",
              "            await google.colab.kernel.invokeFunction('convertToInteractive',\n",
              "                                                     [key], {});\n",
              "          if (!dataTable) return;\n",
              "\n",
              "          const docLinkHtml = 'Like what you see? Visit the ' +\n",
              "            '<a target=\"_blank\" href=https://colab.research.google.com/notebooks/data_table.ipynb>data table notebook</a>'\n",
              "            + ' to learn more about interactive tables.';\n",
              "          element.innerHTML = '';\n",
              "          dataTable['output_type'] = 'display_data';\n",
              "          await google.colab.output.renderOutput(dataTable, element);\n",
              "          const docLink = document.createElement('div');\n",
              "          docLink.innerHTML = docLinkHtml;\n",
              "          element.appendChild(docLink);\n",
              "        }\n",
              "      </script>\n",
              "    </div>\n",
              "  </div>\n",
              "  "
            ]
          },
          "metadata": {},
          "execution_count": 47
        }
      ],
      "source": [
        "ordersADaily = (orders[orders['group'] == 'A'][['date', 'transactionId', 'visitorId', 'revenue']]\n",
        "    .groupby('date', as_index=False)\n",
        "    .agg({'transactionId': pd.Series.nunique, 'revenue': 'sum'}))\n",
        "ordersADaily.columns = ['date', 'ordersPerDateA', 'revenuePerDateA']\n",
        "ordersADaily.head()"
      ]
    },
    {
      "cell_type": "markdown",
      "metadata": {
        "id": "zyAim_T-CoPo"
      },
      "source": [
        "Добавим таблицу с кумулятивными данными по заказам и выручке для группы А:"
      ]
    },
    {
      "cell_type": "code",
      "execution_count": 48,
      "metadata": {
        "id": "n5Ki6eNrCoPo",
        "colab": {
          "base_uri": "https://localhost:8080/",
          "height": 206
        },
        "outputId": "02863250-ba8a-4df2-8034-a04aec0a2162"
      },
      "outputs": [
        {
          "output_type": "execute_result",
          "data": {
            "text/plain": [
              "        date  ordersCummulativeA  revenueCummulativeA\n",
              "0 2019-08-01                  23               142779\n",
              "1 2019-08-02                  42               234381\n",
              "2 2019-08-03                  66               346854\n",
              "3 2019-08-04                  77               388030\n",
              "4 2019-08-05                  99               474413"
            ],
            "text/html": [
              "\n",
              "  <div id=\"df-259e373b-c1e1-4a81-8d6f-6dc89f55154c\">\n",
              "    <div class=\"colab-df-container\">\n",
              "      <div>\n",
              "<style scoped>\n",
              "    .dataframe tbody tr th:only-of-type {\n",
              "        vertical-align: middle;\n",
              "    }\n",
              "\n",
              "    .dataframe tbody tr th {\n",
              "        vertical-align: top;\n",
              "    }\n",
              "\n",
              "    .dataframe thead th {\n",
              "        text-align: right;\n",
              "    }\n",
              "</style>\n",
              "<table border=\"1\" class=\"dataframe\">\n",
              "  <thead>\n",
              "    <tr style=\"text-align: right;\">\n",
              "      <th></th>\n",
              "      <th>date</th>\n",
              "      <th>ordersCummulativeA</th>\n",
              "      <th>revenueCummulativeA</th>\n",
              "    </tr>\n",
              "  </thead>\n",
              "  <tbody>\n",
              "    <tr>\n",
              "      <th>0</th>\n",
              "      <td>2019-08-01</td>\n",
              "      <td>23</td>\n",
              "      <td>142779</td>\n",
              "    </tr>\n",
              "    <tr>\n",
              "      <th>1</th>\n",
              "      <td>2019-08-02</td>\n",
              "      <td>42</td>\n",
              "      <td>234381</td>\n",
              "    </tr>\n",
              "    <tr>\n",
              "      <th>2</th>\n",
              "      <td>2019-08-03</td>\n",
              "      <td>66</td>\n",
              "      <td>346854</td>\n",
              "    </tr>\n",
              "    <tr>\n",
              "      <th>3</th>\n",
              "      <td>2019-08-04</td>\n",
              "      <td>77</td>\n",
              "      <td>388030</td>\n",
              "    </tr>\n",
              "    <tr>\n",
              "      <th>4</th>\n",
              "      <td>2019-08-05</td>\n",
              "      <td>99</td>\n",
              "      <td>474413</td>\n",
              "    </tr>\n",
              "  </tbody>\n",
              "</table>\n",
              "</div>\n",
              "      <button class=\"colab-df-convert\" onclick=\"convertToInteractive('df-259e373b-c1e1-4a81-8d6f-6dc89f55154c')\"\n",
              "              title=\"Convert this dataframe to an interactive table.\"\n",
              "              style=\"display:none;\">\n",
              "        \n",
              "  <svg xmlns=\"http://www.w3.org/2000/svg\" height=\"24px\"viewBox=\"0 0 24 24\"\n",
              "       width=\"24px\">\n",
              "    <path d=\"M0 0h24v24H0V0z\" fill=\"none\"/>\n",
              "    <path d=\"M18.56 5.44l.94 2.06.94-2.06 2.06-.94-2.06-.94-.94-2.06-.94 2.06-2.06.94zm-11 1L8.5 8.5l.94-2.06 2.06-.94-2.06-.94L8.5 2.5l-.94 2.06-2.06.94zm10 10l.94 2.06.94-2.06 2.06-.94-2.06-.94-.94-2.06-.94 2.06-2.06.94z\"/><path d=\"M17.41 7.96l-1.37-1.37c-.4-.4-.92-.59-1.43-.59-.52 0-1.04.2-1.43.59L10.3 9.45l-7.72 7.72c-.78.78-.78 2.05 0 2.83L4 21.41c.39.39.9.59 1.41.59.51 0 1.02-.2 1.41-.59l7.78-7.78 2.81-2.81c.8-.78.8-2.07 0-2.86zM5.41 20L4 18.59l7.72-7.72 1.47 1.35L5.41 20z\"/>\n",
              "  </svg>\n",
              "      </button>\n",
              "      \n",
              "  <style>\n",
              "    .colab-df-container {\n",
              "      display:flex;\n",
              "      flex-wrap:wrap;\n",
              "      gap: 12px;\n",
              "    }\n",
              "\n",
              "    .colab-df-convert {\n",
              "      background-color: #E8F0FE;\n",
              "      border: none;\n",
              "      border-radius: 50%;\n",
              "      cursor: pointer;\n",
              "      display: none;\n",
              "      fill: #1967D2;\n",
              "      height: 32px;\n",
              "      padding: 0 0 0 0;\n",
              "      width: 32px;\n",
              "    }\n",
              "\n",
              "    .colab-df-convert:hover {\n",
              "      background-color: #E2EBFA;\n",
              "      box-shadow: 0px 1px 2px rgba(60, 64, 67, 0.3), 0px 1px 3px 1px rgba(60, 64, 67, 0.15);\n",
              "      fill: #174EA6;\n",
              "    }\n",
              "\n",
              "    [theme=dark] .colab-df-convert {\n",
              "      background-color: #3B4455;\n",
              "      fill: #D2E3FC;\n",
              "    }\n",
              "\n",
              "    [theme=dark] .colab-df-convert:hover {\n",
              "      background-color: #434B5C;\n",
              "      box-shadow: 0px 1px 3px 1px rgba(0, 0, 0, 0.15);\n",
              "      filter: drop-shadow(0px 1px 2px rgba(0, 0, 0, 0.3));\n",
              "      fill: #FFFFFF;\n",
              "    }\n",
              "  </style>\n",
              "\n",
              "      <script>\n",
              "        const buttonEl =\n",
              "          document.querySelector('#df-259e373b-c1e1-4a81-8d6f-6dc89f55154c button.colab-df-convert');\n",
              "        buttonEl.style.display =\n",
              "          google.colab.kernel.accessAllowed ? 'block' : 'none';\n",
              "\n",
              "        async function convertToInteractive(key) {\n",
              "          const element = document.querySelector('#df-259e373b-c1e1-4a81-8d6f-6dc89f55154c');\n",
              "          const dataTable =\n",
              "            await google.colab.kernel.invokeFunction('convertToInteractive',\n",
              "                                                     [key], {});\n",
              "          if (!dataTable) return;\n",
              "\n",
              "          const docLinkHtml = 'Like what you see? Visit the ' +\n",
              "            '<a target=\"_blank\" href=https://colab.research.google.com/notebooks/data_table.ipynb>data table notebook</a>'\n",
              "            + ' to learn more about interactive tables.';\n",
              "          element.innerHTML = '';\n",
              "          dataTable['output_type'] = 'display_data';\n",
              "          await google.colab.output.renderOutput(dataTable, element);\n",
              "          const docLink = document.createElement('div');\n",
              "          docLink.innerHTML = docLinkHtml;\n",
              "          element.appendChild(docLink);\n",
              "        }\n",
              "      </script>\n",
              "    </div>\n",
              "  </div>\n",
              "  "
            ]
          },
          "metadata": {},
          "execution_count": 48
        }
      ],
      "source": [
        "ordersACummulative = ordersADaily.apply(\n",
        "    lambda x: ordersADaily[ordersADaily['date'] <= x['date']].agg(\n",
        "        {'date': 'max', 'ordersPerDateA': 'sum', 'revenuePerDateA': 'sum'}\n",
        "    ),\n",
        "    axis=1,\n",
        ").sort_values(by=['date'])\n",
        "ordersACummulative.columns = ['date', 'ordersCummulativeA', 'revenueCummulativeA',]\n",
        "ordersACummulative.head()"
      ]
    },
    {
      "cell_type": "markdown",
      "metadata": {
        "id": "XKMzJ2qVCoPp"
      },
      "source": [
        "Создадим таблицу с количеством заказов и общей выручкой по дням для группы B:"
      ]
    },
    {
      "cell_type": "code",
      "execution_count": 49,
      "metadata": {
        "id": "3zRe2lWBCoPp",
        "colab": {
          "base_uri": "https://localhost:8080/",
          "height": 206
        },
        "outputId": "8d739baf-34f0-4113-854e-37f276dac96a"
      },
      "outputs": [
        {
          "output_type": "execute_result",
          "data": {
            "text/plain": [
              "        date  ordersPerDateB  revenuePerDateB\n",
              "0 2019-08-01              17            59758\n",
              "1 2019-08-02              23           162043\n",
              "2 2019-08-03              14            67049\n",
              "3 2019-08-04              14            96890\n",
              "4 2019-08-05              21            89908"
            ],
            "text/html": [
              "\n",
              "  <div id=\"df-7753158a-0612-44dc-8e51-1e6e1bd24d44\">\n",
              "    <div class=\"colab-df-container\">\n",
              "      <div>\n",
              "<style scoped>\n",
              "    .dataframe tbody tr th:only-of-type {\n",
              "        vertical-align: middle;\n",
              "    }\n",
              "\n",
              "    .dataframe tbody tr th {\n",
              "        vertical-align: top;\n",
              "    }\n",
              "\n",
              "    .dataframe thead th {\n",
              "        text-align: right;\n",
              "    }\n",
              "</style>\n",
              "<table border=\"1\" class=\"dataframe\">\n",
              "  <thead>\n",
              "    <tr style=\"text-align: right;\">\n",
              "      <th></th>\n",
              "      <th>date</th>\n",
              "      <th>ordersPerDateB</th>\n",
              "      <th>revenuePerDateB</th>\n",
              "    </tr>\n",
              "  </thead>\n",
              "  <tbody>\n",
              "    <tr>\n",
              "      <th>0</th>\n",
              "      <td>2019-08-01</td>\n",
              "      <td>17</td>\n",
              "      <td>59758</td>\n",
              "    </tr>\n",
              "    <tr>\n",
              "      <th>1</th>\n",
              "      <td>2019-08-02</td>\n",
              "      <td>23</td>\n",
              "      <td>162043</td>\n",
              "    </tr>\n",
              "    <tr>\n",
              "      <th>2</th>\n",
              "      <td>2019-08-03</td>\n",
              "      <td>14</td>\n",
              "      <td>67049</td>\n",
              "    </tr>\n",
              "    <tr>\n",
              "      <th>3</th>\n",
              "      <td>2019-08-04</td>\n",
              "      <td>14</td>\n",
              "      <td>96890</td>\n",
              "    </tr>\n",
              "    <tr>\n",
              "      <th>4</th>\n",
              "      <td>2019-08-05</td>\n",
              "      <td>21</td>\n",
              "      <td>89908</td>\n",
              "    </tr>\n",
              "  </tbody>\n",
              "</table>\n",
              "</div>\n",
              "      <button class=\"colab-df-convert\" onclick=\"convertToInteractive('df-7753158a-0612-44dc-8e51-1e6e1bd24d44')\"\n",
              "              title=\"Convert this dataframe to an interactive table.\"\n",
              "              style=\"display:none;\">\n",
              "        \n",
              "  <svg xmlns=\"http://www.w3.org/2000/svg\" height=\"24px\"viewBox=\"0 0 24 24\"\n",
              "       width=\"24px\">\n",
              "    <path d=\"M0 0h24v24H0V0z\" fill=\"none\"/>\n",
              "    <path d=\"M18.56 5.44l.94 2.06.94-2.06 2.06-.94-2.06-.94-.94-2.06-.94 2.06-2.06.94zm-11 1L8.5 8.5l.94-2.06 2.06-.94-2.06-.94L8.5 2.5l-.94 2.06-2.06.94zm10 10l.94 2.06.94-2.06 2.06-.94-2.06-.94-.94-2.06-.94 2.06-2.06.94z\"/><path d=\"M17.41 7.96l-1.37-1.37c-.4-.4-.92-.59-1.43-.59-.52 0-1.04.2-1.43.59L10.3 9.45l-7.72 7.72c-.78.78-.78 2.05 0 2.83L4 21.41c.39.39.9.59 1.41.59.51 0 1.02-.2 1.41-.59l7.78-7.78 2.81-2.81c.8-.78.8-2.07 0-2.86zM5.41 20L4 18.59l7.72-7.72 1.47 1.35L5.41 20z\"/>\n",
              "  </svg>\n",
              "      </button>\n",
              "      \n",
              "  <style>\n",
              "    .colab-df-container {\n",
              "      display:flex;\n",
              "      flex-wrap:wrap;\n",
              "      gap: 12px;\n",
              "    }\n",
              "\n",
              "    .colab-df-convert {\n",
              "      background-color: #E8F0FE;\n",
              "      border: none;\n",
              "      border-radius: 50%;\n",
              "      cursor: pointer;\n",
              "      display: none;\n",
              "      fill: #1967D2;\n",
              "      height: 32px;\n",
              "      padding: 0 0 0 0;\n",
              "      width: 32px;\n",
              "    }\n",
              "\n",
              "    .colab-df-convert:hover {\n",
              "      background-color: #E2EBFA;\n",
              "      box-shadow: 0px 1px 2px rgba(60, 64, 67, 0.3), 0px 1px 3px 1px rgba(60, 64, 67, 0.15);\n",
              "      fill: #174EA6;\n",
              "    }\n",
              "\n",
              "    [theme=dark] .colab-df-convert {\n",
              "      background-color: #3B4455;\n",
              "      fill: #D2E3FC;\n",
              "    }\n",
              "\n",
              "    [theme=dark] .colab-df-convert:hover {\n",
              "      background-color: #434B5C;\n",
              "      box-shadow: 0px 1px 3px 1px rgba(0, 0, 0, 0.15);\n",
              "      filter: drop-shadow(0px 1px 2px rgba(0, 0, 0, 0.3));\n",
              "      fill: #FFFFFF;\n",
              "    }\n",
              "  </style>\n",
              "\n",
              "      <script>\n",
              "        const buttonEl =\n",
              "          document.querySelector('#df-7753158a-0612-44dc-8e51-1e6e1bd24d44 button.colab-df-convert');\n",
              "        buttonEl.style.display =\n",
              "          google.colab.kernel.accessAllowed ? 'block' : 'none';\n",
              "\n",
              "        async function convertToInteractive(key) {\n",
              "          const element = document.querySelector('#df-7753158a-0612-44dc-8e51-1e6e1bd24d44');\n",
              "          const dataTable =\n",
              "            await google.colab.kernel.invokeFunction('convertToInteractive',\n",
              "                                                     [key], {});\n",
              "          if (!dataTable) return;\n",
              "\n",
              "          const docLinkHtml = 'Like what you see? Visit the ' +\n",
              "            '<a target=\"_blank\" href=https://colab.research.google.com/notebooks/data_table.ipynb>data table notebook</a>'\n",
              "            + ' to learn more about interactive tables.';\n",
              "          element.innerHTML = '';\n",
              "          dataTable['output_type'] = 'display_data';\n",
              "          await google.colab.output.renderOutput(dataTable, element);\n",
              "          const docLink = document.createElement('div');\n",
              "          docLink.innerHTML = docLinkHtml;\n",
              "          element.appendChild(docLink);\n",
              "        }\n",
              "      </script>\n",
              "    </div>\n",
              "  </div>\n",
              "  "
            ]
          },
          "metadata": {},
          "execution_count": 49
        }
      ],
      "source": [
        "ordersBDaily = (orders[orders['group'] == 'B'][['date', 'transactionId', 'visitorId', 'revenue']]\n",
        "    .groupby('date', as_index=False)\n",
        "    .agg({'transactionId': pd.Series.nunique, 'revenue': 'sum'}))\n",
        "ordersBDaily.columns = ['date', 'ordersPerDateB', 'revenuePerDateB']\n",
        "ordersBDaily.head()"
      ]
    },
    {
      "cell_type": "markdown",
      "metadata": {
        "id": "kTKfwjuJCoPp"
      },
      "source": [
        "Добавим таблицу с кумулятивными данными по заказам и выручке для группы В:"
      ]
    },
    {
      "cell_type": "code",
      "execution_count": 50,
      "metadata": {
        "id": "lAxCjA-aCoPp",
        "colab": {
          "base_uri": "https://localhost:8080/",
          "height": 206
        },
        "outputId": "dd0e5dad-4b5e-465c-a01c-3eba4375a877"
      },
      "outputs": [
        {
          "output_type": "execute_result",
          "data": {
            "text/plain": [
              "        date  ordersCummulativeB  revenueCummulativeB\n",
              "0 2019-08-01                  17                59758\n",
              "1 2019-08-02                  40               221801\n",
              "2 2019-08-03                  54               288850\n",
              "3 2019-08-04                  68               385740\n",
              "4 2019-08-05                  89               475648"
            ],
            "text/html": [
              "\n",
              "  <div id=\"df-fab84f5d-a12a-4dcb-9637-14f7c6fae88f\">\n",
              "    <div class=\"colab-df-container\">\n",
              "      <div>\n",
              "<style scoped>\n",
              "    .dataframe tbody tr th:only-of-type {\n",
              "        vertical-align: middle;\n",
              "    }\n",
              "\n",
              "    .dataframe tbody tr th {\n",
              "        vertical-align: top;\n",
              "    }\n",
              "\n",
              "    .dataframe thead th {\n",
              "        text-align: right;\n",
              "    }\n",
              "</style>\n",
              "<table border=\"1\" class=\"dataframe\">\n",
              "  <thead>\n",
              "    <tr style=\"text-align: right;\">\n",
              "      <th></th>\n",
              "      <th>date</th>\n",
              "      <th>ordersCummulativeB</th>\n",
              "      <th>revenueCummulativeB</th>\n",
              "    </tr>\n",
              "  </thead>\n",
              "  <tbody>\n",
              "    <tr>\n",
              "      <th>0</th>\n",
              "      <td>2019-08-01</td>\n",
              "      <td>17</td>\n",
              "      <td>59758</td>\n",
              "    </tr>\n",
              "    <tr>\n",
              "      <th>1</th>\n",
              "      <td>2019-08-02</td>\n",
              "      <td>40</td>\n",
              "      <td>221801</td>\n",
              "    </tr>\n",
              "    <tr>\n",
              "      <th>2</th>\n",
              "      <td>2019-08-03</td>\n",
              "      <td>54</td>\n",
              "      <td>288850</td>\n",
              "    </tr>\n",
              "    <tr>\n",
              "      <th>3</th>\n",
              "      <td>2019-08-04</td>\n",
              "      <td>68</td>\n",
              "      <td>385740</td>\n",
              "    </tr>\n",
              "    <tr>\n",
              "      <th>4</th>\n",
              "      <td>2019-08-05</td>\n",
              "      <td>89</td>\n",
              "      <td>475648</td>\n",
              "    </tr>\n",
              "  </tbody>\n",
              "</table>\n",
              "</div>\n",
              "      <button class=\"colab-df-convert\" onclick=\"convertToInteractive('df-fab84f5d-a12a-4dcb-9637-14f7c6fae88f')\"\n",
              "              title=\"Convert this dataframe to an interactive table.\"\n",
              "              style=\"display:none;\">\n",
              "        \n",
              "  <svg xmlns=\"http://www.w3.org/2000/svg\" height=\"24px\"viewBox=\"0 0 24 24\"\n",
              "       width=\"24px\">\n",
              "    <path d=\"M0 0h24v24H0V0z\" fill=\"none\"/>\n",
              "    <path d=\"M18.56 5.44l.94 2.06.94-2.06 2.06-.94-2.06-.94-.94-2.06-.94 2.06-2.06.94zm-11 1L8.5 8.5l.94-2.06 2.06-.94-2.06-.94L8.5 2.5l-.94 2.06-2.06.94zm10 10l.94 2.06.94-2.06 2.06-.94-2.06-.94-.94-2.06-.94 2.06-2.06.94z\"/><path d=\"M17.41 7.96l-1.37-1.37c-.4-.4-.92-.59-1.43-.59-.52 0-1.04.2-1.43.59L10.3 9.45l-7.72 7.72c-.78.78-.78 2.05 0 2.83L4 21.41c.39.39.9.59 1.41.59.51 0 1.02-.2 1.41-.59l7.78-7.78 2.81-2.81c.8-.78.8-2.07 0-2.86zM5.41 20L4 18.59l7.72-7.72 1.47 1.35L5.41 20z\"/>\n",
              "  </svg>\n",
              "      </button>\n",
              "      \n",
              "  <style>\n",
              "    .colab-df-container {\n",
              "      display:flex;\n",
              "      flex-wrap:wrap;\n",
              "      gap: 12px;\n",
              "    }\n",
              "\n",
              "    .colab-df-convert {\n",
              "      background-color: #E8F0FE;\n",
              "      border: none;\n",
              "      border-radius: 50%;\n",
              "      cursor: pointer;\n",
              "      display: none;\n",
              "      fill: #1967D2;\n",
              "      height: 32px;\n",
              "      padding: 0 0 0 0;\n",
              "      width: 32px;\n",
              "    }\n",
              "\n",
              "    .colab-df-convert:hover {\n",
              "      background-color: #E2EBFA;\n",
              "      box-shadow: 0px 1px 2px rgba(60, 64, 67, 0.3), 0px 1px 3px 1px rgba(60, 64, 67, 0.15);\n",
              "      fill: #174EA6;\n",
              "    }\n",
              "\n",
              "    [theme=dark] .colab-df-convert {\n",
              "      background-color: #3B4455;\n",
              "      fill: #D2E3FC;\n",
              "    }\n",
              "\n",
              "    [theme=dark] .colab-df-convert:hover {\n",
              "      background-color: #434B5C;\n",
              "      box-shadow: 0px 1px 3px 1px rgba(0, 0, 0, 0.15);\n",
              "      filter: drop-shadow(0px 1px 2px rgba(0, 0, 0, 0.3));\n",
              "      fill: #FFFFFF;\n",
              "    }\n",
              "  </style>\n",
              "\n",
              "      <script>\n",
              "        const buttonEl =\n",
              "          document.querySelector('#df-fab84f5d-a12a-4dcb-9637-14f7c6fae88f button.colab-df-convert');\n",
              "        buttonEl.style.display =\n",
              "          google.colab.kernel.accessAllowed ? 'block' : 'none';\n",
              "\n",
              "        async function convertToInteractive(key) {\n",
              "          const element = document.querySelector('#df-fab84f5d-a12a-4dcb-9637-14f7c6fae88f');\n",
              "          const dataTable =\n",
              "            await google.colab.kernel.invokeFunction('convertToInteractive',\n",
              "                                                     [key], {});\n",
              "          if (!dataTable) return;\n",
              "\n",
              "          const docLinkHtml = 'Like what you see? Visit the ' +\n",
              "            '<a target=\"_blank\" href=https://colab.research.google.com/notebooks/data_table.ipynb>data table notebook</a>'\n",
              "            + ' to learn more about interactive tables.';\n",
              "          element.innerHTML = '';\n",
              "          dataTable['output_type'] = 'display_data';\n",
              "          await google.colab.output.renderOutput(dataTable, element);\n",
              "          const docLink = document.createElement('div');\n",
              "          docLink.innerHTML = docLinkHtml;\n",
              "          element.appendChild(docLink);\n",
              "        }\n",
              "      </script>\n",
              "    </div>\n",
              "  </div>\n",
              "  "
            ]
          },
          "metadata": {},
          "execution_count": 50
        }
      ],
      "source": [
        "ordersBCummulative = ordersBDaily.apply(lambda x: ordersBDaily[ordersBDaily['date'] <= x['date']].agg(\n",
        "        {'date': 'max', 'ordersPerDateB': 'sum', 'revenuePerDateB': 'sum'}),axis=1,).sort_values(by=['date'])\n",
        "ordersBCummulative.columns = ['date','ordersCummulativeB','revenueCummulativeB',]\n",
        "ordersBCummulative.head()"
      ]
    },
    {
      "cell_type": "markdown",
      "metadata": {
        "id": "sxwunKN4CoPp"
      },
      "source": [
        "Объединим таблицы по датам и выведем первые строки на экран:"
      ]
    },
    {
      "cell_type": "code",
      "execution_count": 51,
      "metadata": {
        "id": "gHjZnVvvCoPp",
        "colab": {
          "base_uri": "https://localhost:8080/",
          "height": 206
        },
        "outputId": "b585ac11-4e99-446c-a3af-5a5e516b3c92"
      },
      "outputs": [
        {
          "output_type": "execute_result",
          "data": {
            "text/plain": [
              "        date  ordersPerDateA  revenuePerDateA  ordersPerDateB  \\\n",
              "0 2019-08-01              23           142779              17   \n",
              "1 2019-08-02              19            91602              23   \n",
              "2 2019-08-03              24           112473              14   \n",
              "3 2019-08-04              11            41176              14   \n",
              "4 2019-08-05              22            86383              21   \n",
              "\n",
              "   revenuePerDateB  ordersCummulativeA  revenueCummulativeA  \\\n",
              "0            59758                  23               142779   \n",
              "1           162043                  42               234381   \n",
              "2            67049                  66               346854   \n",
              "3            96890                  77               388030   \n",
              "4            89908                  99               474413   \n",
              "\n",
              "   ordersCummulativeB  revenueCummulativeB  visitorsPerDateA  \\\n",
              "0                  17                59758               719   \n",
              "1                  40               221801               619   \n",
              "2                  54               288850               507   \n",
              "3                  68               385740               717   \n",
              "4                  89               475648               756   \n",
              "\n",
              "   visitorsPerDateB  visitorsCummulativeA  visitorsCummulativeB  \n",
              "0               713                   719                   713  \n",
              "1               581                  1338                  1294  \n",
              "2               509                  1845                  1803  \n",
              "3               770                  2562                  2573  \n",
              "4               707                  3318                  3280  "
            ],
            "text/html": [
              "\n",
              "  <div id=\"df-5ef21b1d-3ab8-49d5-b5b9-2efe0503c72b\">\n",
              "    <div class=\"colab-df-container\">\n",
              "      <div>\n",
              "<style scoped>\n",
              "    .dataframe tbody tr th:only-of-type {\n",
              "        vertical-align: middle;\n",
              "    }\n",
              "\n",
              "    .dataframe tbody tr th {\n",
              "        vertical-align: top;\n",
              "    }\n",
              "\n",
              "    .dataframe thead th {\n",
              "        text-align: right;\n",
              "    }\n",
              "</style>\n",
              "<table border=\"1\" class=\"dataframe\">\n",
              "  <thead>\n",
              "    <tr style=\"text-align: right;\">\n",
              "      <th></th>\n",
              "      <th>date</th>\n",
              "      <th>ordersPerDateA</th>\n",
              "      <th>revenuePerDateA</th>\n",
              "      <th>ordersPerDateB</th>\n",
              "      <th>revenuePerDateB</th>\n",
              "      <th>ordersCummulativeA</th>\n",
              "      <th>revenueCummulativeA</th>\n",
              "      <th>ordersCummulativeB</th>\n",
              "      <th>revenueCummulativeB</th>\n",
              "      <th>visitorsPerDateA</th>\n",
              "      <th>visitorsPerDateB</th>\n",
              "      <th>visitorsCummulativeA</th>\n",
              "      <th>visitorsCummulativeB</th>\n",
              "    </tr>\n",
              "  </thead>\n",
              "  <tbody>\n",
              "    <tr>\n",
              "      <th>0</th>\n",
              "      <td>2019-08-01</td>\n",
              "      <td>23</td>\n",
              "      <td>142779</td>\n",
              "      <td>17</td>\n",
              "      <td>59758</td>\n",
              "      <td>23</td>\n",
              "      <td>142779</td>\n",
              "      <td>17</td>\n",
              "      <td>59758</td>\n",
              "      <td>719</td>\n",
              "      <td>713</td>\n",
              "      <td>719</td>\n",
              "      <td>713</td>\n",
              "    </tr>\n",
              "    <tr>\n",
              "      <th>1</th>\n",
              "      <td>2019-08-02</td>\n",
              "      <td>19</td>\n",
              "      <td>91602</td>\n",
              "      <td>23</td>\n",
              "      <td>162043</td>\n",
              "      <td>42</td>\n",
              "      <td>234381</td>\n",
              "      <td>40</td>\n",
              "      <td>221801</td>\n",
              "      <td>619</td>\n",
              "      <td>581</td>\n",
              "      <td>1338</td>\n",
              "      <td>1294</td>\n",
              "    </tr>\n",
              "    <tr>\n",
              "      <th>2</th>\n",
              "      <td>2019-08-03</td>\n",
              "      <td>24</td>\n",
              "      <td>112473</td>\n",
              "      <td>14</td>\n",
              "      <td>67049</td>\n",
              "      <td>66</td>\n",
              "      <td>346854</td>\n",
              "      <td>54</td>\n",
              "      <td>288850</td>\n",
              "      <td>507</td>\n",
              "      <td>509</td>\n",
              "      <td>1845</td>\n",
              "      <td>1803</td>\n",
              "    </tr>\n",
              "    <tr>\n",
              "      <th>3</th>\n",
              "      <td>2019-08-04</td>\n",
              "      <td>11</td>\n",
              "      <td>41176</td>\n",
              "      <td>14</td>\n",
              "      <td>96890</td>\n",
              "      <td>77</td>\n",
              "      <td>388030</td>\n",
              "      <td>68</td>\n",
              "      <td>385740</td>\n",
              "      <td>717</td>\n",
              "      <td>770</td>\n",
              "      <td>2562</td>\n",
              "      <td>2573</td>\n",
              "    </tr>\n",
              "    <tr>\n",
              "      <th>4</th>\n",
              "      <td>2019-08-05</td>\n",
              "      <td>22</td>\n",
              "      <td>86383</td>\n",
              "      <td>21</td>\n",
              "      <td>89908</td>\n",
              "      <td>99</td>\n",
              "      <td>474413</td>\n",
              "      <td>89</td>\n",
              "      <td>475648</td>\n",
              "      <td>756</td>\n",
              "      <td>707</td>\n",
              "      <td>3318</td>\n",
              "      <td>3280</td>\n",
              "    </tr>\n",
              "  </tbody>\n",
              "</table>\n",
              "</div>\n",
              "      <button class=\"colab-df-convert\" onclick=\"convertToInteractive('df-5ef21b1d-3ab8-49d5-b5b9-2efe0503c72b')\"\n",
              "              title=\"Convert this dataframe to an interactive table.\"\n",
              "              style=\"display:none;\">\n",
              "        \n",
              "  <svg xmlns=\"http://www.w3.org/2000/svg\" height=\"24px\"viewBox=\"0 0 24 24\"\n",
              "       width=\"24px\">\n",
              "    <path d=\"M0 0h24v24H0V0z\" fill=\"none\"/>\n",
              "    <path d=\"M18.56 5.44l.94 2.06.94-2.06 2.06-.94-2.06-.94-.94-2.06-.94 2.06-2.06.94zm-11 1L8.5 8.5l.94-2.06 2.06-.94-2.06-.94L8.5 2.5l-.94 2.06-2.06.94zm10 10l.94 2.06.94-2.06 2.06-.94-2.06-.94-.94-2.06-.94 2.06-2.06.94z\"/><path d=\"M17.41 7.96l-1.37-1.37c-.4-.4-.92-.59-1.43-.59-.52 0-1.04.2-1.43.59L10.3 9.45l-7.72 7.72c-.78.78-.78 2.05 0 2.83L4 21.41c.39.39.9.59 1.41.59.51 0 1.02-.2 1.41-.59l7.78-7.78 2.81-2.81c.8-.78.8-2.07 0-2.86zM5.41 20L4 18.59l7.72-7.72 1.47 1.35L5.41 20z\"/>\n",
              "  </svg>\n",
              "      </button>\n",
              "      \n",
              "  <style>\n",
              "    .colab-df-container {\n",
              "      display:flex;\n",
              "      flex-wrap:wrap;\n",
              "      gap: 12px;\n",
              "    }\n",
              "\n",
              "    .colab-df-convert {\n",
              "      background-color: #E8F0FE;\n",
              "      border: none;\n",
              "      border-radius: 50%;\n",
              "      cursor: pointer;\n",
              "      display: none;\n",
              "      fill: #1967D2;\n",
              "      height: 32px;\n",
              "      padding: 0 0 0 0;\n",
              "      width: 32px;\n",
              "    }\n",
              "\n",
              "    .colab-df-convert:hover {\n",
              "      background-color: #E2EBFA;\n",
              "      box-shadow: 0px 1px 2px rgba(60, 64, 67, 0.3), 0px 1px 3px 1px rgba(60, 64, 67, 0.15);\n",
              "      fill: #174EA6;\n",
              "    }\n",
              "\n",
              "    [theme=dark] .colab-df-convert {\n",
              "      background-color: #3B4455;\n",
              "      fill: #D2E3FC;\n",
              "    }\n",
              "\n",
              "    [theme=dark] .colab-df-convert:hover {\n",
              "      background-color: #434B5C;\n",
              "      box-shadow: 0px 1px 3px 1px rgba(0, 0, 0, 0.15);\n",
              "      filter: drop-shadow(0px 1px 2px rgba(0, 0, 0, 0.3));\n",
              "      fill: #FFFFFF;\n",
              "    }\n",
              "  </style>\n",
              "\n",
              "      <script>\n",
              "        const buttonEl =\n",
              "          document.querySelector('#df-5ef21b1d-3ab8-49d5-b5b9-2efe0503c72b button.colab-df-convert');\n",
              "        buttonEl.style.display =\n",
              "          google.colab.kernel.accessAllowed ? 'block' : 'none';\n",
              "\n",
              "        async function convertToInteractive(key) {\n",
              "          const element = document.querySelector('#df-5ef21b1d-3ab8-49d5-b5b9-2efe0503c72b');\n",
              "          const dataTable =\n",
              "            await google.colab.kernel.invokeFunction('convertToInteractive',\n",
              "                                                     [key], {});\n",
              "          if (!dataTable) return;\n",
              "\n",
              "          const docLinkHtml = 'Like what you see? Visit the ' +\n",
              "            '<a target=\"_blank\" href=https://colab.research.google.com/notebooks/data_table.ipynb>data table notebook</a>'\n",
              "            + ' to learn more about interactive tables.';\n",
              "          element.innerHTML = '';\n",
              "          dataTable['output_type'] = 'display_data';\n",
              "          await google.colab.output.renderOutput(dataTable, element);\n",
              "          const docLink = document.createElement('div');\n",
              "          docLink.innerHTML = docLinkHtml;\n",
              "          element.appendChild(docLink);\n",
              "        }\n",
              "      </script>\n",
              "    </div>\n",
              "  </div>\n",
              "  "
            ]
          },
          "metadata": {},
          "execution_count": 51
        }
      ],
      "source": [
        "data = (ordersADaily.merge(ordersBDaily, left_on='date', right_on='date', how='left')\n",
        "    .merge(ordersACummulative, left_on='date', right_on='date', how='left')\n",
        "    .merge(ordersBCummulative, left_on='date', right_on='date', how='left')\n",
        "    .merge(visitorsADaily, left_on='date', right_on='date', how='left')\n",
        "    .merge(visitorsBDaily, left_on='date', right_on='date', how='left')\n",
        "    .merge(visitorsACummulative, left_on='date', right_on='date', how='left')\n",
        "    .merge(visitorsBCummulative, left_on='date', right_on='date', how='left'))\n",
        " \n",
        "data.head()"
      ]
    },
    {
      "cell_type": "markdown",
      "metadata": {
        "id": "C_4NfR1RCoPp"
      },
      "source": [
        "Напишем функцию для подсчета количества заказов пользователей по группам:"
      ]
    },
    {
      "cell_type": "code",
      "execution_count": 52,
      "metadata": {
        "id": "16Jpe-J4CoPp"
      },
      "outputs": [],
      "source": [
        "def orders_users(group):\n",
        "    table = (orders[orders['group'] == group].groupby('visitorId', as_index=False).agg({'transactionId': pd.Series.nunique}))\n",
        "    table.columns = ['visitorId', 'orders']\n",
        "    return table    "
      ]
    },
    {
      "cell_type": "markdown",
      "metadata": {
        "id": "fgmcxO6xCoPp"
      },
      "source": [
        "Создадим переменные ordersByUsersA и ordersByUsersB:"
      ]
    },
    {
      "cell_type": "code",
      "execution_count": 53,
      "metadata": {
        "id": "UNnY5RWCCoPq",
        "colab": {
          "base_uri": "https://localhost:8080/",
          "height": 395
        },
        "outputId": "0c990674-be1c-4a9f-d99a-0ccd23604539"
      },
      "outputs": [
        {
          "output_type": "display_data",
          "data": {
            "text/plain": [
              "   visitorId  orders\n",
              "0   11685486       1\n",
              "1   54447517       1\n",
              "2   66685450       1\n",
              "3   78758296       1\n",
              "4   85103373       1"
            ],
            "text/html": [
              "\n",
              "  <div id=\"df-253cad87-f1aa-4bfb-ae2a-f010475313b4\">\n",
              "    <div class=\"colab-df-container\">\n",
              "      <div>\n",
              "<style scoped>\n",
              "    .dataframe tbody tr th:only-of-type {\n",
              "        vertical-align: middle;\n",
              "    }\n",
              "\n",
              "    .dataframe tbody tr th {\n",
              "        vertical-align: top;\n",
              "    }\n",
              "\n",
              "    .dataframe thead th {\n",
              "        text-align: right;\n",
              "    }\n",
              "</style>\n",
              "<table border=\"1\" class=\"dataframe\">\n",
              "  <thead>\n",
              "    <tr style=\"text-align: right;\">\n",
              "      <th></th>\n",
              "      <th>visitorId</th>\n",
              "      <th>orders</th>\n",
              "    </tr>\n",
              "  </thead>\n",
              "  <tbody>\n",
              "    <tr>\n",
              "      <th>0</th>\n",
              "      <td>11685486</td>\n",
              "      <td>1</td>\n",
              "    </tr>\n",
              "    <tr>\n",
              "      <th>1</th>\n",
              "      <td>54447517</td>\n",
              "      <td>1</td>\n",
              "    </tr>\n",
              "    <tr>\n",
              "      <th>2</th>\n",
              "      <td>66685450</td>\n",
              "      <td>1</td>\n",
              "    </tr>\n",
              "    <tr>\n",
              "      <th>3</th>\n",
              "      <td>78758296</td>\n",
              "      <td>1</td>\n",
              "    </tr>\n",
              "    <tr>\n",
              "      <th>4</th>\n",
              "      <td>85103373</td>\n",
              "      <td>1</td>\n",
              "    </tr>\n",
              "  </tbody>\n",
              "</table>\n",
              "</div>\n",
              "      <button class=\"colab-df-convert\" onclick=\"convertToInteractive('df-253cad87-f1aa-4bfb-ae2a-f010475313b4')\"\n",
              "              title=\"Convert this dataframe to an interactive table.\"\n",
              "              style=\"display:none;\">\n",
              "        \n",
              "  <svg xmlns=\"http://www.w3.org/2000/svg\" height=\"24px\"viewBox=\"0 0 24 24\"\n",
              "       width=\"24px\">\n",
              "    <path d=\"M0 0h24v24H0V0z\" fill=\"none\"/>\n",
              "    <path d=\"M18.56 5.44l.94 2.06.94-2.06 2.06-.94-2.06-.94-.94-2.06-.94 2.06-2.06.94zm-11 1L8.5 8.5l.94-2.06 2.06-.94-2.06-.94L8.5 2.5l-.94 2.06-2.06.94zm10 10l.94 2.06.94-2.06 2.06-.94-2.06-.94-.94-2.06-.94 2.06-2.06.94z\"/><path d=\"M17.41 7.96l-1.37-1.37c-.4-.4-.92-.59-1.43-.59-.52 0-1.04.2-1.43.59L10.3 9.45l-7.72 7.72c-.78.78-.78 2.05 0 2.83L4 21.41c.39.39.9.59 1.41.59.51 0 1.02-.2 1.41-.59l7.78-7.78 2.81-2.81c.8-.78.8-2.07 0-2.86zM5.41 20L4 18.59l7.72-7.72 1.47 1.35L5.41 20z\"/>\n",
              "  </svg>\n",
              "      </button>\n",
              "      \n",
              "  <style>\n",
              "    .colab-df-container {\n",
              "      display:flex;\n",
              "      flex-wrap:wrap;\n",
              "      gap: 12px;\n",
              "    }\n",
              "\n",
              "    .colab-df-convert {\n",
              "      background-color: #E8F0FE;\n",
              "      border: none;\n",
              "      border-radius: 50%;\n",
              "      cursor: pointer;\n",
              "      display: none;\n",
              "      fill: #1967D2;\n",
              "      height: 32px;\n",
              "      padding: 0 0 0 0;\n",
              "      width: 32px;\n",
              "    }\n",
              "\n",
              "    .colab-df-convert:hover {\n",
              "      background-color: #E2EBFA;\n",
              "      box-shadow: 0px 1px 2px rgba(60, 64, 67, 0.3), 0px 1px 3px 1px rgba(60, 64, 67, 0.15);\n",
              "      fill: #174EA6;\n",
              "    }\n",
              "\n",
              "    [theme=dark] .colab-df-convert {\n",
              "      background-color: #3B4455;\n",
              "      fill: #D2E3FC;\n",
              "    }\n",
              "\n",
              "    [theme=dark] .colab-df-convert:hover {\n",
              "      background-color: #434B5C;\n",
              "      box-shadow: 0px 1px 3px 1px rgba(0, 0, 0, 0.15);\n",
              "      filter: drop-shadow(0px 1px 2px rgba(0, 0, 0, 0.3));\n",
              "      fill: #FFFFFF;\n",
              "    }\n",
              "  </style>\n",
              "\n",
              "      <script>\n",
              "        const buttonEl =\n",
              "          document.querySelector('#df-253cad87-f1aa-4bfb-ae2a-f010475313b4 button.colab-df-convert');\n",
              "        buttonEl.style.display =\n",
              "          google.colab.kernel.accessAllowed ? 'block' : 'none';\n",
              "\n",
              "        async function convertToInteractive(key) {\n",
              "          const element = document.querySelector('#df-253cad87-f1aa-4bfb-ae2a-f010475313b4');\n",
              "          const dataTable =\n",
              "            await google.colab.kernel.invokeFunction('convertToInteractive',\n",
              "                                                     [key], {});\n",
              "          if (!dataTable) return;\n",
              "\n",
              "          const docLinkHtml = 'Like what you see? Visit the ' +\n",
              "            '<a target=\"_blank\" href=https://colab.research.google.com/notebooks/data_table.ipynb>data table notebook</a>'\n",
              "            + ' to learn more about interactive tables.';\n",
              "          element.innerHTML = '';\n",
              "          dataTable['output_type'] = 'display_data';\n",
              "          await google.colab.output.renderOutput(dataTable, element);\n",
              "          const docLink = document.createElement('div');\n",
              "          docLink.innerHTML = docLinkHtml;\n",
              "          element.appendChild(docLink);\n",
              "        }\n",
              "      </script>\n",
              "    </div>\n",
              "  </div>\n",
              "  "
            ]
          },
          "metadata": {}
        },
        {
          "output_type": "display_data",
          "data": {
            "text/plain": [
              "   visitorId  orders\n",
              "0    5114589       1\n",
              "1    6958315       1\n",
              "2   39475350       1\n",
              "3   47206413       1\n",
              "4   48147722       1"
            ],
            "text/html": [
              "\n",
              "  <div id=\"df-7666bf26-ff7a-4147-acb6-01bac7b3f17a\">\n",
              "    <div class=\"colab-df-container\">\n",
              "      <div>\n",
              "<style scoped>\n",
              "    .dataframe tbody tr th:only-of-type {\n",
              "        vertical-align: middle;\n",
              "    }\n",
              "\n",
              "    .dataframe tbody tr th {\n",
              "        vertical-align: top;\n",
              "    }\n",
              "\n",
              "    .dataframe thead th {\n",
              "        text-align: right;\n",
              "    }\n",
              "</style>\n",
              "<table border=\"1\" class=\"dataframe\">\n",
              "  <thead>\n",
              "    <tr style=\"text-align: right;\">\n",
              "      <th></th>\n",
              "      <th>visitorId</th>\n",
              "      <th>orders</th>\n",
              "    </tr>\n",
              "  </thead>\n",
              "  <tbody>\n",
              "    <tr>\n",
              "      <th>0</th>\n",
              "      <td>5114589</td>\n",
              "      <td>1</td>\n",
              "    </tr>\n",
              "    <tr>\n",
              "      <th>1</th>\n",
              "      <td>6958315</td>\n",
              "      <td>1</td>\n",
              "    </tr>\n",
              "    <tr>\n",
              "      <th>2</th>\n",
              "      <td>39475350</td>\n",
              "      <td>1</td>\n",
              "    </tr>\n",
              "    <tr>\n",
              "      <th>3</th>\n",
              "      <td>47206413</td>\n",
              "      <td>1</td>\n",
              "    </tr>\n",
              "    <tr>\n",
              "      <th>4</th>\n",
              "      <td>48147722</td>\n",
              "      <td>1</td>\n",
              "    </tr>\n",
              "  </tbody>\n",
              "</table>\n",
              "</div>\n",
              "      <button class=\"colab-df-convert\" onclick=\"convertToInteractive('df-7666bf26-ff7a-4147-acb6-01bac7b3f17a')\"\n",
              "              title=\"Convert this dataframe to an interactive table.\"\n",
              "              style=\"display:none;\">\n",
              "        \n",
              "  <svg xmlns=\"http://www.w3.org/2000/svg\" height=\"24px\"viewBox=\"0 0 24 24\"\n",
              "       width=\"24px\">\n",
              "    <path d=\"M0 0h24v24H0V0z\" fill=\"none\"/>\n",
              "    <path d=\"M18.56 5.44l.94 2.06.94-2.06 2.06-.94-2.06-.94-.94-2.06-.94 2.06-2.06.94zm-11 1L8.5 8.5l.94-2.06 2.06-.94-2.06-.94L8.5 2.5l-.94 2.06-2.06.94zm10 10l.94 2.06.94-2.06 2.06-.94-2.06-.94-.94-2.06-.94 2.06-2.06.94z\"/><path d=\"M17.41 7.96l-1.37-1.37c-.4-.4-.92-.59-1.43-.59-.52 0-1.04.2-1.43.59L10.3 9.45l-7.72 7.72c-.78.78-.78 2.05 0 2.83L4 21.41c.39.39.9.59 1.41.59.51 0 1.02-.2 1.41-.59l7.78-7.78 2.81-2.81c.8-.78.8-2.07 0-2.86zM5.41 20L4 18.59l7.72-7.72 1.47 1.35L5.41 20z\"/>\n",
              "  </svg>\n",
              "      </button>\n",
              "      \n",
              "  <style>\n",
              "    .colab-df-container {\n",
              "      display:flex;\n",
              "      flex-wrap:wrap;\n",
              "      gap: 12px;\n",
              "    }\n",
              "\n",
              "    .colab-df-convert {\n",
              "      background-color: #E8F0FE;\n",
              "      border: none;\n",
              "      border-radius: 50%;\n",
              "      cursor: pointer;\n",
              "      display: none;\n",
              "      fill: #1967D2;\n",
              "      height: 32px;\n",
              "      padding: 0 0 0 0;\n",
              "      width: 32px;\n",
              "    }\n",
              "\n",
              "    .colab-df-convert:hover {\n",
              "      background-color: #E2EBFA;\n",
              "      box-shadow: 0px 1px 2px rgba(60, 64, 67, 0.3), 0px 1px 3px 1px rgba(60, 64, 67, 0.15);\n",
              "      fill: #174EA6;\n",
              "    }\n",
              "\n",
              "    [theme=dark] .colab-df-convert {\n",
              "      background-color: #3B4455;\n",
              "      fill: #D2E3FC;\n",
              "    }\n",
              "\n",
              "    [theme=dark] .colab-df-convert:hover {\n",
              "      background-color: #434B5C;\n",
              "      box-shadow: 0px 1px 3px 1px rgba(0, 0, 0, 0.15);\n",
              "      filter: drop-shadow(0px 1px 2px rgba(0, 0, 0, 0.3));\n",
              "      fill: #FFFFFF;\n",
              "    }\n",
              "  </style>\n",
              "\n",
              "      <script>\n",
              "        const buttonEl =\n",
              "          document.querySelector('#df-7666bf26-ff7a-4147-acb6-01bac7b3f17a button.colab-df-convert');\n",
              "        buttonEl.style.display =\n",
              "          google.colab.kernel.accessAllowed ? 'block' : 'none';\n",
              "\n",
              "        async function convertToInteractive(key) {\n",
              "          const element = document.querySelector('#df-7666bf26-ff7a-4147-acb6-01bac7b3f17a');\n",
              "          const dataTable =\n",
              "            await google.colab.kernel.invokeFunction('convertToInteractive',\n",
              "                                                     [key], {});\n",
              "          if (!dataTable) return;\n",
              "\n",
              "          const docLinkHtml = 'Like what you see? Visit the ' +\n",
              "            '<a target=\"_blank\" href=https://colab.research.google.com/notebooks/data_table.ipynb>data table notebook</a>'\n",
              "            + ' to learn more about interactive tables.';\n",
              "          element.innerHTML = '';\n",
              "          dataTable['output_type'] = 'display_data';\n",
              "          await google.colab.output.renderOutput(dataTable, element);\n",
              "          const docLink = document.createElement('div');\n",
              "          docLink.innerHTML = docLinkHtml;\n",
              "          element.appendChild(docLink);\n",
              "        }\n",
              "      </script>\n",
              "    </div>\n",
              "  </div>\n",
              "  "
            ]
          },
          "metadata": {}
        }
      ],
      "source": [
        "ordersByUsersA = orders_users('A')\n",
        "ordersByUsersB = orders_users('B')\n",
        "display(ordersByUsersA.head())\n",
        "display(ordersByUsersB.head())"
      ]
    },
    {
      "cell_type": "markdown",
      "metadata": {
        "id": "Yhw093xKCoPq"
      },
      "source": [
        "Напишем функцию для подсчета количества заказов по всем посетителям:"
      ]
    },
    {
      "cell_type": "code",
      "execution_count": 54,
      "metadata": {
        "id": "b28kuuWACoPq"
      },
      "outputs": [],
      "source": [
        "def orders_visitors(table_orders, visitors_group):\n",
        "    table = pd.concat([table_orders['orders'],pd.Series(\n",
        "        0, index=np.arange(data[visitors_group].sum() - len(table_orders['orders'])), name='orders')],axis=0)\n",
        "    return table"
      ]
    },
    {
      "cell_type": "markdown",
      "metadata": {
        "id": "iwaNbyRrCoPq"
      },
      "source": [
        "Создадим переменные sampleA и sampleB и обратимся к функции orders_visitors:"
      ]
    },
    {
      "cell_type": "code",
      "execution_count": 55,
      "metadata": {
        "id": "p9gqM2bCCoPq",
        "colab": {
          "base_uri": "https://localhost:8080/",
          "height": 238
        },
        "outputId": "cc6f1b2b-bbbc-45da-8c63-0d5474ba18fc"
      },
      "outputs": [
        {
          "output_type": "display_data",
          "data": {
            "text/plain": [
              "0    1\n",
              "1    1\n",
              "2    1\n",
              "3    1\n",
              "4    1\n",
              "Name: orders, dtype: int64"
            ]
          },
          "metadata": {}
        },
        {
          "output_type": "display_data",
          "data": {
            "text/plain": [
              "0    1\n",
              "1    1\n",
              "2    1\n",
              "3    1\n",
              "4    1\n",
              "Name: orders, dtype: int64"
            ]
          },
          "metadata": {}
        }
      ],
      "source": [
        "sampleA = orders_visitors(ordersByUsersA, 'visitorsPerDateA')\n",
        "sampleB = orders_visitors(ordersByUsersB, 'visitorsPerDateB')\n",
        "display(sampleA.head())\n",
        "display(sampleB.head())"
      ]
    },
    {
      "cell_type": "markdown",
      "metadata": {
        "id": "cKBhmoySCoPq"
      },
      "source": [
        "Выведем относительный прирост конверсии группы B и применим критерий Манна-Уитни для расчета значения p-value:"
      ]
    },
    {
      "cell_type": "code",
      "execution_count": 56,
      "metadata": {
        "id": "LnX9NxR7CoPq",
        "colab": {
          "base_uri": "https://localhost:8080/"
        },
        "outputId": "0cc7ec30-f492-4412-dfbf-c9a4a5efc999"
      },
      "outputs": [
        {
          "output_type": "stream",
          "name": "stdout",
          "text": [
            "Относительный прирост конверсии группы B: 0.160\n",
            "p-value: 0.011\n"
          ]
        }
      ],
      "source": [
        "print(\"Относительный прирост конверсии группы B:\", \"{0:.3f}\".format(sampleB.mean() / sampleA.mean() - 1))\n",
        "print(\"p-value:\", \"{0:.3f}\".format(st.mannwhitneyu(sampleA, sampleB)[1]))"
      ]
    },
    {
      "cell_type": "markdown",
      "metadata": {
        "id": "5GC8Ty-xCoPq"
      },
      "source": [
        "<div style=\"border: solid green 2px; padding: 20px\">\n",
        "    \n",
        "**Выводы**\n",
        "    \n",
        " * Относительный выигрыш группы B составил 16%.\n",
        " * Так как p-value меньше 0.05, то отвергаем нулевую гипотезу о том, что нет статистически значимых различий в конверсии между группами. ",
        "</div>"
      ]
    },
    {
      "cell_type": "markdown",
      "metadata": {
        "id": "oT_0pT35CoPr"
      },
      "source": [
        "<a name=\"4.9\"><h3>4.9 Статистическая значимость различий в среднем чеке по «сырым» данным</h3></a>"
      ]
    },
    {
      "cell_type": "markdown",
      "metadata": {
        "id": "CSYKPd-qCoPr"
      },
      "source": [
        "Сформулируем гипотезы:\n",
        "\n",
        " * H₀: различий в среднем чеке между группами нет.\n",
        " * H₁: различия в среднем чеке между группами есть."
      ]
    },
    {
      "cell_type": "markdown",
      "metadata": {
        "id": "Aag4U1mACoPr"
      },
      "source": [
        "Посчитаем статистическую значимость различий в среднем чеке заказа между группами и p-value:"
      ]
    },
    {
      "cell_type": "code",
      "execution_count": 57,
      "metadata": {
        "id": "uNzzX-VeCoPr",
        "colab": {
          "base_uri": "https://localhost:8080/"
        },
        "outputId": "2eea8ec8-d475-4606-cb5a-94a28947a258"
      },
      "outputs": [
        {
          "output_type": "stream",
          "name": "stdout",
          "text": [
            "Статистическая значимость различий в среднем чеке: 0.287\n",
            "p-value: 0.829\n"
          ]
        }
      ],
      "source": [
        "print(\"Статистическая значимость различий в среднем чеке:\", '{0:.3f}'.format(\n",
        "    orders[orders['group']=='B']['revenue'].mean()/orders[orders['group']=='A']['revenue'].mean()-1))\n",
        "print(\"p-value:\", '{0:.3f}'.format(\n",
        "    st.mannwhitneyu(orders[orders['group']=='A']['revenue'], orders[orders['group']=='B']['revenue'])[1]))"
      ]
    },
    {
      "cell_type": "markdown",
      "metadata": {
        "id": "PunAivlJCoPr"
      },
      "source": [
        "<div style=\"border: solid green 2px; padding: 20px\">\n",
        "    \n",
        "**Выводы**\n",
        " * Cредний чек группы B выше на 28,7%.    \n",
        " * P-value существенно больше 0.05, поэтому не отвергаем нулевую гипотезу об отсутствии различий средних чеков.",
        "</div>"
      ]
    },
    {
      "cell_type": "markdown",
      "metadata": {
        "id": "rO5O-EWPCoPr"
      },
      "source": [
        "<a name=\"4.10\"><h3>4.10 Cтатистическая значимость различий в конверсии между группами по «очищенным» данным</h3></a>"
      ]
    },
    {
      "cell_type": "markdown",
      "metadata": {
        "id": "2sPygKjOCoPr"
      },
      "source": [
        "Уберём из анализа выбивающиеся значения. По количеству заказов будем считать аномальными тех, кто совершил больше 1 заказа, так как 99-й перцентиль равен 2. По стоимости заказов возьмём за верхнюю границу 95-й перцентиль, который равен 26 785 рублей."
      ]
    },
    {
      "cell_type": "code",
      "execution_count": 58,
      "metadata": {
        "id": "J0WO6oy6CoPr"
      },
      "outputs": [],
      "source": [
        "usersWithManyOrders = pd.concat(\n",
        "    [ordersByUsersA[ordersByUsersA['orders'] > percentile_orders[0]]['visitorId'],\n",
        "     ordersByUsersB[ordersByUsersB['orders'] > percentile_orders[0]]['visitorId'],],\n",
        "     axis=0,)\n",
        "usersWithExpensiveOrders = orders[orders['revenue'] > percentile_revenue[0]]['visitorId']"
      ]
    },
    {
      "cell_type": "markdown",
      "metadata": {
        "id": "bhxaPM3lCoPr"
      },
      "source": [
        "Объединим пользователей в таблице abnormalUsers и подсчитаем число аномальных пользователей:"
      ]
    },
    {
      "cell_type": "code",
      "execution_count": 59,
      "metadata": {
        "id": "LoGEjXGZCoPr",
        "colab": {
          "base_uri": "https://localhost:8080/"
        },
        "outputId": "bc4b8f5b-a281-486e-8169-c908e66e6c41"
      },
      "outputs": [
        {
          "output_type": "stream",
          "name": "stdout",
          "text": [
            "568     113298937\n",
            "1099    148427295\n",
            "928     204675465\n",
            "33      249864742\n",
            "684     358944393\n",
            "Name: visitorId, dtype: int64\n",
            "Количество аномальных пользователей:  (86,)\n"
          ]
        }
      ],
      "source": [
        "abnormalUsers = (\n",
        "    pd.concat([usersWithManyOrders, usersWithExpensiveOrders], axis=0)\n",
        "    .drop_duplicates()\n",
        "    .sort_values()\n",
        ")\n",
        "print(abnormalUsers.head())\n",
        "print(\"Количество аномальных пользователей: \", abnormalUsers.shape)"
      ]
    },
    {
      "cell_type": "markdown",
      "metadata": {
        "id": "6gGtI5MDCoPs"
      },
      "source": [
        "Сделаем срезы таблиц с количеством заказов по группам А и В, исключив аномальных пользователей:"
      ]
    },
    {
      "cell_type": "code",
      "execution_count": 60,
      "metadata": {
        "id": "fiMx6VecCoPs"
      },
      "outputs": [],
      "source": [
        "ordersByNormalUsersA = ordersByUsersA[np.logical_not(ordersByUsersA['visitorId'].isin(abnormalUsers))]\n",
        "ordersByNormalUsersB = ordersByUsersB[np.logical_not(ordersByUsersB['visitorId'].isin(abnormalUsers))]"
      ]
    },
    {
      "cell_type": "markdown",
      "metadata": {
        "id": "mBVzjt2eCoPs"
      },
      "source": [
        "Обратимся к функции orders_visitors:"
      ]
    },
    {
      "cell_type": "code",
      "execution_count": 61,
      "metadata": {
        "id": "ylb7XbggCoPs"
      },
      "outputs": [],
      "source": [
        "sampleAFiltered = orders_visitors(ordersByNormalUsersA, 'visitorsPerDateA')\n",
        "sampleBFiltered = orders_visitors(ordersByNormalUsersB, 'visitorsPerDateB')"
      ]
    },
    {
      "cell_type": "markdown",
      "metadata": {
        "id": "P_hdKlH4CoPs"
      },
      "source": [
        "Выведем относительный прирост конверсии группы B и применим критерий Манна-Уитни для расчета значения p-value:"
      ]
    },
    {
      "cell_type": "code",
      "execution_count": 62,
      "metadata": {
        "id": "ydwcVSHECoPs",
        "colab": {
          "base_uri": "https://localhost:8080/"
        },
        "outputId": "9b8870d4-6116-4fff-85b7-573d47b8677d"
      },
      "outputs": [
        {
          "output_type": "stream",
          "name": "stdout",
          "text": [
            "Относительный прирост конверсии группы B: 0.173\n",
            "p-value: 0.016\n"
          ]
        }
      ],
      "source": [
        "print(\"Относительный прирост конверсии группы B:\", '{0:.3f}'.format(sampleBFiltered.mean()/sampleAFiltered.mean()-1))\n",
        "print(\"p-value:\", '{0:.3f}'.format(st.mannwhitneyu(sampleAFiltered, sampleBFiltered)[1]))"
      ]
    },
    {
      "cell_type": "markdown",
      "metadata": {
        "id": "kVBP4TZyCoPs"
      },
      "source": [
        "<div style=\"border: solid green 2px; padding: 20px\">\n",
        "    \n",
        "**Выводы**\n",
        " \n",
        " * Относительный выигрыш группы B увеличился на 1,3% и составил 17,3%.\n",
        " * Значение p-value стало выше незначительно, всего на 0.005. Общий вывод не изменился, так же как и в случае с \"сырыми\" данными отвергем нулевую гипотезу.",
        "</div>"
      ]
    },
    {
      "cell_type": "markdown",
      "metadata": {
        "id": "n-iSksnbCoPs"
      },
      "source": [
        "<a name=\"4.11\"><h3>4.11 Статистическая значимость различий в среднем чеке  по «очищенным» данным</h3></a>"
      ]
    },
    {
      "cell_type": "markdown",
      "metadata": {
        "id": "Mkr4gv6UCoPs"
      },
      "source": [
        "Рассчитаем статистическую значимость различий в среднем чеке между сегментами и значение p-value:"
      ]
    },
    {
      "cell_type": "code",
      "execution_count": 63,
      "metadata": {
        "id": "J3vjibt9CoPs",
        "colab": {
          "base_uri": "https://localhost:8080/"
        },
        "outputId": "89e1fa50-e231-4928-9699-9a2fce2d767d"
      },
      "outputs": [
        {
          "output_type": "stream",
          "name": "stdout",
          "text": [
            "Статистическая значимость различий в среднем чеке: -0.034\n",
            "p-value: 0.727\n"
          ]
        }
      ],
      "source": [
        "print(\"Статистическая значимость различий в среднем чеке:\", \"{0:.3f}\".format(orders[np.logical_and(\n",
        "                orders['group'] == 'B',\n",
        "                np.logical_not(orders['visitorId'].isin(abnormalUsers)),)\n",
        "        ]['revenue'].mean()/ orders[np.logical_and(\n",
        "                orders['group'] == 'A',\n",
        "                np.logical_not(orders['visitorId'].isin(abnormalUsers)),\n",
        "            )]['revenue'].mean() - 1))\n",
        "\n",
        "print(\"p-value:\", '{0:.3f}'.format(st.mannwhitneyu(\n",
        "            orders[np.logical_and(\n",
        "                    orders['group'] == 'A',\n",
        "                    np.logical_not(orders['visitorId'].isin(abnormalUsers)),\n",
        "                )\n",
        "            ]['revenue'],\n",
        "            orders[np.logical_and(\n",
        "                    orders['group'] == 'B',\n",
        "                    np.logical_not(orders['visitorId'].isin(abnormalUsers)),\n",
        "                )]['revenue'],)[1]))"
      ]
    },
    {
      "cell_type": "markdown",
      "metadata": {
        "id": "pGPfwGHOCoPs"
      },
      "source": [
        "<div style=\"border: solid green 2px; padding: 20px\">\n",
        "    \n",
        "**Выводы**\n",
        " \n",
        " * Cредний чек группы B стал значительно ниже и теперь хуже группы А на 3%.\n",
        " * P-value стал меньше на 10%, но вывод не изменился, нулевую гипотезу об отсутствии различий средних чеков между группами не отвергаем.",
        "</div>"
      ]
    },
    {
      "cell_type": "markdown",
      "metadata": {
        "id": "K2IIZMTDCoPt"
      },
      "source": [
        "<a name=\"5\"><h2>5 Общие выводы</h2></a>"
      ]
    },
    {
      "cell_type": "markdown",
      "metadata": {
        "id": "WNKy9_C1CoPt"
      },
      "source": [
        "В результате работы проанализировали А/B тест и изучили данные по выручке, конверсии и среднему чеку между группами.\n",
        "\n",
        "По качеству данных стоит отметить, что при проверке групп было найдено 58 пользователей, участвовавших в обеих группах и которые впоследствии были удалены, а также неравномерность выборок - в группе B участников на 15,72% больше.\n",
        "\n",
        "По кумулятивной выручке график показал, что группа В существенно лучше группы А, выручка выше более чем на 1,5 миллиона. Но также стоит учитывать резкий скачок вверх для чека группы В, который произошёл вероятнее всего из-за аномально дорогого заказа.\n",
        "    \n",
        "По конверсии:\n",
        " * Есть статистически значимое различие между группами по \"сырым\" и \"очищенным\" данным, нулевую гипотезу об отсутствии различий между группами отклонили.\n",
        " * График различия между группами показал относительный прирост конверсии группы В относительно группы А, к концу тестового периода конверсия группы B оказалась больше на 15%.\n",
        " * Относительный прирост конверсии группы B по \"сырым\" данным равен 16%, а по данным без аномальных значений прирост составил 17,3%.\n",
        "    \n",
        "По среднему чеку:    \n",
        " * Нет статистически значимого различия между группами по \"сырым\" и \"очищенным\" данным, нулевую гипотезу о равенстве средних чеков не отклонили.\n",
        " * График различия среднего чека говорит о нестабильности суммы чека для группы В, возможны резкие скачки и падения ниже группы А, хотя к концу теста средний чек группы В по \"сырым\" данным стал больше почти на 30%.\n",
        " * При расчете статистической значимости различий по \"очищенным\" данным, результаты группы В стали ниже, чем у группы А на 3%\n",
        "\n",
        "    \n",
        "В случае, если основной целью проводимого A/B теста было увеличение конверсии, то фиксируем победу группы В и останавливаем тест. Если предполагалось повысить средний чек, то следует продолжить тест и обратить внимание на этот показатель, возможно он начнёт расти.\n",
        "    \n",
        "Также в работе были приоритизированы гипотезы. Применяя фреймворк ICE, наиболее приоритетными стали гипотезы:\n",
        " 1. Запустить акцию, дающую скидку на товар в день рождения; \n",
        " 2. Добавить два новых канала привлечения трафика, что позволит привлекать на 30% больше пользователей; \n",
        " 3. Добавить форму подписки на все основные страницы, чтобы собрать базу клиентов для email-рассылок; \n",
        " 4. Показать на главной странице баннеры с актуальными акциями и распродажами, чтобы увеличить конверсию;\n",
        " 5. Добавить блоки рекомендаций товаров на сайт интернет магазина, чтобы повысить конверсию и средний чек заказа.\n",
        "\n",
        "В случае с RICE в топ-5 по приоритету вошли те же гипотезы, но изменилась очередность: \n",
        "  1. Добавить форму подписки на все основные страницы, чтобы собрать базу клиентов для email-рассылок\", на втором;\n",
        "  2. Добавить блоки рекомендаций товаров на сайт интернет магазина, чтобы повысить конверсию и средний чек заказа\", а на пятом;\n",
        "  3. Добавить два новых канала привлечения трафика, что позволит привлекать на 30% больше пользователей\n",
        "  4. Показать на главной странице баннеры с актуальными акциями и распродажами, чтобы увеличить конверсию; \n",
        "  5. Запустить акцию, дающую скидку на товар в день рождения."
      ]
    }
  ],
  "metadata": {
    "ExecuteTimeLog": [
      {
        "duration": 1733,
        "start_time": "2022-03-25T13:28:49.859Z"
      },
      {
        "duration": 97,
        "start_time": "2022-03-25T13:32:33.024Z"
      },
      {
        "duration": 63,
        "start_time": "2022-03-25T13:45:26.901Z"
      },
      {
        "duration": 18,
        "start_time": "2022-03-25T13:45:39.159Z"
      },
      {
        "duration": 12,
        "start_time": "2022-03-25T13:48:23.549Z"
      },
      {
        "duration": 11,
        "start_time": "2022-03-25T13:48:36.883Z"
      },
      {
        "duration": 4,
        "start_time": "2022-03-25T14:11:54.207Z"
      },
      {
        "duration": 9,
        "start_time": "2022-03-25T14:11:56.074Z"
      },
      {
        "duration": 8,
        "start_time": "2022-03-25T14:13:51.039Z"
      },
      {
        "duration": 26,
        "start_time": "2022-03-25T14:13:51.052Z"
      },
      {
        "duration": 5,
        "start_time": "2022-03-25T14:13:51.369Z"
      },
      {
        "duration": 151,
        "start_time": "2022-03-25T14:24:02.586Z"
      },
      {
        "duration": 1747,
        "start_time": "2022-03-25T20:55:28.542Z"
      },
      {
        "duration": 40,
        "start_time": "2022-03-25T20:55:30.663Z"
      },
      {
        "duration": 5,
        "start_time": "2022-03-25T20:55:38.719Z"
      },
      {
        "duration": 5,
        "start_time": "2022-03-25T20:55:41.177Z"
      },
      {
        "duration": 16,
        "start_time": "2022-03-25T20:55:46.714Z"
      },
      {
        "duration": 5,
        "start_time": "2022-03-25T20:57:05.737Z"
      },
      {
        "duration": 12,
        "start_time": "2022-03-25T20:57:09.066Z"
      },
      {
        "duration": 10,
        "start_time": "2022-03-25T21:12:10.871Z"
      },
      {
        "duration": 14,
        "start_time": "2022-03-25T21:12:13.869Z"
      },
      {
        "duration": 14,
        "start_time": "2022-03-25T21:13:14.299Z"
      },
      {
        "duration": 6,
        "start_time": "2022-03-25T21:13:27.465Z"
      },
      {
        "duration": 17,
        "start_time": "2022-03-25T21:20:20.444Z"
      },
      {
        "duration": 5,
        "start_time": "2022-03-25T21:53:27.689Z"
      },
      {
        "duration": 17,
        "start_time": "2022-03-25T21:53:30.714Z"
      },
      {
        "duration": 4,
        "start_time": "2022-03-25T21:57:22.229Z"
      },
      {
        "duration": 8,
        "start_time": "2022-03-25T21:58:56.120Z"
      },
      {
        "duration": 9,
        "start_time": "2022-03-25T21:59:20.813Z"
      },
      {
        "duration": 139,
        "start_time": "2022-03-25T22:00:47.841Z"
      },
      {
        "duration": 17,
        "start_time": "2022-03-25T22:00:57.460Z"
      },
      {
        "duration": 15,
        "start_time": "2022-03-25T22:01:44.597Z"
      },
      {
        "duration": 347,
        "start_time": "2022-03-25T22:06:26.965Z"
      },
      {
        "duration": 15,
        "start_time": "2022-03-25T22:07:12.950Z"
      },
      {
        "duration": 362,
        "start_time": "2022-03-25T22:07:27.148Z"
      },
      {
        "duration": 6,
        "start_time": "2022-03-25T22:09:23.659Z"
      },
      {
        "duration": 7,
        "start_time": "2022-03-25T22:11:39.030Z"
      },
      {
        "duration": 7,
        "start_time": "2022-03-25T22:11:42.052Z"
      },
      {
        "duration": 9,
        "start_time": "2022-03-25T22:11:44.513Z"
      },
      {
        "duration": 16,
        "start_time": "2022-03-25T22:12:07.990Z"
      },
      {
        "duration": 15,
        "start_time": "2022-03-25T22:14:48.899Z"
      },
      {
        "duration": 3,
        "start_time": "2022-03-25T22:43:44.607Z"
      },
      {
        "duration": 17,
        "start_time": "2022-03-25T22:43:52.576Z"
      },
      {
        "duration": 15,
        "start_time": "2022-03-25T22:44:15.820Z"
      },
      {
        "duration": 6,
        "start_time": "2022-03-25T22:54:24.425Z"
      },
      {
        "duration": 16,
        "start_time": "2022-03-25T22:54:26.816Z"
      },
      {
        "duration": 6,
        "start_time": "2022-03-25T22:56:09.539Z"
      },
      {
        "duration": 21,
        "start_time": "2022-03-25T22:56:11.914Z"
      },
      {
        "duration": 1396,
        "start_time": "2022-03-26T11:12:20.554Z"
      },
      {
        "duration": 39,
        "start_time": "2022-03-26T11:12:21.952Z"
      },
      {
        "duration": 13,
        "start_time": "2022-03-26T11:12:21.993Z"
      },
      {
        "duration": 10,
        "start_time": "2022-03-26T11:12:22.008Z"
      },
      {
        "duration": 15,
        "start_time": "2022-03-26T11:12:22.020Z"
      },
      {
        "duration": 15,
        "start_time": "2022-03-26T11:12:22.037Z"
      },
      {
        "duration": 14,
        "start_time": "2022-03-26T11:12:22.055Z"
      },
      {
        "duration": 31,
        "start_time": "2022-03-26T11:12:22.071Z"
      },
      {
        "duration": 12,
        "start_time": "2022-03-26T11:12:22.105Z"
      },
      {
        "duration": 23,
        "start_time": "2022-03-26T11:12:22.120Z"
      },
      {
        "duration": 18,
        "start_time": "2022-03-26T11:12:22.145Z"
      },
      {
        "duration": 8,
        "start_time": "2022-03-26T11:12:22.166Z"
      },
      {
        "duration": 9,
        "start_time": "2022-03-26T11:12:22.176Z"
      },
      {
        "duration": 4,
        "start_time": "2022-03-26T11:12:22.200Z"
      },
      {
        "duration": 10,
        "start_time": "2022-03-26T11:12:22.206Z"
      },
      {
        "duration": 14,
        "start_time": "2022-03-26T11:12:22.218Z"
      },
      {
        "duration": 6,
        "start_time": "2022-03-26T11:12:22.234Z"
      },
      {
        "duration": 16,
        "start_time": "2022-03-26T11:12:22.242Z"
      },
      {
        "duration": 7,
        "start_time": "2022-03-26T11:19:12.654Z"
      },
      {
        "duration": 103,
        "start_time": "2022-03-26T11:19:45.326Z"
      },
      {
        "duration": 9,
        "start_time": "2022-03-26T11:20:05.860Z"
      },
      {
        "duration": 152,
        "start_time": "2022-03-26T11:20:48.037Z"
      },
      {
        "duration": 18,
        "start_time": "2022-03-26T11:20:55.351Z"
      },
      {
        "duration": 14,
        "start_time": "2022-03-26T11:21:18.453Z"
      },
      {
        "duration": 11,
        "start_time": "2022-03-26T11:21:35.869Z"
      },
      {
        "duration": 9,
        "start_time": "2022-03-26T11:21:48.949Z"
      },
      {
        "duration": 7,
        "start_time": "2022-03-26T12:03:08.640Z"
      },
      {
        "duration": 572,
        "start_time": "2022-03-26T12:08:10.148Z"
      },
      {
        "duration": 16,
        "start_time": "2022-03-26T12:11:47.160Z"
      },
      {
        "duration": 15,
        "start_time": "2022-03-26T12:12:41.167Z"
      },
      {
        "duration": 11,
        "start_time": "2022-03-26T12:12:50.065Z"
      },
      {
        "duration": 220,
        "start_time": "2022-03-26T19:48:37.678Z"
      },
      {
        "duration": 63,
        "start_time": "2022-03-26T19:49:36.991Z"
      },
      {
        "duration": 1883,
        "start_time": "2022-03-26T19:49:45.803Z"
      },
      {
        "duration": 65,
        "start_time": "2022-03-26T19:49:47.689Z"
      },
      {
        "duration": 17,
        "start_time": "2022-03-26T19:49:47.756Z"
      },
      {
        "duration": 15,
        "start_time": "2022-03-26T19:49:47.775Z"
      },
      {
        "duration": 15,
        "start_time": "2022-03-26T19:49:47.794Z"
      },
      {
        "duration": 37,
        "start_time": "2022-03-26T19:49:47.811Z"
      },
      {
        "duration": 13,
        "start_time": "2022-03-26T19:49:47.850Z"
      },
      {
        "duration": 5,
        "start_time": "2022-03-26T19:49:47.866Z"
      },
      {
        "duration": 9,
        "start_time": "2022-03-26T19:49:47.873Z"
      },
      {
        "duration": 16,
        "start_time": "2022-03-26T19:49:47.883Z"
      },
      {
        "duration": 53,
        "start_time": "2022-03-26T19:49:47.901Z"
      },
      {
        "duration": 8,
        "start_time": "2022-03-26T19:49:47.957Z"
      },
      {
        "duration": 7,
        "start_time": "2022-03-26T19:49:47.967Z"
      },
      {
        "duration": 4,
        "start_time": "2022-03-26T19:49:47.978Z"
      },
      {
        "duration": 14,
        "start_time": "2022-03-26T19:49:47.984Z"
      },
      {
        "duration": 52,
        "start_time": "2022-03-26T19:49:48.000Z"
      },
      {
        "duration": 6,
        "start_time": "2022-03-26T19:49:48.054Z"
      },
      {
        "duration": 23,
        "start_time": "2022-03-26T19:49:48.062Z"
      },
      {
        "duration": 13,
        "start_time": "2022-03-26T19:49:48.087Z"
      },
      {
        "duration": 11,
        "start_time": "2022-03-26T19:49:48.102Z"
      },
      {
        "duration": 9,
        "start_time": "2022-03-26T19:49:48.143Z"
      },
      {
        "duration": 8,
        "start_time": "2022-03-26T19:52:55.429Z"
      },
      {
        "duration": 20,
        "start_time": "2022-03-26T20:03:07.316Z"
      },
      {
        "duration": 15,
        "start_time": "2022-03-26T20:04:34.133Z"
      },
      {
        "duration": 22,
        "start_time": "2022-03-26T20:07:14.540Z"
      },
      {
        "duration": 7,
        "start_time": "2022-03-26T20:08:28.526Z"
      },
      {
        "duration": 12,
        "start_time": "2022-03-26T20:08:39.531Z"
      },
      {
        "duration": 12,
        "start_time": "2022-03-26T20:11:33.676Z"
      },
      {
        "duration": 12,
        "start_time": "2022-03-26T20:12:06.392Z"
      },
      {
        "duration": 13,
        "start_time": "2022-03-26T20:12:11.553Z"
      },
      {
        "duration": 141,
        "start_time": "2022-03-26T20:22:41.099Z"
      },
      {
        "duration": 17,
        "start_time": "2022-03-26T20:22:48.012Z"
      },
      {
        "duration": 10,
        "start_time": "2022-03-26T20:24:04.324Z"
      },
      {
        "duration": 14,
        "start_time": "2022-03-26T20:24:34.466Z"
      },
      {
        "duration": 20,
        "start_time": "2022-03-26T20:25:26.702Z"
      },
      {
        "duration": 13,
        "start_time": "2022-03-26T20:26:44.970Z"
      },
      {
        "duration": 18,
        "start_time": "2022-03-26T20:34:20.676Z"
      },
      {
        "duration": 21,
        "start_time": "2022-03-26T20:34:55.992Z"
      },
      {
        "duration": 19,
        "start_time": "2022-03-26T20:35:03.490Z"
      },
      {
        "duration": 19,
        "start_time": "2022-03-26T20:36:51.186Z"
      },
      {
        "duration": 14,
        "start_time": "2022-03-26T20:42:11.070Z"
      },
      {
        "duration": 41,
        "start_time": "2022-03-26T20:45:05.730Z"
      },
      {
        "duration": 20,
        "start_time": "2022-03-26T20:45:35.716Z"
      },
      {
        "duration": 21,
        "start_time": "2022-03-26T20:45:46.093Z"
      },
      {
        "duration": 13,
        "start_time": "2022-03-26T20:46:02.824Z"
      },
      {
        "duration": 7,
        "start_time": "2022-03-26T20:46:12.775Z"
      },
      {
        "duration": 13,
        "start_time": "2022-03-26T20:46:14.985Z"
      },
      {
        "duration": 1538,
        "start_time": "2022-03-26T21:21:29.746Z"
      },
      {
        "duration": 67,
        "start_time": "2022-03-26T21:21:31.287Z"
      },
      {
        "duration": 16,
        "start_time": "2022-03-26T21:21:31.357Z"
      },
      {
        "duration": 14,
        "start_time": "2022-03-26T21:21:31.376Z"
      },
      {
        "duration": 16,
        "start_time": "2022-03-26T21:21:31.392Z"
      },
      {
        "duration": 34,
        "start_time": "2022-03-26T21:21:31.410Z"
      },
      {
        "duration": 15,
        "start_time": "2022-03-26T21:21:31.446Z"
      },
      {
        "duration": 6,
        "start_time": "2022-03-26T21:21:31.463Z"
      },
      {
        "duration": 19,
        "start_time": "2022-03-26T21:21:31.470Z"
      },
      {
        "duration": 15,
        "start_time": "2022-03-26T21:21:31.493Z"
      },
      {
        "duration": 43,
        "start_time": "2022-03-26T21:21:31.510Z"
      },
      {
        "duration": 7,
        "start_time": "2022-03-26T21:21:31.555Z"
      },
      {
        "duration": 7,
        "start_time": "2022-03-26T21:21:31.564Z"
      },
      {
        "duration": 20,
        "start_time": "2022-03-26T21:21:31.573Z"
      },
      {
        "duration": 7,
        "start_time": "2022-03-26T21:21:31.595Z"
      },
      {
        "duration": 13,
        "start_time": "2022-03-26T21:21:31.643Z"
      },
      {
        "duration": 6,
        "start_time": "2022-03-26T21:21:31.658Z"
      },
      {
        "duration": 10,
        "start_time": "2022-03-26T21:21:31.666Z"
      },
      {
        "duration": 14,
        "start_time": "2022-03-26T21:21:31.678Z"
      },
      {
        "duration": 49,
        "start_time": "2022-03-26T21:21:31.694Z"
      },
      {
        "duration": 15,
        "start_time": "2022-03-26T21:21:31.745Z"
      },
      {
        "duration": 14,
        "start_time": "2022-03-26T21:21:31.762Z"
      },
      {
        "duration": 13,
        "start_time": "2022-03-26T21:21:31.778Z"
      },
      {
        "duration": 12,
        "start_time": "2022-03-26T21:21:31.793Z"
      },
      {
        "duration": 6,
        "start_time": "2022-03-26T21:21:31.844Z"
      },
      {
        "duration": 14,
        "start_time": "2022-03-26T21:21:31.852Z"
      },
      {
        "duration": 16,
        "start_time": "2022-03-26T21:24:32.660Z"
      },
      {
        "duration": 1591,
        "start_time": "2022-03-26T21:29:19.154Z"
      },
      {
        "duration": 67,
        "start_time": "2022-03-26T21:29:20.747Z"
      },
      {
        "duration": 18,
        "start_time": "2022-03-26T21:29:20.816Z"
      },
      {
        "duration": 19,
        "start_time": "2022-03-26T21:29:20.836Z"
      },
      {
        "duration": 16,
        "start_time": "2022-03-26T21:29:20.858Z"
      },
      {
        "duration": 13,
        "start_time": "2022-03-26T21:29:20.876Z"
      },
      {
        "duration": 18,
        "start_time": "2022-03-26T21:29:20.891Z"
      },
      {
        "duration": 33,
        "start_time": "2022-03-26T21:29:20.911Z"
      },
      {
        "duration": 13,
        "start_time": "2022-03-26T21:29:20.946Z"
      },
      {
        "duration": 15,
        "start_time": "2022-03-26T21:29:20.961Z"
      },
      {
        "duration": 16,
        "start_time": "2022-03-26T21:29:20.979Z"
      },
      {
        "duration": 8,
        "start_time": "2022-03-26T21:29:20.997Z"
      },
      {
        "duration": 9,
        "start_time": "2022-03-26T21:29:21.043Z"
      },
      {
        "duration": 3,
        "start_time": "2022-03-26T21:29:21.056Z"
      },
      {
        "duration": 10,
        "start_time": "2022-03-26T21:29:21.061Z"
      },
      {
        "duration": 25,
        "start_time": "2022-03-26T21:29:21.073Z"
      },
      {
        "duration": 6,
        "start_time": "2022-03-26T21:29:21.100Z"
      },
      {
        "duration": 17,
        "start_time": "2022-03-26T21:29:21.108Z"
      },
      {
        "duration": 15,
        "start_time": "2022-03-26T21:29:21.144Z"
      },
      {
        "duration": 10,
        "start_time": "2022-03-26T21:29:21.162Z"
      },
      {
        "duration": 19,
        "start_time": "2022-03-26T21:29:21.174Z"
      },
      {
        "duration": 15,
        "start_time": "2022-03-26T21:29:21.195Z"
      },
      {
        "duration": 43,
        "start_time": "2022-03-26T21:29:21.212Z"
      },
      {
        "duration": 13,
        "start_time": "2022-03-26T21:29:21.257Z"
      },
      {
        "duration": 7,
        "start_time": "2022-03-26T21:29:21.272Z"
      },
      {
        "duration": 17,
        "start_time": "2022-03-26T21:29:21.280Z"
      },
      {
        "duration": 47,
        "start_time": "2022-03-26T21:29:21.299Z"
      },
      {
        "duration": 20,
        "start_time": "2022-03-26T21:33:37.727Z"
      },
      {
        "duration": 7,
        "start_time": "2022-03-26T21:34:12.952Z"
      },
      {
        "duration": 14,
        "start_time": "2022-03-26T21:34:39.226Z"
      },
      {
        "duration": 14,
        "start_time": "2022-03-26T21:36:29.422Z"
      },
      {
        "duration": 17,
        "start_time": "2022-03-26T21:36:50.457Z"
      },
      {
        "duration": 150,
        "start_time": "2022-03-26T21:55:29.386Z"
      },
      {
        "duration": 13,
        "start_time": "2022-03-26T21:55:40.532Z"
      },
      {
        "duration": 65,
        "start_time": "2022-03-26T21:55:49.268Z"
      },
      {
        "duration": 4,
        "start_time": "2022-03-26T21:55:54.580Z"
      },
      {
        "duration": 12,
        "start_time": "2022-03-26T21:56:00.972Z"
      },
      {
        "duration": 15,
        "start_time": "2022-03-26T21:57:52.705Z"
      },
      {
        "duration": 19,
        "start_time": "2022-03-26T22:10:42.061Z"
      },
      {
        "duration": 8,
        "start_time": "2022-03-26T22:10:50.284Z"
      },
      {
        "duration": 13,
        "start_time": "2022-03-26T22:10:52.386Z"
      },
      {
        "duration": 15,
        "start_time": "2022-03-26T22:10:54.686Z"
      },
      {
        "duration": 13,
        "start_time": "2022-03-26T22:15:59.466Z"
      },
      {
        "duration": 7,
        "start_time": "2022-03-26T22:16:03.066Z"
      },
      {
        "duration": 1495,
        "start_time": "2022-03-26T22:16:14.341Z"
      },
      {
        "duration": 66,
        "start_time": "2022-03-26T22:16:15.839Z"
      },
      {
        "duration": 16,
        "start_time": "2022-03-26T22:16:15.907Z"
      },
      {
        "duration": 13,
        "start_time": "2022-03-26T22:16:15.926Z"
      },
      {
        "duration": 17,
        "start_time": "2022-03-26T22:16:15.943Z"
      },
      {
        "duration": 12,
        "start_time": "2022-03-26T22:16:15.963Z"
      },
      {
        "duration": 16,
        "start_time": "2022-03-26T22:16:15.978Z"
      },
      {
        "duration": 5,
        "start_time": "2022-03-26T22:16:15.996Z"
      },
      {
        "duration": 9,
        "start_time": "2022-03-26T22:16:16.044Z"
      },
      {
        "duration": 16,
        "start_time": "2022-03-26T22:16:16.056Z"
      },
      {
        "duration": 16,
        "start_time": "2022-03-26T22:16:16.075Z"
      },
      {
        "duration": 52,
        "start_time": "2022-03-26T22:16:16.094Z"
      },
      {
        "duration": 7,
        "start_time": "2022-03-26T22:16:16.149Z"
      },
      {
        "duration": 3,
        "start_time": "2022-03-26T22:16:16.160Z"
      },
      {
        "duration": 8,
        "start_time": "2022-03-26T22:16:16.165Z"
      },
      {
        "duration": 14,
        "start_time": "2022-03-26T22:16:16.175Z"
      },
      {
        "duration": 5,
        "start_time": "2022-03-26T22:16:16.191Z"
      },
      {
        "duration": 57,
        "start_time": "2022-03-26T22:16:16.199Z"
      },
      {
        "duration": 13,
        "start_time": "2022-03-26T22:16:16.258Z"
      },
      {
        "duration": 14,
        "start_time": "2022-03-26T22:16:16.273Z"
      },
      {
        "duration": 8,
        "start_time": "2022-03-26T22:16:16.289Z"
      },
      {
        "duration": 51,
        "start_time": "2022-03-26T22:16:16.299Z"
      },
      {
        "duration": 14,
        "start_time": "2022-03-26T22:16:16.352Z"
      },
      {
        "duration": 18,
        "start_time": "2022-03-26T22:16:35.997Z"
      },
      {
        "duration": 1452,
        "start_time": "2022-03-26T22:17:07.882Z"
      },
      {
        "duration": 68,
        "start_time": "2022-03-26T22:17:09.337Z"
      },
      {
        "duration": 16,
        "start_time": "2022-03-26T22:17:09.407Z"
      },
      {
        "duration": 12,
        "start_time": "2022-03-26T22:17:09.426Z"
      },
      {
        "duration": 16,
        "start_time": "2022-03-26T22:17:09.440Z"
      },
      {
        "duration": 20,
        "start_time": "2022-03-26T22:17:09.459Z"
      },
      {
        "duration": 21,
        "start_time": "2022-03-26T22:17:09.481Z"
      },
      {
        "duration": 7,
        "start_time": "2022-03-26T22:17:09.505Z"
      },
      {
        "duration": 10,
        "start_time": "2022-03-26T22:17:09.544Z"
      },
      {
        "duration": 14,
        "start_time": "2022-03-26T22:17:09.559Z"
      },
      {
        "duration": 15,
        "start_time": "2022-03-26T22:17:09.575Z"
      },
      {
        "duration": 7,
        "start_time": "2022-03-26T22:17:09.592Z"
      },
      {
        "duration": 48,
        "start_time": "2022-03-26T22:17:09.601Z"
      },
      {
        "duration": 4,
        "start_time": "2022-03-26T22:17:09.650Z"
      },
      {
        "duration": 8,
        "start_time": "2022-03-26T22:17:09.656Z"
      },
      {
        "duration": 14,
        "start_time": "2022-03-26T22:17:09.666Z"
      },
      {
        "duration": 8,
        "start_time": "2022-03-26T22:17:09.682Z"
      },
      {
        "duration": 64,
        "start_time": "2022-03-26T22:17:09.692Z"
      },
      {
        "duration": 13,
        "start_time": "2022-03-26T22:17:09.759Z"
      },
      {
        "duration": 21,
        "start_time": "2022-03-26T22:17:09.775Z"
      },
      {
        "duration": 7,
        "start_time": "2022-03-26T22:17:09.798Z"
      },
      {
        "duration": 8,
        "start_time": "2022-03-26T22:17:09.842Z"
      },
      {
        "duration": 14,
        "start_time": "2022-03-26T22:17:09.853Z"
      },
      {
        "duration": 17,
        "start_time": "2022-03-26T22:22:11.145Z"
      },
      {
        "duration": 19,
        "start_time": "2022-03-26T22:30:50.905Z"
      },
      {
        "duration": 143,
        "start_time": "2022-03-26T22:32:48.488Z"
      },
      {
        "duration": 838,
        "start_time": "2022-03-26T22:37:56.782Z"
      },
      {
        "duration": 1534,
        "start_time": "2022-03-26T22:38:59.836Z"
      },
      {
        "duration": 79,
        "start_time": "2022-03-26T22:39:01.372Z"
      },
      {
        "duration": 18,
        "start_time": "2022-03-26T22:39:01.453Z"
      },
      {
        "duration": 20,
        "start_time": "2022-03-26T22:39:01.473Z"
      },
      {
        "duration": 18,
        "start_time": "2022-03-26T22:39:01.496Z"
      },
      {
        "duration": 30,
        "start_time": "2022-03-26T22:39:01.517Z"
      },
      {
        "duration": 17,
        "start_time": "2022-03-26T22:39:01.550Z"
      },
      {
        "duration": 6,
        "start_time": "2022-03-26T22:39:01.569Z"
      },
      {
        "duration": 11,
        "start_time": "2022-03-26T22:39:01.577Z"
      },
      {
        "duration": 1022,
        "start_time": "2022-03-26T22:39:01.590Z"
      },
      {
        "duration": 0,
        "start_time": "2022-03-26T22:39:02.615Z"
      },
      {
        "duration": 0,
        "start_time": "2022-03-26T22:39:02.617Z"
      },
      {
        "duration": 0,
        "start_time": "2022-03-26T22:39:02.619Z"
      },
      {
        "duration": 0,
        "start_time": "2022-03-26T22:39:02.620Z"
      },
      {
        "duration": 0,
        "start_time": "2022-03-26T22:39:02.622Z"
      },
      {
        "duration": 0,
        "start_time": "2022-03-26T22:39:02.624Z"
      },
      {
        "duration": 0,
        "start_time": "2022-03-26T22:39:02.625Z"
      },
      {
        "duration": 0,
        "start_time": "2022-03-26T22:39:02.626Z"
      },
      {
        "duration": 0,
        "start_time": "2022-03-26T22:39:02.628Z"
      },
      {
        "duration": 0,
        "start_time": "2022-03-26T22:39:02.630Z"
      },
      {
        "duration": 0,
        "start_time": "2022-03-26T22:39:02.631Z"
      },
      {
        "duration": 0,
        "start_time": "2022-03-26T22:39:02.633Z"
      },
      {
        "duration": 0,
        "start_time": "2022-03-26T22:39:02.634Z"
      },
      {
        "duration": 0,
        "start_time": "2022-03-26T22:39:02.635Z"
      },
      {
        "duration": 0,
        "start_time": "2022-03-26T22:39:02.637Z"
      },
      {
        "duration": 199,
        "start_time": "2022-03-26T22:39:44.065Z"
      },
      {
        "duration": 877,
        "start_time": "2022-03-26T22:39:55.663Z"
      },
      {
        "duration": 1476,
        "start_time": "2022-03-26T22:40:11.980Z"
      },
      {
        "duration": 67,
        "start_time": "2022-03-26T22:40:13.459Z"
      },
      {
        "duration": 17,
        "start_time": "2022-03-26T22:40:13.528Z"
      },
      {
        "duration": 11,
        "start_time": "2022-03-26T22:40:13.548Z"
      },
      {
        "duration": 16,
        "start_time": "2022-03-26T22:40:13.561Z"
      },
      {
        "duration": 10,
        "start_time": "2022-03-26T22:40:13.580Z"
      },
      {
        "duration": 14,
        "start_time": "2022-03-26T22:40:13.592Z"
      },
      {
        "duration": 4,
        "start_time": "2022-03-26T22:40:13.643Z"
      },
      {
        "duration": 5,
        "start_time": "2022-03-26T22:40:13.649Z"
      },
      {
        "duration": 20,
        "start_time": "2022-03-26T22:40:13.658Z"
      },
      {
        "duration": 16,
        "start_time": "2022-03-26T22:40:13.681Z"
      },
      {
        "duration": 50,
        "start_time": "2022-03-26T22:40:13.699Z"
      },
      {
        "duration": 7,
        "start_time": "2022-03-26T22:40:13.751Z"
      },
      {
        "duration": 9,
        "start_time": "2022-03-26T22:40:13.760Z"
      },
      {
        "duration": 3,
        "start_time": "2022-03-26T22:40:13.771Z"
      },
      {
        "duration": 11,
        "start_time": "2022-03-26T22:40:13.776Z"
      },
      {
        "duration": 14,
        "start_time": "2022-03-26T22:40:13.789Z"
      },
      {
        "duration": 41,
        "start_time": "2022-03-26T22:40:13.805Z"
      },
      {
        "duration": 17,
        "start_time": "2022-03-26T22:40:13.848Z"
      },
      {
        "duration": 12,
        "start_time": "2022-03-26T22:40:13.867Z"
      },
      {
        "duration": 17,
        "start_time": "2022-03-26T22:40:13.881Z"
      },
      {
        "duration": 48,
        "start_time": "2022-03-26T22:40:13.900Z"
      },
      {
        "duration": 13,
        "start_time": "2022-03-26T22:40:13.950Z"
      },
      {
        "duration": 17,
        "start_time": "2022-03-26T22:40:13.964Z"
      },
      {
        "duration": 167,
        "start_time": "2022-03-26T22:40:13.983Z"
      },
      {
        "duration": 13,
        "start_time": "2022-03-26T22:40:32.911Z"
      },
      {
        "duration": 37,
        "start_time": "2022-03-26T22:45:08.099Z"
      },
      {
        "duration": 292,
        "start_time": "2022-03-26T22:48:22.551Z"
      },
      {
        "duration": 17,
        "start_time": "2022-03-26T22:48:32.017Z"
      },
      {
        "duration": 198,
        "start_time": "2022-03-26T22:50:23.191Z"
      },
      {
        "duration": 213,
        "start_time": "2022-03-26T22:50:42.844Z"
      },
      {
        "duration": 210,
        "start_time": "2022-03-26T22:50:51.334Z"
      },
      {
        "duration": 211,
        "start_time": "2022-03-26T22:51:00.394Z"
      },
      {
        "duration": 219,
        "start_time": "2022-03-26T22:51:11.539Z"
      },
      {
        "duration": 34,
        "start_time": "2022-03-26T22:51:28.356Z"
      },
      {
        "duration": 409,
        "start_time": "2022-03-26T22:52:14.732Z"
      },
      {
        "duration": 258,
        "start_time": "2022-03-26T22:52:54.813Z"
      },
      {
        "duration": 257,
        "start_time": "2022-03-26T22:53:25.249Z"
      },
      {
        "duration": 15,
        "start_time": "2022-03-26T22:53:41.279Z"
      },
      {
        "duration": 24,
        "start_time": "2022-03-26T22:54:21.672Z"
      },
      {
        "duration": 7,
        "start_time": "2022-03-26T22:56:16.128Z"
      },
      {
        "duration": 6,
        "start_time": "2022-03-26T22:56:17.044Z"
      },
      {
        "duration": 450,
        "start_time": "2022-03-26T22:57:37.647Z"
      },
      {
        "duration": 287,
        "start_time": "2022-03-26T22:59:23.288Z"
      },
      {
        "duration": 339,
        "start_time": "2022-03-26T22:59:36.717Z"
      },
      {
        "duration": 347,
        "start_time": "2022-03-26T22:59:48.765Z"
      },
      {
        "duration": 356,
        "start_time": "2022-03-26T23:02:06.508Z"
      },
      {
        "duration": 295,
        "start_time": "2022-03-26T23:05:35.696Z"
      },
      {
        "duration": 360,
        "start_time": "2022-03-26T23:05:43.072Z"
      },
      {
        "duration": 2195,
        "start_time": "2022-03-27T20:55:08.346Z"
      },
      {
        "duration": 55,
        "start_time": "2022-03-27T20:55:10.544Z"
      },
      {
        "duration": 18,
        "start_time": "2022-03-27T20:55:10.601Z"
      },
      {
        "duration": 12,
        "start_time": "2022-03-27T20:55:10.622Z"
      },
      {
        "duration": 19,
        "start_time": "2022-03-27T20:55:10.638Z"
      },
      {
        "duration": 17,
        "start_time": "2022-03-27T20:55:10.670Z"
      },
      {
        "duration": 22,
        "start_time": "2022-03-27T20:55:10.689Z"
      },
      {
        "duration": 9,
        "start_time": "2022-03-27T20:55:10.713Z"
      },
      {
        "duration": 7,
        "start_time": "2022-03-27T20:55:10.724Z"
      },
      {
        "duration": 55,
        "start_time": "2022-03-27T20:55:10.733Z"
      },
      {
        "duration": 26,
        "start_time": "2022-03-27T20:55:10.790Z"
      },
      {
        "duration": 21,
        "start_time": "2022-03-27T20:55:10.819Z"
      },
      {
        "duration": 35,
        "start_time": "2022-03-27T20:55:10.843Z"
      },
      {
        "duration": 20,
        "start_time": "2022-03-27T20:55:10.883Z"
      },
      {
        "duration": 5,
        "start_time": "2022-03-27T20:55:10.907Z"
      },
      {
        "duration": 11,
        "start_time": "2022-03-27T20:55:10.915Z"
      },
      {
        "duration": 45,
        "start_time": "2022-03-27T20:55:10.929Z"
      },
      {
        "duration": 26,
        "start_time": "2022-03-27T20:55:10.978Z"
      },
      {
        "duration": 18,
        "start_time": "2022-03-27T20:55:11.008Z"
      },
      {
        "duration": 15,
        "start_time": "2022-03-27T20:55:11.029Z"
      },
      {
        "duration": 47,
        "start_time": "2022-03-27T20:55:11.047Z"
      },
      {
        "duration": 10,
        "start_time": "2022-03-27T20:55:11.099Z"
      },
      {
        "duration": 27,
        "start_time": "2022-03-27T20:55:11.112Z"
      },
      {
        "duration": 47,
        "start_time": "2022-03-27T20:55:11.142Z"
      },
      {
        "duration": 122,
        "start_time": "2022-03-27T20:55:11.192Z"
      },
      {
        "duration": 0,
        "start_time": "2022-03-27T20:55:11.318Z"
      },
      {
        "duration": 0,
        "start_time": "2022-03-27T20:55:11.321Z"
      },
      {
        "duration": 0,
        "start_time": "2022-03-27T20:55:11.323Z"
      },
      {
        "duration": 0,
        "start_time": "2022-03-27T20:55:11.325Z"
      },
      {
        "duration": 0,
        "start_time": "2022-03-27T20:55:11.328Z"
      },
      {
        "duration": 0,
        "start_time": "2022-03-27T20:55:11.330Z"
      },
      {
        "duration": 0,
        "start_time": "2022-03-27T20:55:11.332Z"
      },
      {
        "duration": 0,
        "start_time": "2022-03-27T20:55:11.335Z"
      },
      {
        "duration": 293,
        "start_time": "2022-03-27T20:56:17.555Z"
      },
      {
        "duration": 338,
        "start_time": "2022-03-27T20:56:56.725Z"
      },
      {
        "duration": 408,
        "start_time": "2022-03-27T20:57:59.241Z"
      },
      {
        "duration": 285,
        "start_time": "2022-03-27T20:59:29.810Z"
      },
      {
        "duration": 388,
        "start_time": "2022-03-27T20:59:33.270Z"
      },
      {
        "duration": 26,
        "start_time": "2022-03-27T20:59:35.524Z"
      },
      {
        "duration": 41,
        "start_time": "2022-03-27T20:59:37.655Z"
      },
      {
        "duration": 13,
        "start_time": "2022-03-27T20:59:38.756Z"
      },
      {
        "duration": 7,
        "start_time": "2022-03-27T20:59:39.924Z"
      },
      {
        "duration": 910,
        "start_time": "2022-03-27T20:59:41.057Z"
      },
      {
        "duration": 19,
        "start_time": "2022-03-27T21:01:29.235Z"
      },
      {
        "duration": 484,
        "start_time": "2022-03-27T21:01:36.097Z"
      },
      {
        "duration": 502,
        "start_time": "2022-03-27T21:05:50.475Z"
      },
      {
        "duration": 603,
        "start_time": "2022-03-27T21:06:39.193Z"
      },
      {
        "duration": 528,
        "start_time": "2022-03-27T21:09:51.020Z"
      },
      {
        "duration": 504,
        "start_time": "2022-03-27T21:10:08.786Z"
      },
      {
        "duration": 4,
        "start_time": "2022-03-27T21:38:12.410Z"
      },
      {
        "duration": 115,
        "start_time": "2022-03-27T22:01:22.903Z"
      },
      {
        "duration": 4,
        "start_time": "2022-03-27T22:04:12.236Z"
      },
      {
        "duration": 450,
        "start_time": "2022-03-27T22:05:18.481Z"
      },
      {
        "duration": 516,
        "start_time": "2022-03-27T22:06:22.273Z"
      },
      {
        "duration": 9,
        "start_time": "2022-03-27T22:20:12.925Z"
      },
      {
        "duration": 8,
        "start_time": "2022-03-27T22:20:14.377Z"
      },
      {
        "duration": 39,
        "start_time": "2022-03-27T22:20:33.734Z"
      },
      {
        "duration": 20,
        "start_time": "2022-03-27T22:20:45.000Z"
      },
      {
        "duration": 717,
        "start_time": "2022-03-27T22:24:51.812Z"
      },
      {
        "duration": 20,
        "start_time": "2022-03-27T22:29:03.812Z"
      },
      {
        "duration": 1457,
        "start_time": "2022-03-28T09:19:26.146Z"
      },
      {
        "duration": 42,
        "start_time": "2022-03-28T09:19:27.606Z"
      },
      {
        "duration": 14,
        "start_time": "2022-03-28T09:19:27.650Z"
      },
      {
        "duration": 9,
        "start_time": "2022-03-28T09:19:27.666Z"
      },
      {
        "duration": 13,
        "start_time": "2022-03-28T09:19:27.679Z"
      },
      {
        "duration": 16,
        "start_time": "2022-03-28T09:19:27.694Z"
      },
      {
        "duration": 17,
        "start_time": "2022-03-28T09:19:27.712Z"
      },
      {
        "duration": 6,
        "start_time": "2022-03-28T09:19:27.731Z"
      },
      {
        "duration": 8,
        "start_time": "2022-03-28T09:19:27.739Z"
      },
      {
        "duration": 23,
        "start_time": "2022-03-28T09:19:27.749Z"
      },
      {
        "duration": 30,
        "start_time": "2022-03-28T09:19:27.774Z"
      },
      {
        "duration": 15,
        "start_time": "2022-03-28T09:19:27.806Z"
      },
      {
        "duration": 10,
        "start_time": "2022-03-28T09:19:27.822Z"
      },
      {
        "duration": 8,
        "start_time": "2022-03-28T09:19:27.835Z"
      },
      {
        "duration": 5,
        "start_time": "2022-03-28T09:19:27.844Z"
      },
      {
        "duration": 19,
        "start_time": "2022-03-28T09:19:27.851Z"
      },
      {
        "duration": 35,
        "start_time": "2022-03-28T09:19:27.873Z"
      },
      {
        "duration": 7,
        "start_time": "2022-03-28T09:19:27.910Z"
      },
      {
        "duration": 16,
        "start_time": "2022-03-28T09:19:27.918Z"
      },
      {
        "duration": 13,
        "start_time": "2022-03-28T09:19:27.936Z"
      },
      {
        "duration": 14,
        "start_time": "2022-03-28T09:19:27.951Z"
      },
      {
        "duration": 5,
        "start_time": "2022-03-28T09:19:27.967Z"
      },
      {
        "duration": 37,
        "start_time": "2022-03-28T09:19:27.973Z"
      },
      {
        "duration": 21,
        "start_time": "2022-03-28T09:19:28.012Z"
      },
      {
        "duration": 208,
        "start_time": "2022-03-28T09:19:28.035Z"
      },
      {
        "duration": 165,
        "start_time": "2022-03-28T09:19:28.245Z"
      },
      {
        "duration": 118,
        "start_time": "2022-03-28T09:19:28.412Z"
      },
      {
        "duration": 0,
        "start_time": "2022-03-28T09:19:28.532Z"
      },
      {
        "duration": 0,
        "start_time": "2022-03-28T09:19:28.534Z"
      },
      {
        "duration": 0,
        "start_time": "2022-03-28T09:19:28.535Z"
      },
      {
        "duration": 0,
        "start_time": "2022-03-28T09:19:28.536Z"
      },
      {
        "duration": 0,
        "start_time": "2022-03-28T09:19:28.538Z"
      },
      {
        "duration": 5,
        "start_time": "2022-03-28T09:35:18.351Z"
      },
      {
        "duration": 4,
        "start_time": "2022-03-28T09:35:31.816Z"
      },
      {
        "duration": 7,
        "start_time": "2022-03-28T09:36:06.562Z"
      },
      {
        "duration": 17,
        "start_time": "2022-03-28T09:36:17.919Z"
      },
      {
        "duration": 7,
        "start_time": "2022-03-28T09:39:26.367Z"
      },
      {
        "duration": 390,
        "start_time": "2022-03-28T09:39:27.920Z"
      },
      {
        "duration": 305,
        "start_time": "2022-03-28T09:39:30.137Z"
      },
      {
        "duration": 18,
        "start_time": "2022-03-28T09:39:34.953Z"
      },
      {
        "duration": 14,
        "start_time": "2022-03-28T09:39:35.449Z"
      },
      {
        "duration": 413,
        "start_time": "2022-03-28T09:39:36.582Z"
      },
      {
        "duration": 381,
        "start_time": "2022-03-28T09:44:49.644Z"
      },
      {
        "duration": 332,
        "start_time": "2022-03-28T09:45:51.846Z"
      },
      {
        "duration": 364,
        "start_time": "2022-03-28T09:46:40.197Z"
      },
      {
        "duration": 594,
        "start_time": "2022-03-28T09:47:35.816Z"
      },
      {
        "duration": 292,
        "start_time": "2022-03-28T09:49:15.140Z"
      },
      {
        "duration": 489,
        "start_time": "2022-03-28T09:52:40.077Z"
      },
      {
        "duration": 398,
        "start_time": "2022-03-28T09:53:22.457Z"
      },
      {
        "duration": 425,
        "start_time": "2022-03-28T09:53:37.192Z"
      },
      {
        "duration": 408,
        "start_time": "2022-03-28T09:54:10.317Z"
      },
      {
        "duration": 46,
        "start_time": "2022-03-28T12:13:23.217Z"
      },
      {
        "duration": 1394,
        "start_time": "2022-03-28T12:13:37.959Z"
      },
      {
        "duration": 58,
        "start_time": "2022-03-28T12:13:39.356Z"
      },
      {
        "duration": 14,
        "start_time": "2022-03-28T12:13:39.416Z"
      },
      {
        "duration": 10,
        "start_time": "2022-03-28T12:13:39.432Z"
      },
      {
        "duration": 12,
        "start_time": "2022-03-28T12:13:39.445Z"
      },
      {
        "duration": 9,
        "start_time": "2022-03-28T12:13:39.460Z"
      },
      {
        "duration": 13,
        "start_time": "2022-03-28T12:13:39.471Z"
      },
      {
        "duration": 4,
        "start_time": "2022-03-28T12:13:39.486Z"
      },
      {
        "duration": 5,
        "start_time": "2022-03-28T12:13:39.491Z"
      },
      {
        "duration": 41,
        "start_time": "2022-03-28T12:13:39.497Z"
      },
      {
        "duration": 13,
        "start_time": "2022-03-28T12:13:39.540Z"
      },
      {
        "duration": 13,
        "start_time": "2022-03-28T12:13:39.555Z"
      },
      {
        "duration": 9,
        "start_time": "2022-03-28T12:13:39.570Z"
      },
      {
        "duration": 6,
        "start_time": "2022-03-28T12:13:39.583Z"
      },
      {
        "duration": 4,
        "start_time": "2022-03-28T12:13:39.590Z"
      },
      {
        "duration": 7,
        "start_time": "2022-03-28T12:13:39.595Z"
      },
      {
        "duration": 43,
        "start_time": "2022-03-28T12:13:39.604Z"
      },
      {
        "duration": 7,
        "start_time": "2022-03-28T12:13:39.649Z"
      },
      {
        "duration": 15,
        "start_time": "2022-03-28T12:13:39.657Z"
      },
      {
        "duration": 11,
        "start_time": "2022-03-28T12:13:39.674Z"
      },
      {
        "duration": 14,
        "start_time": "2022-03-28T12:13:39.686Z"
      },
      {
        "duration": 38,
        "start_time": "2022-03-28T12:13:39.702Z"
      },
      {
        "duration": 12,
        "start_time": "2022-03-28T12:13:39.742Z"
      },
      {
        "duration": 18,
        "start_time": "2022-03-28T12:13:39.755Z"
      },
      {
        "duration": 190,
        "start_time": "2022-03-28T12:13:39.776Z"
      },
      {
        "duration": 139,
        "start_time": "2022-03-28T12:13:39.968Z"
      },
      {
        "duration": 35,
        "start_time": "2022-03-28T12:13:40.108Z"
      },
      {
        "duration": 7,
        "start_time": "2022-03-28T12:13:40.145Z"
      },
      {
        "duration": 379,
        "start_time": "2022-03-28T12:13:40.153Z"
      },
      {
        "duration": 336,
        "start_time": "2022-03-28T12:13:40.538Z"
      },
      {
        "duration": 15,
        "start_time": "2022-03-28T12:13:40.876Z"
      },
      {
        "duration": 13,
        "start_time": "2022-03-28T12:13:40.893Z"
      },
      {
        "duration": 461,
        "start_time": "2022-03-28T12:13:40.907Z"
      },
      {
        "duration": 4,
        "start_time": "2022-03-28T12:13:41.370Z"
      },
      {
        "duration": 6,
        "start_time": "2022-03-28T12:19:00.349Z"
      },
      {
        "duration": 245,
        "start_time": "2022-03-28T12:19:15.533Z"
      },
      {
        "duration": 289,
        "start_time": "2022-03-28T12:20:31.974Z"
      },
      {
        "duration": 279,
        "start_time": "2022-03-28T12:20:58.013Z"
      },
      {
        "duration": 276,
        "start_time": "2022-03-28T12:21:12.113Z"
      },
      {
        "duration": 274,
        "start_time": "2022-03-28T12:21:40.324Z"
      },
      {
        "duration": 466,
        "start_time": "2022-03-28T12:22:54.287Z"
      },
      {
        "duration": 290,
        "start_time": "2022-03-28T12:23:28.666Z"
      },
      {
        "duration": 268,
        "start_time": "2022-03-28T12:23:44.331Z"
      },
      {
        "duration": 3,
        "start_time": "2022-03-28T13:35:01.228Z"
      },
      {
        "duration": 3,
        "start_time": "2022-03-28T13:36:28.691Z"
      },
      {
        "duration": 9,
        "start_time": "2022-03-28T13:40:50.689Z"
      },
      {
        "duration": 16,
        "start_time": "2022-03-28T13:41:06.411Z"
      },
      {
        "duration": 15,
        "start_time": "2022-03-28T13:41:27.319Z"
      },
      {
        "duration": 149,
        "start_time": "2022-03-28T13:50:33.162Z"
      },
      {
        "duration": 165,
        "start_time": "2022-03-28T13:50:41.959Z"
      },
      {
        "duration": 13,
        "start_time": "2022-03-28T13:50:56.366Z"
      },
      {
        "duration": 234,
        "start_time": "2022-03-28T13:56:48.596Z"
      },
      {
        "duration": 250,
        "start_time": "2022-03-28T13:57:59.832Z"
      },
      {
        "duration": 238,
        "start_time": "2022-03-28T13:58:40.989Z"
      },
      {
        "duration": 366,
        "start_time": "2022-03-28T13:59:21.004Z"
      },
      {
        "duration": 48,
        "start_time": "2022-03-28T15:08:22.856Z"
      },
      {
        "duration": 143,
        "start_time": "2022-03-28T15:09:11.650Z"
      },
      {
        "duration": 186,
        "start_time": "2022-03-28T15:10:32.028Z"
      },
      {
        "duration": 7,
        "start_time": "2022-03-28T15:10:40.185Z"
      },
      {
        "duration": 6,
        "start_time": "2022-03-28T15:11:03.335Z"
      },
      {
        "duration": 7,
        "start_time": "2022-03-28T15:11:29.190Z"
      },
      {
        "duration": 1298,
        "start_time": "2022-03-28T15:11:40.925Z"
      },
      {
        "duration": 35,
        "start_time": "2022-03-28T15:11:42.225Z"
      },
      {
        "duration": 11,
        "start_time": "2022-03-28T15:11:42.261Z"
      },
      {
        "duration": 8,
        "start_time": "2022-03-28T15:11:42.273Z"
      },
      {
        "duration": 12,
        "start_time": "2022-03-28T15:11:42.282Z"
      },
      {
        "duration": 12,
        "start_time": "2022-03-28T15:11:42.296Z"
      },
      {
        "duration": 13,
        "start_time": "2022-03-28T15:11:42.309Z"
      },
      {
        "duration": 9,
        "start_time": "2022-03-28T15:11:42.324Z"
      },
      {
        "duration": 17,
        "start_time": "2022-03-28T15:11:42.334Z"
      },
      {
        "duration": 12,
        "start_time": "2022-03-28T15:11:42.363Z"
      },
      {
        "duration": 15,
        "start_time": "2022-03-28T15:11:42.377Z"
      },
      {
        "duration": 19,
        "start_time": "2022-03-28T15:11:42.394Z"
      },
      {
        "duration": 8,
        "start_time": "2022-03-28T15:11:42.415Z"
      },
      {
        "duration": 4,
        "start_time": "2022-03-28T15:11:42.425Z"
      },
      {
        "duration": 11,
        "start_time": "2022-03-28T15:11:42.431Z"
      },
      {
        "duration": 14,
        "start_time": "2022-03-28T15:11:42.443Z"
      },
      {
        "duration": 6,
        "start_time": "2022-03-28T15:11:42.459Z"
      },
      {
        "duration": 11,
        "start_time": "2022-03-28T15:11:42.466Z"
      },
      {
        "duration": 9,
        "start_time": "2022-03-28T15:11:42.479Z"
      },
      {
        "duration": 11,
        "start_time": "2022-03-28T15:11:42.490Z"
      },
      {
        "duration": 4,
        "start_time": "2022-03-28T15:11:42.503Z"
      },
      {
        "duration": 9,
        "start_time": "2022-03-28T15:11:42.509Z"
      },
      {
        "duration": 11,
        "start_time": "2022-03-28T15:11:42.520Z"
      },
      {
        "duration": 163,
        "start_time": "2022-03-28T15:11:42.563Z"
      },
      {
        "duration": 124,
        "start_time": "2022-03-28T15:11:42.727Z"
      },
      {
        "duration": 14,
        "start_time": "2022-03-28T15:11:42.863Z"
      },
      {
        "duration": 7,
        "start_time": "2022-03-28T15:11:42.878Z"
      },
      {
        "duration": 337,
        "start_time": "2022-03-28T15:11:42.889Z"
      },
      {
        "duration": 311,
        "start_time": "2022-03-28T15:11:43.228Z"
      },
      {
        "duration": 15,
        "start_time": "2022-03-28T15:11:43.541Z"
      },
      {
        "duration": 10,
        "start_time": "2022-03-28T15:11:43.557Z"
      },
      {
        "duration": 417,
        "start_time": "2022-03-28T15:11:43.568Z"
      },
      {
        "duration": 4,
        "start_time": "2022-03-28T15:11:43.986Z"
      },
      {
        "duration": 10,
        "start_time": "2022-03-28T15:11:43.991Z"
      },
      {
        "duration": 299,
        "start_time": "2022-03-28T15:11:44.002Z"
      },
      {
        "duration": 14,
        "start_time": "2022-03-28T15:11:44.302Z"
      },
      {
        "duration": 395,
        "start_time": "2022-03-28T15:11:44.317Z"
      },
      {
        "duration": 13,
        "start_time": "2022-03-28T15:11:44.713Z"
      },
      {
        "duration": 6,
        "start_time": "2022-03-28T15:12:20.139Z"
      },
      {
        "duration": 10,
        "start_time": "2022-03-28T15:12:23.617Z"
      },
      {
        "duration": 164,
        "start_time": "2022-03-28T15:17:22.587Z"
      },
      {
        "duration": 228,
        "start_time": "2022-03-28T15:17:59.485Z"
      },
      {
        "duration": 3,
        "start_time": "2022-03-28T15:18:22.056Z"
      },
      {
        "duration": 177,
        "start_time": "2022-03-28T15:18:38.330Z"
      },
      {
        "duration": 5,
        "start_time": "2022-03-28T15:18:54.971Z"
      },
      {
        "duration": 6,
        "start_time": "2022-03-28T15:21:28.372Z"
      },
      {
        "duration": 9,
        "start_time": "2022-03-28T15:46:25.685Z"
      },
      {
        "duration": 244,
        "start_time": "2022-03-28T15:46:35.976Z"
      },
      {
        "duration": 184,
        "start_time": "2022-03-28T15:46:53.352Z"
      },
      {
        "duration": 194,
        "start_time": "2022-03-28T15:46:58.531Z"
      },
      {
        "duration": 9,
        "start_time": "2022-03-28T15:47:25.164Z"
      },
      {
        "duration": 175,
        "start_time": "2022-03-28T15:47:42.218Z"
      },
      {
        "duration": 159,
        "start_time": "2022-03-28T15:49:56.979Z"
      },
      {
        "duration": 6,
        "start_time": "2022-03-28T15:50:31.899Z"
      },
      {
        "duration": 5,
        "start_time": "2022-03-28T15:52:38.326Z"
      },
      {
        "duration": 1908,
        "start_time": "2022-03-29T19:48:49.476Z"
      },
      {
        "duration": 51,
        "start_time": "2022-03-29T19:48:51.388Z"
      },
      {
        "duration": 19,
        "start_time": "2022-03-29T19:48:51.441Z"
      },
      {
        "duration": 13,
        "start_time": "2022-03-29T19:48:51.463Z"
      },
      {
        "duration": 22,
        "start_time": "2022-03-29T19:48:51.479Z"
      },
      {
        "duration": 14,
        "start_time": "2022-03-29T19:48:51.504Z"
      },
      {
        "duration": 17,
        "start_time": "2022-03-29T19:48:51.521Z"
      },
      {
        "duration": 5,
        "start_time": "2022-03-29T19:48:51.575Z"
      },
      {
        "duration": 36,
        "start_time": "2022-03-29T19:48:51.583Z"
      },
      {
        "duration": 21,
        "start_time": "2022-03-29T19:48:51.625Z"
      },
      {
        "duration": 21,
        "start_time": "2022-03-29T19:48:51.673Z"
      },
      {
        "duration": 13,
        "start_time": "2022-03-29T19:48:51.697Z"
      },
      {
        "duration": 10,
        "start_time": "2022-03-29T19:48:51.713Z"
      },
      {
        "duration": 10,
        "start_time": "2022-03-29T19:48:51.725Z"
      },
      {
        "duration": 42,
        "start_time": "2022-03-29T19:48:51.737Z"
      },
      {
        "duration": 16,
        "start_time": "2022-03-29T19:48:51.782Z"
      },
      {
        "duration": 8,
        "start_time": "2022-03-29T19:48:51.801Z"
      },
      {
        "duration": 18,
        "start_time": "2022-03-29T19:48:51.811Z"
      },
      {
        "duration": 47,
        "start_time": "2022-03-29T19:48:51.831Z"
      },
      {
        "duration": 21,
        "start_time": "2022-03-29T19:48:51.880Z"
      },
      {
        "duration": 7,
        "start_time": "2022-03-29T19:48:51.903Z"
      },
      {
        "duration": 15,
        "start_time": "2022-03-29T19:48:51.912Z"
      },
      {
        "duration": 51,
        "start_time": "2022-03-29T19:48:51.930Z"
      },
      {
        "duration": 309,
        "start_time": "2022-03-29T19:48:51.983Z"
      },
      {
        "duration": 249,
        "start_time": "2022-03-29T19:48:52.295Z"
      },
      {
        "duration": 44,
        "start_time": "2022-03-29T19:48:52.546Z"
      },
      {
        "duration": 12,
        "start_time": "2022-03-29T19:48:52.592Z"
      },
      {
        "duration": 681,
        "start_time": "2022-03-29T19:48:52.610Z"
      },
      {
        "duration": 585,
        "start_time": "2022-03-29T19:48:53.293Z"
      },
      {
        "duration": 30,
        "start_time": "2022-03-29T19:48:53.881Z"
      },
      {
        "duration": 20,
        "start_time": "2022-03-29T19:48:53.913Z"
      },
      {
        "duration": 683,
        "start_time": "2022-03-29T19:48:53.935Z"
      },
      {
        "duration": 6,
        "start_time": "2022-03-29T19:48:54.621Z"
      },
      {
        "duration": 8,
        "start_time": "2022-03-29T19:48:54.630Z"
      },
      {
        "duration": 541,
        "start_time": "2022-03-29T19:48:54.640Z"
      },
      {
        "duration": 21,
        "start_time": "2022-03-29T19:48:55.183Z"
      },
      {
        "duration": 592,
        "start_time": "2022-03-29T19:48:55.207Z"
      },
      {
        "duration": 16,
        "start_time": "2022-03-29T19:48:55.801Z"
      },
      {
        "duration": 5,
        "start_time": "2022-03-29T19:48:55.819Z"
      },
      {
        "duration": 383,
        "start_time": "2022-03-29T19:48:55.826Z"
      },
      {
        "duration": 9,
        "start_time": "2022-03-29T19:48:56.211Z"
      },
      {
        "duration": 483,
        "start_time": "2022-03-29T19:48:56.222Z"
      },
      {
        "duration": 49,
        "start_time": "2022-03-29T19:59:54.664Z"
      },
      {
        "duration": 1325,
        "start_time": "2022-03-29T20:00:04.673Z"
      },
      {
        "duration": 42,
        "start_time": "2022-03-29T20:00:06.000Z"
      },
      {
        "duration": 11,
        "start_time": "2022-03-29T20:00:06.043Z"
      },
      {
        "duration": 14,
        "start_time": "2022-03-29T20:00:06.056Z"
      },
      {
        "duration": 17,
        "start_time": "2022-03-29T20:00:06.071Z"
      },
      {
        "duration": 20,
        "start_time": "2022-03-29T20:00:06.090Z"
      },
      {
        "duration": 18,
        "start_time": "2022-03-29T20:00:06.111Z"
      },
      {
        "duration": 9,
        "start_time": "2022-03-29T20:00:06.130Z"
      },
      {
        "duration": 25,
        "start_time": "2022-03-29T20:00:06.141Z"
      },
      {
        "duration": 10,
        "start_time": "2022-03-29T20:00:06.169Z"
      },
      {
        "duration": 17,
        "start_time": "2022-03-29T20:00:06.181Z"
      },
      {
        "duration": 17,
        "start_time": "2022-03-29T20:00:06.200Z"
      },
      {
        "duration": 8,
        "start_time": "2022-03-29T20:00:06.219Z"
      },
      {
        "duration": 3,
        "start_time": "2022-03-29T20:00:06.232Z"
      },
      {
        "duration": 10,
        "start_time": "2022-03-29T20:00:06.237Z"
      },
      {
        "duration": 12,
        "start_time": "2022-03-29T20:00:06.249Z"
      },
      {
        "duration": 6,
        "start_time": "2022-03-29T20:00:06.263Z"
      },
      {
        "duration": 18,
        "start_time": "2022-03-29T20:00:06.270Z"
      },
      {
        "duration": 11,
        "start_time": "2022-03-29T20:00:06.290Z"
      },
      {
        "duration": 40,
        "start_time": "2022-03-29T20:00:06.303Z"
      },
      {
        "duration": 6,
        "start_time": "2022-03-29T20:00:06.345Z"
      },
      {
        "duration": 20,
        "start_time": "2022-03-29T20:00:06.353Z"
      },
      {
        "duration": 18,
        "start_time": "2022-03-29T20:00:06.375Z"
      },
      {
        "duration": 186,
        "start_time": "2022-03-29T20:00:06.395Z"
      },
      {
        "duration": 132,
        "start_time": "2022-03-29T20:00:06.583Z"
      },
      {
        "duration": 29,
        "start_time": "2022-03-29T20:00:06.717Z"
      },
      {
        "duration": 6,
        "start_time": "2022-03-29T20:00:06.748Z"
      },
      {
        "duration": 358,
        "start_time": "2022-03-29T20:00:06.758Z"
      },
      {
        "duration": 296,
        "start_time": "2022-03-29T20:00:07.117Z"
      },
      {
        "duration": 18,
        "start_time": "2022-03-29T20:00:07.415Z"
      },
      {
        "duration": 11,
        "start_time": "2022-03-29T20:00:07.435Z"
      },
      {
        "duration": 419,
        "start_time": "2022-03-29T20:00:07.448Z"
      },
      {
        "duration": 3,
        "start_time": "2022-03-29T20:00:07.869Z"
      },
      {
        "duration": 17,
        "start_time": "2022-03-29T20:00:07.874Z"
      },
      {
        "duration": 277,
        "start_time": "2022-03-29T20:00:07.893Z"
      },
      {
        "duration": 13,
        "start_time": "2022-03-29T20:00:08.171Z"
      },
      {
        "duration": 349,
        "start_time": "2022-03-29T20:00:08.186Z"
      },
      {
        "duration": 12,
        "start_time": "2022-03-29T20:00:08.537Z"
      },
      {
        "duration": 4,
        "start_time": "2022-03-29T20:00:08.550Z"
      },
      {
        "duration": 225,
        "start_time": "2022-03-29T20:00:08.555Z"
      },
      {
        "duration": 5,
        "start_time": "2022-03-29T20:00:08.781Z"
      },
      {
        "duration": 188,
        "start_time": "2022-03-29T20:00:08.787Z"
      },
      {
        "duration": 6,
        "start_time": "2022-03-29T20:01:25.852Z"
      },
      {
        "duration": 9,
        "start_time": "2022-03-29T20:01:39.602Z"
      },
      {
        "duration": 212,
        "start_time": "2022-03-29T20:02:31.613Z"
      },
      {
        "duration": 6,
        "start_time": "2022-03-29T20:04:03.612Z"
      },
      {
        "duration": 277,
        "start_time": "2022-03-29T20:07:29.247Z"
      },
      {
        "duration": 5,
        "start_time": "2022-03-29T20:08:55.782Z"
      },
      {
        "duration": 5,
        "start_time": "2022-03-29T20:10:25.952Z"
      },
      {
        "duration": 5,
        "start_time": "2022-03-29T20:10:51.703Z"
      },
      {
        "duration": 5,
        "start_time": "2022-03-29T20:13:07.678Z"
      },
      {
        "duration": 158,
        "start_time": "2022-03-29T20:13:33.316Z"
      },
      {
        "duration": 4,
        "start_time": "2022-03-29T20:13:53.815Z"
      },
      {
        "duration": 187,
        "start_time": "2022-03-29T20:15:40.068Z"
      },
      {
        "duration": 5,
        "start_time": "2022-03-29T20:17:31.807Z"
      },
      {
        "duration": 5,
        "start_time": "2022-03-29T20:24:27.508Z"
      },
      {
        "duration": 5,
        "start_time": "2022-03-29T20:25:14.971Z"
      },
      {
        "duration": 10,
        "start_time": "2022-03-29T20:34:29.908Z"
      },
      {
        "duration": 10,
        "start_time": "2022-03-29T20:35:34.971Z"
      },
      {
        "duration": 53,
        "start_time": "2022-03-29T20:37:38.355Z"
      },
      {
        "duration": 52,
        "start_time": "2022-03-29T20:39:43.224Z"
      },
      {
        "duration": 51,
        "start_time": "2022-03-29T20:40:10.641Z"
      },
      {
        "duration": 10,
        "start_time": "2022-03-29T20:41:11.780Z"
      },
      {
        "duration": 53,
        "start_time": "2022-03-29T20:42:04.642Z"
      },
      {
        "duration": 100,
        "start_time": "2022-03-29T20:42:50.860Z"
      },
      {
        "duration": 13,
        "start_time": "2022-03-29T20:43:54.086Z"
      },
      {
        "duration": 15,
        "start_time": "2022-03-29T20:44:07.036Z"
      },
      {
        "duration": 18,
        "start_time": "2022-03-29T20:44:24.149Z"
      },
      {
        "duration": 55,
        "start_time": "2022-03-29T20:54:14.607Z"
      },
      {
        "duration": 17,
        "start_time": "2022-03-29T20:56:10.767Z"
      },
      {
        "duration": 50,
        "start_time": "2022-03-29T20:56:14.131Z"
      },
      {
        "duration": 10,
        "start_time": "2022-03-29T20:56:16.274Z"
      },
      {
        "duration": 14,
        "start_time": "2022-03-29T20:58:00.282Z"
      },
      {
        "duration": 17,
        "start_time": "2022-03-29T20:58:23.566Z"
      },
      {
        "duration": 19,
        "start_time": "2022-03-29T20:58:42.439Z"
      },
      {
        "duration": 58,
        "start_time": "2022-03-29T21:01:14.054Z"
      },
      {
        "duration": 32,
        "start_time": "2022-03-29T21:08:37.472Z"
      },
      {
        "duration": 3,
        "start_time": "2022-03-29T21:50:43.473Z"
      },
      {
        "duration": 3,
        "start_time": "2022-03-29T21:53:17.558Z"
      },
      {
        "duration": 9,
        "start_time": "2022-03-29T21:53:47.263Z"
      },
      {
        "duration": 172,
        "start_time": "2022-03-29T21:54:46.533Z"
      },
      {
        "duration": 4,
        "start_time": "2022-03-29T21:55:41.155Z"
      },
      {
        "duration": 72,
        "start_time": "2022-03-29T21:55:42.785Z"
      },
      {
        "duration": 149,
        "start_time": "2022-03-29T21:57:26.599Z"
      },
      {
        "duration": 160,
        "start_time": "2022-03-29T21:57:37.289Z"
      },
      {
        "duration": 3,
        "start_time": "2022-03-29T21:59:07.127Z"
      },
      {
        "duration": 102,
        "start_time": "2022-03-29T22:07:22.076Z"
      },
      {
        "duration": 3,
        "start_time": "2022-03-29T22:07:29.854Z"
      },
      {
        "duration": 9,
        "start_time": "2022-03-29T22:09:07.026Z"
      },
      {
        "duration": 1156,
        "start_time": "2022-03-29T22:10:43.715Z"
      },
      {
        "duration": 42,
        "start_time": "2022-03-29T22:10:44.873Z"
      },
      {
        "duration": 12,
        "start_time": "2022-03-29T22:10:44.916Z"
      },
      {
        "duration": 9,
        "start_time": "2022-03-29T22:10:44.930Z"
      },
      {
        "duration": 13,
        "start_time": "2022-03-29T22:10:44.941Z"
      },
      {
        "duration": 10,
        "start_time": "2022-03-29T22:10:44.955Z"
      },
      {
        "duration": 13,
        "start_time": "2022-03-29T22:10:44.966Z"
      },
      {
        "duration": 7,
        "start_time": "2022-03-29T22:10:44.981Z"
      },
      {
        "duration": 44,
        "start_time": "2022-03-29T22:10:44.989Z"
      },
      {
        "duration": 11,
        "start_time": "2022-03-29T22:10:45.035Z"
      },
      {
        "duration": 16,
        "start_time": "2022-03-29T22:10:45.048Z"
      },
      {
        "duration": 11,
        "start_time": "2022-03-29T22:10:45.065Z"
      },
      {
        "duration": 12,
        "start_time": "2022-03-29T22:10:45.077Z"
      },
      {
        "duration": 3,
        "start_time": "2022-03-29T22:10:45.091Z"
      },
      {
        "duration": 8,
        "start_time": "2022-03-29T22:10:45.095Z"
      },
      {
        "duration": 31,
        "start_time": "2022-03-29T22:10:45.104Z"
      },
      {
        "duration": 7,
        "start_time": "2022-03-29T22:10:45.137Z"
      },
      {
        "duration": 13,
        "start_time": "2022-03-29T22:10:45.145Z"
      },
      {
        "duration": 10,
        "start_time": "2022-03-29T22:10:45.160Z"
      },
      {
        "duration": 14,
        "start_time": "2022-03-29T22:10:45.172Z"
      },
      {
        "duration": 5,
        "start_time": "2022-03-29T22:10:45.187Z"
      },
      {
        "duration": 39,
        "start_time": "2022-03-29T22:10:45.194Z"
      },
      {
        "duration": 13,
        "start_time": "2022-03-29T22:10:45.235Z"
      },
      {
        "duration": 178,
        "start_time": "2022-03-29T22:10:45.249Z"
      },
      {
        "duration": 135,
        "start_time": "2022-03-29T22:10:45.429Z"
      },
      {
        "duration": 17,
        "start_time": "2022-03-29T22:10:45.565Z"
      },
      {
        "duration": 6,
        "start_time": "2022-03-29T22:10:45.583Z"
      },
      {
        "duration": 361,
        "start_time": "2022-03-29T22:10:45.593Z"
      },
      {
        "duration": 309,
        "start_time": "2022-03-29T22:10:45.956Z"
      },
      {
        "duration": 18,
        "start_time": "2022-03-29T22:10:46.267Z"
      },
      {
        "duration": 11,
        "start_time": "2022-03-29T22:10:46.287Z"
      },
      {
        "duration": 360,
        "start_time": "2022-03-29T22:10:46.299Z"
      },
      {
        "duration": 4,
        "start_time": "2022-03-29T22:10:46.661Z"
      },
      {
        "duration": 10,
        "start_time": "2022-03-29T22:10:46.667Z"
      },
      {
        "duration": 278,
        "start_time": "2022-03-29T22:10:46.679Z"
      },
      {
        "duration": 15,
        "start_time": "2022-03-29T22:10:46.959Z"
      },
      {
        "duration": 334,
        "start_time": "2022-03-29T22:10:46.975Z"
      },
      {
        "duration": 11,
        "start_time": "2022-03-29T22:10:47.310Z"
      },
      {
        "duration": 204,
        "start_time": "2022-03-29T22:10:47.332Z"
      },
      {
        "duration": 5,
        "start_time": "2022-03-29T22:10:47.538Z"
      },
      {
        "duration": 208,
        "start_time": "2022-03-29T22:10:47.544Z"
      },
      {
        "duration": 5,
        "start_time": "2022-03-29T22:10:47.753Z"
      },
      {
        "duration": 15,
        "start_time": "2022-03-29T22:10:47.760Z"
      },
      {
        "duration": 60,
        "start_time": "2022-03-29T22:10:47.777Z"
      },
      {
        "duration": 10,
        "start_time": "2022-03-29T22:10:47.839Z"
      },
      {
        "duration": 55,
        "start_time": "2022-03-29T22:10:47.851Z"
      },
      {
        "duration": 36,
        "start_time": "2022-03-29T22:10:47.908Z"
      },
      {
        "duration": 52,
        "start_time": "2022-03-29T22:10:47.946Z"
      },
      {
        "duration": 39,
        "start_time": "2022-03-29T22:10:47.999Z"
      },
      {
        "duration": 56,
        "start_time": "2022-03-29T22:10:48.040Z"
      },
      {
        "duration": 47,
        "start_time": "2022-03-29T22:10:48.098Z"
      },
      {
        "duration": 3,
        "start_time": "2022-03-29T22:10:48.147Z"
      },
      {
        "duration": 161,
        "start_time": "2022-03-29T22:10:48.152Z"
      },
      {
        "duration": 4,
        "start_time": "2022-03-29T22:10:48.314Z"
      },
      {
        "duration": 115,
        "start_time": "2022-03-29T22:10:48.319Z"
      },
      {
        "duration": 10,
        "start_time": "2022-03-29T22:11:42.035Z"
      },
      {
        "duration": 4,
        "start_time": "2022-03-29T22:11:45.869Z"
      },
      {
        "duration": 5,
        "start_time": "2022-03-29T22:12:04.028Z"
      },
      {
        "duration": 11,
        "start_time": "2022-03-29T22:12:36.517Z"
      },
      {
        "duration": 11,
        "start_time": "2022-03-29T22:13:22.285Z"
      },
      {
        "duration": 4,
        "start_time": "2022-03-29T22:13:31.663Z"
      },
      {
        "duration": 5,
        "start_time": "2022-03-29T22:13:55.031Z"
      },
      {
        "duration": 5,
        "start_time": "2022-03-29T22:14:17.052Z"
      },
      {
        "duration": 6,
        "start_time": "2022-03-29T22:14:24.862Z"
      },
      {
        "duration": 3,
        "start_time": "2022-03-29T22:14:39.227Z"
      },
      {
        "duration": 5,
        "start_time": "2022-03-29T22:14:41.151Z"
      },
      {
        "duration": 4,
        "start_time": "2022-03-29T22:15:02.184Z"
      },
      {
        "duration": 5,
        "start_time": "2022-03-29T22:15:15.035Z"
      },
      {
        "duration": 6,
        "start_time": "2022-03-29T22:15:17.549Z"
      },
      {
        "duration": 4,
        "start_time": "2022-03-29T22:15:46.687Z"
      },
      {
        "duration": 6,
        "start_time": "2022-03-29T22:15:50.581Z"
      },
      {
        "duration": 6,
        "start_time": "2022-03-29T22:16:32.291Z"
      },
      {
        "duration": 6,
        "start_time": "2022-03-29T22:16:48.046Z"
      },
      {
        "duration": 5,
        "start_time": "2022-03-29T22:17:33.939Z"
      },
      {
        "duration": 7,
        "start_time": "2022-03-29T22:17:36.029Z"
      },
      {
        "duration": 10,
        "start_time": "2022-03-29T22:18:14.941Z"
      },
      {
        "duration": 5,
        "start_time": "2022-03-29T22:18:42.304Z"
      },
      {
        "duration": 4,
        "start_time": "2022-03-29T22:25:09.177Z"
      },
      {
        "duration": 10,
        "start_time": "2022-03-29T22:25:11.008Z"
      },
      {
        "duration": 9,
        "start_time": "2022-03-29T22:28:58.904Z"
      },
      {
        "duration": 22,
        "start_time": "2022-03-29T22:30:24.574Z"
      },
      {
        "duration": 22,
        "start_time": "2022-03-29T22:30:40.967Z"
      },
      {
        "duration": 22,
        "start_time": "2022-03-29T22:31:29.307Z"
      },
      {
        "duration": 5,
        "start_time": "2022-03-29T22:31:52.775Z"
      },
      {
        "duration": 23,
        "start_time": "2022-03-29T22:32:04.099Z"
      },
      {
        "duration": 22,
        "start_time": "2022-03-29T22:32:10.211Z"
      },
      {
        "duration": 23,
        "start_time": "2022-03-29T22:32:16.261Z"
      },
      {
        "duration": 21,
        "start_time": "2022-03-29T22:32:40.034Z"
      },
      {
        "duration": 4,
        "start_time": "2022-03-29T22:36:14.550Z"
      },
      {
        "duration": 4,
        "start_time": "2022-03-29T22:36:29.462Z"
      },
      {
        "duration": 11,
        "start_time": "2022-03-29T22:40:24.244Z"
      },
      {
        "duration": 10,
        "start_time": "2022-03-29T22:40:36.620Z"
      },
      {
        "duration": 18,
        "start_time": "2022-03-29T22:51:51.592Z"
      },
      {
        "duration": 126,
        "start_time": "2022-03-29T22:53:35.073Z"
      },
      {
        "duration": 139,
        "start_time": "2022-03-29T22:53:43.286Z"
      },
      {
        "duration": 6,
        "start_time": "2022-03-29T22:55:12.492Z"
      },
      {
        "duration": 9,
        "start_time": "2022-03-29T22:57:57.518Z"
      },
      {
        "duration": 3,
        "start_time": "2022-03-29T22:59:08.584Z"
      },
      {
        "duration": 9,
        "start_time": "2022-03-29T22:59:10.255Z"
      },
      {
        "duration": 10,
        "start_time": "2022-03-29T22:59:30.205Z"
      },
      {
        "duration": 23,
        "start_time": "2022-03-29T22:59:34.022Z"
      },
      {
        "duration": 9,
        "start_time": "2022-03-29T23:00:00.332Z"
      },
      {
        "duration": 11,
        "start_time": "2022-03-29T23:03:03.600Z"
      },
      {
        "duration": 11,
        "start_time": "2022-03-29T23:16:10.766Z"
      },
      {
        "duration": 1930,
        "start_time": "2022-03-29T23:27:47.607Z"
      },
      {
        "duration": 1895,
        "start_time": "2022-03-29T23:28:25.465Z"
      },
      {
        "duration": 2062,
        "start_time": "2022-03-29T23:28:37.620Z"
      },
      {
        "duration": 3,
        "start_time": "2022-03-29T23:29:58.222Z"
      },
      {
        "duration": 9,
        "start_time": "2022-03-29T23:30:09.638Z"
      },
      {
        "duration": 4,
        "start_time": "2022-03-29T23:30:34.237Z"
      },
      {
        "duration": 129,
        "start_time": "2022-03-29T23:30:37.642Z"
      },
      {
        "duration": 3,
        "start_time": "2022-03-29T23:30:42.179Z"
      },
      {
        "duration": 9,
        "start_time": "2022-03-29T23:30:44.175Z"
      },
      {
        "duration": 21,
        "start_time": "2022-03-29T23:30:46.625Z"
      },
      {
        "duration": 9,
        "start_time": "2022-03-29T23:30:56.245Z"
      },
      {
        "duration": 9,
        "start_time": "2022-03-29T23:31:34.008Z"
      },
      {
        "duration": 9,
        "start_time": "2022-03-29T23:31:45.695Z"
      },
      {
        "duration": 9,
        "start_time": "2022-03-29T23:33:21.422Z"
      },
      {
        "duration": 10,
        "start_time": "2022-03-29T23:44:47.824Z"
      },
      {
        "duration": 9,
        "start_time": "2022-03-29T23:45:02.438Z"
      },
      {
        "duration": 11,
        "start_time": "2022-03-29T23:45:20.414Z"
      },
      {
        "duration": 9,
        "start_time": "2022-03-29T23:46:00.613Z"
      },
      {
        "duration": 9,
        "start_time": "2022-03-29T23:46:53.880Z"
      },
      {
        "duration": 10,
        "start_time": "2022-03-29T23:52:01.405Z"
      },
      {
        "duration": 4,
        "start_time": "2022-03-29T23:55:41.599Z"
      },
      {
        "duration": 1916,
        "start_time": "2022-03-29T23:56:05.597Z"
      },
      {
        "duration": 7,
        "start_time": "2022-03-29T23:56:24.118Z"
      },
      {
        "duration": 4,
        "start_time": "2022-03-29T23:59:10.616Z"
      },
      {
        "duration": 6,
        "start_time": "2022-03-29T23:59:12.714Z"
      },
      {
        "duration": 9,
        "start_time": "2022-03-30T00:02:00.536Z"
      },
      {
        "duration": 22,
        "start_time": "2022-03-30T00:02:53.425Z"
      },
      {
        "duration": 28,
        "start_time": "2022-03-30T00:03:30.426Z"
      },
      {
        "duration": 7,
        "start_time": "2022-03-30T00:03:59.742Z"
      },
      {
        "duration": 22,
        "start_time": "2022-03-30T00:04:02.108Z"
      },
      {
        "duration": 44,
        "start_time": "2022-03-30T00:04:26.216Z"
      },
      {
        "duration": 23,
        "start_time": "2022-03-30T00:04:30.282Z"
      },
      {
        "duration": 5,
        "start_time": "2022-03-30T00:05:07.768Z"
      },
      {
        "duration": 6,
        "start_time": "2022-03-30T00:05:09.746Z"
      },
      {
        "duration": 23,
        "start_time": "2022-03-30T00:05:13.476Z"
      },
      {
        "duration": 6,
        "start_time": "2022-03-30T00:05:42.408Z"
      },
      {
        "duration": 7,
        "start_time": "2022-03-30T00:06:13.466Z"
      },
      {
        "duration": 6,
        "start_time": "2022-03-30T00:06:31.366Z"
      },
      {
        "duration": 6,
        "start_time": "2022-03-30T00:11:17.382Z"
      },
      {
        "duration": 14,
        "start_time": "2022-03-30T00:43:24.915Z"
      },
      {
        "duration": 2031,
        "start_time": "2022-03-30T00:43:30.562Z"
      },
      {
        "duration": 4,
        "start_time": "2022-03-30T00:45:42.308Z"
      },
      {
        "duration": 14,
        "start_time": "2022-03-30T00:48:24.286Z"
      },
      {
        "duration": 14,
        "start_time": "2022-03-30T01:11:03.512Z"
      },
      {
        "duration": 1272,
        "start_time": "2022-03-30T01:20:06.534Z"
      },
      {
        "duration": 36,
        "start_time": "2022-03-30T01:20:07.808Z"
      },
      {
        "duration": 12,
        "start_time": "2022-03-30T01:20:07.845Z"
      },
      {
        "duration": 8,
        "start_time": "2022-03-30T01:20:07.859Z"
      },
      {
        "duration": 19,
        "start_time": "2022-03-30T01:20:07.869Z"
      },
      {
        "duration": 12,
        "start_time": "2022-03-30T01:20:07.889Z"
      },
      {
        "duration": 15,
        "start_time": "2022-03-30T01:20:07.903Z"
      },
      {
        "duration": 14,
        "start_time": "2022-03-30T01:20:07.920Z"
      },
      {
        "duration": 21,
        "start_time": "2022-03-30T01:20:07.936Z"
      },
      {
        "duration": 16,
        "start_time": "2022-03-30T01:20:07.959Z"
      },
      {
        "duration": 14,
        "start_time": "2022-03-30T01:20:07.977Z"
      },
      {
        "duration": 14,
        "start_time": "2022-03-30T01:20:07.993Z"
      },
      {
        "duration": 12,
        "start_time": "2022-03-30T01:20:08.008Z"
      },
      {
        "duration": 3,
        "start_time": "2022-03-30T01:20:08.032Z"
      },
      {
        "duration": 9,
        "start_time": "2022-03-30T01:20:08.037Z"
      },
      {
        "duration": 18,
        "start_time": "2022-03-30T01:20:08.047Z"
      },
      {
        "duration": 9,
        "start_time": "2022-03-30T01:20:08.066Z"
      },
      {
        "duration": 16,
        "start_time": "2022-03-30T01:20:08.077Z"
      },
      {
        "duration": 12,
        "start_time": "2022-03-30T01:20:08.095Z"
      },
      {
        "duration": 30,
        "start_time": "2022-03-30T01:20:08.109Z"
      },
      {
        "duration": 6,
        "start_time": "2022-03-30T01:20:08.141Z"
      },
      {
        "duration": 13,
        "start_time": "2022-03-30T01:20:08.149Z"
      },
      {
        "duration": 16,
        "start_time": "2022-03-30T01:20:08.164Z"
      },
      {
        "duration": 193,
        "start_time": "2022-03-30T01:20:08.182Z"
      },
      {
        "duration": 141,
        "start_time": "2022-03-30T01:20:08.377Z"
      },
      {
        "duration": 19,
        "start_time": "2022-03-30T01:20:08.532Z"
      },
      {
        "duration": 6,
        "start_time": "2022-03-30T01:20:08.553Z"
      },
      {
        "duration": 375,
        "start_time": "2022-03-30T01:20:08.561Z"
      },
      {
        "duration": 311,
        "start_time": "2022-03-30T01:20:08.938Z"
      },
      {
        "duration": 19,
        "start_time": "2022-03-30T01:20:09.252Z"
      },
      {
        "duration": 12,
        "start_time": "2022-03-30T01:20:09.273Z"
      },
      {
        "duration": 374,
        "start_time": "2022-03-30T01:20:09.287Z"
      },
      {
        "duration": 5,
        "start_time": "2022-03-30T01:20:09.663Z"
      },
      {
        "duration": 8,
        "start_time": "2022-03-30T01:20:09.670Z"
      },
      {
        "duration": 326,
        "start_time": "2022-03-30T01:20:09.680Z"
      },
      {
        "duration": 28,
        "start_time": "2022-03-30T01:20:10.009Z"
      },
      {
        "duration": 382,
        "start_time": "2022-03-30T01:20:10.039Z"
      },
      {
        "duration": 13,
        "start_time": "2022-03-30T01:20:10.423Z"
      },
      {
        "duration": 221,
        "start_time": "2022-03-30T01:20:10.438Z"
      },
      {
        "duration": 6,
        "start_time": "2022-03-30T01:20:10.661Z"
      },
      {
        "duration": 208,
        "start_time": "2022-03-30T01:20:10.672Z"
      },
      {
        "duration": 5,
        "start_time": "2022-03-30T01:20:10.882Z"
      },
      {
        "duration": 11,
        "start_time": "2022-03-30T01:20:10.889Z"
      },
      {
        "duration": 71,
        "start_time": "2022-03-30T01:20:10.902Z"
      },
      {
        "duration": 11,
        "start_time": "2022-03-30T01:20:10.975Z"
      },
      {
        "duration": 60,
        "start_time": "2022-03-30T01:20:10.988Z"
      },
      {
        "duration": 22,
        "start_time": "2022-03-30T01:20:11.050Z"
      },
      {
        "duration": 60,
        "start_time": "2022-03-30T01:20:11.074Z"
      },
      {
        "duration": 18,
        "start_time": "2022-03-30T01:20:11.136Z"
      },
      {
        "duration": 53,
        "start_time": "2022-03-30T01:20:11.155Z"
      },
      {
        "duration": 49,
        "start_time": "2022-03-30T01:20:11.210Z"
      },
      {
        "duration": 4,
        "start_time": "2022-03-30T01:20:11.260Z"
      },
      {
        "duration": 6,
        "start_time": "2022-03-30T01:20:11.266Z"
      },
      {
        "duration": 164,
        "start_time": "2022-03-30T01:20:11.273Z"
      },
      {
        "duration": 3,
        "start_time": "2022-03-30T01:20:11.439Z"
      },
      {
        "duration": 11,
        "start_time": "2022-03-30T01:20:11.444Z"
      },
      {
        "duration": 22,
        "start_time": "2022-03-30T01:20:11.457Z"
      },
      {
        "duration": 10,
        "start_time": "2022-03-30T01:20:11.480Z"
      },
      {
        "duration": 10,
        "start_time": "2022-03-30T01:20:11.492Z"
      },
      {
        "duration": 6,
        "start_time": "2022-03-30T01:20:11.533Z"
      },
      {
        "duration": 8,
        "start_time": "2022-03-30T01:20:11.541Z"
      },
      {
        "duration": 13,
        "start_time": "2022-03-30T01:20:11.550Z"
      },
      {
        "duration": 25,
        "start_time": "2022-03-30T01:20:11.564Z"
      },
      {
        "duration": 14,
        "start_time": "2022-03-30T01:20:11.590Z"
      },
      {
        "duration": 6,
        "start_time": "2022-03-30T01:22:25.580Z"
      },
      {
        "duration": 1161,
        "start_time": "2022-03-30T01:22:35.517Z"
      },
      {
        "duration": 36,
        "start_time": "2022-03-30T01:22:36.680Z"
      },
      {
        "duration": 12,
        "start_time": "2022-03-30T01:22:36.717Z"
      },
      {
        "duration": 9,
        "start_time": "2022-03-30T01:22:36.732Z"
      },
      {
        "duration": 13,
        "start_time": "2022-03-30T01:22:36.744Z"
      },
      {
        "duration": 10,
        "start_time": "2022-03-30T01:22:36.759Z"
      },
      {
        "duration": 11,
        "start_time": "2022-03-30T01:22:36.771Z"
      },
      {
        "duration": 10,
        "start_time": "2022-03-30T01:22:36.784Z"
      },
      {
        "duration": 39,
        "start_time": "2022-03-30T01:22:36.796Z"
      },
      {
        "duration": 11,
        "start_time": "2022-03-30T01:22:36.837Z"
      },
      {
        "duration": 15,
        "start_time": "2022-03-30T01:22:36.850Z"
      },
      {
        "duration": 7,
        "start_time": "2022-03-30T01:22:36.866Z"
      },
      {
        "duration": 9,
        "start_time": "2022-03-30T01:22:36.874Z"
      },
      {
        "duration": 3,
        "start_time": "2022-03-30T01:22:36.886Z"
      },
      {
        "duration": 11,
        "start_time": "2022-03-30T01:22:36.890Z"
      },
      {
        "duration": 34,
        "start_time": "2022-03-30T01:22:36.902Z"
      },
      {
        "duration": 9,
        "start_time": "2022-03-30T01:22:36.938Z"
      },
      {
        "duration": 12,
        "start_time": "2022-03-30T01:22:36.949Z"
      },
      {
        "duration": 11,
        "start_time": "2022-03-30T01:22:36.962Z"
      },
      {
        "duration": 14,
        "start_time": "2022-03-30T01:22:36.975Z"
      },
      {
        "duration": 5,
        "start_time": "2022-03-30T01:22:36.991Z"
      },
      {
        "duration": 11,
        "start_time": "2022-03-30T01:22:36.997Z"
      },
      {
        "duration": 14,
        "start_time": "2022-03-30T01:22:37.033Z"
      },
      {
        "duration": 179,
        "start_time": "2022-03-30T01:22:37.048Z"
      },
      {
        "duration": 123,
        "start_time": "2022-03-30T01:22:37.228Z"
      },
      {
        "duration": 15,
        "start_time": "2022-03-30T01:22:37.353Z"
      },
      {
        "duration": 7,
        "start_time": "2022-03-30T01:22:37.370Z"
      },
      {
        "duration": 360,
        "start_time": "2022-03-30T01:22:37.379Z"
      },
      {
        "duration": 308,
        "start_time": "2022-03-30T01:22:37.741Z"
      },
      {
        "duration": 17,
        "start_time": "2022-03-30T01:22:38.051Z"
      },
      {
        "duration": 12,
        "start_time": "2022-03-30T01:22:38.070Z"
      },
      {
        "duration": 355,
        "start_time": "2022-03-30T01:22:38.083Z"
      },
      {
        "duration": 4,
        "start_time": "2022-03-30T01:22:38.439Z"
      },
      {
        "duration": 12,
        "start_time": "2022-03-30T01:22:38.445Z"
      },
      {
        "duration": 280,
        "start_time": "2022-03-30T01:22:38.458Z"
      },
      {
        "duration": 15,
        "start_time": "2022-03-30T01:22:38.739Z"
      },
      {
        "duration": 349,
        "start_time": "2022-03-30T01:22:38.756Z"
      },
      {
        "duration": 13,
        "start_time": "2022-03-30T01:22:39.107Z"
      },
      {
        "duration": 216,
        "start_time": "2022-03-30T01:22:39.134Z"
      },
      {
        "duration": 6,
        "start_time": "2022-03-30T01:22:39.351Z"
      },
      {
        "duration": 209,
        "start_time": "2022-03-30T01:22:39.361Z"
      },
      {
        "duration": 5,
        "start_time": "2022-03-30T01:22:39.572Z"
      },
      {
        "duration": 14,
        "start_time": "2022-03-30T01:22:39.579Z"
      },
      {
        "duration": 64,
        "start_time": "2022-03-30T01:22:39.595Z"
      },
      {
        "duration": 11,
        "start_time": "2022-03-30T01:22:39.661Z"
      },
      {
        "duration": 66,
        "start_time": "2022-03-30T01:22:39.674Z"
      },
      {
        "duration": 21,
        "start_time": "2022-03-30T01:22:39.742Z"
      },
      {
        "duration": 70,
        "start_time": "2022-03-30T01:22:39.764Z"
      },
      {
        "duration": 19,
        "start_time": "2022-03-30T01:22:39.835Z"
      },
      {
        "duration": 54,
        "start_time": "2022-03-30T01:22:39.856Z"
      },
      {
        "duration": 50,
        "start_time": "2022-03-30T01:22:39.911Z"
      },
      {
        "duration": 4,
        "start_time": "2022-03-30T01:22:39.963Z"
      },
      {
        "duration": 4,
        "start_time": "2022-03-30T01:22:39.969Z"
      },
      {
        "duration": 138,
        "start_time": "2022-03-30T01:22:39.974Z"
      },
      {
        "duration": 3,
        "start_time": "2022-03-30T01:22:40.114Z"
      },
      {
        "duration": 20,
        "start_time": "2022-03-30T01:22:40.118Z"
      },
      {
        "duration": 28,
        "start_time": "2022-03-30T01:22:40.140Z"
      },
      {
        "duration": 10,
        "start_time": "2022-03-30T01:22:40.170Z"
      },
      {
        "duration": 16,
        "start_time": "2022-03-30T01:22:40.181Z"
      },
      {
        "duration": 8,
        "start_time": "2022-03-30T01:22:40.199Z"
      },
      {
        "duration": 24,
        "start_time": "2022-03-30T01:22:40.209Z"
      },
      {
        "duration": 17,
        "start_time": "2022-03-30T01:22:40.235Z"
      },
      {
        "duration": 33,
        "start_time": "2022-03-30T01:22:40.253Z"
      },
      {
        "duration": 13,
        "start_time": "2022-03-30T01:22:40.287Z"
      },
      {
        "duration": 6,
        "start_time": "2022-03-30T01:37:18.541Z"
      },
      {
        "duration": 5,
        "start_time": "2022-03-30T01:37:21.629Z"
      },
      {
        "duration": 5,
        "start_time": "2022-03-30T01:37:23.460Z"
      },
      {
        "duration": 5,
        "start_time": "2022-03-30T01:37:24.265Z"
      },
      {
        "duration": 23,
        "start_time": "2022-03-30T01:37:24.800Z"
      },
      {
        "duration": 14,
        "start_time": "2022-03-30T01:37:26.714Z"
      },
      {
        "duration": 5,
        "start_time": "2022-03-30T01:46:08.599Z"
      },
      {
        "duration": 5,
        "start_time": "2022-03-30T01:46:16.961Z"
      },
      {
        "duration": 5,
        "start_time": "2022-03-30T01:47:17.793Z"
      },
      {
        "duration": 5,
        "start_time": "2022-03-30T01:48:05.217Z"
      },
      {
        "duration": 6,
        "start_time": "2022-03-30T01:48:35.378Z"
      },
      {
        "duration": 6,
        "start_time": "2022-03-30T01:48:39.018Z"
      },
      {
        "duration": 5,
        "start_time": "2022-03-30T01:48:41.967Z"
      },
      {
        "duration": 5,
        "start_time": "2022-03-30T01:48:42.289Z"
      },
      {
        "duration": 22,
        "start_time": "2022-03-30T01:48:43.084Z"
      },
      {
        "duration": 13,
        "start_time": "2022-03-30T01:48:45.015Z"
      },
      {
        "duration": 2379,
        "start_time": "2022-03-30T09:27:02.265Z"
      },
      {
        "duration": 71,
        "start_time": "2022-03-30T09:27:04.647Z"
      },
      {
        "duration": 17,
        "start_time": "2022-03-30T09:27:04.720Z"
      },
      {
        "duration": 16,
        "start_time": "2022-03-30T09:27:04.740Z"
      },
      {
        "duration": 16,
        "start_time": "2022-03-30T09:27:04.763Z"
      },
      {
        "duration": 26,
        "start_time": "2022-03-30T09:27:04.782Z"
      },
      {
        "duration": 14,
        "start_time": "2022-03-30T09:27:04.811Z"
      },
      {
        "duration": 6,
        "start_time": "2022-03-30T09:27:04.843Z"
      },
      {
        "duration": 40,
        "start_time": "2022-03-30T09:27:04.851Z"
      },
      {
        "duration": 19,
        "start_time": "2022-03-30T09:27:04.894Z"
      },
      {
        "duration": 43,
        "start_time": "2022-03-30T09:27:04.915Z"
      },
      {
        "duration": 20,
        "start_time": "2022-03-30T09:27:04.961Z"
      },
      {
        "duration": 15,
        "start_time": "2022-03-30T09:27:04.983Z"
      },
      {
        "duration": 4,
        "start_time": "2022-03-30T09:27:05.005Z"
      },
      {
        "duration": 13,
        "start_time": "2022-03-30T09:27:05.011Z"
      },
      {
        "duration": 41,
        "start_time": "2022-03-30T09:27:05.026Z"
      },
      {
        "duration": 10,
        "start_time": "2022-03-30T09:27:05.069Z"
      },
      {
        "duration": 19,
        "start_time": "2022-03-30T09:27:05.081Z"
      },
      {
        "duration": 41,
        "start_time": "2022-03-30T09:27:05.103Z"
      },
      {
        "duration": 22,
        "start_time": "2022-03-30T09:27:05.147Z"
      },
      {
        "duration": 8,
        "start_time": "2022-03-30T09:27:05.172Z"
      },
      {
        "duration": 22,
        "start_time": "2022-03-30T09:27:05.183Z"
      },
      {
        "duration": 56,
        "start_time": "2022-03-30T09:27:05.207Z"
      },
      {
        "duration": 330,
        "start_time": "2022-03-30T09:27:05.266Z"
      },
      {
        "duration": 243,
        "start_time": "2022-03-30T09:27:05.599Z"
      },
      {
        "duration": 25,
        "start_time": "2022-03-30T09:27:05.845Z"
      },
      {
        "duration": 9,
        "start_time": "2022-03-30T09:27:05.872Z"
      },
      {
        "duration": 700,
        "start_time": "2022-03-30T09:27:05.883Z"
      },
      {
        "duration": 587,
        "start_time": "2022-03-30T09:27:06.585Z"
      },
      {
        "duration": 27,
        "start_time": "2022-03-30T09:27:07.175Z"
      },
      {
        "duration": 34,
        "start_time": "2022-03-30T09:27:07.204Z"
      },
      {
        "duration": 786,
        "start_time": "2022-03-30T09:27:07.240Z"
      },
      {
        "duration": 16,
        "start_time": "2022-03-30T09:27:08.029Z"
      },
      {
        "duration": 18,
        "start_time": "2022-03-30T09:27:08.048Z"
      },
      {
        "duration": 527,
        "start_time": "2022-03-30T09:27:08.068Z"
      },
      {
        "duration": 20,
        "start_time": "2022-03-30T09:27:08.597Z"
      },
      {
        "duration": 612,
        "start_time": "2022-03-30T09:27:08.619Z"
      },
      {
        "duration": 24,
        "start_time": "2022-03-30T09:27:09.233Z"
      },
      {
        "duration": 532,
        "start_time": "2022-03-30T09:27:09.260Z"
      },
      {
        "duration": 5,
        "start_time": "2022-03-30T09:27:09.795Z"
      },
      {
        "duration": 389,
        "start_time": "2022-03-30T09:27:09.806Z"
      },
      {
        "duration": 8,
        "start_time": "2022-03-30T09:27:10.198Z"
      },
      {
        "duration": 41,
        "start_time": "2022-03-30T09:27:10.208Z"
      },
      {
        "duration": 104,
        "start_time": "2022-03-30T09:27:10.252Z"
      },
      {
        "duration": 25,
        "start_time": "2022-03-30T09:27:10.359Z"
      },
      {
        "duration": 100,
        "start_time": "2022-03-30T09:27:10.386Z"
      },
      {
        "duration": 29,
        "start_time": "2022-03-30T09:27:10.488Z"
      },
      {
        "duration": 122,
        "start_time": "2022-03-30T09:27:10.519Z"
      },
      {
        "duration": 58,
        "start_time": "2022-03-30T09:27:10.647Z"
      },
      {
        "duration": 89,
        "start_time": "2022-03-30T09:27:10.707Z"
      },
      {
        "duration": 65,
        "start_time": "2022-03-30T09:27:10.798Z"
      },
      {
        "duration": 6,
        "start_time": "2022-03-30T09:27:10.865Z"
      },
      {
        "duration": 10,
        "start_time": "2022-03-30T09:27:10.873Z"
      },
      {
        "duration": 279,
        "start_time": "2022-03-30T09:27:10.885Z"
      },
      {
        "duration": 5,
        "start_time": "2022-03-30T09:27:11.166Z"
      },
      {
        "duration": 17,
        "start_time": "2022-03-30T09:27:11.173Z"
      },
      {
        "duration": 59,
        "start_time": "2022-03-30T09:27:11.192Z"
      },
      {
        "duration": 15,
        "start_time": "2022-03-30T09:27:11.253Z"
      },
      {
        "duration": 17,
        "start_time": "2022-03-30T09:27:11.270Z"
      },
      {
        "duration": 19,
        "start_time": "2022-03-30T09:27:11.289Z"
      },
      {
        "duration": 14,
        "start_time": "2022-03-30T09:27:11.310Z"
      },
      {
        "duration": 25,
        "start_time": "2022-03-30T09:27:11.326Z"
      },
      {
        "duration": 55,
        "start_time": "2022-03-30T09:27:11.353Z"
      },
      {
        "duration": 20,
        "start_time": "2022-03-30T09:27:11.411Z"
      },
      {
        "duration": 43,
        "start_time": "2022-03-30T12:45:11.087Z"
      },
      {
        "duration": 1300,
        "start_time": "2022-03-30T12:45:23.830Z"
      },
      {
        "duration": 62,
        "start_time": "2022-03-30T12:45:25.132Z"
      },
      {
        "duration": 12,
        "start_time": "2022-03-30T12:45:25.195Z"
      },
      {
        "duration": 8,
        "start_time": "2022-03-30T12:45:25.209Z"
      },
      {
        "duration": 10,
        "start_time": "2022-03-30T12:45:25.219Z"
      },
      {
        "duration": 8,
        "start_time": "2022-03-30T12:45:25.231Z"
      },
      {
        "duration": 8,
        "start_time": "2022-03-30T12:45:25.241Z"
      },
      {
        "duration": 5,
        "start_time": "2022-03-30T12:45:25.251Z"
      },
      {
        "duration": 30,
        "start_time": "2022-03-30T12:45:25.257Z"
      },
      {
        "duration": 11,
        "start_time": "2022-03-30T12:45:25.289Z"
      },
      {
        "duration": 16,
        "start_time": "2022-03-30T12:45:25.301Z"
      },
      {
        "duration": 7,
        "start_time": "2022-03-30T12:45:25.318Z"
      },
      {
        "duration": 7,
        "start_time": "2022-03-30T12:45:25.327Z"
      },
      {
        "duration": 2,
        "start_time": "2022-03-30T12:45:25.337Z"
      },
      {
        "duration": 5,
        "start_time": "2022-03-30T12:45:25.341Z"
      },
      {
        "duration": 8,
        "start_time": "2022-03-30T12:45:25.348Z"
      },
      {
        "duration": 27,
        "start_time": "2022-03-30T12:45:25.358Z"
      },
      {
        "duration": 10,
        "start_time": "2022-03-30T12:45:25.386Z"
      },
      {
        "duration": 8,
        "start_time": "2022-03-30T12:45:25.398Z"
      },
      {
        "duration": 10,
        "start_time": "2022-03-30T12:45:25.407Z"
      },
      {
        "duration": 4,
        "start_time": "2022-03-30T12:45:25.418Z"
      },
      {
        "duration": 9,
        "start_time": "2022-03-30T12:45:25.423Z"
      },
      {
        "duration": 10,
        "start_time": "2022-03-30T12:45:25.434Z"
      },
      {
        "duration": 190,
        "start_time": "2022-03-30T12:45:25.445Z"
      },
      {
        "duration": 126,
        "start_time": "2022-03-30T12:45:25.636Z"
      },
      {
        "duration": 23,
        "start_time": "2022-03-30T12:45:25.764Z"
      },
      {
        "duration": 5,
        "start_time": "2022-03-30T12:45:25.788Z"
      },
      {
        "duration": 319,
        "start_time": "2022-03-30T12:45:25.794Z"
      },
      {
        "duration": 289,
        "start_time": "2022-03-30T12:45:26.115Z"
      },
      {
        "duration": 14,
        "start_time": "2022-03-30T12:45:26.408Z"
      },
      {
        "duration": 10,
        "start_time": "2022-03-30T12:45:26.423Z"
      },
      {
        "duration": 412,
        "start_time": "2022-03-30T12:45:26.435Z"
      },
      {
        "duration": 3,
        "start_time": "2022-03-30T12:45:26.849Z"
      },
      {
        "duration": 8,
        "start_time": "2022-03-30T12:45:26.854Z"
      },
      {
        "duration": 253,
        "start_time": "2022-03-30T12:45:26.863Z"
      },
      {
        "duration": 12,
        "start_time": "2022-03-30T12:45:27.117Z"
      },
      {
        "duration": 325,
        "start_time": "2022-03-30T12:45:27.130Z"
      },
      {
        "duration": 10,
        "start_time": "2022-03-30T12:45:27.457Z"
      },
      {
        "duration": 190,
        "start_time": "2022-03-30T12:45:27.468Z"
      },
      {
        "duration": 5,
        "start_time": "2022-03-30T12:45:27.659Z"
      },
      {
        "duration": 180,
        "start_time": "2022-03-30T12:45:27.667Z"
      },
      {
        "duration": 4,
        "start_time": "2022-03-30T12:45:27.849Z"
      },
      {
        "duration": 26,
        "start_time": "2022-03-30T12:45:27.855Z"
      },
      {
        "duration": 44,
        "start_time": "2022-03-30T12:45:27.883Z"
      },
      {
        "duration": 9,
        "start_time": "2022-03-30T12:45:27.929Z"
      },
      {
        "duration": 55,
        "start_time": "2022-03-30T12:45:27.939Z"
      },
      {
        "duration": 17,
        "start_time": "2022-03-30T12:45:27.996Z"
      },
      {
        "duration": 47,
        "start_time": "2022-03-30T12:45:28.014Z"
      },
      {
        "duration": 16,
        "start_time": "2022-03-30T12:45:28.081Z"
      },
      {
        "duration": 47,
        "start_time": "2022-03-30T12:45:28.099Z"
      },
      {
        "duration": 41,
        "start_time": "2022-03-30T12:45:28.148Z"
      },
      {
        "duration": 3,
        "start_time": "2022-03-30T12:45:28.191Z"
      },
      {
        "duration": 8,
        "start_time": "2022-03-30T12:45:28.195Z"
      },
      {
        "duration": 137,
        "start_time": "2022-03-30T12:45:28.204Z"
      },
      {
        "duration": 3,
        "start_time": "2022-03-30T12:45:28.342Z"
      },
      {
        "duration": 13,
        "start_time": "2022-03-30T12:45:28.347Z"
      },
      {
        "duration": 31,
        "start_time": "2022-03-30T12:45:28.361Z"
      },
      {
        "duration": 9,
        "start_time": "2022-03-30T12:45:28.393Z"
      },
      {
        "duration": 7,
        "start_time": "2022-03-30T12:45:28.403Z"
      },
      {
        "duration": 8,
        "start_time": "2022-03-30T12:45:28.412Z"
      },
      {
        "duration": 6,
        "start_time": "2022-03-30T12:45:28.421Z"
      },
      {
        "duration": 5,
        "start_time": "2022-03-30T12:45:28.429Z"
      },
      {
        "duration": 26,
        "start_time": "2022-03-30T12:45:28.435Z"
      },
      {
        "duration": 27,
        "start_time": "2022-03-30T12:45:28.463Z"
      },
      {
        "duration": 10,
        "start_time": "2022-03-30T12:59:08.791Z"
      },
      {
        "duration": 4,
        "start_time": "2022-03-30T12:59:46.938Z"
      },
      {
        "duration": 7,
        "start_time": "2022-03-30T12:59:59.061Z"
      },
      {
        "duration": 10,
        "start_time": "2022-03-30T13:02:14.147Z"
      },
      {
        "duration": 10,
        "start_time": "2022-03-30T13:06:21.122Z"
      },
      {
        "duration": 4,
        "start_time": "2022-03-30T13:24:55.811Z"
      },
      {
        "duration": 1436,
        "start_time": "2022-03-30T20:08:05.447Z"
      },
      {
        "duration": 47,
        "start_time": "2022-03-30T20:08:06.885Z"
      },
      {
        "duration": 13,
        "start_time": "2022-03-30T20:08:06.934Z"
      },
      {
        "duration": 13,
        "start_time": "2022-03-30T20:08:06.949Z"
      },
      {
        "duration": 9,
        "start_time": "2022-03-30T20:08:06.965Z"
      },
      {
        "duration": 13,
        "start_time": "2022-03-30T20:08:06.976Z"
      },
      {
        "duration": 15,
        "start_time": "2022-03-30T20:08:06.991Z"
      },
      {
        "duration": 15,
        "start_time": "2022-03-30T20:08:07.008Z"
      },
      {
        "duration": 5,
        "start_time": "2022-03-30T20:08:07.025Z"
      },
      {
        "duration": 19,
        "start_time": "2022-03-30T20:08:07.031Z"
      },
      {
        "duration": 14,
        "start_time": "2022-03-30T20:08:07.052Z"
      },
      {
        "duration": 38,
        "start_time": "2022-03-30T20:08:07.069Z"
      },
      {
        "duration": 6,
        "start_time": "2022-03-30T20:08:07.109Z"
      },
      {
        "duration": 7,
        "start_time": "2022-03-30T20:08:07.120Z"
      },
      {
        "duration": 3,
        "start_time": "2022-03-30T20:08:07.129Z"
      },
      {
        "duration": 7,
        "start_time": "2022-03-30T20:08:07.134Z"
      },
      {
        "duration": 12,
        "start_time": "2022-03-30T20:08:07.143Z"
      },
      {
        "duration": 43,
        "start_time": "2022-03-30T20:08:07.158Z"
      },
      {
        "duration": 13,
        "start_time": "2022-03-30T20:08:07.204Z"
      },
      {
        "duration": 10,
        "start_time": "2022-03-30T20:08:07.219Z"
      },
      {
        "duration": 15,
        "start_time": "2022-03-30T20:08:07.231Z"
      },
      {
        "duration": 6,
        "start_time": "2022-03-30T20:08:07.247Z"
      },
      {
        "duration": 47,
        "start_time": "2022-03-30T20:08:07.255Z"
      },
      {
        "duration": 22,
        "start_time": "2022-03-30T20:08:07.305Z"
      },
      {
        "duration": 208,
        "start_time": "2022-03-30T20:08:07.329Z"
      },
      {
        "duration": 162,
        "start_time": "2022-03-30T20:08:07.539Z"
      },
      {
        "duration": 18,
        "start_time": "2022-03-30T20:08:07.703Z"
      },
      {
        "duration": 155,
        "start_time": "2022-03-30T20:08:07.723Z"
      },
      {
        "duration": 371,
        "start_time": "2022-03-30T20:08:07.880Z"
      },
      {
        "duration": 326,
        "start_time": "2022-03-30T20:08:08.253Z"
      },
      {
        "duration": 21,
        "start_time": "2022-03-30T20:08:08.582Z"
      },
      {
        "duration": 20,
        "start_time": "2022-03-30T20:08:08.605Z"
      },
      {
        "duration": 477,
        "start_time": "2022-03-30T20:08:08.628Z"
      },
      {
        "duration": 5,
        "start_time": "2022-03-30T20:08:09.107Z"
      },
      {
        "duration": 8,
        "start_time": "2022-03-30T20:08:09.113Z"
      },
      {
        "duration": 308,
        "start_time": "2022-03-30T20:08:09.123Z"
      },
      {
        "duration": 15,
        "start_time": "2022-03-30T20:08:09.433Z"
      },
      {
        "duration": 365,
        "start_time": "2022-03-30T20:08:09.449Z"
      },
      {
        "duration": 13,
        "start_time": "2022-03-30T20:08:09.816Z"
      },
      {
        "duration": 247,
        "start_time": "2022-03-30T20:08:09.831Z"
      },
      {
        "duration": 6,
        "start_time": "2022-03-30T20:08:10.083Z"
      },
      {
        "duration": 221,
        "start_time": "2022-03-30T20:08:10.102Z"
      },
      {
        "duration": 6,
        "start_time": "2022-03-30T20:08:10.324Z"
      },
      {
        "duration": 17,
        "start_time": "2022-03-30T20:08:10.332Z"
      },
      {
        "duration": 68,
        "start_time": "2022-03-30T20:08:10.351Z"
      },
      {
        "duration": 16,
        "start_time": "2022-03-30T20:08:10.421Z"
      },
      {
        "duration": 73,
        "start_time": "2022-03-30T20:08:10.439Z"
      },
      {
        "duration": 26,
        "start_time": "2022-03-30T20:08:10.514Z"
      },
      {
        "duration": 76,
        "start_time": "2022-03-30T20:08:10.542Z"
      },
      {
        "duration": 24,
        "start_time": "2022-03-30T20:08:10.620Z"
      },
      {
        "duration": 82,
        "start_time": "2022-03-30T20:08:10.646Z"
      },
      {
        "duration": 33,
        "start_time": "2022-03-30T20:08:10.730Z"
      },
      {
        "duration": 4,
        "start_time": "2022-03-30T20:08:10.765Z"
      },
      {
        "duration": 9,
        "start_time": "2022-03-30T20:08:10.771Z"
      },
      {
        "duration": 205,
        "start_time": "2022-03-30T20:08:10.802Z"
      },
      {
        "duration": 4,
        "start_time": "2022-03-30T20:08:11.009Z"
      },
      {
        "duration": 12,
        "start_time": "2022-03-30T20:08:11.014Z"
      },
      {
        "duration": 26,
        "start_time": "2022-03-30T20:08:11.028Z"
      },
      {
        "duration": 12,
        "start_time": "2022-03-30T20:08:11.056Z"
      },
      {
        "duration": 37,
        "start_time": "2022-03-30T20:08:11.070Z"
      },
      {
        "duration": 8,
        "start_time": "2022-03-30T20:08:11.110Z"
      },
      {
        "duration": 5,
        "start_time": "2022-03-30T20:08:11.120Z"
      },
      {
        "duration": 10,
        "start_time": "2022-03-30T20:08:11.127Z"
      },
      {
        "duration": 37,
        "start_time": "2022-03-30T20:08:11.139Z"
      },
      {
        "duration": 36,
        "start_time": "2022-03-30T20:08:11.178Z"
      },
      {
        "duration": 13,
        "start_time": "2022-03-30T20:08:53.013Z"
      },
      {
        "duration": 110,
        "start_time": "2022-03-30T20:08:58.280Z"
      },
      {
        "duration": 22,
        "start_time": "2022-03-30T20:15:22.381Z"
      },
      {
        "duration": 20,
        "start_time": "2022-03-30T20:15:26.826Z"
      },
      {
        "duration": 14,
        "start_time": "2022-03-30T20:16:08.722Z"
      },
      {
        "duration": 19,
        "start_time": "2022-03-30T20:16:29.065Z"
      },
      {
        "duration": 13,
        "start_time": "2022-03-30T20:16:47.468Z"
      },
      {
        "duration": 13,
        "start_time": "2022-03-30T20:16:56.269Z"
      },
      {
        "duration": 1309,
        "start_time": "2022-03-30T20:17:25.875Z"
      },
      {
        "duration": 42,
        "start_time": "2022-03-30T20:17:27.186Z"
      },
      {
        "duration": 13,
        "start_time": "2022-03-30T20:17:27.229Z"
      },
      {
        "duration": 12,
        "start_time": "2022-03-30T20:17:27.244Z"
      },
      {
        "duration": 10,
        "start_time": "2022-03-30T20:17:27.259Z"
      },
      {
        "duration": 14,
        "start_time": "2022-03-30T20:17:27.271Z"
      },
      {
        "duration": 16,
        "start_time": "2022-03-30T20:17:27.287Z"
      },
      {
        "duration": 17,
        "start_time": "2022-03-30T20:17:27.305Z"
      },
      {
        "duration": 5,
        "start_time": "2022-03-30T20:17:27.325Z"
      },
      {
        "duration": 19,
        "start_time": "2022-03-30T20:17:27.332Z"
      },
      {
        "duration": 15,
        "start_time": "2022-03-30T20:17:27.354Z"
      },
      {
        "duration": 33,
        "start_time": "2022-03-30T20:17:27.371Z"
      },
      {
        "duration": 6,
        "start_time": "2022-03-30T20:17:27.405Z"
      },
      {
        "duration": 8,
        "start_time": "2022-03-30T20:17:27.415Z"
      },
      {
        "duration": 9,
        "start_time": "2022-03-30T20:17:27.425Z"
      },
      {
        "duration": 12,
        "start_time": "2022-03-30T20:17:27.436Z"
      },
      {
        "duration": 16,
        "start_time": "2022-03-30T20:17:27.450Z"
      },
      {
        "duration": 9,
        "start_time": "2022-03-30T20:17:27.468Z"
      },
      {
        "duration": 31,
        "start_time": "2022-03-30T20:17:27.480Z"
      },
      {
        "duration": 12,
        "start_time": "2022-03-30T20:17:27.513Z"
      },
      {
        "duration": 19,
        "start_time": "2022-03-30T20:17:27.527Z"
      },
      {
        "duration": 8,
        "start_time": "2022-03-30T20:17:27.548Z"
      },
      {
        "duration": 14,
        "start_time": "2022-03-30T20:17:27.558Z"
      },
      {
        "duration": 39,
        "start_time": "2022-03-30T20:17:27.574Z"
      },
      {
        "duration": 202,
        "start_time": "2022-03-30T20:17:27.615Z"
      },
      {
        "duration": 151,
        "start_time": "2022-03-30T20:17:27.819Z"
      },
      {
        "duration": 18,
        "start_time": "2022-03-30T20:17:27.971Z"
      },
      {
        "duration": 7,
        "start_time": "2022-03-30T20:17:28.001Z"
      },
      {
        "duration": 404,
        "start_time": "2022-03-30T20:17:28.010Z"
      },
      {
        "duration": 362,
        "start_time": "2022-03-30T20:17:28.416Z"
      },
      {
        "duration": 18,
        "start_time": "2022-03-30T20:17:28.780Z"
      },
      {
        "duration": 20,
        "start_time": "2022-03-30T20:17:28.800Z"
      },
      {
        "duration": 392,
        "start_time": "2022-03-30T20:17:28.822Z"
      },
      {
        "duration": 5,
        "start_time": "2022-03-30T20:17:29.217Z"
      },
      {
        "duration": 11,
        "start_time": "2022-03-30T20:17:29.224Z"
      },
      {
        "duration": 303,
        "start_time": "2022-03-30T20:17:29.237Z"
      },
      {
        "duration": 17,
        "start_time": "2022-03-30T20:17:29.542Z"
      },
      {
        "duration": 417,
        "start_time": "2022-03-30T20:17:29.561Z"
      },
      {
        "duration": 28,
        "start_time": "2022-03-30T20:17:29.980Z"
      },
      {
        "duration": 227,
        "start_time": "2022-03-30T20:17:30.010Z"
      },
      {
        "duration": 6,
        "start_time": "2022-03-30T20:17:30.243Z"
      },
      {
        "duration": 239,
        "start_time": "2022-03-30T20:17:30.251Z"
      },
      {
        "duration": 10,
        "start_time": "2022-03-30T20:17:30.492Z"
      },
      {
        "duration": 17,
        "start_time": "2022-03-30T20:17:30.505Z"
      },
      {
        "duration": 63,
        "start_time": "2022-03-30T20:17:30.524Z"
      },
      {
        "duration": 33,
        "start_time": "2022-03-30T20:17:30.589Z"
      },
      {
        "duration": 67,
        "start_time": "2022-03-30T20:17:30.624Z"
      },
      {
        "duration": 25,
        "start_time": "2022-03-30T20:17:30.693Z"
      },
      {
        "duration": 59,
        "start_time": "2022-03-30T20:17:30.720Z"
      },
      {
        "duration": 35,
        "start_time": "2022-03-30T20:17:30.780Z"
      },
      {
        "duration": 57,
        "start_time": "2022-03-30T20:17:30.817Z"
      },
      {
        "duration": 50,
        "start_time": "2022-03-30T20:17:30.876Z"
      },
      {
        "duration": 5,
        "start_time": "2022-03-30T20:17:30.928Z"
      },
      {
        "duration": 9,
        "start_time": "2022-03-30T20:17:30.934Z"
      },
      {
        "duration": 161,
        "start_time": "2022-03-30T20:17:30.945Z"
      },
      {
        "duration": 3,
        "start_time": "2022-03-30T20:17:31.108Z"
      },
      {
        "duration": 38,
        "start_time": "2022-03-30T20:17:31.113Z"
      },
      {
        "duration": 33,
        "start_time": "2022-03-30T20:17:31.153Z"
      },
      {
        "duration": 16,
        "start_time": "2022-03-30T20:17:31.187Z"
      },
      {
        "duration": 17,
        "start_time": "2022-03-30T20:17:31.205Z"
      },
      {
        "duration": 11,
        "start_time": "2022-03-30T20:17:31.223Z"
      },
      {
        "duration": 9,
        "start_time": "2022-03-30T20:17:31.236Z"
      },
      {
        "duration": 7,
        "start_time": "2022-03-30T20:17:31.247Z"
      },
      {
        "duration": 25,
        "start_time": "2022-03-30T20:17:31.256Z"
      },
      {
        "duration": 17,
        "start_time": "2022-03-30T20:17:31.300Z"
      },
      {
        "duration": 14,
        "start_time": "2022-03-30T20:18:20.392Z"
      },
      {
        "duration": 127,
        "start_time": "2022-03-30T20:18:23.010Z"
      },
      {
        "duration": 169,
        "start_time": "2022-03-30T20:18:26.755Z"
      },
      {
        "duration": 14,
        "start_time": "2022-03-30T20:30:54.730Z"
      },
      {
        "duration": 13,
        "start_time": "2022-03-30T20:30:57.723Z"
      },
      {
        "duration": 288,
        "start_time": "2022-03-30T21:10:05.562Z"
      },
      {
        "duration": 63,
        "start_time": "2022-03-30T21:23:39.319Z"
      },
      {
        "duration": 26,
        "start_time": "2022-03-30T21:41:51.204Z"
      },
      {
        "duration": 25,
        "start_time": "2022-03-30T21:42:47.594Z"
      },
      {
        "duration": 25,
        "start_time": "2022-03-30T21:44:56.074Z"
      },
      {
        "duration": 12,
        "start_time": "2022-03-30T21:47:07.397Z"
      },
      {
        "duration": 10,
        "start_time": "2022-03-30T21:50:57.122Z"
      },
      {
        "duration": 11,
        "start_time": "2022-03-30T21:52:05.565Z"
      },
      {
        "duration": 7,
        "start_time": "2022-03-30T21:58:24.496Z"
      },
      {
        "duration": 6,
        "start_time": "2022-03-30T21:58:26.961Z"
      },
      {
        "duration": 5,
        "start_time": "2022-03-30T21:58:43.531Z"
      },
      {
        "duration": 5,
        "start_time": "2022-03-30T21:58:44.431Z"
      },
      {
        "duration": 24,
        "start_time": "2022-03-30T21:58:46.489Z"
      },
      {
        "duration": 14,
        "start_time": "2022-03-30T21:58:59.537Z"
      },
      {
        "duration": 7,
        "start_time": "2022-03-30T22:00:12.576Z"
      },
      {
        "duration": 7,
        "start_time": "2022-03-30T22:00:16.491Z"
      },
      {
        "duration": 5,
        "start_time": "2022-03-30T22:00:19.365Z"
      },
      {
        "duration": 5,
        "start_time": "2022-03-30T22:00:23.526Z"
      },
      {
        "duration": 24,
        "start_time": "2022-03-30T22:00:24.696Z"
      },
      {
        "duration": 7,
        "start_time": "2022-03-30T22:00:40.533Z"
      },
      {
        "duration": 6,
        "start_time": "2022-03-30T22:00:41.483Z"
      },
      {
        "duration": 6,
        "start_time": "2022-03-30T22:00:43.587Z"
      },
      {
        "duration": 5,
        "start_time": "2022-03-30T22:00:44.415Z"
      },
      {
        "duration": 26,
        "start_time": "2022-03-30T22:00:45.245Z"
      },
      {
        "duration": 15,
        "start_time": "2022-03-30T22:00:50.176Z"
      },
      {
        "duration": 7,
        "start_time": "2022-03-30T22:02:12.877Z"
      },
      {
        "duration": 9,
        "start_time": "2022-03-30T22:02:14.424Z"
      },
      {
        "duration": 6,
        "start_time": "2022-03-30T22:02:15.383Z"
      },
      {
        "duration": 6,
        "start_time": "2022-03-30T22:02:16.351Z"
      },
      {
        "duration": 24,
        "start_time": "2022-03-30T22:02:19.687Z"
      },
      {
        "duration": 8,
        "start_time": "2022-03-30T22:03:03.444Z"
      },
      {
        "duration": 7,
        "start_time": "2022-03-30T22:03:04.045Z"
      },
      {
        "duration": 5,
        "start_time": "2022-03-30T22:03:04.496Z"
      },
      {
        "duration": 6,
        "start_time": "2022-03-30T22:03:04.992Z"
      },
      {
        "duration": 25,
        "start_time": "2022-03-30T22:03:05.425Z"
      },
      {
        "duration": 25,
        "start_time": "2022-03-30T22:10:31.724Z"
      },
      {
        "duration": 18,
        "start_time": "2022-03-30T22:18:48.113Z"
      },
      {
        "duration": 16,
        "start_time": "2022-03-30T22:18:57.559Z"
      },
      {
        "duration": 143,
        "start_time": "2022-03-30T22:26:01.379Z"
      },
      {
        "duration": 155,
        "start_time": "2022-03-30T22:26:06.286Z"
      },
      {
        "duration": 386,
        "start_time": "2022-03-30T23:17:45.973Z"
      },
      {
        "duration": 334,
        "start_time": "2022-03-30T23:22:11.812Z"
      },
      {
        "duration": 339,
        "start_time": "2022-03-30T23:25:36.741Z"
      },
      {
        "duration": 424,
        "start_time": "2022-03-30T23:25:37.083Z"
      },
      {
        "duration": 162,
        "start_time": "2022-03-31T00:33:25.928Z"
      },
      {
        "duration": 1290,
        "start_time": "2022-03-31T00:50:50.871Z"
      },
      {
        "duration": 38,
        "start_time": "2022-03-31T00:50:52.163Z"
      },
      {
        "duration": 13,
        "start_time": "2022-03-31T00:50:52.202Z"
      },
      {
        "duration": 12,
        "start_time": "2022-03-31T00:50:52.217Z"
      },
      {
        "duration": 10,
        "start_time": "2022-03-31T00:50:52.232Z"
      },
      {
        "duration": 12,
        "start_time": "2022-03-31T00:50:52.243Z"
      },
      {
        "duration": 10,
        "start_time": "2022-03-31T00:50:52.257Z"
      },
      {
        "duration": 17,
        "start_time": "2022-03-31T00:50:52.300Z"
      },
      {
        "duration": 6,
        "start_time": "2022-03-31T00:50:52.319Z"
      },
      {
        "duration": 22,
        "start_time": "2022-03-31T00:50:52.326Z"
      },
      {
        "duration": 13,
        "start_time": "2022-03-31T00:50:52.350Z"
      },
      {
        "duration": 13,
        "start_time": "2022-03-31T00:50:52.365Z"
      },
      {
        "duration": 6,
        "start_time": "2022-03-31T00:50:52.401Z"
      },
      {
        "duration": 7,
        "start_time": "2022-03-31T00:50:52.410Z"
      },
      {
        "duration": 3,
        "start_time": "2022-03-31T00:50:52.419Z"
      },
      {
        "duration": 9,
        "start_time": "2022-03-31T00:50:52.423Z"
      },
      {
        "duration": 12,
        "start_time": "2022-03-31T00:50:52.434Z"
      },
      {
        "duration": 8,
        "start_time": "2022-03-31T00:50:52.448Z"
      },
      {
        "duration": 45,
        "start_time": "2022-03-31T00:50:52.458Z"
      },
      {
        "duration": 11,
        "start_time": "2022-03-31T00:50:52.505Z"
      },
      {
        "duration": 14,
        "start_time": "2022-03-31T00:50:52.517Z"
      },
      {
        "duration": 6,
        "start_time": "2022-03-31T00:50:52.533Z"
      },
      {
        "duration": 13,
        "start_time": "2022-03-31T00:50:52.541Z"
      },
      {
        "duration": 17,
        "start_time": "2022-03-31T00:50:52.556Z"
      },
      {
        "duration": 180,
        "start_time": "2022-03-31T00:50:52.602Z"
      },
      {
        "duration": 133,
        "start_time": "2022-03-31T00:50:52.784Z"
      },
      {
        "duration": 14,
        "start_time": "2022-03-31T00:50:52.919Z"
      },
      {
        "duration": 7,
        "start_time": "2022-03-31T00:50:52.934Z"
      },
      {
        "duration": 379,
        "start_time": "2022-03-31T00:50:52.942Z"
      },
      {
        "duration": 311,
        "start_time": "2022-03-31T00:50:53.323Z"
      },
      {
        "duration": 14,
        "start_time": "2022-03-31T00:50:53.637Z"
      },
      {
        "duration": 12,
        "start_time": "2022-03-31T00:50:53.654Z"
      },
      {
        "duration": 433,
        "start_time": "2022-03-31T00:50:53.668Z"
      },
      {
        "duration": 6,
        "start_time": "2022-03-31T00:50:54.103Z"
      },
      {
        "duration": 12,
        "start_time": "2022-03-31T00:50:54.111Z"
      },
      {
        "duration": 299,
        "start_time": "2022-03-31T00:50:54.125Z"
      },
      {
        "duration": 15,
        "start_time": "2022-03-31T00:50:54.427Z"
      },
      {
        "duration": 378,
        "start_time": "2022-03-31T00:50:54.444Z"
      },
      {
        "duration": 13,
        "start_time": "2022-03-31T00:50:54.825Z"
      },
      {
        "duration": 239,
        "start_time": "2022-03-31T00:50:54.841Z"
      },
      {
        "duration": 5,
        "start_time": "2022-03-31T00:50:55.084Z"
      },
      {
        "duration": 218,
        "start_time": "2022-03-31T00:50:55.091Z"
      },
      {
        "duration": 6,
        "start_time": "2022-03-31T00:50:55.311Z"
      },
      {
        "duration": 13,
        "start_time": "2022-03-31T00:50:55.318Z"
      },
      {
        "duration": 69,
        "start_time": "2022-03-31T00:50:55.333Z"
      },
      {
        "duration": 13,
        "start_time": "2022-03-31T00:50:55.404Z"
      },
      {
        "duration": 50,
        "start_time": "2022-03-31T00:50:55.419Z"
      },
      {
        "duration": 40,
        "start_time": "2022-03-31T00:50:55.471Z"
      },
      {
        "duration": 56,
        "start_time": "2022-03-31T00:50:55.513Z"
      },
      {
        "duration": 38,
        "start_time": "2022-03-31T00:50:55.571Z"
      },
      {
        "duration": 57,
        "start_time": "2022-03-31T00:50:55.611Z"
      },
      {
        "duration": 54,
        "start_time": "2022-03-31T00:50:55.670Z"
      },
      {
        "duration": 4,
        "start_time": "2022-03-31T00:50:55.726Z"
      },
      {
        "duration": 153,
        "start_time": "2022-03-31T00:50:55.732Z"
      },
      {
        "duration": 3,
        "start_time": "2022-03-31T00:50:55.887Z"
      },
      {
        "duration": 10,
        "start_time": "2022-03-31T00:50:55.901Z"
      },
      {
        "duration": 25,
        "start_time": "2022-03-31T00:50:55.913Z"
      },
      {
        "duration": 12,
        "start_time": "2022-03-31T00:50:55.940Z"
      },
      {
        "duration": 8,
        "start_time": "2022-03-31T00:50:55.953Z"
      },
      {
        "duration": 44,
        "start_time": "2022-03-31T00:50:55.963Z"
      },
      {
        "duration": 8,
        "start_time": "2022-03-31T00:50:56.009Z"
      },
      {
        "duration": 118,
        "start_time": "2022-03-31T00:50:56.019Z"
      },
      {
        "duration": 0,
        "start_time": "2022-03-31T00:50:56.139Z"
      },
      {
        "duration": 0,
        "start_time": "2022-03-31T00:50:56.141Z"
      },
      {
        "duration": 6,
        "start_time": "2022-03-31T01:00:47.324Z"
      },
      {
        "duration": 24,
        "start_time": "2022-03-31T01:00:49.130Z"
      },
      {
        "duration": 14,
        "start_time": "2022-03-31T01:00:51.795Z"
      },
      {
        "duration": 2465,
        "start_time": "2022-03-31T10:43:04.021Z"
      },
      {
        "duration": 44,
        "start_time": "2022-03-31T10:43:06.490Z"
      },
      {
        "duration": 25,
        "start_time": "2022-03-31T10:43:06.536Z"
      },
      {
        "duration": 23,
        "start_time": "2022-03-31T10:43:06.564Z"
      },
      {
        "duration": 18,
        "start_time": "2022-03-31T10:43:06.592Z"
      },
      {
        "duration": 22,
        "start_time": "2022-03-31T10:43:06.613Z"
      },
      {
        "duration": 18,
        "start_time": "2022-03-31T10:43:06.669Z"
      },
      {
        "duration": 22,
        "start_time": "2022-03-31T10:43:06.689Z"
      },
      {
        "duration": 23,
        "start_time": "2022-03-31T10:43:06.714Z"
      },
      {
        "duration": 58,
        "start_time": "2022-03-31T10:43:06.740Z"
      },
      {
        "duration": 22,
        "start_time": "2022-03-31T10:43:06.801Z"
      },
      {
        "duration": 43,
        "start_time": "2022-03-31T10:43:06.826Z"
      },
      {
        "duration": 9,
        "start_time": "2022-03-31T10:43:06.873Z"
      },
      {
        "duration": 10,
        "start_time": "2022-03-31T10:43:06.889Z"
      },
      {
        "duration": 5,
        "start_time": "2022-03-31T10:43:06.902Z"
      },
      {
        "duration": 58,
        "start_time": "2022-03-31T10:43:06.910Z"
      },
      {
        "duration": 15,
        "start_time": "2022-03-31T10:43:06.971Z"
      },
      {
        "duration": 7,
        "start_time": "2022-03-31T10:43:06.989Z"
      },
      {
        "duration": 18,
        "start_time": "2022-03-31T10:43:06.998Z"
      },
      {
        "duration": 55,
        "start_time": "2022-03-31T10:43:07.019Z"
      },
      {
        "duration": 24,
        "start_time": "2022-03-31T10:43:07.077Z"
      },
      {
        "duration": 9,
        "start_time": "2022-03-31T10:43:07.103Z"
      },
      {
        "duration": 16,
        "start_time": "2022-03-31T10:43:07.115Z"
      },
      {
        "duration": 57,
        "start_time": "2022-03-31T10:43:07.133Z"
      },
      {
        "duration": 282,
        "start_time": "2022-03-31T10:43:07.192Z"
      },
      {
        "duration": 229,
        "start_time": "2022-03-31T10:43:07.476Z"
      },
      {
        "duration": 19,
        "start_time": "2022-03-31T10:43:07.708Z"
      },
      {
        "duration": 9,
        "start_time": "2022-03-31T10:43:07.730Z"
      },
      {
        "duration": 610,
        "start_time": "2022-03-31T10:43:07.767Z"
      },
      {
        "duration": 545,
        "start_time": "2022-03-31T10:43:08.379Z"
      },
      {
        "duration": 26,
        "start_time": "2022-03-31T10:43:08.927Z"
      },
      {
        "duration": 17,
        "start_time": "2022-03-31T10:43:08.955Z"
      },
      {
        "duration": 655,
        "start_time": "2022-03-31T10:43:08.976Z"
      },
      {
        "duration": 5,
        "start_time": "2022-03-31T10:43:09.633Z"
      },
      {
        "duration": 27,
        "start_time": "2022-03-31T10:43:09.641Z"
      },
      {
        "duration": 501,
        "start_time": "2022-03-31T10:43:09.670Z"
      },
      {
        "duration": 20,
        "start_time": "2022-03-31T10:43:10.174Z"
      },
      {
        "duration": 533,
        "start_time": "2022-03-31T10:43:10.197Z"
      },
      {
        "duration": 17,
        "start_time": "2022-03-31T10:43:10.732Z"
      },
      {
        "duration": 383,
        "start_time": "2022-03-31T10:43:10.767Z"
      },
      {
        "duration": 6,
        "start_time": "2022-03-31T10:43:11.169Z"
      },
      {
        "duration": 372,
        "start_time": "2022-03-31T10:43:11.177Z"
      },
      {
        "duration": 16,
        "start_time": "2022-03-31T10:43:11.552Z"
      },
      {
        "duration": 13,
        "start_time": "2022-03-31T10:43:11.570Z"
      },
      {
        "duration": 98,
        "start_time": "2022-03-31T10:43:11.585Z"
      },
      {
        "duration": 14,
        "start_time": "2022-03-31T10:43:11.685Z"
      },
      {
        "duration": 98,
        "start_time": "2022-03-31T10:43:11.701Z"
      },
      {
        "duration": 28,
        "start_time": "2022-03-31T10:43:11.802Z"
      },
      {
        "duration": 104,
        "start_time": "2022-03-31T10:43:11.833Z"
      },
      {
        "duration": 47,
        "start_time": "2022-03-31T10:43:11.940Z"
      },
      {
        "duration": 132,
        "start_time": "2022-03-31T10:43:11.990Z"
      },
      {
        "duration": 78,
        "start_time": "2022-03-31T10:43:12.125Z"
      },
      {
        "duration": 6,
        "start_time": "2022-03-31T10:43:12.205Z"
      },
      {
        "duration": 380,
        "start_time": "2022-03-31T10:43:12.213Z"
      },
      {
        "duration": 6,
        "start_time": "2022-03-31T10:43:12.596Z"
      },
      {
        "duration": 16,
        "start_time": "2022-03-31T10:43:12.605Z"
      },
      {
        "duration": 64,
        "start_time": "2022-03-31T10:43:12.624Z"
      },
      {
        "duration": 17,
        "start_time": "2022-03-31T10:43:12.691Z"
      },
      {
        "duration": 10,
        "start_time": "2022-03-31T10:43:12.712Z"
      },
      {
        "duration": 43,
        "start_time": "2022-03-31T10:43:12.725Z"
      },
      {
        "duration": 8,
        "start_time": "2022-03-31T10:43:12.772Z"
      },
      {
        "duration": 17,
        "start_time": "2022-03-31T10:43:12.782Z"
      },
      {
        "duration": 36,
        "start_time": "2022-03-31T10:43:12.801Z"
      },
      {
        "duration": 45,
        "start_time": "2022-03-31T10:43:12.839Z"
      },
      {
        "duration": 23,
        "start_time": "2022-03-31T10:53:08.708Z"
      },
      {
        "duration": 27,
        "start_time": "2022-03-31T10:53:29.973Z"
      },
      {
        "duration": 19,
        "start_time": "2022-03-31T10:53:34.695Z"
      },
      {
        "duration": 1519,
        "start_time": "2022-03-31T11:12:35.094Z"
      },
      {
        "duration": 45,
        "start_time": "2022-03-31T11:12:36.615Z"
      },
      {
        "duration": 17,
        "start_time": "2022-03-31T11:12:36.662Z"
      },
      {
        "duration": 16,
        "start_time": "2022-03-31T11:12:36.682Z"
      },
      {
        "duration": 15,
        "start_time": "2022-03-31T11:12:36.701Z"
      },
      {
        "duration": 49,
        "start_time": "2022-03-31T11:12:36.719Z"
      },
      {
        "duration": 12,
        "start_time": "2022-03-31T11:12:36.771Z"
      },
      {
        "duration": 18,
        "start_time": "2022-03-31T11:12:36.785Z"
      },
      {
        "duration": 6,
        "start_time": "2022-03-31T11:12:36.805Z"
      },
      {
        "duration": 67,
        "start_time": "2022-03-31T11:12:36.817Z"
      },
      {
        "duration": 18,
        "start_time": "2022-03-31T11:12:36.886Z"
      },
      {
        "duration": 18,
        "start_time": "2022-03-31T11:12:36.907Z"
      },
      {
        "duration": 39,
        "start_time": "2022-03-31T11:12:36.928Z"
      },
      {
        "duration": 9,
        "start_time": "2022-03-31T11:12:36.970Z"
      },
      {
        "duration": 4,
        "start_time": "2022-03-31T11:12:36.981Z"
      },
      {
        "duration": 7,
        "start_time": "2022-03-31T11:12:36.987Z"
      },
      {
        "duration": 15,
        "start_time": "2022-03-31T11:12:36.997Z"
      },
      {
        "duration": 53,
        "start_time": "2022-03-31T11:12:37.015Z"
      },
      {
        "duration": 18,
        "start_time": "2022-03-31T11:12:37.070Z"
      },
      {
        "duration": 14,
        "start_time": "2022-03-31T11:12:37.091Z"
      },
      {
        "duration": 19,
        "start_time": "2022-03-31T11:12:37.108Z"
      },
      {
        "duration": 44,
        "start_time": "2022-03-31T11:12:37.129Z"
      },
      {
        "duration": 13,
        "start_time": "2022-03-31T11:12:37.176Z"
      },
      {
        "duration": 14,
        "start_time": "2022-03-31T11:12:37.192Z"
      },
      {
        "duration": 304,
        "start_time": "2022-03-31T11:12:37.209Z"
      },
      {
        "duration": 225,
        "start_time": "2022-03-31T11:12:37.515Z"
      },
      {
        "duration": 40,
        "start_time": "2022-03-31T11:12:37.742Z"
      },
      {
        "duration": 10,
        "start_time": "2022-03-31T11:12:37.789Z"
      },
      {
        "duration": 899,
        "start_time": "2022-03-31T11:12:37.802Z"
      },
      {
        "duration": 744,
        "start_time": "2022-03-31T11:12:38.704Z"
      },
      {
        "duration": 26,
        "start_time": "2022-03-31T11:12:39.451Z"
      },
      {
        "duration": 17,
        "start_time": "2022-03-31T11:12:39.480Z"
      },
      {
        "duration": 588,
        "start_time": "2022-03-31T11:12:39.499Z"
      },
      {
        "duration": 6,
        "start_time": "2022-03-31T11:12:40.089Z"
      },
      {
        "duration": 8,
        "start_time": "2022-03-31T11:12:40.098Z"
      },
      {
        "duration": 522,
        "start_time": "2022-03-31T11:12:40.108Z"
      },
      {
        "duration": 35,
        "start_time": "2022-03-31T11:12:40.633Z"
      },
      {
        "duration": 578,
        "start_time": "2022-03-31T11:12:40.671Z"
      },
      {
        "duration": 28,
        "start_time": "2022-03-31T11:12:41.251Z"
      },
      {
        "duration": 397,
        "start_time": "2022-03-31T11:12:41.282Z"
      },
      {
        "duration": 8,
        "start_time": "2022-03-31T11:12:41.682Z"
      },
      {
        "duration": 476,
        "start_time": "2022-03-31T11:12:41.692Z"
      },
      {
        "duration": 9,
        "start_time": "2022-03-31T11:12:42.171Z"
      },
      {
        "duration": 48,
        "start_time": "2022-03-31T11:12:42.183Z"
      },
      {
        "duration": 138,
        "start_time": "2022-03-31T11:12:42.235Z"
      },
      {
        "duration": 30,
        "start_time": "2022-03-31T11:12:42.376Z"
      },
      {
        "duration": 87,
        "start_time": "2022-03-31T11:12:42.408Z"
      },
      {
        "duration": 31,
        "start_time": "2022-03-31T11:12:42.498Z"
      },
      {
        "duration": 104,
        "start_time": "2022-03-31T11:12:42.532Z"
      },
      {
        "duration": 39,
        "start_time": "2022-03-31T11:12:42.639Z"
      },
      {
        "duration": 99,
        "start_time": "2022-03-31T11:12:42.680Z"
      },
      {
        "duration": 52,
        "start_time": "2022-03-31T11:12:42.782Z"
      },
      {
        "duration": 31,
        "start_time": "2022-03-31T11:12:42.836Z"
      },
      {
        "duration": 278,
        "start_time": "2022-03-31T11:12:42.870Z"
      },
      {
        "duration": 5,
        "start_time": "2022-03-31T11:12:43.151Z"
      },
      {
        "duration": 13,
        "start_time": "2022-03-31T11:12:43.167Z"
      },
      {
        "duration": 30,
        "start_time": "2022-03-31T11:12:43.182Z"
      },
      {
        "duration": 53,
        "start_time": "2022-03-31T11:12:43.215Z"
      },
      {
        "duration": 9,
        "start_time": "2022-03-31T11:12:43.270Z"
      },
      {
        "duration": 10,
        "start_time": "2022-03-31T11:12:43.281Z"
      },
      {
        "duration": 8,
        "start_time": "2022-03-31T11:12:43.293Z"
      },
      {
        "duration": 12,
        "start_time": "2022-03-31T11:12:43.304Z"
      },
      {
        "duration": 64,
        "start_time": "2022-03-31T11:12:43.318Z"
      },
      {
        "duration": 22,
        "start_time": "2022-03-31T11:12:43.385Z"
      },
      {
        "duration": 523,
        "start_time": "2022-03-31T11:22:12.938Z"
      },
      {
        "duration": 7,
        "start_time": "2022-03-31T11:23:04.785Z"
      },
      {
        "duration": 8,
        "start_time": "2022-03-31T11:24:19.247Z"
      },
      {
        "duration": 9,
        "start_time": "2022-03-31T11:24:57.594Z"
      },
      {
        "duration": 6,
        "start_time": "2022-03-31T11:25:18.355Z"
      },
      {
        "duration": 1527,
        "start_time": "2022-03-31T11:29:30.238Z"
      },
      {
        "duration": 46,
        "start_time": "2022-03-31T11:29:31.768Z"
      },
      {
        "duration": 18,
        "start_time": "2022-03-31T11:29:31.816Z"
      },
      {
        "duration": 15,
        "start_time": "2022-03-31T11:29:31.837Z"
      },
      {
        "duration": 20,
        "start_time": "2022-03-31T11:29:31.857Z"
      },
      {
        "duration": 15,
        "start_time": "2022-03-31T11:29:31.880Z"
      },
      {
        "duration": 17,
        "start_time": "2022-03-31T11:29:31.898Z"
      },
      {
        "duration": 23,
        "start_time": "2022-03-31T11:29:31.917Z"
      },
      {
        "duration": 26,
        "start_time": "2022-03-31T11:29:31.942Z"
      },
      {
        "duration": 31,
        "start_time": "2022-03-31T11:29:31.970Z"
      },
      {
        "duration": 20,
        "start_time": "2022-03-31T11:29:32.004Z"
      },
      {
        "duration": 20,
        "start_time": "2022-03-31T11:29:32.026Z"
      },
      {
        "duration": 21,
        "start_time": "2022-03-31T11:29:32.048Z"
      },
      {
        "duration": 13,
        "start_time": "2022-03-31T11:29:32.074Z"
      },
      {
        "duration": 9,
        "start_time": "2022-03-31T11:29:32.089Z"
      },
      {
        "duration": 9,
        "start_time": "2022-03-31T11:29:32.100Z"
      },
      {
        "duration": 14,
        "start_time": "2022-03-31T11:29:32.112Z"
      },
      {
        "duration": 6,
        "start_time": "2022-03-31T11:29:32.128Z"
      },
      {
        "duration": 42,
        "start_time": "2022-03-31T11:29:32.136Z"
      },
      {
        "duration": 21,
        "start_time": "2022-03-31T11:29:32.180Z"
      },
      {
        "duration": 17,
        "start_time": "2022-03-31T11:29:32.203Z"
      },
      {
        "duration": 7,
        "start_time": "2022-03-31T11:29:32.222Z"
      },
      {
        "duration": 43,
        "start_time": "2022-03-31T11:29:32.231Z"
      },
      {
        "duration": 17,
        "start_time": "2022-03-31T11:29:32.277Z"
      },
      {
        "duration": 287,
        "start_time": "2022-03-31T11:29:32.296Z"
      },
      {
        "duration": 251,
        "start_time": "2022-03-31T11:29:32.586Z"
      },
      {
        "duration": 33,
        "start_time": "2022-03-31T11:29:32.840Z"
      },
      {
        "duration": 10,
        "start_time": "2022-03-31T11:29:32.876Z"
      },
      {
        "duration": 604,
        "start_time": "2022-03-31T11:29:32.888Z"
      },
      {
        "duration": 518,
        "start_time": "2022-03-31T11:29:33.494Z"
      },
      {
        "duration": 18,
        "start_time": "2022-03-31T11:29:34.014Z"
      },
      {
        "duration": 29,
        "start_time": "2022-03-31T11:29:34.034Z"
      },
      {
        "duration": 568,
        "start_time": "2022-03-31T11:29:34.067Z"
      },
      {
        "duration": 6,
        "start_time": "2022-03-31T11:29:34.637Z"
      },
      {
        "duration": 33,
        "start_time": "2022-03-31T11:29:34.645Z"
      },
      {
        "duration": 487,
        "start_time": "2022-03-31T11:29:34.680Z"
      },
      {
        "duration": 21,
        "start_time": "2022-03-31T11:29:35.169Z"
      },
      {
        "duration": 563,
        "start_time": "2022-03-31T11:29:35.192Z"
      },
      {
        "duration": 21,
        "start_time": "2022-03-31T11:29:35.757Z"
      },
      {
        "duration": 373,
        "start_time": "2022-03-31T11:29:35.780Z"
      },
      {
        "duration": 8,
        "start_time": "2022-03-31T11:29:36.169Z"
      },
      {
        "duration": 369,
        "start_time": "2022-03-31T11:29:36.180Z"
      },
      {
        "duration": 18,
        "start_time": "2022-03-31T11:29:36.552Z"
      },
      {
        "duration": 15,
        "start_time": "2022-03-31T11:29:36.572Z"
      },
      {
        "duration": 104,
        "start_time": "2022-03-31T11:29:36.590Z"
      },
      {
        "duration": 14,
        "start_time": "2022-03-31T11:29:36.696Z"
      },
      {
        "duration": 97,
        "start_time": "2022-03-31T11:29:36.712Z"
      },
      {
        "duration": 41,
        "start_time": "2022-03-31T11:29:36.811Z"
      },
      {
        "duration": 87,
        "start_time": "2022-03-31T11:29:36.854Z"
      },
      {
        "duration": 43,
        "start_time": "2022-03-31T11:29:36.943Z"
      },
      {
        "duration": 95,
        "start_time": "2022-03-31T11:29:36.989Z"
      },
      {
        "duration": 45,
        "start_time": "2022-03-31T11:29:37.086Z"
      },
      {
        "duration": 4,
        "start_time": "2022-03-31T11:29:37.133Z"
      },
      {
        "duration": 285,
        "start_time": "2022-03-31T11:29:37.140Z"
      },
      {
        "duration": 5,
        "start_time": "2022-03-31T11:29:37.428Z"
      },
      {
        "duration": 37,
        "start_time": "2022-03-31T11:29:37.435Z"
      },
      {
        "duration": 29,
        "start_time": "2022-03-31T11:29:37.474Z"
      },
      {
        "duration": 16,
        "start_time": "2022-03-31T11:29:37.505Z"
      },
      {
        "duration": 46,
        "start_time": "2022-03-31T11:29:37.523Z"
      },
      {
        "duration": 9,
        "start_time": "2022-03-31T11:29:37.571Z"
      },
      {
        "duration": 8,
        "start_time": "2022-03-31T11:29:37.583Z"
      },
      {
        "duration": 10,
        "start_time": "2022-03-31T11:29:37.593Z"
      },
      {
        "duration": 64,
        "start_time": "2022-03-31T11:29:37.605Z"
      },
      {
        "duration": 23,
        "start_time": "2022-03-31T11:29:37.672Z"
      },
      {
        "duration": 1249,
        "start_time": "2022-03-31T17:56:53.113Z"
      },
      {
        "duration": 75,
        "start_time": "2022-03-31T17:56:54.364Z"
      },
      {
        "duration": 10,
        "start_time": "2022-03-31T17:56:54.441Z"
      },
      {
        "duration": 12,
        "start_time": "2022-03-31T17:56:54.453Z"
      },
      {
        "duration": 9,
        "start_time": "2022-03-31T17:56:54.466Z"
      },
      {
        "duration": 11,
        "start_time": "2022-03-31T17:56:54.476Z"
      },
      {
        "duration": 6,
        "start_time": "2022-03-31T17:56:54.488Z"
      },
      {
        "duration": 10,
        "start_time": "2022-03-31T17:56:54.495Z"
      },
      {
        "duration": 8,
        "start_time": "2022-03-31T17:56:54.506Z"
      },
      {
        "duration": 15,
        "start_time": "2022-03-31T17:56:54.516Z"
      },
      {
        "duration": 11,
        "start_time": "2022-03-31T17:56:54.532Z"
      },
      {
        "duration": 8,
        "start_time": "2022-03-31T17:56:54.544Z"
      },
      {
        "duration": 4,
        "start_time": "2022-03-31T17:56:54.581Z"
      },
      {
        "duration": 6,
        "start_time": "2022-03-31T17:56:54.586Z"
      },
      {
        "duration": 2,
        "start_time": "2022-03-31T17:56:54.594Z"
      },
      {
        "duration": 6,
        "start_time": "2022-03-31T17:56:54.597Z"
      },
      {
        "duration": 8,
        "start_time": "2022-03-31T17:56:54.605Z"
      },
      {
        "duration": 8,
        "start_time": "2022-03-31T17:56:54.615Z"
      },
      {
        "duration": 17,
        "start_time": "2022-03-31T17:56:54.625Z"
      },
      {
        "duration": 9,
        "start_time": "2022-03-31T17:56:54.644Z"
      },
      {
        "duration": 35,
        "start_time": "2022-03-31T17:56:54.654Z"
      },
      {
        "duration": 4,
        "start_time": "2022-03-31T17:56:54.690Z"
      },
      {
        "duration": 10,
        "start_time": "2022-03-31T17:56:54.696Z"
      },
      {
        "duration": 11,
        "start_time": "2022-03-31T17:56:54.707Z"
      },
      {
        "duration": 196,
        "start_time": "2022-03-31T17:56:54.719Z"
      },
      {
        "duration": 160,
        "start_time": "2022-03-31T17:56:54.917Z"
      },
      {
        "duration": 16,
        "start_time": "2022-03-31T17:56:55.080Z"
      },
      {
        "duration": 8,
        "start_time": "2022-03-31T17:56:55.100Z"
      },
      {
        "duration": 469,
        "start_time": "2022-03-31T17:56:55.109Z"
      },
      {
        "duration": 385,
        "start_time": "2022-03-31T17:56:55.580Z"
      },
      {
        "duration": 12,
        "start_time": "2022-03-31T17:56:55.967Z"
      },
      {
        "duration": 19,
        "start_time": "2022-03-31T17:56:55.980Z"
      },
      {
        "duration": 368,
        "start_time": "2022-03-31T17:56:56.001Z"
      },
      {
        "duration": 4,
        "start_time": "2022-03-31T17:56:56.370Z"
      },
      {
        "duration": 9,
        "start_time": "2022-03-31T17:56:56.375Z"
      },
      {
        "duration": 252,
        "start_time": "2022-03-31T17:56:56.385Z"
      },
      {
        "duration": 12,
        "start_time": "2022-03-31T17:56:56.638Z"
      },
      {
        "duration": 475,
        "start_time": "2022-03-31T17:56:56.652Z"
      },
      {
        "duration": 14,
        "start_time": "2022-03-31T17:56:57.129Z"
      },
      {
        "duration": 300,
        "start_time": "2022-03-31T17:56:57.144Z"
      },
      {
        "duration": 5,
        "start_time": "2022-03-31T17:56:57.446Z"
      },
      {
        "duration": 287,
        "start_time": "2022-03-31T17:56:57.453Z"
      },
      {
        "duration": 5,
        "start_time": "2022-03-31T17:56:57.742Z"
      },
      {
        "duration": 14,
        "start_time": "2022-03-31T17:56:57.749Z"
      },
      {
        "duration": 79,
        "start_time": "2022-03-31T17:56:57.766Z"
      },
      {
        "duration": 11,
        "start_time": "2022-03-31T17:56:57.847Z"
      },
      {
        "duration": 76,
        "start_time": "2022-03-31T17:56:57.860Z"
      },
      {
        "duration": 25,
        "start_time": "2022-03-31T17:56:57.938Z"
      },
      {
        "duration": 64,
        "start_time": "2022-03-31T17:56:57.965Z"
      },
      {
        "duration": 34,
        "start_time": "2022-03-31T17:56:58.031Z"
      },
      {
        "duration": 56,
        "start_time": "2022-03-31T17:56:58.067Z"
      },
      {
        "duration": 34,
        "start_time": "2022-03-31T17:56:58.125Z"
      },
      {
        "duration": 20,
        "start_time": "2022-03-31T17:56:58.161Z"
      },
      {
        "duration": 137,
        "start_time": "2022-03-31T17:56:58.183Z"
      },
      {
        "duration": 3,
        "start_time": "2022-03-31T17:56:58.322Z"
      },
      {
        "duration": 9,
        "start_time": "2022-03-31T17:56:58.327Z"
      },
      {
        "duration": 44,
        "start_time": "2022-03-31T17:56:58.338Z"
      },
      {
        "duration": 15,
        "start_time": "2022-03-31T17:56:58.384Z"
      },
      {
        "duration": 12,
        "start_time": "2022-03-31T17:56:58.401Z"
      },
      {
        "duration": 8,
        "start_time": "2022-03-31T17:56:58.414Z"
      },
      {
        "duration": 6,
        "start_time": "2022-03-31T17:56:58.423Z"
      },
      {
        "duration": 8,
        "start_time": "2022-03-31T17:56:58.430Z"
      },
      {
        "duration": 21,
        "start_time": "2022-03-31T17:56:58.439Z"
      },
      {
        "duration": 32,
        "start_time": "2022-03-31T17:56:58.462Z"
      },
      {
        "duration": 198,
        "start_time": "2022-03-31T18:06:17.638Z"
      },
      {
        "duration": 183,
        "start_time": "2022-03-31T18:10:40.924Z"
      }
    ],
    "kernelspec": {
      "display_name": "Python 3 (ipykernel)",
      "language": "python",
      "name": "python3"
    },
    "language_info": {
      "codemirror_mode": {
        "name": "ipython",
        "version": 3
      },
      "file_extension": ".py",
      "mimetype": "text/x-python",
      "name": "python",
      "nbconvert_exporter": "python",
      "pygments_lexer": "ipython3",
      "version": "3.9.5"
    },
    "toc": {
      "base_numbering": 1,
      "nav_menu": {},
      "number_sections": true,
      "sideBar": true,
      "skip_h1_title": true,
      "title_cell": "Table of Contents",
      "title_sidebar": "Contents",
      "toc_cell": false,
      "toc_position": {
        "height": "969.091px",
        "left": "658px",
        "top": "176.051px",
        "width": "447.77px"
      },
      "toc_section_display": true,
      "toc_window_display": false
    },
    "colab": {
      "provenance": [],
      "collapsed_sections": [],
      "toc_visible": true
    }
  },
  "nbformat": 4,
  "nbformat_minor": 0
}