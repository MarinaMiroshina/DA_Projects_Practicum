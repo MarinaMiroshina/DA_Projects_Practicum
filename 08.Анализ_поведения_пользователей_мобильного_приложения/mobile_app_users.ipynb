{
 "cells": [
  {
   "cell_type": "markdown",
   "source": [
    "# Анализ поведения пользователей мобильного приложения"
   ],
   "metadata": {
    "id": "9ivCABeDOYag"
   }
  },
  {
   "cell_type": "markdown",
   "source": [
    "Для работы предоставлены данные приложения по продаже продуктов с результатами о действиях пользователей в двух контрольных группах со старым шрифтом и одной экспериментальной с новым шрифтом.\n",
    "\n",
    "Цель исследования: проанализировать результаты A/A/B-эксперимента и определить, влияет ли изменение шрифта на покупателей.\n",
    "\n",
    "Описание данных:\n",
    " - EventName — название события;\n",
    " - DeviceIDHash — уникальный идентификатор пользователя;\n",
    " - EventTimestamp — время события;\n",
    " - ExpId — номер эксперимента: 246 и 247 — контрольные группы, а 248 — экспериментальная."
   ],
   "metadata": {
    "id": "Tco1CHYjOZE-"
   }
  },
  {
   "cell_type": "markdown",
   "source": [
    "## План работы\n",
    "\n",
    "1. [Изучение данных](#1)\n",
    "\n",
    "2. [Предобработка данных](#2)\n",
    "\n",
    "    2.1 [Стиль заголовков](#2.1)\n",
    "\n",
    "    2.2 [Дубликаты](#2.2)\n",
    "\n",
    "    2.3 [Замена типа данных](#2.3)\n",
    "\n",
    "3. [Изучение и проверка данных](#3)\n",
    "\n",
    "4. [Исследование воронки событий](#4)\n",
    "\n",
    "5. [Исследование результатов эксперимента](#5)\n",
    "\n",
    "    5.1 [Число пользователей в группах](#5.1)\n",
    "\n",
    "    5.2 [Проверка разницы между выборками A/A](#5.2)\n",
    "\n",
    "    5.3 [Проверка контрольных групп и группы с изменённым шрифтом](#5.3)\n",
    "\n",
    "6. [Общие выводы](#6)"
   ],
   "metadata": {
    "id": "fr7AAw_iDcJX"
   }
  },
  {
   "cell_type": "markdown",
   "metadata": {
    "id": "rkuUJzsKUOYD"
   },
   "source": [
    "<a name=\"1\"><h2>1 Изучение данных</h2></a>"
   ]
  },
  {
   "cell_type": "markdown",
   "metadata": {
    "id": "0ETFtF5UUOYD"
   },
   "source": [
    "Импортируем библиотеки:"
   ]
  },
  {
   "cell_type": "code",
   "execution_count": 1,
   "metadata": {
    "id": "f5GvVpuHUOYE"
   },
   "outputs": [],
   "source": [
    "import pandas as pd\n",
    "import numpy as np\n",
    "import math as mth\n",
    "from scipy import stats as st\n",
    "from plotly import graph_objects as go\n",
    "import matplotlib.pyplot as plt\n",
    "import matplotlib\n",
    "matplotlib.style.use('seaborn-dark')\n",
    "%config InlineBackend.figure_format = 'retina'"
   ]
  },
  {
   "cell_type": "markdown",
   "metadata": {
    "id": "ct6ysaUvUOYF"
   },
   "source": [
    "Прочитаем файл:"
   ]
  },
  {
   "cell_type": "code",
   "execution_count": 2,
   "metadata": {
    "id": "V-BxHZLEUOYF"
   },
   "outputs": [],
   "source": [
    "df = pd.read_csv('/content/logs_exp.csv', sep='\\t')"
   ]
  },
  {
   "cell_type": "markdown",
   "metadata": {
    "id": "7dP-20VPUOYF"
   },
   "source": [
    "Посмотрим первые десять записей и общую информацию о таблице:"
   ]
  },
  {
   "cell_type": "code",
   "execution_count": 3,
   "metadata": {
    "id": "yyde6NMjUOYG",
    "outputId": "ecff77bd-8511-4745-e27c-1dcbf3053dfd",
    "colab": {
     "base_uri": "https://localhost:8080/",
     "height": 363
    }
   },
   "outputs": [
    {
     "output_type": "execute_result",
     "data": {
      "text/plain": [
       "                 EventName         DeviceIDHash  EventTimestamp  ExpId\n",
       "0         MainScreenAppear  4575588528974610257      1564029816    246\n",
       "1         MainScreenAppear  7416695313311560658      1564053102    246\n",
       "2  PaymentScreenSuccessful  3518123091307005509      1564054127    248\n",
       "3         CartScreenAppear  3518123091307005509      1564054127    248\n",
       "4  PaymentScreenSuccessful  6217807653094995999      1564055322    248\n",
       "5         CartScreenAppear  6217807653094995999      1564055323    248\n",
       "6       OffersScreenAppear  8351860793733343758      1564066242    246\n",
       "7         MainScreenAppear  5682100281902512875      1564085677    246\n",
       "8         MainScreenAppear  1850981295691852772      1564086702    247\n",
       "9         MainScreenAppear  5407636962369102641      1564112112    246"
      ],
      "text/html": [
       "\n",
       "  <div id=\"df-fb36d704-9d4c-4c36-a261-d90376b54be9\">\n",
       "    <div class=\"colab-df-container\">\n",
       "      <div>\n",
       "<style scoped>\n",
       "    .dataframe tbody tr th:only-of-type {\n",
       "        vertical-align: middle;\n",
       "    }\n",
       "\n",
       "    .dataframe tbody tr th {\n",
       "        vertical-align: top;\n",
       "    }\n",
       "\n",
       "    .dataframe thead th {\n",
       "        text-align: right;\n",
       "    }\n",
       "</style>\n",
       "<table border=\"1\" class=\"dataframe\">\n",
       "  <thead>\n",
       "    <tr style=\"text-align: right;\">\n",
       "      <th></th>\n",
       "      <th>EventName</th>\n",
       "      <th>DeviceIDHash</th>\n",
       "      <th>EventTimestamp</th>\n",
       "      <th>ExpId</th>\n",
       "    </tr>\n",
       "  </thead>\n",
       "  <tbody>\n",
       "    <tr>\n",
       "      <th>0</th>\n",
       "      <td>MainScreenAppear</td>\n",
       "      <td>4575588528974610257</td>\n",
       "      <td>1564029816</td>\n",
       "      <td>246</td>\n",
       "    </tr>\n",
       "    <tr>\n",
       "      <th>1</th>\n",
       "      <td>MainScreenAppear</td>\n",
       "      <td>7416695313311560658</td>\n",
       "      <td>1564053102</td>\n",
       "      <td>246</td>\n",
       "    </tr>\n",
       "    <tr>\n",
       "      <th>2</th>\n",
       "      <td>PaymentScreenSuccessful</td>\n",
       "      <td>3518123091307005509</td>\n",
       "      <td>1564054127</td>\n",
       "      <td>248</td>\n",
       "    </tr>\n",
       "    <tr>\n",
       "      <th>3</th>\n",
       "      <td>CartScreenAppear</td>\n",
       "      <td>3518123091307005509</td>\n",
       "      <td>1564054127</td>\n",
       "      <td>248</td>\n",
       "    </tr>\n",
       "    <tr>\n",
       "      <th>4</th>\n",
       "      <td>PaymentScreenSuccessful</td>\n",
       "      <td>6217807653094995999</td>\n",
       "      <td>1564055322</td>\n",
       "      <td>248</td>\n",
       "    </tr>\n",
       "    <tr>\n",
       "      <th>5</th>\n",
       "      <td>CartScreenAppear</td>\n",
       "      <td>6217807653094995999</td>\n",
       "      <td>1564055323</td>\n",
       "      <td>248</td>\n",
       "    </tr>\n",
       "    <tr>\n",
       "      <th>6</th>\n",
       "      <td>OffersScreenAppear</td>\n",
       "      <td>8351860793733343758</td>\n",
       "      <td>1564066242</td>\n",
       "      <td>246</td>\n",
       "    </tr>\n",
       "    <tr>\n",
       "      <th>7</th>\n",
       "      <td>MainScreenAppear</td>\n",
       "      <td>5682100281902512875</td>\n",
       "      <td>1564085677</td>\n",
       "      <td>246</td>\n",
       "    </tr>\n",
       "    <tr>\n",
       "      <th>8</th>\n",
       "      <td>MainScreenAppear</td>\n",
       "      <td>1850981295691852772</td>\n",
       "      <td>1564086702</td>\n",
       "      <td>247</td>\n",
       "    </tr>\n",
       "    <tr>\n",
       "      <th>9</th>\n",
       "      <td>MainScreenAppear</td>\n",
       "      <td>5407636962369102641</td>\n",
       "      <td>1564112112</td>\n",
       "      <td>246</td>\n",
       "    </tr>\n",
       "  </tbody>\n",
       "</table>\n",
       "</div>\n",
       "      <button class=\"colab-df-convert\" onclick=\"convertToInteractive('df-fb36d704-9d4c-4c36-a261-d90376b54be9')\"\n",
       "              title=\"Convert this dataframe to an interactive table.\"\n",
       "              style=\"display:none;\">\n",
       "        \n",
       "  <svg xmlns=\"http://www.w3.org/2000/svg\" height=\"24px\"viewBox=\"0 0 24 24\"\n",
       "       width=\"24px\">\n",
       "    <path d=\"M0 0h24v24H0V0z\" fill=\"none\"/>\n",
       "    <path d=\"M18.56 5.44l.94 2.06.94-2.06 2.06-.94-2.06-.94-.94-2.06-.94 2.06-2.06.94zm-11 1L8.5 8.5l.94-2.06 2.06-.94-2.06-.94L8.5 2.5l-.94 2.06-2.06.94zm10 10l.94 2.06.94-2.06 2.06-.94-2.06-.94-.94-2.06-.94 2.06-2.06.94z\"/><path d=\"M17.41 7.96l-1.37-1.37c-.4-.4-.92-.59-1.43-.59-.52 0-1.04.2-1.43.59L10.3 9.45l-7.72 7.72c-.78.78-.78 2.05 0 2.83L4 21.41c.39.39.9.59 1.41.59.51 0 1.02-.2 1.41-.59l7.78-7.78 2.81-2.81c.8-.78.8-2.07 0-2.86zM5.41 20L4 18.59l7.72-7.72 1.47 1.35L5.41 20z\"/>\n",
       "  </svg>\n",
       "      </button>\n",
       "      \n",
       "  <style>\n",
       "    .colab-df-container {\n",
       "      display:flex;\n",
       "      flex-wrap:wrap;\n",
       "      gap: 12px;\n",
       "    }\n",
       "\n",
       "    .colab-df-convert {\n",
       "      background-color: #E8F0FE;\n",
       "      border: none;\n",
       "      border-radius: 50%;\n",
       "      cursor: pointer;\n",
       "      display: none;\n",
       "      fill: #1967D2;\n",
       "      height: 32px;\n",
       "      padding: 0 0 0 0;\n",
       "      width: 32px;\n",
       "    }\n",
       "\n",
       "    .colab-df-convert:hover {\n",
       "      background-color: #E2EBFA;\n",
       "      box-shadow: 0px 1px 2px rgba(60, 64, 67, 0.3), 0px 1px 3px 1px rgba(60, 64, 67, 0.15);\n",
       "      fill: #174EA6;\n",
       "    }\n",
       "\n",
       "    [theme=dark] .colab-df-convert {\n",
       "      background-color: #3B4455;\n",
       "      fill: #D2E3FC;\n",
       "    }\n",
       "\n",
       "    [theme=dark] .colab-df-convert:hover {\n",
       "      background-color: #434B5C;\n",
       "      box-shadow: 0px 1px 3px 1px rgba(0, 0, 0, 0.15);\n",
       "      filter: drop-shadow(0px 1px 2px rgba(0, 0, 0, 0.3));\n",
       "      fill: #FFFFFF;\n",
       "    }\n",
       "  </style>\n",
       "\n",
       "      <script>\n",
       "        const buttonEl =\n",
       "          document.querySelector('#df-fb36d704-9d4c-4c36-a261-d90376b54be9 button.colab-df-convert');\n",
       "        buttonEl.style.display =\n",
       "          google.colab.kernel.accessAllowed ? 'block' : 'none';\n",
       "\n",
       "        async function convertToInteractive(key) {\n",
       "          const element = document.querySelector('#df-fb36d704-9d4c-4c36-a261-d90376b54be9');\n",
       "          const dataTable =\n",
       "            await google.colab.kernel.invokeFunction('convertToInteractive',\n",
       "                                                     [key], {});\n",
       "          if (!dataTable) return;\n",
       "\n",
       "          const docLinkHtml = 'Like what you see? Visit the ' +\n",
       "            '<a target=\"_blank\" href=https://colab.research.google.com/notebooks/data_table.ipynb>data table notebook</a>'\n",
       "            + ' to learn more about interactive tables.';\n",
       "          element.innerHTML = '';\n",
       "          dataTable['output_type'] = 'display_data';\n",
       "          await google.colab.output.renderOutput(dataTable, element);\n",
       "          const docLink = document.createElement('div');\n",
       "          docLink.innerHTML = docLinkHtml;\n",
       "          element.appendChild(docLink);\n",
       "        }\n",
       "      </script>\n",
       "    </div>\n",
       "  </div>\n",
       "  "
      ]
     },
     "metadata": {},
     "execution_count": 3
    }
   ],
   "source": [
    "df.head(10)"
   ]
  },
  {
   "cell_type": "code",
   "execution_count": 4,
   "metadata": {
    "id": "nZ_A8YfWUOYG",
    "outputId": "d222df19-13ee-4798-93fd-a568addc7d0c",
    "colab": {
     "base_uri": "https://localhost:8080/"
    }
   },
   "outputs": [
    {
     "output_type": "stream",
     "name": "stdout",
     "text": [
      "<class 'pandas.core.frame.DataFrame'>\n",
      "RangeIndex: 244126 entries, 0 to 244125\n",
      "Data columns (total 4 columns):\n",
      " #   Column          Non-Null Count   Dtype \n",
      "---  ------          --------------   ----- \n",
      " 0   EventName       244126 non-null  object\n",
      " 1   DeviceIDHash    244126 non-null  int64 \n",
      " 2   EventTimestamp  244126 non-null  int64 \n",
      " 3   ExpId           244126 non-null  int64 \n",
      "dtypes: int64(3), object(1)\n",
      "memory usage: 7.5+ MB\n"
     ]
    }
   ],
   "source": [
    "df.info()"
   ]
  },
  {
   "cell_type": "markdown",
   "metadata": {
    "id": "EBFV62cWUOYG"
   },
   "source": [
    "Таблица содержит 4 столбца и 244126 строк, пропусков нет."
   ]
  },
  {
   "cell_type": "markdown",
   "metadata": {
    "id": "HrL5ug5IUOYH"
   },
   "source": [
    "<div style=\"border: solid green 2px; padding: 20px\">\n",
    "\n",
    "**Выводы**\n",
    "* Названия столбцов записаны в формате camelcase, приведём их к нижнему регистру.\n",
    "* Столбец 'EventTimestamp' следует перевести в формат даты и времени, так как записи представлены в числовом формате.\n",
    "</div>"
   ]
  },
  {
   "cell_type": "markdown",
   "metadata": {
    "id": "TaGAJzByUOYH"
   },
   "source": [
    "<a name=\"2\"><h2>2 Предобработка данных</h2></a>"
   ]
  },
  {
   "cell_type": "markdown",
   "metadata": {
    "id": "SNZN08AKUOYH"
   },
   "source": [
    "<a name=\"2.1\"><h3>2.1 Стиль заголовков</h3></a>"
   ]
  },
  {
   "cell_type": "markdown",
   "metadata": {
    "id": "a1wRGN4FUOYH"
   },
   "source": [
    "Переименуем названия столбцов:"
   ]
  },
  {
   "cell_type": "code",
   "execution_count": 5,
   "metadata": {
    "id": "k5X0WikoUOYI"
   },
   "outputs": [],
   "source": [
    "df = df.rename(columns={'EventName':'event_name','DeviceIDHash':'user_id','EventTimestamp':'event_timestamp','ExpId':'exp_id'})"
   ]
  },
  {
   "cell_type": "markdown",
   "metadata": {
    "id": "SYUikustUOYI"
   },
   "source": [
    "Проверим результат:"
   ]
  },
  {
   "cell_type": "code",
   "execution_count": 6,
   "metadata": {
    "id": "ynj7WL27UOYI",
    "outputId": "c9a299ce-a4c0-4028-f088-bef93fb894b0",
    "colab": {
     "base_uri": "https://localhost:8080/"
    }
   },
   "outputs": [
    {
     "output_type": "execute_result",
     "data": {
      "text/plain": [
       "Index(['event_name', 'user_id', 'event_timestamp', 'exp_id'], dtype='object')"
      ]
     },
     "metadata": {},
     "execution_count": 6
    }
   ],
   "source": [
    "df.columns"
   ]
  },
  {
   "cell_type": "markdown",
   "metadata": {
    "id": "GtxwKXsdUOYI"
   },
   "source": [
    "<a name=\"2.2\"><h3>2.2 Дубликаты</h3></a>"
   ]
  },
  {
   "cell_type": "markdown",
   "metadata": {
    "id": "X3UlitsFUOYI"
   },
   "source": [
    "Проверим названия в столбце 'event_name':"
   ]
  },
  {
   "cell_type": "code",
   "execution_count": 7,
   "metadata": {
    "id": "-cGhGRyIUOYI",
    "outputId": "44ebfa9a-08dc-4e20-9ec6-dd331c1e6e1e",
    "colab": {
     "base_uri": "https://localhost:8080/"
    }
   },
   "outputs": [
    {
     "output_type": "execute_result",
     "data": {
      "text/plain": [
       "array(['CartScreenAppear', 'MainScreenAppear', 'OffersScreenAppear',\n",
       "       'PaymentScreenSuccessful', 'Tutorial'], dtype=object)"
      ]
     },
     "metadata": {},
     "execution_count": 7
    }
   ],
   "source": [
    "df['event_name'].sort_values().unique()"
   ]
  },
  {
   "cell_type": "markdown",
   "metadata": {
    "id": "AlEuDsMLUOYI"
   },
   "source": [
    "В нижний регистр названия событий можно не переводить, так как записей мало и видно, что неявных дубликатов нет."
   ]
  },
  {
   "cell_type": "markdown",
   "metadata": {
    "id": "QvcrnjC4UOYJ"
   },
   "source": [
    "Проверим таблицу на наличие явных дубликатов:"
   ]
  },
  {
   "cell_type": "code",
   "execution_count": 8,
   "metadata": {
    "id": "5lJrSZZeUOYJ",
    "outputId": "5557004c-5d36-4899-b4c4-31b5ad736b3e",
    "colab": {
     "base_uri": "https://localhost:8080/"
    }
   },
   "outputs": [
    {
     "output_type": "execute_result",
     "data": {
      "text/plain": [
       "413"
      ]
     },
     "metadata": {},
     "execution_count": 8
    }
   ],
   "source": [
    "df.duplicated().sum()"
   ]
  },
  {
   "cell_type": "markdown",
   "metadata": {
    "id": "rFwHg0wTUOYJ"
   },
   "source": [
    "Удалим найденные записи:"
   ]
  },
  {
   "cell_type": "code",
   "execution_count": 9,
   "metadata": {
    "id": "nZ-X1doBUOYJ"
   },
   "outputs": [],
   "source": [
    "df = df.drop_duplicates()"
   ]
  },
  {
   "cell_type": "markdown",
   "metadata": {
    "id": "fK68r-TJUOYJ"
   },
   "source": [
    "Проверим, что дубликаты были удалены:"
   ]
  },
  {
   "cell_type": "code",
   "execution_count": 10,
   "metadata": {
    "id": "6Dvc6KutUOYJ",
    "outputId": "179922e3-7843-46bc-9bcb-cea615cef3f4",
    "colab": {
     "base_uri": "https://localhost:8080/"
    }
   },
   "outputs": [
    {
     "output_type": "stream",
     "name": "stdout",
     "text": [
      "<class 'pandas.core.frame.DataFrame'>\n",
      "Int64Index: 243713 entries, 0 to 244125\n",
      "Data columns (total 4 columns):\n",
      " #   Column           Non-Null Count   Dtype \n",
      "---  ------           --------------   ----- \n",
      " 0   event_name       243713 non-null  object\n",
      " 1   user_id          243713 non-null  int64 \n",
      " 2   event_timestamp  243713 non-null  int64 \n",
      " 3   exp_id           243713 non-null  int64 \n",
      "dtypes: int64(3), object(1)\n",
      "memory usage: 9.3+ MB\n"
     ]
    }
   ],
   "source": [
    "df.info()"
   ]
  },
  {
   "cell_type": "markdown",
   "metadata": {
    "id": "l0azEFBPUOYJ"
   },
   "source": [
    "<a name=\"2.3\"><h3>2.3 Замена типа данных</h3></a>"
   ]
  },
  {
   "cell_type": "markdown",
   "metadata": {
    "id": "4QQ1tfqDUOYJ"
   },
   "source": [
    "Поменяем формат в столбце 'event_time' на формат даты и времени:"
   ]
  },
  {
   "cell_type": "code",
   "execution_count": 11,
   "metadata": {
    "id": "IiHHH0nCUOYK"
   },
   "outputs": [],
   "source": [
    "df['event_timestamp'] = pd.to_datetime(df['event_timestamp'], unit='s')"
   ]
  },
  {
   "cell_type": "markdown",
   "metadata": {
    "id": "qM2TzFMRUOYK"
   },
   "source": [
    "Добавим столбец, который содержит только дату:"
   ]
  },
  {
   "cell_type": "code",
   "execution_count": 12,
   "metadata": {
    "id": "WPDNxGQAUOYK"
   },
   "outputs": [],
   "source": [
    "df['date'] = df['event_timestamp'].astype('datetime64[D]')"
   ]
  },
  {
   "cell_type": "markdown",
   "metadata": {
    "id": "GT_s4fZTUOYK"
   },
   "source": [
    "Проверим изменения в таблице:"
   ]
  },
  {
   "cell_type": "code",
   "execution_count": 13,
   "metadata": {
    "id": "KwElGdMoUOYK",
    "outputId": "e09ee4d8-1eec-4a24-c4d1-bf492d43624f",
    "colab": {
     "base_uri": "https://localhost:8080/",
     "height": 206
    }
   },
   "outputs": [
    {
     "output_type": "execute_result",
     "data": {
      "text/plain": [
       "                event_name              user_id     event_timestamp  exp_id  \\\n",
       "0         MainScreenAppear  4575588528974610257 2019-07-25 04:43:36     246   \n",
       "1         MainScreenAppear  7416695313311560658 2019-07-25 11:11:42     246   \n",
       "2  PaymentScreenSuccessful  3518123091307005509 2019-07-25 11:28:47     248   \n",
       "3         CartScreenAppear  3518123091307005509 2019-07-25 11:28:47     248   \n",
       "4  PaymentScreenSuccessful  6217807653094995999 2019-07-25 11:48:42     248   \n",
       "\n",
       "        date  \n",
       "0 2019-07-25  \n",
       "1 2019-07-25  \n",
       "2 2019-07-25  \n",
       "3 2019-07-25  \n",
       "4 2019-07-25  "
      ],
      "text/html": [
       "\n",
       "  <div id=\"df-7b6d8f01-1c48-4ce7-be1f-973530e5e21d\">\n",
       "    <div class=\"colab-df-container\">\n",
       "      <div>\n",
       "<style scoped>\n",
       "    .dataframe tbody tr th:only-of-type {\n",
       "        vertical-align: middle;\n",
       "    }\n",
       "\n",
       "    .dataframe tbody tr th {\n",
       "        vertical-align: top;\n",
       "    }\n",
       "\n",
       "    .dataframe thead th {\n",
       "        text-align: right;\n",
       "    }\n",
       "</style>\n",
       "<table border=\"1\" class=\"dataframe\">\n",
       "  <thead>\n",
       "    <tr style=\"text-align: right;\">\n",
       "      <th></th>\n",
       "      <th>event_name</th>\n",
       "      <th>user_id</th>\n",
       "      <th>event_timestamp</th>\n",
       "      <th>exp_id</th>\n",
       "      <th>date</th>\n",
       "    </tr>\n",
       "  </thead>\n",
       "  <tbody>\n",
       "    <tr>\n",
       "      <th>0</th>\n",
       "      <td>MainScreenAppear</td>\n",
       "      <td>4575588528974610257</td>\n",
       "      <td>2019-07-25 04:43:36</td>\n",
       "      <td>246</td>\n",
       "      <td>2019-07-25</td>\n",
       "    </tr>\n",
       "    <tr>\n",
       "      <th>1</th>\n",
       "      <td>MainScreenAppear</td>\n",
       "      <td>7416695313311560658</td>\n",
       "      <td>2019-07-25 11:11:42</td>\n",
       "      <td>246</td>\n",
       "      <td>2019-07-25</td>\n",
       "    </tr>\n",
       "    <tr>\n",
       "      <th>2</th>\n",
       "      <td>PaymentScreenSuccessful</td>\n",
       "      <td>3518123091307005509</td>\n",
       "      <td>2019-07-25 11:28:47</td>\n",
       "      <td>248</td>\n",
       "      <td>2019-07-25</td>\n",
       "    </tr>\n",
       "    <tr>\n",
       "      <th>3</th>\n",
       "      <td>CartScreenAppear</td>\n",
       "      <td>3518123091307005509</td>\n",
       "      <td>2019-07-25 11:28:47</td>\n",
       "      <td>248</td>\n",
       "      <td>2019-07-25</td>\n",
       "    </tr>\n",
       "    <tr>\n",
       "      <th>4</th>\n",
       "      <td>PaymentScreenSuccessful</td>\n",
       "      <td>6217807653094995999</td>\n",
       "      <td>2019-07-25 11:48:42</td>\n",
       "      <td>248</td>\n",
       "      <td>2019-07-25</td>\n",
       "    </tr>\n",
       "  </tbody>\n",
       "</table>\n",
       "</div>\n",
       "      <button class=\"colab-df-convert\" onclick=\"convertToInteractive('df-7b6d8f01-1c48-4ce7-be1f-973530e5e21d')\"\n",
       "              title=\"Convert this dataframe to an interactive table.\"\n",
       "              style=\"display:none;\">\n",
       "        \n",
       "  <svg xmlns=\"http://www.w3.org/2000/svg\" height=\"24px\"viewBox=\"0 0 24 24\"\n",
       "       width=\"24px\">\n",
       "    <path d=\"M0 0h24v24H0V0z\" fill=\"none\"/>\n",
       "    <path d=\"M18.56 5.44l.94 2.06.94-2.06 2.06-.94-2.06-.94-.94-2.06-.94 2.06-2.06.94zm-11 1L8.5 8.5l.94-2.06 2.06-.94-2.06-.94L8.5 2.5l-.94 2.06-2.06.94zm10 10l.94 2.06.94-2.06 2.06-.94-2.06-.94-.94-2.06-.94 2.06-2.06.94z\"/><path d=\"M17.41 7.96l-1.37-1.37c-.4-.4-.92-.59-1.43-.59-.52 0-1.04.2-1.43.59L10.3 9.45l-7.72 7.72c-.78.78-.78 2.05 0 2.83L4 21.41c.39.39.9.59 1.41.59.51 0 1.02-.2 1.41-.59l7.78-7.78 2.81-2.81c.8-.78.8-2.07 0-2.86zM5.41 20L4 18.59l7.72-7.72 1.47 1.35L5.41 20z\"/>\n",
       "  </svg>\n",
       "      </button>\n",
       "      \n",
       "  <style>\n",
       "    .colab-df-container {\n",
       "      display:flex;\n",
       "      flex-wrap:wrap;\n",
       "      gap: 12px;\n",
       "    }\n",
       "\n",
       "    .colab-df-convert {\n",
       "      background-color: #E8F0FE;\n",
       "      border: none;\n",
       "      border-radius: 50%;\n",
       "      cursor: pointer;\n",
       "      display: none;\n",
       "      fill: #1967D2;\n",
       "      height: 32px;\n",
       "      padding: 0 0 0 0;\n",
       "      width: 32px;\n",
       "    }\n",
       "\n",
       "    .colab-df-convert:hover {\n",
       "      background-color: #E2EBFA;\n",
       "      box-shadow: 0px 1px 2px rgba(60, 64, 67, 0.3), 0px 1px 3px 1px rgba(60, 64, 67, 0.15);\n",
       "      fill: #174EA6;\n",
       "    }\n",
       "\n",
       "    [theme=dark] .colab-df-convert {\n",
       "      background-color: #3B4455;\n",
       "      fill: #D2E3FC;\n",
       "    }\n",
       "\n",
       "    [theme=dark] .colab-df-convert:hover {\n",
       "      background-color: #434B5C;\n",
       "      box-shadow: 0px 1px 3px 1px rgba(0, 0, 0, 0.15);\n",
       "      filter: drop-shadow(0px 1px 2px rgba(0, 0, 0, 0.3));\n",
       "      fill: #FFFFFF;\n",
       "    }\n",
       "  </style>\n",
       "\n",
       "      <script>\n",
       "        const buttonEl =\n",
       "          document.querySelector('#df-7b6d8f01-1c48-4ce7-be1f-973530e5e21d button.colab-df-convert');\n",
       "        buttonEl.style.display =\n",
       "          google.colab.kernel.accessAllowed ? 'block' : 'none';\n",
       "\n",
       "        async function convertToInteractive(key) {\n",
       "          const element = document.querySelector('#df-7b6d8f01-1c48-4ce7-be1f-973530e5e21d');\n",
       "          const dataTable =\n",
       "            await google.colab.kernel.invokeFunction('convertToInteractive',\n",
       "                                                     [key], {});\n",
       "          if (!dataTable) return;\n",
       "\n",
       "          const docLinkHtml = 'Like what you see? Visit the ' +\n",
       "            '<a target=\"_blank\" href=https://colab.research.google.com/notebooks/data_table.ipynb>data table notebook</a>'\n",
       "            + ' to learn more about interactive tables.';\n",
       "          element.innerHTML = '';\n",
       "          dataTable['output_type'] = 'display_data';\n",
       "          await google.colab.output.renderOutput(dataTable, element);\n",
       "          const docLink = document.createElement('div');\n",
       "          docLink.innerHTML = docLinkHtml;\n",
       "          element.appendChild(docLink);\n",
       "        }\n",
       "      </script>\n",
       "    </div>\n",
       "  </div>\n",
       "  "
      ]
     },
     "metadata": {},
     "execution_count": 13
    }
   ],
   "source": [
    "df.head()"
   ]
  },
  {
   "cell_type": "code",
   "execution_count": 14,
   "metadata": {
    "id": "XbLjEAsVUOYK",
    "outputId": "6f7fa6a5-8d9a-493e-dfb7-0b8fa5f1f6e0",
    "colab": {
     "base_uri": "https://localhost:8080/"
    }
   },
   "outputs": [
    {
     "output_type": "stream",
     "name": "stdout",
     "text": [
      "<class 'pandas.core.frame.DataFrame'>\n",
      "Int64Index: 243713 entries, 0 to 244125\n",
      "Data columns (total 5 columns):\n",
      " #   Column           Non-Null Count   Dtype         \n",
      "---  ------           --------------   -----         \n",
      " 0   event_name       243713 non-null  object        \n",
      " 1   user_id          243713 non-null  int64         \n",
      " 2   event_timestamp  243713 non-null  datetime64[ns]\n",
      " 3   exp_id           243713 non-null  int64         \n",
      " 4   date             243713 non-null  datetime64[ns]\n",
      "dtypes: datetime64[ns](2), int64(2), object(1)\n",
      "memory usage: 11.2+ MB\n"
     ]
    }
   ],
   "source": [
    "df.info()"
   ]
  },
  {
   "cell_type": "markdown",
   "metadata": {
    "id": "1aNF51FsUOYK"
   },
   "source": [
    "<div style=\"border: solid green 2px; padding: 20px\">\n",
    "\n",
    "**Выводы**\n",
    "\n",
    "В результате предобработки данных:\n",
    "    \n",
    "* привели названия столбцов в соответствие с правильным стилем;\n",
    "* проверили таблицу на наличие дубликатов;\n",
    "* колонку с датой и временем привели в соответствующий формат и добавили столбец с датой."
   ]
  },
  {
   "cell_type": "markdown",
   "metadata": {
    "id": "2RqHGKwWUOYL"
   },
   "source": [
    "<a name=\"3\"><h2>3 Изучение и проверка данных</h2></a>"
   ]
  },
  {
   "cell_type": "markdown",
   "metadata": {
    "id": "6aVZQCokUOYL"
   },
   "source": [
    "Подсчитаем общее число событий:"
   ]
  },
  {
   "cell_type": "code",
   "execution_count": 15,
   "metadata": {
    "id": "Bj0qmPyAUOYL",
    "outputId": "fa85810a-4e1a-439c-e8c8-1631dd6cea34",
    "colab": {
     "base_uri": "https://localhost:8080/"
    }
   },
   "outputs": [
    {
     "output_type": "execute_result",
     "data": {
      "text/plain": [
       "243713"
      ]
     },
     "metadata": {},
     "execution_count": 15
    }
   ],
   "source": [
    "df['event_name'].count()"
   ]
  },
  {
   "cell_type": "markdown",
   "metadata": {
    "id": "7APVgScjUOYL"
   },
   "source": [
    "Подсчитаем общее количество пользователей:"
   ]
  },
  {
   "cell_type": "code",
   "execution_count": 16,
   "metadata": {
    "id": "W8iZrjFvUOYL",
    "outputId": "f2ddd676-bc83-45a3-b44d-718fbbfd25cc",
    "colab": {
     "base_uri": "https://localhost:8080/"
    }
   },
   "outputs": [
    {
     "output_type": "execute_result",
     "data": {
      "text/plain": [
       "7551"
      ]
     },
     "metadata": {},
     "execution_count": 16
    }
   ],
   "source": [
    "df['user_id'].nunique()"
   ]
  },
  {
   "cell_type": "markdown",
   "metadata": {
    "id": "YVzymE2PUOYL"
   },
   "source": [
    "Создадим сводную таблицу с количеством событий на каждого пользователя:"
   ]
  },
  {
   "cell_type": "code",
   "execution_count": 17,
   "metadata": {
    "id": "3xf4ayigUOYL",
    "outputId": "27c2e7d7-45f9-4b06-997f-bfe17cb7982b",
    "colab": {
     "base_uri": "https://localhost:8080/",
     "height": 238
    }
   },
   "outputs": [
    {
     "output_type": "execute_result",
     "data": {
      "text/plain": [
       "                  count\n",
       "user_id                \n",
       "6888746892508752      1\n",
       "6909561520679493      5\n",
       "6922444491712477     47\n",
       "7435777799948366      6\n",
       "7702139951469979    137"
      ],
      "text/html": [
       "\n",
       "  <div id=\"df-f4209257-b2c9-425d-afb6-6f6271cbeb63\">\n",
       "    <div class=\"colab-df-container\">\n",
       "      <div>\n",
       "<style scoped>\n",
       "    .dataframe tbody tr th:only-of-type {\n",
       "        vertical-align: middle;\n",
       "    }\n",
       "\n",
       "    .dataframe tbody tr th {\n",
       "        vertical-align: top;\n",
       "    }\n",
       "\n",
       "    .dataframe thead th {\n",
       "        text-align: right;\n",
       "    }\n",
       "</style>\n",
       "<table border=\"1\" class=\"dataframe\">\n",
       "  <thead>\n",
       "    <tr style=\"text-align: right;\">\n",
       "      <th></th>\n",
       "      <th>count</th>\n",
       "    </tr>\n",
       "    <tr>\n",
       "      <th>user_id</th>\n",
       "      <th></th>\n",
       "    </tr>\n",
       "  </thead>\n",
       "  <tbody>\n",
       "    <tr>\n",
       "      <th>6888746892508752</th>\n",
       "      <td>1</td>\n",
       "    </tr>\n",
       "    <tr>\n",
       "      <th>6909561520679493</th>\n",
       "      <td>5</td>\n",
       "    </tr>\n",
       "    <tr>\n",
       "      <th>6922444491712477</th>\n",
       "      <td>47</td>\n",
       "    </tr>\n",
       "    <tr>\n",
       "      <th>7435777799948366</th>\n",
       "      <td>6</td>\n",
       "    </tr>\n",
       "    <tr>\n",
       "      <th>7702139951469979</th>\n",
       "      <td>137</td>\n",
       "    </tr>\n",
       "  </tbody>\n",
       "</table>\n",
       "</div>\n",
       "      <button class=\"colab-df-convert\" onclick=\"convertToInteractive('df-f4209257-b2c9-425d-afb6-6f6271cbeb63')\"\n",
       "              title=\"Convert this dataframe to an interactive table.\"\n",
       "              style=\"display:none;\">\n",
       "        \n",
       "  <svg xmlns=\"http://www.w3.org/2000/svg\" height=\"24px\"viewBox=\"0 0 24 24\"\n",
       "       width=\"24px\">\n",
       "    <path d=\"M0 0h24v24H0V0z\" fill=\"none\"/>\n",
       "    <path d=\"M18.56 5.44l.94 2.06.94-2.06 2.06-.94-2.06-.94-.94-2.06-.94 2.06-2.06.94zm-11 1L8.5 8.5l.94-2.06 2.06-.94-2.06-.94L8.5 2.5l-.94 2.06-2.06.94zm10 10l.94 2.06.94-2.06 2.06-.94-2.06-.94-.94-2.06-.94 2.06-2.06.94z\"/><path d=\"M17.41 7.96l-1.37-1.37c-.4-.4-.92-.59-1.43-.59-.52 0-1.04.2-1.43.59L10.3 9.45l-7.72 7.72c-.78.78-.78 2.05 0 2.83L4 21.41c.39.39.9.59 1.41.59.51 0 1.02-.2 1.41-.59l7.78-7.78 2.81-2.81c.8-.78.8-2.07 0-2.86zM5.41 20L4 18.59l7.72-7.72 1.47 1.35L5.41 20z\"/>\n",
       "  </svg>\n",
       "      </button>\n",
       "      \n",
       "  <style>\n",
       "    .colab-df-container {\n",
       "      display:flex;\n",
       "      flex-wrap:wrap;\n",
       "      gap: 12px;\n",
       "    }\n",
       "\n",
       "    .colab-df-convert {\n",
       "      background-color: #E8F0FE;\n",
       "      border: none;\n",
       "      border-radius: 50%;\n",
       "      cursor: pointer;\n",
       "      display: none;\n",
       "      fill: #1967D2;\n",
       "      height: 32px;\n",
       "      padding: 0 0 0 0;\n",
       "      width: 32px;\n",
       "    }\n",
       "\n",
       "    .colab-df-convert:hover {\n",
       "      background-color: #E2EBFA;\n",
       "      box-shadow: 0px 1px 2px rgba(60, 64, 67, 0.3), 0px 1px 3px 1px rgba(60, 64, 67, 0.15);\n",
       "      fill: #174EA6;\n",
       "    }\n",
       "\n",
       "    [theme=dark] .colab-df-convert {\n",
       "      background-color: #3B4455;\n",
       "      fill: #D2E3FC;\n",
       "    }\n",
       "\n",
       "    [theme=dark] .colab-df-convert:hover {\n",
       "      background-color: #434B5C;\n",
       "      box-shadow: 0px 1px 3px 1px rgba(0, 0, 0, 0.15);\n",
       "      filter: drop-shadow(0px 1px 2px rgba(0, 0, 0, 0.3));\n",
       "      fill: #FFFFFF;\n",
       "    }\n",
       "  </style>\n",
       "\n",
       "      <script>\n",
       "        const buttonEl =\n",
       "          document.querySelector('#df-f4209257-b2c9-425d-afb6-6f6271cbeb63 button.colab-df-convert');\n",
       "        buttonEl.style.display =\n",
       "          google.colab.kernel.accessAllowed ? 'block' : 'none';\n",
       "\n",
       "        async function convertToInteractive(key) {\n",
       "          const element = document.querySelector('#df-f4209257-b2c9-425d-afb6-6f6271cbeb63');\n",
       "          const dataTable =\n",
       "            await google.colab.kernel.invokeFunction('convertToInteractive',\n",
       "                                                     [key], {});\n",
       "          if (!dataTable) return;\n",
       "\n",
       "          const docLinkHtml = 'Like what you see? Visit the ' +\n",
       "            '<a target=\"_blank\" href=https://colab.research.google.com/notebooks/data_table.ipynb>data table notebook</a>'\n",
       "            + ' to learn more about interactive tables.';\n",
       "          element.innerHTML = '';\n",
       "          dataTable['output_type'] = 'display_data';\n",
       "          await google.colab.output.renderOutput(dataTable, element);\n",
       "          const docLink = document.createElement('div');\n",
       "          docLink.innerHTML = docLinkHtml;\n",
       "          element.appendChild(docLink);\n",
       "        }\n",
       "      </script>\n",
       "    </div>\n",
       "  </div>\n",
       "  "
      ]
     },
     "metadata": {},
     "execution_count": 17
    }
   ],
   "source": [
    "users_group = df.groupby('user_id')['event_name'].agg(['count'])\n",
    "users_group.head()"
   ]
  },
  {
   "cell_type": "markdown",
   "metadata": {
    "id": "3X_rD5_5UOYM"
   },
   "source": [
    "Посмотрим на характер распределения событий:"
   ]
  },
  {
   "cell_type": "code",
   "execution_count": 18,
   "metadata": {
    "id": "8sTsmc-0UOYM",
    "outputId": "20b2f360-ea94-4054-c09e-421f37517149",
    "colab": {
     "base_uri": "https://localhost:8080/"
    }
   },
   "outputs": [
    {
     "output_type": "execute_result",
     "data": {
      "text/plain": [
       "count    7551.000000\n",
       "mean       32.275593\n",
       "std        65.154219\n",
       "min         1.000000\n",
       "25%         9.000000\n",
       "50%        20.000000\n",
       "75%        37.000000\n",
       "max      2307.000000\n",
       "Name: count, dtype: float64"
      ]
     },
     "metadata": {},
     "execution_count": 18
    }
   ],
   "source": [
    "users_group['count'].describe()"
   ]
  },
  {
   "cell_type": "markdown",
   "metadata": {
    "id": "OrWKc_a0UOYM"
   },
   "source": [
    "Максимальное значение очень сильно отличается от среднего. В связи с тем, в таблице есть существенные выбросы, то будем считать, что медиана, равная 20 событиям, является средним числом, которое обычно совершает пользователь."
   ]
  },
  {
   "cell_type": "markdown",
   "metadata": {
    "id": "2hrmDMTGUOYN"
   },
   "source": [
    "Найдем минимальную и максимальную запись в таблице:"
   ]
  },
  {
   "cell_type": "code",
   "execution_count": 19,
   "metadata": {
    "id": "tzK2RFNuUOYN",
    "outputId": "4cf17b21-88f4-4d55-9fbb-181b71d5a892",
    "colab": {
     "base_uri": "https://localhost:8080/"
    }
   },
   "outputs": [
    {
     "output_type": "execute_result",
     "data": {
      "text/plain": [
       "Timestamp('2019-07-25 04:43:36')"
      ]
     },
     "metadata": {},
     "execution_count": 19
    }
   ],
   "source": [
    "df['event_timestamp'].min()"
   ]
  },
  {
   "cell_type": "code",
   "execution_count": 20,
   "metadata": {
    "id": "EMC4DwZqUOYN",
    "outputId": "1864a8b7-34ed-4d93-eca8-899f48041151",
    "colab": {
     "base_uri": "https://localhost:8080/"
    }
   },
   "outputs": [
    {
     "output_type": "execute_result",
     "data": {
      "text/plain": [
       "Timestamp('2019-08-07 21:15:17')"
      ]
     },
     "metadata": {},
     "execution_count": 20
    }
   ],
   "source": [
    "df['event_timestamp'].max()"
   ]
  },
  {
   "cell_type": "markdown",
   "metadata": {
    "id": "flnv6if6UOYN"
   },
   "source": [
    "Подсчитаем количество событий для каждой даты и времени и построим гистограмму:"
   ]
  },
  {
   "cell_type": "code",
   "execution_count": 21,
   "metadata": {
    "id": "bIaVuvAtUOYN",
    "outputId": "ad554f43-f249-4f05-fc7b-202cc53e7726",
    "colab": {
     "base_uri": "https://localhost:8080/",
     "height": 390
    }
   },
   "outputs": [
    {
     "output_type": "display_data",
     "data": {
      "text/plain": [
       "<Figure size 864x432 with 1 Axes>"
      ],
      "image/png": "[encoded data removed]"
     },
     "metadata": {
      "image/png": {
       "width": 711,
       "height": 373
      }
     }
    }
   ],
   "source": [
    "df.groupby('event_timestamp')['event_name'].agg(['count']).sort_values(\n",
    "by='count', ascending=False).plot(grid=True, title=\"Гистограмма даты и времени\", figsize=(12, 6))\n",
    "plt.xlabel('Дата и время')\n",
    "plt.ylabel('Число событий')\n",
    "plt.show()"
   ]
  },
  {
   "cell_type": "markdown",
   "metadata": {
    "id": "L0vkfBDFUOYO"
   },
   "source": [
    "Данные за весь период неполные, наибольшее число событий после 01.08.2019, поэтому сделаем срез по этой дате:"
   ]
  },
  {
   "cell_type": "code",
   "execution_count": 22,
   "metadata": {
    "id": "atVb-F3-UOYO"
   },
   "outputs": [],
   "source": [
    "df_complete = df.query('event_timestamp >= \"2019.08.01\"')"
   ]
  },
  {
   "cell_type": "markdown",
   "metadata": {
    "id": "JLWaap7AUOYO"
   },
   "source": [
    "Получили таблицу, которая содержит данные за одну неделю с 1 по 7 августа."
   ]
  },
  {
   "cell_type": "markdown",
   "metadata": {
    "id": "NpH31LI3UOYO"
   },
   "source": [
    "Посмотрим как изменились данные по количеству событий:"
   ]
  },
  {
   "cell_type": "code",
   "execution_count": 23,
   "metadata": {
    "id": "tHvAbKz8UOYO",
    "outputId": "d693b641-c478-4590-a4f9-71ae401fd64e",
    "colab": {
     "base_uri": "https://localhost:8080/"
    }
   },
   "outputs": [
    {
     "output_type": "stream",
     "name": "stdout",
     "text": [
      "Осталось событий: 240887\n",
      "Количество удалённых событий: 2826\n",
      "Процент удаленных событий: 1.16%\n"
     ]
    }
   ],
   "source": [
    "print(\"Осталось событий:\", df_complete['event_name'].count())\n",
    "print(\"Количество удалённых событий:\",\n",
    "      df['event_name'].count() - df_complete['event_name'].count())\n",
    "print(\"Процент удаленных событий:\",\n",
    "      \"{0:.2%}\".format((df['event_name'].count() - df_complete['event_name'].count())/\n",
    "                       df['event_name'].count()))"
   ]
  },
  {
   "cell_type": "markdown",
   "metadata": {
    "id": "C2tylIcmUOYO"
   },
   "source": [
    "Посмотрим данные по пользователям:"
   ]
  },
  {
   "cell_type": "code",
   "execution_count": 24,
   "metadata": {
    "id": "Zv4pEYYdUOYO",
    "outputId": "6f7123d2-fbf2-48eb-b779-9a6b9121b2bc",
    "colab": {
     "base_uri": "https://localhost:8080/"
    }
   },
   "outputs": [
    {
     "output_type": "stream",
     "name": "stdout",
     "text": [
      "Осталось пользователей: 7534\n",
      "Количество удалённых пользователей: 17\n",
      "Процент удаленных пользователей: 0.23%\n"
     ]
    }
   ],
   "source": [
    "users_count = df_complete['user_id'].nunique()\n",
    "print(\"Осталось пользователей:\", users_count)\n",
    "print(\"Количество удалённых пользователей:\",\n",
    "      df['user_id'].nunique() - df_complete['user_id'].nunique())\n",
    "print(\"Процент удаленных пользователей:\",\n",
    "      \"{0:.2%}\".format((df['user_id'].nunique() - df_complete['user_id'].nunique())/\n",
    "                       df['user_id'].nunique())\n",
    "     )"
   ]
  },
  {
   "cell_type": "markdown",
   "metadata": {
    "id": "LHbZP8H3UOYO"
   },
   "source": [
    "Проверим, что пользователи есть в каждой экспериментальной группе:"
   ]
  },
  {
   "cell_type": "code",
   "execution_count": 25,
   "metadata": {
    "id": "v99-s5QFUOYO",
    "outputId": "df9c873c-3ddf-438f-b377-e9822c0e5aa7",
    "colab": {
     "base_uri": "https://localhost:8080/",
     "height": 175
    }
   },
   "outputs": [
    {
     "output_type": "execute_result",
     "data": {
      "text/plain": [
       "        nunique\n",
       "exp_id         \n",
       "246        2484\n",
       "247        2513\n",
       "248        2537"
      ],
      "text/html": [
       "\n",
       "  <div id=\"df-cfa0b060-4ca9-4e41-a557-c2e1b7ad05bf\">\n",
       "    <div class=\"colab-df-container\">\n",
       "      <div>\n",
       "<style scoped>\n",
       "    .dataframe tbody tr th:only-of-type {\n",
       "        vertical-align: middle;\n",
       "    }\n",
       "\n",
       "    .dataframe tbody tr th {\n",
       "        vertical-align: top;\n",
       "    }\n",
       "\n",
       "    .dataframe thead th {\n",
       "        text-align: right;\n",
       "    }\n",
       "</style>\n",
       "<table border=\"1\" class=\"dataframe\">\n",
       "  <thead>\n",
       "    <tr style=\"text-align: right;\">\n",
       "      <th></th>\n",
       "      <th>nunique</th>\n",
       "    </tr>\n",
       "    <tr>\n",
       "      <th>exp_id</th>\n",
       "      <th></th>\n",
       "    </tr>\n",
       "  </thead>\n",
       "  <tbody>\n",
       "    <tr>\n",
       "      <th>246</th>\n",
       "      <td>2484</td>\n",
       "    </tr>\n",
       "    <tr>\n",
       "      <th>247</th>\n",
       "      <td>2513</td>\n",
       "    </tr>\n",
       "    <tr>\n",
       "      <th>248</th>\n",
       "      <td>2537</td>\n",
       "    </tr>\n",
       "  </tbody>\n",
       "</table>\n",
       "</div>\n",
       "      <button class=\"colab-df-convert\" onclick=\"convertToInteractive('df-cfa0b060-4ca9-4e41-a557-c2e1b7ad05bf')\"\n",
       "              title=\"Convert this dataframe to an interactive table.\"\n",
       "              style=\"display:none;\">\n",
       "        \n",
       "  <svg xmlns=\"http://www.w3.org/2000/svg\" height=\"24px\"viewBox=\"0 0 24 24\"\n",
       "       width=\"24px\">\n",
       "    <path d=\"M0 0h24v24H0V0z\" fill=\"none\"/>\n",
       "    <path d=\"M18.56 5.44l.94 2.06.94-2.06 2.06-.94-2.06-.94-.94-2.06-.94 2.06-2.06.94zm-11 1L8.5 8.5l.94-2.06 2.06-.94-2.06-.94L8.5 2.5l-.94 2.06-2.06.94zm10 10l.94 2.06.94-2.06 2.06-.94-2.06-.94-.94-2.06-.94 2.06-2.06.94z\"/><path d=\"M17.41 7.96l-1.37-1.37c-.4-.4-.92-.59-1.43-.59-.52 0-1.04.2-1.43.59L10.3 9.45l-7.72 7.72c-.78.78-.78 2.05 0 2.83L4 21.41c.39.39.9.59 1.41.59.51 0 1.02-.2 1.41-.59l7.78-7.78 2.81-2.81c.8-.78.8-2.07 0-2.86zM5.41 20L4 18.59l7.72-7.72 1.47 1.35L5.41 20z\"/>\n",
       "  </svg>\n",
       "      </button>\n",
       "      \n",
       "  <style>\n",
       "    .colab-df-container {\n",
       "      display:flex;\n",
       "      flex-wrap:wrap;\n",
       "      gap: 12px;\n",
       "    }\n",
       "\n",
       "    .colab-df-convert {\n",
       "      background-color: #E8F0FE;\n",
       "      border: none;\n",
       "      border-radius: 50%;\n",
       "      cursor: pointer;\n",
       "      display: none;\n",
       "      fill: #1967D2;\n",
       "      height: 32px;\n",
       "      padding: 0 0 0 0;\n",
       "      width: 32px;\n",
       "    }\n",
       "\n",
       "    .colab-df-convert:hover {\n",
       "      background-color: #E2EBFA;\n",
       "      box-shadow: 0px 1px 2px rgba(60, 64, 67, 0.3), 0px 1px 3px 1px rgba(60, 64, 67, 0.15);\n",
       "      fill: #174EA6;\n",
       "    }\n",
       "\n",
       "    [theme=dark] .colab-df-convert {\n",
       "      background-color: #3B4455;\n",
       "      fill: #D2E3FC;\n",
       "    }\n",
       "\n",
       "    [theme=dark] .colab-df-convert:hover {\n",
       "      background-color: #434B5C;\n",
       "      box-shadow: 0px 1px 3px 1px rgba(0, 0, 0, 0.15);\n",
       "      filter: drop-shadow(0px 1px 2px rgba(0, 0, 0, 0.3));\n",
       "      fill: #FFFFFF;\n",
       "    }\n",
       "  </style>\n",
       "\n",
       "      <script>\n",
       "        const buttonEl =\n",
       "          document.querySelector('#df-cfa0b060-4ca9-4e41-a557-c2e1b7ad05bf button.colab-df-convert');\n",
       "        buttonEl.style.display =\n",
       "          google.colab.kernel.accessAllowed ? 'block' : 'none';\n",
       "\n",
       "        async function convertToInteractive(key) {\n",
       "          const element = document.querySelector('#df-cfa0b060-4ca9-4e41-a557-c2e1b7ad05bf');\n",
       "          const dataTable =\n",
       "            await google.colab.kernel.invokeFunction('convertToInteractive',\n",
       "                                                     [key], {});\n",
       "          if (!dataTable) return;\n",
       "\n",
       "          const docLinkHtml = 'Like what you see? Visit the ' +\n",
       "            '<a target=\"_blank\" href=https://colab.research.google.com/notebooks/data_table.ipynb>data table notebook</a>'\n",
       "            + ' to learn more about interactive tables.';\n",
       "          element.innerHTML = '';\n",
       "          dataTable['output_type'] = 'display_data';\n",
       "          await google.colab.output.renderOutput(dataTable, element);\n",
       "          const docLink = document.createElement('div');\n",
       "          docLink.innerHTML = docLinkHtml;\n",
       "          element.appendChild(docLink);\n",
       "        }\n",
       "      </script>\n",
       "    </div>\n",
       "  </div>\n",
       "  "
      ]
     },
     "metadata": {},
     "execution_count": 25
    }
   ],
   "source": [
    "df_complete.groupby('exp_id')['user_id'].agg(['nunique'])"
   ]
  },
  {
   "cell_type": "markdown",
   "metadata": {
    "id": "X4p8R6wjUOYP"
   },
   "source": [
    "<div style=\"border: solid green 2px; padding: 20px\">\n",
    "\n",
    "**Выводы**\n",
    " * Определили дату, до которой данные были неполными, и сделали срез таблицы с полной информацией за одну неделю.\n",
    " * Нашли общее число событий и пользователей для новых данных (240887 и 7534 соответственно), всего удалено 1,16% событий и 0,23% пользователей.\n",
    " * Проверили, что пользователи есть в каждой группе."
   ]
  },
  {
   "cell_type": "markdown",
   "metadata": {
    "id": "4tCZEXi9UOYP"
   },
   "source": [
    "<a name=\"4\"><h2>4 Исследование воронки событий</h2></a>"
   ]
  },
  {
   "cell_type": "markdown",
   "metadata": {
    "id": "CXoyx1U7UOYP"
   },
   "source": [
    "Подсчитаем количество событий:"
   ]
  },
  {
   "cell_type": "code",
   "execution_count": 26,
   "metadata": {
    "id": "VbDbHUzyUOYP",
    "outputId": "f6417505-a044-4bed-cacf-424b696c2b6e",
    "colab": {
     "base_uri": "https://localhost:8080/"
    }
   },
   "outputs": [
    {
     "output_type": "execute_result",
     "data": {
      "text/plain": [
       "MainScreenAppear           117328\n",
       "OffersScreenAppear          46333\n",
       "CartScreenAppear            42303\n",
       "PaymentScreenSuccessful     33918\n",
       "Tutorial                     1005\n",
       "Name: event_name, dtype: int64"
      ]
     },
     "metadata": {},
     "execution_count": 26
    }
   ],
   "source": [
    "df_complete['event_name'].value_counts()"
   ]
  },
  {
   "cell_type": "markdown",
   "metadata": {
    "id": "cytqU1_NUOYP"
   },
   "source": [
    "Посмотрим, сколько пользователей совершали каждое из событий и рассчитаем долю пользователей, которые хоть раз совершили событие от их общего числа:"
   ]
  },
  {
   "cell_type": "code",
   "execution_count": 27,
   "metadata": {
    "id": "M0J9QdwrUOYP",
    "outputId": "32f508ec-094f-4e30-82ba-20de104ba8d0",
    "colab": {
     "base_uri": "https://localhost:8080/",
     "height": 206
    }
   },
   "outputs": [
    {
     "output_type": "execute_result",
     "data": {
      "text/plain": [
       "                event_name  nunique  percent\n",
       "0         MainScreenAppear     7419    98.47\n",
       "1       OffersScreenAppear     4593    60.96\n",
       "2         CartScreenAppear     3734    49.56\n",
       "3  PaymentScreenSuccessful     3539    46.97\n",
       "4                 Tutorial      840    11.15"
      ],
      "text/html": [
       "\n",
       "  <div id=\"df-df17661c-0acb-4b90-92af-fb405cbd0bba\">\n",
       "    <div class=\"colab-df-container\">\n",
       "      <div>\n",
       "<style scoped>\n",
       "    .dataframe tbody tr th:only-of-type {\n",
       "        vertical-align: middle;\n",
       "    }\n",
       "\n",
       "    .dataframe tbody tr th {\n",
       "        vertical-align: top;\n",
       "    }\n",
       "\n",
       "    .dataframe thead th {\n",
       "        text-align: right;\n",
       "    }\n",
       "</style>\n",
       "<table border=\"1\" class=\"dataframe\">\n",
       "  <thead>\n",
       "    <tr style=\"text-align: right;\">\n",
       "      <th></th>\n",
       "      <th>event_name</th>\n",
       "      <th>nunique</th>\n",
       "      <th>percent</th>\n",
       "    </tr>\n",
       "  </thead>\n",
       "  <tbody>\n",
       "    <tr>\n",
       "      <th>0</th>\n",
       "      <td>MainScreenAppear</td>\n",
       "      <td>7419</td>\n",
       "      <td>98.47</td>\n",
       "    </tr>\n",
       "    <tr>\n",
       "      <th>1</th>\n",
       "      <td>OffersScreenAppear</td>\n",
       "      <td>4593</td>\n",
       "      <td>60.96</td>\n",
       "    </tr>\n",
       "    <tr>\n",
       "      <th>2</th>\n",
       "      <td>CartScreenAppear</td>\n",
       "      <td>3734</td>\n",
       "      <td>49.56</td>\n",
       "    </tr>\n",
       "    <tr>\n",
       "      <th>3</th>\n",
       "      <td>PaymentScreenSuccessful</td>\n",
       "      <td>3539</td>\n",
       "      <td>46.97</td>\n",
       "    </tr>\n",
       "    <tr>\n",
       "      <th>4</th>\n",
       "      <td>Tutorial</td>\n",
       "      <td>840</td>\n",
       "      <td>11.15</td>\n",
       "    </tr>\n",
       "  </tbody>\n",
       "</table>\n",
       "</div>\n",
       "      <button class=\"colab-df-convert\" onclick=\"convertToInteractive('df-df17661c-0acb-4b90-92af-fb405cbd0bba')\"\n",
       "              title=\"Convert this dataframe to an interactive table.\"\n",
       "              style=\"display:none;\">\n",
       "        \n",
       "  <svg xmlns=\"http://www.w3.org/2000/svg\" height=\"24px\"viewBox=\"0 0 24 24\"\n",
       "       width=\"24px\">\n",
       "    <path d=\"M0 0h24v24H0V0z\" fill=\"none\"/>\n",
       "    <path d=\"M18.56 5.44l.94 2.06.94-2.06 2.06-.94-2.06-.94-.94-2.06-.94 2.06-2.06.94zm-11 1L8.5 8.5l.94-2.06 2.06-.94-2.06-.94L8.5 2.5l-.94 2.06-2.06.94zm10 10l.94 2.06.94-2.06 2.06-.94-2.06-.94-.94-2.06-.94 2.06-2.06.94z\"/><path d=\"M17.41 7.96l-1.37-1.37c-.4-.4-.92-.59-1.43-.59-.52 0-1.04.2-1.43.59L10.3 9.45l-7.72 7.72c-.78.78-.78 2.05 0 2.83L4 21.41c.39.39.9.59 1.41.59.51 0 1.02-.2 1.41-.59l7.78-7.78 2.81-2.81c.8-.78.8-2.07 0-2.86zM5.41 20L4 18.59l7.72-7.72 1.47 1.35L5.41 20z\"/>\n",
       "  </svg>\n",
       "      </button>\n",
       "      \n",
       "  <style>\n",
       "    .colab-df-container {\n",
       "      display:flex;\n",
       "      flex-wrap:wrap;\n",
       "      gap: 12px;\n",
       "    }\n",
       "\n",
       "    .colab-df-convert {\n",
       "      background-color: #E8F0FE;\n",
       "      border: none;\n",
       "      border-radius: 50%;\n",
       "      cursor: pointer;\n",
       "      display: none;\n",
       "      fill: #1967D2;\n",
       "      height: 32px;\n",
       "      padding: 0 0 0 0;\n",
       "      width: 32px;\n",
       "    }\n",
       "\n",
       "    .colab-df-convert:hover {\n",
       "      background-color: #E2EBFA;\n",
       "      box-shadow: 0px 1px 2px rgba(60, 64, 67, 0.3), 0px 1px 3px 1px rgba(60, 64, 67, 0.15);\n",
       "      fill: #174EA6;\n",
       "    }\n",
       "\n",
       "    [theme=dark] .colab-df-convert {\n",
       "      background-color: #3B4455;\n",
       "      fill: #D2E3FC;\n",
       "    }\n",
       "\n",
       "    [theme=dark] .colab-df-convert:hover {\n",
       "      background-color: #434B5C;\n",
       "      box-shadow: 0px 1px 3px 1px rgba(0, 0, 0, 0.15);\n",
       "      filter: drop-shadow(0px 1px 2px rgba(0, 0, 0, 0.3));\n",
       "      fill: #FFFFFF;\n",
       "    }\n",
       "  </style>\n",
       "\n",
       "      <script>\n",
       "        const buttonEl =\n",
       "          document.querySelector('#df-df17661c-0acb-4b90-92af-fb405cbd0bba button.colab-df-convert');\n",
       "        buttonEl.style.display =\n",
       "          google.colab.kernel.accessAllowed ? 'block' : 'none';\n",
       "\n",
       "        async function convertToInteractive(key) {\n",
       "          const element = document.querySelector('#df-df17661c-0acb-4b90-92af-fb405cbd0bba');\n",
       "          const dataTable =\n",
       "            await google.colab.kernel.invokeFunction('convertToInteractive',\n",
       "                                                     [key], {});\n",
       "          if (!dataTable) return;\n",
       "\n",
       "          const docLinkHtml = 'Like what you see? Visit the ' +\n",
       "            '<a target=\"_blank\" href=https://colab.research.google.com/notebooks/data_table.ipynb>data table notebook</a>'\n",
       "            + ' to learn more about interactive tables.';\n",
       "          element.innerHTML = '';\n",
       "          dataTable['output_type'] = 'display_data';\n",
       "          await google.colab.output.renderOutput(dataTable, element);\n",
       "          const docLink = document.createElement('div');\n",
       "          docLink.innerHTML = docLinkHtml;\n",
       "          element.appendChild(docLink);\n",
       "        }\n",
       "      </script>\n",
       "    </div>\n",
       "  </div>\n",
       "  "
      ]
     },
     "metadata": {},
     "execution_count": 27
    }
   ],
   "source": [
    "group_unique_users = df_complete.groupby('event_name')['user_id'].agg(['nunique']).sort_values(by='nunique', ascending=False).reset_index()\n",
    "group_unique_users['percent'] = (group_unique_users['nunique']*100/users_count).round(2)\n",
    "group_unique_users"
   ]
  },
  {
   "cell_type": "markdown",
   "metadata": {
    "id": "v6g07LxfUOYQ"
   },
   "source": [
    "Вероятнее всего события проходят в следующей очередности: \n",
    "* MainScreenAppear (главный экран)\n",
    "* OffersScreenAppear (вывод предложений на экране)\n",
    "* CartScreenAppear (корзина)\n",
    "* PaymentScreenSuccessful (оплата)\n",
    "\n",
    "Руководство могут использовать не все пользователи, поэтому событие Tutorial необязательное и не относится к воронке, значит его нужно исключить из расчётов."
   ]
  },
  {
   "cell_type": "markdown",
   "metadata": {
    "id": "9W47j8ryUOYQ"
   },
   "source": [
    "Сделаем срез таблицы group_unique_users:"
   ]
  },
  {
   "cell_type": "code",
   "execution_count": 28,
   "metadata": {
    "id": "chY1iZEPUOYQ"
   },
   "outputs": [],
   "source": [
    "group_unique_users = group_unique_users.query('event_name != \"Tutorial\"')"
   ]
  },
  {
   "cell_type": "markdown",
   "metadata": {
    "id": "IAWDH2jRUOYQ"
   },
   "source": [
    "Построим график воронки событий:"
   ]
  },
  {
   "cell_type": "code",
   "execution_count": 29,
   "metadata": {
    "id": "6hiKeUcvUOYQ",
    "outputId": "0302c174-ba37-477b-bb7e-68cbd27db211",
    "colab": {
     "base_uri": "https://localhost:8080/",
     "height": 542
    }
   },
   "outputs": [
    {
     "output_type": "display_data",
     "data": {
      "text/html": [
       "<html>\n",
       "<head><meta charset=\"utf-8\" /></head>\n",
       "<body>\n",
       "    <div>            <script src=\"https://cdnjs.cloudflare.com/ajax/libs/mathjax/2.7.5/MathJax.js?config=TeX-AMS-MML_SVG\"></script><script type=\"text/javascript\">if (window.MathJax) {MathJax.Hub.Config({SVG: {font: \"STIX-Web\"}});}</script>                <script type=\"text/javascript\">window.PlotlyConfig = {MathJaxConfig: 'local'};</script>\n",
       "        <script src=\"https://cdn.plot.ly/plotly-2.8.3.min.js\"></script>                <div id=\"2c81b5ff-85e2-49b8-bbf9-2b54818b0453\" class=\"plotly-graph-div\" style=\"height:525px; width:100%;\"></div>            <script type=\"text/javascript\">                                    window.PLOTLYENV=window.PLOTLYENV || {};                                    if (document.getElementById(\"2c81b5ff-85e2-49b8-bbf9-2b54818b0453\")) {                    Plotly.newPlot(                        \"2c81b5ff-85e2-49b8-bbf9-2b54818b0453\",                        [{\"textinfo\":\"value+percent initial+percent previous\",\"textposition\":\"inside\",\"texttemplate\":\"%{value}<br>%{percentInitial:.1%}(percent of initial)<br>%{percentPrevious:.1%}(percent of previous)\",\"x\":[7419,4593,3734,3539],\"y\":[\"MainScreenAppear\",\"OffersScreenAppear\",\"CartScreenAppear\",\"PaymentScreenSuccessful\"],\"type\":\"funnel\"}],                        {\"template\":{\"data\":{\"bar\":[{\"error_x\":{\"color\":\"#2a3f5f\"},\"error_y\":{\"color\":\"#2a3f5f\"},\"marker\":{\"line\":{\"color\":\"#E5ECF6\",\"width\":0.5},\"pattern\":{\"fillmode\":\"overlay\",\"size\":10,\"solidity\":0.2}},\"type\":\"bar\"}],\"barpolar\":[{\"marker\":{\"line\":{\"color\":\"#E5ECF6\",\"width\":0.5},\"pattern\":{\"fillmode\":\"overlay\",\"size\":10,\"solidity\":0.2}},\"type\":\"barpolar\"}],\"carpet\":[{\"aaxis\":{\"endlinecolor\":\"#2a3f5f\",\"gridcolor\":\"white\",\"linecolor\":\"white\",\"minorgridcolor\":\"white\",\"startlinecolor\":\"#2a3f5f\"},\"baxis\":{\"endlinecolor\":\"#2a3f5f\",\"gridcolor\":\"white\",\"linecolor\":\"white\",\"minorgridcolor\":\"white\",\"startlinecolor\":\"#2a3f5f\"},\"type\":\"carpet\"}],\"choropleth\":[{\"colorbar\":{\"outlinewidth\":0,\"ticks\":\"\"},\"type\":\"choropleth\"}],\"contour\":[{\"colorbar\":{\"outlinewidth\":0,\"ticks\":\"\"},\"colorscale\":[[0.0,\"#0d0887\"],[0.1111111111111111,\"#46039f\"],[0.2222222222222222,\"#7201a8\"],[0.3333333333333333,\"#9c179e\"],[0.4444444444444444,\"#bd3786\"],[0.5555555555555556,\"#d8576b\"],[0.6666666666666666,\"#ed7953\"],[0.7777777777777778,\"#fb9f3a\"],[0.8888888888888888,\"#fdca26\"],[1.0,\"#f0f921\"]],\"type\":\"contour\"}],\"contourcarpet\":[{\"colorbar\":{\"outlinewidth\":0,\"ticks\":\"\"},\"type\":\"contourcarpet\"}],\"heatmap\":[{\"colorbar\":{\"outlinewidth\":0,\"ticks\":\"\"},\"colorscale\":[[0.0,\"#0d0887\"],[0.1111111111111111,\"#46039f\"],[0.2222222222222222,\"#7201a8\"],[0.3333333333333333,\"#9c179e\"],[0.4444444444444444,\"#bd3786\"],[0.5555555555555556,\"#d8576b\"],[0.6666666666666666,\"#ed7953\"],[0.7777777777777778,\"#fb9f3a\"],[0.8888888888888888,\"#fdca26\"],[1.0,\"#f0f921\"]],\"type\":\"heatmap\"}],\"heatmapgl\":[{\"colorbar\":{\"outlinewidth\":0,\"ticks\":\"\"},\"colorscale\":[[0.0,\"#0d0887\"],[0.1111111111111111,\"#46039f\"],[0.2222222222222222,\"#7201a8\"],[0.3333333333333333,\"#9c179e\"],[0.4444444444444444,\"#bd3786\"],[0.5555555555555556,\"#d8576b\"],[0.6666666666666666,\"#ed7953\"],[0.7777777777777778,\"#fb9f3a\"],[0.8888888888888888,\"#fdca26\"],[1.0,\"#f0f921\"]],\"type\":\"heatmapgl\"}],\"histogram\":[{\"marker\":{\"pattern\":{\"fillmode\":\"overlay\",\"size\":10,\"solidity\":0.2}},\"type\":\"histogram\"}],\"histogram2d\":[{\"colorbar\":{\"outlinewidth\":0,\"ticks\":\"\"},\"colorscale\":[[0.0,\"#0d0887\"],[0.1111111111111111,\"#46039f\"],[0.2222222222222222,\"#7201a8\"],[0.3333333333333333,\"#9c179e\"],[0.4444444444444444,\"#bd3786\"],[0.5555555555555556,\"#d8576b\"],[0.6666666666666666,\"#ed7953\"],[0.7777777777777778,\"#fb9f3a\"],[0.8888888888888888,\"#fdca26\"],[1.0,\"#f0f921\"]],\"type\":\"histogram2d\"}],\"histogram2dcontour\":[{\"colorbar\":{\"outlinewidth\":0,\"ticks\":\"\"},\"colorscale\":[[0.0,\"#0d0887\"],[0.1111111111111111,\"#46039f\"],[0.2222222222222222,\"#7201a8\"],[0.3333333333333333,\"#9c179e\"],[0.4444444444444444,\"#bd3786\"],[0.5555555555555556,\"#d8576b\"],[0.6666666666666666,\"#ed7953\"],[0.7777777777777778,\"#fb9f3a\"],[0.8888888888888888,\"#fdca26\"],[1.0,\"#f0f921\"]],\"type\":\"histogram2dcontour\"}],\"mesh3d\":[{\"colorbar\":{\"outlinewidth\":0,\"ticks\":\"\"},\"type\":\"mesh3d\"}],\"parcoords\":[{\"line\":{\"colorbar\":{\"outlinewidth\":0,\"ticks\":\"\"}},\"type\":\"parcoords\"}],\"pie\":[{\"automargin\":true,\"type\":\"pie\"}],\"scatter\":[{\"marker\":{\"colorbar\":{\"outlinewidth\":0,\"ticks\":\"\"}},\"type\":\"scatter\"}],\"scatter3d\":[{\"line\":{\"colorbar\":{\"outlinewidth\":0,\"ticks\":\"\"}},\"marker\":{\"colorbar\":{\"outlinewidth\":0,\"ticks\":\"\"}},\"type\":\"scatter3d\"}],\"scattercarpet\":[{\"marker\":{\"colorbar\":{\"outlinewidth\":0,\"ticks\":\"\"}},\"type\":\"scattercarpet\"}],\"scattergeo\":[{\"marker\":{\"colorbar\":{\"outlinewidth\":0,\"ticks\":\"\"}},\"type\":\"scattergeo\"}],\"scattergl\":[{\"marker\":{\"colorbar\":{\"outlinewidth\":0,\"ticks\":\"\"}},\"type\":\"scattergl\"}],\"scattermapbox\":[{\"marker\":{\"colorbar\":{\"outlinewidth\":0,\"ticks\":\"\"}},\"type\":\"scattermapbox\"}],\"scatterpolar\":[{\"marker\":{\"colorbar\":{\"outlinewidth\":0,\"ticks\":\"\"}},\"type\":\"scatterpolar\"}],\"scatterpolargl\":[{\"marker\":{\"colorbar\":{\"outlinewidth\":0,\"ticks\":\"\"}},\"type\":\"scatterpolargl\"}],\"scatterternary\":[{\"marker\":{\"colorbar\":{\"outlinewidth\":0,\"ticks\":\"\"}},\"type\":\"scatterternary\"}],\"surface\":[{\"colorbar\":{\"outlinewidth\":0,\"ticks\":\"\"},\"colorscale\":[[0.0,\"#0d0887\"],[0.1111111111111111,\"#46039f\"],[0.2222222222222222,\"#7201a8\"],[0.3333333333333333,\"#9c179e\"],[0.4444444444444444,\"#bd3786\"],[0.5555555555555556,\"#d8576b\"],[0.6666666666666666,\"#ed7953\"],[0.7777777777777778,\"#fb9f3a\"],[0.8888888888888888,\"#fdca26\"],[1.0,\"#f0f921\"]],\"type\":\"surface\"}],\"table\":[{\"cells\":{\"fill\":{\"color\":\"#EBF0F8\"},\"line\":{\"color\":\"white\"}},\"header\":{\"fill\":{\"color\":\"#C8D4E3\"},\"line\":{\"color\":\"white\"}},\"type\":\"table\"}]},\"layout\":{\"annotationdefaults\":{\"arrowcolor\":\"#2a3f5f\",\"arrowhead\":0,\"arrowwidth\":1},\"autotypenumbers\":\"strict\",\"coloraxis\":{\"colorbar\":{\"outlinewidth\":0,\"ticks\":\"\"}},\"colorscale\":{\"diverging\":[[0,\"#8e0152\"],[0.1,\"#c51b7d\"],[0.2,\"#de77ae\"],[0.3,\"#f1b6da\"],[0.4,\"#fde0ef\"],[0.5,\"#f7f7f7\"],[0.6,\"#e6f5d0\"],[0.7,\"#b8e186\"],[0.8,\"#7fbc41\"],[0.9,\"#4d9221\"],[1,\"#276419\"]],\"sequential\":[[0.0,\"#0d0887\"],[0.1111111111111111,\"#46039f\"],[0.2222222222222222,\"#7201a8\"],[0.3333333333333333,\"#9c179e\"],[0.4444444444444444,\"#bd3786\"],[0.5555555555555556,\"#d8576b\"],[0.6666666666666666,\"#ed7953\"],[0.7777777777777778,\"#fb9f3a\"],[0.8888888888888888,\"#fdca26\"],[1.0,\"#f0f921\"]],\"sequentialminus\":[[0.0,\"#0d0887\"],[0.1111111111111111,\"#46039f\"],[0.2222222222222222,\"#7201a8\"],[0.3333333333333333,\"#9c179e\"],[0.4444444444444444,\"#bd3786\"],[0.5555555555555556,\"#d8576b\"],[0.6666666666666666,\"#ed7953\"],[0.7777777777777778,\"#fb9f3a\"],[0.8888888888888888,\"#fdca26\"],[1.0,\"#f0f921\"]]},\"colorway\":[\"#636efa\",\"#EF553B\",\"#00cc96\",\"#ab63fa\",\"#FFA15A\",\"#19d3f3\",\"#FF6692\",\"#B6E880\",\"#FF97FF\",\"#FECB52\"],\"font\":{\"color\":\"#2a3f5f\"},\"geo\":{\"bgcolor\":\"white\",\"lakecolor\":\"white\",\"landcolor\":\"#E5ECF6\",\"showlakes\":true,\"showland\":true,\"subunitcolor\":\"white\"},\"hoverlabel\":{\"align\":\"left\"},\"hovermode\":\"closest\",\"mapbox\":{\"style\":\"light\"},\"paper_bgcolor\":\"white\",\"plot_bgcolor\":\"#E5ECF6\",\"polar\":{\"angularaxis\":{\"gridcolor\":\"white\",\"linecolor\":\"white\",\"ticks\":\"\"},\"bgcolor\":\"#E5ECF6\",\"radialaxis\":{\"gridcolor\":\"white\",\"linecolor\":\"white\",\"ticks\":\"\"}},\"scene\":{\"xaxis\":{\"backgroundcolor\":\"#E5ECF6\",\"gridcolor\":\"white\",\"gridwidth\":2,\"linecolor\":\"white\",\"showbackground\":true,\"ticks\":\"\",\"zerolinecolor\":\"white\"},\"yaxis\":{\"backgroundcolor\":\"#E5ECF6\",\"gridcolor\":\"white\",\"gridwidth\":2,\"linecolor\":\"white\",\"showbackground\":true,\"ticks\":\"\",\"zerolinecolor\":\"white\"},\"zaxis\":{\"backgroundcolor\":\"#E5ECF6\",\"gridcolor\":\"white\",\"gridwidth\":2,\"linecolor\":\"white\",\"showbackground\":true,\"ticks\":\"\",\"zerolinecolor\":\"white\"}},\"shapedefaults\":{\"line\":{\"color\":\"#2a3f5f\"}},\"ternary\":{\"aaxis\":{\"gridcolor\":\"white\",\"linecolor\":\"white\",\"ticks\":\"\"},\"baxis\":{\"gridcolor\":\"white\",\"linecolor\":\"white\",\"ticks\":\"\"},\"bgcolor\":\"#E5ECF6\",\"caxis\":{\"gridcolor\":\"white\",\"linecolor\":\"white\",\"ticks\":\"\"}},\"title\":{\"x\":0.05},\"xaxis\":{\"automargin\":true,\"gridcolor\":\"white\",\"linecolor\":\"white\",\"ticks\":\"\",\"title\":{\"standoff\":15},\"zerolinecolor\":\"white\",\"zerolinewidth\":2},\"yaxis\":{\"automargin\":true,\"gridcolor\":\"white\",\"linecolor\":\"white\",\"ticks\":\"\",\"title\":{\"standoff\":15},\"zerolinecolor\":\"white\",\"zerolinewidth\":2}}},\"title\":{\"text\":\"\\u0412\\u043e\\u0440\\u043e\\u043d\\u043a\\u0430 \\u0441\\u043e\\u0431\\u044b\\u0442\\u0438\\u0439\"}},                        {\"responsive\": true}                    ).then(function(){\n",
       "                            \n",
       "var gd = document.getElementById('2c81b5ff-85e2-49b8-bbf9-2b54818b0453');\n",
       "var x = new MutationObserver(function (mutations, observer) {{\n",
       "        var display = window.getComputedStyle(gd).display;\n",
       "        if (!display || display === 'none') {{\n",
       "            console.log([gd, 'removed!']);\n",
       "            Plotly.purge(gd);\n",
       "            observer.disconnect();\n",
       "        }}\n",
       "}});\n",
       "\n",
       "// Listen for the removal of the full notebook cells\n",
       "var notebookContainer = gd.closest('#notebook-container');\n",
       "if (notebookContainer) {{\n",
       "    x.observe(notebookContainer, {childList: true});\n",
       "}}\n",
       "\n",
       "// Listen for the clearing of the current output cell\n",
       "var outputEl = gd.closest('.output');\n",
       "if (outputEl) {{\n",
       "    x.observe(outputEl, {childList: true});\n",
       "}}\n",
       "\n",
       "                        })                };                            </script>        </div>\n",
       "</body>\n",
       "</html>"
      ]
     },
     "metadata": {}
    }
   ],
   "source": [
    "fig = go.Figure(\n",
    "    go.Funnel(y=group_unique_users['event_name'],\n",
    "              x=group_unique_users['nunique'], textposition = \"inside\",\n",
    "              textinfo = \"value+percent initial+percent previous\",\n",
    "              texttemplate = \"%{value}<br>%{percentInitial:.1%}(percent of initial)<br>%{percentPrevious:.1%}(percent of previous)\",))\n",
    "fig.update_layout(title=\"Воронка событий\")\n",
    "fig.show()"
   ]
  },
  {
   "cell_type": "markdown",
   "metadata": {
    "id": "vcIZDQYvUOYQ"
   },
   "source": [
    "<div style=\"border: solid green 2px; padding: 20px\">\n",
    "\n",
    "**Выводы**\n",
    "    \n",
    "Больше всего пользователей (38,1%) теряется на втором шаге при переходе с главного экрана в каталог предложений. До оплаты доходит 47,7% пользователей.\n",
    "\n",
    "Также вывели на графике долю пользователей, которые переходят на следующий шаг от числа пользователей на предыдущем шаге:\n",
    "* С главного экрана (MainScreenAppear) в каталог (OffersScreenAppear) переходит 61,9%\n",
    "* Из каталога (OffersScreenAppear) в корзину (CartScreenAppear) переходит 81,3%\n",
    "* Из корзины (CartScreenAppear) к оплате (PaymentScreenSuccessful) переходит 94,8%  "
   ]
  },
  {
   "cell_type": "markdown",
   "metadata": {
    "id": "J9nmT-6NUOYR"
   },
   "source": [
    "<a name=\"5\"><h2>5 Исследование результатов эксперимента</h2></a>"
   ]
  },
  {
   "cell_type": "markdown",
   "metadata": {
    "id": "s_CjE1k4UOYR"
   },
   "source": [
    "<a name=\"5.1\"><h3>5.1 Число пользователей в группах</h3></a>"
   ]
  },
  {
   "cell_type": "markdown",
   "metadata": {
    "id": "IbCi8fHvUOYR"
   },
   "source": [
    "Создадим таблицу с количеством уникальных пользователей в каждой экспериментальной группе:"
   ]
  },
  {
   "cell_type": "code",
   "execution_count": 30,
   "metadata": {
    "id": "GwmFLn9HUOYR",
    "outputId": "3ba17bb7-7694-4cd4-9d7d-f94880574a16",
    "colab": {
     "base_uri": "https://localhost:8080/",
     "height": 175
    }
   },
   "outputs": [
    {
     "output_type": "execute_result",
     "data": {
      "text/plain": [
       "        user_id\n",
       "exp_id         \n",
       "246        2484\n",
       "247        2513\n",
       "248        2537"
      ],
      "text/html": [
       "\n",
       "  <div id=\"df-4fb92d0c-e254-43e6-9144-a777467e02b0\">\n",
       "    <div class=\"colab-df-container\">\n",
       "      <div>\n",
       "<style scoped>\n",
       "    .dataframe tbody tr th:only-of-type {\n",
       "        vertical-align: middle;\n",
       "    }\n",
       "\n",
       "    .dataframe tbody tr th {\n",
       "        vertical-align: top;\n",
       "    }\n",
       "\n",
       "    .dataframe thead th {\n",
       "        text-align: right;\n",
       "    }\n",
       "</style>\n",
       "<table border=\"1\" class=\"dataframe\">\n",
       "  <thead>\n",
       "    <tr style=\"text-align: right;\">\n",
       "      <th></th>\n",
       "      <th>user_id</th>\n",
       "    </tr>\n",
       "    <tr>\n",
       "      <th>exp_id</th>\n",
       "      <th></th>\n",
       "    </tr>\n",
       "  </thead>\n",
       "  <tbody>\n",
       "    <tr>\n",
       "      <th>246</th>\n",
       "      <td>2484</td>\n",
       "    </tr>\n",
       "    <tr>\n",
       "      <th>247</th>\n",
       "      <td>2513</td>\n",
       "    </tr>\n",
       "    <tr>\n",
       "      <th>248</th>\n",
       "      <td>2537</td>\n",
       "    </tr>\n",
       "  </tbody>\n",
       "</table>\n",
       "</div>\n",
       "      <button class=\"colab-df-convert\" onclick=\"convertToInteractive('df-4fb92d0c-e254-43e6-9144-a777467e02b0')\"\n",
       "              title=\"Convert this dataframe to an interactive table.\"\n",
       "              style=\"display:none;\">\n",
       "        \n",
       "  <svg xmlns=\"http://www.w3.org/2000/svg\" height=\"24px\"viewBox=\"0 0 24 24\"\n",
       "       width=\"24px\">\n",
       "    <path d=\"M0 0h24v24H0V0z\" fill=\"none\"/>\n",
       "    <path d=\"M18.56 5.44l.94 2.06.94-2.06 2.06-.94-2.06-.94-.94-2.06-.94 2.06-2.06.94zm-11 1L8.5 8.5l.94-2.06 2.06-.94-2.06-.94L8.5 2.5l-.94 2.06-2.06.94zm10 10l.94 2.06.94-2.06 2.06-.94-2.06-.94-.94-2.06-.94 2.06-2.06.94z\"/><path d=\"M17.41 7.96l-1.37-1.37c-.4-.4-.92-.59-1.43-.59-.52 0-1.04.2-1.43.59L10.3 9.45l-7.72 7.72c-.78.78-.78 2.05 0 2.83L4 21.41c.39.39.9.59 1.41.59.51 0 1.02-.2 1.41-.59l7.78-7.78 2.81-2.81c.8-.78.8-2.07 0-2.86zM5.41 20L4 18.59l7.72-7.72 1.47 1.35L5.41 20z\"/>\n",
       "  </svg>\n",
       "      </button>\n",
       "      \n",
       "  <style>\n",
       "    .colab-df-container {\n",
       "      display:flex;\n",
       "      flex-wrap:wrap;\n",
       "      gap: 12px;\n",
       "    }\n",
       "\n",
       "    .colab-df-convert {\n",
       "      background-color: #E8F0FE;\n",
       "      border: none;\n",
       "      border-radius: 50%;\n",
       "      cursor: pointer;\n",
       "      display: none;\n",
       "      fill: #1967D2;\n",
       "      height: 32px;\n",
       "      padding: 0 0 0 0;\n",
       "      width: 32px;\n",
       "    }\n",
       "\n",
       "    .colab-df-convert:hover {\n",
       "      background-color: #E2EBFA;\n",
       "      box-shadow: 0px 1px 2px rgba(60, 64, 67, 0.3), 0px 1px 3px 1px rgba(60, 64, 67, 0.15);\n",
       "      fill: #174EA6;\n",
       "    }\n",
       "\n",
       "    [theme=dark] .colab-df-convert {\n",
       "      background-color: #3B4455;\n",
       "      fill: #D2E3FC;\n",
       "    }\n",
       "\n",
       "    [theme=dark] .colab-df-convert:hover {\n",
       "      background-color: #434B5C;\n",
       "      box-shadow: 0px 1px 3px 1px rgba(0, 0, 0, 0.15);\n",
       "      filter: drop-shadow(0px 1px 2px rgba(0, 0, 0, 0.3));\n",
       "      fill: #FFFFFF;\n",
       "    }\n",
       "  </style>\n",
       "\n",
       "      <script>\n",
       "        const buttonEl =\n",
       "          document.querySelector('#df-4fb92d0c-e254-43e6-9144-a777467e02b0 button.colab-df-convert');\n",
       "        buttonEl.style.display =\n",
       "          google.colab.kernel.accessAllowed ? 'block' : 'none';\n",
       "\n",
       "        async function convertToInteractive(key) {\n",
       "          const element = document.querySelector('#df-4fb92d0c-e254-43e6-9144-a777467e02b0');\n",
       "          const dataTable =\n",
       "            await google.colab.kernel.invokeFunction('convertToInteractive',\n",
       "                                                     [key], {});\n",
       "          if (!dataTable) return;\n",
       "\n",
       "          const docLinkHtml = 'Like what you see? Visit the ' +\n",
       "            '<a target=\"_blank\" href=https://colab.research.google.com/notebooks/data_table.ipynb>data table notebook</a>'\n",
       "            + ' to learn more about interactive tables.';\n",
       "          element.innerHTML = '';\n",
       "          dataTable['output_type'] = 'display_data';\n",
       "          await google.colab.output.renderOutput(dataTable, element);\n",
       "          const docLink = document.createElement('div');\n",
       "          docLink.innerHTML = docLinkHtml;\n",
       "          element.appendChild(docLink);\n",
       "        }\n",
       "      </script>\n",
       "    </div>\n",
       "  </div>\n",
       "  "
      ]
     },
     "metadata": {},
     "execution_count": 30
    }
   ],
   "source": [
    "exp_group = df_complete.groupby('exp_id').agg({'user_id' : 'nunique'})\n",
    "exp_group"
   ]
  },
  {
   "cell_type": "markdown",
   "metadata": {
    "id": "AYJAOiJNUOYR"
   },
   "source": [
    "Добавим в таблицу строчку с общей суммой контрольных групп:"
   ]
  },
  {
   "cell_type": "code",
   "execution_count": 31,
   "metadata": {
    "id": "el8SsbqmUOYR"
   },
   "outputs": [],
   "source": [
    "new_row = pd.Series(data={'user_id':exp_group.iloc[0,0] + exp_group.iloc[1,0]}, name='246+247')\n",
    "exp_group = exp_group.append(new_row, ignore_index=False)"
   ]
  },
  {
   "cell_type": "markdown",
   "metadata": {
    "id": "nCL4CEQjUOYR"
   },
   "source": [
    "Заменим формат столбца с индексами на формат строки:"
   ]
  },
  {
   "cell_type": "code",
   "execution_count": 32,
   "metadata": {
    "id": "_irHFJ3eUOYR"
   },
   "outputs": [],
   "source": [
    "exp_group.index = exp_group.index.astype(str)"
   ]
  },
  {
   "cell_type": "markdown",
   "metadata": {
    "id": "6yIyF-6_UOYR"
   },
   "source": [
    "Проверим таблицу:"
   ]
  },
  {
   "cell_type": "code",
   "execution_count": 33,
   "metadata": {
    "id": "W53XL4IuUOYR",
    "outputId": "b8943c10-ae74-49ff-9265-3d0355ce2cdd",
    "colab": {
     "base_uri": "https://localhost:8080/",
     "height": 206
    }
   },
   "outputs": [
    {
     "output_type": "execute_result",
     "data": {
      "text/plain": [
       "         user_id\n",
       "exp_id          \n",
       "246         2484\n",
       "247         2513\n",
       "248         2537\n",
       "246+247     4997"
      ],
      "text/html": [
       "\n",
       "  <div id=\"df-beea0e4d-3e11-4b6d-8a1f-d9dbb1e9b7ec\">\n",
       "    <div class=\"colab-df-container\">\n",
       "      <div>\n",
       "<style scoped>\n",
       "    .dataframe tbody tr th:only-of-type {\n",
       "        vertical-align: middle;\n",
       "    }\n",
       "\n",
       "    .dataframe tbody tr th {\n",
       "        vertical-align: top;\n",
       "    }\n",
       "\n",
       "    .dataframe thead th {\n",
       "        text-align: right;\n",
       "    }\n",
       "</style>\n",
       "<table border=\"1\" class=\"dataframe\">\n",
       "  <thead>\n",
       "    <tr style=\"text-align: right;\">\n",
       "      <th></th>\n",
       "      <th>user_id</th>\n",
       "    </tr>\n",
       "    <tr>\n",
       "      <th>exp_id</th>\n",
       "      <th></th>\n",
       "    </tr>\n",
       "  </thead>\n",
       "  <tbody>\n",
       "    <tr>\n",
       "      <th>246</th>\n",
       "      <td>2484</td>\n",
       "    </tr>\n",
       "    <tr>\n",
       "      <th>247</th>\n",
       "      <td>2513</td>\n",
       "    </tr>\n",
       "    <tr>\n",
       "      <th>248</th>\n",
       "      <td>2537</td>\n",
       "    </tr>\n",
       "    <tr>\n",
       "      <th>246+247</th>\n",
       "      <td>4997</td>\n",
       "    </tr>\n",
       "  </tbody>\n",
       "</table>\n",
       "</div>\n",
       "      <button class=\"colab-df-convert\" onclick=\"convertToInteractive('df-beea0e4d-3e11-4b6d-8a1f-d9dbb1e9b7ec')\"\n",
       "              title=\"Convert this dataframe to an interactive table.\"\n",
       "              style=\"display:none;\">\n",
       "        \n",
       "  <svg xmlns=\"http://www.w3.org/2000/svg\" height=\"24px\"viewBox=\"0 0 24 24\"\n",
       "       width=\"24px\">\n",
       "    <path d=\"M0 0h24v24H0V0z\" fill=\"none\"/>\n",
       "    <path d=\"M18.56 5.44l.94 2.06.94-2.06 2.06-.94-2.06-.94-.94-2.06-.94 2.06-2.06.94zm-11 1L8.5 8.5l.94-2.06 2.06-.94-2.06-.94L8.5 2.5l-.94 2.06-2.06.94zm10 10l.94 2.06.94-2.06 2.06-.94-2.06-.94-.94-2.06-.94 2.06-2.06.94z\"/><path d=\"M17.41 7.96l-1.37-1.37c-.4-.4-.92-.59-1.43-.59-.52 0-1.04.2-1.43.59L10.3 9.45l-7.72 7.72c-.78.78-.78 2.05 0 2.83L4 21.41c.39.39.9.59 1.41.59.51 0 1.02-.2 1.41-.59l7.78-7.78 2.81-2.81c.8-.78.8-2.07 0-2.86zM5.41 20L4 18.59l7.72-7.72 1.47 1.35L5.41 20z\"/>\n",
       "  </svg>\n",
       "      </button>\n",
       "      \n",
       "  <style>\n",
       "    .colab-df-container {\n",
       "      display:flex;\n",
       "      flex-wrap:wrap;\n",
       "      gap: 12px;\n",
       "    }\n",
       "\n",
       "    .colab-df-convert {\n",
       "      background-color: #E8F0FE;\n",
       "      border: none;\n",
       "      border-radius: 50%;\n",
       "      cursor: pointer;\n",
       "      display: none;\n",
       "      fill: #1967D2;\n",
       "      height: 32px;\n",
       "      padding: 0 0 0 0;\n",
       "      width: 32px;\n",
       "    }\n",
       "\n",
       "    .colab-df-convert:hover {\n",
       "      background-color: #E2EBFA;\n",
       "      box-shadow: 0px 1px 2px rgba(60, 64, 67, 0.3), 0px 1px 3px 1px rgba(60, 64, 67, 0.15);\n",
       "      fill: #174EA6;\n",
       "    }\n",
       "\n",
       "    [theme=dark] .colab-df-convert {\n",
       "      background-color: #3B4455;\n",
       "      fill: #D2E3FC;\n",
       "    }\n",
       "\n",
       "    [theme=dark] .colab-df-convert:hover {\n",
       "      background-color: #434B5C;\n",
       "      box-shadow: 0px 1px 3px 1px rgba(0, 0, 0, 0.15);\n",
       "      filter: drop-shadow(0px 1px 2px rgba(0, 0, 0, 0.3));\n",
       "      fill: #FFFFFF;\n",
       "    }\n",
       "  </style>\n",
       "\n",
       "      <script>\n",
       "        const buttonEl =\n",
       "          document.querySelector('#df-beea0e4d-3e11-4b6d-8a1f-d9dbb1e9b7ec button.colab-df-convert');\n",
       "        buttonEl.style.display =\n",
       "          google.colab.kernel.accessAllowed ? 'block' : 'none';\n",
       "\n",
       "        async function convertToInteractive(key) {\n",
       "          const element = document.querySelector('#df-beea0e4d-3e11-4b6d-8a1f-d9dbb1e9b7ec');\n",
       "          const dataTable =\n",
       "            await google.colab.kernel.invokeFunction('convertToInteractive',\n",
       "                                                     [key], {});\n",
       "          if (!dataTable) return;\n",
       "\n",
       "          const docLinkHtml = 'Like what you see? Visit the ' +\n",
       "            '<a target=\"_blank\" href=https://colab.research.google.com/notebooks/data_table.ipynb>data table notebook</a>'\n",
       "            + ' to learn more about interactive tables.';\n",
       "          element.innerHTML = '';\n",
       "          dataTable['output_type'] = 'display_data';\n",
       "          await google.colab.output.renderOutput(dataTable, element);\n",
       "          const docLink = document.createElement('div');\n",
       "          docLink.innerHTML = docLinkHtml;\n",
       "          element.appendChild(docLink);\n",
       "        }\n",
       "      </script>\n",
       "    </div>\n",
       "  </div>\n",
       "  "
      ]
     },
     "metadata": {},
     "execution_count": 33
    }
   ],
   "source": [
    "exp_group"
   ]
  },
  {
   "cell_type": "markdown",
   "metadata": {
    "id": "c15-5rotUOYS"
   },
   "source": [
    "Проверим, есть ли пользователи, которые попали в разные группы:"
   ]
  },
  {
   "cell_type": "code",
   "execution_count": 34,
   "metadata": {
    "id": "8yI0yAf2UOYS",
    "outputId": "82d49b23-9e20-4bb4-98a5-f0eba6aadc8c",
    "colab": {
     "base_uri": "https://localhost:8080/",
     "height": 49
    }
   },
   "outputs": [
    {
     "output_type": "execute_result",
     "data": {
      "text/plain": [
       "Empty DataFrame\n",
       "Columns: [user_id, exp_id]\n",
       "Index: []"
      ],
      "text/html": [
       "\n",
       "  <div id=\"df-78d156a1-8da4-42d6-85ad-abefb5e6aa48\">\n",
       "    <div class=\"colab-df-container\">\n",
       "      <div>\n",
       "<style scoped>\n",
       "    .dataframe tbody tr th:only-of-type {\n",
       "        vertical-align: middle;\n",
       "    }\n",
       "\n",
       "    .dataframe tbody tr th {\n",
       "        vertical-align: top;\n",
       "    }\n",
       "\n",
       "    .dataframe thead th {\n",
       "        text-align: right;\n",
       "    }\n",
       "</style>\n",
       "<table border=\"1\" class=\"dataframe\">\n",
       "  <thead>\n",
       "    <tr style=\"text-align: right;\">\n",
       "      <th></th>\n",
       "      <th>user_id</th>\n",
       "      <th>exp_id</th>\n",
       "    </tr>\n",
       "  </thead>\n",
       "  <tbody>\n",
       "  </tbody>\n",
       "</table>\n",
       "</div>\n",
       "      <button class=\"colab-df-convert\" onclick=\"convertToInteractive('df-78d156a1-8da4-42d6-85ad-abefb5e6aa48')\"\n",
       "              title=\"Convert this dataframe to an interactive table.\"\n",
       "              style=\"display:none;\">\n",
       "        \n",
       "  <svg xmlns=\"http://www.w3.org/2000/svg\" height=\"24px\"viewBox=\"0 0 24 24\"\n",
       "       width=\"24px\">\n",
       "    <path d=\"M0 0h24v24H0V0z\" fill=\"none\"/>\n",
       "    <path d=\"M18.56 5.44l.94 2.06.94-2.06 2.06-.94-2.06-.94-.94-2.06-.94 2.06-2.06.94zm-11 1L8.5 8.5l.94-2.06 2.06-.94-2.06-.94L8.5 2.5l-.94 2.06-2.06.94zm10 10l.94 2.06.94-2.06 2.06-.94-2.06-.94-.94-2.06-.94 2.06-2.06.94z\"/><path d=\"M17.41 7.96l-1.37-1.37c-.4-.4-.92-.59-1.43-.59-.52 0-1.04.2-1.43.59L10.3 9.45l-7.72 7.72c-.78.78-.78 2.05 0 2.83L4 21.41c.39.39.9.59 1.41.59.51 0 1.02-.2 1.41-.59l7.78-7.78 2.81-2.81c.8-.78.8-2.07 0-2.86zM5.41 20L4 18.59l7.72-7.72 1.47 1.35L5.41 20z\"/>\n",
       "  </svg>\n",
       "      </button>\n",
       "      \n",
       "  <style>\n",
       "    .colab-df-container {\n",
       "      display:flex;\n",
       "      flex-wrap:wrap;\n",
       "      gap: 12px;\n",
       "    }\n",
       "\n",
       "    .colab-df-convert {\n",
       "      background-color: #E8F0FE;\n",
       "      border: none;\n",
       "      border-radius: 50%;\n",
       "      cursor: pointer;\n",
       "      display: none;\n",
       "      fill: #1967D2;\n",
       "      height: 32px;\n",
       "      padding: 0 0 0 0;\n",
       "      width: 32px;\n",
       "    }\n",
       "\n",
       "    .colab-df-convert:hover {\n",
       "      background-color: #E2EBFA;\n",
       "      box-shadow: 0px 1px 2px rgba(60, 64, 67, 0.3), 0px 1px 3px 1px rgba(60, 64, 67, 0.15);\n",
       "      fill: #174EA6;\n",
       "    }\n",
       "\n",
       "    [theme=dark] .colab-df-convert {\n",
       "      background-color: #3B4455;\n",
       "      fill: #D2E3FC;\n",
       "    }\n",
       "\n",
       "    [theme=dark] .colab-df-convert:hover {\n",
       "      background-color: #434B5C;\n",
       "      box-shadow: 0px 1px 3px 1px rgba(0, 0, 0, 0.15);\n",
       "      filter: drop-shadow(0px 1px 2px rgba(0, 0, 0, 0.3));\n",
       "      fill: #FFFFFF;\n",
       "    }\n",
       "  </style>\n",
       "\n",
       "      <script>\n",
       "        const buttonEl =\n",
       "          document.querySelector('#df-78d156a1-8da4-42d6-85ad-abefb5e6aa48 button.colab-df-convert');\n",
       "        buttonEl.style.display =\n",
       "          google.colab.kernel.accessAllowed ? 'block' : 'none';\n",
       "\n",
       "        async function convertToInteractive(key) {\n",
       "          const element = document.querySelector('#df-78d156a1-8da4-42d6-85ad-abefb5e6aa48');\n",
       "          const dataTable =\n",
       "            await google.colab.kernel.invokeFunction('convertToInteractive',\n",
       "                                                     [key], {});\n",
       "          if (!dataTable) return;\n",
       "\n",
       "          const docLinkHtml = 'Like what you see? Visit the ' +\n",
       "            '<a target=\"_blank\" href=https://colab.research.google.com/notebooks/data_table.ipynb>data table notebook</a>'\n",
       "            + ' to learn more about interactive tables.';\n",
       "          element.innerHTML = '';\n",
       "          dataTable['output_type'] = 'display_data';\n",
       "          await google.colab.output.renderOutput(dataTable, element);\n",
       "          const docLink = document.createElement('div');\n",
       "          docLink.innerHTML = docLinkHtml;\n",
       "          element.appendChild(docLink);\n",
       "        }\n",
       "      </script>\n",
       "    </div>\n",
       "  </div>\n",
       "  "
      ]
     },
     "metadata": {},
     "execution_count": 34
    }
   ],
   "source": [
    "dubl_users = df_complete.drop_duplicates(subset=['user_id', 'exp_id'])\n",
    "dubl_users = dubl_users.groupby('user_id', as_index=False)['exp_id'].count().query('exp_id >= 2')\n",
    "dubl_users"
   ]
  },
  {
   "cell_type": "markdown",
   "metadata": {
    "id": "4KVuRZs2UOYS"
   },
   "source": [
    "Задублированных пользователей нет."
   ]
  },
  {
   "cell_type": "markdown",
   "metadata": {
    "id": "W9NHuMWoUOYS"
   },
   "source": [
    "<a name=\"5.2\"><h3>5.2 Проверка разницы между выборками A/A</h3></a>"
   ]
  },
  {
   "cell_type": "markdown",
   "metadata": {
    "id": "ob9LMagsUOYS"
   },
   "source": [
    "Для проверки, существует ли разница в долях между выборками, сформулируем гипотезы:\n",
    "\n",
    "* H₀: различий в долях между группами нет.\n",
    "* H₁: между долями есть разница."
   ]
  },
  {
   "cell_type": "markdown",
   "metadata": {
    "id": "pY3WyJsQUOYT"
   },
   "source": [
    "Сделаем срез таблицы df_complete, исключив событие \"Tutorial\":"
   ]
  },
  {
   "cell_type": "code",
   "execution_count": 35,
   "metadata": {
    "id": "az6FZqhyUOYT"
   },
   "outputs": [],
   "source": [
    "df_complete = df_complete.query('event_name != \"Tutorial\"')"
   ]
  },
  {
   "cell_type": "markdown",
   "metadata": {
    "id": "b9Slemn3UOYT"
   },
   "source": [
    "Создадим сводную таблицу для сравнения групп по событиям:"
   ]
  },
  {
   "cell_type": "code",
   "execution_count": 36,
   "metadata": {
    "id": "W4OBJF2uUOYT",
    "outputId": "7fa4dcea-12aa-442f-8b7d-4cb12a3dddbd",
    "colab": {
     "base_uri": "https://localhost:8080/",
     "height": 206
    }
   },
   "outputs": [
    {
     "output_type": "execute_result",
     "data": {
      "text/plain": [
       "                          246   247   248  246+247\n",
       "event_name                                        \n",
       "MainScreenAppear         2450  2476  2493     4926\n",
       "OffersScreenAppear       1542  1520  1531     3062\n",
       "CartScreenAppear         1266  1238  1230     2504\n",
       "PaymentScreenSuccessful  1200  1158  1181     2358"
      ],
      "text/html": [
       "\n",
       "  <div id=\"df-4731e2d5-b345-4dd9-84d5-0bda2713718c\">\n",
       "    <div class=\"colab-df-container\">\n",
       "      <div>\n",
       "<style scoped>\n",
       "    .dataframe tbody tr th:only-of-type {\n",
       "        vertical-align: middle;\n",
       "    }\n",
       "\n",
       "    .dataframe tbody tr th {\n",
       "        vertical-align: top;\n",
       "    }\n",
       "\n",
       "    .dataframe thead th {\n",
       "        text-align: right;\n",
       "    }\n",
       "</style>\n",
       "<table border=\"1\" class=\"dataframe\">\n",
       "  <thead>\n",
       "    <tr style=\"text-align: right;\">\n",
       "      <th></th>\n",
       "      <th>246</th>\n",
       "      <th>247</th>\n",
       "      <th>248</th>\n",
       "      <th>246+247</th>\n",
       "    </tr>\n",
       "    <tr>\n",
       "      <th>event_name</th>\n",
       "      <th></th>\n",
       "      <th></th>\n",
       "      <th></th>\n",
       "      <th></th>\n",
       "    </tr>\n",
       "  </thead>\n",
       "  <tbody>\n",
       "    <tr>\n",
       "      <th>MainScreenAppear</th>\n",
       "      <td>2450</td>\n",
       "      <td>2476</td>\n",
       "      <td>2493</td>\n",
       "      <td>4926</td>\n",
       "    </tr>\n",
       "    <tr>\n",
       "      <th>OffersScreenAppear</th>\n",
       "      <td>1542</td>\n",
       "      <td>1520</td>\n",
       "      <td>1531</td>\n",
       "      <td>3062</td>\n",
       "    </tr>\n",
       "    <tr>\n",
       "      <th>CartScreenAppear</th>\n",
       "      <td>1266</td>\n",
       "      <td>1238</td>\n",
       "      <td>1230</td>\n",
       "      <td>2504</td>\n",
       "    </tr>\n",
       "    <tr>\n",
       "      <th>PaymentScreenSuccessful</th>\n",
       "      <td>1200</td>\n",
       "      <td>1158</td>\n",
       "      <td>1181</td>\n",
       "      <td>2358</td>\n",
       "    </tr>\n",
       "  </tbody>\n",
       "</table>\n",
       "</div>\n",
       "      <button class=\"colab-df-convert\" onclick=\"convertToInteractive('df-4731e2d5-b345-4dd9-84d5-0bda2713718c')\"\n",
       "              title=\"Convert this dataframe to an interactive table.\"\n",
       "              style=\"display:none;\">\n",
       "        \n",
       "  <svg xmlns=\"http://www.w3.org/2000/svg\" height=\"24px\"viewBox=\"0 0 24 24\"\n",
       "       width=\"24px\">\n",
       "    <path d=\"M0 0h24v24H0V0z\" fill=\"none\"/>\n",
       "    <path d=\"M18.56 5.44l.94 2.06.94-2.06 2.06-.94-2.06-.94-.94-2.06-.94 2.06-2.06.94zm-11 1L8.5 8.5l.94-2.06 2.06-.94-2.06-.94L8.5 2.5l-.94 2.06-2.06.94zm10 10l.94 2.06.94-2.06 2.06-.94-2.06-.94-.94-2.06-.94 2.06-2.06.94z\"/><path d=\"M17.41 7.96l-1.37-1.37c-.4-.4-.92-.59-1.43-.59-.52 0-1.04.2-1.43.59L10.3 9.45l-7.72 7.72c-.78.78-.78 2.05 0 2.83L4 21.41c.39.39.9.59 1.41.59.51 0 1.02-.2 1.41-.59l7.78-7.78 2.81-2.81c.8-.78.8-2.07 0-2.86zM5.41 20L4 18.59l7.72-7.72 1.47 1.35L5.41 20z\"/>\n",
       "  </svg>\n",
       "      </button>\n",
       "      \n",
       "  <style>\n",
       "    .colab-df-container {\n",
       "      display:flex;\n",
       "      flex-wrap:wrap;\n",
       "      gap: 12px;\n",
       "    }\n",
       "\n",
       "    .colab-df-convert {\n",
       "      background-color: #E8F0FE;\n",
       "      border: none;\n",
       "      border-radius: 50%;\n",
       "      cursor: pointer;\n",
       "      display: none;\n",
       "      fill: #1967D2;\n",
       "      height: 32px;\n",
       "      padding: 0 0 0 0;\n",
       "      width: 32px;\n",
       "    }\n",
       "\n",
       "    .colab-df-convert:hover {\n",
       "      background-color: #E2EBFA;\n",
       "      box-shadow: 0px 1px 2px rgba(60, 64, 67, 0.3), 0px 1px 3px 1px rgba(60, 64, 67, 0.15);\n",
       "      fill: #174EA6;\n",
       "    }\n",
       "\n",
       "    [theme=dark] .colab-df-convert {\n",
       "      background-color: #3B4455;\n",
       "      fill: #D2E3FC;\n",
       "    }\n",
       "\n",
       "    [theme=dark] .colab-df-convert:hover {\n",
       "      background-color: #434B5C;\n",
       "      box-shadow: 0px 1px 3px 1px rgba(0, 0, 0, 0.15);\n",
       "      filter: drop-shadow(0px 1px 2px rgba(0, 0, 0, 0.3));\n",
       "      fill: #FFFFFF;\n",
       "    }\n",
       "  </style>\n",
       "\n",
       "      <script>\n",
       "        const buttonEl =\n",
       "          document.querySelector('#df-4731e2d5-b345-4dd9-84d5-0bda2713718c button.colab-df-convert');\n",
       "        buttonEl.style.display =\n",
       "          google.colab.kernel.accessAllowed ? 'block' : 'none';\n",
       "\n",
       "        async function convertToInteractive(key) {\n",
       "          const element = document.querySelector('#df-4731e2d5-b345-4dd9-84d5-0bda2713718c');\n",
       "          const dataTable =\n",
       "            await google.colab.kernel.invokeFunction('convertToInteractive',\n",
       "                                                     [key], {});\n",
       "          if (!dataTable) return;\n",
       "\n",
       "          const docLinkHtml = 'Like what you see? Visit the ' +\n",
       "            '<a target=\"_blank\" href=https://colab.research.google.com/notebooks/data_table.ipynb>data table notebook</a>'\n",
       "            + ' to learn more about interactive tables.';\n",
       "          element.innerHTML = '';\n",
       "          dataTable['output_type'] = 'display_data';\n",
       "          await google.colab.output.renderOutput(dataTable, element);\n",
       "          const docLink = document.createElement('div');\n",
       "          docLink.innerHTML = docLinkHtml;\n",
       "          element.appendChild(docLink);\n",
       "        }\n",
       "      </script>\n",
       "    </div>\n",
       "  </div>\n",
       "  "
      ]
     },
     "metadata": {},
     "execution_count": 36
    }
   ],
   "source": [
    "events_by_groups = df_complete.pivot_table(index='event_name', columns='exp_id', values='user_id', aggfunc='nunique') \n",
    "events_by_groups.columns = ['246', '247', '248']\n",
    "events_by_groups['246+247'] = events_by_groups['246'] + events_by_groups['247']\n",
    "events_by_groups = events_by_groups.sort_values(by='246', ascending=False)\n",
    "events_by_groups "
   ]
  },
  {
   "cell_type": "markdown",
   "metadata": {
    "id": "EJvwm7AXUOYT"
   },
   "source": [
    "Создадим функцию для сравнения групп по событиям от общего числа пользователей в каждой группе. Для проверки гипотез будем использовать Z-test о проверке гипотезы о равенстве долей:"
   ]
  },
  {
   "cell_type": "code",
   "execution_count": 37,
   "metadata": {
    "id": "HpA5ogGbUOYT"
   },
   "outputs": [],
   "source": [
    "events = ['MainScreenAppear', 'OffersScreenAppear', 'CartScreenAppear', 'PaymentScreenSuccessful']\n",
    "def z_test(group_one, group_two):\n",
    "    for event in events:\n",
    "        # массивы с данными о количестве пользователей в группах и их общим количеством:\n",
    "        successes = np.array([events_by_groups.loc[event, group_one],\n",
    "                   events_by_groups.loc[event, group_two]])\n",
    "        trials = np.array([exp_group.loc[group_one,'user_id'],\n",
    "                      exp_group.loc[group_two,'user_id']])\n",
    "        # пропорция успехов в первой группе:\n",
    "        p1 = successes[0]/trials[0]\n",
    "        # пропорция успехов во второй группе:\n",
    "        p2 = successes[1]/trials[1] \n",
    "        # пропорция успехов в комбинированном датасете:\n",
    "        p_combined = (successes[0] + successes[1]) / (trials[0] + trials[1])\n",
    "        # разница пропорций в датасетах\n",
    "        difference = p1 - p2\n",
    "        # считаем статистику в ст.отклонениях стандартного нормального распределения\n",
    "        z_value = difference / mth.sqrt(\n",
    "        p_combined * (1 - p_combined) * (1/trials[0] + 1/trials[1]))\n",
    "        # задаем стандартное нормальное распределение (среднее 0, ст.отклонение 1)\n",
    "        distr = st.norm(0, 1)\n",
    "        # критический уровень статистической значимости 0,05\n",
    "        alpha = .05\n",
    "        # считаем p_value\n",
    "        p_value = (1 - distr.cdf(abs(z_value))) * 2\n",
    "        # проверяем гипотезу:\n",
    "        print(event, 'p-значение:', p_value) \n",
    "        if p_value < alpha:\n",
    "            print('Отвергаем нулевую гипотезу: между долями есть значимая разница')\n",
    "        else:\n",
    "            print(\n",
    "        'Не получилось отвергнуть нулевую гипотезу, нет оснований считать доли разными')\n",
    "        print()"
   ]
  },
  {
   "cell_type": "markdown",
   "metadata": {
    "id": "IIKbH-4lUOYT"
   },
   "source": [
    "Обратимся к функции и проверим разницу для групп A/A (246 и 247) по событиям:"
   ]
  },
  {
   "cell_type": "code",
   "execution_count": 38,
   "metadata": {
    "id": "hp8LUSLLUOYU",
    "outputId": "bc7443bd-b35b-4e5f-e22e-91c6cab68db7",
    "colab": {
     "base_uri": "https://localhost:8080/"
    }
   },
   "outputs": [
    {
     "output_type": "stream",
     "name": "stdout",
     "text": [
      "MainScreenAppear p-значение: 0.7570597232046099\n",
      "Не получилось отвергнуть нулевую гипотезу, нет оснований считать доли разными\n",
      "\n",
      "OffersScreenAppear p-значение: 0.2480954578522181\n",
      "Не получилось отвергнуть нулевую гипотезу, нет оснований считать доли разными\n",
      "\n",
      "CartScreenAppear p-значение: 0.22883372237997213\n",
      "Не получилось отвергнуть нулевую гипотезу, нет оснований считать доли разными\n",
      "\n",
      "PaymentScreenSuccessful p-значение: 0.11456679313141849\n",
      "Не получилось отвергнуть нулевую гипотезу, нет оснований считать доли разными\n",
      "\n"
     ]
    }
   ],
   "source": [
    "z_test('246', '247')"
   ]
  },
  {
   "cell_type": "markdown",
   "metadata": {
    "id": "Tp_p9CfVUOYU"
   },
   "source": [
    "<div style=\"border: solid green 2px; padding: 20px\">\n",
    "\n",
    "**Вывод**\n",
    "  \n",
    "Для каждого события p-value больше 0.05, поэтому нулевую гипотезу не отвергаем и значит разницы между контрольными группами нет."
   ]
  },
  {
   "cell_type": "markdown",
   "metadata": {
    "id": "3ODazpSpUOYV"
   },
   "source": [
    "<a name=\"5.3\"><h3>5.3 Проверка контрольных групп и группы с изменённым шрифтом</h3></a>"
   ]
  },
  {
   "cell_type": "markdown",
   "metadata": {
    "id": "wyzXIW4OUOYV"
   },
   "source": [
    "Сформулируем гипотезы:\n",
    "\n",
    "* H₀: различий между группами A/B нет.\n",
    "* H₁: различия между группами A/B есть."
   ]
  },
  {
   "cell_type": "markdown",
   "metadata": {
    "id": "_PK6XQXpUOYV"
   },
   "source": [
    "Проверим разницу для групп 246 и 248 по событиям:"
   ]
  },
  {
   "cell_type": "code",
   "execution_count": 39,
   "metadata": {
    "id": "Cz63r6QXUOYW",
    "outputId": "a813462b-5b10-462f-f950-5ce0b6d37df6",
    "colab": {
     "base_uri": "https://localhost:8080/"
    }
   },
   "outputs": [
    {
     "output_type": "stream",
     "name": "stdout",
     "text": [
      "MainScreenAppear p-значение: 0.2949721933554552\n",
      "Не получилось отвергнуть нулевую гипотезу, нет оснований считать доли разными\n",
      "\n",
      "OffersScreenAppear p-значение: 0.20836205402738917\n",
      "Не получилось отвергнуть нулевую гипотезу, нет оснований считать доли разными\n",
      "\n",
      "CartScreenAppear p-значение: 0.07842923237520116\n",
      "Не получилось отвергнуть нулевую гипотезу, нет оснований считать доли разными\n",
      "\n",
      "PaymentScreenSuccessful p-значение: 0.2122553275697796\n",
      "Не получилось отвергнуть нулевую гипотезу, нет оснований считать доли разными\n",
      "\n"
     ]
    }
   ],
   "source": [
    "z_test('246', '248')"
   ]
  },
  {
   "cell_type": "markdown",
   "metadata": {
    "id": "KoVJFSmdUOYW"
   },
   "source": [
    "Проверим разницу для групп 247 и 248 по событиям:"
   ]
  },
  {
   "cell_type": "code",
   "execution_count": 40,
   "metadata": {
    "id": "nb34ysfeUOYW",
    "outputId": "c1e8882d-e8e6-4b73-b46a-d1c6edf7a324",
    "colab": {
     "base_uri": "https://localhost:8080/"
    }
   },
   "outputs": [
    {
     "output_type": "stream",
     "name": "stdout",
     "text": [
      "MainScreenAppear p-значение: 0.4587053616621515\n",
      "Не получилось отвергнуть нулевую гипотезу, нет оснований считать доли разными\n",
      "\n",
      "OffersScreenAppear p-значение: 0.9197817830592261\n",
      "Не получилось отвергнуть нулевую гипотезу, нет оснований считать доли разными\n",
      "\n",
      "CartScreenAppear p-значение: 0.5786197879539783\n",
      "Не получилось отвергнуть нулевую гипотезу, нет оснований считать доли разными\n",
      "\n",
      "PaymentScreenSuccessful p-значение: 0.7373415053803964\n",
      "Не получилось отвергнуть нулевую гипотезу, нет оснований считать доли разными\n",
      "\n"
     ]
    }
   ],
   "source": [
    "z_test('247', '248')"
   ]
  },
  {
   "cell_type": "markdown",
   "metadata": {
    "id": "9V_ISNnkUOYW"
   },
   "source": [
    "Проверим разницу между объединенной контрольной группой '246+247' и 248 по событиям:"
   ]
  },
  {
   "cell_type": "code",
   "execution_count": 41,
   "metadata": {
    "id": "OHGEVI0IUOYW",
    "outputId": "6fa6807e-60e9-4e8a-fee5-d157a46420ef",
    "colab": {
     "base_uri": "https://localhost:8080/"
    }
   },
   "outputs": [
    {
     "output_type": "stream",
     "name": "stdout",
     "text": [
      "MainScreenAppear p-значение: 0.29424526837179577\n",
      "Не получилось отвергнуть нулевую гипотезу, нет оснований считать доли разными\n",
      "\n",
      "OffersScreenAppear p-значение: 0.43425549655188256\n",
      "Не получилось отвергнуть нулевую гипотезу, нет оснований считать доли разными\n",
      "\n",
      "CartScreenAppear p-значение: 0.18175875284404386\n",
      "Не получилось отвергнуть нулевую гипотезу, нет оснований считать доли разными\n",
      "\n",
      "PaymentScreenSuccessful p-значение: 0.6004294282308704\n",
      "Не получилось отвергнуть нулевую гипотезу, нет оснований считать доли разными\n",
      "\n"
     ]
    }
   ],
   "source": [
    "z_test('246+247', '248')"
   ]
  },
  {
   "cell_type": "markdown",
   "metadata": {
    "id": "kQhOVe7lUOYW"
   },
   "source": [
    "<div style=\"border: solid green 2px; padding: 20px\">\n",
    "\n",
    "**Вывод**\n",
    "  \n",
    "P-value тоже больше 0.05, поэтому нулевую гипотезу не отвергаем. Применение уровня значимости, равного 0,01 не приведет к изменениям, так как p-value по всем событиям значительно больше 0,05."
   ]
  },
  {
   "cell_type": "markdown",
   "metadata": {
    "id": "6YDQSjO1UOYX"
   },
   "source": [
    "<a name=\"6\"><h2>6 Общие выводы</h2></a>"
   ]
  },
  {
   "cell_type": "markdown",
   "metadata": {
    "id": "sdbbO9OYUOYX"
   },
   "source": [
    "В работе были рассмотрены данные за одну неделю с 01.08.2019 по 07.08.2019.\n",
    "\n",
    "Выяснили, что до оплаты доходит 47,7% пользователей, при этом при переходе на шаг OffersScreenAppear теряется больше всего пользователей - 38,1%, на следующем шаге CartScreenAppear теряется 11,6% и на шаге PaymentScreenSuccessful, при переходе из корзины к оплате, теряется еще 2,6% пользователей. \n",
    "\n",
    "Проверка двух контрольных групп A/A показала, что разницы в показателях нет и тест проведен корректно. В результате проверки гипотез о равенстве долей групп A/B не отвергли нулевую гипотезу об отсутствии различий долей, значит шрифт не повлиял на количество пользователей в событиях и на итоговое количество заказов. Всего проведено 16 проверок: сравнивались 4 группы, в каждой из которых по 4 события."
   ]
  }
 ],
 "metadata": {
  "ExecuteTimeLog": [
   {
    "duration": 1903,
    "start_time": "2022-04-19T22:06:06.066Z"
   },
   {
    "duration": 389,
    "start_time": "2022-04-19T22:06:09.193Z"
   },
   {
    "duration": 15,
    "start_time": "2022-04-19T22:07:12.126Z"
   },
   {
    "duration": 196,
    "start_time": "2022-04-19T22:15:29.743Z"
   },
   {
    "duration": 12,
    "start_time": "2022-04-19T22:15:32.268Z"
   },
   {
    "duration": 10,
    "start_time": "2022-04-19T22:20:09.211Z"
   },
   {
    "duration": 33,
    "start_time": "2022-04-19T22:20:17.002Z"
   },
   {
    "duration": 15,
    "start_time": "2022-04-19T22:34:29.347Z"
   },
   {
    "duration": 86,
    "start_time": "2022-04-19T22:35:05.484Z"
   },
   {
    "duration": 88,
    "start_time": "2022-04-19T22:36:05.508Z"
   },
   {
    "duration": 143,
    "start_time": "2022-04-19T22:36:40.427Z"
   },
   {
    "duration": 148,
    "start_time": "2022-04-19T22:37:40.627Z"
   },
   {
    "duration": 14,
    "start_time": "2022-04-19T22:37:44.416Z"
   },
   {
    "duration": 992,
    "start_time": "2022-04-19T22:38:53.305Z"
   },
   {
    "duration": 9,
    "start_time": "2022-04-19T22:41:54.348Z"
   },
   {
    "duration": 15,
    "start_time": "2022-04-19T22:41:57.667Z"
   },
   {
    "duration": 11,
    "start_time": "2022-04-19T22:44:30.628Z"
   },
   {
    "duration": 104,
    "start_time": "2022-04-19T22:46:41.751Z"
   },
   {
    "duration": 12,
    "start_time": "2022-04-19T22:46:45.355Z"
   },
   {
    "duration": 12,
    "start_time": "2022-04-19T22:48:32.877Z"
   },
   {
    "duration": 11,
    "start_time": "2022-04-19T22:48:34.043Z"
   },
   {
    "duration": 17,
    "start_time": "2022-04-19T22:48:48.808Z"
   },
   {
    "duration": 11,
    "start_time": "2022-04-19T22:48:49.878Z"
   },
   {
    "duration": 121,
    "start_time": "2022-04-19T22:48:49.923Z"
   },
   {
    "duration": 197,
    "start_time": "2022-04-19T22:49:00.386Z"
   },
   {
    "duration": 12,
    "start_time": "2022-04-19T22:49:00.968Z"
   },
   {
    "duration": 28,
    "start_time": "2022-04-19T22:49:02.097Z"
   },
   {
    "duration": 8,
    "start_time": "2022-04-19T22:49:03.337Z"
   },
   {
    "duration": 10,
    "start_time": "2022-04-19T22:49:03.387Z"
   },
   {
    "duration": 101,
    "start_time": "2022-04-19T22:49:04.396Z"
   },
   {
    "duration": 128,
    "start_time": "2022-04-19T22:49:19.346Z"
   },
   {
    "duration": 11,
    "start_time": "2022-04-19T22:51:38.107Z"
   },
   {
    "duration": 10,
    "start_time": "2022-04-19T22:51:38.596Z"
   },
   {
    "duration": 200,
    "start_time": "2022-04-19T22:52:33.544Z"
   },
   {
    "duration": 12,
    "start_time": "2022-04-19T22:52:33.968Z"
   },
   {
    "duration": 27,
    "start_time": "2022-04-19T22:52:34.200Z"
   },
   {
    "duration": 9,
    "start_time": "2022-04-19T22:52:34.635Z"
   },
   {
    "duration": 10,
    "start_time": "2022-04-19T22:52:35.128Z"
   },
   {
    "duration": 106,
    "start_time": "2022-04-19T22:52:35.770Z"
   },
   {
    "duration": 18,
    "start_time": "2022-04-19T22:55:36.690Z"
   },
   {
    "duration": 4,
    "start_time": "2022-04-19T22:58:07.584Z"
   },
   {
    "duration": 726,
    "start_time": "2022-04-19T22:58:41.404Z"
   },
   {
    "duration": 49,
    "start_time": "2022-04-19T23:02:13.017Z"
   },
   {
    "duration": 351,
    "start_time": "2022-04-19T23:02:50.324Z"
   },
   {
    "duration": 12,
    "start_time": "2022-04-19T23:03:00.428Z"
   },
   {
    "duration": 1428,
    "start_time": "2022-04-19T23:04:27.016Z"
   },
   {
    "duration": 1518,
    "start_time": "2022-04-19T23:04:40.369Z"
   },
   {
    "duration": 1343,
    "start_time": "2022-04-19T23:32:10.819Z"
   },
   {
    "duration": 1542,
    "start_time": "2022-04-19T23:32:19.229Z"
   },
   {
    "duration": 9,
    "start_time": "2022-04-19T23:32:31.875Z"
   },
   {
    "duration": 184,
    "start_time": "2022-04-19T23:32:38.308Z"
   },
   {
    "duration": 12,
    "start_time": "2022-04-19T23:32:41.315Z"
   },
   {
    "duration": 32,
    "start_time": "2022-04-19T23:32:41.373Z"
   },
   {
    "duration": 8,
    "start_time": "2022-04-19T23:32:42.487Z"
   },
   {
    "duration": 15,
    "start_time": "2022-04-19T23:32:42.497Z"
   },
   {
    "duration": 100,
    "start_time": "2022-04-19T23:32:44.475Z"
   },
   {
    "duration": 9,
    "start_time": "2022-04-19T23:32:44.577Z"
   },
   {
    "duration": 13,
    "start_time": "2022-04-19T23:32:46.364Z"
   },
   {
    "duration": 19,
    "start_time": "2022-04-19T23:32:56.995Z"
   },
   {
    "duration": 15,
    "start_time": "2022-04-19T23:32:57.017Z"
   },
   {
    "duration": 1439,
    "start_time": "2022-04-19T23:36:48.555Z"
   },
   {
    "duration": 2090,
    "start_time": "2022-04-19T23:37:09.055Z"
   },
   {
    "duration": 333,
    "start_time": "2022-04-19T23:37:37.329Z"
   },
   {
    "duration": 189,
    "start_time": "2022-04-19T23:37:55.491Z"
   },
   {
    "duration": 11,
    "start_time": "2022-04-19T23:37:56.166Z"
   },
   {
    "duration": 29,
    "start_time": "2022-04-19T23:37:57.561Z"
   },
   {
    "duration": 7,
    "start_time": "2022-04-19T23:37:58.954Z"
   },
   {
    "duration": 10,
    "start_time": "2022-04-19T23:38:00.388Z"
   },
   {
    "duration": 102,
    "start_time": "2022-04-19T23:38:02.036Z"
   },
   {
    "duration": 10,
    "start_time": "2022-04-19T23:38:08.133Z"
   },
   {
    "duration": 21,
    "start_time": "2022-04-19T23:38:09.981Z"
   },
   {
    "duration": 22,
    "start_time": "2022-04-19T23:38:15.435Z"
   },
   {
    "duration": 233,
    "start_time": "2022-04-19T23:40:52.115Z"
   },
   {
    "duration": 15,
    "start_time": "2022-04-19T23:40:53.507Z"
   },
   {
    "duration": 29,
    "start_time": "2022-04-19T23:40:55.565Z"
   },
   {
    "duration": 8,
    "start_time": "2022-04-19T23:40:57.735Z"
   },
   {
    "duration": 11,
    "start_time": "2022-04-19T23:40:58.613Z"
   },
   {
    "duration": 108,
    "start_time": "2022-04-19T23:41:02.835Z"
   },
   {
    "duration": 11,
    "start_time": "2022-04-19T23:41:04.707Z"
   },
   {
    "duration": 18,
    "start_time": "2022-04-19T23:41:07.278Z"
   },
   {
    "duration": 18,
    "start_time": "2022-04-19T23:43:58.667Z"
   },
   {
    "duration": 107,
    "start_time": "2022-04-19T23:46:29.948Z"
   },
   {
    "duration": 21,
    "start_time": "2022-04-19T23:46:30.058Z"
   },
   {
    "duration": 13,
    "start_time": "2022-04-19T23:47:57.635Z"
   },
   {
    "duration": 41,
    "start_time": "2022-04-19T23:56:48.987Z"
   },
   {
    "duration": 120,
    "start_time": "2022-04-20T00:13:39.303Z"
   },
   {
    "duration": 191,
    "start_time": "2022-04-20T00:14:00.394Z"
   },
   {
    "duration": 11,
    "start_time": "2022-04-20T00:14:02.283Z"
   },
   {
    "duration": 42,
    "start_time": "2022-04-20T00:14:05.346Z"
   },
   {
    "duration": 9,
    "start_time": "2022-04-20T00:14:10.774Z"
   },
   {
    "duration": 109,
    "start_time": "2022-04-20T00:14:13.029Z"
   },
   {
    "duration": 95,
    "start_time": "2022-04-20T00:14:16.835Z"
   },
   {
    "duration": 11,
    "start_time": "2022-04-20T00:16:25.100Z"
   },
   {
    "duration": 102,
    "start_time": "2022-04-20T00:16:40.826Z"
   },
   {
    "duration": 29,
    "start_time": "2022-04-20T00:16:52.913Z"
   },
   {
    "duration": 9,
    "start_time": "2022-04-20T00:16:57.563Z"
   },
   {
    "duration": 101,
    "start_time": "2022-04-20T00:16:58.427Z"
   },
   {
    "duration": 13,
    "start_time": "2022-04-20T00:17:00.627Z"
   },
   {
    "duration": 40,
    "start_time": "2022-04-20T00:17:03.226Z"
   },
   {
    "duration": 12,
    "start_time": "2022-04-20T00:18:16.087Z"
   },
   {
    "duration": 40,
    "start_time": "2022-04-20T00:18:19.635Z"
   },
   {
    "duration": 190,
    "start_time": "2022-04-20T00:19:20.152Z"
   },
   {
    "duration": 11,
    "start_time": "2022-04-20T00:19:21.253Z"
   },
   {
    "duration": 27,
    "start_time": "2022-04-20T00:19:22.426Z"
   },
   {
    "duration": 8,
    "start_time": "2022-04-20T00:19:25.711Z"
   },
   {
    "duration": 101,
    "start_time": "2022-04-20T00:19:26.906Z"
   },
   {
    "duration": 10,
    "start_time": "2022-04-20T00:19:28.355Z"
   },
   {
    "duration": 92,
    "start_time": "2022-04-20T00:19:30.214Z"
   },
   {
    "duration": 101,
    "start_time": "2022-04-20T00:19:31.274Z"
   },
   {
    "duration": 30,
    "start_time": "2022-04-20T00:19:32.425Z"
   },
   {
    "duration": 13,
    "start_time": "2022-04-20T00:19:36.307Z"
   },
   {
    "duration": 103,
    "start_time": "2022-04-20T00:19:37.467Z"
   },
   {
    "duration": 17,
    "start_time": "2022-04-20T00:19:38.654Z"
   },
   {
    "duration": 44,
    "start_time": "2022-04-20T00:19:39.603Z"
   },
   {
    "duration": 107,
    "start_time": "2022-04-20T00:20:53.938Z"
   },
   {
    "duration": 106,
    "start_time": "2022-04-20T00:22:17.955Z"
   },
   {
    "duration": 12,
    "start_time": "2022-04-20T00:22:18.675Z"
   },
   {
    "duration": 42,
    "start_time": "2022-04-20T00:22:20.307Z"
   },
   {
    "duration": 118,
    "start_time": "2022-04-20T00:22:24.995Z"
   },
   {
    "duration": 82,
    "start_time": "2022-04-20T00:25:29.907Z"
   },
   {
    "duration": 13,
    "start_time": "2022-04-20T00:25:32.568Z"
   },
   {
    "duration": 30,
    "start_time": "2022-04-20T00:25:32.609Z"
   },
   {
    "duration": 31,
    "start_time": "2022-04-20T00:25:35.515Z"
   },
   {
    "duration": 193,
    "start_time": "2022-04-20T00:26:44.995Z"
   },
   {
    "duration": 12,
    "start_time": "2022-04-20T00:26:46.047Z"
   },
   {
    "duration": 28,
    "start_time": "2022-04-20T00:26:46.627Z"
   },
   {
    "duration": 9,
    "start_time": "2022-04-20T00:26:48.575Z"
   },
   {
    "duration": 97,
    "start_time": "2022-04-20T00:26:49.587Z"
   },
   {
    "duration": 10,
    "start_time": "2022-04-20T00:26:50.601Z"
   },
   {
    "duration": 86,
    "start_time": "2022-04-20T00:26:52.286Z"
   },
   {
    "duration": 100,
    "start_time": "2022-04-20T00:26:53.172Z"
   },
   {
    "duration": 30,
    "start_time": "2022-04-20T00:26:54.344Z"
   },
   {
    "duration": 12,
    "start_time": "2022-04-20T00:26:55.948Z"
   },
   {
    "duration": 1448,
    "start_time": "2022-04-20T00:26:56.947Z"
   },
   {
    "duration": 0,
    "start_time": "2022-04-20T00:26:58.397Z"
   },
   {
    "duration": 1432,
    "start_time": "2022-04-20T00:27:31.134Z"
   },
   {
    "duration": 21,
    "start_time": "2022-04-20T00:28:08.195Z"
   },
   {
    "duration": 13,
    "start_time": "2022-04-20T00:28:10.607Z"
   },
   {
    "duration": 32,
    "start_time": "2022-04-20T00:28:15.795Z"
   },
   {
    "duration": 1280,
    "start_time": "2022-04-20T13:23:25.066Z"
   },
   {
    "duration": 145,
    "start_time": "2022-04-20T13:23:26.347Z"
   },
   {
    "duration": 12,
    "start_time": "2022-04-20T13:23:27.593Z"
   },
   {
    "duration": 22,
    "start_time": "2022-04-20T13:23:28.542Z"
   },
   {
    "duration": 1198,
    "start_time": "2022-04-20T13:26:51.792Z"
   },
   {
    "duration": 151,
    "start_time": "2022-04-20T13:26:52.993Z"
   },
   {
    "duration": 13,
    "start_time": "2022-04-20T13:26:53.146Z"
   },
   {
    "duration": 22,
    "start_time": "2022-04-20T13:26:53.161Z"
   },
   {
    "duration": 6,
    "start_time": "2022-04-20T13:26:53.201Z"
   },
   {
    "duration": 71,
    "start_time": "2022-04-20T13:26:53.209Z"
   },
   {
    "duration": 24,
    "start_time": "2022-04-20T13:26:53.282Z"
   },
   {
    "duration": 61,
    "start_time": "2022-04-20T13:26:53.308Z"
   },
   {
    "duration": 85,
    "start_time": "2022-04-20T13:26:53.371Z"
   },
   {
    "duration": 18,
    "start_time": "2022-04-20T13:26:53.458Z"
   },
   {
    "duration": 3108,
    "start_time": "2022-04-20T13:26:53.478Z"
   },
   {
    "duration": 0,
    "start_time": "2022-04-20T13:26:56.588Z"
   },
   {
    "duration": 0,
    "start_time": "2022-04-20T13:26:56.589Z"
   },
   {
    "duration": 0,
    "start_time": "2022-04-20T13:26:56.591Z"
   },
   {
    "duration": 10,
    "start_time": "2022-04-20T13:28:04.862Z"
   },
   {
    "duration": 17,
    "start_time": "2022-04-20T13:28:12.704Z"
   },
   {
    "duration": 9,
    "start_time": "2022-04-20T13:28:15.889Z"
   },
   {
    "duration": 21,
    "start_time": "2022-04-20T13:28:21.043Z"
   },
   {
    "duration": 30,
    "start_time": "2022-04-20T13:42:25.142Z"
   },
   {
    "duration": 23,
    "start_time": "2022-04-20T13:42:31.743Z"
   },
   {
    "duration": 50,
    "start_time": "2022-04-20T13:46:19.376Z"
   },
   {
    "duration": 1283,
    "start_time": "2022-04-20T20:59:41.935Z"
   },
   {
    "duration": 149,
    "start_time": "2022-04-20T20:59:43.221Z"
   },
   {
    "duration": 10,
    "start_time": "2022-04-20T20:59:43.372Z"
   },
   {
    "duration": 31,
    "start_time": "2022-04-20T20:59:43.384Z"
   },
   {
    "duration": 5,
    "start_time": "2022-04-20T20:59:43.417Z"
   },
   {
    "duration": 77,
    "start_time": "2022-04-20T20:59:43.424Z"
   },
   {
    "duration": 7,
    "start_time": "2022-04-20T20:59:43.503Z"
   },
   {
    "duration": 63,
    "start_time": "2022-04-20T20:59:43.511Z"
   },
   {
    "duration": 85,
    "start_time": "2022-04-20T20:59:43.575Z"
   },
   {
    "duration": 17,
    "start_time": "2022-04-20T20:59:43.663Z"
   },
   {
    "duration": 20,
    "start_time": "2022-04-20T20:59:43.682Z"
   },
   {
    "duration": 14,
    "start_time": "2022-04-20T20:59:43.704Z"
   },
   {
    "duration": 7,
    "start_time": "2022-04-20T20:59:43.720Z"
   },
   {
    "duration": 20,
    "start_time": "2022-04-20T20:59:43.728Z"
   },
   {
    "duration": 28,
    "start_time": "2022-04-20T20:59:43.749Z"
   },
   {
    "duration": 23,
    "start_time": "2022-04-20T20:59:43.778Z"
   },
   {
    "duration": 109,
    "start_time": "2022-04-20T20:59:50.439Z"
   },
   {
    "duration": 53,
    "start_time": "2022-04-20T21:00:22.731Z"
   },
   {
    "duration": 55,
    "start_time": "2022-04-20T21:04:10.378Z"
   },
   {
    "duration": 35676,
    "start_time": "2022-04-20T21:04:35.312Z"
   },
   {
    "duration": 39,
    "start_time": "2022-04-20T21:07:47.782Z"
   },
   {
    "duration": 9,
    "start_time": "2022-04-20T21:09:01.751Z"
   },
   {
    "duration": 30,
    "start_time": "2022-04-20T21:09:08.991Z"
   },
   {
    "duration": 41,
    "start_time": "2022-04-20T21:10:11.751Z"
   },
   {
    "duration": 35,
    "start_time": "2022-04-20T21:10:31.430Z"
   },
   {
    "duration": 33,
    "start_time": "2022-04-20T21:11:34.650Z"
   },
   {
    "duration": 48,
    "start_time": "2022-04-20T21:11:40.691Z"
   },
   {
    "duration": 4,
    "start_time": "2022-04-20T21:11:53.791Z"
   },
   {
    "duration": 32,
    "start_time": "2022-04-20T21:12:34.123Z"
   },
   {
    "duration": 36,
    "start_time": "2022-04-20T21:12:46.462Z"
   },
   {
    "duration": 35,
    "start_time": "2022-04-20T21:13:19.811Z"
   },
   {
    "duration": 39,
    "start_time": "2022-04-20T21:14:17.331Z"
   },
   {
    "duration": 12,
    "start_time": "2022-04-20T21:22:12.811Z"
   },
   {
    "duration": 12,
    "start_time": "2022-04-20T21:22:18.711Z"
   },
   {
    "duration": 39,
    "start_time": "2022-04-20T21:22:38.691Z"
   },
   {
    "duration": 36,
    "start_time": "2022-04-20T21:22:45.850Z"
   },
   {
    "duration": 35,
    "start_time": "2022-04-20T21:23:41.671Z"
   },
   {
    "duration": 6,
    "start_time": "2022-04-20T21:30:39.537Z"
   },
   {
    "duration": 7,
    "start_time": "2022-04-20T21:30:44.250Z"
   },
   {
    "duration": 9,
    "start_time": "2022-04-20T21:40:03.661Z"
   },
   {
    "duration": 8,
    "start_time": "2022-04-20T21:40:16.211Z"
   },
   {
    "duration": 8,
    "start_time": "2022-04-20T21:41:43.451Z"
   },
   {
    "duration": 24,
    "start_time": "2022-04-20T21:42:12.855Z"
   },
   {
    "duration": 13,
    "start_time": "2022-04-20T21:42:23.171Z"
   },
   {
    "duration": 23,
    "start_time": "2022-04-20T21:42:29.511Z"
   },
   {
    "duration": 20,
    "start_time": "2022-04-20T21:43:49.991Z"
   },
   {
    "duration": 20,
    "start_time": "2022-04-20T21:46:02.071Z"
   },
   {
    "duration": 20,
    "start_time": "2022-04-20T21:46:16.650Z"
   },
   {
    "duration": 20,
    "start_time": "2022-04-20T21:46:35.343Z"
   },
   {
    "duration": 25,
    "start_time": "2022-04-20T21:47:46.319Z"
   },
   {
    "duration": 25,
    "start_time": "2022-04-20T21:47:51.810Z"
   },
   {
    "duration": 20,
    "start_time": "2022-04-20T21:48:04.811Z"
   },
   {
    "duration": 5,
    "start_time": "2022-04-20T21:49:44.783Z"
   },
   {
    "duration": 4,
    "start_time": "2022-04-20T21:49:54.803Z"
   },
   {
    "duration": 26,
    "start_time": "2022-04-20T22:01:34.711Z"
   },
   {
    "duration": 555,
    "start_time": "2022-04-20T22:02:16.471Z"
   },
   {
    "duration": 1056,
    "start_time": "2022-04-20T22:07:07.831Z"
   },
   {
    "duration": 144,
    "start_time": "2022-04-20T22:07:08.889Z"
   },
   {
    "duration": 10,
    "start_time": "2022-04-20T22:07:09.035Z"
   },
   {
    "duration": 22,
    "start_time": "2022-04-20T22:07:09.047Z"
   },
   {
    "duration": 6,
    "start_time": "2022-04-20T22:07:09.071Z"
   },
   {
    "duration": 87,
    "start_time": "2022-04-20T22:07:09.078Z"
   },
   {
    "duration": 7,
    "start_time": "2022-04-20T22:07:09.166Z"
   },
   {
    "duration": 71,
    "start_time": "2022-04-20T22:07:09.174Z"
   },
   {
    "duration": 70,
    "start_time": "2022-04-20T22:07:09.246Z"
   },
   {
    "duration": 18,
    "start_time": "2022-04-20T22:07:09.317Z"
   },
   {
    "duration": 9,
    "start_time": "2022-04-20T22:07:09.336Z"
   },
   {
    "duration": 13,
    "start_time": "2022-04-20T22:07:09.347Z"
   },
   {
    "duration": 8,
    "start_time": "2022-04-20T22:07:09.361Z"
   },
   {
    "duration": 44,
    "start_time": "2022-04-20T22:07:09.371Z"
   },
   {
    "duration": 46,
    "start_time": "2022-04-20T22:07:09.417Z"
   },
   {
    "duration": 6,
    "start_time": "2022-04-20T22:07:09.465Z"
   },
   {
    "duration": 36,
    "start_time": "2022-04-20T22:07:09.472Z"
   },
   {
    "duration": 5,
    "start_time": "2022-04-20T22:07:09.509Z"
   },
   {
    "duration": 5,
    "start_time": "2022-04-20T22:07:09.516Z"
   },
   {
    "duration": 2,
    "start_time": "2022-04-20T22:07:09.523Z"
   },
   {
    "duration": 124,
    "start_time": "2022-04-20T22:07:09.527Z"
   },
   {
    "duration": 36,
    "start_time": "2022-04-20T22:08:17.628Z"
   },
   {
    "duration": 1187,
    "start_time": "2022-04-20T22:10:19.147Z"
   },
   {
    "duration": 1046,
    "start_time": "2022-04-20T22:13:01.845Z"
   },
   {
    "duration": 511,
    "start_time": "2022-04-20T22:15:47.067Z"
   },
   {
    "duration": 521,
    "start_time": "2022-04-20T22:16:10.281Z"
   },
   {
    "duration": 191,
    "start_time": "2022-04-20T22:24:08.820Z"
   },
   {
    "duration": 904,
    "start_time": "2022-04-20T22:24:34.007Z"
   },
   {
    "duration": 1146,
    "start_time": "2022-04-20T22:24:54.889Z"
   },
   {
    "duration": 936,
    "start_time": "2022-04-20T22:25:03.099Z"
   },
   {
    "duration": 934,
    "start_time": "2022-04-20T22:32:49.187Z"
   },
   {
    "duration": 97,
    "start_time": "2022-04-20T22:33:29.707Z"
   },
   {
    "duration": 16,
    "start_time": "2022-04-20T22:33:47.999Z"
   },
   {
    "duration": 5,
    "start_time": "2022-04-20T22:34:07.959Z"
   },
   {
    "duration": 15,
    "start_time": "2022-04-20T22:35:32.126Z"
   },
   {
    "duration": 193,
    "start_time": "2022-04-20T22:44:02.679Z"
   },
   {
    "duration": 94,
    "start_time": "2022-04-20T22:44:32.119Z"
   },
   {
    "duration": 22,
    "start_time": "2022-04-20T22:44:53.258Z"
   },
   {
    "duration": 6,
    "start_time": "2022-04-20T22:44:55.352Z"
   },
   {
    "duration": 7,
    "start_time": "2022-04-20T22:45:19.139Z"
   },
   {
    "duration": 7,
    "start_time": "2022-04-20T22:46:52.887Z"
   },
   {
    "duration": 15,
    "start_time": "2022-04-20T23:09:05.340Z"
   },
   {
    "duration": 8,
    "start_time": "2022-04-20T23:09:24.724Z"
   },
   {
    "duration": 14,
    "start_time": "2022-04-20T23:09:43.036Z"
   },
   {
    "duration": 4,
    "start_time": "2022-04-20T23:11:38.273Z"
   },
   {
    "duration": 42,
    "start_time": "2022-04-20T23:11:40.847Z"
   },
   {
    "duration": 1272,
    "start_time": "2022-04-20T23:12:09.837Z"
   },
   {
    "duration": 143,
    "start_time": "2022-04-20T23:12:11.110Z"
   },
   {
    "duration": 10,
    "start_time": "2022-04-20T23:12:11.255Z"
   },
   {
    "duration": 19,
    "start_time": "2022-04-20T23:12:11.267Z"
   },
   {
    "duration": 15,
    "start_time": "2022-04-20T23:12:11.288Z"
   },
   {
    "duration": 70,
    "start_time": "2022-04-20T23:12:11.305Z"
   },
   {
    "duration": 24,
    "start_time": "2022-04-20T23:12:11.377Z"
   },
   {
    "duration": 64,
    "start_time": "2022-04-20T23:12:11.403Z"
   },
   {
    "duration": 80,
    "start_time": "2022-04-20T23:12:11.469Z"
   },
   {
    "duration": 19,
    "start_time": "2022-04-20T23:12:11.551Z"
   },
   {
    "duration": 9,
    "start_time": "2022-04-20T23:12:11.572Z"
   },
   {
    "duration": 25,
    "start_time": "2022-04-20T23:12:11.583Z"
   },
   {
    "duration": 8,
    "start_time": "2022-04-20T23:12:11.610Z"
   },
   {
    "duration": 24,
    "start_time": "2022-04-20T23:12:11.620Z"
   },
   {
    "duration": 3,
    "start_time": "2022-04-20T23:12:11.645Z"
   },
   {
    "duration": 68,
    "start_time": "2022-04-20T23:12:11.649Z"
   },
   {
    "duration": 6,
    "start_time": "2022-04-20T23:12:11.719Z"
   },
   {
    "duration": 18,
    "start_time": "2022-04-20T23:12:11.726Z"
   },
   {
    "duration": 4,
    "start_time": "2022-04-20T23:12:11.746Z"
   },
   {
    "duration": 6,
    "start_time": "2022-04-20T23:12:11.751Z"
   },
   {
    "duration": 1057,
    "start_time": "2022-04-20T23:12:11.758Z"
   },
   {
    "duration": 23,
    "start_time": "2022-04-20T23:12:12.816Z"
   },
   {
    "duration": 62,
    "start_time": "2022-04-20T23:12:12.840Z"
   },
   {
    "duration": 101,
    "start_time": "2022-04-20T23:12:12.904Z"
   },
   {
    "duration": 11,
    "start_time": "2022-04-20T23:12:23.906Z"
   },
   {
    "duration": 3,
    "start_time": "2022-04-20T23:28:42.412Z"
   },
   {
    "duration": 35,
    "start_time": "2022-04-20T23:28:43.884Z"
   },
   {
    "duration": 47,
    "start_time": "2022-04-20T23:28:50.042Z"
   },
   {
    "duration": 3,
    "start_time": "2022-04-20T23:30:44.319Z"
   },
   {
    "duration": 3179,
    "start_time": "2022-04-20T23:30:45.644Z"
   },
   {
    "duration": 35,
    "start_time": "2022-04-20T23:31:02.773Z"
   },
   {
    "duration": 9,
    "start_time": "2022-04-20T23:33:00.152Z"
   },
   {
    "duration": 3087,
    "start_time": "2022-04-20T23:33:07.939Z"
   },
   {
    "duration": 34,
    "start_time": "2022-04-20T23:33:19.972Z"
   },
   {
    "duration": 35,
    "start_time": "2022-04-20T23:41:22.752Z"
   },
   {
    "duration": 35,
    "start_time": "2022-04-20T23:42:57.100Z"
   },
   {
    "duration": 193,
    "start_time": "2022-04-20T23:45:10.964Z"
   },
   {
    "duration": 32,
    "start_time": "2022-04-20T23:46:08.112Z"
   },
   {
    "duration": 1079,
    "start_time": "2022-04-20T23:47:15.014Z"
   },
   {
    "duration": 146,
    "start_time": "2022-04-20T23:47:16.094Z"
   },
   {
    "duration": 11,
    "start_time": "2022-04-20T23:47:16.242Z"
   },
   {
    "duration": 18,
    "start_time": "2022-04-20T23:47:16.255Z"
   },
   {
    "duration": 5,
    "start_time": "2022-04-20T23:47:16.276Z"
   },
   {
    "duration": 84,
    "start_time": "2022-04-20T23:47:16.282Z"
   },
   {
    "duration": 7,
    "start_time": "2022-04-20T23:47:16.368Z"
   },
   {
    "duration": 74,
    "start_time": "2022-04-20T23:47:16.377Z"
   },
   {
    "duration": 76,
    "start_time": "2022-04-20T23:47:16.452Z"
   },
   {
    "duration": 19,
    "start_time": "2022-04-20T23:47:16.529Z"
   },
   {
    "duration": 9,
    "start_time": "2022-04-20T23:47:16.549Z"
   },
   {
    "duration": 13,
    "start_time": "2022-04-20T23:47:16.560Z"
   },
   {
    "duration": 27,
    "start_time": "2022-04-20T23:47:16.574Z"
   },
   {
    "duration": 18,
    "start_time": "2022-04-20T23:47:16.603Z"
   },
   {
    "duration": 48,
    "start_time": "2022-04-20T23:47:16.623Z"
   },
   {
    "duration": 31,
    "start_time": "2022-04-20T23:47:16.672Z"
   },
   {
    "duration": 20,
    "start_time": "2022-04-20T23:47:16.705Z"
   },
   {
    "duration": 4,
    "start_time": "2022-04-20T23:47:16.726Z"
   },
   {
    "duration": 6,
    "start_time": "2022-04-20T23:47:16.731Z"
   },
   {
    "duration": 1050,
    "start_time": "2022-04-20T23:47:16.738Z"
   },
   {
    "duration": 26,
    "start_time": "2022-04-20T23:47:17.790Z"
   },
   {
    "duration": 58,
    "start_time": "2022-04-20T23:47:17.817Z"
   },
   {
    "duration": 28,
    "start_time": "2022-04-20T23:47:17.877Z"
   },
   {
    "duration": 32,
    "start_time": "2022-04-20T23:51:07.967Z"
   },
   {
    "duration": 13,
    "start_time": "2022-04-20T23:53:20.702Z"
   },
   {
    "duration": 13,
    "start_time": "2022-04-20T23:54:52.140Z"
   },
   {
    "duration": 34,
    "start_time": "2022-04-20T23:57:29.927Z"
   },
   {
    "duration": 13,
    "start_time": "2022-04-20T23:57:52.198Z"
   },
   {
    "duration": 11,
    "start_time": "2022-04-20T23:59:42.160Z"
   },
   {
    "duration": 32,
    "start_time": "2022-04-21T00:00:31.387Z"
   },
   {
    "duration": 37,
    "start_time": "2022-04-21T00:02:16.107Z"
   },
   {
    "duration": 127,
    "start_time": "2022-04-21T00:03:29.479Z"
   },
   {
    "duration": 8,
    "start_time": "2022-04-21T00:03:34.379Z"
   },
   {
    "duration": 4,
    "start_time": "2022-04-21T00:03:49.622Z"
   },
   {
    "duration": 29,
    "start_time": "2022-04-21T00:03:54.014Z"
   },
   {
    "duration": 26,
    "start_time": "2022-04-21T00:05:32.567Z"
   },
   {
    "duration": 23,
    "start_time": "2022-04-21T00:10:01.069Z"
   },
   {
    "duration": 8,
    "start_time": "2022-04-21T00:13:32.479Z"
   },
   {
    "duration": 11,
    "start_time": "2022-04-21T00:13:49.378Z"
   },
   {
    "duration": 4,
    "start_time": "2022-04-21T00:19:39.141Z"
   },
   {
    "duration": 48,
    "start_time": "2022-04-21T00:19:46.508Z"
   },
   {
    "duration": 53,
    "start_time": "2022-04-21T00:20:12.887Z"
   },
   {
    "duration": 51,
    "start_time": "2022-04-21T00:21:01.755Z"
   },
   {
    "duration": 56,
    "start_time": "2022-04-21T00:30:27.753Z"
   },
   {
    "duration": 3295,
    "start_time": "2022-04-21T00:31:25.868Z"
   },
   {
    "duration": 51,
    "start_time": "2022-04-21T00:31:50.607Z"
   },
   {
    "duration": 14,
    "start_time": "2022-04-21T00:38:20.979Z"
   },
   {
    "duration": 3112,
    "start_time": "2022-04-21T00:39:38.013Z"
   },
   {
    "duration": 4,
    "start_time": "2022-04-21T00:42:31.927Z"
   },
   {
    "duration": 55,
    "start_time": "2022-04-21T00:42:39.620Z"
   },
   {
    "duration": 53,
    "start_time": "2022-04-21T00:45:34.188Z"
   },
   {
    "duration": 58,
    "start_time": "2022-04-21T00:46:51.153Z"
   },
   {
    "duration": 53,
    "start_time": "2022-04-21T00:47:13.568Z"
   },
   {
    "duration": 1435,
    "start_time": "2022-04-21T08:43:19.889Z"
   },
   {
    "duration": 165,
    "start_time": "2022-04-21T08:43:21.326Z"
   },
   {
    "duration": 14,
    "start_time": "2022-04-21T08:43:21.493Z"
   },
   {
    "duration": 41,
    "start_time": "2022-04-21T08:43:21.510Z"
   },
   {
    "duration": 8,
    "start_time": "2022-04-21T08:43:21.553Z"
   },
   {
    "duration": 101,
    "start_time": "2022-04-21T08:43:21.563Z"
   },
   {
    "duration": 8,
    "start_time": "2022-04-21T08:43:21.667Z"
   },
   {
    "duration": 97,
    "start_time": "2022-04-21T08:43:21.677Z"
   },
   {
    "duration": 102,
    "start_time": "2022-04-21T08:43:21.776Z"
   },
   {
    "duration": 25,
    "start_time": "2022-04-21T08:43:21.881Z"
   },
   {
    "duration": 30,
    "start_time": "2022-04-21T08:43:21.908Z"
   },
   {
    "duration": 17,
    "start_time": "2022-04-21T08:43:21.940Z"
   },
   {
    "duration": 11,
    "start_time": "2022-04-21T08:43:21.959Z"
   },
   {
    "duration": 62,
    "start_time": "2022-04-21T08:43:21.973Z"
   },
   {
    "duration": 24,
    "start_time": "2022-04-21T08:43:22.037Z"
   },
   {
    "duration": 16,
    "start_time": "2022-04-21T08:43:22.063Z"
   },
   {
    "duration": 63,
    "start_time": "2022-04-21T08:43:22.081Z"
   },
   {
    "duration": 6,
    "start_time": "2022-04-21T08:43:22.146Z"
   },
   {
    "duration": 10,
    "start_time": "2022-04-21T08:43:22.155Z"
   },
   {
    "duration": 1213,
    "start_time": "2022-04-21T08:43:22.167Z"
   },
   {
    "duration": 24,
    "start_time": "2022-04-21T08:43:23.382Z"
   },
   {
    "duration": 48,
    "start_time": "2022-04-21T08:43:23.407Z"
   },
   {
    "duration": 19,
    "start_time": "2022-04-21T08:43:23.457Z"
   },
   {
    "duration": 24,
    "start_time": "2022-04-21T08:43:23.478Z"
   },
   {
    "duration": 60,
    "start_time": "2022-04-21T08:43:23.503Z"
   },
   {
    "duration": 95,
    "start_time": "2022-04-21T08:43:23.565Z"
   },
   {
    "duration": 69,
    "start_time": "2022-04-21T08:45:19.072Z"
   },
   {
    "duration": 2878,
    "start_time": "2022-04-21T08:46:50.608Z"
   },
   {
    "duration": 1553,
    "start_time": "2022-04-21T14:20:49.697Z"
   },
   {
    "duration": 199,
    "start_time": "2022-04-21T14:20:51.253Z"
   },
   {
    "duration": 13,
    "start_time": "2022-04-21T14:20:51.454Z"
   },
   {
    "duration": 33,
    "start_time": "2022-04-21T14:20:51.469Z"
   },
   {
    "duration": 21,
    "start_time": "2022-04-21T14:20:51.504Z"
   },
   {
    "duration": 81,
    "start_time": "2022-04-21T14:20:51.527Z"
   },
   {
    "duration": 9,
    "start_time": "2022-04-21T14:20:51.622Z"
   },
   {
    "duration": 99,
    "start_time": "2022-04-21T14:20:51.636Z"
   },
   {
    "duration": 84,
    "start_time": "2022-04-21T14:20:51.737Z"
   },
   {
    "duration": 32,
    "start_time": "2022-04-21T14:20:51.824Z"
   },
   {
    "duration": 10,
    "start_time": "2022-04-21T14:20:51.858Z"
   },
   {
    "duration": 16,
    "start_time": "2022-04-21T14:20:51.869Z"
   },
   {
    "duration": 9,
    "start_time": "2022-04-21T14:20:51.887Z"
   },
   {
    "duration": 26,
    "start_time": "2022-04-21T14:20:51.924Z"
   },
   {
    "duration": 13,
    "start_time": "2022-04-21T14:20:51.952Z"
   },
   {
    "duration": 10,
    "start_time": "2022-04-21T14:20:51.966Z"
   },
   {
    "duration": 70,
    "start_time": "2022-04-21T14:20:51.978Z"
   },
   {
    "duration": 6,
    "start_time": "2022-04-21T14:20:52.050Z"
   },
   {
    "duration": 18,
    "start_time": "2022-04-21T14:20:52.058Z"
   },
   {
    "duration": 1233,
    "start_time": "2022-04-21T14:20:52.078Z"
   },
   {
    "duration": 34,
    "start_time": "2022-04-21T14:20:53.312Z"
   },
   {
    "duration": 39,
    "start_time": "2022-04-21T14:20:53.348Z"
   },
   {
    "duration": 40,
    "start_time": "2022-04-21T14:20:53.389Z"
   },
   {
    "duration": 24,
    "start_time": "2022-04-21T14:20:53.431Z"
   },
   {
    "duration": 43,
    "start_time": "2022-04-21T14:20:53.457Z"
   },
   {
    "duration": 3484,
    "start_time": "2022-04-21T14:20:53.503Z"
   },
   {
    "duration": 70,
    "start_time": "2022-04-21T14:28:43.026Z"
   },
   {
    "duration": 14,
    "start_time": "2022-04-21T14:46:04.301Z"
   },
   {
    "duration": 62,
    "start_time": "2022-04-21T14:47:03.311Z"
   },
   {
    "duration": 10,
    "start_time": "2022-04-21T14:47:31.646Z"
   },
   {
    "duration": 345,
    "start_time": "2022-04-21T14:53:44.583Z"
   },
   {
    "duration": 7,
    "start_time": "2022-04-21T14:54:06.971Z"
   },
   {
    "duration": 13,
    "start_time": "2022-04-21T14:54:09.588Z"
   },
   {
    "duration": 12,
    "start_time": "2022-04-21T15:05:59.282Z"
   },
   {
    "duration": 14,
    "start_time": "2022-04-21T15:09:42.840Z"
   },
   {
    "duration": 11,
    "start_time": "2022-04-21T15:10:16.673Z"
   },
   {
    "duration": 8,
    "start_time": "2022-04-21T15:22:59.599Z"
   },
   {
    "duration": 33,
    "start_time": "2022-04-21T15:24:51.551Z"
   },
   {
    "duration": 15,
    "start_time": "2022-04-21T15:25:02.051Z"
   },
   {
    "duration": 10,
    "start_time": "2022-04-21T15:25:20.450Z"
   },
   {
    "duration": 12,
    "start_time": "2022-04-21T15:27:12.170Z"
   },
   {
    "duration": 11,
    "start_time": "2022-04-21T15:27:39.361Z"
   },
   {
    "duration": 9,
    "start_time": "2022-04-21T15:27:53.822Z"
   },
   {
    "duration": 10,
    "start_time": "2022-04-21T15:39:49.572Z"
   },
   {
    "duration": 10,
    "start_time": "2022-04-21T15:41:47.583Z"
   },
   {
    "duration": 32,
    "start_time": "2022-04-21T15:44:08.512Z"
   },
   {
    "duration": 11,
    "start_time": "2022-04-21T15:44:15.645Z"
   },
   {
    "duration": 12,
    "start_time": "2022-04-21T15:44:29.603Z"
   },
   {
    "duration": 11,
    "start_time": "2022-04-21T15:44:40.682Z"
   },
   {
    "duration": 13,
    "start_time": "2022-04-21T15:44:58.863Z"
   },
   {
    "duration": 10,
    "start_time": "2022-04-21T15:45:40.870Z"
   },
   {
    "duration": 11,
    "start_time": "2022-04-21T15:46:46.055Z"
   },
   {
    "duration": 12,
    "start_time": "2022-04-21T15:47:09.683Z"
   },
   {
    "duration": 10,
    "start_time": "2022-04-21T15:47:21.524Z"
   },
   {
    "duration": 8,
    "start_time": "2022-04-21T15:48:01.903Z"
   },
   {
    "duration": 10,
    "start_time": "2022-04-21T15:48:06.904Z"
   },
   {
    "duration": 9,
    "start_time": "2022-04-21T15:48:45.549Z"
   },
   {
    "duration": 11,
    "start_time": "2022-04-21T15:48:58.388Z"
   },
   {
    "duration": 9,
    "start_time": "2022-04-21T15:49:07.203Z"
   },
   {
    "duration": 10,
    "start_time": "2022-04-21T15:49:19.203Z"
   },
   {
    "duration": 10,
    "start_time": "2022-04-21T15:49:49.095Z"
   },
   {
    "duration": 13,
    "start_time": "2022-04-21T15:49:55.928Z"
   },
   {
    "duration": 9,
    "start_time": "2022-04-21T15:50:11.083Z"
   },
   {
    "duration": 15,
    "start_time": "2022-04-21T15:56:03.023Z"
   },
   {
    "duration": 11,
    "start_time": "2022-04-21T15:56:12.071Z"
   },
   {
    "duration": 19,
    "start_time": "2022-04-21T15:57:27.280Z"
   },
   {
    "duration": 9,
    "start_time": "2022-04-21T15:57:49.384Z"
   },
   {
    "duration": 12,
    "start_time": "2022-04-21T16:01:06.023Z"
   },
   {
    "duration": 10,
    "start_time": "2022-04-21T16:02:44.983Z"
   },
   {
    "duration": 43,
    "start_time": "2022-04-21T16:21:48.143Z"
   },
   {
    "duration": 15,
    "start_time": "2022-04-21T16:38:28.433Z"
   },
   {
    "duration": 35,
    "start_time": "2022-04-21T16:38:39.904Z"
   },
   {
    "duration": 32,
    "start_time": "2022-04-21T16:38:49.320Z"
   },
   {
    "duration": 37,
    "start_time": "2022-04-21T16:39:05.984Z"
   },
   {
    "duration": 33,
    "start_time": "2022-04-21T16:39:21.085Z"
   },
   {
    "duration": 34,
    "start_time": "2022-04-21T16:39:39.184Z"
   },
   {
    "duration": 22,
    "start_time": "2022-04-21T17:21:13.752Z"
   },
   {
    "duration": 18,
    "start_time": "2022-04-21T17:55:01.283Z"
   },
   {
    "duration": 59,
    "start_time": "2022-04-21T17:57:09.627Z"
   },
   {
    "duration": 80,
    "start_time": "2022-04-21T17:58:50.355Z"
   },
   {
    "duration": 50,
    "start_time": "2022-04-21T18:03:57.915Z"
   },
   {
    "duration": 88,
    "start_time": "2022-04-21T18:04:11.209Z"
   },
   {
    "duration": 84,
    "start_time": "2022-04-21T18:08:23.422Z"
   },
   {
    "duration": 80,
    "start_time": "2022-04-21T18:08:56.610Z"
   },
   {
    "duration": 871,
    "start_time": "2022-04-21T18:15:26.768Z"
   },
   {
    "duration": 895,
    "start_time": "2022-04-21T18:15:45.082Z"
   },
   {
    "duration": 107,
    "start_time": "2022-04-21T18:16:06.121Z"
   },
   {
    "duration": 79,
    "start_time": "2022-04-21T18:16:12.612Z"
   },
   {
    "duration": 73,
    "start_time": "2022-04-21T18:16:37.817Z"
   },
   {
    "duration": 1285,
    "start_time": "2022-04-21T20:49:53.372Z"
   },
   {
    "duration": 140,
    "start_time": "2022-04-21T20:49:54.659Z"
   },
   {
    "duration": 12,
    "start_time": "2022-04-21T20:49:54.800Z"
   },
   {
    "duration": 27,
    "start_time": "2022-04-21T20:49:54.814Z"
   },
   {
    "duration": 10,
    "start_time": "2022-04-21T20:49:54.844Z"
   },
   {
    "duration": 73,
    "start_time": "2022-04-21T20:49:54.856Z"
   },
   {
    "duration": 8,
    "start_time": "2022-04-21T20:49:54.930Z"
   },
   {
    "duration": 70,
    "start_time": "2022-04-21T20:49:54.955Z"
   },
   {
    "duration": 83,
    "start_time": "2022-04-21T20:49:55.027Z"
   },
   {
    "duration": 19,
    "start_time": "2022-04-21T20:49:55.111Z"
   },
   {
    "duration": 14,
    "start_time": "2022-04-21T20:49:55.131Z"
   },
   {
    "duration": 21,
    "start_time": "2022-04-21T20:49:55.146Z"
   },
   {
    "duration": 9,
    "start_time": "2022-04-21T20:49:55.168Z"
   },
   {
    "duration": 28,
    "start_time": "2022-04-21T20:49:55.179Z"
   },
   {
    "duration": 27,
    "start_time": "2022-04-21T20:49:55.209Z"
   },
   {
    "duration": 18,
    "start_time": "2022-04-21T20:49:55.237Z"
   },
   {
    "duration": 40,
    "start_time": "2022-04-21T20:49:55.257Z"
   },
   {
    "duration": 5,
    "start_time": "2022-04-21T20:49:55.298Z"
   },
   {
    "duration": 11,
    "start_time": "2022-04-21T20:49:55.304Z"
   },
   {
    "duration": 906,
    "start_time": "2022-04-21T20:49:55.317Z"
   },
   {
    "duration": 21,
    "start_time": "2022-04-21T20:49:56.224Z"
   },
   {
    "duration": 29,
    "start_time": "2022-04-21T20:49:56.247Z"
   },
   {
    "duration": 15,
    "start_time": "2022-04-21T20:49:56.277Z"
   },
   {
    "duration": 28,
    "start_time": "2022-04-21T20:49:56.293Z"
   },
   {
    "duration": 43,
    "start_time": "2022-04-21T20:49:56.323Z"
   },
   {
    "duration": 69,
    "start_time": "2022-04-21T20:49:56.368Z"
   },
   {
    "duration": 4,
    "start_time": "2022-04-21T20:49:56.438Z"
   },
   {
    "duration": 165,
    "start_time": "2022-04-21T20:49:56.444Z"
   },
   {
    "duration": 69,
    "start_time": "2022-04-21T20:49:56.611Z"
   },
   {
    "duration": 74,
    "start_time": "2022-04-21T20:49:56.682Z"
   },
   {
    "duration": 23,
    "start_time": "2022-04-21T20:49:56.758Z"
   },
   {
    "duration": 136,
    "start_time": "2022-04-21T20:49:56.783Z"
   },
   {
    "duration": 0,
    "start_time": "2022-04-21T20:49:56.921Z"
   },
   {
    "duration": 3,
    "start_time": "2022-04-21T20:56:43.278Z"
   },
   {
    "duration": 120,
    "start_time": "2022-04-21T20:58:32.637Z"
   },
   {
    "duration": 4,
    "start_time": "2022-04-21T21:01:10.744Z"
   },
   {
    "duration": 69,
    "start_time": "2022-04-21T21:01:12.406Z"
   },
   {
    "duration": 67,
    "start_time": "2022-04-21T21:01:16.798Z"
   },
   {
    "duration": 17,
    "start_time": "2022-04-21T21:29:13.839Z"
   },
   {
    "duration": 4,
    "start_time": "2022-04-21T21:29:15.075Z"
   },
   {
    "duration": 78,
    "start_time": "2022-04-21T21:29:17.386Z"
   },
   {
    "duration": 10,
    "start_time": "2022-04-21T21:36:58.659Z"
   },
   {
    "duration": 79,
    "start_time": "2022-04-21T21:40:13.400Z"
   },
   {
    "duration": 2309,
    "start_time": "2022-04-21T21:40:26.008Z"
   },
   {
    "duration": 5,
    "start_time": "2022-04-21T21:40:38.806Z"
   },
   {
    "duration": 2356,
    "start_time": "2022-04-21T21:41:09.618Z"
   },
   {
    "duration": 14,
    "start_time": "2022-04-21T21:41:39.508Z"
   },
   {
    "duration": 13,
    "start_time": "2022-04-21T21:42:01.658Z"
   },
   {
    "duration": 12,
    "start_time": "2022-04-21T21:43:53.246Z"
   },
   {
    "duration": 13,
    "start_time": "2022-04-21T21:44:02.183Z"
   },
   {
    "duration": 4,
    "start_time": "2022-04-21T21:44:15.978Z"
   },
   {
    "duration": 5,
    "start_time": "2022-04-21T21:45:46.726Z"
   },
   {
    "duration": 4,
    "start_time": "2022-04-21T21:47:34.586Z"
   },
   {
    "duration": 6,
    "start_time": "2022-04-21T21:48:31.836Z"
   },
   {
    "duration": 4,
    "start_time": "2022-04-21T21:57:34.586Z"
   },
   {
    "duration": 4,
    "start_time": "2022-04-21T22:05:57.784Z"
   },
   {
    "duration": 4,
    "start_time": "2022-04-21T22:05:58.787Z"
   },
   {
    "duration": 4,
    "start_time": "2022-04-21T22:05:59.549Z"
   },
   {
    "duration": 4,
    "start_time": "2022-04-21T22:06:04.421Z"
   },
   {
    "duration": 3,
    "start_time": "2022-04-21T22:06:06.818Z"
   },
   {
    "duration": 5,
    "start_time": "2022-04-21T22:06:07.550Z"
   },
   {
    "duration": 3,
    "start_time": "2022-04-21T22:10:41.237Z"
   },
   {
    "duration": 2285,
    "start_time": "2022-04-21T22:12:00.126Z"
   },
   {
    "duration": 2312,
    "start_time": "2022-04-21T22:12:17.264Z"
   },
   {
    "duration": 4,
    "start_time": "2022-04-21T22:12:32.346Z"
   },
   {
    "duration": 4,
    "start_time": "2022-04-21T22:12:51.831Z"
   },
   {
    "duration": 4,
    "start_time": "2022-04-21T22:13:27.398Z"
   },
   {
    "duration": 4,
    "start_time": "2022-04-21T22:13:47.238Z"
   },
   {
    "duration": 3,
    "start_time": "2022-04-21T22:40:57.268Z"
   },
   {
    "duration": 3,
    "start_time": "2022-04-21T22:40:59.316Z"
   },
   {
    "duration": 10,
    "start_time": "2022-04-21T22:41:04.024Z"
   },
   {
    "duration": 1217,
    "start_time": "2022-04-21T22:41:37.579Z"
   },
   {
    "duration": 148,
    "start_time": "2022-04-21T22:41:38.798Z"
   },
   {
    "duration": 11,
    "start_time": "2022-04-21T22:41:38.948Z"
   },
   {
    "duration": 30,
    "start_time": "2022-04-21T22:41:38.961Z"
   },
   {
    "duration": 6,
    "start_time": "2022-04-21T22:41:38.993Z"
   },
   {
    "duration": 84,
    "start_time": "2022-04-21T22:41:39.000Z"
   },
   {
    "duration": 7,
    "start_time": "2022-04-21T22:41:39.086Z"
   },
   {
    "duration": 83,
    "start_time": "2022-04-21T22:41:39.095Z"
   },
   {
    "duration": 85,
    "start_time": "2022-04-21T22:41:39.179Z"
   },
   {
    "duration": 19,
    "start_time": "2022-04-21T22:41:39.267Z"
   },
   {
    "duration": 10,
    "start_time": "2022-04-21T22:41:39.288Z"
   },
   {
    "duration": 13,
    "start_time": "2022-04-21T22:41:39.299Z"
   },
   {
    "duration": 8,
    "start_time": "2022-04-21T22:41:39.313Z"
   },
   {
    "duration": 43,
    "start_time": "2022-04-21T22:41:39.323Z"
   },
   {
    "duration": 16,
    "start_time": "2022-04-21T22:41:39.367Z"
   },
   {
    "duration": 26,
    "start_time": "2022-04-21T22:41:39.384Z"
   },
   {
    "duration": 38,
    "start_time": "2022-04-21T22:41:39.411Z"
   },
   {
    "duration": 6,
    "start_time": "2022-04-21T22:41:39.451Z"
   },
   {
    "duration": 15,
    "start_time": "2022-04-21T22:41:39.458Z"
   },
   {
    "duration": 1084,
    "start_time": "2022-04-21T22:41:39.475Z"
   },
   {
    "duration": 24,
    "start_time": "2022-04-21T22:41:40.561Z"
   },
   {
    "duration": 32,
    "start_time": "2022-04-21T22:41:40.587Z"
   },
   {
    "duration": 34,
    "start_time": "2022-04-21T22:41:40.621Z"
   },
   {
    "duration": 24,
    "start_time": "2022-04-21T22:41:40.656Z"
   },
   {
    "duration": 30,
    "start_time": "2022-04-21T22:41:40.682Z"
   },
   {
    "duration": 78,
    "start_time": "2022-04-21T22:41:40.714Z"
   },
   {
    "duration": 5,
    "start_time": "2022-04-21T22:41:40.794Z"
   },
   {
    "duration": 167,
    "start_time": "2022-04-21T22:41:40.802Z"
   },
   {
    "duration": 34,
    "start_time": "2022-04-21T22:41:40.971Z"
   },
   {
    "duration": 27,
    "start_time": "2022-04-21T22:41:41.054Z"
   },
   {
    "duration": 21,
    "start_time": "2022-04-21T22:41:41.083Z"
   },
   {
    "duration": 50,
    "start_time": "2022-04-21T22:41:41.106Z"
   },
   {
    "duration": 88,
    "start_time": "2022-04-21T22:41:41.158Z"
   },
   {
    "duration": 8,
    "start_time": "2022-04-21T22:41:41.248Z"
   },
   {
    "duration": 10,
    "start_time": "2022-04-21T22:41:41.257Z"
   },
   {
    "duration": 113,
    "start_time": "2022-04-21T22:41:41.268Z"
   },
   {
    "duration": 0,
    "start_time": "2022-04-21T22:41:41.383Z"
   },
   {
    "duration": 3,
    "start_time": "2022-04-21T22:42:52.716Z"
   },
   {
    "duration": 3,
    "start_time": "2022-04-21T22:42:57.979Z"
   },
   {
    "duration": 4,
    "start_time": "2022-04-21T22:43:03.756Z"
   },
   {
    "duration": 4,
    "start_time": "2022-04-21T22:43:12.515Z"
   },
   {
    "duration": 9,
    "start_time": "2022-04-21T22:43:24.016Z"
   },
   {
    "duration": 9,
    "start_time": "2022-04-21T22:43:42.444Z"
   },
   {
    "duration": 132,
    "start_time": "2022-04-21T22:43:58.904Z"
   },
   {
    "duration": 4,
    "start_time": "2022-04-21T22:44:04.696Z"
   },
   {
    "duration": 4,
    "start_time": "2022-04-21T22:44:15.044Z"
   },
   {
    "duration": 10,
    "start_time": "2022-04-21T22:45:05.383Z"
   },
   {
    "duration": 4,
    "start_time": "2022-04-21T22:46:46.853Z"
   },
   {
    "duration": 10,
    "start_time": "2022-04-21T22:46:50.381Z"
   },
   {
    "duration": 4,
    "start_time": "2022-04-21T22:48:39.943Z"
   },
   {
    "duration": 9,
    "start_time": "2022-04-21T22:48:42.783Z"
   },
   {
    "duration": 10,
    "start_time": "2022-04-21T22:48:50.901Z"
   },
   {
    "duration": 3,
    "start_time": "2022-04-21T22:50:06.161Z"
   },
   {
    "duration": 4,
    "start_time": "2022-04-21T22:50:09.521Z"
   },
   {
    "duration": 4,
    "start_time": "2022-04-21T22:50:13.021Z"
   },
   {
    "duration": 4,
    "start_time": "2022-04-21T22:50:16.989Z"
   },
   {
    "duration": 6,
    "start_time": "2022-04-21T22:51:36.419Z"
   },
   {
    "duration": 4,
    "start_time": "2022-04-21T22:51:56.533Z"
   },
   {
    "duration": 4,
    "start_time": "2022-04-21T22:52:03.441Z"
   },
   {
    "duration": 3,
    "start_time": "2022-04-21T22:52:11.619Z"
   },
   {
    "duration": 4,
    "start_time": "2022-04-21T22:52:19.406Z"
   },
   {
    "duration": 1130,
    "start_time": "2022-04-21T22:54:45.958Z"
   },
   {
    "duration": 142,
    "start_time": "2022-04-21T22:54:47.090Z"
   },
   {
    "duration": 11,
    "start_time": "2022-04-21T22:54:47.234Z"
   },
   {
    "duration": 23,
    "start_time": "2022-04-21T22:54:47.246Z"
   },
   {
    "duration": 6,
    "start_time": "2022-04-21T22:54:47.271Z"
   },
   {
    "duration": 88,
    "start_time": "2022-04-21T22:54:47.279Z"
   },
   {
    "duration": 8,
    "start_time": "2022-04-21T22:54:47.368Z"
   },
   {
    "duration": 82,
    "start_time": "2022-04-21T22:54:47.377Z"
   },
   {
    "duration": 77,
    "start_time": "2022-04-21T22:54:47.460Z"
   },
   {
    "duration": 32,
    "start_time": "2022-04-21T22:54:47.538Z"
   },
   {
    "duration": 15,
    "start_time": "2022-04-21T22:54:47.571Z"
   },
   {
    "duration": 15,
    "start_time": "2022-04-21T22:54:47.587Z"
   },
   {
    "duration": 8,
    "start_time": "2022-04-21T22:54:47.603Z"
   },
   {
    "duration": 43,
    "start_time": "2022-04-21T22:54:47.614Z"
   },
   {
    "duration": 13,
    "start_time": "2022-04-21T22:54:47.658Z"
   },
   {
    "duration": 15,
    "start_time": "2022-04-21T22:54:47.672Z"
   },
   {
    "duration": 31,
    "start_time": "2022-04-21T22:54:47.689Z"
   },
   {
    "duration": 5,
    "start_time": "2022-04-21T22:54:47.721Z"
   },
   {
    "duration": 28,
    "start_time": "2022-04-21T22:54:47.727Z"
   },
   {
    "duration": 1054,
    "start_time": "2022-04-21T22:54:47.757Z"
   },
   {
    "duration": 23,
    "start_time": "2022-04-21T22:54:48.813Z"
   },
   {
    "duration": 31,
    "start_time": "2022-04-21T22:54:48.838Z"
   },
   {
    "duration": 17,
    "start_time": "2022-04-21T22:54:48.871Z"
   },
   {
    "duration": 24,
    "start_time": "2022-04-21T22:54:48.890Z"
   },
   {
    "duration": 50,
    "start_time": "2022-04-21T22:54:48.916Z"
   },
   {
    "duration": 81,
    "start_time": "2022-04-21T22:54:48.968Z"
   },
   {
    "duration": 4,
    "start_time": "2022-04-21T22:54:49.051Z"
   },
   {
    "duration": 155,
    "start_time": "2022-04-21T22:54:49.057Z"
   },
   {
    "duration": 54,
    "start_time": "2022-04-21T22:54:49.214Z"
   },
   {
    "duration": 22,
    "start_time": "2022-04-21T22:54:49.270Z"
   },
   {
    "duration": 77,
    "start_time": "2022-04-21T22:54:49.294Z"
   },
   {
    "duration": 3,
    "start_time": "2022-04-21T22:54:49.373Z"
   },
   {
    "duration": 89,
    "start_time": "2022-04-21T22:54:49.378Z"
   },
   {
    "duration": 3,
    "start_time": "2022-04-21T22:54:49.469Z"
   },
   {
    "duration": 14,
    "start_time": "2022-04-21T22:54:49.474Z"
   },
   {
    "duration": 12,
    "start_time": "2022-04-21T22:54:49.490Z"
   },
   {
    "duration": 24,
    "start_time": "2022-04-21T22:54:49.504Z"
   },
   {
    "duration": 3,
    "start_time": "2022-04-21T23:01:28.039Z"
   },
   {
    "duration": 4,
    "start_time": "2022-04-21T23:01:31.255Z"
   },
   {
    "duration": 4,
    "start_time": "2022-04-21T23:03:56.532Z"
   },
   {
    "duration": 4,
    "start_time": "2022-04-21T23:04:11.075Z"
   },
   {
    "duration": 3,
    "start_time": "2022-04-21T23:06:27.568Z"
   },
   {
    "duration": 3,
    "start_time": "2022-04-21T23:06:29.191Z"
   },
   {
    "duration": 4,
    "start_time": "2022-04-21T23:06:30.875Z"
   },
   {
    "duration": 4,
    "start_time": "2022-04-21T23:06:32.543Z"
   },
   {
    "duration": 4,
    "start_time": "2022-04-21T23:30:35.944Z"
   },
   {
    "duration": 3,
    "start_time": "2022-04-21T23:44:37.642Z"
   },
   {
    "duration": 3,
    "start_time": "2022-04-22T01:02:47.555Z"
   },
   {
    "duration": 4,
    "start_time": "2022-04-22T01:04:19.276Z"
   },
   {
    "duration": 77,
    "start_time": "2022-04-22T01:04:56.640Z"
   },
   {
    "duration": 3,
    "start_time": "2022-04-22T01:07:55.643Z"
   },
   {
    "duration": 67,
    "start_time": "2022-04-22T01:07:58.527Z"
   },
   {
    "duration": 77,
    "start_time": "2022-04-22T01:10:21.843Z"
   },
   {
    "duration": 3,
    "start_time": "2022-04-22T01:12:25.283Z"
   },
   {
    "duration": 111,
    "start_time": "2022-04-22T01:12:27.595Z"
   },
   {
    "duration": 729,
    "start_time": "2022-04-22T01:12:58.863Z"
   },
   {
    "duration": 21,
    "start_time": "2022-04-22T01:14:39.082Z"
   },
   {
    "duration": 9,
    "start_time": "2022-04-22T01:14:56.555Z"
   },
   {
    "duration": 5,
    "start_time": "2022-04-22T01:15:02.394Z"
   },
   {
    "duration": 3,
    "start_time": "2022-04-22T01:15:14.603Z"
   },
   {
    "duration": 3,
    "start_time": "2022-04-22T01:16:42.903Z"
   },
   {
    "duration": 107,
    "start_time": "2022-04-22T01:16:46.191Z"
   },
   {
    "duration": 4,
    "start_time": "2022-04-22T01:16:57.783Z"
   },
   {
    "duration": 29,
    "start_time": "2022-04-22T01:16:59.756Z"
   },
   {
    "duration": 3,
    "start_time": "2022-04-22T01:17:58.555Z"
   },
   {
    "duration": 26,
    "start_time": "2022-04-22T01:18:00.955Z"
   },
   {
    "duration": 3,
    "start_time": "2022-04-22T01:18:20.116Z"
   },
   {
    "duration": 109,
    "start_time": "2022-04-22T01:18:24.495Z"
   },
   {
    "duration": 3,
    "start_time": "2022-04-22T01:20:52.935Z"
   },
   {
    "duration": 695,
    "start_time": "2022-04-22T01:20:55.083Z"
   },
   {
    "duration": 3,
    "start_time": "2022-04-22T01:21:26.492Z"
   },
   {
    "duration": 76,
    "start_time": "2022-04-22T01:21:28.915Z"
   },
   {
    "duration": 1743,
    "start_time": "2022-04-22T01:23:18.083Z"
   },
   {
    "duration": 94,
    "start_time": "2022-04-22T01:23:39.937Z"
   },
   {
    "duration": 85,
    "start_time": "2022-04-22T01:24:13.673Z"
   },
   {
    "duration": 4,
    "start_time": "2022-04-22T01:36:46.526Z"
   },
   {
    "duration": 88,
    "start_time": "2022-04-22T01:37:01.065Z"
   },
   {
    "duration": 4,
    "start_time": "2022-04-22T01:37:06.373Z"
   },
   {
    "duration": 2135,
    "start_time": "2022-04-22T01:38:09.468Z"
   },
   {
    "duration": 4,
    "start_time": "2022-04-22T01:38:18.330Z"
   },
   {
    "duration": 4,
    "start_time": "2022-04-22T01:39:13.049Z"
   },
   {
    "duration": 295,
    "start_time": "2022-04-22T02:15:10.256Z"
   },
   {
    "duration": 3,
    "start_time": "2022-04-22T02:41:46.938Z"
   },
   {
    "duration": 145,
    "start_time": "2022-04-22T02:42:01.366Z"
   },
   {
    "duration": 4,
    "start_time": "2022-04-22T02:42:25.530Z"
   },
   {
    "duration": 3,
    "start_time": "2022-04-22T02:42:33.674Z"
   },
   {
    "duration": 3,
    "start_time": "2022-04-22T02:42:58.076Z"
   },
   {
    "duration": 3,
    "start_time": "2022-04-22T02:43:36.591Z"
   },
   {
    "duration": 4,
    "start_time": "2022-04-22T02:43:57.120Z"
   },
   {
    "duration": 10,
    "start_time": "2022-04-22T02:44:07.284Z"
   },
   {
    "duration": 4,
    "start_time": "2022-04-22T02:44:15.036Z"
   },
   {
    "duration": 4,
    "start_time": "2022-04-22T02:44:37.343Z"
   },
   {
    "duration": 11,
    "start_time": "2022-04-22T02:45:11.107Z"
   },
   {
    "duration": 141,
    "start_time": "2022-04-22T02:45:11.119Z"
   },
   {
    "duration": 8,
    "start_time": "2022-04-22T02:45:11.261Z"
   },
   {
    "duration": 20,
    "start_time": "2022-04-22T02:45:11.270Z"
   },
   {
    "duration": 7,
    "start_time": "2022-04-22T02:45:11.291Z"
   },
   {
    "duration": 9,
    "start_time": "2022-04-22T02:45:11.299Z"
   },
   {
    "duration": 180,
    "start_time": "2022-04-22T02:45:11.309Z"
   },
   {
    "duration": 49,
    "start_time": "2022-04-22T02:45:11.491Z"
   },
   {
    "duration": 58,
    "start_time": "2022-04-22T02:45:11.541Z"
   },
   {
    "duration": 18,
    "start_time": "2022-04-22T02:45:11.601Z"
   },
   {
    "duration": 8,
    "start_time": "2022-04-22T02:45:11.620Z"
   },
   {
    "duration": 30,
    "start_time": "2022-04-22T02:45:11.629Z"
   },
   {
    "duration": 8,
    "start_time": "2022-04-22T02:45:11.661Z"
   },
   {
    "duration": 20,
    "start_time": "2022-04-22T02:45:11.671Z"
   },
   {
    "duration": 11,
    "start_time": "2022-04-22T02:45:11.693Z"
   },
   {
    "duration": 8,
    "start_time": "2022-04-22T02:45:11.705Z"
   },
   {
    "duration": 52,
    "start_time": "2022-04-22T02:45:11.714Z"
   },
   {
    "duration": 4,
    "start_time": "2022-04-22T02:45:11.768Z"
   },
   {
    "duration": 5,
    "start_time": "2022-04-22T02:45:11.773Z"
   },
   {
    "duration": 934,
    "start_time": "2022-04-22T02:45:11.780Z"
   },
   {
    "duration": 17,
    "start_time": "2022-04-22T02:45:12.715Z"
   },
   {
    "duration": 40,
    "start_time": "2022-04-22T02:45:12.734Z"
   },
   {
    "duration": 13,
    "start_time": "2022-04-22T02:45:12.775Z"
   },
   {
    "duration": 21,
    "start_time": "2022-04-22T02:45:12.790Z"
   },
   {
    "duration": 44,
    "start_time": "2022-04-22T02:45:12.812Z"
   },
   {
    "duration": 54,
    "start_time": "2022-04-22T02:45:12.858Z"
   },
   {
    "duration": 4,
    "start_time": "2022-04-22T02:45:12.913Z"
   },
   {
    "duration": 14,
    "start_time": "2022-04-22T02:45:12.919Z"
   },
   {
    "duration": 47,
    "start_time": "2022-04-22T02:45:12.935Z"
   },
   {
    "duration": 20,
    "start_time": "2022-04-22T02:45:12.983Z"
   },
   {
    "duration": 15,
    "start_time": "2022-04-22T02:45:13.004Z"
   },
   {
    "duration": 3,
    "start_time": "2022-04-22T02:45:13.020Z"
   },
   {
    "duration": 76,
    "start_time": "2022-04-22T02:45:13.025Z"
   },
   {
    "duration": 3,
    "start_time": "2022-04-22T02:45:13.102Z"
   },
   {
    "duration": 6,
    "start_time": "2022-04-22T02:45:13.107Z"
   },
   {
    "duration": 7,
    "start_time": "2022-04-22T02:45:13.114Z"
   },
   {
    "duration": 9,
    "start_time": "2022-04-22T02:45:13.122Z"
   },
   {
    "duration": 11,
    "start_time": "2022-04-22T02:45:13.132Z"
   },
   {
    "duration": 25,
    "start_time": "2022-04-22T02:45:13.144Z"
   },
   {
    "duration": 14,
    "start_time": "2022-04-22T02:45:13.171Z"
   },
   {
    "duration": 68,
    "start_time": "2022-04-22T02:45:13.187Z"
   },
   {
    "duration": 3,
    "start_time": "2022-04-22T02:45:13.257Z"
   },
   {
    "duration": 6,
    "start_time": "2022-04-22T02:45:13.261Z"
   },
   {
    "duration": 7,
    "start_time": "2022-04-22T02:45:13.268Z"
   },
   {
    "duration": 68,
    "start_time": "2022-04-22T02:46:30.104Z"
   },
   {
    "duration": 4,
    "start_time": "2022-04-22T02:46:30.174Z"
   },
   {
    "duration": 13,
    "start_time": "2022-04-22T02:46:44.421Z"
   },
   {
    "duration": 1062,
    "start_time": "2022-04-22T02:48:27.099Z"
   },
   {
    "duration": 139,
    "start_time": "2022-04-22T02:48:28.163Z"
   },
   {
    "duration": 10,
    "start_time": "2022-04-22T02:48:28.304Z"
   },
   {
    "duration": 20,
    "start_time": "2022-04-22T02:48:28.316Z"
   },
   {
    "duration": 15,
    "start_time": "2022-04-22T02:48:28.339Z"
   },
   {
    "duration": 6,
    "start_time": "2022-04-22T02:48:28.356Z"
   },
   {
    "duration": 167,
    "start_time": "2022-04-22T02:48:28.363Z"
   },
   {
    "duration": 66,
    "start_time": "2022-04-22T02:48:28.532Z"
   },
   {
    "duration": 71,
    "start_time": "2022-04-22T02:48:28.600Z"
   },
   {
    "duration": 19,
    "start_time": "2022-04-22T02:48:28.673Z"
   },
   {
    "duration": 10,
    "start_time": "2022-04-22T02:48:28.693Z"
   },
   {
    "duration": 14,
    "start_time": "2022-04-22T02:48:28.705Z"
   },
   {
    "duration": 8,
    "start_time": "2022-04-22T02:48:28.720Z"
   },
   {
    "duration": 20,
    "start_time": "2022-04-22T02:48:28.754Z"
   },
   {
    "duration": 12,
    "start_time": "2022-04-22T02:48:28.775Z"
   },
   {
    "duration": 10,
    "start_time": "2022-04-22T02:48:28.789Z"
   },
   {
    "duration": 53,
    "start_time": "2022-04-22T02:48:28.801Z"
   },
   {
    "duration": 5,
    "start_time": "2022-04-22T02:48:28.856Z"
   },
   {
    "duration": 7,
    "start_time": "2022-04-22T02:48:28.863Z"
   },
   {
    "duration": 1040,
    "start_time": "2022-04-22T02:48:28.871Z"
   },
   {
    "duration": 20,
    "start_time": "2022-04-22T02:48:29.913Z"
   },
   {
    "duration": 28,
    "start_time": "2022-04-22T02:48:29.935Z"
   },
   {
    "duration": 16,
    "start_time": "2022-04-22T02:48:29.964Z"
   },
   {
    "duration": 22,
    "start_time": "2022-04-22T02:48:29.981Z"
   },
   {
    "duration": 23,
    "start_time": "2022-04-22T02:48:30.005Z"
   },
   {
    "duration": 77,
    "start_time": "2022-04-22T02:48:30.029Z"
   },
   {
    "duration": 4,
    "start_time": "2022-04-22T02:48:30.108Z"
   },
   {
    "duration": 176,
    "start_time": "2022-04-22T02:48:30.114Z"
   },
   {
    "duration": 70,
    "start_time": "2022-04-22T02:48:30.292Z"
   },
   {
    "duration": 21,
    "start_time": "2022-04-22T02:48:30.364Z"
   },
   {
    "duration": 72,
    "start_time": "2022-04-22T02:48:30.387Z"
   },
   {
    "duration": 3,
    "start_time": "2022-04-22T02:48:30.461Z"
   },
   {
    "duration": 66,
    "start_time": "2022-04-22T02:48:30.466Z"
   },
   {
    "duration": 3,
    "start_time": "2022-04-22T02:48:30.534Z"
   },
   {
    "duration": 24,
    "start_time": "2022-04-22T02:48:30.538Z"
   },
   {
    "duration": 11,
    "start_time": "2022-04-22T02:48:30.564Z"
   },
   {
    "duration": 36,
    "start_time": "2022-04-22T02:48:30.576Z"
   },
   {
    "duration": 11,
    "start_time": "2022-04-22T02:48:30.614Z"
   },
   {
    "duration": 9,
    "start_time": "2022-04-22T02:48:30.627Z"
   },
   {
    "duration": 7,
    "start_time": "2022-04-22T02:48:30.637Z"
   },
   {
    "duration": 75,
    "start_time": "2022-04-22T02:48:30.647Z"
   },
   {
    "duration": 13,
    "start_time": "2022-04-22T02:48:30.723Z"
   },
   {
    "duration": 16,
    "start_time": "2022-04-22T02:48:30.737Z"
   },
   {
    "duration": 25,
    "start_time": "2022-04-22T02:48:30.755Z"
   },
   {
    "duration": 25,
    "start_time": "2022-04-22T02:48:30.782Z"
   },
   {
    "duration": 108,
    "start_time": "2022-04-22T03:10:10.541Z"
   },
   {
    "duration": 13,
    "start_time": "2022-04-22T03:10:38.892Z"
   },
   {
    "duration": 4,
    "start_time": "2022-04-22T03:10:38.914Z"
   },
   {
    "duration": 12,
    "start_time": "2022-04-22T03:10:43.180Z"
   },
   {
    "duration": 4,
    "start_time": "2022-04-22T03:10:43.209Z"
   },
   {
    "duration": 13,
    "start_time": "2022-04-22T03:10:51.078Z"
   },
   {
    "duration": 2191,
    "start_time": "2022-04-22T03:10:55.412Z"
   },
   {
    "duration": 4,
    "start_time": "2022-04-22T03:11:06.254Z"
   },
   {
    "duration": 4,
    "start_time": "2022-04-22T03:13:32.991Z"
   },
   {
    "duration": 3,
    "start_time": "2022-04-22T03:13:33.029Z"
   },
   {
    "duration": 12,
    "start_time": "2022-04-22T03:17:39.632Z"
   },
   {
    "duration": 13,
    "start_time": "2022-04-22T03:17:47.217Z"
   },
   {
    "duration": 6,
    "start_time": "2022-04-22T03:19:50.099Z"
   },
   {
    "duration": 9,
    "start_time": "2022-04-22T03:19:52.423Z"
   },
   {
    "duration": 2225,
    "start_time": "2022-04-22T03:20:10.407Z"
   },
   {
    "duration": 5,
    "start_time": "2022-04-22T03:20:27.576Z"
   },
   {
    "duration": 5,
    "start_time": "2022-04-22T03:20:50.577Z"
   },
   {
    "duration": 4,
    "start_time": "2022-04-22T03:21:11.035Z"
   },
   {
    "duration": 4,
    "start_time": "2022-04-22T03:22:41.317Z"
   },
   {
    "duration": 5,
    "start_time": "2022-04-22T03:27:53.742Z"
   },
   {
    "duration": 4,
    "start_time": "2022-04-22T03:35:27.965Z"
   },
   {
    "duration": 4,
    "start_time": "2022-04-22T03:35:28.654Z"
   },
   {
    "duration": 3,
    "start_time": "2022-04-22T03:35:31.470Z"
   },
   {
    "duration": 3,
    "start_time": "2022-04-22T03:35:32.050Z"
   },
   {
    "duration": 5,
    "start_time": "2022-04-22T03:35:32.899Z"
   },
   {
    "duration": 3,
    "start_time": "2022-04-22T03:39:29.387Z"
   },
   {
    "duration": 3,
    "start_time": "2022-04-22T03:39:31.194Z"
   },
   {
    "duration": 3,
    "start_time": "2022-04-22T03:39:33.509Z"
   },
   {
    "duration": 3,
    "start_time": "2022-04-22T03:39:35.182Z"
   },
   {
    "duration": 4,
    "start_time": "2022-04-22T03:39:37.342Z"
   },
   {
    "duration": 32,
    "start_time": "2022-04-22T03:41:28.386Z"
   },
   {
    "duration": 5,
    "start_time": "2022-04-22T03:43:10.136Z"
   },
   {
    "duration": 14,
    "start_time": "2022-04-22T03:43:40.637Z"
   },
   {
    "duration": 31,
    "start_time": "2022-04-22T03:43:49.688Z"
   },
   {
    "duration": 4,
    "start_time": "2022-04-22T03:43:49.721Z"
   },
   {
    "duration": 13,
    "start_time": "2022-04-22T03:43:57.915Z"
   },
   {
    "duration": 4,
    "start_time": "2022-04-22T03:44:11.199Z"
   },
   {
    "duration": 4,
    "start_time": "2022-04-22T03:44:18.220Z"
   },
   {
    "duration": 5,
    "start_time": "2022-04-22T03:44:24.587Z"
   },
   {
    "duration": 3,
    "start_time": "2022-04-22T03:44:34.973Z"
   },
   {
    "duration": 3,
    "start_time": "2022-04-22T03:44:38.325Z"
   },
   {
    "duration": 3,
    "start_time": "2022-04-22T03:44:39.670Z"
   },
   {
    "duration": 4,
    "start_time": "2022-04-22T03:44:42.959Z"
   },
   {
    "duration": 5,
    "start_time": "2022-04-22T03:44:44.656Z"
   },
   {
    "duration": 2158,
    "start_time": "2022-04-22T03:50:42.230Z"
   },
   {
    "duration": 33,
    "start_time": "2022-04-22T03:50:58.424Z"
   },
   {
    "duration": 4,
    "start_time": "2022-04-22T03:52:07.657Z"
   },
   {
    "duration": 3,
    "start_time": "2022-04-22T03:52:23.560Z"
   },
   {
    "duration": 9,
    "start_time": "2022-04-22T03:52:26.956Z"
   },
   {
    "duration": 4,
    "start_time": "2022-04-22T03:52:26.994Z"
   },
   {
    "duration": 7,
    "start_time": "2022-04-22T03:52:36.879Z"
   },
   {
    "duration": 7,
    "start_time": "2022-04-22T03:52:46.828Z"
   },
   {
    "duration": 32,
    "start_time": "2022-04-22T03:53:20.653Z"
   },
   {
    "duration": 3,
    "start_time": "2022-04-22T03:53:32.254Z"
   },
   {
    "duration": 10,
    "start_time": "2022-04-22T03:53:37.675Z"
   },
   {
    "duration": 6,
    "start_time": "2022-04-22T03:53:47.283Z"
   },
   {
    "duration": 32,
    "start_time": "2022-04-22T03:54:04.904Z"
   },
   {
    "duration": 4,
    "start_time": "2022-04-22T03:54:06.046Z"
   },
   {
    "duration": 138,
    "start_time": "2022-04-22T03:54:06.611Z"
   },
   {
    "duration": 6,
    "start_time": "2022-04-22T03:54:07.796Z"
   },
   {
    "duration": 7,
    "start_time": "2022-04-22T03:54:10.810Z"
   },
   {
    "duration": 2,
    "start_time": "2022-04-22T03:54:36.250Z"
   },
   {
    "duration": 6,
    "start_time": "2022-04-22T03:54:39.593Z"
   },
   {
    "duration": 7,
    "start_time": "2022-04-22T03:54:41.824Z"
   },
   {
    "duration": 3,
    "start_time": "2022-04-22T03:56:10.525Z"
   },
   {
    "duration": 7,
    "start_time": "2022-04-22T03:56:11.991Z"
   },
   {
    "duration": 8,
    "start_time": "2022-04-22T03:56:13.157Z"
   },
   {
    "duration": 33,
    "start_time": "2022-04-22T03:56:20.451Z"
   },
   {
    "duration": 4,
    "start_time": "2022-04-22T03:56:21.820Z"
   },
   {
    "duration": 2,
    "start_time": "2022-04-22T03:56:21.854Z"
   },
   {
    "duration": 3,
    "start_time": "2022-04-22T03:56:50.303Z"
   },
   {
    "duration": 6,
    "start_time": "2022-04-22T03:56:53.378Z"
   },
   {
    "duration": 7,
    "start_time": "2022-04-22T03:56:54.299Z"
   },
   {
    "duration": 31,
    "start_time": "2022-04-22T03:57:26.039Z"
   },
   {
    "duration": 4,
    "start_time": "2022-04-22T03:57:26.074Z"
   },
   {
    "duration": 3,
    "start_time": "2022-04-22T03:57:26.976Z"
   },
   {
    "duration": 5,
    "start_time": "2022-04-22T03:57:27.701Z"
   },
   {
    "duration": 6,
    "start_time": "2022-04-22T03:57:28.338Z"
   },
   {
    "duration": 33,
    "start_time": "2022-04-22T03:58:13.004Z"
   },
   {
    "duration": 1533,
    "start_time": "2022-04-22T11:49:46.814Z"
   },
   {
    "duration": 191,
    "start_time": "2022-04-22T11:49:48.349Z"
   },
   {
    "duration": 12,
    "start_time": "2022-04-22T11:49:48.542Z"
   },
   {
    "duration": 22,
    "start_time": "2022-04-22T11:49:48.556Z"
   },
   {
    "duration": 17,
    "start_time": "2022-04-22T11:49:48.579Z"
   },
   {
    "duration": 16,
    "start_time": "2022-04-22T11:49:48.598Z"
   },
   {
    "duration": 358,
    "start_time": "2022-04-22T11:49:48.616Z"
   },
   {
    "duration": 86,
    "start_time": "2022-04-22T11:49:48.976Z"
   },
   {
    "duration": 94,
    "start_time": "2022-04-22T11:49:49.063Z"
   },
   {
    "duration": 21,
    "start_time": "2022-04-22T11:49:49.160Z"
   },
   {
    "duration": 17,
    "start_time": "2022-04-22T11:49:49.192Z"
   },
   {
    "duration": 51,
    "start_time": "2022-04-22T11:49:49.211Z"
   },
   {
    "duration": 9,
    "start_time": "2022-04-22T11:49:49.264Z"
   },
   {
    "duration": 32,
    "start_time": "2022-04-22T11:49:49.275Z"
   },
   {
    "duration": 36,
    "start_time": "2022-04-22T11:49:49.309Z"
   },
   {
    "duration": 11,
    "start_time": "2022-04-22T11:49:49.347Z"
   },
   {
    "duration": 41,
    "start_time": "2022-04-22T11:49:49.360Z"
   },
   {
    "duration": 14,
    "start_time": "2022-04-22T11:49:49.408Z"
   },
   {
    "duration": 23,
    "start_time": "2022-04-22T11:49:49.423Z"
   },
   {
    "duration": 1150,
    "start_time": "2022-04-22T11:49:49.447Z"
   },
   {
    "duration": 38,
    "start_time": "2022-04-22T11:49:50.599Z"
   },
   {
    "duration": 60,
    "start_time": "2022-04-22T11:49:50.639Z"
   },
   {
    "duration": 22,
    "start_time": "2022-04-22T11:49:50.703Z"
   },
   {
    "duration": 43,
    "start_time": "2022-04-22T11:49:50.727Z"
   },
   {
    "duration": 31,
    "start_time": "2022-04-22T11:49:50.772Z"
   },
   {
    "duration": 102,
    "start_time": "2022-04-22T11:49:50.805Z"
   },
   {
    "duration": 7,
    "start_time": "2022-04-22T11:49:50.908Z"
   },
   {
    "duration": 250,
    "start_time": "2022-04-22T11:49:50.921Z"
   },
   {
    "duration": 56,
    "start_time": "2022-04-22T11:49:51.173Z"
   },
   {
    "duration": 20,
    "start_time": "2022-04-22T11:49:51.231Z"
   },
   {
    "duration": 53,
    "start_time": "2022-04-22T11:49:51.253Z"
   },
   {
    "duration": 46,
    "start_time": "2022-04-22T11:49:51.308Z"
   },
   {
    "duration": 11,
    "start_time": "2022-04-22T11:49:51.356Z"
   },
   {
    "duration": 75,
    "start_time": "2022-04-22T11:49:51.368Z"
   },
   {
    "duration": 15,
    "start_time": "2022-04-22T11:49:51.446Z"
   },
   {
    "duration": 207,
    "start_time": "2022-04-22T11:49:51.463Z"
   },
   {
    "duration": 0,
    "start_time": "2022-04-22T11:49:51.672Z"
   },
   {
    "duration": 0,
    "start_time": "2022-04-22T11:49:51.673Z"
   },
   {
    "duration": 0,
    "start_time": "2022-04-22T11:49:51.674Z"
   },
   {
    "duration": 0,
    "start_time": "2022-04-22T11:49:51.676Z"
   },
   {
    "duration": 0,
    "start_time": "2022-04-22T11:49:51.677Z"
   },
   {
    "duration": 0,
    "start_time": "2022-04-22T11:49:51.679Z"
   },
   {
    "duration": 0,
    "start_time": "2022-04-22T11:49:51.680Z"
   },
   {
    "duration": 0,
    "start_time": "2022-04-22T11:49:51.681Z"
   },
   {
    "duration": 0,
    "start_time": "2022-04-22T11:49:51.682Z"
   },
   {
    "duration": 0,
    "start_time": "2022-04-22T11:49:51.683Z"
   },
   {
    "duration": 0,
    "start_time": "2022-04-22T11:49:51.684Z"
   },
   {
    "duration": 0,
    "start_time": "2022-04-22T11:49:51.685Z"
   },
   {
    "duration": 0,
    "start_time": "2022-04-22T11:49:51.686Z"
   },
   {
    "duration": 0,
    "start_time": "2022-04-22T11:49:51.687Z"
   },
   {
    "duration": 47,
    "start_time": "2022-04-22T12:02:15.084Z"
   },
   {
    "duration": 3,
    "start_time": "2022-04-22T12:02:53.883Z"
   },
   {
    "duration": 7,
    "start_time": "2022-04-22T12:02:53.916Z"
   },
   {
    "duration": 42,
    "start_time": "2022-04-22T12:03:24.581Z"
   },
   {
    "duration": 5,
    "start_time": "2022-04-22T12:03:33.154Z"
   },
   {
    "duration": 4,
    "start_time": "2022-04-22T12:03:35.120Z"
   },
   {
    "duration": 4,
    "start_time": "2022-04-22T12:03:36.183Z"
   },
   {
    "duration": 7,
    "start_time": "2022-04-22T12:03:36.918Z"
   },
   {
    "duration": 34,
    "start_time": "2022-04-22T12:03:53.745Z"
   },
   {
    "duration": 7,
    "start_time": "2022-04-22T12:03:56.407Z"
   },
   {
    "duration": 133,
    "start_time": "2022-04-22T12:03:56.991Z"
   },
   {
    "duration": 38,
    "start_time": "2022-04-22T12:04:20.064Z"
   },
   {
    "duration": 3,
    "start_time": "2022-04-22T12:04:25.230Z"
   },
   {
    "duration": 7,
    "start_time": "2022-04-22T12:04:27.944Z"
   },
   {
    "duration": 8,
    "start_time": "2022-04-22T12:04:27.969Z"
   },
   {
    "duration": 3,
    "start_time": "2022-04-22T12:05:02.492Z"
   },
   {
    "duration": 6,
    "start_time": "2022-04-22T12:05:03.255Z"
   },
   {
    "duration": 7,
    "start_time": "2022-04-22T12:05:03.863Z"
   },
   {
    "duration": 35,
    "start_time": "2022-04-22T12:05:09.655Z"
   },
   {
    "duration": 6,
    "start_time": "2022-04-22T12:05:10.290Z"
   },
   {
    "duration": 3,
    "start_time": "2022-04-22T12:05:10.883Z"
   },
   {
    "duration": 8,
    "start_time": "2022-04-22T12:05:11.629Z"
   },
   {
    "duration": 9,
    "start_time": "2022-04-22T12:05:13.264Z"
   },
   {
    "duration": 5,
    "start_time": "2022-04-22T12:05:32.527Z"
   },
   {
    "duration": 4,
    "start_time": "2022-04-22T12:05:41.179Z"
   },
   {
    "duration": 51,
    "start_time": "2022-04-22T12:05:48.731Z"
   },
   {
    "duration": 5,
    "start_time": "2022-04-22T12:05:49.182Z"
   },
   {
    "duration": 5,
    "start_time": "2022-04-22T12:05:49.229Z"
   },
   {
    "duration": 6,
    "start_time": "2022-04-22T12:05:49.860Z"
   },
   {
    "duration": 9,
    "start_time": "2022-04-22T12:05:49.909Z"
   },
   {
    "duration": 32,
    "start_time": "2022-04-22T12:07:39.087Z"
   },
   {
    "duration": 94,
    "start_time": "2022-04-22T12:09:30.153Z"
   },
   {
    "duration": 6,
    "start_time": "2022-04-22T12:23:29.085Z"
   },
   {
    "duration": 36,
    "start_time": "2022-04-22T12:31:11.884Z"
   },
   {
    "duration": 15,
    "start_time": "2022-04-22T12:31:16.505Z"
   },
   {
    "duration": 14,
    "start_time": "2022-04-22T12:32:44.212Z"
   },
   {
    "duration": 34,
    "start_time": "2022-04-22T12:37:59.142Z"
   },
   {
    "duration": 5,
    "start_time": "2022-04-22T12:38:02.708Z"
   },
   {
    "duration": 7,
    "start_time": "2022-04-22T12:38:18.539Z"
   },
   {
    "duration": 2788,
    "start_time": "2022-04-22T12:38:18.567Z"
   },
   {
    "duration": 6,
    "start_time": "2022-04-22T12:38:47.604Z"
   },
   {
    "duration": 7,
    "start_time": "2022-04-22T12:38:49.829Z"
   },
   {
    "duration": 3680,
    "start_time": "2022-04-22T12:38:49.872Z"
   },
   {
    "duration": 38,
    "start_time": "2022-04-22T12:38:59.011Z"
   },
   {
    "duration": 5,
    "start_time": "2022-04-22T12:39:06.040Z"
   },
   {
    "duration": 6,
    "start_time": "2022-04-22T12:39:08.540Z"
   },
   {
    "duration": 2702,
    "start_time": "2022-04-22T12:40:01.079Z"
   },
   {
    "duration": 13,
    "start_time": "2022-04-22T12:40:13.828Z"
   },
   {
    "duration": 0,
    "start_time": "2022-04-22T12:40:13.843Z"
   },
   {
    "duration": 13,
    "start_time": "2022-04-22T12:40:23.167Z"
   },
   {
    "duration": 159,
    "start_time": "2022-04-22T12:40:27.789Z"
   },
   {
    "duration": 0,
    "start_time": "2022-04-22T12:40:27.949Z"
   },
   {
    "duration": 2745,
    "start_time": "2022-04-22T12:40:33.818Z"
   },
   {
    "duration": 2467,
    "start_time": "2022-04-22T12:40:47.187Z"
   },
   {
    "duration": 2630,
    "start_time": "2022-04-22T12:41:06.008Z"
   },
   {
    "duration": 12,
    "start_time": "2022-04-22T12:41:14.253Z"
   },
   {
    "duration": 2798,
    "start_time": "2022-04-22T12:41:56.644Z"
   },
   {
    "duration": 4,
    "start_time": "2022-04-22T12:42:11.448Z"
   },
   {
    "duration": 6,
    "start_time": "2022-04-22T12:44:49.008Z"
   },
   {
    "duration": 6,
    "start_time": "2022-04-22T12:45:14.233Z"
   },
   {
    "duration": 2568,
    "start_time": "2022-04-22T12:45:16.859Z"
   },
   {
    "duration": 0,
    "start_time": "2022-04-22T12:45:19.429Z"
   },
   {
    "duration": 8,
    "start_time": "2022-04-22T12:46:03.608Z"
   },
   {
    "duration": 7,
    "start_time": "2022-04-22T12:46:06.817Z"
   },
   {
    "duration": 5,
    "start_time": "2022-04-22T12:46:50.681Z"
   },
   {
    "duration": 5,
    "start_time": "2022-04-22T12:49:29.458Z"
   },
   {
    "duration": 11,
    "start_time": "2022-04-22T12:49:31.658Z"
   },
   {
    "duration": 5,
    "start_time": "2022-04-22T12:49:40.788Z"
   },
   {
    "duration": 2437,
    "start_time": "2022-04-22T12:49:42.781Z"
   },
   {
    "duration": 5,
    "start_time": "2022-04-22T12:50:00.908Z"
   },
   {
    "duration": 2449,
    "start_time": "2022-04-22T12:50:05.760Z"
   },
   {
    "duration": 146,
    "start_time": "2022-04-22T12:50:37.906Z"
   },
   {
    "duration": 4,
    "start_time": "2022-04-22T12:54:13.460Z"
   },
   {
    "duration": 2481,
    "start_time": "2022-04-22T12:54:19.272Z"
   },
   {
    "duration": 6,
    "start_time": "2022-04-22T12:56:09.982Z"
   },
   {
    "duration": 2476,
    "start_time": "2022-04-22T12:56:24.620Z"
   },
   {
    "duration": 0,
    "start_time": "2022-04-22T12:56:27.098Z"
   },
   {
    "duration": 13,
    "start_time": "2022-04-22T12:57:25.144Z"
   },
   {
    "duration": 13,
    "start_time": "2022-04-22T12:57:36.308Z"
   },
   {
    "duration": 4,
    "start_time": "2022-04-22T12:57:58.194Z"
   },
   {
    "duration": 4,
    "start_time": "2022-04-22T12:58:52.555Z"
   },
   {
    "duration": 2789,
    "start_time": "2022-04-22T12:58:58.495Z"
   },
   {
    "duration": 2420,
    "start_time": "2022-04-22T13:01:15.306Z"
   },
   {
    "duration": 5,
    "start_time": "2022-04-22T13:07:08.370Z"
   },
   {
    "duration": 2500,
    "start_time": "2022-04-22T13:07:25.083Z"
   },
   {
    "duration": 2566,
    "start_time": "2022-04-22T13:07:33.241Z"
   },
   {
    "duration": 2627,
    "start_time": "2022-04-22T13:10:03.276Z"
   },
   {
    "duration": 2467,
    "start_time": "2022-04-22T13:10:15.667Z"
   },
   {
    "duration": 49,
    "start_time": "2022-04-22T13:13:13.177Z"
   },
   {
    "duration": 8,
    "start_time": "2022-04-22T13:13:17.910Z"
   },
   {
    "duration": 7,
    "start_time": "2022-04-22T13:13:21.065Z"
   },
   {
    "duration": 4,
    "start_time": "2022-04-22T13:13:56.667Z"
   },
   {
    "duration": 2532,
    "start_time": "2022-04-22T13:13:59.298Z"
   },
   {
    "duration": 8,
    "start_time": "2022-04-22T13:14:12.788Z"
   },
   {
    "duration": 13,
    "start_time": "2022-04-22T13:14:12.823Z"
   },
   {
    "duration": 9,
    "start_time": "2022-04-22T13:14:46.038Z"
   },
   {
    "duration": 35,
    "start_time": "2022-04-22T13:14:55.117Z"
   },
   {
    "duration": 6,
    "start_time": "2022-04-22T13:15:00.998Z"
   },
   {
    "duration": 7,
    "start_time": "2022-04-22T13:15:08.536Z"
   },
   {
    "duration": 3,
    "start_time": "2022-04-22T13:15:22.771Z"
   },
   {
    "duration": 8,
    "start_time": "2022-04-22T13:15:26.954Z"
   },
   {
    "duration": 2444,
    "start_time": "2022-04-22T13:15:34.071Z"
   },
   {
    "duration": 5,
    "start_time": "2022-04-22T13:15:42.316Z"
   },
   {
    "duration": 8,
    "start_time": "2022-04-22T13:17:45.899Z"
   },
   {
    "duration": 4,
    "start_time": "2022-04-22T13:18:00.486Z"
   },
   {
    "duration": 7,
    "start_time": "2022-04-22T13:18:05.287Z"
   },
   {
    "duration": 10,
    "start_time": "2022-04-22T13:18:05.313Z"
   },
   {
    "duration": 5,
    "start_time": "2022-04-22T13:18:17.112Z"
   },
   {
    "duration": 37,
    "start_time": "2022-04-22T13:18:34.498Z"
   },
   {
    "duration": 5,
    "start_time": "2022-04-22T13:18:41.281Z"
   },
   {
    "duration": 7,
    "start_time": "2022-04-22T13:18:43.718Z"
   },
   {
    "duration": 10,
    "start_time": "2022-04-22T13:18:43.755Z"
   },
   {
    "duration": 3,
    "start_time": "2022-04-22T13:18:49.953Z"
   },
   {
    "duration": 22,
    "start_time": "2022-04-22T13:18:49.989Z"
   },
   {
    "duration": 5,
    "start_time": "2022-04-22T13:18:52.116Z"
   },
   {
    "duration": 37,
    "start_time": "2022-04-22T13:21:00.776Z"
   },
   {
    "duration": 5,
    "start_time": "2022-04-22T13:21:07.672Z"
   },
   {
    "duration": 8,
    "start_time": "2022-04-22T13:21:11.106Z"
   },
   {
    "duration": 6,
    "start_time": "2022-04-22T13:27:08.877Z"
   },
   {
    "duration": 2566,
    "start_time": "2022-04-22T13:27:11.268Z"
   },
   {
    "duration": 36,
    "start_time": "2022-04-22T13:27:30.099Z"
   },
   {
    "duration": 6,
    "start_time": "2022-04-22T13:27:31.400Z"
   },
   {
    "duration": 3,
    "start_time": "2022-04-22T13:27:32.500Z"
   },
   {
    "duration": 7,
    "start_time": "2022-04-22T13:27:33.619Z"
   },
   {
    "duration": 31,
    "start_time": "2022-04-22T13:27:35.040Z"
   },
   {
    "duration": 28,
    "start_time": "2022-04-22T13:27:37.840Z"
   },
   {
    "duration": 138,
    "start_time": "2022-04-22T13:27:39.273Z"
   },
   {
    "duration": 8,
    "start_time": "2022-04-22T13:27:41.519Z"
   },
   {
    "duration": 7,
    "start_time": "2022-04-22T13:27:43.260Z"
   },
   {
    "duration": 5,
    "start_time": "2022-04-22T13:28:15.300Z"
   },
   {
    "duration": 6,
    "start_time": "2022-04-22T13:28:40.568Z"
   },
   {
    "duration": 6,
    "start_time": "2022-04-22T13:29:29.007Z"
   },
   {
    "duration": 6,
    "start_time": "2022-04-22T13:29:30.939Z"
   },
   {
    "duration": 12,
    "start_time": "2022-04-22T13:30:44.260Z"
   },
   {
    "duration": 6,
    "start_time": "2022-04-22T14:20:01.809Z"
   },
   {
    "duration": 6,
    "start_time": "2022-04-22T14:20:04.910Z"
   },
   {
    "duration": 4,
    "start_time": "2022-04-22T14:21:38.956Z"
   },
   {
    "duration": 11,
    "start_time": "2022-04-22T14:25:03.913Z"
   },
   {
    "duration": 4,
    "start_time": "2022-04-22T14:25:09.244Z"
   },
   {
    "duration": 5,
    "start_time": "2022-04-22T14:25:14.567Z"
   },
   {
    "duration": 5,
    "start_time": "2022-04-22T14:25:27.620Z"
   },
   {
    "duration": 4,
    "start_time": "2022-04-22T14:25:36.443Z"
   },
   {
    "duration": 4,
    "start_time": "2022-04-22T14:26:10.709Z"
   },
   {
    "duration": 9,
    "start_time": "2022-04-22T15:06:32.817Z"
   },
   {
    "duration": 5,
    "start_time": "2022-04-22T15:06:34.074Z"
   },
   {
    "duration": 5,
    "start_time": "2022-04-22T15:06:35.486Z"
   },
   {
    "duration": 5,
    "start_time": "2022-04-22T15:06:36.876Z"
   },
   {
    "duration": 173,
    "start_time": "2022-04-22T15:13:13.722Z"
   },
   {
    "duration": 6,
    "start_time": "2022-04-22T15:13:47.736Z"
   },
   {
    "duration": 7,
    "start_time": "2022-04-22T15:14:11.022Z"
   },
   {
    "duration": 12,
    "start_time": "2022-04-22T15:14:23.297Z"
   },
   {
    "duration": 6,
    "start_time": "2022-04-22T15:15:12.347Z"
   },
   {
    "duration": 11,
    "start_time": "2022-04-22T15:15:14.554Z"
   },
   {
    "duration": 9,
    "start_time": "2022-04-22T15:15:41.618Z"
   },
   {
    "duration": 14,
    "start_time": "2022-04-22T15:15:43.280Z"
   },
   {
    "duration": 7,
    "start_time": "2022-04-22T15:16:39.621Z"
   },
   {
    "duration": 11,
    "start_time": "2022-04-22T15:16:39.633Z"
   },
   {
    "duration": 9,
    "start_time": "2022-04-22T15:16:41.374Z"
   },
   {
    "duration": 13,
    "start_time": "2022-04-22T15:17:58.492Z"
   },
   {
    "duration": 9,
    "start_time": "2022-04-22T15:18:00.277Z"
   },
   {
    "duration": 9,
    "start_time": "2022-04-22T15:36:10.773Z"
   },
   {
    "duration": 11,
    "start_time": "2022-04-22T15:36:34.017Z"
   },
   {
    "duration": 3916,
    "start_time": "2022-04-22T15:40:01.809Z"
   },
   {
    "duration": 79,
    "start_time": "2022-04-22T15:40:36.775Z"
   },
   {
    "duration": 6,
    "start_time": "2022-04-22T15:40:39.283Z"
   },
   {
    "duration": 3,
    "start_time": "2022-04-22T15:40:40.682Z"
   },
   {
    "duration": 8,
    "start_time": "2022-04-22T15:40:41.931Z"
   },
   {
    "duration": 9,
    "start_time": "2022-04-22T15:41:23.146Z"
   },
   {
    "duration": 200,
    "start_time": "2022-04-22T16:00:36.454Z"
   },
   {
    "duration": 12,
    "start_time": "2022-04-22T16:19:34.219Z"
   },
   {
    "duration": 9,
    "start_time": "2022-04-22T16:19:37.524Z"
   },
   {
    "duration": 9,
    "start_time": "2022-04-22T16:20:02.343Z"
   },
   {
    "duration": 6,
    "start_time": "2022-04-22T16:20:11.838Z"
   },
   {
    "duration": 1166,
    "start_time": "2022-04-22T19:02:42.765Z"
   },
   {
    "duration": 148,
    "start_time": "2022-04-22T19:02:43.933Z"
   },
   {
    "duration": 12,
    "start_time": "2022-04-22T19:02:44.082Z"
   },
   {
    "duration": 22,
    "start_time": "2022-04-22T19:02:44.096Z"
   },
   {
    "duration": 7,
    "start_time": "2022-04-22T19:02:44.120Z"
   },
   {
    "duration": 7,
    "start_time": "2022-04-22T19:02:44.129Z"
   },
   {
    "duration": 208,
    "start_time": "2022-04-22T19:02:44.138Z"
   },
   {
    "duration": 64,
    "start_time": "2022-04-22T19:02:44.348Z"
   },
   {
    "duration": 65,
    "start_time": "2022-04-22T19:02:44.414Z"
   },
   {
    "duration": 21,
    "start_time": "2022-04-22T19:02:44.492Z"
   },
   {
    "duration": 10,
    "start_time": "2022-04-22T19:02:44.514Z"
   },
   {
    "duration": 18,
    "start_time": "2022-04-22T19:02:44.525Z"
   },
   {
    "duration": 8,
    "start_time": "2022-04-22T19:02:44.545Z"
   },
   {
    "duration": 46,
    "start_time": "2022-04-22T19:02:44.557Z"
   },
   {
    "duration": 14,
    "start_time": "2022-04-22T19:02:44.604Z"
   },
   {
    "duration": 8,
    "start_time": "2022-04-22T19:02:44.620Z"
   },
   {
    "duration": 29,
    "start_time": "2022-04-22T19:02:44.630Z"
   },
   {
    "duration": 33,
    "start_time": "2022-04-22T19:02:44.661Z"
   },
   {
    "duration": 5,
    "start_time": "2022-04-22T19:02:44.695Z"
   },
   {
    "duration": 1015,
    "start_time": "2022-04-22T19:02:44.702Z"
   },
   {
    "duration": 19,
    "start_time": "2022-04-22T19:02:45.719Z"
   },
   {
    "duration": 36,
    "start_time": "2022-04-22T19:02:45.740Z"
   },
   {
    "duration": 17,
    "start_time": "2022-04-22T19:02:45.777Z"
   },
   {
    "duration": 23,
    "start_time": "2022-04-22T19:02:45.796Z"
   },
   {
    "duration": 31,
    "start_time": "2022-04-22T19:02:45.821Z"
   },
   {
    "duration": 75,
    "start_time": "2022-04-22T19:02:45.854Z"
   },
   {
    "duration": 5,
    "start_time": "2022-04-22T19:02:45.931Z"
   },
   {
    "duration": 181,
    "start_time": "2022-04-22T19:02:45.937Z"
   },
   {
    "duration": 95,
    "start_time": "2022-04-22T19:02:46.120Z"
   },
   {
    "duration": 7,
    "start_time": "2022-04-22T19:02:46.217Z"
   },
   {
    "duration": 17,
    "start_time": "2022-04-22T19:02:46.226Z"
   },
   {
    "duration": 8,
    "start_time": "2022-04-22T19:02:46.293Z"
   },
   {
    "duration": 33,
    "start_time": "2022-04-22T19:02:46.303Z"
   },
   {
    "duration": 14,
    "start_time": "2022-04-22T19:02:46.337Z"
   },
   {
    "duration": 108,
    "start_time": "2022-04-22T19:02:46.353Z"
   },
   {
    "duration": 7,
    "start_time": "2022-04-22T19:02:46.464Z"
   },
   {
    "duration": 31,
    "start_time": "2022-04-22T19:02:46.473Z"
   },
   {
    "duration": 5,
    "start_time": "2022-04-22T19:02:46.506Z"
   },
   {
    "duration": 5,
    "start_time": "2022-04-22T19:02:46.513Z"
   },
   {
    "duration": 11,
    "start_time": "2022-04-22T19:02:46.520Z"
   },
   {
    "duration": 9,
    "start_time": "2022-04-22T19:02:46.536Z"
   },
   {
    "duration": 51,
    "start_time": "2022-04-22T19:02:46.547Z"
   },
   {
    "duration": 12,
    "start_time": "2022-04-22T19:09:50.341Z"
   },
   {
    "duration": 1212,
    "start_time": "2022-04-22T19:10:03.390Z"
   },
   {
    "duration": 151,
    "start_time": "2022-04-22T19:10:04.604Z"
   },
   {
    "duration": 13,
    "start_time": "2022-04-22T19:10:04.757Z"
   },
   {
    "duration": 34,
    "start_time": "2022-04-22T19:10:04.772Z"
   },
   {
    "duration": 7,
    "start_time": "2022-04-22T19:10:04.808Z"
   },
   {
    "duration": 9,
    "start_time": "2022-04-22T19:10:04.816Z"
   },
   {
    "duration": 205,
    "start_time": "2022-04-22T19:10:04.826Z"
   },
   {
    "duration": 73,
    "start_time": "2022-04-22T19:10:05.033Z"
   },
   {
    "duration": 67,
    "start_time": "2022-04-22T19:10:05.107Z"
   },
   {
    "duration": 33,
    "start_time": "2022-04-22T19:10:05.175Z"
   },
   {
    "duration": 9,
    "start_time": "2022-04-22T19:10:05.210Z"
   },
   {
    "duration": 20,
    "start_time": "2022-04-22T19:10:05.221Z"
   },
   {
    "duration": 10,
    "start_time": "2022-04-22T19:10:05.242Z"
   },
   {
    "duration": 46,
    "start_time": "2022-04-22T19:10:05.256Z"
   },
   {
    "duration": 14,
    "start_time": "2022-04-22T19:10:05.304Z"
   },
   {
    "duration": 14,
    "start_time": "2022-04-22T19:10:05.320Z"
   },
   {
    "duration": 33,
    "start_time": "2022-04-22T19:10:05.336Z"
   },
   {
    "duration": 25,
    "start_time": "2022-04-22T19:10:05.371Z"
   },
   {
    "duration": 9,
    "start_time": "2022-04-22T19:10:05.397Z"
   },
   {
    "duration": 1057,
    "start_time": "2022-04-22T19:10:05.408Z"
   },
   {
    "duration": 21,
    "start_time": "2022-04-22T19:10:06.467Z"
   },
   {
    "duration": 34,
    "start_time": "2022-04-22T19:10:06.489Z"
   },
   {
    "duration": 18,
    "start_time": "2022-04-22T19:10:06.525Z"
   },
   {
    "duration": 22,
    "start_time": "2022-04-22T19:10:06.544Z"
   },
   {
    "duration": 45,
    "start_time": "2022-04-22T19:10:06.567Z"
   },
   {
    "duration": 62,
    "start_time": "2022-04-22T19:10:06.614Z"
   },
   {
    "duration": 6,
    "start_time": "2022-04-22T19:10:06.692Z"
   },
   {
    "duration": 181,
    "start_time": "2022-04-22T19:10:06.700Z"
   },
   {
    "duration": 35,
    "start_time": "2022-04-22T19:10:06.883Z"
   },
   {
    "duration": 6,
    "start_time": "2022-04-22T19:10:06.920Z"
   },
   {
    "duration": 6,
    "start_time": "2022-04-22T19:10:06.927Z"
   },
   {
    "duration": 59,
    "start_time": "2022-04-22T19:10:06.934Z"
   },
   {
    "duration": 23,
    "start_time": "2022-04-22T19:10:06.995Z"
   },
   {
    "duration": 14,
    "start_time": "2022-04-22T19:10:07.019Z"
   },
   {
    "duration": 117,
    "start_time": "2022-04-22T19:10:07.035Z"
   },
   {
    "duration": 7,
    "start_time": "2022-04-22T19:10:07.153Z"
   },
   {
    "duration": 35,
    "start_time": "2022-04-22T19:10:07.161Z"
   },
   {
    "duration": 4,
    "start_time": "2022-04-22T19:10:07.198Z"
   },
   {
    "duration": 8,
    "start_time": "2022-04-22T19:10:07.204Z"
   },
   {
    "duration": 10,
    "start_time": "2022-04-22T19:10:07.213Z"
   },
   {
    "duration": 11,
    "start_time": "2022-04-22T19:10:07.226Z"
   },
   {
    "duration": 14,
    "start_time": "2022-04-22T19:10:07.238Z"
   },
   {
    "duration": 24,
    "start_time": "2022-04-22T19:21:23.737Z"
   },
   {
    "duration": 34,
    "start_time": "2022-04-22T19:22:08.781Z"
   },
   {
    "duration": 4,
    "start_time": "2022-04-22T19:23:19.416Z"
   },
   {
    "duration": 4,
    "start_time": "2022-04-22T19:23:50.624Z"
   },
   {
    "duration": 4,
    "start_time": "2022-04-22T19:24:12.129Z"
   },
   {
    "duration": 34,
    "start_time": "2022-04-22T19:25:05.849Z"
   },
   {
    "duration": 34,
    "start_time": "2022-04-22T19:29:21.428Z"
   },
   {
    "duration": 33,
    "start_time": "2022-04-22T19:32:50.400Z"
   },
   {
    "duration": 25,
    "start_time": "2022-04-22T19:33:06.241Z"
   },
   {
    "duration": 14,
    "start_time": "2022-04-22T19:33:43.713Z"
   },
   {
    "duration": 15,
    "start_time": "2022-04-22T19:33:44.701Z"
   },
   {
    "duration": 15,
    "start_time": "2022-04-22T19:34:03.591Z"
   },
   {
    "duration": 9,
    "start_time": "2022-04-22T19:34:04.580Z"
   },
   {
    "duration": 22,
    "start_time": "2022-04-22T19:34:06.603Z"
   },
   {
    "duration": 5,
    "start_time": "2022-04-22T19:34:08.093Z"
   },
   {
    "duration": 5,
    "start_time": "2022-04-22T19:34:08.133Z"
   },
   {
    "duration": 1364,
    "start_time": "2022-04-22T19:34:10.161Z"
   },
   {
    "duration": 18,
    "start_time": "2022-04-22T19:34:13.021Z"
   },
   {
    "duration": 34,
    "start_time": "2022-04-22T19:34:17.363Z"
   },
   {
    "duration": 132,
    "start_time": "2022-04-22T19:34:24.369Z"
   },
   {
    "duration": 33,
    "start_time": "2022-04-22T19:34:28.001Z"
   },
   {
    "duration": 24,
    "start_time": "2022-04-22T19:34:31.065Z"
   },
   {
    "duration": 23,
    "start_time": "2022-04-22T19:34:31.969Z"
   },
   {
    "duration": 33,
    "start_time": "2022-04-22T19:35:24.837Z"
   },
   {
    "duration": 58,
    "start_time": "2022-04-22T19:35:42.662Z"
   },
   {
    "duration": 60,
    "start_time": "2022-04-22T19:36:26.421Z"
   },
   {
    "duration": 63,
    "start_time": "2022-04-22T19:36:56.649Z"
   },
   {
    "duration": 155,
    "start_time": "2022-04-22T19:37:31.109Z"
   },
   {
    "duration": 14,
    "start_time": "2022-04-22T19:41:04.490Z"
   },
   {
    "duration": 11,
    "start_time": "2022-04-22T19:41:06.689Z"
   },
   {
    "duration": 41,
    "start_time": "2022-04-22T19:42:57.769Z"
   },
   {
    "duration": 147,
    "start_time": "2022-04-22T19:45:51.129Z"
   },
   {
    "duration": 172,
    "start_time": "2022-04-22T19:46:35.832Z"
   },
   {
    "duration": 14,
    "start_time": "2022-04-22T19:47:03.851Z"
   },
   {
    "duration": 10,
    "start_time": "2022-04-22T19:47:04.543Z"
   },
   {
    "duration": 114,
    "start_time": "2022-04-22T19:47:25.249Z"
   },
   {
    "duration": 116,
    "start_time": "2022-04-22T19:47:39.390Z"
   },
   {
    "duration": 219,
    "start_time": "2022-04-22T19:51:43.149Z"
   },
   {
    "duration": 182,
    "start_time": "2022-04-22T19:52:30.141Z"
   },
   {
    "duration": 218,
    "start_time": "2022-04-22T19:52:36.016Z"
   },
   {
    "duration": 141,
    "start_time": "2022-04-22T19:53:27.129Z"
   },
   {
    "duration": 16,
    "start_time": "2022-04-22T19:53:39.562Z"
   },
   {
    "duration": 24,
    "start_time": "2022-04-22T19:54:27.321Z"
   },
   {
    "duration": 1542,
    "start_time": "2022-04-22T19:55:24.599Z"
   },
   {
    "duration": 248,
    "start_time": "2022-04-22T19:55:26.144Z"
   },
   {
    "duration": 15,
    "start_time": "2022-04-22T19:55:26.395Z"
   },
   {
    "duration": 24,
    "start_time": "2022-04-22T19:55:26.412Z"
   },
   {
    "duration": 8,
    "start_time": "2022-04-22T19:55:26.439Z"
   },
   {
    "duration": 9,
    "start_time": "2022-04-22T19:55:26.449Z"
   },
   {
    "duration": 192,
    "start_time": "2022-04-22T19:55:26.492Z"
   },
   {
    "duration": 84,
    "start_time": "2022-04-22T19:55:26.685Z"
   },
   {
    "duration": 94,
    "start_time": "2022-04-22T19:55:26.771Z"
   },
   {
    "duration": 35,
    "start_time": "2022-04-22T19:55:26.867Z"
   },
   {
    "duration": 12,
    "start_time": "2022-04-22T19:55:26.904Z"
   },
   {
    "duration": 17,
    "start_time": "2022-04-22T19:55:26.918Z"
   },
   {
    "duration": 10,
    "start_time": "2022-04-22T19:55:26.937Z"
   },
   {
    "duration": 51,
    "start_time": "2022-04-22T19:55:26.952Z"
   },
   {
    "duration": 18,
    "start_time": "2022-04-22T19:55:27.005Z"
   },
   {
    "duration": 12,
    "start_time": "2022-04-22T19:55:27.025Z"
   },
   {
    "duration": 33,
    "start_time": "2022-04-22T19:55:27.039Z"
   },
   {
    "duration": 23,
    "start_time": "2022-04-22T19:55:27.073Z"
   },
   {
    "duration": 6,
    "start_time": "2022-04-22T19:55:27.098Z"
   },
   {
    "duration": 1175,
    "start_time": "2022-04-22T19:55:27.106Z"
   },
   {
    "duration": 21,
    "start_time": "2022-04-22T19:55:28.283Z"
   },
   {
    "duration": 62,
    "start_time": "2022-04-22T19:55:28.306Z"
   },
   {
    "duration": 43,
    "start_time": "2022-04-22T19:55:28.371Z"
   },
   {
    "duration": 24,
    "start_time": "2022-04-22T19:55:28.416Z"
   },
   {
    "duration": 25,
    "start_time": "2022-04-22T19:55:28.442Z"
   },
   {
    "duration": 106,
    "start_time": "2022-04-22T19:55:28.493Z"
   },
   {
    "duration": 6,
    "start_time": "2022-04-22T19:55:28.601Z"
   },
   {
    "duration": 194,
    "start_time": "2022-04-22T19:55:28.609Z"
   },
   {
    "duration": 108,
    "start_time": "2022-04-22T19:55:28.806Z"
   },
   {
    "duration": 6,
    "start_time": "2022-04-22T19:55:28.916Z"
   },
   {
    "duration": 10,
    "start_time": "2022-04-22T19:55:28.923Z"
   },
   {
    "duration": 9,
    "start_time": "2022-04-22T19:55:28.935Z"
   },
   {
    "duration": 24,
    "start_time": "2022-04-22T19:55:28.994Z"
   },
   {
    "duration": 15,
    "start_time": "2022-04-22T19:55:29.020Z"
   },
   {
    "duration": 134,
    "start_time": "2022-04-22T19:55:29.037Z"
   },
   {
    "duration": 12,
    "start_time": "2022-04-22T19:55:29.193Z"
   },
   {
    "duration": 18,
    "start_time": "2022-04-22T19:55:29.206Z"
   },
   {
    "duration": 7,
    "start_time": "2022-04-22T19:55:29.227Z"
   },
   {
    "duration": 6,
    "start_time": "2022-04-22T19:55:29.236Z"
   },
   {
    "duration": 13,
    "start_time": "2022-04-22T19:55:29.244Z"
   },
   {
    "duration": 14,
    "start_time": "2022-04-22T19:55:29.292Z"
   },
   {
    "duration": 18,
    "start_time": "2022-04-22T19:55:29.308Z"
   },
   {
    "duration": 4,
    "start_time": "2022-04-22T19:56:53.905Z"
   },
   {
    "duration": 63,
    "start_time": "2022-04-22T20:00:52.565Z"
   },
   {
    "duration": 26,
    "start_time": "2022-04-22T20:00:57.958Z"
   },
   {
    "duration": 1283,
    "start_time": "2022-04-22T20:03:13.561Z"
   },
   {
    "duration": 204,
    "start_time": "2022-04-22T20:03:14.847Z"
   },
   {
    "duration": 12,
    "start_time": "2022-04-22T20:03:15.053Z"
   },
   {
    "duration": 29,
    "start_time": "2022-04-22T20:03:15.067Z"
   },
   {
    "duration": 6,
    "start_time": "2022-04-22T20:03:15.098Z"
   },
   {
    "duration": 38,
    "start_time": "2022-04-22T20:03:15.106Z"
   },
   {
    "duration": 193,
    "start_time": "2022-04-22T20:03:15.146Z"
   },
   {
    "duration": 65,
    "start_time": "2022-04-22T20:03:15.340Z"
   },
   {
    "duration": 65,
    "start_time": "2022-04-22T20:03:15.406Z"
   },
   {
    "duration": 26,
    "start_time": "2022-04-22T20:03:15.473Z"
   },
   {
    "duration": 8,
    "start_time": "2022-04-22T20:03:15.501Z"
   },
   {
    "duration": 21,
    "start_time": "2022-04-22T20:03:15.510Z"
   },
   {
    "duration": 9,
    "start_time": "2022-04-22T20:03:15.533Z"
   },
   {
    "duration": 36,
    "start_time": "2022-04-22T20:03:15.548Z"
   },
   {
    "duration": 27,
    "start_time": "2022-04-22T20:03:15.586Z"
   },
   {
    "duration": 10,
    "start_time": "2022-04-22T20:03:15.616Z"
   },
   {
    "duration": 51,
    "start_time": "2022-04-22T20:03:15.629Z"
   },
   {
    "duration": 12,
    "start_time": "2022-04-22T20:03:15.683Z"
   },
   {
    "duration": 5,
    "start_time": "2022-04-22T20:03:15.698Z"
   },
   {
    "duration": 1896,
    "start_time": "2022-04-22T20:03:15.705Z"
   },
   {
    "duration": 25,
    "start_time": "2022-04-22T20:03:17.603Z"
   },
   {
    "duration": 116,
    "start_time": "2022-04-22T20:03:17.630Z"
   },
   {
    "duration": 37,
    "start_time": "2022-04-22T20:03:17.748Z"
   },
   {
    "duration": 28,
    "start_time": "2022-04-22T20:03:17.787Z"
   },
   {
    "duration": 42,
    "start_time": "2022-04-22T20:03:17.817Z"
   },
   {
    "duration": 118,
    "start_time": "2022-04-22T20:03:17.862Z"
   },
   {
    "duration": 11,
    "start_time": "2022-04-22T20:03:17.982Z"
   },
   {
    "duration": 170,
    "start_time": "2022-04-22T20:03:17.995Z"
   },
   {
    "duration": 47,
    "start_time": "2022-04-22T20:03:18.167Z"
   },
   {
    "duration": 5,
    "start_time": "2022-04-22T20:03:18.216Z"
   },
   {
    "duration": 10,
    "start_time": "2022-04-22T20:03:18.223Z"
   },
   {
    "duration": 59,
    "start_time": "2022-04-22T20:03:18.235Z"
   },
   {
    "duration": 33,
    "start_time": "2022-04-22T20:03:18.296Z"
   },
   {
    "duration": 62,
    "start_time": "2022-04-22T20:03:18.331Z"
   },
   {
    "duration": 107,
    "start_time": "2022-04-22T20:03:18.395Z"
   },
   {
    "duration": 9,
    "start_time": "2022-04-22T20:03:18.506Z"
   },
   {
    "duration": 34,
    "start_time": "2022-04-22T20:03:18.517Z"
   },
   {
    "duration": 13,
    "start_time": "2022-04-22T20:03:18.554Z"
   },
   {
    "duration": 15,
    "start_time": "2022-04-22T20:03:18.569Z"
   },
   {
    "duration": 30,
    "start_time": "2022-04-22T20:03:18.586Z"
   },
   {
    "duration": 21,
    "start_time": "2022-04-22T20:03:18.620Z"
   },
   {
    "duration": 19,
    "start_time": "2022-04-22T20:03:18.643Z"
   },
   {
    "duration": 1298,
    "start_time": "2022-04-22T20:14:58.038Z"
   },
   {
    "duration": 189,
    "start_time": "2022-04-22T20:14:59.339Z"
   },
   {
    "duration": 17,
    "start_time": "2022-04-22T20:14:59.531Z"
   },
   {
    "duration": 45,
    "start_time": "2022-04-22T20:14:59.550Z"
   },
   {
    "duration": 8,
    "start_time": "2022-04-22T20:14:59.598Z"
   },
   {
    "duration": 5,
    "start_time": "2022-04-22T20:14:59.608Z"
   },
   {
    "duration": 357,
    "start_time": "2022-04-22T20:14:59.615Z"
   },
   {
    "duration": 103,
    "start_time": "2022-04-22T20:14:59.975Z"
   },
   {
    "duration": 83,
    "start_time": "2022-04-22T20:15:00.081Z"
   },
   {
    "duration": 31,
    "start_time": "2022-04-22T20:15:00.166Z"
   },
   {
    "duration": 8,
    "start_time": "2022-04-22T20:15:00.199Z"
   },
   {
    "duration": 22,
    "start_time": "2022-04-22T20:15:00.209Z"
   },
   {
    "duration": 11,
    "start_time": "2022-04-22T20:15:00.233Z"
   },
   {
    "duration": 53,
    "start_time": "2022-04-22T20:15:00.248Z"
   },
   {
    "duration": 14,
    "start_time": "2022-04-22T20:15:00.303Z"
   },
   {
    "duration": 16,
    "start_time": "2022-04-22T20:15:00.319Z"
   },
   {
    "duration": 57,
    "start_time": "2022-04-22T20:15:00.337Z"
   },
   {
    "duration": 5,
    "start_time": "2022-04-22T20:15:00.397Z"
   },
   {
    "duration": 12,
    "start_time": "2022-04-22T20:15:00.404Z"
   },
   {
    "duration": 1235,
    "start_time": "2022-04-22T20:15:00.418Z"
   },
   {
    "duration": 24,
    "start_time": "2022-04-22T20:15:01.655Z"
   },
   {
    "duration": 65,
    "start_time": "2022-04-22T20:15:01.681Z"
   },
   {
    "duration": 45,
    "start_time": "2022-04-22T20:15:01.749Z"
   },
   {
    "duration": 23,
    "start_time": "2022-04-22T20:15:01.796Z"
   },
   {
    "duration": 44,
    "start_time": "2022-04-22T20:15:01.821Z"
   },
   {
    "duration": 75,
    "start_time": "2022-04-22T20:15:01.867Z"
   },
   {
    "duration": 4,
    "start_time": "2022-04-22T20:15:01.944Z"
   },
   {
    "duration": 177,
    "start_time": "2022-04-22T20:15:01.950Z"
   },
   {
    "duration": 74,
    "start_time": "2022-04-22T20:15:02.129Z"
   },
   {
    "duration": 7,
    "start_time": "2022-04-22T20:15:02.205Z"
   },
   {
    "duration": 19,
    "start_time": "2022-04-22T20:15:02.214Z"
   },
   {
    "duration": 16,
    "start_time": "2022-04-22T20:15:02.235Z"
   },
   {
    "duration": 31,
    "start_time": "2022-04-22T20:15:02.292Z"
   },
   {
    "duration": 22,
    "start_time": "2022-04-22T20:15:02.325Z"
   },
   {
    "duration": 128,
    "start_time": "2022-04-22T20:15:02.349Z"
   },
   {
    "duration": 15,
    "start_time": "2022-04-22T20:15:02.479Z"
   },
   {
    "duration": 18,
    "start_time": "2022-04-22T20:15:02.496Z"
   },
   {
    "duration": 5,
    "start_time": "2022-04-22T20:15:02.516Z"
   },
   {
    "duration": 14,
    "start_time": "2022-04-22T20:15:02.523Z"
   },
   {
    "duration": 29,
    "start_time": "2022-04-22T20:15:02.539Z"
   },
   {
    "duration": 21,
    "start_time": "2022-04-22T20:15:02.573Z"
   },
   {
    "duration": 12,
    "start_time": "2022-04-22T20:15:02.596Z"
   },
   {
    "duration": 1258,
    "start_time": "2022-04-22T20:15:29.444Z"
   },
   {
    "duration": 156,
    "start_time": "2022-04-22T20:15:30.704Z"
   },
   {
    "duration": 12,
    "start_time": "2022-04-22T20:15:30.862Z"
   },
   {
    "duration": 32,
    "start_time": "2022-04-22T20:15:30.877Z"
   },
   {
    "duration": 7,
    "start_time": "2022-04-22T20:15:30.910Z"
   },
   {
    "duration": 11,
    "start_time": "2022-04-22T20:15:30.918Z"
   },
   {
    "duration": 269,
    "start_time": "2022-04-22T20:15:30.930Z"
   },
   {
    "duration": 113,
    "start_time": "2022-04-22T20:15:31.200Z"
   },
   {
    "duration": 68,
    "start_time": "2022-04-22T20:15:31.315Z"
   },
   {
    "duration": 25,
    "start_time": "2022-04-22T20:15:31.386Z"
   },
   {
    "duration": 20,
    "start_time": "2022-04-22T20:15:31.413Z"
   },
   {
    "duration": 16,
    "start_time": "2022-04-22T20:15:31.435Z"
   },
   {
    "duration": 10,
    "start_time": "2022-04-22T20:15:31.452Z"
   },
   {
    "duration": 27,
    "start_time": "2022-04-22T20:15:31.464Z"
   },
   {
    "duration": 13,
    "start_time": "2022-04-22T20:15:31.493Z"
   },
   {
    "duration": 17,
    "start_time": "2022-04-22T20:15:31.508Z"
   },
   {
    "duration": 33,
    "start_time": "2022-04-22T20:15:31.527Z"
   },
   {
    "duration": 5,
    "start_time": "2022-04-22T20:15:31.562Z"
   },
   {
    "duration": 18,
    "start_time": "2022-04-22T20:15:31.568Z"
   },
   {
    "duration": 1149,
    "start_time": "2022-04-22T20:15:31.588Z"
   },
   {
    "duration": 61,
    "start_time": "2022-04-22T20:15:32.739Z"
   },
   {
    "duration": 108,
    "start_time": "2022-04-22T20:15:32.802Z"
   },
   {
    "duration": 27,
    "start_time": "2022-04-22T20:15:32.912Z"
   },
   {
    "duration": 22,
    "start_time": "2022-04-22T20:15:32.941Z"
   },
   {
    "duration": 36,
    "start_time": "2022-04-22T20:15:32.965Z"
   },
   {
    "duration": 62,
    "start_time": "2022-04-22T20:15:33.003Z"
   },
   {
    "duration": 5,
    "start_time": "2022-04-22T20:15:33.066Z"
   },
   {
    "duration": 322,
    "start_time": "2022-04-22T20:15:33.075Z"
   },
   {
    "duration": 108,
    "start_time": "2022-04-22T20:15:33.399Z"
   },
   {
    "duration": 7,
    "start_time": "2022-04-22T20:15:33.509Z"
   },
   {
    "duration": 7,
    "start_time": "2022-04-22T20:15:33.518Z"
   },
   {
    "duration": 15,
    "start_time": "2022-04-22T20:15:33.527Z"
   },
   {
    "duration": 23,
    "start_time": "2022-04-22T20:15:33.544Z"
   },
   {
    "duration": 37,
    "start_time": "2022-04-22T20:15:33.569Z"
   },
   {
    "duration": 100,
    "start_time": "2022-04-22T20:15:33.608Z"
   },
   {
    "duration": 9,
    "start_time": "2022-04-22T20:15:33.710Z"
   },
   {
    "duration": 23,
    "start_time": "2022-04-22T20:15:33.721Z"
   },
   {
    "duration": 5,
    "start_time": "2022-04-22T20:15:33.746Z"
   },
   {
    "duration": 5,
    "start_time": "2022-04-22T20:15:33.752Z"
   },
   {
    "duration": 14,
    "start_time": "2022-04-22T20:15:33.759Z"
   },
   {
    "duration": 22,
    "start_time": "2022-04-22T20:15:33.776Z"
   },
   {
    "duration": 12,
    "start_time": "2022-04-22T20:15:33.800Z"
   },
   {
    "duration": 263,
    "start_time": "2022-04-22T20:17:56.055Z"
   },
   {
    "duration": 63,
    "start_time": "2022-04-22T20:18:15.170Z"
   },
   {
    "duration": 57,
    "start_time": "2022-04-22T20:18:43.437Z"
   },
   {
    "duration": 59,
    "start_time": "2022-04-22T20:19:04.217Z"
   },
   {
    "duration": 1213,
    "start_time": "2022-04-22T20:19:26.847Z"
   },
   {
    "duration": 203,
    "start_time": "2022-04-22T20:19:28.062Z"
   },
   {
    "duration": 12,
    "start_time": "2022-04-22T20:19:28.293Z"
   },
   {
    "duration": 21,
    "start_time": "2022-04-22T20:19:28.307Z"
   },
   {
    "duration": 6,
    "start_time": "2022-04-22T20:19:28.330Z"
   },
   {
    "duration": 4,
    "start_time": "2022-04-22T20:19:28.338Z"
   },
   {
    "duration": 187,
    "start_time": "2022-04-22T20:19:28.344Z"
   },
   {
    "duration": 72,
    "start_time": "2022-04-22T20:19:28.533Z"
   },
   {
    "duration": 68,
    "start_time": "2022-04-22T20:19:28.607Z"
   },
   {
    "duration": 20,
    "start_time": "2022-04-22T20:19:28.676Z"
   },
   {
    "duration": 8,
    "start_time": "2022-04-22T20:19:28.698Z"
   },
   {
    "duration": 19,
    "start_time": "2022-04-22T20:19:28.707Z"
   },
   {
    "duration": 9,
    "start_time": "2022-04-22T20:19:28.728Z"
   },
   {
    "duration": 54,
    "start_time": "2022-04-22T20:19:28.742Z"
   },
   {
    "duration": 15,
    "start_time": "2022-04-22T20:19:28.797Z"
   },
   {
    "duration": 11,
    "start_time": "2022-04-22T20:19:28.813Z"
   },
   {
    "duration": 36,
    "start_time": "2022-04-22T20:19:28.825Z"
   },
   {
    "duration": 5,
    "start_time": "2022-04-22T20:19:28.863Z"
   },
   {
    "duration": 5,
    "start_time": "2022-04-22T20:19:28.870Z"
   },
   {
    "duration": 1248,
    "start_time": "2022-04-22T20:19:28.877Z"
   },
   {
    "duration": 24,
    "start_time": "2022-04-22T20:19:30.127Z"
   },
   {
    "duration": 78,
    "start_time": "2022-04-22T20:19:30.153Z"
   },
   {
    "duration": 80,
    "start_time": "2022-04-22T20:19:30.233Z"
   },
   {
    "duration": 25,
    "start_time": "2022-04-22T20:19:30.315Z"
   },
   {
    "duration": 90,
    "start_time": "2022-04-22T20:19:30.342Z"
   },
   {
    "duration": 96,
    "start_time": "2022-04-22T20:19:30.434Z"
   },
   {
    "duration": 4,
    "start_time": "2022-04-22T20:19:30.532Z"
   },
   {
    "duration": 245,
    "start_time": "2022-04-22T20:19:30.538Z"
   },
   {
    "duration": 37,
    "start_time": "2022-04-22T20:19:30.784Z"
   },
   {
    "duration": 5,
    "start_time": "2022-04-22T20:19:30.823Z"
   },
   {
    "duration": 14,
    "start_time": "2022-04-22T20:19:30.829Z"
   },
   {
    "duration": 39,
    "start_time": "2022-04-22T20:19:30.845Z"
   },
   {
    "duration": 45,
    "start_time": "2022-04-22T20:19:30.886Z"
   },
   {
    "duration": 44,
    "start_time": "2022-04-22T20:19:30.933Z"
   },
   {
    "duration": 110,
    "start_time": "2022-04-22T20:19:30.979Z"
   },
   {
    "duration": 7,
    "start_time": "2022-04-22T20:19:31.093Z"
   },
   {
    "duration": 58,
    "start_time": "2022-04-22T20:19:31.101Z"
   },
   {
    "duration": 33,
    "start_time": "2022-04-22T20:19:31.160Z"
   },
   {
    "duration": 27,
    "start_time": "2022-04-22T20:19:31.195Z"
   },
   {
    "duration": 28,
    "start_time": "2022-04-22T20:19:31.224Z"
   },
   {
    "duration": 32,
    "start_time": "2022-04-22T20:19:31.257Z"
   },
   {
    "duration": 25,
    "start_time": "2022-04-22T20:19:31.291Z"
   },
   {
    "duration": 1846,
    "start_time": "2022-04-23T16:47:42.799Z"
   },
   {
    "duration": 201,
    "start_time": "2022-04-23T16:47:44.651Z"
   },
   {
    "duration": 22,
    "start_time": "2022-04-23T16:47:44.857Z"
   },
   {
    "duration": 29,
    "start_time": "2022-04-23T16:47:44.882Z"
   },
   {
    "duration": 9,
    "start_time": "2022-04-23T16:47:44.914Z"
   },
   {
    "duration": 11,
    "start_time": "2022-04-23T16:47:44.952Z"
   },
   {
    "duration": 247,
    "start_time": "2022-04-23T16:47:44.965Z"
   },
   {
    "duration": 94,
    "start_time": "2022-04-23T16:47:45.214Z"
   },
   {
    "duration": 102,
    "start_time": "2022-04-23T16:47:45.310Z"
   },
   {
    "duration": 43,
    "start_time": "2022-04-23T16:47:45.416Z"
   },
   {
    "duration": 9,
    "start_time": "2022-04-23T16:47:45.461Z"
   },
   {
    "duration": 23,
    "start_time": "2022-04-23T16:47:45.473Z"
   },
   {
    "duration": 15,
    "start_time": "2022-04-23T16:47:45.498Z"
   },
   {
    "duration": 62,
    "start_time": "2022-04-23T16:47:45.515Z"
   },
   {
    "duration": 17,
    "start_time": "2022-04-23T16:47:45.579Z"
   },
   {
    "duration": 14,
    "start_time": "2022-04-23T16:47:45.599Z"
   },
   {
    "duration": 84,
    "start_time": "2022-04-23T16:47:45.616Z"
   },
   {
    "duration": 7,
    "start_time": "2022-04-23T16:47:45.703Z"
   },
   {
    "duration": 17,
    "start_time": "2022-04-23T16:47:45.712Z"
   },
   {
    "duration": 1536,
    "start_time": "2022-04-23T16:47:45.732Z"
   },
   {
    "duration": 30,
    "start_time": "2022-04-23T16:47:47.272Z"
   },
   {
    "duration": 71,
    "start_time": "2022-04-23T16:47:47.305Z"
   },
   {
    "duration": 34,
    "start_time": "2022-04-23T16:47:47.378Z"
   },
   {
    "duration": 65,
    "start_time": "2022-04-23T16:47:47.415Z"
   },
   {
    "duration": 31,
    "start_time": "2022-04-23T16:47:47.482Z"
   },
   {
    "duration": 100,
    "start_time": "2022-04-23T16:47:47.516Z"
   },
   {
    "duration": 7,
    "start_time": "2022-04-23T16:47:47.618Z"
   },
   {
    "duration": 10448,
    "start_time": "2022-04-23T16:47:47.630Z"
   },
   {
    "duration": 104,
    "start_time": "2022-04-23T16:47:58.081Z"
   },
   {
    "duration": 65,
    "start_time": "2022-04-23T16:47:58.188Z"
   },
   {
    "duration": 8,
    "start_time": "2022-04-23T16:47:58.256Z"
   },
   {
    "duration": 13,
    "start_time": "2022-04-23T16:47:58.267Z"
   },
   {
    "duration": 94,
    "start_time": "2022-04-23T16:47:58.282Z"
   },
   {
    "duration": 78,
    "start_time": "2022-04-23T16:47:58.378Z"
   },
   {
    "duration": 141,
    "start_time": "2022-04-23T16:47:58.459Z"
   },
   {
    "duration": 9,
    "start_time": "2022-04-23T16:47:58.603Z"
   },
   {
    "duration": 38,
    "start_time": "2022-04-23T16:47:58.614Z"
   },
   {
    "duration": 6,
    "start_time": "2022-04-23T16:47:58.655Z"
   },
   {
    "duration": 7,
    "start_time": "2022-04-23T16:47:58.664Z"
   },
   {
    "duration": 23,
    "start_time": "2022-04-23T16:47:58.674Z"
   },
   {
    "duration": 51,
    "start_time": "2022-04-23T16:47:58.700Z"
   },
   {
    "duration": 24,
    "start_time": "2022-04-23T16:47:58.754Z"
   },
   {
    "duration": 6,
    "start_time": "2022-04-23T16:54:39.503Z"
   },
   {
    "duration": 12,
    "start_time": "2022-04-23T21:15:59.025Z"
   },
   {
    "duration": 166,
    "start_time": "2022-04-23T21:15:59.039Z"
   },
   {
    "duration": 8,
    "start_time": "2022-04-23T21:15:59.207Z"
   },
   {
    "duration": 26,
    "start_time": "2022-04-23T21:15:59.216Z"
   },
   {
    "duration": 5,
    "start_time": "2022-04-23T21:15:59.244Z"
   },
   {
    "duration": 22,
    "start_time": "2022-04-23T21:15:59.251Z"
   },
   {
    "duration": 169,
    "start_time": "2022-04-23T21:15:59.275Z"
   },
   {
    "duration": 68,
    "start_time": "2022-04-23T21:15:59.446Z"
   },
   {
    "duration": 74,
    "start_time": "2022-04-23T21:15:59.515Z"
   },
   {
    "duration": 20,
    "start_time": "2022-04-23T21:15:59.591Z"
   },
   {
    "duration": 10,
    "start_time": "2022-04-23T21:15:59.613Z"
   },
   {
    "duration": 15,
    "start_time": "2022-04-23T21:15:59.625Z"
   },
   {
    "duration": 34,
    "start_time": "2022-04-23T21:15:59.642Z"
   },
   {
    "duration": 24,
    "start_time": "2022-04-23T21:15:59.678Z"
   },
   {
    "duration": 13,
    "start_time": "2022-04-23T21:15:59.703Z"
   },
   {
    "duration": 14,
    "start_time": "2022-04-23T21:15:59.718Z"
   },
   {
    "duration": 52,
    "start_time": "2022-04-23T21:15:59.733Z"
   },
   {
    "duration": 5,
    "start_time": "2022-04-23T21:15:59.787Z"
   },
   {
    "duration": 6,
    "start_time": "2022-04-23T21:15:59.794Z"
   },
   {
    "duration": 992,
    "start_time": "2022-04-23T21:15:59.802Z"
   },
   {
    "duration": 20,
    "start_time": "2022-04-23T21:16:00.796Z"
   },
   {
    "duration": 68,
    "start_time": "2022-04-23T21:16:00.818Z"
   },
   {
    "duration": 25,
    "start_time": "2022-04-23T21:16:00.888Z"
   },
   {
    "duration": 23,
    "start_time": "2022-04-23T21:16:00.915Z"
   },
   {
    "duration": 48,
    "start_time": "2022-04-23T21:16:00.940Z"
   },
   {
    "duration": 69,
    "start_time": "2022-04-23T21:16:00.990Z"
   },
   {
    "duration": 16,
    "start_time": "2022-04-23T21:16:01.061Z"
   },
   {
    "duration": 14,
    "start_time": "2022-04-23T21:16:01.079Z"
   },
   {
    "duration": 50,
    "start_time": "2022-04-23T21:16:01.095Z"
   },
   {
    "duration": 6,
    "start_time": "2022-04-23T21:16:01.147Z"
   },
   {
    "duration": 20,
    "start_time": "2022-04-23T21:16:01.155Z"
   },
   {
    "duration": 14,
    "start_time": "2022-04-23T21:16:01.177Z"
   },
   {
    "duration": 39,
    "start_time": "2022-04-23T21:16:01.194Z"
   },
   {
    "duration": 19,
    "start_time": "2022-04-23T21:16:01.236Z"
   },
   {
    "duration": 84,
    "start_time": "2022-04-23T21:16:01.258Z"
   },
   {
    "duration": 7,
    "start_time": "2022-04-23T21:16:01.345Z"
   },
   {
    "duration": 44,
    "start_time": "2022-04-23T21:16:01.354Z"
   },
   {
    "duration": 10,
    "start_time": "2022-04-23T21:16:01.400Z"
   },
   {
    "duration": 16,
    "start_time": "2022-04-23T21:16:01.412Z"
   },
   {
    "duration": 32,
    "start_time": "2022-04-23T21:16:01.430Z"
   },
   {
    "duration": 41,
    "start_time": "2022-04-23T21:16:01.463Z"
   },
   {
    "duration": 19,
    "start_time": "2022-04-23T21:16:01.506Z"
   },
   {
    "duration": 9,
    "start_time": "2022-04-23T21:17:31.613Z"
   },
   {
    "duration": 8,
    "start_time": "2022-04-23T21:18:05.337Z"
   },
   {
    "duration": 25,
    "start_time": "2022-04-23T21:19:23.117Z"
   },
   {
    "duration": 7,
    "start_time": "2022-04-23T21:24:25.394Z"
   },
   {
    "duration": 42,
    "start_time": "2022-04-23T21:39:47.005Z"
   },
   {
    "duration": 107,
    "start_time": "2022-04-23T21:41:16.909Z"
   },
   {
    "duration": 11,
    "start_time": "2022-04-23T22:18:29.784Z"
   },
   {
    "duration": 9,
    "start_time": "2022-04-23T22:19:59.485Z"
   },
   {
    "duration": 12,
    "start_time": "2022-04-23T22:21:18.872Z"
   },
   {
    "duration": 10,
    "start_time": "2022-04-23T22:21:30.301Z"
   },
   {
    "duration": 11,
    "start_time": "2022-04-23T22:22:17.192Z"
   },
   {
    "duration": 10,
    "start_time": "2022-04-23T22:22:26.690Z"
   },
   {
    "duration": 111,
    "start_time": "2022-04-23T22:25:30.692Z"
   },
   {
    "duration": 10,
    "start_time": "2022-04-23T22:25:41.624Z"
   },
   {
    "duration": 11,
    "start_time": "2022-04-23T22:28:16.045Z"
   },
   {
    "duration": 10,
    "start_time": "2022-04-23T22:29:58.140Z"
   },
   {
    "duration": 10,
    "start_time": "2022-04-23T22:30:10.424Z"
   },
   {
    "duration": 10,
    "start_time": "2022-04-23T22:30:36.760Z"
   },
   {
    "duration": 10,
    "start_time": "2022-04-23T22:30:58.944Z"
   },
   {
    "duration": 11,
    "start_time": "2022-04-23T22:31:11.127Z"
   },
   {
    "duration": 10,
    "start_time": "2022-04-23T22:31:28.660Z"
   },
   {
    "duration": 10,
    "start_time": "2022-04-23T22:32:08.792Z"
   },
   {
    "duration": 121,
    "start_time": "2022-04-23T22:48:36.672Z"
   },
   {
    "duration": 10,
    "start_time": "2022-04-23T22:48:45.752Z"
   },
   {
    "duration": 5,
    "start_time": "2022-04-23T23:19:51.785Z"
   },
   {
    "duration": 1121,
    "start_time": "2022-04-23T23:26:32.017Z"
   },
   {
    "duration": 149,
    "start_time": "2022-04-23T23:26:33.140Z"
   },
   {
    "duration": 12,
    "start_time": "2022-04-23T23:26:33.290Z"
   },
   {
    "duration": 22,
    "start_time": "2022-04-23T23:26:33.304Z"
   },
   {
    "duration": 7,
    "start_time": "2022-04-23T23:26:33.327Z"
   },
   {
    "duration": 4,
    "start_time": "2022-04-23T23:26:33.336Z"
   },
   {
    "duration": 188,
    "start_time": "2022-04-23T23:26:33.342Z"
   },
   {
    "duration": 79,
    "start_time": "2022-04-23T23:26:33.532Z"
   },
   {
    "duration": 79,
    "start_time": "2022-04-23T23:26:33.612Z"
   },
   {
    "duration": 20,
    "start_time": "2022-04-23T23:26:33.693Z"
   },
   {
    "duration": 8,
    "start_time": "2022-04-23T23:26:33.715Z"
   },
   {
    "duration": 15,
    "start_time": "2022-04-23T23:26:33.724Z"
   },
   {
    "duration": 34,
    "start_time": "2022-04-23T23:26:33.740Z"
   },
   {
    "duration": 22,
    "start_time": "2022-04-23T23:26:33.776Z"
   },
   {
    "duration": 13,
    "start_time": "2022-04-23T23:26:33.800Z"
   },
   {
    "duration": 9,
    "start_time": "2022-04-23T23:26:33.815Z"
   },
   {
    "duration": 59,
    "start_time": "2022-04-23T23:26:33.826Z"
   },
   {
    "duration": 8,
    "start_time": "2022-04-23T23:26:33.887Z"
   },
   {
    "duration": 5,
    "start_time": "2022-04-23T23:26:33.897Z"
   },
   {
    "duration": 4,
    "start_time": "2022-04-23T23:26:33.904Z"
   },
   {
    "duration": 1124,
    "start_time": "2022-04-23T23:26:33.910Z"
   },
   {
    "duration": 23,
    "start_time": "2022-04-23T23:26:35.036Z"
   },
   {
    "duration": 55,
    "start_time": "2022-04-23T23:26:35.060Z"
   },
   {
    "duration": 27,
    "start_time": "2022-04-23T23:26:35.117Z"
   },
   {
    "duration": 65,
    "start_time": "2022-04-23T23:26:35.146Z"
   },
   {
    "duration": 23,
    "start_time": "2022-04-23T23:26:35.212Z"
   },
   {
    "duration": 73,
    "start_time": "2022-04-23T23:26:35.237Z"
   },
   {
    "duration": 5,
    "start_time": "2022-04-23T23:26:35.313Z"
   },
   {
    "duration": 152,
    "start_time": "2022-04-23T23:26:35.319Z"
   },
   {
    "duration": 34,
    "start_time": "2022-04-23T23:26:35.473Z"
   },
   {
    "duration": 5,
    "start_time": "2022-04-23T23:26:35.508Z"
   },
   {
    "duration": 8,
    "start_time": "2022-04-23T23:26:35.515Z"
   },
   {
    "duration": 8,
    "start_time": "2022-04-23T23:26:35.573Z"
   },
   {
    "duration": 27,
    "start_time": "2022-04-23T23:26:35.583Z"
   },
   {
    "duration": 16,
    "start_time": "2022-04-23T23:26:35.612Z"
   },
   {
    "duration": 106,
    "start_time": "2022-04-23T23:26:35.630Z"
   },
   {
    "duration": 6,
    "start_time": "2022-04-23T23:26:35.738Z"
   },
   {
    "duration": 30,
    "start_time": "2022-04-23T23:26:35.746Z"
   },
   {
    "duration": 5,
    "start_time": "2022-04-23T23:26:35.777Z"
   },
   {
    "duration": 6,
    "start_time": "2022-04-23T23:26:35.784Z"
   },
   {
    "duration": 11,
    "start_time": "2022-04-23T23:26:35.791Z"
   },
   {
    "duration": 9,
    "start_time": "2022-04-23T23:26:35.804Z"
   },
   {
    "duration": 9,
    "start_time": "2022-04-23T23:26:35.814Z"
   },
   {
    "duration": 5,
    "start_time": "2022-04-23T23:32:53.944Z"
   },
   {
    "duration": 1191,
    "start_time": "2022-04-23T23:52:46.046Z"
   },
   {
    "duration": 142,
    "start_time": "2022-04-23T23:52:47.239Z"
   },
   {
    "duration": 11,
    "start_time": "2022-04-23T23:52:47.383Z"
   },
   {
    "duration": 22,
    "start_time": "2022-04-23T23:52:47.396Z"
   },
   {
    "duration": 7,
    "start_time": "2022-04-23T23:52:47.420Z"
   },
   {
    "duration": 4,
    "start_time": "2022-04-23T23:52:47.429Z"
   },
   {
    "duration": 186,
    "start_time": "2022-04-23T23:52:47.434Z"
   },
   {
    "duration": 77,
    "start_time": "2022-04-23T23:52:47.621Z"
   },
   {
    "duration": 76,
    "start_time": "2022-04-23T23:52:47.700Z"
   },
   {
    "duration": 19,
    "start_time": "2022-04-23T23:52:47.777Z"
   },
   {
    "duration": 8,
    "start_time": "2022-04-23T23:52:47.798Z"
   },
   {
    "duration": 18,
    "start_time": "2022-04-23T23:52:47.807Z"
   },
   {
    "duration": 9,
    "start_time": "2022-04-23T23:52:47.826Z"
   },
   {
    "duration": 49,
    "start_time": "2022-04-23T23:52:47.839Z"
   },
   {
    "duration": 13,
    "start_time": "2022-04-23T23:52:47.889Z"
   },
   {
    "duration": 11,
    "start_time": "2022-04-23T23:52:47.904Z"
   },
   {
    "duration": 34,
    "start_time": "2022-04-23T23:52:47.916Z"
   },
   {
    "duration": 28,
    "start_time": "2022-04-23T23:52:47.952Z"
   },
   {
    "duration": 6,
    "start_time": "2022-04-23T23:52:47.982Z"
   },
   {
    "duration": 7,
    "start_time": "2022-04-23T23:52:47.990Z"
   },
   {
    "duration": 1071,
    "start_time": "2022-04-23T23:52:47.998Z"
   },
   {
    "duration": 23,
    "start_time": "2022-04-23T23:52:49.071Z"
   },
   {
    "duration": 55,
    "start_time": "2022-04-23T23:52:49.096Z"
   },
   {
    "duration": 38,
    "start_time": "2022-04-23T23:52:49.153Z"
   },
   {
    "duration": 48,
    "start_time": "2022-04-23T23:52:49.193Z"
   },
   {
    "duration": 34,
    "start_time": "2022-04-23T23:52:49.242Z"
   },
   {
    "duration": 65,
    "start_time": "2022-04-23T23:52:49.278Z"
   },
   {
    "duration": 5,
    "start_time": "2022-04-23T23:52:49.344Z"
   },
   {
    "duration": 145,
    "start_time": "2022-04-23T23:52:49.350Z"
   },
   {
    "duration": 78,
    "start_time": "2022-04-23T23:52:49.497Z"
   },
   {
    "duration": 5,
    "start_time": "2022-04-23T23:52:49.577Z"
   },
   {
    "duration": 8,
    "start_time": "2022-04-23T23:52:49.584Z"
   },
   {
    "duration": 9,
    "start_time": "2022-04-23T23:52:49.594Z"
   },
   {
    "duration": 72,
    "start_time": "2022-04-23T23:52:49.604Z"
   },
   {
    "duration": 15,
    "start_time": "2022-04-23T23:52:49.678Z"
   },
   {
    "duration": 92,
    "start_time": "2022-04-23T23:52:49.695Z"
   },
   {
    "duration": 5,
    "start_time": "2022-04-23T23:52:49.789Z"
   },
   {
    "duration": 14,
    "start_time": "2022-04-23T23:52:49.796Z"
   },
   {
    "duration": 6,
    "start_time": "2022-04-23T23:52:49.812Z"
   },
   {
    "duration": 9,
    "start_time": "2022-04-23T23:52:49.819Z"
   },
   {
    "duration": 9,
    "start_time": "2022-04-23T23:52:49.832Z"
   },
   {
    "duration": 35,
    "start_time": "2022-04-23T23:52:49.842Z"
   },
   {
    "duration": 11,
    "start_time": "2022-04-23T23:52:49.879Z"
   },
   {
    "duration": 1104,
    "start_time": "2022-04-24T00:08:57.034Z"
   },
   {
    "duration": 149,
    "start_time": "2022-04-24T00:08:58.140Z"
   },
   {
    "duration": 12,
    "start_time": "2022-04-24T00:08:58.290Z"
   },
   {
    "duration": 20,
    "start_time": "2022-04-24T00:08:58.304Z"
   },
   {
    "duration": 7,
    "start_time": "2022-04-24T00:08:58.326Z"
   },
   {
    "duration": 4,
    "start_time": "2022-04-24T00:08:58.335Z"
   },
   {
    "duration": 191,
    "start_time": "2022-04-24T00:08:58.341Z"
   },
   {
    "duration": 77,
    "start_time": "2022-04-24T00:08:58.534Z"
   },
   {
    "duration": 77,
    "start_time": "2022-04-24T00:08:58.613Z"
   },
   {
    "duration": 20,
    "start_time": "2022-04-24T00:08:58.692Z"
   },
   {
    "duration": 8,
    "start_time": "2022-04-24T00:08:58.714Z"
   },
   {
    "duration": 18,
    "start_time": "2022-04-24T00:08:58.723Z"
   },
   {
    "duration": 9,
    "start_time": "2022-04-24T00:08:58.742Z"
   },
   {
    "duration": 22,
    "start_time": "2022-04-24T00:08:58.775Z"
   },
   {
    "duration": 12,
    "start_time": "2022-04-24T00:08:58.798Z"
   },
   {
    "duration": 17,
    "start_time": "2022-04-24T00:08:58.811Z"
   },
   {
    "duration": 55,
    "start_time": "2022-04-24T00:08:58.830Z"
   },
   {
    "duration": 8,
    "start_time": "2022-04-24T00:08:58.886Z"
   },
   {
    "duration": 5,
    "start_time": "2022-04-24T00:08:58.896Z"
   },
   {
    "duration": 6,
    "start_time": "2022-04-24T00:08:58.903Z"
   },
   {
    "duration": 1103,
    "start_time": "2022-04-24T00:08:58.911Z"
   },
   {
    "duration": 24,
    "start_time": "2022-04-24T00:09:00.016Z"
   },
   {
    "duration": 62,
    "start_time": "2022-04-24T00:09:00.042Z"
   },
   {
    "duration": 30,
    "start_time": "2022-04-24T00:09:00.106Z"
   },
   {
    "duration": 66,
    "start_time": "2022-04-24T00:09:00.138Z"
   },
   {
    "duration": 24,
    "start_time": "2022-04-24T00:09:00.206Z"
   },
   {
    "duration": 74,
    "start_time": "2022-04-24T00:09:00.232Z"
   },
   {
    "duration": 5,
    "start_time": "2022-04-24T00:09:00.307Z"
   },
   {
    "duration": 158,
    "start_time": "2022-04-24T00:09:00.313Z"
   },
   {
    "duration": 35,
    "start_time": "2022-04-24T00:09:00.472Z"
   },
   {
    "duration": 6,
    "start_time": "2022-04-24T00:09:00.509Z"
   },
   {
    "duration": 60,
    "start_time": "2022-04-24T00:09:00.517Z"
   },
   {
    "duration": 27,
    "start_time": "2022-04-24T00:09:00.579Z"
   },
   {
    "duration": 34,
    "start_time": "2022-04-24T00:09:00.607Z"
   },
   {
    "duration": 14,
    "start_time": "2022-04-24T00:09:00.642Z"
   },
   {
    "duration": 89,
    "start_time": "2022-04-24T00:09:00.658Z"
   },
   {
    "duration": 25,
    "start_time": "2022-04-24T00:09:00.749Z"
   },
   {
    "duration": 23,
    "start_time": "2022-04-24T00:09:00.776Z"
   },
   {
    "duration": 12,
    "start_time": "2022-04-24T00:09:00.801Z"
   },
   {
    "duration": 18,
    "start_time": "2022-04-24T00:09:00.814Z"
   },
   {
    "duration": 21,
    "start_time": "2022-04-24T00:09:00.835Z"
   },
   {
    "duration": 24,
    "start_time": "2022-04-24T00:09:00.858Z"
   },
   {
    "duration": 11,
    "start_time": "2022-04-24T00:09:00.884Z"
   }
  ],
  "kernelspec": {
   "display_name": "Python 3 (ipykernel)",
   "language": "python",
   "name": "python3"
  },
  "language_info": {
   "codemirror_mode": {
    "name": "ipython",
    "version": 3
   },
   "file_extension": ".py",
   "mimetype": "text/x-python",
   "name": "python",
   "nbconvert_exporter": "python",
   "pygments_lexer": "ipython3",
   "version": "3.9.5"
  },
  "toc": {
   "base_numbering": 1,
   "nav_menu": {},
   "number_sections": true,
   "sideBar": true,
   "skip_h1_title": true,
   "title_cell": "Table of Contents",
   "title_sidebar": "Contents",
   "toc_cell": false,
   "toc_position": {
    "height": "calc(100% - 180px)",
    "left": "10px",
    "top": "150px",
    "width": "165px"
   },
   "toc_section_display": true,
   "toc_window_display": true
  },
  "colab": {
   "provenance": [],
   "toc_visible": true
  }
 },
 "nbformat": 4,
 "nbformat_minor": 0
}
