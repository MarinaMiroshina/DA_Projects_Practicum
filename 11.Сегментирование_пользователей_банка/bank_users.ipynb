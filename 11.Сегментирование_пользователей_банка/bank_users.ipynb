{
 "cells": [
  {
   "cell_type": "markdown",
   "metadata": {
    "id": "Dn6rRHZfQYoG"
   },
   "source": [
    "# Сегментирование пользователей банка"
   ]
  },
  {
   "cell_type": "markdown",
   "metadata": {
    "id": "vfYDnKNcQYEy"
   },
   "source": [
    "Для исследования предоставлены данные, которые содержат информацию о клиентах банка «Метанпром». Банк располагается в Ярославле и областных городах: Ростов Великий и Рыбинск.\n",
    "\n",
    "Цель исследования: выявить признаки, которые влияют на отток, сегментировать пользователей банка по количеству продуктов и дать рекомендации по удержанию этих сегментов.\n",
    "\n",
    "Описание данных:\n",
    "- userid — идентификатор пользователя;\n",
    "- score — баллы кредитного скоринга;\n",
    "- City — город;\n",
    "- Gender — пол;\n",
    "- Age — возраст;\n",
    "- Objects — количество объектов в собственности;\n",
    "- Balance — баланс на счёте;\n",
    "- Products — количество продуктов, которыми пользуется клиент;\n",
    "- CreditCard — есть ли кредитная карта;\n",
    "- Loyalty — активный клиент;\n",
    "- estimated_salary — заработная плата клиента;\n",
    "- Churn — ушёл или нет."
   ]
  },
  {
   "cell_type": "markdown",
   "metadata": {
    "id": "xB5XXSC2jK7e"
   },
   "source": [
    "## План работы\n",
    "\n",
    "1. [Изучение данных](#1)\n",
    "\n",
    "2. [Предобработка данных](#2)\n",
    "\n",
    "    2.1 [Стиль заголовков](#2.1)\n",
    "\n",
    "    2.2 [Исследование причин появления пропусков](#2.2)\n",
    "\n",
    "    2.3 [Проверка данных](#2.3)\n",
    "\n",
    "3. [Анализ признаков, влияющих на отток и сегментирование пользователей по количеству продуктов](#3)\n",
    "\n",
    "    3.1 [Соотношение клиентов по возрастным группам](#3.1)\n",
    "\n",
    "    3.2 [Cоотношение клиентов по городам](#3.2)\n",
    "\n",
    "    3.3 [Соотношение клиентов по гендерным признакам](#3.3)\n",
    "\n",
    "    3.4 [Различие по числу продуктов по остальным признакам](#3.4)\n",
    "\n",
    "    3.5 [Описание сегментов](#3.5)\n",
    "\n",
    "4. [Проверка статистических гипотез](#4)\n",
    "\n",
    "    4.1 [Сравнение среднего дохода клиентов, пользующихся одним и двумя продуктами банка](#4.1)\n",
    "\n",
    "    4.2 [Сравнение среднего дохода клиентов в Ярославле и области](#4.2)\n",
    "\n",
    "5. [Общие выводы и рекомендации по удержанию для каждого сегмента](#5)"
   ]
  },
  {
   "cell_type": "markdown",
   "metadata": {
    "id": "ptJ8moYnZifw"
   },
   "source": [
    "<a name=\"1\"><h2>1 Изучение данных</h2></a>"
   ]
  },
  {
   "cell_type": "markdown",
   "metadata": {
    "id": "NnVVB-BAZifw"
   },
   "source": [
    "Импортируем библиотеки:"
   ]
  },
  {
   "cell_type": "code",
   "execution_count": 1,
   "metadata": {
    "id": "pO9fxWLTZify",
    "scrolled": true
   },
   "outputs": [],
   "source": [
    "import pandas as pd\n",
    "import numpy as np\n",
    "import matplotlib.pyplot as plt\n",
    "from scipy import stats as st\n",
    "import seaborn as sns\n",
    "import plotly.graph_objects as go\n",
    "from plotly.subplots import make_subplots\n",
    "import matplotlib\n",
    "matplotlib.style.use('seaborn-dark')\n",
    "%config InlineBackend.figure_format = 'retina'\n",
    "pd.options.display.float_format = '{:.2f}'.format"
   ]
  },
  {
   "cell_type": "markdown",
   "metadata": {
    "id": "m_j8nj40Zifz"
   },
   "source": [
    "Прочитаем данные и сохраним в переменной df:"
   ]
  },
  {
   "cell_type": "code",
   "execution_count": 2,
   "metadata": {
    "id": "XNnUtl8vZifz",
    "scrolled": true
   },
   "outputs": [],
   "source": [
    "df = pd.read_csv('/content/bank_dataset.csv')"
   ]
  },
  {
   "cell_type": "markdown",
   "metadata": {
    "id": "JzPIPVUwZifz"
   },
   "source": [
    "Посмотрим первые 10 строк таблицы и общую информацию:"
   ]
  },
  {
   "cell_type": "code",
   "execution_count": 3,
   "metadata": {
    "colab": {
     "base_uri": "https://localhost:8080/",
     "height": 363
    },
    "id": "epCHypvGZifz",
    "outputId": "1bd6d631-0cb1-4f90-8f8e-373536c1d9d6",
    "scrolled": false
   },
   "outputs": [
    {
     "data": {
      "text/html": [
       "\n",
       "  <div id=\"df-7a8c286a-6f0a-4be4-9433-5b47b8a668b2\">\n",
       "    <div class=\"colab-df-container\">\n",
       "      <div>\n",
       "<style scoped>\n",
       "    .dataframe tbody tr th:only-of-type {\n",
       "        vertical-align: middle;\n",
       "    }\n",
       "\n",
       "    .dataframe tbody tr th {\n",
       "        vertical-align: top;\n",
       "    }\n",
       "\n",
       "    .dataframe thead th {\n",
       "        text-align: right;\n",
       "    }\n",
       "</style>\n",
       "<table border=\"1\" class=\"dataframe\">\n",
       "  <thead>\n",
       "    <tr style=\"text-align: right;\">\n",
       "      <th></th>\n",
       "      <th>userid</th>\n",
       "      <th>score</th>\n",
       "      <th>City</th>\n",
       "      <th>Gender</th>\n",
       "      <th>Age</th>\n",
       "      <th>Objects</th>\n",
       "      <th>Balance</th>\n",
       "      <th>Products</th>\n",
       "      <th>CreditCard</th>\n",
       "      <th>Loyalty</th>\n",
       "      <th>estimated_salary</th>\n",
       "      <th>Churn</th>\n",
       "    </tr>\n",
       "  </thead>\n",
       "  <tbody>\n",
       "    <tr>\n",
       "      <th>0</th>\n",
       "      <td>15677338</td>\n",
       "      <td>619</td>\n",
       "      <td>Ярославль</td>\n",
       "      <td>Ж</td>\n",
       "      <td>42</td>\n",
       "      <td>2</td>\n",
       "      <td>NaN</td>\n",
       "      <td>1</td>\n",
       "      <td>1</td>\n",
       "      <td>1</td>\n",
       "      <td>101348.88</td>\n",
       "      <td>1</td>\n",
       "    </tr>\n",
       "    <tr>\n",
       "      <th>1</th>\n",
       "      <td>15690047</td>\n",
       "      <td>608</td>\n",
       "      <td>Рыбинск</td>\n",
       "      <td>Ж</td>\n",
       "      <td>41</td>\n",
       "      <td>1</td>\n",
       "      <td>83807.86</td>\n",
       "      <td>1</td>\n",
       "      <td>0</td>\n",
       "      <td>1</td>\n",
       "      <td>112542.58</td>\n",
       "      <td>0</td>\n",
       "    </tr>\n",
       "    <tr>\n",
       "      <th>2</th>\n",
       "      <td>15662040</td>\n",
       "      <td>502</td>\n",
       "      <td>Ярославль</td>\n",
       "      <td>Ж</td>\n",
       "      <td>42</td>\n",
       "      <td>8</td>\n",
       "      <td>159660.80</td>\n",
       "      <td>3</td>\n",
       "      <td>1</td>\n",
       "      <td>0</td>\n",
       "      <td>113931.57</td>\n",
       "      <td>1</td>\n",
       "    </tr>\n",
       "    <tr>\n",
       "      <th>3</th>\n",
       "      <td>15744090</td>\n",
       "      <td>699</td>\n",
       "      <td>Ярославль</td>\n",
       "      <td>Ж</td>\n",
       "      <td>39</td>\n",
       "      <td>1</td>\n",
       "      <td>NaN</td>\n",
       "      <td>2</td>\n",
       "      <td>0</td>\n",
       "      <td>0</td>\n",
       "      <td>93826.63</td>\n",
       "      <td>0</td>\n",
       "    </tr>\n",
       "    <tr>\n",
       "      <th>4</th>\n",
       "      <td>15780624</td>\n",
       "      <td>850</td>\n",
       "      <td>Рыбинск</td>\n",
       "      <td>Ж</td>\n",
       "      <td>43</td>\n",
       "      <td>2</td>\n",
       "      <td>125510.82</td>\n",
       "      <td>1</td>\n",
       "      <td>1</td>\n",
       "      <td>1</td>\n",
       "      <td>79084.10</td>\n",
       "      <td>0</td>\n",
       "    </tr>\n",
       "    <tr>\n",
       "      <th>5</th>\n",
       "      <td>15616748</td>\n",
       "      <td>645</td>\n",
       "      <td>Рыбинск</td>\n",
       "      <td>М</td>\n",
       "      <td>44</td>\n",
       "      <td>8</td>\n",
       "      <td>113755.78</td>\n",
       "      <td>2</td>\n",
       "      <td>1</td>\n",
       "      <td>0</td>\n",
       "      <td>149756.71</td>\n",
       "      <td>1</td>\n",
       "    </tr>\n",
       "    <tr>\n",
       "      <th>6</th>\n",
       "      <td>15635267</td>\n",
       "      <td>822</td>\n",
       "      <td>Ярославль</td>\n",
       "      <td>М</td>\n",
       "      <td>50</td>\n",
       "      <td>7</td>\n",
       "      <td>NaN</td>\n",
       "      <td>2</td>\n",
       "      <td>1</td>\n",
       "      <td>1</td>\n",
       "      <td>10062.80</td>\n",
       "      <td>0</td>\n",
       "    </tr>\n",
       "    <tr>\n",
       "      <th>7</th>\n",
       "      <td>15698884</td>\n",
       "      <td>376</td>\n",
       "      <td>Ростов Великий</td>\n",
       "      <td>Ж</td>\n",
       "      <td>29</td>\n",
       "      <td>4</td>\n",
       "      <td>115046.74</td>\n",
       "      <td>4</td>\n",
       "      <td>1</td>\n",
       "      <td>0</td>\n",
       "      <td>119346.88</td>\n",
       "      <td>1</td>\n",
       "    </tr>\n",
       "    <tr>\n",
       "      <th>8</th>\n",
       "      <td>15835101</td>\n",
       "      <td>501</td>\n",
       "      <td>Ярославль</td>\n",
       "      <td>М</td>\n",
       "      <td>44</td>\n",
       "      <td>4</td>\n",
       "      <td>142051.07</td>\n",
       "      <td>2</td>\n",
       "      <td>0</td>\n",
       "      <td>1</td>\n",
       "      <td>74940.50</td>\n",
       "      <td>0</td>\n",
       "    </tr>\n",
       "    <tr>\n",
       "      <th>9</th>\n",
       "      <td>15635125</td>\n",
       "      <td>684</td>\n",
       "      <td>Ярославль</td>\n",
       "      <td>М</td>\n",
       "      <td>27</td>\n",
       "      <td>2</td>\n",
       "      <td>134603.88</td>\n",
       "      <td>1</td>\n",
       "      <td>1</td>\n",
       "      <td>1</td>\n",
       "      <td>71725.73</td>\n",
       "      <td>0</td>\n",
       "    </tr>\n",
       "  </tbody>\n",
       "</table>\n",
       "</div>\n",
       "      <button class=\"colab-df-convert\" onclick=\"convertToInteractive('df-7a8c286a-6f0a-4be4-9433-5b47b8a668b2')\"\n",
       "              title=\"Convert this dataframe to an interactive table.\"\n",
       "              style=\"display:none;\">\n",
       "        \n",
       "  <svg xmlns=\"http://www.w3.org/2000/svg\" height=\"24px\"viewBox=\"0 0 24 24\"\n",
       "       width=\"24px\">\n",
       "    <path d=\"M0 0h24v24H0V0z\" fill=\"none\"/>\n",
       "    <path d=\"M18.56 5.44l.94 2.06.94-2.06 2.06-.94-2.06-.94-.94-2.06-.94 2.06-2.06.94zm-11 1L8.5 8.5l.94-2.06 2.06-.94-2.06-.94L8.5 2.5l-.94 2.06-2.06.94zm10 10l.94 2.06.94-2.06 2.06-.94-2.06-.94-.94-2.06-.94 2.06-2.06.94z\"/><path d=\"M17.41 7.96l-1.37-1.37c-.4-.4-.92-.59-1.43-.59-.52 0-1.04.2-1.43.59L10.3 9.45l-7.72 7.72c-.78.78-.78 2.05 0 2.83L4 21.41c.39.39.9.59 1.41.59.51 0 1.02-.2 1.41-.59l7.78-7.78 2.81-2.81c.8-.78.8-2.07 0-2.86zM5.41 20L4 18.59l7.72-7.72 1.47 1.35L5.41 20z\"/>\n",
       "  </svg>\n",
       "      </button>\n",
       "      \n",
       "  <style>\n",
       "    .colab-df-container {\n",
       "      display:flex;\n",
       "      flex-wrap:wrap;\n",
       "      gap: 12px;\n",
       "    }\n",
       "\n",
       "    .colab-df-convert {\n",
       "      background-color: #E8F0FE;\n",
       "      border: none;\n",
       "      border-radius: 50%;\n",
       "      cursor: pointer;\n",
       "      display: none;\n",
       "      fill: #1967D2;\n",
       "      height: 32px;\n",
       "      padding: 0 0 0 0;\n",
       "      width: 32px;\n",
       "    }\n",
       "\n",
       "    .colab-df-convert:hover {\n",
       "      background-color: #E2EBFA;\n",
       "      box-shadow: 0px 1px 2px rgba(60, 64, 67, 0.3), 0px 1px 3px 1px rgba(60, 64, 67, 0.15);\n",
       "      fill: #174EA6;\n",
       "    }\n",
       "\n",
       "    [theme=dark] .colab-df-convert {\n",
       "      background-color: #3B4455;\n",
       "      fill: #D2E3FC;\n",
       "    }\n",
       "\n",
       "    [theme=dark] .colab-df-convert:hover {\n",
       "      background-color: #434B5C;\n",
       "      box-shadow: 0px 1px 3px 1px rgba(0, 0, 0, 0.15);\n",
       "      filter: drop-shadow(0px 1px 2px rgba(0, 0, 0, 0.3));\n",
       "      fill: #FFFFFF;\n",
       "    }\n",
       "  </style>\n",
       "\n",
       "      <script>\n",
       "        const buttonEl =\n",
       "          document.querySelector('#df-7a8c286a-6f0a-4be4-9433-5b47b8a668b2 button.colab-df-convert');\n",
       "        buttonEl.style.display =\n",
       "          google.colab.kernel.accessAllowed ? 'block' : 'none';\n",
       "\n",
       "        async function convertToInteractive(key) {\n",
       "          const element = document.querySelector('#df-7a8c286a-6f0a-4be4-9433-5b47b8a668b2');\n",
       "          const dataTable =\n",
       "            await google.colab.kernel.invokeFunction('convertToInteractive',\n",
       "                                                     [key], {});\n",
       "          if (!dataTable) return;\n",
       "\n",
       "          const docLinkHtml = 'Like what you see? Visit the ' +\n",
       "            '<a target=\"_blank\" href=https://colab.research.google.com/notebooks/data_table.ipynb>data table notebook</a>'\n",
       "            + ' to learn more about interactive tables.';\n",
       "          element.innerHTML = '';\n",
       "          dataTable['output_type'] = 'display_data';\n",
       "          await google.colab.output.renderOutput(dataTable, element);\n",
       "          const docLink = document.createElement('div');\n",
       "          docLink.innerHTML = docLinkHtml;\n",
       "          element.appendChild(docLink);\n",
       "        }\n",
       "      </script>\n",
       "    </div>\n",
       "  </div>\n",
       "  "
      ],
      "text/plain": [
       "     userid  score            City Gender  Age  Objects   Balance  Products  \\\n",
       "0  15677338    619       Ярославль      Ж   42        2       NaN         1   \n",
       "1  15690047    608         Рыбинск      Ж   41        1  83807.86         1   \n",
       "2  15662040    502       Ярославль      Ж   42        8 159660.80         3   \n",
       "3  15744090    699       Ярославль      Ж   39        1       NaN         2   \n",
       "4  15780624    850         Рыбинск      Ж   43        2 125510.82         1   \n",
       "5  15616748    645         Рыбинск      М   44        8 113755.78         2   \n",
       "6  15635267    822       Ярославль      М   50        7       NaN         2   \n",
       "7  15698884    376  Ростов Великий      Ж   29        4 115046.74         4   \n",
       "8  15835101    501       Ярославль      М   44        4 142051.07         2   \n",
       "9  15635125    684       Ярославль      М   27        2 134603.88         1   \n",
       "\n",
       "   CreditCard  Loyalty  estimated_salary  Churn  \n",
       "0           1        1         101348.88      1  \n",
       "1           0        1         112542.58      0  \n",
       "2           1        0         113931.57      1  \n",
       "3           0        0          93826.63      0  \n",
       "4           1        1          79084.10      0  \n",
       "5           1        0         149756.71      1  \n",
       "6           1        1          10062.80      0  \n",
       "7           1        0         119346.88      1  \n",
       "8           0        1          74940.50      0  \n",
       "9           1        1          71725.73      0  "
      ]
     },
     "execution_count": 3,
     "metadata": {},
     "output_type": "execute_result"
    }
   ],
   "source": [
    "df.head(10)"
   ]
  },
  {
   "cell_type": "code",
   "execution_count": 4,
   "metadata": {
    "colab": {
     "base_uri": "https://localhost:8080/"
    },
    "id": "gC7Ig1IDZif0",
    "outputId": "2cb663de-926c-4fc1-e52b-224d5a085eaf",
    "scrolled": true
   },
   "outputs": [
    {
     "name": "stdout",
     "output_type": "stream",
     "text": [
      "<class 'pandas.core.frame.DataFrame'>\n",
      "RangeIndex: 10000 entries, 0 to 9999\n",
      "Data columns (total 12 columns):\n",
      " #   Column            Non-Null Count  Dtype  \n",
      "---  ------            --------------  -----  \n",
      " 0   userid            10000 non-null  int64  \n",
      " 1   score             10000 non-null  int64  \n",
      " 2   City              10000 non-null  object \n",
      " 3   Gender            10000 non-null  object \n",
      " 4   Age               10000 non-null  int64  \n",
      " 5   Objects           10000 non-null  int64  \n",
      " 6   Balance           6383 non-null   float64\n",
      " 7   Products          10000 non-null  int64  \n",
      " 8   CreditCard        10000 non-null  int64  \n",
      " 9   Loyalty           10000 non-null  int64  \n",
      " 10  estimated_salary  10000 non-null  float64\n",
      " 11  Churn             10000 non-null  int64  \n",
      "dtypes: float64(2), int64(8), object(2)\n",
      "memory usage: 937.6+ KB\n"
     ]
    }
   ],
   "source": [
    "df.info()"
   ]
  },
  {
   "cell_type": "markdown",
   "metadata": {
    "id": "QYyiL88KZif0"
   },
   "source": [
    "Таблица содержит 12 столбцов и 10 тысяч записей. В столбце 'Balance' содержатся пропуски, подсчитаем их процент:"
   ]
  },
  {
   "cell_type": "code",
   "execution_count": 5,
   "metadata": {
    "colab": {
     "base_uri": "https://localhost:8080/"
    },
    "id": "87QFYuaVZif0",
    "outputId": "07b4ac89-f296-4ba5-9c85-f81a3b696ea3",
    "scrolled": true
   },
   "outputs": [
    {
     "data": {
      "text/plain": [
       "36.17"
      ]
     },
     "execution_count": 5,
     "metadata": {},
     "output_type": "execute_result"
    }
   ],
   "source": [
    "df['Balance'].isna().mean()*100"
   ]
  },
  {
   "cell_type": "markdown",
   "metadata": {
    "id": "gSsQ0xWjZif0"
   },
   "source": [
    "<div style=\"border: solid green 2px; padding: 20px\">\n",
    "    \n",
    "**Выводы**\n",
    "\n",
    "* Названия столбцов записаны в разном регистре и с нарушением стиля, поэтому приведем их к одному виду.\n",
    "* В столбце 'Balance' 36% пропусков, следует рассмотреть возможные причины появления пропущенных значений.</div>"
   ]
  },
  {
   "cell_type": "markdown",
   "metadata": {
    "id": "TvQBbSzVZif1"
   },
   "source": [
    "<a name=\"2\"><h2>2 Предобработка данных</h2></a>"
   ]
  },
  {
   "cell_type": "markdown",
   "metadata": {
    "id": "iE8KMzUkZif1"
   },
   "source": [
    "<a name=\"2.1\"><h3>2.1 Стиль заголовков</h3></a>"
   ]
  },
  {
   "cell_type": "markdown",
   "metadata": {
    "id": "0PYpPNMrZif1"
   },
   "source": [
    "Перезапишем названия колонок в нижнем регистре:"
   ]
  },
  {
   "cell_type": "code",
   "execution_count": 6,
   "metadata": {
    "id": "nK-y6xi1Zif1",
    "scrolled": true
   },
   "outputs": [],
   "source": [
    "df.columns = df.columns.str.lower()"
   ]
  },
  {
   "cell_type": "markdown",
   "metadata": {
    "id": "JUaly8pGZif1"
   },
   "source": [
    "Поменям названия в столбцах 'userid' и 'creditcard':"
   ]
  },
  {
   "cell_type": "code",
   "execution_count": 7,
   "metadata": {
    "id": "NpNPqaalZif2",
    "scrolled": true
   },
   "outputs": [],
   "source": [
    "df = df.rename(columns={'userid': 'user_id', 'creditcard': 'credit_card'})"
   ]
  },
  {
   "cell_type": "markdown",
   "metadata": {
    "id": "HehXnOmWZif2"
   },
   "source": [
    "Проверим результат:"
   ]
  },
  {
   "cell_type": "code",
   "execution_count": 8,
   "metadata": {
    "colab": {
     "base_uri": "https://localhost:8080/"
    },
    "id": "edUoI7fmZif2",
    "outputId": "dc047bdb-b58a-42e5-f674-1c4fce96987e",
    "scrolled": true
   },
   "outputs": [
    {
     "data": {
      "text/plain": [
       "Index(['user_id', 'score', 'city', 'gender', 'age', 'objects', 'balance',\n",
       "       'products', 'credit_card', 'loyalty', 'estimated_salary', 'churn'],\n",
       "      dtype='object')"
      ]
     },
     "execution_count": 8,
     "metadata": {},
     "output_type": "execute_result"
    }
   ],
   "source": [
    "df.columns"
   ]
  },
  {
   "cell_type": "markdown",
   "metadata": {
    "id": "pvHEC6WVZif3"
   },
   "source": [
    "<a name=\"2.2\"><h3>2.2 Исследование причин появления пропусков</h3></a>"
   ]
  },
  {
   "cell_type": "markdown",
   "metadata": {
    "id": "uDZ05-DFZif3"
   },
   "source": [
    "Возможные причины возникновения пропусков:\n",
    "* Отсутствие средств на счёте;\n",
    "* Некорректная выгрузка данных по клиентам без информации о балансе в одном из городов;\n",
    "* Столбец 'Balance' отражает сумму на счёте кредитной карты и пропуски у тех клиентов, которые не открывали в банке кредитный счёт;\n",
    "* Пропуски у клиентов, которые ушли из банка;\n",
    "* Клиенты не оформляли открытие счета в банке или открыли, но еще ни разу не воспользовались."
   ]
  },
  {
   "cell_type": "markdown",
   "metadata": {
    "id": "QYCdHYd_Zif3"
   },
   "source": [
    "Проверим данные предположения. Сначала посмотрим на распределение значений в столбце 'balance':"
   ]
  },
  {
   "cell_type": "code",
   "execution_count": 9,
   "metadata": {
    "colab": {
     "base_uri": "https://localhost:8080/"
    },
    "id": "XLnVYe88Zif4",
    "outputId": "25a92eb7-1a81-476e-efe3-ff3896e79b82"
   },
   "outputs": [
    {
     "data": {
      "text/plain": [
       "count     6383.00\n",
       "mean    119827.49\n",
       "std      30095.06\n",
       "min       3768.69\n",
       "25%     100181.98\n",
       "50%     119839.69\n",
       "75%     139512.29\n",
       "max     250898.09\n",
       "Name: balance, dtype: float64"
      ]
     },
     "execution_count": 9,
     "metadata": {},
     "output_type": "execute_result"
    }
   ],
   "source": [
    "df['balance'].describe()"
   ]
  },
  {
   "cell_type": "markdown",
   "metadata": {
    "id": "M2xLjzWvZif4"
   },
   "source": [
    "Так как минимальная сумма выше 3 тысяч, то можно предположить, что пропуски означают отсутствие средств на счете, но маловероятно, что у 36% клиентов на остатке ровно 0 рублей. Если бы NaN означал 0, то скорее всего был бы больший разброс с минимальными суммами до 3 тысяч рублей."
   ]
  },
  {
   "cell_type": "markdown",
   "metadata": {
    "id": "ag_rOVxuZif5"
   },
   "source": [
    "Для проверки по признакам создадим колонку типа 'bool':"
   ]
  },
  {
   "cell_type": "code",
   "execution_count": 10,
   "metadata": {
    "id": "wKKX16kQZif5"
   },
   "outputs": [],
   "source": [
    "df['nan'] = df['balance'].isna()"
   ]
  },
  {
   "cell_type": "markdown",
   "metadata": {
    "id": "gvAGlWDEZif5"
   },
   "source": [
    "Напишем функцию, которая будет выводить сводную таблицу с общим количеством клиентов по проверяемому признаку и сумму пропусков в этих категориях:"
   ]
  },
  {
   "cell_type": "code",
   "execution_count": 11,
   "metadata": {
    "id": "BVFai_HGZif6"
   },
   "outputs": [],
   "source": [
    "def revise_nan(column):\n",
    "    table = df.groupby(column)['nan'].agg(['count', 'sum'])\n",
    "    return table"
   ]
  },
  {
   "cell_type": "markdown",
   "metadata": {
    "id": "82-klbUeZif6"
   },
   "source": [
    "Проверим общее количество клиентов по городам и посмотрим совпадает ли где-нибудь количество пропусков:"
   ]
  },
  {
   "cell_type": "code",
   "execution_count": 12,
   "metadata": {
    "colab": {
     "base_uri": "https://localhost:8080/",
     "height": 175
    },
    "id": "dHSLlb9TZif6",
    "outputId": "a6f11089-16a3-4f67-974e-e682deac43a2"
   },
   "outputs": [
    {
     "data": {
      "text/html": [
       "\n",
       "  <div id=\"df-09f528dd-cf72-4191-b0b9-cd4b56b38deb\">\n",
       "    <div class=\"colab-df-container\">\n",
       "      <div>\n",
       "<style scoped>\n",
       "    .dataframe tbody tr th:only-of-type {\n",
       "        vertical-align: middle;\n",
       "    }\n",
       "\n",
       "    .dataframe tbody tr th {\n",
       "        vertical-align: top;\n",
       "    }\n",
       "\n",
       "    .dataframe thead th {\n",
       "        text-align: right;\n",
       "    }\n",
       "</style>\n",
       "<table border=\"1\" class=\"dataframe\">\n",
       "  <thead>\n",
       "    <tr style=\"text-align: right;\">\n",
       "      <th></th>\n",
       "      <th>count</th>\n",
       "      <th>sum</th>\n",
       "    </tr>\n",
       "    <tr>\n",
       "      <th>city</th>\n",
       "      <th></th>\n",
       "      <th></th>\n",
       "    </tr>\n",
       "  </thead>\n",
       "  <tbody>\n",
       "    <tr>\n",
       "      <th>Ростов Великий</th>\n",
       "      <td>2509</td>\n",
       "      <td>0</td>\n",
       "    </tr>\n",
       "    <tr>\n",
       "      <th>Рыбинск</th>\n",
       "      <td>2477</td>\n",
       "      <td>1199</td>\n",
       "    </tr>\n",
       "    <tr>\n",
       "      <th>Ярославль</th>\n",
       "      <td>5014</td>\n",
       "      <td>2418</td>\n",
       "    </tr>\n",
       "  </tbody>\n",
       "</table>\n",
       "</div>\n",
       "      <button class=\"colab-df-convert\" onclick=\"convertToInteractive('df-09f528dd-cf72-4191-b0b9-cd4b56b38deb')\"\n",
       "              title=\"Convert this dataframe to an interactive table.\"\n",
       "              style=\"display:none;\">\n",
       "        \n",
       "  <svg xmlns=\"http://www.w3.org/2000/svg\" height=\"24px\"viewBox=\"0 0 24 24\"\n",
       "       width=\"24px\">\n",
       "    <path d=\"M0 0h24v24H0V0z\" fill=\"none\"/>\n",
       "    <path d=\"M18.56 5.44l.94 2.06.94-2.06 2.06-.94-2.06-.94-.94-2.06-.94 2.06-2.06.94zm-11 1L8.5 8.5l.94-2.06 2.06-.94-2.06-.94L8.5 2.5l-.94 2.06-2.06.94zm10 10l.94 2.06.94-2.06 2.06-.94-2.06-.94-.94-2.06-.94 2.06-2.06.94z\"/><path d=\"M17.41 7.96l-1.37-1.37c-.4-.4-.92-.59-1.43-.59-.52 0-1.04.2-1.43.59L10.3 9.45l-7.72 7.72c-.78.78-.78 2.05 0 2.83L4 21.41c.39.39.9.59 1.41.59.51 0 1.02-.2 1.41-.59l7.78-7.78 2.81-2.81c.8-.78.8-2.07 0-2.86zM5.41 20L4 18.59l7.72-7.72 1.47 1.35L5.41 20z\"/>\n",
       "  </svg>\n",
       "      </button>\n",
       "      \n",
       "  <style>\n",
       "    .colab-df-container {\n",
       "      display:flex;\n",
       "      flex-wrap:wrap;\n",
       "      gap: 12px;\n",
       "    }\n",
       "\n",
       "    .colab-df-convert {\n",
       "      background-color: #E8F0FE;\n",
       "      border: none;\n",
       "      border-radius: 50%;\n",
       "      cursor: pointer;\n",
       "      display: none;\n",
       "      fill: #1967D2;\n",
       "      height: 32px;\n",
       "      padding: 0 0 0 0;\n",
       "      width: 32px;\n",
       "    }\n",
       "\n",
       "    .colab-df-convert:hover {\n",
       "      background-color: #E2EBFA;\n",
       "      box-shadow: 0px 1px 2px rgba(60, 64, 67, 0.3), 0px 1px 3px 1px rgba(60, 64, 67, 0.15);\n",
       "      fill: #174EA6;\n",
       "    }\n",
       "\n",
       "    [theme=dark] .colab-df-convert {\n",
       "      background-color: #3B4455;\n",
       "      fill: #D2E3FC;\n",
       "    }\n",
       "\n",
       "    [theme=dark] .colab-df-convert:hover {\n",
       "      background-color: #434B5C;\n",
       "      box-shadow: 0px 1px 3px 1px rgba(0, 0, 0, 0.15);\n",
       "      filter: drop-shadow(0px 1px 2px rgba(0, 0, 0, 0.3));\n",
       "      fill: #FFFFFF;\n",
       "    }\n",
       "  </style>\n",
       "\n",
       "      <script>\n",
       "        const buttonEl =\n",
       "          document.querySelector('#df-09f528dd-cf72-4191-b0b9-cd4b56b38deb button.colab-df-convert');\n",
       "        buttonEl.style.display =\n",
       "          google.colab.kernel.accessAllowed ? 'block' : 'none';\n",
       "\n",
       "        async function convertToInteractive(key) {\n",
       "          const element = document.querySelector('#df-09f528dd-cf72-4191-b0b9-cd4b56b38deb');\n",
       "          const dataTable =\n",
       "            await google.colab.kernel.invokeFunction('convertToInteractive',\n",
       "                                                     [key], {});\n",
       "          if (!dataTable) return;\n",
       "\n",
       "          const docLinkHtml = 'Like what you see? Visit the ' +\n",
       "            '<a target=\"_blank\" href=https://colab.research.google.com/notebooks/data_table.ipynb>data table notebook</a>'\n",
       "            + ' to learn more about interactive tables.';\n",
       "          element.innerHTML = '';\n",
       "          dataTable['output_type'] = 'display_data';\n",
       "          await google.colab.output.renderOutput(dataTable, element);\n",
       "          const docLink = document.createElement('div');\n",
       "          docLink.innerHTML = docLinkHtml;\n",
       "          element.appendChild(docLink);\n",
       "        }\n",
       "      </script>\n",
       "    </div>\n",
       "  </div>\n",
       "  "
      ],
      "text/plain": [
       "                count   sum\n",
       "city                       \n",
       "Ростов Великий   2509     0\n",
       "Рыбинск          2477  1199\n",
       "Ярославль        5014  2418"
      ]
     },
     "execution_count": 12,
     "metadata": {},
     "output_type": "execute_result"
    }
   ],
   "source": [
    "revise_nan('city')"
   ]
  },
  {
   "cell_type": "markdown",
   "metadata": {
    "id": "j_EFDerbZif6"
   },
   "source": [
    "Совпадений по количеству клиентов нет, поэтому предположение о некорректной выгрузке в одном из регионов неверное."
   ]
  },
  {
   "cell_type": "markdown",
   "metadata": {
    "id": "z6ISyvWcZif6"
   },
   "source": [
    "Проверим, является ли колонка 'balance' кредитным счётом:"
   ]
  },
  {
   "cell_type": "code",
   "execution_count": 13,
   "metadata": {
    "colab": {
     "base_uri": "https://localhost:8080/",
     "height": 143
    },
    "id": "Yy7VDJwEZif6",
    "outputId": "d01f8b44-1075-403a-d4bc-c35bd45973a0"
   },
   "outputs": [
    {
     "data": {
      "text/html": [
       "\n",
       "  <div id=\"df-de4fe619-b824-47e4-8e97-ad06815ec441\">\n",
       "    <div class=\"colab-df-container\">\n",
       "      <div>\n",
       "<style scoped>\n",
       "    .dataframe tbody tr th:only-of-type {\n",
       "        vertical-align: middle;\n",
       "    }\n",
       "\n",
       "    .dataframe tbody tr th {\n",
       "        vertical-align: top;\n",
       "    }\n",
       "\n",
       "    .dataframe thead th {\n",
       "        text-align: right;\n",
       "    }\n",
       "</style>\n",
       "<table border=\"1\" class=\"dataframe\">\n",
       "  <thead>\n",
       "    <tr style=\"text-align: right;\">\n",
       "      <th></th>\n",
       "      <th>count</th>\n",
       "      <th>sum</th>\n",
       "    </tr>\n",
       "    <tr>\n",
       "      <th>credit_card</th>\n",
       "      <th></th>\n",
       "      <th></th>\n",
       "    </tr>\n",
       "  </thead>\n",
       "  <tbody>\n",
       "    <tr>\n",
       "      <th>0</th>\n",
       "      <td>2945</td>\n",
       "      <td>1025</td>\n",
       "    </tr>\n",
       "    <tr>\n",
       "      <th>1</th>\n",
       "      <td>7055</td>\n",
       "      <td>2592</td>\n",
       "    </tr>\n",
       "  </tbody>\n",
       "</table>\n",
       "</div>\n",
       "      <button class=\"colab-df-convert\" onclick=\"convertToInteractive('df-de4fe619-b824-47e4-8e97-ad06815ec441')\"\n",
       "              title=\"Convert this dataframe to an interactive table.\"\n",
       "              style=\"display:none;\">\n",
       "        \n",
       "  <svg xmlns=\"http://www.w3.org/2000/svg\" height=\"24px\"viewBox=\"0 0 24 24\"\n",
       "       width=\"24px\">\n",
       "    <path d=\"M0 0h24v24H0V0z\" fill=\"none\"/>\n",
       "    <path d=\"M18.56 5.44l.94 2.06.94-2.06 2.06-.94-2.06-.94-.94-2.06-.94 2.06-2.06.94zm-11 1L8.5 8.5l.94-2.06 2.06-.94-2.06-.94L8.5 2.5l-.94 2.06-2.06.94zm10 10l.94 2.06.94-2.06 2.06-.94-2.06-.94-.94-2.06-.94 2.06-2.06.94z\"/><path d=\"M17.41 7.96l-1.37-1.37c-.4-.4-.92-.59-1.43-.59-.52 0-1.04.2-1.43.59L10.3 9.45l-7.72 7.72c-.78.78-.78 2.05 0 2.83L4 21.41c.39.39.9.59 1.41.59.51 0 1.02-.2 1.41-.59l7.78-7.78 2.81-2.81c.8-.78.8-2.07 0-2.86zM5.41 20L4 18.59l7.72-7.72 1.47 1.35L5.41 20z\"/>\n",
       "  </svg>\n",
       "      </button>\n",
       "      \n",
       "  <style>\n",
       "    .colab-df-container {\n",
       "      display:flex;\n",
       "      flex-wrap:wrap;\n",
       "      gap: 12px;\n",
       "    }\n",
       "\n",
       "    .colab-df-convert {\n",
       "      background-color: #E8F0FE;\n",
       "      border: none;\n",
       "      border-radius: 50%;\n",
       "      cursor: pointer;\n",
       "      display: none;\n",
       "      fill: #1967D2;\n",
       "      height: 32px;\n",
       "      padding: 0 0 0 0;\n",
       "      width: 32px;\n",
       "    }\n",
       "\n",
       "    .colab-df-convert:hover {\n",
       "      background-color: #E2EBFA;\n",
       "      box-shadow: 0px 1px 2px rgba(60, 64, 67, 0.3), 0px 1px 3px 1px rgba(60, 64, 67, 0.15);\n",
       "      fill: #174EA6;\n",
       "    }\n",
       "\n",
       "    [theme=dark] .colab-df-convert {\n",
       "      background-color: #3B4455;\n",
       "      fill: #D2E3FC;\n",
       "    }\n",
       "\n",
       "    [theme=dark] .colab-df-convert:hover {\n",
       "      background-color: #434B5C;\n",
       "      box-shadow: 0px 1px 3px 1px rgba(0, 0, 0, 0.15);\n",
       "      filter: drop-shadow(0px 1px 2px rgba(0, 0, 0, 0.3));\n",
       "      fill: #FFFFFF;\n",
       "    }\n",
       "  </style>\n",
       "\n",
       "      <script>\n",
       "        const buttonEl =\n",
       "          document.querySelector('#df-de4fe619-b824-47e4-8e97-ad06815ec441 button.colab-df-convert');\n",
       "        buttonEl.style.display =\n",
       "          google.colab.kernel.accessAllowed ? 'block' : 'none';\n",
       "\n",
       "        async function convertToInteractive(key) {\n",
       "          const element = document.querySelector('#df-de4fe619-b824-47e4-8e97-ad06815ec441');\n",
       "          const dataTable =\n",
       "            await google.colab.kernel.invokeFunction('convertToInteractive',\n",
       "                                                     [key], {});\n",
       "          if (!dataTable) return;\n",
       "\n",
       "          const docLinkHtml = 'Like what you see? Visit the ' +\n",
       "            '<a target=\"_blank\" href=https://colab.research.google.com/notebooks/data_table.ipynb>data table notebook</a>'\n",
       "            + ' to learn more about interactive tables.';\n",
       "          element.innerHTML = '';\n",
       "          dataTable['output_type'] = 'display_data';\n",
       "          await google.colab.output.renderOutput(dataTable, element);\n",
       "          const docLink = document.createElement('div');\n",
       "          docLink.innerHTML = docLinkHtml;\n",
       "          element.appendChild(docLink);\n",
       "        }\n",
       "      </script>\n",
       "    </div>\n",
       "  </div>\n",
       "  "
      ],
      "text/plain": [
       "             count   sum\n",
       "credit_card             \n",
       "0             2945  1025\n",
       "1             7055  2592"
      ]
     },
     "execution_count": 13,
     "metadata": {},
     "output_type": "execute_result"
    }
   ],
   "source": [
    "revise_nan('credit_card')"
   ]
  },
  {
   "cell_type": "markdown",
   "metadata": {
    "id": "UxKps_qqZif7"
   },
   "source": [
    "Пропуски есть в обеих группах, поэтому и эта гипотеза не подтвердилась."
   ]
  },
  {
   "cell_type": "markdown",
   "metadata": {
    "id": "TKob1wytZif7"
   },
   "source": [
    "Проверим предположение, что пропуски у ушедших клиентов:"
   ]
  },
  {
   "cell_type": "code",
   "execution_count": 14,
   "metadata": {
    "colab": {
     "base_uri": "https://localhost:8080/",
     "height": 143
    },
    "id": "uKgCDyqvZif7",
    "outputId": "40cc0266-c868-4c8e-a57f-bf86fd0d6818"
   },
   "outputs": [
    {
     "data": {
      "text/html": [
       "\n",
       "  <div id=\"df-fbb97b5e-74fc-444f-b939-f849cf1c92bf\">\n",
       "    <div class=\"colab-df-container\">\n",
       "      <div>\n",
       "<style scoped>\n",
       "    .dataframe tbody tr th:only-of-type {\n",
       "        vertical-align: middle;\n",
       "    }\n",
       "\n",
       "    .dataframe tbody tr th {\n",
       "        vertical-align: top;\n",
       "    }\n",
       "\n",
       "    .dataframe thead th {\n",
       "        text-align: right;\n",
       "    }\n",
       "</style>\n",
       "<table border=\"1\" class=\"dataframe\">\n",
       "  <thead>\n",
       "    <tr style=\"text-align: right;\">\n",
       "      <th></th>\n",
       "      <th>count</th>\n",
       "      <th>sum</th>\n",
       "    </tr>\n",
       "    <tr>\n",
       "      <th>churn</th>\n",
       "      <th></th>\n",
       "      <th></th>\n",
       "    </tr>\n",
       "  </thead>\n",
       "  <tbody>\n",
       "    <tr>\n",
       "      <th>0</th>\n",
       "      <td>7963</td>\n",
       "      <td>3117</td>\n",
       "    </tr>\n",
       "    <tr>\n",
       "      <th>1</th>\n",
       "      <td>2037</td>\n",
       "      <td>500</td>\n",
       "    </tr>\n",
       "  </tbody>\n",
       "</table>\n",
       "</div>\n",
       "      <button class=\"colab-df-convert\" onclick=\"convertToInteractive('df-fbb97b5e-74fc-444f-b939-f849cf1c92bf')\"\n",
       "              title=\"Convert this dataframe to an interactive table.\"\n",
       "              style=\"display:none;\">\n",
       "        \n",
       "  <svg xmlns=\"http://www.w3.org/2000/svg\" height=\"24px\"viewBox=\"0 0 24 24\"\n",
       "       width=\"24px\">\n",
       "    <path d=\"M0 0h24v24H0V0z\" fill=\"none\"/>\n",
       "    <path d=\"M18.56 5.44l.94 2.06.94-2.06 2.06-.94-2.06-.94-.94-2.06-.94 2.06-2.06.94zm-11 1L8.5 8.5l.94-2.06 2.06-.94-2.06-.94L8.5 2.5l-.94 2.06-2.06.94zm10 10l.94 2.06.94-2.06 2.06-.94-2.06-.94-.94-2.06-.94 2.06-2.06.94z\"/><path d=\"M17.41 7.96l-1.37-1.37c-.4-.4-.92-.59-1.43-.59-.52 0-1.04.2-1.43.59L10.3 9.45l-7.72 7.72c-.78.78-.78 2.05 0 2.83L4 21.41c.39.39.9.59 1.41.59.51 0 1.02-.2 1.41-.59l7.78-7.78 2.81-2.81c.8-.78.8-2.07 0-2.86zM5.41 20L4 18.59l7.72-7.72 1.47 1.35L5.41 20z\"/>\n",
       "  </svg>\n",
       "      </button>\n",
       "      \n",
       "  <style>\n",
       "    .colab-df-container {\n",
       "      display:flex;\n",
       "      flex-wrap:wrap;\n",
       "      gap: 12px;\n",
       "    }\n",
       "\n",
       "    .colab-df-convert {\n",
       "      background-color: #E8F0FE;\n",
       "      border: none;\n",
       "      border-radius: 50%;\n",
       "      cursor: pointer;\n",
       "      display: none;\n",
       "      fill: #1967D2;\n",
       "      height: 32px;\n",
       "      padding: 0 0 0 0;\n",
       "      width: 32px;\n",
       "    }\n",
       "\n",
       "    .colab-df-convert:hover {\n",
       "      background-color: #E2EBFA;\n",
       "      box-shadow: 0px 1px 2px rgba(60, 64, 67, 0.3), 0px 1px 3px 1px rgba(60, 64, 67, 0.15);\n",
       "      fill: #174EA6;\n",
       "    }\n",
       "\n",
       "    [theme=dark] .colab-df-convert {\n",
       "      background-color: #3B4455;\n",
       "      fill: #D2E3FC;\n",
       "    }\n",
       "\n",
       "    [theme=dark] .colab-df-convert:hover {\n",
       "      background-color: #434B5C;\n",
       "      box-shadow: 0px 1px 3px 1px rgba(0, 0, 0, 0.15);\n",
       "      filter: drop-shadow(0px 1px 2px rgba(0, 0, 0, 0.3));\n",
       "      fill: #FFFFFF;\n",
       "    }\n",
       "  </style>\n",
       "\n",
       "      <script>\n",
       "        const buttonEl =\n",
       "          document.querySelector('#df-fbb97b5e-74fc-444f-b939-f849cf1c92bf button.colab-df-convert');\n",
       "        buttonEl.style.display =\n",
       "          google.colab.kernel.accessAllowed ? 'block' : 'none';\n",
       "\n",
       "        async function convertToInteractive(key) {\n",
       "          const element = document.querySelector('#df-fbb97b5e-74fc-444f-b939-f849cf1c92bf');\n",
       "          const dataTable =\n",
       "            await google.colab.kernel.invokeFunction('convertToInteractive',\n",
       "                                                     [key], {});\n",
       "          if (!dataTable) return;\n",
       "\n",
       "          const docLinkHtml = 'Like what you see? Visit the ' +\n",
       "            '<a target=\"_blank\" href=https://colab.research.google.com/notebooks/data_table.ipynb>data table notebook</a>'\n",
       "            + ' to learn more about interactive tables.';\n",
       "          element.innerHTML = '';\n",
       "          dataTable['output_type'] = 'display_data';\n",
       "          await google.colab.output.renderOutput(dataTable, element);\n",
       "          const docLink = document.createElement('div');\n",
       "          docLink.innerHTML = docLinkHtml;\n",
       "          element.appendChild(docLink);\n",
       "        }\n",
       "      </script>\n",
       "    </div>\n",
       "  </div>\n",
       "  "
      ],
      "text/plain": [
       "       count   sum\n",
       "churn             \n",
       "0       7963  3117\n",
       "1       2037   500"
      ]
     },
     "execution_count": 14,
     "metadata": {},
     "output_type": "execute_result"
    }
   ],
   "source": [
    "revise_nan('churn')"
   ]
  },
  {
   "cell_type": "markdown",
   "metadata": {
    "id": "lRUR6s2dZif7"
   },
   "source": [
    "Предположение не подтвердилось."
   ]
  },
  {
   "cell_type": "markdown",
   "metadata": {
    "id": "AFJGP__VZif7"
   },
   "source": [
    "Исходя из результатов проверки остались две гипотезы, которые предполагают, что у клиентов или нет счета, или они им ни разу не пользовались. Объединим эту гипотезу в одну, так как если клиенты не используют счет, то их можно приравнять к клиентам с отсутствием счета и будем использовать этот параметр в дальнейшем исследовании."
   ]
  },
  {
   "cell_type": "markdown",
   "metadata": {
    "id": "29Nyhb63Zif8"
   },
   "source": [
    "Удалим столбец 'nan', так как он больше не понадобится и добавим колонку 'account' для разделения клиентов по категориям в зависимости от наличия счета, если баланс больше нуля, то True, иначе False:"
   ]
  },
  {
   "cell_type": "code",
   "execution_count": 15,
   "metadata": {
    "id": "1asYlB_6Zif8"
   },
   "outputs": [],
   "source": [
    "df.drop('nan', axis=1, inplace=True)\n",
    "df['account'] = df['balance'] > 0"
   ]
  },
  {
   "cell_type": "markdown",
   "metadata": {
    "id": "gKGfWIn_Zif8"
   },
   "source": [
    "<a name=\"2.3\"><h3>2.3 Проверка данных</h3></a>"
   ]
  },
  {
   "cell_type": "markdown",
   "metadata": {
    "id": "30lkWY9oZif8"
   },
   "source": [
    "Проверим таблицу на наличие дубликатов:"
   ]
  },
  {
   "cell_type": "code",
   "execution_count": 16,
   "metadata": {
    "colab": {
     "base_uri": "https://localhost:8080/"
    },
    "id": "HHjw5hVgZif8",
    "outputId": "9f8b8019-e68a-4b61-8922-793ac1a2462f",
    "scrolled": true
   },
   "outputs": [
    {
     "data": {
      "text/plain": [
       "0"
      ]
     },
     "execution_count": 16,
     "metadata": {},
     "output_type": "execute_result"
    }
   ],
   "source": [
    "df.duplicated().sum()"
   ]
  },
  {
   "cell_type": "markdown",
   "metadata": {
    "id": "XF93WH9xZif9"
   },
   "source": [
    "Явных дубликатов нет. Проверим, есть ли задублированные пользователи:"
   ]
  },
  {
   "cell_type": "code",
   "execution_count": 17,
   "metadata": {
    "colab": {
     "base_uri": "https://localhost:8080/"
    },
    "id": "YPwTo8bSZif9",
    "outputId": "b566c07e-466c-471e-9f9c-e81e30cc90ec",
    "scrolled": true
   },
   "outputs": [
    {
     "data": {
      "text/plain": [
       "0"
      ]
     },
     "execution_count": 17,
     "metadata": {},
     "output_type": "execute_result"
    }
   ],
   "source": [
    "df['user_id'].duplicated().sum()"
   ]
  },
  {
   "cell_type": "markdown",
   "metadata": {
    "id": "ru49grFHZif9"
   },
   "source": [
    "Проверим наличие неявных дубликатов в столбце 'city':"
   ]
  },
  {
   "cell_type": "code",
   "execution_count": 18,
   "metadata": {
    "colab": {
     "base_uri": "https://localhost:8080/"
    },
    "id": "PL4D62XfZif9",
    "outputId": "ad27ba6b-162d-42ad-9580-3c7ddfd602e1",
    "scrolled": true
   },
   "outputs": [
    {
     "data": {
      "text/plain": [
       "array(['Ростов Великий', 'Рыбинск', 'Ярославль'], dtype=object)"
      ]
     },
     "execution_count": 18,
     "metadata": {},
     "output_type": "execute_result"
    }
   ],
   "source": [
    "df['city'].sort_values().unique()"
   ]
  },
  {
   "cell_type": "markdown",
   "metadata": {
    "id": "SEjwMLaaZif-"
   },
   "source": [
    "Названий с опечатками нет. Так как в данных всего 3 города, то в нижний регистр можно не переводить."
   ]
  },
  {
   "cell_type": "markdown",
   "metadata": {
    "id": "dpYs6KZcZif-"
   },
   "source": [
    "Проверим столбцец 'gender':"
   ]
  },
  {
   "cell_type": "code",
   "execution_count": 19,
   "metadata": {
    "colab": {
     "base_uri": "https://localhost:8080/"
    },
    "id": "blDQffeaZif-",
    "outputId": "be67ea13-eb6e-4219-9eb0-1bf8d3074f36",
    "scrolled": true
   },
   "outputs": [
    {
     "data": {
      "text/plain": [
       "array(['Ж', 'М'], dtype=object)"
      ]
     },
     "execution_count": 19,
     "metadata": {},
     "output_type": "execute_result"
    }
   ],
   "source": [
    "df['gender'].sort_values().unique()"
   ]
  },
  {
   "cell_type": "markdown",
   "metadata": {
    "id": "bOgB808XZif-"
   },
   "source": [
    "Посмотрим на значения признаков методом describe():"
   ]
  },
  {
   "cell_type": "code",
   "execution_count": 20,
   "metadata": {
    "colab": {
     "base_uri": "https://localhost:8080/",
     "height": 300
    },
    "id": "XfjymGRHZif-",
    "outputId": "91a054cc-1a73-4411-c6e7-d1459673bfd2",
    "scrolled": true
   },
   "outputs": [
    {
     "data": {
      "text/html": [
       "\n",
       "  <div id=\"df-7854c678-a2c4-4c37-8a74-1ab73f109b3b\">\n",
       "    <div class=\"colab-df-container\">\n",
       "      <div>\n",
       "<style scoped>\n",
       "    .dataframe tbody tr th:only-of-type {\n",
       "        vertical-align: middle;\n",
       "    }\n",
       "\n",
       "    .dataframe tbody tr th {\n",
       "        vertical-align: top;\n",
       "    }\n",
       "\n",
       "    .dataframe thead th {\n",
       "        text-align: right;\n",
       "    }\n",
       "</style>\n",
       "<table border=\"1\" class=\"dataframe\">\n",
       "  <thead>\n",
       "    <tr style=\"text-align: right;\">\n",
       "      <th></th>\n",
       "      <th>score</th>\n",
       "      <th>age</th>\n",
       "      <th>objects</th>\n",
       "      <th>balance</th>\n",
       "      <th>products</th>\n",
       "      <th>credit_card</th>\n",
       "      <th>loyalty</th>\n",
       "      <th>estimated_salary</th>\n",
       "      <th>churn</th>\n",
       "    </tr>\n",
       "  </thead>\n",
       "  <tbody>\n",
       "    <tr>\n",
       "      <th>count</th>\n",
       "      <td>10000.00</td>\n",
       "      <td>10000.00</td>\n",
       "      <td>10000.00</td>\n",
       "      <td>6383.00</td>\n",
       "      <td>10000.00</td>\n",
       "      <td>10000.00</td>\n",
       "      <td>10000.00</td>\n",
       "      <td>10000.00</td>\n",
       "      <td>10000.00</td>\n",
       "    </tr>\n",
       "    <tr>\n",
       "      <th>mean</th>\n",
       "      <td>650.53</td>\n",
       "      <td>38.92</td>\n",
       "      <td>5.01</td>\n",
       "      <td>119827.49</td>\n",
       "      <td>1.53</td>\n",
       "      <td>0.71</td>\n",
       "      <td>0.52</td>\n",
       "      <td>100090.24</td>\n",
       "      <td>0.20</td>\n",
       "    </tr>\n",
       "    <tr>\n",
       "      <th>std</th>\n",
       "      <td>96.65</td>\n",
       "      <td>10.49</td>\n",
       "      <td>2.89</td>\n",
       "      <td>30095.06</td>\n",
       "      <td>0.58</td>\n",
       "      <td>0.46</td>\n",
       "      <td>0.50</td>\n",
       "      <td>57510.49</td>\n",
       "      <td>0.40</td>\n",
       "    </tr>\n",
       "    <tr>\n",
       "      <th>min</th>\n",
       "      <td>350.00</td>\n",
       "      <td>18.00</td>\n",
       "      <td>0.00</td>\n",
       "      <td>3768.69</td>\n",
       "      <td>1.00</td>\n",
       "      <td>0.00</td>\n",
       "      <td>0.00</td>\n",
       "      <td>11.58</td>\n",
       "      <td>0.00</td>\n",
       "    </tr>\n",
       "    <tr>\n",
       "      <th>25%</th>\n",
       "      <td>584.00</td>\n",
       "      <td>32.00</td>\n",
       "      <td>3.00</td>\n",
       "      <td>100181.98</td>\n",
       "      <td>1.00</td>\n",
       "      <td>0.00</td>\n",
       "      <td>0.00</td>\n",
       "      <td>51002.11</td>\n",
       "      <td>0.00</td>\n",
       "    </tr>\n",
       "    <tr>\n",
       "      <th>50%</th>\n",
       "      <td>652.00</td>\n",
       "      <td>37.00</td>\n",
       "      <td>5.00</td>\n",
       "      <td>119839.69</td>\n",
       "      <td>1.00</td>\n",
       "      <td>1.00</td>\n",
       "      <td>1.00</td>\n",
       "      <td>100193.91</td>\n",
       "      <td>0.00</td>\n",
       "    </tr>\n",
       "    <tr>\n",
       "      <th>75%</th>\n",
       "      <td>718.00</td>\n",
       "      <td>44.00</td>\n",
       "      <td>7.00</td>\n",
       "      <td>139512.29</td>\n",
       "      <td>2.00</td>\n",
       "      <td>1.00</td>\n",
       "      <td>1.00</td>\n",
       "      <td>149388.25</td>\n",
       "      <td>0.00</td>\n",
       "    </tr>\n",
       "    <tr>\n",
       "      <th>max</th>\n",
       "      <td>850.00</td>\n",
       "      <td>92.00</td>\n",
       "      <td>10.00</td>\n",
       "      <td>250898.09</td>\n",
       "      <td>4.00</td>\n",
       "      <td>1.00</td>\n",
       "      <td>1.00</td>\n",
       "      <td>199992.48</td>\n",
       "      <td>1.00</td>\n",
       "    </tr>\n",
       "  </tbody>\n",
       "</table>\n",
       "</div>\n",
       "      <button class=\"colab-df-convert\" onclick=\"convertToInteractive('df-7854c678-a2c4-4c37-8a74-1ab73f109b3b')\"\n",
       "              title=\"Convert this dataframe to an interactive table.\"\n",
       "              style=\"display:none;\">\n",
       "        \n",
       "  <svg xmlns=\"http://www.w3.org/2000/svg\" height=\"24px\"viewBox=\"0 0 24 24\"\n",
       "       width=\"24px\">\n",
       "    <path d=\"M0 0h24v24H0V0z\" fill=\"none\"/>\n",
       "    <path d=\"M18.56 5.44l.94 2.06.94-2.06 2.06-.94-2.06-.94-.94-2.06-.94 2.06-2.06.94zm-11 1L8.5 8.5l.94-2.06 2.06-.94-2.06-.94L8.5 2.5l-.94 2.06-2.06.94zm10 10l.94 2.06.94-2.06 2.06-.94-2.06-.94-.94-2.06-.94 2.06-2.06.94z\"/><path d=\"M17.41 7.96l-1.37-1.37c-.4-.4-.92-.59-1.43-.59-.52 0-1.04.2-1.43.59L10.3 9.45l-7.72 7.72c-.78.78-.78 2.05 0 2.83L4 21.41c.39.39.9.59 1.41.59.51 0 1.02-.2 1.41-.59l7.78-7.78 2.81-2.81c.8-.78.8-2.07 0-2.86zM5.41 20L4 18.59l7.72-7.72 1.47 1.35L5.41 20z\"/>\n",
       "  </svg>\n",
       "      </button>\n",
       "      \n",
       "  <style>\n",
       "    .colab-df-container {\n",
       "      display:flex;\n",
       "      flex-wrap:wrap;\n",
       "      gap: 12px;\n",
       "    }\n",
       "\n",
       "    .colab-df-convert {\n",
       "      background-color: #E8F0FE;\n",
       "      border: none;\n",
       "      border-radius: 50%;\n",
       "      cursor: pointer;\n",
       "      display: none;\n",
       "      fill: #1967D2;\n",
       "      height: 32px;\n",
       "      padding: 0 0 0 0;\n",
       "      width: 32px;\n",
       "    }\n",
       "\n",
       "    .colab-df-convert:hover {\n",
       "      background-color: #E2EBFA;\n",
       "      box-shadow: 0px 1px 2px rgba(60, 64, 67, 0.3), 0px 1px 3px 1px rgba(60, 64, 67, 0.15);\n",
       "      fill: #174EA6;\n",
       "    }\n",
       "\n",
       "    [theme=dark] .colab-df-convert {\n",
       "      background-color: #3B4455;\n",
       "      fill: #D2E3FC;\n",
       "    }\n",
       "\n",
       "    [theme=dark] .colab-df-convert:hover {\n",
       "      background-color: #434B5C;\n",
       "      box-shadow: 0px 1px 3px 1px rgba(0, 0, 0, 0.15);\n",
       "      filter: drop-shadow(0px 1px 2px rgba(0, 0, 0, 0.3));\n",
       "      fill: #FFFFFF;\n",
       "    }\n",
       "  </style>\n",
       "\n",
       "      <script>\n",
       "        const buttonEl =\n",
       "          document.querySelector('#df-7854c678-a2c4-4c37-8a74-1ab73f109b3b button.colab-df-convert');\n",
       "        buttonEl.style.display =\n",
       "          google.colab.kernel.accessAllowed ? 'block' : 'none';\n",
       "\n",
       "        async function convertToInteractive(key) {\n",
       "          const element = document.querySelector('#df-7854c678-a2c4-4c37-8a74-1ab73f109b3b');\n",
       "          const dataTable =\n",
       "            await google.colab.kernel.invokeFunction('convertToInteractive',\n",
       "                                                     [key], {});\n",
       "          if (!dataTable) return;\n",
       "\n",
       "          const docLinkHtml = 'Like what you see? Visit the ' +\n",
       "            '<a target=\"_blank\" href=https://colab.research.google.com/notebooks/data_table.ipynb>data table notebook</a>'\n",
       "            + ' to learn more about interactive tables.';\n",
       "          element.innerHTML = '';\n",
       "          dataTable['output_type'] = 'display_data';\n",
       "          await google.colab.output.renderOutput(dataTable, element);\n",
       "          const docLink = document.createElement('div');\n",
       "          docLink.innerHTML = docLinkHtml;\n",
       "          element.appendChild(docLink);\n",
       "        }\n",
       "      </script>\n",
       "    </div>\n",
       "  </div>\n",
       "  "
      ],
      "text/plain": [
       "         score      age  objects   balance  products  credit_card  loyalty  \\\n",
       "count 10000.00 10000.00 10000.00   6383.00  10000.00     10000.00 10000.00   \n",
       "mean    650.53    38.92     5.01 119827.49      1.53         0.71     0.52   \n",
       "std      96.65    10.49     2.89  30095.06      0.58         0.46     0.50   \n",
       "min     350.00    18.00     0.00   3768.69      1.00         0.00     0.00   \n",
       "25%     584.00    32.00     3.00 100181.98      1.00         0.00     0.00   \n",
       "50%     652.00    37.00     5.00 119839.69      1.00         1.00     1.00   \n",
       "75%     718.00    44.00     7.00 139512.29      2.00         1.00     1.00   \n",
       "max     850.00    92.00    10.00 250898.09      4.00         1.00     1.00   \n",
       "\n",
       "       estimated_salary    churn  \n",
       "count          10000.00 10000.00  \n",
       "mean          100090.24     0.20  \n",
       "std            57510.49     0.40  \n",
       "min               11.58     0.00  \n",
       "25%            51002.11     0.00  \n",
       "50%           100193.91     0.00  \n",
       "75%           149388.25     0.00  \n",
       "max           199992.48     1.00  "
      ]
     },
     "execution_count": 20,
     "metadata": {},
     "output_type": "execute_result"
    }
   ],
   "source": [
    "df.drop('user_id', axis=1).describe()"
   ]
  },
  {
   "cell_type": "markdown",
   "metadata": {
    "id": "lgR0WCqxZif_"
   },
   "source": [
    "Согласно полученным данным:\n",
    "* Средний балл кредитного скоринга 650.53, самый высокий балл 850;\n",
    "* Средний возраст клиентов 38.92, минимум 18 лет, самому взрослому клиенту 92 года;\n",
    "* У половины клиентов в собственности 5 объектов и максимум 10 объектов;\n",
    "* Средняя сумма на счете 119827.49;\n",
    "* Поливина клиентов имеет в банке 1 продукт, у 75% до 2 и совсем редко 4 продукта;\n",
    "* Кредит оформлен у 71% клиентов;\n",
    "* Активными считаются 52% пользователей;\n",
    "* Предполагаемая средняя зарплата 100090.24, до 25% клиетов получают до 51002.11, у 75% зарплата не превышает 149388.25;\n",
    "* Всего ушедших 20%."
   ]
  },
  {
   "cell_type": "markdown",
   "metadata": {
    "id": "kj5RUhHzZif_"
   },
   "source": [
    "Минимальная зарплата очень низкая, вероятно значение 11.58 проставлено ошибочно, поэтому проверим количество клиентов, у которых сумма меньше прожиточного минимумам, который равен примерно 10 тысячам:"
   ]
  },
  {
   "cell_type": "code",
   "execution_count": 21,
   "metadata": {
    "colab": {
     "base_uri": "https://localhost:8080/"
    },
    "id": "sAmKJeYTZif_",
    "outputId": "6c648f44-25bd-4607-f667-f60259cd851c"
   },
   "outputs": [
    {
     "data": {
      "text/plain": [
       "508"
      ]
     },
     "execution_count": 21,
     "metadata": {},
     "output_type": "execute_result"
    }
   ],
   "source": [
    "df.query('estimated_salary < 10000')['user_id'].count()"
   ]
  },
  {
   "cell_type": "markdown",
   "metadata": {
    "id": "phaG2ZMsZif_"
   },
   "source": [
    "Таких клиентов много, можно предположить, что такие значения проставлены оценочной банковской системой, поэтому оставим их без изменения."
   ]
  },
  {
   "cell_type": "markdown",
   "metadata": {
    "id": "EiyLe9O9Zif_"
   },
   "source": [
    "Для дальнейшего сегментирования клиентов выделим категории по возрастам:\n",
    "\n",
    "* от 18 до 35 лет - молодой возраст\n",
    "* от 36 до 59 - средний возраст\n",
    "* после 60 - пожилой возраст"
   ]
  },
  {
   "cell_type": "markdown",
   "metadata": {
    "id": "ACunLdb9ZigA"
   },
   "source": [
    "Напишем функцию для разделения клиентов по категориям:"
   ]
  },
  {
   "cell_type": "code",
   "execution_count": 22,
   "metadata": {
    "id": "ApZesRbhZigA",
    "scrolled": true
   },
   "outputs": [],
   "source": [
    "def years_group(age):\n",
    "    if age <= 35:\n",
    "        return 'молодой возраст'\n",
    "    elif 36 <= age <= 59:\n",
    "        return 'средний возраст'\n",
    "    return 'пожилой возраст'"
   ]
  },
  {
   "cell_type": "markdown",
   "metadata": {
    "id": "oIgVYbWRZigA"
   },
   "source": [
    "Создадим столбец и обратимся к функции 'years_group':"
   ]
  },
  {
   "cell_type": "code",
   "execution_count": 23,
   "metadata": {
    "id": "PaJU8L4LZigA",
    "scrolled": true
   },
   "outputs": [],
   "source": [
    "df['age_groups'] = df['age'].apply(years_group)"
   ]
  },
  {
   "cell_type": "markdown",
   "metadata": {
    "id": "7puiHshRZigB"
   },
   "source": [
    "Проверим, что столбцы были добавлены и категории распределяются верно:"
   ]
  },
  {
   "cell_type": "code",
   "execution_count": 24,
   "metadata": {
    "colab": {
     "base_uri": "https://localhost:8080/",
     "height": 363
    },
    "id": "HFmih6MhZigB",
    "outputId": "4da9c7de-547d-492e-e082-265b1b3ffaf9",
    "scrolled": true
   },
   "outputs": [
    {
     "data": {
      "text/html": [
       "\n",
       "  <div id=\"df-1b7606ef-3c9c-4e31-a5b7-e1c050a70af4\">\n",
       "    <div class=\"colab-df-container\">\n",
       "      <div>\n",
       "<style scoped>\n",
       "    .dataframe tbody tr th:only-of-type {\n",
       "        vertical-align: middle;\n",
       "    }\n",
       "\n",
       "    .dataframe tbody tr th {\n",
       "        vertical-align: top;\n",
       "    }\n",
       "\n",
       "    .dataframe thead th {\n",
       "        text-align: right;\n",
       "    }\n",
       "</style>\n",
       "<table border=\"1\" class=\"dataframe\">\n",
       "  <thead>\n",
       "    <tr style=\"text-align: right;\">\n",
       "      <th></th>\n",
       "      <th>user_id</th>\n",
       "      <th>score</th>\n",
       "      <th>city</th>\n",
       "      <th>gender</th>\n",
       "      <th>age</th>\n",
       "      <th>objects</th>\n",
       "      <th>balance</th>\n",
       "      <th>products</th>\n",
       "      <th>credit_card</th>\n",
       "      <th>loyalty</th>\n",
       "      <th>estimated_salary</th>\n",
       "      <th>churn</th>\n",
       "      <th>account</th>\n",
       "      <th>age_groups</th>\n",
       "    </tr>\n",
       "  </thead>\n",
       "  <tbody>\n",
       "    <tr>\n",
       "      <th>0</th>\n",
       "      <td>15677338</td>\n",
       "      <td>619</td>\n",
       "      <td>Ярославль</td>\n",
       "      <td>Ж</td>\n",
       "      <td>42</td>\n",
       "      <td>2</td>\n",
       "      <td>NaN</td>\n",
       "      <td>1</td>\n",
       "      <td>1</td>\n",
       "      <td>1</td>\n",
       "      <td>101348.88</td>\n",
       "      <td>1</td>\n",
       "      <td>False</td>\n",
       "      <td>средний возраст</td>\n",
       "    </tr>\n",
       "    <tr>\n",
       "      <th>1</th>\n",
       "      <td>15690047</td>\n",
       "      <td>608</td>\n",
       "      <td>Рыбинск</td>\n",
       "      <td>Ж</td>\n",
       "      <td>41</td>\n",
       "      <td>1</td>\n",
       "      <td>83807.86</td>\n",
       "      <td>1</td>\n",
       "      <td>0</td>\n",
       "      <td>1</td>\n",
       "      <td>112542.58</td>\n",
       "      <td>0</td>\n",
       "      <td>True</td>\n",
       "      <td>средний возраст</td>\n",
       "    </tr>\n",
       "    <tr>\n",
       "      <th>2</th>\n",
       "      <td>15662040</td>\n",
       "      <td>502</td>\n",
       "      <td>Ярославль</td>\n",
       "      <td>Ж</td>\n",
       "      <td>42</td>\n",
       "      <td>8</td>\n",
       "      <td>159660.80</td>\n",
       "      <td>3</td>\n",
       "      <td>1</td>\n",
       "      <td>0</td>\n",
       "      <td>113931.57</td>\n",
       "      <td>1</td>\n",
       "      <td>True</td>\n",
       "      <td>средний возраст</td>\n",
       "    </tr>\n",
       "    <tr>\n",
       "      <th>3</th>\n",
       "      <td>15744090</td>\n",
       "      <td>699</td>\n",
       "      <td>Ярославль</td>\n",
       "      <td>Ж</td>\n",
       "      <td>39</td>\n",
       "      <td>1</td>\n",
       "      <td>NaN</td>\n",
       "      <td>2</td>\n",
       "      <td>0</td>\n",
       "      <td>0</td>\n",
       "      <td>93826.63</td>\n",
       "      <td>0</td>\n",
       "      <td>False</td>\n",
       "      <td>средний возраст</td>\n",
       "    </tr>\n",
       "    <tr>\n",
       "      <th>4</th>\n",
       "      <td>15780624</td>\n",
       "      <td>850</td>\n",
       "      <td>Рыбинск</td>\n",
       "      <td>Ж</td>\n",
       "      <td>43</td>\n",
       "      <td>2</td>\n",
       "      <td>125510.82</td>\n",
       "      <td>1</td>\n",
       "      <td>1</td>\n",
       "      <td>1</td>\n",
       "      <td>79084.10</td>\n",
       "      <td>0</td>\n",
       "      <td>True</td>\n",
       "      <td>средний возраст</td>\n",
       "    </tr>\n",
       "    <tr>\n",
       "      <th>5</th>\n",
       "      <td>15616748</td>\n",
       "      <td>645</td>\n",
       "      <td>Рыбинск</td>\n",
       "      <td>М</td>\n",
       "      <td>44</td>\n",
       "      <td>8</td>\n",
       "      <td>113755.78</td>\n",
       "      <td>2</td>\n",
       "      <td>1</td>\n",
       "      <td>0</td>\n",
       "      <td>149756.71</td>\n",
       "      <td>1</td>\n",
       "      <td>True</td>\n",
       "      <td>средний возраст</td>\n",
       "    </tr>\n",
       "    <tr>\n",
       "      <th>6</th>\n",
       "      <td>15635267</td>\n",
       "      <td>822</td>\n",
       "      <td>Ярославль</td>\n",
       "      <td>М</td>\n",
       "      <td>50</td>\n",
       "      <td>7</td>\n",
       "      <td>NaN</td>\n",
       "      <td>2</td>\n",
       "      <td>1</td>\n",
       "      <td>1</td>\n",
       "      <td>10062.80</td>\n",
       "      <td>0</td>\n",
       "      <td>False</td>\n",
       "      <td>средний возраст</td>\n",
       "    </tr>\n",
       "    <tr>\n",
       "      <th>7</th>\n",
       "      <td>15698884</td>\n",
       "      <td>376</td>\n",
       "      <td>Ростов Великий</td>\n",
       "      <td>Ж</td>\n",
       "      <td>29</td>\n",
       "      <td>4</td>\n",
       "      <td>115046.74</td>\n",
       "      <td>4</td>\n",
       "      <td>1</td>\n",
       "      <td>0</td>\n",
       "      <td>119346.88</td>\n",
       "      <td>1</td>\n",
       "      <td>True</td>\n",
       "      <td>молодой возраст</td>\n",
       "    </tr>\n",
       "    <tr>\n",
       "      <th>8</th>\n",
       "      <td>15835101</td>\n",
       "      <td>501</td>\n",
       "      <td>Ярославль</td>\n",
       "      <td>М</td>\n",
       "      <td>44</td>\n",
       "      <td>4</td>\n",
       "      <td>142051.07</td>\n",
       "      <td>2</td>\n",
       "      <td>0</td>\n",
       "      <td>1</td>\n",
       "      <td>74940.50</td>\n",
       "      <td>0</td>\n",
       "      <td>True</td>\n",
       "      <td>средний возраст</td>\n",
       "    </tr>\n",
       "    <tr>\n",
       "      <th>9</th>\n",
       "      <td>15635125</td>\n",
       "      <td>684</td>\n",
       "      <td>Ярославль</td>\n",
       "      <td>М</td>\n",
       "      <td>27</td>\n",
       "      <td>2</td>\n",
       "      <td>134603.88</td>\n",
       "      <td>1</td>\n",
       "      <td>1</td>\n",
       "      <td>1</td>\n",
       "      <td>71725.73</td>\n",
       "      <td>0</td>\n",
       "      <td>True</td>\n",
       "      <td>молодой возраст</td>\n",
       "    </tr>\n",
       "  </tbody>\n",
       "</table>\n",
       "</div>\n",
       "      <button class=\"colab-df-convert\" onclick=\"convertToInteractive('df-1b7606ef-3c9c-4e31-a5b7-e1c050a70af4')\"\n",
       "              title=\"Convert this dataframe to an interactive table.\"\n",
       "              style=\"display:none;\">\n",
       "        \n",
       "  <svg xmlns=\"http://www.w3.org/2000/svg\" height=\"24px\"viewBox=\"0 0 24 24\"\n",
       "       width=\"24px\">\n",
       "    <path d=\"M0 0h24v24H0V0z\" fill=\"none\"/>\n",
       "    <path d=\"M18.56 5.44l.94 2.06.94-2.06 2.06-.94-2.06-.94-.94-2.06-.94 2.06-2.06.94zm-11 1L8.5 8.5l.94-2.06 2.06-.94-2.06-.94L8.5 2.5l-.94 2.06-2.06.94zm10 10l.94 2.06.94-2.06 2.06-.94-2.06-.94-.94-2.06-.94 2.06-2.06.94z\"/><path d=\"M17.41 7.96l-1.37-1.37c-.4-.4-.92-.59-1.43-.59-.52 0-1.04.2-1.43.59L10.3 9.45l-7.72 7.72c-.78.78-.78 2.05 0 2.83L4 21.41c.39.39.9.59 1.41.59.51 0 1.02-.2 1.41-.59l7.78-7.78 2.81-2.81c.8-.78.8-2.07 0-2.86zM5.41 20L4 18.59l7.72-7.72 1.47 1.35L5.41 20z\"/>\n",
       "  </svg>\n",
       "      </button>\n",
       "      \n",
       "  <style>\n",
       "    .colab-df-container {\n",
       "      display:flex;\n",
       "      flex-wrap:wrap;\n",
       "      gap: 12px;\n",
       "    }\n",
       "\n",
       "    .colab-df-convert {\n",
       "      background-color: #E8F0FE;\n",
       "      border: none;\n",
       "      border-radius: 50%;\n",
       "      cursor: pointer;\n",
       "      display: none;\n",
       "      fill: #1967D2;\n",
       "      height: 32px;\n",
       "      padding: 0 0 0 0;\n",
       "      width: 32px;\n",
       "    }\n",
       "\n",
       "    .colab-df-convert:hover {\n",
       "      background-color: #E2EBFA;\n",
       "      box-shadow: 0px 1px 2px rgba(60, 64, 67, 0.3), 0px 1px 3px 1px rgba(60, 64, 67, 0.15);\n",
       "      fill: #174EA6;\n",
       "    }\n",
       "\n",
       "    [theme=dark] .colab-df-convert {\n",
       "      background-color: #3B4455;\n",
       "      fill: #D2E3FC;\n",
       "    }\n",
       "\n",
       "    [theme=dark] .colab-df-convert:hover {\n",
       "      background-color: #434B5C;\n",
       "      box-shadow: 0px 1px 3px 1px rgba(0, 0, 0, 0.15);\n",
       "      filter: drop-shadow(0px 1px 2px rgba(0, 0, 0, 0.3));\n",
       "      fill: #FFFFFF;\n",
       "    }\n",
       "  </style>\n",
       "\n",
       "      <script>\n",
       "        const buttonEl =\n",
       "          document.querySelector('#df-1b7606ef-3c9c-4e31-a5b7-e1c050a70af4 button.colab-df-convert');\n",
       "        buttonEl.style.display =\n",
       "          google.colab.kernel.accessAllowed ? 'block' : 'none';\n",
       "\n",
       "        async function convertToInteractive(key) {\n",
       "          const element = document.querySelector('#df-1b7606ef-3c9c-4e31-a5b7-e1c050a70af4');\n",
       "          const dataTable =\n",
       "            await google.colab.kernel.invokeFunction('convertToInteractive',\n",
       "                                                     [key], {});\n",
       "          if (!dataTable) return;\n",
       "\n",
       "          const docLinkHtml = 'Like what you see? Visit the ' +\n",
       "            '<a target=\"_blank\" href=https://colab.research.google.com/notebooks/data_table.ipynb>data table notebook</a>'\n",
       "            + ' to learn more about interactive tables.';\n",
       "          element.innerHTML = '';\n",
       "          dataTable['output_type'] = 'display_data';\n",
       "          await google.colab.output.renderOutput(dataTable, element);\n",
       "          const docLink = document.createElement('div');\n",
       "          docLink.innerHTML = docLinkHtml;\n",
       "          element.appendChild(docLink);\n",
       "        }\n",
       "      </script>\n",
       "    </div>\n",
       "  </div>\n",
       "  "
      ],
      "text/plain": [
       "    user_id  score            city gender  age  objects   balance  products  \\\n",
       "0  15677338    619       Ярославль      Ж   42        2       NaN         1   \n",
       "1  15690047    608         Рыбинск      Ж   41        1  83807.86         1   \n",
       "2  15662040    502       Ярославль      Ж   42        8 159660.80         3   \n",
       "3  15744090    699       Ярославль      Ж   39        1       NaN         2   \n",
       "4  15780624    850         Рыбинск      Ж   43        2 125510.82         1   \n",
       "5  15616748    645         Рыбинск      М   44        8 113755.78         2   \n",
       "6  15635267    822       Ярославль      М   50        7       NaN         2   \n",
       "7  15698884    376  Ростов Великий      Ж   29        4 115046.74         4   \n",
       "8  15835101    501       Ярославль      М   44        4 142051.07         2   \n",
       "9  15635125    684       Ярославль      М   27        2 134603.88         1   \n",
       "\n",
       "   credit_card  loyalty  estimated_salary  churn  account       age_groups  \n",
       "0            1        1         101348.88      1    False  средний возраст  \n",
       "1            0        1         112542.58      0     True  средний возраст  \n",
       "2            1        0         113931.57      1     True  средний возраст  \n",
       "3            0        0          93826.63      0    False  средний возраст  \n",
       "4            1        1          79084.10      0     True  средний возраст  \n",
       "5            1        0         149756.71      1     True  средний возраст  \n",
       "6            1        1          10062.80      0    False  средний возраст  \n",
       "7            1        0         119346.88      1     True  молодой возраст  \n",
       "8            0        1          74940.50      0     True  средний возраст  \n",
       "9            1        1          71725.73      0     True  молодой возраст  "
      ]
     },
     "execution_count": 24,
     "metadata": {},
     "output_type": "execute_result"
    }
   ],
   "source": [
    "df.head(10)"
   ]
  },
  {
   "cell_type": "markdown",
   "metadata": {
    "id": "Ls6ZoSLhZigB"
   },
   "source": [
    "<div style=\"border: solid green 2px; padding: 20px\">\n",
    "    \n",
    "**Выводы**\n",
    "    \n",
    "* Названия колонок приведены к одному виду.\n",
    "* В результате проверки таблицы дубликатов обнаружено не было.\n",
    "* В таблицу добавлен столбец c информацией о наличии счета и столбец с разделением клиентов на категории в зависимости от возраста.</div>"
   ]
  },
  {
   "cell_type": "markdown",
   "metadata": {
    "id": "gdcXO0-6ZigB"
   },
   "source": [
    "<a name=\"3\"><h2>3 Анализ признаков, влияющих на отток  и сегментирование пользователей по количеству продуктов</h2></a>"
   ]
  },
  {
   "cell_type": "markdown",
   "metadata": {
    "id": "BjboQFLgZigC"
   },
   "source": [
    "Обратимся к функции get_dummies() и выделим категориальные переменных для исследования зависимостей по городам:"
   ]
  },
  {
   "cell_type": "code",
   "execution_count": 25,
   "metadata": {
    "id": "3lvPwaYdZigC"
   },
   "outputs": [],
   "source": [
    "df_categorization = pd.get_dummies(df)"
   ]
  },
  {
   "cell_type": "markdown",
   "metadata": {
    "id": "_i2w4hrcZigC"
   },
   "source": [
    "Построим матрицу корреляции и выделим признаки, которые влияют на отток клиентов:"
   ]
  },
  {
   "cell_type": "code",
   "execution_count": 26,
   "metadata": {
    "colab": {
     "base_uri": "https://localhost:8080/",
     "height": 875
    },
    "id": "koeOMZYGZigC",
    "outputId": "d798fe48-348e-4e6d-ad33-5e2d3ce435f7"
   },
   "outputs": [
    {
     "data": {
      "image/png": "[encoded data removed]",
      "text/plain": [
       "<Figure size 1080x1080 with 2 Axes>"
      ]
     },
     "metadata": {
      "image/png": {
       "height": 858,
       "width": 887
      }
     },
     "output_type": "display_data"
    }
   ],
   "source": [
    "cm = df_categorization[['user_id', 'score', 'age', 'objects', 'balance', 'products',\n",
    "       'credit_card', 'loyalty', 'estimated_salary', 'churn', 'account', 'city_Ростов Великий',\n",
    "       'city_Рыбинск', 'city_Ярославль']].corr()\n",
    "fig = plt.subplots(figsize=(15,15))\n",
    "sns.heatmap(cm, annot=True, square=True)\n",
    "plt.show()"
   ]
  },
  {
   "cell_type": "markdown",
   "metadata": {
    "id": "xtnH25BwZigF"
   },
   "source": [
    "Согласно полученной матрице:\n",
    "\n",
    "* На отток большее влияние оказывает возраст, корреляция слабая и составляет 0,29. \n",
    "* Между оттоком и городами чуть выше связь у Ростова, но и она очень слабая и равна 0,17.\n",
    "* Есть небольшая взаимосвязь между наличием счета и Ростовом, корреляция 0,44.\n",
    "* Между количеством продуктов и наличием счета слабая отрицательная корреляция 0,33."
   ]
  },
  {
   "cell_type": "markdown",
   "metadata": {
    "id": "FP5gd5QVZigF"
   },
   "source": [
    "Построим сводную таблицу и посмотрим на процент ушедших клиентов в зависимости от количества продуктов:"
   ]
  },
  {
   "cell_type": "code",
   "execution_count": 27,
   "metadata": {
    "colab": {
     "base_uri": "https://localhost:8080/",
     "height": 206
    },
    "id": "VbBQIuBLZigG",
    "outputId": "43afe1c4-b2de-4bf7-cf11-af69af423463",
    "scrolled": true
   },
   "outputs": [
    {
     "data": {
      "text/html": [
       "<style type=\"text/css\">\n",
       "</style>\n",
       "<table id=\"T_ba074_\" class=\"dataframe\">\n",
       "  <thead>\n",
       "    <tr>\n",
       "      <th class=\"blank level0\" >&nbsp;</th>\n",
       "      <th class=\"col_heading level0 col0\" >count</th>\n",
       "      <th class=\"col_heading level0 col1\" >percent</th>\n",
       "      <th class=\"col_heading level0 col2\" >outflow</th>\n",
       "    </tr>\n",
       "    <tr>\n",
       "      <th class=\"index_name level0\" >products</th>\n",
       "      <th class=\"blank col0\" >&nbsp;</th>\n",
       "      <th class=\"blank col1\" >&nbsp;</th>\n",
       "      <th class=\"blank col2\" >&nbsp;</th>\n",
       "    </tr>\n",
       "  </thead>\n",
       "  <tbody>\n",
       "    <tr>\n",
       "      <th id=\"T_ba074_level0_row0\" class=\"row_heading level0 row0\" >1</th>\n",
       "      <td id=\"T_ba074_row0_col0\" class=\"data row0 col0\" >5084</td>\n",
       "      <td id=\"T_ba074_row0_col1\" class=\"data row0 col1\" >50.84%</td>\n",
       "      <td id=\"T_ba074_row0_col2\" class=\"data row0 col2\" >27.71% </td>\n",
       "    </tr>\n",
       "    <tr>\n",
       "      <th id=\"T_ba074_level0_row1\" class=\"row_heading level0 row1\" >2</th>\n",
       "      <td id=\"T_ba074_row1_col0\" class=\"data row1 col0\" >4590</td>\n",
       "      <td id=\"T_ba074_row1_col1\" class=\"data row1 col1\" >45.90%</td>\n",
       "      <td id=\"T_ba074_row1_col2\" class=\"data row1 col2\" >7.58% </td>\n",
       "    </tr>\n",
       "    <tr>\n",
       "      <th id=\"T_ba074_level0_row2\" class=\"row_heading level0 row2\" >3</th>\n",
       "      <td id=\"T_ba074_row2_col0\" class=\"data row2 col0\" >266</td>\n",
       "      <td id=\"T_ba074_row2_col1\" class=\"data row2 col1\" >2.66%</td>\n",
       "      <td id=\"T_ba074_row2_col2\" class=\"data row2 col2\" >82.71% </td>\n",
       "    </tr>\n",
       "    <tr>\n",
       "      <th id=\"T_ba074_level0_row3\" class=\"row_heading level0 row3\" >4</th>\n",
       "      <td id=\"T_ba074_row3_col0\" class=\"data row3 col0\" >60</td>\n",
       "      <td id=\"T_ba074_row3_col1\" class=\"data row3 col1\" >0.60%</td>\n",
       "      <td id=\"T_ba074_row3_col2\" class=\"data row3 col2\" >100.00% </td>\n",
       "    </tr>\n",
       "  </tbody>\n",
       "</table>\n"
      ],
      "text/plain": [
       "<pandas.io.formats.style.Styler at 0x7fd39f504690>"
      ]
     },
     "execution_count": 27,
     "metadata": {},
     "output_type": "execute_result"
    }
   ],
   "source": [
    "outflow_product = df.groupby(['products']).agg({'churn':['count', lambda x: '{:.2%} '.format(x.mean())]})\n",
    "outflow_product.columns = ['count', 'outflow']\n",
    "outflow_product['percent'] = outflow_product['count']/len(df)\n",
    "outflow_product.reindex(columns=['count', 'percent', 'outflow']).style.format({'percent':'{:,.2%}'.format,})"
   ]
  },
  {
   "cell_type": "code",
   "execution_count": 28,
   "metadata": {
    "colab": {
     "base_uri": "https://localhost:8080/",
     "height": 542
    },
    "id": "xYageRAvZigG",
    "outputId": "7782c732-5f5d-45ae-ca4c-dddf1a082404"
   },
   "outputs": [
    {
     "data": {
      "text/html": [
       "<html>\n",
       "<head><meta charset=\"utf-8\" /></head>\n",
       "<body>\n",
       "    <div>            <script src=\"https://cdnjs.cloudflare.com/ajax/libs/mathjax/2.7.5/MathJax.js?config=TeX-AMS-MML_SVG\"></script><script type=\"text/javascript\">if (window.MathJax) {MathJax.Hub.Config({SVG: {font: \"STIX-Web\"}});}</script>                <script type=\"text/javascript\">window.PlotlyConfig = {MathJaxConfig: 'local'};</script>\n",
       "        <script src=\"https://cdn.plot.ly/plotly-2.8.3.min.js\"></script>                <div id=\"e40a08ce-82a4-44bf-a0ca-dcee302dee21\" class=\"plotly-graph-div\" style=\"height:525px; width:100%;\"></div>            <script type=\"text/javascript\">                                    window.PLOTLYENV=window.PLOTLYENV || {};                                    if (document.getElementById(\"e40a08ce-82a4-44bf-a0ca-dcee302dee21\")) {                    Plotly.newPlot(                        \"e40a08ce-82a4-44bf-a0ca-dcee302dee21\",                        [{\"labels\":[1,2,3,4],\"title\":{\"text\":\"\\u0421\\u043e\\u043e\\u0442\\u043d\\u043e\\u0448\\u0435\\u043d\\u0438\\u0435 \\u043a\\u043b\\u0438\\u0435\\u043d\\u0442\\u043e\\u0432 \\u043f\\u043e \\u043a\\u043e\\u043b\\u0438\\u0447\\u0435\\u0441\\u0442\\u0432\\u0443 \\u043f\\u0440\\u043e\\u0434\\u0443\\u043a\\u0442\\u043e\\u0432\"},\"values\":[0.5084,0.459,0.0266,0.006],\"type\":\"pie\"}],                        {\"template\":{\"data\":{\"bar\":[{\"error_x\":{\"color\":\"#2a3f5f\"},\"error_y\":{\"color\":\"#2a3f5f\"},\"marker\":{\"line\":{\"color\":\"#E5ECF6\",\"width\":0.5},\"pattern\":{\"fillmode\":\"overlay\",\"size\":10,\"solidity\":0.2}},\"type\":\"bar\"}],\"barpolar\":[{\"marker\":{\"line\":{\"color\":\"#E5ECF6\",\"width\":0.5},\"pattern\":{\"fillmode\":\"overlay\",\"size\":10,\"solidity\":0.2}},\"type\":\"barpolar\"}],\"carpet\":[{\"aaxis\":{\"endlinecolor\":\"#2a3f5f\",\"gridcolor\":\"white\",\"linecolor\":\"white\",\"minorgridcolor\":\"white\",\"startlinecolor\":\"#2a3f5f\"},\"baxis\":{\"endlinecolor\":\"#2a3f5f\",\"gridcolor\":\"white\",\"linecolor\":\"white\",\"minorgridcolor\":\"white\",\"startlinecolor\":\"#2a3f5f\"},\"type\":\"carpet\"}],\"choropleth\":[{\"colorbar\":{\"outlinewidth\":0,\"ticks\":\"\"},\"type\":\"choropleth\"}],\"contour\":[{\"colorbar\":{\"outlinewidth\":0,\"ticks\":\"\"},\"colorscale\":[[0.0,\"#0d0887\"],[0.1111111111111111,\"#46039f\"],[0.2222222222222222,\"#7201a8\"],[0.3333333333333333,\"#9c179e\"],[0.4444444444444444,\"#bd3786\"],[0.5555555555555556,\"#d8576b\"],[0.6666666666666666,\"#ed7953\"],[0.7777777777777778,\"#fb9f3a\"],[0.8888888888888888,\"#fdca26\"],[1.0,\"#f0f921\"]],\"type\":\"contour\"}],\"contourcarpet\":[{\"colorbar\":{\"outlinewidth\":0,\"ticks\":\"\"},\"type\":\"contourcarpet\"}],\"heatmap\":[{\"colorbar\":{\"outlinewidth\":0,\"ticks\":\"\"},\"colorscale\":[[0.0,\"#0d0887\"],[0.1111111111111111,\"#46039f\"],[0.2222222222222222,\"#7201a8\"],[0.3333333333333333,\"#9c179e\"],[0.4444444444444444,\"#bd3786\"],[0.5555555555555556,\"#d8576b\"],[0.6666666666666666,\"#ed7953\"],[0.7777777777777778,\"#fb9f3a\"],[0.8888888888888888,\"#fdca26\"],[1.0,\"#f0f921\"]],\"type\":\"heatmap\"}],\"heatmapgl\":[{\"colorbar\":{\"outlinewidth\":0,\"ticks\":\"\"},\"colorscale\":[[0.0,\"#0d0887\"],[0.1111111111111111,\"#46039f\"],[0.2222222222222222,\"#7201a8\"],[0.3333333333333333,\"#9c179e\"],[0.4444444444444444,\"#bd3786\"],[0.5555555555555556,\"#d8576b\"],[0.6666666666666666,\"#ed7953\"],[0.7777777777777778,\"#fb9f3a\"],[0.8888888888888888,\"#fdca26\"],[1.0,\"#f0f921\"]],\"type\":\"heatmapgl\"}],\"histogram\":[{\"marker\":{\"pattern\":{\"fillmode\":\"overlay\",\"size\":10,\"solidity\":0.2}},\"type\":\"histogram\"}],\"histogram2d\":[{\"colorbar\":{\"outlinewidth\":0,\"ticks\":\"\"},\"colorscale\":[[0.0,\"#0d0887\"],[0.1111111111111111,\"#46039f\"],[0.2222222222222222,\"#7201a8\"],[0.3333333333333333,\"#9c179e\"],[0.4444444444444444,\"#bd3786\"],[0.5555555555555556,\"#d8576b\"],[0.6666666666666666,\"#ed7953\"],[0.7777777777777778,\"#fb9f3a\"],[0.8888888888888888,\"#fdca26\"],[1.0,\"#f0f921\"]],\"type\":\"histogram2d\"}],\"histogram2dcontour\":[{\"colorbar\":{\"outlinewidth\":0,\"ticks\":\"\"},\"colorscale\":[[0.0,\"#0d0887\"],[0.1111111111111111,\"#46039f\"],[0.2222222222222222,\"#7201a8\"],[0.3333333333333333,\"#9c179e\"],[0.4444444444444444,\"#bd3786\"],[0.5555555555555556,\"#d8576b\"],[0.6666666666666666,\"#ed7953\"],[0.7777777777777778,\"#fb9f3a\"],[0.8888888888888888,\"#fdca26\"],[1.0,\"#f0f921\"]],\"type\":\"histogram2dcontour\"}],\"mesh3d\":[{\"colorbar\":{\"outlinewidth\":0,\"ticks\":\"\"},\"type\":\"mesh3d\"}],\"parcoords\":[{\"line\":{\"colorbar\":{\"outlinewidth\":0,\"ticks\":\"\"}},\"type\":\"parcoords\"}],\"pie\":[{\"automargin\":true,\"type\":\"pie\"}],\"scatter\":[{\"marker\":{\"colorbar\":{\"outlinewidth\":0,\"ticks\":\"\"}},\"type\":\"scatter\"}],\"scatter3d\":[{\"line\":{\"colorbar\":{\"outlinewidth\":0,\"ticks\":\"\"}},\"marker\":{\"colorbar\":{\"outlinewidth\":0,\"ticks\":\"\"}},\"type\":\"scatter3d\"}],\"scattercarpet\":[{\"marker\":{\"colorbar\":{\"outlinewidth\":0,\"ticks\":\"\"}},\"type\":\"scattercarpet\"}],\"scattergeo\":[{\"marker\":{\"colorbar\":{\"outlinewidth\":0,\"ticks\":\"\"}},\"type\":\"scattergeo\"}],\"scattergl\":[{\"marker\":{\"colorbar\":{\"outlinewidth\":0,\"ticks\":\"\"}},\"type\":\"scattergl\"}],\"scattermapbox\":[{\"marker\":{\"colorbar\":{\"outlinewidth\":0,\"ticks\":\"\"}},\"type\":\"scattermapbox\"}],\"scatterpolar\":[{\"marker\":{\"colorbar\":{\"outlinewidth\":0,\"ticks\":\"\"}},\"type\":\"scatterpolar\"}],\"scatterpolargl\":[{\"marker\":{\"colorbar\":{\"outlinewidth\":0,\"ticks\":\"\"}},\"type\":\"scatterpolargl\"}],\"scatterternary\":[{\"marker\":{\"colorbar\":{\"outlinewidth\":0,\"ticks\":\"\"}},\"type\":\"scatterternary\"}],\"surface\":[{\"colorbar\":{\"outlinewidth\":0,\"ticks\":\"\"},\"colorscale\":[[0.0,\"#0d0887\"],[0.1111111111111111,\"#46039f\"],[0.2222222222222222,\"#7201a8\"],[0.3333333333333333,\"#9c179e\"],[0.4444444444444444,\"#bd3786\"],[0.5555555555555556,\"#d8576b\"],[0.6666666666666666,\"#ed7953\"],[0.7777777777777778,\"#fb9f3a\"],[0.8888888888888888,\"#fdca26\"],[1.0,\"#f0f921\"]],\"type\":\"surface\"}],\"table\":[{\"cells\":{\"fill\":{\"color\":\"#EBF0F8\"},\"line\":{\"color\":\"white\"}},\"header\":{\"fill\":{\"color\":\"#C8D4E3\"},\"line\":{\"color\":\"white\"}},\"type\":\"table\"}]},\"layout\":{\"annotationdefaults\":{\"arrowcolor\":\"#2a3f5f\",\"arrowhead\":0,\"arrowwidth\":1},\"autotypenumbers\":\"strict\",\"coloraxis\":{\"colorbar\":{\"outlinewidth\":0,\"ticks\":\"\"}},\"colorscale\":{\"diverging\":[[0,\"#8e0152\"],[0.1,\"#c51b7d\"],[0.2,\"#de77ae\"],[0.3,\"#f1b6da\"],[0.4,\"#fde0ef\"],[0.5,\"#f7f7f7\"],[0.6,\"#e6f5d0\"],[0.7,\"#b8e186\"],[0.8,\"#7fbc41\"],[0.9,\"#4d9221\"],[1,\"#276419\"]],\"sequential\":[[0.0,\"#0d0887\"],[0.1111111111111111,\"#46039f\"],[0.2222222222222222,\"#7201a8\"],[0.3333333333333333,\"#9c179e\"],[0.4444444444444444,\"#bd3786\"],[0.5555555555555556,\"#d8576b\"],[0.6666666666666666,\"#ed7953\"],[0.7777777777777778,\"#fb9f3a\"],[0.8888888888888888,\"#fdca26\"],[1.0,\"#f0f921\"]],\"sequentialminus\":[[0.0,\"#0d0887\"],[0.1111111111111111,\"#46039f\"],[0.2222222222222222,\"#7201a8\"],[0.3333333333333333,\"#9c179e\"],[0.4444444444444444,\"#bd3786\"],[0.5555555555555556,\"#d8576b\"],[0.6666666666666666,\"#ed7953\"],[0.7777777777777778,\"#fb9f3a\"],[0.8888888888888888,\"#fdca26\"],[1.0,\"#f0f921\"]]},\"colorway\":[\"#636efa\",\"#EF553B\",\"#00cc96\",\"#ab63fa\",\"#FFA15A\",\"#19d3f3\",\"#FF6692\",\"#B6E880\",\"#FF97FF\",\"#FECB52\"],\"font\":{\"color\":\"#2a3f5f\"},\"geo\":{\"bgcolor\":\"white\",\"lakecolor\":\"white\",\"landcolor\":\"#E5ECF6\",\"showlakes\":true,\"showland\":true,\"subunitcolor\":\"white\"},\"hoverlabel\":{\"align\":\"left\"},\"hovermode\":\"closest\",\"mapbox\":{\"style\":\"light\"},\"paper_bgcolor\":\"white\",\"plot_bgcolor\":\"#E5ECF6\",\"polar\":{\"angularaxis\":{\"gridcolor\":\"white\",\"linecolor\":\"white\",\"ticks\":\"\"},\"bgcolor\":\"#E5ECF6\",\"radialaxis\":{\"gridcolor\":\"white\",\"linecolor\":\"white\",\"ticks\":\"\"}},\"scene\":{\"xaxis\":{\"backgroundcolor\":\"#E5ECF6\",\"gridcolor\":\"white\",\"gridwidth\":2,\"linecolor\":\"white\",\"showbackground\":true,\"ticks\":\"\",\"zerolinecolor\":\"white\"},\"yaxis\":{\"backgroundcolor\":\"#E5ECF6\",\"gridcolor\":\"white\",\"gridwidth\":2,\"linecolor\":\"white\",\"showbackground\":true,\"ticks\":\"\",\"zerolinecolor\":\"white\"},\"zaxis\":{\"backgroundcolor\":\"#E5ECF6\",\"gridcolor\":\"white\",\"gridwidth\":2,\"linecolor\":\"white\",\"showbackground\":true,\"ticks\":\"\",\"zerolinecolor\":\"white\"}},\"shapedefaults\":{\"line\":{\"color\":\"#2a3f5f\"}},\"ternary\":{\"aaxis\":{\"gridcolor\":\"white\",\"linecolor\":\"white\",\"ticks\":\"\"},\"baxis\":{\"gridcolor\":\"white\",\"linecolor\":\"white\",\"ticks\":\"\"},\"bgcolor\":\"#E5ECF6\",\"caxis\":{\"gridcolor\":\"white\",\"linecolor\":\"white\",\"ticks\":\"\"}},\"title\":{\"x\":0.05},\"xaxis\":{\"automargin\":true,\"gridcolor\":\"white\",\"linecolor\":\"white\",\"ticks\":\"\",\"title\":{\"standoff\":15},\"zerolinecolor\":\"white\",\"zerolinewidth\":2},\"yaxis\":{\"automargin\":true,\"gridcolor\":\"white\",\"linecolor\":\"white\",\"ticks\":\"\",\"title\":{\"standoff\":15},\"zerolinecolor\":\"white\",\"zerolinewidth\":2}}}},                        {\"responsive\": true}                    ).then(function(){\n",
       "                            \n",
       "var gd = document.getElementById('e40a08ce-82a4-44bf-a0ca-dcee302dee21');\n",
       "var x = new MutationObserver(function (mutations, observer) {{\n",
       "        var display = window.getComputedStyle(gd).display;\n",
       "        if (!display || display === 'none') {{\n",
       "            console.log([gd, 'removed!']);\n",
       "            Plotly.purge(gd);\n",
       "            observer.disconnect();\n",
       "        }}\n",
       "}});\n",
       "\n",
       "// Listen for the removal of the full notebook cells\n",
       "var notebookContainer = gd.closest('#notebook-container');\n",
       "if (notebookContainer) {{\n",
       "    x.observe(notebookContainer, {childList: true});\n",
       "}}\n",
       "\n",
       "// Listen for the clearing of the current output cell\n",
       "var outputEl = gd.closest('.output');\n",
       "if (outputEl) {{\n",
       "    x.observe(outputEl, {childList: true});\n",
       "}}\n",
       "\n",
       "                        })                };                            </script>        </div>\n",
       "</body>\n",
       "</html>"
      ]
     },
     "metadata": {},
     "output_type": "display_data"
    }
   ],
   "source": [
    "fig = go.Figure(go.Pie(labels=outflow_product.index, values=outflow_product['percent']))\n",
    "fig.update_layout(width=700, height=500, title=\"Соотношение клиентов по количеству продуктов\")\n",
    "fig.show()"
   ]
  },
  {
   "cell_type": "markdown",
   "metadata": {
    "id": "72g_ZEfEZigG"
   },
   "source": [
    "Так как выборки у клиентов с 3 и 4 продуктами очень маленькие и для обоих характерна крайне высокая доля оттока, то объединим их в одну группу:"
   ]
  },
  {
   "cell_type": "code",
   "execution_count": 29,
   "metadata": {
    "id": "M5o4uUB3ZigH"
   },
   "outputs": [],
   "source": [
    "def group_products(number_products):\n",
    "    if number_products == 4:\n",
    "        return 3\n",
    "    return number_products"
   ]
  },
  {
   "cell_type": "markdown",
   "metadata": {
    "id": "7r3DLY7LZigH"
   },
   "source": [
    "Создадим для этого столбец 'products_group' в таблице df:"
   ]
  },
  {
   "cell_type": "code",
   "execution_count": 30,
   "metadata": {
    "id": "C3mY2pdAZigH"
   },
   "outputs": [],
   "source": [
    "df['products_group'] = df['products'].apply(group_products)"
   ]
  },
  {
   "cell_type": "markdown",
   "metadata": {
    "id": "cWQ_517-ZigH"
   },
   "source": [
    "Проверим, что значения распределились корректно:"
   ]
  },
  {
   "cell_type": "code",
   "execution_count": 31,
   "metadata": {
    "colab": {
     "base_uri": "https://localhost:8080/",
     "height": 363
    },
    "id": "7TFnlzF0ZigH",
    "outputId": "b424feae-ec0f-4f0f-e53c-089470c7221a"
   },
   "outputs": [
    {
     "data": {
      "text/html": [
       "\n",
       "  <div id=\"df-0c52cb04-a619-47a1-8546-2b5e95c9403b\">\n",
       "    <div class=\"colab-df-container\">\n",
       "      <div>\n",
       "<style scoped>\n",
       "    .dataframe tbody tr th:only-of-type {\n",
       "        vertical-align: middle;\n",
       "    }\n",
       "\n",
       "    .dataframe tbody tr th {\n",
       "        vertical-align: top;\n",
       "    }\n",
       "\n",
       "    .dataframe thead th {\n",
       "        text-align: right;\n",
       "    }\n",
       "</style>\n",
       "<table border=\"1\" class=\"dataframe\">\n",
       "  <thead>\n",
       "    <tr style=\"text-align: right;\">\n",
       "      <th></th>\n",
       "      <th>products</th>\n",
       "      <th>products_group</th>\n",
       "    </tr>\n",
       "  </thead>\n",
       "  <tbody>\n",
       "    <tr>\n",
       "      <th>0</th>\n",
       "      <td>1</td>\n",
       "      <td>1</td>\n",
       "    </tr>\n",
       "    <tr>\n",
       "      <th>1</th>\n",
       "      <td>1</td>\n",
       "      <td>1</td>\n",
       "    </tr>\n",
       "    <tr>\n",
       "      <th>2</th>\n",
       "      <td>3</td>\n",
       "      <td>3</td>\n",
       "    </tr>\n",
       "    <tr>\n",
       "      <th>3</th>\n",
       "      <td>2</td>\n",
       "      <td>2</td>\n",
       "    </tr>\n",
       "    <tr>\n",
       "      <th>4</th>\n",
       "      <td>1</td>\n",
       "      <td>1</td>\n",
       "    </tr>\n",
       "    <tr>\n",
       "      <th>5</th>\n",
       "      <td>2</td>\n",
       "      <td>2</td>\n",
       "    </tr>\n",
       "    <tr>\n",
       "      <th>6</th>\n",
       "      <td>2</td>\n",
       "      <td>2</td>\n",
       "    </tr>\n",
       "    <tr>\n",
       "      <th>7</th>\n",
       "      <td>4</td>\n",
       "      <td>3</td>\n",
       "    </tr>\n",
       "    <tr>\n",
       "      <th>8</th>\n",
       "      <td>2</td>\n",
       "      <td>2</td>\n",
       "    </tr>\n",
       "    <tr>\n",
       "      <th>9</th>\n",
       "      <td>1</td>\n",
       "      <td>1</td>\n",
       "    </tr>\n",
       "  </tbody>\n",
       "</table>\n",
       "</div>\n",
       "      <button class=\"colab-df-convert\" onclick=\"convertToInteractive('df-0c52cb04-a619-47a1-8546-2b5e95c9403b')\"\n",
       "              title=\"Convert this dataframe to an interactive table.\"\n",
       "              style=\"display:none;\">\n",
       "        \n",
       "  <svg xmlns=\"http://www.w3.org/2000/svg\" height=\"24px\"viewBox=\"0 0 24 24\"\n",
       "       width=\"24px\">\n",
       "    <path d=\"M0 0h24v24H0V0z\" fill=\"none\"/>\n",
       "    <path d=\"M18.56 5.44l.94 2.06.94-2.06 2.06-.94-2.06-.94-.94-2.06-.94 2.06-2.06.94zm-11 1L8.5 8.5l.94-2.06 2.06-.94-2.06-.94L8.5 2.5l-.94 2.06-2.06.94zm10 10l.94 2.06.94-2.06 2.06-.94-2.06-.94-.94-2.06-.94 2.06-2.06.94z\"/><path d=\"M17.41 7.96l-1.37-1.37c-.4-.4-.92-.59-1.43-.59-.52 0-1.04.2-1.43.59L10.3 9.45l-7.72 7.72c-.78.78-.78 2.05 0 2.83L4 21.41c.39.39.9.59 1.41.59.51 0 1.02-.2 1.41-.59l7.78-7.78 2.81-2.81c.8-.78.8-2.07 0-2.86zM5.41 20L4 18.59l7.72-7.72 1.47 1.35L5.41 20z\"/>\n",
       "  </svg>\n",
       "      </button>\n",
       "      \n",
       "  <style>\n",
       "    .colab-df-container {\n",
       "      display:flex;\n",
       "      flex-wrap:wrap;\n",
       "      gap: 12px;\n",
       "    }\n",
       "\n",
       "    .colab-df-convert {\n",
       "      background-color: #E8F0FE;\n",
       "      border: none;\n",
       "      border-radius: 50%;\n",
       "      cursor: pointer;\n",
       "      display: none;\n",
       "      fill: #1967D2;\n",
       "      height: 32px;\n",
       "      padding: 0 0 0 0;\n",
       "      width: 32px;\n",
       "    }\n",
       "\n",
       "    .colab-df-convert:hover {\n",
       "      background-color: #E2EBFA;\n",
       "      box-shadow: 0px 1px 2px rgba(60, 64, 67, 0.3), 0px 1px 3px 1px rgba(60, 64, 67, 0.15);\n",
       "      fill: #174EA6;\n",
       "    }\n",
       "\n",
       "    [theme=dark] .colab-df-convert {\n",
       "      background-color: #3B4455;\n",
       "      fill: #D2E3FC;\n",
       "    }\n",
       "\n",
       "    [theme=dark] .colab-df-convert:hover {\n",
       "      background-color: #434B5C;\n",
       "      box-shadow: 0px 1px 3px 1px rgba(0, 0, 0, 0.15);\n",
       "      filter: drop-shadow(0px 1px 2px rgba(0, 0, 0, 0.3));\n",
       "      fill: #FFFFFF;\n",
       "    }\n",
       "  </style>\n",
       "\n",
       "      <script>\n",
       "        const buttonEl =\n",
       "          document.querySelector('#df-0c52cb04-a619-47a1-8546-2b5e95c9403b button.colab-df-convert');\n",
       "        buttonEl.style.display =\n",
       "          google.colab.kernel.accessAllowed ? 'block' : 'none';\n",
       "\n",
       "        async function convertToInteractive(key) {\n",
       "          const element = document.querySelector('#df-0c52cb04-a619-47a1-8546-2b5e95c9403b');\n",
       "          const dataTable =\n",
       "            await google.colab.kernel.invokeFunction('convertToInteractive',\n",
       "                                                     [key], {});\n",
       "          if (!dataTable) return;\n",
       "\n",
       "          const docLinkHtml = 'Like what you see? Visit the ' +\n",
       "            '<a target=\"_blank\" href=https://colab.research.google.com/notebooks/data_table.ipynb>data table notebook</a>'\n",
       "            + ' to learn more about interactive tables.';\n",
       "          element.innerHTML = '';\n",
       "          dataTable['output_type'] = 'display_data';\n",
       "          await google.colab.output.renderOutput(dataTable, element);\n",
       "          const docLink = document.createElement('div');\n",
       "          docLink.innerHTML = docLinkHtml;\n",
       "          element.appendChild(docLink);\n",
       "        }\n",
       "      </script>\n",
       "    </div>\n",
       "  </div>\n",
       "  "
      ],
      "text/plain": [
       "   products  products_group\n",
       "0         1               1\n",
       "1         1               1\n",
       "2         3               3\n",
       "3         2               2\n",
       "4         1               1\n",
       "5         2               2\n",
       "6         2               2\n",
       "7         4               3\n",
       "8         2               2\n",
       "9         1               1"
      ]
     },
     "execution_count": 31,
     "metadata": {},
     "output_type": "execute_result"
    }
   ],
   "source": [
    "df[['products','products_group']].head(10)"
   ]
  },
  {
   "cell_type": "markdown",
   "metadata": {
    "id": "Yx5rXuH0ZigH"
   },
   "source": [
    "Распределение верное. Выделим таблицы в зависимости от числа продуктов:"
   ]
  },
  {
   "cell_type": "code",
   "execution_count": 32,
   "metadata": {
    "id": "Iv9t7ptpZigI"
   },
   "outputs": [],
   "source": [
    "df_product_one = df.query('products == 1')\n",
    "df_products_two = df.query('products == 2')\n",
    "df_products_several = df.query('products >= 3')"
   ]
  },
  {
   "cell_type": "markdown",
   "metadata": {
    "id": "Xq5CGS6-ZigI"
   },
   "source": [
    "<a name=\"3.1\"><h3>3.1 Соотношение клиентов по возрастным группам</h3></a>"
   ]
  },
  {
   "cell_type": "markdown",
   "metadata": {
    "id": "ATfMCWRXZigI"
   },
   "source": [
    "Напишем функцию, которая возвращает сводную таблицу с данными о количестве и доле пользователей, а также о количестве и доле ушедших по возрастным группам в зависимости от числа продуктов:"
   ]
  },
  {
   "cell_type": "code",
   "execution_count": 33,
   "metadata": {
    "id": "dp4ikboHZigI"
   },
   "outputs": [],
   "source": [
    "def pivot(data, column):\n",
    "    table = data.groupby(column).agg({\n",
    "    'churn':['count', lambda x: x.count()/data['user_id'].count()* 100,'sum', lambda x: x.mean()*100]})\n",
    "    table.columns = ['count', 'users_%', 'number_in_churn', 'churn_%']\n",
    "    return table"
   ]
  },
  {
   "cell_type": "markdown",
   "metadata": {
    "id": "yCBE-OpCZigJ"
   },
   "source": [
    "Обратимся к функции и выведем таблицу с пользователями 1 продукта:"
   ]
  },
  {
   "cell_type": "code",
   "execution_count": 34,
   "metadata": {
    "colab": {
     "base_uri": "https://localhost:8080/",
     "height": 175
    },
    "id": "BY6XQ3P5ZigJ",
    "outputId": "f379c09d-cb7e-4fe3-90e0-3699f894bf8d"
   },
   "outputs": [
    {
     "data": {
      "text/html": [
       "\n",
       "  <div id=\"df-2d283c92-8ce4-42d6-8e59-cc6bdd80077d\">\n",
       "    <div class=\"colab-df-container\">\n",
       "      <div>\n",
       "<style scoped>\n",
       "    .dataframe tbody tr th:only-of-type {\n",
       "        vertical-align: middle;\n",
       "    }\n",
       "\n",
       "    .dataframe tbody tr th {\n",
       "        vertical-align: top;\n",
       "    }\n",
       "\n",
       "    .dataframe thead th {\n",
       "        text-align: right;\n",
       "    }\n",
       "</style>\n",
       "<table border=\"1\" class=\"dataframe\">\n",
       "  <thead>\n",
       "    <tr style=\"text-align: right;\">\n",
       "      <th></th>\n",
       "      <th>count</th>\n",
       "      <th>users_%</th>\n",
       "      <th>number_in_churn</th>\n",
       "      <th>churn_%</th>\n",
       "    </tr>\n",
       "    <tr>\n",
       "      <th>age_groups</th>\n",
       "      <th></th>\n",
       "      <th></th>\n",
       "      <th></th>\n",
       "      <th></th>\n",
       "    </tr>\n",
       "  </thead>\n",
       "  <tbody>\n",
       "    <tr>\n",
       "      <th>молодой возраст</th>\n",
       "      <td>1982</td>\n",
       "      <td>38.99</td>\n",
       "      <td>244</td>\n",
       "      <td>12.31</td>\n",
       "    </tr>\n",
       "    <tr>\n",
       "      <th>пожилой возраст</th>\n",
       "      <td>285</td>\n",
       "      <td>5.61</td>\n",
       "      <td>99</td>\n",
       "      <td>34.74</td>\n",
       "    </tr>\n",
       "    <tr>\n",
       "      <th>средний возраст</th>\n",
       "      <td>2817</td>\n",
       "      <td>55.41</td>\n",
       "      <td>1066</td>\n",
       "      <td>37.84</td>\n",
       "    </tr>\n",
       "  </tbody>\n",
       "</table>\n",
       "</div>\n",
       "      <button class=\"colab-df-convert\" onclick=\"convertToInteractive('df-2d283c92-8ce4-42d6-8e59-cc6bdd80077d')\"\n",
       "              title=\"Convert this dataframe to an interactive table.\"\n",
       "              style=\"display:none;\">\n",
       "        \n",
       "  <svg xmlns=\"http://www.w3.org/2000/svg\" height=\"24px\"viewBox=\"0 0 24 24\"\n",
       "       width=\"24px\">\n",
       "    <path d=\"M0 0h24v24H0V0z\" fill=\"none\"/>\n",
       "    <path d=\"M18.56 5.44l.94 2.06.94-2.06 2.06-.94-2.06-.94-.94-2.06-.94 2.06-2.06.94zm-11 1L8.5 8.5l.94-2.06 2.06-.94-2.06-.94L8.5 2.5l-.94 2.06-2.06.94zm10 10l.94 2.06.94-2.06 2.06-.94-2.06-.94-.94-2.06-.94 2.06-2.06.94z\"/><path d=\"M17.41 7.96l-1.37-1.37c-.4-.4-.92-.59-1.43-.59-.52 0-1.04.2-1.43.59L10.3 9.45l-7.72 7.72c-.78.78-.78 2.05 0 2.83L4 21.41c.39.39.9.59 1.41.59.51 0 1.02-.2 1.41-.59l7.78-7.78 2.81-2.81c.8-.78.8-2.07 0-2.86zM5.41 20L4 18.59l7.72-7.72 1.47 1.35L5.41 20z\"/>\n",
       "  </svg>\n",
       "      </button>\n",
       "      \n",
       "  <style>\n",
       "    .colab-df-container {\n",
       "      display:flex;\n",
       "      flex-wrap:wrap;\n",
       "      gap: 12px;\n",
       "    }\n",
       "\n",
       "    .colab-df-convert {\n",
       "      background-color: #E8F0FE;\n",
       "      border: none;\n",
       "      border-radius: 50%;\n",
       "      cursor: pointer;\n",
       "      display: none;\n",
       "      fill: #1967D2;\n",
       "      height: 32px;\n",
       "      padding: 0 0 0 0;\n",
       "      width: 32px;\n",
       "    }\n",
       "\n",
       "    .colab-df-convert:hover {\n",
       "      background-color: #E2EBFA;\n",
       "      box-shadow: 0px 1px 2px rgba(60, 64, 67, 0.3), 0px 1px 3px 1px rgba(60, 64, 67, 0.15);\n",
       "      fill: #174EA6;\n",
       "    }\n",
       "\n",
       "    [theme=dark] .colab-df-convert {\n",
       "      background-color: #3B4455;\n",
       "      fill: #D2E3FC;\n",
       "    }\n",
       "\n",
       "    [theme=dark] .colab-df-convert:hover {\n",
       "      background-color: #434B5C;\n",
       "      box-shadow: 0px 1px 3px 1px rgba(0, 0, 0, 0.15);\n",
       "      filter: drop-shadow(0px 1px 2px rgba(0, 0, 0, 0.3));\n",
       "      fill: #FFFFFF;\n",
       "    }\n",
       "  </style>\n",
       "\n",
       "      <script>\n",
       "        const buttonEl =\n",
       "          document.querySelector('#df-2d283c92-8ce4-42d6-8e59-cc6bdd80077d button.colab-df-convert');\n",
       "        buttonEl.style.display =\n",
       "          google.colab.kernel.accessAllowed ? 'block' : 'none';\n",
       "\n",
       "        async function convertToInteractive(key) {\n",
       "          const element = document.querySelector('#df-2d283c92-8ce4-42d6-8e59-cc6bdd80077d');\n",
       "          const dataTable =\n",
       "            await google.colab.kernel.invokeFunction('convertToInteractive',\n",
       "                                                     [key], {});\n",
       "          if (!dataTable) return;\n",
       "\n",
       "          const docLinkHtml = 'Like what you see? Visit the ' +\n",
       "            '<a target=\"_blank\" href=https://colab.research.google.com/notebooks/data_table.ipynb>data table notebook</a>'\n",
       "            + ' to learn more about interactive tables.';\n",
       "          element.innerHTML = '';\n",
       "          dataTable['output_type'] = 'display_data';\n",
       "          await google.colab.output.renderOutput(dataTable, element);\n",
       "          const docLink = document.createElement('div');\n",
       "          docLink.innerHTML = docLinkHtml;\n",
       "          element.appendChild(docLink);\n",
       "        }\n",
       "      </script>\n",
       "    </div>\n",
       "  </div>\n",
       "  "
      ],
      "text/plain": [
       "                 count  users_%  number_in_churn  churn_%\n",
       "age_groups                                               \n",
       "молодой возраст   1982    38.99              244    12.31\n",
       "пожилой возраст    285     5.61               99    34.74\n",
       "средний возраст   2817    55.41             1066    37.84"
      ]
     },
     "execution_count": 34,
     "metadata": {},
     "output_type": "execute_result"
    }
   ],
   "source": [
    "age_product_one = pivot(df_product_one, 'age_groups')\n",
    "age_product_one"
   ]
  },
  {
   "cell_type": "markdown",
   "metadata": {
    "id": "NV9hXX1dZigJ"
   },
   "source": [
    "Наибольшая возрастная группа среди клиентов среднего возраста - 55.41%, молодых клиентов 38.99%, доля пожилых - 5,61%. Наименьший отток у молодых клиентов."
   ]
  },
  {
   "cell_type": "markdown",
   "metadata": {
    "id": "zODZ2RluZigJ"
   },
   "source": [
    "Выведем таблицу с пользователями 2 продуктов:"
   ]
  },
  {
   "cell_type": "code",
   "execution_count": 35,
   "metadata": {
    "colab": {
     "base_uri": "https://localhost:8080/",
     "height": 175
    },
    "id": "ChXKfgi4ZigJ",
    "outputId": "c1ea12e0-8479-4c04-c6a4-0ef98cb6beca"
   },
   "outputs": [
    {
     "data": {
      "text/html": [
       "\n",
       "  <div id=\"df-4b348136-f42d-4caa-95ea-7fcff8854cb9\">\n",
       "    <div class=\"colab-df-container\">\n",
       "      <div>\n",
       "<style scoped>\n",
       "    .dataframe tbody tr th:only-of-type {\n",
       "        vertical-align: middle;\n",
       "    }\n",
       "\n",
       "    .dataframe tbody tr th {\n",
       "        vertical-align: top;\n",
       "    }\n",
       "\n",
       "    .dataframe thead th {\n",
       "        text-align: right;\n",
       "    }\n",
       "</style>\n",
       "<table border=\"1\" class=\"dataframe\">\n",
       "  <thead>\n",
       "    <tr style=\"text-align: right;\">\n",
       "      <th></th>\n",
       "      <th>count</th>\n",
       "      <th>users_%</th>\n",
       "      <th>number_in_churn</th>\n",
       "      <th>churn_%</th>\n",
       "    </tr>\n",
       "    <tr>\n",
       "      <th>age_groups</th>\n",
       "      <th></th>\n",
       "      <th></th>\n",
       "      <th></th>\n",
       "      <th></th>\n",
       "    </tr>\n",
       "  </thead>\n",
       "  <tbody>\n",
       "    <tr>\n",
       "      <th>молодой возраст</th>\n",
       "      <td>2103</td>\n",
       "      <td>45.82</td>\n",
       "      <td>59</td>\n",
       "      <td>2.81</td>\n",
       "    </tr>\n",
       "    <tr>\n",
       "      <th>пожилой возраст</th>\n",
       "      <td>218</td>\n",
       "      <td>4.75</td>\n",
       "      <td>29</td>\n",
       "      <td>13.30</td>\n",
       "    </tr>\n",
       "    <tr>\n",
       "      <th>средний возраст</th>\n",
       "      <td>2269</td>\n",
       "      <td>49.43</td>\n",
       "      <td>260</td>\n",
       "      <td>11.46</td>\n",
       "    </tr>\n",
       "  </tbody>\n",
       "</table>\n",
       "</div>\n",
       "      <button class=\"colab-df-convert\" onclick=\"convertToInteractive('df-4b348136-f42d-4caa-95ea-7fcff8854cb9')\"\n",
       "              title=\"Convert this dataframe to an interactive table.\"\n",
       "              style=\"display:none;\">\n",
       "        \n",
       "  <svg xmlns=\"http://www.w3.org/2000/svg\" height=\"24px\"viewBox=\"0 0 24 24\"\n",
       "       width=\"24px\">\n",
       "    <path d=\"M0 0h24v24H0V0z\" fill=\"none\"/>\n",
       "    <path d=\"M18.56 5.44l.94 2.06.94-2.06 2.06-.94-2.06-.94-.94-2.06-.94 2.06-2.06.94zm-11 1L8.5 8.5l.94-2.06 2.06-.94-2.06-.94L8.5 2.5l-.94 2.06-2.06.94zm10 10l.94 2.06.94-2.06 2.06-.94-2.06-.94-.94-2.06-.94 2.06-2.06.94z\"/><path d=\"M17.41 7.96l-1.37-1.37c-.4-.4-.92-.59-1.43-.59-.52 0-1.04.2-1.43.59L10.3 9.45l-7.72 7.72c-.78.78-.78 2.05 0 2.83L4 21.41c.39.39.9.59 1.41.59.51 0 1.02-.2 1.41-.59l7.78-7.78 2.81-2.81c.8-.78.8-2.07 0-2.86zM5.41 20L4 18.59l7.72-7.72 1.47 1.35L5.41 20z\"/>\n",
       "  </svg>\n",
       "      </button>\n",
       "      \n",
       "  <style>\n",
       "    .colab-df-container {\n",
       "      display:flex;\n",
       "      flex-wrap:wrap;\n",
       "      gap: 12px;\n",
       "    }\n",
       "\n",
       "    .colab-df-convert {\n",
       "      background-color: #E8F0FE;\n",
       "      border: none;\n",
       "      border-radius: 50%;\n",
       "      cursor: pointer;\n",
       "      display: none;\n",
       "      fill: #1967D2;\n",
       "      height: 32px;\n",
       "      padding: 0 0 0 0;\n",
       "      width: 32px;\n",
       "    }\n",
       "\n",
       "    .colab-df-convert:hover {\n",
       "      background-color: #E2EBFA;\n",
       "      box-shadow: 0px 1px 2px rgba(60, 64, 67, 0.3), 0px 1px 3px 1px rgba(60, 64, 67, 0.15);\n",
       "      fill: #174EA6;\n",
       "    }\n",
       "\n",
       "    [theme=dark] .colab-df-convert {\n",
       "      background-color: #3B4455;\n",
       "      fill: #D2E3FC;\n",
       "    }\n",
       "\n",
       "    [theme=dark] .colab-df-convert:hover {\n",
       "      background-color: #434B5C;\n",
       "      box-shadow: 0px 1px 3px 1px rgba(0, 0, 0, 0.15);\n",
       "      filter: drop-shadow(0px 1px 2px rgba(0, 0, 0, 0.3));\n",
       "      fill: #FFFFFF;\n",
       "    }\n",
       "  </style>\n",
       "\n",
       "      <script>\n",
       "        const buttonEl =\n",
       "          document.querySelector('#df-4b348136-f42d-4caa-95ea-7fcff8854cb9 button.colab-df-convert');\n",
       "        buttonEl.style.display =\n",
       "          google.colab.kernel.accessAllowed ? 'block' : 'none';\n",
       "\n",
       "        async function convertToInteractive(key) {\n",
       "          const element = document.querySelector('#df-4b348136-f42d-4caa-95ea-7fcff8854cb9');\n",
       "          const dataTable =\n",
       "            await google.colab.kernel.invokeFunction('convertToInteractive',\n",
       "                                                     [key], {});\n",
       "          if (!dataTable) return;\n",
       "\n",
       "          const docLinkHtml = 'Like what you see? Visit the ' +\n",
       "            '<a target=\"_blank\" href=https://colab.research.google.com/notebooks/data_table.ipynb>data table notebook</a>'\n",
       "            + ' to learn more about interactive tables.';\n",
       "          element.innerHTML = '';\n",
       "          dataTable['output_type'] = 'display_data';\n",
       "          await google.colab.output.renderOutput(dataTable, element);\n",
       "          const docLink = document.createElement('div');\n",
       "          docLink.innerHTML = docLinkHtml;\n",
       "          element.appendChild(docLink);\n",
       "        }\n",
       "      </script>\n",
       "    </div>\n",
       "  </div>\n",
       "  "
      ],
      "text/plain": [
       "                 count  users_%  number_in_churn  churn_%\n",
       "age_groups                                               \n",
       "молодой возраст   2103    45.82               59     2.81\n",
       "пожилой возраст    218     4.75               29    13.30\n",
       "средний возраст   2269    49.43              260    11.46"
      ]
     },
     "execution_count": 35,
     "metadata": {},
     "output_type": "execute_result"
    }
   ],
   "source": [
    "age_products_two = pivot(df_products_two, 'age_groups')\n",
    "age_products_two"
   ]
  },
  {
   "cell_type": "markdown",
   "metadata": {
    "id": "fQqe094AZigK"
   },
   "source": [
    "Почти половина клиентов среднего возраста, молодых клиентов на 3,61% меньше, при этом чаще уходят клиенты пожилого возраста."
   ]
  },
  {
   "cell_type": "markdown",
   "metadata": {
    "id": "1c1RkHqVZigK"
   },
   "source": [
    "Выведем таблицу с пользователями, у которых 3 или 4 продукта:"
   ]
  },
  {
   "cell_type": "code",
   "execution_count": 36,
   "metadata": {
    "colab": {
     "base_uri": "https://localhost:8080/",
     "height": 175
    },
    "id": "vk4wDXGYZigK",
    "outputId": "036f3dd9-757a-4be8-a9e1-5fd3520da20c"
   },
   "outputs": [
    {
     "data": {
      "text/html": [
       "\n",
       "  <div id=\"df-2f7bfbbe-c457-4ca0-8d78-9952f95d6f13\">\n",
       "    <div class=\"colab-df-container\">\n",
       "      <div>\n",
       "<style scoped>\n",
       "    .dataframe tbody tr th:only-of-type {\n",
       "        vertical-align: middle;\n",
       "    }\n",
       "\n",
       "    .dataframe tbody tr th {\n",
       "        vertical-align: top;\n",
       "    }\n",
       "\n",
       "    .dataframe thead th {\n",
       "        text-align: right;\n",
       "    }\n",
       "</style>\n",
       "<table border=\"1\" class=\"dataframe\">\n",
       "  <thead>\n",
       "    <tr style=\"text-align: right;\">\n",
       "      <th></th>\n",
       "      <th>count</th>\n",
       "      <th>users_%</th>\n",
       "      <th>number_in_churn</th>\n",
       "      <th>churn_%</th>\n",
       "    </tr>\n",
       "    <tr>\n",
       "      <th>age_groups</th>\n",
       "      <th></th>\n",
       "      <th></th>\n",
       "      <th></th>\n",
       "      <th></th>\n",
       "    </tr>\n",
       "  </thead>\n",
       "  <tbody>\n",
       "    <tr>\n",
       "      <th>молодой возраст</th>\n",
       "      <td>68</td>\n",
       "      <td>20.86</td>\n",
       "      <td>44</td>\n",
       "      <td>64.71</td>\n",
       "    </tr>\n",
       "    <tr>\n",
       "      <th>пожилой возраст</th>\n",
       "      <td>23</td>\n",
       "      <td>7.06</td>\n",
       "      <td>19</td>\n",
       "      <td>82.61</td>\n",
       "    </tr>\n",
       "    <tr>\n",
       "      <th>средний возраст</th>\n",
       "      <td>235</td>\n",
       "      <td>72.09</td>\n",
       "      <td>217</td>\n",
       "      <td>92.34</td>\n",
       "    </tr>\n",
       "  </tbody>\n",
       "</table>\n",
       "</div>\n",
       "      <button class=\"colab-df-convert\" onclick=\"convertToInteractive('df-2f7bfbbe-c457-4ca0-8d78-9952f95d6f13')\"\n",
       "              title=\"Convert this dataframe to an interactive table.\"\n",
       "              style=\"display:none;\">\n",
       "        \n",
       "  <svg xmlns=\"http://www.w3.org/2000/svg\" height=\"24px\"viewBox=\"0 0 24 24\"\n",
       "       width=\"24px\">\n",
       "    <path d=\"M0 0h24v24H0V0z\" fill=\"none\"/>\n",
       "    <path d=\"M18.56 5.44l.94 2.06.94-2.06 2.06-.94-2.06-.94-.94-2.06-.94 2.06-2.06.94zm-11 1L8.5 8.5l.94-2.06 2.06-.94-2.06-.94L8.5 2.5l-.94 2.06-2.06.94zm10 10l.94 2.06.94-2.06 2.06-.94-2.06-.94-.94-2.06-.94 2.06-2.06.94z\"/><path d=\"M17.41 7.96l-1.37-1.37c-.4-.4-.92-.59-1.43-.59-.52 0-1.04.2-1.43.59L10.3 9.45l-7.72 7.72c-.78.78-.78 2.05 0 2.83L4 21.41c.39.39.9.59 1.41.59.51 0 1.02-.2 1.41-.59l7.78-7.78 2.81-2.81c.8-.78.8-2.07 0-2.86zM5.41 20L4 18.59l7.72-7.72 1.47 1.35L5.41 20z\"/>\n",
       "  </svg>\n",
       "      </button>\n",
       "      \n",
       "  <style>\n",
       "    .colab-df-container {\n",
       "      display:flex;\n",
       "      flex-wrap:wrap;\n",
       "      gap: 12px;\n",
       "    }\n",
       "\n",
       "    .colab-df-convert {\n",
       "      background-color: #E8F0FE;\n",
       "      border: none;\n",
       "      border-radius: 50%;\n",
       "      cursor: pointer;\n",
       "      display: none;\n",
       "      fill: #1967D2;\n",
       "      height: 32px;\n",
       "      padding: 0 0 0 0;\n",
       "      width: 32px;\n",
       "    }\n",
       "\n",
       "    .colab-df-convert:hover {\n",
       "      background-color: #E2EBFA;\n",
       "      box-shadow: 0px 1px 2px rgba(60, 64, 67, 0.3), 0px 1px 3px 1px rgba(60, 64, 67, 0.15);\n",
       "      fill: #174EA6;\n",
       "    }\n",
       "\n",
       "    [theme=dark] .colab-df-convert {\n",
       "      background-color: #3B4455;\n",
       "      fill: #D2E3FC;\n",
       "    }\n",
       "\n",
       "    [theme=dark] .colab-df-convert:hover {\n",
       "      background-color: #434B5C;\n",
       "      box-shadow: 0px 1px 3px 1px rgba(0, 0, 0, 0.15);\n",
       "      filter: drop-shadow(0px 1px 2px rgba(0, 0, 0, 0.3));\n",
       "      fill: #FFFFFF;\n",
       "    }\n",
       "  </style>\n",
       "\n",
       "      <script>\n",
       "        const buttonEl =\n",
       "          document.querySelector('#df-2f7bfbbe-c457-4ca0-8d78-9952f95d6f13 button.colab-df-convert');\n",
       "        buttonEl.style.display =\n",
       "          google.colab.kernel.accessAllowed ? 'block' : 'none';\n",
       "\n",
       "        async function convertToInteractive(key) {\n",
       "          const element = document.querySelector('#df-2f7bfbbe-c457-4ca0-8d78-9952f95d6f13');\n",
       "          const dataTable =\n",
       "            await google.colab.kernel.invokeFunction('convertToInteractive',\n",
       "                                                     [key], {});\n",
       "          if (!dataTable) return;\n",
       "\n",
       "          const docLinkHtml = 'Like what you see? Visit the ' +\n",
       "            '<a target=\"_blank\" href=https://colab.research.google.com/notebooks/data_table.ipynb>data table notebook</a>'\n",
       "            + ' to learn more about interactive tables.';\n",
       "          element.innerHTML = '';\n",
       "          dataTable['output_type'] = 'display_data';\n",
       "          await google.colab.output.renderOutput(dataTable, element);\n",
       "          const docLink = document.createElement('div');\n",
       "          docLink.innerHTML = docLinkHtml;\n",
       "          element.appendChild(docLink);\n",
       "        }\n",
       "      </script>\n",
       "    </div>\n",
       "  </div>\n",
       "  "
      ],
      "text/plain": [
       "                 count  users_%  number_in_churn  churn_%\n",
       "age_groups                                               \n",
       "молодой возраст     68    20.86               44    64.71\n",
       "пожилой возраст     23     7.06               19    82.61\n",
       "средний возраст    235    72.09              217    92.34"
      ]
     },
     "execution_count": 36,
     "metadata": {},
     "output_type": "execute_result"
    }
   ],
   "source": [
    "age_products_several = pivot(df_products_several, 'age_groups')\n",
    "age_products_several"
   ]
  },
  {
   "cell_type": "markdown",
   "metadata": {
    "id": "x41LCBkKZigK"
   },
   "source": [
    "В данной группе по доле клиентов значительно выделяются клиенты среднего возраста, их доля составляет 72.09% и у них же максимальный отток 92.34%"
   ]
  },
  {
   "cell_type": "markdown",
   "metadata": {
    "id": "wyRg3vLQZigL"
   },
   "source": [
    "Для более наглядного сравнения групп напишем функцию, которая будет строить круговые диаграммы: "
   ]
  },
  {
   "cell_type": "code",
   "execution_count": 37,
   "metadata": {
    "id": "4qU9tvFfZigL"
   },
   "outputs": [],
   "source": [
    "def pie(table_1, table_2, table_3, name_group):\n",
    "    fig = make_subplots(rows=1, cols=3, specs=[[{\"type\": \"pie\"}, {\"type\": \"pie\"}, {\"type\": \"pie\"}]],\n",
    "                subplot_titles=['','Соотношение пользователей по '+ str(name_group) +' в зависимости от числа продуктов'])\n",
    "    fig.add_trace(go.Pie(labels=table_1.index, values=table_1['users_%'], title='1 продукт'), row=1, col=1)\n",
    "    fig.add_trace(go.Pie(labels=table_2.index, values=table_2['users_%'], title='2 продукта'), row=1, col=2)\n",
    "    fig.add_trace(go.Pie(labels=table_3.index, values=table_3['users_%'], title='3 и 4 продукта'), row=1, col=3)\n",
    "    fig.show()"
   ]
  },
  {
   "cell_type": "markdown",
   "metadata": {
    "id": "Yhf-sDYxZigL"
   },
   "source": [
    "Применим функцию pie и выведем графики с долей пользователей по возрастным группам:"
   ]
  },
  {
   "cell_type": "code",
   "execution_count": 38,
   "metadata": {
    "colab": {
     "base_uri": "https://localhost:8080/",
     "height": 542
    },
    "id": "36pKB3TIZigL",
    "outputId": "821a3b84-f4f3-4a4a-acca-fd03d7c8c918"
   },
   "outputs": [
    {
     "data": {
      "text/html": [
       "<html>\n",
       "<head><meta charset=\"utf-8\" /></head>\n",
       "<body>\n",
       "    <div>            <script src=\"https://cdnjs.cloudflare.com/ajax/libs/mathjax/2.7.5/MathJax.js?config=TeX-AMS-MML_SVG\"></script><script type=\"text/javascript\">if (window.MathJax) {MathJax.Hub.Config({SVG: {font: \"STIX-Web\"}});}</script>                <script type=\"text/javascript\">window.PlotlyConfig = {MathJaxConfig: 'local'};</script>\n",
       "        <script src=\"https://cdn.plot.ly/plotly-2.8.3.min.js\"></script>                <div id=\"a25996ab-58f1-4cd8-afba-caf1b668ef62\" class=\"plotly-graph-div\" style=\"height:525px; width:100%;\"></div>            <script type=\"text/javascript\">                                    window.PLOTLYENV=window.PLOTLYENV || {};                                    if (document.getElementById(\"a25996ab-58f1-4cd8-afba-caf1b668ef62\")) {                    Plotly.newPlot(                        \"a25996ab-58f1-4cd8-afba-caf1b668ef62\",                        [{\"labels\":[\"\\u043c\\u043e\\u043b\\u043e\\u0434\\u043e\\u0439 \\u0432\\u043e\\u0437\\u0440\\u0430\\u0441\\u0442\",\"\\u043f\\u043e\\u0436\\u0438\\u043b\\u043e\\u0439 \\u0432\\u043e\\u0437\\u0440\\u0430\\u0441\\u0442\",\"\\u0441\\u0440\\u0435\\u0434\\u043d\\u0438\\u0439 \\u0432\\u043e\\u0437\\u0440\\u0430\\u0441\\u0442\"],\"title\":{\"text\":\"1 \\u043f\\u0440\\u043e\\u0434\\u0443\\u043a\\u0442\"},\"values\":[38.98505114083399,5.605822187254131,55.40912667191188],\"type\":\"pie\",\"domain\":{\"x\":[0.0,0.2888888888888889],\"y\":[0.0,1.0]}},{\"labels\":[\"\\u043c\\u043e\\u043b\\u043e\\u0434\\u043e\\u0439 \\u0432\\u043e\\u0437\\u0440\\u0430\\u0441\\u0442\",\"\\u043f\\u043e\\u0436\\u0438\\u043b\\u043e\\u0439 \\u0432\\u043e\\u0437\\u0440\\u0430\\u0441\\u0442\",\"\\u0441\\u0440\\u0435\\u0434\\u043d\\u0438\\u0439 \\u0432\\u043e\\u0437\\u0440\\u0430\\u0441\\u0442\"],\"title\":{\"text\":\"2 \\u043f\\u0440\\u043e\\u0434\\u0443\\u043a\\u0442\\u0430\"},\"values\":[45.81699346405229,4.749455337690632,49.43355119825708],\"type\":\"pie\",\"domain\":{\"x\":[0.35555555555555557,0.6444444444444445],\"y\":[0.0,1.0]}},{\"labels\":[\"\\u043c\\u043e\\u043b\\u043e\\u0434\\u043e\\u0439 \\u0432\\u043e\\u0437\\u0440\\u0430\\u0441\\u0442\",\"\\u043f\\u043e\\u0436\\u0438\\u043b\\u043e\\u0439 \\u0432\\u043e\\u0437\\u0440\\u0430\\u0441\\u0442\",\"\\u0441\\u0440\\u0435\\u0434\\u043d\\u0438\\u0439 \\u0432\\u043e\\u0437\\u0440\\u0430\\u0441\\u0442\"],\"title\":{\"text\":\"3 \\u0438 4 \\u043f\\u0440\\u043e\\u0434\\u0443\\u043a\\u0442\\u0430\"},\"values\":[20.858895705521473,7.05521472392638,72.08588957055214],\"type\":\"pie\",\"domain\":{\"x\":[0.7111111111111111,1.0],\"y\":[0.0,1.0]}}],                        {\"template\":{\"data\":{\"bar\":[{\"error_x\":{\"color\":\"#2a3f5f\"},\"error_y\":{\"color\":\"#2a3f5f\"},\"marker\":{\"line\":{\"color\":\"#E5ECF6\",\"width\":0.5},\"pattern\":{\"fillmode\":\"overlay\",\"size\":10,\"solidity\":0.2}},\"type\":\"bar\"}],\"barpolar\":[{\"marker\":{\"line\":{\"color\":\"#E5ECF6\",\"width\":0.5},\"pattern\":{\"fillmode\":\"overlay\",\"size\":10,\"solidity\":0.2}},\"type\":\"barpolar\"}],\"carpet\":[{\"aaxis\":{\"endlinecolor\":\"#2a3f5f\",\"gridcolor\":\"white\",\"linecolor\":\"white\",\"minorgridcolor\":\"white\",\"startlinecolor\":\"#2a3f5f\"},\"baxis\":{\"endlinecolor\":\"#2a3f5f\",\"gridcolor\":\"white\",\"linecolor\":\"white\",\"minorgridcolor\":\"white\",\"startlinecolor\":\"#2a3f5f\"},\"type\":\"carpet\"}],\"choropleth\":[{\"colorbar\":{\"outlinewidth\":0,\"ticks\":\"\"},\"type\":\"choropleth\"}],\"contour\":[{\"colorbar\":{\"outlinewidth\":0,\"ticks\":\"\"},\"colorscale\":[[0.0,\"#0d0887\"],[0.1111111111111111,\"#46039f\"],[0.2222222222222222,\"#7201a8\"],[0.3333333333333333,\"#9c179e\"],[0.4444444444444444,\"#bd3786\"],[0.5555555555555556,\"#d8576b\"],[0.6666666666666666,\"#ed7953\"],[0.7777777777777778,\"#fb9f3a\"],[0.8888888888888888,\"#fdca26\"],[1.0,\"#f0f921\"]],\"type\":\"contour\"}],\"contourcarpet\":[{\"colorbar\":{\"outlinewidth\":0,\"ticks\":\"\"},\"type\":\"contourcarpet\"}],\"heatmap\":[{\"colorbar\":{\"outlinewidth\":0,\"ticks\":\"\"},\"colorscale\":[[0.0,\"#0d0887\"],[0.1111111111111111,\"#46039f\"],[0.2222222222222222,\"#7201a8\"],[0.3333333333333333,\"#9c179e\"],[0.4444444444444444,\"#bd3786\"],[0.5555555555555556,\"#d8576b\"],[0.6666666666666666,\"#ed7953\"],[0.7777777777777778,\"#fb9f3a\"],[0.8888888888888888,\"#fdca26\"],[1.0,\"#f0f921\"]],\"type\":\"heatmap\"}],\"heatmapgl\":[{\"colorbar\":{\"outlinewidth\":0,\"ticks\":\"\"},\"colorscale\":[[0.0,\"#0d0887\"],[0.1111111111111111,\"#46039f\"],[0.2222222222222222,\"#7201a8\"],[0.3333333333333333,\"#9c179e\"],[0.4444444444444444,\"#bd3786\"],[0.5555555555555556,\"#d8576b\"],[0.6666666666666666,\"#ed7953\"],[0.7777777777777778,\"#fb9f3a\"],[0.8888888888888888,\"#fdca26\"],[1.0,\"#f0f921\"]],\"type\":\"heatmapgl\"}],\"histogram\":[{\"marker\":{\"pattern\":{\"fillmode\":\"overlay\",\"size\":10,\"solidity\":0.2}},\"type\":\"histogram\"}],\"histogram2d\":[{\"colorbar\":{\"outlinewidth\":0,\"ticks\":\"\"},\"colorscale\":[[0.0,\"#0d0887\"],[0.1111111111111111,\"#46039f\"],[0.2222222222222222,\"#7201a8\"],[0.3333333333333333,\"#9c179e\"],[0.4444444444444444,\"#bd3786\"],[0.5555555555555556,\"#d8576b\"],[0.6666666666666666,\"#ed7953\"],[0.7777777777777778,\"#fb9f3a\"],[0.8888888888888888,\"#fdca26\"],[1.0,\"#f0f921\"]],\"type\":\"histogram2d\"}],\"histogram2dcontour\":[{\"colorbar\":{\"outlinewidth\":0,\"ticks\":\"\"},\"colorscale\":[[0.0,\"#0d0887\"],[0.1111111111111111,\"#46039f\"],[0.2222222222222222,\"#7201a8\"],[0.3333333333333333,\"#9c179e\"],[0.4444444444444444,\"#bd3786\"],[0.5555555555555556,\"#d8576b\"],[0.6666666666666666,\"#ed7953\"],[0.7777777777777778,\"#fb9f3a\"],[0.8888888888888888,\"#fdca26\"],[1.0,\"#f0f921\"]],\"type\":\"histogram2dcontour\"}],\"mesh3d\":[{\"colorbar\":{\"outlinewidth\":0,\"ticks\":\"\"},\"type\":\"mesh3d\"}],\"parcoords\":[{\"line\":{\"colorbar\":{\"outlinewidth\":0,\"ticks\":\"\"}},\"type\":\"parcoords\"}],\"pie\":[{\"automargin\":true,\"type\":\"pie\"}],\"scatter\":[{\"marker\":{\"colorbar\":{\"outlinewidth\":0,\"ticks\":\"\"}},\"type\":\"scatter\"}],\"scatter3d\":[{\"line\":{\"colorbar\":{\"outlinewidth\":0,\"ticks\":\"\"}},\"marker\":{\"colorbar\":{\"outlinewidth\":0,\"ticks\":\"\"}},\"type\":\"scatter3d\"}],\"scattercarpet\":[{\"marker\":{\"colorbar\":{\"outlinewidth\":0,\"ticks\":\"\"}},\"type\":\"scattercarpet\"}],\"scattergeo\":[{\"marker\":{\"colorbar\":{\"outlinewidth\":0,\"ticks\":\"\"}},\"type\":\"scattergeo\"}],\"scattergl\":[{\"marker\":{\"colorbar\":{\"outlinewidth\":0,\"ticks\":\"\"}},\"type\":\"scattergl\"}],\"scattermapbox\":[{\"marker\":{\"colorbar\":{\"outlinewidth\":0,\"ticks\":\"\"}},\"type\":\"scattermapbox\"}],\"scatterpolar\":[{\"marker\":{\"colorbar\":{\"outlinewidth\":0,\"ticks\":\"\"}},\"type\":\"scatterpolar\"}],\"scatterpolargl\":[{\"marker\":{\"colorbar\":{\"outlinewidth\":0,\"ticks\":\"\"}},\"type\":\"scatterpolargl\"}],\"scatterternary\":[{\"marker\":{\"colorbar\":{\"outlinewidth\":0,\"ticks\":\"\"}},\"type\":\"scatterternary\"}],\"surface\":[{\"colorbar\":{\"outlinewidth\":0,\"ticks\":\"\"},\"colorscale\":[[0.0,\"#0d0887\"],[0.1111111111111111,\"#46039f\"],[0.2222222222222222,\"#7201a8\"],[0.3333333333333333,\"#9c179e\"],[0.4444444444444444,\"#bd3786\"],[0.5555555555555556,\"#d8576b\"],[0.6666666666666666,\"#ed7953\"],[0.7777777777777778,\"#fb9f3a\"],[0.8888888888888888,\"#fdca26\"],[1.0,\"#f0f921\"]],\"type\":\"surface\"}],\"table\":[{\"cells\":{\"fill\":{\"color\":\"#EBF0F8\"},\"line\":{\"color\":\"white\"}},\"header\":{\"fill\":{\"color\":\"#C8D4E3\"},\"line\":{\"color\":\"white\"}},\"type\":\"table\"}]},\"layout\":{\"annotationdefaults\":{\"arrowcolor\":\"#2a3f5f\",\"arrowhead\":0,\"arrowwidth\":1},\"autotypenumbers\":\"strict\",\"coloraxis\":{\"colorbar\":{\"outlinewidth\":0,\"ticks\":\"\"}},\"colorscale\":{\"diverging\":[[0,\"#8e0152\"],[0.1,\"#c51b7d\"],[0.2,\"#de77ae\"],[0.3,\"#f1b6da\"],[0.4,\"#fde0ef\"],[0.5,\"#f7f7f7\"],[0.6,\"#e6f5d0\"],[0.7,\"#b8e186\"],[0.8,\"#7fbc41\"],[0.9,\"#4d9221\"],[1,\"#276419\"]],\"sequential\":[[0.0,\"#0d0887\"],[0.1111111111111111,\"#46039f\"],[0.2222222222222222,\"#7201a8\"],[0.3333333333333333,\"#9c179e\"],[0.4444444444444444,\"#bd3786\"],[0.5555555555555556,\"#d8576b\"],[0.6666666666666666,\"#ed7953\"],[0.7777777777777778,\"#fb9f3a\"],[0.8888888888888888,\"#fdca26\"],[1.0,\"#f0f921\"]],\"sequentialminus\":[[0.0,\"#0d0887\"],[0.1111111111111111,\"#46039f\"],[0.2222222222222222,\"#7201a8\"],[0.3333333333333333,\"#9c179e\"],[0.4444444444444444,\"#bd3786\"],[0.5555555555555556,\"#d8576b\"],[0.6666666666666666,\"#ed7953\"],[0.7777777777777778,\"#fb9f3a\"],[0.8888888888888888,\"#fdca26\"],[1.0,\"#f0f921\"]]},\"colorway\":[\"#636efa\",\"#EF553B\",\"#00cc96\",\"#ab63fa\",\"#FFA15A\",\"#19d3f3\",\"#FF6692\",\"#B6E880\",\"#FF97FF\",\"#FECB52\"],\"font\":{\"color\":\"#2a3f5f\"},\"geo\":{\"bgcolor\":\"white\",\"lakecolor\":\"white\",\"landcolor\":\"#E5ECF6\",\"showlakes\":true,\"showland\":true,\"subunitcolor\":\"white\"},\"hoverlabel\":{\"align\":\"left\"},\"hovermode\":\"closest\",\"mapbox\":{\"style\":\"light\"},\"paper_bgcolor\":\"white\",\"plot_bgcolor\":\"#E5ECF6\",\"polar\":{\"angularaxis\":{\"gridcolor\":\"white\",\"linecolor\":\"white\",\"ticks\":\"\"},\"bgcolor\":\"#E5ECF6\",\"radialaxis\":{\"gridcolor\":\"white\",\"linecolor\":\"white\",\"ticks\":\"\"}},\"scene\":{\"xaxis\":{\"backgroundcolor\":\"#E5ECF6\",\"gridcolor\":\"white\",\"gridwidth\":2,\"linecolor\":\"white\",\"showbackground\":true,\"ticks\":\"\",\"zerolinecolor\":\"white\"},\"yaxis\":{\"backgroundcolor\":\"#E5ECF6\",\"gridcolor\":\"white\",\"gridwidth\":2,\"linecolor\":\"white\",\"showbackground\":true,\"ticks\":\"\",\"zerolinecolor\":\"white\"},\"zaxis\":{\"backgroundcolor\":\"#E5ECF6\",\"gridcolor\":\"white\",\"gridwidth\":2,\"linecolor\":\"white\",\"showbackground\":true,\"ticks\":\"\",\"zerolinecolor\":\"white\"}},\"shapedefaults\":{\"line\":{\"color\":\"#2a3f5f\"}},\"ternary\":{\"aaxis\":{\"gridcolor\":\"white\",\"linecolor\":\"white\",\"ticks\":\"\"},\"baxis\":{\"gridcolor\":\"white\",\"linecolor\":\"white\",\"ticks\":\"\"},\"bgcolor\":\"#E5ECF6\",\"caxis\":{\"gridcolor\":\"white\",\"linecolor\":\"white\",\"ticks\":\"\"}},\"title\":{\"x\":0.05},\"xaxis\":{\"automargin\":true,\"gridcolor\":\"white\",\"linecolor\":\"white\",\"ticks\":\"\",\"title\":{\"standoff\":15},\"zerolinecolor\":\"white\",\"zerolinewidth\":2},\"yaxis\":{\"automargin\":true,\"gridcolor\":\"white\",\"linecolor\":\"white\",\"ticks\":\"\",\"title\":{\"standoff\":15},\"zerolinecolor\":\"white\",\"zerolinewidth\":2}}},\"annotations\":[{\"font\":{\"size\":16},\"showarrow\":false,\"text\":\"\\u0421\\u043e\\u043e\\u0442\\u043d\\u043e\\u0448\\u0435\\u043d\\u0438\\u0435 \\u043f\\u043e\\u043b\\u044c\\u0437\\u043e\\u0432\\u0430\\u0442\\u0435\\u043b\\u0435\\u0439 \\u043f\\u043e \\u0432\\u043e\\u0437\\u0440\\u0430\\u0441\\u0442\\u043d\\u044b\\u043c \\u0433\\u0440\\u0443\\u043f\\u043f\\u0430\\u043c \\u0432 \\u0437\\u0430\\u0432\\u0438\\u0441\\u0438\\u043c\\u043e\\u0441\\u0442\\u0438 \\u043e\\u0442 \\u0447\\u0438\\u0441\\u043b\\u0430 \\u043f\\u0440\\u043e\\u0434\\u0443\\u043a\\u0442\\u043e\\u0432\",\"x\":0.5,\"xanchor\":\"center\",\"xref\":\"paper\",\"y\":1.0,\"yanchor\":\"bottom\",\"yref\":\"paper\"}]},                        {\"responsive\": true}                    ).then(function(){\n",
       "                            \n",
       "var gd = document.getElementById('a25996ab-58f1-4cd8-afba-caf1b668ef62');\n",
       "var x = new MutationObserver(function (mutations, observer) {{\n",
       "        var display = window.getComputedStyle(gd).display;\n",
       "        if (!display || display === 'none') {{\n",
       "            console.log([gd, 'removed!']);\n",
       "            Plotly.purge(gd);\n",
       "            observer.disconnect();\n",
       "        }}\n",
       "}});\n",
       "\n",
       "// Listen for the removal of the full notebook cells\n",
       "var notebookContainer = gd.closest('#notebook-container');\n",
       "if (notebookContainer) {{\n",
       "    x.observe(notebookContainer, {childList: true});\n",
       "}}\n",
       "\n",
       "// Listen for the clearing of the current output cell\n",
       "var outputEl = gd.closest('.output');\n",
       "if (outputEl) {{\n",
       "    x.observe(outputEl, {childList: true});\n",
       "}}\n",
       "\n",
       "                        })                };                            </script>        </div>\n",
       "</body>\n",
       "</html>"
      ]
     },
     "metadata": {},
     "output_type": "display_data"
    }
   ],
   "source": [
    "pie(age_product_one,age_products_two, age_products_several,'возрастным группам')"
   ]
  },
  {
   "cell_type": "markdown",
   "metadata": {
    "id": "9L3r6PlNZigL"
   },
   "source": [
    "<a name=\"3.2\"><h3>3.2 Cоотношение клиентов по городам</h3></a>"
   ]
  },
  {
   "cell_type": "markdown",
   "metadata": {
    "id": "BWS9yUvoZigL"
   },
   "source": [
    "Посмотрим на количество и долю клиентов в зависимости от города:"
   ]
  },
  {
   "cell_type": "code",
   "execution_count": 39,
   "metadata": {
    "colab": {
     "base_uri": "https://localhost:8080/",
     "height": 175
    },
    "id": "d4BxIO5DZigM",
    "outputId": "f847bad2-7128-433d-a4ee-a1d604d2ae24"
   },
   "outputs": [
    {
     "data": {
      "text/html": [
       "\n",
       "  <div id=\"df-7a4fe54b-6655-46ad-af91-15fc2d056a06\">\n",
       "    <div class=\"colab-df-container\">\n",
       "      <div>\n",
       "<style scoped>\n",
       "    .dataframe tbody tr th:only-of-type {\n",
       "        vertical-align: middle;\n",
       "    }\n",
       "\n",
       "    .dataframe tbody tr th {\n",
       "        vertical-align: top;\n",
       "    }\n",
       "\n",
       "    .dataframe thead th {\n",
       "        text-align: right;\n",
       "    }\n",
       "</style>\n",
       "<table border=\"1\" class=\"dataframe\">\n",
       "  <thead>\n",
       "    <tr style=\"text-align: right;\">\n",
       "      <th></th>\n",
       "      <th>count</th>\n",
       "      <th>users_%</th>\n",
       "      <th>number_in_churn</th>\n",
       "      <th>churn_%</th>\n",
       "    </tr>\n",
       "    <tr>\n",
       "      <th>city</th>\n",
       "      <th></th>\n",
       "      <th></th>\n",
       "      <th></th>\n",
       "      <th></th>\n",
       "    </tr>\n",
       "  </thead>\n",
       "  <tbody>\n",
       "    <tr>\n",
       "      <th>Ростов Великий</th>\n",
       "      <td>1349</td>\n",
       "      <td>26.53</td>\n",
       "      <td>578</td>\n",
       "      <td>42.85</td>\n",
       "    </tr>\n",
       "    <tr>\n",
       "      <th>Рыбинск</th>\n",
       "      <td>1221</td>\n",
       "      <td>24.02</td>\n",
       "      <td>267</td>\n",
       "      <td>21.87</td>\n",
       "    </tr>\n",
       "    <tr>\n",
       "      <th>Ярославль</th>\n",
       "      <td>2514</td>\n",
       "      <td>49.45</td>\n",
       "      <td>564</td>\n",
       "      <td>22.43</td>\n",
       "    </tr>\n",
       "  </tbody>\n",
       "</table>\n",
       "</div>\n",
       "      <button class=\"colab-df-convert\" onclick=\"convertToInteractive('df-7a4fe54b-6655-46ad-af91-15fc2d056a06')\"\n",
       "              title=\"Convert this dataframe to an interactive table.\"\n",
       "              style=\"display:none;\">\n",
       "        \n",
       "  <svg xmlns=\"http://www.w3.org/2000/svg\" height=\"24px\"viewBox=\"0 0 24 24\"\n",
       "       width=\"24px\">\n",
       "    <path d=\"M0 0h24v24H0V0z\" fill=\"none\"/>\n",
       "    <path d=\"M18.56 5.44l.94 2.06.94-2.06 2.06-.94-2.06-.94-.94-2.06-.94 2.06-2.06.94zm-11 1L8.5 8.5l.94-2.06 2.06-.94-2.06-.94L8.5 2.5l-.94 2.06-2.06.94zm10 10l.94 2.06.94-2.06 2.06-.94-2.06-.94-.94-2.06-.94 2.06-2.06.94z\"/><path d=\"M17.41 7.96l-1.37-1.37c-.4-.4-.92-.59-1.43-.59-.52 0-1.04.2-1.43.59L10.3 9.45l-7.72 7.72c-.78.78-.78 2.05 0 2.83L4 21.41c.39.39.9.59 1.41.59.51 0 1.02-.2 1.41-.59l7.78-7.78 2.81-2.81c.8-.78.8-2.07 0-2.86zM5.41 20L4 18.59l7.72-7.72 1.47 1.35L5.41 20z\"/>\n",
       "  </svg>\n",
       "      </button>\n",
       "      \n",
       "  <style>\n",
       "    .colab-df-container {\n",
       "      display:flex;\n",
       "      flex-wrap:wrap;\n",
       "      gap: 12px;\n",
       "    }\n",
       "\n",
       "    .colab-df-convert {\n",
       "      background-color: #E8F0FE;\n",
       "      border: none;\n",
       "      border-radius: 50%;\n",
       "      cursor: pointer;\n",
       "      display: none;\n",
       "      fill: #1967D2;\n",
       "      height: 32px;\n",
       "      padding: 0 0 0 0;\n",
       "      width: 32px;\n",
       "    }\n",
       "\n",
       "    .colab-df-convert:hover {\n",
       "      background-color: #E2EBFA;\n",
       "      box-shadow: 0px 1px 2px rgba(60, 64, 67, 0.3), 0px 1px 3px 1px rgba(60, 64, 67, 0.15);\n",
       "      fill: #174EA6;\n",
       "    }\n",
       "\n",
       "    [theme=dark] .colab-df-convert {\n",
       "      background-color: #3B4455;\n",
       "      fill: #D2E3FC;\n",
       "    }\n",
       "\n",
       "    [theme=dark] .colab-df-convert:hover {\n",
       "      background-color: #434B5C;\n",
       "      box-shadow: 0px 1px 3px 1px rgba(0, 0, 0, 0.15);\n",
       "      filter: drop-shadow(0px 1px 2px rgba(0, 0, 0, 0.3));\n",
       "      fill: #FFFFFF;\n",
       "    }\n",
       "  </style>\n",
       "\n",
       "      <script>\n",
       "        const buttonEl =\n",
       "          document.querySelector('#df-7a4fe54b-6655-46ad-af91-15fc2d056a06 button.colab-df-convert');\n",
       "        buttonEl.style.display =\n",
       "          google.colab.kernel.accessAllowed ? 'block' : 'none';\n",
       "\n",
       "        async function convertToInteractive(key) {\n",
       "          const element = document.querySelector('#df-7a4fe54b-6655-46ad-af91-15fc2d056a06');\n",
       "          const dataTable =\n",
       "            await google.colab.kernel.invokeFunction('convertToInteractive',\n",
       "                                                     [key], {});\n",
       "          if (!dataTable) return;\n",
       "\n",
       "          const docLinkHtml = 'Like what you see? Visit the ' +\n",
       "            '<a target=\"_blank\" href=https://colab.research.google.com/notebooks/data_table.ipynb>data table notebook</a>'\n",
       "            + ' to learn more about interactive tables.';\n",
       "          element.innerHTML = '';\n",
       "          dataTable['output_type'] = 'display_data';\n",
       "          await google.colab.output.renderOutput(dataTable, element);\n",
       "          const docLink = document.createElement('div');\n",
       "          docLink.innerHTML = docLinkHtml;\n",
       "          element.appendChild(docLink);\n",
       "        }\n",
       "      </script>\n",
       "    </div>\n",
       "  </div>\n",
       "  "
      ],
      "text/plain": [
       "                count  users_%  number_in_churn  churn_%\n",
       "city                                                    \n",
       "Ростов Великий   1349    26.53              578    42.85\n",
       "Рыбинск          1221    24.02              267    21.87\n",
       "Ярославль        2514    49.45              564    22.43"
      ]
     },
     "execution_count": 39,
     "metadata": {},
     "output_type": "execute_result"
    }
   ],
   "source": [
    "city_product_one = pivot(df_product_one, 'city')\n",
    "city_product_one"
   ]
  },
  {
   "cell_type": "markdown",
   "metadata": {
    "id": "kvEJAhaYZigM"
   },
   "source": [
    "Половина клиентов с 1 продуктом из Ярославля, в Ростове 26.53% клиентов, а в Рыбинске на 2.5% меньше клиентов. Чаще уходят клиенты из Ростова."
   ]
  },
  {
   "cell_type": "code",
   "execution_count": 40,
   "metadata": {
    "colab": {
     "base_uri": "https://localhost:8080/",
     "height": 175
    },
    "id": "MYQwS01gZigM",
    "outputId": "803dfda6-3873-4731-fb16-35e50edbe7f9"
   },
   "outputs": [
    {
     "data": {
      "text/html": [
       "\n",
       "  <div id=\"df-56dc3a49-2d84-4c11-a8d7-2d032686b0c8\">\n",
       "    <div class=\"colab-df-container\">\n",
       "      <div>\n",
       "<style scoped>\n",
       "    .dataframe tbody tr th:only-of-type {\n",
       "        vertical-align: middle;\n",
       "    }\n",
       "\n",
       "    .dataframe tbody tr th {\n",
       "        vertical-align: top;\n",
       "    }\n",
       "\n",
       "    .dataframe thead th {\n",
       "        text-align: right;\n",
       "    }\n",
       "</style>\n",
       "<table border=\"1\" class=\"dataframe\">\n",
       "  <thead>\n",
       "    <tr style=\"text-align: right;\">\n",
       "      <th></th>\n",
       "      <th>count</th>\n",
       "      <th>users_%</th>\n",
       "      <th>number_in_churn</th>\n",
       "      <th>churn_%</th>\n",
       "    </tr>\n",
       "    <tr>\n",
       "      <th>city</th>\n",
       "      <th></th>\n",
       "      <th></th>\n",
       "      <th></th>\n",
       "      <th></th>\n",
       "    </tr>\n",
       "  </thead>\n",
       "  <tbody>\n",
       "    <tr>\n",
       "      <th>Ростов Великий</th>\n",
       "      <td>1040</td>\n",
       "      <td>22.66</td>\n",
       "      <td>126</td>\n",
       "      <td>12.12</td>\n",
       "    </tr>\n",
       "    <tr>\n",
       "      <th>Рыбинск</th>\n",
       "      <td>1183</td>\n",
       "      <td>25.77</td>\n",
       "      <td>87</td>\n",
       "      <td>7.35</td>\n",
       "    </tr>\n",
       "    <tr>\n",
       "      <th>Ярославль</th>\n",
       "      <td>2367</td>\n",
       "      <td>51.57</td>\n",
       "      <td>135</td>\n",
       "      <td>5.70</td>\n",
       "    </tr>\n",
       "  </tbody>\n",
       "</table>\n",
       "</div>\n",
       "      <button class=\"colab-df-convert\" onclick=\"convertToInteractive('df-56dc3a49-2d84-4c11-a8d7-2d032686b0c8')\"\n",
       "              title=\"Convert this dataframe to an interactive table.\"\n",
       "              style=\"display:none;\">\n",
       "        \n",
       "  <svg xmlns=\"http://www.w3.org/2000/svg\" height=\"24px\"viewBox=\"0 0 24 24\"\n",
       "       width=\"24px\">\n",
       "    <path d=\"M0 0h24v24H0V0z\" fill=\"none\"/>\n",
       "    <path d=\"M18.56 5.44l.94 2.06.94-2.06 2.06-.94-2.06-.94-.94-2.06-.94 2.06-2.06.94zm-11 1L8.5 8.5l.94-2.06 2.06-.94-2.06-.94L8.5 2.5l-.94 2.06-2.06.94zm10 10l.94 2.06.94-2.06 2.06-.94-2.06-.94-.94-2.06-.94 2.06-2.06.94z\"/><path d=\"M17.41 7.96l-1.37-1.37c-.4-.4-.92-.59-1.43-.59-.52 0-1.04.2-1.43.59L10.3 9.45l-7.72 7.72c-.78.78-.78 2.05 0 2.83L4 21.41c.39.39.9.59 1.41.59.51 0 1.02-.2 1.41-.59l7.78-7.78 2.81-2.81c.8-.78.8-2.07 0-2.86zM5.41 20L4 18.59l7.72-7.72 1.47 1.35L5.41 20z\"/>\n",
       "  </svg>\n",
       "      </button>\n",
       "      \n",
       "  <style>\n",
       "    .colab-df-container {\n",
       "      display:flex;\n",
       "      flex-wrap:wrap;\n",
       "      gap: 12px;\n",
       "    }\n",
       "\n",
       "    .colab-df-convert {\n",
       "      background-color: #E8F0FE;\n",
       "      border: none;\n",
       "      border-radius: 50%;\n",
       "      cursor: pointer;\n",
       "      display: none;\n",
       "      fill: #1967D2;\n",
       "      height: 32px;\n",
       "      padding: 0 0 0 0;\n",
       "      width: 32px;\n",
       "    }\n",
       "\n",
       "    .colab-df-convert:hover {\n",
       "      background-color: #E2EBFA;\n",
       "      box-shadow: 0px 1px 2px rgba(60, 64, 67, 0.3), 0px 1px 3px 1px rgba(60, 64, 67, 0.15);\n",
       "      fill: #174EA6;\n",
       "    }\n",
       "\n",
       "    [theme=dark] .colab-df-convert {\n",
       "      background-color: #3B4455;\n",
       "      fill: #D2E3FC;\n",
       "    }\n",
       "\n",
       "    [theme=dark] .colab-df-convert:hover {\n",
       "      background-color: #434B5C;\n",
       "      box-shadow: 0px 1px 3px 1px rgba(0, 0, 0, 0.15);\n",
       "      filter: drop-shadow(0px 1px 2px rgba(0, 0, 0, 0.3));\n",
       "      fill: #FFFFFF;\n",
       "    }\n",
       "  </style>\n",
       "\n",
       "      <script>\n",
       "        const buttonEl =\n",
       "          document.querySelector('#df-56dc3a49-2d84-4c11-a8d7-2d032686b0c8 button.colab-df-convert');\n",
       "        buttonEl.style.display =\n",
       "          google.colab.kernel.accessAllowed ? 'block' : 'none';\n",
       "\n",
       "        async function convertToInteractive(key) {\n",
       "          const element = document.querySelector('#df-56dc3a49-2d84-4c11-a8d7-2d032686b0c8');\n",
       "          const dataTable =\n",
       "            await google.colab.kernel.invokeFunction('convertToInteractive',\n",
       "                                                     [key], {});\n",
       "          if (!dataTable) return;\n",
       "\n",
       "          const docLinkHtml = 'Like what you see? Visit the ' +\n",
       "            '<a target=\"_blank\" href=https://colab.research.google.com/notebooks/data_table.ipynb>data table notebook</a>'\n",
       "            + ' to learn more about interactive tables.';\n",
       "          element.innerHTML = '';\n",
       "          dataTable['output_type'] = 'display_data';\n",
       "          await google.colab.output.renderOutput(dataTable, element);\n",
       "          const docLink = document.createElement('div');\n",
       "          docLink.innerHTML = docLinkHtml;\n",
       "          element.appendChild(docLink);\n",
       "        }\n",
       "      </script>\n",
       "    </div>\n",
       "  </div>\n",
       "  "
      ],
      "text/plain": [
       "                count  users_%  number_in_churn  churn_%\n",
       "city                                                    \n",
       "Ростов Великий   1040    22.66              126    12.12\n",
       "Рыбинск          1183    25.77               87     7.35\n",
       "Ярославль        2367    51.57              135     5.70"
      ]
     },
     "execution_count": 40,
     "metadata": {},
     "output_type": "execute_result"
    }
   ],
   "source": [
    "city_products_two = pivot(df_products_two, 'city')\n",
    "city_products_two"
   ]
  },
  {
   "cell_type": "markdown",
   "metadata": {
    "id": "elkPzka8ZigM"
   },
   "source": [
    "Клиентов с 2 продуктами в Ярославля чуть больше половины - 51.57% и наименьшая доля клиентов из Ростова - 22.66%. ТОже большая доля оттока в Ростове."
   ]
  },
  {
   "cell_type": "code",
   "execution_count": 41,
   "metadata": {
    "colab": {
     "base_uri": "https://localhost:8080/",
     "height": 175
    },
    "id": "S8yOsNTvZigM",
    "outputId": "c1f7cd54-1387-472a-c0c2-1ba695035d0c"
   },
   "outputs": [
    {
     "data": {
      "text/html": [
       "\n",
       "  <div id=\"df-8dbdaef7-40b0-4217-9d3e-ada7fbdc6575\">\n",
       "    <div class=\"colab-df-container\">\n",
       "      <div>\n",
       "<style scoped>\n",
       "    .dataframe tbody tr th:only-of-type {\n",
       "        vertical-align: middle;\n",
       "    }\n",
       "\n",
       "    .dataframe tbody tr th {\n",
       "        vertical-align: top;\n",
       "    }\n",
       "\n",
       "    .dataframe thead th {\n",
       "        text-align: right;\n",
       "    }\n",
       "</style>\n",
       "<table border=\"1\" class=\"dataframe\">\n",
       "  <thead>\n",
       "    <tr style=\"text-align: right;\">\n",
       "      <th></th>\n",
       "      <th>count</th>\n",
       "      <th>users_%</th>\n",
       "      <th>number_in_churn</th>\n",
       "      <th>churn_%</th>\n",
       "    </tr>\n",
       "    <tr>\n",
       "      <th>city</th>\n",
       "      <th></th>\n",
       "      <th></th>\n",
       "      <th></th>\n",
       "      <th></th>\n",
       "    </tr>\n",
       "  </thead>\n",
       "  <tbody>\n",
       "    <tr>\n",
       "      <th>Ростов Великий</th>\n",
       "      <td>120</td>\n",
       "      <td>36.81</td>\n",
       "      <td>110</td>\n",
       "      <td>91.67</td>\n",
       "    </tr>\n",
       "    <tr>\n",
       "      <th>Рыбинск</th>\n",
       "      <td>73</td>\n",
       "      <td>22.39</td>\n",
       "      <td>59</td>\n",
       "      <td>80.82</td>\n",
       "    </tr>\n",
       "    <tr>\n",
       "      <th>Ярославль</th>\n",
       "      <td>133</td>\n",
       "      <td>40.80</td>\n",
       "      <td>111</td>\n",
       "      <td>83.46</td>\n",
       "    </tr>\n",
       "  </tbody>\n",
       "</table>\n",
       "</div>\n",
       "      <button class=\"colab-df-convert\" onclick=\"convertToInteractive('df-8dbdaef7-40b0-4217-9d3e-ada7fbdc6575')\"\n",
       "              title=\"Convert this dataframe to an interactive table.\"\n",
       "              style=\"display:none;\">\n",
       "        \n",
       "  <svg xmlns=\"http://www.w3.org/2000/svg\" height=\"24px\"viewBox=\"0 0 24 24\"\n",
       "       width=\"24px\">\n",
       "    <path d=\"M0 0h24v24H0V0z\" fill=\"none\"/>\n",
       "    <path d=\"M18.56 5.44l.94 2.06.94-2.06 2.06-.94-2.06-.94-.94-2.06-.94 2.06-2.06.94zm-11 1L8.5 8.5l.94-2.06 2.06-.94-2.06-.94L8.5 2.5l-.94 2.06-2.06.94zm10 10l.94 2.06.94-2.06 2.06-.94-2.06-.94-.94-2.06-.94 2.06-2.06.94z\"/><path d=\"M17.41 7.96l-1.37-1.37c-.4-.4-.92-.59-1.43-.59-.52 0-1.04.2-1.43.59L10.3 9.45l-7.72 7.72c-.78.78-.78 2.05 0 2.83L4 21.41c.39.39.9.59 1.41.59.51 0 1.02-.2 1.41-.59l7.78-7.78 2.81-2.81c.8-.78.8-2.07 0-2.86zM5.41 20L4 18.59l7.72-7.72 1.47 1.35L5.41 20z\"/>\n",
       "  </svg>\n",
       "      </button>\n",
       "      \n",
       "  <style>\n",
       "    .colab-df-container {\n",
       "      display:flex;\n",
       "      flex-wrap:wrap;\n",
       "      gap: 12px;\n",
       "    }\n",
       "\n",
       "    .colab-df-convert {\n",
       "      background-color: #E8F0FE;\n",
       "      border: none;\n",
       "      border-radius: 50%;\n",
       "      cursor: pointer;\n",
       "      display: none;\n",
       "      fill: #1967D2;\n",
       "      height: 32px;\n",
       "      padding: 0 0 0 0;\n",
       "      width: 32px;\n",
       "    }\n",
       "\n",
       "    .colab-df-convert:hover {\n",
       "      background-color: #E2EBFA;\n",
       "      box-shadow: 0px 1px 2px rgba(60, 64, 67, 0.3), 0px 1px 3px 1px rgba(60, 64, 67, 0.15);\n",
       "      fill: #174EA6;\n",
       "    }\n",
       "\n",
       "    [theme=dark] .colab-df-convert {\n",
       "      background-color: #3B4455;\n",
       "      fill: #D2E3FC;\n",
       "    }\n",
       "\n",
       "    [theme=dark] .colab-df-convert:hover {\n",
       "      background-color: #434B5C;\n",
       "      box-shadow: 0px 1px 3px 1px rgba(0, 0, 0, 0.15);\n",
       "      filter: drop-shadow(0px 1px 2px rgba(0, 0, 0, 0.3));\n",
       "      fill: #FFFFFF;\n",
       "    }\n",
       "  </style>\n",
       "\n",
       "      <script>\n",
       "        const buttonEl =\n",
       "          document.querySelector('#df-8dbdaef7-40b0-4217-9d3e-ada7fbdc6575 button.colab-df-convert');\n",
       "        buttonEl.style.display =\n",
       "          google.colab.kernel.accessAllowed ? 'block' : 'none';\n",
       "\n",
       "        async function convertToInteractive(key) {\n",
       "          const element = document.querySelector('#df-8dbdaef7-40b0-4217-9d3e-ada7fbdc6575');\n",
       "          const dataTable =\n",
       "            await google.colab.kernel.invokeFunction('convertToInteractive',\n",
       "                                                     [key], {});\n",
       "          if (!dataTable) return;\n",
       "\n",
       "          const docLinkHtml = 'Like what you see? Visit the ' +\n",
       "            '<a target=\"_blank\" href=https://colab.research.google.com/notebooks/data_table.ipynb>data table notebook</a>'\n",
       "            + ' to learn more about interactive tables.';\n",
       "          element.innerHTML = '';\n",
       "          dataTable['output_type'] = 'display_data';\n",
       "          await google.colab.output.renderOutput(dataTable, element);\n",
       "          const docLink = document.createElement('div');\n",
       "          docLink.innerHTML = docLinkHtml;\n",
       "          element.appendChild(docLink);\n",
       "        }\n",
       "      </script>\n",
       "    </div>\n",
       "  </div>\n",
       "  "
      ],
      "text/plain": [
       "                count  users_%  number_in_churn  churn_%\n",
       "city                                                    \n",
       "Ростов Великий    120    36.81              110    91.67\n",
       "Рыбинск            73    22.39               59    80.82\n",
       "Ярославль         133    40.80              111    83.46"
      ]
     },
     "execution_count": 41,
     "metadata": {},
     "output_type": "execute_result"
    }
   ],
   "source": [
    "city_products_several = pivot(df_products_several, 'city')\n",
    "city_products_several"
   ]
  },
  {
   "cell_type": "markdown",
   "metadata": {
    "id": "Yf6B-FQaZigM"
   },
   "source": [
    "Клиентов с 3 и 4 продуктами в Ярославе и Ростове почти поровну, в Ростове меньше всего на 4%. Отток в Ростове примерно на 10% выше, чем в других городах."
   ]
  },
  {
   "cell_type": "code",
   "execution_count": 42,
   "metadata": {
    "colab": {
     "base_uri": "https://localhost:8080/",
     "height": 542
    },
    "id": "eI2Sn0NEZigM",
    "outputId": "86b25b66-20a0-4e8e-f2b2-20ab464415cd"
   },
   "outputs": [
    {
     "data": {
      "text/html": [
       "<html>\n",
       "<head><meta charset=\"utf-8\" /></head>\n",
       "<body>\n",
       "    <div>            <script src=\"https://cdnjs.cloudflare.com/ajax/libs/mathjax/2.7.5/MathJax.js?config=TeX-AMS-MML_SVG\"></script><script type=\"text/javascript\">if (window.MathJax) {MathJax.Hub.Config({SVG: {font: \"STIX-Web\"}});}</script>                <script type=\"text/javascript\">window.PlotlyConfig = {MathJaxConfig: 'local'};</script>\n",
       "        <script src=\"https://cdn.plot.ly/plotly-2.8.3.min.js\"></script>                <div id=\"d0efee7e-adc2-41f6-96a9-e58649f630c3\" class=\"plotly-graph-div\" style=\"height:525px; width:100%;\"></div>            <script type=\"text/javascript\">                                    window.PLOTLYENV=window.PLOTLYENV || {};                                    if (document.getElementById(\"d0efee7e-adc2-41f6-96a9-e58649f630c3\")) {                    Plotly.newPlot(                        \"d0efee7e-adc2-41f6-96a9-e58649f630c3\",                        [{\"labels\":[\"\\u0420\\u043e\\u0441\\u0442\\u043e\\u0432 \\u0412\\u0435\\u043b\\u0438\\u043a\\u0438\\u0439\",\"\\u0420\\u044b\\u0431\\u0438\\u043d\\u0441\\u043a\",\"\\u042f\\u0440\\u043e\\u0441\\u043b\\u0430\\u0432\\u043b\\u044c\"],\"title\":{\"text\":\"1 \\u043f\\u0440\\u043e\\u0434\\u0443\\u043a\\u0442\"},\"values\":[26.53422501966955,24.016522423288748,49.4492525570417],\"type\":\"pie\",\"domain\":{\"x\":[0.0,0.2888888888888889],\"y\":[0.0,1.0]}},{\"labels\":[\"\\u0420\\u043e\\u0441\\u0442\\u043e\\u0432 \\u0412\\u0435\\u043b\\u0438\\u043a\\u0438\\u0439\",\"\\u0420\\u044b\\u0431\\u0438\\u043d\\u0441\\u043a\",\"\\u042f\\u0440\\u043e\\u0441\\u043b\\u0430\\u0432\\u043b\\u044c\"],\"title\":{\"text\":\"2 \\u043f\\u0440\\u043e\\u0434\\u0443\\u043a\\u0442\\u0430\"},\"values\":[22.657952069716774,25.773420479302832,51.5686274509804],\"type\":\"pie\",\"domain\":{\"x\":[0.35555555555555557,0.6444444444444445],\"y\":[0.0,1.0]}},{\"labels\":[\"\\u0420\\u043e\\u0441\\u0442\\u043e\\u0432 \\u0412\\u0435\\u043b\\u0438\\u043a\\u0438\\u0439\",\"\\u0420\\u044b\\u0431\\u0438\\u043d\\u0441\\u043a\",\"\\u042f\\u0440\\u043e\\u0441\\u043b\\u0430\\u0432\\u043b\\u044c\"],\"title\":{\"text\":\"3 \\u0438 4 \\u043f\\u0440\\u043e\\u0434\\u0443\\u043a\\u0442\\u0430\"},\"values\":[36.809815950920246,22.392638036809817,40.79754601226993],\"type\":\"pie\",\"domain\":{\"x\":[0.7111111111111111,1.0],\"y\":[0.0,1.0]}}],                        {\"template\":{\"data\":{\"bar\":[{\"error_x\":{\"color\":\"#2a3f5f\"},\"error_y\":{\"color\":\"#2a3f5f\"},\"marker\":{\"line\":{\"color\":\"#E5ECF6\",\"width\":0.5},\"pattern\":{\"fillmode\":\"overlay\",\"size\":10,\"solidity\":0.2}},\"type\":\"bar\"}],\"barpolar\":[{\"marker\":{\"line\":{\"color\":\"#E5ECF6\",\"width\":0.5},\"pattern\":{\"fillmode\":\"overlay\",\"size\":10,\"solidity\":0.2}},\"type\":\"barpolar\"}],\"carpet\":[{\"aaxis\":{\"endlinecolor\":\"#2a3f5f\",\"gridcolor\":\"white\",\"linecolor\":\"white\",\"minorgridcolor\":\"white\",\"startlinecolor\":\"#2a3f5f\"},\"baxis\":{\"endlinecolor\":\"#2a3f5f\",\"gridcolor\":\"white\",\"linecolor\":\"white\",\"minorgridcolor\":\"white\",\"startlinecolor\":\"#2a3f5f\"},\"type\":\"carpet\"}],\"choropleth\":[{\"colorbar\":{\"outlinewidth\":0,\"ticks\":\"\"},\"type\":\"choropleth\"}],\"contour\":[{\"colorbar\":{\"outlinewidth\":0,\"ticks\":\"\"},\"colorscale\":[[0.0,\"#0d0887\"],[0.1111111111111111,\"#46039f\"],[0.2222222222222222,\"#7201a8\"],[0.3333333333333333,\"#9c179e\"],[0.4444444444444444,\"#bd3786\"],[0.5555555555555556,\"#d8576b\"],[0.6666666666666666,\"#ed7953\"],[0.7777777777777778,\"#fb9f3a\"],[0.8888888888888888,\"#fdca26\"],[1.0,\"#f0f921\"]],\"type\":\"contour\"}],\"contourcarpet\":[{\"colorbar\":{\"outlinewidth\":0,\"ticks\":\"\"},\"type\":\"contourcarpet\"}],\"heatmap\":[{\"colorbar\":{\"outlinewidth\":0,\"ticks\":\"\"},\"colorscale\":[[0.0,\"#0d0887\"],[0.1111111111111111,\"#46039f\"],[0.2222222222222222,\"#7201a8\"],[0.3333333333333333,\"#9c179e\"],[0.4444444444444444,\"#bd3786\"],[0.5555555555555556,\"#d8576b\"],[0.6666666666666666,\"#ed7953\"],[0.7777777777777778,\"#fb9f3a\"],[0.8888888888888888,\"#fdca26\"],[1.0,\"#f0f921\"]],\"type\":\"heatmap\"}],\"heatmapgl\":[{\"colorbar\":{\"outlinewidth\":0,\"ticks\":\"\"},\"colorscale\":[[0.0,\"#0d0887\"],[0.1111111111111111,\"#46039f\"],[0.2222222222222222,\"#7201a8\"],[0.3333333333333333,\"#9c179e\"],[0.4444444444444444,\"#bd3786\"],[0.5555555555555556,\"#d8576b\"],[0.6666666666666666,\"#ed7953\"],[0.7777777777777778,\"#fb9f3a\"],[0.8888888888888888,\"#fdca26\"],[1.0,\"#f0f921\"]],\"type\":\"heatmapgl\"}],\"histogram\":[{\"marker\":{\"pattern\":{\"fillmode\":\"overlay\",\"size\":10,\"solidity\":0.2}},\"type\":\"histogram\"}],\"histogram2d\":[{\"colorbar\":{\"outlinewidth\":0,\"ticks\":\"\"},\"colorscale\":[[0.0,\"#0d0887\"],[0.1111111111111111,\"#46039f\"],[0.2222222222222222,\"#7201a8\"],[0.3333333333333333,\"#9c179e\"],[0.4444444444444444,\"#bd3786\"],[0.5555555555555556,\"#d8576b\"],[0.6666666666666666,\"#ed7953\"],[0.7777777777777778,\"#fb9f3a\"],[0.8888888888888888,\"#fdca26\"],[1.0,\"#f0f921\"]],\"type\":\"histogram2d\"}],\"histogram2dcontour\":[{\"colorbar\":{\"outlinewidth\":0,\"ticks\":\"\"},\"colorscale\":[[0.0,\"#0d0887\"],[0.1111111111111111,\"#46039f\"],[0.2222222222222222,\"#7201a8\"],[0.3333333333333333,\"#9c179e\"],[0.4444444444444444,\"#bd3786\"],[0.5555555555555556,\"#d8576b\"],[0.6666666666666666,\"#ed7953\"],[0.7777777777777778,\"#fb9f3a\"],[0.8888888888888888,\"#fdca26\"],[1.0,\"#f0f921\"]],\"type\":\"histogram2dcontour\"}],\"mesh3d\":[{\"colorbar\":{\"outlinewidth\":0,\"ticks\":\"\"},\"type\":\"mesh3d\"}],\"parcoords\":[{\"line\":{\"colorbar\":{\"outlinewidth\":0,\"ticks\":\"\"}},\"type\":\"parcoords\"}],\"pie\":[{\"automargin\":true,\"type\":\"pie\"}],\"scatter\":[{\"marker\":{\"colorbar\":{\"outlinewidth\":0,\"ticks\":\"\"}},\"type\":\"scatter\"}],\"scatter3d\":[{\"line\":{\"colorbar\":{\"outlinewidth\":0,\"ticks\":\"\"}},\"marker\":{\"colorbar\":{\"outlinewidth\":0,\"ticks\":\"\"}},\"type\":\"scatter3d\"}],\"scattercarpet\":[{\"marker\":{\"colorbar\":{\"outlinewidth\":0,\"ticks\":\"\"}},\"type\":\"scattercarpet\"}],\"scattergeo\":[{\"marker\":{\"colorbar\":{\"outlinewidth\":0,\"ticks\":\"\"}},\"type\":\"scattergeo\"}],\"scattergl\":[{\"marker\":{\"colorbar\":{\"outlinewidth\":0,\"ticks\":\"\"}},\"type\":\"scattergl\"}],\"scattermapbox\":[{\"marker\":{\"colorbar\":{\"outlinewidth\":0,\"ticks\":\"\"}},\"type\":\"scattermapbox\"}],\"scatterpolar\":[{\"marker\":{\"colorbar\":{\"outlinewidth\":0,\"ticks\":\"\"}},\"type\":\"scatterpolar\"}],\"scatterpolargl\":[{\"marker\":{\"colorbar\":{\"outlinewidth\":0,\"ticks\":\"\"}},\"type\":\"scatterpolargl\"}],\"scatterternary\":[{\"marker\":{\"colorbar\":{\"outlinewidth\":0,\"ticks\":\"\"}},\"type\":\"scatterternary\"}],\"surface\":[{\"colorbar\":{\"outlinewidth\":0,\"ticks\":\"\"},\"colorscale\":[[0.0,\"#0d0887\"],[0.1111111111111111,\"#46039f\"],[0.2222222222222222,\"#7201a8\"],[0.3333333333333333,\"#9c179e\"],[0.4444444444444444,\"#bd3786\"],[0.5555555555555556,\"#d8576b\"],[0.6666666666666666,\"#ed7953\"],[0.7777777777777778,\"#fb9f3a\"],[0.8888888888888888,\"#fdca26\"],[1.0,\"#f0f921\"]],\"type\":\"surface\"}],\"table\":[{\"cells\":{\"fill\":{\"color\":\"#EBF0F8\"},\"line\":{\"color\":\"white\"}},\"header\":{\"fill\":{\"color\":\"#C8D4E3\"},\"line\":{\"color\":\"white\"}},\"type\":\"table\"}]},\"layout\":{\"annotationdefaults\":{\"arrowcolor\":\"#2a3f5f\",\"arrowhead\":0,\"arrowwidth\":1},\"autotypenumbers\":\"strict\",\"coloraxis\":{\"colorbar\":{\"outlinewidth\":0,\"ticks\":\"\"}},\"colorscale\":{\"diverging\":[[0,\"#8e0152\"],[0.1,\"#c51b7d\"],[0.2,\"#de77ae\"],[0.3,\"#f1b6da\"],[0.4,\"#fde0ef\"],[0.5,\"#f7f7f7\"],[0.6,\"#e6f5d0\"],[0.7,\"#b8e186\"],[0.8,\"#7fbc41\"],[0.9,\"#4d9221\"],[1,\"#276419\"]],\"sequential\":[[0.0,\"#0d0887\"],[0.1111111111111111,\"#46039f\"],[0.2222222222222222,\"#7201a8\"],[0.3333333333333333,\"#9c179e\"],[0.4444444444444444,\"#bd3786\"],[0.5555555555555556,\"#d8576b\"],[0.6666666666666666,\"#ed7953\"],[0.7777777777777778,\"#fb9f3a\"],[0.8888888888888888,\"#fdca26\"],[1.0,\"#f0f921\"]],\"sequentialminus\":[[0.0,\"#0d0887\"],[0.1111111111111111,\"#46039f\"],[0.2222222222222222,\"#7201a8\"],[0.3333333333333333,\"#9c179e\"],[0.4444444444444444,\"#bd3786\"],[0.5555555555555556,\"#d8576b\"],[0.6666666666666666,\"#ed7953\"],[0.7777777777777778,\"#fb9f3a\"],[0.8888888888888888,\"#fdca26\"],[1.0,\"#f0f921\"]]},\"colorway\":[\"#636efa\",\"#EF553B\",\"#00cc96\",\"#ab63fa\",\"#FFA15A\",\"#19d3f3\",\"#FF6692\",\"#B6E880\",\"#FF97FF\",\"#FECB52\"],\"font\":{\"color\":\"#2a3f5f\"},\"geo\":{\"bgcolor\":\"white\",\"lakecolor\":\"white\",\"landcolor\":\"#E5ECF6\",\"showlakes\":true,\"showland\":true,\"subunitcolor\":\"white\"},\"hoverlabel\":{\"align\":\"left\"},\"hovermode\":\"closest\",\"mapbox\":{\"style\":\"light\"},\"paper_bgcolor\":\"white\",\"plot_bgcolor\":\"#E5ECF6\",\"polar\":{\"angularaxis\":{\"gridcolor\":\"white\",\"linecolor\":\"white\",\"ticks\":\"\"},\"bgcolor\":\"#E5ECF6\",\"radialaxis\":{\"gridcolor\":\"white\",\"linecolor\":\"white\",\"ticks\":\"\"}},\"scene\":{\"xaxis\":{\"backgroundcolor\":\"#E5ECF6\",\"gridcolor\":\"white\",\"gridwidth\":2,\"linecolor\":\"white\",\"showbackground\":true,\"ticks\":\"\",\"zerolinecolor\":\"white\"},\"yaxis\":{\"backgroundcolor\":\"#E5ECF6\",\"gridcolor\":\"white\",\"gridwidth\":2,\"linecolor\":\"white\",\"showbackground\":true,\"ticks\":\"\",\"zerolinecolor\":\"white\"},\"zaxis\":{\"backgroundcolor\":\"#E5ECF6\",\"gridcolor\":\"white\",\"gridwidth\":2,\"linecolor\":\"white\",\"showbackground\":true,\"ticks\":\"\",\"zerolinecolor\":\"white\"}},\"shapedefaults\":{\"line\":{\"color\":\"#2a3f5f\"}},\"ternary\":{\"aaxis\":{\"gridcolor\":\"white\",\"linecolor\":\"white\",\"ticks\":\"\"},\"baxis\":{\"gridcolor\":\"white\",\"linecolor\":\"white\",\"ticks\":\"\"},\"bgcolor\":\"#E5ECF6\",\"caxis\":{\"gridcolor\":\"white\",\"linecolor\":\"white\",\"ticks\":\"\"}},\"title\":{\"x\":0.05},\"xaxis\":{\"automargin\":true,\"gridcolor\":\"white\",\"linecolor\":\"white\",\"ticks\":\"\",\"title\":{\"standoff\":15},\"zerolinecolor\":\"white\",\"zerolinewidth\":2},\"yaxis\":{\"automargin\":true,\"gridcolor\":\"white\",\"linecolor\":\"white\",\"ticks\":\"\",\"title\":{\"standoff\":15},\"zerolinecolor\":\"white\",\"zerolinewidth\":2}}},\"annotations\":[{\"font\":{\"size\":16},\"showarrow\":false,\"text\":\"\\u0421\\u043e\\u043e\\u0442\\u043d\\u043e\\u0448\\u0435\\u043d\\u0438\\u0435 \\u043f\\u043e\\u043b\\u044c\\u0437\\u043e\\u0432\\u0430\\u0442\\u0435\\u043b\\u0435\\u0439 \\u043f\\u043e \\u0433\\u043e\\u0440\\u043e\\u0434\\u0430\\u043c \\u0432 \\u0437\\u0430\\u0432\\u0438\\u0441\\u0438\\u043c\\u043e\\u0441\\u0442\\u0438 \\u043e\\u0442 \\u0447\\u0438\\u0441\\u043b\\u0430 \\u043f\\u0440\\u043e\\u0434\\u0443\\u043a\\u0442\\u043e\\u0432\",\"x\":0.5,\"xanchor\":\"center\",\"xref\":\"paper\",\"y\":1.0,\"yanchor\":\"bottom\",\"yref\":\"paper\"}]},                        {\"responsive\": true}                    ).then(function(){\n",
       "                            \n",
       "var gd = document.getElementById('d0efee7e-adc2-41f6-96a9-e58649f630c3');\n",
       "var x = new MutationObserver(function (mutations, observer) {{\n",
       "        var display = window.getComputedStyle(gd).display;\n",
       "        if (!display || display === 'none') {{\n",
       "            console.log([gd, 'removed!']);\n",
       "            Plotly.purge(gd);\n",
       "            observer.disconnect();\n",
       "        }}\n",
       "}});\n",
       "\n",
       "// Listen for the removal of the full notebook cells\n",
       "var notebookContainer = gd.closest('#notebook-container');\n",
       "if (notebookContainer) {{\n",
       "    x.observe(notebookContainer, {childList: true});\n",
       "}}\n",
       "\n",
       "// Listen for the clearing of the current output cell\n",
       "var outputEl = gd.closest('.output');\n",
       "if (outputEl) {{\n",
       "    x.observe(outputEl, {childList: true});\n",
       "}}\n",
       "\n",
       "                        })                };                            </script>        </div>\n",
       "</body>\n",
       "</html>"
      ]
     },
     "metadata": {},
     "output_type": "display_data"
    }
   ],
   "source": [
    "pie(city_product_one, city_products_two, city_products_several,'городам')"
   ]
  },
  {
   "cell_type": "markdown",
   "metadata": {
    "id": "cMmRhV6-ZigN"
   },
   "source": [
    "<a name=\"3.3\"><h3>3.3 Соотношение клиентов по гендерным признакам</h3></a>"
   ]
  },
  {
   "cell_type": "markdown",
   "metadata": {
    "id": "p2nkEl5hZigN"
   },
   "source": [
    "Выведем сводные таблицы с разделением по гендерному признаку:"
   ]
  },
  {
   "cell_type": "code",
   "execution_count": 43,
   "metadata": {
    "colab": {
     "base_uri": "https://localhost:8080/",
     "height": 143
    },
    "id": "07Q1F4ckZigN",
    "outputId": "c0a579d4-c560-4512-b212-9ae60a14f5a8"
   },
   "outputs": [
    {
     "data": {
      "text/html": [
       "\n",
       "  <div id=\"df-033490de-eff6-4e78-9b8d-1886dbc5f694\">\n",
       "    <div class=\"colab-df-container\">\n",
       "      <div>\n",
       "<style scoped>\n",
       "    .dataframe tbody tr th:only-of-type {\n",
       "        vertical-align: middle;\n",
       "    }\n",
       "\n",
       "    .dataframe tbody tr th {\n",
       "        vertical-align: top;\n",
       "    }\n",
       "\n",
       "    .dataframe thead th {\n",
       "        text-align: right;\n",
       "    }\n",
       "</style>\n",
       "<table border=\"1\" class=\"dataframe\">\n",
       "  <thead>\n",
       "    <tr style=\"text-align: right;\">\n",
       "      <th></th>\n",
       "      <th>count</th>\n",
       "      <th>users_%</th>\n",
       "      <th>number_in_churn</th>\n",
       "      <th>churn_%</th>\n",
       "    </tr>\n",
       "    <tr>\n",
       "      <th>gender</th>\n",
       "      <th></th>\n",
       "      <th></th>\n",
       "      <th></th>\n",
       "      <th></th>\n",
       "    </tr>\n",
       "  </thead>\n",
       "  <tbody>\n",
       "    <tr>\n",
       "      <th>Ж</th>\n",
       "      <td>2296</td>\n",
       "      <td>45.16</td>\n",
       "      <td>762</td>\n",
       "      <td>33.19</td>\n",
       "    </tr>\n",
       "    <tr>\n",
       "      <th>М</th>\n",
       "      <td>2788</td>\n",
       "      <td>54.84</td>\n",
       "      <td>647</td>\n",
       "      <td>23.21</td>\n",
       "    </tr>\n",
       "  </tbody>\n",
       "</table>\n",
       "</div>\n",
       "      <button class=\"colab-df-convert\" onclick=\"convertToInteractive('df-033490de-eff6-4e78-9b8d-1886dbc5f694')\"\n",
       "              title=\"Convert this dataframe to an interactive table.\"\n",
       "              style=\"display:none;\">\n",
       "        \n",
       "  <svg xmlns=\"http://www.w3.org/2000/svg\" height=\"24px\"viewBox=\"0 0 24 24\"\n",
       "       width=\"24px\">\n",
       "    <path d=\"M0 0h24v24H0V0z\" fill=\"none\"/>\n",
       "    <path d=\"M18.56 5.44l.94 2.06.94-2.06 2.06-.94-2.06-.94-.94-2.06-.94 2.06-2.06.94zm-11 1L8.5 8.5l.94-2.06 2.06-.94-2.06-.94L8.5 2.5l-.94 2.06-2.06.94zm10 10l.94 2.06.94-2.06 2.06-.94-2.06-.94-.94-2.06-.94 2.06-2.06.94z\"/><path d=\"M17.41 7.96l-1.37-1.37c-.4-.4-.92-.59-1.43-.59-.52 0-1.04.2-1.43.59L10.3 9.45l-7.72 7.72c-.78.78-.78 2.05 0 2.83L4 21.41c.39.39.9.59 1.41.59.51 0 1.02-.2 1.41-.59l7.78-7.78 2.81-2.81c.8-.78.8-2.07 0-2.86zM5.41 20L4 18.59l7.72-7.72 1.47 1.35L5.41 20z\"/>\n",
       "  </svg>\n",
       "      </button>\n",
       "      \n",
       "  <style>\n",
       "    .colab-df-container {\n",
       "      display:flex;\n",
       "      flex-wrap:wrap;\n",
       "      gap: 12px;\n",
       "    }\n",
       "\n",
       "    .colab-df-convert {\n",
       "      background-color: #E8F0FE;\n",
       "      border: none;\n",
       "      border-radius: 50%;\n",
       "      cursor: pointer;\n",
       "      display: none;\n",
       "      fill: #1967D2;\n",
       "      height: 32px;\n",
       "      padding: 0 0 0 0;\n",
       "      width: 32px;\n",
       "    }\n",
       "\n",
       "    .colab-df-convert:hover {\n",
       "      background-color: #E2EBFA;\n",
       "      box-shadow: 0px 1px 2px rgba(60, 64, 67, 0.3), 0px 1px 3px 1px rgba(60, 64, 67, 0.15);\n",
       "      fill: #174EA6;\n",
       "    }\n",
       "\n",
       "    [theme=dark] .colab-df-convert {\n",
       "      background-color: #3B4455;\n",
       "      fill: #D2E3FC;\n",
       "    }\n",
       "\n",
       "    [theme=dark] .colab-df-convert:hover {\n",
       "      background-color: #434B5C;\n",
       "      box-shadow: 0px 1px 3px 1px rgba(0, 0, 0, 0.15);\n",
       "      filter: drop-shadow(0px 1px 2px rgba(0, 0, 0, 0.3));\n",
       "      fill: #FFFFFF;\n",
       "    }\n",
       "  </style>\n",
       "\n",
       "      <script>\n",
       "        const buttonEl =\n",
       "          document.querySelector('#df-033490de-eff6-4e78-9b8d-1886dbc5f694 button.colab-df-convert');\n",
       "        buttonEl.style.display =\n",
       "          google.colab.kernel.accessAllowed ? 'block' : 'none';\n",
       "\n",
       "        async function convertToInteractive(key) {\n",
       "          const element = document.querySelector('#df-033490de-eff6-4e78-9b8d-1886dbc5f694');\n",
       "          const dataTable =\n",
       "            await google.colab.kernel.invokeFunction('convertToInteractive',\n",
       "                                                     [key], {});\n",
       "          if (!dataTable) return;\n",
       "\n",
       "          const docLinkHtml = 'Like what you see? Visit the ' +\n",
       "            '<a target=\"_blank\" href=https://colab.research.google.com/notebooks/data_table.ipynb>data table notebook</a>'\n",
       "            + ' to learn more about interactive tables.';\n",
       "          element.innerHTML = '';\n",
       "          dataTable['output_type'] = 'display_data';\n",
       "          await google.colab.output.renderOutput(dataTable, element);\n",
       "          const docLink = document.createElement('div');\n",
       "          docLink.innerHTML = docLinkHtml;\n",
       "          element.appendChild(docLink);\n",
       "        }\n",
       "      </script>\n",
       "    </div>\n",
       "  </div>\n",
       "  "
      ],
      "text/plain": [
       "        count  users_%  number_in_churn  churn_%\n",
       "gender                                          \n",
       "Ж        2296    45.16              762    33.19\n",
       "М        2788    54.84              647    23.21"
      ]
     },
     "execution_count": 43,
     "metadata": {},
     "output_type": "execute_result"
    }
   ],
   "source": [
    "gender_product_one = pivot(df_product_one, 'gender')\n",
    "gender_product_one"
   ]
  },
  {
   "cell_type": "markdown",
   "metadata": {
    "id": "AkWnPOVeZigN"
   },
   "source": [
    "Большинство пользователей 1 продукта клиенты мужского пола, их доля составляет 54.84%, доля ушедших у женщин больше на 10%."
   ]
  },
  {
   "cell_type": "code",
   "execution_count": 44,
   "metadata": {
    "colab": {
     "base_uri": "https://localhost:8080/",
     "height": 143
    },
    "id": "5JxxdEtWZigN",
    "outputId": "5787a749-ecf7-4a09-f620-52c49d8c20c4"
   },
   "outputs": [
    {
     "data": {
      "text/html": [
       "\n",
       "  <div id=\"df-68381f21-f003-401a-a40c-aafd51b08601\">\n",
       "    <div class=\"colab-df-container\">\n",
       "      <div>\n",
       "<style scoped>\n",
       "    .dataframe tbody tr th:only-of-type {\n",
       "        vertical-align: middle;\n",
       "    }\n",
       "\n",
       "    .dataframe tbody tr th {\n",
       "        vertical-align: top;\n",
       "    }\n",
       "\n",
       "    .dataframe thead th {\n",
       "        text-align: right;\n",
       "    }\n",
       "</style>\n",
       "<table border=\"1\" class=\"dataframe\">\n",
       "  <thead>\n",
       "    <tr style=\"text-align: right;\">\n",
       "      <th></th>\n",
       "      <th>count</th>\n",
       "      <th>users_%</th>\n",
       "      <th>number_in_churn</th>\n",
       "      <th>churn_%</th>\n",
       "    </tr>\n",
       "    <tr>\n",
       "      <th>gender</th>\n",
       "      <th></th>\n",
       "      <th></th>\n",
       "      <th></th>\n",
       "      <th></th>\n",
       "    </tr>\n",
       "  </thead>\n",
       "  <tbody>\n",
       "    <tr>\n",
       "      <th>Ж</th>\n",
       "      <td>2060</td>\n",
       "      <td>44.88</td>\n",
       "      <td>210</td>\n",
       "      <td>10.19</td>\n",
       "    </tr>\n",
       "    <tr>\n",
       "      <th>М</th>\n",
       "      <td>2530</td>\n",
       "      <td>55.12</td>\n",
       "      <td>138</td>\n",
       "      <td>5.45</td>\n",
       "    </tr>\n",
       "  </tbody>\n",
       "</table>\n",
       "</div>\n",
       "      <button class=\"colab-df-convert\" onclick=\"convertToInteractive('df-68381f21-f003-401a-a40c-aafd51b08601')\"\n",
       "              title=\"Convert this dataframe to an interactive table.\"\n",
       "              style=\"display:none;\">\n",
       "        \n",
       "  <svg xmlns=\"http://www.w3.org/2000/svg\" height=\"24px\"viewBox=\"0 0 24 24\"\n",
       "       width=\"24px\">\n",
       "    <path d=\"M0 0h24v24H0V0z\" fill=\"none\"/>\n",
       "    <path d=\"M18.56 5.44l.94 2.06.94-2.06 2.06-.94-2.06-.94-.94-2.06-.94 2.06-2.06.94zm-11 1L8.5 8.5l.94-2.06 2.06-.94-2.06-.94L8.5 2.5l-.94 2.06-2.06.94zm10 10l.94 2.06.94-2.06 2.06-.94-2.06-.94-.94-2.06-.94 2.06-2.06.94z\"/><path d=\"M17.41 7.96l-1.37-1.37c-.4-.4-.92-.59-1.43-.59-.52 0-1.04.2-1.43.59L10.3 9.45l-7.72 7.72c-.78.78-.78 2.05 0 2.83L4 21.41c.39.39.9.59 1.41.59.51 0 1.02-.2 1.41-.59l7.78-7.78 2.81-2.81c.8-.78.8-2.07 0-2.86zM5.41 20L4 18.59l7.72-7.72 1.47 1.35L5.41 20z\"/>\n",
       "  </svg>\n",
       "      </button>\n",
       "      \n",
       "  <style>\n",
       "    .colab-df-container {\n",
       "      display:flex;\n",
       "      flex-wrap:wrap;\n",
       "      gap: 12px;\n",
       "    }\n",
       "\n",
       "    .colab-df-convert {\n",
       "      background-color: #E8F0FE;\n",
       "      border: none;\n",
       "      border-radius: 50%;\n",
       "      cursor: pointer;\n",
       "      display: none;\n",
       "      fill: #1967D2;\n",
       "      height: 32px;\n",
       "      padding: 0 0 0 0;\n",
       "      width: 32px;\n",
       "    }\n",
       "\n",
       "    .colab-df-convert:hover {\n",
       "      background-color: #E2EBFA;\n",
       "      box-shadow: 0px 1px 2px rgba(60, 64, 67, 0.3), 0px 1px 3px 1px rgba(60, 64, 67, 0.15);\n",
       "      fill: #174EA6;\n",
       "    }\n",
       "\n",
       "    [theme=dark] .colab-df-convert {\n",
       "      background-color: #3B4455;\n",
       "      fill: #D2E3FC;\n",
       "    }\n",
       "\n",
       "    [theme=dark] .colab-df-convert:hover {\n",
       "      background-color: #434B5C;\n",
       "      box-shadow: 0px 1px 3px 1px rgba(0, 0, 0, 0.15);\n",
       "      filter: drop-shadow(0px 1px 2px rgba(0, 0, 0, 0.3));\n",
       "      fill: #FFFFFF;\n",
       "    }\n",
       "  </style>\n",
       "\n",
       "      <script>\n",
       "        const buttonEl =\n",
       "          document.querySelector('#df-68381f21-f003-401a-a40c-aafd51b08601 button.colab-df-convert');\n",
       "        buttonEl.style.display =\n",
       "          google.colab.kernel.accessAllowed ? 'block' : 'none';\n",
       "\n",
       "        async function convertToInteractive(key) {\n",
       "          const element = document.querySelector('#df-68381f21-f003-401a-a40c-aafd51b08601');\n",
       "          const dataTable =\n",
       "            await google.colab.kernel.invokeFunction('convertToInteractive',\n",
       "                                                     [key], {});\n",
       "          if (!dataTable) return;\n",
       "\n",
       "          const docLinkHtml = 'Like what you see? Visit the ' +\n",
       "            '<a target=\"_blank\" href=https://colab.research.google.com/notebooks/data_table.ipynb>data table notebook</a>'\n",
       "            + ' to learn more about interactive tables.';\n",
       "          element.innerHTML = '';\n",
       "          dataTable['output_type'] = 'display_data';\n",
       "          await google.colab.output.renderOutput(dataTable, element);\n",
       "          const docLink = document.createElement('div');\n",
       "          docLink.innerHTML = docLinkHtml;\n",
       "          element.appendChild(docLink);\n",
       "        }\n",
       "      </script>\n",
       "    </div>\n",
       "  </div>\n",
       "  "
      ],
      "text/plain": [
       "        count  users_%  number_in_churn  churn_%\n",
       "gender                                          \n",
       "Ж        2060    44.88              210    10.19\n",
       "М        2530    55.12              138     5.45"
      ]
     },
     "execution_count": 44,
     "metadata": {},
     "output_type": "execute_result"
    }
   ],
   "source": [
    "gender_products_two = pivot(df_products_two, 'gender')\n",
    "gender_products_two"
   ]
  },
  {
   "cell_type": "markdown",
   "metadata": {
    "id": "9rSzSATMZigO"
   },
   "source": [
    "Для пользователей 2 продуктов соотношение такое же."
   ]
  },
  {
   "cell_type": "code",
   "execution_count": 45,
   "metadata": {
    "colab": {
     "base_uri": "https://localhost:8080/",
     "height": 143
    },
    "id": "eiseQLu7ZigO",
    "outputId": "43b2a967-0e4b-4203-b723-dbb4bd249638"
   },
   "outputs": [
    {
     "data": {
      "text/html": [
       "\n",
       "  <div id=\"df-38e6ffa8-7a47-4d71-b4fb-0a55deca8af0\">\n",
       "    <div class=\"colab-df-container\">\n",
       "      <div>\n",
       "<style scoped>\n",
       "    .dataframe tbody tr th:only-of-type {\n",
       "        vertical-align: middle;\n",
       "    }\n",
       "\n",
       "    .dataframe tbody tr th {\n",
       "        vertical-align: top;\n",
       "    }\n",
       "\n",
       "    .dataframe thead th {\n",
       "        text-align: right;\n",
       "    }\n",
       "</style>\n",
       "<table border=\"1\" class=\"dataframe\">\n",
       "  <thead>\n",
       "    <tr style=\"text-align: right;\">\n",
       "      <th></th>\n",
       "      <th>count</th>\n",
       "      <th>users_%</th>\n",
       "      <th>number_in_churn</th>\n",
       "      <th>churn_%</th>\n",
       "    </tr>\n",
       "    <tr>\n",
       "      <th>gender</th>\n",
       "      <th></th>\n",
       "      <th></th>\n",
       "      <th></th>\n",
       "      <th></th>\n",
       "    </tr>\n",
       "  </thead>\n",
       "  <tbody>\n",
       "    <tr>\n",
       "      <th>Ж</th>\n",
       "      <td>2296</td>\n",
       "      <td>45.16</td>\n",
       "      <td>762</td>\n",
       "      <td>33.19</td>\n",
       "    </tr>\n",
       "    <tr>\n",
       "      <th>М</th>\n",
       "      <td>2788</td>\n",
       "      <td>54.84</td>\n",
       "      <td>647</td>\n",
       "      <td>23.21</td>\n",
       "    </tr>\n",
       "  </tbody>\n",
       "</table>\n",
       "</div>\n",
       "      <button class=\"colab-df-convert\" onclick=\"convertToInteractive('df-38e6ffa8-7a47-4d71-b4fb-0a55deca8af0')\"\n",
       "              title=\"Convert this dataframe to an interactive table.\"\n",
       "              style=\"display:none;\">\n",
       "        \n",
       "  <svg xmlns=\"http://www.w3.org/2000/svg\" height=\"24px\"viewBox=\"0 0 24 24\"\n",
       "       width=\"24px\">\n",
       "    <path d=\"M0 0h24v24H0V0z\" fill=\"none\"/>\n",
       "    <path d=\"M18.56 5.44l.94 2.06.94-2.06 2.06-.94-2.06-.94-.94-2.06-.94 2.06-2.06.94zm-11 1L8.5 8.5l.94-2.06 2.06-.94-2.06-.94L8.5 2.5l-.94 2.06-2.06.94zm10 10l.94 2.06.94-2.06 2.06-.94-2.06-.94-.94-2.06-.94 2.06-2.06.94z\"/><path d=\"M17.41 7.96l-1.37-1.37c-.4-.4-.92-.59-1.43-.59-.52 0-1.04.2-1.43.59L10.3 9.45l-7.72 7.72c-.78.78-.78 2.05 0 2.83L4 21.41c.39.39.9.59 1.41.59.51 0 1.02-.2 1.41-.59l7.78-7.78 2.81-2.81c.8-.78.8-2.07 0-2.86zM5.41 20L4 18.59l7.72-7.72 1.47 1.35L5.41 20z\"/>\n",
       "  </svg>\n",
       "      </button>\n",
       "      \n",
       "  <style>\n",
       "    .colab-df-container {\n",
       "      display:flex;\n",
       "      flex-wrap:wrap;\n",
       "      gap: 12px;\n",
       "    }\n",
       "\n",
       "    .colab-df-convert {\n",
       "      background-color: #E8F0FE;\n",
       "      border: none;\n",
       "      border-radius: 50%;\n",
       "      cursor: pointer;\n",
       "      display: none;\n",
       "      fill: #1967D2;\n",
       "      height: 32px;\n",
       "      padding: 0 0 0 0;\n",
       "      width: 32px;\n",
       "    }\n",
       "\n",
       "    .colab-df-convert:hover {\n",
       "      background-color: #E2EBFA;\n",
       "      box-shadow: 0px 1px 2px rgba(60, 64, 67, 0.3), 0px 1px 3px 1px rgba(60, 64, 67, 0.15);\n",
       "      fill: #174EA6;\n",
       "    }\n",
       "\n",
       "    [theme=dark] .colab-df-convert {\n",
       "      background-color: #3B4455;\n",
       "      fill: #D2E3FC;\n",
       "    }\n",
       "\n",
       "    [theme=dark] .colab-df-convert:hover {\n",
       "      background-color: #434B5C;\n",
       "      box-shadow: 0px 1px 3px 1px rgba(0, 0, 0, 0.15);\n",
       "      filter: drop-shadow(0px 1px 2px rgba(0, 0, 0, 0.3));\n",
       "      fill: #FFFFFF;\n",
       "    }\n",
       "  </style>\n",
       "\n",
       "      <script>\n",
       "        const buttonEl =\n",
       "          document.querySelector('#df-38e6ffa8-7a47-4d71-b4fb-0a55deca8af0 button.colab-df-convert');\n",
       "        buttonEl.style.display =\n",
       "          google.colab.kernel.accessAllowed ? 'block' : 'none';\n",
       "\n",
       "        async function convertToInteractive(key) {\n",
       "          const element = document.querySelector('#df-38e6ffa8-7a47-4d71-b4fb-0a55deca8af0');\n",
       "          const dataTable =\n",
       "            await google.colab.kernel.invokeFunction('convertToInteractive',\n",
       "                                                     [key], {});\n",
       "          if (!dataTable) return;\n",
       "\n",
       "          const docLinkHtml = 'Like what you see? Visit the ' +\n",
       "            '<a target=\"_blank\" href=https://colab.research.google.com/notebooks/data_table.ipynb>data table notebook</a>'\n",
       "            + ' to learn more about interactive tables.';\n",
       "          element.innerHTML = '';\n",
       "          dataTable['output_type'] = 'display_data';\n",
       "          await google.colab.output.renderOutput(dataTable, element);\n",
       "          const docLink = document.createElement('div');\n",
       "          docLink.innerHTML = docLinkHtml;\n",
       "          element.appendChild(docLink);\n",
       "        }\n",
       "      </script>\n",
       "    </div>\n",
       "  </div>\n",
       "  "
      ],
      "text/plain": [
       "        count  users_%  number_in_churn  churn_%\n",
       "gender                                          \n",
       "Ж        2296    45.16              762    33.19\n",
       "М        2788    54.84              647    23.21"
      ]
     },
     "execution_count": 45,
     "metadata": {},
     "output_type": "execute_result"
    }
   ],
   "source": [
    "gender_products_several = pivot(df_product_one, 'gender')\n",
    "gender_products_several"
   ]
  },
  {
   "cell_type": "markdown",
   "metadata": {
    "id": "GQIB1EZ5ZigO"
   },
   "source": [
    "Можно сделать вывод, что по полу разницы в группах нет. Отобразим полученные выводы на графиках:"
   ]
  },
  {
   "cell_type": "code",
   "execution_count": 46,
   "metadata": {
    "colab": {
     "base_uri": "https://localhost:8080/",
     "height": 542
    },
    "id": "g6tX9a4fZigO",
    "outputId": "977e5675-0000-4dd1-ceaf-278817e5aebc"
   },
   "outputs": [
    {
     "data": {
      "text/html": [
       "<html>\n",
       "<head><meta charset=\"utf-8\" /></head>\n",
       "<body>\n",
       "    <div>            <script src=\"https://cdnjs.cloudflare.com/ajax/libs/mathjax/2.7.5/MathJax.js?config=TeX-AMS-MML_SVG\"></script><script type=\"text/javascript\">if (window.MathJax) {MathJax.Hub.Config({SVG: {font: \"STIX-Web\"}});}</script>                <script type=\"text/javascript\">window.PlotlyConfig = {MathJaxConfig: 'local'};</script>\n",
       "        <script src=\"https://cdn.plot.ly/plotly-2.8.3.min.js\"></script>                <div id=\"9f34f174-3b40-421d-86ff-bd373806080e\" class=\"plotly-graph-div\" style=\"height:525px; width:100%;\"></div>            <script type=\"text/javascript\">                                    window.PLOTLYENV=window.PLOTLYENV || {};                                    if (document.getElementById(\"9f34f174-3b40-421d-86ff-bd373806080e\")) {                    Plotly.newPlot(                        \"9f34f174-3b40-421d-86ff-bd373806080e\",                        [{\"labels\":[\"\\u0416\",\"\\u041c\"],\"title\":{\"text\":\"1 \\u043f\\u0440\\u043e\\u0434\\u0443\\u043a\\u0442\"},\"values\":[45.16129032258064,54.83870967741935],\"type\":\"pie\",\"domain\":{\"x\":[0.0,0.2888888888888889],\"y\":[0.0,1.0]}},{\"labels\":[\"\\u0416\",\"\\u041c\"],\"title\":{\"text\":\"2 \\u043f\\u0440\\u043e\\u0434\\u0443\\u043a\\u0442\\u0430\"},\"values\":[44.88017429193899,55.119825708061],\"type\":\"pie\",\"domain\":{\"x\":[0.35555555555555557,0.6444444444444445],\"y\":[0.0,1.0]}},{\"labels\":[\"\\u0416\",\"\\u041c\"],\"title\":{\"text\":\"3 \\u0438 4 \\u043f\\u0440\\u043e\\u0434\\u0443\\u043a\\u0442\\u0430\"},\"values\":[45.16129032258064,54.83870967741935],\"type\":\"pie\",\"domain\":{\"x\":[0.7111111111111111,1.0],\"y\":[0.0,1.0]}}],                        {\"template\":{\"data\":{\"bar\":[{\"error_x\":{\"color\":\"#2a3f5f\"},\"error_y\":{\"color\":\"#2a3f5f\"},\"marker\":{\"line\":{\"color\":\"#E5ECF6\",\"width\":0.5},\"pattern\":{\"fillmode\":\"overlay\",\"size\":10,\"solidity\":0.2}},\"type\":\"bar\"}],\"barpolar\":[{\"marker\":{\"line\":{\"color\":\"#E5ECF6\",\"width\":0.5},\"pattern\":{\"fillmode\":\"overlay\",\"size\":10,\"solidity\":0.2}},\"type\":\"barpolar\"}],\"carpet\":[{\"aaxis\":{\"endlinecolor\":\"#2a3f5f\",\"gridcolor\":\"white\",\"linecolor\":\"white\",\"minorgridcolor\":\"white\",\"startlinecolor\":\"#2a3f5f\"},\"baxis\":{\"endlinecolor\":\"#2a3f5f\",\"gridcolor\":\"white\",\"linecolor\":\"white\",\"minorgridcolor\":\"white\",\"startlinecolor\":\"#2a3f5f\"},\"type\":\"carpet\"}],\"choropleth\":[{\"colorbar\":{\"outlinewidth\":0,\"ticks\":\"\"},\"type\":\"choropleth\"}],\"contour\":[{\"colorbar\":{\"outlinewidth\":0,\"ticks\":\"\"},\"colorscale\":[[0.0,\"#0d0887\"],[0.1111111111111111,\"#46039f\"],[0.2222222222222222,\"#7201a8\"],[0.3333333333333333,\"#9c179e\"],[0.4444444444444444,\"#bd3786\"],[0.5555555555555556,\"#d8576b\"],[0.6666666666666666,\"#ed7953\"],[0.7777777777777778,\"#fb9f3a\"],[0.8888888888888888,\"#fdca26\"],[1.0,\"#f0f921\"]],\"type\":\"contour\"}],\"contourcarpet\":[{\"colorbar\":{\"outlinewidth\":0,\"ticks\":\"\"},\"type\":\"contourcarpet\"}],\"heatmap\":[{\"colorbar\":{\"outlinewidth\":0,\"ticks\":\"\"},\"colorscale\":[[0.0,\"#0d0887\"],[0.1111111111111111,\"#46039f\"],[0.2222222222222222,\"#7201a8\"],[0.3333333333333333,\"#9c179e\"],[0.4444444444444444,\"#bd3786\"],[0.5555555555555556,\"#d8576b\"],[0.6666666666666666,\"#ed7953\"],[0.7777777777777778,\"#fb9f3a\"],[0.8888888888888888,\"#fdca26\"],[1.0,\"#f0f921\"]],\"type\":\"heatmap\"}],\"heatmapgl\":[{\"colorbar\":{\"outlinewidth\":0,\"ticks\":\"\"},\"colorscale\":[[0.0,\"#0d0887\"],[0.1111111111111111,\"#46039f\"],[0.2222222222222222,\"#7201a8\"],[0.3333333333333333,\"#9c179e\"],[0.4444444444444444,\"#bd3786\"],[0.5555555555555556,\"#d8576b\"],[0.6666666666666666,\"#ed7953\"],[0.7777777777777778,\"#fb9f3a\"],[0.8888888888888888,\"#fdca26\"],[1.0,\"#f0f921\"]],\"type\":\"heatmapgl\"}],\"histogram\":[{\"marker\":{\"pattern\":{\"fillmode\":\"overlay\",\"size\":10,\"solidity\":0.2}},\"type\":\"histogram\"}],\"histogram2d\":[{\"colorbar\":{\"outlinewidth\":0,\"ticks\":\"\"},\"colorscale\":[[0.0,\"#0d0887\"],[0.1111111111111111,\"#46039f\"],[0.2222222222222222,\"#7201a8\"],[0.3333333333333333,\"#9c179e\"],[0.4444444444444444,\"#bd3786\"],[0.5555555555555556,\"#d8576b\"],[0.6666666666666666,\"#ed7953\"],[0.7777777777777778,\"#fb9f3a\"],[0.8888888888888888,\"#fdca26\"],[1.0,\"#f0f921\"]],\"type\":\"histogram2d\"}],\"histogram2dcontour\":[{\"colorbar\":{\"outlinewidth\":0,\"ticks\":\"\"},\"colorscale\":[[0.0,\"#0d0887\"],[0.1111111111111111,\"#46039f\"],[0.2222222222222222,\"#7201a8\"],[0.3333333333333333,\"#9c179e\"],[0.4444444444444444,\"#bd3786\"],[0.5555555555555556,\"#d8576b\"],[0.6666666666666666,\"#ed7953\"],[0.7777777777777778,\"#fb9f3a\"],[0.8888888888888888,\"#fdca26\"],[1.0,\"#f0f921\"]],\"type\":\"histogram2dcontour\"}],\"mesh3d\":[{\"colorbar\":{\"outlinewidth\":0,\"ticks\":\"\"},\"type\":\"mesh3d\"}],\"parcoords\":[{\"line\":{\"colorbar\":{\"outlinewidth\":0,\"ticks\":\"\"}},\"type\":\"parcoords\"}],\"pie\":[{\"automargin\":true,\"type\":\"pie\"}],\"scatter\":[{\"marker\":{\"colorbar\":{\"outlinewidth\":0,\"ticks\":\"\"}},\"type\":\"scatter\"}],\"scatter3d\":[{\"line\":{\"colorbar\":{\"outlinewidth\":0,\"ticks\":\"\"}},\"marker\":{\"colorbar\":{\"outlinewidth\":0,\"ticks\":\"\"}},\"type\":\"scatter3d\"}],\"scattercarpet\":[{\"marker\":{\"colorbar\":{\"outlinewidth\":0,\"ticks\":\"\"}},\"type\":\"scattercarpet\"}],\"scattergeo\":[{\"marker\":{\"colorbar\":{\"outlinewidth\":0,\"ticks\":\"\"}},\"type\":\"scattergeo\"}],\"scattergl\":[{\"marker\":{\"colorbar\":{\"outlinewidth\":0,\"ticks\":\"\"}},\"type\":\"scattergl\"}],\"scattermapbox\":[{\"marker\":{\"colorbar\":{\"outlinewidth\":0,\"ticks\":\"\"}},\"type\":\"scattermapbox\"}],\"scatterpolar\":[{\"marker\":{\"colorbar\":{\"outlinewidth\":0,\"ticks\":\"\"}},\"type\":\"scatterpolar\"}],\"scatterpolargl\":[{\"marker\":{\"colorbar\":{\"outlinewidth\":0,\"ticks\":\"\"}},\"type\":\"scatterpolargl\"}],\"scatterternary\":[{\"marker\":{\"colorbar\":{\"outlinewidth\":0,\"ticks\":\"\"}},\"type\":\"scatterternary\"}],\"surface\":[{\"colorbar\":{\"outlinewidth\":0,\"ticks\":\"\"},\"colorscale\":[[0.0,\"#0d0887\"],[0.1111111111111111,\"#46039f\"],[0.2222222222222222,\"#7201a8\"],[0.3333333333333333,\"#9c179e\"],[0.4444444444444444,\"#bd3786\"],[0.5555555555555556,\"#d8576b\"],[0.6666666666666666,\"#ed7953\"],[0.7777777777777778,\"#fb9f3a\"],[0.8888888888888888,\"#fdca26\"],[1.0,\"#f0f921\"]],\"type\":\"surface\"}],\"table\":[{\"cells\":{\"fill\":{\"color\":\"#EBF0F8\"},\"line\":{\"color\":\"white\"}},\"header\":{\"fill\":{\"color\":\"#C8D4E3\"},\"line\":{\"color\":\"white\"}},\"type\":\"table\"}]},\"layout\":{\"annotationdefaults\":{\"arrowcolor\":\"#2a3f5f\",\"arrowhead\":0,\"arrowwidth\":1},\"autotypenumbers\":\"strict\",\"coloraxis\":{\"colorbar\":{\"outlinewidth\":0,\"ticks\":\"\"}},\"colorscale\":{\"diverging\":[[0,\"#8e0152\"],[0.1,\"#c51b7d\"],[0.2,\"#de77ae\"],[0.3,\"#f1b6da\"],[0.4,\"#fde0ef\"],[0.5,\"#f7f7f7\"],[0.6,\"#e6f5d0\"],[0.7,\"#b8e186\"],[0.8,\"#7fbc41\"],[0.9,\"#4d9221\"],[1,\"#276419\"]],\"sequential\":[[0.0,\"#0d0887\"],[0.1111111111111111,\"#46039f\"],[0.2222222222222222,\"#7201a8\"],[0.3333333333333333,\"#9c179e\"],[0.4444444444444444,\"#bd3786\"],[0.5555555555555556,\"#d8576b\"],[0.6666666666666666,\"#ed7953\"],[0.7777777777777778,\"#fb9f3a\"],[0.8888888888888888,\"#fdca26\"],[1.0,\"#f0f921\"]],\"sequentialminus\":[[0.0,\"#0d0887\"],[0.1111111111111111,\"#46039f\"],[0.2222222222222222,\"#7201a8\"],[0.3333333333333333,\"#9c179e\"],[0.4444444444444444,\"#bd3786\"],[0.5555555555555556,\"#d8576b\"],[0.6666666666666666,\"#ed7953\"],[0.7777777777777778,\"#fb9f3a\"],[0.8888888888888888,\"#fdca26\"],[1.0,\"#f0f921\"]]},\"colorway\":[\"#636efa\",\"#EF553B\",\"#00cc96\",\"#ab63fa\",\"#FFA15A\",\"#19d3f3\",\"#FF6692\",\"#B6E880\",\"#FF97FF\",\"#FECB52\"],\"font\":{\"color\":\"#2a3f5f\"},\"geo\":{\"bgcolor\":\"white\",\"lakecolor\":\"white\",\"landcolor\":\"#E5ECF6\",\"showlakes\":true,\"showland\":true,\"subunitcolor\":\"white\"},\"hoverlabel\":{\"align\":\"left\"},\"hovermode\":\"closest\",\"mapbox\":{\"style\":\"light\"},\"paper_bgcolor\":\"white\",\"plot_bgcolor\":\"#E5ECF6\",\"polar\":{\"angularaxis\":{\"gridcolor\":\"white\",\"linecolor\":\"white\",\"ticks\":\"\"},\"bgcolor\":\"#E5ECF6\",\"radialaxis\":{\"gridcolor\":\"white\",\"linecolor\":\"white\",\"ticks\":\"\"}},\"scene\":{\"xaxis\":{\"backgroundcolor\":\"#E5ECF6\",\"gridcolor\":\"white\",\"gridwidth\":2,\"linecolor\":\"white\",\"showbackground\":true,\"ticks\":\"\",\"zerolinecolor\":\"white\"},\"yaxis\":{\"backgroundcolor\":\"#E5ECF6\",\"gridcolor\":\"white\",\"gridwidth\":2,\"linecolor\":\"white\",\"showbackground\":true,\"ticks\":\"\",\"zerolinecolor\":\"white\"},\"zaxis\":{\"backgroundcolor\":\"#E5ECF6\",\"gridcolor\":\"white\",\"gridwidth\":2,\"linecolor\":\"white\",\"showbackground\":true,\"ticks\":\"\",\"zerolinecolor\":\"white\"}},\"shapedefaults\":{\"line\":{\"color\":\"#2a3f5f\"}},\"ternary\":{\"aaxis\":{\"gridcolor\":\"white\",\"linecolor\":\"white\",\"ticks\":\"\"},\"baxis\":{\"gridcolor\":\"white\",\"linecolor\":\"white\",\"ticks\":\"\"},\"bgcolor\":\"#E5ECF6\",\"caxis\":{\"gridcolor\":\"white\",\"linecolor\":\"white\",\"ticks\":\"\"}},\"title\":{\"x\":0.05},\"xaxis\":{\"automargin\":true,\"gridcolor\":\"white\",\"linecolor\":\"white\",\"ticks\":\"\",\"title\":{\"standoff\":15},\"zerolinecolor\":\"white\",\"zerolinewidth\":2},\"yaxis\":{\"automargin\":true,\"gridcolor\":\"white\",\"linecolor\":\"white\",\"ticks\":\"\",\"title\":{\"standoff\":15},\"zerolinecolor\":\"white\",\"zerolinewidth\":2}}},\"annotations\":[{\"font\":{\"size\":16},\"showarrow\":false,\"text\":\"\\u0421\\u043e\\u043e\\u0442\\u043d\\u043e\\u0448\\u0435\\u043d\\u0438\\u0435 \\u043f\\u043e\\u043b\\u044c\\u0437\\u043e\\u0432\\u0430\\u0442\\u0435\\u043b\\u0435\\u0439 \\u043f\\u043e \\u043f\\u043e\\u043b\\u0443 \\u0432 \\u0437\\u0430\\u0432\\u0438\\u0441\\u0438\\u043c\\u043e\\u0441\\u0442\\u0438 \\u043e\\u0442 \\u0447\\u0438\\u0441\\u043b\\u0430 \\u043f\\u0440\\u043e\\u0434\\u0443\\u043a\\u0442\\u043e\\u0432\",\"x\":0.5,\"xanchor\":\"center\",\"xref\":\"paper\",\"y\":1.0,\"yanchor\":\"bottom\",\"yref\":\"paper\"}]},                        {\"responsive\": true}                    ).then(function(){\n",
       "                            \n",
       "var gd = document.getElementById('9f34f174-3b40-421d-86ff-bd373806080e');\n",
       "var x = new MutationObserver(function (mutations, observer) {{\n",
       "        var display = window.getComputedStyle(gd).display;\n",
       "        if (!display || display === 'none') {{\n",
       "            console.log([gd, 'removed!']);\n",
       "            Plotly.purge(gd);\n",
       "            observer.disconnect();\n",
       "        }}\n",
       "}});\n",
       "\n",
       "// Listen for the removal of the full notebook cells\n",
       "var notebookContainer = gd.closest('#notebook-container');\n",
       "if (notebookContainer) {{\n",
       "    x.observe(notebookContainer, {childList: true});\n",
       "}}\n",
       "\n",
       "// Listen for the clearing of the current output cell\n",
       "var outputEl = gd.closest('.output');\n",
       "if (outputEl) {{\n",
       "    x.observe(outputEl, {childList: true});\n",
       "}}\n",
       "\n",
       "                        })                };                            </script>        </div>\n",
       "</body>\n",
       "</html>"
      ]
     },
     "metadata": {},
     "output_type": "display_data"
    }
   ],
   "source": [
    "pie(gender_product_one, gender_products_two, gender_products_several, 'полу')"
   ]
  },
  {
   "cell_type": "markdown",
   "metadata": {
    "id": "979f_WK2ZigO"
   },
   "source": [
    "<a name=\"3.4\"><h3>3.4 Различие по числу продуктов по остальным признакам</h3></a>"
   ]
  },
  {
   "cell_type": "markdown",
   "metadata": {
    "id": "RztZA30dZigP"
   },
   "source": [
    "Создадим сводную таблицу, сгруппированную по числу продуктов, с данными по признакам 'credit_card', 'loyalty', 'account',  'objects', 'balance', 'score' и 'estimated_salary':"
   ]
  },
  {
   "cell_type": "code",
   "execution_count": 47,
   "metadata": {
    "colab": {
     "base_uri": "https://localhost:8080/",
     "height": 175
    },
    "id": "EI_AUgFOZigP",
    "outputId": "67568e6f-7485-4567-e8c8-9edfc316fd03"
   },
   "outputs": [
    {
     "data": {
      "text/html": [
       "\n",
       "  <div id=\"df-0e967204-df0b-4a8b-a71e-084b0e68fe42\">\n",
       "    <div class=\"colab-df-container\">\n",
       "      <div>\n",
       "<style scoped>\n",
       "    .dataframe tbody tr th:only-of-type {\n",
       "        vertical-align: middle;\n",
       "    }\n",
       "\n",
       "    .dataframe tbody tr th {\n",
       "        vertical-align: top;\n",
       "    }\n",
       "\n",
       "    .dataframe thead th {\n",
       "        text-align: right;\n",
       "    }\n",
       "</style>\n",
       "<table border=\"1\" class=\"dataframe\">\n",
       "  <thead>\n",
       "    <tr style=\"text-align: right;\">\n",
       "      <th></th>\n",
       "      <th>credit_card_%</th>\n",
       "      <th>loyalty_%</th>\n",
       "      <th>account_%</th>\n",
       "      <th>objects</th>\n",
       "      <th>balance</th>\n",
       "      <th>score</th>\n",
       "      <th>estimated_salary</th>\n",
       "    </tr>\n",
       "    <tr>\n",
       "      <th>products_group</th>\n",
       "      <th></th>\n",
       "      <th></th>\n",
       "      <th></th>\n",
       "      <th></th>\n",
       "      <th></th>\n",
       "      <th></th>\n",
       "      <th></th>\n",
       "    </tr>\n",
       "  </thead>\n",
       "  <tbody>\n",
       "    <tr>\n",
       "      <th>1</th>\n",
       "      <td>70.38</td>\n",
       "      <td>50.41</td>\n",
       "      <td>82.20</td>\n",
       "      <td>5.00</td>\n",
       "      <td>119919.12</td>\n",
       "      <td>651.00</td>\n",
       "      <td>99226.83</td>\n",
       "    </tr>\n",
       "    <tr>\n",
       "      <th>2</th>\n",
       "      <td>70.72</td>\n",
       "      <td>53.29</td>\n",
       "      <td>43.36</td>\n",
       "      <td>5.00</td>\n",
       "      <td>119762.24</td>\n",
       "      <td>653.00</td>\n",
       "      <td>100738.86</td>\n",
       "    </tr>\n",
       "    <tr>\n",
       "      <th>3</th>\n",
       "      <td>70.86</td>\n",
       "      <td>43.56</td>\n",
       "      <td>65.64</td>\n",
       "      <td>5.00</td>\n",
       "      <td>120003.28</td>\n",
       "      <td>650.00</td>\n",
       "      <td>103874.67</td>\n",
       "    </tr>\n",
       "  </tbody>\n",
       "</table>\n",
       "</div>\n",
       "      <button class=\"colab-df-convert\" onclick=\"convertToInteractive('df-0e967204-df0b-4a8b-a71e-084b0e68fe42')\"\n",
       "              title=\"Convert this dataframe to an interactive table.\"\n",
       "              style=\"display:none;\">\n",
       "        \n",
       "  <svg xmlns=\"http://www.w3.org/2000/svg\" height=\"24px\"viewBox=\"0 0 24 24\"\n",
       "       width=\"24px\">\n",
       "    <path d=\"M0 0h24v24H0V0z\" fill=\"none\"/>\n",
       "    <path d=\"M18.56 5.44l.94 2.06.94-2.06 2.06-.94-2.06-.94-.94-2.06-.94 2.06-2.06.94zm-11 1L8.5 8.5l.94-2.06 2.06-.94-2.06-.94L8.5 2.5l-.94 2.06-2.06.94zm10 10l.94 2.06.94-2.06 2.06-.94-2.06-.94-.94-2.06-.94 2.06-2.06.94z\"/><path d=\"M17.41 7.96l-1.37-1.37c-.4-.4-.92-.59-1.43-.59-.52 0-1.04.2-1.43.59L10.3 9.45l-7.72 7.72c-.78.78-.78 2.05 0 2.83L4 21.41c.39.39.9.59 1.41.59.51 0 1.02-.2 1.41-.59l7.78-7.78 2.81-2.81c.8-.78.8-2.07 0-2.86zM5.41 20L4 18.59l7.72-7.72 1.47 1.35L5.41 20z\"/>\n",
       "  </svg>\n",
       "      </button>\n",
       "      \n",
       "  <style>\n",
       "    .colab-df-container {\n",
       "      display:flex;\n",
       "      flex-wrap:wrap;\n",
       "      gap: 12px;\n",
       "    }\n",
       "\n",
       "    .colab-df-convert {\n",
       "      background-color: #E8F0FE;\n",
       "      border: none;\n",
       "      border-radius: 50%;\n",
       "      cursor: pointer;\n",
       "      display: none;\n",
       "      fill: #1967D2;\n",
       "      height: 32px;\n",
       "      padding: 0 0 0 0;\n",
       "      width: 32px;\n",
       "    }\n",
       "\n",
       "    .colab-df-convert:hover {\n",
       "      background-color: #E2EBFA;\n",
       "      box-shadow: 0px 1px 2px rgba(60, 64, 67, 0.3), 0px 1px 3px 1px rgba(60, 64, 67, 0.15);\n",
       "      fill: #174EA6;\n",
       "    }\n",
       "\n",
       "    [theme=dark] .colab-df-convert {\n",
       "      background-color: #3B4455;\n",
       "      fill: #D2E3FC;\n",
       "    }\n",
       "\n",
       "    [theme=dark] .colab-df-convert:hover {\n",
       "      background-color: #434B5C;\n",
       "      box-shadow: 0px 1px 3px 1px rgba(0, 0, 0, 0.15);\n",
       "      filter: drop-shadow(0px 1px 2px rgba(0, 0, 0, 0.3));\n",
       "      fill: #FFFFFF;\n",
       "    }\n",
       "  </style>\n",
       "\n",
       "      <script>\n",
       "        const buttonEl =\n",
       "          document.querySelector('#df-0e967204-df0b-4a8b-a71e-084b0e68fe42 button.colab-df-convert');\n",
       "        buttonEl.style.display =\n",
       "          google.colab.kernel.accessAllowed ? 'block' : 'none';\n",
       "\n",
       "        async function convertToInteractive(key) {\n",
       "          const element = document.querySelector('#df-0e967204-df0b-4a8b-a71e-084b0e68fe42');\n",
       "          const dataTable =\n",
       "            await google.colab.kernel.invokeFunction('convertToInteractive',\n",
       "                                                     [key], {});\n",
       "          if (!dataTable) return;\n",
       "\n",
       "          const docLinkHtml = 'Like what you see? Visit the ' +\n",
       "            '<a target=\"_blank\" href=https://colab.research.google.com/notebooks/data_table.ipynb>data table notebook</a>'\n",
       "            + ' to learn more about interactive tables.';\n",
       "          element.innerHTML = '';\n",
       "          dataTable['output_type'] = 'display_data';\n",
       "          await google.colab.output.renderOutput(dataTable, element);\n",
       "          const docLink = document.createElement('div');\n",
       "          docLink.innerHTML = docLinkHtml;\n",
       "          element.appendChild(docLink);\n",
       "        }\n",
       "      </script>\n",
       "    </div>\n",
       "  </div>\n",
       "  "
      ],
      "text/plain": [
       "                credit_card_%  loyalty_%  account_%  objects   balance  score  \\\n",
       "products_group                                                                  \n",
       "1                       70.38      50.41      82.20     5.00 119919.12 651.00   \n",
       "2                       70.72      53.29      43.36     5.00 119762.24 653.00   \n",
       "3                       70.86      43.56      65.64     5.00 120003.28 650.00   \n",
       "\n",
       "                estimated_salary  \n",
       "products_group                    \n",
       "1                       99226.83  \n",
       "2                      100738.86  \n",
       "3                      103874.67  "
      ]
     },
     "execution_count": 47,
     "metadata": {},
     "output_type": "execute_result"
    }
   ],
   "source": [
    "pivot_products = df.groupby(['products_group'])[['credit_card','loyalty','account', 'objects', 'balance', 'score', 'estimated_salary']].agg({\n",
    "    'credit_card': lambda x: x.mean()*100,\n",
    "    'loyalty': lambda x: x.mean()*100,\n",
    "    'account' : lambda x: x.mean()*100,\n",
    "    'objects': 'median',\n",
    "    'balance': 'median',\n",
    "    'score': 'median',\n",
    "    'estimated_salary' : 'median'}).round(2)\n",
    "pivot_products.columns = ['credit_card_%', 'loyalty_%', 'account_%', 'objects','balance', 'score', 'estimated_salary']\n",
    "pivot_products"
   ]
  },
  {
   "cell_type": "markdown",
   "metadata": {
    "id": "5Z77MNwaZigP"
   },
   "source": [
    "* По наличию кредитных карт группы практически не отличаются.\n",
    "* Большее число активных клиентов с 2 продуктами, клиентов с 3 или более продуктами примерно на 10% меньше.\n",
    "* Группа с 2 продуктами имеет наименьшее число пользователей, у которых открыт счет в банке, их доля равна 43.36%, самая большая доля пользователей со счетом в банке у пользователей 1 продукта - 82.2%.\n",
    "* У всех клиентов медиана по количеству объектов равна 5, баланс на счете, средний бал  и предполагаемая зарплата отличается незначительно. Для таких признаков следует рассмотреть, есть ли отличия в распределении данных."
   ]
  },
  {
   "cell_type": "markdown",
   "metadata": {
    "id": "ayu_HuFtZigP"
   },
   "source": [
    "Так как в таблице значения разного типа, то разделим графики в зависимости от вида."
   ]
  },
  {
   "cell_type": "markdown",
   "metadata": {
    "id": "C-JoB0exZigP"
   },
   "source": [
    "Построим график с информацией о доле клиентов с кредитными картами, доле клиентов, которые были активны и имели счет:"
   ]
  },
  {
   "cell_type": "code",
   "execution_count": 48,
   "metadata": {
    "colab": {
     "base_uri": "https://localhost:8080/",
     "height": 542
    },
    "id": "Bxezz0veZigP",
    "outputId": "4dc26084-2812-48fd-d040-ef89ad6ff96a"
   },
   "outputs": [
    {
     "data": {
      "text/html": [
       "<html>\n",
       "<head><meta charset=\"utf-8\" /></head>\n",
       "<body>\n",
       "    <div>            <script src=\"https://cdnjs.cloudflare.com/ajax/libs/mathjax/2.7.5/MathJax.js?config=TeX-AMS-MML_SVG\"></script><script type=\"text/javascript\">if (window.MathJax) {MathJax.Hub.Config({SVG: {font: \"STIX-Web\"}});}</script>                <script type=\"text/javascript\">window.PlotlyConfig = {MathJaxConfig: 'local'};</script>\n",
       "        <script src=\"https://cdn.plot.ly/plotly-2.8.3.min.js\"></script>                <div id=\"0110fc4c-267d-48a4-8d09-58de7b346e04\" class=\"plotly-graph-div\" style=\"height:525px; width:100%;\"></div>            <script type=\"text/javascript\">                                    window.PLOTLYENV=window.PLOTLYENV || {};                                    if (document.getElementById(\"0110fc4c-267d-48a4-8d09-58de7b346e04\")) {                    Plotly.newPlot(                        \"0110fc4c-267d-48a4-8d09-58de7b346e04\",                        [{\"name\":\"\\u0414\\u043e\\u043b\\u044f \\u043a\\u043b\\u0438\\u0435\\u043d\\u0442\\u043e\\u0432, \\u0438\\u043c\\u0435\\u044e\\u0449\\u0438\\u0445 \\u043a\\u0440\\u0435\\u0434\\u0438\\u0442\\u043d\\u044b\\u0435 \\u043a\\u0430\\u0440\\u0442\\u044b\",\"text\":[70.38,70.72,70.86],\"x\":[1,2,3],\"y\":[70.38,70.72,70.86],\"type\":\"bar\"},{\"name\":\"\\u0414\\u043e\\u043b\\u044f \\u0430\\u043a\\u0442\\u0438\\u0432\\u043d\\u044b\\u0445 \\u043a\\u043b\\u0438\\u0435\\u043d\\u0442\\u043e\\u0432\",\"text\":[50.41,53.29,43.56],\"x\":[1,2,3],\"y\":[50.41,53.29,43.56],\"type\":\"bar\"},{\"name\":\"\\u0414\\u043e\\u043b\\u044f \\u043a\\u043b\\u0438\\u0435\\u043d\\u0442\\u043e\\u0432, \\u0438\\u043c\\u0435\\u044e\\u0449\\u0438\\u0445 \\u0441\\u0447\\u0451\\u0442\",\"text\":[82.2,43.36,65.64],\"x\":[1,2,3],\"y\":[82.2,43.36,65.64],\"type\":\"bar\"}],                        {\"template\":{\"data\":{\"bar\":[{\"error_x\":{\"color\":\"#2a3f5f\"},\"error_y\":{\"color\":\"#2a3f5f\"},\"marker\":{\"line\":{\"color\":\"#E5ECF6\",\"width\":0.5},\"pattern\":{\"fillmode\":\"overlay\",\"size\":10,\"solidity\":0.2}},\"type\":\"bar\"}],\"barpolar\":[{\"marker\":{\"line\":{\"color\":\"#E5ECF6\",\"width\":0.5},\"pattern\":{\"fillmode\":\"overlay\",\"size\":10,\"solidity\":0.2}},\"type\":\"barpolar\"}],\"carpet\":[{\"aaxis\":{\"endlinecolor\":\"#2a3f5f\",\"gridcolor\":\"white\",\"linecolor\":\"white\",\"minorgridcolor\":\"white\",\"startlinecolor\":\"#2a3f5f\"},\"baxis\":{\"endlinecolor\":\"#2a3f5f\",\"gridcolor\":\"white\",\"linecolor\":\"white\",\"minorgridcolor\":\"white\",\"startlinecolor\":\"#2a3f5f\"},\"type\":\"carpet\"}],\"choropleth\":[{\"colorbar\":{\"outlinewidth\":0,\"ticks\":\"\"},\"type\":\"choropleth\"}],\"contour\":[{\"colorbar\":{\"outlinewidth\":0,\"ticks\":\"\"},\"colorscale\":[[0.0,\"#0d0887\"],[0.1111111111111111,\"#46039f\"],[0.2222222222222222,\"#7201a8\"],[0.3333333333333333,\"#9c179e\"],[0.4444444444444444,\"#bd3786\"],[0.5555555555555556,\"#d8576b\"],[0.6666666666666666,\"#ed7953\"],[0.7777777777777778,\"#fb9f3a\"],[0.8888888888888888,\"#fdca26\"],[1.0,\"#f0f921\"]],\"type\":\"contour\"}],\"contourcarpet\":[{\"colorbar\":{\"outlinewidth\":0,\"ticks\":\"\"},\"type\":\"contourcarpet\"}],\"heatmap\":[{\"colorbar\":{\"outlinewidth\":0,\"ticks\":\"\"},\"colorscale\":[[0.0,\"#0d0887\"],[0.1111111111111111,\"#46039f\"],[0.2222222222222222,\"#7201a8\"],[0.3333333333333333,\"#9c179e\"],[0.4444444444444444,\"#bd3786\"],[0.5555555555555556,\"#d8576b\"],[0.6666666666666666,\"#ed7953\"],[0.7777777777777778,\"#fb9f3a\"],[0.8888888888888888,\"#fdca26\"],[1.0,\"#f0f921\"]],\"type\":\"heatmap\"}],\"heatmapgl\":[{\"colorbar\":{\"outlinewidth\":0,\"ticks\":\"\"},\"colorscale\":[[0.0,\"#0d0887\"],[0.1111111111111111,\"#46039f\"],[0.2222222222222222,\"#7201a8\"],[0.3333333333333333,\"#9c179e\"],[0.4444444444444444,\"#bd3786\"],[0.5555555555555556,\"#d8576b\"],[0.6666666666666666,\"#ed7953\"],[0.7777777777777778,\"#fb9f3a\"],[0.8888888888888888,\"#fdca26\"],[1.0,\"#f0f921\"]],\"type\":\"heatmapgl\"}],\"histogram\":[{\"marker\":{\"pattern\":{\"fillmode\":\"overlay\",\"size\":10,\"solidity\":0.2}},\"type\":\"histogram\"}],\"histogram2d\":[{\"colorbar\":{\"outlinewidth\":0,\"ticks\":\"\"},\"colorscale\":[[0.0,\"#0d0887\"],[0.1111111111111111,\"#46039f\"],[0.2222222222222222,\"#7201a8\"],[0.3333333333333333,\"#9c179e\"],[0.4444444444444444,\"#bd3786\"],[0.5555555555555556,\"#d8576b\"],[0.6666666666666666,\"#ed7953\"],[0.7777777777777778,\"#fb9f3a\"],[0.8888888888888888,\"#fdca26\"],[1.0,\"#f0f921\"]],\"type\":\"histogram2d\"}],\"histogram2dcontour\":[{\"colorbar\":{\"outlinewidth\":0,\"ticks\":\"\"},\"colorscale\":[[0.0,\"#0d0887\"],[0.1111111111111111,\"#46039f\"],[0.2222222222222222,\"#7201a8\"],[0.3333333333333333,\"#9c179e\"],[0.4444444444444444,\"#bd3786\"],[0.5555555555555556,\"#d8576b\"],[0.6666666666666666,\"#ed7953\"],[0.7777777777777778,\"#fb9f3a\"],[0.8888888888888888,\"#fdca26\"],[1.0,\"#f0f921\"]],\"type\":\"histogram2dcontour\"}],\"mesh3d\":[{\"colorbar\":{\"outlinewidth\":0,\"ticks\":\"\"},\"type\":\"mesh3d\"}],\"parcoords\":[{\"line\":{\"colorbar\":{\"outlinewidth\":0,\"ticks\":\"\"}},\"type\":\"parcoords\"}],\"pie\":[{\"automargin\":true,\"type\":\"pie\"}],\"scatter\":[{\"marker\":{\"colorbar\":{\"outlinewidth\":0,\"ticks\":\"\"}},\"type\":\"scatter\"}],\"scatter3d\":[{\"line\":{\"colorbar\":{\"outlinewidth\":0,\"ticks\":\"\"}},\"marker\":{\"colorbar\":{\"outlinewidth\":0,\"ticks\":\"\"}},\"type\":\"scatter3d\"}],\"scattercarpet\":[{\"marker\":{\"colorbar\":{\"outlinewidth\":0,\"ticks\":\"\"}},\"type\":\"scattercarpet\"}],\"scattergeo\":[{\"marker\":{\"colorbar\":{\"outlinewidth\":0,\"ticks\":\"\"}},\"type\":\"scattergeo\"}],\"scattergl\":[{\"marker\":{\"colorbar\":{\"outlinewidth\":0,\"ticks\":\"\"}},\"type\":\"scattergl\"}],\"scattermapbox\":[{\"marker\":{\"colorbar\":{\"outlinewidth\":0,\"ticks\":\"\"}},\"type\":\"scattermapbox\"}],\"scatterpolar\":[{\"marker\":{\"colorbar\":{\"outlinewidth\":0,\"ticks\":\"\"}},\"type\":\"scatterpolar\"}],\"scatterpolargl\":[{\"marker\":{\"colorbar\":{\"outlinewidth\":0,\"ticks\":\"\"}},\"type\":\"scatterpolargl\"}],\"scatterternary\":[{\"marker\":{\"colorbar\":{\"outlinewidth\":0,\"ticks\":\"\"}},\"type\":\"scatterternary\"}],\"surface\":[{\"colorbar\":{\"outlinewidth\":0,\"ticks\":\"\"},\"colorscale\":[[0.0,\"#0d0887\"],[0.1111111111111111,\"#46039f\"],[0.2222222222222222,\"#7201a8\"],[0.3333333333333333,\"#9c179e\"],[0.4444444444444444,\"#bd3786\"],[0.5555555555555556,\"#d8576b\"],[0.6666666666666666,\"#ed7953\"],[0.7777777777777778,\"#fb9f3a\"],[0.8888888888888888,\"#fdca26\"],[1.0,\"#f0f921\"]],\"type\":\"surface\"}],\"table\":[{\"cells\":{\"fill\":{\"color\":\"#EBF0F8\"},\"line\":{\"color\":\"white\"}},\"header\":{\"fill\":{\"color\":\"#C8D4E3\"},\"line\":{\"color\":\"white\"}},\"type\":\"table\"}]},\"layout\":{\"annotationdefaults\":{\"arrowcolor\":\"#2a3f5f\",\"arrowhead\":0,\"arrowwidth\":1},\"autotypenumbers\":\"strict\",\"coloraxis\":{\"colorbar\":{\"outlinewidth\":0,\"ticks\":\"\"}},\"colorscale\":{\"diverging\":[[0,\"#8e0152\"],[0.1,\"#c51b7d\"],[0.2,\"#de77ae\"],[0.3,\"#f1b6da\"],[0.4,\"#fde0ef\"],[0.5,\"#f7f7f7\"],[0.6,\"#e6f5d0\"],[0.7,\"#b8e186\"],[0.8,\"#7fbc41\"],[0.9,\"#4d9221\"],[1,\"#276419\"]],\"sequential\":[[0.0,\"#0d0887\"],[0.1111111111111111,\"#46039f\"],[0.2222222222222222,\"#7201a8\"],[0.3333333333333333,\"#9c179e\"],[0.4444444444444444,\"#bd3786\"],[0.5555555555555556,\"#d8576b\"],[0.6666666666666666,\"#ed7953\"],[0.7777777777777778,\"#fb9f3a\"],[0.8888888888888888,\"#fdca26\"],[1.0,\"#f0f921\"]],\"sequentialminus\":[[0.0,\"#0d0887\"],[0.1111111111111111,\"#46039f\"],[0.2222222222222222,\"#7201a8\"],[0.3333333333333333,\"#9c179e\"],[0.4444444444444444,\"#bd3786\"],[0.5555555555555556,\"#d8576b\"],[0.6666666666666666,\"#ed7953\"],[0.7777777777777778,\"#fb9f3a\"],[0.8888888888888888,\"#fdca26\"],[1.0,\"#f0f921\"]]},\"colorway\":[\"#636efa\",\"#EF553B\",\"#00cc96\",\"#ab63fa\",\"#FFA15A\",\"#19d3f3\",\"#FF6692\",\"#B6E880\",\"#FF97FF\",\"#FECB52\"],\"font\":{\"color\":\"#2a3f5f\"},\"geo\":{\"bgcolor\":\"white\",\"lakecolor\":\"white\",\"landcolor\":\"#E5ECF6\",\"showlakes\":true,\"showland\":true,\"subunitcolor\":\"white\"},\"hoverlabel\":{\"align\":\"left\"},\"hovermode\":\"closest\",\"mapbox\":{\"style\":\"light\"},\"paper_bgcolor\":\"white\",\"plot_bgcolor\":\"#E5ECF6\",\"polar\":{\"angularaxis\":{\"gridcolor\":\"white\",\"linecolor\":\"white\",\"ticks\":\"\"},\"bgcolor\":\"#E5ECF6\",\"radialaxis\":{\"gridcolor\":\"white\",\"linecolor\":\"white\",\"ticks\":\"\"}},\"scene\":{\"xaxis\":{\"backgroundcolor\":\"#E5ECF6\",\"gridcolor\":\"white\",\"gridwidth\":2,\"linecolor\":\"white\",\"showbackground\":true,\"ticks\":\"\",\"zerolinecolor\":\"white\"},\"yaxis\":{\"backgroundcolor\":\"#E5ECF6\",\"gridcolor\":\"white\",\"gridwidth\":2,\"linecolor\":\"white\",\"showbackground\":true,\"ticks\":\"\",\"zerolinecolor\":\"white\"},\"zaxis\":{\"backgroundcolor\":\"#E5ECF6\",\"gridcolor\":\"white\",\"gridwidth\":2,\"linecolor\":\"white\",\"showbackground\":true,\"ticks\":\"\",\"zerolinecolor\":\"white\"}},\"shapedefaults\":{\"line\":{\"color\":\"#2a3f5f\"}},\"ternary\":{\"aaxis\":{\"gridcolor\":\"white\",\"linecolor\":\"white\",\"ticks\":\"\"},\"baxis\":{\"gridcolor\":\"white\",\"linecolor\":\"white\",\"ticks\":\"\"},\"bgcolor\":\"#E5ECF6\",\"caxis\":{\"gridcolor\":\"white\",\"linecolor\":\"white\",\"ticks\":\"\"}},\"title\":{\"x\":0.05},\"xaxis\":{\"automargin\":true,\"gridcolor\":\"white\",\"linecolor\":\"white\",\"ticks\":\"\",\"title\":{\"standoff\":15},\"zerolinecolor\":\"white\",\"zerolinewidth\":2},\"yaxis\":{\"automargin\":true,\"gridcolor\":\"white\",\"linecolor\":\"white\",\"ticks\":\"\",\"title\":{\"standoff\":15},\"zerolinecolor\":\"white\",\"zerolinewidth\":2}}},\"xaxis\":{\"title\":{\"text\":\"products_group\"}},\"yaxis\":{\"title\":{\"text\":\"percentage\"}},\"title\":{\"text\":\"\\u0421\\u0440\\u0430\\u0432\\u043d\\u0435\\u043d\\u0438\\u0435 \\u043f\\u0440\\u0438\\u0437\\u043d\\u0430\\u043a\\u043e\\u0432 \\u0432 \\u0437\\u0430\\u0432\\u0438\\u0441\\u0438\\u043c\\u043e\\u0441\\u0442\\u0438 \\u043e\\u0442 \\u0447\\u0438\\u0441\\u043b\\u0430 \\u043f\\u0440\\u043e\\u0434\\u0443\\u043a\\u0442\\u043e\\u0432 \"}},                        {\"responsive\": true}                    ).then(function(){\n",
       "                            \n",
       "var gd = document.getElementById('0110fc4c-267d-48a4-8d09-58de7b346e04');\n",
       "var x = new MutationObserver(function (mutations, observer) {{\n",
       "        var display = window.getComputedStyle(gd).display;\n",
       "        if (!display || display === 'none') {{\n",
       "            console.log([gd, 'removed!']);\n",
       "            Plotly.purge(gd);\n",
       "            observer.disconnect();\n",
       "        }}\n",
       "}});\n",
       "\n",
       "// Listen for the removal of the full notebook cells\n",
       "var notebookContainer = gd.closest('#notebook-container');\n",
       "if (notebookContainer) {{\n",
       "    x.observe(notebookContainer, {childList: true});\n",
       "}}\n",
       "\n",
       "// Listen for the clearing of the current output cell\n",
       "var outputEl = gd.closest('.output');\n",
       "if (outputEl) {{\n",
       "    x.observe(outputEl, {childList: true});\n",
       "}}\n",
       "\n",
       "                        })                };                            </script>        </div>\n",
       "</body>\n",
       "</html>"
      ]
     },
     "metadata": {},
     "output_type": "display_data"
    }
   ],
   "source": [
    "fig = go.Figure(data=[\n",
    "go.Bar(name='Доля клиентов, имеющих кредитные карты', x=pivot_products.index, text=pivot_products['credit_card_%'], y=pivot_products['credit_card_%']),\n",
    "go.Bar(name='Доля активных клиентов', x=pivot_products.index, text=pivot_products['loyalty_%'], y=pivot_products['loyalty_%']),\n",
    "go.Bar(name='Доля клиентов, имеющих счёт', x=pivot_products.index, text=pivot_products['account_%'], y=pivot_products['account_%'])\n",
    "])\n",
    "fig.update_layout(xaxis_title='products_group', yaxis_title=\"percentage\", title='Сравнение признаков в зависимости от числа продуктов ')\n",
    "fig.show()"
   ]
  },
  {
   "cell_type": "markdown",
   "metadata": {
    "id": "qaCSxLRuZigP"
   },
   "source": [
    "Построим графики вида boxplot с распределением данных по признакам 'score', 'objects', 'balance' и'estimated_salary':"
   ]
  },
  {
   "cell_type": "code",
   "execution_count": 49,
   "metadata": {
    "colab": {
     "base_uri": "https://localhost:8080/",
     "height": 724
    },
    "id": "PJolSm6qZigP",
    "outputId": "f264f936-a2bc-4272-80d0-aa6cf93f4544"
   },
   "outputs": [
    {
     "data": {
      "image/png": "[encoded data removed]",
      "text/plain": [
       "<Figure size 1008x864 with 4 Axes>"
      ]
     },
     "metadata": {
      "image/png": {
       "height": 707,
       "width": 849
      }
     },
     "output_type": "display_data"
    }
   ],
   "source": [
    "plt.figure(figsize=(14, 12))\n",
    "i = 1\n",
    "for column in ['score','objects','balance','estimated_salary']:\n",
    "    plt.subplot(2, 2, i)\n",
    "    sns.boxplot(x=df[\"products_group\"], y=column, data = df).set_title('Распределение по числу продуктов по признаку '+ str(column))\n",
    "    i += 1\n",
    "plt.show()"
   ]
  },
  {
   "cell_type": "markdown",
   "metadata": {
    "id": "-qbKSbguZigQ"
   },
   "source": [
    "* По распределению баллов крединого скоринга группы почти не отличаются, только у клиентов с 1 продуктом чуть больше выбросов с оценками менее 400 баллов.\n",
    "* По числу объектов у половины клиентов с одним продуктом от 2 до 7 объектов в собственности, с 2 продуктами от 3 до 7 и у клиентов с большим числом продуктом от 3 до 8 объектов.\n",
    "* По остатку на счете межквартильный размах тоже практически одинаковый, у клиентов с тремя и четырьмя продуктами немного уже разброс по остатку на счете, а у клиентов с 1 продуктом немного чаще встречается баланс меньше 5 тысяч и больше 200 тысяч.\n",
    "* Распределение по предполагаемой зарплате клиентов с 1 и 2 продуктами одинаковое и немного шире, чем у клиентов с большим числом продуктов."
   ]
  },
  {
   "cell_type": "markdown",
   "metadata": {
    "id": "F3RY2KCJZigQ"
   },
   "source": [
    "<a name=\"3.5\"><h3>3.5 Описание сегментов</h3></a>"
   ]
  },
  {
   "cell_type": "markdown",
   "metadata": {
    "id": "xzFgB766ZigQ"
   },
   "source": [
    "Так как не было выявлено существенных различий между числом продуктов и признаками  'gender','credit_card', 'score', 'objects', 'balance' и 'estimated_salary', то не будем учитывать эти параметры при описании характеристик пользователей."
   ]
  },
  {
   "cell_type": "markdown",
   "metadata": {
    "id": "-jHoRdA4ZigQ"
   },
   "source": [
    "Выделим отличительные характерные черты для каждого сегмента:\n",
    "\n",
    "1 сегмент с одним продуктом:\n",
    " * Больше половины пользователей среднего возраста (55%), молодых клиентов 39%;\n",
    " * По оттоку большинство ушедших клиенты среднего (37%,84) и пожилого возраста (34.74%), общая доля оттока 27.71%;\n",
    " * 49% клиентов из Ярославля, в других городах клиентов почти равное количество, в Ростове больше всего на 2.5%;\n",
    " * Половина клиентов активны и 82.2% клиентов имеют счет.\n",
    "\n",
    "\n",
    "2 сегмент с двумя продуктами:\n",
    " * Примерно равное соотношение клиентов среднего и молодого возраста, но первых больше на 3,61%;\n",
    " * Самый маленький отток 7.58%, среди них чаще уходят пожилые клиенты (13.3%) и клиенты среднего возраста (11.5%);\n",
    " * Половина клиентов из Ярославля, в Рыбинске 25.8% и в Ростове 22% пользователей;\n",
    " * Активных клиентов 53.3%;\n",
    " * Самая меньшая доля по наличию счета в сравнении с пользователями из других сегментов - 43.4%.\n",
    "\n",
    "3 сегмент с 3 или 4 продуктами:\n",
    " * Большинство клиентов среднего возраста (72.1%);\n",
    " * Самый большой отток, с тремя продуктами ушли 82.71% и c 4 все клиенты, общий процент по группе 85.89%.\n",
    " * Клиентов из Ярославля 40.8%, из Ростова 36.8% и меньшая доля клиентов из Рыбинска 22.4%;\n",
    " * Наименее активная группа с долей 43.6%;\n",
    " * Счет имеют 65.6% пользователей."
   ]
  },
  {
   "cell_type": "markdown",
   "metadata": {
    "id": "MaiW3mqUZigQ"
   },
   "source": [
    "<div style=\"border: solid green 2px; padding: 20px\">\n",
    "    \n",
    "**Выводы**\n",
    "* Построена матрица корреляции, по которой определили, что есть слабая взаимосвязь 0.29% между оттоком и возрастом клиентов.\n",
    "* Сравнили клиентов в зависимости от числа используемых продуктов по возрасту, городам и гендерным признакам. Во всех группах большинство клиентов среднего возраста, половина пользователей из Ярославля. По полу наибольшее количество клиентов мужчины, по всем продуктам равное соотношение примерно 55% к 45%.\n",
    "* Рассмотрели доли клиентов в зависимости от активности пользователей, наличия кредитных карт и счета. Разницы по использованию кредитных карт нет, клиенты с 3 и 4 продуктами менее активные примерно на 10%, по наличию счета больше всего клиентов с 1 продуктом (82.2%).\n",
    "* Посмотрели на распределение пользователей по баллам кредитного скоринга, балансу на счете, количеству объектов и предполагаемой заработной плате и установили, что разницы в данных практически нет. \n",
    "* В результате выделены и описаны 3 сегмента в зависимости от числа продуктов.</div>"
   ]
  },
  {
   "cell_type": "markdown",
   "metadata": {
    "id": "PyoOTIFtZigQ"
   },
   "source": [
    "<a name=\"4\"><h2>4 Проверка статистических гипотез</h2></a>"
   ]
  },
  {
   "cell_type": "markdown",
   "metadata": {
    "id": "4_LN6x1MZigQ"
   },
   "source": [
    "<a name=\"4.1\"><h3>4.1 Сравнение среднего дохода клиентов, пользующихся одним и двумя продуктами банка</h3></a>"
   ]
  },
  {
   "cell_type": "markdown",
   "metadata": {
    "id": "15E0cbEkZigQ"
   },
   "source": [
    "Сформулируем нулевую и альтернативную гипотезу:\n",
    "\n",
    "* H₀: средний доход клиентов c 1 продуктом равен доходу клиентов с 2 продуктами.\n",
    "* H₁: средний доход клиентов c 1 продуктом не равен доходу клиентов с 2 продуктами."
   ]
  },
  {
   "cell_type": "markdown",
   "metadata": {
    "id": "mS6VO38GZigR"
   },
   "source": [
    "Для сравнения гипотез о равенстве средних значений двух независимых совокупностей воспользуемся методом scipy.stats.ttest_ind(). Перед проверкой гипотезы посмотрим размах выборки, средний доход по продуктам и дисперсию:"
   ]
  },
  {
   "cell_type": "code",
   "execution_count": 50,
   "metadata": {
    "colab": {
     "base_uri": "https://localhost:8080/",
     "height": 143
    },
    "id": "anGzgVQfZigR",
    "outputId": "7a156e93-f7bf-4f31-9548-12f11da8366e",
    "scrolled": true
   },
   "outputs": [
    {
     "data": {
      "text/html": [
       "\n",
       "  <div id=\"df-e6694485-8137-4a93-a5ec-97fba58701a3\">\n",
       "    <div class=\"colab-df-container\">\n",
       "      <div>\n",
       "<style scoped>\n",
       "    .dataframe tbody tr th:only-of-type {\n",
       "        vertical-align: middle;\n",
       "    }\n",
       "\n",
       "    .dataframe tbody tr th {\n",
       "        vertical-align: top;\n",
       "    }\n",
       "\n",
       "    .dataframe thead th {\n",
       "        text-align: right;\n",
       "    }\n",
       "</style>\n",
       "<table border=\"1\" class=\"dataframe\">\n",
       "  <thead>\n",
       "    <tr style=\"text-align: right;\">\n",
       "      <th></th>\n",
       "      <th>count</th>\n",
       "      <th>mean</th>\n",
       "      <th>variance</th>\n",
       "    </tr>\n",
       "    <tr>\n",
       "      <th>products</th>\n",
       "      <th></th>\n",
       "      <th></th>\n",
       "      <th></th>\n",
       "    </tr>\n",
       "  </thead>\n",
       "  <tbody>\n",
       "    <tr>\n",
       "      <th>1</th>\n",
       "      <td>5084</td>\n",
       "      <td>99487.26</td>\n",
       "      <td>3290585635</td>\n",
       "    </tr>\n",
       "    <tr>\n",
       "      <th>2</th>\n",
       "      <td>4590</td>\n",
       "      <td>100452.01</td>\n",
       "      <td>3339776563</td>\n",
       "    </tr>\n",
       "  </tbody>\n",
       "</table>\n",
       "</div>\n",
       "      <button class=\"colab-df-convert\" onclick=\"convertToInteractive('df-e6694485-8137-4a93-a5ec-97fba58701a3')\"\n",
       "              title=\"Convert this dataframe to an interactive table.\"\n",
       "              style=\"display:none;\">\n",
       "        \n",
       "  <svg xmlns=\"http://www.w3.org/2000/svg\" height=\"24px\"viewBox=\"0 0 24 24\"\n",
       "       width=\"24px\">\n",
       "    <path d=\"M0 0h24v24H0V0z\" fill=\"none\"/>\n",
       "    <path d=\"M18.56 5.44l.94 2.06.94-2.06 2.06-.94-2.06-.94-.94-2.06-.94 2.06-2.06.94zm-11 1L8.5 8.5l.94-2.06 2.06-.94-2.06-.94L8.5 2.5l-.94 2.06-2.06.94zm10 10l.94 2.06.94-2.06 2.06-.94-2.06-.94-.94-2.06-.94 2.06-2.06.94z\"/><path d=\"M17.41 7.96l-1.37-1.37c-.4-.4-.92-.59-1.43-.59-.52 0-1.04.2-1.43.59L10.3 9.45l-7.72 7.72c-.78.78-.78 2.05 0 2.83L4 21.41c.39.39.9.59 1.41.59.51 0 1.02-.2 1.41-.59l7.78-7.78 2.81-2.81c.8-.78.8-2.07 0-2.86zM5.41 20L4 18.59l7.72-7.72 1.47 1.35L5.41 20z\"/>\n",
       "  </svg>\n",
       "      </button>\n",
       "      \n",
       "  <style>\n",
       "    .colab-df-container {\n",
       "      display:flex;\n",
       "      flex-wrap:wrap;\n",
       "      gap: 12px;\n",
       "    }\n",
       "\n",
       "    .colab-df-convert {\n",
       "      background-color: #E8F0FE;\n",
       "      border: none;\n",
       "      border-radius: 50%;\n",
       "      cursor: pointer;\n",
       "      display: none;\n",
       "      fill: #1967D2;\n",
       "      height: 32px;\n",
       "      padding: 0 0 0 0;\n",
       "      width: 32px;\n",
       "    }\n",
       "\n",
       "    .colab-df-convert:hover {\n",
       "      background-color: #E2EBFA;\n",
       "      box-shadow: 0px 1px 2px rgba(60, 64, 67, 0.3), 0px 1px 3px 1px rgba(60, 64, 67, 0.15);\n",
       "      fill: #174EA6;\n",
       "    }\n",
       "\n",
       "    [theme=dark] .colab-df-convert {\n",
       "      background-color: #3B4455;\n",
       "      fill: #D2E3FC;\n",
       "    }\n",
       "\n",
       "    [theme=dark] .colab-df-convert:hover {\n",
       "      background-color: #434B5C;\n",
       "      box-shadow: 0px 1px 3px 1px rgba(0, 0, 0, 0.15);\n",
       "      filter: drop-shadow(0px 1px 2px rgba(0, 0, 0, 0.3));\n",
       "      fill: #FFFFFF;\n",
       "    }\n",
       "  </style>\n",
       "\n",
       "      <script>\n",
       "        const buttonEl =\n",
       "          document.querySelector('#df-e6694485-8137-4a93-a5ec-97fba58701a3 button.colab-df-convert');\n",
       "        buttonEl.style.display =\n",
       "          google.colab.kernel.accessAllowed ? 'block' : 'none';\n",
       "\n",
       "        async function convertToInteractive(key) {\n",
       "          const element = document.querySelector('#df-e6694485-8137-4a93-a5ec-97fba58701a3');\n",
       "          const dataTable =\n",
       "            await google.colab.kernel.invokeFunction('convertToInteractive',\n",
       "                                                     [key], {});\n",
       "          if (!dataTable) return;\n",
       "\n",
       "          const docLinkHtml = 'Like what you see? Visit the ' +\n",
       "            '<a target=\"_blank\" href=https://colab.research.google.com/notebooks/data_table.ipynb>data table notebook</a>'\n",
       "            + ' to learn more about interactive tables.';\n",
       "          element.innerHTML = '';\n",
       "          dataTable['output_type'] = 'display_data';\n",
       "          await google.colab.output.renderOutput(dataTable, element);\n",
       "          const docLink = document.createElement('div');\n",
       "          docLink.innerHTML = docLinkHtml;\n",
       "          element.appendChild(docLink);\n",
       "        }\n",
       "      </script>\n",
       "    </div>\n",
       "  </div>\n",
       "  "
      ],
      "text/plain": [
       "          count      mean    variance\n",
       "products                             \n",
       "1          5084  99487.26  3290585635\n",
       "2          4590 100452.01  3339776563"
      ]
     },
     "execution_count": 50,
     "metadata": {},
     "output_type": "execute_result"
    }
   ],
   "source": [
    "revenue_products = df.query('products < 3').groupby(['products'])['estimated_salary'].agg(\n",
    "    ['count', 'mean', lambda x: round(np.var(x, ddof=1))])\n",
    "revenue_products.columns = ['count', 'mean', 'variance']\n",
    "revenue_products"
   ]
  },
  {
   "cell_type": "markdown",
   "metadata": {
    "id": "w8Q_pbsuZigR"
   },
   "source": [
    "Дисперсии не равны, поэтому при проверке гипотез укажем в методе equal_var = False."
   ]
  },
  {
   "cell_type": "markdown",
   "metadata": {
    "id": "Za7IEC4rZigR"
   },
   "source": [
    "Так как в работе будет проверяться еще одна гипотеза со сравнением среднего дохода, то напишем функцию:"
   ]
  },
  {
   "cell_type": "code",
   "execution_count": 51,
   "metadata": {
    "id": "LppfFhM2ZigR",
    "scrolled": true
   },
   "outputs": [],
   "source": [
    "def hypothesis_testing(data_1, data_2, bool_type):\n",
    "    table_one = data_1['estimated_salary']\n",
    "    table_two = data_2['estimated_salary']\n",
    "\n",
    "    alpha = .05\n",
    "\n",
    "    results = st.ttest_ind(\n",
    "        table_one, \n",
    "        table_two,\n",
    "        equal_var = bool_type)\n",
    "\n",
    "    print('p-значение:', results.pvalue)\n",
    "\n",
    "    if results.pvalue < alpha:\n",
    "        print(\"Отвергаем нулевую гипотезу\")\n",
    "    else:\n",
    "        print(\"Не получилось отвергнуть нулевую гипотезу\")"
   ]
  },
  {
   "cell_type": "markdown",
   "metadata": {
    "id": "cVOa5FqVZigR"
   },
   "source": [
    "Проверим гипотезу:"
   ]
  },
  {
   "cell_type": "code",
   "execution_count": 52,
   "metadata": {
    "colab": {
     "base_uri": "https://localhost:8080/"
    },
    "id": "fS0HgGnjZigR",
    "outputId": "a131f1e2-4842-42ad-8cb2-6db67a1263b4"
   },
   "outputs": [
    {
     "name": "stdout",
     "output_type": "stream",
     "text": [
      "p-значение: 0.4106493940071987\n",
      "Не получилось отвергнуть нулевую гипотезу\n"
     ]
    }
   ],
   "source": [
    "hypothesis_testing(df_product_one, df_products_two, False)"
   ]
  },
  {
   "cell_type": "markdown",
   "metadata": {
    "id": "l8cZ6mZpZigT"
   },
   "source": [
    "<div style=\"border: solid green 2px; padding: 20px\">\n",
    "    \n",
    "**Вывод**\n",
    "    \n",
    "При условии, что нулевая гипотеза верна, вероятность встретить клиентов с одинаковым доходом 41%, поэтому не отвергаем гипотезу о равенстве доходов клиентов с 1 и 2 продуктами.</div>"
   ]
  },
  {
   "cell_type": "markdown",
   "metadata": {
    "id": "kfebxq5xZigT"
   },
   "source": [
    "<a name=\"4.2\"><h3>4.2 Сравнение среднего дохода клиентов в Ярославле и области</h3></a>"
   ]
  },
  {
   "cell_type": "markdown",
   "metadata": {
    "id": "ZDq6cS-UZigT"
   },
   "source": [
    "Сформулируем нулевую и альтернативную гипотезу:\n",
    "\n",
    "* H₀: средний доход клиентов в Ярославле равен доходу клиентов из регионов.\n",
    "* H₁: средний доход клиентов в Ярославле не равен доходу клиентов из регионов."
   ]
  },
  {
   "cell_type": "markdown",
   "metadata": {
    "id": "GhJydyuDZigT"
   },
   "source": [
    "Добавим в таблицу столбец 'locality_yaroslavl' типа bool для разделения клиентов из Ярославля и области:"
   ]
  },
  {
   "cell_type": "code",
   "execution_count": 53,
   "metadata": {
    "id": "VxDhIlJ0ZigT",
    "scrolled": true
   },
   "outputs": [],
   "source": [
    "df['locality_yaroslavl'] = df['city'] == 'Ярославль'"
   ]
  },
  {
   "cell_type": "markdown",
   "metadata": {
    "id": "Q1roeVgeZigT"
   },
   "source": [
    "Посмотрим размах выборки, средний доход по продуктам и дисперсию:"
   ]
  },
  {
   "cell_type": "code",
   "execution_count": 54,
   "metadata": {
    "colab": {
     "base_uri": "https://localhost:8080/",
     "height": 143
    },
    "id": "hPo6qYxdZigT",
    "outputId": "9fa05d54-a36e-4150-d479-de2ecd50bb66",
    "scrolled": true
   },
   "outputs": [
    {
     "data": {
      "text/html": [
       "\n",
       "  <div id=\"df-b7ac784a-c04b-4b23-ad5f-93e94af3804b\">\n",
       "    <div class=\"colab-df-container\">\n",
       "      <div>\n",
       "<style scoped>\n",
       "    .dataframe tbody tr th:only-of-type {\n",
       "        vertical-align: middle;\n",
       "    }\n",
       "\n",
       "    .dataframe tbody tr th {\n",
       "        vertical-align: top;\n",
       "    }\n",
       "\n",
       "    .dataframe thead th {\n",
       "        text-align: right;\n",
       "    }\n",
       "</style>\n",
       "<table border=\"1\" class=\"dataframe\">\n",
       "  <thead>\n",
       "    <tr style=\"text-align: right;\">\n",
       "      <th></th>\n",
       "      <th>count</th>\n",
       "      <th>mean</th>\n",
       "      <th>variance</th>\n",
       "    </tr>\n",
       "    <tr>\n",
       "      <th>locality_yaroslavl</th>\n",
       "      <th></th>\n",
       "      <th></th>\n",
       "      <th></th>\n",
       "    </tr>\n",
       "  </thead>\n",
       "  <tbody>\n",
       "    <tr>\n",
       "      <th>False</th>\n",
       "      <td>4986</td>\n",
       "      <td>100282.37</td>\n",
       "      <td>3328165749</td>\n",
       "    </tr>\n",
       "    <tr>\n",
       "      <th>True</th>\n",
       "      <td>5014</td>\n",
       "      <td>99899.18</td>\n",
       "      <td>3287450038</td>\n",
       "    </tr>\n",
       "  </tbody>\n",
       "</table>\n",
       "</div>\n",
       "      <button class=\"colab-df-convert\" onclick=\"convertToInteractive('df-b7ac784a-c04b-4b23-ad5f-93e94af3804b')\"\n",
       "              title=\"Convert this dataframe to an interactive table.\"\n",
       "              style=\"display:none;\">\n",
       "        \n",
       "  <svg xmlns=\"http://www.w3.org/2000/svg\" height=\"24px\"viewBox=\"0 0 24 24\"\n",
       "       width=\"24px\">\n",
       "    <path d=\"M0 0h24v24H0V0z\" fill=\"none\"/>\n",
       "    <path d=\"M18.56 5.44l.94 2.06.94-2.06 2.06-.94-2.06-.94-.94-2.06-.94 2.06-2.06.94zm-11 1L8.5 8.5l.94-2.06 2.06-.94-2.06-.94L8.5 2.5l-.94 2.06-2.06.94zm10 10l.94 2.06.94-2.06 2.06-.94-2.06-.94-.94-2.06-.94 2.06-2.06.94z\"/><path d=\"M17.41 7.96l-1.37-1.37c-.4-.4-.92-.59-1.43-.59-.52 0-1.04.2-1.43.59L10.3 9.45l-7.72 7.72c-.78.78-.78 2.05 0 2.83L4 21.41c.39.39.9.59 1.41.59.51 0 1.02-.2 1.41-.59l7.78-7.78 2.81-2.81c.8-.78.8-2.07 0-2.86zM5.41 20L4 18.59l7.72-7.72 1.47 1.35L5.41 20z\"/>\n",
       "  </svg>\n",
       "      </button>\n",
       "      \n",
       "  <style>\n",
       "    .colab-df-container {\n",
       "      display:flex;\n",
       "      flex-wrap:wrap;\n",
       "      gap: 12px;\n",
       "    }\n",
       "\n",
       "    .colab-df-convert {\n",
       "      background-color: #E8F0FE;\n",
       "      border: none;\n",
       "      border-radius: 50%;\n",
       "      cursor: pointer;\n",
       "      display: none;\n",
       "      fill: #1967D2;\n",
       "      height: 32px;\n",
       "      padding: 0 0 0 0;\n",
       "      width: 32px;\n",
       "    }\n",
       "\n",
       "    .colab-df-convert:hover {\n",
       "      background-color: #E2EBFA;\n",
       "      box-shadow: 0px 1px 2px rgba(60, 64, 67, 0.3), 0px 1px 3px 1px rgba(60, 64, 67, 0.15);\n",
       "      fill: #174EA6;\n",
       "    }\n",
       "\n",
       "    [theme=dark] .colab-df-convert {\n",
       "      background-color: #3B4455;\n",
       "      fill: #D2E3FC;\n",
       "    }\n",
       "\n",
       "    [theme=dark] .colab-df-convert:hover {\n",
       "      background-color: #434B5C;\n",
       "      box-shadow: 0px 1px 3px 1px rgba(0, 0, 0, 0.15);\n",
       "      filter: drop-shadow(0px 1px 2px rgba(0, 0, 0, 0.3));\n",
       "      fill: #FFFFFF;\n",
       "    }\n",
       "  </style>\n",
       "\n",
       "      <script>\n",
       "        const buttonEl =\n",
       "          document.querySelector('#df-b7ac784a-c04b-4b23-ad5f-93e94af3804b button.colab-df-convert');\n",
       "        buttonEl.style.display =\n",
       "          google.colab.kernel.accessAllowed ? 'block' : 'none';\n",
       "\n",
       "        async function convertToInteractive(key) {\n",
       "          const element = document.querySelector('#df-b7ac784a-c04b-4b23-ad5f-93e94af3804b');\n",
       "          const dataTable =\n",
       "            await google.colab.kernel.invokeFunction('convertToInteractive',\n",
       "                                                     [key], {});\n",
       "          if (!dataTable) return;\n",
       "\n",
       "          const docLinkHtml = 'Like what you see? Visit the ' +\n",
       "            '<a target=\"_blank\" href=https://colab.research.google.com/notebooks/data_table.ipynb>data table notebook</a>'\n",
       "            + ' to learn more about interactive tables.';\n",
       "          element.innerHTML = '';\n",
       "          dataTable['output_type'] = 'display_data';\n",
       "          await google.colab.output.renderOutput(dataTable, element);\n",
       "          const docLink = document.createElement('div');\n",
       "          docLink.innerHTML = docLinkHtml;\n",
       "          element.appendChild(docLink);\n",
       "        }\n",
       "      </script>\n",
       "    </div>\n",
       "  </div>\n",
       "  "
      ],
      "text/plain": [
       "                    count      mean    variance\n",
       "locality_yaroslavl                             \n",
       "False                4986 100282.37  3328165749\n",
       "True                 5014  99899.18  3287450038"
      ]
     },
     "execution_count": 54,
     "metadata": {},
     "output_type": "execute_result"
    }
   ],
   "source": [
    "pivot_revenue = df.groupby('locality_yaroslavl')['estimated_salary'].agg(['count', 'mean', lambda x: round(np.var(x, ddof=1))])\n",
    "pivot_revenue.columns = ['count', 'mean', 'variance']\n",
    "pivot_revenue"
   ]
  },
  {
   "cell_type": "markdown",
   "metadata": {
    "id": "-lgeyug7ZigU"
   },
   "source": [
    "Размер выборок практически равен, сумма дохода отличается совсем незначительно, дисперсии не равны."
   ]
  },
  {
   "cell_type": "markdown",
   "metadata": {
    "id": "njOVIYfcZigU"
   },
   "source": [
    "Проверим гипотезы:"
   ]
  },
  {
   "cell_type": "code",
   "execution_count": 55,
   "metadata": {
    "colab": {
     "base_uri": "https://localhost:8080/"
    },
    "id": "pSH9C0E9ZigU",
    "outputId": "0ac56f41-62dd-4446-9178-ab71ae304026",
    "scrolled": true
   },
   "outputs": [
    {
     "name": "stdout",
     "output_type": "stream",
     "text": [
      "p-значение: 0.7390454252259295\n",
      "Не получилось отвергнуть нулевую гипотезу\n"
     ]
    }
   ],
   "source": [
    "hypothesis_testing(df.query('locality_yaroslavl == True'), df.query('locality_yaroslavl == False'), False)"
   ]
  },
  {
   "cell_type": "markdown",
   "metadata": {
    "id": "Mvonh9NaZigU"
   },
   "source": [
    "<div style=\"border: solid green 2px; padding: 20px\">\n",
    "    \n",
    "**Вывод**\n",
    "    \n",
    "Значение p-value 74%, значит вероятность встретить клиентов с равной средней зарплатой высокая, поэтому не отвергаем нулевую гипотезу о равенстве доходов клиентов в Ярославле и области.</div>"
   ]
  },
  {
   "cell_type": "markdown",
   "metadata": {
    "id": "bAZHL_7dZigU"
   },
   "source": [
    "<a name=\"5\"><h2>5 Общие выводы и рекомендации по удержанию для каждого сегмента</h2></a>"
   ]
  },
  {
   "cell_type": "markdown",
   "metadata": {
    "id": "oiSA0te9ZigU"
   },
   "source": [
    "В результате работы рассмотрели различные признаки пользователей в зависимости от количества используемых продуктов и выделили 3 сегмента.\n",
    "\n",
    "По оттоку клиентов сделаны следующие выводы:\n",
    "* 1 сегмент занимает 2 место по доле ушедших, которая равна 27.71%;\n",
    "* Наиболее надёжный 2 сегмент, в нём доля оттока составляет 7.58%;\n",
    "* Очень высокий отток у клиентов с 3 продуктами - 82.71%, с 4 продуктами ушли все клиенты, поэтому рекомендуется для удержания клиентов 3 сегмента не предлагать дополнительные продукты, а рассмотреть сначала причины такого большого оттока. Возможно использование более 2 продуктов становится неудобным или крайне невыгодным;\n",
    "* Большинство ушедших по всем сегментам - клиенты среднего возраста, почти также часто уходят клиенты пожилого возраста и реже всего молодые клиенты, в первом сегменте у молодых отток 12.3%, во втором 2.8% и в третьем 64.7%;\n",
    "* Также независимо от числа продуктов чаще уходят клиенты женского пола, для 1 и 3 сегмента разница на 10% и для 2 сегмента на 5%;\n",
    "* Большинство ушедших из Ростова Великого. В первом сегменте отток составил 42.9%, во втором 12.1% и в 3 сегменте 91.7%.\n",
    "\n",
    "По признаку 'loyalty' большинство активных во 2 сегменте - 53.3%, чуть меньше активных клиентов в 1 сегменте - 50.4% и меньше всего активных пользователей в 3 сегменте - 43.6%. Так как в 3 сегменте большая доля ушедших, то возможно активность пользователей снижается при оттоке клиентов, хотя во втором сегменте, где ушедших меньше, доля активности на 3% ниже, чем в первой группе.\n",
    "\n",
    "По наличию счета лидирует клиенты из 1 сегмента с долей 82.2%, во втором 43.4% и в третьем сегменте открыт счёт у 65.6% клиентов. Так как вторая группа самая устойчивая, то нельзя сказать, что наличие счета положительно влияет на удержание клиентов. При этом не видно отрицательного влияния, так как первый сегмент значительно надежнее третьего, у которого на 16,6% меньше клиентов с открытым счётом.\n",
    "\n",
    "Разницы в признаках 'credit_card', 'score', 'objects', 'balance' и 'estimated_salary' по числу продуктов обнаружено не было:\n",
    "* Примерно 70% клиентов в каждой группе имеют кредитные карты;\n",
    "* В среднем балл кредитного скоринга равен 650;\n",
    "* Половина клиентов имеет в собственности по 5 объектов;\n",
    "* У клиентов со счетом средний остаток примерно 119 тысяч;\n",
    "* Примерная предполагаемая зарплата 100 тысяч.\n",
    "\n",
    "В 1 и 2 сегменте большая часть клиентов среднего возраста (55% и 50% по группам соответственно), при этом достаточно много клиентов молодого возраста (39% и 45.8%) и совсем мало клиентов пенсионного возраста (5.6% и 4.8%). Так как в данных сегментах соотношение клиентов по возрастным группам отличается незначительно, то для них рекомендуется предлагать продукты исходя из возрастных групп, а для 3 сегмента проработать условия использования существующих продуктов и сделать более выгодные и удобные предложения.\n",
    "\n",
    "Рекомендации по возрастным группам:\n",
    "* Для молодых клиентов можно предложить конкурентоспособные условия по выдаче кредита на образование, карты для путешественников, кэшбэк за покупки при заказе товаров, при оплате в кафе и ресторанах, а также при оплате транспорта.\n",
    "* Так как большинство клиентов среднего возраста имеют детей, то для них могут быть интересны предложения с кэшбеком при оплате детских товаров, путевок в лагерь, при оплате театров и концертов, повышенный кэшбек для многодетных семей, а также страхование детей и страхование в путешествиях;\n",
    "* Для удержания пенсионеров рекомендуется предлагать перевести пенсию с выгодным/конкурентным процентом по накопительному счету, бесплатное страхование от мошенничества и выдачу кредита наличными;\n",
    "* Так как в среднем у клиентов большое число объектов в собственности, около 5, то все возрастные группы могут быть заинтересованы в страховании имущества.\n",
    "\n",
    "Также в работе были проверены две гипотезы, в результате установили, что:\n",
    "* Нельзя отвергнуть гипотезу о равенстве среднего доходов клиентов с 1 и 2 продуктами;\n",
    "* Нельзя отвергнуть гипотезу о равенстве среднего дохода клиентов из Ярославля и регионов."
   ]
  }
 ],
 "metadata": {
  "ExecuteTimeLog": [
   {
    "duration": 1489,
    "start_time": "2022-05-31T23:05:28.833Z"
   },
   {
    "duration": 566,
    "start_time": "2022-05-31T23:05:54.029Z"
   },
   {
    "duration": 121,
    "start_time": "2022-05-31T23:10:05.625Z"
   },
   {
    "duration": 154,
    "start_time": "2022-05-31T23:11:31.686Z"
   },
   {
    "duration": 16,
    "start_time": "2022-05-31T23:11:44.001Z"
   },
   {
    "duration": 15,
    "start_time": "2022-05-31T23:11:59.756Z"
   },
   {
    "duration": 222,
    "start_time": "2022-05-31T23:28:46.208Z"
   },
   {
    "duration": 15,
    "start_time": "2022-05-31T23:29:03.043Z"
   },
   {
    "duration": 6,
    "start_time": "2022-05-31T23:29:17.151Z"
   },
   {
    "duration": 5,
    "start_time": "2022-05-31T23:29:28.148Z"
   },
   {
    "duration": 4,
    "start_time": "2022-05-31T23:29:45.803Z"
   },
   {
    "duration": 5,
    "start_time": "2022-05-31T23:30:10.217Z"
   },
   {
    "duration": 5,
    "start_time": "2022-05-31T23:35:23.339Z"
   },
   {
    "duration": 5,
    "start_time": "2022-05-31T23:35:31.820Z"
   },
   {
    "duration": 3,
    "start_time": "2022-05-31T23:42:55.160Z"
   },
   {
    "duration": 4,
    "start_time": "2022-05-31T23:44:08.848Z"
   },
   {
    "duration": 4,
    "start_time": "2022-05-31T23:45:43.714Z"
   },
   {
    "duration": 10,
    "start_time": "2022-05-31T23:48:29.230Z"
   },
   {
    "duration": 13,
    "start_time": "2022-05-31T23:48:57.283Z"
   },
   {
    "duration": 10,
    "start_time": "2022-05-31T23:57:25.101Z"
   },
   {
    "duration": 10,
    "start_time": "2022-05-31T23:57:35.944Z"
   },
   {
    "duration": 9,
    "start_time": "2022-05-31T23:58:02.983Z"
   },
   {
    "duration": 6,
    "start_time": "2022-05-31T23:58:52.950Z"
   },
   {
    "duration": 3,
    "start_time": "2022-06-01T00:11:36.667Z"
   },
   {
    "duration": 5,
    "start_time": "2022-06-01T00:11:40.532Z"
   },
   {
    "duration": 8,
    "start_time": "2022-06-01T00:14:17.306Z"
   },
   {
    "duration": 13,
    "start_time": "2022-06-01T00:14:35.470Z"
   },
   {
    "duration": 10,
    "start_time": "2022-06-01T00:14:46.981Z"
   },
   {
    "duration": 18,
    "start_time": "2022-06-01T00:19:04.795Z"
   },
   {
    "duration": 16,
    "start_time": "2022-06-01T00:20:07.846Z"
   },
   {
    "duration": 16,
    "start_time": "2022-06-01T00:20:17.941Z"
   },
   {
    "duration": 25,
    "start_time": "2022-06-01T00:20:40.225Z"
   },
   {
    "duration": 24,
    "start_time": "2022-06-01T00:20:48.362Z"
   },
   {
    "duration": 23,
    "start_time": "2022-06-01T00:21:02.309Z"
   },
   {
    "duration": 17,
    "start_time": "2022-06-01T00:21:16.511Z"
   },
   {
    "duration": 9,
    "start_time": "2022-06-01T00:21:43.454Z"
   },
   {
    "duration": 10,
    "start_time": "2022-06-01T00:22:10.492Z"
   },
   {
    "duration": 5,
    "start_time": "2022-06-01T00:23:12.956Z"
   },
   {
    "duration": 11,
    "start_time": "2022-06-01T00:23:35.352Z"
   },
   {
    "duration": 10,
    "start_time": "2022-06-01T00:24:36.647Z"
   },
   {
    "duration": 9,
    "start_time": "2022-06-01T00:24:55.148Z"
   },
   {
    "duration": 1279,
    "start_time": "2022-06-02T21:22:11.309Z"
   },
   {
    "duration": 107,
    "start_time": "2022-06-02T21:22:12.590Z"
   },
   {
    "duration": 15,
    "start_time": "2022-06-02T21:22:12.699Z"
   },
   {
    "duration": 20,
    "start_time": "2022-06-02T21:22:12.715Z"
   },
   {
    "duration": 6,
    "start_time": "2022-06-02T21:22:12.737Z"
   },
   {
    "duration": 5,
    "start_time": "2022-06-02T21:22:12.745Z"
   },
   {
    "duration": 6,
    "start_time": "2022-06-02T21:22:12.751Z"
   },
   {
    "duration": 7,
    "start_time": "2022-06-02T21:22:12.759Z"
   },
   {
    "duration": 12,
    "start_time": "2022-06-02T21:22:12.767Z"
   },
   {
    "duration": 10,
    "start_time": "2022-06-02T21:22:12.780Z"
   },
   {
    "duration": 9,
    "start_time": "2022-06-02T21:22:12.791Z"
   },
   {
    "duration": 5,
    "start_time": "2022-06-02T21:22:12.827Z"
   },
   {
    "duration": 3,
    "start_time": "2022-06-02T21:22:12.834Z"
   },
   {
    "duration": 6,
    "start_time": "2022-06-02T21:22:12.840Z"
   },
   {
    "duration": 21,
    "start_time": "2022-06-02T21:22:12.847Z"
   },
   {
    "duration": 10,
    "start_time": "2022-06-02T21:22:12.869Z"
   },
   {
    "duration": 20,
    "start_time": "2022-06-02T21:22:12.880Z"
   },
   {
    "duration": 26,
    "start_time": "2022-06-02T21:22:12.902Z"
   },
   {
    "duration": 36,
    "start_time": "2022-06-02T21:22:12.930Z"
   },
   {
    "duration": 9,
    "start_time": "2022-06-02T21:22:12.968Z"
   },
   {
    "duration": 4,
    "start_time": "2022-06-02T21:34:27.928Z"
   },
   {
    "duration": 12,
    "start_time": "2022-06-02T21:34:29.053Z"
   },
   {
    "duration": 11,
    "start_time": "2022-06-02T21:34:30.004Z"
   },
   {
    "duration": 10,
    "start_time": "2022-06-02T21:36:23.500Z"
   },
   {
    "duration": 13,
    "start_time": "2022-06-02T21:38:52.709Z"
   },
   {
    "duration": 1171,
    "start_time": "2022-06-02T21:47:00.369Z"
   },
   {
    "duration": 86,
    "start_time": "2022-06-02T21:47:01.542Z"
   },
   {
    "duration": 57,
    "start_time": "2022-06-02T21:47:01.631Z"
   },
   {
    "duration": 19,
    "start_time": "2022-06-02T21:47:01.690Z"
   },
   {
    "duration": 15,
    "start_time": "2022-06-02T21:47:01.712Z"
   },
   {
    "duration": 20,
    "start_time": "2022-06-02T21:47:01.730Z"
   },
   {
    "duration": 20,
    "start_time": "2022-06-02T21:47:01.753Z"
   },
   {
    "duration": 22,
    "start_time": "2022-06-02T21:47:01.775Z"
   },
   {
    "duration": 36,
    "start_time": "2022-06-02T21:47:01.799Z"
   },
   {
    "duration": 48,
    "start_time": "2022-06-02T21:47:01.839Z"
   },
   {
    "duration": 26,
    "start_time": "2022-06-02T21:47:01.891Z"
   },
   {
    "duration": 27,
    "start_time": "2022-06-02T21:47:01.924Z"
   },
   {
    "duration": 10,
    "start_time": "2022-06-02T21:47:01.953Z"
   },
   {
    "duration": 20,
    "start_time": "2022-06-02T21:47:01.965Z"
   },
   {
    "duration": 37,
    "start_time": "2022-06-02T21:47:01.987Z"
   },
   {
    "duration": 13,
    "start_time": "2022-06-02T21:47:02.026Z"
   },
   {
    "duration": 8,
    "start_time": "2022-06-02T21:47:02.041Z"
   },
   {
    "duration": 17,
    "start_time": "2022-06-02T21:47:02.051Z"
   },
   {
    "duration": 20,
    "start_time": "2022-06-02T21:47:02.070Z"
   },
   {
    "duration": 11,
    "start_time": "2022-06-02T21:52:40.761Z"
   },
   {
    "duration": 22,
    "start_time": "2022-06-02T21:58:53.941Z"
   },
   {
    "duration": 14,
    "start_time": "2022-06-02T21:59:11.146Z"
   },
   {
    "duration": 13,
    "start_time": "2022-06-02T21:59:32.500Z"
   },
   {
    "duration": 16,
    "start_time": "2022-06-02T22:00:06.944Z"
   },
   {
    "duration": 14,
    "start_time": "2022-06-02T22:01:13.701Z"
   },
   {
    "duration": 19,
    "start_time": "2022-06-02T22:01:31.530Z"
   },
   {
    "duration": 31,
    "start_time": "2022-06-02T22:02:36.573Z"
   },
   {
    "duration": 107,
    "start_time": "2022-06-02T22:02:51.048Z"
   },
   {
    "duration": 18,
    "start_time": "2022-06-02T22:03:26.689Z"
   },
   {
    "duration": 17,
    "start_time": "2022-06-02T22:09:27.989Z"
   },
   {
    "duration": 17,
    "start_time": "2022-06-02T22:09:40.080Z"
   },
   {
    "duration": 16,
    "start_time": "2022-06-02T22:10:31.445Z"
   },
   {
    "duration": 9,
    "start_time": "2022-06-02T22:10:44.847Z"
   },
   {
    "duration": 7,
    "start_time": "2022-06-02T22:10:55.637Z"
   },
   {
    "duration": 35,
    "start_time": "2022-06-02T22:11:01.513Z"
   },
   {
    "duration": 9,
    "start_time": "2022-06-02T22:13:44.386Z"
   },
   {
    "duration": 5,
    "start_time": "2022-06-02T22:13:58.324Z"
   },
   {
    "duration": 556,
    "start_time": "2022-06-02T22:15:07.190Z"
   },
   {
    "duration": 578,
    "start_time": "2022-06-02T22:18:29.218Z"
   },
   {
    "duration": 572,
    "start_time": "2022-06-02T22:19:04.269Z"
   },
   {
    "duration": 507,
    "start_time": "2022-06-02T22:19:14.460Z"
   },
   {
    "duration": 12,
    "start_time": "2022-06-02T22:20:46.258Z"
   },
   {
    "duration": 584,
    "start_time": "2022-06-02T22:26:06.650Z"
   },
   {
    "duration": 15,
    "start_time": "2022-06-02T22:26:24.196Z"
   },
   {
    "duration": 31,
    "start_time": "2022-06-02T22:47:11.214Z"
   },
   {
    "duration": 15,
    "start_time": "2022-06-02T22:47:31.600Z"
   },
   {
    "duration": 317,
    "start_time": "2022-06-02T22:49:48.464Z"
   },
   {
    "duration": 13,
    "start_time": "2022-06-02T22:49:56.980Z"
   },
   {
    "duration": 17,
    "start_time": "2022-06-02T22:50:45.248Z"
   },
   {
    "duration": 17,
    "start_time": "2022-06-02T22:50:58.540Z"
   },
   {
    "duration": 12,
    "start_time": "2022-06-02T22:51:23.187Z"
   },
   {
    "duration": 9,
    "start_time": "2022-06-02T22:56:56.408Z"
   },
   {
    "duration": 8,
    "start_time": "2022-06-02T22:57:05.083Z"
   },
   {
    "duration": 11,
    "start_time": "2022-06-02T22:57:14.453Z"
   },
   {
    "duration": 1264,
    "start_time": "2022-06-03T20:47:21.611Z"
   },
   {
    "duration": 57,
    "start_time": "2022-06-03T20:47:22.878Z"
   },
   {
    "duration": 18,
    "start_time": "2022-06-03T20:47:22.937Z"
   },
   {
    "duration": 13,
    "start_time": "2022-06-03T20:47:22.958Z"
   },
   {
    "duration": 8,
    "start_time": "2022-06-03T20:47:22.973Z"
   },
   {
    "duration": 5,
    "start_time": "2022-06-03T20:47:22.982Z"
   },
   {
    "duration": 7,
    "start_time": "2022-06-03T20:47:22.989Z"
   },
   {
    "duration": 18,
    "start_time": "2022-06-03T20:47:22.998Z"
   },
   {
    "duration": 26,
    "start_time": "2022-06-03T20:47:23.018Z"
   },
   {
    "duration": 30,
    "start_time": "2022-06-03T20:47:23.046Z"
   },
   {
    "duration": 22,
    "start_time": "2022-06-03T20:47:23.078Z"
   },
   {
    "duration": 23,
    "start_time": "2022-06-03T20:47:23.102Z"
   },
   {
    "duration": 5,
    "start_time": "2022-06-03T20:47:23.126Z"
   },
   {
    "duration": 11,
    "start_time": "2022-06-03T20:47:23.134Z"
   },
   {
    "duration": 51,
    "start_time": "2022-06-03T20:47:23.147Z"
   },
   {
    "duration": 12,
    "start_time": "2022-06-03T20:47:23.200Z"
   },
   {
    "duration": 23,
    "start_time": "2022-06-03T20:47:23.214Z"
   },
   {
    "duration": 28,
    "start_time": "2022-06-03T20:47:23.239Z"
   },
   {
    "duration": 9,
    "start_time": "2022-06-03T20:47:23.269Z"
   },
   {
    "duration": 24,
    "start_time": "2022-06-03T20:47:23.280Z"
   },
   {
    "duration": 10,
    "start_time": "2022-06-03T20:47:23.306Z"
   },
   {
    "duration": 624,
    "start_time": "2022-06-03T21:20:37.385Z"
   },
   {
    "duration": 32,
    "start_time": "2022-06-03T21:21:00.738Z"
   },
   {
    "duration": 35,
    "start_time": "2022-06-03T21:24:38.165Z"
   },
   {
    "duration": 6,
    "start_time": "2022-06-03T21:37:36.782Z"
   },
   {
    "duration": 42,
    "start_time": "2022-06-03T21:55:37.043Z"
   },
   {
    "duration": 39,
    "start_time": "2022-06-03T21:55:56.472Z"
   },
   {
    "duration": 38,
    "start_time": "2022-06-03T21:56:05.771Z"
   },
   {
    "duration": 13,
    "start_time": "2022-06-03T21:56:50.998Z"
   },
   {
    "duration": 16,
    "start_time": "2022-06-03T21:57:00.158Z"
   },
   {
    "duration": 12,
    "start_time": "2022-06-03T21:57:20.299Z"
   },
   {
    "duration": 14,
    "start_time": "2022-06-03T22:05:09.347Z"
   },
   {
    "duration": 9,
    "start_time": "2022-06-03T22:05:40.517Z"
   },
   {
    "duration": 9,
    "start_time": "2022-06-03T22:06:32.092Z"
   },
   {
    "duration": 8,
    "start_time": "2022-06-03T22:06:54.069Z"
   },
   {
    "duration": 22,
    "start_time": "2022-06-03T22:07:19.557Z"
   },
   {
    "duration": 58,
    "start_time": "2022-06-03T23:21:35.093Z"
   },
   {
    "duration": 1356,
    "start_time": "2022-06-03T23:21:44.124Z"
   },
   {
    "duration": 56,
    "start_time": "2022-06-03T23:21:45.485Z"
   },
   {
    "duration": 17,
    "start_time": "2022-06-03T23:21:45.542Z"
   },
   {
    "duration": 21,
    "start_time": "2022-06-03T23:21:45.560Z"
   },
   {
    "duration": 11,
    "start_time": "2022-06-03T23:21:45.583Z"
   },
   {
    "duration": 14,
    "start_time": "2022-06-03T23:21:45.595Z"
   },
   {
    "duration": 29,
    "start_time": "2022-06-03T23:21:45.611Z"
   },
   {
    "duration": 13,
    "start_time": "2022-06-03T23:21:45.642Z"
   },
   {
    "duration": 16,
    "start_time": "2022-06-03T23:21:45.657Z"
   },
   {
    "duration": 9,
    "start_time": "2022-06-03T23:21:45.675Z"
   },
   {
    "duration": 16,
    "start_time": "2022-06-03T23:21:45.686Z"
   },
   {
    "duration": 70,
    "start_time": "2022-06-03T23:21:45.704Z"
   },
   {
    "duration": 4,
    "start_time": "2022-06-03T23:21:45.777Z"
   },
   {
    "duration": 26,
    "start_time": "2022-06-03T23:21:45.783Z"
   },
   {
    "duration": 30,
    "start_time": "2022-06-03T23:21:45.811Z"
   },
   {
    "duration": 26,
    "start_time": "2022-06-03T23:21:45.843Z"
   },
   {
    "duration": 130,
    "start_time": "2022-06-03T23:21:45.871Z"
   },
   {
    "duration": 0,
    "start_time": "2022-06-03T23:21:46.003Z"
   },
   {
    "duration": 0,
    "start_time": "2022-06-03T23:21:46.004Z"
   },
   {
    "duration": 0,
    "start_time": "2022-06-03T23:21:46.006Z"
   },
   {
    "duration": 0,
    "start_time": "2022-06-03T23:21:46.007Z"
   },
   {
    "duration": 0,
    "start_time": "2022-06-03T23:21:46.008Z"
   },
   {
    "duration": 25,
    "start_time": "2022-06-03T23:21:56.768Z"
   },
   {
    "duration": 24,
    "start_time": "2022-06-03T23:27:09.507Z"
   },
   {
    "duration": 23,
    "start_time": "2022-06-03T23:28:01.607Z"
   },
   {
    "duration": 27,
    "start_time": "2022-06-03T23:30:09.773Z"
   },
   {
    "duration": 25,
    "start_time": "2022-06-03T23:33:12.327Z"
   },
   {
    "duration": 28,
    "start_time": "2022-06-03T23:33:31.480Z"
   },
   {
    "duration": 18,
    "start_time": "2022-06-03T23:35:15.557Z"
   },
   {
    "duration": 31,
    "start_time": "2022-06-03T23:36:09.298Z"
   },
   {
    "duration": 29,
    "start_time": "2022-06-03T23:43:25.075Z"
   },
   {
    "duration": 25,
    "start_time": "2022-06-03T23:44:53.019Z"
   },
   {
    "duration": 24,
    "start_time": "2022-06-03T23:44:53.055Z"
   },
   {
    "duration": 30,
    "start_time": "2022-06-03T23:45:12.547Z"
   },
   {
    "duration": 25,
    "start_time": "2022-06-03T23:45:37.687Z"
   },
   {
    "duration": 30,
    "start_time": "2022-06-03T23:46:36.487Z"
   },
   {
    "duration": 27,
    "start_time": "2022-06-03T23:54:23.960Z"
   },
   {
    "duration": 30,
    "start_time": "2022-06-03T23:54:36.993Z"
   },
   {
    "duration": 28,
    "start_time": "2022-06-03T23:54:52.626Z"
   },
   {
    "duration": 27,
    "start_time": "2022-06-03T23:54:58.953Z"
   },
   {
    "duration": 27,
    "start_time": "2022-06-03T23:57:09.713Z"
   },
   {
    "duration": 35,
    "start_time": "2022-06-03T23:59:05.086Z"
   },
   {
    "duration": 152,
    "start_time": "2022-06-04T00:02:17.465Z"
   },
   {
    "duration": 38,
    "start_time": "2022-06-04T00:02:34.226Z"
   },
   {
    "duration": 44,
    "start_time": "2022-06-04T00:03:36.245Z"
   },
   {
    "duration": 35,
    "start_time": "2022-06-04T00:04:16.854Z"
   },
   {
    "duration": 1343,
    "start_time": "2022-06-04T21:45:00.345Z"
   },
   {
    "duration": 124,
    "start_time": "2022-06-04T21:45:01.690Z"
   },
   {
    "duration": 16,
    "start_time": "2022-06-04T21:45:01.815Z"
   },
   {
    "duration": 26,
    "start_time": "2022-06-04T21:45:01.832Z"
   },
   {
    "duration": 5,
    "start_time": "2022-06-04T21:45:01.861Z"
   },
   {
    "duration": 20,
    "start_time": "2022-06-04T21:45:01.868Z"
   },
   {
    "duration": 38,
    "start_time": "2022-06-04T21:45:01.890Z"
   },
   {
    "duration": 18,
    "start_time": "2022-06-04T21:45:01.929Z"
   },
   {
    "duration": 44,
    "start_time": "2022-06-04T21:45:01.949Z"
   },
   {
    "duration": 44,
    "start_time": "2022-06-04T21:45:01.995Z"
   },
   {
    "duration": 30,
    "start_time": "2022-06-04T21:45:02.041Z"
   },
   {
    "duration": 51,
    "start_time": "2022-06-04T21:45:02.073Z"
   },
   {
    "duration": 10,
    "start_time": "2022-06-04T21:45:02.126Z"
   },
   {
    "duration": 2,
    "start_time": "2022-06-04T21:45:02.139Z"
   },
   {
    "duration": 9,
    "start_time": "2022-06-04T21:45:02.143Z"
   },
   {
    "duration": 10,
    "start_time": "2022-06-04T21:45:02.154Z"
   },
   {
    "duration": 1306,
    "start_time": "2022-06-04T21:45:02.165Z"
   },
   {
    "duration": 16,
    "start_time": "2022-06-04T21:45:03.473Z"
   },
   {
    "duration": 12,
    "start_time": "2022-06-04T21:45:03.490Z"
   },
   {
    "duration": 15,
    "start_time": "2022-06-04T21:45:03.503Z"
   },
   {
    "duration": 5,
    "start_time": "2022-06-04T21:45:03.520Z"
   },
   {
    "duration": 43,
    "start_time": "2022-06-04T21:45:03.527Z"
   },
   {
    "duration": 9,
    "start_time": "2022-06-04T21:45:03.572Z"
   },
   {
    "duration": 128,
    "start_time": "2022-06-04T21:45:03.583Z"
   },
   {
    "duration": 0,
    "start_time": "2022-06-04T21:45:03.713Z"
   },
   {
    "duration": 0,
    "start_time": "2022-06-04T21:45:03.723Z"
   },
   {
    "duration": 0,
    "start_time": "2022-06-04T21:45:03.724Z"
   },
   {
    "duration": 0,
    "start_time": "2022-06-04T21:45:03.725Z"
   },
   {
    "duration": 0,
    "start_time": "2022-06-04T21:45:03.726Z"
   },
   {
    "duration": 0,
    "start_time": "2022-06-04T21:45:03.728Z"
   },
   {
    "duration": 0,
    "start_time": "2022-06-04T21:45:03.729Z"
   },
   {
    "duration": 0,
    "start_time": "2022-06-04T21:45:03.730Z"
   },
   {
    "duration": 0,
    "start_time": "2022-06-04T21:45:03.731Z"
   },
   {
    "duration": 0,
    "start_time": "2022-06-04T21:45:03.732Z"
   },
   {
    "duration": 32,
    "start_time": "2022-06-04T21:45:35.853Z"
   },
   {
    "duration": 33,
    "start_time": "2022-06-04T21:45:36.432Z"
   },
   {
    "duration": 36,
    "start_time": "2022-06-04T21:45:37.227Z"
   },
   {
    "duration": 93,
    "start_time": "2022-06-04T21:45:39.525Z"
   },
   {
    "duration": 393,
    "start_time": "2022-06-04T21:45:40.599Z"
   },
   {
    "duration": 7,
    "start_time": "2022-06-04T21:46:08.926Z"
   },
   {
    "duration": 34,
    "start_time": "2022-06-04T21:46:12.436Z"
   },
   {
    "duration": 9,
    "start_time": "2022-06-04T21:46:13.838Z"
   },
   {
    "duration": 35,
    "start_time": "2022-06-04T21:46:21.093Z"
   },
   {
    "duration": 35,
    "start_time": "2022-06-04T21:46:21.538Z"
   },
   {
    "duration": 35,
    "start_time": "2022-06-04T21:46:21.986Z"
   },
   {
    "duration": 4,
    "start_time": "2022-06-04T21:46:22.679Z"
   },
   {
    "duration": 129,
    "start_time": "2022-06-04T21:46:23.465Z"
   },
   {
    "duration": 18,
    "start_time": "2022-06-04T21:47:46.649Z"
   },
   {
    "duration": 17,
    "start_time": "2022-06-04T21:48:00.506Z"
   },
   {
    "duration": 13,
    "start_time": "2022-06-04T21:50:31.280Z"
   },
   {
    "duration": 12,
    "start_time": "2022-06-04T21:52:13.767Z"
   },
   {
    "duration": 15,
    "start_time": "2022-06-04T22:16:21.937Z"
   },
   {
    "duration": 14,
    "start_time": "2022-06-04T22:17:18.986Z"
   },
   {
    "duration": 11,
    "start_time": "2022-06-04T22:35:46.711Z"
   },
   {
    "duration": 5,
    "start_time": "2022-06-04T22:42:17.204Z"
   },
   {
    "duration": 30,
    "start_time": "2022-06-04T22:42:23.888Z"
   },
   {
    "duration": 12,
    "start_time": "2022-06-04T22:42:42.043Z"
   },
   {
    "duration": 4,
    "start_time": "2022-06-04T22:47:54.840Z"
   },
   {
    "duration": 37,
    "start_time": "2022-06-04T22:47:59.243Z"
   },
   {
    "duration": 5,
    "start_time": "2022-06-04T22:48:30.900Z"
   },
   {
    "duration": 34,
    "start_time": "2022-06-04T22:48:33.088Z"
   },
   {
    "duration": 5,
    "start_time": "2022-06-04T22:49:18.106Z"
   },
   {
    "duration": 44,
    "start_time": "2022-06-04T22:49:21.326Z"
   },
   {
    "duration": 5,
    "start_time": "2022-06-04T22:49:53.591Z"
   },
   {
    "duration": 33,
    "start_time": "2022-06-04T22:49:55.726Z"
   },
   {
    "duration": 313,
    "start_time": "2022-06-04T22:50:10.389Z"
   },
   {
    "duration": 14,
    "start_time": "2022-06-04T22:51:02.797Z"
   },
   {
    "duration": 28,
    "start_time": "2022-06-04T22:51:53.395Z"
   },
   {
    "duration": 13,
    "start_time": "2022-06-04T22:54:00.126Z"
   },
   {
    "duration": 5,
    "start_time": "2022-06-04T23:22:23.713Z"
   },
   {
    "duration": 9,
    "start_time": "2022-06-04T23:22:24.736Z"
   },
   {
    "duration": 11,
    "start_time": "2022-06-04T23:22:37.586Z"
   },
   {
    "duration": 39,
    "start_time": "2022-06-04T23:46:03.778Z"
   },
   {
    "duration": 21,
    "start_time": "2022-06-04T23:48:44.641Z"
   },
   {
    "duration": 12,
    "start_time": "2022-06-04T23:49:06.757Z"
   },
   {
    "duration": 5,
    "start_time": "2022-06-04T23:51:11.914Z"
   },
   {
    "duration": 15,
    "start_time": "2022-06-04T23:51:14.374Z"
   },
   {
    "duration": 4,
    "start_time": "2022-06-04T23:51:35.846Z"
   },
   {
    "duration": 11,
    "start_time": "2022-06-04T23:51:37.670Z"
   },
   {
    "duration": 7,
    "start_time": "2022-06-04T23:51:51.416Z"
   },
   {
    "duration": 10,
    "start_time": "2022-06-04T23:51:53.333Z"
   },
   {
    "duration": 32,
    "start_time": "2022-06-04T23:59:19.387Z"
   },
   {
    "duration": 30,
    "start_time": "2022-06-05T00:00:21.741Z"
   },
   {
    "duration": 9,
    "start_time": "2022-06-05T00:00:24.416Z"
   },
   {
    "duration": 12,
    "start_time": "2022-06-05T00:00:34.797Z"
   },
   {
    "duration": 25,
    "start_time": "2022-06-05T00:02:40.383Z"
   },
   {
    "duration": 4,
    "start_time": "2022-06-05T00:02:51.772Z"
   },
   {
    "duration": 10,
    "start_time": "2022-06-05T00:02:53.557Z"
   },
   {
    "duration": 10,
    "start_time": "2022-06-05T00:03:16.191Z"
   },
   {
    "duration": 5,
    "start_time": "2022-06-05T00:10:09.909Z"
   },
   {
    "duration": 36,
    "start_time": "2022-06-05T00:10:22.074Z"
   },
   {
    "duration": 30,
    "start_time": "2022-06-05T00:10:54.712Z"
   },
   {
    "duration": 24,
    "start_time": "2022-06-05T00:11:05.250Z"
   },
   {
    "duration": 29,
    "start_time": "2022-06-05T00:11:42.537Z"
   },
   {
    "duration": 22,
    "start_time": "2022-06-05T00:12:02.772Z"
   },
   {
    "duration": 4,
    "start_time": "2022-06-05T00:13:23.229Z"
   },
   {
    "duration": 39,
    "start_time": "2022-06-05T00:13:37.577Z"
   },
   {
    "duration": 6,
    "start_time": "2022-06-05T00:14:13.909Z"
   },
   {
    "duration": 5,
    "start_time": "2022-06-05T00:14:17.074Z"
   },
   {
    "duration": 41,
    "start_time": "2022-06-05T00:14:18.751Z"
   },
   {
    "duration": 40,
    "start_time": "2022-06-05T00:18:47.052Z"
   },
   {
    "duration": 5,
    "start_time": "2022-06-05T00:20:48.989Z"
   },
   {
    "duration": 41,
    "start_time": "2022-06-05T00:20:51.127Z"
   },
   {
    "duration": 37,
    "start_time": "2022-06-05T00:21:42.089Z"
   },
   {
    "duration": 5,
    "start_time": "2022-06-05T00:26:14.110Z"
   },
   {
    "duration": 40,
    "start_time": "2022-06-05T00:26:16.038Z"
   },
   {
    "duration": 4,
    "start_time": "2022-06-05T00:27:40.838Z"
   },
   {
    "duration": 38,
    "start_time": "2022-06-05T00:27:44.212Z"
   },
   {
    "duration": 38,
    "start_time": "2022-06-05T00:28:02.655Z"
   },
   {
    "duration": 40,
    "start_time": "2022-06-05T00:34:13.813Z"
   },
   {
    "duration": 40,
    "start_time": "2022-06-05T00:36:26.922Z"
   },
   {
    "duration": 33,
    "start_time": "2022-06-05T00:36:31.380Z"
   },
   {
    "duration": 46,
    "start_time": "2022-06-05T00:36:48.616Z"
   },
   {
    "duration": 20,
    "start_time": "2022-06-05T00:37:04.278Z"
   },
   {
    "duration": 33,
    "start_time": "2022-06-05T00:37:22.713Z"
   },
   {
    "duration": 15,
    "start_time": "2022-06-05T00:38:03.647Z"
   },
   {
    "duration": 13,
    "start_time": "2022-06-05T00:38:29.677Z"
   },
   {
    "duration": 372,
    "start_time": "2022-06-05T00:38:52.638Z"
   },
   {
    "duration": 50,
    "start_time": "2022-06-05T00:39:48.937Z"
   },
   {
    "duration": 5,
    "start_time": "2022-06-05T00:40:04.166Z"
   },
   {
    "duration": 42,
    "start_time": "2022-06-05T00:40:13.477Z"
   },
   {
    "duration": 585,
    "start_time": "2022-06-05T00:41:00.899Z"
   },
   {
    "duration": 42,
    "start_time": "2022-06-05T00:41:25.738Z"
   },
   {
    "duration": 366,
    "start_time": "2022-06-05T00:41:49.119Z"
   },
   {
    "duration": 32,
    "start_time": "2022-06-05T00:42:05.658Z"
   },
   {
    "duration": 11,
    "start_time": "2022-06-05T00:42:14.148Z"
   },
   {
    "duration": 13,
    "start_time": "2022-06-05T00:43:30.436Z"
   },
   {
    "duration": 11,
    "start_time": "2022-06-05T00:43:44.684Z"
   },
   {
    "duration": 13,
    "start_time": "2022-06-05T00:45:41.833Z"
   },
   {
    "duration": 12,
    "start_time": "2022-06-05T00:46:44.011Z"
   },
   {
    "duration": 1322,
    "start_time": "2022-06-05T10:15:04.628Z"
   },
   {
    "duration": 83,
    "start_time": "2022-06-05T10:15:05.952Z"
   },
   {
    "duration": 16,
    "start_time": "2022-06-05T10:15:06.037Z"
   },
   {
    "duration": 12,
    "start_time": "2022-06-05T10:15:06.054Z"
   },
   {
    "duration": 4,
    "start_time": "2022-06-05T10:15:06.068Z"
   },
   {
    "duration": 8,
    "start_time": "2022-06-05T10:15:06.073Z"
   },
   {
    "duration": 7,
    "start_time": "2022-06-05T10:15:06.082Z"
   },
   {
    "duration": 9,
    "start_time": "2022-06-05T10:15:06.090Z"
   },
   {
    "duration": 28,
    "start_time": "2022-06-05T10:15:06.100Z"
   },
   {
    "duration": 9,
    "start_time": "2022-06-05T10:15:06.129Z"
   },
   {
    "duration": 9,
    "start_time": "2022-06-05T10:15:06.140Z"
   },
   {
    "duration": 40,
    "start_time": "2022-06-05T10:15:06.151Z"
   },
   {
    "duration": 3,
    "start_time": "2022-06-05T10:15:06.193Z"
   },
   {
    "duration": 28,
    "start_time": "2022-06-05T10:15:06.198Z"
   },
   {
    "duration": 13,
    "start_time": "2022-06-05T10:15:06.228Z"
   },
   {
    "duration": 1288,
    "start_time": "2022-06-05T10:15:06.243Z"
   },
   {
    "duration": 15,
    "start_time": "2022-06-05T10:15:07.533Z"
   },
   {
    "duration": 11,
    "start_time": "2022-06-05T10:15:07.549Z"
   },
   {
    "duration": 18,
    "start_time": "2022-06-05T10:15:07.561Z"
   },
   {
    "duration": 6,
    "start_time": "2022-06-05T10:15:07.581Z"
   },
   {
    "duration": 72,
    "start_time": "2022-06-05T10:15:07.589Z"
   },
   {
    "duration": 37,
    "start_time": "2022-06-05T10:15:07.663Z"
   },
   {
    "duration": 127,
    "start_time": "2022-06-05T10:15:07.702Z"
   },
   {
    "duration": 0,
    "start_time": "2022-06-05T10:15:07.831Z"
   },
   {
    "duration": 0,
    "start_time": "2022-06-05T10:15:07.832Z"
   },
   {
    "duration": 0,
    "start_time": "2022-06-05T10:15:07.833Z"
   },
   {
    "duration": 0,
    "start_time": "2022-06-05T10:15:07.835Z"
   },
   {
    "duration": 0,
    "start_time": "2022-06-05T10:15:07.836Z"
   },
   {
    "duration": 0,
    "start_time": "2022-06-05T10:15:07.837Z"
   },
   {
    "duration": 0,
    "start_time": "2022-06-05T10:15:07.838Z"
   },
   {
    "duration": 0,
    "start_time": "2022-06-05T10:15:07.839Z"
   },
   {
    "duration": 0,
    "start_time": "2022-06-05T10:15:07.841Z"
   },
   {
    "duration": 0,
    "start_time": "2022-06-05T10:15:07.842Z"
   },
   {
    "duration": 0,
    "start_time": "2022-06-05T10:15:07.843Z"
   },
   {
    "duration": 0,
    "start_time": "2022-06-05T10:15:07.844Z"
   },
   {
    "duration": 0,
    "start_time": "2022-06-05T10:15:07.845Z"
   },
   {
    "duration": 0,
    "start_time": "2022-06-05T10:15:07.846Z"
   },
   {
    "duration": 0,
    "start_time": "2022-06-05T10:15:07.847Z"
   },
   {
    "duration": 0,
    "start_time": "2022-06-05T10:15:07.848Z"
   },
   {
    "duration": 5,
    "start_time": "2022-06-05T10:17:03.290Z"
   },
   {
    "duration": 1080,
    "start_time": "2022-06-05T10:17:17.390Z"
   },
   {
    "duration": 5,
    "start_time": "2022-06-05T10:28:26.692Z"
   },
   {
    "duration": 80,
    "start_time": "2022-06-05T11:01:08.151Z"
   },
   {
    "duration": 12,
    "start_time": "2022-06-05T11:16:16.831Z"
   },
   {
    "duration": 4,
    "start_time": "2022-06-05T11:45:33.144Z"
   },
   {
    "duration": 32,
    "start_time": "2022-06-05T11:45:35.457Z"
   },
   {
    "duration": 4,
    "start_time": "2022-06-05T11:45:39.085Z"
   },
   {
    "duration": 14,
    "start_time": "2022-06-05T11:45:41.397Z"
   },
   {
    "duration": 0,
    "start_time": "2022-06-05T11:45:41.413Z"
   },
   {
    "duration": 140,
    "start_time": "2022-06-05T11:46:02.650Z"
   },
   {
    "duration": 103,
    "start_time": "2022-06-05T11:46:08.807Z"
   },
   {
    "duration": 6,
    "start_time": "2022-06-05T11:47:30.851Z"
   },
   {
    "duration": 16,
    "start_time": "2022-06-05T11:47:33.393Z"
   },
   {
    "duration": 34,
    "start_time": "2022-06-05T11:48:20.506Z"
   },
   {
    "duration": 32,
    "start_time": "2022-06-05T11:48:27.622Z"
   },
   {
    "duration": 18,
    "start_time": "2022-06-05T11:48:30.504Z"
   },
   {
    "duration": 19,
    "start_time": "2022-06-05T11:48:58.805Z"
   },
   {
    "duration": 4,
    "start_time": "2022-06-05T11:59:20.384Z"
   },
   {
    "duration": 50,
    "start_time": "2022-06-05T11:59:22.536Z"
   },
   {
    "duration": 59,
    "start_time": "2022-06-05T11:59:22.590Z"
   },
   {
    "duration": 5,
    "start_time": "2022-06-05T12:00:10.948Z"
   },
   {
    "duration": 37,
    "start_time": "2022-06-05T12:00:13.288Z"
   },
   {
    "duration": 32,
    "start_time": "2022-06-05T12:03:57.615Z"
   },
   {
    "duration": 129,
    "start_time": "2022-06-05T12:04:08.856Z"
   },
   {
    "duration": 58,
    "start_time": "2022-06-05T12:08:43.815Z"
   },
   {
    "duration": 13,
    "start_time": "2022-06-05T12:11:32.192Z"
   },
   {
    "duration": 60,
    "start_time": "2022-06-05T12:12:10.387Z"
   },
   {
    "duration": 13,
    "start_time": "2022-06-05T12:12:12.085Z"
   },
   {
    "duration": 13,
    "start_time": "2022-06-05T12:12:13.356Z"
   },
   {
    "duration": 6,
    "start_time": "2022-06-05T12:12:13.855Z"
   },
   {
    "duration": 3,
    "start_time": "2022-06-05T12:12:15.088Z"
   },
   {
    "duration": 4,
    "start_time": "2022-06-05T12:12:15.508Z"
   },
   {
    "duration": 4,
    "start_time": "2022-06-05T12:12:15.922Z"
   },
   {
    "duration": 10,
    "start_time": "2022-06-05T12:12:16.842Z"
   },
   {
    "duration": 5,
    "start_time": "2022-06-05T12:12:17.360Z"
   },
   {
    "duration": 11,
    "start_time": "2022-06-05T12:12:17.787Z"
   },
   {
    "duration": 9,
    "start_time": "2022-06-05T12:12:18.526Z"
   },
   {
    "duration": 44,
    "start_time": "2022-06-05T12:12:18.914Z"
   },
   {
    "duration": 4,
    "start_time": "2022-06-05T12:12:20.427Z"
   },
   {
    "duration": 3,
    "start_time": "2022-06-05T12:12:21.805Z"
   },
   {
    "duration": 6,
    "start_time": "2022-06-05T12:12:22.496Z"
   },
   {
    "duration": 8,
    "start_time": "2022-06-05T12:12:22.948Z"
   },
   {
    "duration": 786,
    "start_time": "2022-06-05T12:12:39.689Z"
   },
   {
    "duration": 514,
    "start_time": "2022-06-05T12:13:34.614Z"
   },
   {
    "duration": 66,
    "start_time": "2022-06-05T12:17:41.861Z"
   },
   {
    "duration": 319,
    "start_time": "2022-06-05T12:17:52.145Z"
   },
   {
    "duration": 363,
    "start_time": "2022-06-05T12:27:58.813Z"
   },
   {
    "duration": 277,
    "start_time": "2022-06-05T12:29:05.083Z"
   },
   {
    "duration": 15,
    "start_time": "2022-06-05T12:38:41.185Z"
   },
   {
    "duration": 20,
    "start_time": "2022-06-05T12:38:56.544Z"
   },
   {
    "duration": 525,
    "start_time": "2022-06-05T12:44:12.564Z"
   },
   {
    "duration": 5,
    "start_time": "2022-06-05T12:54:11.354Z"
   },
   {
    "duration": 13,
    "start_time": "2022-06-05T12:54:20.692Z"
   },
   {
    "duration": 13,
    "start_time": "2022-06-05T12:58:50.353Z"
   },
   {
    "duration": 13,
    "start_time": "2022-06-05T12:59:13.947Z"
   },
   {
    "duration": 91,
    "start_time": "2022-06-05T12:59:14.420Z"
   },
   {
    "duration": 21,
    "start_time": "2022-06-05T12:59:15.020Z"
   },
   {
    "duration": 16,
    "start_time": "2022-06-05T12:59:15.508Z"
   },
   {
    "duration": 6,
    "start_time": "2022-06-05T12:59:16.088Z"
   },
   {
    "duration": 4,
    "start_time": "2022-06-05T12:59:17.142Z"
   },
   {
    "duration": 4,
    "start_time": "2022-06-05T12:59:17.873Z"
   },
   {
    "duration": 4,
    "start_time": "2022-06-05T12:59:18.756Z"
   },
   {
    "duration": 10,
    "start_time": "2022-06-05T12:59:20.180Z"
   },
   {
    "duration": 5,
    "start_time": "2022-06-05T12:59:20.772Z"
   },
   {
    "duration": 10,
    "start_time": "2022-06-05T12:59:21.200Z"
   },
   {
    "duration": 9,
    "start_time": "2022-06-05T12:59:22.355Z"
   },
   {
    "duration": 45,
    "start_time": "2022-06-05T12:59:22.887Z"
   },
   {
    "duration": 6,
    "start_time": "2022-06-05T12:59:23.739Z"
   },
   {
    "duration": 3,
    "start_time": "2022-06-05T12:59:24.385Z"
   },
   {
    "duration": 8,
    "start_time": "2022-06-05T12:59:25.118Z"
   },
   {
    "duration": 13,
    "start_time": "2022-06-05T12:59:25.880Z"
   },
   {
    "duration": 1187,
    "start_time": "2022-06-05T14:18:25.347Z"
   },
   {
    "duration": 157,
    "start_time": "2022-06-05T14:18:26.536Z"
   },
   {
    "duration": 22,
    "start_time": "2022-06-05T14:18:26.695Z"
   },
   {
    "duration": 16,
    "start_time": "2022-06-05T14:18:26.719Z"
   },
   {
    "duration": 6,
    "start_time": "2022-06-05T14:18:26.738Z"
   },
   {
    "duration": 8,
    "start_time": "2022-06-05T14:18:26.745Z"
   },
   {
    "duration": 6,
    "start_time": "2022-06-05T14:18:26.755Z"
   },
   {
    "duration": 5,
    "start_time": "2022-06-05T14:18:26.763Z"
   },
   {
    "duration": 17,
    "start_time": "2022-06-05T14:18:26.770Z"
   },
   {
    "duration": 5,
    "start_time": "2022-06-05T14:18:26.788Z"
   },
   {
    "duration": 37,
    "start_time": "2022-06-05T14:18:26.794Z"
   },
   {
    "duration": 10,
    "start_time": "2022-06-05T14:18:26.832Z"
   },
   {
    "duration": 40,
    "start_time": "2022-06-05T14:18:26.843Z"
   },
   {
    "duration": 5,
    "start_time": "2022-06-05T14:18:26.885Z"
   },
   {
    "duration": 6,
    "start_time": "2022-06-05T14:18:26.891Z"
   },
   {
    "duration": 27,
    "start_time": "2022-06-05T14:18:26.899Z"
   },
   {
    "duration": 15,
    "start_time": "2022-06-05T14:18:26.927Z"
   },
   {
    "duration": 1363,
    "start_time": "2022-06-05T14:18:26.944Z"
   },
   {
    "duration": 10,
    "start_time": "2022-06-05T14:18:28.310Z"
   },
   {
    "duration": 0,
    "start_time": "2022-06-05T14:18:28.322Z"
   },
   {
    "duration": 0,
    "start_time": "2022-06-05T14:18:28.323Z"
   },
   {
    "duration": 0,
    "start_time": "2022-06-05T14:18:28.324Z"
   },
   {
    "duration": 0,
    "start_time": "2022-06-05T14:18:28.325Z"
   },
   {
    "duration": 0,
    "start_time": "2022-06-05T14:18:28.327Z"
   },
   {
    "duration": 0,
    "start_time": "2022-06-05T14:18:28.328Z"
   },
   {
    "duration": 0,
    "start_time": "2022-06-05T14:18:28.330Z"
   },
   {
    "duration": 0,
    "start_time": "2022-06-05T14:18:28.331Z"
   },
   {
    "duration": 0,
    "start_time": "2022-06-05T14:18:28.333Z"
   },
   {
    "duration": 0,
    "start_time": "2022-06-05T14:18:28.334Z"
   },
   {
    "duration": 0,
    "start_time": "2022-06-05T14:18:28.335Z"
   },
   {
    "duration": 0,
    "start_time": "2022-06-05T14:18:28.336Z"
   },
   {
    "duration": 0,
    "start_time": "2022-06-05T14:18:28.338Z"
   },
   {
    "duration": 0,
    "start_time": "2022-06-05T14:18:28.339Z"
   },
   {
    "duration": 0,
    "start_time": "2022-06-05T14:18:28.341Z"
   },
   {
    "duration": 0,
    "start_time": "2022-06-05T14:18:28.344Z"
   },
   {
    "duration": 0,
    "start_time": "2022-06-05T14:18:28.345Z"
   },
   {
    "duration": 0,
    "start_time": "2022-06-05T14:18:28.346Z"
   },
   {
    "duration": 0,
    "start_time": "2022-06-05T14:18:28.348Z"
   },
   {
    "duration": 0,
    "start_time": "2022-06-05T14:18:28.349Z"
   },
   {
    "duration": 0,
    "start_time": "2022-06-05T14:18:28.350Z"
   },
   {
    "duration": 0,
    "start_time": "2022-06-05T14:18:28.352Z"
   },
   {
    "duration": 0,
    "start_time": "2022-06-05T14:18:28.353Z"
   },
   {
    "duration": 0,
    "start_time": "2022-06-05T14:18:28.354Z"
   },
   {
    "duration": 5,
    "start_time": "2022-06-05T14:21:33.216Z"
   },
   {
    "duration": 5,
    "start_time": "2022-06-05T14:21:41.313Z"
   },
   {
    "duration": 5,
    "start_time": "2022-06-05T14:22:46.842Z"
   },
   {
    "duration": 234,
    "start_time": "2022-06-05T14:22:49.407Z"
   },
   {
    "duration": 7,
    "start_time": "2022-06-05T14:24:13.141Z"
   },
   {
    "duration": 39,
    "start_time": "2022-06-05T14:24:15.742Z"
   },
   {
    "duration": 5,
    "start_time": "2022-06-05T14:24:52.132Z"
   },
   {
    "duration": 34,
    "start_time": "2022-06-05T14:24:53.695Z"
   },
   {
    "duration": 5,
    "start_time": "2022-06-05T14:26:21.882Z"
   },
   {
    "duration": 124,
    "start_time": "2022-06-05T14:26:26.883Z"
   },
   {
    "duration": 35,
    "start_time": "2022-06-05T14:29:59.344Z"
   },
   {
    "duration": 31,
    "start_time": "2022-06-05T14:30:10.559Z"
   },
   {
    "duration": 24,
    "start_time": "2022-06-05T14:30:30.794Z"
   },
   {
    "duration": 24,
    "start_time": "2022-06-05T14:31:11.487Z"
   },
   {
    "duration": 24,
    "start_time": "2022-06-05T14:32:59.788Z"
   },
   {
    "duration": 24,
    "start_time": "2022-06-05T14:45:14.103Z"
   },
   {
    "duration": 31,
    "start_time": "2022-06-05T14:49:00.263Z"
   },
   {
    "duration": 25,
    "start_time": "2022-06-05T14:49:21.394Z"
   },
   {
    "duration": 23,
    "start_time": "2022-06-05T14:49:29.207Z"
   },
   {
    "duration": 39,
    "start_time": "2022-06-05T14:49:51.513Z"
   },
   {
    "duration": 31,
    "start_time": "2022-06-05T14:50:05.955Z"
   },
   {
    "duration": 25,
    "start_time": "2022-06-05T14:51:11.553Z"
   },
   {
    "duration": 29,
    "start_time": "2022-06-05T14:51:11.592Z"
   },
   {
    "duration": 413,
    "start_time": "2022-06-05T14:51:50.544Z"
   },
   {
    "duration": 465,
    "start_time": "2022-06-05T14:52:13.932Z"
   },
   {
    "duration": 404,
    "start_time": "2022-06-05T14:52:22.314Z"
   },
   {
    "duration": 34,
    "start_time": "2022-06-05T14:54:14.663Z"
   },
   {
    "duration": 21,
    "start_time": "2022-06-05T14:54:29.347Z"
   },
   {
    "duration": 81,
    "start_time": "2022-06-05T14:54:35.493Z"
   },
   {
    "duration": 14,
    "start_time": "2022-06-05T14:56:02.792Z"
   },
   {
    "duration": 573,
    "start_time": "2022-06-05T14:56:17.300Z"
   },
   {
    "duration": 269,
    "start_time": "2022-06-05T14:58:31.918Z"
   },
   {
    "duration": 2783,
    "start_time": "2022-06-05T15:02:30.558Z"
   },
   {
    "duration": 2124,
    "start_time": "2022-06-05T15:05:43.599Z"
   },
   {
    "duration": 2917,
    "start_time": "2022-06-05T15:07:59.113Z"
   },
   {
    "duration": 1970,
    "start_time": "2022-06-05T15:08:18.344Z"
   },
   {
    "duration": 15,
    "start_time": "2022-06-05T15:09:38.895Z"
   },
   {
    "duration": 5,
    "start_time": "2022-06-05T15:55:08.788Z"
   },
   {
    "duration": 33,
    "start_time": "2022-06-05T15:55:13.911Z"
   },
   {
    "duration": 6,
    "start_time": "2022-06-05T15:56:47.496Z"
   },
   {
    "duration": 15,
    "start_time": "2022-06-05T15:56:49.515Z"
   },
   {
    "duration": 5,
    "start_time": "2022-06-05T15:58:07.329Z"
   },
   {
    "duration": 38,
    "start_time": "2022-06-05T15:58:09.979Z"
   },
   {
    "duration": 6,
    "start_time": "2022-06-05T15:58:22.676Z"
   },
   {
    "duration": 11,
    "start_time": "2022-06-05T15:58:24.708Z"
   },
   {
    "duration": 4,
    "start_time": "2022-06-05T16:11:02.352Z"
   },
   {
    "duration": 1929,
    "start_time": "2022-06-05T16:11:04.480Z"
   },
   {
    "duration": 1928,
    "start_time": "2022-06-05T16:11:17.579Z"
   },
   {
    "duration": 1901,
    "start_time": "2022-06-05T16:11:29.262Z"
   },
   {
    "duration": 52,
    "start_time": "2022-06-05T16:13:58.770Z"
   },
   {
    "duration": 35,
    "start_time": "2022-06-05T16:14:01.645Z"
   },
   {
    "duration": 4,
    "start_time": "2022-06-05T16:14:11.811Z"
   },
   {
    "duration": 30,
    "start_time": "2022-06-05T16:14:12.639Z"
   },
   {
    "duration": 4,
    "start_time": "2022-06-05T16:19:17.070Z"
   },
   {
    "duration": 3,
    "start_time": "2022-06-05T16:19:20.123Z"
   },
   {
    "duration": 24,
    "start_time": "2022-06-05T16:19:22.189Z"
   },
   {
    "duration": 21,
    "start_time": "2022-06-05T16:19:37.471Z"
   },
   {
    "duration": 12,
    "start_time": "2022-06-05T17:52:25.864Z"
   },
   {
    "duration": 1279,
    "start_time": "2022-06-05T21:19:32.589Z"
   },
   {
    "duration": 67,
    "start_time": "2022-06-05T21:19:33.870Z"
   },
   {
    "duration": 15,
    "start_time": "2022-06-05T21:19:33.938Z"
   },
   {
    "duration": 13,
    "start_time": "2022-06-05T21:19:33.955Z"
   },
   {
    "duration": 4,
    "start_time": "2022-06-05T21:19:33.970Z"
   },
   {
    "duration": 8,
    "start_time": "2022-06-05T21:19:33.975Z"
   },
   {
    "duration": 9,
    "start_time": "2022-06-05T21:19:33.984Z"
   },
   {
    "duration": 9,
    "start_time": "2022-06-05T21:19:33.995Z"
   },
   {
    "duration": 29,
    "start_time": "2022-06-05T21:19:34.006Z"
   },
   {
    "duration": 8,
    "start_time": "2022-06-05T21:19:34.036Z"
   },
   {
    "duration": 11,
    "start_time": "2022-06-05T21:19:34.046Z"
   },
   {
    "duration": 19,
    "start_time": "2022-06-05T21:19:34.059Z"
   },
   {
    "duration": 44,
    "start_time": "2022-06-05T21:19:34.079Z"
   },
   {
    "duration": 4,
    "start_time": "2022-06-05T21:19:34.126Z"
   },
   {
    "duration": 10,
    "start_time": "2022-06-05T21:19:34.132Z"
   },
   {
    "duration": 14,
    "start_time": "2022-06-05T21:19:34.143Z"
   },
   {
    "duration": 17,
    "start_time": "2022-06-05T21:19:34.158Z"
   },
   {
    "duration": 1295,
    "start_time": "2022-06-05T21:19:34.177Z"
   },
   {
    "duration": 15,
    "start_time": "2022-06-05T21:19:35.473Z"
   },
   {
    "duration": 43,
    "start_time": "2022-06-05T21:19:35.489Z"
   },
   {
    "duration": 11,
    "start_time": "2022-06-05T21:19:35.533Z"
   },
   {
    "duration": 11,
    "start_time": "2022-06-05T21:19:35.551Z"
   },
   {
    "duration": 4,
    "start_time": "2022-06-05T21:19:35.564Z"
   },
   {
    "duration": 41,
    "start_time": "2022-06-05T21:19:35.569Z"
   },
   {
    "duration": 4,
    "start_time": "2022-06-05T21:19:35.612Z"
   },
   {
    "duration": 134,
    "start_time": "2022-06-05T21:19:35.618Z"
   },
   {
    "duration": 4,
    "start_time": "2022-06-05T21:19:35.754Z"
   },
   {
    "duration": 1901,
    "start_time": "2022-06-05T21:19:35.759Z"
   },
   {
    "duration": 3,
    "start_time": "2022-06-05T21:19:37.662Z"
   },
   {
    "duration": 25,
    "start_time": "2022-06-05T21:19:37.667Z"
   },
   {
    "duration": 4,
    "start_time": "2022-06-05T21:19:37.694Z"
   },
   {
    "duration": 26,
    "start_time": "2022-06-05T21:19:37.699Z"
   },
   {
    "duration": 44,
    "start_time": "2022-06-05T21:19:37.726Z"
   },
   {
    "duration": 13,
    "start_time": "2022-06-05T21:19:37.772Z"
   },
   {
    "duration": 9,
    "start_time": "2022-06-05T21:19:37.787Z"
   },
   {
    "duration": 4,
    "start_time": "2022-06-05T21:19:37.797Z"
   },
   {
    "duration": 15,
    "start_time": "2022-06-05T21:19:37.803Z"
   },
   {
    "duration": 34,
    "start_time": "2022-06-05T21:19:37.820Z"
   },
   {
    "duration": 4,
    "start_time": "2022-06-05T21:20:38.079Z"
   },
   {
    "duration": 1746,
    "start_time": "2022-06-05T21:20:49.099Z"
   },
   {
    "duration": 122,
    "start_time": "2022-06-05T21:22:33.909Z"
   },
   {
    "duration": 16,
    "start_time": "2022-06-05T21:22:38.359Z"
   },
   {
    "duration": 15,
    "start_time": "2022-06-05T21:22:57.065Z"
   },
   {
    "duration": 22,
    "start_time": "2022-06-05T21:24:03.213Z"
   },
   {
    "duration": 36,
    "start_time": "2022-06-05T21:26:21.270Z"
   },
   {
    "duration": 308,
    "start_time": "2022-06-05T21:26:33.928Z"
   },
   {
    "duration": 25,
    "start_time": "2022-06-05T21:28:04.615Z"
   },
   {
    "duration": 19,
    "start_time": "2022-06-05T21:28:53.369Z"
   },
   {
    "duration": 27,
    "start_time": "2022-06-05T21:29:19.937Z"
   },
   {
    "duration": 21,
    "start_time": "2022-06-05T21:29:39.847Z"
   },
   {
    "duration": 12,
    "start_time": "2022-06-05T21:32:07.952Z"
   },
   {
    "duration": 22,
    "start_time": "2022-06-05T21:35:31.958Z"
   },
   {
    "duration": 9,
    "start_time": "2022-06-05T21:35:51.770Z"
   },
   {
    "duration": 10,
    "start_time": "2022-06-05T21:38:25.000Z"
   },
   {
    "duration": 21,
    "start_time": "2022-06-05T21:59:32.675Z"
   },
   {
    "duration": 15,
    "start_time": "2022-06-05T22:00:03.066Z"
   },
   {
    "duration": 12,
    "start_time": "2022-06-05T22:00:16.142Z"
   },
   {
    "duration": 22,
    "start_time": "2022-06-05T22:00:30.164Z"
   },
   {
    "duration": 14,
    "start_time": "2022-06-05T22:02:13.315Z"
   },
   {
    "duration": 22,
    "start_time": "2022-06-05T22:02:35.405Z"
   },
   {
    "duration": 29,
    "start_time": "2022-06-05T22:05:18.675Z"
   },
   {
    "duration": 357,
    "start_time": "2022-06-05T22:05:31.899Z"
   },
   {
    "duration": 55,
    "start_time": "2022-06-05T22:08:50.868Z"
   },
   {
    "duration": 49,
    "start_time": "2022-06-05T22:09:06.986Z"
   },
   {
    "duration": 61,
    "start_time": "2022-06-05T22:11:18.877Z"
   },
   {
    "duration": 4,
    "start_time": "2022-06-05T22:12:14.290Z"
   },
   {
    "duration": 24,
    "start_time": "2022-06-05T22:12:17.141Z"
   },
   {
    "duration": 55,
    "start_time": "2022-06-05T22:12:21.365Z"
   },
   {
    "duration": 3,
    "start_time": "2022-06-05T22:12:50.020Z"
   },
   {
    "duration": 22,
    "start_time": "2022-06-05T22:12:50.612Z"
   },
   {
    "duration": 63,
    "start_time": "2022-06-05T22:12:52.041Z"
   },
   {
    "duration": 4,
    "start_time": "2022-06-05T22:15:57.403Z"
   },
   {
    "duration": 60,
    "start_time": "2022-06-05T22:16:07.950Z"
   },
   {
    "duration": 4,
    "start_time": "2022-06-05T22:16:49.703Z"
   },
   {
    "duration": 57,
    "start_time": "2022-06-05T22:16:52.992Z"
   },
   {
    "duration": 36,
    "start_time": "2022-06-05T22:19:09.612Z"
   },
   {
    "duration": 4,
    "start_time": "2022-06-05T22:19:33.295Z"
   },
   {
    "duration": 71,
    "start_time": "2022-06-05T22:19:35.300Z"
   },
   {
    "duration": 5,
    "start_time": "2022-06-05T22:19:51.794Z"
   },
   {
    "duration": 62,
    "start_time": "2022-06-05T22:19:53.932Z"
   },
   {
    "duration": 4,
    "start_time": "2022-06-05T22:20:10.093Z"
   },
   {
    "duration": 65,
    "start_time": "2022-06-05T22:20:12.711Z"
   },
   {
    "duration": 4,
    "start_time": "2022-06-05T22:25:32.403Z"
   },
   {
    "duration": 66,
    "start_time": "2022-06-05T22:25:34.774Z"
   },
   {
    "duration": 4,
    "start_time": "2022-06-05T22:25:59.946Z"
   },
   {
    "duration": 69,
    "start_time": "2022-06-05T22:26:01.643Z"
   },
   {
    "duration": 4,
    "start_time": "2022-06-05T22:26:09.283Z"
   },
   {
    "duration": 62,
    "start_time": "2022-06-05T22:26:11.659Z"
   },
   {
    "duration": 5,
    "start_time": "2022-06-05T22:27:22.898Z"
   },
   {
    "duration": 66,
    "start_time": "2022-06-05T22:27:28.722Z"
   },
   {
    "duration": 7,
    "start_time": "2022-06-05T22:30:02.673Z"
   },
   {
    "duration": 59,
    "start_time": "2022-06-05T22:30:04.801Z"
   },
   {
    "duration": 4,
    "start_time": "2022-06-05T22:30:30.742Z"
   },
   {
    "duration": 57,
    "start_time": "2022-06-05T22:30:34.075Z"
   },
   {
    "duration": 11,
    "start_time": "2022-06-05T22:39:28.592Z"
   },
   {
    "duration": 17,
    "start_time": "2022-06-05T22:39:38.951Z"
   },
   {
    "duration": 10,
    "start_time": "2022-06-05T22:40:16.551Z"
   },
   {
    "duration": 5,
    "start_time": "2022-06-05T22:49:24.991Z"
   },
   {
    "duration": 40,
    "start_time": "2022-06-05T22:49:27.141Z"
   },
   {
    "duration": 5,
    "start_time": "2022-06-05T23:01:28.142Z"
   },
   {
    "duration": 34,
    "start_time": "2022-06-05T23:01:30.810Z"
   },
   {
    "duration": 4,
    "start_time": "2022-06-05T23:01:58.175Z"
   },
   {
    "duration": 40,
    "start_time": "2022-06-05T23:02:00.434Z"
   },
   {
    "duration": 12,
    "start_time": "2022-06-05T23:19:20.744Z"
   },
   {
    "duration": 1782,
    "start_time": "2022-06-05T23:19:22.994Z"
   },
   {
    "duration": 56,
    "start_time": "2022-06-05T23:19:26.614Z"
   },
   {
    "duration": 56,
    "start_time": "2022-06-05T23:19:43.054Z"
   },
   {
    "duration": 4,
    "start_time": "2022-06-05T23:20:35.046Z"
   },
   {
    "duration": 68,
    "start_time": "2022-06-05T23:20:38.085Z"
   },
   {
    "duration": 81,
    "start_time": "2022-06-05T23:20:45.202Z"
   },
   {
    "duration": 61,
    "start_time": "2022-06-05T23:20:51.798Z"
   },
   {
    "duration": 32,
    "start_time": "2022-06-05T23:21:08.334Z"
   },
   {
    "duration": 12,
    "start_time": "2022-06-05T23:21:21.728Z"
   },
   {
    "duration": 1752,
    "start_time": "2022-06-05T23:21:26.270Z"
   },
   {
    "duration": 54,
    "start_time": "2022-06-05T23:21:28.074Z"
   },
   {
    "duration": 55,
    "start_time": "2022-06-05T23:21:29.714Z"
   },
   {
    "duration": 34,
    "start_time": "2022-06-05T23:21:32.431Z"
   },
   {
    "duration": 10,
    "start_time": "2022-06-05T23:21:33.577Z"
   },
   {
    "duration": 11,
    "start_time": "2022-06-05T23:21:40.532Z"
   },
   {
    "duration": 1801,
    "start_time": "2022-06-05T23:21:42.467Z"
   },
   {
    "duration": 55,
    "start_time": "2022-06-05T23:21:44.270Z"
   },
   {
    "duration": 58,
    "start_time": "2022-06-05T23:21:45.120Z"
   },
   {
    "duration": 36,
    "start_time": "2022-06-06T00:16:50.826Z"
   },
   {
    "duration": 5,
    "start_time": "2022-06-06T00:24:11.247Z"
   },
   {
    "duration": 1747,
    "start_time": "2022-06-06T00:24:15.169Z"
   },
   {
    "duration": 1376,
    "start_time": "2022-06-06T10:48:56.318Z"
   },
   {
    "duration": 67,
    "start_time": "2022-06-06T10:48:57.696Z"
   },
   {
    "duration": 17,
    "start_time": "2022-06-06T10:48:57.764Z"
   },
   {
    "duration": 13,
    "start_time": "2022-06-06T10:48:57.783Z"
   },
   {
    "duration": 10,
    "start_time": "2022-06-06T10:48:57.797Z"
   },
   {
    "duration": 6,
    "start_time": "2022-06-06T10:48:57.808Z"
   },
   {
    "duration": 7,
    "start_time": "2022-06-06T10:48:57.815Z"
   },
   {
    "duration": 20,
    "start_time": "2022-06-06T10:48:57.823Z"
   },
   {
    "duration": 15,
    "start_time": "2022-06-06T10:48:57.844Z"
   },
   {
    "duration": 4,
    "start_time": "2022-06-06T10:48:57.860Z"
   },
   {
    "duration": 9,
    "start_time": "2022-06-06T10:48:57.866Z"
   },
   {
    "duration": 8,
    "start_time": "2022-06-06T10:48:57.876Z"
   },
   {
    "duration": 58,
    "start_time": "2022-06-06T10:48:57.886Z"
   },
   {
    "duration": 8,
    "start_time": "2022-06-06T10:48:57.947Z"
   },
   {
    "duration": 3,
    "start_time": "2022-06-06T10:48:57.957Z"
   },
   {
    "duration": 14,
    "start_time": "2022-06-06T10:48:57.961Z"
   },
   {
    "duration": 8,
    "start_time": "2022-06-06T10:48:57.976Z"
   },
   {
    "duration": 25,
    "start_time": "2022-06-06T10:48:57.985Z"
   },
   {
    "duration": 1343,
    "start_time": "2022-06-06T10:48:58.012Z"
   },
   {
    "duration": 15,
    "start_time": "2022-06-06T10:48:59.357Z"
   },
   {
    "duration": 46,
    "start_time": "2022-06-06T10:48:59.374Z"
   },
   {
    "duration": 13,
    "start_time": "2022-06-06T10:48:59.422Z"
   },
   {
    "duration": 48,
    "start_time": "2022-06-06T10:48:59.437Z"
   },
   {
    "duration": 4,
    "start_time": "2022-06-06T10:48:59.486Z"
   },
   {
    "duration": 16,
    "start_time": "2022-06-06T10:48:59.622Z"
   },
   {
    "duration": 2117,
    "start_time": "2022-06-06T10:48:59.639Z"
   },
   {
    "duration": 5,
    "start_time": "2022-06-06T10:49:01.758Z"
   },
   {
    "duration": 279,
    "start_time": "2022-06-06T10:49:01.765Z"
   },
   {
    "duration": 4,
    "start_time": "2022-06-06T10:49:02.046Z"
   },
   {
    "duration": 81,
    "start_time": "2022-06-06T10:49:02.052Z"
   },
   {
    "duration": 42,
    "start_time": "2022-06-06T10:49:02.135Z"
   },
   {
    "duration": 14,
    "start_time": "2022-06-06T10:49:02.179Z"
   },
   {
    "duration": 2110,
    "start_time": "2022-06-06T10:49:02.195Z"
   },
   {
    "duration": 67,
    "start_time": "2022-06-06T10:49:04.307Z"
   },
   {
    "duration": 65,
    "start_time": "2022-06-06T10:49:04.375Z"
   },
   {
    "duration": 33,
    "start_time": "2022-06-06T10:49:04.441Z"
   },
   {
    "duration": 12,
    "start_time": "2022-06-06T10:49:04.476Z"
   },
   {
    "duration": 1976,
    "start_time": "2022-06-06T10:49:04.489Z"
   },
   {
    "duration": 74,
    "start_time": "2022-06-06T10:49:06.466Z"
   },
   {
    "duration": 58,
    "start_time": "2022-06-06T10:49:06.544Z"
   },
   {
    "duration": 53,
    "start_time": "2022-06-06T10:49:06.603Z"
   },
   {
    "duration": 12,
    "start_time": "2022-06-06T10:49:06.657Z"
   },
   {
    "duration": 1890,
    "start_time": "2022-06-06T10:49:06.671Z"
   },
   {
    "duration": 209,
    "start_time": "2022-06-06T10:49:08.562Z"
   },
   {
    "duration": 71,
    "start_time": "2022-06-06T10:49:08.772Z"
   },
   {
    "duration": 15,
    "start_time": "2022-06-06T10:49:08.845Z"
   },
   {
    "duration": 9,
    "start_time": "2022-06-06T10:49:08.862Z"
   },
   {
    "duration": 4,
    "start_time": "2022-06-06T10:49:08.872Z"
   },
   {
    "duration": 17,
    "start_time": "2022-06-06T10:49:08.877Z"
   },
   {
    "duration": 34,
    "start_time": "2022-06-06T10:49:08.895Z"
   },
   {
    "duration": 205,
    "start_time": "2022-06-06T11:02:36.836Z"
   },
   {
    "duration": 13,
    "start_time": "2022-06-06T11:02:44.983Z"
   },
   {
    "duration": 9,
    "start_time": "2022-06-06T11:03:00.143Z"
   },
   {
    "duration": 10,
    "start_time": "2022-06-06T11:03:45.411Z"
   },
   {
    "duration": 7,
    "start_time": "2022-06-06T11:04:39.647Z"
   },
   {
    "duration": 13,
    "start_time": "2022-06-06T11:05:43.336Z"
   },
   {
    "duration": 14,
    "start_time": "2022-06-06T11:05:55.791Z"
   },
   {
    "duration": 16,
    "start_time": "2022-06-06T11:06:11.971Z"
   },
   {
    "duration": 9,
    "start_time": "2022-06-06T11:06:52.381Z"
   },
   {
    "duration": 12,
    "start_time": "2022-06-06T11:07:01.783Z"
   },
   {
    "duration": 11,
    "start_time": "2022-06-06T11:07:33.592Z"
   },
   {
    "duration": 39,
    "start_time": "2022-06-06T11:16:46.119Z"
   },
   {
    "duration": 11,
    "start_time": "2022-06-06T11:16:52.149Z"
   },
   {
    "duration": 11,
    "start_time": "2022-06-06T11:18:48.370Z"
   },
   {
    "duration": 12,
    "start_time": "2022-06-06T11:22:36.372Z"
   },
   {
    "duration": 13,
    "start_time": "2022-06-06T11:24:50.686Z"
   },
   {
    "duration": 22,
    "start_time": "2022-06-06T11:25:22.641Z"
   },
   {
    "duration": 15,
    "start_time": "2022-06-06T11:25:29.086Z"
   },
   {
    "duration": 1462,
    "start_time": "2022-06-06T11:26:34.523Z"
   },
   {
    "duration": 97,
    "start_time": "2022-06-06T11:26:35.993Z"
   },
   {
    "duration": 27,
    "start_time": "2022-06-06T11:26:36.093Z"
   },
   {
    "duration": 18,
    "start_time": "2022-06-06T11:26:36.122Z"
   },
   {
    "duration": 52,
    "start_time": "2022-06-06T11:26:36.143Z"
   },
   {
    "duration": 16,
    "start_time": "2022-06-06T11:26:36.197Z"
   },
   {
    "duration": 9,
    "start_time": "2022-06-06T11:26:36.215Z"
   },
   {
    "duration": 12,
    "start_time": "2022-06-06T11:26:36.238Z"
   },
   {
    "duration": 44,
    "start_time": "2022-06-06T11:26:36.252Z"
   },
   {
    "duration": 5,
    "start_time": "2022-06-06T11:26:36.299Z"
   },
   {
    "duration": 18,
    "start_time": "2022-06-06T11:26:36.305Z"
   },
   {
    "duration": 50,
    "start_time": "2022-06-06T11:26:36.325Z"
   },
   {
    "duration": 60,
    "start_time": "2022-06-06T11:26:36.377Z"
   },
   {
    "duration": 14,
    "start_time": "2022-06-06T11:26:36.441Z"
   },
   {
    "duration": 25,
    "start_time": "2022-06-06T11:26:36.457Z"
   },
   {
    "duration": 11,
    "start_time": "2022-06-06T11:26:36.484Z"
   },
   {
    "duration": 34,
    "start_time": "2022-06-06T11:26:36.496Z"
   },
   {
    "duration": 50,
    "start_time": "2022-06-06T11:26:36.536Z"
   },
   {
    "duration": 1503,
    "start_time": "2022-06-06T11:26:36.588Z"
   },
   {
    "duration": 23,
    "start_time": "2022-06-06T11:26:38.093Z"
   },
   {
    "duration": 93,
    "start_time": "2022-06-06T11:26:38.119Z"
   },
   {
    "duration": 5,
    "start_time": "2022-06-06T11:26:38.214Z"
   },
   {
    "duration": 86,
    "start_time": "2022-06-06T11:26:38.221Z"
   },
   {
    "duration": 39,
    "start_time": "2022-06-06T11:26:38.310Z"
   },
   {
    "duration": 27,
    "start_time": "2022-06-06T11:26:38.352Z"
   },
   {
    "duration": 17,
    "start_time": "2022-06-06T11:26:38.382Z"
   },
   {
    "duration": 115,
    "start_time": "2022-06-06T11:26:38.401Z"
   },
   {
    "duration": 17,
    "start_time": "2022-06-06T11:26:38.523Z"
   },
   {
    "duration": 92,
    "start_time": "2022-06-06T11:26:38.547Z"
   },
   {
    "duration": 10,
    "start_time": "2022-06-06T11:26:38.648Z"
   },
   {
    "duration": 2406,
    "start_time": "2022-06-06T11:26:38.660Z"
   },
   {
    "duration": 7,
    "start_time": "2022-06-06T11:26:41.071Z"
   },
   {
    "duration": 259,
    "start_time": "2022-06-06T11:26:41.080Z"
   },
   {
    "duration": 9,
    "start_time": "2022-06-06T11:26:41.344Z"
   },
   {
    "duration": 85,
    "start_time": "2022-06-06T11:26:41.354Z"
   },
   {
    "duration": 42,
    "start_time": "2022-06-06T11:26:41.440Z"
   },
   {
    "duration": 17,
    "start_time": "2022-06-06T11:26:41.484Z"
   },
   {
    "duration": 2888,
    "start_time": "2022-06-06T11:26:41.503Z"
   },
   {
    "duration": 120,
    "start_time": "2022-06-06T11:26:44.394Z"
   },
   {
    "duration": 97,
    "start_time": "2022-06-06T11:26:44.516Z"
   },
   {
    "duration": 44,
    "start_time": "2022-06-06T11:26:44.630Z"
   },
   {
    "duration": 17,
    "start_time": "2022-06-06T11:26:44.676Z"
   },
   {
    "duration": 2358,
    "start_time": "2022-06-06T11:26:44.695Z"
   },
   {
    "duration": 78,
    "start_time": "2022-06-06T11:26:47.055Z"
   },
   {
    "duration": 69,
    "start_time": "2022-06-06T11:26:47.142Z"
   },
   {
    "duration": 52,
    "start_time": "2022-06-06T11:26:47.212Z"
   },
   {
    "duration": 16,
    "start_time": "2022-06-06T11:26:47.266Z"
   },
   {
    "duration": 2170,
    "start_time": "2022-06-06T11:26:47.284Z"
   },
   {
    "duration": 221,
    "start_time": "2022-06-06T11:26:49.460Z"
   },
   {
    "duration": 91,
    "start_time": "2022-06-06T11:26:49.682Z"
   },
   {
    "duration": 17,
    "start_time": "2022-06-06T11:26:49.775Z"
   },
   {
    "duration": 38,
    "start_time": "2022-06-06T11:26:49.793Z"
   },
   {
    "duration": 4,
    "start_time": "2022-06-06T11:26:49.836Z"
   },
   {
    "duration": 34,
    "start_time": "2022-06-06T11:26:49.845Z"
   },
   {
    "duration": 11,
    "start_time": "2022-06-06T11:26:49.880Z"
   },
   {
    "duration": 36,
    "start_time": "2022-06-06T12:07:47.615Z"
   },
   {
    "duration": 27860,
    "start_time": "2022-06-06T12:08:47.925Z"
   },
   {
    "duration": 82,
    "start_time": "2022-06-06T12:09:34.867Z"
   },
   {
    "duration": 41,
    "start_time": "2022-06-06T12:10:00.145Z"
   },
   {
    "duration": 24,
    "start_time": "2022-06-06T12:11:48.983Z"
   },
   {
    "duration": 63,
    "start_time": "2022-06-06T12:11:56.786Z"
   },
   {
    "duration": 11,
    "start_time": "2022-06-06T12:12:20.505Z"
   },
   {
    "duration": 119,
    "start_time": "2022-06-06T12:12:27.484Z"
   },
   {
    "duration": 71,
    "start_time": "2022-06-06T12:19:56.115Z"
   },
   {
    "duration": 25,
    "start_time": "2022-06-06T12:20:10.196Z"
   },
   {
    "duration": 23,
    "start_time": "2022-06-06T12:20:18.484Z"
   },
   {
    "duration": 47,
    "start_time": "2022-06-06T12:20:37.268Z"
   },
   {
    "duration": 68,
    "start_time": "2022-06-06T12:21:07.896Z"
   },
   {
    "duration": 57,
    "start_time": "2022-06-06T12:21:30.013Z"
   },
   {
    "duration": 4,
    "start_time": "2022-06-06T12:22:18.275Z"
   },
   {
    "duration": 4,
    "start_time": "2022-06-06T12:22:22.811Z"
   },
   {
    "duration": 745,
    "start_time": "2022-06-06T12:22:48.675Z"
   },
   {
    "duration": 5,
    "start_time": "2022-06-06T12:23:22.464Z"
   },
   {
    "duration": 17,
    "start_time": "2022-06-06T12:23:25.422Z"
   },
   {
    "duration": 3,
    "start_time": "2022-06-06T12:24:23.325Z"
   },
   {
    "duration": 23,
    "start_time": "2022-06-06T12:24:26.107Z"
   },
   {
    "duration": 5,
    "start_time": "2022-06-06T12:25:19.714Z"
   },
   {
    "duration": 14,
    "start_time": "2022-06-06T12:25:21.614Z"
   },
   {
    "duration": 7,
    "start_time": "2022-06-06T12:25:33.880Z"
   },
   {
    "duration": 27,
    "start_time": "2022-06-06T12:25:36.047Z"
   },
   {
    "duration": 5,
    "start_time": "2022-06-06T12:25:55.328Z"
   },
   {
    "duration": 22,
    "start_time": "2022-06-06T12:25:56.972Z"
   },
   {
    "duration": 14,
    "start_time": "2022-06-06T12:27:06.191Z"
   },
   {
    "duration": 69,
    "start_time": "2022-06-06T12:27:12.057Z"
   },
   {
    "duration": 13,
    "start_time": "2022-06-06T12:27:14.478Z"
   },
   {
    "duration": 9,
    "start_time": "2022-06-06T12:27:19.684Z"
   },
   {
    "duration": 5,
    "start_time": "2022-06-06T12:28:00.786Z"
   },
   {
    "duration": 21,
    "start_time": "2022-06-06T12:28:02.290Z"
   },
   {
    "duration": 27,
    "start_time": "2022-06-06T12:28:21.847Z"
   },
   {
    "duration": 1244,
    "start_time": "2022-06-06T12:29:05.874Z"
   },
   {
    "duration": 59,
    "start_time": "2022-06-06T12:29:11.915Z"
   },
   {
    "duration": 18,
    "start_time": "2022-06-06T12:29:14.451Z"
   },
   {
    "duration": 82,
    "start_time": "2022-06-06T12:29:34.855Z"
   },
   {
    "duration": 10,
    "start_time": "2022-06-06T12:29:45.084Z"
   },
   {
    "duration": 6,
    "start_time": "2022-06-06T12:31:05.305Z"
   },
   {
    "duration": 99,
    "start_time": "2022-06-06T12:31:07.204Z"
   },
   {
    "duration": 6,
    "start_time": "2022-06-06T12:31:25.994Z"
   },
   {
    "duration": 77,
    "start_time": "2022-06-06T12:31:27.783Z"
   },
   {
    "duration": 4,
    "start_time": "2022-06-06T15:06:25.258Z"
   },
   {
    "duration": 11,
    "start_time": "2022-06-06T15:06:56.910Z"
   },
   {
    "duration": 13,
    "start_time": "2022-06-06T15:07:05.777Z"
   },
   {
    "duration": 5,
    "start_time": "2022-06-06T15:07:49.775Z"
   },
   {
    "duration": 13,
    "start_time": "2022-06-06T15:07:53.888Z"
   },
   {
    "duration": 9,
    "start_time": "2022-06-06T15:10:23.049Z"
   },
   {
    "duration": 15,
    "start_time": "2022-06-06T15:10:25.785Z"
   },
   {
    "duration": 14,
    "start_time": "2022-06-06T15:13:17.266Z"
   },
   {
    "duration": 3,
    "start_time": "2022-06-06T15:13:45.686Z"
   },
   {
    "duration": 38,
    "start_time": "2022-06-06T15:13:48.244Z"
   },
   {
    "duration": 12,
    "start_time": "2022-06-06T15:14:13.434Z"
   },
   {
    "duration": 23,
    "start_time": "2022-06-06T15:14:28.360Z"
   },
   {
    "duration": 12,
    "start_time": "2022-06-06T15:14:40.082Z"
   },
   {
    "duration": 48,
    "start_time": "2022-06-06T15:14:50.563Z"
   },
   {
    "duration": 5,
    "start_time": "2022-06-06T15:15:59.487Z"
   },
   {
    "duration": 103,
    "start_time": "2022-06-06T15:16:05.249Z"
   },
   {
    "duration": 10,
    "start_time": "2022-06-06T15:16:57.046Z"
   },
   {
    "duration": 22,
    "start_time": "2022-06-06T15:16:59.951Z"
   },
   {
    "duration": 6,
    "start_time": "2022-06-06T15:17:40.393Z"
   },
   {
    "duration": 70,
    "start_time": "2022-06-06T15:17:42.936Z"
   },
   {
    "duration": 64,
    "start_time": "2022-06-06T15:19:58.926Z"
   },
   {
    "duration": 27,
    "start_time": "2022-06-06T15:20:17.493Z"
   },
   {
    "duration": 5,
    "start_time": "2022-06-06T15:21:36.886Z"
   },
   {
    "duration": 19,
    "start_time": "2022-06-06T15:21:39.753Z"
   },
   {
    "duration": 8,
    "start_time": "2022-06-06T15:22:50.758Z"
   },
   {
    "duration": 25,
    "start_time": "2022-06-06T15:22:52.964Z"
   },
   {
    "duration": 15,
    "start_time": "2022-06-06T15:23:24.090Z"
   },
   {
    "duration": 3,
    "start_time": "2022-06-06T15:23:24.166Z"
   },
   {
    "duration": 5,
    "start_time": "2022-06-06T15:23:43.211Z"
   },
   {
    "duration": 20,
    "start_time": "2022-06-06T15:23:44.170Z"
   },
   {
    "duration": 6,
    "start_time": "2022-06-06T15:25:07.649Z"
   },
   {
    "duration": 18,
    "start_time": "2022-06-06T15:25:09.486Z"
   },
   {
    "duration": 5,
    "start_time": "2022-06-06T15:25:35.672Z"
   },
   {
    "duration": 18,
    "start_time": "2022-06-06T15:25:37.566Z"
   },
   {
    "duration": 10,
    "start_time": "2022-06-06T15:43:05.934Z"
   },
   {
    "duration": 62,
    "start_time": "2022-06-06T15:43:14.901Z"
   },
   {
    "duration": 4,
    "start_time": "2022-06-06T15:44:54.298Z"
   },
   {
    "duration": 14,
    "start_time": "2022-06-06T15:44:56.851Z"
   },
   {
    "duration": 110,
    "start_time": "2022-06-06T15:56:39.105Z"
   },
   {
    "duration": 4,
    "start_time": "2022-06-06T15:57:58.875Z"
   },
   {
    "duration": 20,
    "start_time": "2022-06-06T15:58:01.796Z"
   },
   {
    "duration": 4,
    "start_time": "2022-06-06T16:00:26.189Z"
   },
   {
    "duration": 47,
    "start_time": "2022-06-06T16:00:30.757Z"
   },
   {
    "duration": 4,
    "start_time": "2022-06-06T16:02:12.062Z"
   },
   {
    "duration": 22,
    "start_time": "2022-06-06T16:02:14.939Z"
   },
   {
    "duration": 7,
    "start_time": "2022-06-06T16:03:18.863Z"
   },
   {
    "duration": 19,
    "start_time": "2022-06-06T16:03:21.580Z"
   },
   {
    "duration": 10,
    "start_time": "2022-06-06T16:05:37.352Z"
   },
   {
    "duration": 3,
    "start_time": "2022-06-06T16:05:47.370Z"
   },
   {
    "duration": 15,
    "start_time": "2022-06-06T16:05:49.355Z"
   },
   {
    "duration": 18,
    "start_time": "2022-06-06T16:36:51.169Z"
   },
   {
    "duration": 7,
    "start_time": "2022-06-06T16:40:33.308Z"
   },
   {
    "duration": 10,
    "start_time": "2022-06-06T16:48:17.825Z"
   },
   {
    "duration": 11,
    "start_time": "2022-06-06T16:48:45.055Z"
   },
   {
    "duration": 16,
    "start_time": "2022-06-06T16:49:03.022Z"
   },
   {
    "duration": 18,
    "start_time": "2022-06-06T16:49:59.542Z"
   },
   {
    "duration": 29,
    "start_time": "2022-06-06T16:52:34.986Z"
   },
   {
    "duration": 26,
    "start_time": "2022-06-06T16:52:54.506Z"
   },
   {
    "duration": 49,
    "start_time": "2022-06-06T16:56:32.286Z"
   },
   {
    "duration": 20,
    "start_time": "2022-06-06T16:56:49.646Z"
   },
   {
    "duration": 30,
    "start_time": "2022-06-06T16:57:08.547Z"
   },
   {
    "duration": 28,
    "start_time": "2022-06-06T16:58:06.959Z"
   },
   {
    "duration": 25,
    "start_time": "2022-06-06T16:59:21.076Z"
   },
   {
    "duration": 15,
    "start_time": "2022-06-06T17:06:44.250Z"
   },
   {
    "duration": 70,
    "start_time": "2022-06-06T17:09:17.924Z"
   },
   {
    "duration": 193,
    "start_time": "2022-06-06T17:11:46.220Z"
   },
   {
    "duration": 24,
    "start_time": "2022-06-06T17:12:25.284Z"
   },
   {
    "duration": 33,
    "start_time": "2022-06-06T17:14:44.461Z"
   },
   {
    "duration": 15,
    "start_time": "2022-06-06T17:39:37.562Z"
   },
   {
    "duration": 1512,
    "start_time": "2022-06-06T17:39:53.668Z"
   },
   {
    "duration": 101,
    "start_time": "2022-06-06T17:39:55.183Z"
   },
   {
    "duration": 20,
    "start_time": "2022-06-06T17:39:55.286Z"
   },
   {
    "duration": 25,
    "start_time": "2022-06-06T17:39:55.308Z"
   },
   {
    "duration": 33,
    "start_time": "2022-06-06T17:39:55.347Z"
   },
   {
    "duration": 12,
    "start_time": "2022-06-06T17:39:55.383Z"
   },
   {
    "duration": 31,
    "start_time": "2022-06-06T17:39:55.397Z"
   },
   {
    "duration": 59,
    "start_time": "2022-06-06T17:39:55.435Z"
   },
   {
    "duration": 27,
    "start_time": "2022-06-06T17:39:55.496Z"
   },
   {
    "duration": 65,
    "start_time": "2022-06-06T17:39:55.525Z"
   },
   {
    "duration": 16,
    "start_time": "2022-06-06T17:39:55.593Z"
   },
   {
    "duration": 76,
    "start_time": "2022-06-06T17:39:55.611Z"
   },
   {
    "duration": 64,
    "start_time": "2022-06-06T17:39:55.689Z"
   },
   {
    "duration": 11,
    "start_time": "2022-06-06T17:39:55.760Z"
   },
   {
    "duration": 21,
    "start_time": "2022-06-06T17:39:55.774Z"
   },
   {
    "duration": 19,
    "start_time": "2022-06-06T17:39:55.797Z"
   },
   {
    "duration": 52,
    "start_time": "2022-06-06T17:39:55.819Z"
   },
   {
    "duration": 20,
    "start_time": "2022-06-06T17:39:55.873Z"
   },
   {
    "duration": 1593,
    "start_time": "2022-06-06T17:39:55.895Z"
   },
   {
    "duration": 21,
    "start_time": "2022-06-06T17:39:57.490Z"
   },
   {
    "duration": 102,
    "start_time": "2022-06-06T17:39:57.512Z"
   },
   {
    "duration": 57,
    "start_time": "2022-06-06T17:39:57.616Z"
   },
   {
    "duration": 23,
    "start_time": "2022-06-06T17:39:57.675Z"
   },
   {
    "duration": 70,
    "start_time": "2022-06-06T17:39:57.700Z"
   },
   {
    "duration": 8,
    "start_time": "2022-06-06T17:39:57.772Z"
   },
   {
    "duration": 220,
    "start_time": "2022-06-06T17:39:57.782Z"
   },
   {
    "duration": 5,
    "start_time": "2022-06-06T17:39:58.004Z"
   },
   {
    "duration": 112,
    "start_time": "2022-06-06T17:39:58.011Z"
   },
   {
    "duration": 5,
    "start_time": "2022-06-06T17:39:58.126Z"
   },
   {
    "duration": 2764,
    "start_time": "2022-06-06T17:39:58.133Z"
   },
   {
    "duration": 7,
    "start_time": "2022-06-06T17:40:00.899Z"
   },
   {
    "duration": 449,
    "start_time": "2022-06-06T17:40:00.908Z"
   },
   {
    "duration": 16,
    "start_time": "2022-06-06T17:40:01.363Z"
   },
   {
    "duration": 107,
    "start_time": "2022-06-06T17:40:01.381Z"
   },
   {
    "duration": 68,
    "start_time": "2022-06-06T17:40:01.490Z"
   },
   {
    "duration": 31,
    "start_time": "2022-06-06T17:40:01.560Z"
   },
   {
    "duration": 27,
    "start_time": "2022-06-06T17:40:01.593Z"
   },
   {
    "duration": 59,
    "start_time": "2022-06-06T17:40:01.622Z"
   },
   {
    "duration": 2930,
    "start_time": "2022-06-06T17:40:01.683Z"
   },
   {
    "duration": 90,
    "start_time": "2022-06-06T17:40:04.615Z"
   },
   {
    "duration": 97,
    "start_time": "2022-06-06T17:40:04.709Z"
   },
   {
    "duration": 74,
    "start_time": "2022-06-06T17:40:04.809Z"
   },
   {
    "duration": 11,
    "start_time": "2022-06-06T17:40:04.886Z"
   },
   {
    "duration": 35,
    "start_time": "2022-06-06T17:40:04.899Z"
   },
   {
    "duration": 2660,
    "start_time": "2022-06-06T17:40:04.941Z"
   },
   {
    "duration": 90,
    "start_time": "2022-06-06T17:40:07.604Z"
   },
   {
    "duration": 84,
    "start_time": "2022-06-06T17:40:07.696Z"
   },
   {
    "duration": 89,
    "start_time": "2022-06-06T17:40:07.782Z"
   },
   {
    "duration": 22,
    "start_time": "2022-06-06T17:40:07.886Z"
   },
   {
    "duration": 90,
    "start_time": "2022-06-06T17:40:07.910Z"
   },
   {
    "duration": 2506,
    "start_time": "2022-06-06T17:40:08.001Z"
   },
   {
    "duration": 28,
    "start_time": "2022-06-06T17:40:10.509Z"
   },
   {
    "duration": 45,
    "start_time": "2022-06-06T17:40:10.539Z"
   },
   {
    "duration": 23,
    "start_time": "2022-06-06T17:40:10.586Z"
   },
   {
    "duration": 25,
    "start_time": "2022-06-06T17:40:10.611Z"
   },
   {
    "duration": 46,
    "start_time": "2022-06-06T17:40:10.637Z"
   },
   {
    "duration": 55,
    "start_time": "2022-06-06T17:58:10.108Z"
   },
   {
    "duration": 39,
    "start_time": "2022-06-06T17:58:59.893Z"
   },
   {
    "duration": 279,
    "start_time": "2022-06-06T17:59:19.766Z"
   },
   {
    "duration": 29,
    "start_time": "2022-06-06T18:20:02.928Z"
   },
   {
    "duration": 52,
    "start_time": "2022-06-06T18:20:17.070Z"
   },
   {
    "duration": 18,
    "start_time": "2022-06-06T18:20:26.708Z"
   },
   {
    "duration": 26,
    "start_time": "2022-06-06T18:20:49.097Z"
   },
   {
    "duration": 35,
    "start_time": "2022-06-06T18:21:10.580Z"
   },
   {
    "duration": 28,
    "start_time": "2022-06-06T18:21:18.655Z"
   },
   {
    "duration": 19,
    "start_time": "2022-06-06T18:21:24.676Z"
   },
   {
    "duration": 301,
    "start_time": "2022-06-06T18:22:04.292Z"
   },
   {
    "duration": 20,
    "start_time": "2022-06-06T18:22:16.847Z"
   },
   {
    "duration": 20,
    "start_time": "2022-06-06T18:24:07.359Z"
   },
   {
    "duration": 45,
    "start_time": "2022-06-06T18:24:31.660Z"
   },
   {
    "duration": 18,
    "start_time": "2022-06-06T18:25:23.452Z"
   },
   {
    "duration": 22,
    "start_time": "2022-06-06T18:28:15.367Z"
   },
   {
    "duration": 29,
    "start_time": "2022-06-06T18:29:37.450Z"
   },
   {
    "duration": 24,
    "start_time": "2022-06-06T18:32:18.519Z"
   },
   {
    "duration": 24,
    "start_time": "2022-06-06T18:40:01.982Z"
   },
   {
    "duration": 29,
    "start_time": "2022-06-06T18:40:10.599Z"
   },
   {
    "duration": 51,
    "start_time": "2022-06-06T18:41:41.242Z"
   },
   {
    "duration": 25,
    "start_time": "2022-06-06T18:41:53.302Z"
   },
   {
    "duration": 32,
    "start_time": "2022-06-06T18:44:25.459Z"
   },
   {
    "duration": 75,
    "start_time": "2022-06-06T18:44:36.115Z"
   },
   {
    "duration": 19,
    "start_time": "2022-06-06T18:47:01.572Z"
   },
   {
    "duration": 1415,
    "start_time": "2022-06-07T20:50:20.420Z"
   },
   {
    "duration": 54,
    "start_time": "2022-06-07T20:50:21.838Z"
   },
   {
    "duration": 16,
    "start_time": "2022-06-07T20:50:21.894Z"
   },
   {
    "duration": 12,
    "start_time": "2022-06-07T20:50:21.911Z"
   },
   {
    "duration": 4,
    "start_time": "2022-06-07T20:50:21.925Z"
   },
   {
    "duration": 8,
    "start_time": "2022-06-07T20:50:21.931Z"
   },
   {
    "duration": 5,
    "start_time": "2022-06-07T20:50:21.941Z"
   },
   {
    "duration": 17,
    "start_time": "2022-06-07T20:50:21.948Z"
   },
   {
    "duration": 10,
    "start_time": "2022-06-07T20:50:21.967Z"
   },
   {
    "duration": 4,
    "start_time": "2022-06-07T20:50:21.980Z"
   },
   {
    "duration": 10,
    "start_time": "2022-06-07T20:50:21.986Z"
   },
   {
    "duration": 9,
    "start_time": "2022-06-07T20:50:21.998Z"
   },
   {
    "duration": 71,
    "start_time": "2022-06-07T20:50:22.008Z"
   },
   {
    "duration": 8,
    "start_time": "2022-06-07T20:50:22.081Z"
   },
   {
    "duration": 4,
    "start_time": "2022-06-07T20:50:22.091Z"
   },
   {
    "duration": 5,
    "start_time": "2022-06-07T20:50:22.096Z"
   },
   {
    "duration": 7,
    "start_time": "2022-06-07T20:50:22.102Z"
   },
   {
    "duration": 15,
    "start_time": "2022-06-07T20:50:22.111Z"
   },
   {
    "duration": 1287,
    "start_time": "2022-06-07T20:50:22.128Z"
   },
   {
    "duration": 15,
    "start_time": "2022-06-07T20:50:23.416Z"
   },
   {
    "duration": 44,
    "start_time": "2022-06-07T20:50:23.432Z"
   },
   {
    "duration": 101,
    "start_time": "2022-06-07T20:50:23.478Z"
   },
   {
    "duration": 2,
    "start_time": "2022-06-07T20:50:23.581Z"
   },
   {
    "duration": 11,
    "start_time": "2022-06-07T20:50:23.585Z"
   },
   {
    "duration": 13,
    "start_time": "2022-06-07T20:50:23.598Z"
   },
   {
    "duration": 61,
    "start_time": "2022-06-07T20:50:23.613Z"
   },
   {
    "duration": 4,
    "start_time": "2022-06-07T20:50:23.676Z"
   },
   {
    "duration": 27,
    "start_time": "2022-06-07T20:50:23.686Z"
   },
   {
    "duration": 25,
    "start_time": "2022-06-07T20:50:23.766Z"
   },
   {
    "duration": 16,
    "start_time": "2022-06-07T20:50:23.793Z"
   },
   {
    "duration": 109,
    "start_time": "2022-06-07T20:50:23.811Z"
   },
   {
    "duration": 31,
    "start_time": "2022-06-07T20:50:23.922Z"
   },
   {
    "duration": 23,
    "start_time": "2022-06-07T20:50:23.964Z"
   },
   {
    "duration": 5,
    "start_time": "2022-06-07T20:50:23.989Z"
   },
   {
    "duration": 300,
    "start_time": "2022-06-07T20:50:23.996Z"
   },
   {
    "duration": 0,
    "start_time": "2022-06-07T20:50:24.298Z"
   },
   {
    "duration": 0,
    "start_time": "2022-06-07T20:50:24.299Z"
   },
   {
    "duration": 0,
    "start_time": "2022-06-07T20:50:24.300Z"
   },
   {
    "duration": 0,
    "start_time": "2022-06-07T20:50:24.301Z"
   },
   {
    "duration": 0,
    "start_time": "2022-06-07T20:50:24.303Z"
   },
   {
    "duration": 0,
    "start_time": "2022-06-07T20:50:24.304Z"
   },
   {
    "duration": 0,
    "start_time": "2022-06-07T20:50:24.305Z"
   },
   {
    "duration": 0,
    "start_time": "2022-06-07T20:50:24.306Z"
   },
   {
    "duration": 0,
    "start_time": "2022-06-07T20:50:24.307Z"
   },
   {
    "duration": 0,
    "start_time": "2022-06-07T20:50:24.308Z"
   },
   {
    "duration": 0,
    "start_time": "2022-06-07T20:50:24.309Z"
   },
   {
    "duration": 0,
    "start_time": "2022-06-07T20:50:24.310Z"
   },
   {
    "duration": 0,
    "start_time": "2022-06-07T20:50:24.311Z"
   },
   {
    "duration": 0,
    "start_time": "2022-06-07T20:50:24.312Z"
   },
   {
    "duration": 0,
    "start_time": "2022-06-07T20:50:24.313Z"
   },
   {
    "duration": 0,
    "start_time": "2022-06-07T20:50:24.314Z"
   },
   {
    "duration": 0,
    "start_time": "2022-06-07T20:50:24.315Z"
   },
   {
    "duration": 0,
    "start_time": "2022-06-07T20:50:24.316Z"
   },
   {
    "duration": 0,
    "start_time": "2022-06-07T20:50:24.318Z"
   },
   {
    "duration": 0,
    "start_time": "2022-06-07T20:50:24.319Z"
   },
   {
    "duration": 0,
    "start_time": "2022-06-07T20:50:24.320Z"
   },
   {
    "duration": 0,
    "start_time": "2022-06-07T20:50:24.364Z"
   },
   {
    "duration": 0,
    "start_time": "2022-06-07T20:50:24.365Z"
   },
   {
    "duration": 0,
    "start_time": "2022-06-07T20:50:24.366Z"
   },
   {
    "duration": 0,
    "start_time": "2022-06-07T20:50:24.367Z"
   },
   {
    "duration": 0,
    "start_time": "2022-06-07T20:50:24.369Z"
   },
   {
    "duration": 0,
    "start_time": "2022-06-07T20:50:24.370Z"
   },
   {
    "duration": 0,
    "start_time": "2022-06-07T20:50:24.371Z"
   },
   {
    "duration": 0,
    "start_time": "2022-06-07T20:50:24.372Z"
   },
   {
    "duration": 0,
    "start_time": "2022-06-07T20:50:24.373Z"
   },
   {
    "duration": 0,
    "start_time": "2022-06-07T20:50:24.375Z"
   },
   {
    "duration": 0,
    "start_time": "2022-06-07T20:50:24.376Z"
   },
   {
    "duration": 0,
    "start_time": "2022-06-07T20:50:24.377Z"
   },
   {
    "duration": 0,
    "start_time": "2022-06-07T20:50:24.378Z"
   },
   {
    "duration": 0,
    "start_time": "2022-06-07T20:50:24.380Z"
   },
   {
    "duration": 189,
    "start_time": "2022-06-07T20:54:01.717Z"
   },
   {
    "duration": 756,
    "start_time": "2022-06-07T20:56:01.430Z"
   },
   {
    "duration": 489,
    "start_time": "2022-06-07T21:04:46.338Z"
   },
   {
    "duration": 656,
    "start_time": "2022-06-07T21:05:04.955Z"
   },
   {
    "duration": 298,
    "start_time": "2022-06-07T21:06:10.949Z"
   },
   {
    "duration": 179,
    "start_time": "2022-06-07T21:06:56.381Z"
   },
   {
    "duration": 831,
    "start_time": "2022-06-07T21:07:28.290Z"
   },
   {
    "duration": 25,
    "start_time": "2022-06-07T21:11:55.910Z"
   },
   {
    "duration": 16,
    "start_time": "2022-06-07T21:12:03.165Z"
   },
   {
    "duration": 646,
    "start_time": "2022-06-07T21:12:10.884Z"
   },
   {
    "duration": 12,
    "start_time": "2022-06-07T21:12:22.586Z"
   },
   {
    "duration": 11,
    "start_time": "2022-06-07T21:12:50.844Z"
   },
   {
    "duration": 34,
    "start_time": "2022-06-07T21:13:25.466Z"
   },
   {
    "duration": 11,
    "start_time": "2022-06-07T21:13:45.690Z"
   },
   {
    "duration": 11,
    "start_time": "2022-06-07T21:14:04.930Z"
   },
   {
    "duration": 14,
    "start_time": "2022-06-07T21:14:19.448Z"
   },
   {
    "duration": 19,
    "start_time": "2022-06-07T21:14:50.718Z"
   },
   {
    "duration": 20,
    "start_time": "2022-06-07T21:15:00.955Z"
   },
   {
    "duration": 9,
    "start_time": "2022-06-07T21:15:12.850Z"
   },
   {
    "duration": 18,
    "start_time": "2022-06-07T21:15:34.816Z"
   },
   {
    "duration": 4,
    "start_time": "2022-06-07T21:55:57.011Z"
   },
   {
    "duration": 13,
    "start_time": "2022-06-07T21:56:29.802Z"
   },
   {
    "duration": 17,
    "start_time": "2022-06-07T21:56:36.805Z"
   },
   {
    "duration": 3,
    "start_time": "2022-06-07T22:02:40.324Z"
   },
   {
    "duration": 17,
    "start_time": "2022-06-07T22:02:43.191Z"
   },
   {
    "duration": 16,
    "start_time": "2022-06-07T22:02:48.085Z"
   },
   {
    "duration": 17,
    "start_time": "2022-06-07T22:02:49.503Z"
   },
   {
    "duration": 4,
    "start_time": "2022-06-07T22:08:22.176Z"
   },
   {
    "duration": 17,
    "start_time": "2022-06-07T22:08:23.453Z"
   },
   {
    "duration": 19,
    "start_time": "2022-06-07T22:08:25.103Z"
   },
   {
    "duration": 19,
    "start_time": "2022-06-07T22:08:26.983Z"
   },
   {
    "duration": 20,
    "start_time": "2022-06-07T22:08:52.371Z"
   },
   {
    "duration": 21,
    "start_time": "2022-06-07T22:09:16.966Z"
   },
   {
    "duration": 24,
    "start_time": "2022-06-07T22:09:18.877Z"
   },
   {
    "duration": 10,
    "start_time": "2022-06-07T22:09:19.825Z"
   },
   {
    "duration": 18,
    "start_time": "2022-06-07T22:09:31.384Z"
   },
   {
    "duration": 17,
    "start_time": "2022-06-07T22:16:28.389Z"
   },
   {
    "duration": 18,
    "start_time": "2022-06-07T22:16:29.452Z"
   },
   {
    "duration": 19,
    "start_time": "2022-06-07T22:16:31.365Z"
   },
   {
    "duration": 17,
    "start_time": "2022-06-07T22:53:24.792Z"
   },
   {
    "duration": 17,
    "start_time": "2022-06-07T23:15:09.947Z"
   },
   {
    "duration": 4,
    "start_time": "2022-06-07T23:16:53.659Z"
   },
   {
    "duration": 182,
    "start_time": "2022-06-07T23:17:09.151Z"
   },
   {
    "duration": 15,
    "start_time": "2022-06-07T23:17:24.528Z"
   },
   {
    "duration": 16,
    "start_time": "2022-06-07T23:18:10.929Z"
   },
   {
    "duration": 3,
    "start_time": "2022-06-07T23:18:24.662Z"
   },
   {
    "duration": 17,
    "start_time": "2022-06-07T23:18:24.704Z"
   },
   {
    "duration": 4,
    "start_time": "2022-06-07T23:18:33.029Z"
   },
   {
    "duration": 16,
    "start_time": "2022-06-07T23:18:40.137Z"
   },
   {
    "duration": 15,
    "start_time": "2022-06-07T23:19:15.514Z"
   },
   {
    "duration": 16,
    "start_time": "2022-06-07T23:19:42.130Z"
   },
   {
    "duration": 20,
    "start_time": "2022-06-07T23:20:05.242Z"
   },
   {
    "duration": 17,
    "start_time": "2022-06-07T23:23:40.845Z"
   },
   {
    "duration": 17,
    "start_time": "2022-06-07T23:23:43.373Z"
   },
   {
    "duration": 17,
    "start_time": "2022-06-07T23:23:45.914Z"
   },
   {
    "duration": 20,
    "start_time": "2022-06-07T23:25:22.009Z"
   },
   {
    "duration": 21,
    "start_time": "2022-06-07T23:25:57.426Z"
   },
   {
    "duration": 19,
    "start_time": "2022-06-07T23:43:58.551Z"
   },
   {
    "duration": 5,
    "start_time": "2022-06-07T23:45:26.755Z"
   },
   {
    "duration": 14,
    "start_time": "2022-06-07T23:45:27.558Z"
   },
   {
    "duration": 12,
    "start_time": "2022-06-07T23:45:35.890Z"
   },
   {
    "duration": 3,
    "start_time": "2022-06-07T23:50:12.459Z"
   },
   {
    "duration": 12,
    "start_time": "2022-06-07T23:50:16.791Z"
   },
   {
    "duration": 3,
    "start_time": "2022-06-07T23:50:30.780Z"
   },
   {
    "duration": 13,
    "start_time": "2022-06-07T23:50:33.988Z"
   },
   {
    "duration": 10,
    "start_time": "2022-06-07T23:51:04.279Z"
   },
   {
    "duration": 16,
    "start_time": "2022-06-07T23:52:59.740Z"
   },
   {
    "duration": 4,
    "start_time": "2022-06-08T00:22:49.068Z"
   },
   {
    "duration": 5,
    "start_time": "2022-06-08T00:22:51.774Z"
   },
   {
    "duration": 10,
    "start_time": "2022-06-08T00:29:56.095Z"
   },
   {
    "duration": 5,
    "start_time": "2022-06-08T01:58:31.849Z"
   },
   {
    "duration": 19,
    "start_time": "2022-06-08T01:58:34.549Z"
   },
   {
    "duration": 16,
    "start_time": "2022-06-08T01:58:47.921Z"
   },
   {
    "duration": 5,
    "start_time": "2022-06-08T01:58:55.089Z"
   },
   {
    "duration": 16,
    "start_time": "2022-06-08T01:58:56.141Z"
   },
   {
    "duration": 18,
    "start_time": "2022-06-08T02:00:11.309Z"
   },
   {
    "duration": 16,
    "start_time": "2022-06-08T02:02:33.070Z"
   },
   {
    "duration": 12,
    "start_time": "2022-06-08T02:02:34.429Z"
   },
   {
    "duration": 16,
    "start_time": "2022-06-08T02:02:34.842Z"
   },
   {
    "duration": 18,
    "start_time": "2022-06-08T02:02:59.041Z"
   },
   {
    "duration": 16,
    "start_time": "2022-06-08T02:03:05.788Z"
   },
   {
    "duration": 17,
    "start_time": "2022-06-08T02:03:08.121Z"
   },
   {
    "duration": 19,
    "start_time": "2022-06-08T02:03:28.910Z"
   },
   {
    "duration": 11,
    "start_time": "2022-06-08T02:04:42.807Z"
   },
   {
    "duration": 16,
    "start_time": "2022-06-08T02:04:58.389Z"
   },
   {
    "duration": 10,
    "start_time": "2022-06-08T02:05:35.009Z"
   },
   {
    "duration": 16,
    "start_time": "2022-06-08T02:05:38.681Z"
   },
   {
    "duration": 19,
    "start_time": "2022-06-08T02:05:40.789Z"
   },
   {
    "duration": 1429,
    "start_time": "2022-06-08T08:53:19.069Z"
   },
   {
    "duration": 61,
    "start_time": "2022-06-08T08:53:20.500Z"
   },
   {
    "duration": 19,
    "start_time": "2022-06-08T08:53:20.563Z"
   },
   {
    "duration": 22,
    "start_time": "2022-06-08T08:53:20.584Z"
   },
   {
    "duration": 5,
    "start_time": "2022-06-08T08:53:20.608Z"
   },
   {
    "duration": 13,
    "start_time": "2022-06-08T08:53:20.615Z"
   },
   {
    "duration": 14,
    "start_time": "2022-06-08T08:53:20.629Z"
   },
   {
    "duration": 14,
    "start_time": "2022-06-08T08:53:20.645Z"
   },
   {
    "duration": 18,
    "start_time": "2022-06-08T08:53:20.660Z"
   },
   {
    "duration": 5,
    "start_time": "2022-06-08T08:53:20.680Z"
   },
   {
    "duration": 18,
    "start_time": "2022-06-08T08:53:20.687Z"
   },
   {
    "duration": 11,
    "start_time": "2022-06-08T08:53:20.707Z"
   },
   {
    "duration": 42,
    "start_time": "2022-06-08T08:53:20.725Z"
   },
   {
    "duration": 8,
    "start_time": "2022-06-08T08:53:20.771Z"
   },
   {
    "duration": 6,
    "start_time": "2022-06-08T08:53:20.781Z"
   },
   {
    "duration": 8,
    "start_time": "2022-06-08T08:53:20.788Z"
   },
   {
    "duration": 8,
    "start_time": "2022-06-08T08:53:20.797Z"
   },
   {
    "duration": 31,
    "start_time": "2022-06-08T08:53:20.806Z"
   },
   {
    "duration": 1299,
    "start_time": "2022-06-08T08:53:20.838Z"
   },
   {
    "duration": 56,
    "start_time": "2022-06-08T08:53:22.139Z"
   },
   {
    "duration": 129,
    "start_time": "2022-06-08T08:53:22.198Z"
   },
   {
    "duration": 4,
    "start_time": "2022-06-08T08:53:22.329Z"
   },
   {
    "duration": 30,
    "start_time": "2022-06-08T08:53:22.334Z"
   },
   {
    "duration": 9,
    "start_time": "2022-06-08T08:53:22.366Z"
   },
   {
    "duration": 53,
    "start_time": "2022-06-08T08:53:22.377Z"
   },
   {
    "duration": 4,
    "start_time": "2022-06-08T08:53:22.431Z"
   },
   {
    "duration": 22,
    "start_time": "2022-06-08T08:53:22.436Z"
   },
   {
    "duration": 71,
    "start_time": "2022-06-08T08:53:22.459Z"
   },
   {
    "duration": 17,
    "start_time": "2022-06-08T08:53:22.532Z"
   },
   {
    "duration": 6,
    "start_time": "2022-06-08T08:53:22.550Z"
   },
   {
    "duration": 93,
    "start_time": "2022-06-08T08:53:22.558Z"
   },
   {
    "duration": 16,
    "start_time": "2022-06-08T08:53:22.653Z"
   },
   {
    "duration": 15,
    "start_time": "2022-06-08T08:53:22.671Z"
   },
   {
    "duration": 17,
    "start_time": "2022-06-08T08:53:22.688Z"
   },
   {
    "duration": 17,
    "start_time": "2022-06-08T08:53:22.725Z"
   },
   {
    "duration": 20,
    "start_time": "2022-06-08T08:53:22.744Z"
   },
   {
    "duration": 17,
    "start_time": "2022-06-08T08:53:22.766Z"
   },
   {
    "duration": 49,
    "start_time": "2022-06-08T08:53:22.785Z"
   },
   {
    "duration": 17,
    "start_time": "2022-06-08T08:53:22.836Z"
   },
   {
    "duration": 28,
    "start_time": "2022-06-08T08:53:22.855Z"
   },
   {
    "duration": 42,
    "start_time": "2022-06-08T08:53:22.888Z"
   },
   {
    "duration": 688,
    "start_time": "2022-06-08T08:53:22.931Z"
   },
   {
    "duration": 16,
    "start_time": "2022-06-08T08:53:23.625Z"
   },
   {
    "duration": 3,
    "start_time": "2022-06-08T08:53:23.643Z"
   },
   {
    "duration": 8,
    "start_time": "2022-06-08T08:53:23.647Z"
   },
   {
    "duration": 8,
    "start_time": "2022-06-08T08:53:23.656Z"
   },
   {
    "duration": 15,
    "start_time": "2022-06-08T08:53:23.666Z"
   },
   {
    "duration": 9,
    "start_time": "2022-06-08T08:53:23.682Z"
   },
   {
    "duration": 13,
    "start_time": "2022-06-08T11:59:32.893Z"
   },
   {
    "duration": 10,
    "start_time": "2022-06-08T12:32:36.914Z"
   },
   {
    "duration": 5,
    "start_time": "2022-06-08T12:36:34.226Z"
   },
   {
    "duration": 1463,
    "start_time": "2022-06-08T14:10:50.943Z"
   },
   {
    "duration": 171,
    "start_time": "2022-06-08T14:10:52.408Z"
   },
   {
    "duration": 18,
    "start_time": "2022-06-08T14:10:52.581Z"
   },
   {
    "duration": 14,
    "start_time": "2022-06-08T14:10:52.601Z"
   },
   {
    "duration": 6,
    "start_time": "2022-06-08T14:10:52.617Z"
   },
   {
    "duration": 45,
    "start_time": "2022-06-08T14:10:52.625Z"
   },
   {
    "duration": 22,
    "start_time": "2022-06-08T14:10:52.673Z"
   },
   {
    "duration": 11,
    "start_time": "2022-06-08T14:10:52.698Z"
   },
   {
    "duration": 23,
    "start_time": "2022-06-08T14:10:52.711Z"
   },
   {
    "duration": 32,
    "start_time": "2022-06-08T14:10:52.736Z"
   },
   {
    "duration": 18,
    "start_time": "2022-06-08T14:10:52.772Z"
   },
   {
    "duration": 64,
    "start_time": "2022-06-08T14:10:52.793Z"
   },
   {
    "duration": 83,
    "start_time": "2022-06-08T14:10:52.859Z"
   },
   {
    "duration": 13,
    "start_time": "2022-06-08T14:10:52.949Z"
   },
   {
    "duration": 7,
    "start_time": "2022-06-08T14:10:52.965Z"
   },
   {
    "duration": 16,
    "start_time": "2022-06-08T14:10:52.975Z"
   },
   {
    "duration": 18,
    "start_time": "2022-06-08T14:10:52.993Z"
   },
   {
    "duration": 59,
    "start_time": "2022-06-08T14:10:53.014Z"
   },
   {
    "duration": 1495,
    "start_time": "2022-06-08T14:10:53.075Z"
   },
   {
    "duration": 83,
    "start_time": "2022-06-08T14:10:54.572Z"
   },
   {
    "duration": 170,
    "start_time": "2022-06-08T14:10:54.658Z"
   },
   {
    "duration": 4,
    "start_time": "2022-06-08T14:10:54.830Z"
   },
   {
    "duration": 26,
    "start_time": "2022-06-08T14:10:54.840Z"
   },
   {
    "duration": 18,
    "start_time": "2022-06-08T14:10:54.869Z"
   },
   {
    "duration": 72,
    "start_time": "2022-06-08T14:10:54.888Z"
   },
   {
    "duration": 11,
    "start_time": "2022-06-08T14:10:54.962Z"
   },
   {
    "duration": 68,
    "start_time": "2022-06-08T14:10:54.976Z"
   },
   {
    "duration": 27,
    "start_time": "2022-06-08T14:10:55.047Z"
   },
   {
    "duration": 23,
    "start_time": "2022-06-08T14:10:55.076Z"
   },
   {
    "duration": 29,
    "start_time": "2022-06-08T14:10:55.102Z"
   },
   {
    "duration": 99,
    "start_time": "2022-06-08T14:10:55.136Z"
   },
   {
    "duration": 23,
    "start_time": "2022-06-08T14:10:55.237Z"
   },
   {
    "duration": 54,
    "start_time": "2022-06-08T14:10:55.262Z"
   },
   {
    "duration": 28,
    "start_time": "2022-06-08T14:10:55.318Z"
   },
   {
    "duration": 44,
    "start_time": "2022-06-08T14:10:55.347Z"
   },
   {
    "duration": 31,
    "start_time": "2022-06-08T14:10:55.393Z"
   },
   {
    "duration": 49,
    "start_time": "2022-06-08T14:10:55.429Z"
   },
   {
    "duration": 24,
    "start_time": "2022-06-08T14:10:55.481Z"
   },
   {
    "duration": 19,
    "start_time": "2022-06-08T14:10:55.507Z"
   },
   {
    "duration": 46,
    "start_time": "2022-06-08T14:10:55.528Z"
   },
   {
    "duration": 20,
    "start_time": "2022-06-08T14:10:55.579Z"
   },
   {
    "duration": 759,
    "start_time": "2022-06-08T14:10:55.601Z"
   },
   {
    "duration": 18,
    "start_time": "2022-06-08T14:10:56.361Z"
   },
   {
    "duration": 5,
    "start_time": "2022-06-08T14:10:56.381Z"
   },
   {
    "duration": 10,
    "start_time": "2022-06-08T14:10:56.388Z"
   },
   {
    "duration": 41,
    "start_time": "2022-06-08T14:10:56.399Z"
   },
   {
    "duration": 18,
    "start_time": "2022-06-08T14:10:56.442Z"
   },
   {
    "duration": 16,
    "start_time": "2022-06-08T14:10:56.462Z"
   },
   {
    "duration": 1211,
    "start_time": "2022-06-08T22:04:23.858Z"
   },
   {
    "duration": 119,
    "start_time": "2022-06-08T22:04:25.071Z"
   },
   {
    "duration": 13,
    "start_time": "2022-06-08T22:04:25.191Z"
   },
   {
    "duration": 11,
    "start_time": "2022-06-08T22:04:25.206Z"
   },
   {
    "duration": 4,
    "start_time": "2022-06-08T22:04:25.218Z"
   },
   {
    "duration": 6,
    "start_time": "2022-06-08T22:04:25.223Z"
   },
   {
    "duration": 6,
    "start_time": "2022-06-08T22:04:25.230Z"
   },
   {
    "duration": 9,
    "start_time": "2022-06-08T22:04:25.237Z"
   },
   {
    "duration": 12,
    "start_time": "2022-06-08T22:04:25.247Z"
   },
   {
    "duration": 3,
    "start_time": "2022-06-08T22:04:25.261Z"
   },
   {
    "duration": 13,
    "start_time": "2022-06-08T22:04:25.266Z"
   },
   {
    "duration": 9,
    "start_time": "2022-06-08T22:04:25.280Z"
   },
   {
    "duration": 44,
    "start_time": "2022-06-08T22:04:25.290Z"
   },
   {
    "duration": 8,
    "start_time": "2022-06-08T22:04:25.336Z"
   },
   {
    "duration": 3,
    "start_time": "2022-06-08T22:04:25.345Z"
   },
   {
    "duration": 4,
    "start_time": "2022-06-08T22:04:25.350Z"
   },
   {
    "duration": 7,
    "start_time": "2022-06-08T22:04:25.356Z"
   },
   {
    "duration": 14,
    "start_time": "2022-06-08T22:04:25.364Z"
   },
   {
    "duration": 1080,
    "start_time": "2022-06-08T22:04:25.380Z"
   },
   {
    "duration": 53,
    "start_time": "2022-06-08T22:04:26.462Z"
   },
   {
    "duration": 122,
    "start_time": "2022-06-08T22:04:26.517Z"
   },
   {
    "duration": 2,
    "start_time": "2022-06-08T22:04:26.641Z"
   },
   {
    "duration": 15,
    "start_time": "2022-06-08T22:04:26.644Z"
   },
   {
    "duration": 14,
    "start_time": "2022-06-08T22:04:26.660Z"
   },
   {
    "duration": 53,
    "start_time": "2022-06-08T22:04:26.675Z"
   },
   {
    "duration": 3,
    "start_time": "2022-06-08T22:04:26.730Z"
   },
   {
    "duration": 19,
    "start_time": "2022-06-08T22:04:26.734Z"
   },
   {
    "duration": 25,
    "start_time": "2022-06-08T22:04:26.754Z"
   },
   {
    "duration": 47,
    "start_time": "2022-06-08T22:04:26.780Z"
   },
   {
    "duration": 5,
    "start_time": "2022-06-08T22:04:26.828Z"
   },
   {
    "duration": 53,
    "start_time": "2022-06-08T22:04:26.835Z"
   },
   {
    "duration": 15,
    "start_time": "2022-06-08T22:04:26.890Z"
   },
   {
    "duration": 31,
    "start_time": "2022-06-08T22:04:26.906Z"
   },
   {
    "duration": 15,
    "start_time": "2022-06-08T22:04:26.939Z"
   },
   {
    "duration": 19,
    "start_time": "2022-06-08T22:04:26.955Z"
   },
   {
    "duration": 19,
    "start_time": "2022-06-08T22:04:26.976Z"
   },
   {
    "duration": 29,
    "start_time": "2022-06-08T22:04:26.997Z"
   },
   {
    "duration": 13,
    "start_time": "2022-06-08T22:04:27.027Z"
   },
   {
    "duration": 15,
    "start_time": "2022-06-08T22:04:27.041Z"
   },
   {
    "duration": 29,
    "start_time": "2022-06-08T22:04:27.058Z"
   },
   {
    "duration": 35,
    "start_time": "2022-06-08T22:04:27.091Z"
   },
   {
    "duration": 640,
    "start_time": "2022-06-08T22:04:27.128Z"
   },
   {
    "duration": 15,
    "start_time": "2022-06-08T22:04:27.770Z"
   },
   {
    "duration": 4,
    "start_time": "2022-06-08T22:04:27.786Z"
   },
   {
    "duration": 10,
    "start_time": "2022-06-08T22:04:27.792Z"
   },
   {
    "duration": 24,
    "start_time": "2022-06-08T22:04:27.804Z"
   },
   {
    "duration": 13,
    "start_time": "2022-06-08T22:04:27.830Z"
   },
   {
    "duration": 8,
    "start_time": "2022-06-08T22:04:27.844Z"
   },
   {
    "duration": 1021,
    "start_time": "2022-06-08T22:59:56.288Z"
   },
   {
    "duration": 79,
    "start_time": "2022-06-08T22:59:57.311Z"
   },
   {
    "duration": 14,
    "start_time": "2022-06-08T22:59:57.392Z"
   },
   {
    "duration": 12,
    "start_time": "2022-06-08T22:59:57.407Z"
   },
   {
    "duration": 6,
    "start_time": "2022-06-08T22:59:57.420Z"
   },
   {
    "duration": 11,
    "start_time": "2022-06-08T22:59:57.427Z"
   },
   {
    "duration": 6,
    "start_time": "2022-06-08T22:59:57.439Z"
   },
   {
    "duration": 5,
    "start_time": "2022-06-08T22:59:57.446Z"
   },
   {
    "duration": 11,
    "start_time": "2022-06-08T22:59:57.452Z"
   },
   {
    "duration": 3,
    "start_time": "2022-06-08T22:59:57.466Z"
   },
   {
    "duration": 9,
    "start_time": "2022-06-08T22:59:57.471Z"
   },
   {
    "duration": 7,
    "start_time": "2022-06-08T22:59:57.482Z"
   },
   {
    "duration": 64,
    "start_time": "2022-06-08T22:59:57.490Z"
   },
   {
    "duration": 8,
    "start_time": "2022-06-08T22:59:57.555Z"
   },
   {
    "duration": 4,
    "start_time": "2022-06-08T22:59:57.565Z"
   },
   {
    "duration": 4,
    "start_time": "2022-06-08T22:59:57.571Z"
   },
   {
    "duration": 8,
    "start_time": "2022-06-08T22:59:57.576Z"
   },
   {
    "duration": 15,
    "start_time": "2022-06-08T22:59:57.586Z"
   },
   {
    "duration": 1486,
    "start_time": "2022-06-08T22:59:57.625Z"
   },
   {
    "duration": 59,
    "start_time": "2022-06-08T22:59:59.113Z"
   },
   {
    "duration": 164,
    "start_time": "2022-06-08T22:59:59.174Z"
   },
   {
    "duration": 4,
    "start_time": "2022-06-08T22:59:59.340Z"
   },
   {
    "duration": 22,
    "start_time": "2022-06-08T22:59:59.346Z"
   },
   {
    "duration": 58,
    "start_time": "2022-06-08T22:59:59.370Z"
   },
   {
    "duration": 14,
    "start_time": "2022-06-08T22:59:59.431Z"
   },
   {
    "duration": 5,
    "start_time": "2022-06-08T22:59:59.447Z"
   },
   {
    "duration": 29,
    "start_time": "2022-06-08T22:59:59.454Z"
   },
   {
    "duration": 58,
    "start_time": "2022-06-08T22:59:59.487Z"
   },
   {
    "duration": 20,
    "start_time": "2022-06-08T22:59:59.547Z"
   },
   {
    "duration": 7,
    "start_time": "2022-06-08T22:59:59.569Z"
   },
   {
    "duration": 104,
    "start_time": "2022-06-08T22:59:59.579Z"
   },
   {
    "duration": 26,
    "start_time": "2022-06-08T22:59:59.685Z"
   },
   {
    "duration": 21,
    "start_time": "2022-06-08T22:59:59.725Z"
   },
   {
    "duration": 22,
    "start_time": "2022-06-08T22:59:59.748Z"
   },
   {
    "duration": 26,
    "start_time": "2022-06-08T22:59:59.771Z"
   },
   {
    "duration": 46,
    "start_time": "2022-06-08T22:59:59.799Z"
   },
   {
    "duration": 21,
    "start_time": "2022-06-08T22:59:59.847Z"
   },
   {
    "duration": 60,
    "start_time": "2022-06-08T22:59:59.870Z"
   },
   {
    "duration": 17,
    "start_time": "2022-06-08T22:59:59.932Z"
   },
   {
    "duration": 74,
    "start_time": "2022-06-08T22:59:59.951Z"
   },
   {
    "duration": 28,
    "start_time": "2022-06-08T23:00:00.028Z"
   },
   {
    "duration": 1134,
    "start_time": "2022-06-08T23:00:00.058Z"
   },
   {
    "duration": 15,
    "start_time": "2022-06-08T23:00:01.194Z"
   },
   {
    "duration": 18,
    "start_time": "2022-06-08T23:00:01.211Z"
   },
   {
    "duration": 24,
    "start_time": "2022-06-08T23:00:01.231Z"
   },
   {
    "duration": 30,
    "start_time": "2022-06-08T23:00:01.257Z"
   },
   {
    "duration": 35,
    "start_time": "2022-06-08T23:00:01.288Z"
   },
   {
    "duration": 24,
    "start_time": "2022-06-08T23:00:01.325Z"
   },
   {
    "duration": 10,
    "start_time": "2022-06-08T23:28:33.209Z"
   },
   {
    "duration": 21,
    "start_time": "2022-06-08T23:28:43.181Z"
   },
   {
    "duration": 4,
    "start_time": "2022-06-08T23:29:06.045Z"
   },
   {
    "duration": 16,
    "start_time": "2022-06-08T23:29:09.787Z"
   },
   {
    "duration": 14,
    "start_time": "2022-06-08T23:29:13.725Z"
   },
   {
    "duration": 34,
    "start_time": "2022-06-08T23:29:38.050Z"
   },
   {
    "duration": 10,
    "start_time": "2022-06-08T23:30:13.881Z"
   },
   {
    "duration": 12,
    "start_time": "2022-06-08T23:30:17.703Z"
   },
   {
    "duration": 14,
    "start_time": "2022-06-08T23:31:02.176Z"
   },
   {
    "duration": 1053,
    "start_time": "2022-06-08T23:31:21.234Z"
   },
   {
    "duration": 160,
    "start_time": "2022-06-08T23:31:22.289Z"
   },
   {
    "duration": 12,
    "start_time": "2022-06-08T23:31:22.451Z"
   },
   {
    "duration": 10,
    "start_time": "2022-06-08T23:31:22.465Z"
   },
   {
    "duration": 4,
    "start_time": "2022-06-08T23:31:22.476Z"
   },
   {
    "duration": 4,
    "start_time": "2022-06-08T23:31:22.481Z"
   },
   {
    "duration": 5,
    "start_time": "2022-06-08T23:31:22.487Z"
   },
   {
    "duration": 4,
    "start_time": "2022-06-08T23:31:22.494Z"
   },
   {
    "duration": 10,
    "start_time": "2022-06-08T23:31:22.500Z"
   },
   {
    "duration": 3,
    "start_time": "2022-06-08T23:31:22.525Z"
   },
   {
    "duration": 7,
    "start_time": "2022-06-08T23:31:22.530Z"
   },
   {
    "duration": 7,
    "start_time": "2022-06-08T23:31:22.538Z"
   },
   {
    "duration": 27,
    "start_time": "2022-06-08T23:31:22.546Z"
   },
   {
    "duration": 6,
    "start_time": "2022-06-08T23:31:22.576Z"
   },
   {
    "duration": 3,
    "start_time": "2022-06-08T23:31:22.583Z"
   },
   {
    "duration": 5,
    "start_time": "2022-06-08T23:31:22.587Z"
   },
   {
    "duration": 34,
    "start_time": "2022-06-08T23:31:22.593Z"
   },
   {
    "duration": 12,
    "start_time": "2022-06-08T23:31:22.628Z"
   },
   {
    "duration": 978,
    "start_time": "2022-06-08T23:31:22.641Z"
   },
   {
    "duration": 42,
    "start_time": "2022-06-08T23:31:23.620Z"
   },
   {
    "duration": 105,
    "start_time": "2022-06-08T23:31:23.664Z"
   },
   {
    "duration": 3,
    "start_time": "2022-06-08T23:31:23.770Z"
   },
   {
    "duration": 9,
    "start_time": "2022-06-08T23:31:23.774Z"
   },
   {
    "duration": 45,
    "start_time": "2022-06-08T23:31:23.784Z"
   },
   {
    "duration": 9,
    "start_time": "2022-06-08T23:31:23.830Z"
   },
   {
    "duration": 4,
    "start_time": "2022-06-08T23:31:23.840Z"
   },
   {
    "duration": 15,
    "start_time": "2022-06-08T23:31:23.845Z"
   },
   {
    "duration": 12,
    "start_time": "2022-06-08T23:31:23.861Z"
   },
   {
    "duration": 63,
    "start_time": "2022-06-08T23:31:23.874Z"
   },
   {
    "duration": 8,
    "start_time": "2022-06-08T23:31:23.938Z"
   },
   {
    "duration": 59,
    "start_time": "2022-06-08T23:31:23.948Z"
   },
   {
    "duration": 27,
    "start_time": "2022-06-08T23:31:24.009Z"
   },
   {
    "duration": 12,
    "start_time": "2022-06-08T23:31:24.038Z"
   },
   {
    "duration": 12,
    "start_time": "2022-06-08T23:31:24.051Z"
   },
   {
    "duration": 16,
    "start_time": "2022-06-08T23:31:24.065Z"
   },
   {
    "duration": 45,
    "start_time": "2022-06-08T23:31:24.083Z"
   },
   {
    "duration": 12,
    "start_time": "2022-06-08T23:31:24.129Z"
   },
   {
    "duration": 10,
    "start_time": "2022-06-08T23:31:24.143Z"
   },
   {
    "duration": 15,
    "start_time": "2022-06-08T23:31:24.154Z"
   },
   {
    "duration": 17,
    "start_time": "2022-06-08T23:31:24.171Z"
   },
   {
    "duration": 43,
    "start_time": "2022-06-08T23:31:24.191Z"
   },
   {
    "duration": 658,
    "start_time": "2022-06-08T23:31:24.235Z"
   },
   {
    "duration": 13,
    "start_time": "2022-06-08T23:31:24.895Z"
   },
   {
    "duration": 15,
    "start_time": "2022-06-08T23:31:24.910Z"
   },
   {
    "duration": 4,
    "start_time": "2022-06-08T23:31:24.927Z"
   },
   {
    "duration": 8,
    "start_time": "2022-06-08T23:31:24.932Z"
   },
   {
    "duration": 15,
    "start_time": "2022-06-08T23:31:24.941Z"
   },
   {
    "duration": 8,
    "start_time": "2022-06-08T23:31:24.957Z"
   },
   {
    "duration": 21,
    "start_time": "2022-06-08T23:36:19.264Z"
   },
   {
    "duration": 13,
    "start_time": "2022-06-08T23:36:29.715Z"
   },
   {
    "duration": 969,
    "start_time": "2022-06-08T23:58:34.924Z"
   },
   {
    "duration": 89,
    "start_time": "2022-06-08T23:58:35.894Z"
   },
   {
    "duration": 14,
    "start_time": "2022-06-08T23:58:35.984Z"
   },
   {
    "duration": 11,
    "start_time": "2022-06-08T23:58:35.999Z"
   },
   {
    "duration": 4,
    "start_time": "2022-06-08T23:58:36.011Z"
   },
   {
    "duration": 5,
    "start_time": "2022-06-08T23:58:36.016Z"
   },
   {
    "duration": 4,
    "start_time": "2022-06-08T23:58:36.023Z"
   },
   {
    "duration": 4,
    "start_time": "2022-06-08T23:58:36.029Z"
   },
   {
    "duration": 10,
    "start_time": "2022-06-08T23:58:36.035Z"
   },
   {
    "duration": 3,
    "start_time": "2022-06-08T23:58:36.047Z"
   },
   {
    "duration": 10,
    "start_time": "2022-06-08T23:58:36.051Z"
   },
   {
    "duration": 7,
    "start_time": "2022-06-08T23:58:36.062Z"
   },
   {
    "duration": 29,
    "start_time": "2022-06-08T23:58:36.070Z"
   },
   {
    "duration": 26,
    "start_time": "2022-06-08T23:58:36.102Z"
   },
   {
    "duration": 2,
    "start_time": "2022-06-08T23:58:36.130Z"
   },
   {
    "duration": 6,
    "start_time": "2022-06-08T23:58:36.133Z"
   },
   {
    "duration": 6,
    "start_time": "2022-06-08T23:58:36.140Z"
   },
   {
    "duration": 13,
    "start_time": "2022-06-08T23:58:36.148Z"
   },
   {
    "duration": 1032,
    "start_time": "2022-06-08T23:58:36.162Z"
   },
   {
    "duration": 49,
    "start_time": "2022-06-08T23:58:37.196Z"
   },
   {
    "duration": 119,
    "start_time": "2022-06-08T23:58:37.247Z"
   },
   {
    "duration": 2,
    "start_time": "2022-06-08T23:58:37.368Z"
   },
   {
    "duration": 11,
    "start_time": "2022-06-08T23:58:37.371Z"
   },
   {
    "duration": 42,
    "start_time": "2022-06-08T23:58:37.384Z"
   },
   {
    "duration": 10,
    "start_time": "2022-06-08T23:58:37.428Z"
   },
   {
    "duration": 3,
    "start_time": "2022-06-08T23:58:37.440Z"
   },
   {
    "duration": 19,
    "start_time": "2022-06-08T23:58:37.445Z"
   },
   {
    "duration": 65,
    "start_time": "2022-06-08T23:58:37.465Z"
   },
   {
    "duration": 16,
    "start_time": "2022-06-08T23:58:37.532Z"
   },
   {
    "duration": 4,
    "start_time": "2022-06-08T23:58:37.549Z"
   },
   {
    "duration": 70,
    "start_time": "2022-06-08T23:58:37.555Z"
   },
   {
    "duration": 11,
    "start_time": "2022-06-08T23:58:37.627Z"
   },
   {
    "duration": 12,
    "start_time": "2022-06-08T23:58:37.640Z"
   },
   {
    "duration": 12,
    "start_time": "2022-06-08T23:58:37.654Z"
   },
   {
    "duration": 14,
    "start_time": "2022-06-08T23:58:37.667Z"
   },
   {
    "duration": 10,
    "start_time": "2022-06-08T23:58:37.683Z"
   },
   {
    "duration": 11,
    "start_time": "2022-06-08T23:58:37.725Z"
   },
   {
    "duration": 11,
    "start_time": "2022-06-08T23:58:37.737Z"
   },
   {
    "duration": 15,
    "start_time": "2022-06-08T23:58:37.749Z"
   },
   {
    "duration": 20,
    "start_time": "2022-06-08T23:58:37.766Z"
   },
   {
    "duration": 48,
    "start_time": "2022-06-08T23:58:37.789Z"
   },
   {
    "duration": 658,
    "start_time": "2022-06-08T23:58:37.838Z"
   },
   {
    "duration": 14,
    "start_time": "2022-06-08T23:58:38.497Z"
   },
   {
    "duration": 15,
    "start_time": "2022-06-08T23:58:38.513Z"
   },
   {
    "duration": 5,
    "start_time": "2022-06-08T23:58:38.530Z"
   },
   {
    "duration": 4,
    "start_time": "2022-06-08T23:58:38.537Z"
   },
   {
    "duration": 11,
    "start_time": "2022-06-08T23:58:38.543Z"
   },
   {
    "duration": 9,
    "start_time": "2022-06-08T23:58:38.556Z"
   },
   {
    "duration": 1258,
    "start_time": "2022-06-09T12:21:36.228Z"
   },
   {
    "duration": 92,
    "start_time": "2022-06-09T12:21:37.488Z"
   },
   {
    "duration": 15,
    "start_time": "2022-06-09T12:21:37.659Z"
   },
   {
    "duration": 18,
    "start_time": "2022-06-09T12:21:38.211Z"
   },
   {
    "duration": 5,
    "start_time": "2022-06-09T12:21:39.691Z"
   },
   {
    "duration": 43,
    "start_time": "2022-06-09T12:22:35.995Z"
   },
   {
    "duration": 35,
    "start_time": "2022-06-09T12:23:58.745Z"
   },
   {
    "duration": 40,
    "start_time": "2022-06-09T12:24:33.285Z"
   },
   {
    "duration": 51,
    "start_time": "2022-06-09T12:25:01.867Z"
   },
   {
    "duration": 70,
    "start_time": "2022-06-09T12:25:46.806Z"
   },
   {
    "duration": 1270,
    "start_time": "2022-06-09T14:04:48.198Z"
   },
   {
    "duration": 47,
    "start_time": "2022-06-09T14:04:49.470Z"
   },
   {
    "duration": 15,
    "start_time": "2022-06-09T14:04:49.518Z"
   },
   {
    "duration": 12,
    "start_time": "2022-06-09T14:04:49.535Z"
   },
   {
    "duration": 4,
    "start_time": "2022-06-09T14:04:49.549Z"
   },
   {
    "duration": 5,
    "start_time": "2022-06-09T14:04:49.555Z"
   },
   {
    "duration": 8,
    "start_time": "2022-06-09T14:04:49.562Z"
   },
   {
    "duration": 9,
    "start_time": "2022-06-09T14:04:49.571Z"
   },
   {
    "duration": 13,
    "start_time": "2022-06-09T14:04:49.581Z"
   },
   {
    "duration": 4,
    "start_time": "2022-06-09T14:04:49.595Z"
   },
   {
    "duration": 33,
    "start_time": "2022-06-09T14:04:49.600Z"
   },
   {
    "duration": 9,
    "start_time": "2022-06-09T14:04:49.635Z"
   },
   {
    "duration": 34,
    "start_time": "2022-06-09T14:04:49.646Z"
   },
   {
    "duration": 8,
    "start_time": "2022-06-09T14:04:49.684Z"
   },
   {
    "duration": 33,
    "start_time": "2022-06-09T14:04:49.694Z"
   },
   {
    "duration": 3,
    "start_time": "2022-06-09T14:04:49.729Z"
   },
   {
    "duration": 8,
    "start_time": "2022-06-09T14:04:49.733Z"
   },
   {
    "duration": 14,
    "start_time": "2022-06-09T14:04:49.743Z"
   },
   {
    "duration": 1172,
    "start_time": "2022-06-09T14:04:49.759Z"
   },
   {
    "duration": 45,
    "start_time": "2022-06-09T14:04:50.934Z"
   },
   {
    "duration": 130,
    "start_time": "2022-06-09T14:04:50.981Z"
   },
   {
    "duration": 14,
    "start_time": "2022-06-09T14:04:51.113Z"
   },
   {
    "duration": 13,
    "start_time": "2022-06-09T14:04:51.129Z"
   },
   {
    "duration": 18,
    "start_time": "2022-06-09T14:04:51.144Z"
   },
   {
    "duration": 9,
    "start_time": "2022-06-09T14:04:51.164Z"
   },
   {
    "duration": 9,
    "start_time": "2022-06-09T14:04:51.174Z"
   },
   {
    "duration": 55,
    "start_time": "2022-06-09T14:04:51.184Z"
   },
   {
    "duration": 16,
    "start_time": "2022-06-09T14:04:51.241Z"
   },
   {
    "duration": 21,
    "start_time": "2022-06-09T14:04:51.258Z"
   },
   {
    "duration": 8,
    "start_time": "2022-06-09T14:04:51.281Z"
   },
   {
    "duration": 126,
    "start_time": "2022-06-09T14:04:51.290Z"
   },
   {
    "duration": 13,
    "start_time": "2022-06-09T14:04:51.418Z"
   },
   {
    "duration": 14,
    "start_time": "2022-06-09T14:04:51.433Z"
   },
   {
    "duration": 12,
    "start_time": "2022-06-09T14:04:51.448Z"
   },
   {
    "duration": 22,
    "start_time": "2022-06-09T14:04:51.462Z"
   },
   {
    "duration": 26,
    "start_time": "2022-06-09T14:04:51.485Z"
   },
   {
    "duration": 18,
    "start_time": "2022-06-09T14:04:51.513Z"
   },
   {
    "duration": 14,
    "start_time": "2022-06-09T14:04:51.533Z"
   },
   {
    "duration": 17,
    "start_time": "2022-06-09T14:04:51.548Z"
   },
   {
    "duration": 24,
    "start_time": "2022-06-09T14:04:51.567Z"
   },
   {
    "duration": 60,
    "start_time": "2022-06-09T14:04:51.595Z"
   },
   {
    "duration": 699,
    "start_time": "2022-06-09T14:04:51.657Z"
   },
   {
    "duration": 14,
    "start_time": "2022-06-09T14:04:52.358Z"
   },
   {
    "duration": 3,
    "start_time": "2022-06-09T14:04:52.374Z"
   },
   {
    "duration": 20,
    "start_time": "2022-06-09T14:04:52.379Z"
   },
   {
    "duration": 7,
    "start_time": "2022-06-09T14:04:52.401Z"
   },
   {
    "duration": 19,
    "start_time": "2022-06-09T14:04:52.409Z"
   },
   {
    "duration": 16,
    "start_time": "2022-06-09T14:04:52.429Z"
   },
   {
    "duration": 410,
    "start_time": "2022-06-09T14:19:04.418Z"
   },
   {
    "duration": 47,
    "start_time": "2022-06-09T14:19:16.716Z"
   },
   {
    "duration": 10,
    "start_time": "2022-06-09T14:19:17.825Z"
   },
   {
    "duration": 13,
    "start_time": "2022-06-09T14:19:18.825Z"
   },
   {
    "duration": 4,
    "start_time": "2022-06-09T14:19:20.316Z"
   },
   {
    "duration": 9,
    "start_time": "2022-06-09T14:19:21.854Z"
   },
   {
    "duration": 6,
    "start_time": "2022-06-09T15:08:31.426Z"
   },
   {
    "duration": 10,
    "start_time": "2022-06-09T15:08:56.862Z"
   },
   {
    "duration": 9,
    "start_time": "2022-06-09T15:09:31.232Z"
   },
   {
    "duration": 23,
    "start_time": "2022-06-09T15:10:11.002Z"
   },
   {
    "duration": 17,
    "start_time": "2022-06-09T15:12:26.804Z"
   },
   {
    "duration": 12,
    "start_time": "2022-06-09T15:13:07.342Z"
   },
   {
    "duration": 12,
    "start_time": "2022-06-09T15:15:41.552Z"
   },
   {
    "duration": 17,
    "start_time": "2022-06-09T15:18:21.791Z"
   },
   {
    "duration": 12,
    "start_time": "2022-06-09T16:42:55.812Z"
   },
   {
    "duration": 12,
    "start_time": "2022-06-09T16:43:24.617Z"
   },
   {
    "duration": 11,
    "start_time": "2022-06-09T16:47:21.199Z"
   },
   {
    "duration": 13,
    "start_time": "2022-06-09T19:09:04.107Z"
   },
   {
    "duration": 9,
    "start_time": "2022-06-09T19:26:17.416Z"
   },
   {
    "duration": 11,
    "start_time": "2022-06-09T19:26:27.746Z"
   },
   {
    "duration": 11,
    "start_time": "2022-06-09T19:29:02.046Z"
   },
   {
    "duration": 303,
    "start_time": "2022-06-09T19:29:30.794Z"
   },
   {
    "duration": 12,
    "start_time": "2022-06-09T19:29:55.346Z"
   },
   {
    "duration": 3,
    "start_time": "2022-06-09T19:30:15.002Z"
   },
   {
    "duration": 18,
    "start_time": "2022-06-09T19:30:21.846Z"
   },
   {
    "duration": 10,
    "start_time": "2022-06-09T19:31:29.886Z"
   },
   {
    "duration": 9,
    "start_time": "2022-06-09T19:31:38.550Z"
   },
   {
    "duration": 9,
    "start_time": "2022-06-09T19:34:06.557Z"
   },
   {
    "duration": 11,
    "start_time": "2022-06-09T19:34:49.430Z"
   },
   {
    "duration": 9,
    "start_time": "2022-06-09T19:45:02.174Z"
   },
   {
    "duration": 3,
    "start_time": "2022-06-09T19:55:41.134Z"
   },
   {
    "duration": 12,
    "start_time": "2022-06-09T20:06:02.174Z"
   },
   {
    "duration": 4,
    "start_time": "2022-06-09T20:12:57.311Z"
   },
   {
    "duration": 14,
    "start_time": "2022-06-09T20:13:40.740Z"
   },
   {
    "duration": 10,
    "start_time": "2022-06-09T20:16:32.672Z"
   },
   {
    "duration": 13,
    "start_time": "2022-06-09T20:17:27.584Z"
   },
   {
    "duration": 23,
    "start_time": "2022-06-09T20:22:47.092Z"
   },
   {
    "duration": 1199,
    "start_time": "2022-06-09T20:23:01.205Z"
   },
   {
    "duration": 70,
    "start_time": "2022-06-09T20:23:02.406Z"
   },
   {
    "duration": 14,
    "start_time": "2022-06-09T20:23:02.478Z"
   },
   {
    "duration": 15,
    "start_time": "2022-06-09T20:23:02.494Z"
   },
   {
    "duration": 5,
    "start_time": "2022-06-09T20:23:02.511Z"
   },
   {
    "duration": 11,
    "start_time": "2022-06-09T20:23:02.517Z"
   },
   {
    "duration": 5,
    "start_time": "2022-06-09T20:23:02.530Z"
   },
   {
    "duration": 13,
    "start_time": "2022-06-09T20:23:02.537Z"
   },
   {
    "duration": 9,
    "start_time": "2022-06-09T20:23:02.552Z"
   },
   {
    "duration": 9,
    "start_time": "2022-06-09T20:23:02.562Z"
   },
   {
    "duration": 8,
    "start_time": "2022-06-09T20:23:02.572Z"
   },
   {
    "duration": 7,
    "start_time": "2022-06-09T20:23:02.581Z"
   },
   {
    "duration": 6,
    "start_time": "2022-06-09T20:23:02.589Z"
   },
   {
    "duration": 30,
    "start_time": "2022-06-09T20:23:02.599Z"
   },
   {
    "duration": 11,
    "start_time": "2022-06-09T20:23:02.630Z"
   },
   {
    "duration": 3,
    "start_time": "2022-06-09T20:23:02.643Z"
   },
   {
    "duration": 9,
    "start_time": "2022-06-09T20:23:02.648Z"
   },
   {
    "duration": 132,
    "start_time": "2022-06-09T20:23:02.659Z"
   },
   {
    "duration": 0,
    "start_time": "2022-06-09T20:23:02.793Z"
   },
   {
    "duration": 0,
    "start_time": "2022-06-09T20:23:02.794Z"
   },
   {
    "duration": 0,
    "start_time": "2022-06-09T20:23:02.795Z"
   },
   {
    "duration": 0,
    "start_time": "2022-06-09T20:23:02.796Z"
   },
   {
    "duration": 0,
    "start_time": "2022-06-09T20:23:02.797Z"
   },
   {
    "duration": 0,
    "start_time": "2022-06-09T20:23:02.798Z"
   },
   {
    "duration": 0,
    "start_time": "2022-06-09T20:23:02.799Z"
   },
   {
    "duration": 0,
    "start_time": "2022-06-09T20:23:02.800Z"
   },
   {
    "duration": 0,
    "start_time": "2022-06-09T20:23:02.801Z"
   },
   {
    "duration": 0,
    "start_time": "2022-06-09T20:23:02.802Z"
   },
   {
    "duration": 0,
    "start_time": "2022-06-09T20:23:02.803Z"
   },
   {
    "duration": 0,
    "start_time": "2022-06-09T20:23:02.803Z"
   },
   {
    "duration": 0,
    "start_time": "2022-06-09T20:23:02.804Z"
   },
   {
    "duration": 0,
    "start_time": "2022-06-09T20:23:02.806Z"
   },
   {
    "duration": 0,
    "start_time": "2022-06-09T20:23:02.807Z"
   },
   {
    "duration": 0,
    "start_time": "2022-06-09T20:23:02.827Z"
   },
   {
    "duration": 0,
    "start_time": "2022-06-09T20:23:02.829Z"
   },
   {
    "duration": 0,
    "start_time": "2022-06-09T20:23:02.830Z"
   },
   {
    "duration": 0,
    "start_time": "2022-06-09T20:23:02.831Z"
   },
   {
    "duration": 0,
    "start_time": "2022-06-09T20:23:02.833Z"
   },
   {
    "duration": 0,
    "start_time": "2022-06-09T20:23:02.834Z"
   },
   {
    "duration": 0,
    "start_time": "2022-06-09T20:23:02.835Z"
   },
   {
    "duration": 0,
    "start_time": "2022-06-09T20:23:02.836Z"
   },
   {
    "duration": 0,
    "start_time": "2022-06-09T20:23:02.838Z"
   },
   {
    "duration": 0,
    "start_time": "2022-06-09T20:23:02.839Z"
   },
   {
    "duration": 0,
    "start_time": "2022-06-09T20:23:02.840Z"
   },
   {
    "duration": 0,
    "start_time": "2022-06-09T20:23:02.842Z"
   },
   {
    "duration": 0,
    "start_time": "2022-06-09T20:23:02.843Z"
   },
   {
    "duration": 0,
    "start_time": "2022-06-09T20:23:02.844Z"
   },
   {
    "duration": 0,
    "start_time": "2022-06-09T20:23:02.846Z"
   },
   {
    "duration": 0,
    "start_time": "2022-06-09T20:23:02.847Z"
   },
   {
    "duration": 0,
    "start_time": "2022-06-09T20:23:02.848Z"
   },
   {
    "duration": 1,
    "start_time": "2022-06-09T20:23:02.849Z"
   },
   {
    "duration": 0,
    "start_time": "2022-06-09T20:23:02.851Z"
   },
   {
    "duration": 0,
    "start_time": "2022-06-09T20:23:02.852Z"
   },
   {
    "duration": 0,
    "start_time": "2022-06-09T20:23:02.853Z"
   },
   {
    "duration": 0,
    "start_time": "2022-06-09T20:23:02.854Z"
   },
   {
    "duration": 0,
    "start_time": "2022-06-09T20:23:02.856Z"
   },
   {
    "duration": 0,
    "start_time": "2022-06-09T20:23:02.857Z"
   },
   {
    "duration": 0,
    "start_time": "2022-06-09T20:23:02.859Z"
   },
   {
    "duration": 0,
    "start_time": "2022-06-09T20:23:02.860Z"
   },
   {
    "duration": 0,
    "start_time": "2022-06-09T20:23:02.861Z"
   },
   {
    "duration": 14,
    "start_time": "2022-06-09T20:25:22.939Z"
   },
   {
    "duration": 3,
    "start_time": "2022-06-09T20:25:39.902Z"
   },
   {
    "duration": 9,
    "start_time": "2022-06-09T20:25:40.840Z"
   },
   {
    "duration": 9,
    "start_time": "2022-06-09T20:25:43.500Z"
   },
   {
    "duration": 9,
    "start_time": "2022-06-09T20:25:44.719Z"
   },
   {
    "duration": 12,
    "start_time": "2022-06-09T20:26:27.938Z"
   },
   {
    "duration": 1232,
    "start_time": "2022-06-09T20:31:38.511Z"
   },
   {
    "duration": 81,
    "start_time": "2022-06-09T20:31:39.745Z"
   },
   {
    "duration": 19,
    "start_time": "2022-06-09T20:31:39.828Z"
   },
   {
    "duration": 16,
    "start_time": "2022-06-09T20:31:39.850Z"
   },
   {
    "duration": 5,
    "start_time": "2022-06-09T20:31:39.869Z"
   },
   {
    "duration": 7,
    "start_time": "2022-06-09T20:31:39.876Z"
   },
   {
    "duration": 7,
    "start_time": "2022-06-09T20:31:39.885Z"
   },
   {
    "duration": 7,
    "start_time": "2022-06-09T20:31:39.894Z"
   },
   {
    "duration": 32,
    "start_time": "2022-06-09T20:31:39.903Z"
   },
   {
    "duration": 9,
    "start_time": "2022-06-09T20:31:39.939Z"
   },
   {
    "duration": 6,
    "start_time": "2022-06-09T20:31:39.951Z"
   },
   {
    "duration": 11,
    "start_time": "2022-06-09T20:31:39.959Z"
   },
   {
    "duration": 11,
    "start_time": "2022-06-09T20:31:39.972Z"
   },
   {
    "duration": 11,
    "start_time": "2022-06-09T20:31:39.985Z"
   },
   {
    "duration": 17,
    "start_time": "2022-06-09T20:31:40.027Z"
   },
   {
    "duration": 13,
    "start_time": "2022-06-09T20:31:40.050Z"
   },
   {
    "duration": 4,
    "start_time": "2022-06-09T20:31:40.065Z"
   },
   {
    "duration": 13,
    "start_time": "2022-06-09T20:31:40.071Z"
   },
   {
    "duration": 14,
    "start_time": "2022-06-09T20:31:40.085Z"
   },
   {
    "duration": 66,
    "start_time": "2022-06-09T20:31:40.101Z"
   },
   {
    "duration": 7,
    "start_time": "2022-06-09T20:31:40.169Z"
   },
   {
    "duration": 4,
    "start_time": "2022-06-09T20:31:40.178Z"
   },
   {
    "duration": 6,
    "start_time": "2022-06-09T20:31:40.183Z"
   },
   {
    "duration": 10,
    "start_time": "2022-06-09T20:31:40.191Z"
   },
   {
    "duration": 45,
    "start_time": "2022-06-09T20:31:40.202Z"
   },
   {
    "duration": 1753,
    "start_time": "2022-06-09T20:31:40.250Z"
   },
   {
    "duration": 60,
    "start_time": "2022-06-09T20:31:42.005Z"
   },
   {
    "duration": 115,
    "start_time": "2022-06-09T20:31:42.070Z"
   },
   {
    "duration": 3,
    "start_time": "2022-06-09T20:31:42.187Z"
   },
   {
    "duration": 36,
    "start_time": "2022-06-09T20:31:42.191Z"
   },
   {
    "duration": 14,
    "start_time": "2022-06-09T20:31:42.229Z"
   },
   {
    "duration": 11,
    "start_time": "2022-06-09T20:31:42.245Z"
   },
   {
    "duration": 4,
    "start_time": "2022-06-09T20:31:42.257Z"
   },
   {
    "duration": 68,
    "start_time": "2022-06-09T20:31:42.263Z"
   },
   {
    "duration": 16,
    "start_time": "2022-06-09T20:31:42.333Z"
   },
   {
    "duration": 18,
    "start_time": "2022-06-09T20:31:42.350Z"
   },
   {
    "duration": 64,
    "start_time": "2022-06-09T20:31:42.370Z"
   },
   {
    "duration": 56,
    "start_time": "2022-06-09T20:31:42.436Z"
   },
   {
    "duration": 13,
    "start_time": "2022-06-09T20:31:42.494Z"
   },
   {
    "duration": 28,
    "start_time": "2022-06-09T20:31:42.508Z"
   },
   {
    "duration": 15,
    "start_time": "2022-06-09T20:31:42.538Z"
   },
   {
    "duration": 16,
    "start_time": "2022-06-09T20:31:42.555Z"
   },
   {
    "duration": 16,
    "start_time": "2022-06-09T20:31:42.572Z"
   },
   {
    "duration": 13,
    "start_time": "2022-06-09T20:31:42.590Z"
   },
   {
    "duration": 16,
    "start_time": "2022-06-09T20:31:42.628Z"
   },
   {
    "duration": 23,
    "start_time": "2022-06-09T20:31:42.646Z"
   },
   {
    "duration": 20,
    "start_time": "2022-06-09T20:31:42.671Z"
   },
   {
    "duration": 42,
    "start_time": "2022-06-09T20:31:42.693Z"
   },
   {
    "duration": 796,
    "start_time": "2022-06-09T20:31:42.738Z"
   },
   {
    "duration": 19,
    "start_time": "2022-06-09T20:31:43.536Z"
   },
   {
    "duration": 4,
    "start_time": "2022-06-09T20:31:43.557Z"
   },
   {
    "duration": 7,
    "start_time": "2022-06-09T20:31:43.562Z"
   },
   {
    "duration": 11,
    "start_time": "2022-06-09T20:31:43.570Z"
   },
   {
    "duration": 16,
    "start_time": "2022-06-09T20:31:43.583Z"
   },
   {
    "duration": 19,
    "start_time": "2022-06-09T20:31:43.626Z"
   },
   {
    "duration": 27,
    "start_time": "2022-06-09T21:24:23.712Z"
   },
   {
    "duration": 1068,
    "start_time": "2022-06-09T21:25:57.955Z"
   },
   {
    "duration": 48,
    "start_time": "2022-06-09T21:25:59.026Z"
   },
   {
    "duration": 14,
    "start_time": "2022-06-09T21:25:59.075Z"
   },
   {
    "duration": 11,
    "start_time": "2022-06-09T21:25:59.091Z"
   },
   {
    "duration": 6,
    "start_time": "2022-06-09T21:25:59.104Z"
   },
   {
    "duration": 15,
    "start_time": "2022-06-09T21:25:59.112Z"
   },
   {
    "duration": 6,
    "start_time": "2022-06-09T21:25:59.129Z"
   },
   {
    "duration": 9,
    "start_time": "2022-06-09T21:25:59.136Z"
   },
   {
    "duration": 13,
    "start_time": "2022-06-09T21:25:59.147Z"
   },
   {
    "duration": 5,
    "start_time": "2022-06-09T21:25:59.162Z"
   },
   {
    "duration": 6,
    "start_time": "2022-06-09T21:25:59.169Z"
   },
   {
    "duration": 12,
    "start_time": "2022-06-09T21:25:59.176Z"
   },
   {
    "duration": 10,
    "start_time": "2022-06-09T21:25:59.190Z"
   },
   {
    "duration": 31,
    "start_time": "2022-06-09T21:25:59.203Z"
   },
   {
    "duration": 4,
    "start_time": "2022-06-09T21:25:59.236Z"
   },
   {
    "duration": 22,
    "start_time": "2022-06-09T21:25:59.242Z"
   },
   {
    "duration": 26,
    "start_time": "2022-06-09T21:25:59.266Z"
   },
   {
    "duration": 16,
    "start_time": "2022-06-09T21:25:59.294Z"
   },
   {
    "duration": 17,
    "start_time": "2022-06-09T21:25:59.312Z"
   },
   {
    "duration": 40,
    "start_time": "2022-06-09T21:25:59.331Z"
   },
   {
    "duration": 7,
    "start_time": "2022-06-09T21:25:59.373Z"
   },
   {
    "duration": 5,
    "start_time": "2022-06-09T21:25:59.381Z"
   },
   {
    "duration": 5,
    "start_time": "2022-06-09T21:25:59.387Z"
   },
   {
    "duration": 7,
    "start_time": "2022-06-09T21:25:59.394Z"
   },
   {
    "duration": 37,
    "start_time": "2022-06-09T21:25:59.402Z"
   },
   {
    "duration": 1082,
    "start_time": "2022-06-09T21:25:59.441Z"
   },
   {
    "duration": 48,
    "start_time": "2022-06-09T21:26:00.525Z"
   },
   {
    "duration": 125,
    "start_time": "2022-06-09T21:26:00.575Z"
   },
   {
    "duration": 3,
    "start_time": "2022-06-09T21:26:00.702Z"
   },
   {
    "duration": 39,
    "start_time": "2022-06-09T21:26:00.707Z"
   },
   {
    "duration": 23,
    "start_time": "2022-06-09T21:26:00.747Z"
   },
   {
    "duration": 56,
    "start_time": "2022-06-09T21:26:00.771Z"
   },
   {
    "duration": 4,
    "start_time": "2022-06-09T21:26:00.829Z"
   },
   {
    "duration": 53,
    "start_time": "2022-06-09T21:26:00.834Z"
   },
   {
    "duration": 20,
    "start_time": "2022-06-09T21:26:00.889Z"
   },
   {
    "duration": 13,
    "start_time": "2022-06-09T21:26:00.911Z"
   },
   {
    "duration": 9,
    "start_time": "2022-06-09T21:26:00.925Z"
   },
   {
    "duration": 58,
    "start_time": "2022-06-09T21:26:00.935Z"
   },
   {
    "duration": 14,
    "start_time": "2022-06-09T21:26:00.994Z"
   },
   {
    "duration": 26,
    "start_time": "2022-06-09T21:26:01.009Z"
   },
   {
    "duration": 12,
    "start_time": "2022-06-09T21:26:01.039Z"
   },
   {
    "duration": 18,
    "start_time": "2022-06-09T21:26:01.053Z"
   },
   {
    "duration": 16,
    "start_time": "2022-06-09T21:26:01.073Z"
   },
   {
    "duration": 14,
    "start_time": "2022-06-09T21:26:01.090Z"
   },
   {
    "duration": 13,
    "start_time": "2022-06-09T21:26:01.127Z"
   },
   {
    "duration": 17,
    "start_time": "2022-06-09T21:26:01.142Z"
   },
   {
    "duration": 25,
    "start_time": "2022-06-09T21:26:01.160Z"
   },
   {
    "duration": 44,
    "start_time": "2022-06-09T21:26:01.187Z"
   },
   {
    "duration": 781,
    "start_time": "2022-06-09T21:26:01.233Z"
   },
   {
    "duration": 25,
    "start_time": "2022-06-09T21:26:02.016Z"
   },
   {
    "duration": 5,
    "start_time": "2022-06-09T21:26:02.044Z"
   },
   {
    "duration": 14,
    "start_time": "2022-06-09T21:26:02.051Z"
   },
   {
    "duration": 13,
    "start_time": "2022-06-09T21:26:02.066Z"
   },
   {
    "duration": 15,
    "start_time": "2022-06-09T21:26:02.080Z"
   },
   {
    "duration": 19,
    "start_time": "2022-06-09T21:26:02.097Z"
   },
   {
    "duration": 29,
    "start_time": "2022-06-09T21:29:03.096Z"
   },
   {
    "duration": 1122,
    "start_time": "2022-06-09T21:40:24.504Z"
   },
   {
    "duration": 282,
    "start_time": "2022-06-09T21:40:25.627Z"
   },
   {
    "duration": 13,
    "start_time": "2022-06-09T21:40:25.911Z"
   },
   {
    "duration": 12,
    "start_time": "2022-06-09T21:40:25.926Z"
   },
   {
    "duration": 4,
    "start_time": "2022-06-09T21:40:25.940Z"
   },
   {
    "duration": 5,
    "start_time": "2022-06-09T21:40:25.946Z"
   },
   {
    "duration": 6,
    "start_time": "2022-06-09T21:40:25.953Z"
   },
   {
    "duration": 6,
    "start_time": "2022-06-09T21:40:25.961Z"
   },
   {
    "duration": 10,
    "start_time": "2022-06-09T21:40:25.968Z"
   },
   {
    "duration": 3,
    "start_time": "2022-06-09T21:40:25.981Z"
   },
   {
    "duration": 43,
    "start_time": "2022-06-09T21:40:25.985Z"
   },
   {
    "duration": 15,
    "start_time": "2022-06-09T21:40:26.030Z"
   },
   {
    "duration": 11,
    "start_time": "2022-06-09T21:40:26.046Z"
   },
   {
    "duration": 11,
    "start_time": "2022-06-09T21:40:26.059Z"
   },
   {
    "duration": 11,
    "start_time": "2022-06-09T21:40:26.072Z"
   },
   {
    "duration": 15,
    "start_time": "2022-06-09T21:40:26.084Z"
   },
   {
    "duration": 4,
    "start_time": "2022-06-09T21:40:26.101Z"
   },
   {
    "duration": 9,
    "start_time": "2022-06-09T21:40:26.127Z"
   },
   {
    "duration": 13,
    "start_time": "2022-06-09T21:40:26.138Z"
   },
   {
    "duration": 39,
    "start_time": "2022-06-09T21:40:26.152Z"
   },
   {
    "duration": 10,
    "start_time": "2022-06-09T21:40:26.192Z"
   },
   {
    "duration": 25,
    "start_time": "2022-06-09T21:40:26.204Z"
   },
   {
    "duration": 16,
    "start_time": "2022-06-09T21:40:26.231Z"
   },
   {
    "duration": 36,
    "start_time": "2022-06-09T21:40:26.248Z"
   },
   {
    "duration": 1097,
    "start_time": "2022-06-09T21:40:26.286Z"
   },
   {
    "duration": 45,
    "start_time": "2022-06-09T21:40:27.385Z"
   },
   {
    "duration": 115,
    "start_time": "2022-06-09T21:40:27.432Z"
   },
   {
    "duration": 3,
    "start_time": "2022-06-09T21:40:27.550Z"
   },
   {
    "duration": 10,
    "start_time": "2022-06-09T21:40:27.554Z"
   },
   {
    "duration": 63,
    "start_time": "2022-06-09T21:40:27.565Z"
   },
   {
    "duration": 11,
    "start_time": "2022-06-09T21:40:27.630Z"
   },
   {
    "duration": 3,
    "start_time": "2022-06-09T21:40:27.643Z"
   },
   {
    "duration": 20,
    "start_time": "2022-06-09T21:40:27.648Z"
   },
   {
    "duration": 73,
    "start_time": "2022-06-09T21:40:27.669Z"
   },
   {
    "duration": 17,
    "start_time": "2022-06-09T21:40:27.744Z"
   },
   {
    "duration": 6,
    "start_time": "2022-06-09T21:40:27.762Z"
   },
   {
    "duration": 68,
    "start_time": "2022-06-09T21:40:27.770Z"
   },
   {
    "duration": 14,
    "start_time": "2022-06-09T21:40:27.840Z"
   },
   {
    "duration": 12,
    "start_time": "2022-06-09T21:40:27.856Z"
   },
   {
    "duration": 11,
    "start_time": "2022-06-09T21:40:27.870Z"
   },
   {
    "duration": 17,
    "start_time": "2022-06-09T21:40:27.883Z"
   },
   {
    "duration": 13,
    "start_time": "2022-06-09T21:40:27.926Z"
   },
   {
    "duration": 13,
    "start_time": "2022-06-09T21:40:27.941Z"
   },
   {
    "duration": 14,
    "start_time": "2022-06-09T21:40:27.956Z"
   },
   {
    "duration": 17,
    "start_time": "2022-06-09T21:40:27.972Z"
   },
   {
    "duration": 56,
    "start_time": "2022-06-09T21:40:27.991Z"
   },
   {
    "duration": 17,
    "start_time": "2022-06-09T21:40:28.049Z"
   },
   {
    "duration": 738,
    "start_time": "2022-06-09T21:40:28.068Z"
   },
   {
    "duration": 25,
    "start_time": "2022-06-09T21:40:28.808Z"
   },
   {
    "duration": 4,
    "start_time": "2022-06-09T21:40:28.834Z"
   },
   {
    "duration": 9,
    "start_time": "2022-06-09T21:40:28.840Z"
   },
   {
    "duration": 5,
    "start_time": "2022-06-09T21:40:28.851Z"
   },
   {
    "duration": 14,
    "start_time": "2022-06-09T21:40:28.858Z"
   },
   {
    "duration": 14,
    "start_time": "2022-06-09T21:40:28.873Z"
   },
   {
    "duration": 1183,
    "start_time": "2022-06-09T22:03:16.271Z"
   },
   {
    "duration": 53,
    "start_time": "2022-06-09T22:03:17.456Z"
   },
   {
    "duration": 15,
    "start_time": "2022-06-09T22:03:17.511Z"
   },
   {
    "duration": 25,
    "start_time": "2022-06-09T22:03:17.528Z"
   },
   {
    "duration": 13,
    "start_time": "2022-06-09T22:03:17.556Z"
   },
   {
    "duration": 28,
    "start_time": "2022-06-09T22:03:17.571Z"
   },
   {
    "duration": 28,
    "start_time": "2022-06-09T22:03:17.600Z"
   },
   {
    "duration": 24,
    "start_time": "2022-06-09T22:03:17.630Z"
   },
   {
    "duration": 30,
    "start_time": "2022-06-09T22:03:17.656Z"
   },
   {
    "duration": 16,
    "start_time": "2022-06-09T22:03:17.688Z"
   },
   {
    "duration": 9,
    "start_time": "2022-06-09T22:03:17.706Z"
   },
   {
    "duration": 13,
    "start_time": "2022-06-09T22:03:17.716Z"
   },
   {
    "duration": 8,
    "start_time": "2022-06-09T22:03:17.731Z"
   },
   {
    "duration": 9,
    "start_time": "2022-06-09T22:03:17.742Z"
   },
   {
    "duration": 6,
    "start_time": "2022-06-09T22:03:17.753Z"
   },
   {
    "duration": 12,
    "start_time": "2022-06-09T22:03:17.760Z"
   },
   {
    "duration": 4,
    "start_time": "2022-06-09T22:03:17.774Z"
   },
   {
    "duration": 12,
    "start_time": "2022-06-09T22:03:17.779Z"
   },
   {
    "duration": 40,
    "start_time": "2022-06-09T22:03:17.792Z"
   },
   {
    "duration": 41,
    "start_time": "2022-06-09T22:03:17.834Z"
   },
   {
    "duration": 8,
    "start_time": "2022-06-09T22:03:17.876Z"
   },
   {
    "duration": 8,
    "start_time": "2022-06-09T22:03:17.885Z"
   },
   {
    "duration": 11,
    "start_time": "2022-06-09T22:03:17.895Z"
   },
   {
    "duration": 22,
    "start_time": "2022-06-09T22:03:17.907Z"
   },
   {
    "duration": 1164,
    "start_time": "2022-06-09T22:03:17.931Z"
   },
   {
    "duration": 47,
    "start_time": "2022-06-09T22:03:19.097Z"
   },
   {
    "duration": 123,
    "start_time": "2022-06-09T22:03:19.146Z"
   },
   {
    "duration": 3,
    "start_time": "2022-06-09T22:03:19.270Z"
   },
   {
    "duration": 14,
    "start_time": "2022-06-09T22:03:19.274Z"
   },
   {
    "duration": 45,
    "start_time": "2022-06-09T22:03:19.289Z"
   },
   {
    "duration": 10,
    "start_time": "2022-06-09T22:03:19.335Z"
   },
   {
    "duration": 4,
    "start_time": "2022-06-09T22:03:19.347Z"
   },
   {
    "duration": 20,
    "start_time": "2022-06-09T22:03:19.352Z"
   },
   {
    "duration": 69,
    "start_time": "2022-06-09T22:03:19.373Z"
   },
   {
    "duration": 14,
    "start_time": "2022-06-09T22:03:19.443Z"
   },
   {
    "duration": 6,
    "start_time": "2022-06-09T22:03:19.458Z"
   },
   {
    "duration": 86,
    "start_time": "2022-06-09T22:03:19.465Z"
   },
   {
    "duration": 14,
    "start_time": "2022-06-09T22:03:19.553Z"
   },
   {
    "duration": 13,
    "start_time": "2022-06-09T22:03:19.568Z"
   },
   {
    "duration": 13,
    "start_time": "2022-06-09T22:03:19.582Z"
   },
   {
    "duration": 38,
    "start_time": "2022-06-09T22:03:19.598Z"
   },
   {
    "duration": 16,
    "start_time": "2022-06-09T22:03:19.638Z"
   },
   {
    "duration": 12,
    "start_time": "2022-06-09T22:03:19.656Z"
   },
   {
    "duration": 12,
    "start_time": "2022-06-09T22:03:19.670Z"
   },
   {
    "duration": 48,
    "start_time": "2022-06-09T22:03:19.683Z"
   },
   {
    "duration": 23,
    "start_time": "2022-06-09T22:03:19.732Z"
   },
   {
    "duration": 18,
    "start_time": "2022-06-09T22:03:19.756Z"
   },
   {
    "duration": 796,
    "start_time": "2022-06-09T22:03:19.776Z"
   },
   {
    "duration": 16,
    "start_time": "2022-06-09T22:03:20.574Z"
   },
   {
    "duration": 4,
    "start_time": "2022-06-09T22:03:20.591Z"
   },
   {
    "duration": 32,
    "start_time": "2022-06-09T22:03:20.597Z"
   },
   {
    "duration": 30,
    "start_time": "2022-06-09T22:03:20.630Z"
   },
   {
    "duration": 35,
    "start_time": "2022-06-09T22:03:20.662Z"
   },
   {
    "duration": 22,
    "start_time": "2022-06-09T22:03:20.699Z"
   },
   {
    "duration": 26,
    "start_time": "2022-06-09T22:05:04.243Z"
   },
   {
    "duration": 20,
    "start_time": "2022-06-09T22:05:36.671Z"
   },
   {
    "duration": 455,
    "start_time": "2022-06-09T22:07:01.318Z"
   },
   {
    "duration": 2712,
    "start_time": "2022-06-09T22:07:40.551Z"
   },
   {
    "duration": 12,
    "start_time": "2022-06-09T22:08:41.751Z"
   },
   {
    "duration": 4,
    "start_time": "2022-06-09T22:08:46.162Z"
   },
   {
    "duration": 299,
    "start_time": "2022-06-09T22:09:40.536Z"
   },
   {
    "duration": 501,
    "start_time": "2022-06-09T22:09:55.878Z"
   },
   {
    "duration": 8,
    "start_time": "2022-06-09T22:11:06.738Z"
   },
   {
    "duration": 1879,
    "start_time": "2022-06-09T22:11:50.011Z"
   },
   {
    "duration": 1971,
    "start_time": "2022-06-09T22:12:09.224Z"
   },
   {
    "duration": 1877,
    "start_time": "2022-06-09T22:12:40.598Z"
   },
   {
    "duration": 1813,
    "start_time": "2022-06-09T22:12:51.930Z"
   },
   {
    "duration": 12,
    "start_time": "2022-06-09T22:22:16.382Z"
   },
   {
    "duration": 1939,
    "start_time": "2022-06-09T22:22:18.334Z"
   },
   {
    "duration": 16,
    "start_time": "2022-06-09T22:24:57.511Z"
   },
   {
    "duration": 1493,
    "start_time": "2022-06-09T22:25:31.638Z"
   },
   {
    "duration": 2920,
    "start_time": "2022-06-09T22:34:33.667Z"
   },
   {
    "duration": 10,
    "start_time": "2022-06-09T22:36:10.467Z"
   },
   {
    "duration": 4,
    "start_time": "2022-06-09T22:36:16.108Z"
   },
   {
    "duration": 2093,
    "start_time": "2022-06-09T22:36:43.621Z"
   },
   {
    "duration": 1533,
    "start_time": "2022-06-09T22:41:36.707Z"
   },
   {
    "duration": 8,
    "start_time": "2022-06-10T00:40:01.988Z"
   },
   {
    "duration": 4,
    "start_time": "2022-06-10T00:42:41.651Z"
   },
   {
    "duration": 15,
    "start_time": "2022-06-10T00:42:51.069Z"
   },
   {
    "duration": 16,
    "start_time": "2022-06-10T00:57:11.647Z"
   },
   {
    "duration": 15,
    "start_time": "2022-06-10T01:03:50.867Z"
   },
   {
    "duration": 17,
    "start_time": "2022-06-10T01:06:29.808Z"
   },
   {
    "duration": 8,
    "start_time": "2022-06-10T01:17:02.047Z"
   },
   {
    "duration": 14,
    "start_time": "2022-06-10T01:50:53.058Z"
   },
   {
    "duration": 12,
    "start_time": "2022-06-10T01:52:14.207Z"
   },
   {
    "duration": 12,
    "start_time": "2022-06-10T02:14:45.778Z"
   },
   {
    "duration": 4,
    "start_time": "2022-06-10T02:17:09.189Z"
   },
   {
    "duration": 552,
    "start_time": "2022-06-10T02:17:18.507Z"
   },
   {
    "duration": 1266,
    "start_time": "2022-06-10T11:54:47.987Z"
   },
   {
    "duration": 106,
    "start_time": "2022-06-10T11:54:49.256Z"
   },
   {
    "duration": 15,
    "start_time": "2022-06-10T11:54:49.364Z"
   },
   {
    "duration": 15,
    "start_time": "2022-06-10T11:54:49.381Z"
   },
   {
    "duration": 4,
    "start_time": "2022-06-10T11:54:49.398Z"
   },
   {
    "duration": 7,
    "start_time": "2022-06-10T11:54:49.404Z"
   },
   {
    "duration": 7,
    "start_time": "2022-06-10T11:54:49.412Z"
   },
   {
    "duration": 7,
    "start_time": "2022-06-10T11:54:49.421Z"
   },
   {
    "duration": 15,
    "start_time": "2022-06-10T11:54:49.430Z"
   },
   {
    "duration": 4,
    "start_time": "2022-06-10T11:54:49.449Z"
   },
   {
    "duration": 8,
    "start_time": "2022-06-10T11:54:49.454Z"
   },
   {
    "duration": 15,
    "start_time": "2022-06-10T11:54:49.463Z"
   },
   {
    "duration": 8,
    "start_time": "2022-06-10T11:54:49.480Z"
   },
   {
    "duration": 8,
    "start_time": "2022-06-10T11:54:49.490Z"
   },
   {
    "duration": 31,
    "start_time": "2022-06-10T11:54:49.500Z"
   },
   {
    "duration": 20,
    "start_time": "2022-06-10T11:54:49.533Z"
   },
   {
    "duration": 4,
    "start_time": "2022-06-10T11:54:49.555Z"
   },
   {
    "duration": 13,
    "start_time": "2022-06-10T11:54:49.560Z"
   },
   {
    "duration": 9,
    "start_time": "2022-06-10T11:54:49.575Z"
   },
   {
    "duration": 53,
    "start_time": "2022-06-10T11:54:49.586Z"
   },
   {
    "duration": 7,
    "start_time": "2022-06-10T11:54:49.641Z"
   },
   {
    "duration": 5,
    "start_time": "2022-06-10T11:54:49.650Z"
   },
   {
    "duration": 10,
    "start_time": "2022-06-10T11:54:49.656Z"
   },
   {
    "duration": 17,
    "start_time": "2022-06-10T11:54:49.667Z"
   },
   {
    "duration": 12,
    "start_time": "2022-06-10T11:54:49.686Z"
   },
   {
    "duration": 1766,
    "start_time": "2022-06-10T11:54:49.700Z"
   },
   {
    "duration": 46,
    "start_time": "2022-06-10T11:54:51.468Z"
   },
   {
    "duration": 133,
    "start_time": "2022-06-10T11:54:51.519Z"
   },
   {
    "duration": 3,
    "start_time": "2022-06-10T11:54:51.653Z"
   },
   {
    "duration": 16,
    "start_time": "2022-06-10T11:54:51.658Z"
   },
   {
    "duration": 51,
    "start_time": "2022-06-10T11:54:51.677Z"
   },
   {
    "duration": 10,
    "start_time": "2022-06-10T11:54:51.730Z"
   },
   {
    "duration": 10,
    "start_time": "2022-06-10T11:54:51.742Z"
   },
   {
    "duration": 22,
    "start_time": "2022-06-10T11:54:51.753Z"
   },
   {
    "duration": 60,
    "start_time": "2022-06-10T11:54:51.777Z"
   },
   {
    "duration": 20,
    "start_time": "2022-06-10T11:54:51.839Z"
   },
   {
    "duration": 7,
    "start_time": "2022-06-10T11:54:51.861Z"
   },
   {
    "duration": 85,
    "start_time": "2022-06-10T11:54:51.869Z"
   },
   {
    "duration": 13,
    "start_time": "2022-06-10T11:54:51.955Z"
   },
   {
    "duration": 12,
    "start_time": "2022-06-10T11:54:51.969Z"
   },
   {
    "duration": 12,
    "start_time": "2022-06-10T11:54:51.983Z"
   },
   {
    "duration": 45,
    "start_time": "2022-06-10T11:54:51.996Z"
   },
   {
    "duration": 15,
    "start_time": "2022-06-10T11:54:52.042Z"
   },
   {
    "duration": 12,
    "start_time": "2022-06-10T11:54:52.058Z"
   },
   {
    "duration": 12,
    "start_time": "2022-06-10T11:54:52.071Z"
   },
   {
    "duration": 55,
    "start_time": "2022-06-10T11:54:52.085Z"
   },
   {
    "duration": 20,
    "start_time": "2022-06-10T11:54:52.141Z"
   },
   {
    "duration": 17,
    "start_time": "2022-06-10T11:54:52.162Z"
   },
   {
    "duration": 724,
    "start_time": "2022-06-10T11:54:52.181Z"
   },
   {
    "duration": 21,
    "start_time": "2022-06-10T11:54:52.907Z"
   },
   {
    "duration": 4,
    "start_time": "2022-06-10T11:54:52.929Z"
   },
   {
    "duration": 13,
    "start_time": "2022-06-10T11:54:52.935Z"
   },
   {
    "duration": 7,
    "start_time": "2022-06-10T11:54:52.950Z"
   },
   {
    "duration": 19,
    "start_time": "2022-06-10T11:54:52.958Z"
   },
   {
    "duration": 9,
    "start_time": "2022-06-10T11:54:52.978Z"
   },
   {
    "duration": 18,
    "start_time": "2022-06-11T13:46:12.850Z"
   }
  ],
  "colab": {
   "provenance": [],
   "toc_visible": true
  },
  "kernelspec": {
   "display_name": "Python 3 (ipykernel)",
   "language": "python",
   "name": "python3"
  },
  "language_info": {
   "codemirror_mode": {
    "name": "ipython",
    "version": 3
   },
   "file_extension": ".py",
   "mimetype": "text/x-python",
   "name": "python",
   "nbconvert_exporter": "python",
   "pygments_lexer": "ipython3",
   "version": "3.9.7"
  },
  "toc": {
   "base_numbering": 1,
   "nav_menu": {},
   "number_sections": true,
   "sideBar": true,
   "skip_h1_title": true,
   "title_cell": "Table of Contents",
   "title_sidebar": "Contents",
   "toc_cell": false,
   "toc_position": {
    "height": "calc(100% - 180px)",
    "left": "10px",
    "top": "150px",
    "width": "297.903px"
   },
   "toc_section_display": true,
   "toc_window_display": true
  }
 },
 "nbformat": 4,
 "nbformat_minor": 1
}
