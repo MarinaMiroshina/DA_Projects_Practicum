{
 "cells": [
  {
   "cell_type": "markdown",
   "source": [
    "# Анализ A/B теста для интернет-магазина"
   ],
   "metadata": {
    "id": "XUTDUozxRNeY"
   }
  },
  {
   "cell_type": "markdown",
   "source": [
    "Для анализа предоставлены данные с действиями пользователей в интернет-магазине за период с 7 декабря 2020 по 4 января 2021 года для групп А и В.\n",
    "\n",
    "Цель исследования: проверить соответствие данных с техническим заданием, провести исследовательский анализ и оценить результаты A/B-теста по данным интернет-магазина.\n",
    "\n",
    "**Описание данных:**\n",
    "\n",
    "Таблица matketing_events (календарь маркетинговых событий на 2020 год):\n",
    "- name — название маркетингового события;\n",
    "- regions — регионы, в которых будет проводиться рекламная кампания;\n",
    "- start_dt — дата начала кампании;\n",
    "- finish_dt — дата завершения кампании.\n",
    "\n",
    "Таблица users (все пользователи, зарегистрировавшиеся в интернет-магазине в период с 7 по 21 декабря 2020 года):\n",
    "- user_id — идентификатор пользователя;\n",
    "- first_date — дата регистрации;\n",
    "- region — регион пользователя;\n",
    "- device — устройство, с которого происходила регистрация.\n",
    "\n",
    "Таблица events (все события новых пользователей в период с 7 декабря 2020 по 4 января 2021 года):\n",
    "- user_id — идентификатор пользователя;\n",
    "- event_dt — дата и время события;\n",
    "- event_name — тип события;\n",
    "- details — дополнительные данные о событии. Например, для покупок, purchase, в этом поле хранится стоимость покупки в долларах.\n",
    "\n",
    "Таблица participants (список участников тестов):\n",
    "- user_id — идентификатор пользователя;\n",
    "- ab_test — название теста;\n",
    "- group — группа пользователя."
   ],
   "metadata": {
    "id": "Dk4ceH_xRGf4"
   }
  },
  {
   "cell_type": "markdown",
   "source": [
    "**Техническое задание**\n",
    "* Название теста: recommender_system_test;\n",
    "* Группы: А (контрольная), B (новая платёжная воронка);\n",
    "* Дата запуска: 2020-12-07;\n",
    "* Дата остановки набора новых пользователей: 2020-12-21;\n",
    "* Дата остановки: 2021-01-04;\n",
    "* Аудитория: 15% новых пользователей из региона EU;\n",
    "* Назначение теста: тестирование изменений, связанных с внедрением улучшенной рекомендательной системы;\n",
    "* Ожидаемое количество участников теста: 6000.\n",
    "* Ожидаемый эффект: за 14 дней с момента регистрации в системе пользователи покажут улучшение каждой метрики не менее, чем на 10%:\n",
    "  * конверсии в просмотр карточек товаров — событие product_page\n",
    "  * просмотры корзины — product_cart\n",
    "  * покупки — purchase."
   ],
   "metadata": {
    "id": "yBUVRHLPtZTy"
   }
  },
  {
   "cell_type": "markdown",
   "source": [
    "## План работы\n",
    "\n",
    "1. [Изучение данных](#1)\n",
    "\n",
    "2. [Предобработка данных](#2)\n",
    "\n",
    "    2.1 [Замена типа данных](#2.1)\n",
    "\n",
    "    2.2 [Поиск дубликатов](#2.2)\n",
    "\n",
    "3. [Проверка соответствия с техническим заданием](#3)\n",
    "\n",
    "    3.1 [Участники теста](#3.1)\n",
    "\n",
    "    3.2 [Даты регистрации пользователей и проведения теста](#3.2)\n",
    "\n",
    "    3.3 [Процент аудитории](#3.3)\n",
    "\n",
    "4. [Исследовательский анализ данных](#4)\n",
    "\n",
    "    4.1 [Объединение таблиц](#4.1)\n",
    "\n",
    "    4.2 [Распределение количества событий в выборках на пользователя](#4.2)\n",
    "\n",
    "    4.3 [Распределение количества событий в выборках по дням](#4.3)\n",
    "\n",
    "    4.4 [Воронка событий](#4.4)\n",
    "\n",
    "    4.5 [Учёт особенностей данных](#4.5)\n",
    "\n",
    "5. [Оценка результатов A/B-тестирования](#5)\n",
    "\n",
    "6. [Общие выводы](#6)"
   ],
   "metadata": {
    "id": "BtI61AJb0dFy"
   }
  },
  {
   "cell_type": "markdown",
   "metadata": {
    "id": "Ihr7Dua9qbca"
   },
   "source": [
    "<a name=\"1\"><h2>1 Изучение данных</h2></a>"
   ]
  },
  {
   "cell_type": "markdown",
   "metadata": {
    "id": "Ggt3SXYxqbca"
   },
   "source": [
    "Импортируем библиотеки:"
   ]
  },
  {
   "cell_type": "code",
   "execution_count": 1,
   "metadata": {
    "id": "GwrXTS-dqbcb"
   },
   "outputs": [],
   "source": [
    "import pandas as pd\n",
    "import numpy as np\n",
    "import math as mth\n",
    "from datetime import datetime, timedelta\n",
    "import datetime as dt\n",
    "from scipy import stats as st\n",
    "import plotly.graph_objects as go\n",
    "import plotly.express as px\n",
    "pd.options.display.float_format = '{:.2f}'.format"
   ]
  },
  {
   "cell_type": "markdown",
   "metadata": {
    "id": "MAL2rUiZqbcc"
   },
   "source": [
    "Прочитаем данные и сохраним их в переменные:"
   ]
  },
  {
   "cell_type": "code",
   "execution_count": 2,
   "metadata": {
    "id": "CkJ3Xwj0qbcd"
   },
   "outputs": [],
   "source": [
    "matketing_events = pd.read_csv('/content/final_ab_marketing_events.csv')\n",
    "users =  pd.read_csv('/content/final_ab_new_users.csv')\n",
    "events = pd.read_csv('/content/final_ab_events.csv')\n",
    "participants = pd.read_csv('/content/final_ab_participants.csv')"
   ]
  },
  {
   "cell_type": "markdown",
   "metadata": {
    "id": "ZxHQEkxgqbce"
   },
   "source": [
    "Выведем первые 10 строк таблицы matketing_events и посмотрим общую информацию:"
   ]
  },
  {
   "cell_type": "code",
   "execution_count": 3,
   "metadata": {
    "colab": {
     "base_uri": "https://localhost:8080/",
     "height": 363
    },
    "id": "PqjkgdCiqbce",
    "outputId": "5db5c76c-3bc3-4cb2-ece5-0ba43ee0629d"
   },
   "outputs": [
    {
     "output_type": "execute_result",
     "data": {
      "text/plain": [
       "                               name                   regions    start_dt  \\\n",
       "0          Christmas&New Year Promo             EU, N.America  2020-12-25   \n",
       "1      St. Valentine's Day Giveaway  EU, CIS, APAC, N.America  2020-02-14   \n",
       "2            St. Patric's Day Promo             EU, N.America  2020-03-17   \n",
       "3                      Easter Promo  EU, CIS, APAC, N.America  2020-04-12   \n",
       "4                 4th of July Promo                 N.America  2020-07-04   \n",
       "5         Black Friday Ads Campaign  EU, CIS, APAC, N.America  2020-11-26   \n",
       "6            Chinese New Year Promo                      APAC  2020-01-25   \n",
       "7  Labor day (May 1st) Ads Campaign             EU, CIS, APAC  2020-05-01   \n",
       "8   International Women's Day Promo             EU, CIS, APAC  2020-03-08   \n",
       "9   Victory Day CIS (May 9th) Event                       CIS  2020-05-09   \n",
       "\n",
       "    finish_dt  \n",
       "0  2021-01-03  \n",
       "1  2020-02-16  \n",
       "2  2020-03-19  \n",
       "3  2020-04-19  \n",
       "4  2020-07-11  \n",
       "5  2020-12-01  \n",
       "6  2020-02-07  \n",
       "7  2020-05-03  \n",
       "8  2020-03-10  \n",
       "9  2020-05-11  "
      ],
      "text/html": [
       "\n",
       "  <div id=\"df-b865d358-4eb3-4c06-9c78-b9f189258142\">\n",
       "    <div class=\"colab-df-container\">\n",
       "      <div>\n",
       "<style scoped>\n",
       "    .dataframe tbody tr th:only-of-type {\n",
       "        vertical-align: middle;\n",
       "    }\n",
       "\n",
       "    .dataframe tbody tr th {\n",
       "        vertical-align: top;\n",
       "    }\n",
       "\n",
       "    .dataframe thead th {\n",
       "        text-align: right;\n",
       "    }\n",
       "</style>\n",
       "<table border=\"1\" class=\"dataframe\">\n",
       "  <thead>\n",
       "    <tr style=\"text-align: right;\">\n",
       "      <th></th>\n",
       "      <th>name</th>\n",
       "      <th>regions</th>\n",
       "      <th>start_dt</th>\n",
       "      <th>finish_dt</th>\n",
       "    </tr>\n",
       "  </thead>\n",
       "  <tbody>\n",
       "    <tr>\n",
       "      <th>0</th>\n",
       "      <td>Christmas&amp;New Year Promo</td>\n",
       "      <td>EU, N.America</td>\n",
       "      <td>2020-12-25</td>\n",
       "      <td>2021-01-03</td>\n",
       "    </tr>\n",
       "    <tr>\n",
       "      <th>1</th>\n",
       "      <td>St. Valentine's Day Giveaway</td>\n",
       "      <td>EU, CIS, APAC, N.America</td>\n",
       "      <td>2020-02-14</td>\n",
       "      <td>2020-02-16</td>\n",
       "    </tr>\n",
       "    <tr>\n",
       "      <th>2</th>\n",
       "      <td>St. Patric's Day Promo</td>\n",
       "      <td>EU, N.America</td>\n",
       "      <td>2020-03-17</td>\n",
       "      <td>2020-03-19</td>\n",
       "    </tr>\n",
       "    <tr>\n",
       "      <th>3</th>\n",
       "      <td>Easter Promo</td>\n",
       "      <td>EU, CIS, APAC, N.America</td>\n",
       "      <td>2020-04-12</td>\n",
       "      <td>2020-04-19</td>\n",
       "    </tr>\n",
       "    <tr>\n",
       "      <th>4</th>\n",
       "      <td>4th of July Promo</td>\n",
       "      <td>N.America</td>\n",
       "      <td>2020-07-04</td>\n",
       "      <td>2020-07-11</td>\n",
       "    </tr>\n",
       "    <tr>\n",
       "      <th>5</th>\n",
       "      <td>Black Friday Ads Campaign</td>\n",
       "      <td>EU, CIS, APAC, N.America</td>\n",
       "      <td>2020-11-26</td>\n",
       "      <td>2020-12-01</td>\n",
       "    </tr>\n",
       "    <tr>\n",
       "      <th>6</th>\n",
       "      <td>Chinese New Year Promo</td>\n",
       "      <td>APAC</td>\n",
       "      <td>2020-01-25</td>\n",
       "      <td>2020-02-07</td>\n",
       "    </tr>\n",
       "    <tr>\n",
       "      <th>7</th>\n",
       "      <td>Labor day (May 1st) Ads Campaign</td>\n",
       "      <td>EU, CIS, APAC</td>\n",
       "      <td>2020-05-01</td>\n",
       "      <td>2020-05-03</td>\n",
       "    </tr>\n",
       "    <tr>\n",
       "      <th>8</th>\n",
       "      <td>International Women's Day Promo</td>\n",
       "      <td>EU, CIS, APAC</td>\n",
       "      <td>2020-03-08</td>\n",
       "      <td>2020-03-10</td>\n",
       "    </tr>\n",
       "    <tr>\n",
       "      <th>9</th>\n",
       "      <td>Victory Day CIS (May 9th) Event</td>\n",
       "      <td>CIS</td>\n",
       "      <td>2020-05-09</td>\n",
       "      <td>2020-05-11</td>\n",
       "    </tr>\n",
       "  </tbody>\n",
       "</table>\n",
       "</div>\n",
       "      <button class=\"colab-df-convert\" onclick=\"convertToInteractive('df-b865d358-4eb3-4c06-9c78-b9f189258142')\"\n",
       "              title=\"Convert this dataframe to an interactive table.\"\n",
       "              style=\"display:none;\">\n",
       "        \n",
       "  <svg xmlns=\"http://www.w3.org/2000/svg\" height=\"24px\"viewBox=\"0 0 24 24\"\n",
       "       width=\"24px\">\n",
       "    <path d=\"M0 0h24v24H0V0z\" fill=\"none\"/>\n",
       "    <path d=\"M18.56 5.44l.94 2.06.94-2.06 2.06-.94-2.06-.94-.94-2.06-.94 2.06-2.06.94zm-11 1L8.5 8.5l.94-2.06 2.06-.94-2.06-.94L8.5 2.5l-.94 2.06-2.06.94zm10 10l.94 2.06.94-2.06 2.06-.94-2.06-.94-.94-2.06-.94 2.06-2.06.94z\"/><path d=\"M17.41 7.96l-1.37-1.37c-.4-.4-.92-.59-1.43-.59-.52 0-1.04.2-1.43.59L10.3 9.45l-7.72 7.72c-.78.78-.78 2.05 0 2.83L4 21.41c.39.39.9.59 1.41.59.51 0 1.02-.2 1.41-.59l7.78-7.78 2.81-2.81c.8-.78.8-2.07 0-2.86zM5.41 20L4 18.59l7.72-7.72 1.47 1.35L5.41 20z\"/>\n",
       "  </svg>\n",
       "      </button>\n",
       "      \n",
       "  <style>\n",
       "    .colab-df-container {\n",
       "      display:flex;\n",
       "      flex-wrap:wrap;\n",
       "      gap: 12px;\n",
       "    }\n",
       "\n",
       "    .colab-df-convert {\n",
       "      background-color: #E8F0FE;\n",
       "      border: none;\n",
       "      border-radius: 50%;\n",
       "      cursor: pointer;\n",
       "      display: none;\n",
       "      fill: #1967D2;\n",
       "      height: 32px;\n",
       "      padding: 0 0 0 0;\n",
       "      width: 32px;\n",
       "    }\n",
       "\n",
       "    .colab-df-convert:hover {\n",
       "      background-color: #E2EBFA;\n",
       "      box-shadow: 0px 1px 2px rgba(60, 64, 67, 0.3), 0px 1px 3px 1px rgba(60, 64, 67, 0.15);\n",
       "      fill: #174EA6;\n",
       "    }\n",
       "\n",
       "    [theme=dark] .colab-df-convert {\n",
       "      background-color: #3B4455;\n",
       "      fill: #D2E3FC;\n",
       "    }\n",
       "\n",
       "    [theme=dark] .colab-df-convert:hover {\n",
       "      background-color: #434B5C;\n",
       "      box-shadow: 0px 1px 3px 1px rgba(0, 0, 0, 0.15);\n",
       "      filter: drop-shadow(0px 1px 2px rgba(0, 0, 0, 0.3));\n",
       "      fill: #FFFFFF;\n",
       "    }\n",
       "  </style>\n",
       "\n",
       "      <script>\n",
       "        const buttonEl =\n",
       "          document.querySelector('#df-b865d358-4eb3-4c06-9c78-b9f189258142 button.colab-df-convert');\n",
       "        buttonEl.style.display =\n",
       "          google.colab.kernel.accessAllowed ? 'block' : 'none';\n",
       "\n",
       "        async function convertToInteractive(key) {\n",
       "          const element = document.querySelector('#df-b865d358-4eb3-4c06-9c78-b9f189258142');\n",
       "          const dataTable =\n",
       "            await google.colab.kernel.invokeFunction('convertToInteractive',\n",
       "                                                     [key], {});\n",
       "          if (!dataTable) return;\n",
       "\n",
       "          const docLinkHtml = 'Like what you see? Visit the ' +\n",
       "            '<a target=\"_blank\" href=https://colab.research.google.com/notebooks/data_table.ipynb>data table notebook</a>'\n",
       "            + ' to learn more about interactive tables.';\n",
       "          element.innerHTML = '';\n",
       "          dataTable['output_type'] = 'display_data';\n",
       "          await google.colab.output.renderOutput(dataTable, element);\n",
       "          const docLink = document.createElement('div');\n",
       "          docLink.innerHTML = docLinkHtml;\n",
       "          element.appendChild(docLink);\n",
       "        }\n",
       "      </script>\n",
       "    </div>\n",
       "  </div>\n",
       "  "
      ]
     },
     "metadata": {},
     "execution_count": 3
    }
   ],
   "source": [
    "matketing_events.head(10)"
   ]
  },
  {
   "cell_type": "code",
   "execution_count": 4,
   "metadata": {
    "colab": {
     "base_uri": "https://localhost:8080/"
    },
    "id": "TQxMYWL5qbcf",
    "outputId": "e271fdff-eca3-4dc6-93c0-cabd7d88c80a"
   },
   "outputs": [
    {
     "output_type": "stream",
     "name": "stdout",
     "text": [
      "<class 'pandas.core.frame.DataFrame'>\n",
      "RangeIndex: 14 entries, 0 to 13\n",
      "Data columns (total 4 columns):\n",
      " #   Column     Non-Null Count  Dtype \n",
      "---  ------     --------------  ----- \n",
      " 0   name       14 non-null     object\n",
      " 1   regions    14 non-null     object\n",
      " 2   start_dt   14 non-null     object\n",
      " 3   finish_dt  14 non-null     object\n",
      "dtypes: object(4)\n",
      "memory usage: 576.0+ bytes\n"
     ]
    }
   ],
   "source": [
    "matketing_events.info()"
   ]
  },
  {
   "cell_type": "markdown",
   "metadata": {
    "id": "KTTkfn-Dqbcf"
   },
   "source": [
    "Таблица содержит 14 строк и 4 столбца, пропусков нет."
   ]
  },
  {
   "cell_type": "markdown",
   "metadata": {
    "id": "7P8dc2wvqbcg"
   },
   "source": [
    "Посмотрим таблицу users:"
   ]
  },
  {
   "cell_type": "code",
   "execution_count": 5,
   "metadata": {
    "colab": {
     "base_uri": "https://localhost:8080/",
     "height": 363
    },
    "id": "t9kucKKHqbcg",
    "outputId": "7d296bd8-e245-40eb-d5c8-b8ab7bbd8200"
   },
   "outputs": [
    {
     "output_type": "execute_result",
     "data": {
      "text/plain": [
       "            user_id  first_date     region   device\n",
       "0  D72A72121175D8BE  2020-12-07         EU       PC\n",
       "1  F1C668619DFE6E65  2020-12-07  N.America  Android\n",
       "2  2E1BF1D4C37EA01F  2020-12-07         EU       PC\n",
       "3  50734A22C0C63768  2020-12-07         EU   iPhone\n",
       "4  E1BDDCE0DAFA2679  2020-12-07  N.America   iPhone\n",
       "5  137119F5A9E69421  2020-12-07  N.America   iPhone\n",
       "6  62F0C741CC42D0CC  2020-12-07       APAC   iPhone\n",
       "7  8942E64218C9A1ED  2020-12-07         EU       PC\n",
       "8  499AFACF904BBAE3  2020-12-07  N.America   iPhone\n",
       "9  FFCEA1179C253104  2020-12-07         EU  Android"
      ],
      "text/html": [
       "\n",
       "  <div id=\"df-8222e5de-726c-4ff1-8e70-a2eeb0473519\">\n",
       "    <div class=\"colab-df-container\">\n",
       "      <div>\n",
       "<style scoped>\n",
       "    .dataframe tbody tr th:only-of-type {\n",
       "        vertical-align: middle;\n",
       "    }\n",
       "\n",
       "    .dataframe tbody tr th {\n",
       "        vertical-align: top;\n",
       "    }\n",
       "\n",
       "    .dataframe thead th {\n",
       "        text-align: right;\n",
       "    }\n",
       "</style>\n",
       "<table border=\"1\" class=\"dataframe\">\n",
       "  <thead>\n",
       "    <tr style=\"text-align: right;\">\n",
       "      <th></th>\n",
       "      <th>user_id</th>\n",
       "      <th>first_date</th>\n",
       "      <th>region</th>\n",
       "      <th>device</th>\n",
       "    </tr>\n",
       "  </thead>\n",
       "  <tbody>\n",
       "    <tr>\n",
       "      <th>0</th>\n",
       "      <td>D72A72121175D8BE</td>\n",
       "      <td>2020-12-07</td>\n",
       "      <td>EU</td>\n",
       "      <td>PC</td>\n",
       "    </tr>\n",
       "    <tr>\n",
       "      <th>1</th>\n",
       "      <td>F1C668619DFE6E65</td>\n",
       "      <td>2020-12-07</td>\n",
       "      <td>N.America</td>\n",
       "      <td>Android</td>\n",
       "    </tr>\n",
       "    <tr>\n",
       "      <th>2</th>\n",
       "      <td>2E1BF1D4C37EA01F</td>\n",
       "      <td>2020-12-07</td>\n",
       "      <td>EU</td>\n",
       "      <td>PC</td>\n",
       "    </tr>\n",
       "    <tr>\n",
       "      <th>3</th>\n",
       "      <td>50734A22C0C63768</td>\n",
       "      <td>2020-12-07</td>\n",
       "      <td>EU</td>\n",
       "      <td>iPhone</td>\n",
       "    </tr>\n",
       "    <tr>\n",
       "      <th>4</th>\n",
       "      <td>E1BDDCE0DAFA2679</td>\n",
       "      <td>2020-12-07</td>\n",
       "      <td>N.America</td>\n",
       "      <td>iPhone</td>\n",
       "    </tr>\n",
       "    <tr>\n",
       "      <th>5</th>\n",
       "      <td>137119F5A9E69421</td>\n",
       "      <td>2020-12-07</td>\n",
       "      <td>N.America</td>\n",
       "      <td>iPhone</td>\n",
       "    </tr>\n",
       "    <tr>\n",
       "      <th>6</th>\n",
       "      <td>62F0C741CC42D0CC</td>\n",
       "      <td>2020-12-07</td>\n",
       "      <td>APAC</td>\n",
       "      <td>iPhone</td>\n",
       "    </tr>\n",
       "    <tr>\n",
       "      <th>7</th>\n",
       "      <td>8942E64218C9A1ED</td>\n",
       "      <td>2020-12-07</td>\n",
       "      <td>EU</td>\n",
       "      <td>PC</td>\n",
       "    </tr>\n",
       "    <tr>\n",
       "      <th>8</th>\n",
       "      <td>499AFACF904BBAE3</td>\n",
       "      <td>2020-12-07</td>\n",
       "      <td>N.America</td>\n",
       "      <td>iPhone</td>\n",
       "    </tr>\n",
       "    <tr>\n",
       "      <th>9</th>\n",
       "      <td>FFCEA1179C253104</td>\n",
       "      <td>2020-12-07</td>\n",
       "      <td>EU</td>\n",
       "      <td>Android</td>\n",
       "    </tr>\n",
       "  </tbody>\n",
       "</table>\n",
       "</div>\n",
       "      <button class=\"colab-df-convert\" onclick=\"convertToInteractive('df-8222e5de-726c-4ff1-8e70-a2eeb0473519')\"\n",
       "              title=\"Convert this dataframe to an interactive table.\"\n",
       "              style=\"display:none;\">\n",
       "        \n",
       "  <svg xmlns=\"http://www.w3.org/2000/svg\" height=\"24px\"viewBox=\"0 0 24 24\"\n",
       "       width=\"24px\">\n",
       "    <path d=\"M0 0h24v24H0V0z\" fill=\"none\"/>\n",
       "    <path d=\"M18.56 5.44l.94 2.06.94-2.06 2.06-.94-2.06-.94-.94-2.06-.94 2.06-2.06.94zm-11 1L8.5 8.5l.94-2.06 2.06-.94-2.06-.94L8.5 2.5l-.94 2.06-2.06.94zm10 10l.94 2.06.94-2.06 2.06-.94-2.06-.94-.94-2.06-.94 2.06-2.06.94z\"/><path d=\"M17.41 7.96l-1.37-1.37c-.4-.4-.92-.59-1.43-.59-.52 0-1.04.2-1.43.59L10.3 9.45l-7.72 7.72c-.78.78-.78 2.05 0 2.83L4 21.41c.39.39.9.59 1.41.59.51 0 1.02-.2 1.41-.59l7.78-7.78 2.81-2.81c.8-.78.8-2.07 0-2.86zM5.41 20L4 18.59l7.72-7.72 1.47 1.35L5.41 20z\"/>\n",
       "  </svg>\n",
       "      </button>\n",
       "      \n",
       "  <style>\n",
       "    .colab-df-container {\n",
       "      display:flex;\n",
       "      flex-wrap:wrap;\n",
       "      gap: 12px;\n",
       "    }\n",
       "\n",
       "    .colab-df-convert {\n",
       "      background-color: #E8F0FE;\n",
       "      border: none;\n",
       "      border-radius: 50%;\n",
       "      cursor: pointer;\n",
       "      display: none;\n",
       "      fill: #1967D2;\n",
       "      height: 32px;\n",
       "      padding: 0 0 0 0;\n",
       "      width: 32px;\n",
       "    }\n",
       "\n",
       "    .colab-df-convert:hover {\n",
       "      background-color: #E2EBFA;\n",
       "      box-shadow: 0px 1px 2px rgba(60, 64, 67, 0.3), 0px 1px 3px 1px rgba(60, 64, 67, 0.15);\n",
       "      fill: #174EA6;\n",
       "    }\n",
       "\n",
       "    [theme=dark] .colab-df-convert {\n",
       "      background-color: #3B4455;\n",
       "      fill: #D2E3FC;\n",
       "    }\n",
       "\n",
       "    [theme=dark] .colab-df-convert:hover {\n",
       "      background-color: #434B5C;\n",
       "      box-shadow: 0px 1px 3px 1px rgba(0, 0, 0, 0.15);\n",
       "      filter: drop-shadow(0px 1px 2px rgba(0, 0, 0, 0.3));\n",
       "      fill: #FFFFFF;\n",
       "    }\n",
       "  </style>\n",
       "\n",
       "      <script>\n",
       "        const buttonEl =\n",
       "          document.querySelector('#df-8222e5de-726c-4ff1-8e70-a2eeb0473519 button.colab-df-convert');\n",
       "        buttonEl.style.display =\n",
       "          google.colab.kernel.accessAllowed ? 'block' : 'none';\n",
       "\n",
       "        async function convertToInteractive(key) {\n",
       "          const element = document.querySelector('#df-8222e5de-726c-4ff1-8e70-a2eeb0473519');\n",
       "          const dataTable =\n",
       "            await google.colab.kernel.invokeFunction('convertToInteractive',\n",
       "                                                     [key], {});\n",
       "          if (!dataTable) return;\n",
       "\n",
       "          const docLinkHtml = 'Like what you see? Visit the ' +\n",
       "            '<a target=\"_blank\" href=https://colab.research.google.com/notebooks/data_table.ipynb>data table notebook</a>'\n",
       "            + ' to learn more about interactive tables.';\n",
       "          element.innerHTML = '';\n",
       "          dataTable['output_type'] = 'display_data';\n",
       "          await google.colab.output.renderOutput(dataTable, element);\n",
       "          const docLink = document.createElement('div');\n",
       "          docLink.innerHTML = docLinkHtml;\n",
       "          element.appendChild(docLink);\n",
       "        }\n",
       "      </script>\n",
       "    </div>\n",
       "  </div>\n",
       "  "
      ]
     },
     "metadata": {},
     "execution_count": 5
    }
   ],
   "source": [
    "users.head(10)"
   ]
  },
  {
   "cell_type": "code",
   "execution_count": 6,
   "metadata": {
    "colab": {
     "base_uri": "https://localhost:8080/"
    },
    "id": "qGRTuOyfqbcg",
    "outputId": "9dfd82be-7593-45f0-b10b-ec8f7b79459d"
   },
   "outputs": [
    {
     "output_type": "stream",
     "name": "stdout",
     "text": [
      "<class 'pandas.core.frame.DataFrame'>\n",
      "RangeIndex: 61733 entries, 0 to 61732\n",
      "Data columns (total 4 columns):\n",
      " #   Column      Non-Null Count  Dtype \n",
      "---  ------      --------------  ----- \n",
      " 0   user_id     61733 non-null  object\n",
      " 1   first_date  61733 non-null  object\n",
      " 2   region      61733 non-null  object\n",
      " 3   device      61733 non-null  object\n",
      "dtypes: object(4)\n",
      "memory usage: 1.9+ MB\n"
     ]
    }
   ],
   "source": [
    "users.info()"
   ]
  },
  {
   "cell_type": "markdown",
   "metadata": {
    "id": "AKGKqP-1qbcg"
   },
   "source": [
    "Таблица содержит 61733 строк и 4 столбца, пропусков нет."
   ]
  },
  {
   "cell_type": "markdown",
   "metadata": {
    "id": "besSGi5Oqbch"
   },
   "source": [
    "Посмотрим таблицу events:"
   ]
  },
  {
   "cell_type": "code",
   "execution_count": 7,
   "metadata": {
    "colab": {
     "base_uri": "https://localhost:8080/",
     "height": 363
    },
    "id": "VpeF-ZLpqbch",
    "outputId": "ee769be3-c277-424b-a4f0-21971dbe3975"
   },
   "outputs": [
    {
     "output_type": "execute_result",
     "data": {
      "text/plain": [
       "            user_id             event_dt event_name  details\n",
       "0  E1BDDCE0DAFA2679  2020-12-07 20:22:03   purchase    99.99\n",
       "1  7B6452F081F49504  2020-12-07 09:22:53   purchase     9.99\n",
       "2  9CD9F34546DF254C  2020-12-07 12:59:29   purchase     4.99\n",
       "3  96F27A054B191457  2020-12-07 04:02:40   purchase     4.99\n",
       "4  1FD7660FDF94CA1F  2020-12-07 10:15:09   purchase     4.99\n",
       "5  831887FE7F2D6CBA  2020-12-07 06:50:29   purchase     4.99\n",
       "6  6B2F726BFD5F8220  2020-12-07 11:27:42   purchase     4.99\n",
       "7  BEB37715AACF53B0  2020-12-07 04:26:15   purchase     4.99\n",
       "8  B5FA27F582227197  2020-12-07 01:46:37   purchase     4.99\n",
       "9  A92195E3CFB83DBD  2020-12-07 00:32:07   purchase     4.99"
      ],
      "text/html": [
       "\n",
       "  <div id=\"df-60564bd6-b2d6-460a-b61a-3570cd38548b\">\n",
       "    <div class=\"colab-df-container\">\n",
       "      <div>\n",
       "<style scoped>\n",
       "    .dataframe tbody tr th:only-of-type {\n",
       "        vertical-align: middle;\n",
       "    }\n",
       "\n",
       "    .dataframe tbody tr th {\n",
       "        vertical-align: top;\n",
       "    }\n",
       "\n",
       "    .dataframe thead th {\n",
       "        text-align: right;\n",
       "    }\n",
       "</style>\n",
       "<table border=\"1\" class=\"dataframe\">\n",
       "  <thead>\n",
       "    <tr style=\"text-align: right;\">\n",
       "      <th></th>\n",
       "      <th>user_id</th>\n",
       "      <th>event_dt</th>\n",
       "      <th>event_name</th>\n",
       "      <th>details</th>\n",
       "    </tr>\n",
       "  </thead>\n",
       "  <tbody>\n",
       "    <tr>\n",
       "      <th>0</th>\n",
       "      <td>E1BDDCE0DAFA2679</td>\n",
       "      <td>2020-12-07 20:22:03</td>\n",
       "      <td>purchase</td>\n",
       "      <td>99.99</td>\n",
       "    </tr>\n",
       "    <tr>\n",
       "      <th>1</th>\n",
       "      <td>7B6452F081F49504</td>\n",
       "      <td>2020-12-07 09:22:53</td>\n",
       "      <td>purchase</td>\n",
       "      <td>9.99</td>\n",
       "    </tr>\n",
       "    <tr>\n",
       "      <th>2</th>\n",
       "      <td>9CD9F34546DF254C</td>\n",
       "      <td>2020-12-07 12:59:29</td>\n",
       "      <td>purchase</td>\n",
       "      <td>4.99</td>\n",
       "    </tr>\n",
       "    <tr>\n",
       "      <th>3</th>\n",
       "      <td>96F27A054B191457</td>\n",
       "      <td>2020-12-07 04:02:40</td>\n",
       "      <td>purchase</td>\n",
       "      <td>4.99</td>\n",
       "    </tr>\n",
       "    <tr>\n",
       "      <th>4</th>\n",
       "      <td>1FD7660FDF94CA1F</td>\n",
       "      <td>2020-12-07 10:15:09</td>\n",
       "      <td>purchase</td>\n",
       "      <td>4.99</td>\n",
       "    </tr>\n",
       "    <tr>\n",
       "      <th>5</th>\n",
       "      <td>831887FE7F2D6CBA</td>\n",
       "      <td>2020-12-07 06:50:29</td>\n",
       "      <td>purchase</td>\n",
       "      <td>4.99</td>\n",
       "    </tr>\n",
       "    <tr>\n",
       "      <th>6</th>\n",
       "      <td>6B2F726BFD5F8220</td>\n",
       "      <td>2020-12-07 11:27:42</td>\n",
       "      <td>purchase</td>\n",
       "      <td>4.99</td>\n",
       "    </tr>\n",
       "    <tr>\n",
       "      <th>7</th>\n",
       "      <td>BEB37715AACF53B0</td>\n",
       "      <td>2020-12-07 04:26:15</td>\n",
       "      <td>purchase</td>\n",
       "      <td>4.99</td>\n",
       "    </tr>\n",
       "    <tr>\n",
       "      <th>8</th>\n",
       "      <td>B5FA27F582227197</td>\n",
       "      <td>2020-12-07 01:46:37</td>\n",
       "      <td>purchase</td>\n",
       "      <td>4.99</td>\n",
       "    </tr>\n",
       "    <tr>\n",
       "      <th>9</th>\n",
       "      <td>A92195E3CFB83DBD</td>\n",
       "      <td>2020-12-07 00:32:07</td>\n",
       "      <td>purchase</td>\n",
       "      <td>4.99</td>\n",
       "    </tr>\n",
       "  </tbody>\n",
       "</table>\n",
       "</div>\n",
       "      <button class=\"colab-df-convert\" onclick=\"convertToInteractive('df-60564bd6-b2d6-460a-b61a-3570cd38548b')\"\n",
       "              title=\"Convert this dataframe to an interactive table.\"\n",
       "              style=\"display:none;\">\n",
       "        \n",
       "  <svg xmlns=\"http://www.w3.org/2000/svg\" height=\"24px\"viewBox=\"0 0 24 24\"\n",
       "       width=\"24px\">\n",
       "    <path d=\"M0 0h24v24H0V0z\" fill=\"none\"/>\n",
       "    <path d=\"M18.56 5.44l.94 2.06.94-2.06 2.06-.94-2.06-.94-.94-2.06-.94 2.06-2.06.94zm-11 1L8.5 8.5l.94-2.06 2.06-.94-2.06-.94L8.5 2.5l-.94 2.06-2.06.94zm10 10l.94 2.06.94-2.06 2.06-.94-2.06-.94-.94-2.06-.94 2.06-2.06.94z\"/><path d=\"M17.41 7.96l-1.37-1.37c-.4-.4-.92-.59-1.43-.59-.52 0-1.04.2-1.43.59L10.3 9.45l-7.72 7.72c-.78.78-.78 2.05 0 2.83L4 21.41c.39.39.9.59 1.41.59.51 0 1.02-.2 1.41-.59l7.78-7.78 2.81-2.81c.8-.78.8-2.07 0-2.86zM5.41 20L4 18.59l7.72-7.72 1.47 1.35L5.41 20z\"/>\n",
       "  </svg>\n",
       "      </button>\n",
       "      \n",
       "  <style>\n",
       "    .colab-df-container {\n",
       "      display:flex;\n",
       "      flex-wrap:wrap;\n",
       "      gap: 12px;\n",
       "    }\n",
       "\n",
       "    .colab-df-convert {\n",
       "      background-color: #E8F0FE;\n",
       "      border: none;\n",
       "      border-radius: 50%;\n",
       "      cursor: pointer;\n",
       "      display: none;\n",
       "      fill: #1967D2;\n",
       "      height: 32px;\n",
       "      padding: 0 0 0 0;\n",
       "      width: 32px;\n",
       "    }\n",
       "\n",
       "    .colab-df-convert:hover {\n",
       "      background-color: #E2EBFA;\n",
       "      box-shadow: 0px 1px 2px rgba(60, 64, 67, 0.3), 0px 1px 3px 1px rgba(60, 64, 67, 0.15);\n",
       "      fill: #174EA6;\n",
       "    }\n",
       "\n",
       "    [theme=dark] .colab-df-convert {\n",
       "      background-color: #3B4455;\n",
       "      fill: #D2E3FC;\n",
       "    }\n",
       "\n",
       "    [theme=dark] .colab-df-convert:hover {\n",
       "      background-color: #434B5C;\n",
       "      box-shadow: 0px 1px 3px 1px rgba(0, 0, 0, 0.15);\n",
       "      filter: drop-shadow(0px 1px 2px rgba(0, 0, 0, 0.3));\n",
       "      fill: #FFFFFF;\n",
       "    }\n",
       "  </style>\n",
       "\n",
       "      <script>\n",
       "        const buttonEl =\n",
       "          document.querySelector('#df-60564bd6-b2d6-460a-b61a-3570cd38548b button.colab-df-convert');\n",
       "        buttonEl.style.display =\n",
       "          google.colab.kernel.accessAllowed ? 'block' : 'none';\n",
       "\n",
       "        async function convertToInteractive(key) {\n",
       "          const element = document.querySelector('#df-60564bd6-b2d6-460a-b61a-3570cd38548b');\n",
       "          const dataTable =\n",
       "            await google.colab.kernel.invokeFunction('convertToInteractive',\n",
       "                                                     [key], {});\n",
       "          if (!dataTable) return;\n",
       "\n",
       "          const docLinkHtml = 'Like what you see? Visit the ' +\n",
       "            '<a target=\"_blank\" href=https://colab.research.google.com/notebooks/data_table.ipynb>data table notebook</a>'\n",
       "            + ' to learn more about interactive tables.';\n",
       "          element.innerHTML = '';\n",
       "          dataTable['output_type'] = 'display_data';\n",
       "          await google.colab.output.renderOutput(dataTable, element);\n",
       "          const docLink = document.createElement('div');\n",
       "          docLink.innerHTML = docLinkHtml;\n",
       "          element.appendChild(docLink);\n",
       "        }\n",
       "      </script>\n",
       "    </div>\n",
       "  </div>\n",
       "  "
      ]
     },
     "metadata": {},
     "execution_count": 7
    }
   ],
   "source": [
    "events.head(10)"
   ]
  },
  {
   "cell_type": "code",
   "execution_count": 8,
   "metadata": {
    "colab": {
     "base_uri": "https://localhost:8080/"
    },
    "id": "x5Z7_nPjqbch",
    "outputId": "d6c372b8-6af5-4d22-c986-c3eeed245a3e"
   },
   "outputs": [
    {
     "output_type": "stream",
     "name": "stdout",
     "text": [
      "<class 'pandas.core.frame.DataFrame'>\n",
      "RangeIndex: 440317 entries, 0 to 440316\n",
      "Data columns (total 4 columns):\n",
      " #   Column      Non-Null Count   Dtype  \n",
      "---  ------      --------------   -----  \n",
      " 0   user_id     440317 non-null  object \n",
      " 1   event_dt    440317 non-null  object \n",
      " 2   event_name  440317 non-null  object \n",
      " 3   details     62740 non-null   float64\n",
      "dtypes: float64(1), object(3)\n",
      "memory usage: 13.4+ MB\n"
     ]
    }
   ],
   "source": [
    "events.info()"
   ]
  },
  {
   "cell_type": "markdown",
   "metadata": {
    "id": "cmfxZ68Yqbci"
   },
   "source": [
    "Таблица содержит 440317 строк и 4 столбца, пропуски есть в поле 'details', подсчитаем их долю:"
   ]
  },
  {
   "cell_type": "code",
   "execution_count": 9,
   "metadata": {
    "colab": {
     "base_uri": "https://localhost:8080/"
    },
    "id": "BA9cYGr-qbci",
    "outputId": "9c6039f1-2448-4dd4-dd4d-d1e4efec55bc"
   },
   "outputs": [
    {
     "output_type": "execute_result",
     "data": {
      "text/plain": [
       "85.75"
      ]
     },
     "metadata": {},
     "execution_count": 9
    }
   ],
   "source": [
    "round(events['details'].isna().mean()*100, 2)"
   ]
  },
  {
   "cell_type": "markdown",
   "metadata": {
    "id": "wQ8hT-hUqbci"
   },
   "source": [
    "Так как согласно описанию данных в этом поле может содержиться информация о сумме покупки, то возможно пропуски у пользователей, которые не совершали оплату. Проверим это предположение и сгруппируем данные по событиям:"
   ]
  },
  {
   "cell_type": "code",
   "execution_count": 10,
   "metadata": {
    "colab": {
     "base_uri": "https://localhost:8080/",
     "height": 206
    },
    "id": "x0c4pzmAqbcj",
    "outputId": "a4b9e729-823c-4d8d-92ca-4ee255a2c4d7"
   },
   "outputs": [
    {
     "output_type": "execute_result",
     "data": {
      "text/plain": [
       "              user_id  event_dt  details\n",
       "event_name                              \n",
       "login          189552    189552        0\n",
       "product_cart    62462     62462        0\n",
       "product_page   125563    125563        0\n",
       "purchase        62740     62740    62740"
      ],
      "text/html": [
       "\n",
       "  <div id=\"df-dcd69b24-ef94-40a2-b9b7-6d291b6a2123\">\n",
       "    <div class=\"colab-df-container\">\n",
       "      <div>\n",
       "<style scoped>\n",
       "    .dataframe tbody tr th:only-of-type {\n",
       "        vertical-align: middle;\n",
       "    }\n",
       "\n",
       "    .dataframe tbody tr th {\n",
       "        vertical-align: top;\n",
       "    }\n",
       "\n",
       "    .dataframe thead th {\n",
       "        text-align: right;\n",
       "    }\n",
       "</style>\n",
       "<table border=\"1\" class=\"dataframe\">\n",
       "  <thead>\n",
       "    <tr style=\"text-align: right;\">\n",
       "      <th></th>\n",
       "      <th>user_id</th>\n",
       "      <th>event_dt</th>\n",
       "      <th>details</th>\n",
       "    </tr>\n",
       "    <tr>\n",
       "      <th>event_name</th>\n",
       "      <th></th>\n",
       "      <th></th>\n",
       "      <th></th>\n",
       "    </tr>\n",
       "  </thead>\n",
       "  <tbody>\n",
       "    <tr>\n",
       "      <th>login</th>\n",
       "      <td>189552</td>\n",
       "      <td>189552</td>\n",
       "      <td>0</td>\n",
       "    </tr>\n",
       "    <tr>\n",
       "      <th>product_cart</th>\n",
       "      <td>62462</td>\n",
       "      <td>62462</td>\n",
       "      <td>0</td>\n",
       "    </tr>\n",
       "    <tr>\n",
       "      <th>product_page</th>\n",
       "      <td>125563</td>\n",
       "      <td>125563</td>\n",
       "      <td>0</td>\n",
       "    </tr>\n",
       "    <tr>\n",
       "      <th>purchase</th>\n",
       "      <td>62740</td>\n",
       "      <td>62740</td>\n",
       "      <td>62740</td>\n",
       "    </tr>\n",
       "  </tbody>\n",
       "</table>\n",
       "</div>\n",
       "      <button class=\"colab-df-convert\" onclick=\"convertToInteractive('df-dcd69b24-ef94-40a2-b9b7-6d291b6a2123')\"\n",
       "              title=\"Convert this dataframe to an interactive table.\"\n",
       "              style=\"display:none;\">\n",
       "        \n",
       "  <svg xmlns=\"http://www.w3.org/2000/svg\" height=\"24px\"viewBox=\"0 0 24 24\"\n",
       "       width=\"24px\">\n",
       "    <path d=\"M0 0h24v24H0V0z\" fill=\"none\"/>\n",
       "    <path d=\"M18.56 5.44l.94 2.06.94-2.06 2.06-.94-2.06-.94-.94-2.06-.94 2.06-2.06.94zm-11 1L8.5 8.5l.94-2.06 2.06-.94-2.06-.94L8.5 2.5l-.94 2.06-2.06.94zm10 10l.94 2.06.94-2.06 2.06-.94-2.06-.94-.94-2.06-.94 2.06-2.06.94z\"/><path d=\"M17.41 7.96l-1.37-1.37c-.4-.4-.92-.59-1.43-.59-.52 0-1.04.2-1.43.59L10.3 9.45l-7.72 7.72c-.78.78-.78 2.05 0 2.83L4 21.41c.39.39.9.59 1.41.59.51 0 1.02-.2 1.41-.59l7.78-7.78 2.81-2.81c.8-.78.8-2.07 0-2.86zM5.41 20L4 18.59l7.72-7.72 1.47 1.35L5.41 20z\"/>\n",
       "  </svg>\n",
       "      </button>\n",
       "      \n",
       "  <style>\n",
       "    .colab-df-container {\n",
       "      display:flex;\n",
       "      flex-wrap:wrap;\n",
       "      gap: 12px;\n",
       "    }\n",
       "\n",
       "    .colab-df-convert {\n",
       "      background-color: #E8F0FE;\n",
       "      border: none;\n",
       "      border-radius: 50%;\n",
       "      cursor: pointer;\n",
       "      display: none;\n",
       "      fill: #1967D2;\n",
       "      height: 32px;\n",
       "      padding: 0 0 0 0;\n",
       "      width: 32px;\n",
       "    }\n",
       "\n",
       "    .colab-df-convert:hover {\n",
       "      background-color: #E2EBFA;\n",
       "      box-shadow: 0px 1px 2px rgba(60, 64, 67, 0.3), 0px 1px 3px 1px rgba(60, 64, 67, 0.15);\n",
       "      fill: #174EA6;\n",
       "    }\n",
       "\n",
       "    [theme=dark] .colab-df-convert {\n",
       "      background-color: #3B4455;\n",
       "      fill: #D2E3FC;\n",
       "    }\n",
       "\n",
       "    [theme=dark] .colab-df-convert:hover {\n",
       "      background-color: #434B5C;\n",
       "      box-shadow: 0px 1px 3px 1px rgba(0, 0, 0, 0.15);\n",
       "      filter: drop-shadow(0px 1px 2px rgba(0, 0, 0, 0.3));\n",
       "      fill: #FFFFFF;\n",
       "    }\n",
       "  </style>\n",
       "\n",
       "      <script>\n",
       "        const buttonEl =\n",
       "          document.querySelector('#df-dcd69b24-ef94-40a2-b9b7-6d291b6a2123 button.colab-df-convert');\n",
       "        buttonEl.style.display =\n",
       "          google.colab.kernel.accessAllowed ? 'block' : 'none';\n",
       "\n",
       "        async function convertToInteractive(key) {\n",
       "          const element = document.querySelector('#df-dcd69b24-ef94-40a2-b9b7-6d291b6a2123');\n",
       "          const dataTable =\n",
       "            await google.colab.kernel.invokeFunction('convertToInteractive',\n",
       "                                                     [key], {});\n",
       "          if (!dataTable) return;\n",
       "\n",
       "          const docLinkHtml = 'Like what you see? Visit the ' +\n",
       "            '<a target=\"_blank\" href=https://colab.research.google.com/notebooks/data_table.ipynb>data table notebook</a>'\n",
       "            + ' to learn more about interactive tables.';\n",
       "          element.innerHTML = '';\n",
       "          dataTable['output_type'] = 'display_data';\n",
       "          await google.colab.output.renderOutput(dataTable, element);\n",
       "          const docLink = document.createElement('div');\n",
       "          docLink.innerHTML = docLinkHtml;\n",
       "          element.appendChild(docLink);\n",
       "        }\n",
       "      </script>\n",
       "    </div>\n",
       "  </div>\n",
       "  "
      ]
     },
     "metadata": {},
     "execution_count": 10
    }
   ],
   "source": [
    "events.groupby('event_name').count()"
   ]
  },
  {
   "cell_type": "markdown",
   "metadata": {
    "id": "MTZJG_8lqbcj"
   },
   "source": [
    "Заполненные данные в колонке 'details' только для события о покупке 'purchase', поэтому предположение о том, что пропуски у клиентов, которые не совершили оплату, верное."
   ]
  },
  {
   "cell_type": "markdown",
   "metadata": {
    "id": "usmXz_iQqbcj"
   },
   "source": [
    "Посмотрим таблицу participants:"
   ]
  },
  {
   "cell_type": "code",
   "execution_count": 11,
   "metadata": {
    "colab": {
     "base_uri": "https://localhost:8080/",
     "height": 206
    },
    "id": "_PWBkFbcqbcj",
    "outputId": "e091e9fb-da73-44fb-fee9-345efb916582"
   },
   "outputs": [
    {
     "output_type": "execute_result",
     "data": {
      "text/plain": [
       "            user_id group                  ab_test\n",
       "0  D1ABA3E2887B6A73     A  recommender_system_test\n",
       "1  A7A3664BD6242119     A  recommender_system_test\n",
       "2  DABC14FDDFADD29E     A  recommender_system_test\n",
       "3  04988C5DF189632E     A  recommender_system_test\n",
       "4  482F14783456D21B     B  recommender_system_test"
      ],
      "text/html": [
       "\n",
       "  <div id=\"df-3153b769-ecca-41e2-9556-d7fd60caa19c\">\n",
       "    <div class=\"colab-df-container\">\n",
       "      <div>\n",
       "<style scoped>\n",
       "    .dataframe tbody tr th:only-of-type {\n",
       "        vertical-align: middle;\n",
       "    }\n",
       "\n",
       "    .dataframe tbody tr th {\n",
       "        vertical-align: top;\n",
       "    }\n",
       "\n",
       "    .dataframe thead th {\n",
       "        text-align: right;\n",
       "    }\n",
       "</style>\n",
       "<table border=\"1\" class=\"dataframe\">\n",
       "  <thead>\n",
       "    <tr style=\"text-align: right;\">\n",
       "      <th></th>\n",
       "      <th>user_id</th>\n",
       "      <th>group</th>\n",
       "      <th>ab_test</th>\n",
       "    </tr>\n",
       "  </thead>\n",
       "  <tbody>\n",
       "    <tr>\n",
       "      <th>0</th>\n",
       "      <td>D1ABA3E2887B6A73</td>\n",
       "      <td>A</td>\n",
       "      <td>recommender_system_test</td>\n",
       "    </tr>\n",
       "    <tr>\n",
       "      <th>1</th>\n",
       "      <td>A7A3664BD6242119</td>\n",
       "      <td>A</td>\n",
       "      <td>recommender_system_test</td>\n",
       "    </tr>\n",
       "    <tr>\n",
       "      <th>2</th>\n",
       "      <td>DABC14FDDFADD29E</td>\n",
       "      <td>A</td>\n",
       "      <td>recommender_system_test</td>\n",
       "    </tr>\n",
       "    <tr>\n",
       "      <th>3</th>\n",
       "      <td>04988C5DF189632E</td>\n",
       "      <td>A</td>\n",
       "      <td>recommender_system_test</td>\n",
       "    </tr>\n",
       "    <tr>\n",
       "      <th>4</th>\n",
       "      <td>482F14783456D21B</td>\n",
       "      <td>B</td>\n",
       "      <td>recommender_system_test</td>\n",
       "    </tr>\n",
       "  </tbody>\n",
       "</table>\n",
       "</div>\n",
       "      <button class=\"colab-df-convert\" onclick=\"convertToInteractive('df-3153b769-ecca-41e2-9556-d7fd60caa19c')\"\n",
       "              title=\"Convert this dataframe to an interactive table.\"\n",
       "              style=\"display:none;\">\n",
       "        \n",
       "  <svg xmlns=\"http://www.w3.org/2000/svg\" height=\"24px\"viewBox=\"0 0 24 24\"\n",
       "       width=\"24px\">\n",
       "    <path d=\"M0 0h24v24H0V0z\" fill=\"none\"/>\n",
       "    <path d=\"M18.56 5.44l.94 2.06.94-2.06 2.06-.94-2.06-.94-.94-2.06-.94 2.06-2.06.94zm-11 1L8.5 8.5l.94-2.06 2.06-.94-2.06-.94L8.5 2.5l-.94 2.06-2.06.94zm10 10l.94 2.06.94-2.06 2.06-.94-2.06-.94-.94-2.06-.94 2.06-2.06.94z\"/><path d=\"M17.41 7.96l-1.37-1.37c-.4-.4-.92-.59-1.43-.59-.52 0-1.04.2-1.43.59L10.3 9.45l-7.72 7.72c-.78.78-.78 2.05 0 2.83L4 21.41c.39.39.9.59 1.41.59.51 0 1.02-.2 1.41-.59l7.78-7.78 2.81-2.81c.8-.78.8-2.07 0-2.86zM5.41 20L4 18.59l7.72-7.72 1.47 1.35L5.41 20z\"/>\n",
       "  </svg>\n",
       "      </button>\n",
       "      \n",
       "  <style>\n",
       "    .colab-df-container {\n",
       "      display:flex;\n",
       "      flex-wrap:wrap;\n",
       "      gap: 12px;\n",
       "    }\n",
       "\n",
       "    .colab-df-convert {\n",
       "      background-color: #E8F0FE;\n",
       "      border: none;\n",
       "      border-radius: 50%;\n",
       "      cursor: pointer;\n",
       "      display: none;\n",
       "      fill: #1967D2;\n",
       "      height: 32px;\n",
       "      padding: 0 0 0 0;\n",
       "      width: 32px;\n",
       "    }\n",
       "\n",
       "    .colab-df-convert:hover {\n",
       "      background-color: #E2EBFA;\n",
       "      box-shadow: 0px 1px 2px rgba(60, 64, 67, 0.3), 0px 1px 3px 1px rgba(60, 64, 67, 0.15);\n",
       "      fill: #174EA6;\n",
       "    }\n",
       "\n",
       "    [theme=dark] .colab-df-convert {\n",
       "      background-color: #3B4455;\n",
       "      fill: #D2E3FC;\n",
       "    }\n",
       "\n",
       "    [theme=dark] .colab-df-convert:hover {\n",
       "      background-color: #434B5C;\n",
       "      box-shadow: 0px 1px 3px 1px rgba(0, 0, 0, 0.15);\n",
       "      filter: drop-shadow(0px 1px 2px rgba(0, 0, 0, 0.3));\n",
       "      fill: #FFFFFF;\n",
       "    }\n",
       "  </style>\n",
       "\n",
       "      <script>\n",
       "        const buttonEl =\n",
       "          document.querySelector('#df-3153b769-ecca-41e2-9556-d7fd60caa19c button.colab-df-convert');\n",
       "        buttonEl.style.display =\n",
       "          google.colab.kernel.accessAllowed ? 'block' : 'none';\n",
       "\n",
       "        async function convertToInteractive(key) {\n",
       "          const element = document.querySelector('#df-3153b769-ecca-41e2-9556-d7fd60caa19c');\n",
       "          const dataTable =\n",
       "            await google.colab.kernel.invokeFunction('convertToInteractive',\n",
       "                                                     [key], {});\n",
       "          if (!dataTable) return;\n",
       "\n",
       "          const docLinkHtml = 'Like what you see? Visit the ' +\n",
       "            '<a target=\"_blank\" href=https://colab.research.google.com/notebooks/data_table.ipynb>data table notebook</a>'\n",
       "            + ' to learn more about interactive tables.';\n",
       "          element.innerHTML = '';\n",
       "          dataTable['output_type'] = 'display_data';\n",
       "          await google.colab.output.renderOutput(dataTable, element);\n",
       "          const docLink = document.createElement('div');\n",
       "          docLink.innerHTML = docLinkHtml;\n",
       "          element.appendChild(docLink);\n",
       "        }\n",
       "      </script>\n",
       "    </div>\n",
       "  </div>\n",
       "  "
      ]
     },
     "metadata": {},
     "execution_count": 11
    }
   ],
   "source": [
    "participants.head()"
   ]
  },
  {
   "cell_type": "code",
   "execution_count": 12,
   "metadata": {
    "colab": {
     "base_uri": "https://localhost:8080/"
    },
    "id": "j_rIorDuqbck",
    "outputId": "501b2bf6-0400-40b4-e052-2a0cffe1d5d4"
   },
   "outputs": [
    {
     "output_type": "stream",
     "name": "stdout",
     "text": [
      "<class 'pandas.core.frame.DataFrame'>\n",
      "RangeIndex: 18268 entries, 0 to 18267\n",
      "Data columns (total 3 columns):\n",
      " #   Column   Non-Null Count  Dtype \n",
      "---  ------   --------------  ----- \n",
      " 0   user_id  18268 non-null  object\n",
      " 1   group    18268 non-null  object\n",
      " 2   ab_test  18268 non-null  object\n",
      "dtypes: object(3)\n",
      "memory usage: 428.3+ KB\n"
     ]
    }
   ],
   "source": [
    "participants.info()"
   ]
  },
  {
   "cell_type": "markdown",
   "metadata": {
    "id": "7RoAH0Ypqbck"
   },
   "source": [
    "В таблице 18268 строк и 3 столбца, пропусков нет."
   ]
  },
  {
   "cell_type": "markdown",
   "metadata": {
    "id": "4rnyXoJgqbck"
   },
   "source": [
    "<div style=\"border: solid green 2px; padding: 20px\">\n",
    "\n",
    "**Выводы**\n",
    "* В таблице 'events' 85.75% пропусков в столбце 'details'. Оставляем их без изменения, так как пропуски относятся к пользователям, которые не совершали оплату.\n",
    "* Столбцы с датой в таблицах 'matketing_events', 'users' и 'events' записаны в формате object, поэтому их следует привести в формат даты.</div>"
   ]
  },
  {
   "cell_type": "markdown",
   "metadata": {
    "id": "i6EaUNuZqbcl"
   },
   "source": [
    "<a name=\"2\"><h2>2 Предобработка данных</h2></a>"
   ]
  },
  {
   "cell_type": "markdown",
   "metadata": {
    "id": "6tjvYmi5qbcl"
   },
   "source": [
    "<a name=\"2.1\"><h3>2.1 Замена типа данных</h3></a>"
   ]
  },
  {
   "cell_type": "markdown",
   "metadata": {
    "id": "dH-KYIGeqbcl"
   },
   "source": [
    "Поменяем формат в таблицах 'matketing_events', 'users' и 'events' на формат даты:"
   ]
  },
  {
   "cell_type": "code",
   "execution_count": 13,
   "metadata": {
    "id": "su4y2xh4qbcl"
   },
   "outputs": [],
   "source": [
    "users['first_date'] = pd.to_datetime(users['first_date'])\n",
    "events['event_dt'] = pd.to_datetime(events['event_dt'], format='%Y-%m-%d %H:%M:%S')\n",
    "matketing_events['start_dt'] = pd.to_datetime(matketing_events['start_dt'])\n",
    "matketing_events['finish_dt'] = pd.to_datetime(matketing_events['finish_dt'])"
   ]
  },
  {
   "cell_type": "markdown",
   "metadata": {
    "id": "TAt_tfgeqbcl"
   },
   "source": [
    "Проверим, что формат изменился:"
   ]
  },
  {
   "cell_type": "code",
   "execution_count": 14,
   "metadata": {
    "colab": {
     "base_uri": "https://localhost:8080/"
    },
    "id": "dUBjN6tBqbcl",
    "outputId": "0551f940-d353-4ba0-c898-ab43ea9bf660"
   },
   "outputs": [
    {
     "output_type": "stream",
     "name": "stdout",
     "text": [
      "<class 'pandas.core.frame.DataFrame'>\n",
      "RangeIndex: 61733 entries, 0 to 61732\n",
      "Data columns (total 4 columns):\n",
      " #   Column      Non-Null Count  Dtype         \n",
      "---  ------      --------------  -----         \n",
      " 0   user_id     61733 non-null  object        \n",
      " 1   first_date  61733 non-null  datetime64[ns]\n",
      " 2   region      61733 non-null  object        \n",
      " 3   device      61733 non-null  object        \n",
      "dtypes: datetime64[ns](1), object(3)\n",
      "memory usage: 1.9+ MB\n"
     ]
    }
   ],
   "source": [
    "users.info()"
   ]
  },
  {
   "cell_type": "code",
   "execution_count": 15,
   "metadata": {
    "colab": {
     "base_uri": "https://localhost:8080/"
    },
    "id": "XX17X2dqqbcl",
    "outputId": "3caf0077-70f3-4ee9-f6a3-7994027c5cc4"
   },
   "outputs": [
    {
     "output_type": "stream",
     "name": "stdout",
     "text": [
      "<class 'pandas.core.frame.DataFrame'>\n",
      "RangeIndex: 440317 entries, 0 to 440316\n",
      "Data columns (total 4 columns):\n",
      " #   Column      Non-Null Count   Dtype         \n",
      "---  ------      --------------   -----         \n",
      " 0   user_id     440317 non-null  object        \n",
      " 1   event_dt    440317 non-null  datetime64[ns]\n",
      " 2   event_name  440317 non-null  object        \n",
      " 3   details     62740 non-null   float64       \n",
      "dtypes: datetime64[ns](1), float64(1), object(2)\n",
      "memory usage: 13.4+ MB\n"
     ]
    }
   ],
   "source": [
    "events.info()"
   ]
  },
  {
   "cell_type": "code",
   "execution_count": 16,
   "metadata": {
    "colab": {
     "base_uri": "https://localhost:8080/"
    },
    "id": "3whGRocJqbcm",
    "outputId": "18564485-7669-4d63-f001-726c96b0d8b6"
   },
   "outputs": [
    {
     "output_type": "stream",
     "name": "stdout",
     "text": [
      "<class 'pandas.core.frame.DataFrame'>\n",
      "RangeIndex: 14 entries, 0 to 13\n",
      "Data columns (total 4 columns):\n",
      " #   Column     Non-Null Count  Dtype         \n",
      "---  ------     --------------  -----         \n",
      " 0   name       14 non-null     object        \n",
      " 1   regions    14 non-null     object        \n",
      " 2   start_dt   14 non-null     datetime64[ns]\n",
      " 3   finish_dt  14 non-null     datetime64[ns]\n",
      "dtypes: datetime64[ns](2), object(2)\n",
      "memory usage: 576.0+ bytes\n"
     ]
    }
   ],
   "source": [
    "matketing_events.info()"
   ]
  },
  {
   "cell_type": "markdown",
   "metadata": {
    "id": "DLpRx1kVqbcm"
   },
   "source": [
    "Во всех таблицах формат успешно изменён."
   ]
  },
  {
   "cell_type": "markdown",
   "metadata": {
    "id": "cVrpi7Nzqbcm"
   },
   "source": [
    "<a name=\"2.2\"><h3>2.2 Поиск дубликатов</h3></a>"
   ]
  },
  {
   "cell_type": "markdown",
   "metadata": {
    "id": "87nR0_8eqbcm"
   },
   "source": [
    "Проверим таблицу 'users' на наличие дубликатов:"
   ]
  },
  {
   "cell_type": "code",
   "execution_count": 17,
   "metadata": {
    "colab": {
     "base_uri": "https://localhost:8080/"
    },
    "id": "sL3-8Gn1qbcn",
    "outputId": "2070749c-d49c-46e6-8b02-695f3204f91a"
   },
   "outputs": [
    {
     "output_type": "execute_result",
     "data": {
      "text/plain": [
       "0"
      ]
     },
     "metadata": {},
     "execution_count": 17
    }
   ],
   "source": [
    "users.duplicated().sum()"
   ]
  },
  {
   "cell_type": "code",
   "execution_count": 18,
   "metadata": {
    "colab": {
     "base_uri": "https://localhost:8080/"
    },
    "id": "Ztgw9_5Bqbcn",
    "outputId": "58828628-d976-4a23-ab47-6d9bf4528c8a"
   },
   "outputs": [
    {
     "output_type": "execute_result",
     "data": {
      "text/plain": [
       "0"
      ]
     },
     "metadata": {},
     "execution_count": 18
    }
   ],
   "source": [
    "users['user_id'].duplicated().sum()"
   ]
  },
  {
   "cell_type": "markdown",
   "metadata": {
    "id": "KbCNYIPrqbcn"
   },
   "source": [
    "Проверим таблицу 'matketing_events':"
   ]
  },
  {
   "cell_type": "code",
   "execution_count": 19,
   "metadata": {
    "colab": {
     "base_uri": "https://localhost:8080/"
    },
    "id": "UVHUQf9_qbcn",
    "outputId": "e96b97d7-edcc-43e6-e22e-ccaf69a440fc"
   },
   "outputs": [
    {
     "output_type": "execute_result",
     "data": {
      "text/plain": [
       "0"
      ]
     },
     "metadata": {},
     "execution_count": 19
    }
   ],
   "source": [
    "matketing_events.duplicated().sum()"
   ]
  },
  {
   "cell_type": "markdown",
   "metadata": {
    "id": "JBkbt9oVqbcn"
   },
   "source": [
    "Проверим таблицу 'participants':"
   ]
  },
  {
   "cell_type": "code",
   "execution_count": 20,
   "metadata": {
    "colab": {
     "base_uri": "https://localhost:8080/"
    },
    "id": "VOGwfoN2qbco",
    "outputId": "081500c0-f5f5-43dd-eae7-18dcdb5ccc1c"
   },
   "outputs": [
    {
     "output_type": "execute_result",
     "data": {
      "text/plain": [
       "0"
      ]
     },
     "metadata": {},
     "execution_count": 20
    }
   ],
   "source": [
    "participants.duplicated().sum()"
   ]
  },
  {
   "cell_type": "markdown",
   "metadata": {
    "id": "xWhkgVB1qbco"
   },
   "source": [
    "Дубликатов в таблицах нет."
   ]
  },
  {
   "cell_type": "markdown",
   "metadata": {
    "id": "F4fpcusdqbcp"
   },
   "source": [
    "<div style=\"border: solid green 2px; padding: 20px\">\n",
    "    \n",
    "**Выводы**\n",
    "    \n",
    "* Столбцы с датами привели в соответствующий формат.\n",
    "* Проверили таблицы на наличие дубликатов.</div>"
   ]
  },
  {
   "cell_type": "markdown",
   "metadata": {
    "id": "MCK8BBzhqbcp"
   },
   "source": [
    "<a name=\"3\"><h2>3 Проверка соответствия с техническим заданием</h2></a>"
   ]
  },
  {
   "cell_type": "markdown",
   "metadata": {
    "id": "G7xisVqIqbcp"
   },
   "source": [
    "<a name=\"3.1\"><h3>3.1 Участники теста</h3></a>"
   ]
  },
  {
   "cell_type": "markdown",
   "metadata": {
    "id": "BhPtsv7kqbcp"
   },
   "source": [
    "**Название теста: recommender_system_test**"
   ]
  },
  {
   "cell_type": "markdown",
   "metadata": {
    "id": "MHZS0H3iqbcq"
   },
   "source": [
    "Посмотрим в каких тестах участвовали пользователи:"
   ]
  },
  {
   "cell_type": "code",
   "execution_count": 21,
   "metadata": {
    "colab": {
     "base_uri": "https://localhost:8080/"
    },
    "id": "_xmmfUrYqbcq",
    "outputId": "e9f85a69-168e-4420-9726-783b1dfae02a"
   },
   "outputs": [
    {
     "output_type": "execute_result",
     "data": {
      "text/plain": [
       "interface_eu_test          11567\n",
       "recommender_system_test     6701\n",
       "Name: ab_test, dtype: int64"
      ]
     },
     "metadata": {},
     "execution_count": 21
    }
   ],
   "source": [
    "participants['ab_test'].value_counts()"
   ]
  },
  {
   "cell_type": "markdown",
   "metadata": {
    "id": "l5Xljk_Bqbcq"
   },
   "source": [
    "В таблице содержатся данные по участникам двух тестов."
   ]
  },
  {
   "cell_type": "markdown",
   "metadata": {
    "id": "d3TCeU8qqbcq"
   },
   "source": [
    "Напишем функцию для поиска пересекающихся пользователей:"
   ]
  },
  {
   "cell_type": "code",
   "execution_count": 22,
   "metadata": {
    "id": "qdmlC0yOqbcq"
   },
   "outputs": [],
   "source": [
    "def check_intersection(table, data_one, data_two):\n",
    "    group_one = table.query(data_one)['user_id']\n",
    "    group_two = table.query(data_two)['user_id']\n",
    "    return set(group_one).intersection(set(group_two))"
   ]
  },
  {
   "cell_type": "markdown",
   "metadata": {
    "id": "lE-t0oQRqbcq"
   },
   "source": [
    "Проверим, есть ли пересечения в тестах interface_eu_test и recommender_system_test:"
   ]
  },
  {
   "cell_type": "code",
   "execution_count": 23,
   "metadata": {
    "colab": {
     "base_uri": "https://localhost:8080/"
    },
    "id": "clXTuRZ9qbcr",
    "outputId": "2f4d9d55-f09e-40b0-bca4-f186d04ef8fe"
   },
   "outputs": [
    {
     "output_type": "execute_result",
     "data": {
      "text/plain": [
       "1602"
      ]
     },
     "metadata": {},
     "execution_count": 23
    }
   ],
   "source": [
    "len(check_intersection(participants, 'ab_test == \"recommender_system_test\"', 'ab_test == \"interface_eu_test\"'))"
   ]
  },
  {
   "cell_type": "markdown",
   "metadata": {
    "id": "kne4RIuvqbcr"
   },
   "source": [
    "Одновременно в обоих тестах участвовали 1602 пользователя. Чтобы оценить, могло ли проведение второго теста оказать влияние на  тест recommender_system_test, посмотрим в какую группу попали такие пользователи, в контрольную или тестовую."
   ]
  },
  {
   "cell_type": "markdown",
   "metadata": {
    "id": "gUSmp4keqbcr"
   },
   "source": [
    "Создадим таблицу, в которой оставим только пересекающихся пользователей:"
   ]
  },
  {
   "cell_type": "code",
   "execution_count": 24,
   "metadata": {
    "id": "p0cQOJn5qbcr"
   },
   "outputs": [],
   "source": [
    "intersecting_users = check_intersection(participants, 'ab_test == \"recommender_system_test\"', 'ab_test == \"interface_eu_test\"')\n",
    "participants_both_tests = participants.query(\"user_id in @intersecting_users\")"
   ]
  },
  {
   "cell_type": "markdown",
   "metadata": {
    "id": "Wd8KNcEmqbcr"
   },
   "source": [
    "Проверим, сколько участников из теста interface_eu_test попали в контрольную и тестовую группу recommender_system_test:"
   ]
  },
  {
   "cell_type": "code",
   "execution_count": 25,
   "metadata": {
    "colab": {
     "base_uri": "https://localhost:8080/",
     "height": 143
    },
    "id": "elZWUjCjqbcr",
    "outputId": "864036a5-2446-44cd-9b15-4bc8f9f43045"
   },
   "outputs": [
    {
     "output_type": "execute_result",
     "data": {
      "text/plain": [
       "                               user_id\n",
       "ab_test                 group         \n",
       "recommender_system_test A          921\n",
       "                        B          681"
      ],
      "text/html": [
       "\n",
       "  <div id=\"df-d16557ca-7b3a-4f29-be94-865d6f8a6fd8\">\n",
       "    <div class=\"colab-df-container\">\n",
       "      <div>\n",
       "<style scoped>\n",
       "    .dataframe tbody tr th:only-of-type {\n",
       "        vertical-align: middle;\n",
       "    }\n",
       "\n",
       "    .dataframe tbody tr th {\n",
       "        vertical-align: top;\n",
       "    }\n",
       "\n",
       "    .dataframe thead th {\n",
       "        text-align: right;\n",
       "    }\n",
       "</style>\n",
       "<table border=\"1\" class=\"dataframe\">\n",
       "  <thead>\n",
       "    <tr style=\"text-align: right;\">\n",
       "      <th></th>\n",
       "      <th></th>\n",
       "      <th>user_id</th>\n",
       "    </tr>\n",
       "    <tr>\n",
       "      <th>ab_test</th>\n",
       "      <th>group</th>\n",
       "      <th></th>\n",
       "    </tr>\n",
       "  </thead>\n",
       "  <tbody>\n",
       "    <tr>\n",
       "      <th rowspan=\"2\" valign=\"top\">recommender_system_test</th>\n",
       "      <th>A</th>\n",
       "      <td>921</td>\n",
       "    </tr>\n",
       "    <tr>\n",
       "      <th>B</th>\n",
       "      <td>681</td>\n",
       "    </tr>\n",
       "  </tbody>\n",
       "</table>\n",
       "</div>\n",
       "      <button class=\"colab-df-convert\" onclick=\"convertToInteractive('df-d16557ca-7b3a-4f29-be94-865d6f8a6fd8')\"\n",
       "              title=\"Convert this dataframe to an interactive table.\"\n",
       "              style=\"display:none;\">\n",
       "        \n",
       "  <svg xmlns=\"http://www.w3.org/2000/svg\" height=\"24px\"viewBox=\"0 0 24 24\"\n",
       "       width=\"24px\">\n",
       "    <path d=\"M0 0h24v24H0V0z\" fill=\"none\"/>\n",
       "    <path d=\"M18.56 5.44l.94 2.06.94-2.06 2.06-.94-2.06-.94-.94-2.06-.94 2.06-2.06.94zm-11 1L8.5 8.5l.94-2.06 2.06-.94-2.06-.94L8.5 2.5l-.94 2.06-2.06.94zm10 10l.94 2.06.94-2.06 2.06-.94-2.06-.94-.94-2.06-.94 2.06-2.06.94z\"/><path d=\"M17.41 7.96l-1.37-1.37c-.4-.4-.92-.59-1.43-.59-.52 0-1.04.2-1.43.59L10.3 9.45l-7.72 7.72c-.78.78-.78 2.05 0 2.83L4 21.41c.39.39.9.59 1.41.59.51 0 1.02-.2 1.41-.59l7.78-7.78 2.81-2.81c.8-.78.8-2.07 0-2.86zM5.41 20L4 18.59l7.72-7.72 1.47 1.35L5.41 20z\"/>\n",
       "  </svg>\n",
       "      </button>\n",
       "      \n",
       "  <style>\n",
       "    .colab-df-container {\n",
       "      display:flex;\n",
       "      flex-wrap:wrap;\n",
       "      gap: 12px;\n",
       "    }\n",
       "\n",
       "    .colab-df-convert {\n",
       "      background-color: #E8F0FE;\n",
       "      border: none;\n",
       "      border-radius: 50%;\n",
       "      cursor: pointer;\n",
       "      display: none;\n",
       "      fill: #1967D2;\n",
       "      height: 32px;\n",
       "      padding: 0 0 0 0;\n",
       "      width: 32px;\n",
       "    }\n",
       "\n",
       "    .colab-df-convert:hover {\n",
       "      background-color: #E2EBFA;\n",
       "      box-shadow: 0px 1px 2px rgba(60, 64, 67, 0.3), 0px 1px 3px 1px rgba(60, 64, 67, 0.15);\n",
       "      fill: #174EA6;\n",
       "    }\n",
       "\n",
       "    [theme=dark] .colab-df-convert {\n",
       "      background-color: #3B4455;\n",
       "      fill: #D2E3FC;\n",
       "    }\n",
       "\n",
       "    [theme=dark] .colab-df-convert:hover {\n",
       "      background-color: #434B5C;\n",
       "      box-shadow: 0px 1px 3px 1px rgba(0, 0, 0, 0.15);\n",
       "      filter: drop-shadow(0px 1px 2px rgba(0, 0, 0, 0.3));\n",
       "      fill: #FFFFFF;\n",
       "    }\n",
       "  </style>\n",
       "\n",
       "      <script>\n",
       "        const buttonEl =\n",
       "          document.querySelector('#df-d16557ca-7b3a-4f29-be94-865d6f8a6fd8 button.colab-df-convert');\n",
       "        buttonEl.style.display =\n",
       "          google.colab.kernel.accessAllowed ? 'block' : 'none';\n",
       "\n",
       "        async function convertToInteractive(key) {\n",
       "          const element = document.querySelector('#df-d16557ca-7b3a-4f29-be94-865d6f8a6fd8');\n",
       "          const dataTable =\n",
       "            await google.colab.kernel.invokeFunction('convertToInteractive',\n",
       "                                                     [key], {});\n",
       "          if (!dataTable) return;\n",
       "\n",
       "          const docLinkHtml = 'Like what you see? Visit the ' +\n",
       "            '<a target=\"_blank\" href=https://colab.research.google.com/notebooks/data_table.ipynb>data table notebook</a>'\n",
       "            + ' to learn more about interactive tables.';\n",
       "          element.innerHTML = '';\n",
       "          dataTable['output_type'] = 'display_data';\n",
       "          await google.colab.output.renderOutput(dataTable, element);\n",
       "          const docLink = document.createElement('div');\n",
       "          docLink.innerHTML = docLinkHtml;\n",
       "          element.appendChild(docLink);\n",
       "        }\n",
       "      </script>\n",
       "    </div>\n",
       "  </div>\n",
       "  "
      ]
     },
     "metadata": {},
     "execution_count": 25
    }
   ],
   "source": [
    "participants_both_tests.query('ab_test == \"recommender_system_test\"').groupby(['ab_test', 'group']).count()"
   ]
  },
  {
   "cell_type": "markdown",
   "metadata": {
    "id": "or6GvZAwqbcs"
   },
   "source": [
    "В группу A попал 921 пользователь, и если тест interface_eu_test проходил задолго до теста recommender_system_test, то на этих пользователей тест не оказал влияния. Если тесты проходили одновременно, то на контрольную группу теста recommender_system_test могли оказать влияние те участники, которые находились в группе B теста interface_eu_test, проверим их количество:"
   ]
  },
  {
   "cell_type": "code",
   "execution_count": 26,
   "metadata": {
    "colab": {
     "base_uri": "https://localhost:8080/"
    },
    "id": "MC9IXkoPqbcs",
    "outputId": "501b91e1-4ef1-4525-aa96-10b51fa26541"
   },
   "outputs": [
    {
     "output_type": "execute_result",
     "data": {
      "text/plain": [
       "439"
      ]
     },
     "metadata": {},
     "execution_count": 26
    }
   ],
   "source": [
    "len(check_intersection(participants_both_tests,\n",
    "                   'ab_test == \"recommender_system_test\" and group == \"A\"',\n",
    "                   'ab_test == \"interface_eu_test\" and group == \"B\"'))"
   ]
  },
  {
   "cell_type": "markdown",
   "metadata": {
    "id": "1wxDSuJuqbcs"
   },
   "source": [
    "Если тесты проходили в одно время, то на поведение 439 пользователей группы A теста 'recommender_system_test' могло оказать влияние участие этих пользователей в тестовой группе 'interface_eu_test'."
   ]
  },
  {
   "cell_type": "markdown",
   "metadata": {
    "id": "TyQegYqiqbcs"
   },
   "source": [
    "В группу B теста recommender_system_test попал 681 человек и конкурирующий тест мог повлиять на активность пользователей, если они тоже находились в тестовой группе, проверим их число: "
   ]
  },
  {
   "cell_type": "code",
   "execution_count": 27,
   "metadata": {
    "colab": {
     "base_uri": "https://localhost:8080/"
    },
    "id": "yVA6Wv1Sqbct",
    "outputId": "082eb8d0-9aef-4b06-c52a-c209e4cbb29f"
   },
   "outputs": [
    {
     "output_type": "execute_result",
     "data": {
      "text/plain": [
       "344"
      ]
     },
     "metadata": {},
     "execution_count": 27
    }
   ],
   "source": [
    "len(check_intersection(participants_both_tests,\n",
    "                   'ab_test == \"recommender_system_test\" and group == \"B\"',\n",
    "                   'ab_test == \"interface_eu_test\" and group == \"B\"'))"
   ]
  },
  {
   "cell_type": "markdown",
   "metadata": {
    "id": "LztO0uYTqbct"
   },
   "source": [
    "Таких участников 344."
   ]
  },
  {
   "cell_type": "markdown",
   "metadata": {
    "id": "0v8XMhQ8qbct"
   },
   "source": [
    "Так как согласно техническому заданию нам нужны только участники теста 'recommender_system_test', то сделаем срез таблицы и оставим только таких пользователей:"
   ]
  },
  {
   "cell_type": "code",
   "execution_count": 28,
   "metadata": {
    "id": "E5iWW9pMqbct"
   },
   "outputs": [],
   "source": [
    "participants = participants.query('ab_test == \"recommender_system_test\"')"
   ]
  },
  {
   "cell_type": "markdown",
   "metadata": {
    "id": "pr5WeUS0qbct"
   },
   "source": [
    "Проверим, что в таблице остались участники теста 'recommender_system_test':"
   ]
  },
  {
   "cell_type": "code",
   "execution_count": 29,
   "metadata": {
    "colab": {
     "base_uri": "https://localhost:8080/"
    },
    "id": "nSVCoZ9Cqbcu",
    "outputId": "fae96e25-3695-486a-e019-376f90cfc65d"
   },
   "outputs": [
    {
     "output_type": "execute_result",
     "data": {
      "text/plain": [
       "recommender_system_test    6701\n",
       "Name: ab_test, dtype: int64"
      ]
     },
     "metadata": {},
     "execution_count": 29
    }
   ],
   "source": [
    "participants['ab_test'].value_counts()"
   ]
  },
  {
   "cell_type": "markdown",
   "metadata": {
    "id": "uzv7Tkq4qbcu"
   },
   "source": [
    "**Группы: А — контрольная, B — новая платёжная воронка**"
   ]
  },
  {
   "cell_type": "markdown",
   "metadata": {
    "id": "Sh59jzgPqbcu"
   },
   "source": [
    "Напишем функцию, которая будет подсчитывать количество пользователей по группам:"
   ]
  },
  {
   "cell_type": "code",
   "execution_count": 30,
   "metadata": {
    "id": "jDLPBmaAqbcu"
   },
   "outputs": [],
   "source": [
    "def users_group(data):\n",
    "    table = data.groupby('group')['user_id'].agg(['nunique'])\n",
    "    table['percent'] = (table['nunique']/data['user_id'].nunique())*100\n",
    "    return table"
   ]
  },
  {
   "cell_type": "markdown",
   "metadata": {
    "id": "_QaxX6tBqbcu"
   },
   "source": [
    "Проверим равномерность распределения по тестовым группам:"
   ]
  },
  {
   "cell_type": "code",
   "execution_count": 31,
   "metadata": {
    "colab": {
     "base_uri": "https://localhost:8080/",
     "height": 143
    },
    "id": "b6oBpjE2qbcu",
    "outputId": "6b8af148-2b17-46b0-8442-f738534cc5c2"
   },
   "outputs": [
    {
     "output_type": "execute_result",
     "data": {
      "text/plain": [
       "       nunique  percent\n",
       "group                  \n",
       "A         3824    57.07\n",
       "B         2877    42.93"
      ],
      "text/html": [
       "\n",
       "  <div id=\"df-85a12db0-c97a-4f79-854a-442402901c09\">\n",
       "    <div class=\"colab-df-container\">\n",
       "      <div>\n",
       "<style scoped>\n",
       "    .dataframe tbody tr th:only-of-type {\n",
       "        vertical-align: middle;\n",
       "    }\n",
       "\n",
       "    .dataframe tbody tr th {\n",
       "        vertical-align: top;\n",
       "    }\n",
       "\n",
       "    .dataframe thead th {\n",
       "        text-align: right;\n",
       "    }\n",
       "</style>\n",
       "<table border=\"1\" class=\"dataframe\">\n",
       "  <thead>\n",
       "    <tr style=\"text-align: right;\">\n",
       "      <th></th>\n",
       "      <th>nunique</th>\n",
       "      <th>percent</th>\n",
       "    </tr>\n",
       "    <tr>\n",
       "      <th>group</th>\n",
       "      <th></th>\n",
       "      <th></th>\n",
       "    </tr>\n",
       "  </thead>\n",
       "  <tbody>\n",
       "    <tr>\n",
       "      <th>A</th>\n",
       "      <td>3824</td>\n",
       "      <td>57.07</td>\n",
       "    </tr>\n",
       "    <tr>\n",
       "      <th>B</th>\n",
       "      <td>2877</td>\n",
       "      <td>42.93</td>\n",
       "    </tr>\n",
       "  </tbody>\n",
       "</table>\n",
       "</div>\n",
       "      <button class=\"colab-df-convert\" onclick=\"convertToInteractive('df-85a12db0-c97a-4f79-854a-442402901c09')\"\n",
       "              title=\"Convert this dataframe to an interactive table.\"\n",
       "              style=\"display:none;\">\n",
       "        \n",
       "  <svg xmlns=\"http://www.w3.org/2000/svg\" height=\"24px\"viewBox=\"0 0 24 24\"\n",
       "       width=\"24px\">\n",
       "    <path d=\"M0 0h24v24H0V0z\" fill=\"none\"/>\n",
       "    <path d=\"M18.56 5.44l.94 2.06.94-2.06 2.06-.94-2.06-.94-.94-2.06-.94 2.06-2.06.94zm-11 1L8.5 8.5l.94-2.06 2.06-.94-2.06-.94L8.5 2.5l-.94 2.06-2.06.94zm10 10l.94 2.06.94-2.06 2.06-.94-2.06-.94-.94-2.06-.94 2.06-2.06.94z\"/><path d=\"M17.41 7.96l-1.37-1.37c-.4-.4-.92-.59-1.43-.59-.52 0-1.04.2-1.43.59L10.3 9.45l-7.72 7.72c-.78.78-.78 2.05 0 2.83L4 21.41c.39.39.9.59 1.41.59.51 0 1.02-.2 1.41-.59l7.78-7.78 2.81-2.81c.8-.78.8-2.07 0-2.86zM5.41 20L4 18.59l7.72-7.72 1.47 1.35L5.41 20z\"/>\n",
       "  </svg>\n",
       "      </button>\n",
       "      \n",
       "  <style>\n",
       "    .colab-df-container {\n",
       "      display:flex;\n",
       "      flex-wrap:wrap;\n",
       "      gap: 12px;\n",
       "    }\n",
       "\n",
       "    .colab-df-convert {\n",
       "      background-color: #E8F0FE;\n",
       "      border: none;\n",
       "      border-radius: 50%;\n",
       "      cursor: pointer;\n",
       "      display: none;\n",
       "      fill: #1967D2;\n",
       "      height: 32px;\n",
       "      padding: 0 0 0 0;\n",
       "      width: 32px;\n",
       "    }\n",
       "\n",
       "    .colab-df-convert:hover {\n",
       "      background-color: #E2EBFA;\n",
       "      box-shadow: 0px 1px 2px rgba(60, 64, 67, 0.3), 0px 1px 3px 1px rgba(60, 64, 67, 0.15);\n",
       "      fill: #174EA6;\n",
       "    }\n",
       "\n",
       "    [theme=dark] .colab-df-convert {\n",
       "      background-color: #3B4455;\n",
       "      fill: #D2E3FC;\n",
       "    }\n",
       "\n",
       "    [theme=dark] .colab-df-convert:hover {\n",
       "      background-color: #434B5C;\n",
       "      box-shadow: 0px 1px 3px 1px rgba(0, 0, 0, 0.15);\n",
       "      filter: drop-shadow(0px 1px 2px rgba(0, 0, 0, 0.3));\n",
       "      fill: #FFFFFF;\n",
       "    }\n",
       "  </style>\n",
       "\n",
       "      <script>\n",
       "        const buttonEl =\n",
       "          document.querySelector('#df-85a12db0-c97a-4f79-854a-442402901c09 button.colab-df-convert');\n",
       "        buttonEl.style.display =\n",
       "          google.colab.kernel.accessAllowed ? 'block' : 'none';\n",
       "\n",
       "        async function convertToInteractive(key) {\n",
       "          const element = document.querySelector('#df-85a12db0-c97a-4f79-854a-442402901c09');\n",
       "          const dataTable =\n",
       "            await google.colab.kernel.invokeFunction('convertToInteractive',\n",
       "                                                     [key], {});\n",
       "          if (!dataTable) return;\n",
       "\n",
       "          const docLinkHtml = 'Like what you see? Visit the ' +\n",
       "            '<a target=\"_blank\" href=https://colab.research.google.com/notebooks/data_table.ipynb>data table notebook</a>'\n",
       "            + ' to learn more about interactive tables.';\n",
       "          element.innerHTML = '';\n",
       "          dataTable['output_type'] = 'display_data';\n",
       "          await google.colab.output.renderOutput(dataTable, element);\n",
       "          const docLink = document.createElement('div');\n",
       "          docLink.innerHTML = docLinkHtml;\n",
       "          element.appendChild(docLink);\n",
       "        }\n",
       "      </script>\n",
       "    </div>\n",
       "  </div>\n",
       "  "
      ]
     },
     "metadata": {},
     "execution_count": 31
    }
   ],
   "source": [
    "users_group(participants)"
   ]
  },
  {
   "cell_type": "markdown",
   "metadata": {
    "id": "oOiGUEhWqbcv"
   },
   "source": [
    "Выборки неравномерные, в тестируемой группе примерно на 14% меньше пользователей."
   ]
  },
  {
   "cell_type": "markdown",
   "metadata": {
    "id": "7peI920Sqbcv"
   },
   "source": [
    "Проверим, есть ли пользователи которые попали и в группу А, и в группу В:"
   ]
  },
  {
   "cell_type": "code",
   "execution_count": 32,
   "metadata": {
    "colab": {
     "base_uri": "https://localhost:8080/"
    },
    "id": "fNh8rImAqbcv",
    "outputId": "82354f1a-9174-4de7-cbf2-1aa3867f80e5"
   },
   "outputs": [
    {
     "output_type": "execute_result",
     "data": {
      "text/plain": [
       "0"
      ]
     },
     "metadata": {},
     "execution_count": 32
    }
   ],
   "source": [
    "len(check_intersection(participants, 'group == \"A\"', 'group == \"B\"'))"
   ]
  },
  {
   "cell_type": "markdown",
   "metadata": {
    "id": "9ballWpEqbcv"
   },
   "source": [
    "Пересекающихся пользователей нет."
   ]
  },
  {
   "cell_type": "markdown",
   "metadata": {
    "id": "b-Zv-2jpqbcw"
   },
   "source": [
    "<a name=\"3.2\"><h3>3.2 Даты регистрации пользователей и проведения теста</h3></a>"
   ]
  },
  {
   "cell_type": "markdown",
   "metadata": {
    "id": "VAABxeu4qbcw"
   },
   "source": [
    "**Дата начала регистрации пользователей 2020-12-07 и остановка набора новых пользователей 2020-12-21**"
   ]
  },
  {
   "cell_type": "markdown",
   "metadata": {
    "id": "DSGKl93Bqbcw"
   },
   "source": [
    "Проверим даты регистрации пользователей:"
   ]
  },
  {
   "cell_type": "code",
   "execution_count": 33,
   "metadata": {
    "colab": {
     "base_uri": "https://localhost:8080/"
    },
    "id": "kpIpaE2hqbcw",
    "outputId": "b7dbde8a-eeff-44da-ac1b-e046e951b54d"
   },
   "outputs": [
    {
     "output_type": "stream",
     "name": "stdout",
     "text": [
      "Минимальная дата регистрации:  2020-12-07 00:00:00\n",
      "Максимальная дата регистрации:  2020-12-23 00:00:00\n"
     ]
    }
   ],
   "source": [
    "print('Минимальная дата регистрации: ', users['first_date'].min())\n",
    "print('Максимальная дата регистрации: ', users['first_date'].max())"
   ]
  },
  {
   "cell_type": "markdown",
   "metadata": {
    "id": "H5JST3YXqbcw"
   },
   "source": [
    "Дата начала регистрации верная, а максимальная выходит за пределы 21 декабря. Так как согласно техническому заданию дата остановки набора новых пользователей 2020-12-21, то уберем из таблицы пользователей, которые были зарегистрированы 22 и 23 числа."
   ]
  },
  {
   "cell_type": "code",
   "execution_count": 34,
   "metadata": {
    "id": "-RrPo1Bxqbcw"
   },
   "outputs": [],
   "source": [
    "users = users.query('first_date < 20201222')"
   ]
  },
  {
   "cell_type": "markdown",
   "metadata": {
    "id": "pdrN8qvUqbcx"
   },
   "source": [
    "Проверим, что период набора новых пользователей равен 14 дней:"
   ]
  },
  {
   "cell_type": "code",
   "execution_count": 35,
   "metadata": {
    "colab": {
     "base_uri": "https://localhost:8080/"
    },
    "id": "6jCJvyyxqbcx",
    "outputId": "8ef41cb4-38ff-4050-8868-841106abde29"
   },
   "outputs": [
    {
     "output_type": "execute_result",
     "data": {
      "text/plain": [
       "Timedelta('14 days 00:00:00')"
      ]
     },
     "metadata": {},
     "execution_count": 35
    }
   ],
   "source": [
    "users['first_date'].max() - users['first_date'].min()"
   ]
  },
  {
   "cell_type": "markdown",
   "metadata": {
    "id": "PGC2FIOsqbcx"
   },
   "source": [
    "**Дата запуска: 2020-12-07, дата остановки: 2021-01-04**"
   ]
  },
  {
   "cell_type": "markdown",
   "metadata": {
    "id": "ArLnMa-nqbcx"
   },
   "source": [
    "Посмотрим даты совершённых событий:"
   ]
  },
  {
   "cell_type": "code",
   "execution_count": 36,
   "metadata": {
    "colab": {
     "base_uri": "https://localhost:8080/"
    },
    "id": "-__oo-60qbcx",
    "outputId": "012dfc30-440c-412b-84a5-030b5e9282e0"
   },
   "outputs": [
    {
     "output_type": "stream",
     "name": "stdout",
     "text": [
      "Минимальная дата события:  2020-12-07 00:00:33\n",
      "Максимальная дата события:  2020-12-30 23:36:33\n"
     ]
    }
   ],
   "source": [
    "print('Минимальная дата события: ', events['event_dt'].min())\n",
    "print('Максимальная дата события: ', events['event_dt'].max())"
   ]
  },
  {
   "cell_type": "markdown",
   "metadata": {
    "id": "YnxNSuC9qbcy"
   },
   "source": [
    "Дата запуска совпадает с датой первого события, а последнее событие зарегистрировано на несколько дней раньше конца проведения теста."
   ]
  },
  {
   "cell_type": "markdown",
   "metadata": {
    "id": "3Bwqy6sXqbcy"
   },
   "source": [
    "Проверим, проводились ли маркетинговые мероприятия в период проведения теста в регионе EU:"
   ]
  },
  {
   "cell_type": "code",
   "execution_count": 37,
   "metadata": {
    "colab": {
     "base_uri": "https://localhost:8080/",
     "height": 81
    },
    "id": "cKe2OG5xqbcz",
    "outputId": "2923ad20-8108-4825-de13-3df7018cb24f"
   },
   "outputs": [
    {
     "output_type": "execute_result",
     "data": {
      "text/plain": [
       "                       name        regions   start_dt  finish_dt\n",
       "0  Christmas&New Year Promo  EU, N.America 2020-12-25 2021-01-03"
      ],
      "text/html": [
       "\n",
       "  <div id=\"df-2e36abe2-58d2-43d1-b032-81503a75bdd3\">\n",
       "    <div class=\"colab-df-container\">\n",
       "      <div>\n",
       "<style scoped>\n",
       "    .dataframe tbody tr th:only-of-type {\n",
       "        vertical-align: middle;\n",
       "    }\n",
       "\n",
       "    .dataframe tbody tr th {\n",
       "        vertical-align: top;\n",
       "    }\n",
       "\n",
       "    .dataframe thead th {\n",
       "        text-align: right;\n",
       "    }\n",
       "</style>\n",
       "<table border=\"1\" class=\"dataframe\">\n",
       "  <thead>\n",
       "    <tr style=\"text-align: right;\">\n",
       "      <th></th>\n",
       "      <th>name</th>\n",
       "      <th>regions</th>\n",
       "      <th>start_dt</th>\n",
       "      <th>finish_dt</th>\n",
       "    </tr>\n",
       "  </thead>\n",
       "  <tbody>\n",
       "    <tr>\n",
       "      <th>0</th>\n",
       "      <td>Christmas&amp;New Year Promo</td>\n",
       "      <td>EU, N.America</td>\n",
       "      <td>2020-12-25</td>\n",
       "      <td>2021-01-03</td>\n",
       "    </tr>\n",
       "  </tbody>\n",
       "</table>\n",
       "</div>\n",
       "      <button class=\"colab-df-convert\" onclick=\"convertToInteractive('df-2e36abe2-58d2-43d1-b032-81503a75bdd3')\"\n",
       "              title=\"Convert this dataframe to an interactive table.\"\n",
       "              style=\"display:none;\">\n",
       "        \n",
       "  <svg xmlns=\"http://www.w3.org/2000/svg\" height=\"24px\"viewBox=\"0 0 24 24\"\n",
       "       width=\"24px\">\n",
       "    <path d=\"M0 0h24v24H0V0z\" fill=\"none\"/>\n",
       "    <path d=\"M18.56 5.44l.94 2.06.94-2.06 2.06-.94-2.06-.94-.94-2.06-.94 2.06-2.06.94zm-11 1L8.5 8.5l.94-2.06 2.06-.94-2.06-.94L8.5 2.5l-.94 2.06-2.06.94zm10 10l.94 2.06.94-2.06 2.06-.94-2.06-.94-.94-2.06-.94 2.06-2.06.94z\"/><path d=\"M17.41 7.96l-1.37-1.37c-.4-.4-.92-.59-1.43-.59-.52 0-1.04.2-1.43.59L10.3 9.45l-7.72 7.72c-.78.78-.78 2.05 0 2.83L4 21.41c.39.39.9.59 1.41.59.51 0 1.02-.2 1.41-.59l7.78-7.78 2.81-2.81c.8-.78.8-2.07 0-2.86zM5.41 20L4 18.59l7.72-7.72 1.47 1.35L5.41 20z\"/>\n",
       "  </svg>\n",
       "      </button>\n",
       "      \n",
       "  <style>\n",
       "    .colab-df-container {\n",
       "      display:flex;\n",
       "      flex-wrap:wrap;\n",
       "      gap: 12px;\n",
       "    }\n",
       "\n",
       "    .colab-df-convert {\n",
       "      background-color: #E8F0FE;\n",
       "      border: none;\n",
       "      border-radius: 50%;\n",
       "      cursor: pointer;\n",
       "      display: none;\n",
       "      fill: #1967D2;\n",
       "      height: 32px;\n",
       "      padding: 0 0 0 0;\n",
       "      width: 32px;\n",
       "    }\n",
       "\n",
       "    .colab-df-convert:hover {\n",
       "      background-color: #E2EBFA;\n",
       "      box-shadow: 0px 1px 2px rgba(60, 64, 67, 0.3), 0px 1px 3px 1px rgba(60, 64, 67, 0.15);\n",
       "      fill: #174EA6;\n",
       "    }\n",
       "\n",
       "    [theme=dark] .colab-df-convert {\n",
       "      background-color: #3B4455;\n",
       "      fill: #D2E3FC;\n",
       "    }\n",
       "\n",
       "    [theme=dark] .colab-df-convert:hover {\n",
       "      background-color: #434B5C;\n",
       "      box-shadow: 0px 1px 3px 1px rgba(0, 0, 0, 0.15);\n",
       "      filter: drop-shadow(0px 1px 2px rgba(0, 0, 0, 0.3));\n",
       "      fill: #FFFFFF;\n",
       "    }\n",
       "  </style>\n",
       "\n",
       "      <script>\n",
       "        const buttonEl =\n",
       "          document.querySelector('#df-2e36abe2-58d2-43d1-b032-81503a75bdd3 button.colab-df-convert');\n",
       "        buttonEl.style.display =\n",
       "          google.colab.kernel.accessAllowed ? 'block' : 'none';\n",
       "\n",
       "        async function convertToInteractive(key) {\n",
       "          const element = document.querySelector('#df-2e36abe2-58d2-43d1-b032-81503a75bdd3');\n",
       "          const dataTable =\n",
       "            await google.colab.kernel.invokeFunction('convertToInteractive',\n",
       "                                                     [key], {});\n",
       "          if (!dataTable) return;\n",
       "\n",
       "          const docLinkHtml = 'Like what you see? Visit the ' +\n",
       "            '<a target=\"_blank\" href=https://colab.research.google.com/notebooks/data_table.ipynb>data table notebook</a>'\n",
       "            + ' to learn more about interactive tables.';\n",
       "          element.innerHTML = '';\n",
       "          dataTable['output_type'] = 'display_data';\n",
       "          await google.colab.output.renderOutput(dataTable, element);\n",
       "          const docLink = document.createElement('div');\n",
       "          docLink.innerHTML = docLinkHtml;\n",
       "          element.appendChild(docLink);\n",
       "        }\n",
       "      </script>\n",
       "    </div>\n",
       "  </div>\n",
       "  "
      ]
     },
     "metadata": {},
     "execution_count": 37
    }
   ],
   "source": [
    "matketing_events[(matketing_events['regions'].str.contains(\"EU\"))\n",
    "                 & (matketing_events['start_dt'] >= '20201207')\n",
    "                 & (matketing_events['start_dt'] <= '20210104')]"
   ]
  },
  {
   "cell_type": "markdown",
   "metadata": {
    "id": "UQECN-R4qbcz"
   },
   "source": [
    "В период теста в регионе EU проводилось одно мероприятие, связанное с праздниками Новый год и Рождество."
   ]
  },
  {
   "cell_type": "markdown",
   "metadata": {
    "id": "yYq2rEarqbc0"
   },
   "source": [
    "<a name=\"3.3\"><h3>3.3 Процент аудитории</h3></a>"
   ]
  },
  {
   "cell_type": "markdown",
   "metadata": {
    "id": "_3qscqSmqbc0"
   },
   "source": [
    "**Аудитория: 15% новых пользователей из региона EU**"
   ]
  },
  {
   "cell_type": "markdown",
   "metadata": {
    "id": "sTb1diKGqbc0"
   },
   "source": [
    "Подсчитаем количество уникальных пользователей в регионе EU:"
   ]
  },
  {
   "cell_type": "code",
   "execution_count": 38,
   "metadata": {
    "colab": {
     "base_uri": "https://localhost:8080/",
     "height": 206
    },
    "id": "6sEJWDEFqbc0",
    "outputId": "cac19d89-2586-4fd7-bc14-41e81dc0d270"
   },
   "outputs": [
    {
     "output_type": "execute_result",
     "data": {
      "text/plain": [
       "           count\n",
       "region          \n",
       "APAC        2883\n",
       "CIS         2900\n",
       "EU         42340\n",
       "N.America   8347"
      ],
      "text/html": [
       "\n",
       "  <div id=\"df-0147c8f8-222e-412f-8c8c-92096e6aec08\">\n",
       "    <div class=\"colab-df-container\">\n",
       "      <div>\n",
       "<style scoped>\n",
       "    .dataframe tbody tr th:only-of-type {\n",
       "        vertical-align: middle;\n",
       "    }\n",
       "\n",
       "    .dataframe tbody tr th {\n",
       "        vertical-align: top;\n",
       "    }\n",
       "\n",
       "    .dataframe thead th {\n",
       "        text-align: right;\n",
       "    }\n",
       "</style>\n",
       "<table border=\"1\" class=\"dataframe\">\n",
       "  <thead>\n",
       "    <tr style=\"text-align: right;\">\n",
       "      <th></th>\n",
       "      <th>count</th>\n",
       "    </tr>\n",
       "    <tr>\n",
       "      <th>region</th>\n",
       "      <th></th>\n",
       "    </tr>\n",
       "  </thead>\n",
       "  <tbody>\n",
       "    <tr>\n",
       "      <th>APAC</th>\n",
       "      <td>2883</td>\n",
       "    </tr>\n",
       "    <tr>\n",
       "      <th>CIS</th>\n",
       "      <td>2900</td>\n",
       "    </tr>\n",
       "    <tr>\n",
       "      <th>EU</th>\n",
       "      <td>42340</td>\n",
       "    </tr>\n",
       "    <tr>\n",
       "      <th>N.America</th>\n",
       "      <td>8347</td>\n",
       "    </tr>\n",
       "  </tbody>\n",
       "</table>\n",
       "</div>\n",
       "      <button class=\"colab-df-convert\" onclick=\"convertToInteractive('df-0147c8f8-222e-412f-8c8c-92096e6aec08')\"\n",
       "              title=\"Convert this dataframe to an interactive table.\"\n",
       "              style=\"display:none;\">\n",
       "        \n",
       "  <svg xmlns=\"http://www.w3.org/2000/svg\" height=\"24px\"viewBox=\"0 0 24 24\"\n",
       "       width=\"24px\">\n",
       "    <path d=\"M0 0h24v24H0V0z\" fill=\"none\"/>\n",
       "    <path d=\"M18.56 5.44l.94 2.06.94-2.06 2.06-.94-2.06-.94-.94-2.06-.94 2.06-2.06.94zm-11 1L8.5 8.5l.94-2.06 2.06-.94-2.06-.94L8.5 2.5l-.94 2.06-2.06.94zm10 10l.94 2.06.94-2.06 2.06-.94-2.06-.94-.94-2.06-.94 2.06-2.06.94z\"/><path d=\"M17.41 7.96l-1.37-1.37c-.4-.4-.92-.59-1.43-.59-.52 0-1.04.2-1.43.59L10.3 9.45l-7.72 7.72c-.78.78-.78 2.05 0 2.83L4 21.41c.39.39.9.59 1.41.59.51 0 1.02-.2 1.41-.59l7.78-7.78 2.81-2.81c.8-.78.8-2.07 0-2.86zM5.41 20L4 18.59l7.72-7.72 1.47 1.35L5.41 20z\"/>\n",
       "  </svg>\n",
       "      </button>\n",
       "      \n",
       "  <style>\n",
       "    .colab-df-container {\n",
       "      display:flex;\n",
       "      flex-wrap:wrap;\n",
       "      gap: 12px;\n",
       "    }\n",
       "\n",
       "    .colab-df-convert {\n",
       "      background-color: #E8F0FE;\n",
       "      border: none;\n",
       "      border-radius: 50%;\n",
       "      cursor: pointer;\n",
       "      display: none;\n",
       "      fill: #1967D2;\n",
       "      height: 32px;\n",
       "      padding: 0 0 0 0;\n",
       "      width: 32px;\n",
       "    }\n",
       "\n",
       "    .colab-df-convert:hover {\n",
       "      background-color: #E2EBFA;\n",
       "      box-shadow: 0px 1px 2px rgba(60, 64, 67, 0.3), 0px 1px 3px 1px rgba(60, 64, 67, 0.15);\n",
       "      fill: #174EA6;\n",
       "    }\n",
       "\n",
       "    [theme=dark] .colab-df-convert {\n",
       "      background-color: #3B4455;\n",
       "      fill: #D2E3FC;\n",
       "    }\n",
       "\n",
       "    [theme=dark] .colab-df-convert:hover {\n",
       "      background-color: #434B5C;\n",
       "      box-shadow: 0px 1px 3px 1px rgba(0, 0, 0, 0.15);\n",
       "      filter: drop-shadow(0px 1px 2px rgba(0, 0, 0, 0.3));\n",
       "      fill: #FFFFFF;\n",
       "    }\n",
       "  </style>\n",
       "\n",
       "      <script>\n",
       "        const buttonEl =\n",
       "          document.querySelector('#df-0147c8f8-222e-412f-8c8c-92096e6aec08 button.colab-df-convert');\n",
       "        buttonEl.style.display =\n",
       "          google.colab.kernel.accessAllowed ? 'block' : 'none';\n",
       "\n",
       "        async function convertToInteractive(key) {\n",
       "          const element = document.querySelector('#df-0147c8f8-222e-412f-8c8c-92096e6aec08');\n",
       "          const dataTable =\n",
       "            await google.colab.kernel.invokeFunction('convertToInteractive',\n",
       "                                                     [key], {});\n",
       "          if (!dataTable) return;\n",
       "\n",
       "          const docLinkHtml = 'Like what you see? Visit the ' +\n",
       "            '<a target=\"_blank\" href=https://colab.research.google.com/notebooks/data_table.ipynb>data table notebook</a>'\n",
       "            + ' to learn more about interactive tables.';\n",
       "          element.innerHTML = '';\n",
       "          dataTable['output_type'] = 'display_data';\n",
       "          await google.colab.output.renderOutput(dataTable, element);\n",
       "          const docLink = document.createElement('div');\n",
       "          docLink.innerHTML = docLinkHtml;\n",
       "          element.appendChild(docLink);\n",
       "        }\n",
       "      </script>\n",
       "    </div>\n",
       "  </div>\n",
       "  "
      ]
     },
     "metadata": {},
     "execution_count": 38
    }
   ],
   "source": [
    "users.groupby('region')['user_id'].agg(['count'])"
   ]
  },
  {
   "cell_type": "markdown",
   "metadata": {
    "id": "4v3ApHh8qbc0"
   },
   "source": [
    "Оставим в таблице только пользователей из региона EU:"
   ]
  },
  {
   "cell_type": "code",
   "execution_count": 39,
   "metadata": {
    "id": "kcvPiJKmqbc1"
   },
   "outputs": [],
   "source": [
    "users = users.query('region == \"EU\"')"
   ]
  },
  {
   "cell_type": "markdown",
   "metadata": {
    "id": "VRD6acfNqbc1"
   },
   "source": [
    "Посмотрим число участников теста, которое как ожидается в техническом задании равно 6000."
   ]
  },
  {
   "cell_type": "code",
   "execution_count": 40,
   "metadata": {
    "colab": {
     "base_uri": "https://localhost:8080/"
    },
    "id": "5eY3W596qbc1",
    "outputId": "6d2470c0-1551-4f1b-fcc4-4a06d6924a82"
   },
   "outputs": [
    {
     "output_type": "execute_result",
     "data": {
      "text/plain": [
       "6701"
      ]
     },
     "metadata": {},
     "execution_count": 40
    }
   ],
   "source": [
    "len(participants)"
   ]
  },
  {
   "cell_type": "markdown",
   "metadata": {
    "id": "rSBViWNoqbc1"
   },
   "source": [
    "Участников на 701 человека больше."
   ]
  },
  {
   "cell_type": "markdown",
   "metadata": {
    "id": "3700QQdfqbc1"
   },
   "source": [
    "Рассчитаем долю клиентов, поделив количество участников теста на общее число пользователей из региона EU:"
   ]
  },
  {
   "cell_type": "code",
   "execution_count": 41,
   "metadata": {
    "colab": {
     "base_uri": "https://localhost:8080/"
    },
    "id": "q4wbK-H1qbc1",
    "outputId": "bec2b87d-e243-4eb1-b90b-c6fa71ec4ca5"
   },
   "outputs": [
    {
     "output_type": "execute_result",
     "data": {
      "text/plain": [
       "15.83"
      ]
     },
     "metadata": {},
     "execution_count": 41
    }
   ],
   "source": [
    "round(len(participants)/len(users)*100, 2)"
   ]
  },
  {
   "cell_type": "markdown",
   "metadata": {
    "id": "a7pyXCa0qbc1"
   },
   "source": [
    "Доля аудитории немного выше 15%, возможно в таблице 'participants' есть клиенты из других регионов. Объединим таблицы 'users' и 'participants' и посмотрим:"
   ]
  },
  {
   "cell_type": "code",
   "execution_count": 42,
   "metadata": {
    "colab": {
     "base_uri": "https://localhost:8080/",
     "height": 206
    },
    "id": "5Lv8FCSWqbc2",
    "outputId": "a5e0d182-af71-4ce8-aa38-06c2096b82c4"
   },
   "outputs": [
    {
     "output_type": "execute_result",
     "data": {
      "text/plain": [
       "            user_id group                  ab_test first_date region  device\n",
       "0  D1ABA3E2887B6A73     A  recommender_system_test 2020-12-07     EU      PC\n",
       "1  A7A3664BD6242119     A  recommender_system_test 2020-12-20     EU  iPhone\n",
       "2  DABC14FDDFADD29E     A  recommender_system_test 2020-12-08     EU     Mac\n",
       "3  04988C5DF189632E     A  recommender_system_test 2020-12-14     EU  iPhone\n",
       "4  482F14783456D21B     B  recommender_system_test 2020-12-14     EU      PC"
      ],
      "text/html": [
       "\n",
       "  <div id=\"df-cf6baa88-f4e0-44e4-a4e1-1d591b2df22d\">\n",
       "    <div class=\"colab-df-container\">\n",
       "      <div>\n",
       "<style scoped>\n",
       "    .dataframe tbody tr th:only-of-type {\n",
       "        vertical-align: middle;\n",
       "    }\n",
       "\n",
       "    .dataframe tbody tr th {\n",
       "        vertical-align: top;\n",
       "    }\n",
       "\n",
       "    .dataframe thead th {\n",
       "        text-align: right;\n",
       "    }\n",
       "</style>\n",
       "<table border=\"1\" class=\"dataframe\">\n",
       "  <thead>\n",
       "    <tr style=\"text-align: right;\">\n",
       "      <th></th>\n",
       "      <th>user_id</th>\n",
       "      <th>group</th>\n",
       "      <th>ab_test</th>\n",
       "      <th>first_date</th>\n",
       "      <th>region</th>\n",
       "      <th>device</th>\n",
       "    </tr>\n",
       "  </thead>\n",
       "  <tbody>\n",
       "    <tr>\n",
       "      <th>0</th>\n",
       "      <td>D1ABA3E2887B6A73</td>\n",
       "      <td>A</td>\n",
       "      <td>recommender_system_test</td>\n",
       "      <td>2020-12-07</td>\n",
       "      <td>EU</td>\n",
       "      <td>PC</td>\n",
       "    </tr>\n",
       "    <tr>\n",
       "      <th>1</th>\n",
       "      <td>A7A3664BD6242119</td>\n",
       "      <td>A</td>\n",
       "      <td>recommender_system_test</td>\n",
       "      <td>2020-12-20</td>\n",
       "      <td>EU</td>\n",
       "      <td>iPhone</td>\n",
       "    </tr>\n",
       "    <tr>\n",
       "      <th>2</th>\n",
       "      <td>DABC14FDDFADD29E</td>\n",
       "      <td>A</td>\n",
       "      <td>recommender_system_test</td>\n",
       "      <td>2020-12-08</td>\n",
       "      <td>EU</td>\n",
       "      <td>Mac</td>\n",
       "    </tr>\n",
       "    <tr>\n",
       "      <th>3</th>\n",
       "      <td>04988C5DF189632E</td>\n",
       "      <td>A</td>\n",
       "      <td>recommender_system_test</td>\n",
       "      <td>2020-12-14</td>\n",
       "      <td>EU</td>\n",
       "      <td>iPhone</td>\n",
       "    </tr>\n",
       "    <tr>\n",
       "      <th>4</th>\n",
       "      <td>482F14783456D21B</td>\n",
       "      <td>B</td>\n",
       "      <td>recommender_system_test</td>\n",
       "      <td>2020-12-14</td>\n",
       "      <td>EU</td>\n",
       "      <td>PC</td>\n",
       "    </tr>\n",
       "  </tbody>\n",
       "</table>\n",
       "</div>\n",
       "      <button class=\"colab-df-convert\" onclick=\"convertToInteractive('df-cf6baa88-f4e0-44e4-a4e1-1d591b2df22d')\"\n",
       "              title=\"Convert this dataframe to an interactive table.\"\n",
       "              style=\"display:none;\">\n",
       "        \n",
       "  <svg xmlns=\"http://www.w3.org/2000/svg\" height=\"24px\"viewBox=\"0 0 24 24\"\n",
       "       width=\"24px\">\n",
       "    <path d=\"M0 0h24v24H0V0z\" fill=\"none\"/>\n",
       "    <path d=\"M18.56 5.44l.94 2.06.94-2.06 2.06-.94-2.06-.94-.94-2.06-.94 2.06-2.06.94zm-11 1L8.5 8.5l.94-2.06 2.06-.94-2.06-.94L8.5 2.5l-.94 2.06-2.06.94zm10 10l.94 2.06.94-2.06 2.06-.94-2.06-.94-.94-2.06-.94 2.06-2.06.94z\"/><path d=\"M17.41 7.96l-1.37-1.37c-.4-.4-.92-.59-1.43-.59-.52 0-1.04.2-1.43.59L10.3 9.45l-7.72 7.72c-.78.78-.78 2.05 0 2.83L4 21.41c.39.39.9.59 1.41.59.51 0 1.02-.2 1.41-.59l7.78-7.78 2.81-2.81c.8-.78.8-2.07 0-2.86zM5.41 20L4 18.59l7.72-7.72 1.47 1.35L5.41 20z\"/>\n",
       "  </svg>\n",
       "      </button>\n",
       "      \n",
       "  <style>\n",
       "    .colab-df-container {\n",
       "      display:flex;\n",
       "      flex-wrap:wrap;\n",
       "      gap: 12px;\n",
       "    }\n",
       "\n",
       "    .colab-df-convert {\n",
       "      background-color: #E8F0FE;\n",
       "      border: none;\n",
       "      border-radius: 50%;\n",
       "      cursor: pointer;\n",
       "      display: none;\n",
       "      fill: #1967D2;\n",
       "      height: 32px;\n",
       "      padding: 0 0 0 0;\n",
       "      width: 32px;\n",
       "    }\n",
       "\n",
       "    .colab-df-convert:hover {\n",
       "      background-color: #E2EBFA;\n",
       "      box-shadow: 0px 1px 2px rgba(60, 64, 67, 0.3), 0px 1px 3px 1px rgba(60, 64, 67, 0.15);\n",
       "      fill: #174EA6;\n",
       "    }\n",
       "\n",
       "    [theme=dark] .colab-df-convert {\n",
       "      background-color: #3B4455;\n",
       "      fill: #D2E3FC;\n",
       "    }\n",
       "\n",
       "    [theme=dark] .colab-df-convert:hover {\n",
       "      background-color: #434B5C;\n",
       "      box-shadow: 0px 1px 3px 1px rgba(0, 0, 0, 0.15);\n",
       "      filter: drop-shadow(0px 1px 2px rgba(0, 0, 0, 0.3));\n",
       "      fill: #FFFFFF;\n",
       "    }\n",
       "  </style>\n",
       "\n",
       "      <script>\n",
       "        const buttonEl =\n",
       "          document.querySelector('#df-cf6baa88-f4e0-44e4-a4e1-1d591b2df22d button.colab-df-convert');\n",
       "        buttonEl.style.display =\n",
       "          google.colab.kernel.accessAllowed ? 'block' : 'none';\n",
       "\n",
       "        async function convertToInteractive(key) {\n",
       "          const element = document.querySelector('#df-cf6baa88-f4e0-44e4-a4e1-1d591b2df22d');\n",
       "          const dataTable =\n",
       "            await google.colab.kernel.invokeFunction('convertToInteractive',\n",
       "                                                     [key], {});\n",
       "          if (!dataTable) return;\n",
       "\n",
       "          const docLinkHtml = 'Like what you see? Visit the ' +\n",
       "            '<a target=\"_blank\" href=https://colab.research.google.com/notebooks/data_table.ipynb>data table notebook</a>'\n",
       "            + ' to learn more about interactive tables.';\n",
       "          element.innerHTML = '';\n",
       "          dataTable['output_type'] = 'display_data';\n",
       "          await google.colab.output.renderOutput(dataTable, element);\n",
       "          const docLink = document.createElement('div');\n",
       "          docLink.innerHTML = docLinkHtml;\n",
       "          element.appendChild(docLink);\n",
       "        }\n",
       "      </script>\n",
       "    </div>\n",
       "  </div>\n",
       "  "
      ]
     },
     "metadata": {},
     "execution_count": 42
    }
   ],
   "source": [
    "users_participants = participants.merge(users, on = 'user_id')\n",
    "users_participants.head()"
   ]
  },
  {
   "cell_type": "markdown",
   "metadata": {
    "id": "p5wNkRUJqbc2"
   },
   "source": [
    "Подсчитаем число пользователей:"
   ]
  },
  {
   "cell_type": "code",
   "execution_count": 43,
   "metadata": {
    "colab": {
     "base_uri": "https://localhost:8080/"
    },
    "id": "6sPnZKeuqbc2",
    "outputId": "7ed644b1-6288-449b-e538-db0554be6c6f"
   },
   "outputs": [
    {
     "output_type": "execute_result",
     "data": {
      "text/plain": [
       "6351"
      ]
     },
     "metadata": {},
     "execution_count": 43
    }
   ],
   "source": [
    "len(users_participants)"
   ]
  },
  {
   "cell_type": "markdown",
   "metadata": {
    "id": "lrUJX2yxqbc2"
   },
   "source": [
    "Участников стало меньше, рассчитаем долю пользователей еще раз:"
   ]
  },
  {
   "cell_type": "code",
   "execution_count": 44,
   "metadata": {
    "colab": {
     "base_uri": "https://localhost:8080/"
    },
    "id": "-blTY1NZqbc2",
    "outputId": "979966f7-c9f0-4412-9c1e-832c59366395"
   },
   "outputs": [
    {
     "output_type": "execute_result",
     "data": {
      "text/plain": [
       "15.0"
      ]
     },
     "metadata": {},
     "execution_count": 44
    }
   ],
   "source": [
    "len(users_participants)/len(users)*100"
   ]
  },
  {
   "cell_type": "markdown",
   "metadata": {
    "id": "hSQFA4kYqbc2"
   },
   "source": [
    "Теперь доля ровно 15%."
   ]
  },
  {
   "cell_type": "markdown",
   "metadata": {
    "id": "9cQqOUCJqbc2"
   },
   "source": [
    "Посмотрим, изменилось ли соотношений пользователей по группам:"
   ]
  },
  {
   "cell_type": "code",
   "execution_count": 45,
   "metadata": {
    "colab": {
     "base_uri": "https://localhost:8080/",
     "height": 143
    },
    "id": "F2tCObz1qbc2",
    "outputId": "409ba358-90a5-4ec0-a9d1-ca72ea3e77f0"
   },
   "outputs": [
    {
     "output_type": "execute_result",
     "data": {
      "text/plain": [
       "       nunique  percent\n",
       "group                  \n",
       "A         3634    57.22\n",
       "B         2717    42.78"
      ],
      "text/html": [
       "\n",
       "  <div id=\"df-9e2087fc-3490-40b6-a444-1427f51f86de\">\n",
       "    <div class=\"colab-df-container\">\n",
       "      <div>\n",
       "<style scoped>\n",
       "    .dataframe tbody tr th:only-of-type {\n",
       "        vertical-align: middle;\n",
       "    }\n",
       "\n",
       "    .dataframe tbody tr th {\n",
       "        vertical-align: top;\n",
       "    }\n",
       "\n",
       "    .dataframe thead th {\n",
       "        text-align: right;\n",
       "    }\n",
       "</style>\n",
       "<table border=\"1\" class=\"dataframe\">\n",
       "  <thead>\n",
       "    <tr style=\"text-align: right;\">\n",
       "      <th></th>\n",
       "      <th>nunique</th>\n",
       "      <th>percent</th>\n",
       "    </tr>\n",
       "    <tr>\n",
       "      <th>group</th>\n",
       "      <th></th>\n",
       "      <th></th>\n",
       "    </tr>\n",
       "  </thead>\n",
       "  <tbody>\n",
       "    <tr>\n",
       "      <th>A</th>\n",
       "      <td>3634</td>\n",
       "      <td>57.22</td>\n",
       "    </tr>\n",
       "    <tr>\n",
       "      <th>B</th>\n",
       "      <td>2717</td>\n",
       "      <td>42.78</td>\n",
       "    </tr>\n",
       "  </tbody>\n",
       "</table>\n",
       "</div>\n",
       "      <button class=\"colab-df-convert\" onclick=\"convertToInteractive('df-9e2087fc-3490-40b6-a444-1427f51f86de')\"\n",
       "              title=\"Convert this dataframe to an interactive table.\"\n",
       "              style=\"display:none;\">\n",
       "        \n",
       "  <svg xmlns=\"http://www.w3.org/2000/svg\" height=\"24px\"viewBox=\"0 0 24 24\"\n",
       "       width=\"24px\">\n",
       "    <path d=\"M0 0h24v24H0V0z\" fill=\"none\"/>\n",
       "    <path d=\"M18.56 5.44l.94 2.06.94-2.06 2.06-.94-2.06-.94-.94-2.06-.94 2.06-2.06.94zm-11 1L8.5 8.5l.94-2.06 2.06-.94-2.06-.94L8.5 2.5l-.94 2.06-2.06.94zm10 10l.94 2.06.94-2.06 2.06-.94-2.06-.94-.94-2.06-.94 2.06-2.06.94z\"/><path d=\"M17.41 7.96l-1.37-1.37c-.4-.4-.92-.59-1.43-.59-.52 0-1.04.2-1.43.59L10.3 9.45l-7.72 7.72c-.78.78-.78 2.05 0 2.83L4 21.41c.39.39.9.59 1.41.59.51 0 1.02-.2 1.41-.59l7.78-7.78 2.81-2.81c.8-.78.8-2.07 0-2.86zM5.41 20L4 18.59l7.72-7.72 1.47 1.35L5.41 20z\"/>\n",
       "  </svg>\n",
       "      </button>\n",
       "      \n",
       "  <style>\n",
       "    .colab-df-container {\n",
       "      display:flex;\n",
       "      flex-wrap:wrap;\n",
       "      gap: 12px;\n",
       "    }\n",
       "\n",
       "    .colab-df-convert {\n",
       "      background-color: #E8F0FE;\n",
       "      border: none;\n",
       "      border-radius: 50%;\n",
       "      cursor: pointer;\n",
       "      display: none;\n",
       "      fill: #1967D2;\n",
       "      height: 32px;\n",
       "      padding: 0 0 0 0;\n",
       "      width: 32px;\n",
       "    }\n",
       "\n",
       "    .colab-df-convert:hover {\n",
       "      background-color: #E2EBFA;\n",
       "      box-shadow: 0px 1px 2px rgba(60, 64, 67, 0.3), 0px 1px 3px 1px rgba(60, 64, 67, 0.15);\n",
       "      fill: #174EA6;\n",
       "    }\n",
       "\n",
       "    [theme=dark] .colab-df-convert {\n",
       "      background-color: #3B4455;\n",
       "      fill: #D2E3FC;\n",
       "    }\n",
       "\n",
       "    [theme=dark] .colab-df-convert:hover {\n",
       "      background-color: #434B5C;\n",
       "      box-shadow: 0px 1px 3px 1px rgba(0, 0, 0, 0.15);\n",
       "      filter: drop-shadow(0px 1px 2px rgba(0, 0, 0, 0.3));\n",
       "      fill: #FFFFFF;\n",
       "    }\n",
       "  </style>\n",
       "\n",
       "      <script>\n",
       "        const buttonEl =\n",
       "          document.querySelector('#df-9e2087fc-3490-40b6-a444-1427f51f86de button.colab-df-convert');\n",
       "        buttonEl.style.display =\n",
       "          google.colab.kernel.accessAllowed ? 'block' : 'none';\n",
       "\n",
       "        async function convertToInteractive(key) {\n",
       "          const element = document.querySelector('#df-9e2087fc-3490-40b6-a444-1427f51f86de');\n",
       "          const dataTable =\n",
       "            await google.colab.kernel.invokeFunction('convertToInteractive',\n",
       "                                                     [key], {});\n",
       "          if (!dataTable) return;\n",
       "\n",
       "          const docLinkHtml = 'Like what you see? Visit the ' +\n",
       "            '<a target=\"_blank\" href=https://colab.research.google.com/notebooks/data_table.ipynb>data table notebook</a>'\n",
       "            + ' to learn more about interactive tables.';\n",
       "          element.innerHTML = '';\n",
       "          dataTable['output_type'] = 'display_data';\n",
       "          await google.colab.output.renderOutput(dataTable, element);\n",
       "          const docLink = document.createElement('div');\n",
       "          docLink.innerHTML = docLinkHtml;\n",
       "          element.appendChild(docLink);\n",
       "        }\n",
       "      </script>\n",
       "    </div>\n",
       "  </div>\n",
       "  "
      ]
     },
     "metadata": {},
     "execution_count": 45
    }
   ],
   "source": [
    "users_group(users_participants)"
   ]
  },
  {
   "cell_type": "markdown",
   "metadata": {
    "id": "aJQpTbawqbc3"
   },
   "source": [
    "Соотношение практически не изменилось."
   ]
  },
  {
   "cell_type": "markdown",
   "metadata": {
    "id": "PFiOi9kPqbc3"
   },
   "source": [
    "<div style=\"border: solid green 2px; padding: 20px\">\n",
    "    \n",
    "**Выводы**\n",
    "\n",
    "* В таблице 'participants' оставлены только участники теста 'recommender_system_test'.\n",
    "* Выборки A и B неравномерные, в группе A на 14% больше пользователей.  \n",
    "* По датам регистрации убрали из таблицы пользователей, которые были зарегистрированы после 21 декабря.\n",
    "* После 30 декабря не было зарегистрировано ни одного события, хотя срок завершения теста 4 января.\n",
    "* В период  проведения теста (25 декабря) проводилось одно маркетинговое мероприятие.\n",
    "* Аудитория теста - 15% из региона EU, как и указано в техническом задании.</div>"
   ]
  },
  {
   "cell_type": "markdown",
   "metadata": {
    "id": "k7i0abzOqbc3"
   },
   "source": [
    "<a name=\"4\"><h2>4 Исследовательский анализ данных</h2></a>"
   ]
  },
  {
   "cell_type": "markdown",
   "metadata": {
    "id": "LoAFhOetqbc3"
   },
   "source": [
    "<a name=\"4.1\"><h3>4.1 Объединение таблиц</h3></a>"
   ]
  },
  {
   "cell_type": "markdown",
   "metadata": {
    "id": "6iRijWk6qbc3"
   },
   "source": [
    "Для проведения исследовательского анализа объединим данные таблиц 'users_participants' и 'events':"
   ]
  },
  {
   "cell_type": "code",
   "execution_count": 46,
   "metadata": {
    "colab": {
     "base_uri": "https://localhost:8080/",
     "height": 206
    },
    "id": "COqj06FVqbc3",
    "outputId": "557bd671-bb10-4025-c165-4eb2c7c89fda"
   },
   "outputs": [
    {
     "output_type": "execute_result",
     "data": {
      "text/plain": [
       "            user_id group                  ab_test first_date region device  \\\n",
       "0  D1ABA3E2887B6A73     A  recommender_system_test 2020-12-07     EU     PC   \n",
       "1  D1ABA3E2887B6A73     A  recommender_system_test 2020-12-07     EU     PC   \n",
       "2  D1ABA3E2887B6A73     A  recommender_system_test 2020-12-07     EU     PC   \n",
       "3  D1ABA3E2887B6A73     A  recommender_system_test 2020-12-07     EU     PC   \n",
       "4  D1ABA3E2887B6A73     A  recommender_system_test 2020-12-07     EU     PC   \n",
       "\n",
       "             event_dt    event_name  details  \n",
       "0 2020-12-07 14:43:27      purchase    99.99  \n",
       "1 2020-12-25 00:04:56      purchase     4.99  \n",
       "2 2020-12-07 14:43:29  product_cart      NaN  \n",
       "3 2020-12-25 00:04:57  product_cart      NaN  \n",
       "4 2020-12-07 14:43:27  product_page      NaN  "
      ],
      "text/html": [
       "\n",
       "  <div id=\"df-b03e852a-0438-407b-b3dc-66f83c816c77\">\n",
       "    <div class=\"colab-df-container\">\n",
       "      <div>\n",
       "<style scoped>\n",
       "    .dataframe tbody tr th:only-of-type {\n",
       "        vertical-align: middle;\n",
       "    }\n",
       "\n",
       "    .dataframe tbody tr th {\n",
       "        vertical-align: top;\n",
       "    }\n",
       "\n",
       "    .dataframe thead th {\n",
       "        text-align: right;\n",
       "    }\n",
       "</style>\n",
       "<table border=\"1\" class=\"dataframe\">\n",
       "  <thead>\n",
       "    <tr style=\"text-align: right;\">\n",
       "      <th></th>\n",
       "      <th>user_id</th>\n",
       "      <th>group</th>\n",
       "      <th>ab_test</th>\n",
       "      <th>first_date</th>\n",
       "      <th>region</th>\n",
       "      <th>device</th>\n",
       "      <th>event_dt</th>\n",
       "      <th>event_name</th>\n",
       "      <th>details</th>\n",
       "    </tr>\n",
       "  </thead>\n",
       "  <tbody>\n",
       "    <tr>\n",
       "      <th>0</th>\n",
       "      <td>D1ABA3E2887B6A73</td>\n",
       "      <td>A</td>\n",
       "      <td>recommender_system_test</td>\n",
       "      <td>2020-12-07</td>\n",
       "      <td>EU</td>\n",
       "      <td>PC</td>\n",
       "      <td>2020-12-07 14:43:27</td>\n",
       "      <td>purchase</td>\n",
       "      <td>99.99</td>\n",
       "    </tr>\n",
       "    <tr>\n",
       "      <th>1</th>\n",
       "      <td>D1ABA3E2887B6A73</td>\n",
       "      <td>A</td>\n",
       "      <td>recommender_system_test</td>\n",
       "      <td>2020-12-07</td>\n",
       "      <td>EU</td>\n",
       "      <td>PC</td>\n",
       "      <td>2020-12-25 00:04:56</td>\n",
       "      <td>purchase</td>\n",
       "      <td>4.99</td>\n",
       "    </tr>\n",
       "    <tr>\n",
       "      <th>2</th>\n",
       "      <td>D1ABA3E2887B6A73</td>\n",
       "      <td>A</td>\n",
       "      <td>recommender_system_test</td>\n",
       "      <td>2020-12-07</td>\n",
       "      <td>EU</td>\n",
       "      <td>PC</td>\n",
       "      <td>2020-12-07 14:43:29</td>\n",
       "      <td>product_cart</td>\n",
       "      <td>NaN</td>\n",
       "    </tr>\n",
       "    <tr>\n",
       "      <th>3</th>\n",
       "      <td>D1ABA3E2887B6A73</td>\n",
       "      <td>A</td>\n",
       "      <td>recommender_system_test</td>\n",
       "      <td>2020-12-07</td>\n",
       "      <td>EU</td>\n",
       "      <td>PC</td>\n",
       "      <td>2020-12-25 00:04:57</td>\n",
       "      <td>product_cart</td>\n",
       "      <td>NaN</td>\n",
       "    </tr>\n",
       "    <tr>\n",
       "      <th>4</th>\n",
       "      <td>D1ABA3E2887B6A73</td>\n",
       "      <td>A</td>\n",
       "      <td>recommender_system_test</td>\n",
       "      <td>2020-12-07</td>\n",
       "      <td>EU</td>\n",
       "      <td>PC</td>\n",
       "      <td>2020-12-07 14:43:27</td>\n",
       "      <td>product_page</td>\n",
       "      <td>NaN</td>\n",
       "    </tr>\n",
       "  </tbody>\n",
       "</table>\n",
       "</div>\n",
       "      <button class=\"colab-df-convert\" onclick=\"convertToInteractive('df-b03e852a-0438-407b-b3dc-66f83c816c77')\"\n",
       "              title=\"Convert this dataframe to an interactive table.\"\n",
       "              style=\"display:none;\">\n",
       "        \n",
       "  <svg xmlns=\"http://www.w3.org/2000/svg\" height=\"24px\"viewBox=\"0 0 24 24\"\n",
       "       width=\"24px\">\n",
       "    <path d=\"M0 0h24v24H0V0z\" fill=\"none\"/>\n",
       "    <path d=\"M18.56 5.44l.94 2.06.94-2.06 2.06-.94-2.06-.94-.94-2.06-.94 2.06-2.06.94zm-11 1L8.5 8.5l.94-2.06 2.06-.94-2.06-.94L8.5 2.5l-.94 2.06-2.06.94zm10 10l.94 2.06.94-2.06 2.06-.94-2.06-.94-.94-2.06-.94 2.06-2.06.94z\"/><path d=\"M17.41 7.96l-1.37-1.37c-.4-.4-.92-.59-1.43-.59-.52 0-1.04.2-1.43.59L10.3 9.45l-7.72 7.72c-.78.78-.78 2.05 0 2.83L4 21.41c.39.39.9.59 1.41.59.51 0 1.02-.2 1.41-.59l7.78-7.78 2.81-2.81c.8-.78.8-2.07 0-2.86zM5.41 20L4 18.59l7.72-7.72 1.47 1.35L5.41 20z\"/>\n",
       "  </svg>\n",
       "      </button>\n",
       "      \n",
       "  <style>\n",
       "    .colab-df-container {\n",
       "      display:flex;\n",
       "      flex-wrap:wrap;\n",
       "      gap: 12px;\n",
       "    }\n",
       "\n",
       "    .colab-df-convert {\n",
       "      background-color: #E8F0FE;\n",
       "      border: none;\n",
       "      border-radius: 50%;\n",
       "      cursor: pointer;\n",
       "      display: none;\n",
       "      fill: #1967D2;\n",
       "      height: 32px;\n",
       "      padding: 0 0 0 0;\n",
       "      width: 32px;\n",
       "    }\n",
       "\n",
       "    .colab-df-convert:hover {\n",
       "      background-color: #E2EBFA;\n",
       "      box-shadow: 0px 1px 2px rgba(60, 64, 67, 0.3), 0px 1px 3px 1px rgba(60, 64, 67, 0.15);\n",
       "      fill: #174EA6;\n",
       "    }\n",
       "\n",
       "    [theme=dark] .colab-df-convert {\n",
       "      background-color: #3B4455;\n",
       "      fill: #D2E3FC;\n",
       "    }\n",
       "\n",
       "    [theme=dark] .colab-df-convert:hover {\n",
       "      background-color: #434B5C;\n",
       "      box-shadow: 0px 1px 3px 1px rgba(0, 0, 0, 0.15);\n",
       "      filter: drop-shadow(0px 1px 2px rgba(0, 0, 0, 0.3));\n",
       "      fill: #FFFFFF;\n",
       "    }\n",
       "  </style>\n",
       "\n",
       "      <script>\n",
       "        const buttonEl =\n",
       "          document.querySelector('#df-b03e852a-0438-407b-b3dc-66f83c816c77 button.colab-df-convert');\n",
       "        buttonEl.style.display =\n",
       "          google.colab.kernel.accessAllowed ? 'block' : 'none';\n",
       "\n",
       "        async function convertToInteractive(key) {\n",
       "          const element = document.querySelector('#df-b03e852a-0438-407b-b3dc-66f83c816c77');\n",
       "          const dataTable =\n",
       "            await google.colab.kernel.invokeFunction('convertToInteractive',\n",
       "                                                     [key], {});\n",
       "          if (!dataTable) return;\n",
       "\n",
       "          const docLinkHtml = 'Like what you see? Visit the ' +\n",
       "            '<a target=\"_blank\" href=https://colab.research.google.com/notebooks/data_table.ipynb>data table notebook</a>'\n",
       "            + ' to learn more about interactive tables.';\n",
       "          element.innerHTML = '';\n",
       "          dataTable['output_type'] = 'display_data';\n",
       "          await google.colab.output.renderOutput(dataTable, element);\n",
       "          const docLink = document.createElement('div');\n",
       "          docLink.innerHTML = docLinkHtml;\n",
       "          element.appendChild(docLink);\n",
       "        }\n",
       "      </script>\n",
       "    </div>\n",
       "  </div>\n",
       "  "
      ]
     },
     "metadata": {},
     "execution_count": 46
    }
   ],
   "source": [
    "df = users_participants.merge(events, on = 'user_id', how = 'left')\n",
    "df.head()"
   ]
  },
  {
   "cell_type": "markdown",
   "metadata": {
    "id": "gx5jh8YHqbc4"
   },
   "source": [
    "Посмотрим общую информацию о таблице:"
   ]
  },
  {
   "cell_type": "code",
   "execution_count": 47,
   "metadata": {
    "colab": {
     "base_uri": "https://localhost:8080/"
    },
    "id": "TMExOlm5qbc4",
    "outputId": "d4d19e13-5d96-4414-fe0c-96b577bf8f4d"
   },
   "outputs": [
    {
     "output_type": "stream",
     "name": "stdout",
     "text": [
      "<class 'pandas.core.frame.DataFrame'>\n",
      "Int64Index: 26290 entries, 0 to 26289\n",
      "Data columns (total 9 columns):\n",
      " #   Column      Non-Null Count  Dtype         \n",
      "---  ------      --------------  -----         \n",
      " 0   user_id     26290 non-null  object        \n",
      " 1   group       26290 non-null  object        \n",
      " 2   ab_test     26290 non-null  object        \n",
      " 3   first_date  26290 non-null  datetime64[ns]\n",
      " 4   region      26290 non-null  object        \n",
      " 5   device      26290 non-null  object        \n",
      " 6   event_dt    23420 non-null  datetime64[ns]\n",
      " 7   event_name  23420 non-null  object        \n",
      " 8   details     3196 non-null   float64       \n",
      "dtypes: datetime64[ns](2), float64(1), object(6)\n",
      "memory usage: 2.0+ MB\n"
     ]
    }
   ],
   "source": [
    "df.info()"
   ]
  },
  {
   "cell_type": "markdown",
   "metadata": {
    "id": "BMClYu3Dqbc4"
   },
   "source": [
    "Подсчитаем процент пропусков в поле с названием событий:"
   ]
  },
  {
   "cell_type": "code",
   "execution_count": 48,
   "metadata": {
    "colab": {
     "base_uri": "https://localhost:8080/"
    },
    "id": "QBirkow8qbc4",
    "outputId": "e5e3f515-e9e9-4774-f948-917ce013432d"
   },
   "outputs": [
    {
     "output_type": "execute_result",
     "data": {
      "text/plain": [
       "10.92"
      ]
     },
     "metadata": {},
     "execution_count": 48
    }
   ],
   "source": [
    "round(df['event_name'].isna().mean()*100, 2)"
   ]
  },
  {
   "cell_type": "markdown",
   "metadata": {
    "id": "ybQUJ_Klqbc4"
   },
   "source": [
    "Почти в 11% случаев клиенты не совершили никаких действий. Заполним пропуски для подсчета количества таких событий по группам:"
   ]
  },
  {
   "cell_type": "code",
   "execution_count": 49,
   "metadata": {
    "id": "HSfXB0SGqbc4"
   },
   "outputs": [],
   "source": [
    "df['event_name'] = df['event_name'].fillna('no_info')"
   ]
  },
  {
   "cell_type": "markdown",
   "metadata": {
    "id": "E18WQaxAqbc5"
   },
   "source": [
    "Проверим их число и соотношение по группам:"
   ]
  },
  {
   "cell_type": "code",
   "execution_count": 50,
   "metadata": {
    "colab": {
     "base_uri": "https://localhost:8080/",
     "height": 143
    },
    "id": "6vzC3o8Lqbc5",
    "outputId": "342f4965-a457-481e-c1f5-5d09766c21f8"
   },
   "outputs": [
    {
     "output_type": "execute_result",
     "data": {
      "text/plain": [
       "       nunique  percent\n",
       "group                  \n",
       "A         1030    35.89\n",
       "B         1840    64.11"
      ],
      "text/html": [
       "\n",
       "  <div id=\"df-241077f1-4b0a-4eb5-a633-ae50ce607a91\">\n",
       "    <div class=\"colab-df-container\">\n",
       "      <div>\n",
       "<style scoped>\n",
       "    .dataframe tbody tr th:only-of-type {\n",
       "        vertical-align: middle;\n",
       "    }\n",
       "\n",
       "    .dataframe tbody tr th {\n",
       "        vertical-align: top;\n",
       "    }\n",
       "\n",
       "    .dataframe thead th {\n",
       "        text-align: right;\n",
       "    }\n",
       "</style>\n",
       "<table border=\"1\" class=\"dataframe\">\n",
       "  <thead>\n",
       "    <tr style=\"text-align: right;\">\n",
       "      <th></th>\n",
       "      <th>nunique</th>\n",
       "      <th>percent</th>\n",
       "    </tr>\n",
       "    <tr>\n",
       "      <th>group</th>\n",
       "      <th></th>\n",
       "      <th></th>\n",
       "    </tr>\n",
       "  </thead>\n",
       "  <tbody>\n",
       "    <tr>\n",
       "      <th>A</th>\n",
       "      <td>1030</td>\n",
       "      <td>35.89</td>\n",
       "    </tr>\n",
       "    <tr>\n",
       "      <th>B</th>\n",
       "      <td>1840</td>\n",
       "      <td>64.11</td>\n",
       "    </tr>\n",
       "  </tbody>\n",
       "</table>\n",
       "</div>\n",
       "      <button class=\"colab-df-convert\" onclick=\"convertToInteractive('df-241077f1-4b0a-4eb5-a633-ae50ce607a91')\"\n",
       "              title=\"Convert this dataframe to an interactive table.\"\n",
       "              style=\"display:none;\">\n",
       "        \n",
       "  <svg xmlns=\"http://www.w3.org/2000/svg\" height=\"24px\"viewBox=\"0 0 24 24\"\n",
       "       width=\"24px\">\n",
       "    <path d=\"M0 0h24v24H0V0z\" fill=\"none\"/>\n",
       "    <path d=\"M18.56 5.44l.94 2.06.94-2.06 2.06-.94-2.06-.94-.94-2.06-.94 2.06-2.06.94zm-11 1L8.5 8.5l.94-2.06 2.06-.94-2.06-.94L8.5 2.5l-.94 2.06-2.06.94zm10 10l.94 2.06.94-2.06 2.06-.94-2.06-.94-.94-2.06-.94 2.06-2.06.94z\"/><path d=\"M17.41 7.96l-1.37-1.37c-.4-.4-.92-.59-1.43-.59-.52 0-1.04.2-1.43.59L10.3 9.45l-7.72 7.72c-.78.78-.78 2.05 0 2.83L4 21.41c.39.39.9.59 1.41.59.51 0 1.02-.2 1.41-.59l7.78-7.78 2.81-2.81c.8-.78.8-2.07 0-2.86zM5.41 20L4 18.59l7.72-7.72 1.47 1.35L5.41 20z\"/>\n",
       "  </svg>\n",
       "      </button>\n",
       "      \n",
       "  <style>\n",
       "    .colab-df-container {\n",
       "      display:flex;\n",
       "      flex-wrap:wrap;\n",
       "      gap: 12px;\n",
       "    }\n",
       "\n",
       "    .colab-df-convert {\n",
       "      background-color: #E8F0FE;\n",
       "      border: none;\n",
       "      border-radius: 50%;\n",
       "      cursor: pointer;\n",
       "      display: none;\n",
       "      fill: #1967D2;\n",
       "      height: 32px;\n",
       "      padding: 0 0 0 0;\n",
       "      width: 32px;\n",
       "    }\n",
       "\n",
       "    .colab-df-convert:hover {\n",
       "      background-color: #E2EBFA;\n",
       "      box-shadow: 0px 1px 2px rgba(60, 64, 67, 0.3), 0px 1px 3px 1px rgba(60, 64, 67, 0.15);\n",
       "      fill: #174EA6;\n",
       "    }\n",
       "\n",
       "    [theme=dark] .colab-df-convert {\n",
       "      background-color: #3B4455;\n",
       "      fill: #D2E3FC;\n",
       "    }\n",
       "\n",
       "    [theme=dark] .colab-df-convert:hover {\n",
       "      background-color: #434B5C;\n",
       "      box-shadow: 0px 1px 3px 1px rgba(0, 0, 0, 0.15);\n",
       "      filter: drop-shadow(0px 1px 2px rgba(0, 0, 0, 0.3));\n",
       "      fill: #FFFFFF;\n",
       "    }\n",
       "  </style>\n",
       "\n",
       "      <script>\n",
       "        const buttonEl =\n",
       "          document.querySelector('#df-241077f1-4b0a-4eb5-a633-ae50ce607a91 button.colab-df-convert');\n",
       "        buttonEl.style.display =\n",
       "          google.colab.kernel.accessAllowed ? 'block' : 'none';\n",
       "\n",
       "        async function convertToInteractive(key) {\n",
       "          const element = document.querySelector('#df-241077f1-4b0a-4eb5-a633-ae50ce607a91');\n",
       "          const dataTable =\n",
       "            await google.colab.kernel.invokeFunction('convertToInteractive',\n",
       "                                                     [key], {});\n",
       "          if (!dataTable) return;\n",
       "\n",
       "          const docLinkHtml = 'Like what you see? Visit the ' +\n",
       "            '<a target=\"_blank\" href=https://colab.research.google.com/notebooks/data_table.ipynb>data table notebook</a>'\n",
       "            + ' to learn more about interactive tables.';\n",
       "          element.innerHTML = '';\n",
       "          dataTable['output_type'] = 'display_data';\n",
       "          await google.colab.output.renderOutput(dataTable, element);\n",
       "          const docLink = document.createElement('div');\n",
       "          docLink.innerHTML = docLinkHtml;\n",
       "          element.appendChild(docLink);\n",
       "        }\n",
       "      </script>\n",
       "    </div>\n",
       "  </div>\n",
       "  "
      ]
     },
     "metadata": {},
     "execution_count": 50
    }
   ],
   "source": [
    "users_group(df.query('event_name == \"no_info\"'))"
   ]
  },
  {
   "cell_type": "markdown",
   "metadata": {
    "id": "oGiZ1bC8qbc5"
   },
   "source": [
    "В группе B на 28.22% больше случаев, когда пользователи зарегистрировались, но больше не совершили никаких действий. Следует рассмотреть причины, из-за которых пользователи после регистрации не перешли к этапу авторизации, возможно в результате изменений была допущена какая-то техническая ошибка, которая не позволила некоторым пользователям пройти дальше.\n",
    "\n",
    "Так как для результатов теста важно изменение данных по метрикам, а такие пользователи приравниваются к неучаствовавшим в тесте, то не будем их учитывать при дальнейшем анализе."
   ]
  },
  {
   "cell_type": "markdown",
   "metadata": {
    "id": "ej4F8Avoqbc5"
   },
   "source": [
    "Добавим столбец с количеством дней, прошедших со дня регистрации до совершения события:"
   ]
  },
  {
   "cell_type": "code",
   "execution_count": 51,
   "metadata": {
    "id": "Uxao4k4Eqbc5"
   },
   "outputs": [],
   "source": [
    "df['count_days'] = (df['event_dt'] - df['first_date']).dt.days"
   ]
  },
  {
   "cell_type": "markdown",
   "metadata": {
    "id": "MQdmbuGmqbc6"
   },
   "source": [
    "Проверим, что столбец был добавлен:"
   ]
  },
  {
   "cell_type": "code",
   "execution_count": 52,
   "metadata": {
    "colab": {
     "base_uri": "https://localhost:8080/",
     "height": 206
    },
    "id": "ANy8Iq5Wqbc6",
    "outputId": "47fc9393-c784-4e07-9fde-ba344859f11a"
   },
   "outputs": [
    {
     "output_type": "execute_result",
     "data": {
      "text/plain": [
       "            user_id group                  ab_test first_date region device  \\\n",
       "0  D1ABA3E2887B6A73     A  recommender_system_test 2020-12-07     EU     PC   \n",
       "1  D1ABA3E2887B6A73     A  recommender_system_test 2020-12-07     EU     PC   \n",
       "2  D1ABA3E2887B6A73     A  recommender_system_test 2020-12-07     EU     PC   \n",
       "3  D1ABA3E2887B6A73     A  recommender_system_test 2020-12-07     EU     PC   \n",
       "4  D1ABA3E2887B6A73     A  recommender_system_test 2020-12-07     EU     PC   \n",
       "\n",
       "             event_dt    event_name  details  count_days  \n",
       "0 2020-12-07 14:43:27      purchase    99.99        0.00  \n",
       "1 2020-12-25 00:04:56      purchase     4.99       18.00  \n",
       "2 2020-12-07 14:43:29  product_cart      NaN        0.00  \n",
       "3 2020-12-25 00:04:57  product_cart      NaN       18.00  \n",
       "4 2020-12-07 14:43:27  product_page      NaN        0.00  "
      ],
      "text/html": [
       "\n",
       "  <div id=\"df-1af6bf1e-ed5d-4962-a4d9-345a4d7c76c6\">\n",
       "    <div class=\"colab-df-container\">\n",
       "      <div>\n",
       "<style scoped>\n",
       "    .dataframe tbody tr th:only-of-type {\n",
       "        vertical-align: middle;\n",
       "    }\n",
       "\n",
       "    .dataframe tbody tr th {\n",
       "        vertical-align: top;\n",
       "    }\n",
       "\n",
       "    .dataframe thead th {\n",
       "        text-align: right;\n",
       "    }\n",
       "</style>\n",
       "<table border=\"1\" class=\"dataframe\">\n",
       "  <thead>\n",
       "    <tr style=\"text-align: right;\">\n",
       "      <th></th>\n",
       "      <th>user_id</th>\n",
       "      <th>group</th>\n",
       "      <th>ab_test</th>\n",
       "      <th>first_date</th>\n",
       "      <th>region</th>\n",
       "      <th>device</th>\n",
       "      <th>event_dt</th>\n",
       "      <th>event_name</th>\n",
       "      <th>details</th>\n",
       "      <th>count_days</th>\n",
       "    </tr>\n",
       "  </thead>\n",
       "  <tbody>\n",
       "    <tr>\n",
       "      <th>0</th>\n",
       "      <td>D1ABA3E2887B6A73</td>\n",
       "      <td>A</td>\n",
       "      <td>recommender_system_test</td>\n",
       "      <td>2020-12-07</td>\n",
       "      <td>EU</td>\n",
       "      <td>PC</td>\n",
       "      <td>2020-12-07 14:43:27</td>\n",
       "      <td>purchase</td>\n",
       "      <td>99.99</td>\n",
       "      <td>0.00</td>\n",
       "    </tr>\n",
       "    <tr>\n",
       "      <th>1</th>\n",
       "      <td>D1ABA3E2887B6A73</td>\n",
       "      <td>A</td>\n",
       "      <td>recommender_system_test</td>\n",
       "      <td>2020-12-07</td>\n",
       "      <td>EU</td>\n",
       "      <td>PC</td>\n",
       "      <td>2020-12-25 00:04:56</td>\n",
       "      <td>purchase</td>\n",
       "      <td>4.99</td>\n",
       "      <td>18.00</td>\n",
       "    </tr>\n",
       "    <tr>\n",
       "      <th>2</th>\n",
       "      <td>D1ABA3E2887B6A73</td>\n",
       "      <td>A</td>\n",
       "      <td>recommender_system_test</td>\n",
       "      <td>2020-12-07</td>\n",
       "      <td>EU</td>\n",
       "      <td>PC</td>\n",
       "      <td>2020-12-07 14:43:29</td>\n",
       "      <td>product_cart</td>\n",
       "      <td>NaN</td>\n",
       "      <td>0.00</td>\n",
       "    </tr>\n",
       "    <tr>\n",
       "      <th>3</th>\n",
       "      <td>D1ABA3E2887B6A73</td>\n",
       "      <td>A</td>\n",
       "      <td>recommender_system_test</td>\n",
       "      <td>2020-12-07</td>\n",
       "      <td>EU</td>\n",
       "      <td>PC</td>\n",
       "      <td>2020-12-25 00:04:57</td>\n",
       "      <td>product_cart</td>\n",
       "      <td>NaN</td>\n",
       "      <td>18.00</td>\n",
       "    </tr>\n",
       "    <tr>\n",
       "      <th>4</th>\n",
       "      <td>D1ABA3E2887B6A73</td>\n",
       "      <td>A</td>\n",
       "      <td>recommender_system_test</td>\n",
       "      <td>2020-12-07</td>\n",
       "      <td>EU</td>\n",
       "      <td>PC</td>\n",
       "      <td>2020-12-07 14:43:27</td>\n",
       "      <td>product_page</td>\n",
       "      <td>NaN</td>\n",
       "      <td>0.00</td>\n",
       "    </tr>\n",
       "  </tbody>\n",
       "</table>\n",
       "</div>\n",
       "      <button class=\"colab-df-convert\" onclick=\"convertToInteractive('df-1af6bf1e-ed5d-4962-a4d9-345a4d7c76c6')\"\n",
       "              title=\"Convert this dataframe to an interactive table.\"\n",
       "              style=\"display:none;\">\n",
       "        \n",
       "  <svg xmlns=\"http://www.w3.org/2000/svg\" height=\"24px\"viewBox=\"0 0 24 24\"\n",
       "       width=\"24px\">\n",
       "    <path d=\"M0 0h24v24H0V0z\" fill=\"none\"/>\n",
       "    <path d=\"M18.56 5.44l.94 2.06.94-2.06 2.06-.94-2.06-.94-.94-2.06-.94 2.06-2.06.94zm-11 1L8.5 8.5l.94-2.06 2.06-.94-2.06-.94L8.5 2.5l-.94 2.06-2.06.94zm10 10l.94 2.06.94-2.06 2.06-.94-2.06-.94-.94-2.06-.94 2.06-2.06.94z\"/><path d=\"M17.41 7.96l-1.37-1.37c-.4-.4-.92-.59-1.43-.59-.52 0-1.04.2-1.43.59L10.3 9.45l-7.72 7.72c-.78.78-.78 2.05 0 2.83L4 21.41c.39.39.9.59 1.41.59.51 0 1.02-.2 1.41-.59l7.78-7.78 2.81-2.81c.8-.78.8-2.07 0-2.86zM5.41 20L4 18.59l7.72-7.72 1.47 1.35L5.41 20z\"/>\n",
       "  </svg>\n",
       "      </button>\n",
       "      \n",
       "  <style>\n",
       "    .colab-df-container {\n",
       "      display:flex;\n",
       "      flex-wrap:wrap;\n",
       "      gap: 12px;\n",
       "    }\n",
       "\n",
       "    .colab-df-convert {\n",
       "      background-color: #E8F0FE;\n",
       "      border: none;\n",
       "      border-radius: 50%;\n",
       "      cursor: pointer;\n",
       "      display: none;\n",
       "      fill: #1967D2;\n",
       "      height: 32px;\n",
       "      padding: 0 0 0 0;\n",
       "      width: 32px;\n",
       "    }\n",
       "\n",
       "    .colab-df-convert:hover {\n",
       "      background-color: #E2EBFA;\n",
       "      box-shadow: 0px 1px 2px rgba(60, 64, 67, 0.3), 0px 1px 3px 1px rgba(60, 64, 67, 0.15);\n",
       "      fill: #174EA6;\n",
       "    }\n",
       "\n",
       "    [theme=dark] .colab-df-convert {\n",
       "      background-color: #3B4455;\n",
       "      fill: #D2E3FC;\n",
       "    }\n",
       "\n",
       "    [theme=dark] .colab-df-convert:hover {\n",
       "      background-color: #434B5C;\n",
       "      box-shadow: 0px 1px 3px 1px rgba(0, 0, 0, 0.15);\n",
       "      filter: drop-shadow(0px 1px 2px rgba(0, 0, 0, 0.3));\n",
       "      fill: #FFFFFF;\n",
       "    }\n",
       "  </style>\n",
       "\n",
       "      <script>\n",
       "        const buttonEl =\n",
       "          document.querySelector('#df-1af6bf1e-ed5d-4962-a4d9-345a4d7c76c6 button.colab-df-convert');\n",
       "        buttonEl.style.display =\n",
       "          google.colab.kernel.accessAllowed ? 'block' : 'none';\n",
       "\n",
       "        async function convertToInteractive(key) {\n",
       "          const element = document.querySelector('#df-1af6bf1e-ed5d-4962-a4d9-345a4d7c76c6');\n",
       "          const dataTable =\n",
       "            await google.colab.kernel.invokeFunction('convertToInteractive',\n",
       "                                                     [key], {});\n",
       "          if (!dataTable) return;\n",
       "\n",
       "          const docLinkHtml = 'Like what you see? Visit the ' +\n",
       "            '<a target=\"_blank\" href=https://colab.research.google.com/notebooks/data_table.ipynb>data table notebook</a>'\n",
       "            + ' to learn more about interactive tables.';\n",
       "          element.innerHTML = '';\n",
       "          dataTable['output_type'] = 'display_data';\n",
       "          await google.colab.output.renderOutput(dataTable, element);\n",
       "          const docLink = document.createElement('div');\n",
       "          docLink.innerHTML = docLinkHtml;\n",
       "          element.appendChild(docLink);\n",
       "        }\n",
       "      </script>\n",
       "    </div>\n",
       "  </div>\n",
       "  "
      ]
     },
     "metadata": {},
     "execution_count": 52
    }
   ],
   "source": [
    "df.head()"
   ]
  },
  {
   "cell_type": "markdown",
   "metadata": {
    "id": "uk76gXd4qbc6"
   },
   "source": [
    "Уберем из таблицы строки, где количество дней с момента регистрации до совершения действия превышет 14:"
   ]
  },
  {
   "cell_type": "code",
   "execution_count": 53,
   "metadata": {
    "id": "zPoqtH9Cqbc6"
   },
   "outputs": [],
   "source": [
    "df = df.query('count_days <= 14')"
   ]
  },
  {
   "cell_type": "markdown",
   "metadata": {
    "id": "Y6CbAKvQqbc7"
   },
   "source": [
    "Посмотрим параметры таблицы:"
   ]
  },
  {
   "cell_type": "code",
   "execution_count": 54,
   "metadata": {
    "colab": {
     "base_uri": "https://localhost:8080/"
    },
    "id": "1W2VDkFTqbc7",
    "outputId": "df900a47-33bb-4fa0-c614-bc2bd9e1303b"
   },
   "outputs": [
    {
     "output_type": "stream",
     "name": "stdout",
     "text": [
      "<class 'pandas.core.frame.DataFrame'>\n",
      "Int64Index: 22828 entries, 0 to 26289\n",
      "Data columns (total 10 columns):\n",
      " #   Column      Non-Null Count  Dtype         \n",
      "---  ------      --------------  -----         \n",
      " 0   user_id     22828 non-null  object        \n",
      " 1   group       22828 non-null  object        \n",
      " 2   ab_test     22828 non-null  object        \n",
      " 3   first_date  22828 non-null  datetime64[ns]\n",
      " 4   region      22828 non-null  object        \n",
      " 5   device      22828 non-null  object        \n",
      " 6   event_dt    22828 non-null  datetime64[ns]\n",
      " 7   event_name  22828 non-null  object        \n",
      " 8   details     3123 non-null   float64       \n",
      " 9   count_days  22828 non-null  float64       \n",
      "dtypes: datetime64[ns](2), float64(2), object(6)\n",
      "memory usage: 1.9+ MB\n"
     ]
    }
   ],
   "source": [
    "df.info()"
   ]
  },
  {
   "cell_type": "markdown",
   "metadata": {
    "id": "MzQnHKFAqbc7"
   },
   "source": [
    "При срезе также были удалены пользователи без событий. Проверим число оставшихся пользователей:"
   ]
  },
  {
   "cell_type": "code",
   "execution_count": 55,
   "metadata": {
    "colab": {
     "base_uri": "https://localhost:8080/"
    },
    "id": "NEnOknrMqbc7",
    "outputId": "2e92850a-d5ef-4a99-b04f-53a712863374"
   },
   "outputs": [
    {
     "output_type": "execute_result",
     "data": {
      "text/plain": [
       "3481"
      ]
     },
     "metadata": {},
     "execution_count": 55
    }
   ],
   "source": [
    "df['user_id'].nunique()"
   ]
  },
  {
   "cell_type": "markdown",
   "metadata": {
    "id": "EFQqKIpsqbc7"
   },
   "source": [
    "В результате осталось 3481 уникальных пользователя."
   ]
  },
  {
   "cell_type": "markdown",
   "metadata": {
    "id": "rHY91Fy1qbc8"
   },
   "source": [
    "Посмотрим соотношение пользователей по группам:"
   ]
  },
  {
   "cell_type": "code",
   "execution_count": 56,
   "metadata": {
    "colab": {
     "base_uri": "https://localhost:8080/",
     "height": 143
    },
    "id": "c11pu8hHqbc8",
    "outputId": "a2032e11-dd65-4279-9e21-7179d3d28991"
   },
   "outputs": [
    {
     "output_type": "execute_result",
     "data": {
      "text/plain": [
       "       nunique  percent\n",
       "group                  \n",
       "A         2604    74.81\n",
       "B          877    25.19"
      ],
      "text/html": [
       "\n",
       "  <div id=\"df-da590f8a-0ae1-4017-a6a4-ea77bd212a31\">\n",
       "    <div class=\"colab-df-container\">\n",
       "      <div>\n",
       "<style scoped>\n",
       "    .dataframe tbody tr th:only-of-type {\n",
       "        vertical-align: middle;\n",
       "    }\n",
       "\n",
       "    .dataframe tbody tr th {\n",
       "        vertical-align: top;\n",
       "    }\n",
       "\n",
       "    .dataframe thead th {\n",
       "        text-align: right;\n",
       "    }\n",
       "</style>\n",
       "<table border=\"1\" class=\"dataframe\">\n",
       "  <thead>\n",
       "    <tr style=\"text-align: right;\">\n",
       "      <th></th>\n",
       "      <th>nunique</th>\n",
       "      <th>percent</th>\n",
       "    </tr>\n",
       "    <tr>\n",
       "      <th>group</th>\n",
       "      <th></th>\n",
       "      <th></th>\n",
       "    </tr>\n",
       "  </thead>\n",
       "  <tbody>\n",
       "    <tr>\n",
       "      <th>A</th>\n",
       "      <td>2604</td>\n",
       "      <td>74.81</td>\n",
       "    </tr>\n",
       "    <tr>\n",
       "      <th>B</th>\n",
       "      <td>877</td>\n",
       "      <td>25.19</td>\n",
       "    </tr>\n",
       "  </tbody>\n",
       "</table>\n",
       "</div>\n",
       "      <button class=\"colab-df-convert\" onclick=\"convertToInteractive('df-da590f8a-0ae1-4017-a6a4-ea77bd212a31')\"\n",
       "              title=\"Convert this dataframe to an interactive table.\"\n",
       "              style=\"display:none;\">\n",
       "        \n",
       "  <svg xmlns=\"http://www.w3.org/2000/svg\" height=\"24px\"viewBox=\"0 0 24 24\"\n",
       "       width=\"24px\">\n",
       "    <path d=\"M0 0h24v24H0V0z\" fill=\"none\"/>\n",
       "    <path d=\"M18.56 5.44l.94 2.06.94-2.06 2.06-.94-2.06-.94-.94-2.06-.94 2.06-2.06.94zm-11 1L8.5 8.5l.94-2.06 2.06-.94-2.06-.94L8.5 2.5l-.94 2.06-2.06.94zm10 10l.94 2.06.94-2.06 2.06-.94-2.06-.94-.94-2.06-.94 2.06-2.06.94z\"/><path d=\"M17.41 7.96l-1.37-1.37c-.4-.4-.92-.59-1.43-.59-.52 0-1.04.2-1.43.59L10.3 9.45l-7.72 7.72c-.78.78-.78 2.05 0 2.83L4 21.41c.39.39.9.59 1.41.59.51 0 1.02-.2 1.41-.59l7.78-7.78 2.81-2.81c.8-.78.8-2.07 0-2.86zM5.41 20L4 18.59l7.72-7.72 1.47 1.35L5.41 20z\"/>\n",
       "  </svg>\n",
       "      </button>\n",
       "      \n",
       "  <style>\n",
       "    .colab-df-container {\n",
       "      display:flex;\n",
       "      flex-wrap:wrap;\n",
       "      gap: 12px;\n",
       "    }\n",
       "\n",
       "    .colab-df-convert {\n",
       "      background-color: #E8F0FE;\n",
       "      border: none;\n",
       "      border-radius: 50%;\n",
       "      cursor: pointer;\n",
       "      display: none;\n",
       "      fill: #1967D2;\n",
       "      height: 32px;\n",
       "      padding: 0 0 0 0;\n",
       "      width: 32px;\n",
       "    }\n",
       "\n",
       "    .colab-df-convert:hover {\n",
       "      background-color: #E2EBFA;\n",
       "      box-shadow: 0px 1px 2px rgba(60, 64, 67, 0.3), 0px 1px 3px 1px rgba(60, 64, 67, 0.15);\n",
       "      fill: #174EA6;\n",
       "    }\n",
       "\n",
       "    [theme=dark] .colab-df-convert {\n",
       "      background-color: #3B4455;\n",
       "      fill: #D2E3FC;\n",
       "    }\n",
       "\n",
       "    [theme=dark] .colab-df-convert:hover {\n",
       "      background-color: #434B5C;\n",
       "      box-shadow: 0px 1px 3px 1px rgba(0, 0, 0, 0.15);\n",
       "      filter: drop-shadow(0px 1px 2px rgba(0, 0, 0, 0.3));\n",
       "      fill: #FFFFFF;\n",
       "    }\n",
       "  </style>\n",
       "\n",
       "      <script>\n",
       "        const buttonEl =\n",
       "          document.querySelector('#df-da590f8a-0ae1-4017-a6a4-ea77bd212a31 button.colab-df-convert');\n",
       "        buttonEl.style.display =\n",
       "          google.colab.kernel.accessAllowed ? 'block' : 'none';\n",
       "\n",
       "        async function convertToInteractive(key) {\n",
       "          const element = document.querySelector('#df-da590f8a-0ae1-4017-a6a4-ea77bd212a31');\n",
       "          const dataTable =\n",
       "            await google.colab.kernel.invokeFunction('convertToInteractive',\n",
       "                                                     [key], {});\n",
       "          if (!dataTable) return;\n",
       "\n",
       "          const docLinkHtml = 'Like what you see? Visit the ' +\n",
       "            '<a target=\"_blank\" href=https://colab.research.google.com/notebooks/data_table.ipynb>data table notebook</a>'\n",
       "            + ' to learn more about interactive tables.';\n",
       "          element.innerHTML = '';\n",
       "          dataTable['output_type'] = 'display_data';\n",
       "          await google.colab.output.renderOutput(dataTable, element);\n",
       "          const docLink = document.createElement('div');\n",
       "          docLink.innerHTML = docLinkHtml;\n",
       "          element.appendChild(docLink);\n",
       "        }\n",
       "      </script>\n",
       "    </div>\n",
       "  </div>\n",
       "  "
      ]
     },
     "metadata": {},
     "execution_count": 56
    }
   ],
   "source": [
    "total_in_groups = users_group(df)\n",
    "total_in_groups"
   ]
  },
  {
   "cell_type": "markdown",
   "metadata": {
    "id": "2MaYHabqqbc8"
   },
   "source": [
    "Соотношение в группах стало еще более неравномерное, в группе А теперь почти на 50% клиентов больше."
   ]
  },
  {
   "cell_type": "markdown",
   "metadata": {
    "id": "FoDa1cCjqbc8"
   },
   "source": [
    "Проверим долю пользователей из региона EU:"
   ]
  },
  {
   "cell_type": "code",
   "execution_count": 57,
   "metadata": {
    "colab": {
     "base_uri": "https://localhost:8080/"
    },
    "id": "ZhzxsrDCqbc8",
    "outputId": "5cfb9934-9a66-4362-e55d-63779eeea24b"
   },
   "outputs": [
    {
     "output_type": "execute_result",
     "data": {
      "text/plain": [
       "8.22"
      ]
     },
     "metadata": {},
     "execution_count": 57
    }
   ],
   "source": [
    "round(df['user_id'].nunique()/len(users)*100, 2)"
   ]
  },
  {
   "cell_type": "markdown",
   "metadata": {
    "id": "mEUJxbXRqbc8"
   },
   "source": [
    "Стало примерно на 7% меньше пользователей из региона EU."
   ]
  },
  {
   "cell_type": "markdown",
   "metadata": {
    "id": "ahTInnrcqbc8"
   },
   "source": [
    "Подсчитаем процент пропусков в поле 'details' таблицы 'df':"
   ]
  },
  {
   "cell_type": "code",
   "execution_count": 58,
   "metadata": {
    "colab": {
     "base_uri": "https://localhost:8080/"
    },
    "id": "LU_uVY7Iqbc9",
    "outputId": "6be84acd-fe97-4d56-a1a3-dc25d202c681"
   },
   "outputs": [
    {
     "output_type": "execute_result",
     "data": {
      "text/plain": [
       "86.32"
      ]
     },
     "metadata": {},
     "execution_count": 58
    }
   ],
   "source": [
    "round(df['details'].isna().mean()*100, 2)"
   ]
  },
  {
   "cell_type": "markdown",
   "metadata": {
    "id": "RPJaghoVqbc9"
   },
   "source": [
    "Примерно в 14% случаев действие пользователя завершалось покупкой."
   ]
  },
  {
   "cell_type": "markdown",
   "metadata": {
    "id": "cILSi4meqbc9"
   },
   "source": [
    "<a name=\"4.2\"><h3>4.2 Распределение количества событий в выборках на пользователя</h3></a>"
   ]
  },
  {
   "cell_type": "markdown",
   "metadata": {
    "id": "PUzt9lltqbc9"
   },
   "source": [
    "Создадим сводную таблицу с количеством событий на каждого пользователя:"
   ]
  },
  {
   "cell_type": "code",
   "execution_count": 59,
   "metadata": {
    "colab": {
     "base_uri": "https://localhost:8080/",
     "height": 206
    },
    "id": "YI23BL20qbc9",
    "outputId": "591a9f79-10fc-4c86-f008-97227fba425d"
   },
   "outputs": [
    {
     "output_type": "execute_result",
     "data": {
      "text/plain": [
       "  group           user_id  count\n",
       "0     A  0010A1C096941592     12\n",
       "1     A  00341D8401F0F665      2\n",
       "2     A  003DF44D7589BBD4     15\n",
       "3     A  00505E15A9D81546      5\n",
       "4     A  006E3E4E232CE760      6"
      ],
      "text/html": [
       "\n",
       "  <div id=\"df-e6131b68-97e9-43c9-a234-6c4adc685f69\">\n",
       "    <div class=\"colab-df-container\">\n",
       "      <div>\n",
       "<style scoped>\n",
       "    .dataframe tbody tr th:only-of-type {\n",
       "        vertical-align: middle;\n",
       "    }\n",
       "\n",
       "    .dataframe tbody tr th {\n",
       "        vertical-align: top;\n",
       "    }\n",
       "\n",
       "    .dataframe thead th {\n",
       "        text-align: right;\n",
       "    }\n",
       "</style>\n",
       "<table border=\"1\" class=\"dataframe\">\n",
       "  <thead>\n",
       "    <tr style=\"text-align: right;\">\n",
       "      <th></th>\n",
       "      <th>group</th>\n",
       "      <th>user_id</th>\n",
       "      <th>count</th>\n",
       "    </tr>\n",
       "  </thead>\n",
       "  <tbody>\n",
       "    <tr>\n",
       "      <th>0</th>\n",
       "      <td>A</td>\n",
       "      <td>0010A1C096941592</td>\n",
       "      <td>12</td>\n",
       "    </tr>\n",
       "    <tr>\n",
       "      <th>1</th>\n",
       "      <td>A</td>\n",
       "      <td>00341D8401F0F665</td>\n",
       "      <td>2</td>\n",
       "    </tr>\n",
       "    <tr>\n",
       "      <th>2</th>\n",
       "      <td>A</td>\n",
       "      <td>003DF44D7589BBD4</td>\n",
       "      <td>15</td>\n",
       "    </tr>\n",
       "    <tr>\n",
       "      <th>3</th>\n",
       "      <td>A</td>\n",
       "      <td>00505E15A9D81546</td>\n",
       "      <td>5</td>\n",
       "    </tr>\n",
       "    <tr>\n",
       "      <th>4</th>\n",
       "      <td>A</td>\n",
       "      <td>006E3E4E232CE760</td>\n",
       "      <td>6</td>\n",
       "    </tr>\n",
       "  </tbody>\n",
       "</table>\n",
       "</div>\n",
       "      <button class=\"colab-df-convert\" onclick=\"convertToInteractive('df-e6131b68-97e9-43c9-a234-6c4adc685f69')\"\n",
       "              title=\"Convert this dataframe to an interactive table.\"\n",
       "              style=\"display:none;\">\n",
       "        \n",
       "  <svg xmlns=\"http://www.w3.org/2000/svg\" height=\"24px\"viewBox=\"0 0 24 24\"\n",
       "       width=\"24px\">\n",
       "    <path d=\"M0 0h24v24H0V0z\" fill=\"none\"/>\n",
       "    <path d=\"M18.56 5.44l.94 2.06.94-2.06 2.06-.94-2.06-.94-.94-2.06-.94 2.06-2.06.94zm-11 1L8.5 8.5l.94-2.06 2.06-.94-2.06-.94L8.5 2.5l-.94 2.06-2.06.94zm10 10l.94 2.06.94-2.06 2.06-.94-2.06-.94-.94-2.06-.94 2.06-2.06.94z\"/><path d=\"M17.41 7.96l-1.37-1.37c-.4-.4-.92-.59-1.43-.59-.52 0-1.04.2-1.43.59L10.3 9.45l-7.72 7.72c-.78.78-.78 2.05 0 2.83L4 21.41c.39.39.9.59 1.41.59.51 0 1.02-.2 1.41-.59l7.78-7.78 2.81-2.81c.8-.78.8-2.07 0-2.86zM5.41 20L4 18.59l7.72-7.72 1.47 1.35L5.41 20z\"/>\n",
       "  </svg>\n",
       "      </button>\n",
       "      \n",
       "  <style>\n",
       "    .colab-df-container {\n",
       "      display:flex;\n",
       "      flex-wrap:wrap;\n",
       "      gap: 12px;\n",
       "    }\n",
       "\n",
       "    .colab-df-convert {\n",
       "      background-color: #E8F0FE;\n",
       "      border: none;\n",
       "      border-radius: 50%;\n",
       "      cursor: pointer;\n",
       "      display: none;\n",
       "      fill: #1967D2;\n",
       "      height: 32px;\n",
       "      padding: 0 0 0 0;\n",
       "      width: 32px;\n",
       "    }\n",
       "\n",
       "    .colab-df-convert:hover {\n",
       "      background-color: #E2EBFA;\n",
       "      box-shadow: 0px 1px 2px rgba(60, 64, 67, 0.3), 0px 1px 3px 1px rgba(60, 64, 67, 0.15);\n",
       "      fill: #174EA6;\n",
       "    }\n",
       "\n",
       "    [theme=dark] .colab-df-convert {\n",
       "      background-color: #3B4455;\n",
       "      fill: #D2E3FC;\n",
       "    }\n",
       "\n",
       "    [theme=dark] .colab-df-convert:hover {\n",
       "      background-color: #434B5C;\n",
       "      box-shadow: 0px 1px 3px 1px rgba(0, 0, 0, 0.15);\n",
       "      filter: drop-shadow(0px 1px 2px rgba(0, 0, 0, 0.3));\n",
       "      fill: #FFFFFF;\n",
       "    }\n",
       "  </style>\n",
       "\n",
       "      <script>\n",
       "        const buttonEl =\n",
       "          document.querySelector('#df-e6131b68-97e9-43c9-a234-6c4adc685f69 button.colab-df-convert');\n",
       "        buttonEl.style.display =\n",
       "          google.colab.kernel.accessAllowed ? 'block' : 'none';\n",
       "\n",
       "        async function convertToInteractive(key) {\n",
       "          const element = document.querySelector('#df-e6131b68-97e9-43c9-a234-6c4adc685f69');\n",
       "          const dataTable =\n",
       "            await google.colab.kernel.invokeFunction('convertToInteractive',\n",
       "                                                     [key], {});\n",
       "          if (!dataTable) return;\n",
       "\n",
       "          const docLinkHtml = 'Like what you see? Visit the ' +\n",
       "            '<a target=\"_blank\" href=https://colab.research.google.com/notebooks/data_table.ipynb>data table notebook</a>'\n",
       "            + ' to learn more about interactive tables.';\n",
       "          element.innerHTML = '';\n",
       "          dataTable['output_type'] = 'display_data';\n",
       "          await google.colab.output.renderOutput(dataTable, element);\n",
       "          const docLink = document.createElement('div');\n",
       "          docLink.innerHTML = docLinkHtml;\n",
       "          element.appendChild(docLink);\n",
       "        }\n",
       "      </script>\n",
       "    </div>\n",
       "  </div>\n",
       "  "
      ]
     },
     "metadata": {},
     "execution_count": 59
    }
   ],
   "source": [
    "users_count_events = df.groupby(['group','user_id'])['event_name'].agg(['count']).reset_index()\n",
    "users_count_events.head()"
   ]
  },
  {
   "cell_type": "markdown",
   "metadata": {
    "id": "cEsJktCYqbc9"
   },
   "source": [
    "Построим boxplot и посмотрим на распределение количества событий по пользователям для групп A и B:"
   ]
  },
  {
   "cell_type": "code",
   "execution_count": 60,
   "metadata": {
    "colab": {
     "base_uri": "https://localhost:8080/",
     "height": 517
    },
    "id": "u3Mck5-Qqbc9",
    "outputId": "a672e89f-98d9-462d-91f4-661eae0627b3"
   },
   "outputs": [
    {
     "output_type": "display_data",
     "data": {
      "text/html": [
       "<html>\n",
       "<head><meta charset=\"utf-8\" /></head>\n",
       "<body>\n",
       "    <div>            <script src=\"https://cdnjs.cloudflare.com/ajax/libs/mathjax/2.7.5/MathJax.js?config=TeX-AMS-MML_SVG\"></script><script type=\"text/javascript\">if (window.MathJax) {MathJax.Hub.Config({SVG: {font: \"STIX-Web\"}});}</script>                <script type=\"text/javascript\">window.PlotlyConfig = {MathJaxConfig: 'local'};</script>\n",
       "        <script src=\"https://cdn.plot.ly/plotly-2.8.3.min.js\"></script>                <div id=\"22d509e0-9c08-43a4-9152-25cdde6934c1\" class=\"plotly-graph-div\" style=\"height:500px; width:700px;\"></div>            <script type=\"text/javascript\">                                    window.PLOTLYENV=window.PLOTLYENV || {};                                    if (document.getElementById(\"22d509e0-9c08-43a4-9152-25cdde6934c1\")) {                    Plotly.newPlot(                        \"22d509e0-9c08-43a4-9152-25cdde6934c1\",                        [{\"alignmentgroup\":\"True\",\"hovertemplate\":\"group=%{x}<br>count=%{y}<extra></extra>\",\"legendgroup\":\"A\",\"marker\":{\"color\":\"#636efa\"},\"name\":\"A\",\"notched\":false,\"offsetgroup\":\"A\",\"orientation\":\"v\",\"showlegend\":true,\"x\":[\"A\",\"A\",\"A\",\"A\",\"A\",\"A\",\"A\",\"A\",\"A\",\"A\",\"A\",\"A\",\"A\",\"A\",\"A\",\"A\",\"A\",\"A\",\"A\",\"A\",\"A\",\"A\",\"A\",\"A\",\"A\",\"A\",\"A\",\"A\",\"A\",\"A\",\"A\",\"A\",\"A\",\"A\",\"A\",\"A\",\"A\",\"A\",\"A\",\"A\",\"A\",\"A\",\"A\",\"A\",\"A\",\"A\",\"A\",\"A\",\"A\",\"A\",\"A\",\"A\",\"A\",\"A\",\"A\",\"A\",\"A\",\"A\",\"A\",\"A\",\"A\",\"A\",\"A\",\"A\",\"A\",\"A\",\"A\",\"A\",\"A\",\"A\",\"A\",\"A\",\"A\",\"A\",\"A\",\"A\",\"A\",\"A\",\"A\",\"A\",\"A\",\"A\",\"A\",\"A\",\"A\",\"A\",\"A\",\"A\",\"A\",\"A\",\"A\",\"A\",\"A\",\"A\",\"A\",\"A\",\"A\",\"A\",\"A\",\"A\",\"A\",\"A\",\"A\",\"A\",\"A\",\"A\",\"A\",\"A\",\"A\",\"A\",\"A\",\"A\",\"A\",\"A\",\"A\",\"A\",\"A\",\"A\",\"A\",\"A\",\"A\",\"A\",\"A\",\"A\",\"A\",\"A\",\"A\",\"A\",\"A\",\"A\",\"A\",\"A\",\"A\",\"A\",\"A\",\"A\",\"A\",\"A\",\"A\",\"A\",\"A\",\"A\",\"A\",\"A\",\"A\",\"A\",\"A\",\"A\",\"A\",\"A\",\"A\",\"A\",\"A\",\"A\",\"A\",\"A\",\"A\",\"A\",\"A\",\"A\",\"A\",\"A\",\"A\",\"A\",\"A\",\"A\",\"A\",\"A\",\"A\",\"A\",\"A\",\"A\",\"A\",\"A\",\"A\",\"A\",\"A\",\"A\",\"A\",\"A\",\"A\",\"A\",\"A\",\"A\",\"A\",\"A\",\"A\",\"A\",\"A\",\"A\",\"A\",\"A\",\"A\",\"A\",\"A\",\"A\",\"A\",\"A\",\"A\",\"A\",\"A\",\"A\",\"A\",\"A\",\"A\",\"A\",\"A\",\"A\",\"A\",\"A\",\"A\",\"A\",\"A\",\"A\",\"A\",\"A\",\"A\",\"A\",\"A\",\"A\",\"A\",\"A\",\"A\",\"A\",\"A\",\"A\",\"A\",\"A\",\"A\",\"A\",\"A\",\"A\",\"A\",\"A\",\"A\",\"A\",\"A\",\"A\",\"A\",\"A\",\"A\",\"A\",\"A\",\"A\",\"A\",\"A\",\"A\",\"A\",\"A\",\"A\",\"A\",\"A\",\"A\",\"A\",\"A\",\"A\",\"A\",\"A\",\"A\",\"A\",\"A\",\"A\",\"A\",\"A\",\"A\",\"A\",\"A\",\"A\",\"A\",\"A\",\"A\",\"A\",\"A\",\"A\",\"A\",\"A\",\"A\",\"A\",\"A\",\"A\",\"A\",\"A\",\"A\",\"A\",\"A\",\"A\",\"A\",\"A\",\"A\",\"A\",\"A\",\"A\",\"A\",\"A\",\"A\",\"A\",\"A\",\"A\",\"A\",\"A\",\"A\",\"A\",\"A\",\"A\",\"A\",\"A\",\"A\",\"A\",\"A\",\"A\",\"A\",\"A\",\"A\",\"A\",\"A\",\"A\",\"A\",\"A\",\"A\",\"A\",\"A\",\"A\",\"A\",\"A\",\"A\",\"A\",\"A\",\"A\",\"A\",\"A\",\"A\",\"A\",\"A\",\"A\",\"A\",\"A\",\"A\",\"A\",\"A\",\"A\",\"A\",\"A\",\"A\",\"A\",\"A\",\"A\",\"A\",\"A\",\"A\",\"A\",\"A\",\"A\",\"A\",\"A\",\"A\",\"A\",\"A\",\"A\",\"A\",\"A\",\"A\",\"A\",\"A\",\"A\",\"A\",\"A\",\"A\",\"A\",\"A\",\"A\",\"A\",\"A\",\"A\",\"A\",\"A\",\"A\",\"A\",\"A\",\"A\",\"A\",\"A\",\"A\",\"A\",\"A\",\"A\",\"A\",\"A\",\"A\",\"A\",\"A\",\"A\",\"A\",\"A\",\"A\",\"A\",\"A\",\"A\",\"A\",\"A\",\"A\",\"A\",\"A\",\"A\",\"A\",\"A\",\"A\",\"A\",\"A\",\"A\",\"A\",\"A\",\"A\",\"A\",\"A\",\"A\",\"A\",\"A\",\"A\",\"A\",\"A\",\"A\",\"A\",\"A\",\"A\",\"A\",\"A\",\"A\",\"A\",\"A\",\"A\",\"A\",\"A\",\"A\",\"A\",\"A\",\"A\",\"A\",\"A\",\"A\",\"A\",\"A\",\"A\",\"A\",\"A\",\"A\",\"A\",\"A\",\"A\",\"A\",\"A\",\"A\",\"A\",\"A\",\"A\",\"A\",\"A\",\"A\",\"A\",\"A\",\"A\",\"A\",\"A\",\"A\",\"A\",\"A\",\"A\",\"A\",\"A\",\"A\",\"A\",\"A\",\"A\",\"A\",\"A\",\"A\",\"A\",\"A\",\"A\",\"A\",\"A\",\"A\",\"A\",\"A\",\"A\",\"A\",\"A\",\"A\",\"A\",\"A\",\"A\",\"A\",\"A\",\"A\",\"A\",\"A\",\"A\",\"A\",\"A\",\"A\",\"A\",\"A\",\"A\",\"A\",\"A\",\"A\",\"A\",\"A\",\"A\",\"A\",\"A\",\"A\",\"A\",\"A\",\"A\",\"A\",\"A\",\"A\",\"A\",\"A\",\"A\",\"A\",\"A\",\"A\",\"A\",\"A\",\"A\",\"A\",\"A\",\"A\",\"A\",\"A\",\"A\",\"A\",\"A\",\"A\",\"A\",\"A\",\"A\",\"A\",\"A\",\"A\",\"A\",\"A\",\"A\",\"A\",\"A\",\"A\",\"A\",\"A\",\"A\",\"A\",\"A\",\"A\",\"A\",\"A\",\"A\",\"A\",\"A\",\"A\",\"A\",\"A\",\"A\",\"A\",\"A\",\"A\",\"A\",\"A\",\"A\",\"A\",\"A\",\"A\",\"A\",\"A\",\"A\",\"A\",\"A\",\"A\",\"A\",\"A\",\"A\",\"A\",\"A\",\"A\",\"A\",\"A\",\"A\",\"A\",\"A\",\"A\",\"A\",\"A\",\"A\",\"A\",\"A\",\"A\",\"A\",\"A\",\"A\",\"A\",\"A\",\"A\",\"A\",\"A\",\"A\",\"A\",\"A\",\"A\",\"A\",\"A\",\"A\",\"A\",\"A\",\"A\",\"A\",\"A\",\"A\",\"A\",\"A\",\"A\",\"A\",\"A\",\"A\",\"A\",\"A\",\"A\",\"A\",\"A\",\"A\",\"A\",\"A\",\"A\",\"A\",\"A\",\"A\",\"A\",\"A\",\"A\",\"A\",\"A\",\"A\",\"A\",\"A\",\"A\",\"A\",\"A\",\"A\",\"A\",\"A\",\"A\",\"A\",\"A\",\"A\",\"A\",\"A\",\"A\",\"A\",\"A\",\"A\",\"A\",\"A\",\"A\",\"A\",\"A\",\"A\",\"A\",\"A\",\"A\",\"A\",\"A\",\"A\",\"A\",\"A\",\"A\",\"A\",\"A\",\"A\",\"A\",\"A\",\"A\",\"A\",\"A\",\"A\",\"A\",\"A\",\"A\",\"A\",\"A\",\"A\",\"A\",\"A\",\"A\",\"A\",\"A\",\"A\",\"A\",\"A\",\"A\",\"A\",\"A\",\"A\",\"A\",\"A\",\"A\",\"A\",\"A\",\"A\",\"A\",\"A\",\"A\",\"A\",\"A\",\"A\",\"A\",\"A\",\"A\",\"A\",\"A\",\"A\",\"A\",\"A\",\"A\",\"A\",\"A\",\"A\",\"A\",\"A\",\"A\",\"A\",\"A\",\"A\",\"A\",\"A\",\"A\",\"A\",\"A\",\"A\",\"A\",\"A\",\"A\",\"A\",\"A\",\"A\",\"A\",\"A\",\"A\",\"A\",\"A\",\"A\",\"A\",\"A\",\"A\",\"A\",\"A\",\"A\",\"A\",\"A\",\"A\",\"A\",\"A\",\"A\",\"A\",\"A\",\"A\",\"A\",\"A\",\"A\",\"A\",\"A\",\"A\",\"A\",\"A\",\"A\",\"A\",\"A\",\"A\",\"A\",\"A\",\"A\",\"A\",\"A\",\"A\",\"A\",\"A\",\"A\",\"A\",\"A\",\"A\",\"A\",\"A\",\"A\",\"A\",\"A\",\"A\",\"A\",\"A\",\"A\",\"A\",\"A\",\"A\",\"A\",\"A\",\"A\",\"A\",\"A\",\"A\",\"A\",\"A\",\"A\",\"A\",\"A\",\"A\",\"A\",\"A\",\"A\",\"A\",\"A\",\"A\",\"A\",\"A\",\"A\",\"A\",\"A\",\"A\",\"A\",\"A\",\"A\",\"A\",\"A\",\"A\",\"A\",\"A\",\"A\",\"A\",\"A\",\"A\",\"A\",\"A\",\"A\",\"A\",\"A\",\"A\",\"A\",\"A\",\"A\",\"A\",\"A\",\"A\",\"A\",\"A\",\"A\",\"A\",\"A\",\"A\",\"A\",\"A\",\"A\",\"A\",\"A\",\"A\",\"A\",\"A\",\"A\",\"A\",\"A\",\"A\",\"A\",\"A\",\"A\",\"A\",\"A\",\"A\",\"A\",\"A\",\"A\",\"A\",\"A\",\"A\",\"A\",\"A\",\"A\",\"A\",\"A\",\"A\",\"A\",\"A\",\"A\",\"A\",\"A\",\"A\",\"A\",\"A\",\"A\",\"A\",\"A\",\"A\",\"A\",\"A\",\"A\",\"A\",\"A\",\"A\",\"A\",\"A\",\"A\",\"A\",\"A\",\"A\",\"A\",\"A\",\"A\",\"A\",\"A\",\"A\",\"A\",\"A\",\"A\",\"A\",\"A\",\"A\",\"A\",\"A\",\"A\",\"A\",\"A\",\"A\",\"A\",\"A\",\"A\",\"A\",\"A\",\"A\",\"A\",\"A\",\"A\",\"A\",\"A\",\"A\",\"A\",\"A\",\"A\",\"A\",\"A\",\"A\",\"A\",\"A\",\"A\",\"A\",\"A\",\"A\",\"A\",\"A\",\"A\",\"A\",\"A\",\"A\",\"A\",\"A\",\"A\",\"A\",\"A\",\"A\",\"A\",\"A\",\"A\",\"A\",\"A\",\"A\",\"A\",\"A\",\"A\",\"A\",\"A\",\"A\",\"A\",\"A\",\"A\",\"A\",\"A\",\"A\",\"A\",\"A\",\"A\",\"A\",\"A\",\"A\",\"A\",\"A\",\"A\",\"A\",\"A\",\"A\",\"A\",\"A\",\"A\",\"A\",\"A\",\"A\",\"A\",\"A\",\"A\",\"A\",\"A\",\"A\",\"A\",\"A\",\"A\",\"A\",\"A\",\"A\",\"A\",\"A\",\"A\",\"A\",\"A\",\"A\",\"A\",\"A\",\"A\",\"A\",\"A\",\"A\",\"A\",\"A\",\"A\",\"A\",\"A\",\"A\",\"A\",\"A\",\"A\",\"A\",\"A\",\"A\",\"A\",\"A\",\"A\",\"A\",\"A\",\"A\",\"A\",\"A\",\"A\",\"A\",\"A\",\"A\",\"A\",\"A\",\"A\",\"A\",\"A\",\"A\",\"A\",\"A\",\"A\",\"A\",\"A\",\"A\",\"A\",\"A\",\"A\",\"A\",\"A\",\"A\",\"A\",\"A\",\"A\",\"A\",\"A\",\"A\",\"A\",\"A\",\"A\",\"A\",\"A\",\"A\",\"A\",\"A\",\"A\",\"A\",\"A\",\"A\",\"A\",\"A\",\"A\",\"A\",\"A\",\"A\",\"A\",\"A\",\"A\",\"A\",\"A\",\"A\",\"A\",\"A\",\"A\",\"A\",\"A\",\"A\",\"A\",\"A\",\"A\",\"A\",\"A\",\"A\",\"A\",\"A\",\"A\",\"A\",\"A\",\"A\",\"A\",\"A\",\"A\",\"A\",\"A\",\"A\",\"A\",\"A\",\"A\",\"A\",\"A\",\"A\",\"A\",\"A\",\"A\",\"A\",\"A\",\"A\",\"A\",\"A\",\"A\",\"A\",\"A\",\"A\",\"A\",\"A\",\"A\",\"A\",\"A\",\"A\",\"A\",\"A\",\"A\",\"A\",\"A\",\"A\",\"A\",\"A\",\"A\",\"A\",\"A\",\"A\",\"A\",\"A\",\"A\",\"A\",\"A\",\"A\",\"A\",\"A\",\"A\",\"A\",\"A\",\"A\",\"A\",\"A\",\"A\",\"A\",\"A\",\"A\",\"A\",\"A\",\"A\",\"A\",\"A\",\"A\",\"A\",\"A\",\"A\",\"A\",\"A\",\"A\",\"A\",\"A\",\"A\",\"A\",\"A\",\"A\",\"A\",\"A\",\"A\",\"A\",\"A\",\"A\",\"A\",\"A\",\"A\",\"A\",\"A\",\"A\",\"A\",\"A\",\"A\",\"A\",\"A\",\"A\",\"A\",\"A\",\"A\",\"A\",\"A\",\"A\",\"A\",\"A\",\"A\",\"A\",\"A\",\"A\",\"A\",\"A\",\"A\",\"A\",\"A\",\"A\",\"A\",\"A\",\"A\",\"A\",\"A\",\"A\",\"A\",\"A\",\"A\",\"A\",\"A\",\"A\",\"A\",\"A\",\"A\",\"A\",\"A\",\"A\",\"A\",\"A\",\"A\",\"A\",\"A\",\"A\",\"A\",\"A\",\"A\",\"A\",\"A\",\"A\",\"A\",\"A\",\"A\",\"A\",\"A\",\"A\",\"A\",\"A\",\"A\",\"A\",\"A\",\"A\",\"A\",\"A\",\"A\",\"A\",\"A\",\"A\",\"A\",\"A\",\"A\",\"A\",\"A\",\"A\",\"A\",\"A\",\"A\",\"A\",\"A\",\"A\",\"A\",\"A\",\"A\",\"A\",\"A\",\"A\",\"A\",\"A\",\"A\",\"A\",\"A\",\"A\",\"A\",\"A\",\"A\",\"A\",\"A\",\"A\",\"A\",\"A\",\"A\",\"A\",\"A\",\"A\",\"A\",\"A\",\"A\",\"A\",\"A\",\"A\",\"A\",\"A\",\"A\",\"A\",\"A\",\"A\",\"A\",\"A\",\"A\",\"A\",\"A\",\"A\",\"A\",\"A\",\"A\",\"A\",\"A\",\"A\",\"A\",\"A\",\"A\",\"A\",\"A\",\"A\",\"A\",\"A\",\"A\",\"A\",\"A\",\"A\",\"A\",\"A\",\"A\",\"A\",\"A\",\"A\",\"A\",\"A\",\"A\",\"A\",\"A\",\"A\",\"A\",\"A\",\"A\",\"A\",\"A\",\"A\",\"A\",\"A\",\"A\",\"A\",\"A\",\"A\",\"A\",\"A\",\"A\",\"A\",\"A\",\"A\",\"A\",\"A\",\"A\",\"A\",\"A\",\"A\",\"A\",\"A\",\"A\",\"A\",\"A\",\"A\",\"A\",\"A\",\"A\",\"A\",\"A\",\"A\",\"A\",\"A\",\"A\",\"A\",\"A\",\"A\",\"A\",\"A\",\"A\",\"A\",\"A\",\"A\",\"A\",\"A\",\"A\",\"A\",\"A\",\"A\",\"A\",\"A\",\"A\",\"A\",\"A\",\"A\",\"A\",\"A\",\"A\",\"A\",\"A\",\"A\",\"A\",\"A\",\"A\",\"A\",\"A\",\"A\",\"A\",\"A\",\"A\",\"A\",\"A\",\"A\",\"A\",\"A\",\"A\",\"A\",\"A\",\"A\",\"A\",\"A\",\"A\",\"A\",\"A\",\"A\",\"A\",\"A\",\"A\",\"A\",\"A\",\"A\",\"A\",\"A\",\"A\",\"A\",\"A\",\"A\",\"A\",\"A\",\"A\",\"A\",\"A\",\"A\",\"A\",\"A\",\"A\",\"A\",\"A\",\"A\",\"A\",\"A\",\"A\",\"A\",\"A\",\"A\",\"A\",\"A\",\"A\",\"A\",\"A\",\"A\",\"A\",\"A\",\"A\",\"A\",\"A\",\"A\",\"A\",\"A\",\"A\",\"A\",\"A\",\"A\",\"A\",\"A\",\"A\",\"A\",\"A\",\"A\",\"A\",\"A\",\"A\",\"A\",\"A\",\"A\",\"A\",\"A\",\"A\",\"A\",\"A\",\"A\",\"A\",\"A\",\"A\",\"A\",\"A\",\"A\",\"A\",\"A\",\"A\",\"A\",\"A\",\"A\",\"A\",\"A\",\"A\",\"A\",\"A\",\"A\",\"A\",\"A\",\"A\",\"A\",\"A\",\"A\",\"A\",\"A\",\"A\",\"A\",\"A\",\"A\",\"A\",\"A\",\"A\",\"A\",\"A\",\"A\",\"A\",\"A\",\"A\",\"A\",\"A\",\"A\",\"A\",\"A\",\"A\",\"A\",\"A\",\"A\",\"A\",\"A\",\"A\",\"A\",\"A\",\"A\",\"A\",\"A\",\"A\",\"A\",\"A\",\"A\",\"A\",\"A\",\"A\",\"A\",\"A\",\"A\",\"A\",\"A\",\"A\",\"A\",\"A\",\"A\",\"A\",\"A\",\"A\",\"A\",\"A\",\"A\",\"A\",\"A\",\"A\",\"A\",\"A\",\"A\",\"A\",\"A\",\"A\",\"A\",\"A\",\"A\",\"A\",\"A\",\"A\",\"A\",\"A\",\"A\",\"A\",\"A\",\"A\",\"A\",\"A\",\"A\",\"A\",\"A\",\"A\",\"A\",\"A\",\"A\",\"A\",\"A\",\"A\",\"A\",\"A\",\"A\",\"A\",\"A\",\"A\",\"A\",\"A\",\"A\",\"A\",\"A\",\"A\",\"A\",\"A\",\"A\",\"A\",\"A\",\"A\",\"A\",\"A\",\"A\",\"A\",\"A\",\"A\",\"A\",\"A\",\"A\",\"A\",\"A\",\"A\",\"A\",\"A\",\"A\",\"A\",\"A\",\"A\",\"A\",\"A\",\"A\",\"A\",\"A\",\"A\",\"A\",\"A\",\"A\",\"A\",\"A\",\"A\",\"A\",\"A\",\"A\",\"A\",\"A\",\"A\",\"A\",\"A\",\"A\",\"A\",\"A\",\"A\",\"A\",\"A\",\"A\",\"A\",\"A\",\"A\",\"A\",\"A\",\"A\",\"A\",\"A\",\"A\",\"A\",\"A\",\"A\",\"A\",\"A\",\"A\",\"A\",\"A\",\"A\",\"A\",\"A\",\"A\",\"A\",\"A\",\"A\",\"A\",\"A\",\"A\",\"A\",\"A\",\"A\",\"A\",\"A\",\"A\",\"A\",\"A\",\"A\",\"A\",\"A\",\"A\",\"A\",\"A\",\"A\",\"A\",\"A\",\"A\",\"A\",\"A\",\"A\",\"A\",\"A\",\"A\",\"A\",\"A\",\"A\",\"A\",\"A\",\"A\",\"A\",\"A\",\"A\",\"A\",\"A\",\"A\",\"A\",\"A\",\"A\",\"A\",\"A\",\"A\",\"A\",\"A\",\"A\",\"A\",\"A\",\"A\",\"A\",\"A\",\"A\",\"A\",\"A\",\"A\",\"A\",\"A\",\"A\",\"A\",\"A\",\"A\",\"A\",\"A\",\"A\",\"A\",\"A\",\"A\",\"A\",\"A\",\"A\",\"A\",\"A\",\"A\",\"A\",\"A\",\"A\",\"A\",\"A\",\"A\",\"A\",\"A\",\"A\",\"A\",\"A\",\"A\",\"A\",\"A\",\"A\",\"A\",\"A\",\"A\",\"A\",\"A\",\"A\",\"A\",\"A\",\"A\",\"A\",\"A\",\"A\",\"A\",\"A\",\"A\",\"A\",\"A\",\"A\",\"A\",\"A\",\"A\",\"A\",\"A\",\"A\",\"A\",\"A\",\"A\",\"A\",\"A\",\"A\",\"A\",\"A\",\"A\",\"A\",\"A\",\"A\",\"A\",\"A\",\"A\",\"A\",\"A\",\"A\",\"A\",\"A\",\"A\",\"A\",\"A\",\"A\",\"A\",\"A\",\"A\",\"A\",\"A\",\"A\",\"A\",\"A\",\"A\",\"A\",\"A\",\"A\",\"A\",\"A\",\"A\",\"A\",\"A\",\"A\",\"A\",\"A\",\"A\",\"A\",\"A\",\"A\",\"A\",\"A\",\"A\",\"A\",\"A\",\"A\",\"A\",\"A\",\"A\",\"A\",\"A\",\"A\",\"A\",\"A\",\"A\",\"A\",\"A\",\"A\",\"A\",\"A\",\"A\",\"A\",\"A\",\"A\",\"A\",\"A\",\"A\",\"A\",\"A\",\"A\",\"A\",\"A\",\"A\",\"A\",\"A\",\"A\",\"A\",\"A\",\"A\",\"A\",\"A\",\"A\",\"A\",\"A\",\"A\",\"A\",\"A\",\"A\",\"A\",\"A\",\"A\",\"A\",\"A\",\"A\",\"A\",\"A\",\"A\",\"A\",\"A\",\"A\",\"A\",\"A\",\"A\",\"A\",\"A\",\"A\",\"A\",\"A\",\"A\",\"A\",\"A\",\"A\",\"A\",\"A\",\"A\",\"A\",\"A\",\"A\",\"A\",\"A\",\"A\",\"A\",\"A\",\"A\",\"A\",\"A\",\"A\",\"A\",\"A\",\"A\",\"A\",\"A\",\"A\",\"A\",\"A\",\"A\",\"A\",\"A\",\"A\",\"A\",\"A\",\"A\",\"A\",\"A\",\"A\",\"A\",\"A\",\"A\",\"A\",\"A\",\"A\",\"A\",\"A\",\"A\",\"A\",\"A\",\"A\",\"A\",\"A\",\"A\",\"A\",\"A\",\"A\",\"A\",\"A\",\"A\",\"A\",\"A\",\"A\",\"A\",\"A\",\"A\",\"A\",\"A\",\"A\",\"A\",\"A\",\"A\",\"A\",\"A\",\"A\",\"A\",\"A\",\"A\",\"A\",\"A\",\"A\",\"A\",\"A\",\"A\",\"A\",\"A\",\"A\",\"A\",\"A\",\"A\",\"A\",\"A\",\"A\",\"A\",\"A\",\"A\",\"A\",\"A\",\"A\",\"A\",\"A\",\"A\",\"A\",\"A\",\"A\",\"A\",\"A\",\"A\",\"A\",\"A\",\"A\",\"A\",\"A\",\"A\",\"A\",\"A\",\"A\",\"A\",\"A\",\"A\",\"A\",\"A\",\"A\",\"A\",\"A\",\"A\",\"A\",\"A\",\"A\",\"A\",\"A\",\"A\",\"A\",\"A\",\"A\",\"A\",\"A\",\"A\",\"A\",\"A\",\"A\",\"A\",\"A\",\"A\",\"A\",\"A\",\"A\",\"A\",\"A\",\"A\",\"A\",\"A\",\"A\",\"A\",\"A\",\"A\",\"A\",\"A\",\"A\",\"A\",\"A\",\"A\",\"A\",\"A\",\"A\",\"A\",\"A\",\"A\",\"A\",\"A\",\"A\",\"A\",\"A\",\"A\",\"A\",\"A\",\"A\",\"A\",\"A\",\"A\",\"A\",\"A\",\"A\",\"A\",\"A\",\"A\",\"A\",\"A\",\"A\",\"A\",\"A\",\"A\",\"A\",\"A\",\"A\",\"A\",\"A\",\"A\",\"A\",\"A\",\"A\",\"A\",\"A\",\"A\",\"A\",\"A\",\"A\",\"A\",\"A\",\"A\",\"A\",\"A\",\"A\",\"A\",\"A\",\"A\",\"A\",\"A\",\"A\",\"A\",\"A\",\"A\",\"A\",\"A\",\"A\",\"A\",\"A\",\"A\",\"A\",\"A\",\"A\",\"A\",\"A\",\"A\",\"A\",\"A\",\"A\",\"A\",\"A\",\"A\",\"A\",\"A\",\"A\",\"A\",\"A\",\"A\",\"A\",\"A\",\"A\",\"A\",\"A\",\"A\",\"A\",\"A\",\"A\",\"A\",\"A\",\"A\",\"A\",\"A\",\"A\",\"A\",\"A\",\"A\",\"A\",\"A\",\"A\",\"A\",\"A\",\"A\",\"A\",\"A\",\"A\",\"A\",\"A\",\"A\",\"A\",\"A\",\"A\",\"A\",\"A\",\"A\",\"A\",\"A\",\"A\",\"A\",\"A\",\"A\",\"A\",\"A\",\"A\",\"A\",\"A\",\"A\",\"A\",\"A\",\"A\",\"A\",\"A\",\"A\",\"A\",\"A\",\"A\",\"A\",\"A\",\"A\",\"A\",\"A\",\"A\",\"A\",\"A\",\"A\",\"A\",\"A\",\"A\",\"A\",\"A\",\"A\",\"A\",\"A\",\"A\",\"A\",\"A\",\"A\",\"A\",\"A\",\"A\",\"A\",\"A\",\"A\",\"A\",\"A\",\"A\",\"A\",\"A\",\"A\",\"A\",\"A\",\"A\",\"A\",\"A\",\"A\",\"A\",\"A\",\"A\",\"A\",\"A\",\"A\",\"A\",\"A\",\"A\",\"A\",\"A\",\"A\",\"A\",\"A\",\"A\",\"A\",\"A\",\"A\",\"A\",\"A\",\"A\",\"A\",\"A\",\"A\",\"A\",\"A\",\"A\",\"A\",\"A\",\"A\",\"A\",\"A\",\"A\",\"A\",\"A\",\"A\",\"A\",\"A\",\"A\",\"A\",\"A\",\"A\",\"A\",\"A\",\"A\",\"A\",\"A\",\"A\",\"A\",\"A\",\"A\",\"A\",\"A\",\"A\",\"A\",\"A\",\"A\",\"A\",\"A\",\"A\",\"A\",\"A\",\"A\",\"A\",\"A\",\"A\",\"A\",\"A\",\"A\",\"A\",\"A\",\"A\",\"A\",\"A\",\"A\",\"A\",\"A\",\"A\",\"A\",\"A\",\"A\",\"A\",\"A\",\"A\",\"A\",\"A\",\"A\",\"A\",\"A\",\"A\",\"A\",\"A\",\"A\",\"A\",\"A\",\"A\",\"A\",\"A\",\"A\",\"A\",\"A\",\"A\",\"A\",\"A\",\"A\",\"A\",\"A\",\"A\",\"A\",\"A\",\"A\",\"A\",\"A\",\"A\",\"A\",\"A\",\"A\",\"A\",\"A\",\"A\",\"A\",\"A\",\"A\",\"A\",\"A\",\"A\",\"A\",\"A\",\"A\",\"A\",\"A\",\"A\",\"A\",\"A\",\"A\",\"A\",\"A\",\"A\",\"A\",\"A\",\"A\",\"A\",\"A\",\"A\",\"A\",\"A\",\"A\",\"A\",\"A\",\"A\",\"A\",\"A\",\"A\",\"A\",\"A\",\"A\",\"A\",\"A\",\"A\",\"A\",\"A\",\"A\",\"A\",\"A\",\"A\",\"A\",\"A\",\"A\",\"A\",\"A\",\"A\",\"A\",\"A\",\"A\",\"A\",\"A\",\"A\",\"A\",\"A\",\"A\",\"A\",\"A\",\"A\",\"A\",\"A\",\"A\",\"A\",\"A\",\"A\",\"A\",\"A\",\"A\",\"A\",\"A\",\"A\",\"A\",\"A\",\"A\",\"A\",\"A\",\"A\",\"A\",\"A\",\"A\",\"A\",\"A\",\"A\",\"A\",\"A\",\"A\",\"A\",\"A\",\"A\",\"A\",\"A\",\"A\",\"A\",\"A\",\"A\",\"A\",\"A\",\"A\",\"A\",\"A\",\"A\",\"A\",\"A\",\"A\",\"A\",\"A\",\"A\",\"A\",\"A\",\"A\",\"A\",\"A\",\"A\",\"A\",\"A\",\"A\",\"A\",\"A\",\"A\",\"A\",\"A\",\"A\",\"A\",\"A\",\"A\",\"A\",\"A\",\"A\",\"A\",\"A\",\"A\",\"A\",\"A\",\"A\",\"A\",\"A\",\"A\",\"A\",\"A\",\"A\",\"A\",\"A\",\"A\",\"A\",\"A\",\"A\",\"A\",\"A\",\"A\",\"A\",\"A\",\"A\",\"A\",\"A\",\"A\",\"A\",\"A\",\"A\",\"A\",\"A\",\"A\",\"A\",\"A\",\"A\",\"A\",\"A\",\"A\",\"A\",\"A\",\"A\",\"A\",\"A\",\"A\",\"A\",\"A\",\"A\",\"A\",\"A\",\"A\",\"A\",\"A\",\"A\",\"A\",\"A\",\"A\",\"A\",\"A\",\"A\",\"A\",\"A\",\"A\",\"A\",\"A\",\"A\",\"A\",\"A\",\"A\",\"A\",\"A\"],\"x0\":\" \",\"xaxis\":\"x\",\"y\":[12,2,15,5,6,20,2,9,9,9,4,9,4,8,4,3,6,9,1,2,4,8,9,9,6,6,4,10,6,9,8,4,4,12,6,8,9,15,12,10,4,8,4,8,5,3,8,10,8,3,6,9,6,3,12,2,6,12,3,4,8,6,2,4,4,3,8,6,5,9,6,6,6,4,10,6,9,3,9,9,8,4,12,10,9,9,6,3,9,6,12,6,6,8,16,9,2,9,12,15,15,6,4,9,5,6,4,3,6,4,4,8,4,10,3,6,10,8,15,6,9,2,8,3,9,4,8,12,9,2,6,10,8,6,12,4,9,8,8,6,6,10,6,9,3,3,6,4,4,4,5,3,6,1,4,3,8,6,8,10,12,20,4,4,4,8,9,2,8,6,6,4,6,4,8,2,6,10,9,2,6,8,4,5,8,12,8,4,10,6,4,3,4,10,12,5,12,12,4,9,10,4,9,3,6,2,6,6,12,2,3,12,2,12,3,16,6,15,8,12,8,8,6,9,3,9,3,6,6,4,4,8,4,4,6,6,10,12,3,4,4,6,6,6,15,9,4,2,12,2,3,6,6,9,20,3,4,20,15,6,8,3,12,6,8,16,8,9,4,4,4,9,8,6,6,16,6,20,15,2,8,12,6,16,4,4,4,8,8,9,9,4,4,6,24,9,6,4,4,3,9,2,4,12,6,2,8,3,9,4,12,6,1,10,12,12,6,2,4,4,9,2,8,6,1,12,4,2,9,8,3,9,4,18,8,6,15,9,6,3,9,4,6,2,6,6,5,3,6,2,6,8,4,8,8,6,6,6,10,12,4,9,4,1,4,6,4,9,16,3,9,8,2,3,3,12,15,2,4,2,8,3,6,2,1,4,9,15,6,8,3,12,4,6,9,6,12,12,8,9,4,3,8,9,12,4,9,9,3,4,8,8,9,6,12,8,6,6,4,6,15,8,3,8,2,4,15,8,6,6,8,6,4,6,12,8,10,20,4,6,6,8,6,4,8,3,2,6,3,3,5,8,12,10,5,9,6,6,6,6,6,4,12,6,12,4,4,3,6,6,3,6,20,12,6,6,12,6,9,3,3,8,6,15,6,8,6,8,8,3,6,8,3,9,6,2,15,3,12,6,9,15,8,6,4,4,9,8,15,6,5,6,6,8,4,9,8,9,9,15,2,3,6,6,4,8,12,4,8,2,5,8,12,8,3,5,8,12,6,4,4,4,4,10,6,12,9,10,6,9,6,4,2,15,1,15,4,6,6,10,3,9,12,8,5,9,16,5,10,15,4,12,12,6,18,2,6,6,2,6,4,4,8,6,12,12,2,3,10,3,6,2,8,1,4,4,2,6,12,6,4,8,16,3,5,4,4,3,4,9,3,8,8,15,3,6,4,1,4,12,6,12,4,4,12,3,9,12,9,12,4,6,9,8,6,2,3,6,6,6,8,12,9,9,6,3,6,6,6,6,3,9,4,12,4,6,14,2,12,8,6,18,6,9,3,2,2,8,4,4,8,4,4,6,1,2,1,12,9,6,12,4,8,8,3,6,4,2,8,6,12,4,6,8,6,2,15,3,3,6,8,15,4,9,9,8,9,2,2,6,4,3,16,9,2,2,15,6,8,9,6,8,9,9,3,9,2,9,4,9,8,6,8,16,12,1,4,6,12,4,3,15,3,6,15,8,6,20,6,4,6,12,12,6,16,6,3,2,8,4,8,9,8,4,9,9,10,6,4,12,4,4,4,5,9,6,9,9,6,3,2,12,8,3,9,5,12,4,12,2,9,6,4,10,12,5,3,8,4,12,12,2,12,4,4,8,6,12,4,10,12,6,2,9,4,12,4,6,2,10,12,9,15,2,6,6,4,6,12,5,6,6,2,4,9,4,3,4,4,8,4,4,2,2,6,9,6,6,9,3,2,3,6,2,6,6,6,4,4,6,2,2,6,9,9,4,12,10,4,8,9,8,4,12,6,3,4,2,6,16,9,12,12,6,1,8,8,4,6,4,12,8,8,3,4,12,1,9,4,12,8,4,2,9,4,6,10,6,9,9,8,3,9,6,12,1,9,1,9,3,6,8,2,9,8,6,2,6,3,8,3,5,4,8,8,4,4,12,6,10,10,8,12,12,9,8,4,3,15,3,6,2,4,8,10,18,3,6,10,4,8,8,8,3,3,9,2,8,9,15,14,6,8,6,4,6,3,4,8,4,12,14,4,9,8,12,9,12,8,6,12,3,6,3,12,2,4,4,8,4,12,18,9,4,2,8,6,5,10,16,9,4,8,4,4,6,12,2,8,12,12,6,6,12,6,4,9,6,12,2,8,6,8,6,6,3,4,4,4,6,15,4,4,3,6,10,3,9,4,2,12,8,6,9,12,6,4,12,9,3,4,4,15,8,9,6,9,6,4,2,6,4,2,4,2,6,3,6,3,6,4,8,4,3,9,4,20,10,12,3,2,6,12,6,6,15,6,12,8,9,10,5,6,9,2,9,1,4,3,6,9,9,6,8,21,2,3,2,15,12,2,3,2,6,9,5,6,9,6,6,4,9,4,2,3,8,3,6,6,2,6,5,4,18,12,4,14,6,9,3,9,6,8,4,6,6,10,12,12,20,9,9,4,7,5,3,12,4,3,6,9,8,12,12,3,8,12,3,9,6,15,6,9,12,3,3,3,2,3,4,8,4,6,3,4,3,6,9,6,11,6,12,6,20,3,6,9,1,15,6,5,8,12,6,15,2,12,9,4,10,12,12,4,3,6,4,20,9,6,12,8,3,3,2,8,6,3,2,6,6,12,10,2,2,4,6,6,5,2,4,6,6,3,2,3,8,6,9,12,6,4,8,6,4,2,2,14,2,6,4,8,6,1,6,3,2,4,3,4,6,4,4,4,6,12,9,9,12,2,6,3,8,6,6,10,3,4,9,12,4,12,3,3,4,8,12,2,4,8,6,8,4,4,8,4,10,20,6,4,1,10,8,6,6,20,6,4,9,12,10,6,3,4,4,3,3,12,2,12,2,9,6,6,6,2,12,6,12,6,4,18,9,6,8,4,6,6,3,16,16,4,3,8,16,9,12,3,10,14,9,6,8,8,3,3,4,8,2,4,12,2,4,8,4,2,6,3,8,4,8,4,2,4,6,4,6,3,4,4,9,8,4,10,4,9,3,6,9,9,6,8,9,2,4,3,6,6,12,3,12,12,6,8,18,2,4,6,1,8,2,3,3,8,3,12,16,13,6,4,12,4,8,4,15,8,2,4,12,4,4,8,12,6,9,2,4,6,6,9,1,8,8,9,8,6,2,2,12,16,6,9,3,6,3,3,8,9,4,6,9,6,9,9,10,6,4,9,6,6,8,6,4,6,8,3,2,6,4,6,4,6,2,9,2,2,3,8,4,4,9,8,2,4,9,5,12,20,9,6,4,2,6,3,12,9,6,15,5,18,9,4,2,6,9,12,12,6,4,6,12,6,15,8,15,19,3,3,6,4,16,12,4,4,9,10,3,6,6,12,9,10,10,6,6,4,5,16,6,4,8,9,4,4,3,4,2,9,4,8,8,6,4,2,4,12,6,4,6,3,4,3,6,3,3,6,15,12,4,6,6,10,6,2,4,6,8,10,15,8,3,5,6,15,2,2,4,4,6,1,2,6,12,12,4,9,6,4,15,10,4,9,4,4,2,20,6,2,6,12,6,20,6,9,4,6,15,15,4,18,11,8,6,3,8,4,9,18,4,9,10,8,15,6,8,2,4,14,8,3,4,4,12,15,6,9,8,8,6,4,6,3,15,6,6,4,4,4,14,6,4,9,2,6,6,12,6,3,6,10,15,6,4,4,9,12,16,10,4,4,2,8,9,12,6,6,16,16,9,6,6,12,6,2,3,9,10,6,4,2,6,10,6,12,9,2,6,6,6,16,8,6,12,10,10,4,2,2,6,4,8,12,4,20,8,6,12,6,16,9,4,3,5,6,3,4,9,6,4,6,9,6,12,12,10,15,4,9,6,6,10,6,2,4,8,10,10,3,4,1,10,6,5,8,8,3,12,6,12,6,9,8,2,9,15,8,4,6,9,2,3,12,6,3,6,6,4,4,6,4,3,6,6,8,10,15,3,4,4,6,9,14,8,12,6,6,3,6,15,4,6,4,15,6,10,6,4,9,12,2,2,6,6,8,2,8,4,3,3,12,10,15,5,4,9,12,3,4,8,9,4,4,12,3,2,3,6,10,4,6,15,4,4,2,4,15,15,15,3,2,8,4,8,9,8,12,6,15,21,4,8,6,6,12,8,8,6,4,6,15,6,12,16,4,6,8,8,5,8,20,18,8,12,8,6,4,6,4,5,8,4,4,8,4,5,9,10,12,4,4,6,4,4,1,3,8,8,6,15,8,10,4,8,8,3,9,9,6,12,8,4,6,6,12,4,6,3,6,6,6,6,4,20,6,2,18,6,4,5,6,8,3,20,9,12,8,4,9,6,4,2,4,8,6,6,2,2,6,4,6,9,3,8,3,4,4,9,2,8,9,6,3,6,9,6,6,9,6,16,8,10,8,3,4,8,9,12,9,4,9,1,8,6,9,4,6,6,8,6,9,12,2,6,16,9,4,6,3,6,12,2,8,3,6,3,18,6,12,4,6,12,8,8,3,12,4,4,12,2,6,6,6,8,9,6,6,1,3,8,10,6,12,8,2,9,4,4,4,6,9,6,12,8,2,4,9,18,6,8,12,12,9,8,4,15,4,6,3,1,4,8,12,12,6,6,24,6,8,6,2,8,6,9,6,4,3,6,6,2,8,4,6,9,5,2,9,8,9,2,12,4,6,6,6,6,6,8,4,2,1,2,4,8,4,12,4,2,2,9,5,12,12,3,6,6,9,6,4,4,6,4,2,6,8,4,6,12,6,10,2,2,4,8,4,12,6,6,3,12,9,12,2,4,15,6,3,10,2,4,4,12,4,12,4,6,10,2,6,15,6,12,4,2,6,6,4,12,15,4,6,16,6,9,4,4,6,18,4,6,9,2,3,6,8,15,6,16,12,4,1,8,2,3,4,8,6,6,8,8,9,6,9,3,15,6,9,6,4,6,12,6,6,4,8,4,12,12,1,6,6,6,4,4,6,12,6,9,4,3,6,6,12,2,9,8,12,16,8,4,10,3,6,6,12,6,3,6,4,3,4,15,6,12,6,20,6,12,6,9,3,6,6,3,2,3,2,3,18,4,2,3,6,4,8,6,4,6,1,9,2,8,12,10,4,2,8,9,16,9,3,4,8,6,4,6,3,8,3,6,3,2,6,3,6,3,3,15,6,9,9,4,8,9,2,4,6,3,2,4,6,2,18,3,6,8,9,9,12,9,6,6,6,8,6,3,6,2,3,6,8,6,6,6,3,9,4,2,6,12,2,4,2,6,4,6,4,3,2,15,6,4,6,6,8,9,6,12,6,6,9,6,6,9,2,2,4,4,8,6,9,8,6,8,8,6,9,6,6,2,6,2,9,8,8,8,3,2,9,6,3,12,15,3,10,4,12,12,12,12,9,9,6,15,8,15,3,3,3,8,5,1,9,6,8,4,4,4,4,4,8,4,9,6,6,6,6,4,9,6,15,6,9,8,10,9,9,6,8,2,2,3,8,2,8,6,6,6,10,8,4,8,4,3,3,6,6,4,3,8,4,8,14,10,20,12,4,6,9,9,4,4,12,8,6,12,6,12,12,15,2,8,8,20,6,8,6,6,9,8,9,4,4,6,2,6,9,12,6,6,12,3,4,2,1,6,4,4,8,4,6,8,8,8,4,6,9,2,8,4,3,16,12,3,3,4,8,3,6,1,6,9,12,6,9,10,4,4,4,4,12,6,10,9,8,6],\"y0\":\" \",\"yaxis\":\"y\",\"type\":\"box\"},{\"alignmentgroup\":\"True\",\"hovertemplate\":\"group=%{x}<br>count=%{y}<extra></extra>\",\"legendgroup\":\"B\",\"marker\":{\"color\":\"#EF553B\"},\"name\":\"B\",\"notched\":false,\"offsetgroup\":\"B\",\"orientation\":\"v\",\"showlegend\":true,\"x\":[\"B\",\"B\",\"B\",\"B\",\"B\",\"B\",\"B\",\"B\",\"B\",\"B\",\"B\",\"B\",\"B\",\"B\",\"B\",\"B\",\"B\",\"B\",\"B\",\"B\",\"B\",\"B\",\"B\",\"B\",\"B\",\"B\",\"B\",\"B\",\"B\",\"B\",\"B\",\"B\",\"B\",\"B\",\"B\",\"B\",\"B\",\"B\",\"B\",\"B\",\"B\",\"B\",\"B\",\"B\",\"B\",\"B\",\"B\",\"B\",\"B\",\"B\",\"B\",\"B\",\"B\",\"B\",\"B\",\"B\",\"B\",\"B\",\"B\",\"B\",\"B\",\"B\",\"B\",\"B\",\"B\",\"B\",\"B\",\"B\",\"B\",\"B\",\"B\",\"B\",\"B\",\"B\",\"B\",\"B\",\"B\",\"B\",\"B\",\"B\",\"B\",\"B\",\"B\",\"B\",\"B\",\"B\",\"B\",\"B\",\"B\",\"B\",\"B\",\"B\",\"B\",\"B\",\"B\",\"B\",\"B\",\"B\",\"B\",\"B\",\"B\",\"B\",\"B\",\"B\",\"B\",\"B\",\"B\",\"B\",\"B\",\"B\",\"B\",\"B\",\"B\",\"B\",\"B\",\"B\",\"B\",\"B\",\"B\",\"B\",\"B\",\"B\",\"B\",\"B\",\"B\",\"B\",\"B\",\"B\",\"B\",\"B\",\"B\",\"B\",\"B\",\"B\",\"B\",\"B\",\"B\",\"B\",\"B\",\"B\",\"B\",\"B\",\"B\",\"B\",\"B\",\"B\",\"B\",\"B\",\"B\",\"B\",\"B\",\"B\",\"B\",\"B\",\"B\",\"B\",\"B\",\"B\",\"B\",\"B\",\"B\",\"B\",\"B\",\"B\",\"B\",\"B\",\"B\",\"B\",\"B\",\"B\",\"B\",\"B\",\"B\",\"B\",\"B\",\"B\",\"B\",\"B\",\"B\",\"B\",\"B\",\"B\",\"B\",\"B\",\"B\",\"B\",\"B\",\"B\",\"B\",\"B\",\"B\",\"B\",\"B\",\"B\",\"B\",\"B\",\"B\",\"B\",\"B\",\"B\",\"B\",\"B\",\"B\",\"B\",\"B\",\"B\",\"B\",\"B\",\"B\",\"B\",\"B\",\"B\",\"B\",\"B\",\"B\",\"B\",\"B\",\"B\",\"B\",\"B\",\"B\",\"B\",\"B\",\"B\",\"B\",\"B\",\"B\",\"B\",\"B\",\"B\",\"B\",\"B\",\"B\",\"B\",\"B\",\"B\",\"B\",\"B\",\"B\",\"B\",\"B\",\"B\",\"B\",\"B\",\"B\",\"B\",\"B\",\"B\",\"B\",\"B\",\"B\",\"B\",\"B\",\"B\",\"B\",\"B\",\"B\",\"B\",\"B\",\"B\",\"B\",\"B\",\"B\",\"B\",\"B\",\"B\",\"B\",\"B\",\"B\",\"B\",\"B\",\"B\",\"B\",\"B\",\"B\",\"B\",\"B\",\"B\",\"B\",\"B\",\"B\",\"B\",\"B\",\"B\",\"B\",\"B\",\"B\",\"B\",\"B\",\"B\",\"B\",\"B\",\"B\",\"B\",\"B\",\"B\",\"B\",\"B\",\"B\",\"B\",\"B\",\"B\",\"B\",\"B\",\"B\",\"B\",\"B\",\"B\",\"B\",\"B\",\"B\",\"B\",\"B\",\"B\",\"B\",\"B\",\"B\",\"B\",\"B\",\"B\",\"B\",\"B\",\"B\",\"B\",\"B\",\"B\",\"B\",\"B\",\"B\",\"B\",\"B\",\"B\",\"B\",\"B\",\"B\",\"B\",\"B\",\"B\",\"B\",\"B\",\"B\",\"B\",\"B\",\"B\",\"B\",\"B\",\"B\",\"B\",\"B\",\"B\",\"B\",\"B\",\"B\",\"B\",\"B\",\"B\",\"B\",\"B\",\"B\",\"B\",\"B\",\"B\",\"B\",\"B\",\"B\",\"B\",\"B\",\"B\",\"B\",\"B\",\"B\",\"B\",\"B\",\"B\",\"B\",\"B\",\"B\",\"B\",\"B\",\"B\",\"B\",\"B\",\"B\",\"B\",\"B\",\"B\",\"B\",\"B\",\"B\",\"B\",\"B\",\"B\",\"B\",\"B\",\"B\",\"B\",\"B\",\"B\",\"B\",\"B\",\"B\",\"B\",\"B\",\"B\",\"B\",\"B\",\"B\",\"B\",\"B\",\"B\",\"B\",\"B\",\"B\",\"B\",\"B\",\"B\",\"B\",\"B\",\"B\",\"B\",\"B\",\"B\",\"B\",\"B\",\"B\",\"B\",\"B\",\"B\",\"B\",\"B\",\"B\",\"B\",\"B\",\"B\",\"B\",\"B\",\"B\",\"B\",\"B\",\"B\",\"B\",\"B\",\"B\",\"B\",\"B\",\"B\",\"B\",\"B\",\"B\",\"B\",\"B\",\"B\",\"B\",\"B\",\"B\",\"B\",\"B\",\"B\",\"B\",\"B\",\"B\",\"B\",\"B\",\"B\",\"B\",\"B\",\"B\",\"B\",\"B\",\"B\",\"B\",\"B\",\"B\",\"B\",\"B\",\"B\",\"B\",\"B\",\"B\",\"B\",\"B\",\"B\",\"B\",\"B\",\"B\",\"B\",\"B\",\"B\",\"B\",\"B\",\"B\",\"B\",\"B\",\"B\",\"B\",\"B\",\"B\",\"B\",\"B\",\"B\",\"B\",\"B\",\"B\",\"B\",\"B\",\"B\",\"B\",\"B\",\"B\",\"B\",\"B\",\"B\",\"B\",\"B\",\"B\",\"B\",\"B\",\"B\",\"B\",\"B\",\"B\",\"B\",\"B\",\"B\",\"B\",\"B\",\"B\",\"B\",\"B\",\"B\",\"B\",\"B\",\"B\",\"B\",\"B\",\"B\",\"B\",\"B\",\"B\",\"B\",\"B\",\"B\",\"B\",\"B\",\"B\",\"B\",\"B\",\"B\",\"B\",\"B\",\"B\",\"B\",\"B\",\"B\",\"B\",\"B\",\"B\",\"B\",\"B\",\"B\",\"B\",\"B\",\"B\",\"B\",\"B\",\"B\",\"B\",\"B\",\"B\",\"B\",\"B\",\"B\",\"B\",\"B\",\"B\",\"B\",\"B\",\"B\",\"B\",\"B\",\"B\",\"B\",\"B\",\"B\",\"B\",\"B\",\"B\",\"B\",\"B\",\"B\",\"B\",\"B\",\"B\",\"B\",\"B\",\"B\",\"B\",\"B\",\"B\",\"B\",\"B\",\"B\",\"B\",\"B\",\"B\",\"B\",\"B\",\"B\",\"B\",\"B\",\"B\",\"B\",\"B\",\"B\",\"B\",\"B\",\"B\",\"B\",\"B\",\"B\",\"B\",\"B\",\"B\",\"B\",\"B\",\"B\",\"B\",\"B\",\"B\",\"B\",\"B\",\"B\",\"B\",\"B\",\"B\",\"B\",\"B\",\"B\",\"B\",\"B\",\"B\",\"B\",\"B\",\"B\",\"B\",\"B\",\"B\",\"B\",\"B\",\"B\",\"B\",\"B\",\"B\",\"B\",\"B\",\"B\",\"B\",\"B\",\"B\",\"B\",\"B\",\"B\",\"B\",\"B\",\"B\",\"B\",\"B\",\"B\",\"B\",\"B\",\"B\",\"B\",\"B\",\"B\",\"B\",\"B\",\"B\",\"B\",\"B\",\"B\",\"B\",\"B\",\"B\",\"B\",\"B\",\"B\",\"B\",\"B\",\"B\",\"B\",\"B\",\"B\",\"B\",\"B\",\"B\",\"B\",\"B\",\"B\",\"B\",\"B\",\"B\",\"B\",\"B\",\"B\",\"B\",\"B\",\"B\",\"B\",\"B\",\"B\",\"B\",\"B\",\"B\",\"B\",\"B\",\"B\",\"B\",\"B\",\"B\",\"B\",\"B\",\"B\",\"B\",\"B\",\"B\",\"B\",\"B\",\"B\",\"B\",\"B\",\"B\",\"B\",\"B\",\"B\",\"B\",\"B\",\"B\",\"B\",\"B\",\"B\",\"B\",\"B\",\"B\",\"B\",\"B\",\"B\",\"B\",\"B\",\"B\",\"B\",\"B\",\"B\",\"B\",\"B\",\"B\",\"B\",\"B\",\"B\",\"B\",\"B\",\"B\",\"B\",\"B\",\"B\",\"B\",\"B\",\"B\",\"B\",\"B\",\"B\",\"B\",\"B\",\"B\",\"B\",\"B\",\"B\",\"B\",\"B\",\"B\",\"B\",\"B\",\"B\",\"B\",\"B\",\"B\",\"B\",\"B\",\"B\",\"B\",\"B\",\"B\",\"B\",\"B\",\"B\",\"B\",\"B\",\"B\",\"B\",\"B\",\"B\",\"B\",\"B\",\"B\",\"B\",\"B\",\"B\",\"B\",\"B\",\"B\",\"B\",\"B\",\"B\",\"B\",\"B\",\"B\",\"B\",\"B\",\"B\",\"B\",\"B\",\"B\",\"B\",\"B\",\"B\",\"B\",\"B\",\"B\",\"B\",\"B\",\"B\",\"B\",\"B\",\"B\",\"B\",\"B\",\"B\",\"B\",\"B\",\"B\",\"B\",\"B\",\"B\",\"B\",\"B\",\"B\",\"B\",\"B\",\"B\",\"B\",\"B\",\"B\",\"B\",\"B\",\"B\",\"B\",\"B\",\"B\",\"B\",\"B\",\"B\",\"B\",\"B\",\"B\",\"B\",\"B\",\"B\",\"B\",\"B\",\"B\",\"B\",\"B\",\"B\",\"B\",\"B\",\"B\",\"B\",\"B\"],\"x0\":\" \",\"xaxis\":\"x\",\"y\":[6,4,6,2,12,6,8,3,2,5,6,8,3,3,2,3,6,2,3,3,4,3,8,6,9,9,2,4,7,9,2,4,1,2,12,9,12,9,6,5,2,4,3,9,12,3,6,3,6,6,24,8,24,2,12,2,4,10,4,6,6,6,6,9,3,8,2,3,6,8,3,9,9,6,6,2,8,4,1,4,9,3,8,4,4,9,9,4,6,2,2,9,3,4,8,3,9,9,4,4,1,4,6,4,4,6,4,4,8,8,3,4,4,4,6,4,6,12,3,2,9,6,2,2,6,4,4,9,2,6,12,4,4,4,8,2,3,15,3,6,4,12,12,10,20,3,4,4,1,4,6,8,4,5,8,4,6,3,8,9,4,2,4,8,7,6,3,6,4,3,2,2,6,9,4,6,10,16,10,9,3,4,6,4,6,3,9,3,3,4,6,8,6,8,3,3,4,4,11,2,6,6,2,12,9,1,12,2,2,6,2,4,2,3,4,9,6,8,2,4,4,4,4,6,4,4,12,6,2,4,4,6,6,2,8,2,4,9,4,3,4,5,9,4,4,15,4,4,8,4,6,4,6,4,8,2,3,4,12,2,5,20,2,4,6,8,4,4,8,4,4,3,2,8,2,8,4,4,10,3,4,6,6,1,8,9,12,2,8,3,12,9,1,6,2,2,4,8,4,9,6,6,4,4,2,6,5,10,3,6,3,12,8,6,6,6,6,4,6,3,4,3,3,1,8,15,6,9,2,6,2,8,15,4,10,3,9,3,9,10,8,4,3,2,2,2,6,3,6,8,6,2,2,4,1,2,6,4,2,9,3,6,6,6,9,3,4,12,12,6,9,6,3,6,9,8,6,12,12,5,2,6,2,12,6,6,3,2,4,12,10,6,9,5,10,12,3,4,8,4,2,2,3,2,1,8,4,12,3,6,7,3,4,6,12,6,20,9,4,4,4,10,6,4,11,2,6,3,12,2,4,3,2,6,8,3,6,6,3,2,6,6,6,9,1,6,6,2,6,8,10,9,5,6,21,10,3,8,2,9,4,9,3,2,4,4,3,6,4,6,12,3,3,6,3,2,2,8,4,6,5,6,2,12,2,3,6,4,2,8,1,3,8,6,6,6,9,6,2,4,3,1,4,6,3,2,4,4,12,9,6,4,4,4,3,4,8,3,4,8,1,3,3,8,4,6,10,2,6,6,6,6,2,6,16,3,2,4,6,6,12,4,2,4,6,3,12,3,7,6,5,4,8,9,3,4,8,3,3,6,8,6,6,3,6,4,4,6,5,2,3,3,2,6,6,16,6,2,8,4,4,2,4,6,2,6,6,6,3,3,8,3,12,4,4,3,15,3,6,4,2,6,5,8,4,4,12,6,11,4,9,3,8,3,8,12,2,6,8,9,6,2,3,2,8,3,2,8,2,2,3,3,4,4,2,4,6,6,9,3,3,4,6,4,2,2,9,4,3,6,4,3,9,3,2,6,4,4,4,9,7,9,15,4,3,4,4,6,4,3,2,6,3,9,3,4,6,3,3,13,5,18,5,3,4,9,4,6,6,4,6,5,4,10,6,8,2,8,3,3,8,6,4,4,3,2,6,2,6,4,9,3,2,8,10,8,1,2,6,14,3,4,6,3,3,2,3,6,9,10,9,4,6,9,4,4,9,8,8,6,4,6,6,10,12,1,9,2,6,2,12,1,3,10,2,12,6,9,5,6,2,6,4,4,2,4,6,4,8,2,6,8,4,4,6,2,8,3,4,6,8,2,3,3,6,8,2,9,3,10,6,15,6,1,1,6,4,6,8,3,6,3,8,4,10,9,5,9,6,8,6,8,3,6,9,4,3,6,4,3,4,6,2,4,4,12,2,3,1,3,6,3,7,5,6,6,5,2,2,9,3,3,12,2,4,2,2,4,4,5,4,4,6,4,2,6,9,6,6,1,2,12,6,8,6,3,4,4,4,6,6,2,20,2,3,4,9],\"y0\":\" \",\"yaxis\":\"y\",\"type\":\"box\"}],                        {\"template\":{\"data\":{\"bar\":[{\"error_x\":{\"color\":\"#2a3f5f\"},\"error_y\":{\"color\":\"#2a3f5f\"},\"marker\":{\"line\":{\"color\":\"#E5ECF6\",\"width\":0.5},\"pattern\":{\"fillmode\":\"overlay\",\"size\":10,\"solidity\":0.2}},\"type\":\"bar\"}],\"barpolar\":[{\"marker\":{\"line\":{\"color\":\"#E5ECF6\",\"width\":0.5},\"pattern\":{\"fillmode\":\"overlay\",\"size\":10,\"solidity\":0.2}},\"type\":\"barpolar\"}],\"carpet\":[{\"aaxis\":{\"endlinecolor\":\"#2a3f5f\",\"gridcolor\":\"white\",\"linecolor\":\"white\",\"minorgridcolor\":\"white\",\"startlinecolor\":\"#2a3f5f\"},\"baxis\":{\"endlinecolor\":\"#2a3f5f\",\"gridcolor\":\"white\",\"linecolor\":\"white\",\"minorgridcolor\":\"white\",\"startlinecolor\":\"#2a3f5f\"},\"type\":\"carpet\"}],\"choropleth\":[{\"colorbar\":{\"outlinewidth\":0,\"ticks\":\"\"},\"type\":\"choropleth\"}],\"contour\":[{\"colorbar\":{\"outlinewidth\":0,\"ticks\":\"\"},\"colorscale\":[[0.0,\"#0d0887\"],[0.1111111111111111,\"#46039f\"],[0.2222222222222222,\"#7201a8\"],[0.3333333333333333,\"#9c179e\"],[0.4444444444444444,\"#bd3786\"],[0.5555555555555556,\"#d8576b\"],[0.6666666666666666,\"#ed7953\"],[0.7777777777777778,\"#fb9f3a\"],[0.8888888888888888,\"#fdca26\"],[1.0,\"#f0f921\"]],\"type\":\"contour\"}],\"contourcarpet\":[{\"colorbar\":{\"outlinewidth\":0,\"ticks\":\"\"},\"type\":\"contourcarpet\"}],\"heatmap\":[{\"colorbar\":{\"outlinewidth\":0,\"ticks\":\"\"},\"colorscale\":[[0.0,\"#0d0887\"],[0.1111111111111111,\"#46039f\"],[0.2222222222222222,\"#7201a8\"],[0.3333333333333333,\"#9c179e\"],[0.4444444444444444,\"#bd3786\"],[0.5555555555555556,\"#d8576b\"],[0.6666666666666666,\"#ed7953\"],[0.7777777777777778,\"#fb9f3a\"],[0.8888888888888888,\"#fdca26\"],[1.0,\"#f0f921\"]],\"type\":\"heatmap\"}],\"heatmapgl\":[{\"colorbar\":{\"outlinewidth\":0,\"ticks\":\"\"},\"colorscale\":[[0.0,\"#0d0887\"],[0.1111111111111111,\"#46039f\"],[0.2222222222222222,\"#7201a8\"],[0.3333333333333333,\"#9c179e\"],[0.4444444444444444,\"#bd3786\"],[0.5555555555555556,\"#d8576b\"],[0.6666666666666666,\"#ed7953\"],[0.7777777777777778,\"#fb9f3a\"],[0.8888888888888888,\"#fdca26\"],[1.0,\"#f0f921\"]],\"type\":\"heatmapgl\"}],\"histogram\":[{\"marker\":{\"pattern\":{\"fillmode\":\"overlay\",\"size\":10,\"solidity\":0.2}},\"type\":\"histogram\"}],\"histogram2d\":[{\"colorbar\":{\"outlinewidth\":0,\"ticks\":\"\"},\"colorscale\":[[0.0,\"#0d0887\"],[0.1111111111111111,\"#46039f\"],[0.2222222222222222,\"#7201a8\"],[0.3333333333333333,\"#9c179e\"],[0.4444444444444444,\"#bd3786\"],[0.5555555555555556,\"#d8576b\"],[0.6666666666666666,\"#ed7953\"],[0.7777777777777778,\"#fb9f3a\"],[0.8888888888888888,\"#fdca26\"],[1.0,\"#f0f921\"]],\"type\":\"histogram2d\"}],\"histogram2dcontour\":[{\"colorbar\":{\"outlinewidth\":0,\"ticks\":\"\"},\"colorscale\":[[0.0,\"#0d0887\"],[0.1111111111111111,\"#46039f\"],[0.2222222222222222,\"#7201a8\"],[0.3333333333333333,\"#9c179e\"],[0.4444444444444444,\"#bd3786\"],[0.5555555555555556,\"#d8576b\"],[0.6666666666666666,\"#ed7953\"],[0.7777777777777778,\"#fb9f3a\"],[0.8888888888888888,\"#fdca26\"],[1.0,\"#f0f921\"]],\"type\":\"histogram2dcontour\"}],\"mesh3d\":[{\"colorbar\":{\"outlinewidth\":0,\"ticks\":\"\"},\"type\":\"mesh3d\"}],\"parcoords\":[{\"line\":{\"colorbar\":{\"outlinewidth\":0,\"ticks\":\"\"}},\"type\":\"parcoords\"}],\"pie\":[{\"automargin\":true,\"type\":\"pie\"}],\"scatter\":[{\"marker\":{\"colorbar\":{\"outlinewidth\":0,\"ticks\":\"\"}},\"type\":\"scatter\"}],\"scatter3d\":[{\"line\":{\"colorbar\":{\"outlinewidth\":0,\"ticks\":\"\"}},\"marker\":{\"colorbar\":{\"outlinewidth\":0,\"ticks\":\"\"}},\"type\":\"scatter3d\"}],\"scattercarpet\":[{\"marker\":{\"colorbar\":{\"outlinewidth\":0,\"ticks\":\"\"}},\"type\":\"scattercarpet\"}],\"scattergeo\":[{\"marker\":{\"colorbar\":{\"outlinewidth\":0,\"ticks\":\"\"}},\"type\":\"scattergeo\"}],\"scattergl\":[{\"marker\":{\"colorbar\":{\"outlinewidth\":0,\"ticks\":\"\"}},\"type\":\"scattergl\"}],\"scattermapbox\":[{\"marker\":{\"colorbar\":{\"outlinewidth\":0,\"ticks\":\"\"}},\"type\":\"scattermapbox\"}],\"scatterpolar\":[{\"marker\":{\"colorbar\":{\"outlinewidth\":0,\"ticks\":\"\"}},\"type\":\"scatterpolar\"}],\"scatterpolargl\":[{\"marker\":{\"colorbar\":{\"outlinewidth\":0,\"ticks\":\"\"}},\"type\":\"scatterpolargl\"}],\"scatterternary\":[{\"marker\":{\"colorbar\":{\"outlinewidth\":0,\"ticks\":\"\"}},\"type\":\"scatterternary\"}],\"surface\":[{\"colorbar\":{\"outlinewidth\":0,\"ticks\":\"\"},\"colorscale\":[[0.0,\"#0d0887\"],[0.1111111111111111,\"#46039f\"],[0.2222222222222222,\"#7201a8\"],[0.3333333333333333,\"#9c179e\"],[0.4444444444444444,\"#bd3786\"],[0.5555555555555556,\"#d8576b\"],[0.6666666666666666,\"#ed7953\"],[0.7777777777777778,\"#fb9f3a\"],[0.8888888888888888,\"#fdca26\"],[1.0,\"#f0f921\"]],\"type\":\"surface\"}],\"table\":[{\"cells\":{\"fill\":{\"color\":\"#EBF0F8\"},\"line\":{\"color\":\"white\"}},\"header\":{\"fill\":{\"color\":\"#C8D4E3\"},\"line\":{\"color\":\"white\"}},\"type\":\"table\"}]},\"layout\":{\"annotationdefaults\":{\"arrowcolor\":\"#2a3f5f\",\"arrowhead\":0,\"arrowwidth\":1},\"autotypenumbers\":\"strict\",\"coloraxis\":{\"colorbar\":{\"outlinewidth\":0,\"ticks\":\"\"}},\"colorscale\":{\"diverging\":[[0,\"#8e0152\"],[0.1,\"#c51b7d\"],[0.2,\"#de77ae\"],[0.3,\"#f1b6da\"],[0.4,\"#fde0ef\"],[0.5,\"#f7f7f7\"],[0.6,\"#e6f5d0\"],[0.7,\"#b8e186\"],[0.8,\"#7fbc41\"],[0.9,\"#4d9221\"],[1,\"#276419\"]],\"sequential\":[[0.0,\"#0d0887\"],[0.1111111111111111,\"#46039f\"],[0.2222222222222222,\"#7201a8\"],[0.3333333333333333,\"#9c179e\"],[0.4444444444444444,\"#bd3786\"],[0.5555555555555556,\"#d8576b\"],[0.6666666666666666,\"#ed7953\"],[0.7777777777777778,\"#fb9f3a\"],[0.8888888888888888,\"#fdca26\"],[1.0,\"#f0f921\"]],\"sequentialminus\":[[0.0,\"#0d0887\"],[0.1111111111111111,\"#46039f\"],[0.2222222222222222,\"#7201a8\"],[0.3333333333333333,\"#9c179e\"],[0.4444444444444444,\"#bd3786\"],[0.5555555555555556,\"#d8576b\"],[0.6666666666666666,\"#ed7953\"],[0.7777777777777778,\"#fb9f3a\"],[0.8888888888888888,\"#fdca26\"],[1.0,\"#f0f921\"]]},\"colorway\":[\"#636efa\",\"#EF553B\",\"#00cc96\",\"#ab63fa\",\"#FFA15A\",\"#19d3f3\",\"#FF6692\",\"#B6E880\",\"#FF97FF\",\"#FECB52\"],\"font\":{\"color\":\"#2a3f5f\"},\"geo\":{\"bgcolor\":\"white\",\"lakecolor\":\"white\",\"landcolor\":\"#E5ECF6\",\"showlakes\":true,\"showland\":true,\"subunitcolor\":\"white\"},\"hoverlabel\":{\"align\":\"left\"},\"hovermode\":\"closest\",\"mapbox\":{\"style\":\"light\"},\"paper_bgcolor\":\"white\",\"plot_bgcolor\":\"#E5ECF6\",\"polar\":{\"angularaxis\":{\"gridcolor\":\"white\",\"linecolor\":\"white\",\"ticks\":\"\"},\"bgcolor\":\"#E5ECF6\",\"radialaxis\":{\"gridcolor\":\"white\",\"linecolor\":\"white\",\"ticks\":\"\"}},\"scene\":{\"xaxis\":{\"backgroundcolor\":\"#E5ECF6\",\"gridcolor\":\"white\",\"gridwidth\":2,\"linecolor\":\"white\",\"showbackground\":true,\"ticks\":\"\",\"zerolinecolor\":\"white\"},\"yaxis\":{\"backgroundcolor\":\"#E5ECF6\",\"gridcolor\":\"white\",\"gridwidth\":2,\"linecolor\":\"white\",\"showbackground\":true,\"ticks\":\"\",\"zerolinecolor\":\"white\"},\"zaxis\":{\"backgroundcolor\":\"#E5ECF6\",\"gridcolor\":\"white\",\"gridwidth\":2,\"linecolor\":\"white\",\"showbackground\":true,\"ticks\":\"\",\"zerolinecolor\":\"white\"}},\"shapedefaults\":{\"line\":{\"color\":\"#2a3f5f\"}},\"ternary\":{\"aaxis\":{\"gridcolor\":\"white\",\"linecolor\":\"white\",\"ticks\":\"\"},\"baxis\":{\"gridcolor\":\"white\",\"linecolor\":\"white\",\"ticks\":\"\"},\"bgcolor\":\"#E5ECF6\",\"caxis\":{\"gridcolor\":\"white\",\"linecolor\":\"white\",\"ticks\":\"\"}},\"title\":{\"x\":0.05},\"xaxis\":{\"automargin\":true,\"gridcolor\":\"white\",\"linecolor\":\"white\",\"ticks\":\"\",\"title\":{\"standoff\":15},\"zerolinecolor\":\"white\",\"zerolinewidth\":2},\"yaxis\":{\"automargin\":true,\"gridcolor\":\"white\",\"linecolor\":\"white\",\"ticks\":\"\",\"title\":{\"standoff\":15},\"zerolinecolor\":\"white\",\"zerolinewidth\":2}}},\"xaxis\":{\"anchor\":\"y\",\"domain\":[0.0,1.0],\"title\":{\"text\":\"group\"},\"categoryorder\":\"array\",\"categoryarray\":[\"A\",\"B\"]},\"yaxis\":{\"anchor\":\"x\",\"domain\":[0.0,1.0],\"title\":{\"text\":\"count\"}},\"legend\":{\"title\":{\"text\":\"group\"},\"tracegroupgap\":0},\"margin\":{\"t\":60},\"boxmode\":\"overlay\",\"width\":700,\"height\":500,\"title\":{\"text\":\"\\u0420\\u0430\\u0441\\u043f\\u0440\\u0435\\u0434\\u0435\\u043b\\u0435\\u043d\\u0438\\u0435 \\u043a\\u043e\\u043b\\u0438\\u0447\\u0435\\u0441\\u0442\\u0432\\u0430 \\u0441\\u043e\\u0431\\u044b\\u0442\\u0438\\u0439 \\u0434\\u043b\\u044f \\u0433\\u0440\\u0443\\u043f\\u043f A \\u0438 B\"}},                        {\"responsive\": true}                    ).then(function(){\n",
       "                            \n",
       "var gd = document.getElementById('22d509e0-9c08-43a4-9152-25cdde6934c1');\n",
       "var x = new MutationObserver(function (mutations, observer) {{\n",
       "        var display = window.getComputedStyle(gd).display;\n",
       "        if (!display || display === 'none') {{\n",
       "            console.log([gd, 'removed!']);\n",
       "            Plotly.purge(gd);\n",
       "            observer.disconnect();\n",
       "        }}\n",
       "}});\n",
       "\n",
       "// Listen for the removal of the full notebook cells\n",
       "var notebookContainer = gd.closest('#notebook-container');\n",
       "if (notebookContainer) {{\n",
       "    x.observe(notebookContainer, {childList: true});\n",
       "}}\n",
       "\n",
       "// Listen for the clearing of the current output cell\n",
       "var outputEl = gd.closest('.output');\n",
       "if (outputEl) {{\n",
       "    x.observe(outputEl, {childList: true});\n",
       "}}\n",
       "\n",
       "                        })                };                            </script>        </div>\n",
       "</body>\n",
       "</html>"
      ]
     },
     "metadata": {}
    }
   ],
   "source": [
    "fig = px.box(users_count_events, x=\"group\", y=\"count\", color=\"group\")\n",
    "fig.update_layout(width=700, height=500,  title = 'Распределение количества событий для групп A и B')\n",
    "fig.show()"
   ]
  },
  {
   "cell_type": "markdown",
   "metadata": {
    "id": "DhRkAKdNqbc-"
   },
   "source": [
    "Для группы A межквартильный размах от 4 до 9 событий, медиана равна 6. В группе В пользователи совершают меньше действий, здесь межквартильный размах от 3 до 8 событий, медиана равна 4. Максимальный выброс в обеих группах 24 события."
   ]
  },
  {
   "cell_type": "markdown",
   "metadata": {
    "id": "u-BSNdJYqbc-"
   },
   "source": [
    "Подсчитаем сколько действий в среднем совершает пользователь из каждой группы:"
   ]
  },
  {
   "cell_type": "code",
   "execution_count": 61,
   "metadata": {
    "colab": {
     "base_uri": "https://localhost:8080/"
    },
    "id": "RbARHevXqbc-",
    "outputId": "49a542e5-ec7f-4ef6-f25d-20d246b3c4a6"
   },
   "outputs": [
    {
     "output_type": "stream",
     "name": "stdout",
     "text": [
      "Среднее число событий пользователя в группе A:  6.9\n",
      "Среднее число событий пользователя в группе B:  5.53\n"
     ]
    }
   ],
   "source": [
    "print('Среднее число событий пользователя в группе A: ', users_count_events.query('group == \"A\"')['count'].mean().round(2))\n",
    "print('Среднее число событий пользователя в группе B: ', users_count_events.query('group == \"B\"')['count'].mean().round(2))"
   ]
  },
  {
   "cell_type": "markdown",
   "metadata": {
    "id": "A9ORrE4Wqbc-"
   },
   "source": [
    "В среднем пользователи из группы А совершают примерно на одно событие больше."
   ]
  },
  {
   "cell_type": "markdown",
   "metadata": {
    "id": "u4n_06BUqbc_"
   },
   "source": [
    "<a name=\"4.3\"><h3>4.3 Распределение количества событий в выборках по дням</h3></a>"
   ]
  },
  {
   "cell_type": "markdown",
   "metadata": {
    "id": "gTZm1j35qbc_"
   },
   "source": [
    "Создадим сводную таблицу с количеством событий в выборках по датам:"
   ]
  },
  {
   "cell_type": "code",
   "execution_count": 62,
   "metadata": {
    "colab": {
     "base_uri": "https://localhost:8080/",
     "height": 206
    },
    "id": "klKKDZtfqbc_",
    "outputId": "1771cdd0-1718-40a3-b019-2ebc4dd82332"
   },
   "outputs": [
    {
     "output_type": "execute_result",
     "data": {
      "text/plain": [
       "  group            event_dt  count\n",
       "0     A 2020-12-07 00:14:01      2\n",
       "1     A 2020-12-07 00:16:00      3\n",
       "2     A 2020-12-07 00:31:08      2\n",
       "3     A 2020-12-07 00:35:15      2\n",
       "4     A 2020-12-07 00:39:13      1"
      ],
      "text/html": [
       "\n",
       "  <div id=\"df-1fef7252-c1f0-485d-94b7-5034a549328b\">\n",
       "    <div class=\"colab-df-container\">\n",
       "      <div>\n",
       "<style scoped>\n",
       "    .dataframe tbody tr th:only-of-type {\n",
       "        vertical-align: middle;\n",
       "    }\n",
       "\n",
       "    .dataframe tbody tr th {\n",
       "        vertical-align: top;\n",
       "    }\n",
       "\n",
       "    .dataframe thead th {\n",
       "        text-align: right;\n",
       "    }\n",
       "</style>\n",
       "<table border=\"1\" class=\"dataframe\">\n",
       "  <thead>\n",
       "    <tr style=\"text-align: right;\">\n",
       "      <th></th>\n",
       "      <th>group</th>\n",
       "      <th>event_dt</th>\n",
       "      <th>count</th>\n",
       "    </tr>\n",
       "  </thead>\n",
       "  <tbody>\n",
       "    <tr>\n",
       "      <th>0</th>\n",
       "      <td>A</td>\n",
       "      <td>2020-12-07 00:14:01</td>\n",
       "      <td>2</td>\n",
       "    </tr>\n",
       "    <tr>\n",
       "      <th>1</th>\n",
       "      <td>A</td>\n",
       "      <td>2020-12-07 00:16:00</td>\n",
       "      <td>3</td>\n",
       "    </tr>\n",
       "    <tr>\n",
       "      <th>2</th>\n",
       "      <td>A</td>\n",
       "      <td>2020-12-07 00:31:08</td>\n",
       "      <td>2</td>\n",
       "    </tr>\n",
       "    <tr>\n",
       "      <th>3</th>\n",
       "      <td>A</td>\n",
       "      <td>2020-12-07 00:35:15</td>\n",
       "      <td>2</td>\n",
       "    </tr>\n",
       "    <tr>\n",
       "      <th>4</th>\n",
       "      <td>A</td>\n",
       "      <td>2020-12-07 00:39:13</td>\n",
       "      <td>1</td>\n",
       "    </tr>\n",
       "  </tbody>\n",
       "</table>\n",
       "</div>\n",
       "      <button class=\"colab-df-convert\" onclick=\"convertToInteractive('df-1fef7252-c1f0-485d-94b7-5034a549328b')\"\n",
       "              title=\"Convert this dataframe to an interactive table.\"\n",
       "              style=\"display:none;\">\n",
       "        \n",
       "  <svg xmlns=\"http://www.w3.org/2000/svg\" height=\"24px\"viewBox=\"0 0 24 24\"\n",
       "       width=\"24px\">\n",
       "    <path d=\"M0 0h24v24H0V0z\" fill=\"none\"/>\n",
       "    <path d=\"M18.56 5.44l.94 2.06.94-2.06 2.06-.94-2.06-.94-.94-2.06-.94 2.06-2.06.94zm-11 1L8.5 8.5l.94-2.06 2.06-.94-2.06-.94L8.5 2.5l-.94 2.06-2.06.94zm10 10l.94 2.06.94-2.06 2.06-.94-2.06-.94-.94-2.06-.94 2.06-2.06.94z\"/><path d=\"M17.41 7.96l-1.37-1.37c-.4-.4-.92-.59-1.43-.59-.52 0-1.04.2-1.43.59L10.3 9.45l-7.72 7.72c-.78.78-.78 2.05 0 2.83L4 21.41c.39.39.9.59 1.41.59.51 0 1.02-.2 1.41-.59l7.78-7.78 2.81-2.81c.8-.78.8-2.07 0-2.86zM5.41 20L4 18.59l7.72-7.72 1.47 1.35L5.41 20z\"/>\n",
       "  </svg>\n",
       "      </button>\n",
       "      \n",
       "  <style>\n",
       "    .colab-df-container {\n",
       "      display:flex;\n",
       "      flex-wrap:wrap;\n",
       "      gap: 12px;\n",
       "    }\n",
       "\n",
       "    .colab-df-convert {\n",
       "      background-color: #E8F0FE;\n",
       "      border: none;\n",
       "      border-radius: 50%;\n",
       "      cursor: pointer;\n",
       "      display: none;\n",
       "      fill: #1967D2;\n",
       "      height: 32px;\n",
       "      padding: 0 0 0 0;\n",
       "      width: 32px;\n",
       "    }\n",
       "\n",
       "    .colab-df-convert:hover {\n",
       "      background-color: #E2EBFA;\n",
       "      box-shadow: 0px 1px 2px rgba(60, 64, 67, 0.3), 0px 1px 3px 1px rgba(60, 64, 67, 0.15);\n",
       "      fill: #174EA6;\n",
       "    }\n",
       "\n",
       "    [theme=dark] .colab-df-convert {\n",
       "      background-color: #3B4455;\n",
       "      fill: #D2E3FC;\n",
       "    }\n",
       "\n",
       "    [theme=dark] .colab-df-convert:hover {\n",
       "      background-color: #434B5C;\n",
       "      box-shadow: 0px 1px 3px 1px rgba(0, 0, 0, 0.15);\n",
       "      filter: drop-shadow(0px 1px 2px rgba(0, 0, 0, 0.3));\n",
       "      fill: #FFFFFF;\n",
       "    }\n",
       "  </style>\n",
       "\n",
       "      <script>\n",
       "        const buttonEl =\n",
       "          document.querySelector('#df-1fef7252-c1f0-485d-94b7-5034a549328b button.colab-df-convert');\n",
       "        buttonEl.style.display =\n",
       "          google.colab.kernel.accessAllowed ? 'block' : 'none';\n",
       "\n",
       "        async function convertToInteractive(key) {\n",
       "          const element = document.querySelector('#df-1fef7252-c1f0-485d-94b7-5034a549328b');\n",
       "          const dataTable =\n",
       "            await google.colab.kernel.invokeFunction('convertToInteractive',\n",
       "                                                     [key], {});\n",
       "          if (!dataTable) return;\n",
       "\n",
       "          const docLinkHtml = 'Like what you see? Visit the ' +\n",
       "            '<a target=\"_blank\" href=https://colab.research.google.com/notebooks/data_table.ipynb>data table notebook</a>'\n",
       "            + ' to learn more about interactive tables.';\n",
       "          element.innerHTML = '';\n",
       "          dataTable['output_type'] = 'display_data';\n",
       "          await google.colab.output.renderOutput(dataTable, element);\n",
       "          const docLink = document.createElement('div');\n",
       "          docLink.innerHTML = docLinkHtml;\n",
       "          element.appendChild(docLink);\n",
       "        }\n",
       "      </script>\n",
       "    </div>\n",
       "  </div>\n",
       "  "
      ]
     },
     "metadata": {},
     "execution_count": 62
    }
   ],
   "source": [
    "group_event_dt = df.groupby(['group','event_dt'])['event_name'].agg(['count']).reset_index()\n",
    "group_event_dt.head()"
   ]
  },
  {
   "cell_type": "markdown",
   "metadata": {
    "id": "Z6YeKBsZqbdA"
   },
   "source": [
    "Построим гистограмму распределения событий:"
   ]
  },
  {
   "cell_type": "code",
   "execution_count": 63,
   "metadata": {
    "colab": {
     "base_uri": "https://localhost:8080/",
     "height": 617
    },
    "id": "4QNmTEeQqbdA",
    "outputId": "34d09387-27aa-4efc-8f75-dfafbbbf1a84"
   },
   "outputs": [
    {
     "output_type": "display_data",
     "data": {
      "text/html": [
       "<html>\n",
       "<head><meta charset=\"utf-8\" /></head>\n",
       "<body>\n",
       "    <div>            <script src=\"https://cdnjs.cloudflare.com/ajax/libs/mathjax/2.7.5/MathJax.js?config=TeX-AMS-MML_SVG\"></script><script type=\"text/javascript\">if (window.MathJax) {MathJax.Hub.Config({SVG: {font: \"STIX-Web\"}});}</script>                <script type=\"text/javascript\">window.PlotlyConfig = {MathJaxConfig: 'local'};</script>\n",
       "        <script src=\"https://cdn.plot.ly/plotly-2.8.3.min.js\"></script>                <div id=\"aef0ef74-075c-43dc-ab5d-df21111c7634\" class=\"plotly-graph-div\" style=\"height:600px; width:950px;\"></div>            <script type=\"text/javascript\">                                    window.PLOTLYENV=window.PLOTLYENV || {};                                    if (document.getElementById(\"aef0ef74-075c-43dc-ab5d-df21111c7634\")) {                    Plotly.newPlot(                        \"aef0ef74-075c-43dc-ab5d-df21111c7634\",                        [{\"name\":\"\\u0413\\u0440\\u0443\\u043f\\u043f\\u0430 A\",\"x\":[\"2020-12-07T00:14:01\",\"2020-12-07T00:16:00\",\"2020-12-07T00:31:08\",\"2020-12-07T00:35:15\",\"2020-12-07T00:39:13\",\"2020-12-07T00:39:14\",\"2020-12-07T00:39:18\",\"2020-12-07T00:42:05\",\"2020-12-07T00:42:06\",\"2020-12-07T00:53:31\",\"2020-12-07T00:53:32\",\"2020-12-07T00:58:24\",\"2020-12-07T00:59:15\",\"2020-12-07T00:59:16\",\"2020-12-07T01:06:05\",\"2020-12-07T01:19:14\",\"2020-12-07T01:20:23\",\"2020-12-07T01:22:52\",\"2020-12-07T01:22:53\",\"2020-12-07T01:55:35\",\"2020-12-07T02:03:04\",\"2020-12-07T02:04:50\",\"2020-12-07T02:04:51\",\"2020-12-07T02:12:00\",\"2020-12-07T02:25:47\",\"2020-12-07T02:45:38\",\"2020-12-07T02:53:22\",\"2020-12-07T02:53:41\",\"2020-12-07T03:19:18\",\"2020-12-07T03:26:09\",\"2020-12-07T03:26:10\",\"2020-12-07T03:35:28\",\"2020-12-07T03:35:31\",\"2020-12-07T03:38:22\",\"2020-12-07T03:38:23\",\"2020-12-07T03:38:24\",\"2020-12-07T03:55:43\",\"2020-12-07T04:02:40\",\"2020-12-07T04:20:41\",\"2020-12-07T04:20:43\",\"2020-12-07T04:23:37\",\"2020-12-07T04:23:38\",\"2020-12-07T04:55:07\",\"2020-12-07T04:59:28\",\"2020-12-07T04:59:33\",\"2020-12-07T04:59:47\",\"2020-12-07T05:10:14\",\"2020-12-07T05:10:15\",\"2020-12-07T05:20:35\",\"2020-12-07T05:20:36\",\"2020-12-07T05:23:43\",\"2020-12-07T05:45:00\",\"2020-12-07T05:45:01\",\"2020-12-07T06:01:12\",\"2020-12-07T06:04:22\",\"2020-12-07T06:04:24\",\"2020-12-07T06:32:42\",\"2020-12-07T06:43:02\",\"2020-12-07T06:43:19\",\"2020-12-07T06:50:29\",\"2020-12-07T06:50:30\",\"2020-12-07T07:11:54\",\"2020-12-07T07:12:05\",\"2020-12-07T07:12:08\",\"2020-12-07T07:27:20\",\"2020-12-07T07:27:21\",\"2020-12-07T07:29:44\",\"2020-12-07T07:34:08\",\"2020-12-07T07:34:09\",\"2020-12-07T07:40:26\",\"2020-12-07T07:40:27\",\"2020-12-07T07:47:11\",\"2020-12-07T07:47:12\",\"2020-12-07T08:04:37\",\"2020-12-07T08:16:53\",\"2020-12-07T08:16:54\",\"2020-12-07T08:16:55\",\"2020-12-07T08:24:38\",\"2020-12-07T08:28:25\",\"2020-12-07T08:28:26\",\"2020-12-07T08:37:36\",\"2020-12-07T08:45:47\",\"2020-12-07T08:54:22\",\"2020-12-07T08:55:57\",\"2020-12-07T08:55:58\",\"2020-12-07T09:32:55\",\"2020-12-07T09:36:03\",\"2020-12-07T09:36:04\",\"2020-12-07T10:19:55\",\"2020-12-07T10:19:56\",\"2020-12-07T10:20:15\",\"2020-12-07T10:34:03\",\"2020-12-07T10:34:04\",\"2020-12-07T10:35:02\",\"2020-12-07T10:35:58\",\"2020-12-07T10:50:35\",\"2020-12-07T10:50:36\",\"2020-12-07T10:59:11\",\"2020-12-07T10:59:14\",\"2020-12-07T11:09:07\",\"2020-12-07T11:20:33\",\"2020-12-07T11:20:36\",\"2020-12-07T11:32:40\",\"2020-12-07T11:42:36\",\"2020-12-07T11:42:37\",\"2020-12-07T11:43:42\",\"2020-12-07T12:50:10\",\"2020-12-07T12:50:11\",\"2020-12-07T12:50:13\",\"2020-12-07T12:54:40\",\"2020-12-07T12:54:41\",\"2020-12-07T13:25:47\",\"2020-12-07T13:29:30\",\"2020-12-07T13:29:32\",\"2020-12-07T13:35:17\",\"2020-12-07T13:35:18\",\"2020-12-07T13:39:38\",\"2020-12-07T13:40:31\",\"2020-12-07T13:42:23\",\"2020-12-07T13:53:32\",\"2020-12-07T14:04:43\",\"2020-12-07T14:22:22\",\"2020-12-07T14:25:45\",\"2020-12-07T14:25:48\",\"2020-12-07T14:43:27\",\"2020-12-07T14:43:29\",\"2020-12-07T14:49:49\",\"2020-12-07T15:00:23\",\"2020-12-07T15:00:24\",\"2020-12-07T15:01:58\",\"2020-12-07T15:05:25\",\"2020-12-07T15:05:27\",\"2020-12-07T15:37:23\",\"2020-12-07T15:52:21\",\"2020-12-07T15:52:22\",\"2020-12-07T16:02:46\",\"2020-12-07T16:07:39\",\"2020-12-07T16:10:48\",\"2020-12-07T16:18:35\",\"2020-12-07T16:21:00\",\"2020-12-07T16:21:01\",\"2020-12-07T16:24:37\",\"2020-12-07T16:24:38\",\"2020-12-07T16:27:30\",\"2020-12-07T16:27:31\",\"2020-12-07T16:39:17\",\"2020-12-07T16:41:37\",\"2020-12-07T16:43:32\",\"2020-12-07T16:46:28\",\"2020-12-07T16:46:31\",\"2020-12-07T17:17:27\",\"2020-12-07T17:17:29\",\"2020-12-07T17:30:33\",\"2020-12-07T17:52:58\",\"2020-12-07T17:55:00\",\"2020-12-07T17:57:14\",\"2020-12-07T17:57:15\",\"2020-12-07T17:57:17\",\"2020-12-07T18:02:17\",\"2020-12-07T18:02:18\",\"2020-12-07T18:20:11\",\"2020-12-07T18:35:21\",\"2020-12-07T18:41:47\",\"2020-12-07T18:41:49\",\"2020-12-07T19:21:29\",\"2020-12-07T19:21:31\",\"2020-12-07T19:28:38\",\"2020-12-07T19:33:45\",\"2020-12-07T19:35:34\",\"2020-12-07T19:38:31\",\"2020-12-07T19:38:33\",\"2020-12-07T19:39:42\",\"2020-12-07T19:39:45\",\"2020-12-07T19:41:27\",\"2020-12-07T19:42:40\",\"2020-12-07T19:44:36\",\"2020-12-07T19:44:37\",\"2020-12-07T19:56:01\",\"2020-12-07T20:00:04\",\"2020-12-07T20:08:54\",\"2020-12-07T20:08:56\",\"2020-12-07T20:10:10\",\"2020-12-07T20:18:24\",\"2020-12-07T20:18:30\",\"2020-12-07T20:18:32\",\"2020-12-07T20:23:30\",\"2020-12-07T20:26:47\",\"2020-12-07T20:39:14\",\"2020-12-07T20:47:09\",\"2020-12-07T20:47:10\",\"2020-12-07T20:47:11\",\"2020-12-07T20:47:50\",\"2020-12-07T20:47:52\",\"2020-12-07T21:00:18\",\"2020-12-07T21:07:07\",\"2020-12-07T21:07:11\",\"2020-12-07T21:18:03\",\"2020-12-07T21:18:04\",\"2020-12-07T21:19:12\",\"2020-12-07T21:19:13\",\"2020-12-07T21:19:15\",\"2020-12-07T21:36:38\",\"2020-12-07T21:41:52\",\"2020-12-07T21:47:38\",\"2020-12-07T21:47:43\",\"2020-12-07T21:48:28\",\"2020-12-07T21:48:35\",\"2020-12-07T21:52:07\",\"2020-12-07T21:52:10\",\"2020-12-07T22:14:35\",\"2020-12-07T22:35:44\",\"2020-12-07T22:41:20\",\"2020-12-07T23:15:57\",\"2020-12-07T23:32:41\",\"2020-12-07T23:36:46\",\"2020-12-07T23:42:32\",\"2020-12-07T23:55:05\",\"2020-12-08T00:09:32\",\"2020-12-08T00:09:33\",\"2020-12-08T00:23:10\",\"2020-12-08T00:23:38\",\"2020-12-08T00:23:39\",\"2020-12-08T00:39:18\",\"2020-12-08T00:39:19\",\"2020-12-08T01:04:17\",\"2020-12-08T01:05:30\",\"2020-12-08T01:05:31\",\"2020-12-08T01:17:04\",\"2020-12-08T01:23:56\",\"2020-12-08T01:23:58\",\"2020-12-08T01:31:56\",\"2020-12-08T01:31:57\",\"2020-12-08T01:36:23\",\"2020-12-08T01:37:46\",\"2020-12-08T02:03:37\",\"2020-12-08T02:03:39\",\"2020-12-08T02:18:42\",\"2020-12-08T02:26:15\",\"2020-12-08T02:34:35\",\"2020-12-08T02:39:56\",\"2020-12-08T02:43:46\",\"2020-12-08T03:07:00\",\"2020-12-08T03:07:01\",\"2020-12-08T03:09:27\",\"2020-12-08T03:09:28\",\"2020-12-08T03:20:23\",\"2020-12-08T03:36:58\",\"2020-12-08T03:48:51\",\"2020-12-08T03:53:38\",\"2020-12-08T04:13:10\",\"2020-12-08T04:13:11\",\"2020-12-08T04:13:54\",\"2020-12-08T04:13:56\",\"2020-12-08T04:18:19\",\"2020-12-08T04:22:19\",\"2020-12-08T04:22:20\",\"2020-12-08T04:26:38\",\"2020-12-08T04:31:07\",\"2020-12-08T04:31:09\",\"2020-12-08T04:47:36\",\"2020-12-08T04:47:40\",\"2020-12-08T04:54:48\",\"2020-12-08T05:06:06\",\"2020-12-08T05:06:07\",\"2020-12-08T05:12:24\",\"2020-12-08T05:22:07\",\"2020-12-08T05:22:12\",\"2020-12-08T05:36:27\",\"2020-12-08T05:45:59\",\"2020-12-08T05:46:00\",\"2020-12-08T05:48:15\",\"2020-12-08T05:48:18\",\"2020-12-08T06:07:17\",\"2020-12-08T06:07:18\",\"2020-12-08T06:07:19\",\"2020-12-08T06:16:23\",\"2020-12-08T06:16:25\",\"2020-12-08T06:28:21\",\"2020-12-08T06:29:25\",\"2020-12-08T06:29:26\",\"2020-12-08T06:29:28\",\"2020-12-08T06:30:13\",\"2020-12-08T06:30:14\",\"2020-12-08T06:30:23\",\"2020-12-08T06:30:24\",\"2020-12-08T06:46:57\",\"2020-12-08T06:46:59\",\"2020-12-08T06:48:04\",\"2020-12-08T07:16:45\",\"2020-12-08T07:20:40\",\"2020-12-08T07:20:43\",\"2020-12-08T07:49:54\",\"2020-12-08T08:00:25\",\"2020-12-08T08:00:26\",\"2020-12-08T08:01:21\",\"2020-12-08T08:01:22\",\"2020-12-08T08:04:24\",\"2020-12-08T08:13:26\",\"2020-12-08T08:14:18\",\"2020-12-08T08:32:33\",\"2020-12-08T08:32:35\",\"2020-12-08T08:42:40\",\"2020-12-08T08:50:58\",\"2020-12-08T08:59:03\",\"2020-12-08T09:07:11\",\"2020-12-08T09:14:40\",\"2020-12-08T09:27:05\",\"2020-12-08T09:27:59\",\"2020-12-08T09:29:02\",\"2020-12-08T09:52:31\",\"2020-12-08T09:52:32\",\"2020-12-08T10:05:08\",\"2020-12-08T10:05:10\",\"2020-12-08T10:12:40\",\"2020-12-08T10:12:44\",\"2020-12-08T10:25:23\",\"2020-12-08T10:31:04\",\"2020-12-08T10:32:55\",\"2020-12-08T10:32:57\",\"2020-12-08T10:48:18\",\"2020-12-08T10:52:26\",\"2020-12-08T10:52:27\",\"2020-12-08T10:58:58\",\"2020-12-08T11:14:03\",\"2020-12-08T11:14:06\",\"2020-12-08T11:19:08\",\"2020-12-08T11:19:11\",\"2020-12-08T11:25:39\",\"2020-12-08T11:25:41\",\"2020-12-08T11:28:54\",\"2020-12-08T11:30:58\",\"2020-12-08T11:44:51\",\"2020-12-08T11:56:25\",\"2020-12-08T11:56:27\",\"2020-12-08T11:57:07\",\"2020-12-08T12:27:28\",\"2020-12-08T12:27:29\",\"2020-12-08T12:32:10\",\"2020-12-08T12:32:12\",\"2020-12-08T12:34:16\",\"2020-12-08T12:34:17\",\"2020-12-08T12:44:06\",\"2020-12-08T12:45:56\",\"2020-12-08T13:01:49\",\"2020-12-08T13:01:50\",\"2020-12-08T13:06:34\",\"2020-12-08T13:06:35\",\"2020-12-08T13:18:07\",\"2020-12-08T13:18:08\",\"2020-12-08T13:20:45\",\"2020-12-08T13:24:27\",\"2020-12-08T13:24:28\",\"2020-12-08T13:29:36\",\"2020-12-08T13:29:38\",\"2020-12-08T13:34:44\",\"2020-12-08T13:43:01\",\"2020-12-08T14:01:28\",\"2020-12-08T14:02:59\",\"2020-12-08T14:04:35\",\"2020-12-08T14:16:55\",\"2020-12-08T14:16:57\",\"2020-12-08T14:30:09\",\"2020-12-08T14:30:12\",\"2020-12-08T14:30:20\",\"2020-12-08T14:30:22\",\"2020-12-08T14:34:08\",\"2020-12-08T14:34:09\",\"2020-12-08T14:55:08\",\"2020-12-08T15:43:24\",\"2020-12-08T15:53:58\",\"2020-12-08T16:18:56\",\"2020-12-08T16:22:59\",\"2020-12-08T16:23:01\",\"2020-12-08T16:23:12\",\"2020-12-08T16:23:14\",\"2020-12-08T16:26:58\",\"2020-12-08T17:13:40\",\"2020-12-08T17:13:41\",\"2020-12-08T17:15:50\",\"2020-12-08T17:15:53\",\"2020-12-08T17:22:31\",\"2020-12-08T17:32:18\",\"2020-12-08T17:34:03\",\"2020-12-08T17:44:06\",\"2020-12-08T17:44:07\",\"2020-12-08T17:48:50\",\"2020-12-08T17:52:50\",\"2020-12-08T17:52:52\",\"2020-12-08T18:03:45\",\"2020-12-08T18:50:58\",\"2020-12-08T18:59:46\",\"2020-12-08T18:59:47\",\"2020-12-08T19:27:46\",\"2020-12-08T19:27:47\",\"2020-12-08T19:27:48\",\"2020-12-08T19:42:52\",\"2020-12-08T19:47:51\",\"2020-12-08T19:55:01\",\"2020-12-08T19:55:04\",\"2020-12-08T20:30:54\",\"2020-12-08T20:34:20\",\"2020-12-08T21:13:30\",\"2020-12-08T21:17:19\",\"2020-12-08T21:29:06\",\"2020-12-08T21:49:28\",\"2020-12-08T21:59:51\",\"2020-12-08T22:11:53\",\"2020-12-08T22:11:54\",\"2020-12-08T22:14:47\",\"2020-12-08T22:23:35\",\"2020-12-08T22:23:36\",\"2020-12-08T22:23:59\",\"2020-12-08T22:24:36\",\"2020-12-08T22:24:45\",\"2020-12-08T22:24:48\",\"2020-12-08T22:32:13\",\"2020-12-08T22:32:14\",\"2020-12-08T22:44:01\",\"2020-12-08T22:49:16\",\"2020-12-08T22:49:17\",\"2020-12-08T22:49:29\",\"2020-12-08T22:49:31\",\"2020-12-08T22:53:58\",\"2020-12-08T23:00:20\",\"2020-12-08T23:01:30\",\"2020-12-08T23:01:32\",\"2020-12-08T23:03:49\",\"2020-12-08T23:03:50\",\"2020-12-08T23:04:24\",\"2020-12-08T23:04:25\",\"2020-12-08T23:09:14\",\"2020-12-08T23:19:53\",\"2020-12-08T23:19:54\",\"2020-12-08T23:38:18\",\"2020-12-08T23:52:55\",\"2020-12-08T23:52:59\",\"2020-12-09T00:01:47\",\"2020-12-09T00:01:48\",\"2020-12-09T00:17:49\",\"2020-12-09T00:20:23\",\"2020-12-09T00:43:35\",\"2020-12-09T00:44:58\",\"2020-12-09T00:45:01\",\"2020-12-09T00:53:10\",\"2020-12-09T00:53:11\",\"2020-12-09T01:03:09\",\"2020-12-09T01:03:11\",\"2020-12-09T01:07:51\",\"2020-12-09T01:15:57\",\"2020-12-09T01:26:09\",\"2020-12-09T01:26:15\",\"2020-12-09T01:28:22\",\"2020-12-09T01:49:48\",\"2020-12-09T01:59:43\",\"2020-12-09T02:08:31\",\"2020-12-09T02:08:34\",\"2020-12-09T02:08:35\",\"2020-12-09T02:16:56\",\"2020-12-09T02:16:59\",\"2020-12-09T02:19:17\",\"2020-12-09T02:25:00\",\"2020-12-09T02:25:02\",\"2020-12-09T02:30:28\",\"2020-12-09T02:36:40\",\"2020-12-09T02:46:56\",\"2020-12-09T02:47:54\",\"2020-12-09T02:47:55\",\"2020-12-09T02:51:54\",\"2020-12-09T03:17:52\",\"2020-12-09T03:17:54\",\"2020-12-09T03:26:44\",\"2020-12-09T03:29:27\",\"2020-12-09T03:29:29\",\"2020-12-09T03:31:31\",\"2020-12-09T03:31:32\",\"2020-12-09T03:34:31\",\"2020-12-09T03:48:03\",\"2020-12-09T03:48:04\",\"2020-12-09T03:49:49\",\"2020-12-09T03:49:51\",\"2020-12-09T03:50:46\",\"2020-12-09T04:01:45\",\"2020-12-09T04:01:50\",\"2020-12-09T04:12:14\",\"2020-12-09T04:12:15\",\"2020-12-09T04:20:46\",\"2020-12-09T04:29:57\",\"2020-12-09T04:29:58\",\"2020-12-09T04:30:08\",\"2020-12-09T04:32:17\",\"2020-12-09T04:37:03\",\"2020-12-09T04:37:04\",\"2020-12-09T04:37:05\",\"2020-12-09T04:42:47\",\"2020-12-09T04:44:58\",\"2020-12-09T04:44:59\",\"2020-12-09T04:48:15\",\"2020-12-09T04:54:31\",\"2020-12-09T04:54:33\",\"2020-12-09T04:56:13\",\"2020-12-09T04:59:10\",\"2020-12-09T05:01:55\",\"2020-12-09T05:03:38\",\"2020-12-09T05:03:39\",\"2020-12-09T05:05:29\",\"2020-12-09T05:05:32\",\"2020-12-09T05:16:06\",\"2020-12-09T05:24:46\",\"2020-12-09T05:24:48\",\"2020-12-09T05:32:51\",\"2020-12-09T05:42:22\",\"2020-12-09T05:42:23\",\"2020-12-09T06:14:02\",\"2020-12-09T06:14:03\",\"2020-12-09T06:18:57\",\"2020-12-09T06:20:05\",\"2020-12-09T06:24:29\",\"2020-12-09T06:24:32\",\"2020-12-09T06:38:00\",\"2020-12-09T06:43:05\",\"2020-12-09T07:28:09\",\"2020-12-09T07:38:08\",\"2020-12-09T07:38:09\",\"2020-12-09T07:40:59\",\"2020-12-09T07:49:49\",\"2020-12-09T08:01:43\",\"2020-12-09T08:01:44\",\"2020-12-09T08:13:51\",\"2020-12-09T08:16:44\",\"2020-12-09T08:16:45\",\"2020-12-09T08:20:21\",\"2020-12-09T08:20:22\",\"2020-12-09T08:20:45\",\"2020-12-09T08:20:46\",\"2020-12-09T08:28:11\",\"2020-12-09T08:28:12\",\"2020-12-09T08:46:54\",\"2020-12-09T08:46:56\",\"2020-12-09T08:49:30\",\"2020-12-09T08:52:34\",\"2020-12-09T08:57:33\",\"2020-12-09T08:57:34\",\"2020-12-09T08:57:45\",\"2020-12-09T08:57:46\",\"2020-12-09T09:03:24\",\"2020-12-09T09:10:17\",\"2020-12-09T09:20:20\",\"2020-12-09T09:20:21\",\"2020-12-09T09:28:11\",\"2020-12-09T09:40:59\",\"2020-12-09T09:48:00\",\"2020-12-09T10:17:56\",\"2020-12-09T10:17:57\",\"2020-12-09T10:37:14\",\"2020-12-09T10:37:17\",\"2020-12-09T10:40:51\",\"2020-12-09T10:43:13\",\"2020-12-09T10:43:16\",\"2020-12-09T11:00:08\",\"2020-12-09T11:24:28\",\"2020-12-09T11:31:13\",\"2020-12-09T11:31:59\",\"2020-12-09T11:32:43\",\"2020-12-09T11:32:44\",\"2020-12-09T11:54:21\",\"2020-12-09T11:54:22\",\"2020-12-09T12:28:18\",\"2020-12-09T12:28:19\",\"2020-12-09T12:34:31\",\"2020-12-09T12:34:33\",\"2020-12-09T12:43:12\",\"2020-12-09T12:43:13\",\"2020-12-09T12:49:54\",\"2020-12-09T12:49:56\",\"2020-12-09T12:51:48\",\"2020-12-09T13:00:21\",\"2020-12-09T13:17:01\",\"2020-12-09T13:17:05\",\"2020-12-09T13:22:02\",\"2020-12-09T13:22:03\",\"2020-12-09T13:22:40\",\"2020-12-09T13:33:39\",\"2020-12-09T13:35:52\",\"2020-12-09T13:39:49\",\"2020-12-09T13:39:53\",\"2020-12-09T13:58:10\",\"2020-12-09T13:58:13\",\"2020-12-09T14:02:19\",\"2020-12-09T14:12:14\",\"2020-12-09T14:19:52\",\"2020-12-09T14:19:53\",\"2020-12-09T14:26:15\",\"2020-12-09T14:30:36\",\"2020-12-09T14:30:39\",\"2020-12-09T14:40:22\",\"2020-12-09T14:40:23\",\"2020-12-09T14:47:01\",\"2020-12-09T14:47:02\",\"2020-12-09T14:47:03\",\"2020-12-09T14:50:32\",\"2020-12-09T15:13:28\",\"2020-12-09T15:24:33\",\"2020-12-09T15:24:34\",\"2020-12-09T15:50:50\",\"2020-12-09T15:53:14\",\"2020-12-09T15:59:40\",\"2020-12-09T16:00:50\",\"2020-12-09T16:00:51\",\"2020-12-09T16:20:18\",\"2020-12-09T16:20:20\",\"2020-12-09T16:22:43\",\"2020-12-09T16:22:45\",\"2020-12-09T16:39:08\",\"2020-12-09T16:40:12\",\"2020-12-09T16:40:13\",\"2020-12-09T16:45:44\",\"2020-12-09T16:45:45\",\"2020-12-09T16:50:27\",\"2020-12-09T16:50:29\",\"2020-12-09T17:17:40\",\"2020-12-09T17:17:41\",\"2020-12-09T17:32:37\",\"2020-12-09T17:49:04\",\"2020-12-09T18:13:45\",\"2020-12-09T18:13:46\",\"2020-12-09T18:23:51\",\"2020-12-09T18:31:16\",\"2020-12-09T18:34:14\",\"2020-12-09T18:35:25\",\"2020-12-09T18:42:15\",\"2020-12-09T18:42:16\",\"2020-12-09T18:42:17\",\"2020-12-09T18:42:47\",\"2020-12-09T18:42:50\",\"2020-12-09T18:45:04\",\"2020-12-09T18:45:06\",\"2020-12-09T18:49:25\",\"2020-12-09T18:49:26\",\"2020-12-09T19:01:05\",\"2020-12-09T19:01:09\",\"2020-12-09T19:05:19\",\"2020-12-09T19:06:48\",\"2020-12-09T19:07:46\",\"2020-12-09T19:27:07\",\"2020-12-09T19:29:55\",\"2020-12-09T19:32:57\",\"2020-12-09T19:45:51\",\"2020-12-09T20:00:00\",\"2020-12-09T20:20:19\",\"2020-12-09T20:20:34\",\"2020-12-09T20:31:34\",\"2020-12-09T20:40:37\",\"2020-12-09T20:43:17\",\"2020-12-09T20:47:31\",\"2020-12-09T20:50:20\",\"2020-12-09T20:58:25\",\"2020-12-09T20:58:27\",\"2020-12-09T21:04:19\",\"2020-12-09T21:04:24\",\"2020-12-09T21:10:17\",\"2020-12-09T21:26:19\",\"2020-12-09T21:40:19\",\"2020-12-09T21:46:20\",\"2020-12-09T21:46:21\",\"2020-12-09T21:48:27\",\"2020-12-09T22:15:45\",\"2020-12-09T22:19:08\",\"2020-12-09T22:19:49\",\"2020-12-09T22:30:31\",\"2020-12-09T22:36:05\",\"2020-12-09T22:36:07\",\"2020-12-09T22:50:09\",\"2020-12-09T22:57:10\",\"2020-12-09T23:07:28\",\"2020-12-09T23:07:29\",\"2020-12-09T23:07:45\",\"2020-12-09T23:07:48\",\"2020-12-09T23:15:52\",\"2020-12-09T23:24:42\",\"2020-12-09T23:30:32\",\"2020-12-09T23:43:14\",\"2020-12-09T23:46:02\",\"2020-12-09T23:46:03\",\"2020-12-09T23:50:47\",\"2020-12-10T00:00:10\",\"2020-12-10T00:05:11\",\"2020-12-10T00:12:13\",\"2020-12-10T00:12:14\",\"2020-12-10T00:23:43\",\"2020-12-10T00:49:11\",\"2020-12-10T01:03:32\",\"2020-12-10T01:03:33\",\"2020-12-10T01:03:56\",\"2020-12-10T01:10:02\",\"2020-12-10T01:10:05\",\"2020-12-10T01:10:38\",\"2020-12-10T01:21:00\",\"2020-12-10T01:26:05\",\"2020-12-10T01:32:55\",\"2020-12-10T01:32:57\",\"2020-12-10T01:34:00\",\"2020-12-10T01:36:05\",\"2020-12-10T01:41:49\",\"2020-12-10T01:45:07\",\"2020-12-10T01:45:08\",\"2020-12-10T02:06:33\",\"2020-12-10T02:06:35\",\"2020-12-10T02:11:09\",\"2020-12-10T02:11:10\",\"2020-12-10T02:12:59\",\"2020-12-10T02:13:01\",\"2020-12-10T02:20:01\",\"2020-12-10T02:50:01\",\"2020-12-10T03:07:32\",\"2020-12-10T03:11:19\",\"2020-12-10T03:13:37\",\"2020-12-10T03:13:38\",\"2020-12-10T03:17:17\",\"2020-12-10T03:27:56\",\"2020-12-10T03:27:58\",\"2020-12-10T03:27:59\",\"2020-12-10T03:41:27\",\"2020-12-10T04:12:16\",\"2020-12-10T04:19:41\",\"2020-12-10T04:27:12\",\"2020-12-10T04:36:11\",\"2020-12-10T04:54:35\",\"2020-12-10T05:01:36\",\"2020-12-10T05:10:14\",\"2020-12-10T05:31:08\",\"2020-12-10T05:31:09\",\"2020-12-10T05:38:14\",\"2020-12-10T05:38:15\",\"2020-12-10T05:39:37\",\"2020-12-10T05:51:48\",\"2020-12-10T05:51:49\",\"2020-12-10T06:00:22\",\"2020-12-10T06:00:25\",\"2020-12-10T06:28:40\",\"2020-12-10T06:35:29\",\"2020-12-10T06:41:30\",\"2020-12-10T06:45:50\",\"2020-12-10T06:49:12\",\"2020-12-10T06:49:13\",\"2020-12-10T07:00:18\",\"2020-12-10T07:00:21\",\"2020-12-10T07:38:45\",\"2020-12-10T07:38:46\",\"2020-12-10T07:38:47\",\"2020-12-10T08:04:58\",\"2020-12-10T08:12:00\",\"2020-12-10T08:20:32\",\"2020-12-10T08:21:36\",\"2020-12-10T08:25:05\",\"2020-12-10T08:25:08\",\"2020-12-10T08:25:44\",\"2020-12-10T08:26:14\",\"2020-12-10T08:26:16\",\"2020-12-10T08:44:40\",\"2020-12-10T08:44:43\",\"2020-12-10T08:54:13\",\"2020-12-10T08:54:15\",\"2020-12-10T08:58:53\",\"2020-12-10T08:58:54\",\"2020-12-10T09:04:50\",\"2020-12-10T09:04:51\",\"2020-12-10T09:19:51\",\"2020-12-10T09:19:52\",\"2020-12-10T09:28:07\",\"2020-12-10T09:28:08\",\"2020-12-10T09:45:03\",\"2020-12-10T09:48:45\",\"2020-12-10T10:05:25\",\"2020-12-10T10:07:04\",\"2020-12-10T10:07:05\",\"2020-12-10T10:13:07\",\"2020-12-10T10:13:10\",\"2020-12-10T10:20:57\",\"2020-12-10T10:20:58\",\"2020-12-10T10:50:36\",\"2020-12-10T11:04:56\",\"2020-12-10T11:04:59\",\"2020-12-10T11:14:30\",\"2020-12-10T11:14:31\",\"2020-12-10T11:16:48\",\"2020-12-10T11:16:49\",\"2020-12-10T11:17:47\",\"2020-12-10T11:17:49\",\"2020-12-10T11:17:51\",\"2020-12-10T11:17:53\",\"2020-12-10T11:33:50\",\"2020-12-10T11:33:53\",\"2020-12-10T11:40:02\",\"2020-12-10T11:40:04\",\"2020-12-10T11:50:11\",\"2020-12-10T12:43:23\",\"2020-12-10T12:43:25\",\"2020-12-10T12:44:38\",\"2020-12-10T12:45:31\",\"2020-12-10T13:04:35\",\"2020-12-10T13:04:37\",\"2020-12-10T13:05:55\",\"2020-12-10T13:18:43\",\"2020-12-10T13:21:06\",\"2020-12-10T13:21:07\",\"2020-12-10T13:28:47\",\"2020-12-10T13:30:53\",\"2020-12-10T13:36:48\",\"2020-12-10T13:36:49\",\"2020-12-10T13:38:45\",\"2020-12-10T13:38:46\",\"2020-12-10T13:46:14\",\"2020-12-10T13:53:22\",\"2020-12-10T13:53:23\",\"2020-12-10T13:59:12\",\"2020-12-10T13:59:13\",\"2020-12-10T13:59:14\",\"2020-12-10T14:28:13\",\"2020-12-10T14:34:34\",\"2020-12-10T14:38:02\",\"2020-12-10T14:38:03\",\"2020-12-10T14:43:26\",\"2020-12-10T14:51:46\",\"2020-12-10T14:51:47\",\"2020-12-10T14:54:15\",\"2020-12-10T14:54:17\",\"2020-12-10T15:03:44\",\"2020-12-10T15:08:35\",\"2020-12-10T15:09:20\",\"2020-12-10T15:09:22\",\"2020-12-10T15:47:05\",\"2020-12-10T15:47:06\",\"2020-12-10T15:47:40\",\"2020-12-10T15:51:38\",\"2020-12-10T15:53:03\",\"2020-12-10T15:57:19\",\"2020-12-10T15:57:22\",\"2020-12-10T15:58:52\",\"2020-12-10T15:58:53\",\"2020-12-10T16:04:27\",\"2020-12-10T16:08:07\",\"2020-12-10T16:12:53\",\"2020-12-10T16:13:50\",\"2020-12-10T16:37:24\",\"2020-12-10T16:37:26\",\"2020-12-10T17:17:26\",\"2020-12-10T17:17:28\",\"2020-12-10T18:01:41\",\"2020-12-10T18:14:45\",\"2020-12-10T18:14:46\",\"2020-12-10T18:24:04\",\"2020-12-10T18:39:36\",\"2020-12-10T18:39:37\",\"2020-12-10T18:44:17\",\"2020-12-10T18:44:51\",\"2020-12-10T18:45:54\",\"2020-12-10T18:57:03\",\"2020-12-10T19:01:41\",\"2020-12-10T19:06:16\",\"2020-12-10T19:07:04\",\"2020-12-10T19:13:41\",\"2020-12-10T19:13:45\",\"2020-12-10T19:17:59\",\"2020-12-10T19:18:01\",\"2020-12-10T19:41:16\",\"2020-12-10T19:55:45\",\"2020-12-10T19:55:46\",\"2020-12-10T19:57:11\",\"2020-12-10T19:57:12\",\"2020-12-10T19:58:02\",\"2020-12-10T19:58:03\",\"2020-12-10T19:58:05\",\"2020-12-10T20:03:03\",\"2020-12-10T20:05:34\",\"2020-12-10T20:14:16\",\"2020-12-10T20:14:34\",\"2020-12-10T20:14:35\",\"2020-12-10T20:18:38\",\"2020-12-10T20:27:00\",\"2020-12-10T20:28:38\",\"2020-12-10T20:41:41\",\"2020-12-10T20:41:42\",\"2020-12-10T20:47:02\",\"2020-12-10T20:47:03\",\"2020-12-10T21:02:38\",\"2020-12-10T21:03:22\",\"2020-12-10T21:03:23\",\"2020-12-10T21:03:24\",\"2020-12-10T21:06:52\",\"2020-12-10T21:09:29\",\"2020-12-10T21:09:34\",\"2020-12-10T21:09:36\",\"2020-12-10T21:09:37\",\"2020-12-10T21:18:06\",\"2020-12-10T21:31:21\",\"2020-12-10T21:42:48\",\"2020-12-10T21:42:50\",\"2020-12-10T21:45:57\",\"2020-12-10T21:58:31\",\"2020-12-10T21:58:32\",\"2020-12-10T22:11:32\",\"2020-12-10T22:13:29\",\"2020-12-10T22:27:52\",\"2020-12-10T22:38:17\",\"2020-12-10T22:40:16\",\"2020-12-10T22:40:48\",\"2020-12-10T22:45:26\",\"2020-12-10T22:45:27\",\"2020-12-10T22:48:03\",\"2020-12-10T23:38:47\",\"2020-12-11T00:01:52\",\"2020-12-11T00:01:53\",\"2020-12-11T00:06:13\",\"2020-12-11T00:10:30\",\"2020-12-11T00:10:31\",\"2020-12-11T00:12:52\",\"2020-12-11T00:52:39\",\"2020-12-11T00:52:40\",\"2020-12-11T00:53:59\",\"2020-12-11T00:54:01\",\"2020-12-11T01:00:49\",\"2020-12-11T01:03:56\",\"2020-12-11T01:03:57\",\"2020-12-11T01:04:12\",\"2020-12-11T01:04:13\",\"2020-12-11T01:43:55\",\"2020-12-11T01:51:18\",\"2020-12-11T02:00:09\",\"2020-12-11T02:00:10\",\"2020-12-11T02:09:11\",\"2020-12-11T02:09:13\",\"2020-12-11T02:13:00\",\"2020-12-11T02:13:01\",\"2020-12-11T02:19:45\",\"2020-12-11T02:30:08\",\"2020-12-11T02:31:40\",\"2020-12-11T02:31:42\",\"2020-12-11T02:31:43\",\"2020-12-11T02:32:27\",\"2020-12-11T02:48:36\",\"2020-12-11T02:58:43\",\"2020-12-11T02:58:45\",\"2020-12-11T03:17:39\",\"2020-12-11T03:25:08\",\"2020-12-11T03:25:09\",\"2020-12-11T03:35:50\",\"2020-12-11T03:35:53\",\"2020-12-11T03:50:23\",\"2020-12-11T03:56:43\",\"2020-12-11T03:56:45\",\"2020-12-11T04:18:07\",\"2020-12-11T04:25:15\",\"2020-12-11T04:25:16\",\"2020-12-11T04:39:05\",\"2020-12-11T04:56:25\",\"2020-12-11T05:06:55\",\"2020-12-11T05:06:56\",\"2020-12-11T05:17:20\",\"2020-12-11T05:19:17\",\"2020-12-11T05:37:35\",\"2020-12-11T05:37:37\",\"2020-12-11T05:45:55\",\"2020-12-11T05:45:57\",\"2020-12-11T05:50:00\",\"2020-12-11T05:54:45\",\"2020-12-11T05:54:47\",\"2020-12-11T05:56:46\",\"2020-12-11T05:56:51\",\"2020-12-11T05:56:54\",\"2020-12-11T06:07:27\",\"2020-12-11T06:16:20\",\"2020-12-11T06:16:21\",\"2020-12-11T06:34:38\",\"2020-12-11T06:59:38\",\"2020-12-11T07:00:53\",\"2020-12-11T07:04:14\",\"2020-12-11T07:10:14\",\"2020-12-11T07:14:29\",\"2020-12-11T07:18:51\",\"2020-12-11T07:19:03\",\"2020-12-11T07:22:03\",\"2020-12-11T07:22:05\",\"2020-12-11T07:23:10\",\"2020-12-11T07:25:16\",\"2020-12-11T07:25:59\",\"2020-12-11T07:26:00\",\"2020-12-11T07:31:53\",\"2020-12-11T07:38:31\",\"2020-12-11T07:44:26\",\"2020-12-11T07:54:20\",\"2020-12-11T07:59:52\",\"2020-12-11T08:10:09\",\"2020-12-11T08:21:25\",\"2020-12-11T08:21:26\",\"2020-12-11T08:29:29\",\"2020-12-11T08:30:40\",\"2020-12-11T08:30:55\",\"2020-12-11T08:30:57\",\"2020-12-11T08:42:12\",\"2020-12-11T08:49:42\",\"2020-12-11T08:54:14\",\"2020-12-11T08:54:15\",\"2020-12-11T08:54:43\",\"2020-12-11T08:58:27\",\"2020-12-11T09:01:10\",\"2020-12-11T09:01:11\",\"2020-12-11T09:01:33\",\"2020-12-11T09:15:07\",\"2020-12-11T09:21:56\",\"2020-12-11T09:21:58\",\"2020-12-11T09:27:22\",\"2020-12-11T09:27:24\",\"2020-12-11T09:36:14\",\"2020-12-11T09:36:16\",\"2020-12-11T09:40:23\",\"2020-12-11T09:40:25\",\"2020-12-11T09:46:09\",\"2020-12-11T09:46:11\",\"2020-12-11T10:01:58\",\"2020-12-11T10:15:55\",\"2020-12-11T10:15:58\",\"2020-12-11T10:33:36\",\"2020-12-11T10:33:37\",\"2020-12-11T10:50:13\",\"2020-12-11T10:57:50\",\"2020-12-11T10:59:49\",\"2020-12-11T10:59:57\",\"2020-12-11T11:00:39\",\"2020-12-11T11:02:46\",\"2020-12-11T11:02:47\",\"2020-12-11T11:08:17\",\"2020-12-11T11:15:48\",\"2020-12-11T11:15:49\",\"2020-12-11T11:16:37\",\"2020-12-11T11:20:48\",\"2020-12-11T11:20:49\",\"2020-12-11T11:48:30\",\"2020-12-11T11:50:56\",\"2020-12-11T11:53:23\",\"2020-12-11T11:57:55\",\"2020-12-11T12:01:03\",\"2020-12-11T12:20:33\",\"2020-12-11T12:20:35\",\"2020-12-11T12:21:14\",\"2020-12-11T12:26:36\",\"2020-12-11T12:26:38\",\"2020-12-11T12:38:21\",\"2020-12-11T12:42:53\",\"2020-12-11T12:42:55\",\"2020-12-11T12:52:32\",\"2020-12-11T12:59:58\",\"2020-12-11T13:06:02\",\"2020-12-11T13:06:04\",\"2020-12-11T13:08:04\",\"2020-12-11T13:08:06\",\"2020-12-11T13:20:19\",\"2020-12-11T13:25:04\",\"2020-12-11T13:25:05\",\"2020-12-11T13:25:06\",\"2020-12-11T13:33:00\",\"2020-12-11T13:33:03\",\"2020-12-11T13:33:40\",\"2020-12-11T14:03:58\",\"2020-12-11T14:04:01\",\"2020-12-11T14:11:12\",\"2020-12-11T14:11:13\",\"2020-12-11T14:13:14\",\"2020-12-11T14:21:10\",\"2020-12-11T14:30:10\",\"2020-12-11T14:30:15\",\"2020-12-11T14:57:40\",\"2020-12-11T15:11:46\",\"2020-12-11T15:14:34\",\"2020-12-11T15:14:35\",\"2020-12-11T15:14:36\",\"2020-12-11T15:14:37\",\"2020-12-11T15:15:52\",\"2020-12-11T15:23:22\",\"2020-12-11T15:23:23\",\"2020-12-11T15:23:32\",\"2020-12-11T15:24:28\",\"2020-12-11T15:25:11\",\"2020-12-11T15:39:20\",\"2020-12-11T15:43:52\",\"2020-12-11T15:51:49\",\"2020-12-11T15:51:50\",\"2020-12-11T15:56:32\",\"2020-12-11T16:08:20\",\"2020-12-11T16:11:43\",\"2020-12-11T16:13:40\",\"2020-12-11T16:13:41\",\"2020-12-11T16:41:11\",\"2020-12-11T16:41:13\",\"2020-12-11T16:48:29\",\"2020-12-11T16:48:32\",\"2020-12-11T16:57:05\",\"2020-12-11T16:57:06\",\"2020-12-11T16:58:53\",\"2020-12-11T16:58:57\",\"2020-12-11T17:04:42\",\"2020-12-11T17:15:28\",\"2020-12-11T17:25:59\",\"2020-12-11T17:28:10\",\"2020-12-11T17:48:48\",\"2020-12-11T18:12:57\",\"2020-12-11T18:12:59\",\"2020-12-11T18:13:17\",\"2020-12-11T18:14:48\",\"2020-12-11T18:14:50\",\"2020-12-11T18:30:44\",\"2020-12-11T18:42:39\",\"2020-12-11T18:42:40\",\"2020-12-11T18:45:52\",\"2020-12-11T18:48:47\",\"2020-12-11T18:59:02\",\"2020-12-11T19:06:44\",\"2020-12-11T19:13:20\",\"2020-12-11T19:17:29\",\"2020-12-11T19:17:33\",\"2020-12-11T19:19:51\",\"2020-12-11T19:19:55\",\"2020-12-11T19:35:52\",\"2020-12-11T19:35:54\",\"2020-12-11T19:37:46\",\"2020-12-11T19:42:43\",\"2020-12-11T19:46:06\",\"2020-12-11T19:46:07\",\"2020-12-11T19:56:00\",\"2020-12-11T20:25:42\",\"2020-12-11T20:25:44\",\"2020-12-11T20:50:16\",\"2020-12-11T20:52:09\",\"2020-12-11T21:06:51\",\"2020-12-11T21:06:53\",\"2020-12-11T21:08:17\",\"2020-12-11T21:08:18\",\"2020-12-11T21:18:51\",\"2020-12-11T21:18:52\",\"2020-12-11T21:18:54\",\"2020-12-11T21:54:49\",\"2020-12-11T21:57:34\",\"2020-12-11T22:08:34\",\"2020-12-11T22:09:57\",\"2020-12-11T22:11:09\",\"2020-12-11T22:20:24\",\"2020-12-11T22:20:25\",\"2020-12-11T22:28:15\",\"2020-12-11T22:39:46\",\"2020-12-11T22:45:30\",\"2020-12-11T22:47:21\",\"2020-12-11T23:13:31\",\"2020-12-11T23:22:02\",\"2020-12-11T23:22:03\",\"2020-12-11T23:43:28\",\"2020-12-11T23:43:30\",\"2020-12-11T23:44:09\",\"2020-12-11T23:44:11\",\"2020-12-11T23:55:51\",\"2020-12-11T23:55:52\",\"2020-12-11T23:58:33\",\"2020-12-12T00:11:43\",\"2020-12-12T00:11:44\",\"2020-12-12T00:23:15\",\"2020-12-12T00:58:11\",\"2020-12-12T01:02:12\",\"2020-12-12T01:03:50\",\"2020-12-12T01:03:51\",\"2020-12-12T01:28:49\",\"2020-12-12T01:28:50\",\"2020-12-12T01:40:13\",\"2020-12-12T01:40:15\",\"2020-12-12T01:48:44\",\"2020-12-12T01:48:48\",\"2020-12-12T01:54:32\",\"2020-12-12T01:54:34\",\"2020-12-12T01:58:22\",\"2020-12-12T02:08:26\",\"2020-12-12T02:12:43\",\"2020-12-12T02:12:45\",\"2020-12-12T02:29:59\",\"2020-12-12T02:30:00\",\"2020-12-12T02:44:54\",\"2020-12-12T02:47:16\",\"2020-12-12T03:03:41\",\"2020-12-12T03:03:45\",\"2020-12-12T03:08:20\",\"2020-12-12T03:08:22\",\"2020-12-12T03:11:34\",\"2020-12-12T03:16:00\",\"2020-12-12T03:33:53\",\"2020-12-12T03:33:55\",\"2020-12-12T03:38:09\",\"2020-12-12T03:38:10\",\"2020-12-12T03:53:05\",\"2020-12-12T04:04:08\",\"2020-12-12T04:43:12\",\"2020-12-12T04:54:42\",\"2020-12-12T05:05:39\",\"2020-12-12T05:05:43\",\"2020-12-12T05:20:24\",\"2020-12-12T05:20:26\",\"2020-12-12T05:21:43\",\"2020-12-12T05:30:51\",\"2020-12-12T05:31:16\",\"2020-12-12T05:31:18\",\"2020-12-12T05:45:12\",\"2020-12-12T05:47:50\",\"2020-12-12T05:58:26\",\"2020-12-12T06:04:04\",\"2020-12-12T06:04:05\",\"2020-12-12T06:15:32\",\"2020-12-12T06:15:34\",\"2020-12-12T06:19:19\",\"2020-12-12T06:20:38\",\"2020-12-12T06:20:39\",\"2020-12-12T06:24:49\",\"2020-12-12T06:45:43\",\"2020-12-12T06:52:20\",\"2020-12-12T06:54:37\",\"2020-12-12T07:19:57\",\"2020-12-12T07:28:13\",\"2020-12-12T07:30:13\",\"2020-12-12T07:30:18\",\"2020-12-12T07:33:49\",\"2020-12-12T07:33:50\",\"2020-12-12T07:51:36\",\"2020-12-12T07:51:37\",\"2020-12-12T07:51:38\",\"2020-12-12T07:52:29\",\"2020-12-12T07:54:02\",\"2020-12-12T07:54:03\",\"2020-12-12T07:58:37\",\"2020-12-12T07:58:38\",\"2020-12-12T07:59:24\",\"2020-12-12T08:02:57\",\"2020-12-12T08:03:00\",\"2020-12-12T08:03:52\",\"2020-12-12T08:03:55\",\"2020-12-12T08:06:22\",\"2020-12-12T08:06:23\",\"2020-12-12T08:08:19\",\"2020-12-12T08:08:21\",\"2020-12-12T08:08:22\",\"2020-12-12T08:24:15\",\"2020-12-12T08:24:16\",\"2020-12-12T08:27:57\",\"2020-12-12T08:34:35\",\"2020-12-12T08:34:37\",\"2020-12-12T08:38:57\",\"2020-12-12T08:45:30\",\"2020-12-12T08:45:32\",\"2020-12-12T08:45:42\",\"2020-12-12T08:45:44\",\"2020-12-12T09:03:12\",\"2020-12-12T09:06:29\",\"2020-12-12T09:09:06\",\"2020-12-12T09:11:22\",\"2020-12-12T09:13:50\",\"2020-12-12T09:14:50\",\"2020-12-12T09:21:49\",\"2020-12-12T09:21:50\",\"2020-12-12T09:26:47\",\"2020-12-12T09:53:52\",\"2020-12-12T10:01:40\",\"2020-12-12T10:02:17\",\"2020-12-12T10:02:18\",\"2020-12-12T10:05:28\",\"2020-12-12T10:05:31\",\"2020-12-12T10:11:18\",\"2020-12-12T10:20:36\",\"2020-12-12T10:20:37\",\"2020-12-12T10:30:15\",\"2020-12-12T10:30:17\",\"2020-12-12T10:40:48\",\"2020-12-12T10:50:59\",\"2020-12-12T10:51:01\",\"2020-12-12T10:57:09\",\"2020-12-12T11:36:39\",\"2020-12-12T11:49:44\",\"2020-12-12T11:54:52\",\"2020-12-12T11:54:53\",\"2020-12-12T12:21:19\",\"2020-12-12T12:21:20\",\"2020-12-12T12:29:22\",\"2020-12-12T12:29:23\",\"2020-12-12T12:29:34\",\"2020-12-12T12:34:56\",\"2020-12-12T12:35:56\",\"2020-12-12T12:35:57\",\"2020-12-12T12:41:29\",\"2020-12-12T12:41:30\",\"2020-12-12T12:45:14\",\"2020-12-12T13:00:15\",\"2020-12-12T13:08:13\",\"2020-12-12T13:08:16\",\"2020-12-12T13:14:37\",\"2020-12-12T13:14:38\",\"2020-12-12T13:14:39\",\"2020-12-12T13:16:27\",\"2020-12-12T13:22:48\",\"2020-12-12T13:23:45\",\"2020-12-12T13:32:47\",\"2020-12-12T13:42:18\",\"2020-12-12T13:46:40\",\"2020-12-12T13:46:42\",\"2020-12-12T13:49:32\",\"2020-12-12T13:49:34\",\"2020-12-12T14:05:59\",\"2020-12-12T14:18:20\",\"2020-12-12T14:20:43\",\"2020-12-12T14:21:13\",\"2020-12-12T14:21:24\",\"2020-12-12T14:21:25\",\"2020-12-12T14:41:42\",\"2020-12-12T14:58:41\",\"2020-12-12T14:58:42\",\"2020-12-12T15:08:32\",\"2020-12-12T15:08:33\",\"2020-12-12T15:27:26\",\"2020-12-12T15:39:59\",\"2020-12-12T15:47:45\",\"2020-12-12T16:19:26\",\"2020-12-12T16:19:27\",\"2020-12-12T16:19:45\",\"2020-12-12T16:34:46\",\"2020-12-12T16:34:47\",\"2020-12-12T16:37:41\",\"2020-12-12T16:37:43\",\"2020-12-12T17:05:26\",\"2020-12-12T17:14:01\",\"2020-12-12T17:14:03\",\"2020-12-12T17:16:12\",\"2020-12-12T17:16:14\",\"2020-12-12T17:17:25\",\"2020-12-12T17:24:27\",\"2020-12-12T17:24:28\",\"2020-12-12T17:25:01\",\"2020-12-12T17:32:21\",\"2020-12-12T17:41:42\",\"2020-12-12T17:49:24\",\"2020-12-12T18:23:55\",\"2020-12-12T18:23:56\",\"2020-12-12T18:29:03\",\"2020-12-12T18:32:27\",\"2020-12-12T18:32:30\",\"2020-12-12T18:33:46\",\"2020-12-12T18:48:12\",\"2020-12-12T19:02:17\",\"2020-12-12T19:02:18\",\"2020-12-12T19:05:12\",\"2020-12-12T19:16:32\",\"2020-12-12T19:16:34\",\"2020-12-12T19:20:52\",\"2020-12-12T19:20:54\",\"2020-12-12T19:33:07\",\"2020-12-12T19:54:26\",\"2020-12-12T19:55:23\",\"2020-12-12T20:15:56\",\"2020-12-12T20:27:55\",\"2020-12-12T20:27:56\",\"2020-12-12T20:33:16\",\"2020-12-12T20:52:11\",\"2020-12-12T20:52:12\",\"2020-12-12T20:52:37\",\"2020-12-12T20:52:41\",\"2020-12-12T20:57:45\",\"2020-12-12T20:57:46\",\"2020-12-12T20:59:19\",\"2020-12-12T20:59:20\",\"2020-12-12T21:01:56\",\"2020-12-12T21:01:58\",\"2020-12-12T21:19:47\",\"2020-12-12T21:20:04\",\"2020-12-12T21:20:05\",\"2020-12-12T21:20:52\",\"2020-12-12T21:21:48\",\"2020-12-12T21:35:24\",\"2020-12-12T21:35:25\",\"2020-12-12T21:46:53\",\"2020-12-12T21:55:44\",\"2020-12-12T21:55:45\",\"2020-12-12T22:03:25\",\"2020-12-12T22:03:27\",\"2020-12-12T22:05:32\",\"2020-12-12T22:06:17\",\"2020-12-12T22:06:19\",\"2020-12-12T22:12:34\",\"2020-12-12T22:14:42\",\"2020-12-12T22:17:59\",\"2020-12-12T22:18:00\",\"2020-12-12T22:30:50\",\"2020-12-12T22:30:52\",\"2020-12-12T22:30:53\",\"2020-12-12T22:34:18\",\"2020-12-12T22:35:13\",\"2020-12-12T22:40:50\",\"2020-12-12T22:40:51\",\"2020-12-12T22:59:05\",\"2020-12-12T22:59:33\",\"2020-12-12T23:15:03\",\"2020-12-12T23:15:32\",\"2020-12-12T23:20:26\",\"2020-12-12T23:46:08\",\"2020-12-12T23:49:20\",\"2020-12-12T23:56:30\",\"2020-12-13T00:24:28\",\"2020-12-13T00:25:05\",\"2020-12-13T00:25:06\",\"2020-12-13T00:29:48\",\"2020-12-13T00:43:07\",\"2020-12-13T00:51:50\",\"2020-12-13T00:51:52\",\"2020-12-13T00:59:42\",\"2020-12-13T01:03:03\",\"2020-12-13T01:10:07\",\"2020-12-13T01:10:08\",\"2020-12-13T01:13:01\",\"2020-12-13T01:15:10\",\"2020-12-13T01:22:15\",\"2020-12-13T01:22:16\",\"2020-12-13T01:23:29\",\"2020-12-13T01:23:37\",\"2020-12-13T01:28:18\",\"2020-12-13T01:33:20\",\"2020-12-13T01:40:22\",\"2020-12-13T01:40:23\",\"2020-12-13T01:42:37\",\"2020-12-13T01:47:12\",\"2020-12-13T01:47:13\",\"2020-12-13T01:49:27\",\"2020-12-13T01:49:28\",\"2020-12-13T01:49:30\",\"2020-12-13T01:50:41\",\"2020-12-13T01:50:42\",\"2020-12-13T01:53:43\",\"2020-12-13T01:53:44\",\"2020-12-13T01:55:01\",\"2020-12-13T02:33:48\",\"2020-12-13T02:33:52\",\"2020-12-13T02:36:44\",\"2020-12-13T02:36:46\",\"2020-12-13T02:38:03\",\"2020-12-13T02:38:04\",\"2020-12-13T02:51:52\",\"2020-12-13T02:51:54\",\"2020-12-13T02:52:06\",\"2020-12-13T02:54:34\",\"2020-12-13T03:04:53\",\"2020-12-13T03:33:41\",\"2020-12-13T03:33:43\",\"2020-12-13T03:36:37\",\"2020-12-13T03:49:54\",\"2020-12-13T04:14:19\",\"2020-12-13T04:14:20\",\"2020-12-13T04:18:28\",\"2020-12-13T04:18:29\",\"2020-12-13T04:20:35\",\"2020-12-13T04:31:32\",\"2020-12-13T04:44:00\",\"2020-12-13T04:44:01\",\"2020-12-13T04:58:08\",\"2020-12-13T05:09:46\",\"2020-12-13T05:09:49\",\"2020-12-13T05:10:50\",\"2020-12-13T05:10:51\",\"2020-12-13T05:10:53\",\"2020-12-13T05:48:49\",\"2020-12-13T05:54:30\",\"2020-12-13T06:00:21\",\"2020-12-13T06:00:30\",\"2020-12-13T06:02:33\",\"2020-12-13T06:08:05\",\"2020-12-13T06:16:57\",\"2020-12-13T06:49:45\",\"2020-12-13T06:50:25\",\"2020-12-13T06:55:20\",\"2020-12-13T06:55:22\",\"2020-12-13T07:01:52\",\"2020-12-13T07:11:44\",\"2020-12-13T07:11:47\",\"2020-12-13T07:12:01\",\"2020-12-13T07:12:02\",\"2020-12-13T07:18:09\",\"2020-12-13T07:18:12\",\"2020-12-13T07:22:07\",\"2020-12-13T07:22:08\",\"2020-12-13T07:23:46\",\"2020-12-13T07:23:48\",\"2020-12-13T07:28:00\",\"2020-12-13T07:49:41\",\"2020-12-13T07:51:01\",\"2020-12-13T07:59:00\",\"2020-12-13T08:05:00\",\"2020-12-13T08:22:50\",\"2020-12-13T08:26:07\",\"2020-12-13T08:28:22\",\"2020-12-13T08:31:01\",\"2020-12-13T08:33:53\",\"2020-12-13T08:42:33\",\"2020-12-13T08:51:23\",\"2020-12-13T08:51:27\",\"2020-12-13T08:51:28\",\"2020-12-13T08:56:45\",\"2020-12-13T08:56:46\",\"2020-12-13T09:08:33\",\"2020-12-13T09:08:34\",\"2020-12-13T09:08:35\",\"2020-12-13T09:08:52\",\"2020-12-13T09:08:53\",\"2020-12-13T09:31:04\",\"2020-12-13T09:48:51\",\"2020-12-13T09:58:29\",\"2020-12-13T10:36:55\",\"2020-12-13T10:36:58\",\"2020-12-13T10:37:30\",\"2020-12-13T10:37:33\",\"2020-12-13T10:51:37\",\"2020-12-13T10:51:38\",\"2020-12-13T10:59:28\",\"2020-12-13T11:03:56\",\"2020-12-13T11:04:57\",\"2020-12-13T11:09:38\",\"2020-12-13T11:17:32\",\"2020-12-13T11:28:31\",\"2020-12-13T11:42:18\",\"2020-12-13T11:42:20\",\"2020-12-13T11:44:59\",\"2020-12-13T11:45:01\",\"2020-12-13T11:47:30\",\"2020-12-13T12:08:09\",\"2020-12-13T12:38:13\",\"2020-12-13T12:42:54\",\"2020-12-13T12:43:38\",\"2020-12-13T12:46:13\",\"2020-12-13T12:46:14\",\"2020-12-13T12:58:05\",\"2020-12-13T13:02:20\",\"2020-12-13T13:55:12\",\"2020-12-13T13:55:13\",\"2020-12-13T13:55:14\",\"2020-12-13T13:56:46\",\"2020-12-13T13:59:23\",\"2020-12-13T14:31:21\",\"2020-12-13T14:31:23\",\"2020-12-13T14:34:58\",\"2020-12-13T14:54:38\",\"2020-12-13T14:54:40\",\"2020-12-13T14:54:55\",\"2020-12-13T14:56:06\",\"2020-12-13T15:06:12\",\"2020-12-13T15:06:13\",\"2020-12-13T15:20:24\",\"2020-12-13T15:24:13\",\"2020-12-13T15:24:15\",\"2020-12-13T15:25:56\",\"2020-12-13T15:25:57\",\"2020-12-13T15:46:24\",\"2020-12-13T15:57:35\",\"2020-12-13T16:07:53\",\"2020-12-13T16:09:46\",\"2020-12-13T16:11:50\",\"2020-12-13T16:11:52\",\"2020-12-13T16:28:49\",\"2020-12-13T16:39:23\",\"2020-12-13T16:42:25\",\"2020-12-13T17:05:58\",\"2020-12-13T17:06:01\",\"2020-12-13T17:06:09\",\"2020-12-13T17:06:55\",\"2020-12-13T17:29:00\",\"2020-12-13T17:29:01\",\"2020-12-13T17:51:07\",\"2020-12-13T17:51:08\",\"2020-12-13T17:59:04\",\"2020-12-13T18:09:44\",\"2020-12-13T18:09:45\",\"2020-12-13T18:23:51\",\"2020-12-13T18:40:45\",\"2020-12-13T18:40:46\",\"2020-12-13T18:46:05\",\"2020-12-13T18:46:06\",\"2020-12-13T18:52:00\",\"2020-12-13T18:52:03\",\"2020-12-13T19:29:32\",\"2020-12-13T19:37:06\",\"2020-12-13T19:37:44\",\"2020-12-13T20:01:18\",\"2020-12-13T20:02:45\",\"2020-12-13T20:02:48\",\"2020-12-13T20:02:49\",\"2020-12-13T20:02:50\",\"2020-12-13T20:16:02\",\"2020-12-13T20:18:52\",\"2020-12-13T20:48:32\",\"2020-12-13T20:48:34\",\"2020-12-13T20:57:09\",\"2020-12-13T20:57:11\",\"2020-12-13T21:20:16\",\"2020-12-13T21:41:13\",\"2020-12-13T21:57:23\",\"2020-12-13T22:02:05\",\"2020-12-13T22:02:06\",\"2020-12-13T22:06:49\",\"2020-12-13T22:11:47\",\"2020-12-13T22:36:50\",\"2020-12-13T22:36:52\",\"2020-12-13T22:39:19\",\"2020-12-13T22:39:22\",\"2020-12-13T22:39:32\",\"2020-12-13T22:39:34\",\"2020-12-13T22:42:28\",\"2020-12-13T22:57:31\",\"2020-12-13T23:06:14\",\"2020-12-13T23:06:16\",\"2020-12-13T23:06:32\",\"2020-12-13T23:06:33\",\"2020-12-13T23:06:34\",\"2020-12-13T23:14:15\",\"2020-12-13T23:14:17\",\"2020-12-13T23:18:06\",\"2020-12-13T23:36:52\",\"2020-12-13T23:36:53\",\"2020-12-13T23:49:40\",\"2020-12-13T23:50:24\",\"2020-12-14T00:03:17\",\"2020-12-14T00:09:40\",\"2020-12-14T00:16:23\",\"2020-12-14T00:20:58\",\"2020-12-14T00:31:50\",\"2020-12-14T00:47:27\",\"2020-12-14T00:47:43\",\"2020-12-14T00:47:44\",\"2020-12-14T00:47:45\",\"2020-12-14T00:49:00\",\"2020-12-14T00:49:02\",\"2020-12-14T00:50:30\",\"2020-12-14T00:55:59\",\"2020-12-14T00:57:26\",\"2020-12-14T01:01:02\",\"2020-12-14T01:01:03\",\"2020-12-14T01:01:38\",\"2020-12-14T01:04:12\",\"2020-12-14T01:08:56\",\"2020-12-14T01:08:58\",\"2020-12-14T01:13:02\",\"2020-12-14T01:15:27\",\"2020-12-14T01:18:08\",\"2020-12-14T01:20:57\",\"2020-12-14T01:20:59\",\"2020-12-14T01:22:02\",\"2020-12-14T01:22:04\",\"2020-12-14T01:25:25\",\"2020-12-14T01:25:26\",\"2020-12-14T01:28:23\",\"2020-12-14T01:35:40\",\"2020-12-14T01:35:42\",\"2020-12-14T01:37:21\",\"2020-12-14T01:37:26\",\"2020-12-14T01:40:20\",\"2020-12-14T01:41:40\",\"2020-12-14T01:41:41\",\"2020-12-14T01:41:43\",\"2020-12-14T01:47:03\",\"2020-12-14T01:47:04\",\"2020-12-14T01:50:10\",\"2020-12-14T01:50:11\",\"2020-12-14T01:51:12\",\"2020-12-14T01:54:45\",\"2020-12-14T01:56:04\",\"2020-12-14T02:00:26\",\"2020-12-14T02:06:07\",\"2020-12-14T02:06:08\",\"2020-12-14T02:06:26\",\"2020-12-14T02:06:27\",\"2020-12-14T02:07:00\",\"2020-12-14T02:10:39\",\"2020-12-14T02:11:15\",\"2020-12-14T02:11:44\",\"2020-12-14T02:12:44\",\"2020-12-14T02:25:14\",\"2020-12-14T02:25:22\",\"2020-12-14T02:27:04\",\"2020-12-14T02:29:36\",\"2020-12-14T02:32:06\",\"2020-12-14T02:32:07\",\"2020-12-14T02:36:31\",\"2020-12-14T02:37:00\",\"2020-12-14T02:39:15\",\"2020-12-14T02:39:16\",\"2020-12-14T02:41:34\",\"2020-12-14T02:41:36\",\"2020-12-14T02:41:37\",\"2020-12-14T02:42:06\",\"2020-12-14T02:45:13\",\"2020-12-14T02:45:14\",\"2020-12-14T02:47:59\",\"2020-12-14T03:00:02\",\"2020-12-14T03:00:04\",\"2020-12-14T03:00:50\",\"2020-12-14T03:02:36\",\"2020-12-14T03:03:12\",\"2020-12-14T03:05:23\",\"2020-12-14T03:06:58\",\"2020-12-14T03:08:58\",\"2020-12-14T03:09:01\",\"2020-12-14T03:16:07\",\"2020-12-14T03:16:09\",\"2020-12-14T03:18:31\",\"2020-12-14T03:18:35\",\"2020-12-14T03:20:36\",\"2020-12-14T03:20:37\",\"2020-12-14T03:20:49\",\"2020-12-14T03:22:20\",\"2020-12-14T03:23:21\",\"2020-12-14T03:23:22\",\"2020-12-14T03:23:24\",\"2020-12-14T03:26:16\",\"2020-12-14T03:26:19\",\"2020-12-14T03:34:26\",\"2020-12-14T03:34:51\",\"2020-12-14T03:34:53\",\"2020-12-14T03:35:06\",\"2020-12-14T03:36:52\",\"2020-12-14T03:39:52\",\"2020-12-14T03:39:55\",\"2020-12-14T03:43:19\",\"2020-12-14T03:45:00\",\"2020-12-14T03:46:34\",\"2020-12-14T03:47:00\",\"2020-12-14T03:49:02\",\"2020-12-14T03:49:03\",\"2020-12-14T03:53:44\",\"2020-12-14T03:53:46\",\"2020-12-14T03:55:17\",\"2020-12-14T03:57:32\",\"2020-12-14T03:57:33\",\"2020-12-14T04:00:11\",\"2020-12-14T04:00:12\",\"2020-12-14T04:03:46\",\"2020-12-14T04:04:07\",\"2020-12-14T04:04:08\",\"2020-12-14T04:04:31\",\"2020-12-14T04:04:46\",\"2020-12-14T04:07:36\",\"2020-12-14T04:08:25\",\"2020-12-14T04:18:48\",\"2020-12-14T04:18:52\",\"2020-12-14T04:18:53\",\"2020-12-14T04:19:47\",\"2020-12-14T04:19:50\",\"2020-12-14T04:20:56\",\"2020-12-14T04:20:58\",\"2020-12-14T04:21:41\",\"2020-12-14T04:22:01\",\"2020-12-14T04:23:28\",\"2020-12-14T04:23:31\",\"2020-12-14T04:27:18\",\"2020-12-14T04:31:31\",\"2020-12-14T04:31:34\",\"2020-12-14T04:33:44\",\"2020-12-14T04:33:49\",\"2020-12-14T04:35:53\",\"2020-12-14T04:38:34\",\"2020-12-14T04:39:25\",\"2020-12-14T04:45:52\",\"2020-12-14T04:45:54\",\"2020-12-14T04:46:01\",\"2020-12-14T04:48:41\",\"2020-12-14T04:48:44\",\"2020-12-14T04:49:44\",\"2020-12-14T04:56:33\",\"2020-12-14T04:58:48\",\"2020-12-14T04:58:49\",\"2020-12-14T05:00:08\",\"2020-12-14T05:00:11\",\"2020-12-14T05:11:03\",\"2020-12-14T05:12:46\",\"2020-12-14T05:12:48\",\"2020-12-14T05:24:54\",\"2020-12-14T05:24:57\",\"2020-12-14T05:28:40\",\"2020-12-14T05:28:41\",\"2020-12-14T05:30:32\",\"2020-12-14T05:31:01\",\"2020-12-14T05:33:00\",\"2020-12-14T05:33:01\",\"2020-12-14T05:34:52\",\"2020-12-14T05:38:01\",\"2020-12-14T05:38:04\",\"2020-12-14T05:48:50\",\"2020-12-14T05:48:51\",\"2020-12-14T05:52:38\",\"2020-12-14T05:53:24\",\"2020-12-14T05:53:27\",\"2020-12-14T05:53:32\",\"2020-12-14T05:55:20\",\"2020-12-14T05:55:22\",\"2020-12-14T06:00:00\",\"2020-12-14T06:01:33\",\"2020-12-14T06:01:37\",\"2020-12-14T06:03:53\",\"2020-12-14T06:07:42\",\"2020-12-14T06:11:24\",\"2020-12-14T06:11:25\",\"2020-12-14T06:12:20\",\"2020-12-14T06:12:21\",\"2020-12-14T06:12:22\",\"2020-12-14T06:15:11\",\"2020-12-14T06:15:12\",\"2020-12-14T06:16:00\",\"2020-12-14T06:16:03\",\"2020-12-14T06:16:35\",\"2020-12-14T06:17:30\",\"2020-12-14T06:17:33\",\"2020-12-14T06:20:00\",\"2020-12-14T06:20:01\",\"2020-12-14T06:22:31\",\"2020-12-14T06:22:33\",\"2020-12-14T06:26:07\",\"2020-12-14T06:26:11\",\"2020-12-14T06:27:37\",\"2020-12-14T06:28:11\",\"2020-12-14T06:28:13\",\"2020-12-14T06:28:14\",\"2020-12-14T06:30:35\",\"2020-12-14T06:30:46\",\"2020-12-14T06:30:47\",\"2020-12-14T06:31:38\",\"2020-12-14T06:35:05\",\"2020-12-14T06:58:48\",\"2020-12-14T06:58:50\",\"2020-12-14T07:03:21\",\"2020-12-14T07:11:23\",\"2020-12-14T07:11:24\",\"2020-12-14T07:11:53\",\"2020-12-14T07:11:58\",\"2020-12-14T07:19:38\",\"2020-12-14T07:19:40\",\"2020-12-14T07:21:21\",\"2020-12-14T07:27:24\",\"2020-12-14T07:28:03\",\"2020-12-14T07:29:19\",\"2020-12-14T07:29:20\",\"2020-12-14T07:29:56\",\"2020-12-14T07:40:20\",\"2020-12-14T07:42:37\",\"2020-12-14T07:46:16\",\"2020-12-14T07:47:36\",\"2020-12-14T07:48:23\",\"2020-12-14T07:48:25\",\"2020-12-14T07:58:46\",\"2020-12-14T08:06:35\",\"2020-12-14T08:18:47\",\"2020-12-14T08:18:49\",\"2020-12-14T08:21:45\",\"2020-12-14T08:21:47\",\"2020-12-14T08:25:17\",\"2020-12-14T08:25:19\",\"2020-12-14T08:29:24\",\"2020-12-14T08:29:55\",\"2020-12-14T08:29:56\",\"2020-12-14T08:30:22\",\"2020-12-14T08:30:24\",\"2020-12-14T08:31:50\",\"2020-12-14T08:31:51\",\"2020-12-14T08:32:04\",\"2020-12-14T08:32:05\",\"2020-12-14T08:37:49\",\"2020-12-14T08:37:50\",\"2020-12-14T08:37:54\",\"2020-12-14T08:40:01\",\"2020-12-14T08:40:03\",\"2020-12-14T08:40:53\",\"2020-12-14T08:53:17\",\"2020-12-14T08:54:03\",\"2020-12-14T08:54:04\",\"2020-12-14T09:04:08\",\"2020-12-14T09:04:15\",\"2020-12-14T09:04:25\",\"2020-12-14T09:08:53\",\"2020-12-14T09:08:54\",\"2020-12-14T09:11:06\",\"2020-12-14T09:11:10\",\"2020-12-14T09:13:52\",\"2020-12-14T09:13:53\",\"2020-12-14T09:13:55\",\"2020-12-14T09:16:58\",\"2020-12-14T09:17:54\",\"2020-12-14T09:18:29\",\"2020-12-14T09:18:51\",\"2020-12-14T09:20:07\",\"2020-12-14T09:21:38\",\"2020-12-14T09:22:29\",\"2020-12-14T09:22:30\",\"2020-12-14T09:24:45\",\"2020-12-14T09:24:46\",\"2020-12-14T09:24:58\",\"2020-12-14T09:24:59\",\"2020-12-14T09:36:14\",\"2020-12-14T09:36:34\",\"2020-12-14T09:36:36\",\"2020-12-14T09:37:55\",\"2020-12-14T09:37:56\",\"2020-12-14T09:38:58\",\"2020-12-14T09:39:49\",\"2020-12-14T09:39:50\",\"2020-12-14T09:40:19\",\"2020-12-14T09:40:21\",\"2020-12-14T09:41:20\",\"2020-12-14T09:41:22\",\"2020-12-14T09:43:59\",\"2020-12-14T09:44:02\",\"2020-12-14T09:44:05\",\"2020-12-14T09:44:55\",\"2020-12-14T09:51:25\",\"2020-12-14T09:53:59\",\"2020-12-14T10:01:14\",\"2020-12-14T10:01:44\",\"2020-12-14T10:01:48\",\"2020-12-14T10:01:56\",\"2020-12-14T10:05:04\",\"2020-12-14T10:07:32\",\"2020-12-14T10:11:12\",\"2020-12-14T10:11:50\",\"2020-12-14T10:11:51\",\"2020-12-14T10:11:53\",\"2020-12-14T10:17:18\",\"2020-12-14T10:18:11\",\"2020-12-14T10:28:52\",\"2020-12-14T10:28:53\",\"2020-12-14T10:31:00\",\"2020-12-14T10:31:02\",\"2020-12-14T10:31:07\",\"2020-12-14T10:31:48\",\"2020-12-14T10:32:42\",\"2020-12-14T10:32:47\",\"2020-12-14T10:45:33\",\"2020-12-14T10:45:36\",\"2020-12-14T10:45:49\",\"2020-12-14T10:45:51\",\"2020-12-14T10:46:16\",\"2020-12-14T10:47:01\",\"2020-12-14T10:47:05\",\"2020-12-14T10:48:22\",\"2020-12-14T10:59:42\",\"2020-12-14T11:02:04\",\"2020-12-14T11:02:05\",\"2020-12-14T11:02:24\",\"2020-12-14T11:02:25\",\"2020-12-14T11:06:29\",\"2020-12-14T11:11:34\",\"2020-12-14T11:13:38\",\"2020-12-14T11:13:39\",\"2020-12-14T11:14:34\",\"2020-12-14T11:18:43\",\"2020-12-14T11:18:46\",\"2020-12-14T11:19:33\",\"2020-12-14T11:24:08\",\"2020-12-14T11:24:10\",\"2020-12-14T11:31:25\",\"2020-12-14T11:31:27\",\"2020-12-14T11:31:32\",\"2020-12-14T11:36:45\",\"2020-12-14T11:36:46\",\"2020-12-14T11:37:33\",\"2020-12-14T11:40:42\",\"2020-12-14T11:50:05\",\"2020-12-14T11:53:32\",\"2020-12-14T11:53:34\",\"2020-12-14T11:58:58\",\"2020-12-14T12:02:53\",\"2020-12-14T12:03:33\",\"2020-12-14T12:03:36\",\"2020-12-14T12:06:49\",\"2020-12-14T12:06:50\",\"2020-12-14T12:08:04\",\"2020-12-14T12:08:05\",\"2020-12-14T12:08:08\",\"2020-12-14T12:18:02\",\"2020-12-14T12:18:05\",\"2020-12-14T12:19:00\",\"2020-12-14T12:19:02\",\"2020-12-14T12:23:10\",\"2020-12-14T12:23:33\",\"2020-12-14T12:24:49\",\"2020-12-14T12:24:51\",\"2020-12-14T12:25:29\",\"2020-12-14T12:25:30\",\"2020-12-14T12:27:43\",\"2020-12-14T12:28:22\",\"2020-12-14T12:28:23\",\"2020-12-14T12:28:53\",\"2020-12-14T12:31:37\",\"2020-12-14T12:32:13\",\"2020-12-14T12:38:10\",\"2020-12-14T12:41:18\",\"2020-12-14T12:41:20\",\"2020-12-14T12:44:30\",\"2020-12-14T12:44:31\",\"2020-12-14T12:44:33\",\"2020-12-14T12:44:36\",\"2020-12-14T12:46:15\",\"2020-12-14T12:46:16\",\"2020-12-14T12:47:56\",\"2020-12-14T12:57:17\",\"2020-12-14T13:02:42\",\"2020-12-14T13:02:50\",\"2020-12-14T13:02:54\",\"2020-12-14T13:03:14\",\"2020-12-14T13:05:31\",\"2020-12-14T13:16:10\",\"2020-12-14T13:22:09\",\"2020-12-14T13:22:12\",\"2020-12-14T13:23:45\",\"2020-12-14T13:26:00\",\"2020-12-14T13:26:01\",\"2020-12-14T13:26:33\",\"2020-12-14T13:26:34\",\"2020-12-14T13:36:18\",\"2020-12-14T13:36:20\",\"2020-12-14T13:39:03\",\"2020-12-14T13:39:05\",\"2020-12-14T13:41:07\",\"2020-12-14T13:41:08\",\"2020-12-14T13:44:35\",\"2020-12-14T13:45:02\",\"2020-12-14T13:49:47\",\"2020-12-14T13:49:50\",\"2020-12-14T13:50:25\",\"2020-12-14T13:53:05\",\"2020-12-14T13:53:06\",\"2020-12-14T13:53:08\",\"2020-12-14T14:00:32\",\"2020-12-14T14:00:36\",\"2020-12-14T14:00:41\",\"2020-12-14T14:04:20\",\"2020-12-14T14:04:21\",\"2020-12-14T14:05:14\",\"2020-12-14T14:05:17\",\"2020-12-14T14:06:38\",\"2020-12-14T14:07:59\",\"2020-12-14T14:11:17\",\"2020-12-14T14:11:18\",\"2020-12-14T14:25:43\",\"2020-12-14T14:25:45\",\"2020-12-14T14:27:49\",\"2020-12-14T14:27:51\",\"2020-12-14T14:39:27\",\"2020-12-14T14:39:29\",\"2020-12-14T14:40:15\",\"2020-12-14T14:41:18\",\"2020-12-14T14:41:19\",\"2020-12-14T14:42:40\",\"2020-12-14T14:45:48\",\"2020-12-14T14:45:50\",\"2020-12-14T14:51:15\",\"2020-12-14T14:51:47\",\"2020-12-14T14:51:51\",\"2020-12-14T14:53:06\",\"2020-12-14T14:54:45\",\"2020-12-14T15:01:53\",\"2020-12-14T15:10:53\",\"2020-12-14T15:17:54\",\"2020-12-14T15:17:56\",\"2020-12-14T15:17:57\",\"2020-12-14T15:27:39\",\"2020-12-14T15:31:32\",\"2020-12-14T15:35:00\",\"2020-12-14T15:35:02\",\"2020-12-14T15:35:03\",\"2020-12-14T15:36:01\",\"2020-12-14T15:36:25\",\"2020-12-14T15:36:27\",\"2020-12-14T15:37:28\",\"2020-12-14T15:40:32\",\"2020-12-14T15:40:33\",\"2020-12-14T15:40:36\",\"2020-12-14T15:40:38\",\"2020-12-14T15:41:09\",\"2020-12-14T15:41:11\",\"2020-12-14T15:45:04\",\"2020-12-14T15:45:34\",\"2020-12-14T15:49:46\",\"2020-12-14T15:49:48\",\"2020-12-14T15:50:27\",\"2020-12-14T15:50:31\",\"2020-12-14T15:53:47\",\"2020-12-14T15:53:48\",\"2020-12-14T15:56:06\",\"2020-12-14T16:06:00\",\"2020-12-14T16:16:53\",\"2020-12-14T16:19:24\",\"2020-12-14T16:20:47\",\"2020-12-14T16:20:48\",\"2020-12-14T16:20:50\",\"2020-12-14T16:21:50\",\"2020-12-14T16:21:51\",\"2020-12-14T16:22:11\",\"2020-12-14T16:27:57\",\"2020-12-14T16:28:22\",\"2020-12-14T16:29:22\",\"2020-12-14T16:29:24\",\"2020-12-14T16:33:11\",\"2020-12-14T16:36:05\",\"2020-12-14T16:36:06\",\"2020-12-14T16:36:07\",\"2020-12-14T16:36:46\",\"2020-12-14T16:36:47\",\"2020-12-14T16:36:49\",\"2020-12-14T16:37:24\",\"2020-12-14T16:38:37\",\"2020-12-14T16:40:32\",\"2020-12-14T16:41:38\",\"2020-12-14T16:41:39\",\"2020-12-14T16:46:08\",\"2020-12-14T16:46:10\",\"2020-12-14T16:48:44\",\"2020-12-14T16:52:04\",\"2020-12-14T16:52:05\",\"2020-12-14T16:55:20\",\"2020-12-14T16:55:21\",\"2020-12-14T17:01:37\",\"2020-12-14T17:01:38\",\"2020-12-14T17:02:37\",\"2020-12-14T17:02:41\",\"2020-12-14T17:04:51\",\"2020-12-14T17:04:57\",\"2020-12-14T17:04:59\",\"2020-12-14T17:05:02\",\"2020-12-14T17:05:04\",\"2020-12-14T17:16:22\",\"2020-12-14T17:22:27\",\"2020-12-14T17:26:39\",\"2020-12-14T17:26:41\",\"2020-12-14T17:28:32\",\"2020-12-14T17:29:24\",\"2020-12-14T17:32:08\",\"2020-12-14T17:32:09\",\"2020-12-14T17:32:11\",\"2020-12-14T17:42:08\",\"2020-12-14T17:42:22\",\"2020-12-14T17:43:18\",\"2020-12-14T17:43:19\",\"2020-12-14T17:53:43\",\"2020-12-14T17:54:15\",\"2020-12-14T17:56:18\",\"2020-12-14T18:03:59\",\"2020-12-14T18:04:00\",\"2020-12-14T18:13:37\",\"2020-12-14T18:15:42\",\"2020-12-14T18:15:43\",\"2020-12-14T18:15:54\",\"2020-12-14T18:15:55\",\"2020-12-14T18:16:51\",\"2020-12-14T18:20:21\",\"2020-12-14T18:20:38\",\"2020-12-14T18:20:39\",\"2020-12-14T18:21:06\",\"2020-12-14T18:25:48\",\"2020-12-14T18:27:25\",\"2020-12-14T18:31:19\",\"2020-12-14T18:31:36\",\"2020-12-14T18:31:38\",\"2020-12-14T18:38:19\",\"2020-12-14T18:38:57\",\"2020-12-14T18:44:56\",\"2020-12-14T18:44:57\",\"2020-12-14T18:45:26\",\"2020-12-14T18:45:27\",\"2020-12-14T18:49:25\",\"2020-12-14T18:49:27\",\"2020-12-14T18:51:32\",\"2020-12-14T18:51:34\",\"2020-12-14T18:55:15\",\"2020-12-14T18:58:54\",\"2020-12-14T18:58:56\",\"2020-12-14T19:02:14\",\"2020-12-14T19:03:01\",\"2020-12-14T19:03:02\",\"2020-12-14T19:03:12\",\"2020-12-14T19:03:14\",\"2020-12-14T19:03:30\",\"2020-12-14T19:03:32\",\"2020-12-14T19:05:50\",\"2020-12-14T19:07:48\",\"2020-12-14T19:12:54\",\"2020-12-14T19:14:35\",\"2020-12-14T19:14:36\",\"2020-12-14T19:14:42\",\"2020-12-14T19:20:13\",\"2020-12-14T19:20:14\",\"2020-12-14T19:27:22\",\"2020-12-14T19:27:23\",\"2020-12-14T19:29:17\",\"2020-12-14T19:29:20\",\"2020-12-14T19:29:28\",\"2020-12-14T19:29:29\",\"2020-12-14T19:32:23\",\"2020-12-14T19:37:38\",\"2020-12-14T19:40:47\",\"2020-12-14T19:43:32\",\"2020-12-14T19:43:33\",\"2020-12-14T19:43:34\",\"2020-12-14T19:44:52\",\"2020-12-14T19:44:53\",\"2020-12-14T19:51:43\",\"2020-12-14T19:51:44\",\"2020-12-14T19:56:06\",\"2020-12-14T19:56:08\",\"2020-12-14T19:58:26\",\"2020-12-14T20:04:56\",\"2020-12-14T20:07:08\",\"2020-12-14T20:15:17\",\"2020-12-14T20:15:18\",\"2020-12-14T20:17:06\",\"2020-12-14T20:24:24\",\"2020-12-14T20:26:33\",\"2020-12-14T20:27:35\",\"2020-12-14T20:27:36\",\"2020-12-14T20:29:42\",\"2020-12-14T20:30:47\",\"2020-12-14T20:30:49\",\"2020-12-14T20:36:51\",\"2020-12-14T20:38:22\",\"2020-12-14T20:38:24\",\"2020-12-14T20:38:48\",\"2020-12-14T20:40:33\",\"2020-12-14T20:40:36\",\"2020-12-14T20:44:24\",\"2020-12-14T20:44:26\",\"2020-12-14T20:45:19\",\"2020-12-14T20:45:21\",\"2020-12-14T21:01:09\",\"2020-12-14T21:11:51\",\"2020-12-14T21:12:29\",\"2020-12-14T21:12:30\",\"2020-12-14T21:13:48\",\"2020-12-14T21:16:22\",\"2020-12-14T21:17:09\",\"2020-12-14T21:19:02\",\"2020-12-14T21:19:24\",\"2020-12-14T21:19:27\",\"2020-12-14T21:21:56\",\"2020-12-14T21:21:57\",\"2020-12-14T21:25:31\",\"2020-12-14T21:28:05\",\"2020-12-14T21:29:05\",\"2020-12-14T21:29:06\",\"2020-12-14T21:29:22\",\"2020-12-14T21:32:33\",\"2020-12-14T21:47:20\",\"2020-12-14T21:47:22\",\"2020-12-14T21:49:41\",\"2020-12-14T21:49:42\",\"2020-12-14T21:51:06\",\"2020-12-14T21:54:40\",\"2020-12-14T21:54:41\",\"2020-12-14T21:55:09\",\"2020-12-14T21:55:11\",\"2020-12-14T21:55:13\",\"2020-12-14T21:55:23\",\"2020-12-14T21:55:24\",\"2020-12-14T22:03:20\",\"2020-12-14T22:05:44\",\"2020-12-14T22:15:27\",\"2020-12-14T22:17:26\",\"2020-12-14T22:17:27\",\"2020-12-14T22:20:14\",\"2020-12-14T22:20:16\",\"2020-12-14T22:20:19\",\"2020-12-14T22:28:31\",\"2020-12-14T22:34:19\",\"2020-12-14T22:36:15\",\"2020-12-14T22:37:16\",\"2020-12-14T22:39:30\",\"2020-12-14T22:39:38\",\"2020-12-14T22:39:39\",\"2020-12-14T22:46:47\",\"2020-12-14T22:47:28\",\"2020-12-14T22:47:31\",\"2020-12-14T22:49:09\",\"2020-12-14T22:49:12\",\"2020-12-14T22:54:12\",\"2020-12-14T22:54:13\",\"2020-12-14T22:59:19\",\"2020-12-14T23:04:59\",\"2020-12-14T23:05:27\",\"2020-12-14T23:05:28\",\"2020-12-14T23:10:02\",\"2020-12-14T23:10:15\",\"2020-12-14T23:10:41\",\"2020-12-14T23:13:31\",\"2020-12-14T23:20:11\",\"2020-12-14T23:20:14\",\"2020-12-14T23:46:31\",\"2020-12-14T23:46:32\",\"2020-12-14T23:51:11\",\"2020-12-14T23:51:12\",\"2020-12-14T23:52:58\",\"2020-12-14T23:53:01\",\"2020-12-14T23:58:21\",\"2020-12-14T23:59:27\",\"2020-12-14T23:59:29\",\"2020-12-14T23:59:54\",\"2020-12-14T23:59:56\",\"2020-12-15T00:03:18\",\"2020-12-15T00:03:21\",\"2020-12-15T00:03:22\",\"2020-12-15T00:08:51\",\"2020-12-15T00:11:11\",\"2020-12-15T00:13:07\",\"2020-12-15T00:13:39\",\"2020-12-15T00:15:55\",\"2020-12-15T00:16:31\",\"2020-12-15T00:16:32\",\"2020-12-15T00:28:17\",\"2020-12-15T00:29:35\",\"2020-12-15T00:29:57\",\"2020-12-15T00:31:32\",\"2020-12-15T00:52:56\",\"2020-12-15T00:53:16\",\"2020-12-15T00:53:18\",\"2020-12-15T00:57:42\",\"2020-12-15T00:57:45\",\"2020-12-15T01:06:38\",\"2020-12-15T01:08:34\",\"2020-12-15T01:08:35\",\"2020-12-15T01:12:26\",\"2020-12-15T01:12:27\",\"2020-12-15T01:21:30\",\"2020-12-15T01:23:51\",\"2020-12-15T01:25:08\",\"2020-12-15T01:25:09\",\"2020-12-15T01:36:10\",\"2020-12-15T01:36:17\",\"2020-12-15T01:36:19\",\"2020-12-15T01:37:02\",\"2020-12-15T01:40:07\",\"2020-12-15T01:40:08\",\"2020-12-15T01:40:10\",\"2020-12-15T01:53:30\",\"2020-12-15T01:57:32\",\"2020-12-15T01:57:34\",\"2020-12-15T02:05:50\",\"2020-12-15T02:05:52\",\"2020-12-15T02:18:31\",\"2020-12-15T02:26:19\",\"2020-12-15T02:26:20\",\"2020-12-15T02:27:26\",\"2020-12-15T02:27:28\",\"2020-12-15T02:27:54\",\"2020-12-15T02:27:56\",\"2020-12-15T02:30:10\",\"2020-12-15T02:30:11\",\"2020-12-15T02:32:27\",\"2020-12-15T02:32:28\",\"2020-12-15T02:35:18\",\"2020-12-15T02:36:06\",\"2020-12-15T02:39:20\",\"2020-12-15T02:39:21\",\"2020-12-15T02:41:53\",\"2020-12-15T02:41:54\",\"2020-12-15T02:46:25\",\"2020-12-15T02:46:27\",\"2020-12-15T02:49:50\",\"2020-12-15T02:49:53\",\"2020-12-15T02:52:02\",\"2020-12-15T02:54:29\",\"2020-12-15T02:57:31\",\"2020-12-15T02:57:32\",\"2020-12-15T02:58:28\",\"2020-12-15T02:58:29\",\"2020-12-15T02:59:04\",\"2020-12-15T03:04:13\",\"2020-12-15T03:05:23\",\"2020-12-15T03:05:24\",\"2020-12-15T03:05:51\",\"2020-12-15T03:05:52\",\"2020-12-15T03:08:05\",\"2020-12-15T03:09:03\",\"2020-12-15T03:09:05\",\"2020-12-15T03:20:54\",\"2020-12-15T03:23:50\",\"2020-12-15T03:23:53\",\"2020-12-15T03:25:48\",\"2020-12-15T03:25:56\",\"2020-12-15T03:25:59\",\"2020-12-15T03:30:46\",\"2020-12-15T03:31:58\",\"2020-12-15T03:31:59\",\"2020-12-15T03:38:42\",\"2020-12-15T03:40:19\",\"2020-12-15T03:40:20\",\"2020-12-15T03:40:21\",\"2020-12-15T03:43:55\",\"2020-12-15T03:43:58\",\"2020-12-15T03:56:01\",\"2020-12-15T03:56:49\",\"2020-12-15T04:00:15\",\"2020-12-15T04:00:16\",\"2020-12-15T04:01:59\",\"2020-12-15T04:06:07\",\"2020-12-15T04:06:16\",\"2020-12-15T04:08:50\",\"2020-12-15T04:08:51\",\"2020-12-15T04:08:54\",\"2020-12-15T04:08:56\",\"2020-12-15T04:09:04\",\"2020-12-15T04:11:26\",\"2020-12-15T04:16:14\",\"2020-12-15T04:16:19\",\"2020-12-15T04:17:39\",\"2020-12-15T04:17:42\",\"2020-12-15T04:23:57\",\"2020-12-15T04:27:33\",\"2020-12-15T04:29:35\",\"2020-12-15T04:29:36\",\"2020-12-15T04:33:34\",\"2020-12-15T04:33:36\",\"2020-12-15T04:34:40\",\"2020-12-15T04:34:43\",\"2020-12-15T04:34:53\",\"2020-12-15T04:34:55\",\"2020-12-15T04:38:30\",\"2020-12-15T04:43:15\",\"2020-12-15T04:45:55\",\"2020-12-15T04:45:56\",\"2020-12-15T04:48:46\",\"2020-12-15T04:48:47\",\"2020-12-15T04:48:50\",\"2020-12-15T04:59:00\",\"2020-12-15T04:59:44\",\"2020-12-15T04:59:46\",\"2020-12-15T05:01:19\",\"2020-12-15T05:02:12\",\"2020-12-15T05:05:45\",\"2020-12-15T05:05:47\",\"2020-12-15T05:11:29\",\"2020-12-15T05:11:31\",\"2020-12-15T05:23:37\",\"2020-12-15T05:23:38\",\"2020-12-15T05:25:30\",\"2020-12-15T05:30:15\",\"2020-12-15T05:30:30\",\"2020-12-15T05:31:22\",\"2020-12-15T05:31:23\",\"2020-12-15T05:34:37\",\"2020-12-15T05:34:38\",\"2020-12-15T05:35:34\",\"2020-12-15T05:36:05\",\"2020-12-15T05:36:06\",\"2020-12-15T05:36:33\",\"2020-12-15T05:40:17\",\"2020-12-15T05:46:56\",\"2020-12-15T05:48:21\",\"2020-12-15T05:51:24\",\"2020-12-15T05:51:47\",\"2020-12-15T05:51:49\",\"2020-12-15T05:57:20\",\"2020-12-15T05:58:26\",\"2020-12-15T06:13:13\",\"2020-12-15T06:13:14\",\"2020-12-15T06:16:47\",\"2020-12-15T06:16:50\",\"2020-12-15T06:18:29\",\"2020-12-15T06:18:31\",\"2020-12-15T06:25:23\",\"2020-12-15T06:34:02\",\"2020-12-15T06:34:03\",\"2020-12-15T06:40:24\",\"2020-12-15T06:41:04\",\"2020-12-15T06:41:12\",\"2020-12-15T06:42:51\",\"2020-12-15T06:46:19\",\"2020-12-15T06:46:27\",\"2020-12-15T06:49:41\",\"2020-12-15T06:56:40\",\"2020-12-15T06:56:41\",\"2020-12-15T07:00:49\",\"2020-12-15T07:02:37\",\"2020-12-15T07:03:33\",\"2020-12-15T07:03:34\",\"2020-12-15T07:04:52\",\"2020-12-15T07:04:53\",\"2020-12-15T07:05:12\",\"2020-12-15T07:06:11\",\"2020-12-15T07:06:12\",\"2020-12-15T07:07:08\",\"2020-12-15T07:08:44\",\"2020-12-15T07:08:46\",\"2020-12-15T07:08:50\",\"2020-12-15T07:09:50\",\"2020-12-15T07:09:53\",\"2020-12-15T07:15:01\",\"2020-12-15T07:15:32\",\"2020-12-15T07:16:46\",\"2020-12-15T07:16:47\",\"2020-12-15T07:17:44\",\"2020-12-15T07:21:15\",\"2020-12-15T07:21:22\",\"2020-12-15T07:21:25\",\"2020-12-15T07:21:31\",\"2020-12-15T07:23:39\",\"2020-12-15T07:29:21\",\"2020-12-15T07:48:35\",\"2020-12-15T07:50:03\",\"2020-12-15T07:51:11\",\"2020-12-15T07:51:12\",\"2020-12-15T07:51:18\",\"2020-12-15T07:55:28\",\"2020-12-15T07:57:38\",\"2020-12-15T07:57:40\",\"2020-12-15T07:57:41\",\"2020-12-15T08:06:21\",\"2020-12-15T08:06:23\",\"2020-12-15T08:06:39\",\"2020-12-15T08:07:17\",\"2020-12-15T08:18:42\",\"2020-12-15T08:18:43\",\"2020-12-15T08:22:36\",\"2020-12-15T08:22:38\",\"2020-12-15T08:23:00\",\"2020-12-15T08:23:01\",\"2020-12-15T08:25:07\",\"2020-12-15T08:25:29\",\"2020-12-15T08:25:31\",\"2020-12-15T08:36:23\",\"2020-12-15T08:36:25\",\"2020-12-15T08:38:10\",\"2020-12-15T08:38:11\",\"2020-12-15T08:38:13\",\"2020-12-15T08:49:05\",\"2020-12-15T08:49:07\",\"2020-12-15T08:50:04\",\"2020-12-15T08:50:05\",\"2020-12-15T08:54:46\",\"2020-12-15T08:54:48\",\"2020-12-15T08:55:31\",\"2020-12-15T09:04:16\",\"2020-12-15T09:04:17\",\"2020-12-15T09:06:16\",\"2020-12-15T09:06:18\",\"2020-12-15T09:12:35\",\"2020-12-15T09:12:36\",\"2020-12-15T09:14:06\",\"2020-12-15T09:15:49\",\"2020-12-15T09:17:42\",\"2020-12-15T09:17:59\",\"2020-12-15T09:18:39\",\"2020-12-15T09:18:40\",\"2020-12-15T09:18:49\",\"2020-12-15T09:20:18\",\"2020-12-15T09:20:21\",\"2020-12-15T09:26:38\",\"2020-12-15T09:26:39\",\"2020-12-15T09:26:41\",\"2020-12-15T09:28:30\",\"2020-12-15T09:30:12\",\"2020-12-15T09:30:13\",\"2020-12-15T09:32:10\",\"2020-12-15T09:32:11\",\"2020-12-15T09:34:58\",\"2020-12-15T09:39:28\",\"2020-12-15T09:45:25\",\"2020-12-15T09:45:26\",\"2020-12-15T09:45:28\",\"2020-12-15T09:55:15\",\"2020-12-15T09:55:16\",\"2020-12-15T09:55:17\",\"2020-12-15T10:08:01\",\"2020-12-15T10:17:07\",\"2020-12-15T10:23:02\",\"2020-12-15T10:23:46\",\"2020-12-15T10:25:11\",\"2020-12-15T10:25:28\",\"2020-12-15T10:26:53\",\"2020-12-15T10:29:30\",\"2020-12-15T10:30:16\",\"2020-12-15T10:30:17\",\"2020-12-15T10:32:03\",\"2020-12-15T10:33:42\",\"2020-12-15T10:33:43\",\"2020-12-15T10:40:44\",\"2020-12-15T10:40:50\",\"2020-12-15T10:49:54\",\"2020-12-15T10:50:38\",\"2020-12-15T10:50:39\",\"2020-12-15T10:51:31\",\"2020-12-15T10:51:32\",\"2020-12-15T10:51:52\",\"2020-12-15T10:51:53\",\"2020-12-15T10:54:31\",\"2020-12-15T10:54:32\",\"2020-12-15T10:57:54\",\"2020-12-15T10:57:56\",\"2020-12-15T11:00:52\",\"2020-12-15T11:01:41\",\"2020-12-15T11:02:41\",\"2020-12-15T11:03:51\",\"2020-12-15T11:03:52\",\"2020-12-15T11:05:27\",\"2020-12-15T11:05:28\",\"2020-12-15T11:08:40\",\"2020-12-15T11:08:41\",\"2020-12-15T11:13:07\",\"2020-12-15T11:15:02\",\"2020-12-15T11:15:43\",\"2020-12-15T11:15:48\",\"2020-12-15T11:18:16\",\"2020-12-15T11:18:17\",\"2020-12-15T11:19:26\",\"2020-12-15T11:21:59\",\"2020-12-15T11:22:00\",\"2020-12-15T11:22:52\",\"2020-12-15T11:22:54\",\"2020-12-15T11:22:55\",\"2020-12-15T11:23:09\",\"2020-12-15T11:23:10\",\"2020-12-15T11:32:45\",\"2020-12-15T11:33:34\",\"2020-12-15T11:33:36\",\"2020-12-15T11:36:28\",\"2020-12-15T11:36:55\",\"2020-12-15T11:37:50\",\"2020-12-15T11:37:51\",\"2020-12-15T11:38:43\",\"2020-12-15T11:38:44\",\"2020-12-15T11:42:19\",\"2020-12-15T11:42:22\",\"2020-12-15T11:47:12\",\"2020-12-15T11:47:13\",\"2020-12-15T11:50:11\",\"2020-12-15T11:51:17\",\"2020-12-15T11:51:18\",\"2020-12-15T11:54:21\",\"2020-12-15T11:54:22\",\"2020-12-15T11:58:08\",\"2020-12-15T11:58:10\",\"2020-12-15T11:59:36\",\"2020-12-15T12:00:15\",\"2020-12-15T12:00:18\",\"2020-12-15T12:00:44\",\"2020-12-15T12:08:32\",\"2020-12-15T12:08:36\",\"2020-12-15T12:08:37\",\"2020-12-15T12:12:31\",\"2020-12-15T12:13:26\",\"2020-12-15T12:13:27\",\"2020-12-15T12:14:21\",\"2020-12-15T12:14:23\",\"2020-12-15T12:15:15\",\"2020-12-15T12:15:18\",\"2020-12-15T12:21:27\",\"2020-12-15T12:24:22\",\"2020-12-15T12:27:45\",\"2020-12-15T12:38:33\",\"2020-12-15T12:38:34\",\"2020-12-15T12:38:52\",\"2020-12-15T12:38:53\",\"2020-12-15T12:42:06\",\"2020-12-15T12:49:18\",\"2020-12-15T12:50:27\",\"2020-12-15T12:50:28\",\"2020-12-15T12:53:29\",\"2020-12-15T12:54:35\",\"2020-12-15T12:54:36\",\"2020-12-15T12:56:38\",\"2020-12-15T13:05:59\",\"2020-12-15T13:06:40\",\"2020-12-15T13:06:41\",\"2020-12-15T13:07:58\",\"2020-12-15T13:08:00\",\"2020-12-15T13:10:09\",\"2020-12-15T13:15:01\",\"2020-12-15T13:22:21\",\"2020-12-15T13:26:32\",\"2020-12-15T13:30:03\",\"2020-12-15T13:30:05\",\"2020-12-15T13:31:41\",\"2020-12-15T13:32:54\",\"2020-12-15T13:32:55\",\"2020-12-15T13:38:58\",\"2020-12-15T13:41:47\",\"2020-12-15T13:50:05\",\"2020-12-15T14:00:39\",\"2020-12-15T14:03:32\",\"2020-12-15T14:03:36\",\"2020-12-15T14:11:26\",\"2020-12-15T14:11:27\",\"2020-12-15T14:11:53\",\"2020-12-15T14:16:28\",\"2020-12-15T14:16:49\",\"2020-12-15T14:18:09\",\"2020-12-15T14:21:30\",\"2020-12-15T14:21:32\",\"2020-12-15T14:22:50\",\"2020-12-15T14:22:51\",\"2020-12-15T14:24:38\",\"2020-12-15T14:24:39\",\"2020-12-15T14:24:40\",\"2020-12-15T14:24:46\",\"2020-12-15T14:28:15\",\"2020-12-15T14:28:17\",\"2020-12-15T14:28:39\",\"2020-12-15T14:28:41\",\"2020-12-15T14:30:21\",\"2020-12-15T14:30:22\",\"2020-12-15T14:30:23\",\"2020-12-15T14:31:04\",\"2020-12-15T14:36:37\",\"2020-12-15T14:37:13\",\"2020-12-15T14:37:53\",\"2020-12-15T14:38:57\",\"2020-12-15T14:38:59\",\"2020-12-15T14:40:35\",\"2020-12-15T14:40:52\",\"2020-12-15T14:40:54\",\"2020-12-15T14:44:50\",\"2020-12-15T14:45:14\",\"2020-12-15T14:45:15\",\"2020-12-15T14:45:17\",\"2020-12-15T14:45:20\",\"2020-12-15T14:46:26\",\"2020-12-15T14:52:27\",\"2020-12-15T14:53:46\",\"2020-12-15T14:53:47\",\"2020-12-15T14:56:25\",\"2020-12-15T14:56:26\",\"2020-12-15T15:02:42\",\"2020-12-15T15:02:43\",\"2020-12-15T15:02:44\",\"2020-12-15T15:03:32\",\"2020-12-15T15:03:36\",\"2020-12-15T15:03:38\",\"2020-12-15T15:06:12\",\"2020-12-15T15:06:14\",\"2020-12-15T15:06:33\",\"2020-12-15T15:06:34\",\"2020-12-15T15:07:03\",\"2020-12-15T15:07:04\",\"2020-12-15T15:09:35\",\"2020-12-15T15:10:51\",\"2020-12-15T15:10:53\",\"2020-12-15T15:17:06\",\"2020-12-15T15:20:32\",\"2020-12-15T15:20:33\",\"2020-12-15T15:24:22\",\"2020-12-15T15:24:23\",\"2020-12-15T15:27:09\",\"2020-12-15T15:32:40\",\"2020-12-15T15:32:41\",\"2020-12-15T15:35:41\",\"2020-12-15T15:36:45\",\"2020-12-15T15:36:47\",\"2020-12-15T15:37:00\",\"2020-12-15T15:37:01\",\"2020-12-15T15:38:03\",\"2020-12-15T15:38:04\",\"2020-12-15T15:38:05\",\"2020-12-15T15:38:14\",\"2020-12-15T15:46:19\",\"2020-12-15T15:54:16\",\"2020-12-15T15:57:54\",\"2020-12-15T16:09:06\",\"2020-12-15T16:09:08\",\"2020-12-15T16:11:23\",\"2020-12-15T16:13:01\",\"2020-12-15T16:14:58\",\"2020-12-15T16:15:00\",\"2020-12-15T16:15:01\",\"2020-12-15T16:16:04\",\"2020-12-15T16:17:29\",\"2020-12-15T16:28:41\",\"2020-12-15T16:30:38\",\"2020-12-15T16:30:39\",\"2020-12-15T16:34:45\",\"2020-12-15T16:34:47\",\"2020-12-15T16:38:18\",\"2020-12-15T16:38:19\",\"2020-12-15T16:39:42\",\"2020-12-15T16:40:40\",\"2020-12-15T16:49:00\",\"2020-12-15T16:50:33\",\"2020-12-15T16:55:57\",\"2020-12-15T16:55:58\",\"2020-12-15T16:57:40\",\"2020-12-15T16:59:18\",\"2020-12-15T16:59:19\",\"2020-12-15T17:04:26\",\"2020-12-15T17:06:52\",\"2020-12-15T17:22:19\",\"2020-12-15T17:26:48\",\"2020-12-15T17:26:49\",\"2020-12-15T17:27:48\",\"2020-12-15T17:27:49\",\"2020-12-15T17:29:40\",\"2020-12-15T17:29:41\",\"2020-12-15T17:30:38\",\"2020-12-15T17:30:39\",\"2020-12-15T17:30:53\",\"2020-12-15T17:30:54\",\"2020-12-15T17:32:06\",\"2020-12-15T17:32:17\",\"2020-12-15T17:32:18\",\"2020-12-15T17:37:44\",\"2020-12-15T17:45:36\",\"2020-12-15T17:45:37\",\"2020-12-15T17:51:31\",\"2020-12-15T17:51:51\",\"2020-12-15T17:52:27\",\"2020-12-15T17:52:30\",\"2020-12-15T17:52:50\",\"2020-12-15T17:53:35\",\"2020-12-15T17:53:38\",\"2020-12-15T17:55:56\",\"2020-12-15T17:58:30\",\"2020-12-15T17:59:24\",\"2020-12-15T18:04:11\",\"2020-12-15T18:04:13\",\"2020-12-15T18:07:50\",\"2020-12-15T18:13:06\",\"2020-12-15T18:13:08\",\"2020-12-15T18:24:24\",\"2020-12-15T18:26:00\",\"2020-12-15T18:26:01\",\"2020-12-15T18:26:02\",\"2020-12-15T18:26:47\",\"2020-12-15T18:26:49\",\"2020-12-15T18:31:22\",\"2020-12-15T18:31:25\",\"2020-12-15T18:34:41\",\"2020-12-15T18:34:58\",\"2020-12-15T18:40:32\",\"2020-12-15T18:41:35\",\"2020-12-15T18:41:37\",\"2020-12-15T18:44:48\",\"2020-12-15T18:52:06\",\"2020-12-15T18:54:04\",\"2020-12-15T18:59:54\",\"2020-12-15T18:59:55\",\"2020-12-15T19:00:17\",\"2020-12-15T19:05:33\",\"2020-12-15T19:05:34\",\"2020-12-15T19:07:52\",\"2020-12-15T19:07:53\",\"2020-12-15T19:13:15\",\"2020-12-15T19:13:21\",\"2020-12-15T19:14:15\",\"2020-12-15T19:16:32\",\"2020-12-15T19:18:39\",\"2020-12-15T19:21:48\",\"2020-12-15T19:21:50\",\"2020-12-15T19:39:01\",\"2020-12-15T19:39:24\",\"2020-12-15T19:43:24\",\"2020-12-15T19:43:25\",\"2020-12-15T19:46:45\",\"2020-12-15T19:46:46\",\"2020-12-15T19:46:48\",\"2020-12-15T19:49:54\",\"2020-12-15T19:52:22\",\"2020-12-15T19:54:43\",\"2020-12-15T20:02:06\",\"2020-12-15T20:02:07\",\"2020-12-15T20:06:24\",\"2020-12-15T20:06:25\",\"2020-12-15T20:07:39\",\"2020-12-15T20:07:42\",\"2020-12-15T20:10:03\",\"2020-12-15T20:10:05\",\"2020-12-15T20:10:06\",\"2020-12-15T20:14:51\",\"2020-12-15T20:14:55\",\"2020-12-15T20:15:36\",\"2020-12-15T20:20:32\",\"2020-12-15T20:24:33\",\"2020-12-15T20:24:34\",\"2020-12-15T20:24:57\",\"2020-12-15T20:27:39\",\"2020-12-15T20:30:20\",\"2020-12-15T20:30:22\",\"2020-12-15T20:32:43\",\"2020-12-15T20:39:13\",\"2020-12-15T20:52:55\",\"2020-12-15T21:04:40\",\"2020-12-15T21:04:50\",\"2020-12-15T21:05:09\",\"2020-12-15T21:09:04\",\"2020-12-15T21:09:05\",\"2020-12-15T21:09:06\",\"2020-12-15T21:10:33\",\"2020-12-15T21:12:20\",\"2020-12-15T21:12:21\",\"2020-12-15T21:12:58\",\"2020-12-15T21:12:59\",\"2020-12-15T21:19:07\",\"2020-12-15T21:22:41\",\"2020-12-15T21:22:42\",\"2020-12-15T21:22:59\",\"2020-12-15T21:26:50\",\"2020-12-15T21:26:51\",\"2020-12-15T21:28:02\",\"2020-12-15T21:28:04\",\"2020-12-15T21:31:56\",\"2020-12-15T21:31:58\",\"2020-12-15T21:32:58\",\"2020-12-15T21:37:56\",\"2020-12-15T21:38:03\",\"2020-12-15T21:42:48\",\"2020-12-15T21:42:50\",\"2020-12-15T21:43:26\",\"2020-12-15T21:43:27\",\"2020-12-15T21:43:28\",\"2020-12-15T21:44:40\",\"2020-12-15T21:49:48\",\"2020-12-15T21:52:12\",\"2020-12-15T21:52:13\",\"2020-12-15T21:55:14\",\"2020-12-15T21:59:12\",\"2020-12-15T22:07:50\",\"2020-12-15T22:07:51\",\"2020-12-15T22:09:19\",\"2020-12-15T22:19:15\",\"2020-12-15T22:19:16\",\"2020-12-15T22:22:10\",\"2020-12-15T22:22:11\",\"2020-12-15T22:22:13\",\"2020-12-15T22:24:31\",\"2020-12-15T22:24:32\",\"2020-12-15T22:24:50\",\"2020-12-15T22:26:09\",\"2020-12-15T22:26:12\",\"2020-12-15T22:26:18\",\"2020-12-15T22:26:20\",\"2020-12-15T22:33:07\",\"2020-12-15T22:33:38\",\"2020-12-15T22:36:17\",\"2020-12-15T22:36:19\",\"2020-12-15T22:37:22\",\"2020-12-15T22:37:23\",\"2020-12-15T22:38:30\",\"2020-12-15T22:38:31\",\"2020-12-15T22:45:21\",\"2020-12-15T22:45:22\",\"2020-12-15T22:46:17\",\"2020-12-15T22:47:19\",\"2020-12-15T22:47:56\",\"2020-12-15T22:47:57\",\"2020-12-15T22:56:42\",\"2020-12-15T22:56:44\",\"2020-12-15T22:57:00\",\"2020-12-15T22:58:47\",\"2020-12-15T22:58:48\",\"2020-12-15T22:58:59\",\"2020-12-15T22:59:01\",\"2020-12-15T22:59:26\",\"2020-12-15T23:00:40\",\"2020-12-15T23:00:43\",\"2020-12-15T23:04:02\",\"2020-12-15T23:05:12\",\"2020-12-15T23:05:13\",\"2020-12-15T23:06:50\",\"2020-12-15T23:08:52\",\"2020-12-15T23:10:22\",\"2020-12-15T23:10:24\",\"2020-12-15T23:20:15\",\"2020-12-15T23:20:16\",\"2020-12-15T23:24:51\",\"2020-12-15T23:26:32\",\"2020-12-15T23:26:33\",\"2020-12-15T23:27:16\",\"2020-12-15T23:28:13\",\"2020-12-15T23:32:12\",\"2020-12-15T23:32:59\",\"2020-12-15T23:33:00\",\"2020-12-15T23:33:27\",\"2020-12-15T23:34:43\",\"2020-12-15T23:34:44\",\"2020-12-15T23:37:42\",\"2020-12-15T23:37:43\",\"2020-12-15T23:38:56\",\"2020-12-15T23:42:33\",\"2020-12-15T23:42:34\",\"2020-12-15T23:54:07\",\"2020-12-15T23:54:54\",\"2020-12-16T00:02:10\",\"2020-12-16T00:02:12\",\"2020-12-16T00:03:04\",\"2020-12-16T00:05:14\",\"2020-12-16T00:08:49\",\"2020-12-16T00:09:27\",\"2020-12-16T00:12:40\",\"2020-12-16T00:17:17\",\"2020-12-16T00:17:18\",\"2020-12-16T00:21:54\",\"2020-12-16T00:22:31\",\"2020-12-16T00:22:32\",\"2020-12-16T00:22:34\",\"2020-12-16T00:24:50\",\"2020-12-16T00:26:14\",\"2020-12-16T00:32:28\",\"2020-12-16T00:32:29\",\"2020-12-16T00:32:41\",\"2020-12-16T00:32:42\",\"2020-12-16T00:33:26\",\"2020-12-16T00:37:48\",\"2020-12-16T00:39:33\",\"2020-12-16T00:39:35\",\"2020-12-16T00:40:30\",\"2020-12-16T00:40:33\",\"2020-12-16T00:40:54\",\"2020-12-16T00:45:00\",\"2020-12-16T00:51:13\",\"2020-12-16T00:54:32\",\"2020-12-16T00:55:52\",\"2020-12-16T00:59:45\",\"2020-12-16T01:02:32\",\"2020-12-16T01:03:00\",\"2020-12-16T01:03:03\",\"2020-12-16T01:04:02\",\"2020-12-16T01:11:26\",\"2020-12-16T01:16:47\",\"2020-12-16T01:17:03\",\"2020-12-16T01:20:37\",\"2020-12-16T01:21:00\",\"2020-12-16T01:21:03\",\"2020-12-16T01:22:08\",\"2020-12-16T01:22:10\",\"2020-12-16T01:24:48\",\"2020-12-16T01:24:49\",\"2020-12-16T01:25:45\",\"2020-12-16T01:28:09\",\"2020-12-16T01:28:55\",\"2020-12-16T01:28:56\",\"2020-12-16T01:31:30\",\"2020-12-16T01:31:57\",\"2020-12-16T01:33:57\",\"2020-12-16T01:35:20\",\"2020-12-16T01:45:43\",\"2020-12-16T01:45:44\",\"2020-12-16T01:45:45\",\"2020-12-16T01:49:09\",\"2020-12-16T01:49:47\",\"2020-12-16T01:55:31\",\"2020-12-16T01:55:32\",\"2020-12-16T01:58:46\",\"2020-12-16T01:58:47\",\"2020-12-16T01:59:50\",\"2020-12-16T01:59:51\",\"2020-12-16T02:02:00\",\"2020-12-16T02:03:49\",\"2020-12-16T02:06:18\",\"2020-12-16T02:06:20\",\"2020-12-16T02:08:09\",\"2020-12-16T02:15:29\",\"2020-12-16T02:19:41\",\"2020-12-16T02:19:42\",\"2020-12-16T02:19:43\",\"2020-12-16T02:20:05\",\"2020-12-16T02:21:36\",\"2020-12-16T02:21:37\",\"2020-12-16T02:30:11\",\"2020-12-16T02:33:39\",\"2020-12-16T02:33:46\",\"2020-12-16T02:34:02\",\"2020-12-16T02:34:06\",\"2020-12-16T02:38:10\",\"2020-12-16T02:42:19\",\"2020-12-16T02:46:32\",\"2020-12-16T02:46:38\",\"2020-12-16T02:48:43\",\"2020-12-16T02:49:26\",\"2020-12-16T02:49:27\",\"2020-12-16T02:49:30\",\"2020-12-16T02:51:58\",\"2020-12-16T02:51:59\",\"2020-12-16T02:55:09\",\"2020-12-16T02:55:11\",\"2020-12-16T02:55:51\",\"2020-12-16T02:57:36\",\"2020-12-16T02:57:37\",\"2020-12-16T02:58:23\",\"2020-12-16T03:01:05\",\"2020-12-16T03:03:44\",\"2020-12-16T03:05:29\",\"2020-12-16T03:12:40\",\"2020-12-16T03:15:49\",\"2020-12-16T03:15:52\",\"2020-12-16T03:16:13\",\"2020-12-16T03:22:08\",\"2020-12-16T03:22:09\",\"2020-12-16T03:25:09\",\"2020-12-16T03:25:11\",\"2020-12-16T03:25:13\",\"2020-12-16T03:26:12\",\"2020-12-16T03:27:16\",\"2020-12-16T03:27:17\",\"2020-12-16T03:40:43\",\"2020-12-16T03:40:44\",\"2020-12-16T03:40:47\",\"2020-12-16T03:40:49\",\"2020-12-16T03:45:35\",\"2020-12-16T03:46:23\",\"2020-12-16T04:05:28\",\"2020-12-16T04:07:23\",\"2020-12-16T04:10:30\",\"2020-12-16T04:14:09\",\"2020-12-16T04:16:14\",\"2020-12-16T04:16:16\",\"2020-12-16T04:18:26\",\"2020-12-16T04:18:52\",\"2020-12-16T04:18:54\",\"2020-12-16T04:20:38\",\"2020-12-16T04:20:39\",\"2020-12-16T04:23:58\",\"2020-12-16T04:23:59\",\"2020-12-16T04:24:28\",\"2020-12-16T04:28:14\",\"2020-12-16T04:31:07\",\"2020-12-16T04:31:10\",\"2020-12-16T04:37:36\",\"2020-12-16T04:42:43\",\"2020-12-16T04:46:17\",\"2020-12-16T04:51:29\",\"2020-12-16T04:51:30\",\"2020-12-16T04:53:31\",\"2020-12-16T04:56:26\",\"2020-12-16T05:07:41\",\"2020-12-16T05:09:45\",\"2020-12-16T05:10:39\",\"2020-12-16T05:15:29\",\"2020-12-16T05:15:33\",\"2020-12-16T05:15:34\",\"2020-12-16T05:16:22\",\"2020-12-16T05:16:23\",\"2020-12-16T05:16:39\",\"2020-12-16T05:20:33\",\"2020-12-16T05:20:35\",\"2020-12-16T05:32:38\",\"2020-12-16T05:32:40\",\"2020-12-16T05:33:36\",\"2020-12-16T05:39:52\",\"2020-12-16T05:43:29\",\"2020-12-16T05:43:30\",\"2020-12-16T05:46:51\",\"2020-12-16T05:46:52\",\"2020-12-16T05:49:11\",\"2020-12-16T05:50:35\",\"2020-12-16T05:58:52\",\"2020-12-16T05:58:54\",\"2020-12-16T06:09:28\",\"2020-12-16T06:10:44\",\"2020-12-16T06:13:50\",\"2020-12-16T06:13:54\",\"2020-12-16T06:13:55\",\"2020-12-16T06:14:13\",\"2020-12-16T06:14:17\",\"2020-12-16T06:22:27\",\"2020-12-16T06:25:26\",\"2020-12-16T06:31:55\",\"2020-12-16T06:32:38\",\"2020-12-16T06:32:39\",\"2020-12-16T06:32:41\",\"2020-12-16T06:37:05\",\"2020-12-16T06:37:06\",\"2020-12-16T06:37:08\",\"2020-12-16T06:39:01\",\"2020-12-16T06:45:44\",\"2020-12-16T06:45:46\",\"2020-12-16T06:49:32\",\"2020-12-16T06:49:33\",\"2020-12-16T06:51:30\",\"2020-12-16T06:51:31\",\"2020-12-16T06:57:32\",\"2020-12-16T07:03:23\",\"2020-12-16T07:04:02\",\"2020-12-16T07:04:05\",\"2020-12-16T07:05:00\",\"2020-12-16T07:06:23\",\"2020-12-16T07:06:32\",\"2020-12-16T07:06:33\",\"2020-12-16T07:06:53\",\"2020-12-16T07:08:34\",\"2020-12-16T07:12:47\",\"2020-12-16T07:13:23\",\"2020-12-16T07:13:25\",\"2020-12-16T07:13:54\",\"2020-12-16T07:13:55\",\"2020-12-16T07:14:18\",\"2020-12-16T07:15:57\",\"2020-12-16T07:16:00\",\"2020-12-16T07:26:40\",\"2020-12-16T07:26:43\",\"2020-12-16T07:35:09\",\"2020-12-16T07:35:11\",\"2020-12-16T07:39:35\",\"2020-12-16T07:39:37\",\"2020-12-16T07:40:11\",\"2020-12-16T07:40:13\",\"2020-12-16T07:45:43\",\"2020-12-16T07:45:44\",\"2020-12-16T07:46:20\",\"2020-12-16T07:46:21\",\"2020-12-16T07:47:34\",\"2020-12-16T07:47:35\",\"2020-12-16T07:47:48\",\"2020-12-16T07:52:17\",\"2020-12-16T07:55:32\",\"2020-12-16T07:55:34\",\"2020-12-16T07:59:05\",\"2020-12-16T08:02:24\",\"2020-12-16T08:03:59\",\"2020-12-16T08:04:00\",\"2020-12-16T08:08:07\",\"2020-12-16T08:08:08\",\"2020-12-16T08:08:09\",\"2020-12-16T08:13:02\",\"2020-12-16T08:17:53\",\"2020-12-16T08:18:52\",\"2020-12-16T08:20:48\",\"2020-12-16T08:24:59\",\"2020-12-16T08:26:48\",\"2020-12-16T08:30:41\",\"2020-12-16T08:30:43\",\"2020-12-16T08:34:10\",\"2020-12-16T08:39:06\",\"2020-12-16T08:40:23\",\"2020-12-16T08:40:24\",\"2020-12-16T08:40:44\",\"2020-12-16T08:40:45\",\"2020-12-16T08:42:14\",\"2020-12-16T08:44:13\",\"2020-12-16T08:44:14\",\"2020-12-16T08:46:01\",\"2020-12-16T08:47:23\",\"2020-12-16T08:47:41\",\"2020-12-16T08:47:42\",\"2020-12-16T08:49:10\",\"2020-12-16T08:49:13\",\"2020-12-16T08:49:16\",\"2020-12-16T08:51:16\",\"2020-12-16T08:53:35\",\"2020-12-16T08:57:17\",\"2020-12-16T09:03:33\",\"2020-12-16T09:03:35\",\"2020-12-16T09:08:13\",\"2020-12-16T09:08:14\",\"2020-12-16T09:11:09\",\"2020-12-16T09:14:49\",\"2020-12-16T09:14:51\",\"2020-12-16T09:18:42\",\"2020-12-16T09:18:43\",\"2020-12-16T09:19:15\",\"2020-12-16T09:19:16\",\"2020-12-16T09:19:38\",\"2020-12-16T09:19:40\",\"2020-12-16T09:20:08\",\"2020-12-16T09:20:09\",\"2020-12-16T09:20:20\",\"2020-12-16T09:21:10\",\"2020-12-16T09:22:57\",\"2020-12-16T09:24:08\",\"2020-12-16T09:26:49\",\"2020-12-16T09:27:48\",\"2020-12-16T09:32:42\",\"2020-12-16T09:36:27\",\"2020-12-16T09:41:03\",\"2020-12-16T09:45:32\",\"2020-12-16T09:45:33\",\"2020-12-16T09:45:34\",\"2020-12-16T09:48:34\",\"2020-12-16T09:48:35\",\"2020-12-16T09:50:08\",\"2020-12-16T09:50:10\",\"2020-12-16T09:55:16\",\"2020-12-16T09:55:20\",\"2020-12-16T09:59:43\",\"2020-12-16T09:59:45\",\"2020-12-16T10:03:25\",\"2020-12-16T10:03:26\",\"2020-12-16T10:09:22\",\"2020-12-16T10:13:28\",\"2020-12-16T10:13:49\",\"2020-12-16T10:17:24\",\"2020-12-16T10:22:02\",\"2020-12-16T10:22:08\",\"2020-12-16T10:23:27\",\"2020-12-16T10:26:44\",\"2020-12-16T10:26:45\",\"2020-12-16T10:26:46\",\"2020-12-16T10:27:57\",\"2020-12-16T10:30:34\",\"2020-12-16T10:30:36\",\"2020-12-16T10:31:30\",\"2020-12-16T10:31:31\",\"2020-12-16T10:43:56\",\"2020-12-16T10:43:57\",\"2020-12-16T10:49:35\",\"2020-12-16T10:49:37\",\"2020-12-16T10:49:38\",\"2020-12-16T10:51:17\",\"2020-12-16T10:51:18\",\"2020-12-16T10:59:43\",\"2020-12-16T10:59:44\",\"2020-12-16T11:09:17\",\"2020-12-16T11:16:31\",\"2020-12-16T11:43:52\",\"2020-12-16T11:50:09\",\"2020-12-16T11:50:10\",\"2020-12-16T11:51:18\",\"2020-12-16T11:56:58\",\"2020-12-16T11:57:01\",\"2020-12-16T11:57:27\",\"2020-12-16T11:59:00\",\"2020-12-16T11:59:01\",\"2020-12-16T12:04:35\",\"2020-12-16T12:04:36\",\"2020-12-16T12:09:12\",\"2020-12-16T12:09:14\",\"2020-12-16T12:20:06\",\"2020-12-16T12:27:40\",\"2020-12-16T12:27:44\",\"2020-12-16T12:28:30\",\"2020-12-16T12:31:07\",\"2020-12-16T12:31:38\",\"2020-12-16T12:31:39\",\"2020-12-16T12:40:08\",\"2020-12-16T12:45:34\",\"2020-12-16T12:47:16\",\"2020-12-16T12:47:17\",\"2020-12-16T12:49:20\",\"2020-12-16T12:49:28\",\"2020-12-16T12:55:33\",\"2020-12-16T12:55:35\",\"2020-12-16T13:05:32\",\"2020-12-16T13:05:33\",\"2020-12-16T13:08:04\",\"2020-12-16T13:08:05\",\"2020-12-16T13:11:26\",\"2020-12-16T13:19:17\",\"2020-12-16T13:22:00\",\"2020-12-16T13:25:13\",\"2020-12-16T13:30:12\",\"2020-12-16T13:30:50\",\"2020-12-16T13:30:51\",\"2020-12-16T13:40:27\",\"2020-12-16T13:40:56\",\"2020-12-16T13:42:05\",\"2020-12-16T13:42:06\",\"2020-12-16T13:46:24\",\"2020-12-16T13:48:24\",\"2020-12-16T13:48:26\",\"2020-12-16T13:50:22\",\"2020-12-16T13:51:29\",\"2020-12-16T13:52:28\",\"2020-12-16T13:53:21\",\"2020-12-16T13:57:01\",\"2020-12-16T13:57:04\",\"2020-12-16T13:58:19\",\"2020-12-16T13:59:12\",\"2020-12-16T13:59:15\",\"2020-12-16T13:59:17\",\"2020-12-16T13:59:19\",\"2020-12-16T14:00:20\",\"2020-12-16T14:00:23\",\"2020-12-16T14:00:24\",\"2020-12-16T14:01:21\",\"2020-12-16T14:03:18\",\"2020-12-16T14:03:20\",\"2020-12-16T14:03:49\",\"2020-12-16T14:03:50\",\"2020-12-16T14:04:35\",\"2020-12-16T14:07:31\",\"2020-12-16T14:07:32\",\"2020-12-16T14:07:57\",\"2020-12-16T14:07:58\",\"2020-12-16T14:08:28\",\"2020-12-16T14:08:31\",\"2020-12-16T14:08:46\",\"2020-12-16T14:08:47\",\"2020-12-16T14:11:58\",\"2020-12-16T14:12:00\",\"2020-12-16T14:20:04\",\"2020-12-16T14:20:05\",\"2020-12-16T14:20:12\",\"2020-12-16T14:20:16\",\"2020-12-16T14:21:20\",\"2020-12-16T14:31:38\",\"2020-12-16T14:34:40\",\"2020-12-16T14:39:16\",\"2020-12-16T14:39:17\",\"2020-12-16T14:43:38\",\"2020-12-16T14:45:30\",\"2020-12-16T14:49:44\",\"2020-12-16T14:57:03\",\"2020-12-16T14:59:33\",\"2020-12-16T14:59:36\",\"2020-12-16T15:06:36\",\"2020-12-16T15:08:26\",\"2020-12-16T15:10:55\",\"2020-12-16T15:10:56\",\"2020-12-16T15:16:03\",\"2020-12-16T15:17:38\",\"2020-12-16T15:17:40\",\"2020-12-16T15:22:58\",\"2020-12-16T15:23:01\",\"2020-12-16T15:23:17\",\"2020-12-16T15:23:19\",\"2020-12-16T15:25:49\",\"2020-12-16T15:25:51\",\"2020-12-16T15:31:30\",\"2020-12-16T15:31:34\",\"2020-12-16T15:31:59\",\"2020-12-16T15:32:01\",\"2020-12-16T15:36:43\",\"2020-12-16T15:36:45\",\"2020-12-16T15:41:12\",\"2020-12-16T15:41:43\",\"2020-12-16T15:41:45\",\"2020-12-16T15:49:02\",\"2020-12-16T15:49:04\",\"2020-12-16T16:00:57\",\"2020-12-16T16:06:51\",\"2020-12-16T16:07:28\",\"2020-12-16T16:08:04\",\"2020-12-16T16:14:57\",\"2020-12-16T16:16:45\",\"2020-12-16T16:16:46\",\"2020-12-16T16:18:39\",\"2020-12-16T16:18:40\",\"2020-12-16T16:22:29\",\"2020-12-16T16:23:27\",\"2020-12-16T16:24:17\",\"2020-12-16T16:24:18\",\"2020-12-16T16:30:05\",\"2020-12-16T16:30:06\",\"2020-12-16T16:36:18\",\"2020-12-16T16:36:19\",\"2020-12-16T16:36:33\",\"2020-12-16T16:37:46\",\"2020-12-16T16:37:47\",\"2020-12-16T16:49:10\",\"2020-12-16T16:49:11\",\"2020-12-16T16:49:12\",\"2020-12-16T16:54:21\",\"2020-12-16T16:54:22\",\"2020-12-16T16:55:40\",\"2020-12-16T16:57:25\",\"2020-12-16T16:58:53\",\"2020-12-16T16:58:54\",\"2020-12-16T17:00:32\",\"2020-12-16T17:04:36\",\"2020-12-16T17:18:28\",\"2020-12-16T17:18:30\",\"2020-12-16T17:25:12\",\"2020-12-16T17:26:15\",\"2020-12-16T17:26:17\",\"2020-12-16T17:30:48\",\"2020-12-16T17:33:22\",\"2020-12-16T17:33:23\",\"2020-12-16T17:34:39\",\"2020-12-16T17:34:40\",\"2020-12-16T17:42:25\",\"2020-12-16T17:42:27\",\"2020-12-16T17:43:02\",\"2020-12-16T17:50:42\",\"2020-12-16T17:52:21\",\"2020-12-16T17:52:24\",\"2020-12-16T17:55:08\",\"2020-12-16T17:55:09\",\"2020-12-16T17:56:00\",\"2020-12-16T17:56:01\",\"2020-12-16T18:01:48\",\"2020-12-16T18:03:01\",\"2020-12-16T18:22:00\",\"2020-12-16T18:22:02\",\"2020-12-16T18:25:30\",\"2020-12-16T18:25:31\",\"2020-12-16T18:27:31\",\"2020-12-16T18:30:58\",\"2020-12-16T18:34:21\",\"2020-12-16T18:34:24\",\"2020-12-16T18:40:15\",\"2020-12-16T18:40:18\",\"2020-12-16T18:48:27\",\"2020-12-16T18:48:28\",\"2020-12-16T18:48:56\",\"2020-12-16T18:49:57\",\"2020-12-16T18:59:08\",\"2020-12-16T19:01:46\",\"2020-12-16T19:01:47\",\"2020-12-16T19:05:05\",\"2020-12-16T19:05:06\",\"2020-12-16T19:05:54\",\"2020-12-16T19:10:28\",\"2020-12-16T19:10:29\",\"2020-12-16T19:12:02\",\"2020-12-16T19:15:13\",\"2020-12-16T19:20:45\",\"2020-12-16T19:26:16\",\"2020-12-16T19:27:04\",\"2020-12-16T19:37:15\",\"2020-12-16T19:38:28\",\"2020-12-16T19:38:29\",\"2020-12-16T19:42:03\",\"2020-12-16T19:45:33\",\"2020-12-16T19:45:53\",\"2020-12-16T19:47:35\",\"2020-12-16T19:49:44\",\"2020-12-16T19:49:52\",\"2020-12-16T19:54:18\",\"2020-12-16T19:54:23\",\"2020-12-16T19:54:24\",\"2020-12-16T19:56:32\",\"2020-12-16T19:56:33\",\"2020-12-16T19:57:03\",\"2020-12-16T19:57:06\",\"2020-12-16T19:57:09\",\"2020-12-16T19:57:12\",\"2020-12-16T20:04:59\",\"2020-12-16T20:05:00\",\"2020-12-16T20:10:20\",\"2020-12-16T20:10:21\",\"2020-12-16T20:14:47\",\"2020-12-16T20:14:50\",\"2020-12-16T20:14:51\",\"2020-12-16T20:24:34\",\"2020-12-16T20:24:36\",\"2020-12-16T20:32:03\",\"2020-12-16T20:32:40\",\"2020-12-16T20:34:40\",\"2020-12-16T20:34:41\",\"2020-12-16T20:46:28\",\"2020-12-16T20:46:29\",\"2020-12-16T20:46:33\",\"2020-12-16T20:46:35\",\"2020-12-16T20:48:24\",\"2020-12-16T20:49:05\",\"2020-12-16T20:49:06\",\"2020-12-16T20:54:44\",\"2020-12-16T20:54:46\",\"2020-12-16T20:55:25\",\"2020-12-16T20:55:26\",\"2020-12-16T20:58:35\",\"2020-12-16T20:58:38\",\"2020-12-16T20:58:41\",\"2020-12-16T21:00:05\",\"2020-12-16T21:00:30\",\"2020-12-16T21:00:31\",\"2020-12-16T21:06:30\",\"2020-12-16T21:06:31\",\"2020-12-16T21:09:07\",\"2020-12-16T21:09:08\",\"2020-12-16T21:09:23\",\"2020-12-16T21:09:24\",\"2020-12-16T21:09:26\",\"2020-12-16T21:09:59\",\"2020-12-16T21:12:48\",\"2020-12-16T21:12:50\",\"2020-12-16T21:14:10\",\"2020-12-16T21:14:11\",\"2020-12-16T21:16:54\",\"2020-12-16T21:16:56\",\"2020-12-16T21:21:53\",\"2020-12-16T21:21:54\",\"2020-12-16T21:25:28\",\"2020-12-16T21:25:31\",\"2020-12-16T21:31:30\",\"2020-12-16T21:37:13\",\"2020-12-16T21:37:14\",\"2020-12-16T21:37:15\",\"2020-12-16T21:39:16\",\"2020-12-16T21:39:19\",\"2020-12-16T21:40:58\",\"2020-12-16T21:42:22\",\"2020-12-16T21:42:25\",\"2020-12-16T21:44:34\",\"2020-12-16T21:47:35\",\"2020-12-16T21:55:36\",\"2020-12-16T21:55:38\",\"2020-12-16T21:55:39\",\"2020-12-16T21:58:22\",\"2020-12-16T21:58:23\",\"2020-12-16T21:58:24\",\"2020-12-16T22:04:37\",\"2020-12-16T22:06:21\",\"2020-12-16T22:08:56\",\"2020-12-16T22:14:21\",\"2020-12-16T22:14:22\",\"2020-12-16T22:18:33\",\"2020-12-16T22:18:35\",\"2020-12-16T22:21:58\",\"2020-12-16T22:27:32\",\"2020-12-16T22:36:05\",\"2020-12-16T22:36:07\",\"2020-12-16T22:37:20\",\"2020-12-16T22:37:21\",\"2020-12-16T22:37:25\",\"2020-12-16T22:40:51\",\"2020-12-16T22:40:52\",\"2020-12-16T22:42:15\",\"2020-12-16T22:46:14\",\"2020-12-16T22:49:16\",\"2020-12-16T22:49:17\",\"2020-12-16T22:49:54\",\"2020-12-16T22:51:41\",\"2020-12-16T22:52:19\",\"2020-12-16T22:55:38\",\"2020-12-16T22:55:39\",\"2020-12-16T23:03:59\",\"2020-12-16T23:04:01\",\"2020-12-16T23:10:13\",\"2020-12-16T23:20:17\",\"2020-12-16T23:20:18\",\"2020-12-16T23:21:21\",\"2020-12-16T23:21:22\",\"2020-12-16T23:22:06\",\"2020-12-16T23:26:12\",\"2020-12-16T23:26:13\",\"2020-12-16T23:30:33\",\"2020-12-16T23:32:54\",\"2020-12-16T23:32:56\",\"2020-12-16T23:35:36\",\"2020-12-16T23:40:28\",\"2020-12-16T23:40:29\",\"2020-12-16T23:41:45\",\"2020-12-16T23:43:28\",\"2020-12-16T23:45:02\",\"2020-12-16T23:45:05\",\"2020-12-16T23:45:10\",\"2020-12-16T23:45:12\",\"2020-12-16T23:46:19\",\"2020-12-16T23:46:23\",\"2020-12-16T23:49:15\",\"2020-12-16T23:50:48\",\"2020-12-16T23:50:49\",\"2020-12-16T23:51:46\",\"2020-12-16T23:56:59\",\"2020-12-16T23:57:00\",\"2020-12-16T23:57:58\",\"2020-12-16T23:58:03\",\"2020-12-16T23:58:54\",\"2020-12-17T00:00:50\",\"2020-12-17T00:01:52\",\"2020-12-17T00:04:59\",\"2020-12-17T00:05:01\",\"2020-12-17T00:05:42\",\"2020-12-17T00:05:44\",\"2020-12-17T00:14:03\",\"2020-12-17T00:15:21\",\"2020-12-17T00:19:21\",\"2020-12-17T00:20:40\",\"2020-12-17T00:20:41\",\"2020-12-17T00:20:42\",\"2020-12-17T00:23:47\",\"2020-12-17T00:25:01\",\"2020-12-17T00:31:49\",\"2020-12-17T00:31:51\",\"2020-12-17T00:41:06\",\"2020-12-17T00:41:48\",\"2020-12-17T00:47:54\",\"2020-12-17T00:54:44\",\"2020-12-17T00:54:50\",\"2020-12-17T00:58:11\",\"2020-12-17T00:59:17\",\"2020-12-17T01:02:26\",\"2020-12-17T01:02:28\",\"2020-12-17T01:04:11\",\"2020-12-17T01:13:13\",\"2020-12-17T01:21:14\",\"2020-12-17T01:21:17\",\"2020-12-17T01:22:20\",\"2020-12-17T01:23:17\",\"2020-12-17T01:25:22\",\"2020-12-17T01:26:56\",\"2020-12-17T01:31:25\",\"2020-12-17T01:35:58\",\"2020-12-17T01:36:21\",\"2020-12-17T01:42:00\",\"2020-12-17T01:42:01\",\"2020-12-17T01:49:55\",\"2020-12-17T01:50:23\",\"2020-12-17T01:50:24\",\"2020-12-17T01:51:29\",\"2020-12-17T01:51:31\",\"2020-12-17T01:53:49\",\"2020-12-17T01:53:51\",\"2020-12-17T01:56:40\",\"2020-12-17T01:58:51\",\"2020-12-17T01:58:53\",\"2020-12-17T01:58:58\",\"2020-12-17T02:03:57\",\"2020-12-17T02:05:09\",\"2020-12-17T02:06:22\",\"2020-12-17T02:06:23\",\"2020-12-17T02:09:03\",\"2020-12-17T02:14:31\",\"2020-12-17T02:14:36\",\"2020-12-17T02:15:07\",\"2020-12-17T02:16:41\",\"2020-12-17T02:23:15\",\"2020-12-17T02:24:17\",\"2020-12-17T02:26:08\",\"2020-12-17T02:26:36\",\"2020-12-17T02:29:01\",\"2020-12-17T02:29:02\",\"2020-12-17T02:32:34\",\"2020-12-17T02:32:35\",\"2020-12-17T02:33:34\",\"2020-12-17T02:33:36\",\"2020-12-17T02:36:49\",\"2020-12-17T02:38:10\",\"2020-12-17T02:38:11\",\"2020-12-17T02:44:09\",\"2020-12-17T02:44:11\",\"2020-12-17T02:46:28\",\"2020-12-17T02:46:29\",\"2020-12-17T02:51:15\",\"2020-12-17T02:51:16\",\"2020-12-17T02:51:58\",\"2020-12-17T02:54:08\",\"2020-12-17T02:59:59\",\"2020-12-17T03:00:06\",\"2020-12-17T03:00:09\",\"2020-12-17T03:05:21\",\"2020-12-17T03:07:05\",\"2020-12-17T03:10:18\",\"2020-12-17T03:12:36\",\"2020-12-17T03:14:13\",\"2020-12-17T03:14:14\",\"2020-12-17T03:19:51\",\"2020-12-17T03:19:53\",\"2020-12-17T03:20:23\",\"2020-12-17T03:20:24\",\"2020-12-17T03:21:49\",\"2020-12-17T03:24:14\",\"2020-12-17T03:24:16\",\"2020-12-17T03:24:17\",\"2020-12-17T03:26:15\",\"2020-12-17T03:26:17\",\"2020-12-17T03:26:19\",\"2020-12-17T03:29:11\",\"2020-12-17T03:31:08\",\"2020-12-17T03:35:44\",\"2020-12-17T03:35:46\",\"2020-12-17T03:35:57\",\"2020-12-17T03:35:58\",\"2020-12-17T03:36:17\",\"2020-12-17T03:36:18\",\"2020-12-17T03:37:04\",\"2020-12-17T03:37:07\",\"2020-12-17T03:37:39\",\"2020-12-17T03:46:13\",\"2020-12-17T03:46:14\",\"2020-12-17T03:46:23\",\"2020-12-17T03:48:12\",\"2020-12-17T03:48:45\",\"2020-12-17T03:48:47\",\"2020-12-17T03:50:53\",\"2020-12-17T03:50:56\",\"2020-12-17T03:58:45\",\"2020-12-17T04:02:06\",\"2020-12-17T04:02:07\",\"2020-12-17T04:05:12\",\"2020-12-17T04:06:26\",\"2020-12-17T04:06:28\",\"2020-12-17T04:17:03\",\"2020-12-17T04:21:38\",\"2020-12-17T04:21:42\",\"2020-12-17T04:31:19\",\"2020-12-17T04:34:35\",\"2020-12-17T04:35:10\",\"2020-12-17T04:35:11\",\"2020-12-17T04:37:09\",\"2020-12-17T04:37:11\",\"2020-12-17T04:52:48\",\"2020-12-17T04:52:49\",\"2020-12-17T04:54:58\",\"2020-12-17T04:55:05\",\"2020-12-17T04:55:06\",\"2020-12-17T04:56:17\",\"2020-12-17T04:56:28\",\"2020-12-17T04:59:03\",\"2020-12-17T04:59:05\",\"2020-12-17T04:59:42\",\"2020-12-17T04:59:45\",\"2020-12-17T05:06:53\",\"2020-12-17T05:12:50\",\"2020-12-17T05:13:04\",\"2020-12-17T05:15:08\",\"2020-12-17T05:17:42\",\"2020-12-17T05:17:44\",\"2020-12-17T05:19:43\",\"2020-12-17T05:20:46\",\"2020-12-17T05:20:47\",\"2020-12-17T05:21:07\",\"2020-12-17T05:21:08\",\"2020-12-17T05:21:10\",\"2020-12-17T05:36:45\",\"2020-12-17T05:39:16\",\"2020-12-17T05:39:19\",\"2020-12-17T05:43:27\",\"2020-12-17T05:43:28\",\"2020-12-17T05:43:55\",\"2020-12-17T05:43:56\",\"2020-12-17T05:43:57\",\"2020-12-17T05:44:32\",\"2020-12-17T05:44:36\",\"2020-12-17T05:46:34\",\"2020-12-17T05:52:31\",\"2020-12-17T05:52:33\",\"2020-12-17T05:53:37\",\"2020-12-17T05:53:38\",\"2020-12-17T05:56:59\",\"2020-12-17T06:06:29\",\"2020-12-17T06:06:30\",\"2020-12-17T06:08:42\",\"2020-12-17T06:09:46\",\"2020-12-17T06:09:47\",\"2020-12-17T06:11:50\",\"2020-12-17T06:13:58\",\"2020-12-17T06:16:28\",\"2020-12-17T06:16:29\",\"2020-12-17T06:16:39\",\"2020-12-17T06:17:49\",\"2020-12-17T06:23:35\",\"2020-12-17T06:23:37\",\"2020-12-17T06:23:38\",\"2020-12-17T06:23:44\",\"2020-12-17T06:25:44\",\"2020-12-17T06:31:21\",\"2020-12-17T06:31:22\",\"2020-12-17T06:31:23\",\"2020-12-17T06:34:02\",\"2020-12-17T06:44:24\",\"2020-12-17T06:44:25\",\"2020-12-17T06:48:14\",\"2020-12-17T06:49:05\",\"2020-12-17T06:50:13\",\"2020-12-17T06:54:16\",\"2020-12-17T06:54:22\",\"2020-12-17T06:54:47\",\"2020-12-17T06:54:50\",\"2020-12-17T07:00:04\",\"2020-12-17T07:00:05\",\"2020-12-17T07:01:55\",\"2020-12-17T07:01:57\",\"2020-12-17T07:03:49\",\"2020-12-17T07:11:21\",\"2020-12-17T07:11:43\",\"2020-12-17T07:11:44\",\"2020-12-17T07:13:23\",\"2020-12-17T07:14:15\",\"2020-12-17T07:19:22\",\"2020-12-17T07:21:41\",\"2020-12-17T07:23:25\",\"2020-12-17T07:23:36\",\"2020-12-17T07:23:38\",\"2020-12-17T07:24:38\",\"2020-12-17T07:24:40\",\"2020-12-17T07:25:58\",\"2020-12-17T07:27:57\",\"2020-12-17T07:30:49\",\"2020-12-17T07:31:05\",\"2020-12-17T07:31:07\",\"2020-12-17T07:33:58\",\"2020-12-17T07:34:00\",\"2020-12-17T07:34:01\",\"2020-12-17T07:36:21\",\"2020-12-17T07:36:22\",\"2020-12-17T07:39:51\",\"2020-12-17T07:43:15\",\"2020-12-17T07:43:17\",\"2020-12-17T07:44:28\",\"2020-12-17T07:45:23\",\"2020-12-17T07:45:54\",\"2020-12-17T07:47:30\",\"2020-12-17T07:47:32\",\"2020-12-17T07:52:44\",\"2020-12-17T07:53:12\",\"2020-12-17T07:53:31\",\"2020-12-17T07:55:56\",\"2020-12-17T08:00:57\",\"2020-12-17T08:00:58\",\"2020-12-17T08:03:12\",\"2020-12-17T08:04:28\",\"2020-12-17T08:04:43\",\"2020-12-17T08:04:44\",\"2020-12-17T08:05:40\",\"2020-12-17T08:15:40\",\"2020-12-17T08:15:41\",\"2020-12-17T08:15:42\",\"2020-12-17T08:15:50\",\"2020-12-17T08:15:51\",\"2020-12-17T08:16:08\",\"2020-12-17T08:16:09\",\"2020-12-17T08:19:57\",\"2020-12-17T08:23:44\",\"2020-12-17T08:23:45\",\"2020-12-17T08:31:05\",\"2020-12-17T08:31:08\",\"2020-12-17T08:34:03\",\"2020-12-17T08:36:53\",\"2020-12-17T08:37:30\",\"2020-12-17T08:42:10\",\"2020-12-17T08:42:13\",\"2020-12-17T08:43:24\",\"2020-12-17T08:43:25\",\"2020-12-17T08:45:52\",\"2020-12-17T08:46:13\",\"2020-12-17T08:46:14\",\"2020-12-17T08:46:15\",\"2020-12-17T08:46:36\",\"2020-12-17T08:54:35\",\"2020-12-17T08:54:38\",\"2020-12-17T08:56:42\",\"2020-12-17T08:56:46\",\"2020-12-17T08:58:15\",\"2020-12-17T08:58:17\",\"2020-12-17T08:58:56\",\"2020-12-17T08:58:57\",\"2020-12-17T09:00:02\",\"2020-12-17T09:00:04\",\"2020-12-17T09:01:55\",\"2020-12-17T09:01:56\",\"2020-12-17T09:01:57\",\"2020-12-17T09:05:40\",\"2020-12-17T09:10:53\",\"2020-12-17T09:10:56\",\"2020-12-17T09:11:35\",\"2020-12-17T09:12:31\",\"2020-12-17T09:12:32\",\"2020-12-17T09:14:23\",\"2020-12-17T09:16:15\",\"2020-12-17T09:16:17\",\"2020-12-17T09:16:19\",\"2020-12-17T09:16:20\",\"2020-12-17T09:18:47\",\"2020-12-17T09:19:17\",\"2020-12-17T09:19:18\",\"2020-12-17T09:20:02\",\"2020-12-17T09:22:21\",\"2020-12-17T09:22:22\",\"2020-12-17T09:24:57\",\"2020-12-17T09:27:19\",\"2020-12-17T09:27:21\",\"2020-12-17T09:27:25\",\"2020-12-17T09:35:10\",\"2020-12-17T09:35:12\",\"2020-12-17T09:39:03\",\"2020-12-17T09:39:04\",\"2020-12-17T09:39:40\",\"2020-12-17T09:41:44\",\"2020-12-17T09:43:25\",\"2020-12-17T09:43:51\",\"2020-12-17T09:43:54\",\"2020-12-17T09:44:39\",\"2020-12-17T09:45:13\",\"2020-12-17T09:48:48\",\"2020-12-17T09:50:07\",\"2020-12-17T09:52:10\",\"2020-12-17T09:52:11\",\"2020-12-17T09:54:10\",\"2020-12-17T09:54:11\",\"2020-12-17T09:55:05\",\"2020-12-17T09:55:08\",\"2020-12-17T09:58:43\",\"2020-12-17T09:58:44\",\"2020-12-17T09:59:48\",\"2020-12-17T09:59:50\",\"2020-12-17T10:05:53\",\"2020-12-17T10:05:54\",\"2020-12-17T10:07:00\",\"2020-12-17T10:07:01\",\"2020-12-17T10:09:20\",\"2020-12-17T10:09:26\",\"2020-12-17T10:10:58\",\"2020-12-17T10:10:59\",\"2020-12-17T10:12:22\",\"2020-12-17T10:15:50\",\"2020-12-17T10:15:51\",\"2020-12-17T10:19:45\",\"2020-12-17T10:20:51\",\"2020-12-17T10:29:21\",\"2020-12-17T10:39:03\",\"2020-12-17T10:40:06\",\"2020-12-17T10:41:24\",\"2020-12-17T10:42:14\",\"2020-12-17T10:42:15\",\"2020-12-17T10:42:16\",\"2020-12-17T10:45:17\",\"2020-12-17T10:45:18\",\"2020-12-17T10:47:24\",\"2020-12-17T10:47:26\",\"2020-12-17T10:47:31\",\"2020-12-17T10:49:43\",\"2020-12-17T10:49:50\",\"2020-12-17T10:51:36\",\"2020-12-17T10:53:01\",\"2020-12-17T10:55:44\",\"2020-12-17T10:57:20\",\"2020-12-17T10:57:22\",\"2020-12-17T10:58:01\",\"2020-12-17T11:04:37\",\"2020-12-17T11:07:51\",\"2020-12-17T11:13:30\",\"2020-12-17T11:16:35\",\"2020-12-17T11:17:19\",\"2020-12-17T11:17:21\",\"2020-12-17T11:19:19\",\"2020-12-17T11:19:22\",\"2020-12-17T11:27:33\",\"2020-12-17T11:30:44\",\"2020-12-17T11:32:48\",\"2020-12-17T11:33:00\",\"2020-12-17T11:33:55\",\"2020-12-17T11:34:17\",\"2020-12-17T11:34:18\",\"2020-12-17T11:37:34\",\"2020-12-17T11:37:36\",\"2020-12-17T11:39:50\",\"2020-12-17T11:39:51\",\"2020-12-17T11:42:05\",\"2020-12-17T11:43:37\",\"2020-12-17T11:43:38\",\"2020-12-17T11:45:43\",\"2020-12-17T11:46:44\",\"2020-12-17T11:46:46\",\"2020-12-17T11:46:47\",\"2020-12-17T11:49:37\",\"2020-12-17T11:49:38\",\"2020-12-17T11:49:39\",\"2020-12-17T11:51:27\",\"2020-12-17T11:57:54\",\"2020-12-17T12:00:28\",\"2020-12-17T12:06:34\",\"2020-12-17T12:06:35\",\"2020-12-17T12:09:32\",\"2020-12-17T12:11:29\",\"2020-12-17T12:14:20\",\"2020-12-17T12:17:54\",\"2020-12-17T12:18:34\",\"2020-12-17T12:18:38\",\"2020-12-17T12:24:08\",\"2020-12-17T12:25:05\",\"2020-12-17T12:33:16\",\"2020-12-17T12:35:24\",\"2020-12-17T12:35:26\",\"2020-12-17T12:36:03\",\"2020-12-17T12:36:04\",\"2020-12-17T12:38:03\",\"2020-12-17T12:38:04\",\"2020-12-17T12:39:00\",\"2020-12-17T12:40:24\",\"2020-12-17T12:42:47\",\"2020-12-17T12:42:48\",\"2020-12-17T12:42:49\",\"2020-12-17T12:44:34\",\"2020-12-17T12:51:07\",\"2020-12-17T12:53:24\",\"2020-12-17T12:53:27\",\"2020-12-17T12:53:35\",\"2020-12-17T12:57:04\",\"2020-12-17T12:58:44\",\"2020-12-17T13:10:09\",\"2020-12-17T13:10:10\",\"2020-12-17T13:12:44\",\"2020-12-17T13:12:46\",\"2020-12-17T13:15:27\",\"2020-12-17T13:17:04\",\"2020-12-17T13:18:00\",\"2020-12-17T13:24:16\",\"2020-12-17T13:24:17\",\"2020-12-17T13:24:26\",\"2020-12-17T13:24:28\",\"2020-12-17T13:25:14\",\"2020-12-17T13:25:17\",\"2020-12-17T13:26:14\",\"2020-12-17T13:30:50\",\"2020-12-17T13:30:51\",\"2020-12-17T13:35:49\",\"2020-12-17T13:35:50\",\"2020-12-17T13:35:51\",\"2020-12-17T13:45:44\",\"2020-12-17T13:46:11\",\"2020-12-17T13:46:12\",\"2020-12-17T13:48:27\",\"2020-12-17T13:48:28\",\"2020-12-17T13:52:23\",\"2020-12-17T13:55:44\",\"2020-12-17T13:55:45\",\"2020-12-17T13:59:01\",\"2020-12-17T13:59:02\",\"2020-12-17T14:00:30\",\"2020-12-17T14:00:31\",\"2020-12-17T14:00:34\",\"2020-12-17T14:01:05\",\"2020-12-17T14:01:07\",\"2020-12-17T14:03:44\",\"2020-12-17T14:03:45\",\"2020-12-17T14:04:18\",\"2020-12-17T14:08:39\",\"2020-12-17T14:10:37\",\"2020-12-17T14:16:14\",\"2020-12-17T14:16:15\",\"2020-12-17T14:17:49\",\"2020-12-17T14:17:50\",\"2020-12-17T14:17:51\",\"2020-12-17T14:19:17\",\"2020-12-17T14:19:19\",\"2020-12-17T14:31:42\",\"2020-12-17T14:33:57\",\"2020-12-17T14:33:58\",\"2020-12-17T14:34:15\",\"2020-12-17T14:34:34\",\"2020-12-17T14:35:35\",\"2020-12-17T14:35:38\",\"2020-12-17T14:38:30\",\"2020-12-17T14:38:31\",\"2020-12-17T14:38:42\",\"2020-12-17T14:38:43\",\"2020-12-17T14:42:41\",\"2020-12-17T14:42:42\",\"2020-12-17T14:48:52\",\"2020-12-17T14:48:55\",\"2020-12-17T14:55:10\",\"2020-12-17T14:55:11\",\"2020-12-17T15:08:37\",\"2020-12-17T15:09:53\",\"2020-12-17T15:09:55\",\"2020-12-17T15:12:24\",\"2020-12-17T15:12:42\",\"2020-12-17T15:12:44\",\"2020-12-17T15:24:38\",\"2020-12-17T15:24:39\",\"2020-12-17T15:29:39\",\"2020-12-17T15:30:42\",\"2020-12-17T15:30:44\",\"2020-12-17T15:34:15\",\"2020-12-17T15:34:19\",\"2020-12-17T15:39:43\",\"2020-12-17T15:39:46\",\"2020-12-17T15:54:50\",\"2020-12-17T15:54:51\",\"2020-12-17T15:55:34\",\"2020-12-17T15:58:08\",\"2020-12-17T15:58:10\",\"2020-12-17T15:59:46\",\"2020-12-17T15:59:48\",\"2020-12-17T16:00:16\",\"2020-12-17T16:01:59\",\"2020-12-17T16:02:24\",\"2020-12-17T16:02:30\",\"2020-12-17T16:04:26\",\"2020-12-17T16:04:27\",\"2020-12-17T16:04:28\",\"2020-12-17T16:04:53\",\"2020-12-17T16:05:53\",\"2020-12-17T16:08:30\",\"2020-12-17T16:09:34\",\"2020-12-17T16:09:36\",\"2020-12-17T16:10:56\",\"2020-12-17T16:11:34\",\"2020-12-17T16:11:37\",\"2020-12-17T16:11:38\",\"2020-12-17T16:13:19\",\"2020-12-17T16:13:55\",\"2020-12-17T16:16:56\",\"2020-12-17T16:18:12\",\"2020-12-17T16:18:13\",\"2020-12-17T16:18:54\",\"2020-12-17T16:24:26\",\"2020-12-17T16:27:47\",\"2020-12-17T16:27:49\",\"2020-12-17T16:28:36\",\"2020-12-17T16:28:37\",\"2020-12-17T16:28:53\",\"2020-12-17T16:30:45\",\"2020-12-17T16:30:46\",\"2020-12-17T16:36:13\",\"2020-12-17T16:36:53\",\"2020-12-17T16:36:56\",\"2020-12-17T16:40:41\",\"2020-12-17T16:40:42\",\"2020-12-17T16:46:02\",\"2020-12-17T16:46:05\",\"2020-12-17T16:46:25\",\"2020-12-17T16:52:49\",\"2020-12-17T16:53:27\",\"2020-12-17T16:55:11\",\"2020-12-17T17:01:13\",\"2020-12-17T17:01:14\",\"2020-12-17T17:07:08\",\"2020-12-17T17:07:10\",\"2020-12-17T17:12:48\",\"2020-12-17T17:13:08\",\"2020-12-17T17:14:44\",\"2020-12-17T17:16:48\",\"2020-12-17T17:24:06\",\"2020-12-17T17:24:37\",\"2020-12-17T17:26:17\",\"2020-12-17T17:26:18\",\"2020-12-17T17:29:54\",\"2020-12-17T17:30:47\",\"2020-12-17T17:30:49\",\"2020-12-17T17:32:29\",\"2020-12-17T17:32:31\",\"2020-12-17T17:33:30\",\"2020-12-17T17:35:32\",\"2020-12-17T17:35:33\",\"2020-12-17T17:40:06\",\"2020-12-17T17:40:10\",\"2020-12-17T17:41:07\",\"2020-12-17T17:44:25\",\"2020-12-17T17:49:48\",\"2020-12-17T17:52:00\",\"2020-12-17T17:55:20\",\"2020-12-17T17:55:21\",\"2020-12-17T17:56:50\",\"2020-12-17T17:56:53\",\"2020-12-17T18:04:40\",\"2020-12-17T18:05:29\",\"2020-12-17T18:06:26\",\"2020-12-17T18:07:31\",\"2020-12-17T18:10:27\",\"2020-12-17T18:10:33\",\"2020-12-17T18:10:35\",\"2020-12-17T18:16:20\",\"2020-12-17T18:16:21\",\"2020-12-17T18:23:27\",\"2020-12-17T18:23:29\",\"2020-12-17T18:27:51\",\"2020-12-17T18:31:37\",\"2020-12-17T18:36:13\",\"2020-12-17T18:36:14\",\"2020-12-17T18:37:50\",\"2020-12-17T18:41:29\",\"2020-12-17T18:47:22\",\"2020-12-17T18:47:31\",\"2020-12-17T18:47:33\",\"2020-12-17T18:48:07\",\"2020-12-17T18:48:35\",\"2020-12-17T18:49:11\",\"2020-12-17T18:53:47\",\"2020-12-17T18:54:22\",\"2020-12-17T19:13:32\",\"2020-12-17T19:13:36\",\"2020-12-17T19:13:53\",\"2020-12-17T19:13:55\",\"2020-12-17T19:14:25\",\"2020-12-17T19:14:26\",\"2020-12-17T19:16:34\",\"2020-12-17T19:16:35\",\"2020-12-17T19:18:09\",\"2020-12-17T19:18:10\",\"2020-12-17T19:21:45\",\"2020-12-17T19:34:20\",\"2020-12-17T19:34:22\",\"2020-12-17T19:38:36\",\"2020-12-17T19:39:47\",\"2020-12-17T19:39:49\",\"2020-12-17T19:42:41\",\"2020-12-17T19:42:42\",\"2020-12-17T19:44:24\",\"2020-12-17T19:47:37\",\"2020-12-17T19:47:39\",\"2020-12-17T19:51:54\",\"2020-12-17T20:01:40\",\"2020-12-17T20:01:42\",\"2020-12-17T20:04:38\",\"2020-12-17T20:05:16\",\"2020-12-17T20:05:19\",\"2020-12-17T20:06:28\",\"2020-12-17T20:06:29\",\"2020-12-17T20:06:57\",\"2020-12-17T20:06:58\",\"2020-12-17T20:09:57\",\"2020-12-17T20:10:00\",\"2020-12-17T20:10:14\",\"2020-12-17T20:11:48\",\"2020-12-17T20:11:50\",\"2020-12-17T20:13:19\",\"2020-12-17T20:13:22\",\"2020-12-17T20:13:55\",\"2020-12-17T20:15:01\",\"2020-12-17T20:15:03\",\"2020-12-17T20:16:31\",\"2020-12-17T20:17:12\",\"2020-12-17T20:17:14\",\"2020-12-17T20:18:41\",\"2020-12-17T20:18:42\",\"2020-12-17T20:20:12\",\"2020-12-17T20:20:14\",\"2020-12-17T20:20:38\",\"2020-12-17T20:22:04\",\"2020-12-17T20:27:06\",\"2020-12-17T20:27:07\",\"2020-12-17T20:27:25\",\"2020-12-17T20:28:23\",\"2020-12-17T20:28:43\",\"2020-12-17T20:28:44\",\"2020-12-17T20:34:40\",\"2020-12-17T20:34:43\",\"2020-12-17T20:35:17\",\"2020-12-17T20:41:40\",\"2020-12-17T20:41:41\",\"2020-12-17T20:42:19\",\"2020-12-17T20:44:20\",\"2020-12-17T20:44:21\",\"2020-12-17T20:44:25\",\"2020-12-17T20:47:09\",\"2020-12-17T20:48:10\",\"2020-12-17T20:48:12\",\"2020-12-17T20:49:43\",\"2020-12-17T20:49:44\",\"2020-12-17T20:49:45\",\"2020-12-17T20:54:06\",\"2020-12-17T20:56:35\",\"2020-12-17T20:56:36\",\"2020-12-17T21:01:28\",\"2020-12-17T21:02:33\",\"2020-12-17T21:02:46\",\"2020-12-17T21:02:47\",\"2020-12-17T21:04:45\",\"2020-12-17T21:04:47\",\"2020-12-17T21:07:27\",\"2020-12-17T21:07:30\",\"2020-12-17T21:07:32\",\"2020-12-17T21:16:57\",\"2020-12-17T21:23:12\",\"2020-12-17T21:23:13\",\"2020-12-17T21:23:14\",\"2020-12-17T21:23:47\",\"2020-12-17T21:23:48\",\"2020-12-17T21:24:56\",\"2020-12-17T21:25:01\",\"2020-12-17T21:26:00\",\"2020-12-17T21:26:02\",\"2020-12-17T21:26:05\",\"2020-12-17T21:28:03\",\"2020-12-17T21:29:41\",\"2020-12-17T21:29:42\",\"2020-12-17T21:33:26\",\"2020-12-17T21:33:27\",\"2020-12-17T21:33:28\",\"2020-12-17T21:33:49\",\"2020-12-17T21:33:50\",\"2020-12-17T21:36:40\",\"2020-12-17T21:39:09\",\"2020-12-17T21:39:10\",\"2020-12-17T21:40:57\",\"2020-12-17T21:41:00\",\"2020-12-17T21:41:59\",\"2020-12-17T21:42:00\",\"2020-12-17T21:43:07\",\"2020-12-17T21:43:08\",\"2020-12-17T21:43:09\",\"2020-12-17T21:47:40\",\"2020-12-17T21:47:57\",\"2020-12-17T21:47:59\",\"2020-12-17T21:53:52\",\"2020-12-17T21:55:07\",\"2020-12-17T21:55:08\",\"2020-12-17T21:55:10\",\"2020-12-17T21:58:39\",\"2020-12-17T21:58:40\",\"2020-12-17T21:59:00\",\"2020-12-17T21:59:03\",\"2020-12-17T22:00:46\",\"2020-12-17T22:00:47\",\"2020-12-17T22:00:48\",\"2020-12-17T22:03:17\",\"2020-12-17T22:03:21\",\"2020-12-17T22:07:58\",\"2020-12-17T22:20:06\",\"2020-12-17T22:20:07\",\"2020-12-17T22:22:00\",\"2020-12-17T22:23:47\",\"2020-12-17T22:23:50\",\"2020-12-17T22:23:58\",\"2020-12-17T22:24:01\",\"2020-12-17T22:25:50\",\"2020-12-17T22:34:53\",\"2020-12-17T22:35:21\",\"2020-12-17T22:37:30\",\"2020-12-17T22:37:34\",\"2020-12-17T22:47:27\",\"2020-12-17T22:47:28\",\"2020-12-17T22:49:43\",\"2020-12-17T22:49:45\",\"2020-12-17T22:50:01\",\"2020-12-17T22:50:02\",\"2020-12-17T22:54:39\",\"2020-12-17T22:54:41\",\"2020-12-17T22:54:58\",\"2020-12-17T22:55:05\",\"2020-12-17T22:55:06\",\"2020-12-17T23:03:45\",\"2020-12-17T23:03:47\",\"2020-12-17T23:03:48\",\"2020-12-17T23:18:11\",\"2020-12-17T23:18:12\",\"2020-12-17T23:18:13\",\"2020-12-17T23:20:54\",\"2020-12-17T23:21:44\",\"2020-12-17T23:21:46\",\"2020-12-17T23:22:18\",\"2020-12-17T23:22:20\",\"2020-12-17T23:23:26\",\"2020-12-17T23:26:37\",\"2020-12-17T23:29:46\",\"2020-12-17T23:29:56\",\"2020-12-17T23:31:23\",\"2020-12-17T23:31:28\",\"2020-12-17T23:31:30\",\"2020-12-17T23:33:04\",\"2020-12-17T23:33:05\",\"2020-12-17T23:33:39\",\"2020-12-17T23:33:40\",\"2020-12-17T23:38:23\",\"2020-12-17T23:38:25\",\"2020-12-17T23:38:35\",\"2020-12-17T23:38:56\",\"2020-12-17T23:41:03\",\"2020-12-17T23:41:04\",\"2020-12-17T23:52:13\",\"2020-12-17T23:52:40\",\"2020-12-17T23:52:41\",\"2020-12-17T23:52:42\",\"2020-12-17T23:58:08\",\"2020-12-17T23:58:19\",\"2020-12-17T23:59:43\",\"2020-12-17T23:59:45\",\"2020-12-18T00:04:35\",\"2020-12-18T00:07:20\",\"2020-12-18T00:15:35\",\"2020-12-18T00:15:36\",\"2020-12-18T00:16:37\",\"2020-12-18T00:19:24\",\"2020-12-18T00:19:25\",\"2020-12-18T00:23:25\",\"2020-12-18T00:24:09\",\"2020-12-18T00:24:10\",\"2020-12-18T00:24:46\",\"2020-12-18T00:29:14\",\"2020-12-18T00:29:15\",\"2020-12-18T00:29:48\",\"2020-12-18T00:29:49\",\"2020-12-18T00:30:23\",\"2020-12-18T00:32:08\",\"2020-12-18T00:32:09\",\"2020-12-18T00:32:22\",\"2020-12-18T00:43:51\",\"2020-12-18T00:43:52\",\"2020-12-18T00:46:17\",\"2020-12-18T00:47:26\",\"2020-12-18T00:47:27\",\"2020-12-18T00:51:28\",\"2020-12-18T00:51:29\",\"2020-12-18T00:54:15\",\"2020-12-18T00:54:19\",\"2020-12-18T00:58:50\",\"2020-12-18T01:04:48\",\"2020-12-18T01:08:15\",\"2020-12-18T01:10:11\",\"2020-12-18T01:10:13\",\"2020-12-18T01:12:17\",\"2020-12-18T01:13:55\",\"2020-12-18T01:13:57\",\"2020-12-18T01:14:20\",\"2020-12-18T01:14:23\",\"2020-12-18T01:14:31\",\"2020-12-18T01:14:34\",\"2020-12-18T01:14:35\",\"2020-12-18T01:15:42\",\"2020-12-18T01:16:16\",\"2020-12-18T01:21:25\",\"2020-12-18T01:26:53\",\"2020-12-18T01:26:55\",\"2020-12-18T01:31:06\",\"2020-12-18T01:31:50\",\"2020-12-18T01:33:23\",\"2020-12-18T01:33:25\",\"2020-12-18T01:37:21\",\"2020-12-18T01:41:57\",\"2020-12-18T01:42:10\",\"2020-12-18T01:50:59\",\"2020-12-18T01:51:00\",\"2020-12-18T01:51:06\",\"2020-12-18T01:51:07\",\"2020-12-18T01:51:53\",\"2020-12-18T01:51:54\",\"2020-12-18T01:54:49\",\"2020-12-18T01:54:52\",\"2020-12-18T01:55:27\",\"2020-12-18T01:56:43\",\"2020-12-18T01:56:46\",\"2020-12-18T01:57:30\",\"2020-12-18T01:58:43\",\"2020-12-18T01:59:51\",\"2020-12-18T01:59:52\",\"2020-12-18T02:00:48\",\"2020-12-18T02:02:14\",\"2020-12-18T02:03:17\",\"2020-12-18T02:04:21\",\"2020-12-18T02:07:16\",\"2020-12-18T02:15:41\",\"2020-12-18T02:15:44\",\"2020-12-18T02:21:07\",\"2020-12-18T02:21:08\",\"2020-12-18T02:21:10\",\"2020-12-18T02:28:55\",\"2020-12-18T02:28:56\",\"2020-12-18T02:29:05\",\"2020-12-18T02:29:06\",\"2020-12-18T02:29:38\",\"2020-12-18T02:30:51\",\"2020-12-18T02:33:21\",\"2020-12-18T02:33:22\",\"2020-12-18T02:34:07\",\"2020-12-18T02:35:55\",\"2020-12-18T02:36:49\",\"2020-12-18T02:36:51\",\"2020-12-18T02:36:57\",\"2020-12-18T02:37:00\",\"2020-12-18T02:37:16\",\"2020-12-18T02:37:33\",\"2020-12-18T02:38:41\",\"2020-12-18T02:38:44\",\"2020-12-18T02:42:12\",\"2020-12-18T02:42:13\",\"2020-12-18T02:47:49\",\"2020-12-18T02:48:07\",\"2020-12-18T02:49:26\",\"2020-12-18T02:49:27\",\"2020-12-18T02:52:51\",\"2020-12-18T02:52:54\",\"2020-12-18T02:54:29\",\"2020-12-18T03:00:37\",\"2020-12-18T03:00:38\",\"2020-12-18T03:00:55\",\"2020-12-18T03:00:57\",\"2020-12-18T03:04:18\",\"2020-12-18T03:04:19\",\"2020-12-18T03:04:20\",\"2020-12-18T03:07:03\",\"2020-12-18T03:12:24\",\"2020-12-18T03:12:26\",\"2020-12-18T03:19:16\",\"2020-12-18T03:19:18\",\"2020-12-18T03:19:29\",\"2020-12-18T03:21:39\",\"2020-12-18T03:21:41\",\"2020-12-18T03:21:57\",\"2020-12-18T03:24:12\",\"2020-12-18T03:24:13\",\"2020-12-18T03:24:14\",\"2020-12-18T03:30:33\",\"2020-12-18T03:30:34\",\"2020-12-18T03:30:35\",\"2020-12-18T03:36:26\",\"2020-12-18T03:40:09\",\"2020-12-18T03:40:10\",\"2020-12-18T03:40:58\",\"2020-12-18T03:41:00\",\"2020-12-18T03:41:01\",\"2020-12-18T03:43:29\",\"2020-12-18T03:44:11\",\"2020-12-18T03:44:12\",\"2020-12-18T03:45:34\",\"2020-12-18T03:45:35\",\"2020-12-18T03:45:37\",\"2020-12-18T03:47:36\",\"2020-12-18T03:47:38\",\"2020-12-18T03:47:41\",\"2020-12-18T03:49:42\",\"2020-12-18T03:54:47\",\"2020-12-18T03:54:48\",\"2020-12-18T04:02:38\",\"2020-12-18T04:04:03\",\"2020-12-18T04:04:05\",\"2020-12-18T04:08:54\",\"2020-12-18T04:10:13\",\"2020-12-18T04:13:09\",\"2020-12-18T04:14:03\",\"2020-12-18T04:14:04\",\"2020-12-18T04:14:05\",\"2020-12-18T04:16:47\",\"2020-12-18T04:17:08\",\"2020-12-18T04:19:16\",\"2020-12-18T04:20:27\",\"2020-12-18T04:23:50\",\"2020-12-18T04:25:09\",\"2020-12-18T04:31:48\",\"2020-12-18T04:32:12\",\"2020-12-18T04:32:14\",\"2020-12-18T04:32:21\",\"2020-12-18T04:32:52\",\"2020-12-18T04:32:55\",\"2020-12-18T04:33:43\",\"2020-12-18T04:33:45\",\"2020-12-18T04:33:59\",\"2020-12-18T04:34:01\",\"2020-12-18T04:35:30\",\"2020-12-18T04:35:35\",\"2020-12-18T04:36:43\",\"2020-12-18T04:37:20\",\"2020-12-18T04:37:21\",\"2020-12-18T04:38:19\",\"2020-12-18T04:38:20\",\"2020-12-18T04:39:40\",\"2020-12-18T04:43:56\",\"2020-12-18T04:47:24\",\"2020-12-18T04:47:25\",\"2020-12-18T04:49:54\",\"2020-12-18T04:49:57\",\"2020-12-18T05:00:03\",\"2020-12-18T05:00:05\",\"2020-12-18T05:05:35\",\"2020-12-18T05:09:09\",\"2020-12-18T05:10:21\",\"2020-12-18T05:10:22\",\"2020-12-18T05:10:42\",\"2020-12-18T05:11:15\",\"2020-12-18T05:14:39\",\"2020-12-18T05:16:45\",\"2020-12-18T05:16:47\",\"2020-12-18T05:27:05\",\"2020-12-18T05:30:02\",\"2020-12-18T05:32:38\",\"2020-12-18T05:34:40\",\"2020-12-18T05:39:05\",\"2020-12-18T05:39:07\",\"2020-12-18T05:42:25\",\"2020-12-18T05:42:26\",\"2020-12-18T05:43:55\",\"2020-12-18T05:43:57\",\"2020-12-18T05:45:41\",\"2020-12-18T05:45:42\",\"2020-12-18T05:46:40\",\"2020-12-18T05:48:08\",\"2020-12-18T05:48:11\",\"2020-12-18T05:50:05\",\"2020-12-18T05:50:07\",\"2020-12-18T05:53:02\",\"2020-12-18T05:53:03\",\"2020-12-18T05:54:27\",\"2020-12-18T05:54:29\",\"2020-12-18T05:54:38\",\"2020-12-18T06:00:06\",\"2020-12-18T06:00:07\",\"2020-12-18T06:00:51\",\"2020-12-18T06:00:53\",\"2020-12-18T06:05:04\",\"2020-12-18T06:05:32\",\"2020-12-18T06:08:48\",\"2020-12-18T06:08:51\",\"2020-12-18T06:16:23\",\"2020-12-18T06:21:17\",\"2020-12-18T06:27:07\",\"2020-12-18T06:27:08\",\"2020-12-18T06:28:03\",\"2020-12-18T06:28:05\",\"2020-12-18T06:31:11\",\"2020-12-18T06:31:12\",\"2020-12-18T06:34:53\",\"2020-12-18T06:34:54\",\"2020-12-18T06:35:10\",\"2020-12-18T06:36:49\",\"2020-12-18T06:36:51\",\"2020-12-18T06:37:46\",\"2020-12-18T06:37:49\",\"2020-12-18T06:37:50\",\"2020-12-18T06:42:14\",\"2020-12-18T06:43:00\",\"2020-12-18T06:49:07\",\"2020-12-18T06:49:08\",\"2020-12-18T06:50:50\",\"2020-12-18T06:50:55\",\"2020-12-18T06:50:56\",\"2020-12-18T06:51:19\",\"2020-12-18T06:53:22\",\"2020-12-18T06:53:23\",\"2020-12-18T06:59:04\",\"2020-12-18T06:59:07\",\"2020-12-18T07:07:23\",\"2020-12-18T07:07:28\",\"2020-12-18T07:09:19\",\"2020-12-18T07:15:48\",\"2020-12-18T07:15:49\",\"2020-12-18T07:15:51\",\"2020-12-18T07:17:19\",\"2020-12-18T07:17:20\",\"2020-12-18T07:17:45\",\"2020-12-18T07:33:35\",\"2020-12-18T07:37:09\",\"2020-12-18T07:37:10\",\"2020-12-18T07:39:05\",\"2020-12-18T07:39:07\",\"2020-12-18T07:45:08\",\"2020-12-18T07:45:11\",\"2020-12-18T07:46:56\",\"2020-12-18T07:46:58\",\"2020-12-18T07:48:03\",\"2020-12-18T07:48:25\",\"2020-12-18T07:52:55\",\"2020-12-18T07:52:56\",\"2020-12-18T07:52:57\",\"2020-12-18T07:54:01\",\"2020-12-18T07:54:03\",\"2020-12-18T08:05:39\",\"2020-12-18T08:05:56\",\"2020-12-18T08:05:58\",\"2020-12-18T08:07:16\",\"2020-12-18T08:10:56\",\"2020-12-18T08:10:57\",\"2020-12-18T08:11:33\",\"2020-12-18T08:11:35\",\"2020-12-18T08:17:47\",\"2020-12-18T08:19:22\",\"2020-12-18T08:19:23\",\"2020-12-18T08:20:28\",\"2020-12-18T08:23:13\",\"2020-12-18T08:24:48\",\"2020-12-18T08:24:52\",\"2020-12-18T08:28:23\",\"2020-12-18T08:28:25\",\"2020-12-18T08:28:26\",\"2020-12-18T08:28:31\",\"2020-12-18T08:28:35\",\"2020-12-18T08:28:36\",\"2020-12-18T08:30:14\",\"2020-12-18T08:37:30\",\"2020-12-18T08:37:31\",\"2020-12-18T08:47:50\",\"2020-12-18T08:48:15\",\"2020-12-18T08:48:17\",\"2020-12-18T08:56:18\",\"2020-12-18T08:56:19\",\"2020-12-18T08:57:06\",\"2020-12-18T08:57:07\",\"2020-12-18T08:57:43\",\"2020-12-18T08:57:44\",\"2020-12-18T08:58:02\",\"2020-12-18T08:58:03\",\"2020-12-18T09:00:09\",\"2020-12-18T09:00:10\",\"2020-12-18T09:07:04\",\"2020-12-18T09:07:05\",\"2020-12-18T09:13:03\",\"2020-12-18T09:13:04\",\"2020-12-18T09:13:52\",\"2020-12-18T09:13:53\",\"2020-12-18T09:21:06\",\"2020-12-18T09:24:00\",\"2020-12-18T09:24:01\",\"2020-12-18T09:25:15\",\"2020-12-18T09:29:36\",\"2020-12-18T09:29:38\",\"2020-12-18T09:33:07\",\"2020-12-18T09:33:08\",\"2020-12-18T09:35:53\",\"2020-12-18T09:35:57\",\"2020-12-18T09:36:50\",\"2020-12-18T09:36:52\",\"2020-12-18T09:37:10\",\"2020-12-18T09:37:11\",\"2020-12-18T09:37:12\",\"2020-12-18T09:37:36\",\"2020-12-18T09:37:37\",\"2020-12-18T09:39:48\",\"2020-12-18T09:46:31\",\"2020-12-18T09:50:15\",\"2020-12-18T09:50:16\",\"2020-12-18T09:51:55\",\"2020-12-18T09:53:54\",\"2020-12-18T09:53:57\",\"2020-12-18T10:10:06\",\"2020-12-18T10:20:40\",\"2020-12-18T10:23:33\",\"2020-12-18T10:29:13\",\"2020-12-18T10:30:33\",\"2020-12-18T10:30:34\",\"2020-12-18T10:34:17\",\"2020-12-18T10:35:21\",\"2020-12-18T10:35:59\",\"2020-12-18T10:36:26\",\"2020-12-18T10:36:27\",\"2020-12-18T10:40:17\",\"2020-12-18T10:40:19\",\"2020-12-18T10:46:37\",\"2020-12-18T10:46:38\",\"2020-12-18T10:51:51\",\"2020-12-18T10:52:12\",\"2020-12-18T10:52:18\",\"2020-12-18T10:54:37\",\"2020-12-18T10:55:08\",\"2020-12-18T10:55:10\",\"2020-12-18T10:58:07\",\"2020-12-18T10:58:12\",\"2020-12-18T10:58:18\",\"2020-12-18T10:58:19\",\"2020-12-18T11:02:38\",\"2020-12-18T11:03:20\",\"2020-12-18T11:04:06\",\"2020-12-18T11:04:09\",\"2020-12-18T11:10:45\",\"2020-12-18T11:11:55\",\"2020-12-18T11:14:07\",\"2020-12-18T11:14:31\",\"2020-12-18T11:14:32\",\"2020-12-18T11:18:43\",\"2020-12-18T11:21:46\",\"2020-12-18T11:21:49\",\"2020-12-18T11:23:12\",\"2020-12-18T11:23:14\",\"2020-12-18T11:25:40\",\"2020-12-18T11:25:42\",\"2020-12-18T11:31:09\",\"2020-12-18T11:31:10\",\"2020-12-18T11:31:11\",\"2020-12-18T11:35:00\",\"2020-12-18T11:35:01\",\"2020-12-18T11:37:44\",\"2020-12-18T11:37:47\",\"2020-12-18T11:42:43\",\"2020-12-18T11:47:06\",\"2020-12-18T11:49:38\",\"2020-12-18T11:49:39\",\"2020-12-18T11:54:44\",\"2020-12-18T11:57:13\",\"2020-12-18T11:57:15\",\"2020-12-18T12:03:35\",\"2020-12-18T12:03:38\",\"2020-12-18T12:04:51\",\"2020-12-18T12:09:45\",\"2020-12-18T12:09:48\",\"2020-12-18T12:09:49\",\"2020-12-18T12:11:01\",\"2020-12-18T12:11:19\",\"2020-12-18T12:18:26\",\"2020-12-18T12:18:32\",\"2020-12-18T12:22:29\",\"2020-12-18T12:29:39\",\"2020-12-18T12:29:40\",\"2020-12-18T12:29:41\",\"2020-12-18T12:31:55\",\"2020-12-18T12:31:56\",\"2020-12-18T12:34:45\",\"2020-12-18T12:35:04\",\"2020-12-18T12:35:46\",\"2020-12-18T12:35:48\",\"2020-12-18T12:38:41\",\"2020-12-18T12:38:45\",\"2020-12-18T12:39:13\",\"2020-12-18T12:39:34\",\"2020-12-18T12:43:06\",\"2020-12-18T12:43:08\",\"2020-12-18T12:43:54\",\"2020-12-18T12:44:43\",\"2020-12-18T12:44:50\",\"2020-12-18T12:49:19\",\"2020-12-18T12:53:19\",\"2020-12-18T12:57:28\",\"2020-12-18T13:00:44\",\"2020-12-18T13:00:45\",\"2020-12-18T13:03:30\",\"2020-12-18T13:08:43\",\"2020-12-18T13:08:44\",\"2020-12-18T13:10:00\",\"2020-12-18T13:10:02\",\"2020-12-18T13:10:04\",\"2020-12-18T13:11:52\",\"2020-12-18T13:12:38\",\"2020-12-18T13:19:19\",\"2020-12-18T13:19:25\",\"2020-12-18T13:20:15\",\"2020-12-18T13:23:15\",\"2020-12-18T13:23:17\",\"2020-12-18T13:23:28\",\"2020-12-18T13:23:52\",\"2020-12-18T13:24:30\",\"2020-12-18T13:26:12\",\"2020-12-18T13:27:16\",\"2020-12-18T13:27:19\",\"2020-12-18T13:27:40\",\"2020-12-18T13:27:44\",\"2020-12-18T13:28:55\",\"2020-12-18T13:28:57\",\"2020-12-18T13:29:30\",\"2020-12-18T13:31:04\",\"2020-12-18T13:32:18\",\"2020-12-18T13:32:19\",\"2020-12-18T13:39:29\",\"2020-12-18T13:40:04\",\"2020-12-18T13:40:06\",\"2020-12-18T13:40:33\",\"2020-12-18T13:40:34\",\"2020-12-18T13:43:34\",\"2020-12-18T13:43:37\",\"2020-12-18T13:46:06\",\"2020-12-18T13:46:08\",\"2020-12-18T13:46:10\",\"2020-12-18T13:47:46\",\"2020-12-18T13:47:48\",\"2020-12-18T13:48:16\",\"2020-12-18T13:48:20\",\"2020-12-18T13:49:19\",\"2020-12-18T13:51:57\",\"2020-12-18T13:52:04\",\"2020-12-18T13:52:05\",\"2020-12-18T13:52:29\",\"2020-12-18T13:53:38\",\"2020-12-18T13:53:39\",\"2020-12-18T13:53:42\",\"2020-12-18T13:56:56\",\"2020-12-18T13:56:57\",\"2020-12-18T14:10:25\",\"2020-12-18T14:12:41\",\"2020-12-18T14:12:45\",\"2020-12-18T14:14:43\",\"2020-12-18T14:15:22\",\"2020-12-18T14:15:23\",\"2020-12-18T14:17:25\",\"2020-12-18T14:19:40\",\"2020-12-18T14:19:41\",\"2020-12-18T14:20:56\",\"2020-12-18T14:21:15\",\"2020-12-18T14:21:20\",\"2020-12-18T14:22:35\",\"2020-12-18T14:22:53\",\"2020-12-18T14:24:02\",\"2020-12-18T14:24:28\",\"2020-12-18T14:26:14\",\"2020-12-18T14:27:03\",\"2020-12-18T14:29:33\",\"2020-12-18T14:29:34\",\"2020-12-18T14:29:35\",\"2020-12-18T14:33:52\",\"2020-12-18T14:34:22\",\"2020-12-18T14:36:31\",\"2020-12-18T14:36:32\",\"2020-12-18T14:41:12\",\"2020-12-18T14:41:14\",\"2020-12-18T14:49:36\",\"2020-12-18T14:51:17\",\"2020-12-18T14:52:27\",\"2020-12-18T14:53:55\",\"2020-12-18T14:57:03\",\"2020-12-18T14:57:05\",\"2020-12-18T14:59:58\",\"2020-12-18T15:00:44\",\"2020-12-18T15:00:45\",\"2020-12-18T15:05:26\",\"2020-12-18T15:05:28\",\"2020-12-18T15:05:48\",\"2020-12-18T15:05:49\",\"2020-12-18T15:19:11\",\"2020-12-18T15:20:51\",\"2020-12-18T15:20:54\",\"2020-12-18T15:23:26\",\"2020-12-18T15:26:27\",\"2020-12-18T15:29:45\",\"2020-12-18T15:31:11\",\"2020-12-18T15:32:07\",\"2020-12-18T15:32:11\",\"2020-12-18T15:33:19\",\"2020-12-18T15:33:21\",\"2020-12-18T15:33:46\",\"2020-12-18T15:37:10\",\"2020-12-18T15:37:29\",\"2020-12-18T15:45:27\",\"2020-12-18T15:49:44\",\"2020-12-18T15:49:45\",\"2020-12-18T15:53:18\",\"2020-12-18T15:53:19\",\"2020-12-18T15:53:20\",\"2020-12-18T16:00:51\",\"2020-12-18T16:00:53\",\"2020-12-18T16:01:25\",\"2020-12-18T16:01:26\",\"2020-12-18T16:05:40\",\"2020-12-18T16:05:42\",\"2020-12-18T16:07:12\",\"2020-12-18T16:07:13\",\"2020-12-18T16:17:17\",\"2020-12-18T16:17:19\",\"2020-12-18T16:18:21\",\"2020-12-18T16:18:23\",\"2020-12-18T16:21:24\",\"2020-12-18T16:22:43\",\"2020-12-18T16:22:45\",\"2020-12-18T16:23:49\",\"2020-12-18T16:28:35\",\"2020-12-18T16:28:36\",\"2020-12-18T16:31:56\",\"2020-12-18T16:32:13\",\"2020-12-18T16:32:15\",\"2020-12-18T16:34:10\",\"2020-12-18T16:34:11\",\"2020-12-18T16:34:45\",\"2020-12-18T16:36:38\",\"2020-12-18T16:36:40\",\"2020-12-18T16:37:08\",\"2020-12-18T16:37:09\",\"2020-12-18T16:37:10\",\"2020-12-18T16:37:12\",\"2020-12-18T16:38:32\",\"2020-12-18T16:38:33\",\"2020-12-18T16:38:37\",\"2020-12-18T16:39:31\",\"2020-12-18T16:42:10\",\"2020-12-18T16:43:29\",\"2020-12-18T16:43:30\",\"2020-12-18T16:45:34\",\"2020-12-18T16:46:22\",\"2020-12-18T16:46:23\",\"2020-12-18T16:48:22\",\"2020-12-18T16:54:52\",\"2020-12-18T16:54:53\",\"2020-12-18T16:55:08\",\"2020-12-18T17:08:37\",\"2020-12-18T17:08:39\",\"2020-12-18T17:09:21\",\"2020-12-18T17:09:24\",\"2020-12-18T17:13:28\",\"2020-12-18T17:13:29\",\"2020-12-18T17:14:59\",\"2020-12-18T17:15:00\",\"2020-12-18T17:15:01\",\"2020-12-18T17:15:47\",\"2020-12-18T17:16:58\",\"2020-12-18T17:17:29\",\"2020-12-18T17:17:31\",\"2020-12-18T17:19:00\",\"2020-12-18T17:19:01\",\"2020-12-18T17:19:03\",\"2020-12-18T17:19:04\",\"2020-12-18T17:29:25\",\"2020-12-18T17:29:27\",\"2020-12-18T17:29:28\",\"2020-12-18T17:29:46\",\"2020-12-18T17:30:18\",\"2020-12-18T17:30:27\",\"2020-12-18T17:31:14\",\"2020-12-18T17:31:16\",\"2020-12-18T17:36:12\",\"2020-12-18T17:36:17\",\"2020-12-18T17:36:18\",\"2020-12-18T17:42:40\",\"2020-12-18T17:42:41\",\"2020-12-18T17:44:25\",\"2020-12-18T17:49:24\",\"2020-12-18T17:49:25\",\"2020-12-18T17:55:53\",\"2020-12-18T17:56:13\",\"2020-12-18T18:02:03\",\"2020-12-18T18:02:04\",\"2020-12-18T18:02:05\",\"2020-12-18T18:05:13\",\"2020-12-18T18:05:16\",\"2020-12-18T18:05:21\",\"2020-12-18T18:05:22\",\"2020-12-18T18:07:47\",\"2020-12-18T18:07:48\",\"2020-12-18T18:12:15\",\"2020-12-18T18:12:17\",\"2020-12-18T18:13:11\",\"2020-12-18T18:13:12\",\"2020-12-18T18:14:34\",\"2020-12-18T18:19:02\",\"2020-12-18T18:19:03\",\"2020-12-18T18:19:56\",\"2020-12-18T18:19:57\",\"2020-12-18T18:23:05\",\"2020-12-18T18:23:06\",\"2020-12-18T18:27:59\",\"2020-12-18T18:28:01\",\"2020-12-18T18:30:35\",\"2020-12-18T18:33:00\",\"2020-12-18T18:33:02\",\"2020-12-18T18:34:55\",\"2020-12-18T18:36:34\",\"2020-12-18T18:39:30\",\"2020-12-18T18:40:32\",\"2020-12-18T18:40:44\",\"2020-12-18T18:41:52\",\"2020-12-18T18:41:54\",\"2020-12-18T18:42:20\",\"2020-12-18T18:42:23\",\"2020-12-18T18:44:29\",\"2020-12-18T18:44:30\",\"2020-12-18T18:59:21\",\"2020-12-18T19:03:05\",\"2020-12-18T19:06:35\",\"2020-12-18T19:07:13\",\"2020-12-18T19:07:14\",\"2020-12-18T19:07:28\",\"2020-12-18T19:08:01\",\"2020-12-18T19:16:20\",\"2020-12-18T19:16:21\",\"2020-12-18T19:16:22\",\"2020-12-18T19:16:53\",\"2020-12-18T19:16:54\",\"2020-12-18T19:19:54\",\"2020-12-18T19:20:02\",\"2020-12-18T19:20:03\",\"2020-12-18T19:22:49\",\"2020-12-18T19:22:51\",\"2020-12-18T19:24:49\",\"2020-12-18T19:30:14\",\"2020-12-18T19:30:15\",\"2020-12-18T19:36:10\",\"2020-12-18T19:37:19\",\"2020-12-18T19:37:20\",\"2020-12-18T19:37:53\",\"2020-12-18T19:37:54\",\"2020-12-18T19:41:28\",\"2020-12-18T19:41:29\",\"2020-12-18T19:42:04\",\"2020-12-18T19:42:05\",\"2020-12-18T19:49:51\",\"2020-12-18T19:52:35\",\"2020-12-18T19:52:36\",\"2020-12-18T19:58:51\",\"2020-12-18T19:58:53\",\"2020-12-18T20:00:39\",\"2020-12-18T20:02:11\",\"2020-12-18T20:04:41\",\"2020-12-18T20:04:42\",\"2020-12-18T20:06:54\",\"2020-12-18T20:06:55\",\"2020-12-18T20:07:56\",\"2020-12-18T20:09:14\",\"2020-12-18T20:14:53\",\"2020-12-18T20:14:54\",\"2020-12-18T20:14:56\",\"2020-12-18T20:15:59\",\"2020-12-18T20:16:00\",\"2020-12-18T20:16:02\",\"2020-12-18T20:17:37\",\"2020-12-18T20:19:39\",\"2020-12-18T20:24:57\",\"2020-12-18T20:24:58\",\"2020-12-18T20:27:08\",\"2020-12-18T20:27:09\",\"2020-12-18T20:27:29\",\"2020-12-18T20:29:13\",\"2020-12-18T20:35:40\",\"2020-12-18T20:38:09\",\"2020-12-18T20:38:12\",\"2020-12-18T20:41:31\",\"2020-12-18T20:41:32\",\"2020-12-18T20:43:09\",\"2020-12-18T20:43:10\",\"2020-12-18T20:44:50\",\"2020-12-18T20:44:52\",\"2020-12-18T20:45:21\",\"2020-12-18T20:53:03\",\"2020-12-18T20:53:05\",\"2020-12-18T20:56:49\",\"2020-12-18T20:56:55\",\"2020-12-18T20:58:21\",\"2020-12-18T20:58:22\",\"2020-12-18T21:00:50\",\"2020-12-18T21:00:52\",\"2020-12-18T21:03:16\",\"2020-12-18T21:03:17\",\"2020-12-18T21:04:28\",\"2020-12-18T21:04:29\",\"2020-12-18T21:05:05\",\"2020-12-18T21:05:06\",\"2020-12-18T21:05:31\",\"2020-12-18T21:08:20\",\"2020-12-18T21:13:19\",\"2020-12-18T21:13:36\",\"2020-12-18T21:13:37\",\"2020-12-18T21:16:13\",\"2020-12-18T21:16:14\",\"2020-12-18T21:17:49\",\"2020-12-18T21:17:51\",\"2020-12-18T21:19:22\",\"2020-12-18T21:20:39\",\"2020-12-18T21:20:45\",\"2020-12-18T21:20:47\",\"2020-12-18T21:21:25\",\"2020-12-18T21:23:15\",\"2020-12-18T21:23:20\",\"2020-12-18T21:30:40\",\"2020-12-18T21:32:07\",\"2020-12-18T21:32:45\",\"2020-12-18T21:32:47\",\"2020-12-18T21:42:32\",\"2020-12-18T21:44:41\",\"2020-12-18T21:47:21\",\"2020-12-18T21:47:23\",\"2020-12-18T21:50:28\",\"2020-12-18T21:52:54\",\"2020-12-18T21:52:57\",\"2020-12-18T21:54:24\",\"2020-12-18T21:59:29\",\"2020-12-18T22:01:54\",\"2020-12-18T22:02:44\",\"2020-12-18T22:04:16\",\"2020-12-18T22:04:17\",\"2020-12-18T22:07:32\",\"2020-12-18T22:08:25\",\"2020-12-18T22:08:26\",\"2020-12-18T22:08:42\",\"2020-12-18T22:11:25\",\"2020-12-18T22:16:11\",\"2020-12-18T22:18:15\",\"2020-12-18T22:24:20\",\"2020-12-18T22:24:21\",\"2020-12-18T22:34:47\",\"2020-12-18T22:40:59\",\"2020-12-18T22:41:01\",\"2020-12-18T22:46:47\",\"2020-12-18T22:46:48\",\"2020-12-18T22:49:24\",\"2020-12-18T22:49:26\",\"2020-12-18T22:55:01\",\"2020-12-18T22:55:03\",\"2020-12-18T22:55:06\",\"2020-12-18T22:57:26\",\"2020-12-18T22:57:29\",\"2020-12-18T23:03:15\",\"2020-12-18T23:04:25\",\"2020-12-18T23:06:30\",\"2020-12-18T23:06:33\",\"2020-12-18T23:08:29\",\"2020-12-18T23:09:35\",\"2020-12-18T23:12:15\",\"2020-12-18T23:12:16\",\"2020-12-18T23:13:18\",\"2020-12-18T23:14:40\",\"2020-12-18T23:14:41\",\"2020-12-18T23:15:06\",\"2020-12-18T23:23:15\",\"2020-12-18T23:23:17\",\"2020-12-18T23:23:47\",\"2020-12-18T23:24:38\",\"2020-12-18T23:29:32\",\"2020-12-18T23:31:45\",\"2020-12-18T23:31:46\",\"2020-12-18T23:34:09\",\"2020-12-18T23:34:11\",\"2020-12-18T23:35:44\",\"2020-12-18T23:35:46\",\"2020-12-18T23:35:48\",\"2020-12-18T23:43:29\",\"2020-12-18T23:43:30\",\"2020-12-18T23:44:20\",\"2020-12-18T23:44:23\",\"2020-12-18T23:45:13\",\"2020-12-18T23:47:10\",\"2020-12-18T23:48:15\",\"2020-12-18T23:49:06\",\"2020-12-18T23:51:00\",\"2020-12-18T23:51:01\",\"2020-12-18T23:52:18\",\"2020-12-18T23:52:21\",\"2020-12-18T23:52:22\",\"2020-12-18T23:52:51\",\"2020-12-18T23:52:52\",\"2020-12-18T23:53:37\",\"2020-12-18T23:53:39\",\"2020-12-18T23:54:57\",\"2020-12-18T23:54:58\",\"2020-12-18T23:56:53\",\"2020-12-19T00:00:37\",\"2020-12-19T00:00:38\",\"2020-12-19T00:03:47\",\"2020-12-19T00:04:48\",\"2020-12-19T00:04:49\",\"2020-12-19T00:08:11\",\"2020-12-19T00:10:33\",\"2020-12-19T00:14:53\",\"2020-12-19T00:14:55\",\"2020-12-19T00:20:34\",\"2020-12-19T00:21:27\",\"2020-12-19T00:21:28\",\"2020-12-19T00:23:30\",\"2020-12-19T00:24:14\",\"2020-12-19T00:24:15\",\"2020-12-19T00:24:43\",\"2020-12-19T00:25:50\",\"2020-12-19T00:25:52\",\"2020-12-19T00:26:06\",\"2020-12-19T00:30:29\",\"2020-12-19T00:30:30\",\"2020-12-19T00:30:52\",\"2020-12-19T00:30:54\",\"2020-12-19T00:30:57\",\"2020-12-19T00:30:58\",\"2020-12-19T00:31:02\",\"2020-12-19T00:31:05\",\"2020-12-19T00:32:28\",\"2020-12-19T00:33:02\",\"2020-12-19T00:33:39\",\"2020-12-19T00:37:35\",\"2020-12-19T00:37:37\",\"2020-12-19T00:39:40\",\"2020-12-19T00:39:41\",\"2020-12-19T00:41:04\",\"2020-12-19T00:44:04\",\"2020-12-19T00:46:43\",\"2020-12-19T00:49:05\",\"2020-12-19T00:49:28\",\"2020-12-19T00:50:29\",\"2020-12-19T00:50:30\",\"2020-12-19T00:52:16\",\"2020-12-19T00:52:18\",\"2020-12-19T00:53:24\",\"2020-12-19T00:56:04\",\"2020-12-19T00:56:53\",\"2020-12-19T00:57:44\",\"2020-12-19T00:57:45\",\"2020-12-19T01:00:05\",\"2020-12-19T01:00:06\",\"2020-12-19T01:00:44\",\"2020-12-19T01:01:54\",\"2020-12-19T01:01:55\",\"2020-12-19T01:04:10\",\"2020-12-19T01:04:11\",\"2020-12-19T01:05:18\",\"2020-12-19T01:05:19\",\"2020-12-19T01:05:44\",\"2020-12-19T01:05:47\",\"2020-12-19T01:06:29\",\"2020-12-19T01:07:31\",\"2020-12-19T01:07:32\",\"2020-12-19T01:11:48\",\"2020-12-19T01:11:49\",\"2020-12-19T01:14:59\",\"2020-12-19T01:15:19\",\"2020-12-19T01:15:21\",\"2020-12-19T01:15:42\",\"2020-12-19T01:15:49\",\"2020-12-19T01:16:30\",\"2020-12-19T01:16:31\",\"2020-12-19T01:17:46\",\"2020-12-19T01:17:57\",\"2020-12-19T01:18:00\",\"2020-12-19T01:20:13\",\"2020-12-19T01:25:32\",\"2020-12-19T01:25:33\",\"2020-12-19T01:26:06\",\"2020-12-19T01:26:25\",\"2020-12-19T01:28:47\",\"2020-12-19T01:28:49\",\"2020-12-19T01:30:01\",\"2020-12-19T01:36:36\",\"2020-12-19T01:36:37\",\"2020-12-19T01:38:21\",\"2020-12-19T01:39:10\",\"2020-12-19T01:39:12\",\"2020-12-19T01:44:43\",\"2020-12-19T01:44:44\",\"2020-12-19T01:46:01\",\"2020-12-19T01:46:58\",\"2020-12-19T01:47:40\",\"2020-12-19T01:49:11\",\"2020-12-19T01:49:14\",\"2020-12-19T01:49:29\",\"2020-12-19T01:50:32\",\"2020-12-19T01:50:35\",\"2020-12-19T01:59:36\",\"2020-12-19T01:59:37\",\"2020-12-19T01:59:38\",\"2020-12-19T02:00:06\",\"2020-12-19T02:06:10\",\"2020-12-19T02:06:12\",\"2020-12-19T02:06:37\",\"2020-12-19T02:06:39\",\"2020-12-19T02:10:32\",\"2020-12-19T02:12:01\",\"2020-12-19T02:14:15\",\"2020-12-19T02:14:16\",\"2020-12-19T02:15:30\",\"2020-12-19T02:18:23\",\"2020-12-19T02:18:24\",\"2020-12-19T02:24:01\",\"2020-12-19T02:25:13\",\"2020-12-19T02:26:15\",\"2020-12-19T02:26:16\",\"2020-12-19T02:27:34\",\"2020-12-19T02:27:36\",\"2020-12-19T02:29:25\",\"2020-12-19T02:33:46\",\"2020-12-19T02:33:47\",\"2020-12-19T02:33:56\",\"2020-12-19T02:33:57\",\"2020-12-19T02:38:59\",\"2020-12-19T02:41:55\",\"2020-12-19T02:47:17\",\"2020-12-19T02:47:18\",\"2020-12-19T02:53:01\",\"2020-12-19T02:54:49\",\"2020-12-19T02:58:14\",\"2020-12-19T02:59:27\",\"2020-12-19T03:01:48\",\"2020-12-19T03:05:25\",\"2020-12-19T03:05:45\",\"2020-12-19T03:05:47\",\"2020-12-19T03:05:53\",\"2020-12-19T03:05:55\",\"2020-12-19T03:10:35\",\"2020-12-19T03:10:36\",\"2020-12-19T03:11:48\",\"2020-12-19T03:11:49\",\"2020-12-19T03:11:50\",\"2020-12-19T03:12:25\",\"2020-12-19T03:14:22\",\"2020-12-19T03:14:50\",\"2020-12-19T03:16:49\",\"2020-12-19T03:16:50\",\"2020-12-19T03:17:38\",\"2020-12-19T03:19:43\",\"2020-12-19T03:20:04\",\"2020-12-19T03:20:06\",\"2020-12-19T03:26:51\",\"2020-12-19T03:26:52\",\"2020-12-19T03:27:23\",\"2020-12-19T03:27:24\",\"2020-12-19T03:29:04\",\"2020-12-19T03:29:09\",\"2020-12-19T03:38:28\",\"2020-12-19T03:38:29\",\"2020-12-19T03:39:21\",\"2020-12-19T03:39:22\",\"2020-12-19T03:39:24\",\"2020-12-19T03:40:55\",\"2020-12-19T03:40:57\",\"2020-12-19T03:41:25\",\"2020-12-19T03:42:13\",\"2020-12-19T03:42:15\",\"2020-12-19T03:42:17\",\"2020-12-19T03:42:52\",\"2020-12-19T03:42:53\",\"2020-12-19T03:42:54\",\"2020-12-19T03:44:05\",\"2020-12-19T03:44:07\",\"2020-12-19T03:50:58\",\"2020-12-19T03:50:59\",\"2020-12-19T03:52:15\",\"2020-12-19T03:55:47\",\"2020-12-19T03:55:49\",\"2020-12-19T03:57:29\",\"2020-12-19T03:58:09\",\"2020-12-19T04:03:20\",\"2020-12-19T04:08:36\",\"2020-12-19T04:08:37\",\"2020-12-19T04:10:40\",\"2020-12-19T04:13:22\",\"2020-12-19T04:13:27\",\"2020-12-19T04:13:48\",\"2020-12-19T04:13:50\",\"2020-12-19T04:14:51\",\"2020-12-19T04:15:44\",\"2020-12-19T04:15:45\",\"2020-12-19T04:16:51\",\"2020-12-19T04:16:52\",\"2020-12-19T04:18:45\",\"2020-12-19T04:18:54\",\"2020-12-19T04:19:02\",\"2020-12-19T04:19:05\",\"2020-12-19T04:23:48\",\"2020-12-19T04:23:58\",\"2020-12-19T04:28:03\",\"2020-12-19T04:34:37\",\"2020-12-19T04:34:38\",\"2020-12-19T04:41:44\",\"2020-12-19T04:47:48\",\"2020-12-19T04:47:50\",\"2020-12-19T04:49:02\",\"2020-12-19T04:49:05\",\"2020-12-19T04:51:12\",\"2020-12-19T04:53:17\",\"2020-12-19T04:59:43\",\"2020-12-19T04:59:44\",\"2020-12-19T05:03:04\",\"2020-12-19T05:05:05\",\"2020-12-19T05:06:06\",\"2020-12-19T05:06:07\",\"2020-12-19T05:07:21\",\"2020-12-19T05:10:41\",\"2020-12-19T05:10:42\",\"2020-12-19T05:14:28\",\"2020-12-19T05:19:12\",\"2020-12-19T05:19:14\",\"2020-12-19T05:21:50\",\"2020-12-19T05:29:45\",\"2020-12-19T05:29:46\",\"2020-12-19T05:34:37\",\"2020-12-19T05:34:40\",\"2020-12-19T05:39:15\",\"2020-12-19T05:39:17\",\"2020-12-19T05:40:24\",\"2020-12-19T05:40:28\",\"2020-12-19T05:40:30\",\"2020-12-19T05:40:42\",\"2020-12-19T05:43:35\",\"2020-12-19T05:43:40\",\"2020-12-19T05:45:03\",\"2020-12-19T05:45:16\",\"2020-12-19T05:48:23\",\"2020-12-19T05:48:25\",\"2020-12-19T05:51:55\",\"2020-12-19T06:04:47\",\"2020-12-19T06:07:24\",\"2020-12-19T06:10:32\",\"2020-12-19T06:10:35\",\"2020-12-19T06:10:47\",\"2020-12-19T06:10:48\",\"2020-12-19T06:16:08\",\"2020-12-19T06:17:20\",\"2020-12-19T06:17:22\",\"2020-12-19T06:18:18\",\"2020-12-19T06:18:23\",\"2020-12-19T06:18:24\",\"2020-12-19T06:20:36\",\"2020-12-19T06:20:38\",\"2020-12-19T06:25:55\",\"2020-12-19T06:27:16\",\"2020-12-19T06:28:01\",\"2020-12-19T06:28:02\",\"2020-12-19T06:30:08\",\"2020-12-19T06:31:07\",\"2020-12-19T06:32:31\",\"2020-12-19T06:32:32\",\"2020-12-19T06:32:44\",\"2020-12-19T06:32:47\",\"2020-12-19T06:33:36\",\"2020-12-19T06:33:37\",\"2020-12-19T06:35:53\",\"2020-12-19T06:35:56\",\"2020-12-19T06:37:32\",\"2020-12-19T06:37:33\",\"2020-12-19T06:37:41\",\"2020-12-19T06:37:42\",\"2020-12-19T06:39:15\",\"2020-12-19T06:42:55\",\"2020-12-19T06:42:56\",\"2020-12-19T06:46:24\",\"2020-12-19T06:46:39\",\"2020-12-19T06:46:40\",\"2020-12-19T06:51:55\",\"2020-12-19T06:54:20\",\"2020-12-19T06:54:22\",\"2020-12-19T06:57:40\",\"2020-12-19T06:58:39\",\"2020-12-19T06:58:43\",\"2020-12-19T07:06:06\",\"2020-12-19T07:06:09\",\"2020-12-19T07:07:15\",\"2020-12-19T07:12:21\",\"2020-12-19T07:12:22\",\"2020-12-19T07:15:37\",\"2020-12-19T07:15:38\",\"2020-12-19T07:15:39\",\"2020-12-19T07:16:50\",\"2020-12-19T07:18:43\",\"2020-12-19T07:21:08\",\"2020-12-19T07:21:09\",\"2020-12-19T07:21:15\",\"2020-12-19T07:21:17\",\"2020-12-19T07:21:18\",\"2020-12-19T07:21:21\",\"2020-12-19T07:22:28\",\"2020-12-19T07:29:38\",\"2020-12-19T07:29:40\",\"2020-12-19T07:30:17\",\"2020-12-19T07:33:08\",\"2020-12-19T07:33:09\",\"2020-12-19T07:33:15\",\"2020-12-19T07:33:16\",\"2020-12-19T07:40:13\",\"2020-12-19T07:41:01\",\"2020-12-19T07:47:42\",\"2020-12-19T07:47:44\",\"2020-12-19T07:50:58\",\"2020-12-19T07:50:59\",\"2020-12-19T07:51:01\",\"2020-12-19T07:59:38\",\"2020-12-19T07:59:46\",\"2020-12-19T07:59:47\",\"2020-12-19T08:05:45\",\"2020-12-19T08:09:05\",\"2020-12-19T08:09:06\",\"2020-12-19T08:14:25\",\"2020-12-19T08:19:44\",\"2020-12-19T08:20:00\",\"2020-12-19T08:20:01\",\"2020-12-19T08:20:02\",\"2020-12-19T08:20:40\",\"2020-12-19T08:21:01\",\"2020-12-19T08:22:57\",\"2020-12-19T08:27:57\",\"2020-12-19T08:27:58\",\"2020-12-19T08:28:48\",\"2020-12-19T08:32:33\",\"2020-12-19T08:32:34\",\"2020-12-19T08:38:49\",\"2020-12-19T08:46:20\",\"2020-12-19T08:50:32\",\"2020-12-19T08:50:54\",\"2020-12-19T08:50:56\",\"2020-12-19T08:53:38\",\"2020-12-19T08:53:40\",\"2020-12-19T08:54:08\",\"2020-12-19T08:56:58\",\"2020-12-19T08:56:59\",\"2020-12-19T08:58:53\",\"2020-12-19T08:58:54\",\"2020-12-19T08:58:58\",\"2020-12-19T08:59:07\",\"2020-12-19T08:59:08\",\"2020-12-19T08:59:50\",\"2020-12-19T09:02:30\",\"2020-12-19T09:02:31\",\"2020-12-19T09:06:56\",\"2020-12-19T09:09:11\",\"2020-12-19T09:09:12\",\"2020-12-19T09:12:50\",\"2020-12-19T09:14:24\",\"2020-12-19T09:14:27\",\"2020-12-19T09:16:10\",\"2020-12-19T09:18:04\",\"2020-12-19T09:18:05\",\"2020-12-19T09:22:04\",\"2020-12-19T09:22:47\",\"2020-12-19T09:23:36\",\"2020-12-19T09:28:40\",\"2020-12-19T09:32:53\",\"2020-12-19T09:33:15\",\"2020-12-19T09:33:35\",\"2020-12-19T09:33:37\",\"2020-12-19T09:33:52\",\"2020-12-19T09:33:54\",\"2020-12-19T09:34:33\",\"2020-12-19T09:34:34\",\"2020-12-19T09:35:48\",\"2020-12-19T09:35:50\",\"2020-12-19T09:38:32\",\"2020-12-19T09:38:33\",\"2020-12-19T09:40:11\",\"2020-12-19T09:41:44\",\"2020-12-19T09:44:27\",\"2020-12-19T09:44:28\",\"2020-12-19T09:46:10\",\"2020-12-19T09:46:13\",\"2020-12-19T09:47:52\",\"2020-12-19T09:47:54\",\"2020-12-19T09:48:07\",\"2020-12-19T09:48:09\",\"2020-12-19T09:48:11\",\"2020-12-19T09:52:09\",\"2020-12-19T09:55:14\",\"2020-12-19T09:58:13\",\"2020-12-19T09:58:15\",\"2020-12-19T10:07:41\",\"2020-12-19T10:08:19\",\"2020-12-19T10:08:21\",\"2020-12-19T10:09:47\",\"2020-12-19T10:09:48\",\"2020-12-19T10:09:49\",\"2020-12-19T10:12:36\",\"2020-12-19T10:12:38\",\"2020-12-19T10:12:50\",\"2020-12-19T10:13:47\",\"2020-12-19T10:14:32\",\"2020-12-19T10:14:33\",\"2020-12-19T10:20:04\",\"2020-12-19T10:20:05\",\"2020-12-19T10:21:39\",\"2020-12-19T10:24:17\",\"2020-12-19T10:24:20\",\"2020-12-19T10:27:53\",\"2020-12-19T10:29:52\",\"2020-12-19T10:30:59\",\"2020-12-19T10:31:00\",\"2020-12-19T10:31:52\",\"2020-12-19T10:33:19\",\"2020-12-19T10:35:09\",\"2020-12-19T10:38:54\",\"2020-12-19T10:38:57\",\"2020-12-19T10:40:58\",\"2020-12-19T10:41:54\",\"2020-12-19T10:41:55\",\"2020-12-19T10:44:23\",\"2020-12-19T10:48:57\",\"2020-12-19T10:51:04\",\"2020-12-19T10:53:27\",\"2020-12-19T10:53:28\",\"2020-12-19T10:53:53\",\"2020-12-19T10:53:54\",\"2020-12-19T10:58:19\",\"2020-12-19T10:58:34\",\"2020-12-19T10:58:36\",\"2020-12-19T11:03:03\",\"2020-12-19T11:03:05\",\"2020-12-19T11:03:23\",\"2020-12-19T11:06:11\",\"2020-12-19T11:06:12\",\"2020-12-19T11:06:46\",\"2020-12-19T11:06:50\",\"2020-12-19T11:11:08\",\"2020-12-19T11:11:09\",\"2020-12-19T11:11:24\",\"2020-12-19T11:15:24\",\"2020-12-19T11:18:31\",\"2020-12-19T11:19:37\",\"2020-12-19T11:19:38\",\"2020-12-19T11:19:45\",\"2020-12-19T11:22:34\",\"2020-12-19T11:25:28\",\"2020-12-19T11:28:44\",\"2020-12-19T11:29:45\",\"2020-12-19T11:29:46\",\"2020-12-19T11:30:34\",\"2020-12-19T11:32:50\",\"2020-12-19T11:32:51\",\"2020-12-19T11:33:36\",\"2020-12-19T11:35:54\",\"2020-12-19T11:37:17\",\"2020-12-19T11:37:20\",\"2020-12-19T11:38:39\",\"2020-12-19T11:38:40\",\"2020-12-19T11:38:41\",\"2020-12-19T11:41:19\",\"2020-12-19T11:41:22\",\"2020-12-19T11:42:18\",\"2020-12-19T11:44:01\",\"2020-12-19T11:44:03\",\"2020-12-19T11:45:41\",\"2020-12-19T11:50:18\",\"2020-12-19T11:53:15\",\"2020-12-19T11:53:59\",\"2020-12-19T11:54:00\",\"2020-12-19T11:54:30\",\"2020-12-19T11:54:31\",\"2020-12-19T11:56:21\",\"2020-12-19T11:57:31\",\"2020-12-19T11:58:10\",\"2020-12-19T12:04:10\",\"2020-12-19T12:05:49\",\"2020-12-19T12:05:52\",\"2020-12-19T12:13:53\",\"2020-12-19T12:17:41\",\"2020-12-19T12:17:42\",\"2020-12-19T12:19:55\",\"2020-12-19T12:20:16\",\"2020-12-19T12:21:26\",\"2020-12-19T12:22:54\",\"2020-12-19T12:22:55\",\"2020-12-19T12:31:48\",\"2020-12-19T12:34:03\",\"2020-12-19T12:34:47\",\"2020-12-19T12:34:50\",\"2020-12-19T12:35:33\",\"2020-12-19T12:35:34\",\"2020-12-19T12:35:51\",\"2020-12-19T12:39:05\",\"2020-12-19T12:39:07\",\"2020-12-19T12:39:27\",\"2020-12-19T12:39:29\",\"2020-12-19T12:39:38\",\"2020-12-19T12:39:40\",\"2020-12-19T12:42:02\",\"2020-12-19T12:42:03\",\"2020-12-19T12:42:35\",\"2020-12-19T12:42:37\",\"2020-12-19T12:42:40\",\"2020-12-19T12:42:41\",\"2020-12-19T12:42:42\",\"2020-12-19T12:50:50\",\"2020-12-19T12:51:36\",\"2020-12-19T12:58:38\",\"2020-12-19T13:01:42\",\"2020-12-19T13:01:43\",\"2020-12-19T13:05:37\",\"2020-12-19T13:09:10\",\"2020-12-19T13:09:29\",\"2020-12-19T13:09:50\",\"2020-12-19T13:09:58\",\"2020-12-19T13:17:45\",\"2020-12-19T13:17:46\",\"2020-12-19T13:19:59\",\"2020-12-19T13:20:00\",\"2020-12-19T13:22:11\",\"2020-12-19T13:26:17\",\"2020-12-19T13:27:02\",\"2020-12-19T13:27:38\",\"2020-12-19T13:27:39\",\"2020-12-19T13:28:31\",\"2020-12-19T13:29:26\",\"2020-12-19T13:29:27\",\"2020-12-19T13:29:46\",\"2020-12-19T13:29:49\",\"2020-12-19T13:30:26\",\"2020-12-19T13:30:28\",\"2020-12-19T13:35:54\",\"2020-12-19T13:35:57\",\"2020-12-19T13:37:39\",\"2020-12-19T13:41:42\",\"2020-12-19T13:41:43\",\"2020-12-19T13:42:36\",\"2020-12-19T13:42:37\",\"2020-12-19T13:44:46\",\"2020-12-19T13:44:47\",\"2020-12-19T13:47:27\",\"2020-12-19T13:48:38\",\"2020-12-19T13:48:39\",\"2020-12-19T13:48:40\",\"2020-12-19T13:57:09\",\"2020-12-19T13:57:10\",\"2020-12-19T13:58:15\",\"2020-12-19T13:58:16\",\"2020-12-19T13:58:51\",\"2020-12-19T13:58:52\",\"2020-12-19T13:59:45\",\"2020-12-19T13:59:46\",\"2020-12-19T14:02:02\",\"2020-12-19T14:02:06\",\"2020-12-19T14:03:17\",\"2020-12-19T14:06:48\",\"2020-12-19T14:06:51\",\"2020-12-19T14:07:47\",\"2020-12-19T14:07:49\",\"2020-12-19T14:10:12\",\"2020-12-19T14:11:42\",\"2020-12-19T14:15:27\",\"2020-12-19T14:20:25\",\"2020-12-19T14:21:58\",\"2020-12-19T14:22:00\",\"2020-12-19T14:26:37\",\"2020-12-19T14:26:39\",\"2020-12-19T14:27:13\",\"2020-12-19T14:27:14\",\"2020-12-19T14:32:11\",\"2020-12-19T14:32:23\",\"2020-12-19T14:32:24\",\"2020-12-19T14:38:37\",\"2020-12-19T14:42:58\",\"2020-12-19T14:43:00\",\"2020-12-19T14:43:56\",\"2020-12-19T14:45:40\",\"2020-12-19T14:45:43\",\"2020-12-19T14:46:05\",\"2020-12-19T14:46:07\",\"2020-12-19T14:51:33\",\"2020-12-19T14:52:17\",\"2020-12-19T14:55:04\",\"2020-12-19T14:55:23\",\"2020-12-19T14:55:24\",\"2020-12-19T14:56:07\",\"2020-12-19T14:56:36\",\"2020-12-19T14:56:37\",\"2020-12-19T14:57:46\",\"2020-12-19T14:57:48\",\"2020-12-19T14:58:36\",\"2020-12-19T14:59:45\",\"2020-12-19T15:05:56\",\"2020-12-19T15:06:12\",\"2020-12-19T15:06:13\",\"2020-12-19T15:11:34\",\"2020-12-19T15:11:46\",\"2020-12-19T15:12:50\",\"2020-12-19T15:12:52\",\"2020-12-19T15:17:17\",\"2020-12-19T15:18:39\",\"2020-12-19T15:20:28\",\"2020-12-19T15:22:34\",\"2020-12-19T15:22:36\",\"2020-12-19T15:22:38\",\"2020-12-19T15:25:13\",\"2020-12-19T15:26:04\",\"2020-12-19T15:26:07\",\"2020-12-19T15:27:48\",\"2020-12-19T15:28:58\",\"2020-12-19T15:34:41\",\"2020-12-19T15:43:14\",\"2020-12-19T15:43:15\",\"2020-12-19T15:43:35\",\"2020-12-19T15:43:36\",\"2020-12-19T15:43:45\",\"2020-12-19T15:43:46\",\"2020-12-19T15:47:00\",\"2020-12-19T15:48:36\",\"2020-12-19T15:49:48\",\"2020-12-19T15:49:49\",\"2020-12-19T15:50:07\",\"2020-12-19T15:53:24\",\"2020-12-19T15:53:26\",\"2020-12-19T15:55:55\",\"2020-12-19T15:56:59\",\"2020-12-19T15:57:53\",\"2020-12-19T16:00:59\",\"2020-12-19T16:01:01\",\"2020-12-19T16:03:50\",\"2020-12-19T16:03:52\",\"2020-12-19T16:05:18\",\"2020-12-19T16:10:56\",\"2020-12-19T16:11:49\",\"2020-12-19T16:11:53\",\"2020-12-19T16:16:03\",\"2020-12-19T16:16:04\",\"2020-12-19T16:16:56\",\"2020-12-19T16:18:51\",\"2020-12-19T16:18:52\",\"2020-12-19T16:21:38\",\"2020-12-19T16:22:08\",\"2020-12-19T16:23:23\",\"2020-12-19T16:27:33\",\"2020-12-19T16:29:03\",\"2020-12-19T16:33:17\",\"2020-12-19T16:33:18\",\"2020-12-19T16:35:54\",\"2020-12-19T16:35:57\",\"2020-12-19T16:38:35\",\"2020-12-19T16:42:09\",\"2020-12-19T16:42:33\",\"2020-12-19T16:42:52\",\"2020-12-19T16:49:06\",\"2020-12-19T16:49:10\",\"2020-12-19T16:50:14\",\"2020-12-19T16:53:33\",\"2020-12-19T16:58:03\",\"2020-12-19T17:00:48\",\"2020-12-19T17:04:52\",\"2020-12-19T17:08:46\",\"2020-12-19T17:08:49\",\"2020-12-19T17:08:57\",\"2020-12-19T17:09:58\",\"2020-12-19T17:10:58\",\"2020-12-19T17:11:00\",\"2020-12-19T17:12:33\",\"2020-12-19T17:12:34\",\"2020-12-19T17:12:54\",\"2020-12-19T17:12:56\",\"2020-12-19T17:18:43\",\"2020-12-19T17:20:40\",\"2020-12-19T17:20:42\",\"2020-12-19T17:23:08\",\"2020-12-19T17:23:45\",\"2020-12-19T17:23:56\",\"2020-12-19T17:23:57\",\"2020-12-19T17:24:10\",\"2020-12-19T17:24:12\",\"2020-12-19T17:26:11\",\"2020-12-19T17:26:13\",\"2020-12-19T17:31:16\",\"2020-12-19T17:32:01\",\"2020-12-19T17:38:02\",\"2020-12-19T17:38:39\",\"2020-12-19T17:39:04\",\"2020-12-19T17:41:14\",\"2020-12-19T17:41:15\",\"2020-12-19T17:41:56\",\"2020-12-19T17:43:19\",\"2020-12-19T17:43:20\",\"2020-12-19T17:43:23\",\"2020-12-19T17:46:12\",\"2020-12-19T17:46:14\",\"2020-12-19T17:47:36\",\"2020-12-19T17:50:37\",\"2020-12-19T17:50:38\",\"2020-12-19T17:51:02\",\"2020-12-19T17:53:00\",\"2020-12-19T17:55:38\",\"2020-12-19T17:55:41\",\"2020-12-19T17:55:42\",\"2020-12-19T17:56:57\",\"2020-12-19T18:00:09\",\"2020-12-19T18:02:31\",\"2020-12-19T18:02:52\",\"2020-12-19T18:02:54\",\"2020-12-19T18:04:31\",\"2020-12-19T18:04:32\",\"2020-12-19T18:07:09\",\"2020-12-19T18:07:10\",\"2020-12-19T18:10:25\",\"2020-12-19T18:12:53\",\"2020-12-19T18:13:23\",\"2020-12-19T18:13:25\",\"2020-12-19T18:19:18\",\"2020-12-19T18:19:20\",\"2020-12-19T18:21:21\",\"2020-12-19T18:26:35\",\"2020-12-19T18:30:12\",\"2020-12-19T18:30:13\",\"2020-12-19T18:30:14\",\"2020-12-19T18:31:34\",\"2020-12-19T18:31:37\",\"2020-12-19T18:32:50\",\"2020-12-19T18:32:51\",\"2020-12-19T18:36:06\",\"2020-12-19T18:42:30\",\"2020-12-19T18:42:55\",\"2020-12-19T18:43:38\",\"2020-12-19T18:49:32\",\"2020-12-19T18:52:19\",\"2020-12-19T18:56:17\",\"2020-12-19T18:56:18\",\"2020-12-19T19:01:18\",\"2020-12-19T19:02:27\",\"2020-12-19T19:02:28\",\"2020-12-19T19:03:36\",\"2020-12-19T19:03:37\",\"2020-12-19T19:09:53\",\"2020-12-19T19:09:55\",\"2020-12-19T19:11:41\",\"2020-12-19T19:14:14\",\"2020-12-19T19:14:16\",\"2020-12-19T19:15:20\",\"2020-12-19T19:16:29\",\"2020-12-19T19:17:41\",\"2020-12-19T19:17:42\",\"2020-12-19T19:24:18\",\"2020-12-19T19:24:19\",\"2020-12-19T19:25:00\",\"2020-12-19T19:25:30\",\"2020-12-19T19:25:53\",\"2020-12-19T19:27:33\",\"2020-12-19T19:28:13\",\"2020-12-19T19:28:24\",\"2020-12-19T19:29:18\",\"2020-12-19T19:31:53\",\"2020-12-19T19:32:06\",\"2020-12-19T19:32:07\",\"2020-12-19T19:33:19\",\"2020-12-19T19:35:03\",\"2020-12-19T19:42:07\",\"2020-12-19T19:42:08\",\"2020-12-19T19:43:34\",\"2020-12-19T19:44:54\",\"2020-12-19T19:44:55\",\"2020-12-19T19:44:57\",\"2020-12-19T19:47:13\",\"2020-12-19T19:47:15\",\"2020-12-19T19:50:56\",\"2020-12-19T19:50:57\",\"2020-12-19T19:53:42\",\"2020-12-19T19:53:43\",\"2020-12-19T19:55:08\",\"2020-12-19T19:55:58\",\"2020-12-19T19:58:20\",\"2020-12-19T20:00:55\",\"2020-12-19T20:03:11\",\"2020-12-19T20:06:05\",\"2020-12-19T20:07:22\",\"2020-12-19T20:07:23\",\"2020-12-19T20:08:57\",\"2020-12-19T20:13:08\",\"2020-12-19T20:22:54\",\"2020-12-19T20:24:08\",\"2020-12-19T20:30:31\",\"2020-12-19T20:30:35\",\"2020-12-19T20:32:56\",\"2020-12-19T20:35:27\",\"2020-12-19T20:35:28\",\"2020-12-19T20:35:49\",\"2020-12-19T20:35:51\",\"2020-12-19T20:42:03\",\"2020-12-19T20:43:39\",\"2020-12-19T20:43:40\",\"2020-12-19T20:44:13\",\"2020-12-19T20:44:14\",\"2020-12-19T20:47:25\",\"2020-12-19T20:51:20\",\"2020-12-19T20:54:50\",\"2020-12-19T20:57:40\",\"2020-12-19T21:03:01\",\"2020-12-19T21:03:11\",\"2020-12-19T21:03:12\",\"2020-12-19T21:08:09\",\"2020-12-19T21:08:10\",\"2020-12-19T21:12:03\",\"2020-12-19T21:15:29\",\"2020-12-19T21:15:30\",\"2020-12-19T21:15:39\",\"2020-12-19T21:22:03\",\"2020-12-19T21:22:07\",\"2020-12-19T21:23:09\",\"2020-12-19T21:25:47\",\"2020-12-19T21:29:44\",\"2020-12-19T21:29:45\",\"2020-12-19T21:33:32\",\"2020-12-19T21:34:26\",\"2020-12-19T21:35:34\",\"2020-12-19T21:36:48\",\"2020-12-19T21:36:50\",\"2020-12-19T21:40:28\",\"2020-12-19T21:41:51\",\"2020-12-19T21:42:57\",\"2020-12-19T21:45:07\",\"2020-12-19T21:47:48\",\"2020-12-19T21:47:52\",\"2020-12-19T21:53:30\",\"2020-12-19T21:53:33\",\"2020-12-19T21:54:03\",\"2020-12-19T21:54:06\",\"2020-12-19T21:59:00\",\"2020-12-19T21:59:22\",\"2020-12-19T21:59:24\",\"2020-12-19T22:06:52\",\"2020-12-19T22:06:54\",\"2020-12-19T22:07:05\",\"2020-12-19T22:10:21\",\"2020-12-19T22:11:38\",\"2020-12-19T22:12:10\",\"2020-12-19T22:13:06\",\"2020-12-19T22:15:21\",\"2020-12-19T22:22:47\",\"2020-12-19T22:25:05\",\"2020-12-19T22:28:07\",\"2020-12-19T22:28:08\",\"2020-12-19T22:28:09\",\"2020-12-19T22:29:31\",\"2020-12-19T22:30:48\",\"2020-12-19T22:30:49\",\"2020-12-19T22:32:04\",\"2020-12-19T22:32:08\",\"2020-12-19T22:32:42\",\"2020-12-19T22:37:11\",\"2020-12-19T22:37:14\",\"2020-12-19T22:39:17\",\"2020-12-19T22:39:19\",\"2020-12-19T22:40:24\",\"2020-12-19T22:40:26\",\"2020-12-19T22:40:49\",\"2020-12-19T22:40:50\",\"2020-12-19T22:40:51\",\"2020-12-19T22:41:31\",\"2020-12-19T22:41:34\",\"2020-12-19T22:48:25\",\"2020-12-19T22:48:41\",\"2020-12-19T22:48:43\",\"2020-12-19T22:59:25\",\"2020-12-19T23:01:13\",\"2020-12-19T23:03:52\",\"2020-12-19T23:03:53\",\"2020-12-19T23:03:55\",\"2020-12-19T23:04:01\",\"2020-12-19T23:04:02\",\"2020-12-19T23:05:04\",\"2020-12-19T23:05:05\",\"2020-12-19T23:05:37\",\"2020-12-19T23:05:38\",\"2020-12-19T23:06:34\",\"2020-12-19T23:09:09\",\"2020-12-19T23:09:10\",\"2020-12-19T23:09:11\",\"2020-12-19T23:09:12\",\"2020-12-19T23:12:17\",\"2020-12-19T23:12:18\",\"2020-12-19T23:14:10\",\"2020-12-19T23:14:11\",\"2020-12-19T23:14:12\",\"2020-12-19T23:17:03\",\"2020-12-19T23:18:02\",\"2020-12-19T23:18:47\",\"2020-12-19T23:18:49\",\"2020-12-19T23:20:02\",\"2020-12-19T23:28:46\",\"2020-12-19T23:28:48\",\"2020-12-19T23:30:01\",\"2020-12-19T23:30:02\",\"2020-12-19T23:30:22\",\"2020-12-19T23:31:17\",\"2020-12-19T23:31:38\",\"2020-12-19T23:35:55\",\"2020-12-19T23:38:04\",\"2020-12-19T23:38:05\",\"2020-12-19T23:40:25\",\"2020-12-19T23:40:26\",\"2020-12-19T23:46:37\",\"2020-12-19T23:46:40\",\"2020-12-19T23:47:02\",\"2020-12-19T23:47:17\",\"2020-12-19T23:48:33\",\"2020-12-19T23:50:51\",\"2020-12-19T23:51:17\",\"2020-12-19T23:51:19\",\"2020-12-19T23:52:37\",\"2020-12-20T00:00:04\",\"2020-12-20T00:00:05\",\"2020-12-20T00:01:55\",\"2020-12-20T00:08:46\",\"2020-12-20T00:08:47\",\"2020-12-20T00:12:23\",\"2020-12-20T00:12:24\",\"2020-12-20T00:15:07\",\"2020-12-20T00:15:09\",\"2020-12-20T00:20:28\",\"2020-12-20T00:20:29\",\"2020-12-20T00:20:31\",\"2020-12-20T00:20:41\",\"2020-12-20T00:20:44\",\"2020-12-20T00:24:33\",\"2020-12-20T00:24:36\",\"2020-12-20T00:24:39\",\"2020-12-20T00:28:43\",\"2020-12-20T00:29:30\",\"2020-12-20T00:29:53\",\"2020-12-20T00:29:55\",\"2020-12-20T00:31:33\",\"2020-12-20T00:34:28\",\"2020-12-20T00:35:17\",\"2020-12-20T00:35:18\",\"2020-12-20T00:35:19\",\"2020-12-20T00:36:10\",\"2020-12-20T00:39:45\",\"2020-12-20T00:39:46\",\"2020-12-20T00:40:13\",\"2020-12-20T00:40:14\",\"2020-12-20T00:43:16\",\"2020-12-20T00:43:20\",\"2020-12-20T00:45:55\",\"2020-12-20T00:53:55\",\"2020-12-20T00:57:09\",\"2020-12-20T00:57:11\",\"2020-12-20T00:58:51\",\"2020-12-20T00:58:52\",\"2020-12-20T00:59:28\",\"2020-12-20T00:59:29\",\"2020-12-20T01:03:06\",\"2020-12-20T01:03:09\",\"2020-12-20T01:10:53\",\"2020-12-20T01:11:00\",\"2020-12-20T01:11:34\",\"2020-12-20T01:11:35\",\"2020-12-20T01:12:16\",\"2020-12-20T01:13:04\",\"2020-12-20T01:14:04\",\"2020-12-20T01:14:05\",\"2020-12-20T01:17:16\",\"2020-12-20T01:17:17\",\"2020-12-20T01:18:27\",\"2020-12-20T01:20:53\",\"2020-12-20T01:20:54\",\"2020-12-20T01:21:04\",\"2020-12-20T01:23:25\",\"2020-12-20T01:23:27\",\"2020-12-20T01:23:44\",\"2020-12-20T01:23:53\",\"2020-12-20T01:24:50\",\"2020-12-20T01:24:53\",\"2020-12-20T01:28:19\",\"2020-12-20T01:28:22\",\"2020-12-20T01:28:23\",\"2020-12-20T01:28:24\",\"2020-12-20T01:36:23\",\"2020-12-20T01:40:38\",\"2020-12-20T01:44:52\",\"2020-12-20T01:44:54\",\"2020-12-20T01:45:03\",\"2020-12-20T01:48:15\",\"2020-12-20T01:48:16\",\"2020-12-20T01:50:23\",\"2020-12-20T01:50:24\",\"2020-12-20T01:54:15\",\"2020-12-20T01:54:16\",\"2020-12-20T01:59:22\",\"2020-12-20T02:01:54\",\"2020-12-20T02:01:55\",\"2020-12-20T02:06:44\",\"2020-12-20T02:06:46\",\"2020-12-20T02:08:19\",\"2020-12-20T02:08:21\",\"2020-12-20T02:12:30\",\"2020-12-20T02:12:42\",\"2020-12-20T02:12:44\",\"2020-12-20T02:13:08\",\"2020-12-20T02:15:18\",\"2020-12-20T02:15:19\",\"2020-12-20T02:15:59\",\"2020-12-20T02:18:44\",\"2020-12-20T02:20:00\",\"2020-12-20T02:27:04\",\"2020-12-20T02:27:08\",\"2020-12-20T02:32:03\",\"2020-12-20T02:32:04\",\"2020-12-20T02:32:11\",\"2020-12-20T02:36:33\",\"2020-12-20T02:36:35\",\"2020-12-20T02:38:18\",\"2020-12-20T02:41:06\",\"2020-12-20T02:41:08\",\"2020-12-20T02:41:09\",\"2020-12-20T02:45:03\",\"2020-12-20T02:46:30\",\"2020-12-20T02:49:39\",\"2020-12-20T02:51:00\",\"2020-12-20T02:51:30\",\"2020-12-20T02:52:16\",\"2020-12-20T02:54:10\",\"2020-12-20T02:54:11\",\"2020-12-20T02:55:58\",\"2020-12-20T03:00:26\",\"2020-12-20T03:00:29\",\"2020-12-20T03:01:11\",\"2020-12-20T03:01:12\",\"2020-12-20T03:02:36\",\"2020-12-20T03:02:41\",\"2020-12-20T03:03:16\",\"2020-12-20T03:04:04\",\"2020-12-20T03:04:05\",\"2020-12-20T03:05:33\",\"2020-12-20T03:05:35\",\"2020-12-20T03:05:47\",\"2020-12-20T03:09:42\",\"2020-12-20T03:09:43\",\"2020-12-20T03:10:22\",\"2020-12-20T03:10:24\",\"2020-12-20T03:12:05\",\"2020-12-20T03:17:58\",\"2020-12-20T03:19:18\",\"2020-12-20T03:19:19\",\"2020-12-20T03:21:43\",\"2020-12-20T03:23:31\",\"2020-12-20T03:23:33\",\"2020-12-20T03:23:40\",\"2020-12-20T03:23:43\",\"2020-12-20T03:24:41\",\"2020-12-20T03:24:42\",\"2020-12-20T03:25:10\",\"2020-12-20T03:29:36\",\"2020-12-20T03:29:37\",\"2020-12-20T03:31:41\",\"2020-12-20T03:32:23\",\"2020-12-20T03:36:33\",\"2020-12-20T03:43:07\",\"2020-12-20T03:44:34\",\"2020-12-20T03:45:08\",\"2020-12-20T03:47:42\",\"2020-12-20T03:48:52\",\"2020-12-20T03:48:53\",\"2020-12-20T03:49:25\",\"2020-12-20T03:49:27\",\"2020-12-20T03:50:07\",\"2020-12-20T03:50:09\",\"2020-12-20T03:50:16\",\"2020-12-20T03:57:23\",\"2020-12-20T03:58:10\",\"2020-12-20T04:01:01\",\"2020-12-20T04:01:04\",\"2020-12-20T04:02:29\",\"2020-12-20T04:04:27\",\"2020-12-20T04:06:17\",\"2020-12-20T04:06:20\",\"2020-12-20T04:06:43\",\"2020-12-20T04:06:44\",\"2020-12-20T04:11:02\",\"2020-12-20T04:11:04\",\"2020-12-20T04:11:53\",\"2020-12-20T04:11:55\",\"2020-12-20T04:12:12\",\"2020-12-20T04:12:13\",\"2020-12-20T04:12:27\",\"2020-12-20T04:12:28\",\"2020-12-20T04:15:43\",\"2020-12-20T04:15:45\",\"2020-12-20T04:15:59\",\"2020-12-20T04:16:01\",\"2020-12-20T04:16:04\",\"2020-12-20T04:19:18\",\"2020-12-20T04:20:18\",\"2020-12-20T04:20:20\",\"2020-12-20T04:29:23\",\"2020-12-20T04:29:24\",\"2020-12-20T04:29:46\",\"2020-12-20T04:31:59\",\"2020-12-20T04:32:54\",\"2020-12-20T04:33:28\",\"2020-12-20T04:36:41\",\"2020-12-20T04:40:33\",\"2020-12-20T04:40:35\",\"2020-12-20T04:43:29\",\"2020-12-20T04:43:30\",\"2020-12-20T04:43:53\",\"2020-12-20T04:46:00\",\"2020-12-20T04:46:01\",\"2020-12-20T04:46:41\",\"2020-12-20T04:46:46\",\"2020-12-20T04:49:04\",\"2020-12-20T04:49:06\",\"2020-12-20T04:50:12\",\"2020-12-20T04:51:36\",\"2020-12-20T04:51:38\",\"2020-12-20T04:52:03\",\"2020-12-20T04:52:05\",\"2020-12-20T04:53:55\",\"2020-12-20T04:53:56\",\"2020-12-20T04:54:04\",\"2020-12-20T04:57:52\",\"2020-12-20T04:57:53\",\"2020-12-20T05:03:40\",\"2020-12-20T05:05:46\",\"2020-12-20T05:05:47\",\"2020-12-20T05:08:00\",\"2020-12-20T05:08:01\",\"2020-12-20T05:08:49\",\"2020-12-20T05:10:08\",\"2020-12-20T05:10:10\",\"2020-12-20T05:10:32\",\"2020-12-20T05:10:33\",\"2020-12-20T05:12:37\",\"2020-12-20T05:20:07\",\"2020-12-20T05:25:03\",\"2020-12-20T05:25:04\",\"2020-12-20T05:27:29\",\"2020-12-20T05:27:32\",\"2020-12-20T05:27:34\",\"2020-12-20T05:28:34\",\"2020-12-20T05:28:56\",\"2020-12-20T05:29:39\",\"2020-12-20T05:31:06\",\"2020-12-20T05:31:08\",\"2020-12-20T05:33:09\",\"2020-12-20T05:36:30\",\"2020-12-20T05:39:20\",\"2020-12-20T05:39:27\",\"2020-12-20T05:42:09\",\"2020-12-20T05:42:11\",\"2020-12-20T05:42:16\",\"2020-12-20T05:43:33\",\"2020-12-20T05:43:35\",\"2020-12-20T05:43:36\",\"2020-12-20T05:45:20\",\"2020-12-20T05:46:22\",\"2020-12-20T05:46:23\",\"2020-12-20T05:51:42\",\"2020-12-20T05:53:40\",\"2020-12-20T05:55:08\",\"2020-12-20T05:55:46\",\"2020-12-20T05:57:54\",\"2020-12-20T06:03:22\",\"2020-12-20T06:03:23\",\"2020-12-20T06:06:06\",\"2020-12-20T06:10:28\",\"2020-12-20T06:10:30\",\"2020-12-20T06:11:59\",\"2020-12-20T06:12:02\",\"2020-12-20T06:17:20\",\"2020-12-20T06:21:23\",\"2020-12-20T06:21:24\",\"2020-12-20T06:22:17\",\"2020-12-20T06:23:22\",\"2020-12-20T06:26:00\",\"2020-12-20T06:26:01\",\"2020-12-20T06:26:18\",\"2020-12-20T06:28:36\",\"2020-12-20T06:29:22\",\"2020-12-20T06:29:24\",\"2020-12-20T06:33:41\",\"2020-12-20T06:37:23\",\"2020-12-20T06:37:25\",\"2020-12-20T06:37:58\",\"2020-12-20T06:40:47\",\"2020-12-20T06:40:49\",\"2020-12-20T06:41:11\",\"2020-12-20T06:46:36\",\"2020-12-20T06:47:39\",\"2020-12-20T06:47:40\",\"2020-12-20T06:47:44\",\"2020-12-20T06:48:32\",\"2020-12-20T06:48:35\",\"2020-12-20T06:49:46\",\"2020-12-20T06:49:47\",\"2020-12-20T06:51:48\",\"2020-12-20T06:51:50\",\"2020-12-20T06:52:32\",\"2020-12-20T06:52:34\",\"2020-12-20T06:53:05\",\"2020-12-20T06:53:29\",\"2020-12-20T06:54:52\",\"2020-12-20T06:54:54\",\"2020-12-20T06:55:58\",\"2020-12-20T06:57:25\",\"2020-12-20T06:58:11\",\"2020-12-20T06:58:12\",\"2020-12-20T07:01:45\",\"2020-12-20T07:01:46\",\"2020-12-20T07:02:28\",\"2020-12-20T07:02:29\",\"2020-12-20T07:05:25\",\"2020-12-20T07:05:35\",\"2020-12-20T07:05:37\",\"2020-12-20T07:08:48\",\"2020-12-20T07:11:13\",\"2020-12-20T07:11:15\",\"2020-12-20T07:19:16\",\"2020-12-20T07:21:52\",\"2020-12-20T07:25:15\",\"2020-12-20T07:26:48\",\"2020-12-20T07:28:34\",\"2020-12-20T07:28:36\",\"2020-12-20T07:30:26\",\"2020-12-20T07:30:30\",\"2020-12-20T07:31:41\",\"2020-12-20T07:39:53\",\"2020-12-20T07:41:42\",\"2020-12-20T07:42:49\",\"2020-12-20T07:45:12\",\"2020-12-20T07:46:57\",\"2020-12-20T07:52:18\",\"2020-12-20T07:52:20\",\"2020-12-20T07:55:42\",\"2020-12-20T07:55:43\",\"2020-12-20T08:02:21\",\"2020-12-20T08:02:33\",\"2020-12-20T08:03:20\",\"2020-12-20T08:03:33\",\"2020-12-20T08:07:31\",\"2020-12-20T08:09:01\",\"2020-12-20T08:09:04\",\"2020-12-20T08:10:26\",\"2020-12-20T08:10:28\",\"2020-12-20T08:10:50\",\"2020-12-20T08:10:51\",\"2020-12-20T08:10:52\",\"2020-12-20T08:12:28\",\"2020-12-20T08:12:47\",\"2020-12-20T08:13:58\",\"2020-12-20T08:14:50\",\"2020-12-20T08:17:38\",\"2020-12-20T08:19:08\",\"2020-12-20T08:27:54\",\"2020-12-20T08:30:43\",\"2020-12-20T08:33:15\",\"2020-12-20T08:39:07\",\"2020-12-20T08:39:51\",\"2020-12-20T08:40:02\",\"2020-12-20T08:41:21\",\"2020-12-20T08:41:22\",\"2020-12-20T08:42:40\",\"2020-12-20T08:42:41\",\"2020-12-20T08:44:57\",\"2020-12-20T08:44:58\",\"2020-12-20T08:46:59\",\"2020-12-20T08:47:00\",\"2020-12-20T08:50:41\",\"2020-12-20T08:50:44\",\"2020-12-20T08:54:58\",\"2020-12-20T08:54:59\",\"2020-12-20T08:56:23\",\"2020-12-20T08:57:49\",\"2020-12-20T09:04:04\",\"2020-12-20T09:04:13\",\"2020-12-20T09:04:14\",\"2020-12-20T09:05:49\",\"2020-12-20T09:06:27\",\"2020-12-20T09:07:10\",\"2020-12-20T09:12:38\",\"2020-12-20T09:12:39\",\"2020-12-20T09:12:40\",\"2020-12-20T09:13:51\",\"2020-12-20T09:13:52\",\"2020-12-20T09:14:02\",\"2020-12-20T09:14:26\",\"2020-12-20T09:15:26\",\"2020-12-20T09:17:25\",\"2020-12-20T09:17:26\",\"2020-12-20T09:17:27\",\"2020-12-20T09:17:36\",\"2020-12-20T09:19:44\",\"2020-12-20T09:19:48\",\"2020-12-20T09:20:23\",\"2020-12-20T09:21:40\",\"2020-12-20T09:21:41\",\"2020-12-20T09:23:38\",\"2020-12-20T09:29:11\",\"2020-12-20T09:29:55\",\"2020-12-20T09:37:08\",\"2020-12-20T09:40:38\",\"2020-12-20T09:43:14\",\"2020-12-20T09:45:27\",\"2020-12-20T09:45:29\",\"2020-12-20T09:45:30\",\"2020-12-20T09:46:56\",\"2020-12-20T09:46:59\",\"2020-12-20T09:47:54\",\"2020-12-20T09:47:55\",\"2020-12-20T09:49:47\",\"2020-12-20T09:49:49\",\"2020-12-20T09:49:50\",\"2020-12-20T09:51:02\",\"2020-12-20T09:52:39\",\"2020-12-20T09:52:41\",\"2020-12-20T09:53:35\",\"2020-12-20T09:53:36\",\"2020-12-20T09:54:28\",\"2020-12-20T09:55:39\",\"2020-12-20T09:55:41\",\"2020-12-20T10:00:15\",\"2020-12-20T10:02:57\",\"2020-12-20T10:03:23\",\"2020-12-20T10:03:24\",\"2020-12-20T10:09:28\",\"2020-12-20T10:11:22\",\"2020-12-20T10:11:52\",\"2020-12-20T10:11:59\",\"2020-12-20T10:13:41\",\"2020-12-20T10:13:43\",\"2020-12-20T10:13:46\",\"2020-12-20T10:16:55\",\"2020-12-20T10:17:49\",\"2020-12-20T10:17:50\",\"2020-12-20T10:19:48\",\"2020-12-20T10:19:49\",\"2020-12-20T10:19:50\",\"2020-12-20T10:27:28\",\"2020-12-20T10:34:16\",\"2020-12-20T10:34:17\",\"2020-12-20T10:36:19\",\"2020-12-20T10:36:20\",\"2020-12-20T10:40:15\",\"2020-12-20T10:40:16\",\"2020-12-20T10:40:17\",\"2020-12-20T10:47:41\",\"2020-12-20T10:52:32\",\"2020-12-20T10:54:32\",\"2020-12-20T11:02:01\",\"2020-12-20T11:02:03\",\"2020-12-20T11:02:59\",\"2020-12-20T11:03:29\",\"2020-12-20T11:03:30\",\"2020-12-20T11:05:31\",\"2020-12-20T11:07:34\",\"2020-12-20T11:07:35\",\"2020-12-20T11:07:39\",\"2020-12-20T11:07:41\",\"2020-12-20T11:10:04\",\"2020-12-20T11:13:39\",\"2020-12-20T11:13:48\",\"2020-12-20T11:17:28\",\"2020-12-20T11:18:03\",\"2020-12-20T11:20:32\",\"2020-12-20T11:21:27\",\"2020-12-20T11:24:43\",\"2020-12-20T11:24:44\",\"2020-12-20T11:25:30\",\"2020-12-20T11:30:28\",\"2020-12-20T11:30:31\",\"2020-12-20T11:32:46\",\"2020-12-20T11:34:33\",\"2020-12-20T11:35:04\",\"2020-12-20T11:35:16\",\"2020-12-20T11:36:04\",\"2020-12-20T11:36:05\",\"2020-12-20T11:38:53\",\"2020-12-20T11:39:20\",\"2020-12-20T11:39:56\",\"2020-12-20T11:39:59\",\"2020-12-20T11:53:18\",\"2020-12-20T11:56:14\",\"2020-12-20T11:56:15\",\"2020-12-20T11:57:29\",\"2020-12-20T11:57:34\",\"2020-12-20T11:58:06\",\"2020-12-20T11:58:07\",\"2020-12-20T11:58:08\",\"2020-12-20T11:58:13\",\"2020-12-20T11:58:15\",\"2020-12-20T11:58:26\",\"2020-12-20T11:58:31\",\"2020-12-20T12:06:12\",\"2020-12-20T12:16:09\",\"2020-12-20T12:25:19\",\"2020-12-20T12:25:20\",\"2020-12-20T12:27:46\",\"2020-12-20T12:29:02\",\"2020-12-20T12:30:55\",\"2020-12-20T12:30:56\",\"2020-12-20T12:33:38\",\"2020-12-20T12:35:53\",\"2020-12-20T12:36:28\",\"2020-12-20T12:36:29\",\"2020-12-20T12:36:30\",\"2020-12-20T12:37:54\",\"2020-12-20T12:39:26\",\"2020-12-20T12:39:28\",\"2020-12-20T12:39:38\",\"2020-12-20T12:39:39\",\"2020-12-20T12:41:45\",\"2020-12-20T12:41:46\",\"2020-12-20T12:45:27\",\"2020-12-20T12:48:41\",\"2020-12-20T12:49:32\",\"2020-12-20T12:52:43\",\"2020-12-20T12:53:29\",\"2020-12-20T12:53:30\",\"2020-12-20T12:53:53\",\"2020-12-20T12:53:58\",\"2020-12-20T13:01:17\",\"2020-12-20T13:01:20\",\"2020-12-20T13:03:11\",\"2020-12-20T13:05:46\",\"2020-12-20T13:08:38\",\"2020-12-20T13:08:41\",\"2020-12-20T13:08:43\",\"2020-12-20T13:09:22\",\"2020-12-20T13:09:48\",\"2020-12-20T13:09:49\",\"2020-12-20T13:10:07\",\"2020-12-20T13:10:58\",\"2020-12-20T13:10:59\",\"2020-12-20T13:20:54\",\"2020-12-20T13:20:57\",\"2020-12-20T13:21:17\",\"2020-12-20T13:21:20\",\"2020-12-20T13:22:06\",\"2020-12-20T13:26:38\",\"2020-12-20T13:26:39\",\"2020-12-20T13:39:50\",\"2020-12-20T13:44:34\",\"2020-12-20T13:44:41\",\"2020-12-20T13:46:54\",\"2020-12-20T13:46:55\",\"2020-12-20T13:47:07\",\"2020-12-20T13:48:06\",\"2020-12-20T13:48:07\",\"2020-12-20T13:51:58\",\"2020-12-20T13:53:13\",\"2020-12-20T13:53:31\",\"2020-12-20T13:54:11\",\"2020-12-20T13:59:09\",\"2020-12-20T14:03:07\",\"2020-12-20T14:03:08\",\"2020-12-20T14:03:34\",\"2020-12-20T14:03:36\",\"2020-12-20T14:03:56\",\"2020-12-20T14:03:58\",\"2020-12-20T14:11:56\",\"2020-12-20T14:11:57\",\"2020-12-20T14:12:23\",\"2020-12-20T14:12:24\",\"2020-12-20T14:13:58\",\"2020-12-20T14:17:36\",\"2020-12-20T14:17:39\",\"2020-12-20T14:22:46\",\"2020-12-20T14:22:47\",\"2020-12-20T14:24:30\",\"2020-12-20T14:24:31\",\"2020-12-20T14:27:55\",\"2020-12-20T14:32:09\",\"2020-12-20T14:32:11\",\"2020-12-20T14:34:13\",\"2020-12-20T14:34:14\",\"2020-12-20T14:34:17\",\"2020-12-20T14:34:19\",\"2020-12-20T14:37:15\",\"2020-12-20T14:38:15\",\"2020-12-20T14:45:06\",\"2020-12-20T14:45:07\",\"2020-12-20T14:50:08\",\"2020-12-20T14:50:10\",\"2020-12-20T14:52:38\",\"2020-12-20T14:52:39\",\"2020-12-20T14:52:49\",\"2020-12-20T14:53:54\",\"2020-12-20T14:56:10\",\"2020-12-20T14:56:11\",\"2020-12-20T14:56:12\",\"2020-12-20T14:58:08\",\"2020-12-20T14:58:11\",\"2020-12-20T15:05:20\",\"2020-12-20T15:12:01\",\"2020-12-20T15:12:02\",\"2020-12-20T15:15:33\",\"2020-12-20T15:17:25\",\"2020-12-20T15:18:20\",\"2020-12-20T15:18:40\",\"2020-12-20T15:18:42\",\"2020-12-20T15:19:52\",\"2020-12-20T15:24:47\",\"2020-12-20T15:30:59\",\"2020-12-20T15:35:45\",\"2020-12-20T15:40:47\",\"2020-12-20T15:40:50\",\"2020-12-20T15:41:55\",\"2020-12-20T15:42:44\",\"2020-12-20T15:43:53\",\"2020-12-20T15:45:00\",\"2020-12-20T15:45:01\",\"2020-12-20T15:46:02\",\"2020-12-20T15:46:06\",\"2020-12-20T15:47:17\",\"2020-12-20T15:47:18\",\"2020-12-20T15:52:32\",\"2020-12-20T15:52:33\",\"2020-12-20T15:52:34\",\"2020-12-20T15:58:06\",\"2020-12-20T15:58:07\",\"2020-12-20T15:59:58\",\"2020-12-20T16:06:03\",\"2020-12-20T16:10:02\",\"2020-12-20T16:13:17\",\"2020-12-20T16:15:42\",\"2020-12-20T16:15:43\",\"2020-12-20T16:16:06\",\"2020-12-20T16:18:06\",\"2020-12-20T16:18:08\",\"2020-12-20T16:22:38\",\"2020-12-20T16:24:35\",\"2020-12-20T16:24:38\",\"2020-12-20T16:26:24\",\"2020-12-20T16:26:33\",\"2020-12-20T16:27:35\",\"2020-12-20T16:27:37\",\"2020-12-20T16:29:47\",\"2020-12-20T16:29:49\",\"2020-12-20T16:30:37\",\"2020-12-20T16:31:28\",\"2020-12-20T16:31:49\",\"2020-12-20T16:31:50\",\"2020-12-20T16:33:20\",\"2020-12-20T16:33:21\",\"2020-12-20T16:33:43\",\"2020-12-20T16:36:30\",\"2020-12-20T16:36:32\",\"2020-12-20T16:41:19\",\"2020-12-20T16:44:04\",\"2020-12-20T16:45:40\",\"2020-12-20T16:46:34\",\"2020-12-20T16:51:03\",\"2020-12-20T16:51:43\",\"2020-12-20T16:53:28\",\"2020-12-20T16:53:31\",\"2020-12-20T16:55:49\",\"2020-12-20T16:55:59\",\"2020-12-20T16:56:00\",\"2020-12-20T16:57:00\",\"2020-12-20T16:57:02\",\"2020-12-20T16:58:56\",\"2020-12-20T16:58:58\",\"2020-12-20T17:06:13\",\"2020-12-20T17:07:30\",\"2020-12-20T17:10:54\",\"2020-12-20T17:11:50\",\"2020-12-20T17:12:10\",\"2020-12-20T17:12:11\",\"2020-12-20T17:13:08\",\"2020-12-20T17:23:33\",\"2020-12-20T17:23:34\",\"2020-12-20T17:23:36\",\"2020-12-20T17:24:12\",\"2020-12-20T17:28:41\",\"2020-12-20T17:28:42\",\"2020-12-20T17:30:27\",\"2020-12-20T17:33:55\",\"2020-12-20T17:35:22\",\"2020-12-20T17:35:23\",\"2020-12-20T17:35:54\",\"2020-12-20T17:35:55\",\"2020-12-20T17:35:56\",\"2020-12-20T17:37:27\",\"2020-12-20T17:37:28\",\"2020-12-20T17:38:44\",\"2020-12-20T17:41:56\",\"2020-12-20T17:42:36\",\"2020-12-20T17:43:00\",\"2020-12-20T17:43:22\",\"2020-12-20T17:51:26\",\"2020-12-20T17:51:27\",\"2020-12-20T17:53:48\",\"2020-12-20T17:58:54\",\"2020-12-20T17:58:56\",\"2020-12-20T17:58:57\",\"2020-12-20T17:58:58\",\"2020-12-20T18:00:15\",\"2020-12-20T18:01:58\",\"2020-12-20T18:04:41\",\"2020-12-20T18:09:26\",\"2020-12-20T18:10:37\",\"2020-12-20T18:14:54\",\"2020-12-20T18:14:57\",\"2020-12-20T18:16:33\",\"2020-12-20T18:17:06\",\"2020-12-20T18:17:07\",\"2020-12-20T18:18:47\",\"2020-12-20T18:18:48\",\"2020-12-20T18:20:05\",\"2020-12-20T18:20:06\",\"2020-12-20T18:20:26\",\"2020-12-20T18:20:27\",\"2020-12-20T18:20:54\",\"2020-12-20T18:20:56\",\"2020-12-20T18:21:22\",\"2020-12-20T18:31:55\",\"2020-12-20T18:31:57\",\"2020-12-20T18:33:33\",\"2020-12-20T18:33:35\",\"2020-12-20T18:35:04\",\"2020-12-20T18:35:05\",\"2020-12-20T18:35:25\",\"2020-12-20T18:36:30\",\"2020-12-20T18:36:31\",\"2020-12-20T18:36:49\",\"2020-12-20T18:36:52\",\"2020-12-20T18:37:55\",\"2020-12-20T18:37:56\",\"2020-12-20T18:38:49\",\"2020-12-20T18:38:51\",\"2020-12-20T18:39:31\",\"2020-12-20T18:39:48\",\"2020-12-20T18:41:25\",\"2020-12-20T18:42:30\",\"2020-12-20T18:42:49\",\"2020-12-20T18:42:50\",\"2020-12-20T18:43:27\",\"2020-12-20T18:45:08\",\"2020-12-20T18:45:11\",\"2020-12-20T18:45:53\",\"2020-12-20T18:45:55\",\"2020-12-20T18:49:29\",\"2020-12-20T18:49:49\",\"2020-12-20T18:50:07\",\"2020-12-20T18:52:16\",\"2020-12-20T18:52:48\",\"2020-12-20T18:52:49\",\"2020-12-20T18:53:32\",\"2020-12-20T18:53:33\",\"2020-12-20T18:53:45\",\"2020-12-20T18:54:08\",\"2020-12-20T18:55:55\",\"2020-12-20T18:55:56\",\"2020-12-20T18:55:59\",\"2020-12-20T18:57:11\",\"2020-12-20T18:57:12\",\"2020-12-20T18:59:01\",\"2020-12-20T18:59:54\",\"2020-12-20T19:01:28\",\"2020-12-20T19:03:24\",\"2020-12-20T19:03:25\",\"2020-12-20T19:03:26\",\"2020-12-20T19:05:05\",\"2020-12-20T19:06:22\",\"2020-12-20T19:06:23\",\"2020-12-20T19:12:25\",\"2020-12-20T19:12:27\",\"2020-12-20T19:17:02\",\"2020-12-20T19:17:40\",\"2020-12-20T19:20:30\",\"2020-12-20T19:23:14\",\"2020-12-20T19:24:06\",\"2020-12-20T19:32:10\",\"2020-12-20T19:32:11\",\"2020-12-20T19:37:22\",\"2020-12-20T19:38:34\",\"2020-12-20T19:43:34\",\"2020-12-20T19:50:34\",\"2020-12-20T19:50:36\",\"2020-12-20T19:50:55\",\"2020-12-20T19:50:56\",\"2020-12-20T19:53:16\",\"2020-12-20T19:55:21\",\"2020-12-20T19:55:24\",\"2020-12-20T20:00:59\",\"2020-12-20T20:01:03\",\"2020-12-20T20:01:32\",\"2020-12-20T20:01:34\",\"2020-12-20T20:05:07\",\"2020-12-20T20:05:08\",\"2020-12-20T20:05:09\",\"2020-12-20T20:11:35\",\"2020-12-20T20:13:13\",\"2020-12-20T20:16:54\",\"2020-12-20T20:17:57\",\"2020-12-20T20:18:00\",\"2020-12-20T20:19:26\",\"2020-12-20T20:23:37\",\"2020-12-20T20:26:03\",\"2020-12-20T20:26:05\",\"2020-12-20T20:26:48\",\"2020-12-20T20:30:35\",\"2020-12-20T20:46:39\",\"2020-12-20T20:46:41\",\"2020-12-20T20:49:51\",\"2020-12-20T20:57:47\",\"2020-12-20T20:58:25\",\"2020-12-20T20:58:26\",\"2020-12-20T20:59:35\",\"2020-12-20T20:59:36\",\"2020-12-20T21:00:03\",\"2020-12-20T21:01:34\",\"2020-12-20T21:01:35\",\"2020-12-20T21:02:14\",\"2020-12-20T21:03:52\",\"2020-12-20T21:03:53\",\"2020-12-20T21:05:00\",\"2020-12-20T21:10:22\",\"2020-12-20T21:10:37\",\"2020-12-20T21:10:40\",\"2020-12-20T21:10:55\",\"2020-12-20T21:10:57\",\"2020-12-20T21:11:10\",\"2020-12-20T21:11:11\",\"2020-12-20T21:12:59\",\"2020-12-20T21:13:05\",\"2020-12-20T21:16:19\",\"2020-12-20T21:20:05\",\"2020-12-20T21:20:16\",\"2020-12-20T21:20:48\",\"2020-12-20T21:24:33\",\"2020-12-20T21:24:34\",\"2020-12-20T21:25:31\",\"2020-12-20T21:25:32\",\"2020-12-20T21:25:38\",\"2020-12-20T21:28:39\",\"2020-12-20T21:28:40\",\"2020-12-20T21:30:12\",\"2020-12-20T21:30:14\",\"2020-12-20T21:32:52\",\"2020-12-20T21:34:00\",\"2020-12-20T21:34:01\",\"2020-12-20T21:36:40\",\"2020-12-20T21:36:52\",\"2020-12-20T21:37:15\",\"2020-12-20T21:38:33\",\"2020-12-20T21:40:57\",\"2020-12-20T21:40:58\",\"2020-12-20T21:45:48\",\"2020-12-20T21:45:50\",\"2020-12-20T21:46:29\",\"2020-12-20T21:48:07\",\"2020-12-20T21:48:10\",\"2020-12-20T21:50:34\",\"2020-12-20T21:53:14\",\"2020-12-20T21:55:15\",\"2020-12-20T21:55:16\",\"2020-12-20T21:58:06\",\"2020-12-20T21:58:08\",\"2020-12-20T21:58:15\",\"2020-12-20T21:59:00\",\"2020-12-20T22:05:25\",\"2020-12-20T22:05:26\",\"2020-12-20T22:05:48\",\"2020-12-20T22:05:49\",\"2020-12-20T22:08:21\",\"2020-12-20T22:08:23\",\"2020-12-20T22:08:51\",\"2020-12-20T22:13:05\",\"2020-12-20T22:13:23\",\"2020-12-20T22:15:07\",\"2020-12-20T22:15:12\",\"2020-12-20T22:20:35\",\"2020-12-20T22:20:36\",\"2020-12-20T22:23:46\",\"2020-12-20T22:23:47\",\"2020-12-20T22:23:48\",\"2020-12-20T22:23:50\",\"2020-12-20T22:24:21\",\"2020-12-20T22:24:44\",\"2020-12-20T22:24:46\",\"2020-12-20T22:28:35\",\"2020-12-20T22:28:37\",\"2020-12-20T22:29:38\",\"2020-12-20T22:29:39\",\"2020-12-20T22:31:08\",\"2020-12-20T22:31:10\",\"2020-12-20T22:31:13\",\"2020-12-20T22:32:10\",\"2020-12-20T22:33:51\",\"2020-12-20T22:33:54\",\"2020-12-20T22:38:57\",\"2020-12-20T22:40:50\",\"2020-12-20T22:42:35\",\"2020-12-20T22:44:21\",\"2020-12-20T22:50:49\",\"2020-12-20T22:50:50\",\"2020-12-20T22:54:18\",\"2020-12-20T22:55:01\",\"2020-12-20T22:59:43\",\"2020-12-20T23:00:18\",\"2020-12-20T23:00:34\",\"2020-12-20T23:00:36\",\"2020-12-20T23:06:56\",\"2020-12-20T23:06:58\",\"2020-12-20T23:09:23\",\"2020-12-20T23:09:24\",\"2020-12-20T23:11:30\",\"2020-12-20T23:11:31\",\"2020-12-20T23:14:52\",\"2020-12-20T23:22:38\",\"2020-12-20T23:22:41\",\"2020-12-20T23:22:50\",\"2020-12-20T23:23:42\",\"2020-12-20T23:23:43\",\"2020-12-20T23:26:38\",\"2020-12-20T23:26:40\",\"2020-12-20T23:28:43\",\"2020-12-20T23:28:44\",\"2020-12-20T23:28:58\",\"2020-12-20T23:28:59\",\"2020-12-20T23:36:06\",\"2020-12-20T23:36:08\",\"2020-12-20T23:38:28\",\"2020-12-20T23:40:20\",\"2020-12-20T23:44:02\",\"2020-12-20T23:44:20\",\"2020-12-20T23:44:21\",\"2020-12-20T23:45:14\",\"2020-12-20T23:50:25\",\"2020-12-20T23:50:27\",\"2020-12-20T23:51:04\",\"2020-12-20T23:51:06\",\"2020-12-20T23:56:11\",\"2020-12-20T23:59:19\",\"2020-12-20T23:59:23\",\"2020-12-21T00:02:06\",\"2020-12-21T00:02:07\",\"2020-12-21T00:06:46\",\"2020-12-21T00:06:48\",\"2020-12-21T00:07:52\",\"2020-12-21T00:07:53\",\"2020-12-21T00:08:29\",\"2020-12-21T00:11:37\",\"2020-12-21T00:12:25\",\"2020-12-21T00:12:26\",\"2020-12-21T00:13:12\",\"2020-12-21T00:13:13\",\"2020-12-21T00:13:32\",\"2020-12-21T00:13:34\",\"2020-12-21T00:13:35\",\"2020-12-21T00:14:15\",\"2020-12-21T00:16:07\",\"2020-12-21T00:16:08\",\"2020-12-21T00:16:27\",\"2020-12-21T00:16:29\",\"2020-12-21T00:16:33\",\"2020-12-21T00:17:31\",\"2020-12-21T00:17:32\",\"2020-12-21T00:18:24\",\"2020-12-21T00:18:26\",\"2020-12-21T00:19:26\",\"2020-12-21T00:20:17\",\"2020-12-21T00:21:21\",\"2020-12-21T00:21:23\",\"2020-12-21T00:23:08\",\"2020-12-21T00:23:11\",\"2020-12-21T00:23:12\",\"2020-12-21T00:26:07\",\"2020-12-21T00:30:33\",\"2020-12-21T00:33:10\",\"2020-12-21T00:33:11\",\"2020-12-21T00:33:12\",\"2020-12-21T00:34:26\",\"2020-12-21T00:35:04\",\"2020-12-21T00:35:45\",\"2020-12-21T00:36:13\",\"2020-12-21T00:36:41\",\"2020-12-21T00:40:58\",\"2020-12-21T00:40:59\",\"2020-12-21T00:43:31\",\"2020-12-21T00:43:32\",\"2020-12-21T00:47:24\",\"2020-12-21T00:48:05\",\"2020-12-21T00:50:40\",\"2020-12-21T00:54:02\",\"2020-12-21T00:54:04\",\"2020-12-21T00:54:43\",\"2020-12-21T00:54:44\",\"2020-12-21T00:57:07\",\"2020-12-21T01:00:08\",\"2020-12-21T01:01:46\",\"2020-12-21T01:01:47\",\"2020-12-21T01:03:14\",\"2020-12-21T01:03:31\",\"2020-12-21T01:03:51\",\"2020-12-21T01:04:40\",\"2020-12-21T01:06:02\",\"2020-12-21T01:09:10\",\"2020-12-21T01:12:51\",\"2020-12-21T01:14:01\",\"2020-12-21T01:14:02\",\"2020-12-21T01:14:03\",\"2020-12-21T01:15:49\",\"2020-12-21T01:18:43\",\"2020-12-21T01:18:45\",\"2020-12-21T01:23:53\",\"2020-12-21T01:23:54\",\"2020-12-21T01:26:41\",\"2020-12-21T01:26:43\",\"2020-12-21T01:33:09\",\"2020-12-21T01:33:11\",\"2020-12-21T01:33:28\",\"2020-12-21T01:33:30\",\"2020-12-21T01:41:11\",\"2020-12-21T01:41:27\",\"2020-12-21T01:44:26\",\"2020-12-21T01:45:12\",\"2020-12-21T01:45:13\",\"2020-12-21T01:46:21\",\"2020-12-21T01:47:37\",\"2020-12-21T01:47:38\",\"2020-12-21T01:47:41\",\"2020-12-21T01:47:59\",\"2020-12-21T01:48:00\",\"2020-12-21T01:49:49\",\"2020-12-21T01:49:50\",\"2020-12-21T01:50:15\",\"2020-12-21T02:00:09\",\"2020-12-21T02:01:02\",\"2020-12-21T02:01:44\",\"2020-12-21T02:02:55\",\"2020-12-21T02:03:42\",\"2020-12-21T02:03:43\",\"2020-12-21T02:04:27\",\"2020-12-21T02:08:59\",\"2020-12-21T02:09:02\",\"2020-12-21T02:12:03\",\"2020-12-21T02:12:04\",\"2020-12-21T02:12:40\",\"2020-12-21T02:15:54\",\"2020-12-21T02:15:58\",\"2020-12-21T02:16:00\",\"2020-12-21T02:16:04\",\"2020-12-21T02:23:19\",\"2020-12-21T02:24:14\",\"2020-12-21T02:26:46\",\"2020-12-21T02:29:31\",\"2020-12-21T02:29:34\",\"2020-12-21T02:29:50\",\"2020-12-21T02:29:51\",\"2020-12-21T02:31:44\",\"2020-12-21T02:32:23\",\"2020-12-21T02:32:38\",\"2020-12-21T02:32:39\",\"2020-12-21T02:38:21\",\"2020-12-21T02:38:23\",\"2020-12-21T02:39:48\",\"2020-12-21T02:40:06\",\"2020-12-21T02:40:14\",\"2020-12-21T02:43:04\",\"2020-12-21T02:43:43\",\"2020-12-21T02:44:18\",\"2020-12-21T02:44:19\",\"2020-12-21T02:46:12\",\"2020-12-21T02:46:56\",\"2020-12-21T02:46:59\",\"2020-12-21T02:48:16\",\"2020-12-21T02:49:22\",\"2020-12-21T02:49:24\",\"2020-12-21T02:49:25\",\"2020-12-21T02:50:36\",\"2020-12-21T02:50:48\",\"2020-12-21T02:50:50\",\"2020-12-21T02:51:45\",\"2020-12-21T02:52:26\",\"2020-12-21T02:53:20\",\"2020-12-21T02:54:04\",\"2020-12-21T02:54:06\",\"2020-12-21T02:57:05\",\"2020-12-21T02:57:07\",\"2020-12-21T02:57:13\",\"2020-12-21T02:57:15\",\"2020-12-21T02:58:34\",\"2020-12-21T02:58:57\",\"2020-12-21T02:59:40\",\"2020-12-21T02:59:57\",\"2020-12-21T03:00:00\",\"2020-12-21T03:01:13\",\"2020-12-21T03:04:13\",\"2020-12-21T03:04:17\",\"2020-12-21T03:04:39\",\"2020-12-21T03:06:10\",\"2020-12-21T03:07:08\",\"2020-12-21T03:07:10\",\"2020-12-21T03:08:01\",\"2020-12-21T03:08:04\",\"2020-12-21T03:14:15\",\"2020-12-21T03:18:21\",\"2020-12-21T03:21:33\",\"2020-12-21T03:21:35\",\"2020-12-21T03:21:38\",\"2020-12-21T03:22:18\",\"2020-12-21T03:22:21\",\"2020-12-21T03:22:51\",\"2020-12-21T03:22:52\",\"2020-12-21T03:22:53\",\"2020-12-21T03:25:58\",\"2020-12-21T03:26:30\",\"2020-12-21T03:26:38\",\"2020-12-21T03:26:39\",\"2020-12-21T03:27:43\",\"2020-12-21T03:27:44\",\"2020-12-21T03:27:45\",\"2020-12-21T03:27:46\",\"2020-12-21T03:27:49\",\"2020-12-21T03:27:50\",\"2020-12-21T03:28:29\",\"2020-12-21T03:28:31\",\"2020-12-21T03:29:17\",\"2020-12-21T03:29:18\",\"2020-12-21T03:30:06\",\"2020-12-21T03:30:10\",\"2020-12-21T03:31:02\",\"2020-12-21T03:31:04\",\"2020-12-21T03:31:13\",\"2020-12-21T03:32:09\",\"2020-12-21T03:32:11\",\"2020-12-21T03:33:49\",\"2020-12-21T03:33:50\",\"2020-12-21T03:33:56\",\"2020-12-21T03:34:30\",\"2020-12-21T03:41:21\",\"2020-12-21T03:41:24\",\"2020-12-21T03:41:40\",\"2020-12-21T03:41:41\",\"2020-12-21T03:45:45\",\"2020-12-21T03:45:46\",\"2020-12-21T03:45:48\",\"2020-12-21T03:47:39\",\"2020-12-21T03:48:53\",\"2020-12-21T03:48:57\",\"2020-12-21T03:49:37\",\"2020-12-21T03:49:38\",\"2020-12-21T03:52:59\",\"2020-12-21T03:53:00\",\"2020-12-21T03:53:14\",\"2020-12-21T03:53:15\",\"2020-12-21T03:53:53\",\"2020-12-21T03:53:54\",\"2020-12-21T03:54:17\",\"2020-12-21T03:57:26\",\"2020-12-21T04:03:41\",\"2020-12-21T04:03:42\",\"2020-12-21T04:03:44\",\"2020-12-21T04:04:00\",\"2020-12-21T04:05:54\",\"2020-12-21T04:05:56\",\"2020-12-21T04:07:11\",\"2020-12-21T04:11:06\",\"2020-12-21T04:14:55\",\"2020-12-21T04:16:31\",\"2020-12-21T04:16:32\",\"2020-12-21T04:17:01\",\"2020-12-21T04:17:03\",\"2020-12-21T04:20:49\",\"2020-12-21T04:22:52\",\"2020-12-21T04:23:04\",\"2020-12-21T04:23:49\",\"2020-12-21T04:25:43\",\"2020-12-21T04:26:57\",\"2020-12-21T04:29:28\",\"2020-12-21T04:31:33\",\"2020-12-21T04:31:34\",\"2020-12-21T04:32:36\",\"2020-12-21T04:32:37\",\"2020-12-21T04:32:39\",\"2020-12-21T04:33:18\",\"2020-12-21T04:33:19\",\"2020-12-21T04:35:45\",\"2020-12-21T04:35:47\",\"2020-12-21T04:36:16\",\"2020-12-21T04:37:14\",\"2020-12-21T04:38:29\",\"2020-12-21T04:38:30\",\"2020-12-21T04:40:10\",\"2020-12-21T04:40:48\",\"2020-12-21T04:42:17\",\"2020-12-21T04:42:19\",\"2020-12-21T04:44:04\",\"2020-12-21T04:44:05\",\"2020-12-21T04:44:40\",\"2020-12-21T04:45:13\",\"2020-12-21T04:45:14\",\"2020-12-21T04:45:17\",\"2020-12-21T04:45:21\",\"2020-12-21T04:47:36\",\"2020-12-21T04:47:37\",\"2020-12-21T04:48:56\",\"2020-12-21T04:52:06\",\"2020-12-21T04:52:07\",\"2020-12-21T04:54:08\",\"2020-12-21T04:56:45\",\"2020-12-21T04:57:15\",\"2020-12-21T04:58:07\",\"2020-12-21T05:00:25\",\"2020-12-21T05:00:29\",\"2020-12-21T05:03:45\",\"2020-12-21T05:03:46\",\"2020-12-21T05:04:55\",\"2020-12-21T05:09:13\",\"2020-12-21T05:11:49\",\"2020-12-21T05:12:08\",\"2020-12-21T05:12:34\",\"2020-12-21T05:13:01\",\"2020-12-21T05:13:02\",\"2020-12-21T05:13:29\",\"2020-12-21T05:14:03\",\"2020-12-21T05:22:17\",\"2020-12-21T05:22:20\",\"2020-12-21T05:22:42\",\"2020-12-21T05:22:43\",\"2020-12-21T05:22:45\",\"2020-12-21T05:24:15\",\"2020-12-21T05:24:42\",\"2020-12-21T05:24:44\",\"2020-12-21T05:25:42\",\"2020-12-21T05:26:02\",\"2020-12-21T05:26:03\",\"2020-12-21T05:27:48\",\"2020-12-21T05:27:49\",\"2020-12-21T05:28:16\",\"2020-12-21T05:28:18\",\"2020-12-21T05:32:49\",\"2020-12-21T05:33:47\",\"2020-12-21T05:33:49\",\"2020-12-21T05:35:43\",\"2020-12-21T05:35:45\",\"2020-12-21T05:39:10\",\"2020-12-21T05:41:27\",\"2020-12-21T05:41:41\",\"2020-12-21T05:42:57\",\"2020-12-21T05:43:17\",\"2020-12-21T05:43:25\",\"2020-12-21T05:43:27\",\"2020-12-21T05:43:48\",\"2020-12-21T05:43:52\",\"2020-12-21T05:46:37\",\"2020-12-21T05:46:48\",\"2020-12-21T05:46:49\",\"2020-12-21T05:52:02\",\"2020-12-21T05:52:03\",\"2020-12-21T05:52:04\",\"2020-12-21T05:54:03\",\"2020-12-21T05:54:04\",\"2020-12-21T05:55:34\",\"2020-12-21T05:55:38\",\"2020-12-21T05:57:25\",\"2020-12-21T05:57:27\",\"2020-12-21T06:00:10\",\"2020-12-21T06:00:47\",\"2020-12-21T06:03:48\",\"2020-12-21T06:03:51\",\"2020-12-21T06:06:22\",\"2020-12-21T06:06:23\",\"2020-12-21T06:06:40\",\"2020-12-21T06:06:41\",\"2020-12-21T06:06:51\",\"2020-12-21T06:07:47\",\"2020-12-21T06:11:33\",\"2020-12-21T06:11:35\",\"2020-12-21T06:12:22\",\"2020-12-21T06:17:57\",\"2020-12-21T06:21:44\",\"2020-12-21T06:23:11\",\"2020-12-21T06:26:25\",\"2020-12-21T06:26:27\",\"2020-12-21T06:29:37\",\"2020-12-21T06:29:38\",\"2020-12-21T06:30:50\",\"2020-12-21T06:36:50\",\"2020-12-21T06:38:23\",\"2020-12-21T06:42:13\",\"2020-12-21T06:47:03\",\"2020-12-21T06:47:04\",\"2020-12-21T06:51:22\",\"2020-12-21T06:52:43\",\"2020-12-21T06:52:47\",\"2020-12-21T06:52:51\",\"2020-12-21T06:56:23\",\"2020-12-21T06:56:24\",\"2020-12-21T06:56:25\",\"2020-12-21T06:56:45\",\"2020-12-21T07:01:11\",\"2020-12-21T07:02:25\",\"2020-12-21T07:02:27\",\"2020-12-21T07:04:27\",\"2020-12-21T07:05:07\",\"2020-12-21T07:05:08\",\"2020-12-21T07:11:16\",\"2020-12-21T07:11:17\",\"2020-12-21T07:14:46\",\"2020-12-21T07:16:26\",\"2020-12-21T07:16:31\",\"2020-12-21T07:17:22\",\"2020-12-21T07:19:29\",\"2020-12-21T07:20:13\",\"2020-12-21T07:21:14\",\"2020-12-21T07:21:16\",\"2020-12-21T07:21:46\",\"2020-12-21T07:21:48\",\"2020-12-21T07:24:10\",\"2020-12-21T07:24:12\",\"2020-12-21T07:25:52\",\"2020-12-21T07:25:53\",\"2020-12-21T07:26:55\",\"2020-12-21T07:29:35\",\"2020-12-21T07:30:35\",\"2020-12-21T07:31:41\",\"2020-12-21T07:35:25\",\"2020-12-21T07:39:44\",\"2020-12-21T07:39:46\",\"2020-12-21T07:44:59\",\"2020-12-21T07:45:00\",\"2020-12-21T07:45:16\",\"2020-12-21T07:46:54\",\"2020-12-21T07:46:55\",\"2020-12-21T07:46:57\",\"2020-12-21T07:48:55\",\"2020-12-21T07:50:18\",\"2020-12-21T07:50:19\",\"2020-12-21T07:50:22\",\"2020-12-21T07:51:41\",\"2020-12-21T07:51:45\",\"2020-12-21T07:51:57\",\"2020-12-21T07:52:00\",\"2020-12-21T07:53:43\",\"2020-12-21T07:54:38\",\"2020-12-21T07:54:40\",\"2020-12-21T07:54:42\",\"2020-12-21T07:57:53\",\"2020-12-21T07:57:54\",\"2020-12-21T07:58:43\",\"2020-12-21T08:00:20\",\"2020-12-21T08:00:21\",\"2020-12-21T08:00:22\",\"2020-12-21T08:03:02\",\"2020-12-21T08:09:10\",\"2020-12-21T08:09:11\",\"2020-12-21T08:10:05\",\"2020-12-21T08:12:37\",\"2020-12-21T08:14:48\",\"2020-12-21T08:15:20\",\"2020-12-21T08:17:19\",\"2020-12-21T08:17:22\",\"2020-12-21T08:17:25\",\"2020-12-21T08:17:29\",\"2020-12-21T08:17:30\",\"2020-12-21T08:17:33\",\"2020-12-21T08:17:34\",\"2020-12-21T08:19:03\",\"2020-12-21T08:19:45\",\"2020-12-21T08:19:46\",\"2020-12-21T08:19:47\",\"2020-12-21T08:19:56\",\"2020-12-21T08:19:58\",\"2020-12-21T08:22:09\",\"2020-12-21T08:22:26\",\"2020-12-21T08:22:27\",\"2020-12-21T08:23:03\",\"2020-12-21T08:27:18\",\"2020-12-21T08:27:20\",\"2020-12-21T08:27:25\",\"2020-12-21T08:28:01\",\"2020-12-21T08:28:03\",\"2020-12-21T08:29:07\",\"2020-12-21T08:33:26\",\"2020-12-21T08:38:58\",\"2020-12-21T08:39:02\",\"2020-12-21T08:39:16\",\"2020-12-21T08:39:17\",\"2020-12-21T08:40:08\",\"2020-12-21T08:40:09\",\"2020-12-21T08:42:00\",\"2020-12-21T08:42:01\",\"2020-12-21T08:42:31\",\"2020-12-21T08:42:32\",\"2020-12-21T08:43:30\",\"2020-12-21T08:45:51\",\"2020-12-21T08:46:48\",\"2020-12-21T08:46:49\",\"2020-12-21T08:49:13\",\"2020-12-21T08:51:01\",\"2020-12-21T08:51:03\",\"2020-12-21T08:52:51\",\"2020-12-21T08:53:19\",\"2020-12-21T08:53:26\",\"2020-12-21T08:53:27\",\"2020-12-21T08:53:28\",\"2020-12-21T08:54:12\",\"2020-12-21T08:54:13\",\"2020-12-21T08:57:33\",\"2020-12-21T08:59:00\",\"2020-12-21T08:59:06\",\"2020-12-21T09:02:17\",\"2020-12-21T09:10:27\",\"2020-12-21T09:10:29\",\"2020-12-21T09:11:43\",\"2020-12-21T09:15:47\",\"2020-12-21T09:15:48\",\"2020-12-21T09:17:30\",\"2020-12-21T09:17:32\",\"2020-12-21T09:18:54\",\"2020-12-21T09:20:43\",\"2020-12-21T09:20:44\",\"2020-12-21T09:22:39\",\"2020-12-21T09:22:49\",\"2020-12-21T09:27:30\",\"2020-12-21T09:27:32\",\"2020-12-21T09:32:05\",\"2020-12-21T09:32:06\",\"2020-12-21T09:32:35\",\"2020-12-21T09:32:59\",\"2020-12-21T09:33:01\",\"2020-12-21T09:33:47\",\"2020-12-21T09:33:49\",\"2020-12-21T09:34:01\",\"2020-12-21T09:34:15\",\"2020-12-21T09:34:16\",\"2020-12-21T09:35:14\",\"2020-12-21T09:37:06\",\"2020-12-21T09:37:08\",\"2020-12-21T09:38:07\",\"2020-12-21T09:38:37\",\"2020-12-21T09:38:38\",\"2020-12-21T09:42:19\",\"2020-12-21T09:42:23\",\"2020-12-21T09:43:10\",\"2020-12-21T09:46:15\",\"2020-12-21T09:47:23\",\"2020-12-21T09:48:01\",\"2020-12-21T09:50:27\",\"2020-12-21T09:50:55\",\"2020-12-21T09:50:56\",\"2020-12-21T09:52:44\",\"2020-12-21T09:52:47\",\"2020-12-21T09:53:45\",\"2020-12-21T09:55:00\",\"2020-12-21T09:58:01\",\"2020-12-21T10:00:51\",\"2020-12-21T10:00:52\",\"2020-12-21T10:01:08\",\"2020-12-21T10:01:40\",\"2020-12-21T10:03:16\",\"2020-12-21T10:03:18\",\"2020-12-21T10:04:18\",\"2020-12-21T10:04:19\",\"2020-12-21T10:04:21\",\"2020-12-21T10:06:25\",\"2020-12-21T10:06:56\",\"2020-12-21T10:06:58\",\"2020-12-21T10:08:40\",\"2020-12-21T10:08:41\",\"2020-12-21T10:10:02\",\"2020-12-21T10:10:21\",\"2020-12-21T10:12:31\",\"2020-12-21T10:12:52\",\"2020-12-21T10:13:16\",\"2020-12-21T10:13:17\",\"2020-12-21T10:17:17\",\"2020-12-21T10:19:08\",\"2020-12-21T10:26:15\",\"2020-12-21T10:26:16\",\"2020-12-21T10:27:07\",\"2020-12-21T10:27:08\",\"2020-12-21T10:28:47\",\"2020-12-21T10:28:51\",\"2020-12-21T10:29:16\",\"2020-12-21T10:29:17\",\"2020-12-21T10:29:45\",\"2020-12-21T10:35:47\",\"2020-12-21T10:42:48\",\"2020-12-21T10:43:52\",\"2020-12-21T10:43:53\",\"2020-12-21T10:44:25\",\"2020-12-21T10:44:39\",\"2020-12-21T10:44:40\",\"2020-12-21T10:44:42\",\"2020-12-21T10:44:43\",\"2020-12-21T10:45:55\",\"2020-12-21T10:48:34\",\"2020-12-21T10:48:35\",\"2020-12-21T10:48:37\",\"2020-12-21T10:50:59\",\"2020-12-21T10:52:34\",\"2020-12-21T10:52:35\",\"2020-12-21T10:54:52\",\"2020-12-21T10:54:54\",\"2020-12-21T10:55:42\",\"2020-12-21T10:59:43\",\"2020-12-21T10:59:44\",\"2020-12-21T11:00:55\",\"2020-12-21T11:02:59\",\"2020-12-21T11:05:35\",\"2020-12-21T11:06:58\",\"2020-12-21T11:07:02\",\"2020-12-21T11:07:28\",\"2020-12-21T11:07:29\",\"2020-12-21T11:08:03\",\"2020-12-21T11:08:56\",\"2020-12-21T11:09:09\",\"2020-12-21T11:09:11\",\"2020-12-21T11:09:27\",\"2020-12-21T11:09:29\",\"2020-12-21T11:14:19\",\"2020-12-21T11:14:50\",\"2020-12-21T11:16:46\",\"2020-12-21T11:17:41\",\"2020-12-21T11:18:41\",\"2020-12-21T11:19:38\",\"2020-12-21T11:19:39\",\"2020-12-21T11:19:41\",\"2020-12-21T11:24:09\",\"2020-12-21T11:28:29\",\"2020-12-21T11:31:04\",\"2020-12-21T11:31:05\",\"2020-12-21T11:31:06\",\"2020-12-21T11:34:23\",\"2020-12-21T11:34:25\",\"2020-12-21T11:34:26\",\"2020-12-21T11:34:27\",\"2020-12-21T11:36:13\",\"2020-12-21T11:36:15\",\"2020-12-21T11:41:16\",\"2020-12-21T11:42:16\",\"2020-12-21T11:42:17\",\"2020-12-21T11:42:18\",\"2020-12-21T11:49:13\",\"2020-12-21T11:50:06\",\"2020-12-21T11:54:47\",\"2020-12-21T11:54:50\",\"2020-12-21T11:55:07\",\"2020-12-21T11:55:33\",\"2020-12-21T11:56:49\",\"2020-12-21T11:57:35\",\"2020-12-21T12:01:19\",\"2020-12-21T12:01:20\",\"2020-12-21T12:05:20\",\"2020-12-21T12:05:22\",\"2020-12-21T12:06:59\",\"2020-12-21T12:07:00\",\"2020-12-21T12:07:32\",\"2020-12-21T12:07:33\",\"2020-12-21T12:08:16\",\"2020-12-21T12:08:19\",\"2020-12-21T12:08:51\",\"2020-12-21T12:08:54\",\"2020-12-21T12:08:57\",\"2020-12-21T12:09:20\",\"2020-12-21T12:09:21\",\"2020-12-21T12:09:23\",\"2020-12-21T12:09:24\",\"2020-12-21T12:14:02\",\"2020-12-21T12:14:34\",\"2020-12-21T12:14:35\",\"2020-12-21T12:17:43\",\"2020-12-21T12:21:15\",\"2020-12-21T12:21:19\",\"2020-12-21T12:28:06\",\"2020-12-21T12:28:08\",\"2020-12-21T12:31:27\",\"2020-12-21T12:31:57\",\"2020-12-21T12:31:58\",\"2020-12-21T12:35:00\",\"2020-12-21T12:35:02\",\"2020-12-21T12:39:39\",\"2020-12-21T12:42:33\",\"2020-12-21T12:42:34\",\"2020-12-21T12:42:54\",\"2020-12-21T12:42:57\",\"2020-12-21T12:45:18\",\"2020-12-21T12:45:20\",\"2020-12-21T12:46:01\",\"2020-12-21T12:49:03\",\"2020-12-21T12:51:35\",\"2020-12-21T12:51:36\",\"2020-12-21T12:53:12\",\"2020-12-21T12:53:45\",\"2020-12-21T12:54:12\",\"2020-12-21T12:56:59\",\"2020-12-21T13:01:19\",\"2020-12-21T13:02:13\",\"2020-12-21T13:02:35\",\"2020-12-21T13:02:36\",\"2020-12-21T13:07:46\",\"2020-12-21T13:10:17\",\"2020-12-21T13:10:19\",\"2020-12-21T13:10:23\",\"2020-12-21T13:10:46\",\"2020-12-21T13:11:42\",\"2020-12-21T13:11:44\",\"2020-12-21T13:12:37\",\"2020-12-21T13:12:40\",\"2020-12-21T13:12:49\",\"2020-12-21T13:12:51\",\"2020-12-21T13:13:39\",\"2020-12-21T13:14:34\",\"2020-12-21T13:17:44\",\"2020-12-21T13:17:45\",\"2020-12-21T13:18:06\",\"2020-12-21T13:18:12\",\"2020-12-21T13:20:46\",\"2020-12-21T13:23:40\",\"2020-12-21T13:25:24\",\"2020-12-21T13:25:26\",\"2020-12-21T13:26:13\",\"2020-12-21T13:26:15\",\"2020-12-21T13:27:22\",\"2020-12-21T13:34:18\",\"2020-12-21T13:34:21\",\"2020-12-21T13:36:25\",\"2020-12-21T13:39:19\",\"2020-12-21T13:40:34\",\"2020-12-21T13:40:35\",\"2020-12-21T13:41:06\",\"2020-12-21T13:41:07\",\"2020-12-21T13:46:32\",\"2020-12-21T13:49:08\",\"2020-12-21T13:49:09\",\"2020-12-21T13:49:15\",\"2020-12-21T13:49:21\",\"2020-12-21T13:49:23\",\"2020-12-21T13:51:24\",\"2020-12-21T13:51:26\",\"2020-12-21T13:52:22\",\"2020-12-21T13:58:20\",\"2020-12-21T13:58:51\",\"2020-12-21T13:58:52\",\"2020-12-21T13:59:40\",\"2020-12-21T13:59:41\",\"2020-12-21T13:59:43\",\"2020-12-21T14:00:07\",\"2020-12-21T14:00:08\",\"2020-12-21T14:02:31\",\"2020-12-21T14:02:35\",\"2020-12-21T14:05:44\",\"2020-12-21T14:05:46\",\"2020-12-21T14:06:24\",\"2020-12-21T14:08:15\",\"2020-12-21T14:08:18\",\"2020-12-21T14:09:16\",\"2020-12-21T14:09:18\",\"2020-12-21T14:09:32\",\"2020-12-21T14:10:44\",\"2020-12-21T14:11:56\",\"2020-12-21T14:13:52\",\"2020-12-21T14:14:02\",\"2020-12-21T14:14:20\",\"2020-12-21T14:14:21\",\"2020-12-21T14:20:04\",\"2020-12-21T14:20:08\",\"2020-12-21T14:20:53\",\"2020-12-21T14:20:54\",\"2020-12-21T14:22:20\",\"2020-12-21T14:22:22\",\"2020-12-21T14:22:38\",\"2020-12-21T14:24:55\",\"2020-12-21T14:25:36\",\"2020-12-21T14:25:37\",\"2020-12-21T14:27:37\",\"2020-12-21T14:29:59\",\"2020-12-21T14:30:00\",\"2020-12-21T14:31:04\",\"2020-12-21T14:32:37\",\"2020-12-21T14:32:38\",\"2020-12-21T14:33:00\",\"2020-12-21T14:37:36\",\"2020-12-21T14:37:39\",\"2020-12-21T14:38:00\",\"2020-12-21T14:38:47\",\"2020-12-21T14:39:00\",\"2020-12-21T14:40:29\",\"2020-12-21T14:41:59\",\"2020-12-21T14:42:57\",\"2020-12-21T14:42:58\",\"2020-12-21T14:44:27\",\"2020-12-21T14:46:57\",\"2020-12-21T14:50:41\",\"2020-12-21T14:51:47\",\"2020-12-21T14:51:48\",\"2020-12-21T14:51:53\",\"2020-12-21T14:52:59\",\"2020-12-21T14:53:24\",\"2020-12-21T14:54:23\",\"2020-12-21T14:58:33\",\"2020-12-21T14:59:17\",\"2020-12-21T15:00:33\",\"2020-12-21T15:04:47\",\"2020-12-21T15:04:49\",\"2020-12-21T15:04:50\",\"2020-12-21T15:07:51\",\"2020-12-21T15:08:45\",\"2020-12-21T15:08:46\",\"2020-12-21T15:10:10\",\"2020-12-21T15:11:15\",\"2020-12-21T15:11:16\",\"2020-12-21T15:16:45\",\"2020-12-21T15:17:37\",\"2020-12-21T15:17:38\",\"2020-12-21T15:17:43\",\"2020-12-21T15:17:44\",\"2020-12-21T15:19:30\",\"2020-12-21T15:20:22\",\"2020-12-21T15:21:36\",\"2020-12-21T15:23:54\",\"2020-12-21T15:24:38\",\"2020-12-21T15:26:31\",\"2020-12-21T15:27:30\",\"2020-12-21T15:27:31\",\"2020-12-21T15:28:17\",\"2020-12-21T15:28:27\",\"2020-12-21T15:28:29\",\"2020-12-21T15:28:46\",\"2020-12-21T15:31:50\",\"2020-12-21T15:31:55\",\"2020-12-21T15:32:03\",\"2020-12-21T15:35:55\",\"2020-12-21T15:37:16\",\"2020-12-21T15:38:02\",\"2020-12-21T15:38:06\",\"2020-12-21T15:45:50\",\"2020-12-21T15:47:12\",\"2020-12-21T15:50:20\",\"2020-12-21T15:50:23\",\"2020-12-21T15:50:28\",\"2020-12-21T15:50:29\",\"2020-12-21T15:52:34\",\"2020-12-21T15:52:37\",\"2020-12-21T15:53:11\",\"2020-12-21T15:53:13\",\"2020-12-21T15:53:32\",\"2020-12-21T15:53:33\",\"2020-12-21T15:53:35\",\"2020-12-21T15:54:43\",\"2020-12-21T15:56:48\",\"2020-12-21T15:58:37\",\"2020-12-21T15:58:38\",\"2020-12-21T15:58:57\",\"2020-12-21T15:58:59\",\"2020-12-21T16:00:17\",\"2020-12-21T16:00:18\",\"2020-12-21T16:00:45\",\"2020-12-21T16:02:41\",\"2020-12-21T16:04:31\",\"2020-12-21T16:05:37\",\"2020-12-21T16:05:38\",\"2020-12-21T16:07:32\",\"2020-12-21T16:12:18\",\"2020-12-21T16:12:19\",\"2020-12-21T16:12:27\",\"2020-12-21T16:12:32\",\"2020-12-21T16:13:59\",\"2020-12-21T16:14:00\",\"2020-12-21T16:15:21\",\"2020-12-21T16:17:23\",\"2020-12-21T16:18:30\",\"2020-12-21T16:18:57\",\"2020-12-21T16:22:23\",\"2020-12-21T16:22:26\",\"2020-12-21T16:25:40\",\"2020-12-21T16:25:41\",\"2020-12-21T16:28:31\",\"2020-12-21T16:28:32\",\"2020-12-21T16:29:08\",\"2020-12-21T16:30:39\",\"2020-12-21T16:31:00\",\"2020-12-21T16:31:03\",\"2020-12-21T16:31:20\",\"2020-12-21T16:31:23\",\"2020-12-21T16:37:38\",\"2020-12-21T16:38:09\",\"2020-12-21T16:38:10\",\"2020-12-21T16:40:40\",\"2020-12-21T16:44:18\",\"2020-12-21T16:45:14\",\"2020-12-21T16:45:34\",\"2020-12-21T16:45:38\",\"2020-12-21T16:46:18\",\"2020-12-21T16:46:19\",\"2020-12-21T16:47:14\",\"2020-12-21T16:47:42\",\"2020-12-21T16:49:10\",\"2020-12-21T16:49:11\",\"2020-12-21T16:51:17\",\"2020-12-21T16:51:18\",\"2020-12-21T16:51:24\",\"2020-12-21T16:51:25\",\"2020-12-21T16:52:35\",\"2020-12-21T16:54:02\",\"2020-12-21T16:54:19\",\"2020-12-21T16:55:45\",\"2020-12-21T16:57:02\",\"2020-12-21T16:57:04\",\"2020-12-21T16:59:09\",\"2020-12-21T16:59:16\",\"2020-12-21T16:59:17\",\"2020-12-21T16:59:20\",\"2020-12-21T17:00:06\",\"2020-12-21T17:00:08\",\"2020-12-21T17:01:16\",\"2020-12-21T17:02:17\",\"2020-12-21T17:07:06\",\"2020-12-21T17:07:17\",\"2020-12-21T17:07:18\",\"2020-12-21T17:11:09\",\"2020-12-21T17:11:12\",\"2020-12-21T17:12:16\",\"2020-12-21T17:12:17\",\"2020-12-21T17:12:18\",\"2020-12-21T17:13:14\",\"2020-12-21T17:14:40\",\"2020-12-21T17:14:41\",\"2020-12-21T17:14:58\",\"2020-12-21T17:15:00\",\"2020-12-21T17:15:01\",\"2020-12-21T17:16:46\",\"2020-12-21T17:19:16\",\"2020-12-21T17:19:19\",\"2020-12-21T17:19:35\",\"2020-12-21T17:20:26\",\"2020-12-21T17:20:27\",\"2020-12-21T17:20:39\",\"2020-12-21T17:21:39\",\"2020-12-21T17:23:02\",\"2020-12-21T17:23:34\",\"2020-12-21T17:26:03\",\"2020-12-21T17:29:04\",\"2020-12-21T17:31:43\",\"2020-12-21T17:33:12\",\"2020-12-21T17:33:13\",\"2020-12-21T17:34:37\",\"2020-12-21T17:34:38\",\"2020-12-21T17:34:39\",\"2020-12-21T17:35:14\",\"2020-12-21T17:35:15\",\"2020-12-21T17:37:03\",\"2020-12-21T17:37:21\",\"2020-12-21T17:37:30\",\"2020-12-21T17:37:55\",\"2020-12-21T17:37:56\",\"2020-12-21T17:37:57\",\"2020-12-21T17:38:57\",\"2020-12-21T17:42:11\",\"2020-12-21T17:42:12\",\"2020-12-21T17:44:37\",\"2020-12-21T17:45:11\",\"2020-12-21T17:45:13\",\"2020-12-21T17:46:55\",\"2020-12-21T17:49:08\",\"2020-12-21T17:49:09\",\"2020-12-21T17:50:33\",\"2020-12-21T17:50:34\",\"2020-12-21T17:51:01\",\"2020-12-21T17:51:03\",\"2020-12-21T17:51:44\",\"2020-12-21T17:53:32\",\"2020-12-21T17:56:11\",\"2020-12-21T17:56:12\",\"2020-12-21T17:56:17\",\"2020-12-21T17:56:19\",\"2020-12-21T17:58:54\",\"2020-12-21T17:59:39\",\"2020-12-21T18:00:42\",\"2020-12-21T18:01:15\",\"2020-12-21T18:03:59\",\"2020-12-21T18:04:00\",\"2020-12-21T18:09:26\",\"2020-12-21T18:11:34\",\"2020-12-21T18:11:46\",\"2020-12-21T18:11:47\",\"2020-12-21T18:12:11\",\"2020-12-21T18:13:16\",\"2020-12-21T18:13:17\",\"2020-12-21T18:15:07\",\"2020-12-21T18:17:08\",\"2020-12-21T18:17:09\",\"2020-12-21T18:17:46\",\"2020-12-21T18:18:28\",\"2020-12-21T18:19:26\",\"2020-12-21T18:20:42\",\"2020-12-21T18:21:08\",\"2020-12-21T18:21:31\",\"2020-12-21T18:22:09\",\"2020-12-21T18:22:15\",\"2020-12-21T18:22:33\",\"2020-12-21T18:23:04\",\"2020-12-21T18:29:55\",\"2020-12-21T18:30:11\",\"2020-12-21T18:36:03\",\"2020-12-21T18:36:06\",\"2020-12-21T18:36:52\",\"2020-12-21T18:37:50\",\"2020-12-21T18:38:05\",\"2020-12-21T18:38:06\",\"2020-12-21T18:39:32\",\"2020-12-21T18:39:33\",\"2020-12-21T18:39:34\",\"2020-12-21T18:40:57\",\"2020-12-21T18:42:22\",\"2020-12-21T18:42:24\",\"2020-12-21T18:46:01\",\"2020-12-21T18:46:56\",\"2020-12-21T18:46:58\",\"2020-12-21T18:48:46\",\"2020-12-21T18:48:47\",\"2020-12-21T18:49:22\",\"2020-12-21T18:49:52\",\"2020-12-21T18:52:00\",\"2020-12-21T18:52:02\",\"2020-12-21T18:52:07\",\"2020-12-21T18:52:09\",\"2020-12-21T18:53:31\",\"2020-12-21T18:53:57\",\"2020-12-21T18:54:01\",\"2020-12-21T18:54:50\",\"2020-12-21T18:54:51\",\"2020-12-21T18:56:19\",\"2020-12-21T18:57:45\",\"2020-12-21T18:57:46\",\"2020-12-21T19:00:08\",\"2020-12-21T19:00:12\",\"2020-12-21T19:00:27\",\"2020-12-21T19:01:49\",\"2020-12-21T19:02:56\",\"2020-12-21T19:02:58\",\"2020-12-21T19:03:00\",\"2020-12-21T19:03:01\",\"2020-12-21T19:05:34\",\"2020-12-21T19:05:35\",\"2020-12-21T19:10:10\",\"2020-12-21T19:13:19\",\"2020-12-21T19:13:39\",\"2020-12-21T19:13:40\",\"2020-12-21T19:16:45\",\"2020-12-21T19:17:53\",\"2020-12-21T19:17:54\",\"2020-12-21T19:19:30\",\"2020-12-21T19:22:15\",\"2020-12-21T19:22:23\",\"2020-12-21T19:22:28\",\"2020-12-21T19:23:08\",\"2020-12-21T19:27:23\",\"2020-12-21T19:28:46\",\"2020-12-21T19:29:28\",\"2020-12-21T19:29:29\",\"2020-12-21T19:31:43\",\"2020-12-21T19:31:44\",\"2020-12-21T19:32:01\",\"2020-12-21T19:33:27\",\"2020-12-21T19:33:28\",\"2020-12-21T19:38:30\",\"2020-12-21T19:38:31\",\"2020-12-21T19:39:14\",\"2020-12-21T19:39:33\",\"2020-12-21T19:42:16\",\"2020-12-21T19:42:17\",\"2020-12-21T19:42:19\",\"2020-12-21T19:42:43\",\"2020-12-21T19:45:39\",\"2020-12-21T19:46:18\",\"2020-12-21T19:46:56\",\"2020-12-21T19:46:58\",\"2020-12-21T19:50:17\",\"2020-12-21T19:50:18\",\"2020-12-21T19:55:10\",\"2020-12-21T19:55:11\",\"2020-12-21T19:55:24\",\"2020-12-21T19:57:03\",\"2020-12-21T19:59:42\",\"2020-12-21T20:00:20\",\"2020-12-21T20:04:27\",\"2020-12-21T20:04:29\",\"2020-12-21T20:05:56\",\"2020-12-21T20:05:58\",\"2020-12-21T20:09:41\",\"2020-12-21T20:09:44\",\"2020-12-21T20:11:42\",\"2020-12-21T20:11:43\",\"2020-12-21T20:13:02\",\"2020-12-21T20:13:56\",\"2020-12-21T20:14:01\",\"2020-12-21T20:14:07\",\"2020-12-21T20:15:32\",\"2020-12-21T20:15:33\",\"2020-12-21T20:15:47\",\"2020-12-21T20:15:48\",\"2020-12-21T20:15:55\",\"2020-12-21T20:17:26\",\"2020-12-21T20:17:29\",\"2020-12-21T20:18:25\",\"2020-12-21T20:20:49\",\"2020-12-21T20:20:59\",\"2020-12-21T20:22:14\",\"2020-12-21T20:22:15\",\"2020-12-21T20:26:10\",\"2020-12-21T20:26:11\",\"2020-12-21T20:27:16\",\"2020-12-21T20:27:17\",\"2020-12-21T20:28:40\",\"2020-12-21T20:28:42\",\"2020-12-21T20:28:45\",\"2020-12-21T20:29:35\",\"2020-12-21T20:31:13\",\"2020-12-21T20:31:16\",\"2020-12-21T20:31:31\",\"2020-12-21T20:31:32\",\"2020-12-21T20:32:39\",\"2020-12-21T20:32:41\",\"2020-12-21T20:33:00\",\"2020-12-21T20:33:03\",\"2020-12-21T20:34:24\",\"2020-12-21T20:36:25\",\"2020-12-21T20:36:26\",\"2020-12-21T20:39:26\",\"2020-12-21T20:41:21\",\"2020-12-21T20:44:01\",\"2020-12-21T20:44:02\",\"2020-12-21T20:44:43\",\"2020-12-21T20:46:29\",\"2020-12-21T20:46:32\",\"2020-12-21T20:46:45\",\"2020-12-21T20:46:46\",\"2020-12-21T20:46:55\",\"2020-12-21T20:47:44\",\"2020-12-21T20:47:47\",\"2020-12-21T20:50:00\",\"2020-12-21T20:50:02\",\"2020-12-21T20:50:55\",\"2020-12-21T20:52:29\",\"2020-12-21T20:56:33\",\"2020-12-21T20:57:40\",\"2020-12-21T20:57:41\",\"2020-12-21T20:59:01\",\"2020-12-21T20:59:03\",\"2020-12-21T21:00:11\",\"2020-12-21T21:00:16\",\"2020-12-21T21:00:17\",\"2020-12-21T21:00:29\",\"2020-12-21T21:03:45\",\"2020-12-21T21:05:23\",\"2020-12-21T21:05:24\",\"2020-12-21T21:05:37\",\"2020-12-21T21:07:23\",\"2020-12-21T21:12:23\",\"2020-12-21T21:12:24\",\"2020-12-21T21:12:38\",\"2020-12-21T21:12:41\",\"2020-12-21T21:13:22\",\"2020-12-21T21:13:23\",\"2020-12-21T21:14:11\",\"2020-12-21T21:14:14\",\"2020-12-21T21:15:22\",\"2020-12-21T21:15:23\",\"2020-12-21T21:15:57\",\"2020-12-21T21:20:06\",\"2020-12-21T21:20:08\",\"2020-12-21T21:20:51\",\"2020-12-21T21:20:52\",\"2020-12-21T21:20:59\",\"2020-12-21T21:21:02\",\"2020-12-21T21:29:27\",\"2020-12-21T21:29:30\",\"2020-12-21T21:30:10\",\"2020-12-21T21:33:51\",\"2020-12-21T21:41:22\",\"2020-12-21T21:43:07\",\"2020-12-21T21:44:48\",\"2020-12-21T21:45:18\",\"2020-12-21T21:45:21\",\"2020-12-21T21:45:48\",\"2020-12-21T21:51:01\",\"2020-12-21T21:51:59\",\"2020-12-21T21:54:32\",\"2020-12-21T21:54:33\",\"2020-12-21T21:56:58\",\"2020-12-21T21:59:32\",\"2020-12-21T21:59:33\",\"2020-12-21T22:01:05\",\"2020-12-21T22:02:01\",\"2020-12-21T22:02:05\",\"2020-12-21T22:03:55\",\"2020-12-21T22:03:58\",\"2020-12-21T22:03:59\",\"2020-12-21T22:04:00\",\"2020-12-21T22:05:03\",\"2020-12-21T22:05:28\",\"2020-12-21T22:07:13\",\"2020-12-21T22:12:21\",\"2020-12-21T22:12:23\",\"2020-12-21T22:13:29\",\"2020-12-21T22:15:51\",\"2020-12-21T22:15:57\",\"2020-12-21T22:16:57\",\"2020-12-21T22:16:59\",\"2020-12-21T22:18:33\",\"2020-12-21T22:18:34\",\"2020-12-21T22:19:36\",\"2020-12-21T22:19:37\",\"2020-12-21T22:19:55\",\"2020-12-21T22:23:39\",\"2020-12-21T22:26:56\",\"2020-12-21T22:26:57\",\"2020-12-21T22:27:21\",\"2020-12-21T22:27:23\",\"2020-12-21T22:28:29\",\"2020-12-21T22:31:26\",\"2020-12-21T22:31:58\",\"2020-12-21T22:32:12\",\"2020-12-21T22:32:16\",\"2020-12-21T22:35:13\",\"2020-12-21T22:40:22\",\"2020-12-21T22:41:56\",\"2020-12-21T22:43:23\",\"2020-12-21T22:44:43\",\"2020-12-21T22:47:51\",\"2020-12-21T22:47:56\",\"2020-12-21T22:49:31\",\"2020-12-21T22:49:32\",\"2020-12-21T22:51:57\",\"2020-12-21T22:52:15\",\"2020-12-21T22:52:39\",\"2020-12-21T22:52:41\",\"2020-12-21T22:52:54\",\"2020-12-21T22:54:49\",\"2020-12-21T22:54:51\",\"2020-12-21T22:54:54\",\"2020-12-21T22:55:12\",\"2020-12-21T22:56:46\",\"2020-12-21T22:57:06\",\"2020-12-21T23:00:55\",\"2020-12-21T23:03:36\",\"2020-12-21T23:04:58\",\"2020-12-21T23:07:31\",\"2020-12-21T23:08:28\",\"2020-12-21T23:08:29\",\"2020-12-21T23:08:54\",\"2020-12-21T23:08:56\",\"2020-12-21T23:10:01\",\"2020-12-21T23:15:28\",\"2020-12-21T23:17:31\",\"2020-12-21T23:17:32\",\"2020-12-21T23:33:24\",\"2020-12-21T23:35:40\",\"2020-12-21T23:35:41\",\"2020-12-21T23:35:45\",\"2020-12-21T23:38:26\",\"2020-12-21T23:41:07\",\"2020-12-21T23:41:08\",\"2020-12-21T23:43:34\",\"2020-12-21T23:43:37\",\"2020-12-21T23:44:48\",\"2020-12-21T23:45:31\",\"2020-12-21T23:45:34\",\"2020-12-21T23:45:36\",\"2020-12-21T23:46:42\",\"2020-12-21T23:46:43\",\"2020-12-21T23:51:40\",\"2020-12-21T23:52:35\",\"2020-12-21T23:52:36\",\"2020-12-21T23:52:37\",\"2020-12-21T23:53:11\",\"2020-12-21T23:58:19\",\"2020-12-21T23:59:39\",\"2020-12-22T00:06:04\",\"2020-12-22T00:06:05\",\"2020-12-22T00:06:06\",\"2020-12-22T00:09:40\",\"2020-12-22T00:09:41\",\"2020-12-22T00:19:27\",\"2020-12-22T00:19:30\",\"2020-12-22T00:20:22\",\"2020-12-22T00:21:39\",\"2020-12-22T00:21:40\",\"2020-12-22T00:21:47\",\"2020-12-22T00:21:49\",\"2020-12-22T00:25:01\",\"2020-12-22T00:27:14\",\"2020-12-22T00:27:15\",\"2020-12-22T00:29:28\",\"2020-12-22T00:29:30\",\"2020-12-22T00:32:27\",\"2020-12-22T00:37:30\",\"2020-12-22T00:37:31\",\"2020-12-22T00:38:02\",\"2020-12-22T00:40:25\",\"2020-12-22T00:43:48\",\"2020-12-22T00:45:06\",\"2020-12-22T00:45:10\",\"2020-12-22T00:46:28\",\"2020-12-22T00:46:31\",\"2020-12-22T00:48:01\",\"2020-12-22T00:48:03\",\"2020-12-22T00:49:54\",\"2020-12-22T00:52:39\",\"2020-12-22T00:54:11\",\"2020-12-22T01:01:34\",\"2020-12-22T01:01:55\",\"2020-12-22T01:01:56\",\"2020-12-22T01:03:08\",\"2020-12-22T01:05:18\",\"2020-12-22T01:06:12\",\"2020-12-22T01:09:06\",\"2020-12-22T01:09:55\",\"2020-12-22T01:09:57\",\"2020-12-22T01:14:01\",\"2020-12-22T01:14:04\",\"2020-12-22T01:17:51\",\"2020-12-22T01:17:52\",\"2020-12-22T01:19:28\",\"2020-12-22T01:19:29\",\"2020-12-22T01:19:40\",\"2020-12-22T01:20:46\",\"2020-12-22T01:20:47\",\"2020-12-22T01:20:49\",\"2020-12-22T01:22:38\",\"2020-12-22T01:22:39\",\"2020-12-22T01:23:26\",\"2020-12-22T01:24:05\",\"2020-12-22T01:24:07\",\"2020-12-22T01:26:23\",\"2020-12-22T01:27:26\",\"2020-12-22T01:30:58\",\"2020-12-22T01:33:23\",\"2020-12-22T01:35:55\",\"2020-12-22T01:36:00\",\"2020-12-22T01:39:55\",\"2020-12-22T01:39:57\",\"2020-12-22T01:43:30\",\"2020-12-22T01:43:31\",\"2020-12-22T01:48:04\",\"2020-12-22T01:48:05\",\"2020-12-22T01:48:24\",\"2020-12-22T01:48:27\",\"2020-12-22T01:49:49\",\"2020-12-22T01:49:50\",\"2020-12-22T01:50:18\",\"2020-12-22T01:50:32\",\"2020-12-22T01:50:33\",\"2020-12-22T01:58:18\",\"2020-12-22T01:58:20\",\"2020-12-22T01:58:49\",\"2020-12-22T01:58:57\",\"2020-12-22T01:59:53\",\"2020-12-22T01:59:54\",\"2020-12-22T02:00:41\",\"2020-12-22T02:01:31\",\"2020-12-22T02:01:32\",\"2020-12-22T02:03:21\",\"2020-12-22T02:03:25\",\"2020-12-22T02:04:47\",\"2020-12-22T02:04:48\",\"2020-12-22T02:13:19\",\"2020-12-22T02:17:30\",\"2020-12-22T02:17:31\",\"2020-12-22T02:20:41\",\"2020-12-22T02:24:34\",\"2020-12-22T02:27:15\",\"2020-12-22T02:30:08\",\"2020-12-22T02:31:38\",\"2020-12-22T02:35:55\",\"2020-12-22T02:35:56\",\"2020-12-22T02:36:21\",\"2020-12-22T02:36:24\",\"2020-12-22T02:37:07\",\"2020-12-22T02:37:23\",\"2020-12-22T02:37:25\",\"2020-12-22T02:38:12\",\"2020-12-22T02:38:13\",\"2020-12-22T02:39:09\",\"2020-12-22T02:43:19\",\"2020-12-22T02:43:21\",\"2020-12-22T02:45:53\",\"2020-12-22T02:45:54\",\"2020-12-22T02:46:06\",\"2020-12-22T02:47:28\",\"2020-12-22T02:50:40\",\"2020-12-22T02:58:54\",\"2020-12-22T02:58:55\",\"2020-12-22T02:59:27\",\"2020-12-22T02:59:28\",\"2020-12-22T03:02:56\",\"2020-12-22T03:02:58\",\"2020-12-22T03:06:05\",\"2020-12-22T03:07:47\",\"2020-12-22T03:16:18\",\"2020-12-22T03:16:20\",\"2020-12-22T03:20:37\",\"2020-12-22T03:20:38\",\"2020-12-22T03:29:46\",\"2020-12-22T03:30:13\",\"2020-12-22T03:30:47\",\"2020-12-22T03:30:49\",\"2020-12-22T03:33:23\",\"2020-12-22T03:33:24\",\"2020-12-22T03:36:15\",\"2020-12-22T03:38:41\",\"2020-12-22T03:43:25\",\"2020-12-22T03:49:53\",\"2020-12-22T03:49:55\",\"2020-12-22T03:50:03\",\"2020-12-22T03:50:05\",\"2020-12-22T03:54:03\",\"2020-12-22T03:54:05\",\"2020-12-22T03:54:08\",\"2020-12-22T04:04:40\",\"2020-12-22T04:04:44\",\"2020-12-22T04:05:52\",\"2020-12-22T04:05:55\",\"2020-12-22T04:06:43\",\"2020-12-22T04:06:44\",\"2020-12-22T04:13:26\",\"2020-12-22T04:13:28\",\"2020-12-22T04:17:00\",\"2020-12-22T04:17:03\",\"2020-12-22T04:20:52\",\"2020-12-22T04:20:54\",\"2020-12-22T04:29:18\",\"2020-12-22T04:30:11\",\"2020-12-22T04:30:36\",\"2020-12-22T04:30:56\",\"2020-12-22T04:34:36\",\"2020-12-22T04:37:21\",\"2020-12-22T04:38:28\",\"2020-12-22T04:38:30\",\"2020-12-22T04:43:07\",\"2020-12-22T04:44:34\",\"2020-12-22T04:46:42\",\"2020-12-22T04:46:43\",\"2020-12-22T04:50:19\",\"2020-12-22T04:50:21\",\"2020-12-22T04:51:00\",\"2020-12-22T04:51:03\",\"2020-12-22T04:52:10\",\"2020-12-22T04:53:57\",\"2020-12-22T04:54:54\",\"2020-12-22T04:54:55\",\"2020-12-22T04:55:14\",\"2020-12-22T04:55:15\",\"2020-12-22T04:57:50\",\"2020-12-22T04:57:51\",\"2020-12-22T04:57:52\",\"2020-12-22T05:03:43\",\"2020-12-22T05:03:44\",\"2020-12-22T05:07:02\",\"2020-12-22T05:07:03\",\"2020-12-22T05:07:33\",\"2020-12-22T05:09:11\",\"2020-12-22T05:13:48\",\"2020-12-22T05:16:41\",\"2020-12-22T05:16:42\",\"2020-12-22T05:17:18\",\"2020-12-22T05:17:54\",\"2020-12-22T05:20:55\",\"2020-12-22T05:20:57\",\"2020-12-22T05:31:31\",\"2020-12-22T05:35:25\",\"2020-12-22T05:40:20\",\"2020-12-22T05:40:21\",\"2020-12-22T05:44:12\",\"2020-12-22T05:46:09\",\"2020-12-22T05:46:10\",\"2020-12-22T05:47:17\",\"2020-12-22T05:47:19\",\"2020-12-22T05:51:43\",\"2020-12-22T05:52:31\",\"2020-12-22T05:52:36\",\"2020-12-22T05:52:37\",\"2020-12-22T05:53:36\",\"2020-12-22T05:53:42\",\"2020-12-22T05:53:54\",\"2020-12-22T05:53:55\",\"2020-12-22T05:56:04\",\"2020-12-22T05:56:05\",\"2020-12-22T05:57:19\",\"2020-12-22T06:04:27\",\"2020-12-22T06:04:28\",\"2020-12-22T06:06:56\",\"2020-12-22T06:08:23\",\"2020-12-22T06:12:11\",\"2020-12-22T06:12:31\",\"2020-12-22T06:13:04\",\"2020-12-22T06:13:05\",\"2020-12-22T06:14:06\",\"2020-12-22T06:14:07\",\"2020-12-22T06:21:45\",\"2020-12-22T06:25:54\",\"2020-12-22T06:25:55\",\"2020-12-22T06:28:08\",\"2020-12-22T06:28:09\",\"2020-12-22T06:28:10\",\"2020-12-22T06:37:21\",\"2020-12-22T06:37:22\",\"2020-12-22T06:38:30\",\"2020-12-22T06:44:05\",\"2020-12-22T06:44:06\",\"2020-12-22T06:44:07\",\"2020-12-22T06:48:37\",\"2020-12-22T06:51:37\",\"2020-12-22T06:58:44\",\"2020-12-22T06:58:47\",\"2020-12-22T07:00:04\",\"2020-12-22T07:04:02\",\"2020-12-22T07:04:38\",\"2020-12-22T07:04:41\",\"2020-12-22T07:05:32\",\"2020-12-22T07:06:15\",\"2020-12-22T07:06:17\",\"2020-12-22T07:10:45\",\"2020-12-22T07:15:05\",\"2020-12-22T07:15:32\",\"2020-12-22T07:15:33\",\"2020-12-22T07:17:54\",\"2020-12-22T07:19:34\",\"2020-12-22T07:20:52\",\"2020-12-22T07:24:48\",\"2020-12-22T07:24:50\",\"2020-12-22T07:27:32\",\"2020-12-22T07:28:01\",\"2020-12-22T07:28:02\",\"2020-12-22T07:30:23\",\"2020-12-22T07:30:24\",\"2020-12-22T07:30:38\",\"2020-12-22T07:30:41\",\"2020-12-22T07:34:26\",\"2020-12-22T07:34:29\",\"2020-12-22T07:35:50\",\"2020-12-22T07:40:53\",\"2020-12-22T07:42:01\",\"2020-12-22T07:45:24\",\"2020-12-22T07:45:25\",\"2020-12-22T07:45:26\",\"2020-12-22T07:48:58\",\"2020-12-22T07:49:00\",\"2020-12-22T07:51:33\",\"2020-12-22T07:53:56\",\"2020-12-22T07:54:05\",\"2020-12-22T07:54:07\",\"2020-12-22T07:57:10\",\"2020-12-22T07:59:42\",\"2020-12-22T08:03:59\",\"2020-12-22T08:05:22\",\"2020-12-22T08:13:26\",\"2020-12-22T08:13:28\",\"2020-12-22T08:18:24\",\"2020-12-22T08:18:26\",\"2020-12-22T08:21:59\",\"2020-12-22T08:22:00\",\"2020-12-22T08:22:34\",\"2020-12-22T08:25:23\",\"2020-12-22T08:29:20\",\"2020-12-22T08:29:21\",\"2020-12-22T08:29:49\",\"2020-12-22T08:29:55\",\"2020-12-22T08:30:28\",\"2020-12-22T08:30:29\",\"2020-12-22T08:32:34\",\"2020-12-22T08:32:53\",\"2020-12-22T08:32:58\",\"2020-12-22T08:33:22\",\"2020-12-22T08:33:23\",\"2020-12-22T08:33:24\",\"2020-12-22T08:40:43\",\"2020-12-22T08:40:44\",\"2020-12-22T08:41:18\",\"2020-12-22T08:41:19\",\"2020-12-22T08:43:29\",\"2020-12-22T08:48:32\",\"2020-12-22T08:49:16\",\"2020-12-22T08:58:30\",\"2020-12-22T09:01:02\",\"2020-12-22T09:01:03\",\"2020-12-22T09:01:48\",\"2020-12-22T09:02:35\",\"2020-12-22T09:06:42\",\"2020-12-22T09:14:17\",\"2020-12-22T09:16:11\",\"2020-12-22T09:17:52\",\"2020-12-22T09:18:08\",\"2020-12-22T09:18:18\",\"2020-12-22T09:18:20\",\"2020-12-22T09:19:18\",\"2020-12-22T09:24:38\",\"2020-12-22T09:25:20\",\"2020-12-22T09:28:02\",\"2020-12-22T09:30:14\",\"2020-12-22T09:32:27\",\"2020-12-22T09:32:28\",\"2020-12-22T09:33:34\",\"2020-12-22T09:33:38\",\"2020-12-22T09:34:13\",\"2020-12-22T09:34:14\",\"2020-12-22T09:38:22\",\"2020-12-22T09:38:23\",\"2020-12-22T09:42:31\",\"2020-12-22T09:42:35\",\"2020-12-22T09:42:36\",\"2020-12-22T09:42:37\",\"2020-12-22T09:44:57\",\"2020-12-22T09:46:34\",\"2020-12-22T09:46:35\",\"2020-12-22T09:52:14\",\"2020-12-22T09:52:15\",\"2020-12-22T09:52:24\",\"2020-12-22T09:52:25\",\"2020-12-22T09:53:12\",\"2020-12-22T09:53:14\",\"2020-12-22T09:53:18\",\"2020-12-22T09:56:48\",\"2020-12-22T09:56:49\",\"2020-12-22T09:56:52\",\"2020-12-22T09:58:07\",\"2020-12-22T09:59:09\",\"2020-12-22T09:59:57\",\"2020-12-22T09:59:59\",\"2020-12-22T10:00:34\",\"2020-12-22T10:00:57\",\"2020-12-22T10:07:10\",\"2020-12-22T10:11:21\",\"2020-12-22T10:11:23\",\"2020-12-22T10:11:34\",\"2020-12-22T10:13:16\",\"2020-12-22T10:13:18\",\"2020-12-22T10:18:19\",\"2020-12-22T10:18:20\",\"2020-12-22T10:18:21\",\"2020-12-22T10:20:06\",\"2020-12-22T10:23:15\",\"2020-12-22T10:23:17\",\"2020-12-22T10:24:50\",\"2020-12-22T10:24:51\",\"2020-12-22T10:26:05\",\"2020-12-22T10:32:57\",\"2020-12-22T10:32:58\",\"2020-12-22T10:56:38\",\"2020-12-22T10:56:56\",\"2020-12-22T10:56:58\",\"2020-12-22T10:57:41\",\"2020-12-22T11:03:27\",\"2020-12-22T11:08:32\",\"2020-12-22T11:08:34\",\"2020-12-22T11:11:09\",\"2020-12-22T11:12:01\",\"2020-12-22T11:12:02\",\"2020-12-22T11:12:50\",\"2020-12-22T11:17:11\",\"2020-12-22T11:17:13\",\"2020-12-22T11:18:18\",\"2020-12-22T11:23:04\",\"2020-12-22T11:23:06\",\"2020-12-22T11:26:45\",\"2020-12-22T11:26:46\",\"2020-12-22T11:28:28\",\"2020-12-22T11:33:28\",\"2020-12-22T11:33:29\",\"2020-12-22T11:33:32\",\"2020-12-22T11:33:33\",\"2020-12-22T11:36:55\",\"2020-12-22T11:39:37\",\"2020-12-22T11:39:40\",\"2020-12-22T11:49:20\",\"2020-12-22T11:49:21\",\"2020-12-22T11:50:28\",\"2020-12-22T11:56:07\",\"2020-12-22T12:00:27\",\"2020-12-22T12:00:28\",\"2020-12-22T12:02:11\",\"2020-12-22T12:02:38\",\"2020-12-22T12:03:30\",\"2020-12-22T12:03:31\",\"2020-12-22T12:05:54\",\"2020-12-22T12:07:51\",\"2020-12-22T12:13:54\",\"2020-12-22T12:20:20\",\"2020-12-22T12:20:22\",\"2020-12-22T12:24:53\",\"2020-12-22T12:25:44\",\"2020-12-22T12:28:57\",\"2020-12-22T12:28:58\",\"2020-12-22T12:30:48\",\"2020-12-22T12:32:47\",\"2020-12-22T12:33:51\",\"2020-12-22T12:37:53\",\"2020-12-22T12:41:46\",\"2020-12-22T12:41:47\",\"2020-12-22T12:49:59\",\"2020-12-22T12:53:13\",\"2020-12-22T12:56:27\",\"2020-12-22T12:57:00\",\"2020-12-22T12:57:01\",\"2020-12-22T13:03:10\",\"2020-12-22T13:07:45\",\"2020-12-22T13:07:47\",\"2020-12-22T13:08:14\",\"2020-12-22T13:09:00\",\"2020-12-22T13:09:01\",\"2020-12-22T13:09:22\",\"2020-12-22T13:09:23\",\"2020-12-22T13:15:58\",\"2020-12-22T13:16:00\",\"2020-12-22T13:16:40\",\"2020-12-22T13:23:18\",\"2020-12-22T13:23:21\",\"2020-12-22T13:24:24\",\"2020-12-22T13:24:25\",\"2020-12-22T13:29:00\",\"2020-12-22T13:29:01\",\"2020-12-22T13:29:02\",\"2020-12-22T13:29:55\",\"2020-12-22T13:29:57\",\"2020-12-22T13:32:54\",\"2020-12-22T13:32:56\",\"2020-12-22T13:38:34\",\"2020-12-22T13:40:10\",\"2020-12-22T13:40:11\",\"2020-12-22T13:40:29\",\"2020-12-22T13:42:55\",\"2020-12-22T13:42:56\",\"2020-12-22T13:53:42\",\"2020-12-22T14:01:53\",\"2020-12-22T14:01:54\",\"2020-12-22T14:04:57\",\"2020-12-22T14:05:00\",\"2020-12-22T14:05:02\",\"2020-12-22T14:05:04\",\"2020-12-22T14:06:15\",\"2020-12-22T14:08:12\",\"2020-12-22T14:10:46\",\"2020-12-22T14:10:47\",\"2020-12-22T14:13:05\",\"2020-12-22T14:13:06\",\"2020-12-22T14:15:18\",\"2020-12-22T14:15:20\",\"2020-12-22T14:18:58\",\"2020-12-22T14:24:06\",\"2020-12-22T14:24:32\",\"2020-12-22T14:24:33\",\"2020-12-22T14:24:34\",\"2020-12-22T14:28:25\",\"2020-12-22T14:28:26\",\"2020-12-22T14:31:58\",\"2020-12-22T14:35:03\",\"2020-12-22T14:44:12\",\"2020-12-22T14:44:19\",\"2020-12-22T14:47:23\",\"2020-12-22T14:47:24\",\"2020-12-22T14:50:22\",\"2020-12-22T14:50:23\",\"2020-12-22T14:51:17\",\"2020-12-22T14:51:18\",\"2020-12-22T14:52:16\",\"2020-12-22T14:52:21\",\"2020-12-22T14:53:20\",\"2020-12-22T14:54:27\",\"2020-12-22T14:55:51\",\"2020-12-22T14:58:45\",\"2020-12-22T15:02:52\",\"2020-12-22T15:03:04\",\"2020-12-22T15:03:07\",\"2020-12-22T15:06:32\",\"2020-12-22T15:06:33\",\"2020-12-22T15:09:29\",\"2020-12-22T15:11:55\",\"2020-12-22T15:12:07\",\"2020-12-22T15:12:11\",\"2020-12-22T15:12:12\",\"2020-12-22T15:12:15\",\"2020-12-22T15:12:40\",\"2020-12-22T15:12:41\",\"2020-12-22T15:13:01\",\"2020-12-22T15:13:06\",\"2020-12-22T15:14:25\",\"2020-12-22T15:14:27\",\"2020-12-22T15:14:39\",\"2020-12-22T15:14:40\",\"2020-12-22T15:14:58\",\"2020-12-22T15:21:21\",\"2020-12-22T15:21:23\",\"2020-12-22T15:24:51\",\"2020-12-22T15:24:54\",\"2020-12-22T15:25:10\",\"2020-12-22T15:25:13\",\"2020-12-22T15:26:24\",\"2020-12-22T15:28:03\",\"2020-12-22T15:28:04\",\"2020-12-22T15:29:17\",\"2020-12-22T15:29:18\",\"2020-12-22T15:30:02\",\"2020-12-22T15:30:03\",\"2020-12-22T15:31:34\",\"2020-12-22T15:35:08\",\"2020-12-22T15:35:09\",\"2020-12-22T15:37:17\",\"2020-12-22T15:37:20\",\"2020-12-22T15:40:10\",\"2020-12-22T15:43:13\",\"2020-12-22T15:43:14\",\"2020-12-22T15:43:32\",\"2020-12-22T15:43:56\",\"2020-12-22T15:47:22\",\"2020-12-22T15:51:01\",\"2020-12-22T15:51:02\",\"2020-12-22T15:51:56\",\"2020-12-22T15:51:57\",\"2020-12-22T15:53:39\",\"2020-12-22T15:53:40\",\"2020-12-22T15:54:02\",\"2020-12-22T15:54:04\",\"2020-12-22T15:54:33\",\"2020-12-22T15:54:38\",\"2020-12-22T15:59:25\",\"2020-12-22T16:01:38\",\"2020-12-22T16:02:18\",\"2020-12-22T16:05:24\",\"2020-12-22T16:05:25\",\"2020-12-22T16:06:32\",\"2020-12-22T16:06:35\",\"2020-12-22T16:11:23\",\"2020-12-22T16:17:57\",\"2020-12-22T16:19:52\",\"2020-12-22T16:23:31\",\"2020-12-22T16:23:32\",\"2020-12-22T16:23:35\",\"2020-12-22T16:31:31\",\"2020-12-22T16:31:33\",\"2020-12-22T16:33:23\",\"2020-12-22T16:33:24\",\"2020-12-22T16:37:31\",\"2020-12-22T16:37:33\",\"2020-12-22T16:37:34\",\"2020-12-22T16:41:11\",\"2020-12-22T16:44:22\",\"2020-12-22T16:44:24\",\"2020-12-22T16:44:46\",\"2020-12-22T16:46:54\",\"2020-12-22T16:49:32\",\"2020-12-22T16:49:33\",\"2020-12-22T16:50:09\",\"2020-12-22T16:50:11\",\"2020-12-22T16:50:29\",\"2020-12-22T16:52:48\",\"2020-12-22T16:55:20\",\"2020-12-22T16:55:22\",\"2020-12-22T16:55:55\",\"2020-12-22T17:03:43\",\"2020-12-22T17:04:22\",\"2020-12-22T17:06:10\",\"2020-12-22T17:06:12\",\"2020-12-22T17:06:53\",\"2020-12-22T17:07:10\",\"2020-12-22T17:07:11\",\"2020-12-22T17:11:14\",\"2020-12-22T17:11:18\",\"2020-12-22T17:11:58\",\"2020-12-22T17:12:00\",\"2020-12-22T17:13:59\",\"2020-12-22T17:19:30\",\"2020-12-22T17:19:31\",\"2020-12-22T17:23:32\",\"2020-12-22T17:23:59\",\"2020-12-22T17:24:00\",\"2020-12-22T17:24:47\",\"2020-12-22T17:30:00\",\"2020-12-22T17:31:53\",\"2020-12-22T17:31:56\",\"2020-12-22T17:31:58\",\"2020-12-22T17:33:23\",\"2020-12-22T17:35:23\",\"2020-12-22T17:35:24\",\"2020-12-22T17:35:31\",\"2020-12-22T17:35:58\",\"2020-12-22T17:38:05\",\"2020-12-22T17:49:16\",\"2020-12-22T17:50:59\",\"2020-12-22T17:52:08\",\"2020-12-22T17:52:09\",\"2020-12-22T17:56:50\",\"2020-12-22T17:58:02\",\"2020-12-22T17:58:35\",\"2020-12-22T18:02:18\",\"2020-12-22T18:02:20\",\"2020-12-22T18:02:26\",\"2020-12-22T18:03:16\",\"2020-12-22T18:03:48\",\"2020-12-22T18:03:49\",\"2020-12-22T18:08:30\",\"2020-12-22T18:08:32\",\"2020-12-22T18:09:10\",\"2020-12-22T18:11:46\",\"2020-12-22T18:14:24\",\"2020-12-22T18:14:26\",\"2020-12-22T18:20:59\",\"2020-12-22T18:21:01\",\"2020-12-22T18:23:52\",\"2020-12-22T18:24:51\",\"2020-12-22T18:24:52\",\"2020-12-22T18:26:18\",\"2020-12-22T18:29:38\",\"2020-12-22T18:29:39\",\"2020-12-22T18:30:02\",\"2020-12-22T18:31:46\",\"2020-12-22T18:31:47\",\"2020-12-22T18:39:00\",\"2020-12-22T18:39:54\",\"2020-12-22T18:39:56\",\"2020-12-22T18:44:15\",\"2020-12-22T18:44:18\",\"2020-12-22T18:47:04\",\"2020-12-22T18:47:10\",\"2020-12-22T19:01:36\",\"2020-12-22T19:01:38\",\"2020-12-22T19:02:17\",\"2020-12-22T19:02:19\",\"2020-12-22T19:02:37\",\"2020-12-22T19:04:37\",\"2020-12-22T19:06:59\",\"2020-12-22T19:07:02\",\"2020-12-22T19:07:27\",\"2020-12-22T19:07:37\",\"2020-12-22T19:07:38\",\"2020-12-22T19:09:08\",\"2020-12-22T19:09:09\",\"2020-12-22T19:13:42\",\"2020-12-22T19:20:10\",\"2020-12-22T19:20:57\",\"2020-12-22T19:25:25\",\"2020-12-22T19:25:27\",\"2020-12-22T19:27:30\",\"2020-12-22T19:27:33\",\"2020-12-22T19:29:52\",\"2020-12-22T19:29:53\",\"2020-12-22T19:30:32\",\"2020-12-22T19:32:24\",\"2020-12-22T19:32:59\",\"2020-12-22T19:33:00\",\"2020-12-22T19:33:25\",\"2020-12-22T19:35:12\",\"2020-12-22T19:36:02\",\"2020-12-22T19:44:27\",\"2020-12-22T19:48:55\",\"2020-12-22T19:49:13\",\"2020-12-22T19:49:14\",\"2020-12-22T19:52:13\",\"2020-12-22T19:53:14\",\"2020-12-22T19:53:16\",\"2020-12-22T19:53:17\",\"2020-12-22T19:56:13\",\"2020-12-22T19:56:15\",\"2020-12-22T19:59:46\",\"2020-12-22T19:59:47\",\"2020-12-22T20:02:25\",\"2020-12-22T20:02:30\",\"2020-12-22T20:02:34\",\"2020-12-22T20:06:31\",\"2020-12-22T20:12:57\",\"2020-12-22T20:13:20\",\"2020-12-22T20:19:46\",\"2020-12-22T20:20:51\",\"2020-12-22T20:20:52\",\"2020-12-22T20:22:05\",\"2020-12-22T20:24:23\",\"2020-12-22T20:24:29\",\"2020-12-22T20:26:53\",\"2020-12-22T20:26:54\",\"2020-12-22T20:35:54\",\"2020-12-22T20:35:55\",\"2020-12-22T20:36:01\",\"2020-12-22T20:36:38\",\"2020-12-22T20:38:41\",\"2020-12-22T20:41:08\",\"2020-12-22T20:45:21\",\"2020-12-22T20:46:16\",\"2020-12-22T20:47:05\",\"2020-12-22T20:51:39\",\"2020-12-22T20:51:41\",\"2020-12-22T20:52:58\",\"2020-12-22T20:53:01\",\"2020-12-22T20:53:04\",\"2020-12-22T20:54:53\",\"2020-12-22T20:54:54\",\"2020-12-22T20:55:20\",\"2020-12-22T20:59:01\",\"2020-12-22T21:00:34\",\"2020-12-22T21:01:58\",\"2020-12-22T21:02:00\",\"2020-12-22T21:03:21\",\"2020-12-22T21:03:24\",\"2020-12-22T21:04:01\",\"2020-12-22T21:04:02\",\"2020-12-22T21:08:26\",\"2020-12-22T21:17:04\",\"2020-12-22T21:17:05\",\"2020-12-22T21:23:27\",\"2020-12-22T21:40:06\",\"2020-12-22T21:49:04\",\"2020-12-22T21:49:05\",\"2020-12-22T21:49:07\",\"2020-12-22T21:54:16\",\"2020-12-22T21:54:46\",\"2020-12-22T21:57:35\",\"2020-12-22T21:57:37\",\"2020-12-22T22:01:18\",\"2020-12-22T22:01:27\",\"2020-12-22T22:01:28\",\"2020-12-22T22:07:31\",\"2020-12-22T22:08:22\",\"2020-12-22T22:08:23\",\"2020-12-22T22:09:12\",\"2020-12-22T22:18:11\",\"2020-12-22T22:18:12\",\"2020-12-22T22:18:49\",\"2020-12-22T22:18:50\",\"2020-12-22T22:21:36\",\"2020-12-22T22:21:37\",\"2020-12-22T22:24:10\",\"2020-12-22T22:30:15\",\"2020-12-22T22:33:35\",\"2020-12-22T22:33:37\",\"2020-12-22T22:33:46\",\"2020-12-22T22:35:22\",\"2020-12-22T22:37:51\",\"2020-12-22T22:37:52\",\"2020-12-22T22:39:41\",\"2020-12-22T22:45:33\",\"2020-12-22T22:45:34\",\"2020-12-22T22:49:06\",\"2020-12-22T22:49:07\",\"2020-12-22T22:51:31\",\"2020-12-22T22:54:38\",\"2020-12-22T22:54:40\",\"2020-12-22T22:54:54\",\"2020-12-22T22:55:49\",\"2020-12-22T22:59:12\",\"2020-12-22T23:00:34\",\"2020-12-22T23:00:35\",\"2020-12-22T23:00:36\",\"2020-12-22T23:04:30\",\"2020-12-22T23:04:31\",\"2020-12-22T23:05:31\",\"2020-12-22T23:05:35\",\"2020-12-22T23:06:45\",\"2020-12-22T23:06:47\",\"2020-12-22T23:09:14\",\"2020-12-22T23:09:17\",\"2020-12-22T23:09:37\",\"2020-12-22T23:09:38\",\"2020-12-22T23:09:40\",\"2020-12-22T23:11:59\",\"2020-12-22T23:15:04\",\"2020-12-22T23:18:27\",\"2020-12-22T23:19:40\",\"2020-12-22T23:19:41\",\"2020-12-22T23:20:02\",\"2020-12-22T23:20:05\",\"2020-12-22T23:20:06\",\"2020-12-22T23:20:52\",\"2020-12-22T23:20:55\",\"2020-12-22T23:24:45\",\"2020-12-22T23:25:23\",\"2020-12-22T23:28:10\",\"2020-12-22T23:33:01\",\"2020-12-22T23:33:04\",\"2020-12-22T23:33:33\",\"2020-12-22T23:34:45\",\"2020-12-22T23:34:47\",\"2020-12-22T23:36:40\",\"2020-12-22T23:38:46\",\"2020-12-22T23:38:48\",\"2020-12-22T23:39:30\",\"2020-12-22T23:40:09\",\"2020-12-22T23:40:10\",\"2020-12-22T23:40:11\",\"2020-12-22T23:47:27\",\"2020-12-22T23:50:30\",\"2020-12-22T23:57:54\",\"2020-12-22T23:59:32\",\"2020-12-23T00:07:33\",\"2020-12-23T00:07:34\",\"2020-12-23T00:09:14\",\"2020-12-23T00:12:18\",\"2020-12-23T00:14:52\",\"2020-12-23T00:15:40\",\"2020-12-23T00:16:53\",\"2020-12-23T00:16:54\",\"2020-12-23T00:17:05\",\"2020-12-23T00:19:32\",\"2020-12-23T00:19:33\",\"2020-12-23T00:29:28\",\"2020-12-23T00:29:29\",\"2020-12-23T00:30:20\",\"2020-12-23T00:30:21\",\"2020-12-23T00:36:12\",\"2020-12-23T00:41:52\",\"2020-12-23T00:41:53\",\"2020-12-23T00:41:55\",\"2020-12-23T00:41:56\",\"2020-12-23T00:43:26\",\"2020-12-23T00:43:28\",\"2020-12-23T00:47:47\",\"2020-12-23T00:47:48\",\"2020-12-23T00:52:31\",\"2020-12-23T00:52:32\",\"2020-12-23T00:52:50\",\"2020-12-23T00:52:53\",\"2020-12-23T00:58:01\",\"2020-12-23T00:59:06\",\"2020-12-23T00:59:07\",\"2020-12-23T01:05:20\",\"2020-12-23T01:05:54\",\"2020-12-23T01:05:58\",\"2020-12-23T01:08:33\",\"2020-12-23T01:08:55\",\"2020-12-23T01:11:27\",\"2020-12-23T01:11:28\",\"2020-12-23T01:11:30\",\"2020-12-23T01:27:48\",\"2020-12-23T01:31:17\",\"2020-12-23T01:31:18\",\"2020-12-23T01:37:53\",\"2020-12-23T01:40:17\",\"2020-12-23T01:40:20\",\"2020-12-23T01:40:34\",\"2020-12-23T01:40:36\",\"2020-12-23T01:44:55\",\"2020-12-23T01:44:59\",\"2020-12-23T01:50:11\",\"2020-12-23T01:50:12\",\"2020-12-23T01:54:02\",\"2020-12-23T01:55:36\",\"2020-12-23T01:58:54\",\"2020-12-23T01:59:48\",\"2020-12-23T01:59:49\",\"2020-12-23T02:00:57\",\"2020-12-23T02:00:58\",\"2020-12-23T02:01:01\",\"2020-12-23T02:03:23\",\"2020-12-23T02:05:29\",\"2020-12-23T02:06:47\",\"2020-12-23T02:06:51\",\"2020-12-23T02:06:52\",\"2020-12-23T02:13:45\",\"2020-12-23T02:14:51\",\"2020-12-23T02:14:52\",\"2020-12-23T02:15:50\",\"2020-12-23T02:19:02\",\"2020-12-23T02:20:57\",\"2020-12-23T02:20:58\",\"2020-12-23T02:23:46\",\"2020-12-23T02:26:20\",\"2020-12-23T02:37:24\",\"2020-12-23T02:42:00\",\"2020-12-23T02:42:02\",\"2020-12-23T02:42:08\",\"2020-12-23T02:42:09\",\"2020-12-23T02:43:52\",\"2020-12-23T02:43:54\",\"2020-12-23T02:53:08\",\"2020-12-23T02:57:00\",\"2020-12-23T02:57:48\",\"2020-12-23T03:13:47\",\"2020-12-23T03:17:26\",\"2020-12-23T03:17:30\",\"2020-12-23T03:20:32\",\"2020-12-23T03:20:34\",\"2020-12-23T03:21:16\",\"2020-12-23T03:27:55\",\"2020-12-23T03:28:29\",\"2020-12-23T03:31:38\",\"2020-12-23T03:32:21\",\"2020-12-23T03:33:34\",\"2020-12-23T03:47:50\",\"2020-12-23T03:48:15\",\"2020-12-23T03:48:16\",\"2020-12-23T03:48:19\",\"2020-12-23T03:52:59\",\"2020-12-23T03:53:00\",\"2020-12-23T03:53:15\",\"2020-12-23T03:53:17\",\"2020-12-23T03:53:25\",\"2020-12-23T03:53:26\",\"2020-12-23T03:55:39\",\"2020-12-23T03:55:40\",\"2020-12-23T03:59:11\",\"2020-12-23T03:59:12\",\"2020-12-23T03:59:14\",\"2020-12-23T03:59:20\",\"2020-12-23T03:59:22\",\"2020-12-23T04:02:14\",\"2020-12-23T04:05:41\",\"2020-12-23T04:05:44\",\"2020-12-23T04:10:54\",\"2020-12-23T04:10:59\",\"2020-12-23T04:11:24\",\"2020-12-23T04:11:25\",\"2020-12-23T04:20:12\",\"2020-12-23T04:20:14\",\"2020-12-23T04:21:50\",\"2020-12-23T04:21:52\",\"2020-12-23T04:26:07\",\"2020-12-23T04:26:08\",\"2020-12-23T04:27:14\",\"2020-12-23T04:27:17\",\"2020-12-23T04:29:18\",\"2020-12-23T04:29:19\",\"2020-12-23T04:31:06\",\"2020-12-23T04:31:07\",\"2020-12-23T04:33:27\",\"2020-12-23T04:34:02\",\"2020-12-23T04:40:30\",\"2020-12-23T04:40:31\",\"2020-12-23T04:45:46\",\"2020-12-23T04:53:44\",\"2020-12-23T04:54:38\",\"2020-12-23T04:54:39\",\"2020-12-23T04:55:15\",\"2020-12-23T04:58:03\",\"2020-12-23T04:58:06\",\"2020-12-23T04:59:52\",\"2020-12-23T05:05:46\",\"2020-12-23T05:17:22\",\"2020-12-23T05:18:19\",\"2020-12-23T05:20:49\",\"2020-12-23T05:20:51\",\"2020-12-23T05:23:39\",\"2020-12-23T05:28:29\",\"2020-12-23T05:38:40\",\"2020-12-23T05:38:41\",\"2020-12-23T05:42:21\",\"2020-12-23T05:48:52\",\"2020-12-23T05:48:53\",\"2020-12-23T05:50:35\",\"2020-12-23T05:50:36\",\"2020-12-23T05:53:14\",\"2020-12-23T06:09:20\",\"2020-12-23T06:13:54\",\"2020-12-23T06:17:50\",\"2020-12-23T06:20:16\",\"2020-12-23T06:20:32\",\"2020-12-23T06:25:59\",\"2020-12-23T06:29:47\",\"2020-12-23T06:31:09\",\"2020-12-23T06:31:10\",\"2020-12-23T06:34:18\",\"2020-12-23T06:34:19\",\"2020-12-23T06:41:02\",\"2020-12-23T06:41:05\",\"2020-12-23T06:48:21\",\"2020-12-23T06:51:59\",\"2020-12-23T06:52:00\",\"2020-12-23T06:54:38\",\"2020-12-23T06:54:39\",\"2020-12-23T06:54:41\",\"2020-12-23T06:57:25\",\"2020-12-23T06:57:26\",\"2020-12-23T07:03:10\",\"2020-12-23T07:04:01\",\"2020-12-23T07:04:02\",\"2020-12-23T07:04:03\",\"2020-12-23T07:05:29\",\"2020-12-23T07:05:30\",\"2020-12-23T07:07:06\",\"2020-12-23T07:07:09\",\"2020-12-23T07:10:50\",\"2020-12-23T07:14:15\",\"2020-12-23T07:14:20\",\"2020-12-23T07:14:36\",\"2020-12-23T07:15:31\",\"2020-12-23T07:17:39\",\"2020-12-23T07:25:08\",\"2020-12-23T07:25:10\",\"2020-12-23T07:41:10\",\"2020-12-23T07:41:15\",\"2020-12-23T07:41:26\",\"2020-12-23T07:50:44\",\"2020-12-23T08:07:49\",\"2020-12-23T08:07:50\",\"2020-12-23T08:16:07\",\"2020-12-23T08:16:08\",\"2020-12-23T08:17:22\",\"2020-12-23T08:27:54\",\"2020-12-23T08:27:55\",\"2020-12-23T08:27:56\",\"2020-12-23T08:28:50\",\"2020-12-23T08:28:51\",\"2020-12-23T08:32:32\",\"2020-12-23T08:32:50\",\"2020-12-23T08:37:21\",\"2020-12-23T08:42:59\",\"2020-12-23T08:43:41\",\"2020-12-23T08:46:04\",\"2020-12-23T08:46:05\",\"2020-12-23T08:48:36\",\"2020-12-23T08:57:22\",\"2020-12-23T08:59:38\",\"2020-12-23T08:59:39\",\"2020-12-23T08:59:40\",\"2020-12-23T09:02:58\",\"2020-12-23T09:02:59\",\"2020-12-23T09:14:04\",\"2020-12-23T09:17:24\",\"2020-12-23T09:17:39\",\"2020-12-23T09:17:41\",\"2020-12-23T09:17:44\",\"2020-12-23T09:17:45\",\"2020-12-23T09:17:55\",\"2020-12-23T09:18:44\",\"2020-12-23T09:18:46\",\"2020-12-23T09:23:13\",\"2020-12-23T09:30:11\",\"2020-12-23T09:30:17\",\"2020-12-23T09:31:43\",\"2020-12-23T09:31:44\",\"2020-12-23T09:33:33\",\"2020-12-23T09:33:34\",\"2020-12-23T09:33:35\",\"2020-12-23T09:35:58\",\"2020-12-23T09:37:18\",\"2020-12-23T09:37:19\",\"2020-12-23T09:38:04\",\"2020-12-23T09:40:04\",\"2020-12-23T09:43:47\",\"2020-12-23T09:46:23\",\"2020-12-23T09:46:53\",\"2020-12-23T09:46:55\",\"2020-12-23T09:47:32\",\"2020-12-23T09:47:33\",\"2020-12-23T09:49:48\",\"2020-12-23T09:49:49\",\"2020-12-23T09:50:00\",\"2020-12-23T09:50:23\",\"2020-12-23T09:52:11\",\"2020-12-23T09:54:10\",\"2020-12-23T09:54:13\",\"2020-12-23T10:04:37\",\"2020-12-23T10:04:40\",\"2020-12-23T10:07:16\",\"2020-12-23T10:07:21\",\"2020-12-23T10:14:56\",\"2020-12-23T10:16:54\",\"2020-12-23T10:16:58\",\"2020-12-23T10:16:59\",\"2020-12-23T10:20:11\",\"2020-12-23T10:21:51\",\"2020-12-23T10:21:52\",\"2020-12-23T10:24:46\",\"2020-12-23T10:29:26\",\"2020-12-23T10:29:27\",\"2020-12-23T10:30:05\",\"2020-12-23T10:40:04\",\"2020-12-23T10:43:05\",\"2020-12-23T10:43:40\",\"2020-12-23T10:54:18\",\"2020-12-23T11:01:52\",\"2020-12-23T11:10:59\",\"2020-12-23T11:12:50\",\"2020-12-23T11:12:51\",\"2020-12-23T11:18:40\",\"2020-12-23T11:18:53\",\"2020-12-23T11:18:56\",\"2020-12-23T11:22:00\",\"2020-12-23T11:26:35\",\"2020-12-23T11:26:37\",\"2020-12-23T11:29:27\",\"2020-12-23T11:29:28\",\"2020-12-23T11:35:52\",\"2020-12-23T11:43:03\",\"2020-12-23T11:46:48\",\"2020-12-23T11:50:19\",\"2020-12-23T11:50:20\",\"2020-12-23T11:50:21\",\"2020-12-23T11:51:20\",\"2020-12-23T11:52:09\",\"2020-12-23T11:52:10\",\"2020-12-23T11:55:32\",\"2020-12-23T11:55:35\",\"2020-12-23T11:55:56\",\"2020-12-23T11:56:48\",\"2020-12-23T11:59:28\",\"2020-12-23T12:04:07\",\"2020-12-23T12:04:08\",\"2020-12-23T12:07:56\",\"2020-12-23T12:07:58\",\"2020-12-23T12:09:00\",\"2020-12-23T12:12:33\",\"2020-12-23T12:13:06\",\"2020-12-23T12:13:08\",\"2020-12-23T12:16:32\",\"2020-12-23T12:16:34\",\"2020-12-23T12:17:50\",\"2020-12-23T12:17:54\",\"2020-12-23T12:19:22\",\"2020-12-23T12:23:38\",\"2020-12-23T12:23:39\",\"2020-12-23T12:26:34\",\"2020-12-23T12:33:39\",\"2020-12-23T12:35:00\",\"2020-12-23T12:36:29\",\"2020-12-23T12:36:33\",\"2020-12-23T12:38:00\",\"2020-12-23T12:38:01\",\"2020-12-23T12:43:18\",\"2020-12-23T12:43:19\",\"2020-12-23T12:49:09\",\"2020-12-23T12:49:36\",\"2020-12-23T12:51:45\",\"2020-12-23T12:51:48\",\"2020-12-23T12:54:46\",\"2020-12-23T12:57:01\",\"2020-12-23T12:57:02\",\"2020-12-23T13:00:28\",\"2020-12-23T13:03:39\",\"2020-12-23T13:07:19\",\"2020-12-23T13:13:45\",\"2020-12-23T13:13:46\",\"2020-12-23T13:16:59\",\"2020-12-23T13:17:15\",\"2020-12-23T13:17:16\",\"2020-12-23T13:18:05\",\"2020-12-23T13:18:06\",\"2020-12-23T13:28:25\",\"2020-12-23T13:28:28\",\"2020-12-23T13:28:29\",\"2020-12-23T13:30:00\",\"2020-12-23T13:30:02\",\"2020-12-23T13:35:33\",\"2020-12-23T13:42:46\",\"2020-12-23T13:53:58\",\"2020-12-23T13:53:59\",\"2020-12-23T13:59:59\",\"2020-12-23T14:00:00\",\"2020-12-23T14:06:24\",\"2020-12-23T14:06:26\",\"2020-12-23T14:06:42\",\"2020-12-23T14:08:42\",\"2020-12-23T14:08:52\",\"2020-12-23T14:09:41\",\"2020-12-23T14:09:43\",\"2020-12-23T14:10:11\",\"2020-12-23T14:11:11\",\"2020-12-23T14:11:17\",\"2020-12-23T14:11:18\",\"2020-12-23T14:12:42\",\"2020-12-23T14:12:44\",\"2020-12-23T14:13:20\",\"2020-12-23T14:13:21\",\"2020-12-23T14:14:46\",\"2020-12-23T14:15:14\",\"2020-12-23T14:15:15\",\"2020-12-23T14:15:16\",\"2020-12-23T14:21:30\",\"2020-12-23T14:24:00\",\"2020-12-23T14:24:01\",\"2020-12-23T14:24:19\",\"2020-12-23T14:26:08\",\"2020-12-23T14:26:39\",\"2020-12-23T14:26:40\",\"2020-12-23T14:26:41\",\"2020-12-23T14:34:54\",\"2020-12-23T14:34:57\",\"2020-12-23T14:34:58\",\"2020-12-23T14:35:30\",\"2020-12-23T14:39:28\",\"2020-12-23T14:41:10\",\"2020-12-23T14:41:11\",\"2020-12-23T14:41:13\",\"2020-12-23T14:43:26\",\"2020-12-23T14:46:43\",\"2020-12-23T14:46:44\",\"2020-12-23T14:47:13\",\"2020-12-23T14:49:44\",\"2020-12-23T14:49:49\",\"2020-12-23T14:49:50\",\"2020-12-23T14:52:32\",\"2020-12-23T14:52:33\",\"2020-12-23T14:53:36\",\"2020-12-23T14:57:18\",\"2020-12-23T14:57:20\",\"2020-12-23T15:01:09\",\"2020-12-23T15:01:11\",\"2020-12-23T15:02:27\",\"2020-12-23T15:04:57\",\"2020-12-23T15:04:59\",\"2020-12-23T15:07:07\",\"2020-12-23T15:07:08\",\"2020-12-23T15:19:44\",\"2020-12-23T15:19:46\",\"2020-12-23T15:24:45\",\"2020-12-23T15:26:56\",\"2020-12-23T15:32:34\",\"2020-12-23T15:32:37\",\"2020-12-23T15:33:11\",\"2020-12-23T15:33:36\",\"2020-12-23T15:33:37\",\"2020-12-23T15:36:32\",\"2020-12-23T15:36:35\",\"2020-12-23T15:38:36\",\"2020-12-23T15:41:06\",\"2020-12-23T15:41:07\",\"2020-12-23T15:49:23\",\"2020-12-23T15:52:10\",\"2020-12-23T15:56:03\",\"2020-12-23T15:57:46\",\"2020-12-23T16:00:22\",\"2020-12-23T16:00:23\",\"2020-12-23T16:10:56\",\"2020-12-23T16:17:54\",\"2020-12-23T16:17:56\",\"2020-12-23T16:24:56\",\"2020-12-23T16:24:57\",\"2020-12-23T16:37:01\",\"2020-12-23T16:41:44\",\"2020-12-23T16:45:59\",\"2020-12-23T16:46:00\",\"2020-12-23T17:00:56\",\"2020-12-23T17:00:57\",\"2020-12-23T17:03:23\",\"2020-12-23T17:03:24\",\"2020-12-23T17:04:10\",\"2020-12-23T17:04:11\",\"2020-12-23T17:05:21\",\"2020-12-23T17:08:42\",\"2020-12-23T17:08:46\",\"2020-12-23T17:11:57\",\"2020-12-23T17:12:30\",\"2020-12-23T17:12:32\",\"2020-12-23T17:12:33\",\"2020-12-23T17:15:48\",\"2020-12-23T17:16:55\",\"2020-12-23T17:17:00\",\"2020-12-23T17:17:11\",\"2020-12-23T17:23:45\",\"2020-12-23T17:27:58\",\"2020-12-23T17:28:00\",\"2020-12-23T17:28:49\",\"2020-12-23T17:29:16\",\"2020-12-23T17:29:17\",\"2020-12-23T17:34:20\",\"2020-12-23T17:44:59\",\"2020-12-23T17:46:11\",\"2020-12-23T17:53:27\",\"2020-12-23T17:53:41\",\"2020-12-23T17:53:43\",\"2020-12-23T17:54:19\",\"2020-12-23T17:57:55\",\"2020-12-23T18:00:13\",\"2020-12-23T18:00:32\",\"2020-12-23T18:00:35\",\"2020-12-23T18:06:33\",\"2020-12-23T18:06:34\",\"2020-12-23T18:06:35\",\"2020-12-23T18:06:48\",\"2020-12-23T18:09:50\",\"2020-12-23T18:10:38\",\"2020-12-23T18:10:39\",\"2020-12-23T18:14:48\",\"2020-12-23T18:17:30\",\"2020-12-23T18:17:32\",\"2020-12-23T18:24:09\",\"2020-12-23T18:24:11\",\"2020-12-23T18:26:43\",\"2020-12-23T18:30:24\",\"2020-12-23T18:33:10\",\"2020-12-23T18:33:11\",\"2020-12-23T18:35:51\",\"2020-12-23T18:35:54\",\"2020-12-23T18:37:53\",\"2020-12-23T18:39:46\",\"2020-12-23T18:44:29\",\"2020-12-23T18:44:31\",\"2020-12-23T18:51:29\",\"2020-12-23T18:51:31\",\"2020-12-23T18:57:04\",\"2020-12-23T19:00:02\",\"2020-12-23T19:03:54\",\"2020-12-23T19:03:55\",\"2020-12-23T19:04:58\",\"2020-12-23T19:04:59\",\"2020-12-23T19:08:55\",\"2020-12-23T19:08:56\",\"2020-12-23T19:10:50\",\"2020-12-23T19:11:29\",\"2020-12-23T19:11:31\",\"2020-12-23T19:12:43\",\"2020-12-23T19:12:44\",\"2020-12-23T19:17:38\",\"2020-12-23T19:17:40\",\"2020-12-23T19:22:45\",\"2020-12-23T19:25:44\",\"2020-12-23T19:25:45\",\"2020-12-23T19:29:11\",\"2020-12-23T19:36:49\",\"2020-12-23T19:36:51\",\"2020-12-23T19:37:22\",\"2020-12-23T19:37:24\",\"2020-12-23T19:39:20\",\"2020-12-23T19:40:21\",\"2020-12-23T19:40:22\",\"2020-12-23T19:41:55\",\"2020-12-23T19:41:56\",\"2020-12-23T19:41:57\",\"2020-12-23T19:45:47\",\"2020-12-23T19:45:48\",\"2020-12-23T19:46:16\",\"2020-12-23T19:46:20\",\"2020-12-23T19:46:29\",\"2020-12-23T19:46:30\",\"2020-12-23T19:46:32\",\"2020-12-23T19:48:28\",\"2020-12-23T19:55:36\",\"2020-12-23T19:58:23\",\"2020-12-23T19:58:24\",\"2020-12-23T20:01:12\",\"2020-12-23T20:01:14\",\"2020-12-23T20:01:15\",\"2020-12-23T20:01:37\",\"2020-12-23T20:11:08\",\"2020-12-23T20:13:30\",\"2020-12-23T20:13:31\",\"2020-12-23T20:19:09\",\"2020-12-23T20:19:21\",\"2020-12-23T20:19:22\",\"2020-12-23T20:23:21\",\"2020-12-23T20:23:22\",\"2020-12-23T20:30:55\",\"2020-12-23T20:34:06\",\"2020-12-23T20:34:08\",\"2020-12-23T20:35:47\",\"2020-12-23T20:35:51\",\"2020-12-23T20:36:52\",\"2020-12-23T20:44:05\",\"2020-12-23T20:44:14\",\"2020-12-23T20:44:16\",\"2020-12-23T20:44:18\",\"2020-12-23T20:45:18\",\"2020-12-23T20:45:45\",\"2020-12-23T20:45:47\",\"2020-12-23T20:49:49\",\"2020-12-23T20:49:50\",\"2020-12-23T20:50:09\",\"2020-12-23T20:56:32\",\"2020-12-23T20:56:36\",\"2020-12-23T20:59:16\",\"2020-12-23T20:59:44\",\"2020-12-23T20:59:50\",\"2020-12-23T21:09:14\",\"2020-12-23T21:11:27\",\"2020-12-23T21:12:03\",\"2020-12-23T21:12:04\",\"2020-12-23T21:12:05\",\"2020-12-23T21:16:04\",\"2020-12-23T21:19:45\",\"2020-12-23T21:19:46\",\"2020-12-23T21:22:47\",\"2020-12-23T21:24:14\",\"2020-12-23T21:28:24\",\"2020-12-23T21:45:02\",\"2020-12-23T21:45:43\",\"2020-12-23T21:55:24\",\"2020-12-23T21:55:25\",\"2020-12-23T21:56:55\",\"2020-12-23T21:56:56\",\"2020-12-23T21:56:57\",\"2020-12-23T21:57:42\",\"2020-12-23T21:57:43\",\"2020-12-23T21:58:26\",\"2020-12-23T21:58:28\",\"2020-12-23T22:02:11\",\"2020-12-23T22:02:12\",\"2020-12-23T22:03:28\",\"2020-12-23T22:03:38\",\"2020-12-23T22:09:38\",\"2020-12-23T22:12:02\",\"2020-12-23T22:12:57\",\"2020-12-23T22:12:58\",\"2020-12-23T22:13:10\",\"2020-12-23T22:13:12\",\"2020-12-23T22:13:14\",\"2020-12-23T22:13:15\",\"2020-12-23T22:15:45\",\"2020-12-23T22:15:46\",\"2020-12-23T22:24:51\",\"2020-12-23T22:24:54\",\"2020-12-23T22:28:05\",\"2020-12-23T22:29:33\",\"2020-12-23T22:32:23\",\"2020-12-23T22:32:25\",\"2020-12-23T22:34:01\",\"2020-12-23T22:40:59\",\"2020-12-23T22:44:13\",\"2020-12-23T22:46:55\",\"2020-12-23T22:47:03\",\"2020-12-23T22:47:05\",\"2020-12-23T22:48:12\",\"2020-12-23T22:48:13\",\"2020-12-23T22:48:17\",\"2020-12-23T22:49:03\",\"2020-12-23T22:49:04\",\"2020-12-23T22:58:01\",\"2020-12-23T22:58:03\",\"2020-12-23T23:00:19\",\"2020-12-23T23:00:20\",\"2020-12-23T23:00:22\",\"2020-12-23T23:03:55\",\"2020-12-23T23:10:38\",\"2020-12-23T23:10:39\",\"2020-12-23T23:17:33\",\"2020-12-23T23:17:34\",\"2020-12-23T23:19:28\",\"2020-12-23T23:26:31\",\"2020-12-23T23:27:26\",\"2020-12-23T23:37:42\",\"2020-12-23T23:38:39\",\"2020-12-23T23:38:41\",\"2020-12-23T23:38:58\",\"2020-12-23T23:38:59\",\"2020-12-23T23:39:00\",\"2020-12-23T23:49:44\",\"2020-12-24T00:13:57\",\"2020-12-24T00:14:00\",\"2020-12-24T00:19:57\",\"2020-12-24T00:22:31\",\"2020-12-24T00:22:32\",\"2020-12-24T00:29:30\",\"2020-12-24T00:29:33\",\"2020-12-24T00:31:32\",\"2020-12-24T00:31:34\",\"2020-12-24T00:36:58\",\"2020-12-24T00:38:45\",\"2020-12-24T00:41:25\",\"2020-12-24T00:41:26\",\"2020-12-24T00:42:21\",\"2020-12-24T00:42:22\",\"2020-12-24T00:50:19\",\"2020-12-24T00:50:20\",\"2020-12-24T00:51:59\",\"2020-12-24T00:52:00\",\"2020-12-24T01:01:36\",\"2020-12-24T01:07:39\",\"2020-12-24T01:07:40\",\"2020-12-24T01:07:41\",\"2020-12-24T01:08:38\",\"2020-12-24T01:08:39\",\"2020-12-24T01:22:39\",\"2020-12-24T01:22:40\",\"2020-12-24T01:22:42\",\"2020-12-24T01:31:28\",\"2020-12-24T01:31:30\",\"2020-12-24T01:33:48\",\"2020-12-24T01:33:49\",\"2020-12-24T01:33:56\",\"2020-12-24T01:33:57\",\"2020-12-24T01:37:28\",\"2020-12-24T01:37:29\",\"2020-12-24T01:46:46\",\"2020-12-24T01:46:47\",\"2020-12-24T01:58:12\",\"2020-12-24T01:59:38\",\"2020-12-24T01:59:39\",\"2020-12-24T02:03:03\",\"2020-12-24T02:07:29\",\"2020-12-24T02:07:31\",\"2020-12-24T02:10:30\",\"2020-12-24T02:16:19\",\"2020-12-24T02:24:42\",\"2020-12-24T02:24:43\",\"2020-12-24T02:26:21\",\"2020-12-24T02:35:36\",\"2020-12-24T02:35:37\",\"2020-12-24T02:35:39\",\"2020-12-24T02:37:43\",\"2020-12-24T02:42:35\",\"2020-12-24T02:42:37\",\"2020-12-24T02:47:39\",\"2020-12-24T02:47:40\",\"2020-12-24T02:58:34\",\"2020-12-24T02:59:42\",\"2020-12-24T03:01:00\",\"2020-12-24T03:05:18\",\"2020-12-24T03:09:23\",\"2020-12-24T03:09:24\",\"2020-12-24T03:09:31\",\"2020-12-24T03:11:54\",\"2020-12-24T03:11:55\",\"2020-12-24T03:12:25\",\"2020-12-24T03:18:42\",\"2020-12-24T03:18:43\",\"2020-12-24T03:21:07\",\"2020-12-24T03:24:39\",\"2020-12-24T03:38:51\",\"2020-12-24T03:38:52\",\"2020-12-24T03:40:25\",\"2020-12-24T03:40:28\",\"2020-12-24T03:40:56\",\"2020-12-24T03:44:15\",\"2020-12-24T03:45:15\",\"2020-12-24T03:45:16\",\"2020-12-24T03:57:11\",\"2020-12-24T04:07:44\",\"2020-12-24T04:07:46\",\"2020-12-24T04:09:34\",\"2020-12-24T04:09:35\",\"2020-12-24T04:14:43\",\"2020-12-24T04:14:45\",\"2020-12-24T04:14:47\",\"2020-12-24T04:15:53\",\"2020-12-24T04:15:56\",\"2020-12-24T04:18:05\",\"2020-12-24T04:35:07\",\"2020-12-24T04:35:08\",\"2020-12-24T04:45:45\",\"2020-12-24T04:47:01\",\"2020-12-24T04:47:04\",\"2020-12-24T04:47:48\",\"2020-12-24T04:47:49\",\"2020-12-24T04:50:26\",\"2020-12-24T04:55:08\",\"2020-12-24T04:55:09\",\"2020-12-24T04:57:00\",\"2020-12-24T04:57:31\",\"2020-12-24T04:57:32\",\"2020-12-24T05:02:06\",\"2020-12-24T05:09:58\",\"2020-12-24T05:10:02\",\"2020-12-24T05:15:43\",\"2020-12-24T05:16:17\",\"2020-12-24T05:16:18\",\"2020-12-24T05:20:03\",\"2020-12-24T05:20:04\",\"2020-12-24T05:20:41\",\"2020-12-24T05:22:45\",\"2020-12-24T05:22:46\",\"2020-12-24T05:23:14\",\"2020-12-24T05:23:16\",\"2020-12-24T05:26:11\",\"2020-12-24T05:28:03\",\"2020-12-24T05:28:04\",\"2020-12-24T05:28:06\",\"2020-12-24T05:29:03\",\"2020-12-24T05:32:34\",\"2020-12-24T05:37:25\",\"2020-12-24T05:37:26\",\"2020-12-24T05:38:44\",\"2020-12-24T05:38:47\",\"2020-12-24T05:42:29\",\"2020-12-24T05:42:35\",\"2020-12-24T05:42:55\",\"2020-12-24T05:42:56\",\"2020-12-24T05:46:54\",\"2020-12-24T05:48:44\",\"2020-12-24T05:48:46\",\"2020-12-24T06:03:21\",\"2020-12-24T06:03:23\",\"2020-12-24T06:18:25\",\"2020-12-24T06:18:26\",\"2020-12-24T06:24:03\",\"2020-12-24T06:24:04\",\"2020-12-24T06:27:30\",\"2020-12-24T06:28:07\",\"2020-12-24T06:29:47\",\"2020-12-24T06:38:10\",\"2020-12-24T06:38:30\",\"2020-12-24T06:42:13\",\"2020-12-24T06:42:14\",\"2020-12-24T06:44:30\",\"2020-12-24T06:44:31\",\"2020-12-24T06:45:29\",\"2020-12-24T06:46:21\",\"2020-12-24T06:48:09\",\"2020-12-24T06:48:11\",\"2020-12-24T06:50:28\",\"2020-12-24T06:55:32\",\"2020-12-24T07:01:18\",\"2020-12-24T07:01:21\",\"2020-12-24T07:24:19\",\"2020-12-24T07:33:26\",\"2020-12-24T07:38:30\",\"2020-12-24T07:38:32\",\"2020-12-24T07:38:34\",\"2020-12-24T07:45:22\",\"2020-12-24T07:45:24\",\"2020-12-24T07:56:34\",\"2020-12-24T07:57:58\",\"2020-12-24T08:07:25\",\"2020-12-24T08:12:54\",\"2020-12-24T08:12:55\",\"2020-12-24T08:14:40\",\"2020-12-24T08:14:41\",\"2020-12-24T08:16:00\",\"2020-12-24T08:16:44\",\"2020-12-24T08:16:46\",\"2020-12-24T08:17:09\",\"2020-12-24T08:17:11\",\"2020-12-24T08:17:39\",\"2020-12-24T08:24:26\",\"2020-12-24T08:24:29\",\"2020-12-24T08:30:47\",\"2020-12-24T08:33:08\",\"2020-12-24T08:43:50\",\"2020-12-24T08:43:53\",\"2020-12-24T08:44:13\",\"2020-12-24T08:49:05\",\"2020-12-24T08:49:06\",\"2020-12-24T08:49:08\",\"2020-12-24T08:49:58\",\"2020-12-24T08:49:59\",\"2020-12-24T08:52:55\",\"2020-12-24T08:54:24\",\"2020-12-24T08:55:24\",\"2020-12-24T08:55:25\",\"2020-12-24T09:01:44\",\"2020-12-24T09:03:32\",\"2020-12-24T09:04:16\",\"2020-12-24T09:05:32\",\"2020-12-24T09:05:33\",\"2020-12-24T09:09:31\",\"2020-12-24T09:12:49\",\"2020-12-24T09:12:51\",\"2020-12-24T09:13:35\",\"2020-12-24T09:13:38\",\"2020-12-24T09:17:53\",\"2020-12-24T09:18:34\",\"2020-12-24T09:18:36\",\"2020-12-24T09:24:55\",\"2020-12-24T09:25:15\",\"2020-12-24T09:27:02\",\"2020-12-24T09:28:01\",\"2020-12-24T09:37:10\",\"2020-12-24T09:41:49\",\"2020-12-24T09:41:50\",\"2020-12-24T10:03:12\",\"2020-12-24T10:03:14\",\"2020-12-24T10:12:37\",\"2020-12-24T10:24:47\",\"2020-12-24T10:24:48\",\"2020-12-24T10:28:29\",\"2020-12-24T10:29:20\",\"2020-12-24T10:29:21\",\"2020-12-24T10:30:06\",\"2020-12-24T10:40:21\",\"2020-12-24T10:40:22\",\"2020-12-24T10:40:23\",\"2020-12-24T10:44:59\",\"2020-12-24T10:45:01\",\"2020-12-24T10:45:45\",\"2020-12-24T10:45:46\",\"2020-12-24T10:45:48\",\"2020-12-24T10:46:00\",\"2020-12-24T10:46:01\",\"2020-12-24T10:50:48\",\"2020-12-24T10:50:49\",\"2020-12-24T10:50:50\",\"2020-12-24T10:54:35\",\"2020-12-24T10:54:36\",\"2020-12-24T11:08:34\",\"2020-12-24T11:23:02\",\"2020-12-24T11:27:08\",\"2020-12-24T11:29:08\",\"2020-12-24T11:29:10\",\"2020-12-24T11:29:11\",\"2020-12-24T11:32:12\",\"2020-12-24T11:32:13\",\"2020-12-24T11:36:14\",\"2020-12-24T11:38:24\",\"2020-12-24T11:38:25\",\"2020-12-24T11:43:47\",\"2020-12-24T11:43:50\",\"2020-12-24T11:44:25\",\"2020-12-24T11:44:26\",\"2020-12-24T11:44:27\",\"2020-12-24T11:53:43\",\"2020-12-24T11:53:44\",\"2020-12-24T11:53:46\",\"2020-12-24T12:01:51\",\"2020-12-24T12:02:41\",\"2020-12-24T12:11:20\",\"2020-12-24T12:11:21\",\"2020-12-24T12:11:30\",\"2020-12-24T12:11:32\",\"2020-12-24T12:11:58\",\"2020-12-24T12:11:59\",\"2020-12-24T12:13:27\",\"2020-12-24T12:16:01\",\"2020-12-24T12:23:25\",\"2020-12-24T12:23:26\",\"2020-12-24T12:24:35\",\"2020-12-24T12:26:06\",\"2020-12-24T12:26:07\",\"2020-12-24T12:29:25\",\"2020-12-24T12:31:54\",\"2020-12-24T12:31:57\",\"2020-12-24T12:41:00\",\"2020-12-24T12:41:01\",\"2020-12-24T12:42:20\",\"2020-12-24T12:43:58\",\"2020-12-24T12:50:45\",\"2020-12-24T12:50:46\",\"2020-12-24T12:51:52\",\"2020-12-24T12:55:31\",\"2020-12-24T12:56:46\",\"2020-12-24T13:12:16\",\"2020-12-24T13:17:01\",\"2020-12-24T13:18:55\",\"2020-12-24T13:20:47\",\"2020-12-24T13:38:27\",\"2020-12-24T13:40:26\",\"2020-12-24T13:50:19\",\"2020-12-24T13:50:50\",\"2020-12-24T14:06:25\",\"2020-12-24T14:13:41\",\"2020-12-24T14:13:45\",\"2020-12-24T14:16:00\",\"2020-12-24T14:17:42\",\"2020-12-24T14:17:43\",\"2020-12-24T14:27:53\",\"2020-12-24T14:27:54\",\"2020-12-24T14:29:32\",\"2020-12-24T14:38:00\",\"2020-12-24T14:38:02\",\"2020-12-24T14:39:56\",\"2020-12-24T14:46:37\",\"2020-12-24T14:46:38\",\"2020-12-24T14:55:09\",\"2020-12-24T14:55:10\",\"2020-12-24T14:55:11\",\"2020-12-24T14:56:31\",\"2020-12-24T14:58:17\",\"2020-12-24T14:58:19\",\"2020-12-24T15:06:53\",\"2020-12-24T15:06:54\",\"2020-12-24T15:13:20\",\"2020-12-24T15:13:21\",\"2020-12-24T15:17:10\",\"2020-12-24T15:17:19\",\"2020-12-24T15:17:22\",\"2020-12-24T15:19:12\",\"2020-12-24T15:19:17\",\"2020-12-24T15:20:57\",\"2020-12-24T15:21:36\",\"2020-12-24T15:22:12\",\"2020-12-24T15:22:13\",\"2020-12-24T15:23:45\",\"2020-12-24T15:23:46\",\"2020-12-24T15:28:52\",\"2020-12-24T15:32:17\",\"2020-12-24T15:34:17\",\"2020-12-24T15:34:19\",\"2020-12-24T15:39:07\",\"2020-12-24T15:39:08\",\"2020-12-24T15:49:37\",\"2020-12-24T15:50:21\",\"2020-12-24T15:50:26\",\"2020-12-24T15:51:48\",\"2020-12-24T15:51:49\",\"2020-12-24T15:53:12\",\"2020-12-24T15:53:14\",\"2020-12-24T15:56:14\",\"2020-12-24T15:56:15\",\"2020-12-24T15:57:48\",\"2020-12-24T15:57:49\",\"2020-12-24T16:00:24\",\"2020-12-24T16:00:28\",\"2020-12-24T16:00:31\",\"2020-12-24T16:01:09\",\"2020-12-24T16:01:11\",\"2020-12-24T16:09:51\",\"2020-12-24T16:09:56\",\"2020-12-24T16:12:25\",\"2020-12-24T16:12:26\",\"2020-12-24T16:17:48\",\"2020-12-24T16:28:25\",\"2020-12-24T16:28:29\",\"2020-12-24T16:29:34\",\"2020-12-24T16:29:35\",\"2020-12-24T16:29:36\",\"2020-12-24T16:35:38\",\"2020-12-24T16:35:40\",\"2020-12-24T16:39:25\",\"2020-12-24T16:45:39\",\"2020-12-24T16:45:40\",\"2020-12-24T16:48:25\",\"2020-12-24T16:48:27\",\"2020-12-24T16:48:28\",\"2020-12-24T16:52:28\",\"2020-12-24T16:52:29\",\"2020-12-24T16:52:30\",\"2020-12-24T17:01:37\",\"2020-12-24T17:01:38\",\"2020-12-24T17:04:14\",\"2020-12-24T17:04:16\",\"2020-12-24T17:15:35\",\"2020-12-24T17:21:20\",\"2020-12-24T17:28:54\",\"2020-12-24T17:35:20\",\"2020-12-24T17:35:21\",\"2020-12-24T17:35:22\",\"2020-12-24T17:39:54\",\"2020-12-24T17:43:49\",\"2020-12-24T17:43:50\",\"2020-12-24T17:46:46\",\"2020-12-24T17:50:23\",\"2020-12-24T18:00:27\",\"2020-12-24T18:00:29\",\"2020-12-24T18:00:36\",\"2020-12-24T18:00:39\",\"2020-12-24T18:00:45\",\"2020-12-24T18:00:46\",\"2020-12-24T18:02:31\",\"2020-12-24T18:02:33\",\"2020-12-24T18:02:36\",\"2020-12-24T18:03:11\",\"2020-12-24T18:03:15\",\"2020-12-24T18:14:39\",\"2020-12-24T18:17:30\",\"2020-12-24T18:17:56\",\"2020-12-24T18:17:58\",\"2020-12-24T18:18:00\",\"2020-12-24T18:20:22\",\"2020-12-24T18:25:15\",\"2020-12-24T18:33:12\",\"2020-12-24T18:33:17\",\"2020-12-24T18:37:26\",\"2020-12-24T18:37:27\",\"2020-12-24T18:37:28\",\"2020-12-24T18:39:54\",\"2020-12-24T18:41:06\",\"2020-12-24T18:41:07\",\"2020-12-24T18:48:33\",\"2020-12-24T18:50:23\",\"2020-12-24T18:52:49\",\"2020-12-24T18:55:18\",\"2020-12-24T18:55:21\",\"2020-12-24T18:58:31\",\"2020-12-24T18:59:51\",\"2020-12-24T19:10:17\",\"2020-12-24T19:10:18\",\"2020-12-24T19:12:21\",\"2020-12-24T19:17:35\",\"2020-12-24T19:17:36\",\"2020-12-24T19:21:02\",\"2020-12-24T19:24:44\",\"2020-12-24T19:25:10\",\"2020-12-24T19:29:08\",\"2020-12-24T19:29:27\",\"2020-12-24T19:29:28\",\"2020-12-24T19:30:14\",\"2020-12-24T19:30:15\",\"2020-12-24T19:34:24\",\"2020-12-24T19:34:26\",\"2020-12-24T19:36:30\",\"2020-12-24T19:37:23\",\"2020-12-24T19:38:14\",\"2020-12-24T19:38:17\",\"2020-12-24T19:38:18\",\"2020-12-24T19:39:28\",\"2020-12-24T19:42:20\",\"2020-12-24T19:42:22\",\"2020-12-24T19:43:05\",\"2020-12-24T19:44:26\",\"2020-12-24T19:44:27\",\"2020-12-24T19:49:53\",\"2020-12-24T19:49:55\",\"2020-12-24T19:57:08\",\"2020-12-24T19:57:09\",\"2020-12-24T19:57:43\",\"2020-12-24T19:58:22\",\"2020-12-24T20:19:54\",\"2020-12-24T20:19:58\",\"2020-12-24T20:23:43\",\"2020-12-24T20:24:04\",\"2020-12-24T20:24:08\",\"2020-12-24T20:30:32\",\"2020-12-24T20:30:43\",\"2020-12-24T20:30:45\",\"2020-12-24T20:34:53\",\"2020-12-24T20:38:01\",\"2020-12-24T20:38:02\",\"2020-12-24T20:46:51\",\"2020-12-24T20:46:54\",\"2020-12-24T20:48:56\",\"2020-12-24T20:48:57\",\"2020-12-24T20:51:56\",\"2020-12-24T20:51:58\",\"2020-12-24T21:01:52\",\"2020-12-24T21:04:44\",\"2020-12-24T21:04:45\",\"2020-12-24T21:06:34\",\"2020-12-24T21:07:09\",\"2020-12-24T21:13:26\",\"2020-12-24T21:14:00\",\"2020-12-24T21:14:01\",\"2020-12-24T21:14:02\",\"2020-12-24T21:22:40\",\"2020-12-24T21:22:41\",\"2020-12-24T21:23:03\",\"2020-12-24T21:27:16\",\"2020-12-24T21:32:24\",\"2020-12-24T21:34:39\",\"2020-12-24T21:39:07\",\"2020-12-24T21:46:57\",\"2020-12-24T21:47:00\",\"2020-12-24T21:50:40\",\"2020-12-24T22:10:48\",\"2020-12-24T22:10:49\",\"2020-12-24T22:12:20\",\"2020-12-24T22:13:15\",\"2020-12-24T22:13:16\",\"2020-12-24T22:15:42\",\"2020-12-24T22:22:42\",\"2020-12-24T22:22:43\",\"2020-12-24T22:23:02\",\"2020-12-24T22:23:03\",\"2020-12-24T22:24:27\",\"2020-12-24T22:24:30\",\"2020-12-24T22:24:53\",\"2020-12-24T22:29:54\",\"2020-12-24T22:29:55\",\"2020-12-24T22:34:48\",\"2020-12-24T22:36:55\",\"2020-12-24T22:38:20\",\"2020-12-24T22:38:21\",\"2020-12-24T22:41:18\",\"2020-12-24T22:47:09\",\"2020-12-24T22:49:00\",\"2020-12-24T22:50:02\",\"2020-12-24T22:52:22\",\"2020-12-24T22:55:59\",\"2020-12-24T22:56:03\",\"2020-12-24T22:56:07\",\"2020-12-24T22:56:08\",\"2020-12-24T22:58:14\",\"2020-12-24T22:59:03\",\"2020-12-24T23:10:47\",\"2020-12-24T23:10:50\",\"2020-12-24T23:25:19\",\"2020-12-24T23:25:22\",\"2020-12-24T23:29:32\",\"2020-12-24T23:32:07\",\"2020-12-24T23:32:08\",\"2020-12-24T23:32:11\",\"2020-12-24T23:32:12\",\"2020-12-24T23:32:13\",\"2020-12-24T23:37:55\",\"2020-12-24T23:37:56\",\"2020-12-24T23:39:41\",\"2020-12-24T23:46:33\",\"2020-12-24T23:49:04\",\"2020-12-24T23:51:12\",\"2020-12-24T23:51:18\",\"2020-12-24T23:51:20\",\"2020-12-24T23:51:33\",\"2020-12-24T23:51:34\",\"2020-12-24T23:58:31\",\"2020-12-24T23:58:32\",\"2020-12-25T00:14:07\",\"2020-12-25T00:14:11\",\"2020-12-25T00:14:59\",\"2020-12-25T00:15:01\",\"2020-12-25T00:19:20\",\"2020-12-25T00:27:15\",\"2020-12-25T00:27:16\",\"2020-12-25T00:27:50\",\"2020-12-25T00:33:46\",\"2020-12-25T00:36:00\",\"2020-12-25T00:39:18\",\"2020-12-25T00:44:03\",\"2020-12-25T00:48:41\",\"2020-12-25T00:48:42\",\"2020-12-25T01:00:25\",\"2020-12-25T01:00:27\",\"2020-12-25T01:07:19\",\"2020-12-25T01:14:04\",\"2020-12-25T01:14:05\",\"2020-12-25T01:17:44\",\"2020-12-25T01:20:49\",\"2020-12-25T01:20:52\",\"2020-12-25T01:20:58\",\"2020-12-25T01:35:54\",\"2020-12-25T01:41:21\",\"2020-12-25T01:46:24\",\"2020-12-25T01:47:09\",\"2020-12-25T01:59:56\",\"2020-12-25T02:11:22\",\"2020-12-25T02:12:33\",\"2020-12-25T02:14:23\",\"2020-12-25T02:21:13\",\"2020-12-25T02:21:14\",\"2020-12-25T02:26:56\",\"2020-12-25T02:34:47\",\"2020-12-25T02:41:16\",\"2020-12-25T02:45:27\",\"2020-12-25T02:45:28\",\"2020-12-25T02:54:34\",\"2020-12-25T02:54:36\",\"2020-12-25T03:01:56\",\"2020-12-25T03:22:46\",\"2020-12-25T03:22:48\",\"2020-12-25T03:37:36\",\"2020-12-25T03:37:37\",\"2020-12-25T03:37:55\",\"2020-12-25T03:45:40\",\"2020-12-25T03:51:16\",\"2020-12-25T03:59:07\",\"2020-12-25T04:00:05\",\"2020-12-25T04:02:43\",\"2020-12-25T04:17:32\",\"2020-12-25T04:17:33\",\"2020-12-25T04:22:29\",\"2020-12-25T04:22:30\",\"2020-12-25T04:41:02\",\"2020-12-25T04:59:45\",\"2020-12-25T05:01:21\",\"2020-12-25T05:09:22\",\"2020-12-25T05:09:23\",\"2020-12-25T05:10:50\",\"2020-12-25T05:10:51\",\"2020-12-25T05:16:08\",\"2020-12-25T05:16:09\",\"2020-12-25T05:18:25\",\"2020-12-25T05:19:45\",\"2020-12-25T05:30:05\",\"2020-12-25T05:30:07\",\"2020-12-25T05:30:37\",\"2020-12-25T05:30:42\",\"2020-12-25T05:33:57\",\"2020-12-25T05:36:53\",\"2020-12-25T05:36:54\",\"2020-12-25T05:38:15\",\"2020-12-25T05:39:57\",\"2020-12-25T05:39:59\",\"2020-12-25T05:42:31\",\"2020-12-25T05:42:44\",\"2020-12-25T05:42:45\",\"2020-12-25T05:42:46\",\"2020-12-25T05:42:47\",\"2020-12-25T05:44:26\",\"2020-12-25T05:44:28\",\"2020-12-25T05:46:25\",\"2020-12-25T05:46:27\",\"2020-12-25T05:47:05\",\"2020-12-25T05:52:06\",\"2020-12-25T06:01:54\",\"2020-12-25T06:01:57\",\"2020-12-25T06:03:34\",\"2020-12-25T06:03:36\",\"2020-12-25T06:09:02\",\"2020-12-25T06:31:43\",\"2020-12-25T06:34:17\",\"2020-12-25T06:34:18\",\"2020-12-25T06:36:15\",\"2020-12-25T06:36:16\",\"2020-12-25T06:42:43\",\"2020-12-25T07:08:46\",\"2020-12-25T07:11:01\",\"2020-12-25T07:11:02\",\"2020-12-25T07:11:03\",\"2020-12-25T07:11:23\",\"2020-12-25T07:11:25\",\"2020-12-25T07:17:50\",\"2020-12-25T07:18:18\",\"2020-12-25T07:23:21\",\"2020-12-25T07:23:22\",\"2020-12-25T07:24:39\",\"2020-12-25T07:24:43\",\"2020-12-25T07:26:27\",\"2020-12-25T07:27:45\",\"2020-12-25T07:31:07\",\"2020-12-25T07:36:05\",\"2020-12-25T07:37:12\",\"2020-12-25T07:41:44\",\"2020-12-25T07:43:43\",\"2020-12-25T07:43:44\",\"2020-12-25T07:44:59\",\"2020-12-25T07:45:00\",\"2020-12-25T07:45:35\",\"2020-12-25T07:45:37\",\"2020-12-25T07:54:39\",\"2020-12-25T07:55:24\",\"2020-12-25T07:55:25\",\"2020-12-25T07:56:43\",\"2020-12-25T08:07:13\",\"2020-12-25T08:07:14\",\"2020-12-25T08:10:22\",\"2020-12-25T08:11:35\",\"2020-12-25T08:18:45\",\"2020-12-25T08:18:47\",\"2020-12-25T08:19:05\",\"2020-12-25T08:19:06\",\"2020-12-25T08:28:03\",\"2020-12-25T08:28:05\",\"2020-12-25T08:28:06\",\"2020-12-25T08:30:06\",\"2020-12-25T08:33:18\",\"2020-12-25T08:33:21\",\"2020-12-25T08:35:08\",\"2020-12-25T08:35:09\",\"2020-12-25T08:40:00\",\"2020-12-25T08:51:18\",\"2020-12-25T08:56:56\",\"2020-12-25T09:03:16\",\"2020-12-25T09:03:18\",\"2020-12-25T09:07:35\",\"2020-12-25T09:14:45\",\"2020-12-25T09:14:49\",\"2020-12-25T09:25:32\",\"2020-12-25T09:25:33\",\"2020-12-25T09:39:56\",\"2020-12-25T09:39:57\",\"2020-12-25T09:40:15\",\"2020-12-25T09:40:16\",\"2020-12-25T09:44:38\",\"2020-12-25T09:48:28\",\"2020-12-25T09:57:05\",\"2020-12-25T09:57:07\",\"2020-12-25T10:00:24\",\"2020-12-25T10:08:01\",\"2020-12-25T10:08:02\",\"2020-12-25T10:30:26\",\"2020-12-25T10:30:30\",\"2020-12-25T10:31:32\",\"2020-12-25T10:31:33\",\"2020-12-25T10:31:37\",\"2020-12-25T10:47:40\",\"2020-12-25T10:50:13\",\"2020-12-25T10:56:04\",\"2020-12-25T10:58:05\",\"2020-12-25T11:08:56\",\"2020-12-25T11:08:57\",\"2020-12-25T11:19:52\",\"2020-12-25T11:24:00\",\"2020-12-25T11:27:16\",\"2020-12-25T11:32:49\",\"2020-12-25T11:32:50\",\"2020-12-25T11:43:27\",\"2020-12-25T11:43:42\",\"2020-12-25T11:49:23\",\"2020-12-25T11:53:55\",\"2020-12-25T11:53:58\",\"2020-12-25T11:57:12\",\"2020-12-25T11:57:13\",\"2020-12-25T12:02:31\",\"2020-12-25T12:02:32\",\"2020-12-25T12:07:02\",\"2020-12-25T12:07:03\",\"2020-12-25T12:07:41\",\"2020-12-25T12:07:42\",\"2020-12-25T12:12:13\",\"2020-12-25T12:12:16\",\"2020-12-25T12:12:17\",\"2020-12-25T12:12:18\",\"2020-12-25T12:20:11\",\"2020-12-25T12:20:13\",\"2020-12-25T12:20:14\",\"2020-12-25T12:24:18\",\"2020-12-25T12:24:20\",\"2020-12-25T12:41:12\",\"2020-12-25T12:46:52\",\"2020-12-25T12:52:28\",\"2020-12-25T12:54:18\",\"2020-12-25T12:55:24\",\"2020-12-25T13:03:19\",\"2020-12-25T13:03:21\",\"2020-12-25T13:13:27\",\"2020-12-25T13:16:15\",\"2020-12-25T13:16:38\",\"2020-12-25T13:16:40\",\"2020-12-25T13:20:53\",\"2020-12-25T13:20:54\",\"2020-12-25T13:21:47\",\"2020-12-25T13:21:48\",\"2020-12-25T13:31:19\",\"2020-12-25T13:31:20\",\"2020-12-25T13:38:42\",\"2020-12-25T13:42:10\",\"2020-12-25T13:42:11\",\"2020-12-25T13:45:23\",\"2020-12-25T13:45:25\",\"2020-12-25T13:53:18\",\"2020-12-25T13:54:05\",\"2020-12-25T14:00:35\",\"2020-12-25T14:00:46\",\"2020-12-25T14:06:15\",\"2020-12-25T14:06:16\",\"2020-12-25T14:06:17\",\"2020-12-25T14:15:16\",\"2020-12-25T14:15:18\",\"2020-12-25T14:15:19\",\"2020-12-25T14:22:06\",\"2020-12-25T14:22:07\",\"2020-12-25T14:23:47\",\"2020-12-25T14:26:21\",\"2020-12-25T14:35:49\",\"2020-12-25T14:35:50\",\"2020-12-25T14:40:27\",\"2020-12-25T14:40:28\",\"2020-12-25T14:45:19\",\"2020-12-25T14:51:55\",\"2020-12-25T14:54:34\",\"2020-12-25T15:04:51\",\"2020-12-25T15:05:21\",\"2020-12-25T15:05:22\",\"2020-12-25T15:05:33\",\"2020-12-25T15:06:32\",\"2020-12-25T15:10:36\",\"2020-12-25T15:10:58\",\"2020-12-25T15:11:00\",\"2020-12-25T15:20:28\",\"2020-12-25T15:21:16\",\"2020-12-25T15:21:17\",\"2020-12-25T15:25:32\",\"2020-12-25T15:25:33\",\"2020-12-25T15:26:59\",\"2020-12-25T15:27:01\",\"2020-12-25T15:29:39\",\"2020-12-25T15:33:55\",\"2020-12-25T15:33:56\",\"2020-12-25T15:33:57\",\"2020-12-25T15:35:14\",\"2020-12-25T15:36:02\",\"2020-12-25T15:48:07\",\"2020-12-25T15:54:47\",\"2020-12-25T15:54:48\",\"2020-12-25T15:56:45\",\"2020-12-25T16:01:45\",\"2020-12-25T16:01:48\",\"2020-12-25T16:05:47\",\"2020-12-25T16:06:58\",\"2020-12-25T16:08:08\",\"2020-12-25T16:08:16\",\"2020-12-25T16:11:27\",\"2020-12-25T16:12:42\",\"2020-12-25T16:13:47\",\"2020-12-25T16:18:45\",\"2020-12-25T16:18:47\",\"2020-12-25T16:21:40\",\"2020-12-25T16:22:11\",\"2020-12-25T16:22:13\",\"2020-12-25T16:27:29\",\"2020-12-25T16:29:20\",\"2020-12-25T16:29:24\",\"2020-12-25T16:29:25\",\"2020-12-25T16:31:40\",\"2020-12-25T16:31:43\",\"2020-12-25T16:39:20\",\"2020-12-25T16:39:21\",\"2020-12-25T16:44:07\",\"2020-12-25T16:44:09\",\"2020-12-25T16:56:47\",\"2020-12-25T16:58:25\",\"2020-12-25T17:01:36\",\"2020-12-25T17:01:37\",\"2020-12-25T17:01:52\",\"2020-12-25T17:11:01\",\"2020-12-25T17:22:38\",\"2020-12-25T17:22:39\",\"2020-12-25T17:22:40\",\"2020-12-25T17:37:01\",\"2020-12-25T17:39:01\",\"2020-12-25T17:39:02\",\"2020-12-25T17:41:09\",\"2020-12-25T17:47:10\",\"2020-12-25T17:48:17\",\"2020-12-25T17:52:24\",\"2020-12-25T17:59:05\",\"2020-12-25T18:12:43\",\"2020-12-25T18:12:44\",\"2020-12-25T18:12:45\",\"2020-12-25T18:13:46\",\"2020-12-25T18:13:48\",\"2020-12-25T18:17:17\",\"2020-12-25T18:17:19\",\"2020-12-25T18:35:01\",\"2020-12-25T18:35:04\",\"2020-12-25T18:37:44\",\"2020-12-25T18:37:45\",\"2020-12-25T18:42:02\",\"2020-12-25T18:43:50\",\"2020-12-25T18:43:52\",\"2020-12-25T18:51:05\",\"2020-12-25T18:52:58\",\"2020-12-25T19:10:00\",\"2020-12-25T19:13:20\",\"2020-12-25T19:13:23\",\"2020-12-25T19:13:29\",\"2020-12-25T19:13:30\",\"2020-12-25T19:19:13\",\"2020-12-25T19:26:39\",\"2020-12-25T19:26:40\",\"2020-12-25T19:31:39\",\"2020-12-25T19:34:38\",\"2020-12-25T19:34:40\",\"2020-12-25T19:34:46\",\"2020-12-25T19:36:01\",\"2020-12-25T19:44:25\",\"2020-12-25T19:45:34\",\"2020-12-25T19:45:45\",\"2020-12-25T19:46:25\",\"2020-12-25T19:59:12\",\"2020-12-25T19:59:15\",\"2020-12-25T20:03:33\",\"2020-12-25T20:29:34\",\"2020-12-25T20:29:38\",\"2020-12-25T20:33:27\",\"2020-12-25T20:33:28\",\"2020-12-25T20:45:24\",\"2020-12-25T20:54:29\",\"2020-12-25T20:54:32\",\"2020-12-25T21:02:07\",\"2020-12-25T21:04:29\",\"2020-12-25T21:13:45\",\"2020-12-25T21:28:00\",\"2020-12-25T21:28:01\",\"2020-12-25T21:33:52\",\"2020-12-25T21:35:01\",\"2020-12-25T21:50:57\",\"2020-12-25T21:50:58\",\"2020-12-25T21:58:03\",\"2020-12-25T22:00:38\",\"2020-12-25T22:00:40\",\"2020-12-25T22:02:21\",\"2020-12-25T22:09:10\",\"2020-12-25T22:09:11\",\"2020-12-25T22:09:12\",\"2020-12-25T22:16:54\",\"2020-12-25T22:16:55\",\"2020-12-25T22:17:28\",\"2020-12-25T22:17:32\",\"2020-12-25T22:24:16\",\"2020-12-25T22:36:41\",\"2020-12-25T22:50:51\",\"2020-12-25T23:03:35\",\"2020-12-25T23:06:58\",\"2020-12-25T23:06:59\",\"2020-12-25T23:10:37\",\"2020-12-25T23:10:39\",\"2020-12-25T23:14:08\",\"2020-12-25T23:14:09\",\"2020-12-25T23:16:50\",\"2020-12-25T23:16:51\",\"2020-12-25T23:22:12\",\"2020-12-25T23:22:13\",\"2020-12-25T23:25:15\",\"2020-12-25T23:51:06\",\"2020-12-26T00:05:35\",\"2020-12-26T00:05:38\",\"2020-12-26T00:09:03\",\"2020-12-26T00:17:12\",\"2020-12-26T00:17:14\",\"2020-12-26T00:22:39\",\"2020-12-26T00:22:40\",\"2020-12-26T00:26:49\",\"2020-12-26T00:29:06\",\"2020-12-26T00:29:08\",\"2020-12-26T00:53:49\",\"2020-12-26T00:58:05\",\"2020-12-26T00:58:06\",\"2020-12-26T01:01:30\",\"2020-12-26T01:07:45\",\"2020-12-26T01:07:47\",\"2020-12-26T01:17:13\",\"2020-12-26T01:21:18\",\"2020-12-26T01:21:19\",\"2020-12-26T01:21:20\",\"2020-12-26T01:23:38\",\"2020-12-26T01:23:42\",\"2020-12-26T01:28:31\",\"2020-12-26T01:28:32\",\"2020-12-26T01:30:09\",\"2020-12-26T01:40:07\",\"2020-12-26T01:40:11\",\"2020-12-26T01:46:07\",\"2020-12-26T01:51:59\",\"2020-12-26T01:52:37\",\"2020-12-26T01:57:42\",\"2020-12-26T02:07:57\",\"2020-12-26T02:07:58\",\"2020-12-26T02:10:28\",\"2020-12-26T02:13:31\",\"2020-12-26T02:13:33\",\"2020-12-26T02:16:25\",\"2020-12-26T02:16:27\",\"2020-12-26T02:22:53\",\"2020-12-26T02:24:05\",\"2020-12-26T02:24:06\",\"2020-12-26T02:25:28\",\"2020-12-26T02:25:29\",\"2020-12-26T02:27:34\",\"2020-12-26T02:27:35\",\"2020-12-26T02:35:24\",\"2020-12-26T02:36:30\",\"2020-12-26T02:40:34\",\"2020-12-26T02:40:35\",\"2020-12-26T02:48:30\",\"2020-12-26T02:49:21\",\"2020-12-26T02:56:29\",\"2020-12-26T02:58:13\",\"2020-12-26T03:15:13\",\"2020-12-26T03:15:15\",\"2020-12-26T03:15:18\",\"2020-12-26T03:16:00\",\"2020-12-26T03:16:01\",\"2020-12-26T03:17:15\",\"2020-12-26T03:17:17\",\"2020-12-26T03:25:38\",\"2020-12-26T03:28:29\",\"2020-12-26T03:28:30\",\"2020-12-26T03:29:02\",\"2020-12-26T03:38:25\",\"2020-12-26T03:49:29\",\"2020-12-26T03:50:10\",\"2020-12-26T03:51:51\",\"2020-12-26T04:01:04\",\"2020-12-26T04:04:11\",\"2020-12-26T04:04:12\",\"2020-12-26T04:10:04\",\"2020-12-26T04:20:50\",\"2020-12-26T04:29:29\",\"2020-12-26T04:29:30\",\"2020-12-26T04:37:34\",\"2020-12-26T04:40:06\",\"2020-12-26T04:44:08\",\"2020-12-26T04:45:05\",\"2020-12-26T04:45:06\",\"2020-12-26T04:55:27\",\"2020-12-26T04:55:28\",\"2020-12-26T04:55:29\",\"2020-12-26T04:58:12\",\"2020-12-26T04:58:13\",\"2020-12-26T05:01:48\",\"2020-12-26T05:01:50\",\"2020-12-26T05:01:53\",\"2020-12-26T05:07:38\",\"2020-12-26T05:09:27\",\"2020-12-26T05:12:50\",\"2020-12-26T05:19:22\",\"2020-12-26T05:19:23\",\"2020-12-26T05:23:46\",\"2020-12-26T05:36:13\",\"2020-12-26T05:39:50\",\"2020-12-26T05:56:50\",\"2020-12-26T06:03:00\",\"2020-12-26T06:03:01\",\"2020-12-26T06:11:19\",\"2020-12-26T06:12:09\",\"2020-12-26T06:12:11\",\"2020-12-26T06:23:36\",\"2020-12-26T06:34:42\",\"2020-12-26T06:34:43\",\"2020-12-26T06:46:48\",\"2020-12-26T06:50:10\",\"2020-12-26T06:50:11\",\"2020-12-26T06:58:14\",\"2020-12-26T06:58:19\",\"2020-12-26T07:05:55\",\"2020-12-26T07:05:57\",\"2020-12-26T07:05:58\",\"2020-12-26T07:07:18\",\"2020-12-26T07:09:01\",\"2020-12-26T07:20:07\",\"2020-12-26T07:25:12\",\"2020-12-26T07:25:14\",\"2020-12-26T07:25:47\",\"2020-12-26T07:38:23\",\"2020-12-26T07:50:47\",\"2020-12-26T07:50:49\",\"2020-12-26T08:05:20\",\"2020-12-26T08:05:21\",\"2020-12-26T08:17:35\",\"2020-12-26T08:17:37\",\"2020-12-26T08:26:48\",\"2020-12-26T08:26:50\",\"2020-12-26T08:41:28\",\"2020-12-26T08:42:44\",\"2020-12-26T08:42:46\",\"2020-12-26T08:42:47\",\"2020-12-26T08:43:23\",\"2020-12-26T08:44:31\",\"2020-12-26T08:47:27\",\"2020-12-26T08:47:29\",\"2020-12-26T08:47:30\",\"2020-12-26T08:52:35\",\"2020-12-26T08:56:55\",\"2020-12-26T09:06:49\",\"2020-12-26T09:13:14\",\"2020-12-26T09:13:16\",\"2020-12-26T09:30:34\",\"2020-12-26T09:31:43\",\"2020-12-26T09:31:44\",\"2020-12-26T09:31:46\",\"2020-12-26T09:35:48\",\"2020-12-26T09:35:49\",\"2020-12-26T09:39:25\",\"2020-12-26T09:39:27\",\"2020-12-26T09:43:02\",\"2020-12-26T09:43:03\",\"2020-12-26T09:51:00\",\"2020-12-26T09:53:02\",\"2020-12-26T10:04:22\",\"2020-12-26T10:10:34\",\"2020-12-26T10:10:40\",\"2020-12-26T10:11:12\",\"2020-12-26T10:11:13\",\"2020-12-26T10:15:50\",\"2020-12-26T10:15:52\",\"2020-12-26T10:22:08\",\"2020-12-26T10:40:08\",\"2020-12-26T10:43:10\",\"2020-12-26T10:46:13\",\"2020-12-26T10:46:26\",\"2020-12-26T10:46:31\",\"2020-12-26T10:51:56\",\"2020-12-26T10:53:29\",\"2020-12-26T10:54:11\",\"2020-12-26T11:01:48\",\"2020-12-26T11:03:48\",\"2020-12-26T11:03:50\",\"2020-12-26T11:06:24\",\"2020-12-26T11:06:28\",\"2020-12-26T11:26:48\",\"2020-12-26T11:26:51\",\"2020-12-26T11:30:04\",\"2020-12-26T11:30:05\",\"2020-12-26T11:37:30\",\"2020-12-26T11:55:11\",\"2020-12-26T11:55:12\",\"2020-12-26T12:02:46\",\"2020-12-26T12:02:48\",\"2020-12-26T12:02:49\",\"2020-12-26T12:20:40\",\"2020-12-26T12:21:10\",\"2020-12-26T12:21:12\",\"2020-12-26T12:27:26\",\"2020-12-26T12:27:28\",\"2020-12-26T12:30:34\",\"2020-12-26T12:40:38\",\"2020-12-26T12:40:39\",\"2020-12-26T12:43:23\",\"2020-12-26T12:55:12\",\"2020-12-26T12:55:13\",\"2020-12-26T12:55:15\",\"2020-12-26T12:57:01\",\"2020-12-26T13:02:45\",\"2020-12-26T13:02:53\",\"2020-12-26T13:02:54\",\"2020-12-26T13:15:21\",\"2020-12-26T13:17:18\",\"2020-12-26T13:22:01\",\"2020-12-26T13:22:02\",\"2020-12-26T13:29:36\",\"2020-12-26T13:29:38\",\"2020-12-26T13:32:23\",\"2020-12-26T13:32:25\",\"2020-12-26T13:32:47\",\"2020-12-26T13:39:55\",\"2020-12-26T13:42:50\",\"2020-12-26T13:42:51\",\"2020-12-26T13:42:52\",\"2020-12-26T13:47:19\",\"2020-12-26T13:49:51\",\"2020-12-26T13:57:18\",\"2020-12-26T13:57:20\",\"2020-12-26T14:03:14\",\"2020-12-26T14:04:07\",\"2020-12-26T14:04:10\",\"2020-12-26T14:08:36\",\"2020-12-26T14:13:27\",\"2020-12-26T14:32:37\",\"2020-12-26T14:32:38\",\"2020-12-26T14:35:03\",\"2020-12-26T14:39:50\",\"2020-12-26T14:39:53\",\"2020-12-26T14:55:43\",\"2020-12-26T14:55:45\",\"2020-12-26T14:55:48\",\"2020-12-26T15:05:15\",\"2020-12-26T15:06:39\",\"2020-12-26T15:08:10\",\"2020-12-26T15:08:12\",\"2020-12-26T15:16:43\",\"2020-12-26T15:18:10\",\"2020-12-26T15:21:00\",\"2020-12-26T15:22:11\",\"2020-12-26T15:22:12\",\"2020-12-26T15:23:35\",\"2020-12-26T15:23:37\",\"2020-12-26T15:35:47\",\"2020-12-26T15:47:09\",\"2020-12-26T15:49:50\",\"2020-12-26T15:50:01\",\"2020-12-26T15:58:25\",\"2020-12-26T15:58:27\",\"2020-12-26T15:59:29\",\"2020-12-26T16:04:42\",\"2020-12-26T16:24:44\",\"2020-12-26T16:32:49\",\"2020-12-26T16:32:50\",\"2020-12-26T16:37:08\",\"2020-12-26T16:37:11\",\"2020-12-26T16:37:12\",\"2020-12-26T16:55:25\",\"2020-12-26T16:55:27\",\"2020-12-26T17:01:17\",\"2020-12-26T17:01:18\",\"2020-12-26T17:03:23\",\"2020-12-26T17:03:35\",\"2020-12-26T17:03:37\",\"2020-12-26T17:13:57\",\"2020-12-26T17:14:46\",\"2020-12-26T17:14:49\",\"2020-12-26T17:27:54\",\"2020-12-26T17:41:30\",\"2020-12-26T17:42:35\",\"2020-12-26T17:54:19\",\"2020-12-26T17:59:48\",\"2020-12-26T18:03:51\",\"2020-12-26T18:03:53\",\"2020-12-26T18:10:54\",\"2020-12-26T18:10:56\",\"2020-12-26T18:22:55\",\"2020-12-26T18:30:01\",\"2020-12-26T18:31:05\",\"2020-12-26T18:32:08\",\"2020-12-26T18:35:09\",\"2020-12-26T18:35:10\",\"2020-12-26T18:36:30\",\"2020-12-26T18:36:32\",\"2020-12-26T18:36:33\",\"2020-12-26T18:46:42\",\"2020-12-26T18:46:44\",\"2020-12-26T18:51:20\",\"2020-12-26T18:51:21\",\"2020-12-26T18:58:27\",\"2020-12-26T18:58:28\",\"2020-12-26T18:58:30\",\"2020-12-26T19:00:19\",\"2020-12-26T19:01:45\",\"2020-12-26T19:06:12\",\"2020-12-26T19:06:13\",\"2020-12-26T19:10:56\",\"2020-12-26T19:10:59\",\"2020-12-26T19:26:48\",\"2020-12-26T19:41:05\",\"2020-12-26T19:43:17\",\"2020-12-26T19:43:18\",\"2020-12-26T19:46:20\",\"2020-12-26T19:54:18\",\"2020-12-26T19:55:15\",\"2020-12-26T19:55:16\",\"2020-12-26T20:03:54\",\"2020-12-26T20:03:55\",\"2020-12-26T20:04:29\",\"2020-12-26T20:04:30\",\"2020-12-26T20:09:29\",\"2020-12-26T20:17:23\",\"2020-12-26T20:17:24\",\"2020-12-26T20:24:44\",\"2020-12-26T20:24:47\",\"2020-12-26T20:30:32\",\"2020-12-26T20:51:58\",\"2020-12-26T20:51:59\",\"2020-12-26T21:06:46\",\"2020-12-26T21:14:28\",\"2020-12-26T21:21:59\",\"2020-12-26T21:22:01\",\"2020-12-26T21:35:12\",\"2020-12-26T21:36:09\",\"2020-12-26T21:36:10\",\"2020-12-26T21:38:17\",\"2020-12-26T21:38:19\",\"2020-12-26T21:44:00\",\"2020-12-26T21:47:28\",\"2020-12-26T21:49:02\",\"2020-12-26T21:54:53\",\"2020-12-26T22:01:35\",\"2020-12-26T22:09:59\",\"2020-12-26T22:10:00\",\"2020-12-26T22:27:20\",\"2020-12-26T22:36:16\",\"2020-12-26T22:46:55\",\"2020-12-26T22:46:56\",\"2020-12-26T23:02:20\",\"2020-12-26T23:16:36\",\"2020-12-26T23:16:56\",\"2020-12-26T23:18:53\",\"2020-12-26T23:22:43\",\"2020-12-26T23:33:53\",\"2020-12-26T23:33:55\",\"2020-12-26T23:43:55\",\"2020-12-26T23:43:56\",\"2020-12-26T23:46:30\",\"2020-12-27T00:06:05\",\"2020-12-27T00:06:06\",\"2020-12-27T00:10:04\",\"2020-12-27T00:25:34\",\"2020-12-27T00:32:13\",\"2020-12-27T00:32:14\",\"2020-12-27T00:32:22\",\"2020-12-27T00:32:24\",\"2020-12-27T00:44:50\",\"2020-12-27T00:48:52\",\"2020-12-27T00:48:54\",\"2020-12-27T00:55:57\",\"2020-12-27T00:55:59\",\"2020-12-27T00:57:14\",\"2020-12-27T01:00:52\",\"2020-12-27T01:03:25\",\"2020-12-27T01:03:26\",\"2020-12-27T01:16:05\",\"2020-12-27T01:19:09\",\"2020-12-27T01:31:42\",\"2020-12-27T01:31:43\",\"2020-12-27T01:38:27\",\"2020-12-27T02:04:13\",\"2020-12-27T02:16:08\",\"2020-12-27T02:28:20\",\"2020-12-27T02:28:23\",\"2020-12-27T02:29:23\",\"2020-12-27T02:29:24\",\"2020-12-27T02:48:26\",\"2020-12-27T02:51:10\",\"2020-12-27T02:51:12\",\"2020-12-27T03:09:23\",\"2020-12-27T03:09:24\",\"2020-12-27T03:18:49\",\"2020-12-27T03:18:50\",\"2020-12-27T03:20:06\",\"2020-12-27T03:20:10\",\"2020-12-27T03:23:35\",\"2020-12-27T03:30:43\",\"2020-12-27T03:30:44\",\"2020-12-27T03:32:49\",\"2020-12-27T03:50:01\",\"2020-12-27T03:57:00\",\"2020-12-27T03:57:03\",\"2020-12-27T03:58:31\",\"2020-12-27T03:58:32\",\"2020-12-27T04:08:21\",\"2020-12-27T04:08:22\",\"2020-12-27T04:14:07\",\"2020-12-27T04:14:10\",\"2020-12-27T04:21:16\",\"2020-12-27T04:26:34\",\"2020-12-27T04:29:21\",\"2020-12-27T04:31:45\",\"2020-12-27T04:31:47\",\"2020-12-27T04:32:21\",\"2020-12-27T04:40:49\",\"2020-12-27T04:57:36\",\"2020-12-27T05:01:49\",\"2020-12-27T05:06:08\",\"2020-12-27T05:06:09\",\"2020-12-27T05:09:22\",\"2020-12-27T05:09:25\",\"2020-12-27T05:17:41\",\"2020-12-27T05:17:42\",\"2020-12-27T05:17:43\",\"2020-12-27T05:18:52\",\"2020-12-27T05:19:02\",\"2020-12-27T05:19:10\",\"2020-12-27T05:32:10\",\"2020-12-27T05:33:50\",\"2020-12-27T05:35:55\",\"2020-12-27T05:44:33\",\"2020-12-27T05:47:33\",\"2020-12-27T05:47:35\",\"2020-12-27T05:51:12\",\"2020-12-27T05:51:15\",\"2020-12-27T05:56:02\",\"2020-12-27T05:56:08\",\"2020-12-27T06:03:06\",\"2020-12-27T06:05:05\",\"2020-12-27T06:05:06\",\"2020-12-27T06:10:30\",\"2020-12-27T06:10:33\",\"2020-12-27T06:13:20\",\"2020-12-27T06:13:21\",\"2020-12-27T06:14:30\",\"2020-12-27T06:15:17\",\"2020-12-27T06:15:18\",\"2020-12-27T06:23:36\",\"2020-12-27T06:23:44\",\"2020-12-27T06:24:14\",\"2020-12-27T06:40:05\",\"2020-12-27T06:40:06\",\"2020-12-27T06:43:59\",\"2020-12-27T06:44:00\",\"2020-12-27T06:46:45\",\"2020-12-27T06:46:47\",\"2020-12-27T06:51:46\",\"2020-12-27T06:51:47\",\"2020-12-27T06:53:12\",\"2020-12-27T07:06:36\",\"2020-12-27T07:26:26\",\"2020-12-27T07:26:27\",\"2020-12-27T07:27:50\",\"2020-12-27T07:32:28\",\"2020-12-27T07:48:45\",\"2020-12-27T08:06:32\",\"2020-12-27T08:09:52\",\"2020-12-27T08:09:53\",\"2020-12-27T08:11:11\",\"2020-12-27T08:11:12\",\"2020-12-27T08:23:49\",\"2020-12-27T08:23:51\",\"2020-12-27T08:32:12\",\"2020-12-27T08:33:12\",\"2020-12-27T08:38:51\",\"2020-12-27T08:42:30\",\"2020-12-27T08:53:44\",\"2020-12-27T08:55:47\",\"2020-12-27T09:05:55\",\"2020-12-27T09:05:58\",\"2020-12-27T09:05:59\",\"2020-12-27T09:07:59\",\"2020-12-27T09:08:00\",\"2020-12-27T09:09:29\",\"2020-12-27T09:09:30\",\"2020-12-27T09:09:31\",\"2020-12-27T09:11:58\",\"2020-12-27T09:15:42\",\"2020-12-27T09:15:44\",\"2020-12-27T09:16:07\",\"2020-12-27T09:16:08\",\"2020-12-27T09:20:32\",\"2020-12-27T09:22:36\",\"2020-12-27T09:23:58\",\"2020-12-27T09:24:00\",\"2020-12-27T09:27:49\",\"2020-12-27T09:30:34\",\"2020-12-27T09:38:09\",\"2020-12-27T09:38:10\",\"2020-12-27T09:48:25\",\"2020-12-27T09:48:27\",\"2020-12-27T09:53:59\",\"2020-12-27T09:54:49\",\"2020-12-27T09:56:48\",\"2020-12-27T09:56:49\",\"2020-12-27T09:58:36\",\"2020-12-27T10:02:48\",\"2020-12-27T10:02:51\",\"2020-12-27T10:07:20\",\"2020-12-27T10:08:21\",\"2020-12-27T10:09:04\",\"2020-12-27T10:16:25\",\"2020-12-27T10:16:26\",\"2020-12-27T10:21:13\",\"2020-12-27T10:24:52\",\"2020-12-27T10:24:53\",\"2020-12-27T10:34:03\",\"2020-12-27T10:34:07\",\"2020-12-27T10:34:29\",\"2020-12-27T10:37:40\",\"2020-12-27T10:37:41\",\"2020-12-27T10:37:42\",\"2020-12-27T10:44:03\",\"2020-12-27T10:48:40\",\"2020-12-27T10:53:34\",\"2020-12-27T11:02:28\",\"2020-12-27T11:04:12\",\"2020-12-27T11:04:14\",\"2020-12-27T11:05:28\",\"2020-12-27T11:05:30\",\"2020-12-27T11:17:52\",\"2020-12-27T11:17:53\",\"2020-12-27T11:21:03\",\"2020-12-27T11:39:01\",\"2020-12-27T11:39:03\",\"2020-12-27T11:47:28\",\"2020-12-27T11:47:29\",\"2020-12-27T11:50:00\",\"2020-12-27T11:50:03\",\"2020-12-27T11:57:53\",\"2020-12-27T11:57:58\",\"2020-12-27T12:02:43\",\"2020-12-27T12:06:15\",\"2020-12-27T12:06:16\",\"2020-12-27T12:06:17\",\"2020-12-27T12:11:01\",\"2020-12-27T12:11:02\",\"2020-12-27T12:11:16\",\"2020-12-27T12:11:18\",\"2020-12-27T12:15:34\",\"2020-12-27T12:21:41\",\"2020-12-27T12:21:42\",\"2020-12-27T12:57:59\",\"2020-12-27T13:02:06\",\"2020-12-27T13:07:16\",\"2020-12-27T13:09:36\",\"2020-12-27T13:14:39\",\"2020-12-27T13:16:49\",\"2020-12-27T13:17:58\",\"2020-12-27T13:42:56\",\"2020-12-27T13:42:57\",\"2020-12-27T13:51:14\",\"2020-12-27T14:07:12\",\"2020-12-27T14:10:22\",\"2020-12-27T14:10:23\",\"2020-12-27T14:13:23\",\"2020-12-27T14:13:24\",\"2020-12-27T14:32:34\",\"2020-12-27T14:32:35\",\"2020-12-27T14:33:42\",\"2020-12-27T14:34:06\",\"2020-12-27T14:40:15\",\"2020-12-27T15:02:38\",\"2020-12-27T15:02:40\",\"2020-12-27T15:03:47\",\"2020-12-27T15:22:57\",\"2020-12-27T15:37:03\",\"2020-12-27T15:37:05\",\"2020-12-27T15:39:00\",\"2020-12-27T15:39:01\",\"2020-12-27T15:58:14\",\"2020-12-27T16:00:05\",\"2020-12-27T16:05:22\",\"2020-12-27T16:09:12\",\"2020-12-27T16:10:40\",\"2020-12-27T16:12:48\",\"2020-12-27T16:25:17\",\"2020-12-27T16:25:19\",\"2020-12-27T16:27:52\",\"2020-12-27T16:27:53\",\"2020-12-27T16:30:46\",\"2020-12-27T16:35:13\",\"2020-12-27T16:42:12\",\"2020-12-27T16:43:03\",\"2020-12-27T16:49:52\",\"2020-12-27T16:49:55\",\"2020-12-27T16:50:13\",\"2020-12-27T16:50:14\",\"2020-12-27T17:14:50\",\"2020-12-27T17:28:25\",\"2020-12-27T17:42:13\",\"2020-12-27T17:43:12\",\"2020-12-27T17:43:14\",\"2020-12-27T17:43:52\",\"2020-12-27T18:03:06\",\"2020-12-27T18:03:07\",\"2020-12-27T18:20:43\",\"2020-12-27T18:20:46\",\"2020-12-27T18:32:20\",\"2020-12-27T18:32:21\",\"2020-12-27T18:32:26\",\"2020-12-27T18:37:28\",\"2020-12-27T18:37:44\",\"2020-12-27T18:54:59\",\"2020-12-27T18:55:01\",\"2020-12-27T18:55:24\",\"2020-12-27T18:55:25\",\"2020-12-27T19:00:41\",\"2020-12-27T19:00:44\",\"2020-12-27T19:17:33\",\"2020-12-27T19:19:57\",\"2020-12-27T19:20:02\",\"2020-12-27T19:25:13\",\"2020-12-27T19:25:14\",\"2020-12-27T19:25:15\",\"2020-12-27T19:41:45\",\"2020-12-27T19:44:36\",\"2020-12-27T19:44:38\",\"2020-12-27T19:44:39\",\"2020-12-27T19:44:43\",\"2020-12-27T19:44:45\",\"2020-12-27T19:49:26\",\"2020-12-27T19:49:27\",\"2020-12-27T19:49:28\",\"2020-12-27T19:50:15\",\"2020-12-27T20:01:50\",\"2020-12-27T20:01:53\",\"2020-12-27T20:02:05\",\"2020-12-27T20:08:50\",\"2020-12-27T20:08:52\",\"2020-12-27T20:12:40\",\"2020-12-27T20:12:43\",\"2020-12-27T20:25:00\",\"2020-12-27T20:25:04\",\"2020-12-27T20:27:14\",\"2020-12-27T20:27:15\",\"2020-12-27T20:47:41\",\"2020-12-27T20:50:10\",\"2020-12-27T21:02:28\",\"2020-12-27T21:05:21\",\"2020-12-27T21:08:18\",\"2020-12-27T21:08:20\",\"2020-12-27T21:13:28\",\"2020-12-27T21:13:29\",\"2020-12-27T21:16:07\",\"2020-12-27T21:23:22\",\"2020-12-27T21:29:39\",\"2020-12-27T21:46:11\",\"2020-12-27T21:46:13\",\"2020-12-27T21:53:25\",\"2020-12-27T21:53:27\",\"2020-12-27T22:03:05\",\"2020-12-27T22:03:08\",\"2020-12-27T22:04:29\",\"2020-12-27T22:09:33\",\"2020-12-27T22:09:34\",\"2020-12-27T22:13:32\",\"2020-12-27T22:13:33\",\"2020-12-27T22:19:20\",\"2020-12-27T22:19:23\",\"2020-12-27T22:27:07\",\"2020-12-27T22:27:10\",\"2020-12-27T22:41:33\",\"2020-12-27T22:41:35\",\"2020-12-27T22:45:52\",\"2020-12-27T22:47:00\",\"2020-12-27T22:47:02\",\"2020-12-27T22:47:03\",\"2020-12-27T22:50:46\",\"2020-12-27T22:50:53\",\"2020-12-27T23:07:47\",\"2020-12-27T23:07:48\",\"2020-12-27T23:09:35\",\"2020-12-27T23:09:46\",\"2020-12-27T23:09:49\",\"2020-12-27T23:11:48\",\"2020-12-27T23:14:23\",\"2020-12-27T23:29:42\",\"2020-12-27T23:53:30\",\"2020-12-28T00:01:24\",\"2020-12-28T00:01:25\",\"2020-12-28T00:07:09\",\"2020-12-28T00:07:10\",\"2020-12-28T00:16:28\",\"2020-12-28T00:22:28\",\"2020-12-28T00:27:50\",\"2020-12-28T00:28:07\",\"2020-12-28T00:30:53\",\"2020-12-28T00:42:30\",\"2020-12-28T00:42:32\",\"2020-12-28T00:58:47\",\"2020-12-28T01:00:09\",\"2020-12-28T01:08:52\",\"2020-12-28T01:13:16\",\"2020-12-28T01:19:04\",\"2020-12-28T01:19:06\",\"2020-12-28T01:34:55\",\"2020-12-28T01:46:43\",\"2020-12-28T01:47:32\",\"2020-12-28T01:49:35\",\"2020-12-28T01:59:23\",\"2020-12-28T02:03:35\",\"2020-12-28T02:03:37\",\"2020-12-28T02:08:47\",\"2020-12-28T02:08:48\",\"2020-12-28T02:08:49\",\"2020-12-28T02:24:03\",\"2020-12-28T02:24:06\",\"2020-12-28T02:37:47\",\"2020-12-28T02:37:48\",\"2020-12-28T02:40:10\",\"2020-12-28T02:40:45\",\"2020-12-28T02:48:00\",\"2020-12-28T02:52:07\",\"2020-12-28T02:52:11\",\"2020-12-28T02:52:36\",\"2020-12-28T02:52:37\",\"2020-12-28T03:01:18\",\"2020-12-28T03:01:19\",\"2020-12-28T03:36:22\",\"2020-12-28T03:36:23\",\"2020-12-28T03:37:12\",\"2020-12-28T03:55:24\",\"2020-12-28T03:55:47\",\"2020-12-28T03:55:51\",\"2020-12-28T03:59:40\",\"2020-12-28T04:14:31\",\"2020-12-28T04:18:00\",\"2020-12-28T04:18:01\",\"2020-12-28T04:20:27\",\"2020-12-28T04:20:29\",\"2020-12-28T04:23:22\",\"2020-12-28T04:23:23\",\"2020-12-28T04:34:23\",\"2020-12-28T04:36:12\",\"2020-12-28T04:51:26\",\"2020-12-28T04:56:47\",\"2020-12-28T04:56:58\",\"2020-12-28T05:00:41\",\"2020-12-28T05:13:33\",\"2020-12-28T05:13:59\",\"2020-12-28T05:25:32\",\"2020-12-28T05:25:35\",\"2020-12-28T05:29:21\",\"2020-12-28T05:30:38\",\"2020-12-28T05:43:04\",\"2020-12-28T05:46:25\",\"2020-12-28T05:46:27\",\"2020-12-28T05:48:23\",\"2020-12-28T06:06:54\",\"2020-12-28T06:06:55\",\"2020-12-28T06:08:43\",\"2020-12-28T06:08:56\",\"2020-12-28T06:08:58\",\"2020-12-28T06:09:21\",\"2020-12-28T06:10:41\",\"2020-12-28T06:10:45\",\"2020-12-28T06:12:30\",\"2020-12-28T06:14:13\",\"2020-12-28T06:14:14\",\"2020-12-28T06:34:29\",\"2020-12-28T06:36:28\",\"2020-12-28T06:38:48\",\"2020-12-28T07:01:24\",\"2020-12-28T07:01:27\",\"2020-12-28T07:04:30\",\"2020-12-28T07:06:01\",\"2020-12-28T07:09:33\",\"2020-12-28T07:11:31\",\"2020-12-28T07:11:34\",\"2020-12-28T07:17:03\",\"2020-12-28T07:17:06\",\"2020-12-28T07:17:49\",\"2020-12-28T07:34:55\",\"2020-12-28T07:34:58\",\"2020-12-28T07:43:57\",\"2020-12-28T07:56:15\",\"2020-12-28T07:56:18\",\"2020-12-28T08:09:51\",\"2020-12-28T08:09:52\",\"2020-12-28T08:15:34\",\"2020-12-28T08:35:45\",\"2020-12-28T08:35:46\",\"2020-12-28T08:44:14\",\"2020-12-28T08:45:19\",\"2020-12-28T08:45:20\",\"2020-12-28T08:53:05\",\"2020-12-28T08:53:30\",\"2020-12-28T08:53:31\",\"2020-12-28T08:58:53\",\"2020-12-28T08:58:54\",\"2020-12-28T09:20:55\",\"2020-12-28T09:28:30\",\"2020-12-28T09:32:11\",\"2020-12-28T09:45:33\",\"2020-12-28T09:45:36\",\"2020-12-28T09:47:11\",\"2020-12-28T09:55:02\",\"2020-12-28T09:55:03\",\"2020-12-28T10:05:18\",\"2020-12-28T10:05:43\",\"2020-12-28T10:05:47\",\"2020-12-28T10:14:45\",\"2020-12-28T10:21:59\",\"2020-12-28T10:22:02\",\"2020-12-28T10:49:14\",\"2020-12-28T10:49:17\",\"2020-12-28T10:55:00\",\"2020-12-28T10:55:03\",\"2020-12-28T10:59:59\",\"2020-12-28T11:00:22\",\"2020-12-28T11:15:35\",\"2020-12-28T11:15:41\",\"2020-12-28T11:28:31\",\"2020-12-28T11:28:33\",\"2020-12-28T11:37:21\",\"2020-12-28T11:52:46\",\"2020-12-28T11:52:50\",\"2020-12-28T11:52:56\",\"2020-12-28T11:58:22\",\"2020-12-28T11:58:23\",\"2020-12-28T12:13:03\",\"2020-12-28T12:13:06\",\"2020-12-28T12:22:31\",\"2020-12-28T12:28:51\",\"2020-12-28T12:31:09\",\"2020-12-28T12:42:31\",\"2020-12-28T12:42:32\",\"2020-12-28T13:03:45\",\"2020-12-28T13:09:06\",\"2020-12-28T13:10:36\",\"2020-12-28T13:12:30\",\"2020-12-28T13:18:44\",\"2020-12-28T13:41:59\",\"2020-12-28T13:42:00\",\"2020-12-28T13:46:13\",\"2020-12-28T13:46:15\",\"2020-12-28T13:49:06\",\"2020-12-28T13:49:08\",\"2020-12-28T13:53:30\",\"2020-12-28T13:53:31\",\"2020-12-28T14:01:53\",\"2020-12-28T14:05:03\",\"2020-12-28T14:05:05\",\"2020-12-28T14:05:07\",\"2020-12-28T14:06:57\",\"2020-12-28T14:06:59\",\"2020-12-28T14:10:19\",\"2020-12-28T14:11:01\",\"2020-12-28T14:23:40\",\"2020-12-28T14:23:42\",\"2020-12-28T14:50:13\",\"2020-12-28T14:50:32\",\"2020-12-28T14:50:34\",\"2020-12-28T14:55:53\",\"2020-12-28T14:55:54\",\"2020-12-28T15:03:01\",\"2020-12-28T15:05:28\",\"2020-12-28T15:05:30\",\"2020-12-28T15:24:49\",\"2020-12-28T15:27:37\",\"2020-12-28T15:31:38\",\"2020-12-28T15:31:39\",\"2020-12-28T15:40:06\",\"2020-12-28T15:40:24\",\"2020-12-28T15:40:25\",\"2020-12-28T15:41:32\",\"2020-12-28T15:41:33\",\"2020-12-28T15:52:36\",\"2020-12-28T15:52:38\",\"2020-12-28T15:58:50\",\"2020-12-28T15:58:51\",\"2020-12-28T15:59:34\",\"2020-12-28T15:59:35\",\"2020-12-28T16:02:12\",\"2020-12-28T16:04:56\",\"2020-12-28T16:04:59\",\"2020-12-28T16:06:28\",\"2020-12-28T16:06:29\",\"2020-12-28T16:13:18\",\"2020-12-28T16:20:28\",\"2020-12-28T16:20:29\",\"2020-12-28T16:28:05\",\"2020-12-28T16:28:09\",\"2020-12-28T16:52:10\",\"2020-12-28T16:52:12\",\"2020-12-28T16:53:48\",\"2020-12-28T16:53:49\",\"2020-12-28T17:02:07\",\"2020-12-28T17:33:18\",\"2020-12-28T17:33:19\",\"2020-12-28T17:35:39\",\"2020-12-28T17:43:19\",\"2020-12-28T17:48:07\",\"2020-12-28T18:25:47\",\"2020-12-28T18:25:49\",\"2020-12-28T18:38:39\",\"2020-12-28T18:38:43\",\"2020-12-28T18:39:46\",\"2020-12-28T18:39:47\",\"2020-12-28T18:42:25\",\"2020-12-28T19:04:05\",\"2020-12-28T19:04:06\",\"2020-12-28T19:05:02\",\"2020-12-28T19:05:25\",\"2020-12-28T19:05:26\",\"2020-12-28T19:09:43\",\"2020-12-28T19:09:44\",\"2020-12-28T19:12:01\",\"2020-12-28T19:17:34\",\"2020-12-28T19:17:35\",\"2020-12-28T19:31:15\",\"2020-12-28T19:31:16\",\"2020-12-28T19:45:10\",\"2020-12-28T19:46:58\",\"2020-12-28T19:47:00\",\"2020-12-28T19:47:01\",\"2020-12-28T20:00:24\",\"2020-12-28T20:00:26\",\"2020-12-28T20:04:21\",\"2020-12-28T20:04:22\",\"2020-12-28T20:22:55\",\"2020-12-28T20:22:56\",\"2020-12-28T20:28:40\",\"2020-12-28T20:28:42\",\"2020-12-28T20:35:09\",\"2020-12-28T20:35:11\",\"2020-12-28T20:47:34\",\"2020-12-28T20:59:20\",\"2020-12-28T21:38:14\",\"2020-12-28T21:38:16\",\"2020-12-28T21:38:17\",\"2020-12-28T21:50:52\",\"2020-12-28T21:50:53\",\"2020-12-28T21:51:27\",\"2020-12-28T21:51:28\",\"2020-12-28T21:55:47\",\"2020-12-28T22:01:43\",\"2020-12-28T22:15:51\",\"2020-12-28T22:15:53\",\"2020-12-28T22:22:23\",\"2020-12-28T22:25:58\",\"2020-12-28T22:54:04\",\"2020-12-28T22:57:28\",\"2020-12-28T22:57:29\",\"2020-12-28T22:59:02\",\"2020-12-28T23:01:48\",\"2020-12-28T23:01:49\",\"2020-12-28T23:05:23\",\"2020-12-28T23:05:25\",\"2020-12-28T23:21:02\",\"2020-12-28T23:22:32\",\"2020-12-28T23:27:48\",\"2020-12-28T23:27:50\",\"2020-12-28T23:31:02\",\"2020-12-28T23:40:39\",\"2020-12-28T23:45:00\",\"2020-12-28T23:45:02\",\"2020-12-28T23:45:16\",\"2020-12-28T23:45:17\",\"2020-12-28T23:49:06\",\"2020-12-28T23:59:17\",\"2020-12-28T23:59:18\",\"2020-12-28T23:59:19\",\"2020-12-29T00:06:13\",\"2020-12-29T00:09:48\",\"2020-12-29T00:39:53\",\"2020-12-29T00:42:33\",\"2020-12-29T00:42:36\",\"2020-12-29T00:44:26\",\"2020-12-29T00:44:28\",\"2020-12-29T01:05:40\",\"2020-12-29T01:05:42\",\"2020-12-29T01:14:35\",\"2020-12-29T01:22:52\",\"2020-12-29T01:22:56\",\"2020-12-29T01:39:21\",\"2020-12-29T01:39:23\",\"2020-12-29T02:00:01\",\"2020-12-29T02:01:21\",\"2020-12-29T02:17:00\",\"2020-12-29T02:17:01\",\"2020-12-29T02:21:26\",\"2020-12-29T02:22:43\",\"2020-12-29T02:22:45\",\"2020-12-29T02:22:46\",\"2020-12-29T02:27:25\",\"2020-12-29T02:27:26\",\"2020-12-29T02:29:22\",\"2020-12-29T02:39:08\",\"2020-12-29T02:39:09\",\"2020-12-29T03:03:45\",\"2020-12-29T03:20:50\",\"2020-12-29T03:23:10\",\"2020-12-29T03:23:11\",\"2020-12-29T03:23:17\",\"2020-12-29T03:23:18\",\"2020-12-29T03:27:46\",\"2020-12-29T03:41:19\",\"2020-12-29T03:47:12\",\"2020-12-29T03:47:13\",\"2020-12-29T03:47:14\",\"2020-12-29T03:59:59\",\"2020-12-29T04:00:53\",\"2020-12-29T04:08:10\",\"2020-12-29T04:14:06\",\"2020-12-29T04:14:48\",\"2020-12-29T04:46:02\",\"2020-12-29T04:47:33\",\"2020-12-29T05:07:14\",\"2020-12-29T05:07:15\",\"2020-12-29T05:12:43\",\"2020-12-29T05:35:11\",\"2020-12-29T05:35:13\",\"2020-12-29T05:37:26\",\"2020-12-29T06:08:48\",\"2020-12-29T06:24:08\",\"2020-12-29T06:48:54\",\"2020-12-29T06:49:11\",\"2020-12-29T06:49:12\",\"2020-12-29T06:52:57\",\"2020-12-29T06:56:00\",\"2020-12-29T07:01:51\",\"2020-12-29T07:04:30\",\"2020-12-29T07:04:31\",\"2020-12-29T07:10:22\",\"2020-12-29T07:10:24\",\"2020-12-29T07:15:51\",\"2020-12-29T07:15:52\",\"2020-12-29T07:22:20\",\"2020-12-29T07:33:47\",\"2020-12-29T07:38:17\",\"2020-12-29T07:41:27\",\"2020-12-29T07:41:31\",\"2020-12-29T07:41:32\",\"2020-12-29T07:43:03\",\"2020-12-29T07:51:25\",\"2020-12-29T07:51:27\",\"2020-12-29T08:03:41\",\"2020-12-29T08:08:02\",\"2020-12-29T08:11:19\",\"2020-12-29T08:11:20\",\"2020-12-29T08:13:02\",\"2020-12-29T08:20:31\",\"2020-12-29T08:20:32\",\"2020-12-29T08:37:01\",\"2020-12-29T08:37:03\",\"2020-12-29T09:20:56\",\"2020-12-29T09:31:46\",\"2020-12-29T09:35:08\",\"2020-12-29T09:35:10\",\"2020-12-29T09:40:58\",\"2020-12-29T09:44:29\",\"2020-12-29T10:02:22\",\"2020-12-29T10:02:23\",\"2020-12-29T10:50:04\",\"2020-12-29T10:50:05\",\"2020-12-29T10:59:01\",\"2020-12-29T10:59:03\",\"2020-12-29T11:02:16\",\"2020-12-29T11:11:09\",\"2020-12-29T11:12:17\",\"2020-12-29T11:12:18\",\"2020-12-29T11:21:37\",\"2020-12-29T11:26:01\",\"2020-12-29T11:26:03\",\"2020-12-29T11:34:13\",\"2020-12-29T11:48:58\",\"2020-12-29T12:13:20\",\"2020-12-29T12:13:25\",\"2020-12-29T12:28:35\",\"2020-12-29T12:50:54\",\"2020-12-29T12:50:55\",\"2020-12-29T12:55:27\",\"2020-12-29T12:55:28\",\"2020-12-29T13:12:50\",\"2020-12-29T13:23:51\",\"2020-12-29T13:39:24\",\"2020-12-29T14:09:14\",\"2020-12-29T14:27:57\",\"2020-12-29T14:36:46\",\"2020-12-29T14:36:47\",\"2020-12-29T14:38:37\",\"2020-12-29T14:45:24\",\"2020-12-29T14:59:06\",\"2020-12-29T14:59:38\",\"2020-12-29T14:59:39\",\"2020-12-29T15:11:09\",\"2020-12-29T15:16:27\",\"2020-12-29T15:19:38\",\"2020-12-29T15:27:20\",\"2020-12-29T15:27:49\",\"2020-12-29T15:27:50\",\"2020-12-29T15:33:20\",\"2020-12-29T15:33:22\",\"2020-12-29T16:03:06\",\"2020-12-29T16:08:24\",\"2020-12-29T16:09:59\",\"2020-12-29T16:10:01\",\"2020-12-29T16:17:53\",\"2020-12-29T16:53:42\",\"2020-12-29T17:01:17\",\"2020-12-29T17:01:20\",\"2020-12-29T17:05:16\",\"2020-12-29T17:24:54\",\"2020-12-29T17:24:56\",\"2020-12-29T17:30:14\",\"2020-12-29T17:30:15\",\"2020-12-29T17:39:13\",\"2020-12-29T17:40:06\",\"2020-12-29T17:40:08\",\"2020-12-29T18:25:58\",\"2020-12-29T18:47:09\",\"2020-12-29T18:47:10\",\"2020-12-29T19:25:10\",\"2020-12-29T19:25:13\",\"2020-12-29T19:46:56\",\"2020-12-29T20:00:58\",\"2020-12-29T20:00:59\",\"2020-12-29T20:15:42\",\"2020-12-29T20:15:43\",\"2020-12-29T20:19:47\",\"2020-12-29T20:19:50\",\"2020-12-29T20:36:58\",\"2020-12-29T20:49:51\",\"2020-12-29T20:54:25\",\"2020-12-29T20:54:26\",\"2020-12-29T21:12:10\",\"2020-12-29T21:14:34\",\"2020-12-29T21:14:35\",\"2020-12-29T21:17:27\",\"2020-12-29T21:17:30\",\"2020-12-29T21:22:58\",\"2020-12-29T21:29:15\",\"2020-12-29T21:30:48\",\"2020-12-29T21:30:51\",\"2020-12-29T21:30:52\",\"2020-12-29T21:31:04\",\"2020-12-29T21:53:39\",\"2020-12-29T22:02:28\",\"2020-12-29T22:02:30\",\"2020-12-29T22:12:11\",\"2020-12-29T22:17:08\",\"2020-12-29T22:17:10\",\"2020-12-29T22:30:57\",\"2020-12-29T22:54:39\",\"2020-12-29T23:01:18\",\"2020-12-29T23:01:19\",\"2020-12-29T23:01:38\",\"2020-12-29T23:14:15\",\"2020-12-29T23:14:16\",\"2020-12-29T23:38:09\",\"2020-12-29T23:38:10\",\"2020-12-29T23:38:28\",\"2020-12-29T23:38:29\"],\"type\":\"histogram\"},{\"name\":\"\\u0413\\u0440\\u0443\\u043f\\u043f\\u0430 B\",\"x\":[\"2020-12-07T00:05:57\",\"2020-12-07T00:07:47\",\"2020-12-07T00:07:48\",\"2020-12-07T00:07:49\",\"2020-12-07T00:25:02\",\"2020-12-07T00:25:04\",\"2020-12-07T00:25:07\",\"2020-12-07T00:44:12\",\"2020-12-07T00:50:37\",\"2020-12-07T01:20:31\",\"2020-12-07T01:21:14\",\"2020-12-07T01:37:05\",\"2020-12-07T01:37:06\",\"2020-12-07T01:46:33\",\"2020-12-07T01:50:41\",\"2020-12-07T01:57:30\",\"2020-12-07T01:58:49\",\"2020-12-07T02:16:26\",\"2020-12-07T02:18:01\",\"2020-12-07T02:20:55\",\"2020-12-07T02:20:56\",\"2020-12-07T02:20:57\",\"2020-12-07T02:23:06\",\"2020-12-07T02:27:21\",\"2020-12-07T02:27:22\",\"2020-12-07T02:27:23\",\"2020-12-07T02:30:47\",\"2020-12-07T02:38:27\",\"2020-12-07T02:43:17\",\"2020-12-07T02:43:19\",\"2020-12-07T02:45:45\",\"2020-12-07T02:56:52\",\"2020-12-07T02:56:55\",\"2020-12-07T03:01:23\",\"2020-12-07T03:03:22\",\"2020-12-07T03:05:05\",\"2020-12-07T03:16:56\",\"2020-12-07T03:24:22\",\"2020-12-07T03:24:33\",\"2020-12-07T03:40:39\",\"2020-12-07T03:46:01\",\"2020-12-07T03:46:18\",\"2020-12-07T03:47:11\",\"2020-12-07T03:52:25\",\"2020-12-07T03:52:26\",\"2020-12-07T03:56:26\",\"2020-12-07T03:56:27\",\"2020-12-07T04:15:10\",\"2020-12-07T04:17:47\",\"2020-12-07T04:36:14\",\"2020-12-07T04:48:55\",\"2020-12-07T04:48:56\",\"2020-12-07T04:56:23\",\"2020-12-07T05:29:21\",\"2020-12-07T05:29:22\",\"2020-12-07T05:46:42\",\"2020-12-07T05:46:43\",\"2020-12-07T05:59:46\",\"2020-12-07T05:59:51\",\"2020-12-07T06:00:06\",\"2020-12-07T06:11:08\",\"2020-12-07T06:12:49\",\"2020-12-07T06:23:24\",\"2020-12-07T06:26:53\",\"2020-12-07T06:26:55\",\"2020-12-07T06:29:22\",\"2020-12-07T06:29:23\",\"2020-12-07T06:31:09\",\"2020-12-07T06:31:11\",\"2020-12-07T06:31:24\",\"2020-12-07T06:31:26\",\"2020-12-07T06:31:32\",\"2020-12-07T06:37:42\",\"2020-12-07T06:56:20\",\"2020-12-07T06:58:41\",\"2020-12-07T07:06:50\",\"2020-12-07T07:06:51\",\"2020-12-07T07:33:54\",\"2020-12-07T07:42:23\",\"2020-12-07T07:43:49\",\"2020-12-07T07:44:21\",\"2020-12-07T08:01:55\",\"2020-12-07T08:13:14\",\"2020-12-07T08:21:08\",\"2020-12-07T08:23:16\",\"2020-12-07T08:25:40\",\"2020-12-07T08:25:53\",\"2020-12-07T08:25:54\",\"2020-12-07T08:55:18\",\"2020-12-07T09:05:55\",\"2020-12-07T09:05:56\",\"2020-12-07T09:06:51\",\"2020-12-07T09:11:08\",\"2020-12-07T09:16:20\",\"2020-12-07T09:26:53\",\"2020-12-07T09:26:54\",\"2020-12-07T09:27:00\",\"2020-12-07T09:27:03\",\"2020-12-07T10:09:35\",\"2020-12-07T10:09:38\",\"2020-12-07T10:28:03\",\"2020-12-07T10:44:00\",\"2020-12-07T10:45:31\",\"2020-12-07T10:45:33\",\"2020-12-07T10:45:36\",\"2020-12-07T11:26:47\",\"2020-12-07T11:26:48\",\"2020-12-07T11:33:02\",\"2020-12-07T11:33:05\",\"2020-12-07T11:35:19\",\"2020-12-07T11:35:22\",\"2020-12-07T12:10:40\",\"2020-12-07T12:10:41\",\"2020-12-07T12:29:49\",\"2020-12-07T12:46:36\",\"2020-12-07T12:49:37\",\"2020-12-07T12:49:39\",\"2020-12-07T13:00:18\",\"2020-12-07T13:00:19\",\"2020-12-07T13:00:45\",\"2020-12-07T13:00:47\",\"2020-12-07T13:05:38\",\"2020-12-07T13:16:32\",\"2020-12-07T13:19:35\",\"2020-12-07T13:19:37\",\"2020-12-07T13:21:26\",\"2020-12-07T13:21:27\",\"2020-12-07T13:26:02\",\"2020-12-07T13:26:03\",\"2020-12-07T13:28:52\",\"2020-12-07T13:28:54\",\"2020-12-07T13:29:45\",\"2020-12-07T13:36:54\",\"2020-12-07T13:42:30\",\"2020-12-07T14:09:37\",\"2020-12-07T14:16:14\",\"2020-12-07T14:18:05\",\"2020-12-07T14:18:07\",\"2020-12-07T14:30:04\",\"2020-12-07T14:30:06\",\"2020-12-07T14:46:03\",\"2020-12-07T15:06:04\",\"2020-12-07T15:20:06\",\"2020-12-07T15:21:35\",\"2020-12-07T15:21:38\",\"2020-12-07T15:21:40\",\"2020-12-07T15:30:58\",\"2020-12-07T15:31:00\",\"2020-12-07T15:32:53\",\"2020-12-07T15:32:54\",\"2020-12-07T16:10:59\",\"2020-12-07T16:11:00\",\"2020-12-07T16:28:15\",\"2020-12-07T16:29:20\",\"2020-12-07T16:44:39\",\"2020-12-07T16:44:40\",\"2020-12-07T16:47:58\",\"2020-12-07T16:55:12\",\"2020-12-07T17:05:56\",\"2020-12-07T17:09:14\",\"2020-12-07T17:09:15\",\"2020-12-07T17:12:28\",\"2020-12-07T17:12:31\",\"2020-12-07T17:17:15\",\"2020-12-07T17:22:05\",\"2020-12-07T17:22:06\",\"2020-12-07T17:24:56\",\"2020-12-07T17:26:01\",\"2020-12-07T17:30:59\",\"2020-12-07T17:31:00\",\"2020-12-07T17:49:16\",\"2020-12-07T17:49:18\",\"2020-12-07T18:10:54\",\"2020-12-07T18:11:53\",\"2020-12-07T18:11:54\",\"2020-12-07T18:20:44\",\"2020-12-07T18:39:10\",\"2020-12-07T18:39:11\",\"2020-12-07T18:47:11\",\"2020-12-07T18:47:13\",\"2020-12-07T18:48:13\",\"2020-12-07T18:48:14\",\"2020-12-07T18:48:26\",\"2020-12-07T18:48:27\",\"2020-12-07T18:51:01\",\"2020-12-07T18:52:38\",\"2020-12-07T18:52:39\",\"2020-12-07T18:59:17\",\"2020-12-07T18:59:18\",\"2020-12-07T19:07:30\",\"2020-12-07T19:07:31\",\"2020-12-07T19:11:09\",\"2020-12-07T19:36:06\",\"2020-12-07T19:37:06\",\"2020-12-07T20:07:05\",\"2020-12-07T20:08:36\",\"2020-12-07T20:11:44\",\"2020-12-07T20:12:10\",\"2020-12-07T20:12:11\",\"2020-12-07T20:15:29\",\"2020-12-07T20:15:31\",\"2020-12-07T20:16:35\",\"2020-12-07T20:16:38\",\"2020-12-07T20:20:21\",\"2020-12-07T20:23:11\",\"2020-12-07T20:23:12\",\"2020-12-07T20:28:35\",\"2020-12-07T20:28:37\",\"2020-12-07T20:28:49\",\"2020-12-07T20:28:52\",\"2020-12-07T20:30:40\",\"2020-12-07T20:30:42\",\"2020-12-07T21:02:07\",\"2020-12-07T21:05:15\",\"2020-12-07T21:17:33\",\"2020-12-07T21:34:38\",\"2020-12-07T21:34:39\",\"2020-12-07T21:41:31\",\"2020-12-07T21:56:13\",\"2020-12-07T21:58:30\",\"2020-12-07T21:58:31\",\"2020-12-07T22:03:57\",\"2020-12-07T22:03:58\",\"2020-12-07T22:07:55\",\"2020-12-07T22:07:58\",\"2020-12-07T22:07:59\",\"2020-12-07T22:33:04\",\"2020-12-07T22:37:52\",\"2020-12-07T22:59:24\",\"2020-12-07T22:59:26\",\"2020-12-07T23:02:42\",\"2020-12-07T23:42:48\",\"2020-12-07T23:48:05\",\"2020-12-07T23:48:06\",\"2020-12-07T23:55:07\",\"2020-12-07T23:55:09\",\"2020-12-08T00:21:05\",\"2020-12-08T00:21:06\",\"2020-12-08T00:22:20\",\"2020-12-08T00:22:22\",\"2020-12-08T00:49:36\",\"2020-12-08T00:58:30\",\"2020-12-08T01:26:38\",\"2020-12-08T01:26:39\",\"2020-12-08T01:41:22\",\"2020-12-08T01:45:54\",\"2020-12-08T01:45:56\",\"2020-12-08T01:57:03\",\"2020-12-08T02:00:08\",\"2020-12-08T02:11:07\",\"2020-12-08T02:23:36\",\"2020-12-08T02:44:25\",\"2020-12-08T02:44:26\",\"2020-12-08T02:44:31\",\"2020-12-08T02:45:33\",\"2020-12-08T02:45:34\",\"2020-12-08T02:49:29\",\"2020-12-08T02:56:33\",\"2020-12-08T03:09:21\",\"2020-12-08T03:09:23\",\"2020-12-08T03:10:20\",\"2020-12-08T03:10:21\",\"2020-12-08T03:32:07\",\"2020-12-08T03:41:52\",\"2020-12-08T03:41:53\",\"2020-12-08T03:43:09\",\"2020-12-08T03:43:10\",\"2020-12-08T04:04:59\",\"2020-12-08T04:22:51\",\"2020-12-08T04:22:53\",\"2020-12-08T04:26:43\",\"2020-12-08T04:26:44\",\"2020-12-08T04:27:00\",\"2020-12-08T04:27:02\",\"2020-12-08T04:38:02\",\"2020-12-08T04:54:35\",\"2020-12-08T05:03:20\",\"2020-12-08T05:10:58\",\"2020-12-08T05:36:39\",\"2020-12-08T05:36:42\",\"2020-12-08T05:44:51\",\"2020-12-08T06:04:15\",\"2020-12-08T06:10:25\",\"2020-12-08T06:10:26\",\"2020-12-08T06:13:12\",\"2020-12-08T06:42:18\",\"2020-12-08T06:51:48\",\"2020-12-08T07:31:27\",\"2020-12-08T07:31:28\",\"2020-12-08T07:34:40\",\"2020-12-08T07:36:44\",\"2020-12-08T07:36:47\",\"2020-12-08T07:52:57\",\"2020-12-08T08:07:59\",\"2020-12-08T08:12:23\",\"2020-12-08T08:13:19\",\"2020-12-08T08:13:20\",\"2020-12-08T08:29:27\",\"2020-12-08T08:29:31\",\"2020-12-08T08:31:25\",\"2020-12-08T08:31:27\",\"2020-12-08T08:32:39\",\"2020-12-08T08:32:40\",\"2020-12-08T08:46:11\",\"2020-12-08T08:50:28\",\"2020-12-08T08:51:44\",\"2020-12-08T08:51:49\",\"2020-12-08T08:57:03\",\"2020-12-08T08:57:04\",\"2020-12-08T08:57:05\",\"2020-12-08T09:02:10\",\"2020-12-08T09:02:11\",\"2020-12-08T09:05:56\",\"2020-12-08T09:05:57\",\"2020-12-08T09:09:56\",\"2020-12-08T09:09:59\",\"2020-12-08T09:41:54\",\"2020-12-08T09:41:56\",\"2020-12-08T09:46:55\",\"2020-12-08T09:53:21\",\"2020-12-08T10:16:02\",\"2020-12-08T10:22:07\",\"2020-12-08T10:22:08\",\"2020-12-08T10:22:09\",\"2020-12-08T10:24:37\",\"2020-12-08T10:29:42\",\"2020-12-08T10:29:43\",\"2020-12-08T10:29:44\",\"2020-12-08T10:57:59\",\"2020-12-08T11:11:37\",\"2020-12-08T11:11:39\",\"2020-12-08T11:31:09\",\"2020-12-08T11:31:11\",\"2020-12-08T11:32:37\",\"2020-12-08T11:37:51\",\"2020-12-08T12:12:29\",\"2020-12-08T12:18:08\",\"2020-12-08T12:30:09\",\"2020-12-08T12:30:11\",\"2020-12-08T13:22:12\",\"2020-12-08T13:23:03\",\"2020-12-08T13:37:43\",\"2020-12-08T13:38:23\",\"2020-12-08T13:47:41\",\"2020-12-08T14:05:16\",\"2020-12-08T14:36:53\",\"2020-12-08T14:36:54\",\"2020-12-08T14:47:00\",\"2020-12-08T14:56:48\",\"2020-12-08T15:11:35\",\"2020-12-08T15:34:14\",\"2020-12-08T15:39:01\",\"2020-12-08T15:46:38\",\"2020-12-08T15:53:27\",\"2020-12-08T15:58:10\",\"2020-12-08T15:58:11\",\"2020-12-08T16:11:46\",\"2020-12-08T16:11:48\",\"2020-12-08T16:30:01\",\"2020-12-08T16:30:02\",\"2020-12-08T16:46:33\",\"2020-12-08T17:01:10\",\"2020-12-08T17:01:11\",\"2020-12-08T17:11:41\",\"2020-12-08T17:25:42\",\"2020-12-08T17:56:16\",\"2020-12-08T17:56:17\",\"2020-12-08T17:59:18\",\"2020-12-08T18:00:50\",\"2020-12-08T18:11:45\",\"2020-12-08T18:41:46\",\"2020-12-08T19:02:59\",\"2020-12-08T19:03:00\",\"2020-12-08T19:03:02\",\"2020-12-08T19:39:23\",\"2020-12-08T19:39:24\",\"2020-12-08T19:55:26\",\"2020-12-08T20:03:37\",\"2020-12-08T20:03:39\",\"2020-12-08T20:17:12\",\"2020-12-08T20:17:13\",\"2020-12-08T20:17:15\",\"2020-12-08T20:31:35\",\"2020-12-08T20:31:36\",\"2020-12-08T20:37:22\",\"2020-12-08T20:42:48\",\"2020-12-08T20:49:32\",\"2020-12-08T20:52:16\",\"2020-12-08T20:52:18\",\"2020-12-08T21:06:33\",\"2020-12-08T21:06:34\",\"2020-12-08T21:06:35\",\"2020-12-08T21:16:07\",\"2020-12-08T21:16:08\",\"2020-12-08T21:18:41\",\"2020-12-08T21:18:45\",\"2020-12-08T22:15:07\",\"2020-12-08T22:15:09\",\"2020-12-08T22:15:10\",\"2020-12-08T22:29:55\",\"2020-12-08T22:29:58\",\"2020-12-08T22:42:19\",\"2020-12-08T22:44:13\",\"2020-12-08T23:23:30\",\"2020-12-08T23:28:03\",\"2020-12-08T23:47:42\",\"2020-12-09T00:05:48\",\"2020-12-09T00:15:48\",\"2020-12-09T00:18:45\",\"2020-12-09T00:18:46\",\"2020-12-09T00:46:22\",\"2020-12-09T00:56:12\",\"2020-12-09T00:56:13\",\"2020-12-09T00:56:26\",\"2020-12-09T00:56:29\",\"2020-12-09T00:56:30\",\"2020-12-09T01:20:48\",\"2020-12-09T01:23:59\",\"2020-12-09T01:32:19\",\"2020-12-09T01:45:02\",\"2020-12-09T01:46:46\",\"2020-12-09T01:46:48\",\"2020-12-09T01:58:16\",\"2020-12-09T02:13:13\",\"2020-12-09T02:13:16\",\"2020-12-09T02:17:51\",\"2020-12-09T02:26:35\",\"2020-12-09T02:53:15\",\"2020-12-09T02:53:16\",\"2020-12-09T02:53:42\",\"2020-12-09T02:54:27\",\"2020-12-09T02:54:29\",\"2020-12-09T03:09:05\",\"2020-12-09T03:10:47\",\"2020-12-09T03:10:49\",\"2020-12-09T03:14:49\",\"2020-12-09T03:17:44\",\"2020-12-09T03:21:02\",\"2020-12-09T03:21:03\",\"2020-12-09T03:24:48\",\"2020-12-09T03:24:50\",\"2020-12-09T03:29:12\",\"2020-12-09T03:33:16\",\"2020-12-09T03:33:17\",\"2020-12-09T03:33:19\",\"2020-12-09T03:34:47\",\"2020-12-09T03:37:04\",\"2020-12-09T03:42:40\",\"2020-12-09T03:42:41\",\"2020-12-09T03:59:52\",\"2020-12-09T03:59:56\",\"2020-12-09T04:08:11\",\"2020-12-09T04:15:18\",\"2020-12-09T04:16:38\",\"2020-12-09T04:28:39\",\"2020-12-09T04:28:40\",\"2020-12-09T04:52:45\",\"2020-12-09T04:52:46\",\"2020-12-09T05:30:08\",\"2020-12-09T05:36:06\",\"2020-12-09T05:41:11\",\"2020-12-09T05:51:49\",\"2020-12-09T05:51:51\",\"2020-12-09T06:09:16\",\"2020-12-09T06:15:13\",\"2020-12-09T06:17:10\",\"2020-12-09T06:17:12\",\"2020-12-09T06:17:21\",\"2020-12-09T06:17:22\",\"2020-12-09T06:25:49\",\"2020-12-09T06:58:24\",\"2020-12-09T07:01:17\",\"2020-12-09T07:37:12\",\"2020-12-09T07:41:05\",\"2020-12-09T07:41:59\",\"2020-12-09T07:58:27\",\"2020-12-09T08:02:13\",\"2020-12-09T08:02:14\",\"2020-12-09T08:08:47\",\"2020-12-09T08:33:50\",\"2020-12-09T08:33:52\",\"2020-12-09T08:37:21\",\"2020-12-09T08:41:10\",\"2020-12-09T08:55:04\",\"2020-12-09T08:55:05\",\"2020-12-09T09:08:10\",\"2020-12-09T09:09:04\",\"2020-12-09T09:22:37\",\"2020-12-09T09:39:00\",\"2020-12-09T09:40:18\",\"2020-12-09T09:43:23\",\"2020-12-09T09:43:24\",\"2020-12-09T10:28:33\",\"2020-12-09T10:45:27\",\"2020-12-09T10:56:16\",\"2020-12-09T10:56:19\",\"2020-12-09T11:30:14\",\"2020-12-09T11:34:02\",\"2020-12-09T11:34:03\",\"2020-12-09T11:37:46\",\"2020-12-09T11:47:23\",\"2020-12-09T11:47:25\",\"2020-12-09T12:14:28\",\"2020-12-09T12:40:38\",\"2020-12-09T12:46:32\",\"2020-12-09T12:47:44\",\"2020-12-09T13:14:17\",\"2020-12-09T13:15:47\",\"2020-12-09T13:15:48\",\"2020-12-09T13:20:43\",\"2020-12-09T13:20:46\",\"2020-12-09T13:26:40\",\"2020-12-09T13:26:54\",\"2020-12-09T13:45:49\",\"2020-12-09T13:45:50\",\"2020-12-09T13:48:38\",\"2020-12-09T13:56:01\",\"2020-12-09T13:59:47\",\"2020-12-09T13:59:50\",\"2020-12-09T14:01:16\",\"2020-12-09T14:06:07\",\"2020-12-09T14:16:17\",\"2020-12-09T14:16:41\",\"2020-12-09T14:27:26\",\"2020-12-09T14:30:07\",\"2020-12-09T14:35:59\",\"2020-12-09T14:36:01\",\"2020-12-09T14:38:27\",\"2020-12-09T14:38:29\",\"2020-12-09T14:42:33\",\"2020-12-09T14:52:35\",\"2020-12-09T14:54:03\",\"2020-12-09T15:06:43\",\"2020-12-09T15:12:52\",\"2020-12-09T15:18:26\",\"2020-12-09T15:18:30\",\"2020-12-09T15:20:05\",\"2020-12-09T15:20:07\",\"2020-12-09T15:20:08\",\"2020-12-09T15:24:53\",\"2020-12-09T15:24:54\",\"2020-12-09T15:39:47\",\"2020-12-09T15:39:49\",\"2020-12-09T15:42:37\",\"2020-12-09T15:42:39\",\"2020-12-09T15:55:35\",\"2020-12-09T15:55:36\",\"2020-12-09T15:59:25\",\"2020-12-09T16:03:24\",\"2020-12-09T16:03:25\",\"2020-12-09T16:03:26\",\"2020-12-09T16:25:27\",\"2020-12-09T16:25:28\",\"2020-12-09T16:26:25\",\"2020-12-09T16:28:22\",\"2020-12-09T16:28:23\",\"2020-12-09T16:28:45\",\"2020-12-09T16:31:32\",\"2020-12-09T16:38:38\",\"2020-12-09T16:55:39\",\"2020-12-09T16:57:34\",\"2020-12-09T16:57:36\",\"2020-12-09T17:10:19\",\"2020-12-09T17:10:20\",\"2020-12-09T17:10:23\",\"2020-12-09T17:25:14\",\"2020-12-09T17:26:17\",\"2020-12-09T17:35:20\",\"2020-12-09T17:35:21\",\"2020-12-09T17:39:14\",\"2020-12-09T17:44:59\",\"2020-12-09T17:56:32\",\"2020-12-09T17:56:33\",\"2020-12-09T18:04:13\",\"2020-12-09T18:11:26\",\"2020-12-09T18:27:49\",\"2020-12-09T18:38:21\",\"2020-12-09T18:39:26\",\"2020-12-09T19:01:05\",\"2020-12-09T19:03:18\",\"2020-12-09T19:03:22\",\"2020-12-09T19:16:43\",\"2020-12-09T19:16:52\",\"2020-12-09T19:18:29\",\"2020-12-09T19:24:40\",\"2020-12-09T19:25:05\",\"2020-12-09T19:34:27\",\"2020-12-09T19:34:30\",\"2020-12-09T19:48:18\",\"2020-12-09T20:00:11\",\"2020-12-09T20:00:12\",\"2020-12-09T20:10:30\",\"2020-12-09T20:16:47\",\"2020-12-09T20:16:48\",\"2020-12-09T20:16:50\",\"2020-12-09T20:33:16\",\"2020-12-09T20:33:20\",\"2020-12-09T20:40:21\",\"2020-12-09T20:40:22\",\"2020-12-09T20:44:57\",\"2020-12-09T20:44:58\",\"2020-12-09T20:46:20\",\"2020-12-09T20:46:21\",\"2020-12-09T20:46:22\",\"2020-12-09T20:57:45\",\"2020-12-09T20:57:46\",\"2020-12-09T21:04:42\",\"2020-12-09T21:04:43\",\"2020-12-09T21:05:04\",\"2020-12-09T21:05:06\",\"2020-12-09T21:08:40\",\"2020-12-09T21:08:41\",\"2020-12-09T21:19:53\",\"2020-12-09T21:22:19\",\"2020-12-09T21:27:37\",\"2020-12-09T21:29:07\",\"2020-12-09T21:29:08\",\"2020-12-09T21:29:51\",\"2020-12-09T21:29:52\",\"2020-12-09T21:56:38\",\"2020-12-09T22:18:41\",\"2020-12-09T22:20:34\",\"2020-12-09T22:20:36\",\"2020-12-09T22:23:44\",\"2020-12-09T22:23:45\",\"2020-12-09T22:28:40\",\"2020-12-09T22:28:41\",\"2020-12-09T22:56:22\",\"2020-12-09T22:56:23\",\"2020-12-09T22:56:55\",\"2020-12-09T23:15:27\",\"2020-12-09T23:15:30\",\"2020-12-09T23:40:19\",\"2020-12-09T23:40:20\",\"2020-12-10T00:04:31\",\"2020-12-10T00:04:33\",\"2020-12-10T00:10:25\",\"2020-12-10T00:17:21\",\"2020-12-10T00:17:23\",\"2020-12-10T00:26:46\",\"2020-12-10T00:35:03\",\"2020-12-10T00:45:07\",\"2020-12-10T01:21:15\",\"2020-12-10T01:22:59\",\"2020-12-10T01:23:00\",\"2020-12-10T01:24:05\",\"2020-12-10T01:24:06\",\"2020-12-10T01:27:30\",\"2020-12-10T01:59:04\",\"2020-12-10T01:59:05\",\"2020-12-10T02:03:21\",\"2020-12-10T02:03:23\",\"2020-12-10T02:14:02\",\"2020-12-10T02:19:55\",\"2020-12-10T02:19:56\",\"2020-12-10T02:56:48\",\"2020-12-10T03:29:26\",\"2020-12-10T03:34:52\",\"2020-12-10T04:07:17\",\"2020-12-10T04:10:32\",\"2020-12-10T04:10:33\",\"2020-12-10T04:22:14\",\"2020-12-10T04:22:15\",\"2020-12-10T04:22:16\",\"2020-12-10T04:38:46\",\"2020-12-10T04:56:07\",\"2020-12-10T04:56:08\",\"2020-12-10T04:56:29\",\"2020-12-10T05:03:01\",\"2020-12-10T05:37:13\",\"2020-12-10T05:56:07\",\"2020-12-10T06:08:54\",\"2020-12-10T06:11:39\",\"2020-12-10T06:37:44\",\"2020-12-10T06:58:17\",\"2020-12-10T06:58:21\",\"2020-12-10T07:06:50\",\"2020-12-10T07:14:00\",\"2020-12-10T07:23:24\",\"2020-12-10T07:30:37\",\"2020-12-10T07:30:38\",\"2020-12-10T07:40:46\",\"2020-12-10T07:48:58\",\"2020-12-10T07:48:59\",\"2020-12-10T08:06:12\",\"2020-12-10T08:06:14\",\"2020-12-10T08:06:15\",\"2020-12-10T08:31:05\",\"2020-12-10T08:54:39\",\"2020-12-10T09:02:19\",\"2020-12-10T09:02:20\",\"2020-12-10T09:06:11\",\"2020-12-10T09:10:57\",\"2020-12-10T09:16:14\",\"2020-12-10T09:16:39\",\"2020-12-10T09:16:40\",\"2020-12-10T09:16:48\",\"2020-12-10T09:16:49\",\"2020-12-10T09:29:45\",\"2020-12-10T09:30:38\",\"2020-12-10T09:30:40\",\"2020-12-10T09:38:08\",\"2020-12-10T09:42:09\",\"2020-12-10T10:00:06\",\"2020-12-10T10:15:20\",\"2020-12-10T10:37:19\",\"2020-12-10T10:44:21\",\"2020-12-10T10:44:22\",\"2020-12-10T11:05:30\",\"2020-12-10T11:17:34\",\"2020-12-10T11:17:37\",\"2020-12-10T11:54:18\",\"2020-12-10T11:55:06\",\"2020-12-10T11:56:02\",\"2020-12-10T11:56:06\",\"2020-12-10T12:03:46\",\"2020-12-10T12:04:45\",\"2020-12-10T12:04:46\",\"2020-12-10T12:07:38\",\"2020-12-10T12:16:41\",\"2020-12-10T12:16:42\",\"2020-12-10T12:18:14\",\"2020-12-10T12:18:15\",\"2020-12-10T12:25:24\",\"2020-12-10T12:52:38\",\"2020-12-10T13:13:03\",\"2020-12-10T13:13:08\",\"2020-12-10T13:25:48\",\"2020-12-10T13:25:49\",\"2020-12-10T13:27:24\",\"2020-12-10T13:32:45\",\"2020-12-10T13:46:41\",\"2020-12-10T13:46:42\",\"2020-12-10T13:50:25\",\"2020-12-10T13:52:48\",\"2020-12-10T13:56:34\",\"2020-12-10T13:56:36\",\"2020-12-10T14:18:24\",\"2020-12-10T14:18:26\",\"2020-12-10T14:19:51\",\"2020-12-10T14:21:36\",\"2020-12-10T14:59:10\",\"2020-12-10T15:00:05\",\"2020-12-10T15:00:06\",\"2020-12-10T15:04:03\",\"2020-12-10T15:04:04\",\"2020-12-10T15:19:19\",\"2020-12-10T15:39:20\",\"2020-12-10T15:39:23\",\"2020-12-10T15:48:23\",\"2020-12-10T15:54:32\",\"2020-12-10T16:34:45\",\"2020-12-10T16:46:46\",\"2020-12-10T17:20:40\",\"2020-12-10T17:20:41\",\"2020-12-10T17:24:36\",\"2020-12-10T17:31:02\",\"2020-12-10T17:31:05\",\"2020-12-10T17:31:13\",\"2020-12-10T17:31:15\",\"2020-12-10T18:17:59\",\"2020-12-10T18:18:24\",\"2020-12-10T18:18:27\",\"2020-12-10T18:24:12\",\"2020-12-10T18:24:14\",\"2020-12-10T18:37:18\",\"2020-12-10T18:37:41\",\"2020-12-10T18:37:42\",\"2020-12-10T19:24:18\",\"2020-12-10T19:24:36\",\"2020-12-10T19:24:37\",\"2020-12-10T19:27:16\",\"2020-12-10T19:42:47\",\"2020-12-10T19:42:48\",\"2020-12-10T19:44:39\",\"2020-12-10T20:10:27\",\"2020-12-10T20:18:32\",\"2020-12-10T20:18:33\",\"2020-12-10T20:19:27\",\"2020-12-10T20:50:46\",\"2020-12-10T20:56:58\",\"2020-12-10T20:56:59\",\"2020-12-10T21:05:51\",\"2020-12-10T21:05:52\",\"2020-12-10T21:14:20\",\"2020-12-10T21:14:21\",\"2020-12-10T21:54:00\",\"2020-12-10T21:58:38\",\"2020-12-10T22:02:24\",\"2020-12-10T22:02:26\",\"2020-12-10T22:02:37\",\"2020-12-10T22:02:39\",\"2020-12-10T22:17:20\",\"2020-12-10T22:17:23\",\"2020-12-10T22:24:11\",\"2020-12-10T22:24:12\",\"2020-12-10T22:35:43\",\"2020-12-10T22:35:45\",\"2020-12-10T22:38:10\",\"2020-12-10T22:39:53\",\"2020-12-10T22:51:17\",\"2020-12-10T22:51:18\",\"2020-12-10T22:55:49\",\"2020-12-10T22:55:50\",\"2020-12-10T23:00:44\",\"2020-12-10T23:00:45\",\"2020-12-10T23:00:58\",\"2020-12-10T23:11:31\",\"2020-12-10T23:11:33\",\"2020-12-10T23:11:34\",\"2020-12-10T23:13:25\",\"2020-12-10T23:13:26\",\"2020-12-10T23:25:59\",\"2020-12-10T23:30:23\",\"2020-12-10T23:30:25\",\"2020-12-10T23:30:26\",\"2020-12-11T00:06:07\",\"2020-12-11T00:22:56\",\"2020-12-11T00:27:34\",\"2020-12-11T00:27:36\",\"2020-12-11T00:37:27\",\"2020-12-11T00:37:31\",\"2020-12-11T00:53:55\",\"2020-12-11T00:54:13\",\"2020-12-11T00:54:14\",\"2020-12-11T00:54:41\",\"2020-12-11T00:56:40\",\"2020-12-11T01:02:30\",\"2020-12-11T01:04:16\",\"2020-12-11T01:52:09\",\"2020-12-11T01:52:10\",\"2020-12-11T02:23:55\",\"2020-12-11T02:23:56\",\"2020-12-11T02:32:32\",\"2020-12-11T02:57:59\",\"2020-12-11T03:25:14\",\"2020-12-11T03:45:51\",\"2020-12-11T03:45:52\",\"2020-12-11T03:59:16\",\"2020-12-11T04:04:17\",\"2020-12-11T04:05:15\",\"2020-12-11T04:18:04\",\"2020-12-11T04:18:05\",\"2020-12-11T04:19:14\",\"2020-12-11T04:19:15\",\"2020-12-11T04:42:54\",\"2020-12-11T05:00:42\",\"2020-12-11T05:07:13\",\"2020-12-11T05:22:36\",\"2020-12-11T05:22:38\",\"2020-12-11T05:24:11\",\"2020-12-11T06:17:35\",\"2020-12-11T06:17:37\",\"2020-12-11T06:44:40\",\"2020-12-11T06:49:18\",\"2020-12-11T07:18:19\",\"2020-12-11T07:54:28\",\"2020-12-11T07:59:02\",\"2020-12-11T08:03:14\",\"2020-12-11T08:30:17\",\"2020-12-11T08:36:20\",\"2020-12-11T09:45:30\",\"2020-12-11T09:45:31\",\"2020-12-11T10:00:03\",\"2020-12-11T10:00:04\",\"2020-12-11T10:06:37\",\"2020-12-11T10:21:44\",\"2020-12-11T10:28:52\",\"2020-12-11T10:35:53\",\"2020-12-11T10:35:56\",\"2020-12-11T11:02:25\",\"2020-12-11T11:10:59\",\"2020-12-11T11:16:52\",\"2020-12-11T11:29:44\",\"2020-12-11T11:29:45\",\"2020-12-11T11:57:12\",\"2020-12-11T11:57:14\",\"2020-12-11T12:01:55\",\"2020-12-11T12:01:56\",\"2020-12-11T13:46:17\",\"2020-12-11T13:46:19\",\"2020-12-11T13:50:13\",\"2020-12-11T14:07:11\",\"2020-12-11T14:07:12\",\"2020-12-11T15:20:38\",\"2020-12-11T15:20:39\",\"2020-12-11T15:20:40\",\"2020-12-11T15:33:51\",\"2020-12-11T15:44:22\",\"2020-12-11T15:44:24\",\"2020-12-11T15:56:02\",\"2020-12-11T15:56:03\",\"2020-12-11T15:58:32\",\"2020-12-11T15:58:33\",\"2020-12-11T16:00:43\",\"2020-12-11T16:00:44\",\"2020-12-11T16:13:04\",\"2020-12-11T16:25:41\",\"2020-12-11T17:51:59\",\"2020-12-11T17:52:00\",\"2020-12-11T18:10:35\",\"2020-12-11T18:25:39\",\"2020-12-11T19:08:22\",\"2020-12-11T19:08:23\",\"2020-12-11T20:02:28\",\"2020-12-11T20:15:08\",\"2020-12-11T20:21:26\",\"2020-12-11T20:21:28\",\"2020-12-11T20:22:20\",\"2020-12-11T20:27:13\",\"2020-12-11T20:41:11\",\"2020-12-11T20:41:13\",\"2020-12-11T20:47:08\",\"2020-12-11T20:57:31\",\"2020-12-11T21:13:33\",\"2020-12-11T21:13:35\",\"2020-12-11T21:17:30\",\"2020-12-11T21:28:18\",\"2020-12-11T22:00:23\",\"2020-12-11T22:00:24\",\"2020-12-11T22:00:26\",\"2020-12-11T22:04:06\",\"2020-12-11T22:04:07\",\"2020-12-11T22:15:37\",\"2020-12-11T22:15:38\",\"2020-12-11T22:22:41\",\"2020-12-11T22:30:24\",\"2020-12-11T22:31:21\",\"2020-12-11T22:31:23\",\"2020-12-11T22:32:38\",\"2020-12-11T23:21:25\",\"2020-12-11T23:36:04\",\"2020-12-11T23:36:06\",\"2020-12-11T23:39:37\",\"2020-12-11T23:52:28\",\"2020-12-12T00:17:43\",\"2020-12-12T00:22:02\",\"2020-12-12T00:27:59\",\"2020-12-12T00:28:00\",\"2020-12-12T00:57:48\",\"2020-12-12T01:13:56\",\"2020-12-12T01:13:58\",\"2020-12-12T01:22:56\",\"2020-12-12T01:33:45\",\"2020-12-12T02:12:03\",\"2020-12-12T02:33:09\",\"2020-12-12T02:57:06\",\"2020-12-12T03:03:52\",\"2020-12-12T03:04:47\",\"2020-12-12T03:04:49\",\"2020-12-12T03:11:39\",\"2020-12-12T03:11:41\",\"2020-12-12T03:12:19\",\"2020-12-12T03:31:18\",\"2020-12-12T03:36:04\",\"2020-12-12T03:36:07\",\"2020-12-12T03:47:59\",\"2020-12-12T03:48:01\",\"2020-12-12T03:52:48\",\"2020-12-12T03:52:49\",\"2020-12-12T03:53:15\",\"2020-12-12T03:53:19\",\"2020-12-12T04:00:21\",\"2020-12-12T04:00:22\",\"2020-12-12T04:10:04\",\"2020-12-12T04:24:17\",\"2020-12-12T04:24:36\",\"2020-12-12T04:30:41\",\"2020-12-12T04:30:43\",\"2020-12-12T04:35:11\",\"2020-12-12T04:46:35\",\"2020-12-12T04:46:37\",\"2020-12-12T05:01:00\",\"2020-12-12T05:01:03\",\"2020-12-12T05:10:25\",\"2020-12-12T05:10:26\",\"2020-12-12T05:12:02\",\"2020-12-12T05:16:57\",\"2020-12-12T05:17:02\",\"2020-12-12T05:44:53\",\"2020-12-12T05:50:18\",\"2020-12-12T05:50:20\",\"2020-12-12T06:15:39\",\"2020-12-12T06:15:41\",\"2020-12-12T06:22:48\",\"2020-12-12T06:22:50\",\"2020-12-12T06:30:21\",\"2020-12-12T07:02:31\",\"2020-12-12T07:22:15\",\"2020-12-12T07:22:28\",\"2020-12-12T07:39:10\",\"2020-12-12T07:43:20\",\"2020-12-12T07:59:09\",\"2020-12-12T07:59:11\",\"2020-12-12T08:04:47\",\"2020-12-12T08:59:14\",\"2020-12-12T09:17:48\",\"2020-12-12T10:05:37\",\"2020-12-12T11:23:38\",\"2020-12-12T11:27:26\",\"2020-12-12T11:27:28\",\"2020-12-12T11:34:04\",\"2020-12-12T12:20:37\",\"2020-12-12T12:21:01\",\"2020-12-12T12:21:03\",\"2020-12-12T13:08:16\",\"2020-12-12T13:08:18\",\"2020-12-12T13:10:46\",\"2020-12-12T13:10:47\",\"2020-12-12T13:30:58\",\"2020-12-12T13:39:57\",\"2020-12-12T13:39:58\",\"2020-12-12T13:39:59\",\"2020-12-12T13:47:08\",\"2020-12-12T13:51:08\",\"2020-12-12T14:31:31\",\"2020-12-12T14:36:15\",\"2020-12-12T15:13:09\",\"2020-12-12T15:34:39\",\"2020-12-12T16:19:13\",\"2020-12-12T16:19:15\",\"2020-12-12T16:25:52\",\"2020-12-12T16:28:04\",\"2020-12-12T16:28:05\",\"2020-12-12T17:09:22\",\"2020-12-12T17:19:44\",\"2020-12-12T17:31:45\",\"2020-12-12T17:42:13\",\"2020-12-12T17:50:38\",\"2020-12-12T17:53:22\",\"2020-12-12T17:55:14\",\"2020-12-12T17:55:15\",\"2020-12-12T17:59:23\",\"2020-12-12T18:31:45\",\"2020-12-12T18:43:25\",\"2020-12-12T18:43:26\",\"2020-12-12T18:58:46\",\"2020-12-12T18:58:51\",\"2020-12-12T19:13:39\",\"2020-12-12T19:13:41\",\"2020-12-12T19:21:07\",\"2020-12-12T19:21:09\",\"2020-12-12T19:21:10\",\"2020-12-12T19:33:06\",\"2020-12-12T19:33:18\",\"2020-12-12T19:36:52\",\"2020-12-12T19:38:46\",\"2020-12-12T19:39:45\",\"2020-12-12T20:21:10\",\"2020-12-12T20:33:24\",\"2020-12-12T20:33:27\",\"2020-12-12T20:36:29\",\"2020-12-12T20:37:57\",\"2020-12-12T20:37:59\",\"2020-12-12T20:38:00\",\"2020-12-12T20:45:47\",\"2020-12-12T20:45:57\",\"2020-12-12T20:54:02\",\"2020-12-12T20:58:07\",\"2020-12-12T21:10:25\",\"2020-12-12T21:14:08\",\"2020-12-12T21:14:11\",\"2020-12-12T21:24:47\",\"2020-12-12T22:03:00\",\"2020-12-12T22:03:02\",\"2020-12-12T22:04:28\",\"2020-12-12T22:08:18\",\"2020-12-12T22:08:19\",\"2020-12-12T22:22:17\",\"2020-12-12T22:26:54\",\"2020-12-12T22:43:59\",\"2020-12-12T22:44:01\",\"2020-12-12T22:54:01\",\"2020-12-12T22:54:03\",\"2020-12-12T23:18:38\",\"2020-12-12T23:18:39\",\"2020-12-12T23:45:40\",\"2020-12-12T23:45:44\",\"2020-12-12T23:48:47\",\"2020-12-13T00:01:38\",\"2020-12-13T00:01:42\",\"2020-12-13T00:06:42\",\"2020-12-13T00:22:56\",\"2020-12-13T00:36:14\",\"2020-12-13T00:36:16\",\"2020-12-13T01:11:57\",\"2020-12-13T01:13:21\",\"2020-12-13T01:38:43\",\"2020-12-13T01:55:11\",\"2020-12-13T02:33:48\",\"2020-12-13T02:45:35\",\"2020-12-13T02:56:36\",\"2020-12-13T02:56:37\",\"2020-12-13T02:57:45\",\"2020-12-13T03:07:20\",\"2020-12-13T03:07:22\",\"2020-12-13T03:08:09\",\"2020-12-13T03:26:12\",\"2020-12-13T03:57:58\",\"2020-12-13T04:07:04\",\"2020-12-13T04:41:30\",\"2020-12-13T04:41:31\",\"2020-12-13T05:29:04\",\"2020-12-13T05:35:13\",\"2020-12-13T05:52:50\",\"2020-12-13T06:00:22\",\"2020-12-13T06:53:20\",\"2020-12-13T06:54:22\",\"2020-12-13T06:54:24\",\"2020-12-13T06:57:25\",\"2020-12-13T06:57:28\",\"2020-12-13T07:01:35\",\"2020-12-13T07:32:24\",\"2020-12-13T07:32:25\",\"2020-12-13T07:32:27\",\"2020-12-13T07:41:40\",\"2020-12-13T08:37:28\",\"2020-12-13T08:48:06\",\"2020-12-13T08:48:08\",\"2020-12-13T09:07:24\",\"2020-12-13T09:13:23\",\"2020-12-13T09:14:25\",\"2020-12-13T09:55:48\",\"2020-12-13T10:42:59\",\"2020-12-13T11:15:01\",\"2020-12-13T11:15:02\",\"2020-12-13T11:16:10\",\"2020-12-13T11:26:36\",\"2020-12-13T11:26:38\",\"2020-12-13T11:33:19\",\"2020-12-13T11:33:20\",\"2020-12-13T11:55:51\",\"2020-12-13T11:55:52\",\"2020-12-13T13:13:52\",\"2020-12-13T13:13:53\",\"2020-12-13T13:33:30\",\"2020-12-13T13:45:49\",\"2020-12-13T14:24:48\",\"2020-12-13T14:24:50\",\"2020-12-13T14:31:04\",\"2020-12-13T14:37:47\",\"2020-12-13T15:01:17\",\"2020-12-13T15:01:18\",\"2020-12-13T15:16:31\",\"2020-12-13T15:35:08\",\"2020-12-13T15:44:57\",\"2020-12-13T15:44:58\",\"2020-12-13T15:45:00\",\"2020-12-13T16:55:28\",\"2020-12-13T17:14:31\",\"2020-12-13T17:14:32\",\"2020-12-13T17:14:33\",\"2020-12-13T18:06:00\",\"2020-12-13T19:02:46\",\"2020-12-13T19:08:38\",\"2020-12-13T19:20:59\",\"2020-12-13T19:33:48\",\"2020-12-13T19:33:49\",\"2020-12-13T19:46:11\",\"2020-12-13T19:46:14\",\"2020-12-13T19:51:08\",\"2020-12-13T20:03:52\",\"2020-12-13T20:19:33\",\"2020-12-13T20:23:30\",\"2020-12-13T20:23:57\",\"2020-12-13T20:24:44\",\"2020-12-13T20:24:45\",\"2020-12-13T20:53:55\",\"2020-12-13T20:53:56\",\"2020-12-13T20:55:37\",\"2020-12-13T21:05:11\",\"2020-12-13T21:10:49\",\"2020-12-13T21:34:59\",\"2020-12-13T21:35:01\",\"2020-12-13T21:40:19\",\"2020-12-13T21:57:05\",\"2020-12-13T22:07:38\",\"2020-12-13T22:11:08\",\"2020-12-13T22:25:15\",\"2020-12-13T22:53:25\",\"2020-12-13T22:53:27\",\"2020-12-13T22:54:09\",\"2020-12-13T23:02:40\",\"2020-12-13T23:02:41\",\"2020-12-13T23:04:21\",\"2020-12-13T23:16:23\",\"2020-12-13T23:32:33\",\"2020-12-13T23:32:34\",\"2020-12-13T23:54:49\",\"2020-12-13T23:54:51\",\"2020-12-14T00:08:08\",\"2020-12-14T00:08:09\",\"2020-12-14T00:15:03\",\"2020-12-14T00:45:10\",\"2020-12-14T00:45:11\",\"2020-12-14T00:45:13\",\"2020-12-14T00:55:19\",\"2020-12-14T01:02:21\",\"2020-12-14T01:02:22\",\"2020-12-14T01:03:08\",\"2020-12-14T01:31:09\",\"2020-12-14T01:33:16\",\"2020-12-14T01:43:30\",\"2020-12-14T02:21:37\",\"2020-12-14T02:21:40\",\"2020-12-14T02:21:54\",\"2020-12-14T02:22:30\",\"2020-12-14T02:38:51\",\"2020-12-14T02:38:52\",\"2020-12-14T02:44:22\",\"2020-12-14T02:44:23\",\"2020-12-14T02:49:15\",\"2020-12-14T03:01:40\",\"2020-12-14T03:01:41\",\"2020-12-14T03:01:42\",\"2020-12-14T03:04:26\",\"2020-12-14T03:04:29\",\"2020-12-14T03:07:52\",\"2020-12-14T03:07:53\",\"2020-12-14T03:14:57\",\"2020-12-14T03:14:59\",\"2020-12-14T03:15:30\",\"2020-12-14T03:15:31\",\"2020-12-14T03:22:52\",\"2020-12-14T03:22:53\",\"2020-12-14T03:25:01\",\"2020-12-14T03:25:02\",\"2020-12-14T03:33:06\",\"2020-12-14T03:33:08\",\"2020-12-14T03:46:47\",\"2020-12-14T03:46:48\",\"2020-12-14T03:52:45\",\"2020-12-14T04:30:45\",\"2020-12-14T04:33:24\",\"2020-12-14T04:42:50\",\"2020-12-14T04:59:27\",\"2020-12-14T05:08:27\",\"2020-12-14T05:41:14\",\"2020-12-14T05:41:15\",\"2020-12-14T05:49:31\",\"2020-12-14T05:55:04\",\"2020-12-14T05:55:05\",\"2020-12-14T05:56:34\",\"2020-12-14T06:14:07\",\"2020-12-14T06:14:09\",\"2020-12-14T06:19:55\",\"2020-12-14T06:19:57\",\"2020-12-14T06:32:10\",\"2020-12-14T06:32:11\",\"2020-12-14T06:50:53\",\"2020-12-14T06:50:55\",\"2020-12-14T07:06:25\",\"2020-12-14T07:06:29\",\"2020-12-14T07:11:53\",\"2020-12-14T07:41:32\",\"2020-12-14T08:35:20\",\"2020-12-14T08:54:02\",\"2020-12-14T09:00:42\",\"2020-12-14T09:03:23\",\"2020-12-14T09:03:24\",\"2020-12-14T09:04:03\",\"2020-12-14T09:04:04\",\"2020-12-14T09:12:04\",\"2020-12-14T10:06:56\",\"2020-12-14T10:06:57\",\"2020-12-14T10:10:33\",\"2020-12-14T10:16:42\",\"2020-12-14T10:26:16\",\"2020-12-14T10:26:17\",\"2020-12-14T10:31:09\",\"2020-12-14T10:38:55\",\"2020-12-14T10:39:41\",\"2020-12-14T10:43:49\",\"2020-12-14T10:47:51\",\"2020-12-14T10:55:44\",\"2020-12-14T10:58:59\",\"2020-12-14T10:59:01\",\"2020-12-14T10:59:05\",\"2020-12-14T12:16:05\",\"2020-12-14T12:16:09\",\"2020-12-14T12:44:17\",\"2020-12-14T12:45:50\",\"2020-12-14T13:20:37\",\"2020-12-14T13:20:41\",\"2020-12-14T13:20:42\",\"2020-12-14T13:28:06\",\"2020-12-14T13:56:03\",\"2020-12-14T13:56:05\",\"2020-12-14T14:49:23\",\"2020-12-14T14:49:24\",\"2020-12-14T14:51:53\",\"2020-12-14T14:52:45\",\"2020-12-14T14:52:46\",\"2020-12-14T15:03:52\",\"2020-12-14T15:03:53\",\"2020-12-14T16:20:17\",\"2020-12-14T16:34:06\",\"2020-12-14T16:46:02\",\"2020-12-14T16:46:03\",\"2020-12-14T16:48:18\",\"2020-12-14T17:09:34\",\"2020-12-14T17:09:35\",\"2020-12-14T17:11:29\",\"2020-12-14T17:34:59\",\"2020-12-14T17:36:46\",\"2020-12-14T17:36:47\",\"2020-12-14T17:38:05\",\"2020-12-14T17:39:18\",\"2020-12-14T17:41:38\",\"2020-12-14T17:44:41\",\"2020-12-14T17:46:06\",\"2020-12-14T17:46:07\",\"2020-12-14T18:05:24\",\"2020-12-14T18:10:35\",\"2020-12-14T18:10:37\",\"2020-12-14T18:26:42\",\"2020-12-14T18:26:43\",\"2020-12-14T18:41:37\",\"2020-12-14T18:44:04\",\"2020-12-14T18:44:05\",\"2020-12-14T19:09:47\",\"2020-12-14T19:09:50\",\"2020-12-14T19:11:26\",\"2020-12-14T19:14:40\",\"2020-12-14T19:25:58\",\"2020-12-14T19:42:51\",\"2020-12-14T19:46:54\",\"2020-12-14T19:46:58\",\"2020-12-14T19:50:17\",\"2020-12-14T19:59:06\",\"2020-12-14T19:59:09\",\"2020-12-14T20:09:27\",\"2020-12-14T20:12:54\",\"2020-12-14T20:14:06\",\"2020-12-14T20:28:33\",\"2020-12-14T20:45:01\",\"2020-12-14T20:52:03\",\"2020-12-14T21:06:27\",\"2020-12-14T21:06:29\",\"2020-12-14T21:07:26\",\"2020-12-14T21:08:42\",\"2020-12-14T21:20:52\",\"2020-12-14T21:20:53\",\"2020-12-14T21:26:01\",\"2020-12-14T21:53:05\",\"2020-12-14T21:53:07\",\"2020-12-14T22:15:47\",\"2020-12-14T22:21:16\",\"2020-12-14T22:45:44\",\"2020-12-14T23:00:21\",\"2020-12-14T23:07:44\",\"2020-12-14T23:09:45\",\"2020-12-14T23:33:36\",\"2020-12-14T23:51:39\",\"2020-12-14T23:51:41\",\"2020-12-14T23:58:55\",\"2020-12-14T23:59:06\",\"2020-12-14T23:59:17\",\"2020-12-14T23:59:19\",\"2020-12-15T00:00:17\",\"2020-12-15T00:00:18\",\"2020-12-15T00:26:02\",\"2020-12-15T00:26:04\",\"2020-12-15T00:33:36\",\"2020-12-15T00:37:21\",\"2020-12-15T00:41:31\",\"2020-12-15T00:41:32\",\"2020-12-15T00:41:33\",\"2020-12-15T00:47:39\",\"2020-12-15T00:47:40\",\"2020-12-15T01:24:33\",\"2020-12-15T02:03:26\",\"2020-12-15T03:03:51\",\"2020-12-15T03:20:14\",\"2020-12-15T03:20:15\",\"2020-12-15T03:28:55\",\"2020-12-15T03:52:24\",\"2020-12-15T04:15:25\",\"2020-12-15T04:42:16\",\"2020-12-15T05:07:31\",\"2020-12-15T05:07:32\",\"2020-12-15T05:09:25\",\"2020-12-15T05:11:15\",\"2020-12-15T05:11:16\",\"2020-12-15T05:28:58\",\"2020-12-15T05:39:36\",\"2020-12-15T05:40:46\",\"2020-12-15T05:40:48\",\"2020-12-15T05:40:49\",\"2020-12-15T05:53:08\",\"2020-12-15T05:53:25\",\"2020-12-15T06:33:25\",\"2020-12-15T06:34:19\",\"2020-12-15T06:34:23\",\"2020-12-15T06:35:10\",\"2020-12-15T06:54:51\",\"2020-12-15T07:05:53\",\"2020-12-15T07:32:09\",\"2020-12-15T07:35:40\",\"2020-12-15T07:35:41\",\"2020-12-15T08:05:59\",\"2020-12-15T08:15:10\",\"2020-12-15T09:31:27\",\"2020-12-15T09:31:31\",\"2020-12-15T10:16:30\",\"2020-12-15T10:18:01\",\"2020-12-15T10:22:27\",\"2020-12-15T10:22:28\",\"2020-12-15T10:25:34\",\"2020-12-15T10:29:47\",\"2020-12-15T10:38:42\",\"2020-12-15T10:54:15\",\"2020-12-15T10:59:05\",\"2020-12-15T10:59:06\",\"2020-12-15T11:29:41\",\"2020-12-15T11:29:42\",\"2020-12-15T11:31:44\",\"2020-12-15T11:32:33\",\"2020-12-15T11:35:22\",\"2020-12-15T11:43:04\",\"2020-12-15T12:01:16\",\"2020-12-15T12:02:03\",\"2020-12-15T12:02:04\",\"2020-12-15T12:02:06\",\"2020-12-15T12:04:33\",\"2020-12-15T12:17:14\",\"2020-12-15T12:17:30\",\"2020-12-15T12:17:33\",\"2020-12-15T12:38:17\",\"2020-12-15T12:38:19\",\"2020-12-15T12:38:20\",\"2020-12-15T12:46:34\",\"2020-12-15T12:56:29\",\"2020-12-15T12:56:30\",\"2020-12-15T13:36:38\",\"2020-12-15T13:36:42\",\"2020-12-15T13:45:07\",\"2020-12-15T13:45:09\",\"2020-12-15T13:46:09\",\"2020-12-15T13:50:44\",\"2020-12-15T13:52:52\",\"2020-12-15T13:57:04\",\"2020-12-15T13:58:37\",\"2020-12-15T13:58:38\",\"2020-12-15T14:06:48\",\"2020-12-15T14:08:47\",\"2020-12-15T14:08:48\",\"2020-12-15T14:13:34\",\"2020-12-15T14:16:15\",\"2020-12-15T14:30:53\",\"2020-12-15T14:34:26\",\"2020-12-15T14:34:27\",\"2020-12-15T14:35:20\",\"2020-12-15T15:21:48\",\"2020-12-15T15:21:50\",\"2020-12-15T15:40:07\",\"2020-12-15T15:54:53\",\"2020-12-15T15:54:55\",\"2020-12-15T15:55:30\",\"2020-12-15T15:55:31\",\"2020-12-15T15:58:47\",\"2020-12-15T16:36:21\",\"2020-12-15T16:36:23\",\"2020-12-15T16:43:04\",\"2020-12-15T16:59:56\",\"2020-12-15T17:00:58\",\"2020-12-15T17:01:16\",\"2020-12-15T17:01:20\",\"2020-12-15T17:04:18\",\"2020-12-15T17:24:35\",\"2020-12-15T17:24:36\",\"2020-12-15T17:45:14\",\"2020-12-15T18:14:36\",\"2020-12-15T18:21:55\",\"2020-12-15T19:02:04\",\"2020-12-15T19:08:20\",\"2020-12-15T19:12:48\",\"2020-12-15T19:12:49\",\"2020-12-15T19:27:17\",\"2020-12-15T19:27:31\",\"2020-12-15T19:27:40\",\"2020-12-15T19:34:02\",\"2020-12-15T19:43:34\",\"2020-12-15T19:43:36\",\"2020-12-15T19:52:18\",\"2020-12-15T19:52:25\",\"2020-12-15T20:08:55\",\"2020-12-15T20:08:57\",\"2020-12-15T20:13:01\",\"2020-12-15T20:13:02\",\"2020-12-15T20:16:25\",\"2020-12-15T20:22:29\",\"2020-12-15T20:22:31\",\"2020-12-15T20:22:33\",\"2020-12-15T20:43:27\",\"2020-12-15T20:55:04\",\"2020-12-15T20:55:06\",\"2020-12-15T21:06:50\",\"2020-12-15T21:06:51\",\"2020-12-15T21:07:11\",\"2020-12-15T21:08:36\",\"2020-12-15T21:08:37\",\"2020-12-15T21:24:56\",\"2020-12-15T23:01:48\",\"2020-12-15T23:05:57\",\"2020-12-15T23:08:38\",\"2020-12-15T23:08:42\",\"2020-12-15T23:08:43\",\"2020-12-15T23:25:05\",\"2020-12-15T23:28:40\",\"2020-12-15T23:29:56\",\"2020-12-15T23:29:58\",\"2020-12-15T23:52:59\",\"2020-12-16T00:02:47\",\"2020-12-16T00:11:10\",\"2020-12-16T00:11:15\",\"2020-12-16T00:12:10\",\"2020-12-16T00:18:53\",\"2020-12-16T00:49:43\",\"2020-12-16T00:53:04\",\"2020-12-16T01:03:45\",\"2020-12-16T01:17:51\",\"2020-12-16T01:17:53\",\"2020-12-16T01:22:18\",\"2020-12-16T01:22:23\",\"2020-12-16T01:22:52\",\"2020-12-16T01:33:05\",\"2020-12-16T01:33:07\",\"2020-12-16T01:33:59\",\"2020-12-16T01:34:01\",\"2020-12-16T01:40:56\",\"2020-12-16T01:40:57\",\"2020-12-16T01:51:57\",\"2020-12-16T01:51:58\",\"2020-12-16T01:55:40\",\"2020-12-16T01:55:41\",\"2020-12-16T01:57:17\",\"2020-12-16T01:58:15\",\"2020-12-16T01:58:27\",\"2020-12-16T01:58:31\",\"2020-12-16T02:13:32\",\"2020-12-16T02:13:33\",\"2020-12-16T02:25:56\",\"2020-12-16T02:25:57\",\"2020-12-16T02:28:43\",\"2020-12-16T02:42:42\",\"2020-12-16T02:45:33\",\"2020-12-16T02:50:15\",\"2020-12-16T02:57:43\",\"2020-12-16T02:57:46\",\"2020-12-16T03:18:36\",\"2020-12-16T03:18:37\",\"2020-12-16T03:29:24\",\"2020-12-16T03:51:50\",\"2020-12-16T03:51:51\",\"2020-12-16T03:52:12\",\"2020-12-16T04:08:49\",\"2020-12-16T04:08:50\",\"2020-12-16T04:11:46\",\"2020-12-16T04:23:14\",\"2020-12-16T04:26:59\",\"2020-12-16T04:29:35\",\"2020-12-16T04:29:37\",\"2020-12-16T04:37:05\",\"2020-12-16T04:37:07\",\"2020-12-16T04:42:49\",\"2020-12-16T04:49:20\",\"2020-12-16T04:57:54\",\"2020-12-16T04:59:49\",\"2020-12-16T04:59:51\",\"2020-12-16T05:14:54\",\"2020-12-16T05:17:13\",\"2020-12-16T05:17:14\",\"2020-12-16T05:24:15\",\"2020-12-16T05:26:45\",\"2020-12-16T05:47:35\",\"2020-12-16T05:50:36\",\"2020-12-16T06:09:51\",\"2020-12-16T06:10:47\",\"2020-12-16T06:15:40\",\"2020-12-16T06:28:43\",\"2020-12-16T06:28:45\",\"2020-12-16T06:42:41\",\"2020-12-16T06:44:00\",\"2020-12-16T06:53:49\",\"2020-12-16T06:53:50\",\"2020-12-16T07:08:24\",\"2020-12-16T07:09:21\",\"2020-12-16T07:20:57\",\"2020-12-16T07:33:21\",\"2020-12-16T07:49:56\",\"2020-12-16T07:57:57\",\"2020-12-16T07:57:58\",\"2020-12-16T08:24:56\",\"2020-12-16T08:24:57\",\"2020-12-16T08:32:03\",\"2020-12-16T08:32:07\",\"2020-12-16T08:32:57\",\"2020-12-16T08:32:58\",\"2020-12-16T08:35:12\",\"2020-12-16T08:36:21\",\"2020-12-16T08:36:24\",\"2020-12-16T08:41:27\",\"2020-12-16T08:57:49\",\"2020-12-16T08:57:51\",\"2020-12-16T09:05:57\",\"2020-12-16T09:05:58\",\"2020-12-16T09:08:48\",\"2020-12-16T09:17:10\",\"2020-12-16T09:17:11\",\"2020-12-16T09:18:27\",\"2020-12-16T09:28:37\",\"2020-12-16T09:29:13\",\"2020-12-16T09:50:55\",\"2020-12-16T10:11:38\",\"2020-12-16T10:12:01\",\"2020-12-16T10:36:47\",\"2020-12-16T10:36:49\",\"2020-12-16T11:11:15\",\"2020-12-16T11:11:16\",\"2020-12-16T11:20:14\",\"2020-12-16T11:27:14\",\"2020-12-16T11:27:40\",\"2020-12-16T11:27:41\",\"2020-12-16T11:28:48\",\"2020-12-16T11:28:49\",\"2020-12-16T11:35:17\",\"2020-12-16T11:41:23\",\"2020-12-16T11:42:18\",\"2020-12-16T11:42:23\",\"2020-12-16T12:03:27\",\"2020-12-16T12:10:00\",\"2020-12-16T12:12:31\",\"2020-12-16T12:12:33\",\"2020-12-16T12:17:52\",\"2020-12-16T12:17:56\",\"2020-12-16T12:35:17\",\"2020-12-16T12:35:18\",\"2020-12-16T12:40:26\",\"2020-12-16T13:08:52\",\"2020-12-16T13:08:54\",\"2020-12-16T13:10:50\",\"2020-12-16T13:14:55\",\"2020-12-16T13:19:26\",\"2020-12-16T13:19:29\",\"2020-12-16T13:31:20\",\"2020-12-16T13:31:21\",\"2020-12-16T13:32:56\",\"2020-12-16T13:32:57\",\"2020-12-16T13:32:59\",\"2020-12-16T13:48:46\",\"2020-12-16T13:48:48\",\"2020-12-16T13:51:58\",\"2020-12-16T13:56:51\",\"2020-12-16T13:56:52\",\"2020-12-16T14:02:53\",\"2020-12-16T14:16:01\",\"2020-12-16T14:38:12\",\"2020-12-16T14:38:30\",\"2020-12-16T14:38:31\",\"2020-12-16T14:39:26\",\"2020-12-16T14:53:53\",\"2020-12-16T15:07:56\",\"2020-12-16T15:25:06\",\"2020-12-16T15:25:08\",\"2020-12-16T15:25:09\",\"2020-12-16T15:34:49\",\"2020-12-16T15:34:50\",\"2020-12-16T15:50:37\",\"2020-12-16T15:50:41\",\"2020-12-16T15:50:45\",\"2020-12-16T16:03:26\",\"2020-12-16T16:03:27\",\"2020-12-16T16:29:00\",\"2020-12-16T16:33:03\",\"2020-12-16T16:33:05\",\"2020-12-16T16:35:29\",\"2020-12-16T16:35:31\",\"2020-12-16T16:43:05\",\"2020-12-16T16:44:12\",\"2020-12-16T16:47:56\",\"2020-12-16T16:48:50\",\"2020-12-16T17:05:12\",\"2020-12-16T17:05:14\",\"2020-12-16T17:05:16\",\"2020-12-16T17:08:10\",\"2020-12-16T17:27:39\",\"2020-12-16T17:38:17\",\"2020-12-16T17:43:06\",\"2020-12-16T17:43:07\",\"2020-12-16T17:56:48\",\"2020-12-16T17:56:49\",\"2020-12-16T17:59:36\",\"2020-12-16T17:59:37\",\"2020-12-16T18:39:11\",\"2020-12-16T18:51:44\",\"2020-12-16T18:51:45\",\"2020-12-16T18:53:35\",\"2020-12-16T18:56:31\",\"2020-12-16T19:05:27\",\"2020-12-16T19:05:28\",\"2020-12-16T19:06:14\",\"2020-12-16T19:06:15\",\"2020-12-16T19:25:26\",\"2020-12-16T19:25:28\",\"2020-12-16T19:45:16\",\"2020-12-16T19:47:53\",\"2020-12-16T19:47:54\",\"2020-12-16T19:48:42\",\"2020-12-16T19:56:31\",\"2020-12-16T19:56:32\",\"2020-12-16T20:08:07\",\"2020-12-16T20:08:08\",\"2020-12-16T20:15:12\",\"2020-12-16T20:15:14\",\"2020-12-16T20:15:15\",\"2020-12-16T20:21:16\",\"2020-12-16T20:21:17\",\"2020-12-16T20:23:43\",\"2020-12-16T20:35:47\",\"2020-12-16T20:35:48\",\"2020-12-16T20:40:36\",\"2020-12-16T20:40:37\",\"2020-12-16T20:48:27\",\"2020-12-16T20:51:25\",\"2020-12-16T21:13:01\",\"2020-12-16T21:14:05\",\"2020-12-16T21:14:06\",\"2020-12-16T21:15:10\",\"2020-12-16T21:15:11\",\"2020-12-16T21:49:17\",\"2020-12-16T21:50:47\",\"2020-12-16T21:50:49\",\"2020-12-16T21:53:10\",\"2020-12-16T21:53:11\",\"2020-12-16T22:05:04\",\"2020-12-16T22:06:37\",\"2020-12-16T22:23:25\",\"2020-12-16T22:32:33\",\"2020-12-16T22:32:35\",\"2020-12-16T22:35:11\",\"2020-12-16T22:57:02\",\"2020-12-16T22:57:04\",\"2020-12-16T23:03:51\",\"2020-12-16T23:22:43\",\"2020-12-16T23:22:45\",\"2020-12-16T23:22:46\",\"2020-12-16T23:23:48\",\"2020-12-16T23:32:33\",\"2020-12-16T23:33:24\",\"2020-12-16T23:33:25\",\"2020-12-17T00:07:03\",\"2020-12-17T00:07:04\",\"2020-12-17T00:21:04\",\"2020-12-17T00:27:55\",\"2020-12-17T00:44:51\",\"2020-12-17T00:44:53\",\"2020-12-17T00:46:44\",\"2020-12-17T00:51:06\",\"2020-12-17T00:52:47\",\"2020-12-17T01:00:29\",\"2020-12-17T01:04:04\",\"2020-12-17T01:04:39\",\"2020-12-17T01:04:41\",\"2020-12-17T01:05:47\",\"2020-12-17T01:41:18\",\"2020-12-17T02:00:41\",\"2020-12-17T02:04:47\",\"2020-12-17T02:04:48\",\"2020-12-17T02:33:00\",\"2020-12-17T02:36:14\",\"2020-12-17T02:36:17\",\"2020-12-17T02:45:51\",\"2020-12-17T02:45:52\",\"2020-12-17T02:53:13\",\"2020-12-17T02:56:29\",\"2020-12-17T02:59:49\",\"2020-12-17T03:00:42\",\"2020-12-17T03:00:45\",\"2020-12-17T03:09:28\",\"2020-12-17T03:11:37\",\"2020-12-17T03:26:36\",\"2020-12-17T03:45:33\",\"2020-12-17T03:47:53\",\"2020-12-17T03:47:54\",\"2020-12-17T03:47:56\",\"2020-12-17T03:51:39\",\"2020-12-17T04:01:32\",\"2020-12-17T04:07:54\",\"2020-12-17T04:15:46\",\"2020-12-17T04:26:59\",\"2020-12-17T04:27:02\",\"2020-12-17T04:33:05\",\"2020-12-17T04:33:06\",\"2020-12-17T04:35:26\",\"2020-12-17T05:00:05\",\"2020-12-17T05:04:47\",\"2020-12-17T05:04:50\",\"2020-12-17T05:09:45\",\"2020-12-17T05:09:46\",\"2020-12-17T05:14:06\",\"2020-12-17T05:27:37\",\"2020-12-17T05:27:39\",\"2020-12-17T05:46:27\",\"2020-12-17T06:32:15\",\"2020-12-17T06:43:21\",\"2020-12-17T06:56:46\",\"2020-12-17T06:56:47\",\"2020-12-17T07:11:17\",\"2020-12-17T07:11:18\",\"2020-12-17T07:17:31\",\"2020-12-17T07:22:34\",\"2020-12-17T07:35:41\",\"2020-12-17T07:44:45\",\"2020-12-17T07:51:52\",\"2020-12-17T07:55:48\",\"2020-12-17T07:55:51\",\"2020-12-17T07:58:51\",\"2020-12-17T07:58:54\",\"2020-12-17T08:02:11\",\"2020-12-17T08:02:13\",\"2020-12-17T08:06:53\",\"2020-12-17T09:36:02\",\"2020-12-17T09:36:03\",\"2020-12-17T09:44:59\",\"2020-12-17T09:45:02\",\"2020-12-17T09:46:42\",\"2020-12-17T09:48:35\",\"2020-12-17T09:48:36\",\"2020-12-17T09:55:39\",\"2020-12-17T10:20:58\",\"2020-12-17T10:33:25\",\"2020-12-17T10:42:30\",\"2020-12-17T10:48:09\",\"2020-12-17T10:48:10\",\"2020-12-17T10:50:46\",\"2020-12-17T10:50:48\",\"2020-12-17T11:16:15\",\"2020-12-17T11:16:36\",\"2020-12-17T11:36:11\",\"2020-12-17T11:36:13\",\"2020-12-17T11:36:14\",\"2020-12-17T11:53:56\",\"2020-12-17T11:53:57\",\"2020-12-17T11:54:39\",\"2020-12-17T11:54:42\",\"2020-12-17T11:57:20\",\"2020-12-17T11:57:21\",\"2020-12-17T11:57:22\",\"2020-12-17T11:58:19\",\"2020-12-17T12:22:25\",\"2020-12-17T12:22:26\",\"2020-12-17T12:23:41\",\"2020-12-17T12:23:42\",\"2020-12-17T12:25:03\",\"2020-12-17T12:25:58\",\"2020-12-17T13:24:40\",\"2020-12-17T13:24:41\",\"2020-12-17T13:25:01\",\"2020-12-17T13:36:03\",\"2020-12-17T13:36:04\",\"2020-12-17T13:54:52\",\"2020-12-17T13:55:59\",\"2020-12-17T14:00:15\",\"2020-12-17T14:00:17\",\"2020-12-17T14:29:22\",\"2020-12-17T14:29:24\",\"2020-12-17T14:50:29\",\"2020-12-17T14:58:16\",\"2020-12-17T14:58:17\",\"2020-12-17T14:59:54\",\"2020-12-17T14:59:56\",\"2020-12-17T15:00:19\",\"2020-12-17T15:00:20\",\"2020-12-17T15:14:53\",\"2020-12-17T15:14:54\",\"2020-12-17T15:14:55\",\"2020-12-17T15:20:23\",\"2020-12-17T15:20:25\",\"2020-12-17T15:42:53\",\"2020-12-17T15:50:11\",\"2020-12-17T15:50:14\",\"2020-12-17T15:54:15\",\"2020-12-17T15:54:16\",\"2020-12-17T16:39:05\",\"2020-12-17T16:42:41\",\"2020-12-17T16:48:17\",\"2020-12-17T16:48:21\",\"2020-12-17T16:50:36\",\"2020-12-17T17:04:59\",\"2020-12-17T17:11:08\",\"2020-12-17T17:11:09\",\"2020-12-17T17:21:58\",\"2020-12-17T17:22:39\",\"2020-12-17T17:39:09\",\"2020-12-17T17:47:35\",\"2020-12-17T17:47:39\",\"2020-12-17T17:50:14\",\"2020-12-17T18:19:05\",\"2020-12-17T18:29:01\",\"2020-12-17T18:30:54\",\"2020-12-17T18:52:52\",\"2020-12-17T18:52:53\",\"2020-12-17T18:58:09\",\"2020-12-17T18:58:10\",\"2020-12-17T19:08:59\",\"2020-12-17T19:09:00\",\"2020-12-17T19:09:10\",\"2020-12-17T19:09:11\",\"2020-12-17T19:10:15\",\"2020-12-17T19:10:16\",\"2020-12-17T19:40:47\",\"2020-12-17T19:40:48\",\"2020-12-17T20:02:33\",\"2020-12-17T20:02:35\",\"2020-12-17T20:03:57\",\"2020-12-17T20:03:58\",\"2020-12-17T20:03:59\",\"2020-12-17T20:08:48\",\"2020-12-17T20:08:49\",\"2020-12-17T20:28:48\",\"2020-12-17T20:32:18\",\"2020-12-17T20:39:36\",\"2020-12-17T21:56:19\",\"2020-12-17T21:56:20\",\"2020-12-17T21:59:56\",\"2020-12-17T21:59:58\",\"2020-12-17T22:23:51\",\"2020-12-17T22:23:53\",\"2020-12-17T22:27:20\",\"2020-12-17T22:58:43\",\"2020-12-17T23:31:04\",\"2020-12-17T23:36:48\",\"2020-12-17T23:36:51\",\"2020-12-17T23:42:39\",\"2020-12-17T23:51:40\",\"2020-12-17T23:51:43\",\"2020-12-18T00:18:36\",\"2020-12-18T00:32:43\",\"2020-12-18T00:32:44\",\"2020-12-18T00:53:40\",\"2020-12-18T00:53:41\",\"2020-12-18T01:02:56\",\"2020-12-18T01:20:31\",\"2020-12-18T01:21:54\",\"2020-12-18T01:21:56\",\"2020-12-18T01:24:07\",\"2020-12-18T01:24:10\",\"2020-12-18T01:26:31\",\"2020-12-18T01:26:36\",\"2020-12-18T02:15:03\",\"2020-12-18T02:30:39\",\"2020-12-18T02:30:40\",\"2020-12-18T02:33:08\",\"2020-12-18T02:42:14\",\"2020-12-18T02:44:24\",\"2020-12-18T02:45:17\",\"2020-12-18T02:58:08\",\"2020-12-18T03:26:43\",\"2020-12-18T03:26:44\",\"2020-12-18T03:38:32\",\"2020-12-18T03:42:29\",\"2020-12-18T03:47:03\",\"2020-12-18T03:49:51\",\"2020-12-18T03:49:53\",\"2020-12-18T04:28:42\",\"2020-12-18T04:28:44\",\"2020-12-18T04:28:48\",\"2020-12-18T04:40:14\",\"2020-12-18T04:49:10\",\"2020-12-18T04:49:12\",\"2020-12-18T04:53:58\",\"2020-12-18T05:04:09\",\"2020-12-18T05:12:03\",\"2020-12-18T05:18:01\",\"2020-12-18T05:27:20\",\"2020-12-18T05:32:31\",\"2020-12-18T05:46:55\",\"2020-12-18T05:47:00\",\"2020-12-18T06:02:35\",\"2020-12-18T06:10:49\",\"2020-12-18T06:10:50\",\"2020-12-18T06:12:45\",\"2020-12-18T06:12:46\",\"2020-12-18T06:18:27\",\"2020-12-18T06:39:36\",\"2020-12-18T06:40:51\",\"2020-12-18T06:51:16\",\"2020-12-18T06:51:18\",\"2020-12-18T06:57:47\",\"2020-12-18T06:57:48\",\"2020-12-18T06:57:49\",\"2020-12-18T06:58:32\",\"2020-12-18T07:01:15\",\"2020-12-18T07:06:24\",\"2020-12-18T07:06:27\",\"2020-12-18T07:06:30\",\"2020-12-18T07:06:31\",\"2020-12-18T07:08:38\",\"2020-12-18T07:08:39\",\"2020-12-18T07:08:50\",\"2020-12-18T07:48:45\",\"2020-12-18T07:48:47\",\"2020-12-18T07:51:27\",\"2020-12-18T07:51:29\",\"2020-12-18T07:55:09\",\"2020-12-18T08:00:41\",\"2020-12-18T08:02:54\",\"2020-12-18T08:02:56\",\"2020-12-18T08:06:15\",\"2020-12-18T08:07:04\",\"2020-12-18T08:08:20\",\"2020-12-18T08:08:22\",\"2020-12-18T08:08:23\",\"2020-12-18T08:16:21\",\"2020-12-18T08:27:12\",\"2020-12-18T08:48:10\",\"2020-12-18T09:09:10\",\"2020-12-18T09:09:11\",\"2020-12-18T09:35:29\",\"2020-12-18T09:35:30\",\"2020-12-18T09:35:35\",\"2020-12-18T09:49:20\",\"2020-12-18T09:49:21\",\"2020-12-18T09:50:24\",\"2020-12-18T09:51:57\",\"2020-12-18T09:52:00\",\"2020-12-18T09:59:19\",\"2020-12-18T10:15:42\",\"2020-12-18T10:15:43\",\"2020-12-18T10:21:27\",\"2020-12-18T10:23:04\",\"2020-12-18T10:32:57\",\"2020-12-18T10:39:12\",\"2020-12-18T11:06:20\",\"2020-12-18T11:07:11\",\"2020-12-18T11:12:01\",\"2020-12-18T11:12:02\",\"2020-12-18T11:27:49\",\"2020-12-18T11:29:20\",\"2020-12-18T11:29:23\",\"2020-12-18T11:31:14\",\"2020-12-18T11:45:57\",\"2020-12-18T12:03:07\",\"2020-12-18T12:03:09\",\"2020-12-18T12:03:13\",\"2020-12-18T12:03:14\",\"2020-12-18T12:29:10\",\"2020-12-18T12:29:13\",\"2020-12-18T13:16:18\",\"2020-12-18T13:43:44\",\"2020-12-18T14:32:18\",\"2020-12-18T15:00:41\",\"2020-12-18T15:14:54\",\"2020-12-18T15:25:42\",\"2020-12-18T15:25:43\",\"2020-12-18T15:38:51\",\"2020-12-18T15:38:53\",\"2020-12-18T15:40:42\",\"2020-12-18T16:08:52\",\"2020-12-18T16:39:35\",\"2020-12-18T16:40:02\",\"2020-12-18T16:42:17\",\"2020-12-18T16:42:19\",\"2020-12-18T16:47:55\",\"2020-12-18T17:12:49\",\"2020-12-18T17:12:51\",\"2020-12-18T17:41:57\",\"2020-12-18T17:47:47\",\"2020-12-18T17:48:08\",\"2020-12-18T18:18:08\",\"2020-12-18T18:18:10\",\"2020-12-18T18:19:01\",\"2020-12-18T18:19:03\",\"2020-12-18T18:23:28\",\"2020-12-18T18:30:21\",\"2020-12-18T18:30:23\",\"2020-12-18T18:30:24\",\"2020-12-18T18:55:28\",\"2020-12-18T18:55:30\",\"2020-12-18T19:01:03\",\"2020-12-18T19:01:04\",\"2020-12-18T19:30:45\",\"2020-12-18T19:30:46\",\"2020-12-18T19:36:20\",\"2020-12-18T19:41:57\",\"2020-12-18T19:43:58\",\"2020-12-18T19:43:59\",\"2020-12-18T20:09:27\",\"2020-12-18T20:15:18\",\"2020-12-18T20:17:31\",\"2020-12-18T20:17:32\",\"2020-12-18T20:29:44\",\"2020-12-18T20:29:46\",\"2020-12-18T20:39:41\",\"2020-12-18T20:39:42\",\"2020-12-18T20:49:13\",\"2020-12-18T20:56:21\",\"2020-12-18T21:20:32\",\"2020-12-18T21:20:34\",\"2020-12-18T21:47:26\",\"2020-12-18T21:47:28\",\"2020-12-18T22:04:12\",\"2020-12-18T22:15:55\",\"2020-12-18T22:15:57\",\"2020-12-18T22:16:18\",\"2020-12-18T22:16:20\",\"2020-12-18T22:23:12\",\"2020-12-18T22:31:58\",\"2020-12-18T22:32:00\",\"2020-12-18T22:34:22\",\"2020-12-18T22:35:27\",\"2020-12-18T22:35:29\",\"2020-12-18T22:45:48\",\"2020-12-18T22:50:05\",\"2020-12-18T22:50:06\",\"2020-12-18T23:19:26\",\"2020-12-18T23:20:41\",\"2020-12-18T23:20:42\",\"2020-12-18T23:23:40\",\"2020-12-18T23:23:41\",\"2020-12-18T23:23:42\",\"2020-12-18T23:43:04\",\"2020-12-18T23:57:25\",\"2020-12-19T00:08:05\",\"2020-12-19T00:13:26\",\"2020-12-19T00:20:18\",\"2020-12-19T00:20:19\",\"2020-12-19T00:40:25\",\"2020-12-19T00:40:27\",\"2020-12-19T00:47:57\",\"2020-12-19T00:59:20\",\"2020-12-19T00:59:21\",\"2020-12-19T01:34:25\",\"2020-12-19T01:34:27\",\"2020-12-19T01:37:33\",\"2020-12-19T02:25:02\",\"2020-12-19T02:25:03\",\"2020-12-19T02:30:50\",\"2020-12-19T02:50:06\",\"2020-12-19T02:51:11\",\"2020-12-19T02:53:45\",\"2020-12-19T03:05:17\",\"2020-12-19T03:06:38\",\"2020-12-19T03:06:39\",\"2020-12-19T03:17:28\",\"2020-12-19T03:24:43\",\"2020-12-19T03:24:44\",\"2020-12-19T03:24:45\",\"2020-12-19T03:47:59\",\"2020-12-19T03:48:00\",\"2020-12-19T03:48:59\",\"2020-12-19T04:28:10\",\"2020-12-19T04:38:22\",\"2020-12-19T05:10:44\",\"2020-12-19T05:25:10\",\"2020-12-19T05:28:53\",\"2020-12-19T05:31:49\",\"2020-12-19T05:34:40\",\"2020-12-19T05:48:59\",\"2020-12-19T05:49:02\",\"2020-12-19T05:56:19\",\"2020-12-19T06:12:58\",\"2020-12-19T06:17:10\",\"2020-12-19T06:25:19\",\"2020-12-19T06:25:23\",\"2020-12-19T06:25:26\",\"2020-12-19T06:32:23\",\"2020-12-19T06:32:24\",\"2020-12-19T06:44:31\",\"2020-12-19T06:44:32\",\"2020-12-19T06:49:28\",\"2020-12-19T06:49:31\",\"2020-12-19T07:21:50\",\"2020-12-19T07:21:52\",\"2020-12-19T07:24:52\",\"2020-12-19T07:24:53\",\"2020-12-19T07:27:14\",\"2020-12-19T07:59:52\",\"2020-12-19T07:59:53\",\"2020-12-19T08:11:59\",\"2020-12-19T08:36:51\",\"2020-12-19T08:36:54\",\"2020-12-19T08:37:44\",\"2020-12-19T08:39:58\",\"2020-12-19T08:52:52\",\"2020-12-19T09:30:29\",\"2020-12-19T09:30:30\",\"2020-12-19T09:42:03\",\"2020-12-19T09:45:55\",\"2020-12-19T09:45:56\",\"2020-12-19T09:48:21\",\"2020-12-19T09:51:42\",\"2020-12-19T10:10:09\",\"2020-12-19T10:13:09\",\"2020-12-19T10:13:10\",\"2020-12-19T10:19:27\",\"2020-12-19T10:26:28\",\"2020-12-19T10:26:30\",\"2020-12-19T10:33:53\",\"2020-12-19T10:33:54\",\"2020-12-19T10:50:03\",\"2020-12-19T10:50:05\",\"2020-12-19T11:08:05\",\"2020-12-19T11:19:25\",\"2020-12-19T11:20:37\",\"2020-12-19T11:45:03\",\"2020-12-19T12:15:42\",\"2020-12-19T12:15:43\",\"2020-12-19T12:17:07\",\"2020-12-19T12:17:08\",\"2020-12-19T12:23:05\",\"2020-12-19T12:29:34\",\"2020-12-19T12:34:16\",\"2020-12-19T12:43:18\",\"2020-12-19T12:43:21\",\"2020-12-19T12:48:31\",\"2020-12-19T12:48:35\",\"2020-12-19T12:49:07\",\"2020-12-19T12:49:09\",\"2020-12-19T12:56:15\",\"2020-12-19T12:56:16\",\"2020-12-19T12:56:33\",\"2020-12-19T13:11:55\",\"2020-12-19T13:12:00\",\"2020-12-19T13:24:24\",\"2020-12-19T13:24:25\",\"2020-12-19T13:29:53\",\"2020-12-19T13:31:24\",\"2020-12-19T13:44:44\",\"2020-12-19T13:44:47\",\"2020-12-19T14:01:02\",\"2020-12-19T14:01:03\",\"2020-12-19T14:04:10\",\"2020-12-19T14:04:18\",\"2020-12-19T14:04:19\",\"2020-12-19T14:18:14\",\"2020-12-19T14:18:15\",\"2020-12-19T15:15:18\",\"2020-12-19T15:30:13\",\"2020-12-19T15:32:09\",\"2020-12-19T15:32:12\",\"2020-12-19T15:42:27\",\"2020-12-19T15:42:28\",\"2020-12-19T15:47:14\",\"2020-12-19T15:47:15\",\"2020-12-19T15:50:17\",\"2020-12-19T15:52:20\",\"2020-12-19T15:52:22\",\"2020-12-19T16:26:58\",\"2020-12-19T16:36:38\",\"2020-12-19T16:36:39\",\"2020-12-19T16:36:41\",\"2020-12-19T16:49:48\",\"2020-12-19T17:02:17\",\"2020-12-19T17:09:29\",\"2020-12-19T17:23:55\",\"2020-12-19T17:34:57\",\"2020-12-19T17:34:58\",\"2020-12-19T17:49:02\",\"2020-12-19T17:49:04\",\"2020-12-19T18:01:22\",\"2020-12-19T18:01:23\",\"2020-12-19T18:06:41\",\"2020-12-19T18:21:02\",\"2020-12-19T18:21:04\",\"2020-12-19T18:21:27\",\"2020-12-19T18:23:50\",\"2020-12-19T18:23:52\",\"2020-12-19T18:26:09\",\"2020-12-19T18:26:10\",\"2020-12-19T18:40:11\",\"2020-12-19T18:54:51\",\"2020-12-19T18:54:55\",\"2020-12-19T18:57:26\",\"2020-12-19T19:08:07\",\"2020-12-19T19:25:19\",\"2020-12-19T19:25:20\",\"2020-12-19T19:32:36\",\"2020-12-19T19:32:38\",\"2020-12-19T19:32:39\",\"2020-12-19T19:39:42\",\"2020-12-19T19:49:13\",\"2020-12-19T20:10:27\",\"2020-12-19T20:15:06\",\"2020-12-19T20:15:38\",\"2020-12-19T20:15:39\",\"2020-12-19T20:19:47\",\"2020-12-19T20:31:54\",\"2020-12-19T20:31:55\",\"2020-12-19T20:33:34\",\"2020-12-19T20:33:36\",\"2020-12-19T20:51:04\",\"2020-12-19T20:59:12\",\"2020-12-19T21:07:54\",\"2020-12-19T21:29:15\",\"2020-12-19T21:29:16\",\"2020-12-19T21:29:18\",\"2020-12-19T21:29:57\",\"2020-12-19T21:29:58\",\"2020-12-19T21:32:38\",\"2020-12-19T21:33:06\",\"2020-12-19T21:33:09\",\"2020-12-19T21:33:10\",\"2020-12-19T21:33:42\",\"2020-12-19T22:16:56\",\"2020-12-19T22:25:41\",\"2020-12-19T22:48:01\",\"2020-12-19T22:49:53\",\"2020-12-19T22:57:45\",\"2020-12-19T22:57:46\",\"2020-12-19T22:59:03\",\"2020-12-19T23:01:51\",\"2020-12-19T23:01:52\",\"2020-12-19T23:03:33\",\"2020-12-19T23:17:50\",\"2020-12-19T23:17:51\",\"2020-12-19T23:21:40\",\"2020-12-19T23:25:55\",\"2020-12-19T23:26:30\",\"2020-12-19T23:32:05\",\"2020-12-19T23:32:07\",\"2020-12-19T23:34:42\",\"2020-12-19T23:34:44\",\"2020-12-19T23:35:45\",\"2020-12-19T23:40:29\",\"2020-12-20T00:01:02\",\"2020-12-20T00:17:30\",\"2020-12-20T00:17:32\",\"2020-12-20T00:29:49\",\"2020-12-20T00:34:42\",\"2020-12-20T00:34:45\",\"2020-12-20T00:44:08\",\"2020-12-20T00:44:10\",\"2020-12-20T00:53:16\",\"2020-12-20T00:53:17\",\"2020-12-20T01:00:51\",\"2020-12-20T01:01:34\",\"2020-12-20T01:10:04\",\"2020-12-20T01:23:02\",\"2020-12-20T01:53:08\",\"2020-12-20T01:53:09\",\"2020-12-20T02:00:29\",\"2020-12-20T02:00:30\",\"2020-12-20T02:00:32\",\"2020-12-20T02:31:31\",\"2020-12-20T02:35:55\",\"2020-12-20T03:06:24\",\"2020-12-20T03:06:29\",\"2020-12-20T03:25:19\",\"2020-12-20T03:50:07\",\"2020-12-20T03:50:10\",\"2020-12-20T04:12:00\",\"2020-12-20T04:22:14\",\"2020-12-20T04:27:46\",\"2020-12-20T04:37:25\",\"2020-12-20T04:37:26\",\"2020-12-20T04:42:03\",\"2020-12-20T05:03:21\",\"2020-12-20T05:11:37\",\"2020-12-20T05:18:21\",\"2020-12-20T05:19:43\",\"2020-12-20T05:19:44\",\"2020-12-20T05:31:10\",\"2020-12-20T05:31:11\",\"2020-12-20T05:59:11\",\"2020-12-20T06:05:12\",\"2020-12-20T06:06:13\",\"2020-12-20T06:06:14\",\"2020-12-20T06:08:56\",\"2020-12-20T06:08:57\",\"2020-12-20T06:12:55\",\"2020-12-20T06:12:59\",\"2020-12-20T06:42:15\",\"2020-12-20T06:44:41\",\"2020-12-20T06:48:46\",\"2020-12-20T06:51:14\",\"2020-12-20T06:53:21\",\"2020-12-20T07:04:03\",\"2020-12-20T07:09:29\",\"2020-12-20T07:10:58\",\"2020-12-20T07:15:57\",\"2020-12-20T07:15:58\",\"2020-12-20T07:17:42\",\"2020-12-20T07:17:45\",\"2020-12-20T07:20:25\",\"2020-12-20T07:33:25\",\"2020-12-20T07:33:42\",\"2020-12-20T07:33:43\",\"2020-12-20T07:53:33\",\"2020-12-20T08:15:51\",\"2020-12-20T08:24:28\",\"2020-12-20T08:24:53\",\"2020-12-20T08:24:55\",\"2020-12-20T08:29:30\",\"2020-12-20T08:29:31\",\"2020-12-20T08:33:31\",\"2020-12-20T08:39:28\",\"2020-12-20T08:39:29\",\"2020-12-20T08:49:24\",\"2020-12-20T08:58:04\",\"2020-12-20T08:58:05\",\"2020-12-20T09:00:23\",\"2020-12-20T09:00:27\",\"2020-12-20T09:11:27\",\"2020-12-20T09:13:16\",\"2020-12-20T09:33:51\",\"2020-12-20T09:33:53\",\"2020-12-20T09:35:17\",\"2020-12-20T09:46:54\",\"2020-12-20T09:49:55\",\"2020-12-20T09:49:56\",\"2020-12-20T09:55:32\",\"2020-12-20T10:05:05\",\"2020-12-20T10:05:06\",\"2020-12-20T10:05:09\",\"2020-12-20T10:08:36\",\"2020-12-20T10:21:59\",\"2020-12-20T10:27:21\",\"2020-12-20T10:28:03\",\"2020-12-20T10:28:05\",\"2020-12-20T10:52:43\",\"2020-12-20T10:53:29\",\"2020-12-20T10:53:32\",\"2020-12-20T11:05:42\",\"2020-12-20T11:05:43\",\"2020-12-20T11:13:53\",\"2020-12-20T11:27:58\",\"2020-12-20T11:30:44\",\"2020-12-20T11:30:45\",\"2020-12-20T12:00:02\",\"2020-12-20T12:00:03\",\"2020-12-20T12:05:49\",\"2020-12-20T12:07:11\",\"2020-12-20T12:13:47\",\"2020-12-20T12:19:24\",\"2020-12-20T12:22:50\",\"2020-12-20T12:50:23\",\"2020-12-20T12:50:24\",\"2020-12-20T13:11:36\",\"2020-12-20T13:13:49\",\"2020-12-20T13:13:51\",\"2020-12-20T13:16:09\",\"2020-12-20T13:16:10\",\"2020-12-20T13:18:15\",\"2020-12-20T13:29:21\",\"2020-12-20T13:30:31\",\"2020-12-20T13:32:28\",\"2020-12-20T13:49:36\",\"2020-12-20T14:05:18\",\"2020-12-20T14:05:20\",\"2020-12-20T14:13:18\",\"2020-12-20T14:22:54\",\"2020-12-20T14:28:37\",\"2020-12-20T14:35:15\",\"2020-12-20T14:38:30\",\"2020-12-20T14:43:27\",\"2020-12-20T14:43:28\",\"2020-12-20T14:43:42\",\"2020-12-20T14:46:28\",\"2020-12-20T14:46:31\",\"2020-12-20T15:02:02\",\"2020-12-20T15:02:04\",\"2020-12-20T15:10:17\",\"2020-12-20T15:15:15\",\"2020-12-20T15:15:16\",\"2020-12-20T15:18:19\",\"2020-12-20T15:18:20\",\"2020-12-20T15:18:21\",\"2020-12-20T15:20:20\",\"2020-12-20T15:28:38\",\"2020-12-20T15:29:43\",\"2020-12-20T15:36:15\",\"2020-12-20T15:37:24\",\"2020-12-20T15:37:25\",\"2020-12-20T15:37:57\",\"2020-12-20T15:43:32\",\"2020-12-20T15:43:34\",\"2020-12-20T15:45:23\",\"2020-12-20T15:45:28\",\"2020-12-20T15:47:37\",\"2020-12-20T15:47:41\",\"2020-12-20T15:49:24\",\"2020-12-20T16:13:54\",\"2020-12-20T16:13:55\",\"2020-12-20T16:14:27\",\"2020-12-20T16:14:28\",\"2020-12-20T16:16:52\",\"2020-12-20T16:49:48\",\"2020-12-20T16:53:01\",\"2020-12-20T16:53:03\",\"2020-12-20T16:59:22\",\"2020-12-20T16:59:23\",\"2020-12-20T17:30:03\",\"2020-12-20T17:31:08\",\"2020-12-20T17:31:09\",\"2020-12-20T17:34:26\",\"2020-12-20T17:46:03\",\"2020-12-20T17:55:02\",\"2020-12-20T17:55:09\",\"2020-12-20T17:55:10\",\"2020-12-20T18:41:16\",\"2020-12-20T18:49:10\",\"2020-12-20T18:53:27\",\"2020-12-20T18:58:33\",\"2020-12-20T19:01:02\",\"2020-12-20T19:26:08\",\"2020-12-20T19:44:12\",\"2020-12-20T19:44:15\",\"2020-12-20T19:44:58\",\"2020-12-20T20:06:37\",\"2020-12-20T20:07:42\",\"2020-12-20T20:08:10\",\"2020-12-20T20:08:12\",\"2020-12-20T20:08:13\",\"2020-12-20T20:17:06\",\"2020-12-20T20:38:04\",\"2020-12-20T20:47:40\",\"2020-12-20T20:47:41\",\"2020-12-20T21:01:49\",\"2020-12-20T21:01:50\",\"2020-12-20T21:01:51\",\"2020-12-20T21:09:08\",\"2020-12-20T21:12:46\",\"2020-12-20T21:12:47\",\"2020-12-20T21:13:06\",\"2020-12-20T22:10:31\",\"2020-12-20T22:10:32\",\"2020-12-20T22:25:59\",\"2020-12-20T22:26:00\",\"2020-12-20T22:32:36\",\"2020-12-20T22:34:26\",\"2020-12-20T22:42:22\",\"2020-12-20T22:42:25\",\"2020-12-20T22:45:19\",\"2020-12-20T22:45:21\",\"2020-12-20T22:57:41\",\"2020-12-20T23:06:37\",\"2020-12-20T23:06:38\",\"2020-12-20T23:12:20\",\"2020-12-20T23:12:21\",\"2020-12-20T23:12:23\",\"2020-12-20T23:30:37\",\"2020-12-20T23:30:39\",\"2020-12-20T23:48:25\",\"2020-12-20T23:48:26\",\"2020-12-20T23:51:52\",\"2020-12-20T23:58:43\",\"2020-12-21T00:03:22\",\"2020-12-21T00:03:23\",\"2020-12-21T00:03:24\",\"2020-12-21T00:13:31\",\"2020-12-21T00:22:52\",\"2020-12-21T00:22:53\",\"2020-12-21T00:27:11\",\"2020-12-21T00:29:48\",\"2020-12-21T00:37:55\",\"2020-12-21T00:43:41\",\"2020-12-21T00:48:03\",\"2020-12-21T00:49:58\",\"2020-12-21T01:00:35\",\"2020-12-21T01:10:29\",\"2020-12-21T01:10:31\",\"2020-12-21T01:10:34\",\"2020-12-21T01:25:38\",\"2020-12-21T01:28:23\",\"2020-12-21T01:28:25\",\"2020-12-21T01:44:14\",\"2020-12-21T01:44:18\",\"2020-12-21T01:54:20\",\"2020-12-21T01:54:21\",\"2020-12-21T02:04:59\",\"2020-12-21T02:06:49\",\"2020-12-21T02:15:27\",\"2020-12-21T02:20:54\",\"2020-12-21T02:20:56\",\"2020-12-21T02:33:10\",\"2020-12-21T02:40:14\",\"2020-12-21T02:40:15\",\"2020-12-21T02:56:43\",\"2020-12-21T02:56:44\",\"2020-12-21T02:59:19\",\"2020-12-21T03:14:35\",\"2020-12-21T03:19:15\",\"2020-12-21T03:19:17\",\"2020-12-21T03:25:19\",\"2020-12-21T03:35:21\",\"2020-12-21T03:35:22\",\"2020-12-21T03:49:49\",\"2020-12-21T04:03:15\",\"2020-12-21T04:14:24\",\"2020-12-21T04:22:45\",\"2020-12-21T04:30:28\",\"2020-12-21T04:30:29\",\"2020-12-21T04:32:17\",\"2020-12-21T04:34:21\",\"2020-12-21T04:36:16\",\"2020-12-21T04:38:40\",\"2020-12-21T04:40:03\",\"2020-12-21T04:40:05\",\"2020-12-21T04:41:01\",\"2020-12-21T04:41:02\",\"2020-12-21T04:41:22\",\"2020-12-21T04:48:36\",\"2020-12-21T04:48:37\",\"2020-12-21T05:10:48\",\"2020-12-21T05:23:35\",\"2020-12-21T05:25:05\",\"2020-12-21T05:25:07\",\"2020-12-21T05:25:09\",\"2020-12-21T05:47:10\",\"2020-12-21T05:59:31\",\"2020-12-21T06:00:53\",\"2020-12-21T06:00:54\",\"2020-12-21T06:07:21\",\"2020-12-21T06:07:22\",\"2020-12-21T06:07:43\",\"2020-12-21T06:14:03\",\"2020-12-21T06:14:04\",\"2020-12-21T06:19:21\",\"2020-12-21T06:19:23\",\"2020-12-21T06:35:03\",\"2020-12-21T06:35:05\",\"2020-12-21T06:40:20\",\"2020-12-21T06:42:17\",\"2020-12-21T07:00:45\",\"2020-12-21T07:02:25\",\"2020-12-21T07:02:26\",\"2020-12-21T07:02:27\",\"2020-12-21T07:18:37\",\"2020-12-21T07:18:38\",\"2020-12-21T07:18:39\",\"2020-12-21T07:20:39\",\"2020-12-21T07:23:29\",\"2020-12-21T07:23:31\",\"2020-12-21T07:23:33\",\"2020-12-21T07:23:49\",\"2020-12-21T07:27:09\",\"2020-12-21T07:30:32\",\"2020-12-21T07:38:06\",\"2020-12-21T07:39:16\",\"2020-12-21T07:40:31\",\"2020-12-21T07:44:45\",\"2020-12-21T08:04:06\",\"2020-12-21T08:09:23\",\"2020-12-21T08:09:25\",\"2020-12-21T08:09:38\",\"2020-12-21T08:09:40\",\"2020-12-21T08:09:43\",\"2020-12-21T08:09:46\",\"2020-12-21T08:22:37\",\"2020-12-21T08:32:01\",\"2020-12-21T08:37:33\",\"2020-12-21T08:37:34\",\"2020-12-21T08:42:28\",\"2020-12-21T08:43:43\",\"2020-12-21T08:43:46\",\"2020-12-21T08:52:45\",\"2020-12-21T08:55:46\",\"2020-12-21T09:02:35\",\"2020-12-21T09:27:56\",\"2020-12-21T09:53:04\",\"2020-12-21T10:04:36\",\"2020-12-21T10:04:37\",\"2020-12-21T10:10:24\",\"2020-12-21T10:10:26\",\"2020-12-21T10:15:17\",\"2020-12-21T10:22:17\",\"2020-12-21T10:22:18\",\"2020-12-21T10:22:19\",\"2020-12-21T10:31:23\",\"2020-12-21T10:42:05\",\"2020-12-21T10:48:50\",\"2020-12-21T10:48:52\",\"2020-12-21T10:53:40\",\"2020-12-21T10:53:41\",\"2020-12-21T10:57:55\",\"2020-12-21T10:57:56\",\"2020-12-21T11:00:13\",\"2020-12-21T11:05:50\",\"2020-12-21T11:11:20\",\"2020-12-21T11:13:19\",\"2020-12-21T11:13:23\",\"2020-12-21T11:23:43\",\"2020-12-21T11:23:44\",\"2020-12-21T11:25:26\",\"2020-12-21T11:25:30\",\"2020-12-21T11:31:09\",\"2020-12-21T11:32:34\",\"2020-12-21T11:43:45\",\"2020-12-21T12:03:05\",\"2020-12-21T12:12:37\",\"2020-12-21T12:12:38\",\"2020-12-21T12:12:39\",\"2020-12-21T12:34:22\",\"2020-12-21T12:54:09\",\"2020-12-21T12:54:10\",\"2020-12-21T13:00:48\",\"2020-12-21T13:00:53\",\"2020-12-21T13:06:59\",\"2020-12-21T13:23:10\",\"2020-12-21T13:23:11\",\"2020-12-21T13:31:50\",\"2020-12-21T13:31:51\",\"2020-12-21T13:34:48\",\"2020-12-21T13:57:17\",\"2020-12-21T13:57:19\",\"2020-12-21T14:00:21\",\"2020-12-21T14:00:43\",\"2020-12-21T14:10:51\",\"2020-12-21T14:10:54\",\"2020-12-21T14:47:14\",\"2020-12-21T14:47:15\",\"2020-12-21T14:48:59\",\"2020-12-21T14:49:00\",\"2020-12-21T14:52:07\",\"2020-12-21T14:59:51\",\"2020-12-21T14:59:52\",\"2020-12-21T15:00:57\",\"2020-12-21T15:01:17\",\"2020-12-21T15:20:08\",\"2020-12-21T15:20:10\",\"2020-12-21T15:31:56\",\"2020-12-21T15:32:49\",\"2020-12-21T15:32:52\",\"2020-12-21T15:54:44\",\"2020-12-21T15:54:46\",\"2020-12-21T16:09:41\",\"2020-12-21T16:14:15\",\"2020-12-21T16:27:30\",\"2020-12-21T16:34:23\",\"2020-12-21T16:42:48\",\"2020-12-21T16:45:56\",\"2020-12-21T16:47:46\",\"2020-12-21T16:56:03\",\"2020-12-21T17:07:00\",\"2020-12-21T17:17:34\",\"2020-12-21T17:24:21\",\"2020-12-21T17:24:23\",\"2020-12-21T17:26:43\",\"2020-12-21T17:26:46\",\"2020-12-21T17:30:13\",\"2020-12-21T17:37:16\",\"2020-12-21T17:38:26\",\"2020-12-21T17:38:27\",\"2020-12-21T17:46:28\",\"2020-12-21T17:47:00\",\"2020-12-21T17:50:55\",\"2020-12-21T17:54:33\",\"2020-12-21T17:55:31\",\"2020-12-21T17:55:32\",\"2020-12-21T18:13:38\",\"2020-12-21T18:13:41\",\"2020-12-21T18:13:42\",\"2020-12-21T18:14:43\",\"2020-12-21T18:14:44\",\"2020-12-21T18:42:38\",\"2020-12-21T18:46:18\",\"2020-12-21T19:03:31\",\"2020-12-21T19:04:34\",\"2020-12-21T19:04:37\",\"2020-12-21T19:09:57\",\"2020-12-21T19:10:02\",\"2020-12-21T19:12:40\",\"2020-12-21T19:12:41\",\"2020-12-21T19:15:55\",\"2020-12-21T19:15:57\",\"2020-12-21T19:25:30\",\"2020-12-21T19:26:53\",\"2020-12-21T19:26:54\",\"2020-12-21T19:32:15\",\"2020-12-21T19:42:00\",\"2020-12-21T19:43:39\",\"2020-12-21T19:44:22\",\"2020-12-21T19:46:56\",\"2020-12-21T19:46:58\",\"2020-12-21T19:48:35\",\"2020-12-21T19:49:03\",\"2020-12-21T19:49:04\",\"2020-12-21T19:55:46\",\"2020-12-21T19:55:48\",\"2020-12-21T20:09:28\",\"2020-12-21T20:11:06\",\"2020-12-21T20:17:22\",\"2020-12-21T20:44:05\",\"2020-12-21T20:44:06\",\"2020-12-21T20:52:34\",\"2020-12-21T20:52:35\",\"2020-12-21T20:57:47\",\"2020-12-21T21:11:53\",\"2020-12-21T21:13:24\",\"2020-12-21T21:13:26\",\"2020-12-21T21:14:13\",\"2020-12-21T21:14:15\",\"2020-12-21T21:14:27\",\"2020-12-21T21:42:52\",\"2020-12-21T21:42:54\",\"2020-12-21T21:47:02\",\"2020-12-21T21:54:23\",\"2020-12-21T21:54:25\",\"2020-12-21T22:03:27\",\"2020-12-21T22:03:29\",\"2020-12-21T22:05:26\",\"2020-12-21T22:05:27\",\"2020-12-21T22:14:38\",\"2020-12-21T22:18:53\",\"2020-12-21T22:30:04\",\"2020-12-21T22:30:45\",\"2020-12-21T22:40:53\",\"2020-12-21T22:42:38\",\"2020-12-21T22:43:35\",\"2020-12-21T22:48:51\",\"2020-12-21T22:56:31\",\"2020-12-21T22:56:40\",\"2020-12-21T22:56:43\",\"2020-12-21T23:02:12\",\"2020-12-21T23:26:58\",\"2020-12-21T23:29:16\",\"2020-12-21T23:29:19\",\"2020-12-21T23:31:48\",\"2020-12-21T23:31:49\",\"2020-12-21T23:58:57\",\"2020-12-22T00:08:44\",\"2020-12-22T00:22:07\",\"2020-12-22T00:22:30\",\"2020-12-22T00:25:59\",\"2020-12-22T00:59:22\",\"2020-12-22T01:00:15\",\"2020-12-22T01:08:29\",\"2020-12-22T01:08:32\",\"2020-12-22T01:14:08\",\"2020-12-22T01:14:09\",\"2020-12-22T01:17:29\",\"2020-12-22T01:17:31\",\"2020-12-22T01:29:54\",\"2020-12-22T01:41:44\",\"2020-12-22T01:41:46\",\"2020-12-22T01:52:30\",\"2020-12-22T01:52:31\",\"2020-12-22T02:23:16\",\"2020-12-22T02:24:21\",\"2020-12-22T02:24:23\",\"2020-12-22T02:42:02\",\"2020-12-22T02:44:33\",\"2020-12-22T03:26:36\",\"2020-12-22T03:28:35\",\"2020-12-22T03:28:37\",\"2020-12-22T03:29:19\",\"2020-12-22T03:29:56\",\"2020-12-22T03:40:20\",\"2020-12-22T03:51:14\",\"2020-12-22T04:13:10\",\"2020-12-22T04:59:44\",\"2020-12-22T04:59:48\",\"2020-12-22T05:00:03\",\"2020-12-22T05:00:04\",\"2020-12-22T05:06:08\",\"2020-12-22T05:06:14\",\"2020-12-22T05:50:56\",\"2020-12-22T05:52:22\",\"2020-12-22T05:52:23\",\"2020-12-22T05:53:56\",\"2020-12-22T06:08:02\",\"2020-12-22T07:04:47\",\"2020-12-22T08:00:37\",\"2020-12-22T08:00:39\",\"2020-12-22T08:16:24\",\"2020-12-22T08:19:51\",\"2020-12-22T08:19:52\",\"2020-12-22T08:41:33\",\"2020-12-22T09:00:43\",\"2020-12-22T09:40:31\",\"2020-12-22T09:40:34\",\"2020-12-22T09:48:40\",\"2020-12-22T09:48:41\",\"2020-12-22T10:27:15\",\"2020-12-22T10:40:07\",\"2020-12-22T10:40:09\",\"2020-12-22T11:22:03\",\"2020-12-22T11:22:05\",\"2020-12-22T11:49:28\",\"2020-12-22T13:18:29\",\"2020-12-22T13:18:43\",\"2020-12-22T13:36:43\",\"2020-12-22T13:40:25\",\"2020-12-22T13:44:22\",\"2020-12-22T13:44:24\",\"2020-12-22T13:54:54\",\"2020-12-22T14:18:45\",\"2020-12-22T14:33:28\",\"2020-12-22T14:49:40\",\"2020-12-22T14:51:08\",\"2020-12-22T14:56:59\",\"2020-12-22T15:06:30\",\"2020-12-22T15:34:43\",\"2020-12-22T15:34:45\",\"2020-12-22T15:34:46\",\"2020-12-22T15:46:05\",\"2020-12-22T15:46:07\",\"2020-12-22T16:13:40\",\"2020-12-22T16:55:27\",\"2020-12-22T17:08:38\",\"2020-12-22T17:20:47\",\"2020-12-22T17:54:45\",\"2020-12-22T18:15:13\",\"2020-12-22T18:15:18\",\"2020-12-22T18:17:57\",\"2020-12-22T18:19:59\",\"2020-12-22T18:20:15\",\"2020-12-22T18:27:25\",\"2020-12-22T18:34:04\",\"2020-12-22T18:34:30\",\"2020-12-22T18:35:24\",\"2020-12-22T18:52:25\",\"2020-12-22T19:02:42\",\"2020-12-22T19:02:43\",\"2020-12-22T19:02:45\",\"2020-12-22T19:11:55\",\"2020-12-22T19:44:36\",\"2020-12-22T19:44:38\",\"2020-12-22T19:50:51\",\"2020-12-22T20:23:33\",\"2020-12-22T20:31:22\",\"2020-12-22T20:31:24\",\"2020-12-22T20:39:21\",\"2020-12-22T20:56:55\",\"2020-12-22T20:56:56\",\"2020-12-22T21:24:13\",\"2020-12-22T22:18:51\",\"2020-12-22T22:18:52\",\"2020-12-22T22:35:36\",\"2020-12-22T22:35:37\",\"2020-12-22T22:43:19\",\"2020-12-22T22:43:41\",\"2020-12-22T23:14:37\",\"2020-12-22T23:15:16\",\"2020-12-22T23:15:17\",\"2020-12-22T23:41:50\",\"2020-12-22T23:41:53\",\"2020-12-22T23:49:55\",\"2020-12-22T23:51:23\",\"2020-12-22T23:51:24\",\"2020-12-22T23:52:52\",\"2020-12-23T00:02:15\",\"2020-12-23T00:02:16\",\"2020-12-23T00:07:25\",\"2020-12-23T00:27:25\",\"2020-12-23T00:27:26\",\"2020-12-23T00:35:32\",\"2020-12-23T01:00:11\",\"2020-12-23T02:29:02\",\"2020-12-23T02:29:03\",\"2020-12-23T02:44:46\",\"2020-12-23T03:05:25\",\"2020-12-23T03:05:27\",\"2020-12-23T03:11:42\",\"2020-12-23T03:11:43\",\"2020-12-23T03:15:52\",\"2020-12-23T03:58:01\",\"2020-12-23T03:58:03\",\"2020-12-23T03:58:04\",\"2020-12-23T04:34:47\",\"2020-12-23T06:26:49\",\"2020-12-23T06:38:49\",\"2020-12-23T06:38:50\",\"2020-12-23T06:42:52\",\"2020-12-23T07:00:14\",\"2020-12-23T07:08:58\",\"2020-12-23T07:09:36\",\"2020-12-23T07:09:37\",\"2020-12-23T08:25:04\",\"2020-12-23T08:55:09\",\"2020-12-23T08:55:10\",\"2020-12-23T08:56:37\",\"2020-12-23T09:02:26\",\"2020-12-23T09:02:59\",\"2020-12-23T09:04:19\",\"2020-12-23T09:04:20\",\"2020-12-23T09:20:15\",\"2020-12-23T09:34:22\",\"2020-12-23T09:36:03\",\"2020-12-23T09:41:31\",\"2020-12-23T09:41:32\",\"2020-12-23T10:36:17\",\"2020-12-23T10:36:18\",\"2020-12-23T10:51:21\",\"2020-12-23T11:29:19\",\"2020-12-23T11:39:19\",\"2020-12-23T11:57:25\",\"2020-12-23T12:02:29\",\"2020-12-23T12:02:31\",\"2020-12-23T12:38:06\",\"2020-12-23T13:41:04\",\"2020-12-23T13:43:38\",\"2020-12-23T13:46:11\",\"2020-12-23T13:46:12\",\"2020-12-23T15:04:04\",\"2020-12-23T15:04:05\",\"2020-12-23T15:08:07\",\"2020-12-23T15:08:08\",\"2020-12-23T15:28:40\",\"2020-12-23T15:43:14\",\"2020-12-23T15:55:02\",\"2020-12-23T16:37:10\",\"2020-12-23T16:37:39\",\"2020-12-23T16:38:54\",\"2020-12-23T16:43:46\",\"2020-12-23T17:12:56\",\"2020-12-23T17:14:48\",\"2020-12-23T17:21:15\",\"2020-12-23T17:58:02\",\"2020-12-23T18:06:06\",\"2020-12-23T18:26:39\",\"2020-12-23T18:58:41\",\"2020-12-23T18:58:43\",\"2020-12-23T19:02:52\",\"2020-12-23T19:04:46\",\"2020-12-23T19:07:30\",\"2020-12-23T19:45:48\",\"2020-12-23T19:45:50\",\"2020-12-23T20:12:56\",\"2020-12-23T20:24:50\",\"2020-12-23T20:34:43\",\"2020-12-23T20:34:45\",\"2020-12-23T20:36:23\",\"2020-12-23T20:36:25\",\"2020-12-23T20:36:27\",\"2020-12-23T21:00:45\",\"2020-12-23T21:00:46\",\"2020-12-23T21:11:58\",\"2020-12-23T21:25:37\",\"2020-12-23T21:25:38\",\"2020-12-23T21:54:08\",\"2020-12-23T21:54:09\",\"2020-12-23T21:58:58\",\"2020-12-23T21:59:00\",\"2020-12-23T22:24:26\",\"2020-12-23T22:32:19\",\"2020-12-23T22:34:00\",\"2020-12-23T22:36:11\",\"2020-12-23T22:55:43\",\"2020-12-23T22:55:46\",\"2020-12-23T22:59:33\",\"2020-12-23T22:59:34\",\"2020-12-23T23:03:06\",\"2020-12-23T23:03:07\",\"2020-12-23T23:12:33\",\"2020-12-23T23:21:01\",\"2020-12-23T23:21:05\",\"2020-12-23T23:31:26\",\"2020-12-23T23:37:39\",\"2020-12-23T23:49:17\",\"2020-12-23T23:51:41\",\"2020-12-23T23:51:44\",\"2020-12-23T23:55:28\",\"2020-12-23T23:55:29\",\"2020-12-23T23:59:22\",\"2020-12-23T23:59:24\",\"2020-12-24T00:05:03\",\"2020-12-24T00:05:04\",\"2020-12-24T00:21:46\",\"2020-12-24T00:21:48\",\"2020-12-24T00:29:26\",\"2020-12-24T00:51:04\",\"2020-12-24T00:51:06\",\"2020-12-24T00:51:14\",\"2020-12-24T02:25:44\",\"2020-12-24T02:41:18\",\"2020-12-24T02:41:19\",\"2020-12-24T03:28:07\",\"2020-12-24T03:28:08\",\"2020-12-24T03:52:00\",\"2020-12-24T03:56:07\",\"2020-12-24T03:56:08\",\"2020-12-24T04:20:21\",\"2020-12-24T04:36:05\",\"2020-12-24T04:42:44\",\"2020-12-24T04:50:28\",\"2020-12-24T04:50:31\",\"2020-12-24T04:57:16\",\"2020-12-24T05:02:55\",\"2020-12-24T05:03:57\",\"2020-12-24T05:41:08\",\"2020-12-24T06:27:07\",\"2020-12-24T06:27:08\",\"2020-12-24T07:42:13\",\"2020-12-24T07:51:12\",\"2020-12-24T07:56:21\",\"2020-12-24T07:56:22\",\"2020-12-24T08:05:00\",\"2020-12-24T08:05:01\",\"2020-12-24T08:18:55\",\"2020-12-24T08:18:56\",\"2020-12-24T08:27:27\",\"2020-12-24T08:27:29\",\"2020-12-24T08:40:19\",\"2020-12-24T08:54:23\",\"2020-12-24T08:54:25\",\"2020-12-24T10:21:05\",\"2020-12-24T10:39:09\",\"2020-12-24T10:46:01\",\"2020-12-24T10:46:05\",\"2020-12-24T11:39:57\",\"2020-12-24T11:51:37\",\"2020-12-24T11:51:38\",\"2020-12-24T12:44:20\",\"2020-12-24T12:44:23\",\"2020-12-24T12:51:18\",\"2020-12-24T13:02:05\",\"2020-12-24T13:56:00\",\"2020-12-24T13:56:01\",\"2020-12-24T14:35:46\",\"2020-12-24T14:35:47\",\"2020-12-24T15:05:55\",\"2020-12-24T16:33:08\",\"2020-12-24T16:33:14\",\"2020-12-24T16:48:50\",\"2020-12-24T16:56:51\",\"2020-12-24T16:56:54\",\"2020-12-24T17:42:58\",\"2020-12-24T18:23:18\",\"2020-12-24T18:32:31\",\"2020-12-24T19:06:23\",\"2020-12-24T19:06:24\",\"2020-12-24T19:17:23\",\"2020-12-24T19:49:36\",\"2020-12-24T19:49:39\",\"2020-12-24T20:06:28\",\"2020-12-24T20:36:53\",\"2020-12-24T20:38:37\",\"2020-12-24T20:59:26\",\"2020-12-24T20:59:28\",\"2020-12-24T21:18:10\",\"2020-12-24T21:18:12\",\"2020-12-24T22:11:00\",\"2020-12-24T22:21:48\",\"2020-12-24T22:21:50\",\"2020-12-24T22:39:04\",\"2020-12-24T22:48:41\",\"2020-12-24T22:48:42\",\"2020-12-24T22:54:16\",\"2020-12-24T22:59:23\",\"2020-12-24T23:42:20\",\"2020-12-24T23:44:07\",\"2020-12-24T23:44:08\",\"2020-12-25T00:28:10\",\"2020-12-25T00:45:24\",\"2020-12-25T01:08:53\",\"2020-12-25T01:10:34\",\"2020-12-25T01:49:55\",\"2020-12-25T01:55:11\",\"2020-12-25T01:55:12\",\"2020-12-25T01:59:14\",\"2020-12-25T02:46:32\",\"2020-12-25T02:46:34\",\"2020-12-25T03:32:46\",\"2020-12-25T04:24:20\",\"2020-12-25T04:30:48\",\"2020-12-25T04:30:49\",\"2020-12-25T04:56:59\",\"2020-12-25T05:27:51\",\"2020-12-25T07:43:45\",\"2020-12-25T08:33:46\",\"2020-12-25T08:33:47\",\"2020-12-25T09:20:52\",\"2020-12-25T10:31:16\",\"2020-12-25T10:31:18\",\"2020-12-25T13:02:11\",\"2020-12-25T13:13:16\",\"2020-12-25T13:59:45\",\"2020-12-25T15:15:08\",\"2020-12-25T15:15:09\",\"2020-12-25T15:25:54\",\"2020-12-25T16:36:21\",\"2020-12-25T16:36:25\",\"2020-12-25T16:37:50\",\"2020-12-25T16:37:52\",\"2020-12-25T17:03:30\",\"2020-12-25T17:03:33\",\"2020-12-25T17:39:42\",\"2020-12-25T17:43:59\",\"2020-12-25T18:37:29\",\"2020-12-25T19:01:13\",\"2020-12-25T19:01:15\",\"2020-12-25T19:12:54\",\"2020-12-25T19:45:01\",\"2020-12-25T19:45:02\",\"2020-12-25T20:55:51\",\"2020-12-25T20:55:52\",\"2020-12-25T20:58:04\",\"2020-12-25T22:02:55\",\"2020-12-25T22:13:42\",\"2020-12-25T22:30:51\",\"2020-12-25T23:07:24\",\"2020-12-25T23:25:01\",\"2020-12-25T23:25:02\",\"2020-12-26T00:32:25\",\"2020-12-26T00:40:05\",\"2020-12-26T00:40:06\",\"2020-12-26T00:44:19\",\"2020-12-26T01:40:30\",\"2020-12-26T01:51:48\",\"2020-12-26T02:35:30\",\"2020-12-26T02:51:17\",\"2020-12-26T04:37:37\",\"2020-12-26T05:39:46\",\"2020-12-26T05:39:48\",\"2020-12-26T05:47:20\",\"2020-12-26T05:47:22\",\"2020-12-26T06:09:16\",\"2020-12-26T07:09:29\",\"2020-12-26T07:34:14\",\"2020-12-26T12:42:42\",\"2020-12-26T13:02:02\",\"2020-12-26T13:27:27\",\"2020-12-26T14:49:02\",\"2020-12-26T14:49:03\",\"2020-12-26T14:55:15\",\"2020-12-26T15:24:56\",\"2020-12-26T15:55:17\",\"2020-12-26T15:55:18\",\"2020-12-26T16:04:05\",\"2020-12-26T16:04:06\",\"2020-12-26T16:07:34\",\"2020-12-26T16:07:37\",\"2020-12-26T16:07:38\",\"2020-12-26T16:27:22\",\"2020-12-26T16:36:33\",\"2020-12-26T17:03:31\",\"2020-12-26T17:04:38\",\"2020-12-26T18:38:20\",\"2020-12-26T18:38:22\",\"2020-12-26T18:51:52\",\"2020-12-26T19:10:59\",\"2020-12-26T19:40:09\",\"2020-12-26T20:54:35\",\"2020-12-26T22:14:22\",\"2020-12-26T22:14:23\",\"2020-12-26T23:35:28\",\"2020-12-26T23:35:32\",\"2020-12-26T23:43:36\",\"2020-12-26T23:43:40\",\"2020-12-26T23:54:21\",\"2020-12-26T23:54:23\",\"2020-12-27T00:18:45\",\"2020-12-27T00:18:46\",\"2020-12-27T01:11:10\",\"2020-12-27T02:55:37\",\"2020-12-27T02:55:38\",\"2020-12-27T03:03:49\",\"2020-12-27T03:44:47\",\"2020-12-27T03:57:23\",\"2020-12-27T03:57:25\",\"2020-12-27T05:49:38\",\"2020-12-27T07:05:06\",\"2020-12-27T07:05:07\",\"2020-12-27T08:14:29\",\"2020-12-27T08:31:00\",\"2020-12-27T09:40:30\",\"2020-12-27T10:43:32\",\"2020-12-27T10:43:35\",\"2020-12-27T11:01:31\",\"2020-12-27T11:01:32\",\"2020-12-27T11:42:38\",\"2020-12-27T11:48:13\",\"2020-12-27T11:48:17\",\"2020-12-27T13:15:01\",\"2020-12-27T13:15:03\",\"2020-12-27T13:22:09\",\"2020-12-27T16:05:03\",\"2020-12-27T16:28:57\",\"2020-12-27T16:35:01\",\"2020-12-27T17:07:28\",\"2020-12-27T17:55:56\",\"2020-12-27T18:04:57\",\"2020-12-27T18:25:29\",\"2020-12-27T19:14:33\",\"2020-12-27T19:14:35\",\"2020-12-27T19:21:42\",\"2020-12-27T19:36:21\",\"2020-12-27T19:36:24\",\"2020-12-27T20:12:41\",\"2020-12-27T20:56:41\",\"2020-12-27T21:31:10\",\"2020-12-27T21:41:01\",\"2020-12-27T22:44:40\",\"2020-12-28T00:18:09\",\"2020-12-28T00:21:52\",\"2020-12-28T00:55:57\",\"2020-12-28T01:13:20\",\"2020-12-28T01:13:21\",\"2020-12-28T01:49:50\",\"2020-12-28T01:49:51\",\"2020-12-28T02:24:12\",\"2020-12-28T04:20:22\",\"2020-12-28T04:20:23\",\"2020-12-28T04:31:15\",\"2020-12-28T04:31:17\",\"2020-12-28T05:19:20\",\"2020-12-28T05:19:21\",\"2020-12-28T05:41:52\",\"2020-12-28T05:41:53\",\"2020-12-28T06:46:37\",\"2020-12-28T06:49:05\",\"2020-12-28T06:49:07\",\"2020-12-28T06:58:43\",\"2020-12-28T06:58:45\",\"2020-12-28T07:21:33\",\"2020-12-28T07:21:34\",\"2020-12-28T10:35:41\",\"2020-12-28T10:36:26\",\"2020-12-28T11:25:48\",\"2020-12-28T11:30:04\",\"2020-12-28T12:25:33\",\"2020-12-28T12:33:02\",\"2020-12-28T13:40:09\",\"2020-12-28T14:27:45\",\"2020-12-28T14:40:03\",\"2020-12-28T14:40:04\",\"2020-12-28T14:40:06\",\"2020-12-28T15:56:12\",\"2020-12-28T16:08:44\",\"2020-12-28T16:13:18\",\"2020-12-28T17:57:09\",\"2020-12-28T17:57:11\",\"2020-12-28T18:24:15\",\"2020-12-28T18:24:18\",\"2020-12-28T18:43:12\",\"2020-12-28T18:43:59\",\"2020-12-28T18:44:00\",\"2020-12-28T19:21:51\",\"2020-12-28T19:33:48\",\"2020-12-28T20:03:30\",\"2020-12-28T20:14:20\",\"2020-12-28T20:14:23\",\"2020-12-28T20:57:09\",\"2020-12-28T23:14:14\",\"2020-12-28T23:14:15\",\"2020-12-28T23:51:37\",\"2020-12-28T23:51:38\",\"2020-12-29T00:19:59\",\"2020-12-29T00:20:02\",\"2020-12-29T03:44:12\",\"2020-12-29T03:45:59\",\"2020-12-29T03:46:00\",\"2020-12-29T03:53:10\",\"2020-12-29T04:16:28\",\"2020-12-29T04:16:29\",\"2020-12-29T05:27:17\",\"2020-12-29T06:11:26\",\"2020-12-29T06:11:27\",\"2020-12-29T06:52:13\",\"2020-12-29T06:52:18\",\"2020-12-29T07:28:59\",\"2020-12-29T07:56:19\",\"2020-12-29T11:52:51\",\"2020-12-29T13:31:46\",\"2020-12-29T14:02:12\",\"2020-12-29T14:02:15\",\"2020-12-29T15:18:08\",\"2020-12-29T16:09:23\",\"2020-12-29T16:09:25\",\"2020-12-29T16:18:10\",\"2020-12-29T16:34:11\",\"2020-12-29T16:34:12\",\"2020-12-29T17:59:56\",\"2020-12-29T19:05:08\",\"2020-12-29T19:05:09\",\"2020-12-29T20:17:32\",\"2020-12-29T20:17:38\",\"2020-12-29T22:17:13\"],\"type\":\"histogram\"}],                        {\"template\":{\"data\":{\"bar\":[{\"error_x\":{\"color\":\"#2a3f5f\"},\"error_y\":{\"color\":\"#2a3f5f\"},\"marker\":{\"line\":{\"color\":\"#E5ECF6\",\"width\":0.5},\"pattern\":{\"fillmode\":\"overlay\",\"size\":10,\"solidity\":0.2}},\"type\":\"bar\"}],\"barpolar\":[{\"marker\":{\"line\":{\"color\":\"#E5ECF6\",\"width\":0.5},\"pattern\":{\"fillmode\":\"overlay\",\"size\":10,\"solidity\":0.2}},\"type\":\"barpolar\"}],\"carpet\":[{\"aaxis\":{\"endlinecolor\":\"#2a3f5f\",\"gridcolor\":\"white\",\"linecolor\":\"white\",\"minorgridcolor\":\"white\",\"startlinecolor\":\"#2a3f5f\"},\"baxis\":{\"endlinecolor\":\"#2a3f5f\",\"gridcolor\":\"white\",\"linecolor\":\"white\",\"minorgridcolor\":\"white\",\"startlinecolor\":\"#2a3f5f\"},\"type\":\"carpet\"}],\"choropleth\":[{\"colorbar\":{\"outlinewidth\":0,\"ticks\":\"\"},\"type\":\"choropleth\"}],\"contour\":[{\"colorbar\":{\"outlinewidth\":0,\"ticks\":\"\"},\"colorscale\":[[0.0,\"#0d0887\"],[0.1111111111111111,\"#46039f\"],[0.2222222222222222,\"#7201a8\"],[0.3333333333333333,\"#9c179e\"],[0.4444444444444444,\"#bd3786\"],[0.5555555555555556,\"#d8576b\"],[0.6666666666666666,\"#ed7953\"],[0.7777777777777778,\"#fb9f3a\"],[0.8888888888888888,\"#fdca26\"],[1.0,\"#f0f921\"]],\"type\":\"contour\"}],\"contourcarpet\":[{\"colorbar\":{\"outlinewidth\":0,\"ticks\":\"\"},\"type\":\"contourcarpet\"}],\"heatmap\":[{\"colorbar\":{\"outlinewidth\":0,\"ticks\":\"\"},\"colorscale\":[[0.0,\"#0d0887\"],[0.1111111111111111,\"#46039f\"],[0.2222222222222222,\"#7201a8\"],[0.3333333333333333,\"#9c179e\"],[0.4444444444444444,\"#bd3786\"],[0.5555555555555556,\"#d8576b\"],[0.6666666666666666,\"#ed7953\"],[0.7777777777777778,\"#fb9f3a\"],[0.8888888888888888,\"#fdca26\"],[1.0,\"#f0f921\"]],\"type\":\"heatmap\"}],\"heatmapgl\":[{\"colorbar\":{\"outlinewidth\":0,\"ticks\":\"\"},\"colorscale\":[[0.0,\"#0d0887\"],[0.1111111111111111,\"#46039f\"],[0.2222222222222222,\"#7201a8\"],[0.3333333333333333,\"#9c179e\"],[0.4444444444444444,\"#bd3786\"],[0.5555555555555556,\"#d8576b\"],[0.6666666666666666,\"#ed7953\"],[0.7777777777777778,\"#fb9f3a\"],[0.8888888888888888,\"#fdca26\"],[1.0,\"#f0f921\"]],\"type\":\"heatmapgl\"}],\"histogram\":[{\"marker\":{\"pattern\":{\"fillmode\":\"overlay\",\"size\":10,\"solidity\":0.2}},\"type\":\"histogram\"}],\"histogram2d\":[{\"colorbar\":{\"outlinewidth\":0,\"ticks\":\"\"},\"colorscale\":[[0.0,\"#0d0887\"],[0.1111111111111111,\"#46039f\"],[0.2222222222222222,\"#7201a8\"],[0.3333333333333333,\"#9c179e\"],[0.4444444444444444,\"#bd3786\"],[0.5555555555555556,\"#d8576b\"],[0.6666666666666666,\"#ed7953\"],[0.7777777777777778,\"#fb9f3a\"],[0.8888888888888888,\"#fdca26\"],[1.0,\"#f0f921\"]],\"type\":\"histogram2d\"}],\"histogram2dcontour\":[{\"colorbar\":{\"outlinewidth\":0,\"ticks\":\"\"},\"colorscale\":[[0.0,\"#0d0887\"],[0.1111111111111111,\"#46039f\"],[0.2222222222222222,\"#7201a8\"],[0.3333333333333333,\"#9c179e\"],[0.4444444444444444,\"#bd3786\"],[0.5555555555555556,\"#d8576b\"],[0.6666666666666666,\"#ed7953\"],[0.7777777777777778,\"#fb9f3a\"],[0.8888888888888888,\"#fdca26\"],[1.0,\"#f0f921\"]],\"type\":\"histogram2dcontour\"}],\"mesh3d\":[{\"colorbar\":{\"outlinewidth\":0,\"ticks\":\"\"},\"type\":\"mesh3d\"}],\"parcoords\":[{\"line\":{\"colorbar\":{\"outlinewidth\":0,\"ticks\":\"\"}},\"type\":\"parcoords\"}],\"pie\":[{\"automargin\":true,\"type\":\"pie\"}],\"scatter\":[{\"marker\":{\"colorbar\":{\"outlinewidth\":0,\"ticks\":\"\"}},\"type\":\"scatter\"}],\"scatter3d\":[{\"line\":{\"colorbar\":{\"outlinewidth\":0,\"ticks\":\"\"}},\"marker\":{\"colorbar\":{\"outlinewidth\":0,\"ticks\":\"\"}},\"type\":\"scatter3d\"}],\"scattercarpet\":[{\"marker\":{\"colorbar\":{\"outlinewidth\":0,\"ticks\":\"\"}},\"type\":\"scattercarpet\"}],\"scattergeo\":[{\"marker\":{\"colorbar\":{\"outlinewidth\":0,\"ticks\":\"\"}},\"type\":\"scattergeo\"}],\"scattergl\":[{\"marker\":{\"colorbar\":{\"outlinewidth\":0,\"ticks\":\"\"}},\"type\":\"scattergl\"}],\"scattermapbox\":[{\"marker\":{\"colorbar\":{\"outlinewidth\":0,\"ticks\":\"\"}},\"type\":\"scattermapbox\"}],\"scatterpolar\":[{\"marker\":{\"colorbar\":{\"outlinewidth\":0,\"ticks\":\"\"}},\"type\":\"scatterpolar\"}],\"scatterpolargl\":[{\"marker\":{\"colorbar\":{\"outlinewidth\":0,\"ticks\":\"\"}},\"type\":\"scatterpolargl\"}],\"scatterternary\":[{\"marker\":{\"colorbar\":{\"outlinewidth\":0,\"ticks\":\"\"}},\"type\":\"scatterternary\"}],\"surface\":[{\"colorbar\":{\"outlinewidth\":0,\"ticks\":\"\"},\"colorscale\":[[0.0,\"#0d0887\"],[0.1111111111111111,\"#46039f\"],[0.2222222222222222,\"#7201a8\"],[0.3333333333333333,\"#9c179e\"],[0.4444444444444444,\"#bd3786\"],[0.5555555555555556,\"#d8576b\"],[0.6666666666666666,\"#ed7953\"],[0.7777777777777778,\"#fb9f3a\"],[0.8888888888888888,\"#fdca26\"],[1.0,\"#f0f921\"]],\"type\":\"surface\"}],\"table\":[{\"cells\":{\"fill\":{\"color\":\"#EBF0F8\"},\"line\":{\"color\":\"white\"}},\"header\":{\"fill\":{\"color\":\"#C8D4E3\"},\"line\":{\"color\":\"white\"}},\"type\":\"table\"}]},\"layout\":{\"annotationdefaults\":{\"arrowcolor\":\"#2a3f5f\",\"arrowhead\":0,\"arrowwidth\":1},\"autotypenumbers\":\"strict\",\"coloraxis\":{\"colorbar\":{\"outlinewidth\":0,\"ticks\":\"\"}},\"colorscale\":{\"diverging\":[[0,\"#8e0152\"],[0.1,\"#c51b7d\"],[0.2,\"#de77ae\"],[0.3,\"#f1b6da\"],[0.4,\"#fde0ef\"],[0.5,\"#f7f7f7\"],[0.6,\"#e6f5d0\"],[0.7,\"#b8e186\"],[0.8,\"#7fbc41\"],[0.9,\"#4d9221\"],[1,\"#276419\"]],\"sequential\":[[0.0,\"#0d0887\"],[0.1111111111111111,\"#46039f\"],[0.2222222222222222,\"#7201a8\"],[0.3333333333333333,\"#9c179e\"],[0.4444444444444444,\"#bd3786\"],[0.5555555555555556,\"#d8576b\"],[0.6666666666666666,\"#ed7953\"],[0.7777777777777778,\"#fb9f3a\"],[0.8888888888888888,\"#fdca26\"],[1.0,\"#f0f921\"]],\"sequentialminus\":[[0.0,\"#0d0887\"],[0.1111111111111111,\"#46039f\"],[0.2222222222222222,\"#7201a8\"],[0.3333333333333333,\"#9c179e\"],[0.4444444444444444,\"#bd3786\"],[0.5555555555555556,\"#d8576b\"],[0.6666666666666666,\"#ed7953\"],[0.7777777777777778,\"#fb9f3a\"],[0.8888888888888888,\"#fdca26\"],[1.0,\"#f0f921\"]]},\"colorway\":[\"#636efa\",\"#EF553B\",\"#00cc96\",\"#ab63fa\",\"#FFA15A\",\"#19d3f3\",\"#FF6692\",\"#B6E880\",\"#FF97FF\",\"#FECB52\"],\"font\":{\"color\":\"#2a3f5f\"},\"geo\":{\"bgcolor\":\"white\",\"lakecolor\":\"white\",\"landcolor\":\"#E5ECF6\",\"showlakes\":true,\"showland\":true,\"subunitcolor\":\"white\"},\"hoverlabel\":{\"align\":\"left\"},\"hovermode\":\"closest\",\"mapbox\":{\"style\":\"light\"},\"paper_bgcolor\":\"white\",\"plot_bgcolor\":\"#E5ECF6\",\"polar\":{\"angularaxis\":{\"gridcolor\":\"white\",\"linecolor\":\"white\",\"ticks\":\"\"},\"bgcolor\":\"#E5ECF6\",\"radialaxis\":{\"gridcolor\":\"white\",\"linecolor\":\"white\",\"ticks\":\"\"}},\"scene\":{\"xaxis\":{\"backgroundcolor\":\"#E5ECF6\",\"gridcolor\":\"white\",\"gridwidth\":2,\"linecolor\":\"white\",\"showbackground\":true,\"ticks\":\"\",\"zerolinecolor\":\"white\"},\"yaxis\":{\"backgroundcolor\":\"#E5ECF6\",\"gridcolor\":\"white\",\"gridwidth\":2,\"linecolor\":\"white\",\"showbackground\":true,\"ticks\":\"\",\"zerolinecolor\":\"white\"},\"zaxis\":{\"backgroundcolor\":\"#E5ECF6\",\"gridcolor\":\"white\",\"gridwidth\":2,\"linecolor\":\"white\",\"showbackground\":true,\"ticks\":\"\",\"zerolinecolor\":\"white\"}},\"shapedefaults\":{\"line\":{\"color\":\"#2a3f5f\"}},\"ternary\":{\"aaxis\":{\"gridcolor\":\"white\",\"linecolor\":\"white\",\"ticks\":\"\"},\"baxis\":{\"gridcolor\":\"white\",\"linecolor\":\"white\",\"ticks\":\"\"},\"bgcolor\":\"#E5ECF6\",\"caxis\":{\"gridcolor\":\"white\",\"linecolor\":\"white\",\"ticks\":\"\"}},\"title\":{\"x\":0.05},\"xaxis\":{\"automargin\":true,\"gridcolor\":\"white\",\"linecolor\":\"white\",\"ticks\":\"\",\"title\":{\"standoff\":15},\"zerolinecolor\":\"white\",\"zerolinewidth\":2},\"yaxis\":{\"automargin\":true,\"gridcolor\":\"white\",\"linecolor\":\"white\",\"ticks\":\"\",\"title\":{\"standoff\":15},\"zerolinecolor\":\"white\",\"zerolinewidth\":2}}},\"width\":950,\"height\":600,\"xaxis\":{\"title\":{\"text\":\"\\u0414\\u0430\\u0442\\u0430\"}},\"yaxis\":{\"title\":{\"text\":\"\\u041a\\u043e\\u043b\\u0438\\u0447\\u0435\\u0441\\u0442\\u0432\\u043e \\u0441\\u043e\\u0431\\u044b\\u0442\\u0438\\u0439\"}},\"title\":{\"text\":\"\\u0420\\u0430\\u0441\\u043f\\u0440\\u0435\\u0434\\u0435\\u043b\\u0435\\u043d\\u0438\\u0435 \\u043a\\u043e\\u043b\\u0438\\u0447\\u0435\\u0441\\u0442\\u0432\\u0430 \\u0441\\u043e\\u0431\\u044b\\u0442\\u0438\\u0439 \\u0432 \\u0432\\u044b\\u0431\\u043e\\u0440\\u043a\\u0430\\u0445 \\u043f\\u043e \\u0434\\u043d\\u044f\\u043c\"}},                        {\"responsive\": true}                    ).then(function(){\n",
       "                            \n",
       "var gd = document.getElementById('aef0ef74-075c-43dc-ab5d-df21111c7634');\n",
       "var x = new MutationObserver(function (mutations, observer) {{\n",
       "        var display = window.getComputedStyle(gd).display;\n",
       "        if (!display || display === 'none') {{\n",
       "            console.log([gd, 'removed!']);\n",
       "            Plotly.purge(gd);\n",
       "            observer.disconnect();\n",
       "        }}\n",
       "}});\n",
       "\n",
       "// Listen for the removal of the full notebook cells\n",
       "var notebookContainer = gd.closest('#notebook-container');\n",
       "if (notebookContainer) {{\n",
       "    x.observe(notebookContainer, {childList: true});\n",
       "}}\n",
       "\n",
       "// Listen for the clearing of the current output cell\n",
       "var outputEl = gd.closest('.output');\n",
       "if (outputEl) {{\n",
       "    x.observe(outputEl, {childList: true});\n",
       "}}\n",
       "\n",
       "                        })                };                            </script>        </div>\n",
       "</body>\n",
       "</html>"
      ]
     },
     "metadata": {}
    }
   ],
   "source": [
    "fig = go.Figure()\n",
    "fig.add_trace(go.Histogram(x=group_event_dt.query('group==\"A\"')[\"event_dt\"], name=\"Группа A\"))\n",
    "fig.add_trace(go.Histogram(x=group_event_dt.query('group==\"B\"')[\"event_dt\"], name=\"Группа B\"))\n",
    "fig.update_layout(width=950, height=600, xaxis_title='Дата', yaxis_title=\"Количество событий\", title=\"Распределение количества событий в выборках по дням\")\n",
    "fig.show()"
   ]
  },
  {
   "cell_type": "markdown",
   "metadata": {
    "id": "_Qx1YgRmqbdA"
   },
   "source": [
    "В первые дни теста число событий по группам отличалось незначительно, но после 14 декабря пользователи из группы А стали совершать намного больше действий, при этом в группе В подобных всплесков в тот же период не наблюдалось и разница по количеству стала значительной. Наибольшее число для группы A было зафиксировано 21 декабря - 327 событий, а у группы B в то же время 78 событий."
   ]
  },
  {
   "cell_type": "markdown",
   "metadata": {
    "id": "pZsHVLPmqbdA"
   },
   "source": [
    "<a name=\"4.4\"><h3>4.4 Воронка событий</h3></a>"
   ]
  },
  {
   "cell_type": "markdown",
   "metadata": {
    "id": "zBbxNdyQqbdB"
   },
   "source": [
    "Напишем функцию для подсчета количества пользователей, которые совершали каждое из событий по группам и рассчитаем их долю:"
   ]
  },
  {
   "cell_type": "code",
   "execution_count": 64,
   "metadata": {
    "id": "n7YVi7aPqbdB"
   },
   "outputs": [],
   "source": [
    "def group_event(group_name):\n",
    "    table = df.query('group == @group_name').groupby(['event_name'])['user_id'].agg(['nunique']).sort_values(by='nunique', ascending=False)\n",
    "    table['percent'] = (table['nunique']*100/df.query('group == @group_name')['user_id'].nunique()).round(2)\n",
    "    return table.reset_index()"
   ]
  },
  {
   "cell_type": "markdown",
   "metadata": {
    "id": "T1xRwXsDqbdB"
   },
   "source": [
    "Создадим таблицу для группы А:"
   ]
  },
  {
   "cell_type": "code",
   "execution_count": 65,
   "metadata": {
    "colab": {
     "base_uri": "https://localhost:8080/",
     "height": 175
    },
    "id": "ziShFgfcqbdB",
    "outputId": "adbfb769-14b5-40f6-d95f-48e0871cedab"
   },
   "outputs": [
    {
     "output_type": "execute_result",
     "data": {
      "text/plain": [
       "     event_name  nunique  percent\n",
       "0         login     2604   100.00\n",
       "1  product_page     1685    64.71\n",
       "2      purchase      833    31.99\n",
       "3  product_cart      782    30.03"
      ],
      "text/html": [
       "\n",
       "  <div id=\"df-f489cbea-2e1c-4106-89b8-e33a60fd1d63\">\n",
       "    <div class=\"colab-df-container\">\n",
       "      <div>\n",
       "<style scoped>\n",
       "    .dataframe tbody tr th:only-of-type {\n",
       "        vertical-align: middle;\n",
       "    }\n",
       "\n",
       "    .dataframe tbody tr th {\n",
       "        vertical-align: top;\n",
       "    }\n",
       "\n",
       "    .dataframe thead th {\n",
       "        text-align: right;\n",
       "    }\n",
       "</style>\n",
       "<table border=\"1\" class=\"dataframe\">\n",
       "  <thead>\n",
       "    <tr style=\"text-align: right;\">\n",
       "      <th></th>\n",
       "      <th>event_name</th>\n",
       "      <th>nunique</th>\n",
       "      <th>percent</th>\n",
       "    </tr>\n",
       "  </thead>\n",
       "  <tbody>\n",
       "    <tr>\n",
       "      <th>0</th>\n",
       "      <td>login</td>\n",
       "      <td>2604</td>\n",
       "      <td>100.00</td>\n",
       "    </tr>\n",
       "    <tr>\n",
       "      <th>1</th>\n",
       "      <td>product_page</td>\n",
       "      <td>1685</td>\n",
       "      <td>64.71</td>\n",
       "    </tr>\n",
       "    <tr>\n",
       "      <th>2</th>\n",
       "      <td>purchase</td>\n",
       "      <td>833</td>\n",
       "      <td>31.99</td>\n",
       "    </tr>\n",
       "    <tr>\n",
       "      <th>3</th>\n",
       "      <td>product_cart</td>\n",
       "      <td>782</td>\n",
       "      <td>30.03</td>\n",
       "    </tr>\n",
       "  </tbody>\n",
       "</table>\n",
       "</div>\n",
       "      <button class=\"colab-df-convert\" onclick=\"convertToInteractive('df-f489cbea-2e1c-4106-89b8-e33a60fd1d63')\"\n",
       "              title=\"Convert this dataframe to an interactive table.\"\n",
       "              style=\"display:none;\">\n",
       "        \n",
       "  <svg xmlns=\"http://www.w3.org/2000/svg\" height=\"24px\"viewBox=\"0 0 24 24\"\n",
       "       width=\"24px\">\n",
       "    <path d=\"M0 0h24v24H0V0z\" fill=\"none\"/>\n",
       "    <path d=\"M18.56 5.44l.94 2.06.94-2.06 2.06-.94-2.06-.94-.94-2.06-.94 2.06-2.06.94zm-11 1L8.5 8.5l.94-2.06 2.06-.94-2.06-.94L8.5 2.5l-.94 2.06-2.06.94zm10 10l.94 2.06.94-2.06 2.06-.94-2.06-.94-.94-2.06-.94 2.06-2.06.94z\"/><path d=\"M17.41 7.96l-1.37-1.37c-.4-.4-.92-.59-1.43-.59-.52 0-1.04.2-1.43.59L10.3 9.45l-7.72 7.72c-.78.78-.78 2.05 0 2.83L4 21.41c.39.39.9.59 1.41.59.51 0 1.02-.2 1.41-.59l7.78-7.78 2.81-2.81c.8-.78.8-2.07 0-2.86zM5.41 20L4 18.59l7.72-7.72 1.47 1.35L5.41 20z\"/>\n",
       "  </svg>\n",
       "      </button>\n",
       "      \n",
       "  <style>\n",
       "    .colab-df-container {\n",
       "      display:flex;\n",
       "      flex-wrap:wrap;\n",
       "      gap: 12px;\n",
       "    }\n",
       "\n",
       "    .colab-df-convert {\n",
       "      background-color: #E8F0FE;\n",
       "      border: none;\n",
       "      border-radius: 50%;\n",
       "      cursor: pointer;\n",
       "      display: none;\n",
       "      fill: #1967D2;\n",
       "      height: 32px;\n",
       "      padding: 0 0 0 0;\n",
       "      width: 32px;\n",
       "    }\n",
       "\n",
       "    .colab-df-convert:hover {\n",
       "      background-color: #E2EBFA;\n",
       "      box-shadow: 0px 1px 2px rgba(60, 64, 67, 0.3), 0px 1px 3px 1px rgba(60, 64, 67, 0.15);\n",
       "      fill: #174EA6;\n",
       "    }\n",
       "\n",
       "    [theme=dark] .colab-df-convert {\n",
       "      background-color: #3B4455;\n",
       "      fill: #D2E3FC;\n",
       "    }\n",
       "\n",
       "    [theme=dark] .colab-df-convert:hover {\n",
       "      background-color: #434B5C;\n",
       "      box-shadow: 0px 1px 3px 1px rgba(0, 0, 0, 0.15);\n",
       "      filter: drop-shadow(0px 1px 2px rgba(0, 0, 0, 0.3));\n",
       "      fill: #FFFFFF;\n",
       "    }\n",
       "  </style>\n",
       "\n",
       "      <script>\n",
       "        const buttonEl =\n",
       "          document.querySelector('#df-f489cbea-2e1c-4106-89b8-e33a60fd1d63 button.colab-df-convert');\n",
       "        buttonEl.style.display =\n",
       "          google.colab.kernel.accessAllowed ? 'block' : 'none';\n",
       "\n",
       "        async function convertToInteractive(key) {\n",
       "          const element = document.querySelector('#df-f489cbea-2e1c-4106-89b8-e33a60fd1d63');\n",
       "          const dataTable =\n",
       "            await google.colab.kernel.invokeFunction('convertToInteractive',\n",
       "                                                     [key], {});\n",
       "          if (!dataTable) return;\n",
       "\n",
       "          const docLinkHtml = 'Like what you see? Visit the ' +\n",
       "            '<a target=\"_blank\" href=https://colab.research.google.com/notebooks/data_table.ipynb>data table notebook</a>'\n",
       "            + ' to learn more about interactive tables.';\n",
       "          element.innerHTML = '';\n",
       "          dataTable['output_type'] = 'display_data';\n",
       "          await google.colab.output.renderOutput(dataTable, element);\n",
       "          const docLink = document.createElement('div');\n",
       "          docLink.innerHTML = docLinkHtml;\n",
       "          element.appendChild(docLink);\n",
       "        }\n",
       "      </script>\n",
       "    </div>\n",
       "  </div>\n",
       "  "
      ]
     },
     "metadata": {},
     "execution_count": 65
    }
   ],
   "source": [
    "group_event_A = group_event(\"A\")\n",
    "group_event_A"
   ]
  },
  {
   "cell_type": "markdown",
   "metadata": {
    "id": "hK9a4xYzqbdB"
   },
   "source": [
    "Создадим таблицу для группы В:"
   ]
  },
  {
   "cell_type": "code",
   "execution_count": 66,
   "metadata": {
    "colab": {
     "base_uri": "https://localhost:8080/",
     "height": 175
    },
    "id": "PIZ8muc0qbdB",
    "outputId": "18cc8ffa-2963-4267-f54c-2d54a2b7d9ba"
   },
   "outputs": [
    {
     "output_type": "execute_result",
     "data": {
      "text/plain": [
       "     event_name  nunique  percent\n",
       "0         login      876    99.89\n",
       "1  product_page      493    56.21\n",
       "2      purchase      249    28.39\n",
       "3  product_cart      244    27.82"
      ],
      "text/html": [
       "\n",
       "  <div id=\"df-75222fd0-bce2-47a4-8a37-08ecb68ccd66\">\n",
       "    <div class=\"colab-df-container\">\n",
       "      <div>\n",
       "<style scoped>\n",
       "    .dataframe tbody tr th:only-of-type {\n",
       "        vertical-align: middle;\n",
       "    }\n",
       "\n",
       "    .dataframe tbody tr th {\n",
       "        vertical-align: top;\n",
       "    }\n",
       "\n",
       "    .dataframe thead th {\n",
       "        text-align: right;\n",
       "    }\n",
       "</style>\n",
       "<table border=\"1\" class=\"dataframe\">\n",
       "  <thead>\n",
       "    <tr style=\"text-align: right;\">\n",
       "      <th></th>\n",
       "      <th>event_name</th>\n",
       "      <th>nunique</th>\n",
       "      <th>percent</th>\n",
       "    </tr>\n",
       "  </thead>\n",
       "  <tbody>\n",
       "    <tr>\n",
       "      <th>0</th>\n",
       "      <td>login</td>\n",
       "      <td>876</td>\n",
       "      <td>99.89</td>\n",
       "    </tr>\n",
       "    <tr>\n",
       "      <th>1</th>\n",
       "      <td>product_page</td>\n",
       "      <td>493</td>\n",
       "      <td>56.21</td>\n",
       "    </tr>\n",
       "    <tr>\n",
       "      <th>2</th>\n",
       "      <td>purchase</td>\n",
       "      <td>249</td>\n",
       "      <td>28.39</td>\n",
       "    </tr>\n",
       "    <tr>\n",
       "      <th>3</th>\n",
       "      <td>product_cart</td>\n",
       "      <td>244</td>\n",
       "      <td>27.82</td>\n",
       "    </tr>\n",
       "  </tbody>\n",
       "</table>\n",
       "</div>\n",
       "      <button class=\"colab-df-convert\" onclick=\"convertToInteractive('df-75222fd0-bce2-47a4-8a37-08ecb68ccd66')\"\n",
       "              title=\"Convert this dataframe to an interactive table.\"\n",
       "              style=\"display:none;\">\n",
       "        \n",
       "  <svg xmlns=\"http://www.w3.org/2000/svg\" height=\"24px\"viewBox=\"0 0 24 24\"\n",
       "       width=\"24px\">\n",
       "    <path d=\"M0 0h24v24H0V0z\" fill=\"none\"/>\n",
       "    <path d=\"M18.56 5.44l.94 2.06.94-2.06 2.06-.94-2.06-.94-.94-2.06-.94 2.06-2.06.94zm-11 1L8.5 8.5l.94-2.06 2.06-.94-2.06-.94L8.5 2.5l-.94 2.06-2.06.94zm10 10l.94 2.06.94-2.06 2.06-.94-2.06-.94-.94-2.06-.94 2.06-2.06.94z\"/><path d=\"M17.41 7.96l-1.37-1.37c-.4-.4-.92-.59-1.43-.59-.52 0-1.04.2-1.43.59L10.3 9.45l-7.72 7.72c-.78.78-.78 2.05 0 2.83L4 21.41c.39.39.9.59 1.41.59.51 0 1.02-.2 1.41-.59l7.78-7.78 2.81-2.81c.8-.78.8-2.07 0-2.86zM5.41 20L4 18.59l7.72-7.72 1.47 1.35L5.41 20z\"/>\n",
       "  </svg>\n",
       "      </button>\n",
       "      \n",
       "  <style>\n",
       "    .colab-df-container {\n",
       "      display:flex;\n",
       "      flex-wrap:wrap;\n",
       "      gap: 12px;\n",
       "    }\n",
       "\n",
       "    .colab-df-convert {\n",
       "      background-color: #E8F0FE;\n",
       "      border: none;\n",
       "      border-radius: 50%;\n",
       "      cursor: pointer;\n",
       "      display: none;\n",
       "      fill: #1967D2;\n",
       "      height: 32px;\n",
       "      padding: 0 0 0 0;\n",
       "      width: 32px;\n",
       "    }\n",
       "\n",
       "    .colab-df-convert:hover {\n",
       "      background-color: #E2EBFA;\n",
       "      box-shadow: 0px 1px 2px rgba(60, 64, 67, 0.3), 0px 1px 3px 1px rgba(60, 64, 67, 0.15);\n",
       "      fill: #174EA6;\n",
       "    }\n",
       "\n",
       "    [theme=dark] .colab-df-convert {\n",
       "      background-color: #3B4455;\n",
       "      fill: #D2E3FC;\n",
       "    }\n",
       "\n",
       "    [theme=dark] .colab-df-convert:hover {\n",
       "      background-color: #434B5C;\n",
       "      box-shadow: 0px 1px 3px 1px rgba(0, 0, 0, 0.15);\n",
       "      filter: drop-shadow(0px 1px 2px rgba(0, 0, 0, 0.3));\n",
       "      fill: #FFFFFF;\n",
       "    }\n",
       "  </style>\n",
       "\n",
       "      <script>\n",
       "        const buttonEl =\n",
       "          document.querySelector('#df-75222fd0-bce2-47a4-8a37-08ecb68ccd66 button.colab-df-convert');\n",
       "        buttonEl.style.display =\n",
       "          google.colab.kernel.accessAllowed ? 'block' : 'none';\n",
       "\n",
       "        async function convertToInteractive(key) {\n",
       "          const element = document.querySelector('#df-75222fd0-bce2-47a4-8a37-08ecb68ccd66');\n",
       "          const dataTable =\n",
       "            await google.colab.kernel.invokeFunction('convertToInteractive',\n",
       "                                                     [key], {});\n",
       "          if (!dataTable) return;\n",
       "\n",
       "          const docLinkHtml = 'Like what you see? Visit the ' +\n",
       "            '<a target=\"_blank\" href=https://colab.research.google.com/notebooks/data_table.ipynb>data table notebook</a>'\n",
       "            + ' to learn more about interactive tables.';\n",
       "          element.innerHTML = '';\n",
       "          dataTable['output_type'] = 'display_data';\n",
       "          await google.colab.output.renderOutput(dataTable, element);\n",
       "          const docLink = document.createElement('div');\n",
       "          docLink.innerHTML = docLinkHtml;\n",
       "          element.appendChild(docLink);\n",
       "        }\n",
       "      </script>\n",
       "    </div>\n",
       "  </div>\n",
       "  "
      ]
     },
     "metadata": {},
     "execution_count": 66
    }
   ],
   "source": [
    "group_event_B = group_event(\"B\")\n",
    "group_event_B"
   ]
  },
  {
   "cell_type": "markdown",
   "metadata": {
    "id": "YcS17z5GqbdB"
   },
   "source": [
    "На каждом шаге видно ухудшение по каждой метрике в группе В по сравнению с группой А."
   ]
  },
  {
   "cell_type": "markdown",
   "metadata": {
    "id": "TGMN1mgsqbdC"
   },
   "source": [
    "Последовательность событий:\n",
    "\n",
    "* login - авторизация\n",
    "* product_page - просмотр карточек товаров\n",
    "* product_cart - корзина\n",
    "* purchase - оплата"
   ]
  },
  {
   "cell_type": "markdown",
   "metadata": {
    "id": "Sa3pv-WFqbdC"
   },
   "source": [
    "Так как в событии product_cart значение меньше, чем в покупках, значит некоторые пользователи оформляли заказ сразу без добавления товара в корзину."
   ]
  },
  {
   "cell_type": "markdown",
   "metadata": {
    "id": "pslxHQSWqbdC"
   },
   "source": [
    "Поменяем местами шаги product_cart и purchase для групп A и B:"
   ]
  },
  {
   "cell_type": "code",
   "execution_count": 67,
   "metadata": {
    "id": "XiX3rf4IqbdC"
   },
   "outputs": [],
   "source": [
    "group_event_A = group_event_A.reindex([0,1,3,2])\n",
    "group_event_B = group_event_B.reindex([0,1,3,2])"
   ]
  },
  {
   "cell_type": "markdown",
   "metadata": {
    "id": "Te8fsFjNqbdC"
   },
   "source": [
    "Построим график воронки событий:"
   ]
  },
  {
   "cell_type": "code",
   "execution_count": 68,
   "metadata": {
    "colab": {
     "base_uri": "https://localhost:8080/",
     "height": 542
    },
    "id": "wqD6P90lqbdD",
    "outputId": "0ef6a3ed-0728-43a7-c16c-58627365a0d5"
   },
   "outputs": [
    {
     "output_type": "display_data",
     "data": {
      "text/html": [
       "<html>\n",
       "<head><meta charset=\"utf-8\" /></head>\n",
       "<body>\n",
       "    <div>            <script src=\"https://cdnjs.cloudflare.com/ajax/libs/mathjax/2.7.5/MathJax.js?config=TeX-AMS-MML_SVG\"></script><script type=\"text/javascript\">if (window.MathJax) {MathJax.Hub.Config({SVG: {font: \"STIX-Web\"}});}</script>                <script type=\"text/javascript\">window.PlotlyConfig = {MathJaxConfig: 'local'};</script>\n",
       "        <script src=\"https://cdn.plot.ly/plotly-2.8.3.min.js\"></script>                <div id=\"9b2167de-8438-4fdd-a40f-9634d94679c7\" class=\"plotly-graph-div\" style=\"height:525px; width:1000px;\"></div>            <script type=\"text/javascript\">                                    window.PLOTLYENV=window.PLOTLYENV || {};                                    if (document.getElementById(\"9b2167de-8438-4fdd-a40f-9634d94679c7\")) {                    Plotly.newPlot(                        \"9b2167de-8438-4fdd-a40f-9634d94679c7\",                        [{\"name\":\"A\",\"textinfo\":\"value+percent initial+percent previous\",\"textposition\":\"inside\",\"texttemplate\":\"%{value}<br>%{percentInitial:.1%}(percent of initial)<br>%{percentPrevious:.1%}(percent of previous)\",\"x\":[2604,1685,782,833],\"y\":[\"login\",\"product_page\",\"product_cart\",\"purchase\"],\"type\":\"funnel\"},{\"name\":\"B\",\"textinfo\":\"value+percent initial+percent previous\",\"texttemplate\":\"%{value}<br>%{percentInitial:.1%}(percent of initial)<br>%{percentPrevious:.1%}(percent of previous)\",\"x\":[876,493,244,249],\"y\":[\"login\",\"product_page\",\"product_cart\",\"purchase\"],\"type\":\"funnel\"}],                        {\"template\":{\"data\":{\"bar\":[{\"error_x\":{\"color\":\"#2a3f5f\"},\"error_y\":{\"color\":\"#2a3f5f\"},\"marker\":{\"line\":{\"color\":\"#E5ECF6\",\"width\":0.5},\"pattern\":{\"fillmode\":\"overlay\",\"size\":10,\"solidity\":0.2}},\"type\":\"bar\"}],\"barpolar\":[{\"marker\":{\"line\":{\"color\":\"#E5ECF6\",\"width\":0.5},\"pattern\":{\"fillmode\":\"overlay\",\"size\":10,\"solidity\":0.2}},\"type\":\"barpolar\"}],\"carpet\":[{\"aaxis\":{\"endlinecolor\":\"#2a3f5f\",\"gridcolor\":\"white\",\"linecolor\":\"white\",\"minorgridcolor\":\"white\",\"startlinecolor\":\"#2a3f5f\"},\"baxis\":{\"endlinecolor\":\"#2a3f5f\",\"gridcolor\":\"white\",\"linecolor\":\"white\",\"minorgridcolor\":\"white\",\"startlinecolor\":\"#2a3f5f\"},\"type\":\"carpet\"}],\"choropleth\":[{\"colorbar\":{\"outlinewidth\":0,\"ticks\":\"\"},\"type\":\"choropleth\"}],\"contour\":[{\"colorbar\":{\"outlinewidth\":0,\"ticks\":\"\"},\"colorscale\":[[0.0,\"#0d0887\"],[0.1111111111111111,\"#46039f\"],[0.2222222222222222,\"#7201a8\"],[0.3333333333333333,\"#9c179e\"],[0.4444444444444444,\"#bd3786\"],[0.5555555555555556,\"#d8576b\"],[0.6666666666666666,\"#ed7953\"],[0.7777777777777778,\"#fb9f3a\"],[0.8888888888888888,\"#fdca26\"],[1.0,\"#f0f921\"]],\"type\":\"contour\"}],\"contourcarpet\":[{\"colorbar\":{\"outlinewidth\":0,\"ticks\":\"\"},\"type\":\"contourcarpet\"}],\"heatmap\":[{\"colorbar\":{\"outlinewidth\":0,\"ticks\":\"\"},\"colorscale\":[[0.0,\"#0d0887\"],[0.1111111111111111,\"#46039f\"],[0.2222222222222222,\"#7201a8\"],[0.3333333333333333,\"#9c179e\"],[0.4444444444444444,\"#bd3786\"],[0.5555555555555556,\"#d8576b\"],[0.6666666666666666,\"#ed7953\"],[0.7777777777777778,\"#fb9f3a\"],[0.8888888888888888,\"#fdca26\"],[1.0,\"#f0f921\"]],\"type\":\"heatmap\"}],\"heatmapgl\":[{\"colorbar\":{\"outlinewidth\":0,\"ticks\":\"\"},\"colorscale\":[[0.0,\"#0d0887\"],[0.1111111111111111,\"#46039f\"],[0.2222222222222222,\"#7201a8\"],[0.3333333333333333,\"#9c179e\"],[0.4444444444444444,\"#bd3786\"],[0.5555555555555556,\"#d8576b\"],[0.6666666666666666,\"#ed7953\"],[0.7777777777777778,\"#fb9f3a\"],[0.8888888888888888,\"#fdca26\"],[1.0,\"#f0f921\"]],\"type\":\"heatmapgl\"}],\"histogram\":[{\"marker\":{\"pattern\":{\"fillmode\":\"overlay\",\"size\":10,\"solidity\":0.2}},\"type\":\"histogram\"}],\"histogram2d\":[{\"colorbar\":{\"outlinewidth\":0,\"ticks\":\"\"},\"colorscale\":[[0.0,\"#0d0887\"],[0.1111111111111111,\"#46039f\"],[0.2222222222222222,\"#7201a8\"],[0.3333333333333333,\"#9c179e\"],[0.4444444444444444,\"#bd3786\"],[0.5555555555555556,\"#d8576b\"],[0.6666666666666666,\"#ed7953\"],[0.7777777777777778,\"#fb9f3a\"],[0.8888888888888888,\"#fdca26\"],[1.0,\"#f0f921\"]],\"type\":\"histogram2d\"}],\"histogram2dcontour\":[{\"colorbar\":{\"outlinewidth\":0,\"ticks\":\"\"},\"colorscale\":[[0.0,\"#0d0887\"],[0.1111111111111111,\"#46039f\"],[0.2222222222222222,\"#7201a8\"],[0.3333333333333333,\"#9c179e\"],[0.4444444444444444,\"#bd3786\"],[0.5555555555555556,\"#d8576b\"],[0.6666666666666666,\"#ed7953\"],[0.7777777777777778,\"#fb9f3a\"],[0.8888888888888888,\"#fdca26\"],[1.0,\"#f0f921\"]],\"type\":\"histogram2dcontour\"}],\"mesh3d\":[{\"colorbar\":{\"outlinewidth\":0,\"ticks\":\"\"},\"type\":\"mesh3d\"}],\"parcoords\":[{\"line\":{\"colorbar\":{\"outlinewidth\":0,\"ticks\":\"\"}},\"type\":\"parcoords\"}],\"pie\":[{\"automargin\":true,\"type\":\"pie\"}],\"scatter\":[{\"marker\":{\"colorbar\":{\"outlinewidth\":0,\"ticks\":\"\"}},\"type\":\"scatter\"}],\"scatter3d\":[{\"line\":{\"colorbar\":{\"outlinewidth\":0,\"ticks\":\"\"}},\"marker\":{\"colorbar\":{\"outlinewidth\":0,\"ticks\":\"\"}},\"type\":\"scatter3d\"}],\"scattercarpet\":[{\"marker\":{\"colorbar\":{\"outlinewidth\":0,\"ticks\":\"\"}},\"type\":\"scattercarpet\"}],\"scattergeo\":[{\"marker\":{\"colorbar\":{\"outlinewidth\":0,\"ticks\":\"\"}},\"type\":\"scattergeo\"}],\"scattergl\":[{\"marker\":{\"colorbar\":{\"outlinewidth\":0,\"ticks\":\"\"}},\"type\":\"scattergl\"}],\"scattermapbox\":[{\"marker\":{\"colorbar\":{\"outlinewidth\":0,\"ticks\":\"\"}},\"type\":\"scattermapbox\"}],\"scatterpolar\":[{\"marker\":{\"colorbar\":{\"outlinewidth\":0,\"ticks\":\"\"}},\"type\":\"scatterpolar\"}],\"scatterpolargl\":[{\"marker\":{\"colorbar\":{\"outlinewidth\":0,\"ticks\":\"\"}},\"type\":\"scatterpolargl\"}],\"scatterternary\":[{\"marker\":{\"colorbar\":{\"outlinewidth\":0,\"ticks\":\"\"}},\"type\":\"scatterternary\"}],\"surface\":[{\"colorbar\":{\"outlinewidth\":0,\"ticks\":\"\"},\"colorscale\":[[0.0,\"#0d0887\"],[0.1111111111111111,\"#46039f\"],[0.2222222222222222,\"#7201a8\"],[0.3333333333333333,\"#9c179e\"],[0.4444444444444444,\"#bd3786\"],[0.5555555555555556,\"#d8576b\"],[0.6666666666666666,\"#ed7953\"],[0.7777777777777778,\"#fb9f3a\"],[0.8888888888888888,\"#fdca26\"],[1.0,\"#f0f921\"]],\"type\":\"surface\"}],\"table\":[{\"cells\":{\"fill\":{\"color\":\"#EBF0F8\"},\"line\":{\"color\":\"white\"}},\"header\":{\"fill\":{\"color\":\"#C8D4E3\"},\"line\":{\"color\":\"white\"}},\"type\":\"table\"}]},\"layout\":{\"annotationdefaults\":{\"arrowcolor\":\"#2a3f5f\",\"arrowhead\":0,\"arrowwidth\":1},\"autotypenumbers\":\"strict\",\"coloraxis\":{\"colorbar\":{\"outlinewidth\":0,\"ticks\":\"\"}},\"colorscale\":{\"diverging\":[[0,\"#8e0152\"],[0.1,\"#c51b7d\"],[0.2,\"#de77ae\"],[0.3,\"#f1b6da\"],[0.4,\"#fde0ef\"],[0.5,\"#f7f7f7\"],[0.6,\"#e6f5d0\"],[0.7,\"#b8e186\"],[0.8,\"#7fbc41\"],[0.9,\"#4d9221\"],[1,\"#276419\"]],\"sequential\":[[0.0,\"#0d0887\"],[0.1111111111111111,\"#46039f\"],[0.2222222222222222,\"#7201a8\"],[0.3333333333333333,\"#9c179e\"],[0.4444444444444444,\"#bd3786\"],[0.5555555555555556,\"#d8576b\"],[0.6666666666666666,\"#ed7953\"],[0.7777777777777778,\"#fb9f3a\"],[0.8888888888888888,\"#fdca26\"],[1.0,\"#f0f921\"]],\"sequentialminus\":[[0.0,\"#0d0887\"],[0.1111111111111111,\"#46039f\"],[0.2222222222222222,\"#7201a8\"],[0.3333333333333333,\"#9c179e\"],[0.4444444444444444,\"#bd3786\"],[0.5555555555555556,\"#d8576b\"],[0.6666666666666666,\"#ed7953\"],[0.7777777777777778,\"#fb9f3a\"],[0.8888888888888888,\"#fdca26\"],[1.0,\"#f0f921\"]]},\"colorway\":[\"#636efa\",\"#EF553B\",\"#00cc96\",\"#ab63fa\",\"#FFA15A\",\"#19d3f3\",\"#FF6692\",\"#B6E880\",\"#FF97FF\",\"#FECB52\"],\"font\":{\"color\":\"#2a3f5f\"},\"geo\":{\"bgcolor\":\"white\",\"lakecolor\":\"white\",\"landcolor\":\"#E5ECF6\",\"showlakes\":true,\"showland\":true,\"subunitcolor\":\"white\"},\"hoverlabel\":{\"align\":\"left\"},\"hovermode\":\"closest\",\"mapbox\":{\"style\":\"light\"},\"paper_bgcolor\":\"white\",\"plot_bgcolor\":\"#E5ECF6\",\"polar\":{\"angularaxis\":{\"gridcolor\":\"white\",\"linecolor\":\"white\",\"ticks\":\"\"},\"bgcolor\":\"#E5ECF6\",\"radialaxis\":{\"gridcolor\":\"white\",\"linecolor\":\"white\",\"ticks\":\"\"}},\"scene\":{\"xaxis\":{\"backgroundcolor\":\"#E5ECF6\",\"gridcolor\":\"white\",\"gridwidth\":2,\"linecolor\":\"white\",\"showbackground\":true,\"ticks\":\"\",\"zerolinecolor\":\"white\"},\"yaxis\":{\"backgroundcolor\":\"#E5ECF6\",\"gridcolor\":\"white\",\"gridwidth\":2,\"linecolor\":\"white\",\"showbackground\":true,\"ticks\":\"\",\"zerolinecolor\":\"white\"},\"zaxis\":{\"backgroundcolor\":\"#E5ECF6\",\"gridcolor\":\"white\",\"gridwidth\":2,\"linecolor\":\"white\",\"showbackground\":true,\"ticks\":\"\",\"zerolinecolor\":\"white\"}},\"shapedefaults\":{\"line\":{\"color\":\"#2a3f5f\"}},\"ternary\":{\"aaxis\":{\"gridcolor\":\"white\",\"linecolor\":\"white\",\"ticks\":\"\"},\"baxis\":{\"gridcolor\":\"white\",\"linecolor\":\"white\",\"ticks\":\"\"},\"bgcolor\":\"#E5ECF6\",\"caxis\":{\"gridcolor\":\"white\",\"linecolor\":\"white\",\"ticks\":\"\"}},\"title\":{\"x\":0.05},\"xaxis\":{\"automargin\":true,\"gridcolor\":\"white\",\"linecolor\":\"white\",\"ticks\":\"\",\"title\":{\"standoff\":15},\"zerolinecolor\":\"white\",\"zerolinewidth\":2},\"yaxis\":{\"automargin\":true,\"gridcolor\":\"white\",\"linecolor\":\"white\",\"ticks\":\"\",\"title\":{\"standoff\":15},\"zerolinecolor\":\"white\",\"zerolinewidth\":2}}},\"width\":1000,\"title\":{\"text\":\"\\u0412\\u043e\\u0440\\u043e\\u043d\\u043a\\u0430 \\u0441\\u043e\\u0431\\u044b\\u0442\\u0438\\u0439 \\u0434\\u043b\\u044f \\u0433\\u0440\\u0443\\u043f\\u043f A \\u0438 B\"}},                        {\"responsive\": true}                    ).then(function(){\n",
       "                            \n",
       "var gd = document.getElementById('9b2167de-8438-4fdd-a40f-9634d94679c7');\n",
       "var x = new MutationObserver(function (mutations, observer) {{\n",
       "        var display = window.getComputedStyle(gd).display;\n",
       "        if (!display || display === 'none') {{\n",
       "            console.log([gd, 'removed!']);\n",
       "            Plotly.purge(gd);\n",
       "            observer.disconnect();\n",
       "        }}\n",
       "}});\n",
       "\n",
       "// Listen for the removal of the full notebook cells\n",
       "var notebookContainer = gd.closest('#notebook-container');\n",
       "if (notebookContainer) {{\n",
       "    x.observe(notebookContainer, {childList: true});\n",
       "}}\n",
       "\n",
       "// Listen for the clearing of the current output cell\n",
       "var outputEl = gd.closest('.output');\n",
       "if (outputEl) {{\n",
       "    x.observe(outputEl, {childList: true});\n",
       "}}\n",
       "\n",
       "                        })                };                            </script>        </div>\n",
       "</body>\n",
       "</html>"
      ]
     },
     "metadata": {}
    }
   ],
   "source": [
    "fig = go.Figure()\n",
    "fig.add_trace(go.Funnel(name = 'A', y=group_event_A['event_name'],\n",
    "              x=group_event_A['nunique'], textposition = \"inside\",\n",
    "              textinfo = \"value+percent initial+percent previous\",\n",
    "              texttemplate = \"%{value}<br>%{percentInitial:.1%}(percent of initial)<br>%{percentPrevious:.1%}(percent of previous)\"))\n",
    "fig.add_trace(go.Funnel(name = 'B',y=group_event_B['event_name'],\n",
    "              x=group_event_B['nunique'],\n",
    "              textinfo = \"value+percent initial+percent previous\",\n",
    "              texttemplate = \"%{value}<br>%{percentInitial:.1%}(percent of initial)<br>%{percentPrevious:.1%}(percent of previous)\"))\n",
    "fig.update_layout(width = 1000, title=\"Воронка событий для групп A и B\")\n",
    "fig.show()"
   ]
  },
  {
   "cell_type": "markdown",
   "metadata": {
    "id": "PsTneWkdqbdD"
   },
   "source": [
    "Согласно воронке:\n",
    "* После авторизации (login), при переходе на страницу с продуктами (product_page) в группе B теряется на 8,4% больше пользователей, чем в группе А. \n",
    "* До оплаты в тестируемой группе доходит 28,4% пользователей, в группе А на 3,6% больше."
   ]
  },
  {
   "cell_type": "markdown",
   "metadata": {
    "id": "ZUIpyGlqqbdD"
   },
   "source": [
    "<a name=\"4.5\"><h3>4.5 Учёт особенностей данных</h3></a>"
   ]
  },
  {
   "cell_type": "markdown",
   "metadata": {
    "id": "1nmxj2vRqbdD"
   },
   "source": [
    "Выделим следующие особенности данных:\n",
    "\n",
    "* Пользователи изначально неравномерно распределены по выборкам, для группы А было выбрано 57.22% пользователей, для группы В - 42.78%. После удаления пользователей, которые не прошли дальше регистрации, разница в соотношении групп стала еще больше: в группе А - 74.81% и в группе В - 25.19% пользователей.\n",
    "* Согласно техническому заданию предполагалось участие 6000 новых пользователей из региона EU. В результате осталось 3481 пользователя, и вместо 15% из региона EU осталось 8,22%.\n",
    "* Дата остановки теста 2021-01-04, но уже после 30 декабря вероятно произошла какая-то ошибка и данные о действиях пользователей перестали записываться, либо были утеряны.\n",
    "* В период теста проводилось одно маркетинговое мероприятие, которое могло повлиять на результаты."
   ]
  },
  {
   "cell_type": "markdown",
   "metadata": {
    "id": "otoSLomOqbdD"
   },
   "source": [
    "<div style=\"border: solid green 2px; padding: 20px\">\n",
    "    \n",
    "**Выводы**\n",
    "\n",
    "* В результате объединения таблиц были обнаружили пользователи, которые зарегистрировались, но не совершали никаких действий, таких пропусков около 11%.\n",
    "* Сделали срез таблицы и оставили только те события, которые были совершены в течение 2 недель с момента регистрации. При этом пользователи без событий тоже были удалены, всего 2519. В итоге в группе A осталось 2604 участника (74.81%) и в группе B - 877 человек (25.19%).\n",
    "* В среднем пользователь группы A совершает 6.9 событий, а пользователь группы B - 5.53. Медиана в тестируемой группе на 2 события меньше, чем в группе A.\n",
    "* Распределение количества событий в выборках по дням показало, что клиенты группы A стали значительно активние после 14 декабря.\n",
    "* По метрикам группа В показывает более плохие результаты по сравнению с группой А, наибольшая разница 8,4% при переходе в каталог товаров (product_page).\n",
    "* Учли особенности данных, которые могли повлиять на результаты теста.</div>"
   ]
  },
  {
   "cell_type": "markdown",
   "metadata": {
    "id": "LmzYYfeUqbdE"
   },
   "source": [
    "<a name=\"5\"><h2>5 Оценка результатов A/B-тестирования</h2></a>"
   ]
  },
  {
   "cell_type": "markdown",
   "metadata": {
    "id": "8XYTF70ZqbdE"
   },
   "source": [
    "По результам A/В тестирования определили, что:\n",
    "\n",
    "* ожидаемого эффекта нет, за 14 дней с момента регистрации пользователи  не показали улучшение ни по одной метрике, тогда как предполагалось улучшение не менее, чем на 10% в каждой метрике;\n",
    "* с учетом всех особенностей данных, можно утверждать, что тест проведен некорректно."
   ]
  },
  {
   "cell_type": "markdown",
   "metadata": {
    "id": "b1ZtX8kIqbdE"
   },
   "source": [
    "Для проверки, существует ли разница в долях между выборками, сформулируем гипотезы:\n",
    "\n",
    "* H₀: Нет статистически значимых различий в долях между группами A и B\n",
    "* H₁: Есть статистически значимые различия в долях между группами A и B"
   ]
  },
  {
   "cell_type": "markdown",
   "metadata": {
    "id": "766CmejaqbdE"
   },
   "source": [
    "Для проверки гипотез объединим таблицы 'group_event_A' и 'group_event_B' для сравнения групп по событиям:"
   ]
  },
  {
   "cell_type": "code",
   "execution_count": 69,
   "metadata": {
    "colab": {
     "base_uri": "https://localhost:8080/",
     "height": 206
    },
    "id": "1hbyEMpMqbdE",
    "outputId": "c616c34b-55e1-45f4-a1cc-a335006a7308"
   },
   "outputs": [
    {
     "output_type": "execute_result",
     "data": {
      "text/plain": [
       "                 A  percent_A    B  percent_B\n",
       "event_name                                   \n",
       "login         2604     100.00  876      99.89\n",
       "product_page  1685      64.71  493      56.21\n",
       "product_cart   782      30.03  244      27.82\n",
       "purchase       833      31.99  249      28.39"
      ],
      "text/html": [
       "\n",
       "  <div id=\"df-d729a006-8d90-4c92-88eb-5ea6ef3c4e80\">\n",
       "    <div class=\"colab-df-container\">\n",
       "      <div>\n",
       "<style scoped>\n",
       "    .dataframe tbody tr th:only-of-type {\n",
       "        vertical-align: middle;\n",
       "    }\n",
       "\n",
       "    .dataframe tbody tr th {\n",
       "        vertical-align: top;\n",
       "    }\n",
       "\n",
       "    .dataframe thead th {\n",
       "        text-align: right;\n",
       "    }\n",
       "</style>\n",
       "<table border=\"1\" class=\"dataframe\">\n",
       "  <thead>\n",
       "    <tr style=\"text-align: right;\">\n",
       "      <th></th>\n",
       "      <th>A</th>\n",
       "      <th>percent_A</th>\n",
       "      <th>B</th>\n",
       "      <th>percent_B</th>\n",
       "    </tr>\n",
       "    <tr>\n",
       "      <th>event_name</th>\n",
       "      <th></th>\n",
       "      <th></th>\n",
       "      <th></th>\n",
       "      <th></th>\n",
       "    </tr>\n",
       "  </thead>\n",
       "  <tbody>\n",
       "    <tr>\n",
       "      <th>login</th>\n",
       "      <td>2604</td>\n",
       "      <td>100.00</td>\n",
       "      <td>876</td>\n",
       "      <td>99.89</td>\n",
       "    </tr>\n",
       "    <tr>\n",
       "      <th>product_page</th>\n",
       "      <td>1685</td>\n",
       "      <td>64.71</td>\n",
       "      <td>493</td>\n",
       "      <td>56.21</td>\n",
       "    </tr>\n",
       "    <tr>\n",
       "      <th>product_cart</th>\n",
       "      <td>782</td>\n",
       "      <td>30.03</td>\n",
       "      <td>244</td>\n",
       "      <td>27.82</td>\n",
       "    </tr>\n",
       "    <tr>\n",
       "      <th>purchase</th>\n",
       "      <td>833</td>\n",
       "      <td>31.99</td>\n",
       "      <td>249</td>\n",
       "      <td>28.39</td>\n",
       "    </tr>\n",
       "  </tbody>\n",
       "</table>\n",
       "</div>\n",
       "      <button class=\"colab-df-convert\" onclick=\"convertToInteractive('df-d729a006-8d90-4c92-88eb-5ea6ef3c4e80')\"\n",
       "              title=\"Convert this dataframe to an interactive table.\"\n",
       "              style=\"display:none;\">\n",
       "        \n",
       "  <svg xmlns=\"http://www.w3.org/2000/svg\" height=\"24px\"viewBox=\"0 0 24 24\"\n",
       "       width=\"24px\">\n",
       "    <path d=\"M0 0h24v24H0V0z\" fill=\"none\"/>\n",
       "    <path d=\"M18.56 5.44l.94 2.06.94-2.06 2.06-.94-2.06-.94-.94-2.06-.94 2.06-2.06.94zm-11 1L8.5 8.5l.94-2.06 2.06-.94-2.06-.94L8.5 2.5l-.94 2.06-2.06.94zm10 10l.94 2.06.94-2.06 2.06-.94-2.06-.94-.94-2.06-.94 2.06-2.06.94z\"/><path d=\"M17.41 7.96l-1.37-1.37c-.4-.4-.92-.59-1.43-.59-.52 0-1.04.2-1.43.59L10.3 9.45l-7.72 7.72c-.78.78-.78 2.05 0 2.83L4 21.41c.39.39.9.59 1.41.59.51 0 1.02-.2 1.41-.59l7.78-7.78 2.81-2.81c.8-.78.8-2.07 0-2.86zM5.41 20L4 18.59l7.72-7.72 1.47 1.35L5.41 20z\"/>\n",
       "  </svg>\n",
       "      </button>\n",
       "      \n",
       "  <style>\n",
       "    .colab-df-container {\n",
       "      display:flex;\n",
       "      flex-wrap:wrap;\n",
       "      gap: 12px;\n",
       "    }\n",
       "\n",
       "    .colab-df-convert {\n",
       "      background-color: #E8F0FE;\n",
       "      border: none;\n",
       "      border-radius: 50%;\n",
       "      cursor: pointer;\n",
       "      display: none;\n",
       "      fill: #1967D2;\n",
       "      height: 32px;\n",
       "      padding: 0 0 0 0;\n",
       "      width: 32px;\n",
       "    }\n",
       "\n",
       "    .colab-df-convert:hover {\n",
       "      background-color: #E2EBFA;\n",
       "      box-shadow: 0px 1px 2px rgba(60, 64, 67, 0.3), 0px 1px 3px 1px rgba(60, 64, 67, 0.15);\n",
       "      fill: #174EA6;\n",
       "    }\n",
       "\n",
       "    [theme=dark] .colab-df-convert {\n",
       "      background-color: #3B4455;\n",
       "      fill: #D2E3FC;\n",
       "    }\n",
       "\n",
       "    [theme=dark] .colab-df-convert:hover {\n",
       "      background-color: #434B5C;\n",
       "      box-shadow: 0px 1px 3px 1px rgba(0, 0, 0, 0.15);\n",
       "      filter: drop-shadow(0px 1px 2px rgba(0, 0, 0, 0.3));\n",
       "      fill: #FFFFFF;\n",
       "    }\n",
       "  </style>\n",
       "\n",
       "      <script>\n",
       "        const buttonEl =\n",
       "          document.querySelector('#df-d729a006-8d90-4c92-88eb-5ea6ef3c4e80 button.colab-df-convert');\n",
       "        buttonEl.style.display =\n",
       "          google.colab.kernel.accessAllowed ? 'block' : 'none';\n",
       "\n",
       "        async function convertToInteractive(key) {\n",
       "          const element = document.querySelector('#df-d729a006-8d90-4c92-88eb-5ea6ef3c4e80');\n",
       "          const dataTable =\n",
       "            await google.colab.kernel.invokeFunction('convertToInteractive',\n",
       "                                                     [key], {});\n",
       "          if (!dataTable) return;\n",
       "\n",
       "          const docLinkHtml = 'Like what you see? Visit the ' +\n",
       "            '<a target=\"_blank\" href=https://colab.research.google.com/notebooks/data_table.ipynb>data table notebook</a>'\n",
       "            + ' to learn more about interactive tables.';\n",
       "          element.innerHTML = '';\n",
       "          dataTable['output_type'] = 'display_data';\n",
       "          await google.colab.output.renderOutput(dataTable, element);\n",
       "          const docLink = document.createElement('div');\n",
       "          docLink.innerHTML = docLinkHtml;\n",
       "          element.appendChild(docLink);\n",
       "        }\n",
       "      </script>\n",
       "    </div>\n",
       "  </div>\n",
       "  "
      ]
     },
     "metadata": {},
     "execution_count": 69
    }
   ],
   "source": [
    "events_by_groups = group_event_A.merge(group_event_B, on='event_name')\n",
    "events_by_groups.set_index('event_name', inplace=True)\n",
    "events_by_groups.columns = ['A', 'percent_A', 'B', 'percent_B']\n",
    "events_by_groups"
   ]
  },
  {
   "cell_type": "markdown",
   "metadata": {
    "id": "YyHC_j2CqbdE"
   },
   "source": [
    "Сравним группы по событиям от общего числа пользователей в каждой группе, используя Z-test для проверки гипотез о равенстве долей:"
   ]
  },
  {
   "cell_type": "code",
   "execution_count": 70,
   "metadata": {
    "colab": {
     "base_uri": "https://localhost:8080/"
    },
    "id": "LJsKQsyIqbdE",
    "outputId": "3b2d0591-6214-48eb-fa69-5a441bc01bc8"
   },
   "outputs": [
    {
     "output_type": "stream",
     "name": "stdout",
     "text": [
      "Событие: login, p-значение:0.08481837035887363\n",
      "Не получилось отвергнуть нулевую гипотезу, нет оснований считать доли разными\n",
      "\n",
      "Событие: product_page, p-значение:6.942739359416805e-06\n",
      "Отвергаем нулевую гипотезу: между долями есть значимая разница\n",
      "\n",
      "Событие: product_cart, p-значение:0.21469192029582396\n",
      "Не получилось отвергнуть нулевую гипотезу, нет оснований считать доли разными\n",
      "\n",
      "Событие: purchase, p-значение:0.04652482738393027\n",
      "Не получилось отвергнуть нулевую гипотезу, нет оснований считать доли разными\n",
      "\n"
     ]
    }
   ],
   "source": [
    "events = ['login', 'product_page', 'product_cart', 'purchase']\n",
    "for event in events:\n",
    "        \n",
    "    # массивы с данными о количестве пользователей в группах и их общим количеством:\n",
    "    successes = np.array([events_by_groups.loc[event, 'A'],\n",
    "                   events_by_groups.loc[event, 'B']])\n",
    "    trials = np.array([total_in_groups.loc['A', 'nunique'],\n",
    "                      total_in_groups.loc['B', 'nunique']])\n",
    "        \n",
    "    # пропорция успехов в первой группе и во второй группе:\n",
    "    p1 = successes[0]/trials[0]\n",
    "    p2 = successes[1]/trials[1] \n",
    "        \n",
    "    #пропорция успехов в комбинированном датасете:\n",
    "    p_combined = (successes[0] + successes[1]) / (trials[0] + trials[1])\n",
    "    # разница пропорций в датасетах\n",
    "    difference = p1 - p2\n",
    "        \n",
    "    # считаем статистику в ст.отклонениях стандартного нормального распределения\n",
    "    z_value = difference / mth.sqrt(\n",
    "    p_combined * (1 - p_combined) * (1/trials[0] + 1/trials[1]))\n",
    "        \n",
    "    # задаем стандартное нормальное распределение (среднее 0, ст.отклонение 1)\n",
    "    distr = st.norm(0, 1)\n",
    "    # критический уровень статистической значимости 0,05\n",
    "    alpha = .05\n",
    "    # считаем p_value\n",
    "    p_value = (1 - distr.cdf(abs(z_value))) * 2\n",
    "    bonferroni_alpha = alpha / 3\n",
    "        \n",
    "    # проверяем гипотезу:\n",
    "    print('Событие: ', event, ', p-значение:', p_value, sep='') \n",
    "    if p_value < bonferroni_alpha:\n",
    "        print('Отвергаем нулевую гипотезу: между долями есть значимая разница')\n",
    "    else:\n",
    "        print(\n",
    "        'Не получилось отвергнуть нулевую гипотезу, нет оснований считать доли разными')\n",
    "    print()"
   ]
  },
  {
   "cell_type": "markdown",
   "metadata": {
    "id": "1m6JM7WoqbdF"
   },
   "source": [
    "<div style=\"border: solid green 2px; padding: 20px\">\n",
    "\n",
    "**Вывод**\n",
    "  .\n",
    "* Для событий login, product_cart и purchase значение p-value больше 0.05, поэтому нулевую гипотезу не отвергаем.\n",
    "* Между долями события product_page есть статистически значимая разница, поэтому нулевую гипотезу принять нельзя.</div>"
   ]
  },
  {
   "cell_type": "markdown",
   "metadata": {
    "id": "XTQNx6_TqbdF"
   },
   "source": [
    "<a name=\"6\"><h2>6 Общие выводы</h2></a>"
   ]
  },
  {
   "cell_type": "markdown",
   "metadata": {
    "id": "_8e81nVCqbdF"
   },
   "source": [
    "В результате работы изучили предоставленные данные и проанализировали результаты A/B теста.\n",
    "\n",
    "На этапе проверки были выявлены несоответствия требований технического задания с полученными данными, а именно: некорректное распределение пользователей, в котором в тестовой группе оказалось на 14% меньше участников, отсутствие записей с действиями пользователей после 30 декабря по 4 января 2021, а также проведение маркетингового мероприятия. При этом было обнаружено большое число пользователей (2604), которые не совершали никаких действий, кроме регистрации.\n",
    "\n",
    "После того как в работе были оставлены только те события, срок которых  не превышал 14 дней с момента регистрации, количество участников стало 3841 и выборки оказались еще более неравномерные. Так в группе A стало 74.81%, а в группе B 25,19% пользователей. Аудитория из региона EU уменьшилась примерно на 7% и осталось 8,22% вместо 15%.\n",
    "\n",
    "Данные A/B теста показали следующие результаты:\n",
    "\n",
    "* По распределению событий в выборках по пользователям участники A теста чаще совершают события. За тестовый период половина пользователей совершила от 4 до 9 действий, медиана в группе равна 6, среднее значение 6,9. В группе B у половины пользователей от 3 до 8 действий, медиана равна 4 и среднее значение 5,53;\n",
    "\n",
    "* По распределению количества событий по дням группа A тоже заметно более активная. С 7 по 13 января разница была небольшая, но после 14 числа пользователи из группы A стали проводить значительно больше действий, так, например, 14 числа в 6:00 в группе A было совершено 173 события, а в группе B 53. Максимальный всплекс зафиксирован 21 декабря (327 против 78), затем показатели стали постепенно снижаться, но все равно оставались выше группы B;\n",
    "\n",
    "* По воронке событий группа B также показала более низкие результаты:\n",
    "  * После авторизации (login) в просмотр карточек товаров (product_page) переходят только 56.21% пользователей, тогда как в группе A - 64.71%;\n",
    "  * Из карточек товаров (product_page) в корзину (product_cart) переходят на 3,6% меньше пользователей, для группы B доля 28.39%, для группы A - 31.99%;\n",
    "  * Из корзины (product_cart) к оплате (purchase) переходят еще на 2,21% меньше клиентов, для группы B доля 27.82% и для группы A - 30.03%.\n",
    "\n",
    "В итоге сделан вывод, что ожидаемого эффекта не было достигнуто, по метрикам улучшений нет.\n",
    "\n",
    "Но в связи с тем, что данные не соответствовали требованиям технического задания, нельзя считать верными результаты теста.\n",
    "\n",
    "Рекомендуется провести тестирование повторно и учесть следующее:\n",
    "* На этапе выбора участников убедиться в равности их соотношений;\n",
    "* Проверить, что пользователи не принимают участие в других тестах; \n",
    "* Проверять корректность сбора данных и сохранения записей;\n",
    "* Во время проведения теста не проводить маркетинговые мероприятия;\n",
    "* Не проводить тест в праздничный период.\n",
    "\n",
    "Также проверили статистическую разницу долей между группами z-критерием, который показал, что есть значимая разница между долями на шаге product_page."
   ]
  }
 ],
 "metadata": {
  "ExecuteTimeLog": [
   {
    "duration": 48,
    "start_time": "2022-06-13T22:49:33.847Z"
   },
   {
    "duration": 6,
    "start_time": "2022-06-13T22:51:06.495Z"
   },
   {
    "duration": 1231,
    "start_time": "2022-06-13T22:51:10.318Z"
   },
   {
    "duration": 1010,
    "start_time": "2022-06-13T22:51:13.228Z"
   },
   {
    "duration": 11,
    "start_time": "2022-06-13T22:55:09.967Z"
   },
   {
    "duration": 10,
    "start_time": "2022-06-13T22:55:10.599Z"
   },
   {
    "duration": 9,
    "start_time": "2022-06-13T22:55:12.077Z"
   },
   {
    "duration": 17,
    "start_time": "2022-06-13T22:55:12.715Z"
   },
   {
    "duration": 8,
    "start_time": "2022-06-13T22:55:14.199Z"
   },
   {
    "duration": 61,
    "start_time": "2022-06-13T22:55:15.027Z"
   },
   {
    "duration": 7,
    "start_time": "2022-06-13T22:55:16.655Z"
   },
   {
    "duration": 10,
    "start_time": "2022-06-13T22:55:19.788Z"
   },
   {
    "duration": 9,
    "start_time": "2022-06-13T22:55:35.580Z"
   },
   {
    "duration": 5,
    "start_time": "2022-06-13T22:57:39.607Z"
   },
   {
    "duration": 95,
    "start_time": "2022-06-13T23:14:39.993Z"
   },
   {
    "duration": 15,
    "start_time": "2022-06-13T23:14:42.000Z"
   },
   {
    "duration": 43,
    "start_time": "2022-06-13T23:14:42.928Z"
   },
   {
    "duration": 10,
    "start_time": "2022-06-13T23:14:43.708Z"
   },
   {
    "duration": 68,
    "start_time": "2022-06-13T23:17:18.201Z"
   },
   {
    "duration": 26,
    "start_time": "2022-06-13T23:18:10.869Z"
   },
   {
    "duration": 13,
    "start_time": "2022-06-13T23:18:16.535Z"
   },
   {
    "duration": 25,
    "start_time": "2022-06-13T23:20:33.930Z"
   },
   {
    "duration": 12,
    "start_time": "2022-06-13T23:20:34.362Z"
   },
   {
    "duration": 4,
    "start_time": "2022-06-13T23:20:34.930Z"
   },
   {
    "duration": 11,
    "start_time": "2022-06-13T23:20:35.461Z"
   },
   {
    "duration": 27,
    "start_time": "2022-06-13T23:20:46.869Z"
   },
   {
    "duration": 7,
    "start_time": "2022-06-13T23:20:50.049Z"
   },
   {
    "duration": 9,
    "start_time": "2022-06-13T23:24:04.412Z"
   },
   {
    "duration": 5,
    "start_time": "2022-06-13T23:24:05.870Z"
   },
   {
    "duration": 40,
    "start_time": "2022-06-13T23:32:52.314Z"
   },
   {
    "duration": 11,
    "start_time": "2022-06-13T23:34:44.467Z"
   },
   {
    "duration": 11,
    "start_time": "2022-06-13T23:37:05.287Z"
   },
   {
    "duration": 8,
    "start_time": "2022-06-13T23:43:43.783Z"
   },
   {
    "duration": 6,
    "start_time": "2022-06-13T23:45:46.867Z"
   },
   {
    "duration": 6,
    "start_time": "2022-06-13T23:50:48.789Z"
   },
   {
    "duration": 5,
    "start_time": "2022-06-13T23:53:19.789Z"
   },
   {
    "duration": 6,
    "start_time": "2022-06-13T23:54:13.369Z"
   },
   {
    "duration": 9,
    "start_time": "2022-06-13T23:54:50.717Z"
   },
   {
    "duration": 5,
    "start_time": "2022-06-13T23:59:07.476Z"
   },
   {
    "duration": 6,
    "start_time": "2022-06-13T23:59:13.129Z"
   },
   {
    "duration": 63,
    "start_time": "2022-06-14T00:04:08.612Z"
   },
   {
    "duration": 10,
    "start_time": "2022-06-14T00:06:14.629Z"
   },
   {
    "duration": 8,
    "start_time": "2022-06-14T00:06:33.344Z"
   },
   {
    "duration": 5,
    "start_time": "2022-06-14T00:06:52.580Z"
   },
   {
    "duration": 6,
    "start_time": "2022-06-14T00:07:36.848Z"
   },
   {
    "duration": 10,
    "start_time": "2022-06-14T00:08:07.448Z"
   },
   {
    "duration": 14,
    "start_time": "2022-06-14T00:09:15.356Z"
   },
   {
    "duration": 10,
    "start_time": "2022-06-14T00:09:33.200Z"
   },
   {
    "duration": 3,
    "start_time": "2022-06-14T00:09:52.371Z"
   },
   {
    "duration": 4,
    "start_time": "2022-06-14T00:10:27.753Z"
   },
   {
    "duration": 22,
    "start_time": "2022-06-14T00:10:45.960Z"
   },
   {
    "duration": 4,
    "start_time": "2022-06-14T00:11:06.908Z"
   },
   {
    "duration": 4,
    "start_time": "2022-06-14T00:11:26.839Z"
   },
   {
    "duration": 127,
    "start_time": "2022-06-14T00:12:26.747Z"
   },
   {
    "duration": 16,
    "start_time": "2022-06-14T00:12:45.859Z"
   },
   {
    "duration": 6,
    "start_time": "2022-06-14T00:13:05.400Z"
   },
   {
    "duration": 5,
    "start_time": "2022-06-14T00:13:32.835Z"
   },
   {
    "duration": 18,
    "start_time": "2022-06-14T00:13:59.439Z"
   },
   {
    "duration": 6,
    "start_time": "2022-06-14T00:14:41.759Z"
   },
   {
    "duration": 12,
    "start_time": "2022-06-14T00:14:57.660Z"
   },
   {
    "duration": 11,
    "start_time": "2022-06-14T00:15:04.768Z"
   },
   {
    "duration": 5,
    "start_time": "2022-06-14T00:15:11.799Z"
   },
   {
    "duration": 11,
    "start_time": "2022-06-14T00:15:13.039Z"
   },
   {
    "duration": 7,
    "start_time": "2022-06-14T00:15:40.908Z"
   },
   {
    "duration": 15,
    "start_time": "2022-06-14T00:16:00.439Z"
   },
   {
    "duration": 15,
    "start_time": "2022-06-14T00:16:11.529Z"
   },
   {
    "duration": 5,
    "start_time": "2022-06-14T00:16:33.907Z"
   },
   {
    "duration": 1035,
    "start_time": "2022-06-14T00:17:16.575Z"
   },
   {
    "duration": 553,
    "start_time": "2022-06-14T00:17:17.612Z"
   },
   {
    "duration": 11,
    "start_time": "2022-06-14T00:17:18.167Z"
   },
   {
    "duration": 22,
    "start_time": "2022-06-14T00:17:18.179Z"
   },
   {
    "duration": 17,
    "start_time": "2022-06-14T00:17:18.203Z"
   },
   {
    "duration": 22,
    "start_time": "2022-06-14T00:17:18.222Z"
   },
   {
    "duration": 11,
    "start_time": "2022-06-14T00:17:18.246Z"
   },
   {
    "duration": 62,
    "start_time": "2022-06-14T00:17:18.258Z"
   },
   {
    "duration": 5,
    "start_time": "2022-06-14T00:17:18.327Z"
   },
   {
    "duration": 11,
    "start_time": "2022-06-14T00:17:18.334Z"
   },
   {
    "duration": 18,
    "start_time": "2022-06-14T00:17:18.346Z"
   },
   {
    "duration": 107,
    "start_time": "2022-06-14T00:17:18.366Z"
   },
   {
    "duration": 17,
    "start_time": "2022-06-14T00:17:18.475Z"
   },
   {
    "duration": 62,
    "start_time": "2022-06-14T00:17:18.495Z"
   },
   {
    "duration": 8,
    "start_time": "2022-06-14T00:17:18.559Z"
   },
   {
    "duration": 92,
    "start_time": "2022-06-14T00:17:18.569Z"
   },
   {
    "duration": 24,
    "start_time": "2022-06-14T00:17:18.663Z"
   },
   {
    "duration": 10,
    "start_time": "2022-06-14T00:17:18.689Z"
   },
   {
    "duration": 26,
    "start_time": "2022-06-14T00:17:18.701Z"
   },
   {
    "duration": 9,
    "start_time": "2022-06-14T00:17:18.728Z"
   },
   {
    "duration": 5,
    "start_time": "2022-06-14T00:17:18.738Z"
   },
   {
    "duration": 13,
    "start_time": "2022-06-14T00:17:18.745Z"
   },
   {
    "duration": 6,
    "start_time": "2022-06-14T00:17:18.759Z"
   },
   {
    "duration": 12,
    "start_time": "2022-06-14T00:17:18.767Z"
   },
   {
    "duration": 4,
    "start_time": "2022-06-14T00:17:18.780Z"
   },
   {
    "duration": 42,
    "start_time": "2022-06-14T00:17:18.786Z"
   },
   {
    "duration": 7,
    "start_time": "2022-06-14T00:17:18.830Z"
   },
   {
    "duration": 44,
    "start_time": "2022-06-14T00:17:18.839Z"
   },
   {
    "duration": 31,
    "start_time": "2022-06-14T00:17:18.885Z"
   },
   {
    "duration": 11,
    "start_time": "2022-06-14T00:17:18.918Z"
   },
   {
    "duration": 6,
    "start_time": "2022-06-14T00:17:18.930Z"
   },
   {
    "duration": 12,
    "start_time": "2022-06-14T00:17:18.937Z"
   },
   {
    "duration": 16,
    "start_time": "2022-06-14T00:17:18.951Z"
   },
   {
    "duration": 19,
    "start_time": "2022-06-14T00:17:18.968Z"
   },
   {
    "duration": 8,
    "start_time": "2022-06-14T00:17:18.988Z"
   },
   {
    "duration": 4,
    "start_time": "2022-06-14T00:17:18.997Z"
   },
   {
    "duration": 4,
    "start_time": "2022-06-14T00:17:19.027Z"
   },
   {
    "duration": 25,
    "start_time": "2022-06-14T00:17:19.032Z"
   },
   {
    "duration": 3,
    "start_time": "2022-06-14T00:17:19.059Z"
   },
   {
    "duration": 6,
    "start_time": "2022-06-14T00:17:19.063Z"
   },
   {
    "duration": 157,
    "start_time": "2022-06-14T00:17:19.072Z"
   },
   {
    "duration": 15,
    "start_time": "2022-06-14T00:17:19.231Z"
   },
   {
    "duration": 27,
    "start_time": "2022-06-14T00:17:19.248Z"
   },
   {
    "duration": 20,
    "start_time": "2022-06-14T00:17:19.277Z"
   },
   {
    "duration": 46,
    "start_time": "2022-06-14T00:17:19.298Z"
   },
   {
    "duration": 26,
    "start_time": "2022-06-14T00:17:19.346Z"
   },
   {
    "duration": 26,
    "start_time": "2022-06-14T00:17:19.373Z"
   },
   {
    "duration": 32,
    "start_time": "2022-06-14T00:17:19.401Z"
   },
   {
    "duration": 21,
    "start_time": "2022-06-14T00:17:19.435Z"
   },
   {
    "duration": 19,
    "start_time": "2022-06-14T00:17:19.458Z"
   },
   {
    "duration": 5,
    "start_time": "2022-06-14T00:20:43.084Z"
   },
   {
    "duration": 445,
    "start_time": "2022-06-14T00:24:41.761Z"
   },
   {
    "duration": 291,
    "start_time": "2022-06-14T00:25:01.651Z"
   },
   {
    "duration": 353,
    "start_time": "2022-06-14T00:25:38.624Z"
   },
   {
    "duration": 24,
    "start_time": "2022-06-14T00:27:58.195Z"
   },
   {
    "duration": 3,
    "start_time": "2022-06-14T00:28:34.863Z"
   },
   {
    "duration": 4,
    "start_time": "2022-06-14T00:28:45.293Z"
   },
   {
    "duration": 22,
    "start_time": "2022-06-14T00:29:02.582Z"
   },
   {
    "duration": 17,
    "start_time": "2022-06-14T00:29:22.420Z"
   },
   {
    "duration": 5,
    "start_time": "2022-06-14T00:31:46.553Z"
   },
   {
    "duration": 218,
    "start_time": "2022-06-14T00:32:06.630Z"
   },
   {
    "duration": 12,
    "start_time": "2022-06-14T00:35:51.970Z"
   },
   {
    "duration": 12,
    "start_time": "2022-06-14T00:36:00.969Z"
   },
   {
    "duration": 11,
    "start_time": "2022-06-14T00:36:08.198Z"
   },
   {
    "duration": 12,
    "start_time": "2022-06-14T00:36:31.929Z"
   },
   {
    "duration": 10,
    "start_time": "2022-06-14T00:36:40.433Z"
   },
   {
    "duration": 1116,
    "start_time": "2022-06-14T01:17:07.325Z"
   },
   {
    "duration": 557,
    "start_time": "2022-06-14T01:17:08.443Z"
   },
   {
    "duration": 12,
    "start_time": "2022-06-14T01:17:09.002Z"
   },
   {
    "duration": 11,
    "start_time": "2022-06-14T01:17:09.015Z"
   },
   {
    "duration": 11,
    "start_time": "2022-06-14T01:17:09.028Z"
   },
   {
    "duration": 18,
    "start_time": "2022-06-14T01:17:09.040Z"
   },
   {
    "duration": 8,
    "start_time": "2022-06-14T01:17:09.059Z"
   },
   {
    "duration": 68,
    "start_time": "2022-06-14T01:17:09.068Z"
   },
   {
    "duration": 5,
    "start_time": "2022-06-14T01:17:09.138Z"
   },
   {
    "duration": 8,
    "start_time": "2022-06-14T01:17:09.144Z"
   },
   {
    "duration": 17,
    "start_time": "2022-06-14T01:17:09.153Z"
   },
   {
    "duration": 111,
    "start_time": "2022-06-14T01:17:09.171Z"
   },
   {
    "duration": 16,
    "start_time": "2022-06-14T01:17:09.283Z"
   },
   {
    "duration": 53,
    "start_time": "2022-06-14T01:17:09.301Z"
   },
   {
    "duration": 9,
    "start_time": "2022-06-14T01:17:09.356Z"
   },
   {
    "duration": 85,
    "start_time": "2022-06-14T01:17:09.366Z"
   },
   {
    "duration": 26,
    "start_time": "2022-06-14T01:17:09.452Z"
   },
   {
    "duration": 10,
    "start_time": "2022-06-14T01:17:09.480Z"
   },
   {
    "duration": 8,
    "start_time": "2022-06-14T01:17:09.492Z"
   },
   {
    "duration": 26,
    "start_time": "2022-06-14T01:17:09.501Z"
   },
   {
    "duration": 4,
    "start_time": "2022-06-14T01:17:09.529Z"
   },
   {
    "duration": 15,
    "start_time": "2022-06-14T01:17:09.534Z"
   },
   {
    "duration": 5,
    "start_time": "2022-06-14T01:17:09.551Z"
   },
   {
    "duration": 13,
    "start_time": "2022-06-14T01:17:09.557Z"
   },
   {
    "duration": 5,
    "start_time": "2022-06-14T01:17:09.571Z"
   },
   {
    "duration": 10,
    "start_time": "2022-06-14T01:17:09.577Z"
   },
   {
    "duration": 7,
    "start_time": "2022-06-14T01:17:09.588Z"
   },
   {
    "duration": 65,
    "start_time": "2022-06-14T01:17:09.596Z"
   },
   {
    "duration": 4,
    "start_time": "2022-06-14T01:17:09.662Z"
   },
   {
    "duration": 10,
    "start_time": "2022-06-14T01:17:09.668Z"
   },
   {
    "duration": 5,
    "start_time": "2022-06-14T01:17:09.679Z"
   },
   {
    "duration": 17,
    "start_time": "2022-06-14T01:17:09.686Z"
   },
   {
    "duration": 28,
    "start_time": "2022-06-14T01:17:09.705Z"
   },
   {
    "duration": 17,
    "start_time": "2022-06-14T01:17:09.735Z"
   },
   {
    "duration": 9,
    "start_time": "2022-06-14T01:17:09.753Z"
   },
   {
    "duration": 4,
    "start_time": "2022-06-14T01:17:09.763Z"
   },
   {
    "duration": 5,
    "start_time": "2022-06-14T01:17:09.769Z"
   },
   {
    "duration": 22,
    "start_time": "2022-06-14T01:17:09.775Z"
   },
   {
    "duration": 29,
    "start_time": "2022-06-14T01:17:09.799Z"
   },
   {
    "duration": 9,
    "start_time": "2022-06-14T01:17:09.830Z"
   },
   {
    "duration": 146,
    "start_time": "2022-06-14T01:17:09.842Z"
   },
   {
    "duration": 15,
    "start_time": "2022-06-14T01:17:09.989Z"
   },
   {
    "duration": 11,
    "start_time": "2022-06-14T01:17:10.006Z"
   },
   {
    "duration": 9,
    "start_time": "2022-06-14T01:17:10.028Z"
   },
   {
    "duration": 23,
    "start_time": "2022-06-14T01:17:10.038Z"
   },
   {
    "duration": 5,
    "start_time": "2022-06-14T01:17:10.063Z"
   },
   {
    "duration": 13,
    "start_time": "2022-06-14T01:17:10.069Z"
   },
   {
    "duration": 9,
    "start_time": "2022-06-14T01:17:10.083Z"
   },
   {
    "duration": 13,
    "start_time": "2022-06-14T01:17:10.093Z"
   },
   {
    "duration": 24,
    "start_time": "2022-06-14T01:17:10.107Z"
   },
   {
    "duration": 6,
    "start_time": "2022-06-14T01:17:10.132Z"
   },
   {
    "duration": 449,
    "start_time": "2022-06-14T01:17:10.139Z"
   },
   {
    "duration": 4,
    "start_time": "2022-06-14T01:17:10.590Z"
   },
   {
    "duration": 32,
    "start_time": "2022-06-14T01:17:10.596Z"
   },
   {
    "duration": 15,
    "start_time": "2022-06-14T01:17:10.629Z"
   },
   {
    "duration": 4,
    "start_time": "2022-06-14T01:17:10.645Z"
   },
   {
    "duration": 141,
    "start_time": "2022-06-14T01:17:10.650Z"
   },
   {
    "duration": 11,
    "start_time": "2022-06-14T01:17:22.864Z"
   },
   {
    "duration": 12,
    "start_time": "2022-06-14T01:17:32.318Z"
   },
   {
    "duration": 10,
    "start_time": "2022-06-14T01:17:38.510Z"
   },
   {
    "duration": 11,
    "start_time": "2022-06-14T01:17:46.898Z"
   },
   {
    "duration": 10,
    "start_time": "2022-06-14T01:17:58.678Z"
   },
   {
    "duration": 11,
    "start_time": "2022-06-14T01:18:56.458Z"
   },
   {
    "duration": 10,
    "start_time": "2022-06-14T01:19:08.578Z"
   },
   {
    "duration": 10,
    "start_time": "2022-06-14T01:19:26.870Z"
   },
   {
    "duration": 14,
    "start_time": "2022-06-14T01:22:44.090Z"
   },
   {
    "duration": 106,
    "start_time": "2022-06-14T01:24:40.097Z"
   },
   {
    "duration": 19,
    "start_time": "2022-06-14T01:25:02.618Z"
   },
   {
    "duration": 8,
    "start_time": "2022-06-14T01:37:59.250Z"
   },
   {
    "duration": 9,
    "start_time": "2022-06-14T01:38:10.227Z"
   },
   {
    "duration": 17,
    "start_time": "2022-06-14T01:43:27.098Z"
   },
   {
    "duration": 17,
    "start_time": "2022-06-14T01:43:40.176Z"
   },
   {
    "duration": 20,
    "start_time": "2022-06-14T01:43:45.169Z"
   },
   {
    "duration": 17,
    "start_time": "2022-06-14T01:44:15.577Z"
   },
   {
    "duration": 119,
    "start_time": "2022-06-14T01:44:37.192Z"
   },
   {
    "duration": 363,
    "start_time": "2022-06-14T01:54:04.079Z"
   },
   {
    "duration": 13,
    "start_time": "2022-06-14T01:56:24.417Z"
   },
   {
    "duration": 25,
    "start_time": "2022-06-14T01:56:36.130Z"
   },
   {
    "duration": 26,
    "start_time": "2022-06-14T01:56:57.630Z"
   },
   {
    "duration": 14,
    "start_time": "2022-06-14T01:58:57.817Z"
   },
   {
    "duration": 470,
    "start_time": "2022-06-14T01:59:05.646Z"
   },
   {
    "duration": 146,
    "start_time": "2022-06-14T01:59:20.448Z"
   },
   {
    "duration": 163,
    "start_time": "2022-06-14T01:59:37.505Z"
   },
   {
    "duration": 45,
    "start_time": "2022-06-14T02:07:37.690Z"
   },
   {
    "duration": 1059,
    "start_time": "2022-06-14T02:07:44.678Z"
   },
   {
    "duration": 1031,
    "start_time": "2022-06-14T02:07:58.182Z"
   },
   {
    "duration": 903,
    "start_time": "2022-06-14T02:07:59.214Z"
   },
   {
    "duration": 11,
    "start_time": "2022-06-14T02:08:00.119Z"
   },
   {
    "duration": 14,
    "start_time": "2022-06-14T02:08:00.131Z"
   },
   {
    "duration": 28,
    "start_time": "2022-06-14T02:08:00.148Z"
   },
   {
    "duration": 24,
    "start_time": "2022-06-14T02:08:00.177Z"
   },
   {
    "duration": 15,
    "start_time": "2022-06-14T02:08:00.202Z"
   },
   {
    "duration": 77,
    "start_time": "2022-06-14T02:08:00.218Z"
   },
   {
    "duration": 5,
    "start_time": "2022-06-14T02:08:00.297Z"
   },
   {
    "duration": 20,
    "start_time": "2022-06-14T02:08:00.304Z"
   },
   {
    "duration": 21,
    "start_time": "2022-06-14T02:08:00.326Z"
   },
   {
    "duration": 143,
    "start_time": "2022-06-14T02:08:00.349Z"
   },
   {
    "duration": 19,
    "start_time": "2022-06-14T02:08:00.494Z"
   },
   {
    "duration": 78,
    "start_time": "2022-06-14T02:08:00.516Z"
   },
   {
    "duration": 15,
    "start_time": "2022-06-14T02:08:00.596Z"
   },
   {
    "duration": 102,
    "start_time": "2022-06-14T02:08:00.612Z"
   },
   {
    "duration": 25,
    "start_time": "2022-06-14T02:08:00.715Z"
   },
   {
    "duration": 29,
    "start_time": "2022-06-14T02:08:00.742Z"
   },
   {
    "duration": 70,
    "start_time": "2022-06-14T02:08:00.773Z"
   },
   {
    "duration": 100,
    "start_time": "2022-06-14T02:08:00.845Z"
   },
   {
    "duration": 42,
    "start_time": "2022-06-14T02:08:00.946Z"
   },
   {
    "duration": 51,
    "start_time": "2022-06-14T02:08:00.990Z"
   },
   {
    "duration": 50,
    "start_time": "2022-06-14T02:08:01.043Z"
   },
   {
    "duration": 59,
    "start_time": "2022-06-14T02:08:01.095Z"
   },
   {
    "duration": 13,
    "start_time": "2022-06-14T02:08:01.155Z"
   },
   {
    "duration": 28,
    "start_time": "2022-06-14T02:08:01.169Z"
   },
   {
    "duration": 22,
    "start_time": "2022-06-14T02:08:01.199Z"
   },
   {
    "duration": 60,
    "start_time": "2022-06-14T02:08:01.222Z"
   },
   {
    "duration": 5,
    "start_time": "2022-06-14T02:08:01.283Z"
   },
   {
    "duration": 32,
    "start_time": "2022-06-14T02:08:01.290Z"
   },
   {
    "duration": 93,
    "start_time": "2022-06-14T02:08:01.324Z"
   },
   {
    "duration": 47,
    "start_time": "2022-06-14T02:08:01.419Z"
   },
   {
    "duration": 43,
    "start_time": "2022-06-14T02:08:01.468Z"
   },
   {
    "duration": 42,
    "start_time": "2022-06-14T02:08:01.513Z"
   },
   {
    "duration": 24,
    "start_time": "2022-06-14T02:08:01.556Z"
   },
   {
    "duration": 31,
    "start_time": "2022-06-14T02:08:01.582Z"
   },
   {
    "duration": 36,
    "start_time": "2022-06-14T02:08:01.615Z"
   },
   {
    "duration": 51,
    "start_time": "2022-06-14T02:08:01.653Z"
   },
   {
    "duration": 4,
    "start_time": "2022-06-14T02:08:01.705Z"
   },
   {
    "duration": 23,
    "start_time": "2022-06-14T02:08:01.710Z"
   },
   {
    "duration": 181,
    "start_time": "2022-06-14T02:08:01.736Z"
   },
   {
    "duration": 21,
    "start_time": "2022-06-14T02:08:01.919Z"
   },
   {
    "duration": 28,
    "start_time": "2022-06-14T02:08:01.942Z"
   },
   {
    "duration": 26,
    "start_time": "2022-06-14T02:08:01.972Z"
   },
   {
    "duration": 32,
    "start_time": "2022-06-14T02:08:01.999Z"
   },
   {
    "duration": 9,
    "start_time": "2022-06-14T02:08:02.033Z"
   },
   {
    "duration": 22,
    "start_time": "2022-06-14T02:08:02.043Z"
   },
   {
    "duration": 15,
    "start_time": "2022-06-14T02:08:02.066Z"
   },
   {
    "duration": 23,
    "start_time": "2022-06-14T02:08:02.082Z"
   },
   {
    "duration": 12,
    "start_time": "2022-06-14T02:08:02.107Z"
   },
   {
    "duration": 7,
    "start_time": "2022-06-14T02:08:02.121Z"
   },
   {
    "duration": 27,
    "start_time": "2022-06-14T02:08:02.129Z"
   },
   {
    "duration": 8,
    "start_time": "2022-06-14T02:08:02.157Z"
   },
   {
    "duration": 392,
    "start_time": "2022-06-14T02:08:02.166Z"
   },
   {
    "duration": 131,
    "start_time": "2022-06-14T02:08:02.560Z"
   },
   {
    "duration": 19,
    "start_time": "2022-06-14T02:08:02.693Z"
   },
   {
    "duration": 44,
    "start_time": "2022-06-14T02:13:01.407Z"
   },
   {
    "duration": 6,
    "start_time": "2022-06-14T02:13:03.765Z"
   },
   {
    "duration": 1117,
    "start_time": "2022-06-14T02:13:10.011Z"
   },
   {
    "duration": 892,
    "start_time": "2022-06-14T02:13:11.129Z"
   },
   {
    "duration": 11,
    "start_time": "2022-06-14T02:13:12.022Z"
   },
   {
    "duration": 11,
    "start_time": "2022-06-14T02:13:12.034Z"
   },
   {
    "duration": 10,
    "start_time": "2022-06-14T02:13:12.047Z"
   },
   {
    "duration": 18,
    "start_time": "2022-06-14T02:13:12.058Z"
   },
   {
    "duration": 7,
    "start_time": "2022-06-14T02:13:12.077Z"
   },
   {
    "duration": 77,
    "start_time": "2022-06-14T02:13:12.086Z"
   },
   {
    "duration": 5,
    "start_time": "2022-06-14T02:13:12.164Z"
   },
   {
    "duration": 9,
    "start_time": "2022-06-14T02:13:12.170Z"
   },
   {
    "duration": 14,
    "start_time": "2022-06-14T02:13:12.180Z"
   },
   {
    "duration": 106,
    "start_time": "2022-06-14T02:13:12.196Z"
   },
   {
    "duration": 23,
    "start_time": "2022-06-14T02:13:12.304Z"
   },
   {
    "duration": 42,
    "start_time": "2022-06-14T02:13:12.330Z"
   },
   {
    "duration": 9,
    "start_time": "2022-06-14T02:13:12.374Z"
   },
   {
    "duration": 94,
    "start_time": "2022-06-14T02:13:12.384Z"
   },
   {
    "duration": 25,
    "start_time": "2022-06-14T02:13:12.479Z"
   },
   {
    "duration": 22,
    "start_time": "2022-06-14T02:13:12.506Z"
   },
   {
    "duration": 8,
    "start_time": "2022-06-14T02:13:12.530Z"
   },
   {
    "duration": 12,
    "start_time": "2022-06-14T02:13:12.539Z"
   },
   {
    "duration": 5,
    "start_time": "2022-06-14T02:13:12.553Z"
   },
   {
    "duration": 13,
    "start_time": "2022-06-14T02:13:12.559Z"
   },
   {
    "duration": 6,
    "start_time": "2022-06-14T02:13:12.573Z"
   },
   {
    "duration": 13,
    "start_time": "2022-06-14T02:13:12.580Z"
   },
   {
    "duration": 4,
    "start_time": "2022-06-14T02:13:12.594Z"
   },
   {
    "duration": 11,
    "start_time": "2022-06-14T02:13:12.627Z"
   },
   {
    "duration": 9,
    "start_time": "2022-06-14T02:13:12.640Z"
   },
   {
    "duration": 48,
    "start_time": "2022-06-14T02:13:12.650Z"
   },
   {
    "duration": 5,
    "start_time": "2022-06-14T02:13:12.699Z"
   },
   {
    "duration": 27,
    "start_time": "2022-06-14T02:13:12.705Z"
   },
   {
    "duration": 5,
    "start_time": "2022-06-14T02:13:12.733Z"
   },
   {
    "duration": 7,
    "start_time": "2022-06-14T02:13:12.739Z"
   },
   {
    "duration": 10,
    "start_time": "2022-06-14T02:13:12.747Z"
   },
   {
    "duration": 18,
    "start_time": "2022-06-14T02:13:12.759Z"
   },
   {
    "duration": 8,
    "start_time": "2022-06-14T02:13:12.778Z"
   },
   {
    "duration": 4,
    "start_time": "2022-06-14T02:13:12.787Z"
   },
   {
    "duration": 35,
    "start_time": "2022-06-14T02:13:12.793Z"
   },
   {
    "duration": 21,
    "start_time": "2022-06-14T02:13:12.829Z"
   },
   {
    "duration": 3,
    "start_time": "2022-06-14T02:13:12.852Z"
   },
   {
    "duration": 6,
    "start_time": "2022-06-14T02:13:12.856Z"
   },
   {
    "duration": 145,
    "start_time": "2022-06-14T02:13:12.865Z"
   },
   {
    "duration": 25,
    "start_time": "2022-06-14T02:13:13.011Z"
   },
   {
    "duration": 5,
    "start_time": "2022-06-14T02:13:13.037Z"
   },
   {
    "duration": 6,
    "start_time": "2022-06-14T02:13:13.044Z"
   },
   {
    "duration": 25,
    "start_time": "2022-06-14T02:13:13.051Z"
   },
   {
    "duration": 4,
    "start_time": "2022-06-14T02:13:13.078Z"
   },
   {
    "duration": 12,
    "start_time": "2022-06-14T02:13:13.084Z"
   },
   {
    "duration": 13,
    "start_time": "2022-06-14T02:13:13.097Z"
   },
   {
    "duration": 26,
    "start_time": "2022-06-14T02:13:13.111Z"
   },
   {
    "duration": 5,
    "start_time": "2022-06-14T02:13:13.139Z"
   },
   {
    "duration": 5,
    "start_time": "2022-06-14T02:13:13.146Z"
   },
   {
    "duration": 18,
    "start_time": "2022-06-14T02:13:13.152Z"
   },
   {
    "duration": 6,
    "start_time": "2022-06-14T02:13:13.171Z"
   },
   {
    "duration": 421,
    "start_time": "2022-06-14T02:13:13.179Z"
   },
   {
    "duration": 130,
    "start_time": "2022-06-14T02:13:13.602Z"
   },
   {
    "duration": 99,
    "start_time": "2022-06-14T02:13:13.733Z"
   },
   {
    "duration": 0,
    "start_time": "2022-06-14T02:13:13.834Z"
   },
   {
    "duration": 0,
    "start_time": "2022-06-14T02:13:13.835Z"
   },
   {
    "duration": 0,
    "start_time": "2022-06-14T02:13:13.836Z"
   },
   {
    "duration": 0,
    "start_time": "2022-06-14T02:13:13.838Z"
   },
   {
    "duration": 0,
    "start_time": "2022-06-14T02:13:13.839Z"
   },
   {
    "duration": 0,
    "start_time": "2022-06-14T02:13:13.840Z"
   },
   {
    "duration": 0,
    "start_time": "2022-06-14T02:13:13.842Z"
   },
   {
    "duration": 8,
    "start_time": "2022-06-14T02:14:16.025Z"
   },
   {
    "duration": 467,
    "start_time": "2022-06-14T02:14:40.424Z"
   },
   {
    "duration": 61,
    "start_time": "2022-06-14T02:15:42.265Z"
   },
   {
    "duration": 25,
    "start_time": "2022-06-14T02:19:06.240Z"
   },
   {
    "duration": 56,
    "start_time": "2022-06-14T02:19:13.580Z"
   },
   {
    "duration": 65,
    "start_time": "2022-06-14T02:19:46.005Z"
   },
   {
    "duration": 58,
    "start_time": "2022-06-14T02:20:03.377Z"
   },
   {
    "duration": 19,
    "start_time": "2022-06-14T02:28:10.905Z"
   },
   {
    "duration": 61,
    "start_time": "2022-06-14T02:28:24.357Z"
   },
   {
    "duration": 58,
    "start_time": "2022-06-14T02:28:40.496Z"
   },
   {
    "duration": 10,
    "start_time": "2022-06-14T02:31:20.551Z"
   },
   {
    "duration": 18,
    "start_time": "2022-06-14T02:31:32.297Z"
   },
   {
    "duration": 12,
    "start_time": "2022-06-14T02:31:34.125Z"
   },
   {
    "duration": 12,
    "start_time": "2022-06-14T02:31:36.317Z"
   },
   {
    "duration": 9,
    "start_time": "2022-06-14T02:31:46.117Z"
   },
   {
    "duration": 10,
    "start_time": "2022-06-14T02:33:47.805Z"
   },
   {
    "duration": 9,
    "start_time": "2022-06-14T02:34:12.208Z"
   },
   {
    "duration": 12,
    "start_time": "2022-06-14T02:36:06.363Z"
   },
   {
    "duration": 21,
    "start_time": "2022-06-14T02:38:23.738Z"
   },
   {
    "duration": 19,
    "start_time": "2022-06-14T02:38:38.443Z"
   },
   {
    "duration": 22,
    "start_time": "2022-06-14T02:39:09.721Z"
   },
   {
    "duration": 25,
    "start_time": "2022-06-14T02:39:11.586Z"
   },
   {
    "duration": 357,
    "start_time": "2022-06-14T02:41:14.266Z"
   },
   {
    "duration": 547,
    "start_time": "2022-06-14T02:41:41.020Z"
   },
   {
    "duration": 4,
    "start_time": "2022-06-14T02:43:00.751Z"
   },
   {
    "duration": 13,
    "start_time": "2022-06-14T02:43:23.907Z"
   },
   {
    "duration": 44,
    "start_time": "2022-06-14T02:43:29.154Z"
   },
   {
    "duration": 22,
    "start_time": "2022-06-14T02:45:28.147Z"
   },
   {
    "duration": 55,
    "start_time": "2022-06-14T02:45:28.919Z"
   },
   {
    "duration": 48,
    "start_time": "2022-06-14T02:46:08.318Z"
   },
   {
    "duration": 3,
    "start_time": "2022-06-14T02:48:32.292Z"
   },
   {
    "duration": 23,
    "start_time": "2022-06-14T02:48:33.179Z"
   },
   {
    "duration": 18,
    "start_time": "2022-06-14T02:48:34.051Z"
   },
   {
    "duration": 4,
    "start_time": "2022-06-14T02:48:35.659Z"
   },
   {
    "duration": 16,
    "start_time": "2022-06-14T02:48:36.735Z"
   },
   {
    "duration": 75,
    "start_time": "2022-06-14T02:50:00.221Z"
   },
   {
    "duration": 15,
    "start_time": "2022-06-14T02:50:18.140Z"
   },
   {
    "duration": 23,
    "start_time": "2022-06-14T02:51:40.998Z"
   },
   {
    "duration": 46,
    "start_time": "2022-06-14T02:57:48.276Z"
   },
   {
    "duration": 16,
    "start_time": "2022-06-14T02:58:56.019Z"
   },
   {
    "duration": 25,
    "start_time": "2022-06-14T02:59:36.207Z"
   },
   {
    "duration": 13,
    "start_time": "2022-06-14T03:03:54.469Z"
   },
   {
    "duration": 45,
    "start_time": "2022-06-14T03:04:31.724Z"
   },
   {
    "duration": 15,
    "start_time": "2022-06-14T03:07:50.060Z"
   },
   {
    "duration": 13,
    "start_time": "2022-06-14T03:08:34.130Z"
   },
   {
    "duration": 20,
    "start_time": "2022-06-14T03:09:01.067Z"
   },
   {
    "duration": 33,
    "start_time": "2022-06-14T03:09:32.579Z"
   },
   {
    "duration": 17,
    "start_time": "2022-06-14T03:09:39.625Z"
   },
   {
    "duration": 22,
    "start_time": "2022-06-14T03:11:41.980Z"
   },
   {
    "duration": 14,
    "start_time": "2022-06-14T03:12:02.723Z"
   },
   {
    "duration": 19,
    "start_time": "2022-06-14T03:12:13.340Z"
   },
   {
    "duration": 18,
    "start_time": "2022-06-14T03:17:03.483Z"
   },
   {
    "duration": 281,
    "start_time": "2022-06-14T03:17:08.342Z"
   },
   {
    "duration": 12,
    "start_time": "2022-06-14T03:21:23.763Z"
   },
   {
    "duration": 21,
    "start_time": "2022-06-14T03:21:27.991Z"
   },
   {
    "duration": 18,
    "start_time": "2022-06-14T03:21:36.130Z"
   },
   {
    "duration": 282,
    "start_time": "2022-06-14T03:21:39.103Z"
   },
   {
    "duration": 318,
    "start_time": "2022-06-14T03:23:06.323Z"
   },
   {
    "duration": 317,
    "start_time": "2022-06-14T03:23:13.208Z"
   },
   {
    "duration": 295,
    "start_time": "2022-06-14T03:23:21.391Z"
   },
   {
    "duration": 287,
    "start_time": "2022-06-14T03:27:02.052Z"
   },
   {
    "duration": 333,
    "start_time": "2022-06-14T03:27:33.886Z"
   },
   {
    "duration": 282,
    "start_time": "2022-06-14T03:28:00.951Z"
   },
   {
    "duration": 22,
    "start_time": "2022-06-14T03:36:30.158Z"
   },
   {
    "duration": 17,
    "start_time": "2022-06-14T03:36:53.145Z"
   },
   {
    "duration": 14,
    "start_time": "2022-06-14T03:39:11.410Z"
   },
   {
    "duration": 16,
    "start_time": "2022-06-14T03:39:27.930Z"
   },
   {
    "duration": 20,
    "start_time": "2022-06-14T03:39:42.549Z"
   },
   {
    "duration": 17,
    "start_time": "2022-06-14T03:39:49.022Z"
   },
   {
    "duration": 4,
    "start_time": "2022-06-14T03:41:02.489Z"
   },
   {
    "duration": 19,
    "start_time": "2022-06-14T03:41:34.091Z"
   },
   {
    "duration": 7,
    "start_time": "2022-06-14T03:41:44.058Z"
   },
   {
    "duration": 9,
    "start_time": "2022-06-14T03:41:58.146Z"
   },
   {
    "duration": 16612,
    "start_time": "2022-06-14T03:43:50.610Z"
   },
   {
    "duration": 38,
    "start_time": "2022-06-14T03:44:09.130Z"
   },
   {
    "duration": 14,
    "start_time": "2022-06-14T03:44:33.150Z"
   },
   {
    "duration": 21,
    "start_time": "2022-06-14T03:45:28.500Z"
   },
   {
    "duration": 22,
    "start_time": "2022-06-14T03:45:49.784Z"
   },
   {
    "duration": 14,
    "start_time": "2022-06-14T03:45:56.018Z"
   },
   {
    "duration": 23,
    "start_time": "2022-06-14T03:46:20.699Z"
   },
   {
    "duration": 21,
    "start_time": "2022-06-14T03:46:42.329Z"
   },
   {
    "duration": 16,
    "start_time": "2022-06-14T03:47:48.244Z"
   },
   {
    "duration": 14,
    "start_time": "2022-06-14T03:48:24.957Z"
   },
   {
    "duration": 11,
    "start_time": "2022-06-14T03:48:38.489Z"
   },
   {
    "duration": 18,
    "start_time": "2022-06-14T03:49:31.789Z"
   },
   {
    "duration": 20,
    "start_time": "2022-06-14T03:50:27.348Z"
   },
   {
    "duration": 21,
    "start_time": "2022-06-14T03:52:09.857Z"
   },
   {
    "duration": 13,
    "start_time": "2022-06-14T03:52:20.276Z"
   },
   {
    "duration": 10,
    "start_time": "2022-06-14T03:52:59.628Z"
   },
   {
    "duration": 9,
    "start_time": "2022-06-14T03:53:25.148Z"
   },
   {
    "duration": 9,
    "start_time": "2022-06-14T03:53:36.816Z"
   },
   {
    "duration": 1232,
    "start_time": "2022-06-14T11:15:45.163Z"
   },
   {
    "duration": 1933,
    "start_time": "2022-06-14T11:15:46.397Z"
   },
   {
    "duration": 12,
    "start_time": "2022-06-14T11:15:48.331Z"
   },
   {
    "duration": 14,
    "start_time": "2022-06-14T11:15:48.345Z"
   },
   {
    "duration": 20,
    "start_time": "2022-06-14T11:15:48.361Z"
   },
   {
    "duration": 21,
    "start_time": "2022-06-14T11:15:48.382Z"
   },
   {
    "duration": 7,
    "start_time": "2022-06-14T11:15:48.405Z"
   },
   {
    "duration": 50,
    "start_time": "2022-06-14T11:15:48.414Z"
   },
   {
    "duration": 12,
    "start_time": "2022-06-14T11:15:48.466Z"
   },
   {
    "duration": 7,
    "start_time": "2022-06-14T11:15:48.481Z"
   },
   {
    "duration": 18,
    "start_time": "2022-06-14T11:15:48.489Z"
   },
   {
    "duration": 101,
    "start_time": "2022-06-14T11:15:48.508Z"
   },
   {
    "duration": 14,
    "start_time": "2022-06-14T11:15:48.611Z"
   },
   {
    "duration": 52,
    "start_time": "2022-06-14T11:15:48.626Z"
   },
   {
    "duration": 9,
    "start_time": "2022-06-14T11:15:48.679Z"
   },
   {
    "duration": 69,
    "start_time": "2022-06-14T11:15:48.689Z"
   },
   {
    "duration": 36,
    "start_time": "2022-06-14T11:15:48.760Z"
   },
   {
    "duration": 10,
    "start_time": "2022-06-14T11:15:48.798Z"
   },
   {
    "duration": 6,
    "start_time": "2022-06-14T11:15:48.809Z"
   },
   {
    "duration": 14,
    "start_time": "2022-06-14T11:15:48.817Z"
   },
   {
    "duration": 4,
    "start_time": "2022-06-14T11:15:48.832Z"
   },
   {
    "duration": 14,
    "start_time": "2022-06-14T11:15:48.838Z"
   },
   {
    "duration": 26,
    "start_time": "2022-06-14T11:15:48.853Z"
   },
   {
    "duration": 10,
    "start_time": "2022-06-14T11:15:48.880Z"
   },
   {
    "duration": 4,
    "start_time": "2022-06-14T11:15:48.891Z"
   },
   {
    "duration": 16,
    "start_time": "2022-06-14T11:15:48.897Z"
   },
   {
    "duration": 7,
    "start_time": "2022-06-14T11:15:48.914Z"
   },
   {
    "duration": 54,
    "start_time": "2022-06-14T11:15:48.924Z"
   },
   {
    "duration": 4,
    "start_time": "2022-06-14T11:15:48.979Z"
   },
   {
    "duration": 11,
    "start_time": "2022-06-14T11:15:48.984Z"
   },
   {
    "duration": 4,
    "start_time": "2022-06-14T11:15:48.996Z"
   },
   {
    "duration": 7,
    "start_time": "2022-06-14T11:15:49.001Z"
   },
   {
    "duration": 11,
    "start_time": "2022-06-14T11:15:49.009Z"
   },
   {
    "duration": 14,
    "start_time": "2022-06-14T11:15:49.022Z"
   },
   {
    "duration": 7,
    "start_time": "2022-06-14T11:15:49.037Z"
   },
   {
    "duration": 34,
    "start_time": "2022-06-14T11:15:49.045Z"
   },
   {
    "duration": 5,
    "start_time": "2022-06-14T11:15:49.080Z"
   },
   {
    "duration": 25,
    "start_time": "2022-06-14T11:15:49.087Z"
   },
   {
    "duration": 3,
    "start_time": "2022-06-14T11:15:49.113Z"
   },
   {
    "duration": 6,
    "start_time": "2022-06-14T11:15:49.118Z"
   },
   {
    "duration": 13,
    "start_time": "2022-06-14T11:15:49.125Z"
   },
   {
    "duration": 166,
    "start_time": "2022-06-14T11:15:49.140Z"
   },
   {
    "duration": 16,
    "start_time": "2022-06-14T11:15:49.308Z"
   },
   {
    "duration": 7,
    "start_time": "2022-06-14T11:15:49.326Z"
   },
   {
    "duration": 7,
    "start_time": "2022-06-14T11:15:49.334Z"
   },
   {
    "duration": 39,
    "start_time": "2022-06-14T11:15:49.342Z"
   },
   {
    "duration": 6,
    "start_time": "2022-06-14T11:15:49.382Z"
   },
   {
    "duration": 24,
    "start_time": "2022-06-14T11:15:49.390Z"
   },
   {
    "duration": 9,
    "start_time": "2022-06-14T11:15:49.416Z"
   },
   {
    "duration": 14,
    "start_time": "2022-06-14T11:15:49.427Z"
   },
   {
    "duration": 9,
    "start_time": "2022-06-14T11:15:49.442Z"
   },
   {
    "duration": 9,
    "start_time": "2022-06-14T11:15:49.452Z"
   },
   {
    "duration": 28,
    "start_time": "2022-06-14T11:15:49.463Z"
   },
   {
    "duration": 443,
    "start_time": "2022-06-14T11:15:49.493Z"
   },
   {
    "duration": 10,
    "start_time": "2022-06-14T11:15:49.937Z"
   },
   {
    "duration": 24,
    "start_time": "2022-06-14T11:15:49.979Z"
   },
   {
    "duration": 467,
    "start_time": "2022-06-14T11:15:50.005Z"
   },
   {
    "duration": 4,
    "start_time": "2022-06-14T11:15:50.474Z"
   },
   {
    "duration": 26,
    "start_time": "2022-06-14T11:15:50.479Z"
   },
   {
    "duration": 16,
    "start_time": "2022-06-14T11:15:50.506Z"
   },
   {
    "duration": 4,
    "start_time": "2022-06-14T11:15:50.523Z"
   },
   {
    "duration": 53,
    "start_time": "2022-06-14T11:15:50.528Z"
   },
   {
    "duration": 5,
    "start_time": "2022-06-14T11:18:08.654Z"
   },
   {
    "duration": 9,
    "start_time": "2022-06-14T11:18:33.625Z"
   },
   {
    "duration": 13,
    "start_time": "2022-06-14T11:18:45.645Z"
   },
   {
    "duration": 17,
    "start_time": "2022-06-14T11:21:17.757Z"
   },
   {
    "duration": 14,
    "start_time": "2022-06-14T11:21:18.624Z"
   },
   {
    "duration": 13,
    "start_time": "2022-06-14T11:22:44.792Z"
   },
   {
    "duration": 14,
    "start_time": "2022-06-14T11:23:20.284Z"
   },
   {
    "duration": 337,
    "start_time": "2022-06-14T11:24:33.704Z"
   },
   {
    "duration": 321,
    "start_time": "2022-06-14T11:24:42.415Z"
   },
   {
    "duration": 5,
    "start_time": "2022-06-14T11:40:47.934Z"
   },
   {
    "duration": 4,
    "start_time": "2022-06-14T11:40:54.062Z"
   },
   {
    "duration": 140,
    "start_time": "2022-06-14T11:41:00.185Z"
   },
   {
    "duration": 15,
    "start_time": "2022-06-14T11:41:59.585Z"
   },
   {
    "duration": 4,
    "start_time": "2022-06-14T11:42:15.505Z"
   },
   {
    "duration": 15,
    "start_time": "2022-06-14T11:42:38.156Z"
   },
   {
    "duration": 11,
    "start_time": "2022-06-14T11:43:24.842Z"
   },
   {
    "duration": 12,
    "start_time": "2022-06-14T11:43:33.854Z"
   },
   {
    "duration": 12,
    "start_time": "2022-06-14T11:43:42.673Z"
   },
   {
    "duration": 13,
    "start_time": "2022-06-14T11:45:27.473Z"
   },
   {
    "duration": 132,
    "start_time": "2022-06-14T11:45:34.016Z"
   },
   {
    "duration": 4,
    "start_time": "2022-06-14T11:45:45.553Z"
   },
   {
    "duration": 14,
    "start_time": "2022-06-14T11:45:49.217Z"
   },
   {
    "duration": 7,
    "start_time": "2022-06-14T11:46:23.825Z"
   },
   {
    "duration": 4,
    "start_time": "2022-06-14T11:46:40.665Z"
   },
   {
    "duration": 11,
    "start_time": "2022-06-14T11:48:59.273Z"
   },
   {
    "duration": 3,
    "start_time": "2022-06-14T11:51:31.954Z"
   },
   {
    "duration": 8,
    "start_time": "2022-06-14T11:51:34.413Z"
   },
   {
    "duration": 3,
    "start_time": "2022-06-14T11:51:44.584Z"
   },
   {
    "duration": 10,
    "start_time": "2022-06-14T11:51:45.117Z"
   },
   {
    "duration": 9,
    "start_time": "2022-06-14T11:53:24.166Z"
   },
   {
    "duration": 31,
    "start_time": "2022-06-14T11:54:34.446Z"
   },
   {
    "duration": 12,
    "start_time": "2022-06-14T11:54:42.137Z"
   },
   {
    "duration": 14,
    "start_time": "2022-06-14T11:56:41.297Z"
   },
   {
    "duration": 5,
    "start_time": "2022-06-14T11:58:13.643Z"
   },
   {
    "duration": 11,
    "start_time": "2022-06-14T11:58:14.985Z"
   },
   {
    "duration": 7,
    "start_time": "2022-06-14T11:58:15.951Z"
   },
   {
    "duration": 13,
    "start_time": "2022-06-14T11:58:16.943Z"
   },
   {
    "duration": 6,
    "start_time": "2022-06-14T11:58:18.516Z"
   },
   {
    "duration": 12,
    "start_time": "2022-06-14T11:58:20.857Z"
   },
   {
    "duration": 7,
    "start_time": "2022-06-14T11:59:37.777Z"
   },
   {
    "duration": 9,
    "start_time": "2022-06-14T12:00:10.562Z"
   },
   {
    "duration": 4,
    "start_time": "2022-06-14T12:03:59.526Z"
   },
   {
    "duration": 477,
    "start_time": "2022-06-14T12:04:01.723Z"
   },
   {
    "duration": 3,
    "start_time": "2022-06-14T12:04:22.517Z"
   },
   {
    "duration": 10,
    "start_time": "2022-06-14T12:04:24.873Z"
   },
   {
    "duration": 11,
    "start_time": "2022-06-14T12:04:37.338Z"
   },
   {
    "duration": 12,
    "start_time": "2022-06-14T12:04:48.416Z"
   },
   {
    "duration": 113,
    "start_time": "2022-06-14T12:04:53.613Z"
   },
   {
    "duration": 4,
    "start_time": "2022-06-14T12:04:57.224Z"
   },
   {
    "duration": 15,
    "start_time": "2022-06-14T12:05:01.217Z"
   },
   {
    "duration": 14,
    "start_time": "2022-06-14T12:05:11.296Z"
   },
   {
    "duration": 16,
    "start_time": "2022-06-14T12:15:18.405Z"
   },
   {
    "duration": 1635,
    "start_time": "2022-06-14T12:23:17.967Z"
   },
   {
    "duration": 562,
    "start_time": "2022-06-14T12:23:19.604Z"
   },
   {
    "duration": 26,
    "start_time": "2022-06-14T12:23:20.168Z"
   },
   {
    "duration": 18,
    "start_time": "2022-06-14T12:23:20.196Z"
   },
   {
    "duration": 13,
    "start_time": "2022-06-14T12:23:20.217Z"
   },
   {
    "duration": 32,
    "start_time": "2022-06-14T12:23:20.231Z"
   },
   {
    "duration": 11,
    "start_time": "2022-06-14T12:23:20.265Z"
   },
   {
    "duration": 70,
    "start_time": "2022-06-14T12:23:20.278Z"
   },
   {
    "duration": 5,
    "start_time": "2022-06-14T12:23:20.350Z"
   },
   {
    "duration": 14,
    "start_time": "2022-06-14T12:23:20.356Z"
   },
   {
    "duration": 32,
    "start_time": "2022-06-14T12:23:20.371Z"
   },
   {
    "duration": 116,
    "start_time": "2022-06-14T12:23:20.405Z"
   },
   {
    "duration": 13,
    "start_time": "2022-06-14T12:23:20.523Z"
   },
   {
    "duration": 50,
    "start_time": "2022-06-14T12:23:20.539Z"
   },
   {
    "duration": 16,
    "start_time": "2022-06-14T12:23:20.590Z"
   },
   {
    "duration": 78,
    "start_time": "2022-06-14T12:23:20.608Z"
   },
   {
    "duration": 26,
    "start_time": "2022-06-14T12:23:20.692Z"
   },
   {
    "duration": 12,
    "start_time": "2022-06-14T12:23:20.720Z"
   },
   {
    "duration": 10,
    "start_time": "2022-06-14T12:23:20.734Z"
   },
   {
    "duration": 11,
    "start_time": "2022-06-14T12:23:20.745Z"
   },
   {
    "duration": 4,
    "start_time": "2022-06-14T12:23:20.758Z"
   },
   {
    "duration": 39,
    "start_time": "2022-06-14T12:23:20.781Z"
   },
   {
    "duration": 8,
    "start_time": "2022-06-14T12:23:20.822Z"
   },
   {
    "duration": 18,
    "start_time": "2022-06-14T12:23:20.831Z"
   },
   {
    "duration": 6,
    "start_time": "2022-06-14T12:23:20.851Z"
   },
   {
    "duration": 15,
    "start_time": "2022-06-14T12:23:20.858Z"
   },
   {
    "duration": 21,
    "start_time": "2022-06-14T12:23:20.875Z"
   },
   {
    "duration": 5,
    "start_time": "2022-06-14T12:23:20.899Z"
   },
   {
    "duration": 54,
    "start_time": "2022-06-14T12:23:20.905Z"
   },
   {
    "duration": 11,
    "start_time": "2022-06-14T12:23:20.961Z"
   },
   {
    "duration": 11,
    "start_time": "2022-06-14T12:23:20.974Z"
   },
   {
    "duration": 21,
    "start_time": "2022-06-14T12:23:20.987Z"
   },
   {
    "duration": 6,
    "start_time": "2022-06-14T12:23:21.010Z"
   },
   {
    "duration": 7,
    "start_time": "2022-06-14T12:23:21.017Z"
   },
   {
    "duration": 11,
    "start_time": "2022-06-14T12:23:21.025Z"
   },
   {
    "duration": 24,
    "start_time": "2022-06-14T12:23:21.037Z"
   },
   {
    "duration": 31,
    "start_time": "2022-06-14T12:23:21.063Z"
   },
   {
    "duration": 9,
    "start_time": "2022-06-14T12:23:21.099Z"
   },
   {
    "duration": 7,
    "start_time": "2022-06-14T12:23:21.109Z"
   },
   {
    "duration": 27,
    "start_time": "2022-06-14T12:23:21.117Z"
   },
   {
    "duration": 8,
    "start_time": "2022-06-14T12:23:21.149Z"
   },
   {
    "duration": 6,
    "start_time": "2022-06-14T12:23:21.158Z"
   },
   {
    "duration": 16,
    "start_time": "2022-06-14T12:23:21.166Z"
   },
   {
    "duration": 12,
    "start_time": "2022-06-14T12:23:21.185Z"
   },
   {
    "duration": 158,
    "start_time": "2022-06-14T12:23:21.199Z"
   },
   {
    "duration": 36,
    "start_time": "2022-06-14T12:23:21.359Z"
   },
   {
    "duration": 7,
    "start_time": "2022-06-14T12:23:21.401Z"
   },
   {
    "duration": 12,
    "start_time": "2022-06-14T12:23:21.409Z"
   },
   {
    "duration": 23,
    "start_time": "2022-06-14T12:23:21.424Z"
   },
   {
    "duration": 15,
    "start_time": "2022-06-14T12:23:21.449Z"
   },
   {
    "duration": 18,
    "start_time": "2022-06-14T12:23:21.465Z"
   },
   {
    "duration": 27,
    "start_time": "2022-06-14T12:23:21.484Z"
   },
   {
    "duration": 10,
    "start_time": "2022-06-14T12:23:21.514Z"
   },
   {
    "duration": 14,
    "start_time": "2022-06-14T12:23:21.525Z"
   },
   {
    "duration": 8,
    "start_time": "2022-06-14T12:23:21.540Z"
   },
   {
    "duration": 17,
    "start_time": "2022-06-14T12:23:21.550Z"
   },
   {
    "duration": 11,
    "start_time": "2022-06-14T12:23:21.577Z"
   },
   {
    "duration": 22,
    "start_time": "2022-06-14T12:23:21.589Z"
   },
   {
    "duration": 18,
    "start_time": "2022-06-14T12:23:21.613Z"
   },
   {
    "duration": 432,
    "start_time": "2022-06-14T12:23:21.632Z"
   },
   {
    "duration": 15,
    "start_time": "2022-06-14T12:23:22.090Z"
   },
   {
    "duration": 27,
    "start_time": "2022-06-14T12:23:22.107Z"
   },
   {
    "duration": 433,
    "start_time": "2022-06-14T12:23:22.179Z"
   },
   {
    "duration": 3,
    "start_time": "2022-06-14T12:23:22.614Z"
   },
   {
    "duration": 29,
    "start_time": "2022-06-14T12:23:22.619Z"
   },
   {
    "duration": 22,
    "start_time": "2022-06-14T12:23:22.680Z"
   },
   {
    "duration": 4,
    "start_time": "2022-06-14T12:23:22.704Z"
   },
   {
    "duration": 13,
    "start_time": "2022-06-14T12:23:22.709Z"
   },
   {
    "duration": 1089,
    "start_time": "2022-06-14T12:29:15.666Z"
   },
   {
    "duration": 561,
    "start_time": "2022-06-14T12:29:16.757Z"
   },
   {
    "duration": 14,
    "start_time": "2022-06-14T12:29:17.320Z"
   },
   {
    "duration": 10,
    "start_time": "2022-06-14T12:29:17.335Z"
   },
   {
    "duration": 16,
    "start_time": "2022-06-14T12:29:17.347Z"
   },
   {
    "duration": 18,
    "start_time": "2022-06-14T12:29:17.367Z"
   },
   {
    "duration": 18,
    "start_time": "2022-06-14T12:29:17.387Z"
   },
   {
    "duration": 56,
    "start_time": "2022-06-14T12:29:17.406Z"
   },
   {
    "duration": 4,
    "start_time": "2022-06-14T12:29:17.464Z"
   },
   {
    "duration": 19,
    "start_time": "2022-06-14T12:29:17.480Z"
   },
   {
    "duration": 21,
    "start_time": "2022-06-14T12:29:17.501Z"
   },
   {
    "duration": 125,
    "start_time": "2022-06-14T12:29:17.523Z"
   },
   {
    "duration": 28,
    "start_time": "2022-06-14T12:29:17.650Z"
   },
   {
    "duration": 59,
    "start_time": "2022-06-14T12:29:17.682Z"
   },
   {
    "duration": 11,
    "start_time": "2022-06-14T12:29:17.744Z"
   },
   {
    "duration": 90,
    "start_time": "2022-06-14T12:29:17.756Z"
   },
   {
    "duration": 49,
    "start_time": "2022-06-14T12:29:17.848Z"
   },
   {
    "duration": 15,
    "start_time": "2022-06-14T12:29:17.901Z"
   },
   {
    "duration": 7,
    "start_time": "2022-06-14T12:29:17.918Z"
   },
   {
    "duration": 19,
    "start_time": "2022-06-14T12:29:17.927Z"
   },
   {
    "duration": 7,
    "start_time": "2022-06-14T12:29:17.948Z"
   },
   {
    "duration": 19,
    "start_time": "2022-06-14T12:29:17.956Z"
   },
   {
    "duration": 9,
    "start_time": "2022-06-14T12:29:17.977Z"
   },
   {
    "duration": 22,
    "start_time": "2022-06-14T12:29:17.988Z"
   },
   {
    "duration": 9,
    "start_time": "2022-06-14T12:29:18.011Z"
   },
   {
    "duration": 10,
    "start_time": "2022-06-14T12:29:18.021Z"
   },
   {
    "duration": 5,
    "start_time": "2022-06-14T12:29:18.033Z"
   },
   {
    "duration": 6,
    "start_time": "2022-06-14T12:29:18.039Z"
   },
   {
    "duration": 65,
    "start_time": "2022-06-14T12:29:18.046Z"
   },
   {
    "duration": 4,
    "start_time": "2022-06-14T12:29:18.113Z"
   },
   {
    "duration": 17,
    "start_time": "2022-06-14T12:29:18.118Z"
   },
   {
    "duration": 5,
    "start_time": "2022-06-14T12:29:18.137Z"
   },
   {
    "duration": 7,
    "start_time": "2022-06-14T12:29:18.143Z"
   },
   {
    "duration": 36,
    "start_time": "2022-06-14T12:29:18.151Z"
   },
   {
    "duration": 28,
    "start_time": "2022-06-14T12:29:18.188Z"
   },
   {
    "duration": 8,
    "start_time": "2022-06-14T12:29:18.218Z"
   },
   {
    "duration": 10,
    "start_time": "2022-06-14T12:29:18.228Z"
   },
   {
    "duration": 11,
    "start_time": "2022-06-14T12:29:18.239Z"
   },
   {
    "duration": 44,
    "start_time": "2022-06-14T12:29:18.251Z"
   },
   {
    "duration": 3,
    "start_time": "2022-06-14T12:29:18.297Z"
   },
   {
    "duration": 6,
    "start_time": "2022-06-14T12:29:18.304Z"
   },
   {
    "duration": 17,
    "start_time": "2022-06-14T12:29:18.311Z"
   },
   {
    "duration": 137,
    "start_time": "2022-06-14T12:29:18.329Z"
   },
   {
    "duration": 23,
    "start_time": "2022-06-14T12:29:18.468Z"
   },
   {
    "duration": 9,
    "start_time": "2022-06-14T12:29:18.492Z"
   },
   {
    "duration": 5,
    "start_time": "2022-06-14T12:29:18.503Z"
   },
   {
    "duration": 14,
    "start_time": "2022-06-14T12:29:18.510Z"
   },
   {
    "duration": 5,
    "start_time": "2022-06-14T12:29:18.526Z"
   },
   {
    "duration": 14,
    "start_time": "2022-06-14T12:29:18.532Z"
   },
   {
    "duration": 8,
    "start_time": "2022-06-14T12:29:18.547Z"
   },
   {
    "duration": 41,
    "start_time": "2022-06-14T12:29:18.556Z"
   },
   {
    "duration": 8,
    "start_time": "2022-06-14T12:29:18.599Z"
   },
   {
    "duration": 19,
    "start_time": "2022-06-14T12:29:18.609Z"
   },
   {
    "duration": 5,
    "start_time": "2022-06-14T12:29:18.630Z"
   },
   {
    "duration": 18,
    "start_time": "2022-06-14T12:29:18.636Z"
   },
   {
    "duration": 423,
    "start_time": "2022-06-14T12:29:18.679Z"
   },
   {
    "duration": 10,
    "start_time": "2022-06-14T12:29:19.104Z"
   },
   {
    "duration": 74,
    "start_time": "2022-06-14T12:29:19.116Z"
   },
   {
    "duration": 422,
    "start_time": "2022-06-14T12:29:19.192Z"
   },
   {
    "duration": 3,
    "start_time": "2022-06-14T12:29:19.616Z"
   },
   {
    "duration": 30,
    "start_time": "2022-06-14T12:29:19.620Z"
   },
   {
    "duration": 45,
    "start_time": "2022-06-14T12:29:19.651Z"
   },
   {
    "duration": 4,
    "start_time": "2022-06-14T12:29:19.698Z"
   },
   {
    "duration": 17,
    "start_time": "2022-06-14T12:29:19.704Z"
   },
   {
    "duration": 7,
    "start_time": "2022-06-14T13:21:03.042Z"
   },
   {
    "duration": 4,
    "start_time": "2022-06-14T13:23:54.442Z"
   },
   {
    "duration": 33,
    "start_time": "2022-06-14T13:24:29.990Z"
   },
   {
    "duration": 6,
    "start_time": "2022-06-14T13:25:00.822Z"
   },
   {
    "duration": 10,
    "start_time": "2022-06-14T13:55:30.457Z"
   },
   {
    "duration": 10,
    "start_time": "2022-06-14T13:55:37.126Z"
   },
   {
    "duration": 73,
    "start_time": "2022-06-14T14:05:22.594Z"
   },
   {
    "duration": 12,
    "start_time": "2022-06-14T14:48:00.080Z"
   },
   {
    "duration": 257,
    "start_time": "2022-06-14T14:49:37.375Z"
   },
   {
    "duration": 11,
    "start_time": "2022-06-14T14:49:49.107Z"
   },
   {
    "duration": 47,
    "start_time": "2022-06-14T14:50:05.495Z"
   },
   {
    "duration": 10,
    "start_time": "2022-06-14T14:50:10.687Z"
   },
   {
    "duration": 13,
    "start_time": "2022-06-14T14:54:09.837Z"
   },
   {
    "duration": 10,
    "start_time": "2022-06-14T14:56:00.610Z"
   },
   {
    "duration": 333,
    "start_time": "2022-06-14T14:57:08.055Z"
   },
   {
    "duration": 4,
    "start_time": "2022-06-14T15:04:42.751Z"
   },
   {
    "duration": 8,
    "start_time": "2022-06-14T15:04:52.258Z"
   },
   {
    "duration": 6,
    "start_time": "2022-06-14T15:04:56.097Z"
   },
   {
    "duration": 15,
    "start_time": "2022-06-14T15:04:59.430Z"
   },
   {
    "duration": 11,
    "start_time": "2022-06-14T15:05:32.392Z"
   },
   {
    "duration": 11,
    "start_time": "2022-06-14T15:06:11.156Z"
   },
   {
    "duration": 5,
    "start_time": "2022-06-14T15:06:19.611Z"
   },
   {
    "duration": 12,
    "start_time": "2022-06-14T15:06:21.602Z"
   },
   {
    "duration": 12,
    "start_time": "2022-06-14T15:08:34.435Z"
   },
   {
    "duration": 6,
    "start_time": "2022-06-14T15:08:40.072Z"
   },
   {
    "duration": 14,
    "start_time": "2022-06-14T15:08:41.916Z"
   },
   {
    "duration": 3,
    "start_time": "2022-06-14T15:09:38.834Z"
   },
   {
    "duration": 12,
    "start_time": "2022-06-14T15:09:47.457Z"
   },
   {
    "duration": 3,
    "start_time": "2022-06-14T15:10:01.059Z"
   },
   {
    "duration": 13,
    "start_time": "2022-06-14T15:10:03.116Z"
   },
   {
    "duration": 16,
    "start_time": "2022-06-14T15:10:21.148Z"
   },
   {
    "duration": 12,
    "start_time": "2022-06-14T15:10:28.386Z"
   },
   {
    "duration": 6,
    "start_time": "2022-06-14T15:10:29.288Z"
   },
   {
    "duration": 16,
    "start_time": "2022-06-14T15:10:30.109Z"
   },
   {
    "duration": 11,
    "start_time": "2022-06-14T15:11:03.718Z"
   },
   {
    "duration": 12,
    "start_time": "2022-06-14T15:11:36.367Z"
   },
   {
    "duration": 6,
    "start_time": "2022-06-14T15:11:37.175Z"
   },
   {
    "duration": 8,
    "start_time": "2022-06-14T15:11:38.179Z"
   },
   {
    "duration": 4,
    "start_time": "2022-06-14T15:14:18.394Z"
   },
   {
    "duration": 1113,
    "start_time": "2022-06-14T15:15:14.568Z"
   },
   {
    "duration": 562,
    "start_time": "2022-06-14T15:15:15.683Z"
   },
   {
    "duration": 14,
    "start_time": "2022-06-14T15:15:16.247Z"
   },
   {
    "duration": 27,
    "start_time": "2022-06-14T15:15:16.262Z"
   },
   {
    "duration": 33,
    "start_time": "2022-06-14T15:15:16.291Z"
   },
   {
    "duration": 24,
    "start_time": "2022-06-14T15:15:16.326Z"
   },
   {
    "duration": 24,
    "start_time": "2022-06-14T15:15:16.352Z"
   },
   {
    "duration": 75,
    "start_time": "2022-06-14T15:15:16.378Z"
   },
   {
    "duration": 5,
    "start_time": "2022-06-14T15:15:16.455Z"
   },
   {
    "duration": 131,
    "start_time": "2022-06-14T15:15:16.461Z"
   },
   {
    "duration": 7,
    "start_time": "2022-06-14T15:15:16.593Z"
   },
   {
    "duration": 12,
    "start_time": "2022-06-14T15:15:16.601Z"
   },
   {
    "duration": 109,
    "start_time": "2022-06-14T15:15:16.614Z"
   },
   {
    "duration": 14,
    "start_time": "2022-06-14T15:15:16.726Z"
   },
   {
    "duration": 53,
    "start_time": "2022-06-14T15:15:16.742Z"
   },
   {
    "duration": 10,
    "start_time": "2022-06-14T15:15:16.796Z"
   },
   {
    "duration": 28,
    "start_time": "2022-06-14T15:15:16.807Z"
   },
   {
    "duration": 12,
    "start_time": "2022-06-14T15:15:16.837Z"
   },
   {
    "duration": 29,
    "start_time": "2022-06-14T15:15:16.850Z"
   },
   {
    "duration": 9,
    "start_time": "2022-06-14T15:15:16.880Z"
   },
   {
    "duration": 5,
    "start_time": "2022-06-14T15:15:16.890Z"
   },
   {
    "duration": 12,
    "start_time": "2022-06-14T15:15:16.896Z"
   },
   {
    "duration": 5,
    "start_time": "2022-06-14T15:15:16.910Z"
   },
   {
    "duration": 13,
    "start_time": "2022-06-14T15:15:16.916Z"
   },
   {
    "duration": 4,
    "start_time": "2022-06-14T15:15:16.930Z"
   },
   {
    "duration": 10,
    "start_time": "2022-06-14T15:15:16.935Z"
   },
   {
    "duration": 34,
    "start_time": "2022-06-14T15:15:16.946Z"
   },
   {
    "duration": 7,
    "start_time": "2022-06-14T15:15:16.982Z"
   },
   {
    "duration": 20,
    "start_time": "2022-06-14T15:15:16.991Z"
   },
   {
    "duration": 5,
    "start_time": "2022-06-14T15:15:17.013Z"
   },
   {
    "duration": 11,
    "start_time": "2022-06-14T15:15:17.020Z"
   },
   {
    "duration": 8,
    "start_time": "2022-06-14T15:15:17.032Z"
   },
   {
    "duration": 36,
    "start_time": "2022-06-14T15:15:17.042Z"
   },
   {
    "duration": 10,
    "start_time": "2022-06-14T15:15:17.079Z"
   },
   {
    "duration": 17,
    "start_time": "2022-06-14T15:15:17.091Z"
   },
   {
    "duration": 7,
    "start_time": "2022-06-14T15:15:17.110Z"
   },
   {
    "duration": 4,
    "start_time": "2022-06-14T15:15:17.118Z"
   },
   {
    "duration": 11,
    "start_time": "2022-06-14T15:15:17.123Z"
   },
   {
    "duration": 26,
    "start_time": "2022-06-14T15:15:17.136Z"
   },
   {
    "duration": 3,
    "start_time": "2022-06-14T15:15:17.178Z"
   },
   {
    "duration": 5,
    "start_time": "2022-06-14T15:15:17.185Z"
   },
   {
    "duration": 13,
    "start_time": "2022-06-14T15:15:17.191Z"
   },
   {
    "duration": 151,
    "start_time": "2022-06-14T15:15:17.205Z"
   },
   {
    "duration": 25,
    "start_time": "2022-06-14T15:15:17.358Z"
   },
   {
    "duration": 6,
    "start_time": "2022-06-14T15:15:17.384Z"
   },
   {
    "duration": 7,
    "start_time": "2022-06-14T15:15:17.391Z"
   },
   {
    "duration": 19,
    "start_time": "2022-06-14T15:15:17.399Z"
   },
   {
    "duration": 4,
    "start_time": "2022-06-14T15:15:17.420Z"
   },
   {
    "duration": 14,
    "start_time": "2022-06-14T15:15:17.426Z"
   },
   {
    "duration": 14,
    "start_time": "2022-06-14T15:15:17.442Z"
   },
   {
    "duration": 18,
    "start_time": "2022-06-14T15:15:17.481Z"
   },
   {
    "duration": 9,
    "start_time": "2022-06-14T15:15:17.501Z"
   },
   {
    "duration": 25,
    "start_time": "2022-06-14T15:15:17.512Z"
   },
   {
    "duration": 8,
    "start_time": "2022-06-14T15:15:17.539Z"
   },
   {
    "duration": 9,
    "start_time": "2022-06-14T15:15:17.548Z"
   },
   {
    "duration": 37,
    "start_time": "2022-06-14T15:15:17.585Z"
   },
   {
    "duration": 481,
    "start_time": "2022-06-14T15:15:17.625Z"
   },
   {
    "duration": 9,
    "start_time": "2022-06-14T15:15:18.107Z"
   },
   {
    "duration": 69,
    "start_time": "2022-06-14T15:15:18.117Z"
   },
   {
    "duration": 338,
    "start_time": "2022-06-14T15:15:18.188Z"
   },
   {
    "duration": 3,
    "start_time": "2022-06-14T15:15:18.528Z"
   },
   {
    "duration": 49,
    "start_time": "2022-06-14T15:15:18.532Z"
   },
   {
    "duration": 19,
    "start_time": "2022-06-14T15:15:18.583Z"
   },
   {
    "duration": 4,
    "start_time": "2022-06-14T15:15:18.603Z"
   },
   {
    "duration": 45,
    "start_time": "2022-06-14T15:15:18.608Z"
   },
   {
    "duration": 16,
    "start_time": "2022-06-14T15:15:18.655Z"
   },
   {
    "duration": 25,
    "start_time": "2022-06-14T15:15:18.673Z"
   },
   {
    "duration": 12,
    "start_time": "2022-06-14T15:15:18.700Z"
   },
   {
    "duration": 17,
    "start_time": "2022-06-14T15:15:18.714Z"
   },
   {
    "duration": 6,
    "start_time": "2022-06-14T15:37:54.701Z"
   },
   {
    "duration": 8,
    "start_time": "2022-06-14T15:37:56.672Z"
   },
   {
    "duration": 9,
    "start_time": "2022-06-14T15:57:18.075Z"
   },
   {
    "duration": 13,
    "start_time": "2022-06-14T15:57:20.065Z"
   },
   {
    "duration": 1042,
    "start_time": "2022-06-14T16:15:58.633Z"
   },
   {
    "duration": 585,
    "start_time": "2022-06-14T16:15:59.677Z"
   },
   {
    "duration": 12,
    "start_time": "2022-06-14T16:16:00.264Z"
   },
   {
    "duration": 10,
    "start_time": "2022-06-14T16:16:00.278Z"
   },
   {
    "duration": 12,
    "start_time": "2022-06-14T16:16:00.291Z"
   },
   {
    "duration": 23,
    "start_time": "2022-06-14T16:16:00.304Z"
   },
   {
    "duration": 12,
    "start_time": "2022-06-14T16:16:00.329Z"
   },
   {
    "duration": 71,
    "start_time": "2022-06-14T16:16:00.343Z"
   },
   {
    "duration": 4,
    "start_time": "2022-06-14T16:16:00.416Z"
   },
   {
    "duration": 103,
    "start_time": "2022-06-14T16:16:00.421Z"
   },
   {
    "duration": 6,
    "start_time": "2022-06-14T16:16:00.526Z"
   },
   {
    "duration": 14,
    "start_time": "2022-06-14T16:16:00.534Z"
   },
   {
    "duration": 110,
    "start_time": "2022-06-14T16:16:00.549Z"
   },
   {
    "duration": 21,
    "start_time": "2022-06-14T16:16:00.662Z"
   },
   {
    "duration": 38,
    "start_time": "2022-06-14T16:16:00.684Z"
   },
   {
    "duration": 10,
    "start_time": "2022-06-14T16:16:00.724Z"
   },
   {
    "duration": 55,
    "start_time": "2022-06-14T16:16:00.736Z"
   },
   {
    "duration": 17,
    "start_time": "2022-06-14T16:16:00.792Z"
   },
   {
    "duration": 14,
    "start_time": "2022-06-14T16:16:00.811Z"
   },
   {
    "duration": 22,
    "start_time": "2022-06-14T16:16:00.827Z"
   },
   {
    "duration": 7,
    "start_time": "2022-06-14T16:16:00.851Z"
   },
   {
    "duration": 26,
    "start_time": "2022-06-14T16:16:00.860Z"
   },
   {
    "duration": 6,
    "start_time": "2022-06-14T16:16:00.888Z"
   },
   {
    "duration": 18,
    "start_time": "2022-06-14T16:16:00.896Z"
   },
   {
    "duration": 10,
    "start_time": "2022-06-14T16:16:00.916Z"
   },
   {
    "duration": 19,
    "start_time": "2022-06-14T16:16:00.928Z"
   },
   {
    "duration": 6,
    "start_time": "2022-06-14T16:16:00.948Z"
   },
   {
    "duration": 25,
    "start_time": "2022-06-14T16:16:00.956Z"
   },
   {
    "duration": 23,
    "start_time": "2022-06-14T16:16:00.983Z"
   },
   {
    "duration": 5,
    "start_time": "2022-06-14T16:16:01.008Z"
   },
   {
    "duration": 15,
    "start_time": "2022-06-14T16:16:01.015Z"
   },
   {
    "duration": 21,
    "start_time": "2022-06-14T16:16:01.032Z"
   },
   {
    "duration": 13,
    "start_time": "2022-06-14T16:16:01.055Z"
   },
   {
    "duration": 15,
    "start_time": "2022-06-14T16:16:01.069Z"
   },
   {
    "duration": 45,
    "start_time": "2022-06-14T16:16:01.086Z"
   },
   {
    "duration": 19,
    "start_time": "2022-06-14T16:16:01.133Z"
   },
   {
    "duration": 12,
    "start_time": "2022-06-14T16:16:01.154Z"
   },
   {
    "duration": 9,
    "start_time": "2022-06-14T16:16:01.167Z"
   },
   {
    "duration": 39,
    "start_time": "2022-06-14T16:16:01.177Z"
   },
   {
    "duration": 5,
    "start_time": "2022-06-14T16:16:01.218Z"
   },
   {
    "duration": 7,
    "start_time": "2022-06-14T16:16:01.228Z"
   },
   {
    "duration": 25,
    "start_time": "2022-06-14T16:16:01.237Z"
   },
   {
    "duration": 155,
    "start_time": "2022-06-14T16:16:01.264Z"
   },
   {
    "duration": 14,
    "start_time": "2022-06-14T16:16:01.421Z"
   },
   {
    "duration": 11,
    "start_time": "2022-06-14T16:16:01.437Z"
   },
   {
    "duration": 14,
    "start_time": "2022-06-14T16:16:01.449Z"
   },
   {
    "duration": 36,
    "start_time": "2022-06-14T16:16:01.464Z"
   },
   {
    "duration": 4,
    "start_time": "2022-06-14T16:16:01.502Z"
   },
   {
    "duration": 20,
    "start_time": "2022-06-14T16:16:01.508Z"
   },
   {
    "duration": 15,
    "start_time": "2022-06-14T16:16:01.530Z"
   },
   {
    "duration": 22,
    "start_time": "2022-06-14T16:16:01.546Z"
   },
   {
    "duration": 23,
    "start_time": "2022-06-14T16:16:01.570Z"
   },
   {
    "duration": 22,
    "start_time": "2022-06-14T16:16:01.594Z"
   },
   {
    "duration": 6,
    "start_time": "2022-06-14T16:16:01.618Z"
   },
   {
    "duration": 21,
    "start_time": "2022-06-14T16:16:01.625Z"
   },
   {
    "duration": 33,
    "start_time": "2022-06-14T16:16:01.647Z"
   },
   {
    "duration": 452,
    "start_time": "2022-06-14T16:16:01.683Z"
   },
   {
    "duration": 11,
    "start_time": "2022-06-14T16:16:02.136Z"
   },
   {
    "duration": 49,
    "start_time": "2022-06-14T16:16:02.178Z"
   },
   {
    "duration": 329,
    "start_time": "2022-06-14T16:16:02.229Z"
   },
   {
    "duration": 3,
    "start_time": "2022-06-14T16:16:02.559Z"
   },
   {
    "duration": 40,
    "start_time": "2022-06-14T16:16:02.564Z"
   },
   {
    "duration": 25,
    "start_time": "2022-06-14T16:16:02.606Z"
   },
   {
    "duration": 5,
    "start_time": "2022-06-14T16:16:02.633Z"
   },
   {
    "duration": 45,
    "start_time": "2022-06-14T16:16:02.640Z"
   },
   {
    "duration": 46,
    "start_time": "2022-06-14T16:16:02.687Z"
   },
   {
    "duration": 58,
    "start_time": "2022-06-14T16:16:02.736Z"
   },
   {
    "duration": 29,
    "start_time": "2022-06-14T16:16:02.797Z"
   },
   {
    "duration": 19,
    "start_time": "2022-06-14T16:16:02.828Z"
   },
   {
    "duration": 135,
    "start_time": "2022-06-14T16:22:23.886Z"
   },
   {
    "duration": 17,
    "start_time": "2022-06-14T16:22:31.754Z"
   },
   {
    "duration": 13,
    "start_time": "2022-06-14T16:22:53.529Z"
   },
   {
    "duration": 6,
    "start_time": "2022-06-14T16:25:38.129Z"
   },
   {
    "duration": 11,
    "start_time": "2022-06-14T16:25:42.934Z"
   },
   {
    "duration": 12,
    "start_time": "2022-06-14T16:46:27.267Z"
   },
   {
    "duration": 357,
    "start_time": "2022-06-14T16:47:55.977Z"
   },
   {
    "duration": 12,
    "start_time": "2022-06-14T16:48:06.526Z"
   },
   {
    "duration": 1086,
    "start_time": "2022-06-14T17:00:23.185Z"
   },
   {
    "duration": 570,
    "start_time": "2022-06-14T17:00:24.273Z"
   },
   {
    "duration": 12,
    "start_time": "2022-06-14T17:00:24.844Z"
   },
   {
    "duration": 11,
    "start_time": "2022-06-14T17:00:24.857Z"
   },
   {
    "duration": 13,
    "start_time": "2022-06-14T17:00:24.869Z"
   },
   {
    "duration": 16,
    "start_time": "2022-06-14T17:00:24.884Z"
   },
   {
    "duration": 7,
    "start_time": "2022-06-14T17:00:24.901Z"
   },
   {
    "duration": 52,
    "start_time": "2022-06-14T17:00:24.909Z"
   },
   {
    "duration": 19,
    "start_time": "2022-06-14T17:00:24.962Z"
   },
   {
    "duration": 86,
    "start_time": "2022-06-14T17:00:24.982Z"
   },
   {
    "duration": 7,
    "start_time": "2022-06-14T17:00:25.078Z"
   },
   {
    "duration": 13,
    "start_time": "2022-06-14T17:00:25.087Z"
   },
   {
    "duration": 113,
    "start_time": "2022-06-14T17:00:25.102Z"
   },
   {
    "duration": 14,
    "start_time": "2022-06-14T17:00:25.218Z"
   },
   {
    "duration": 46,
    "start_time": "2022-06-14T17:00:25.233Z"
   },
   {
    "duration": 9,
    "start_time": "2022-06-14T17:00:25.280Z"
   },
   {
    "duration": 31,
    "start_time": "2022-06-14T17:00:25.290Z"
   },
   {
    "duration": 13,
    "start_time": "2022-06-14T17:00:25.322Z"
   },
   {
    "duration": 10,
    "start_time": "2022-06-14T17:00:25.336Z"
   },
   {
    "duration": 32,
    "start_time": "2022-06-14T17:00:25.347Z"
   },
   {
    "duration": 6,
    "start_time": "2022-06-14T17:00:25.380Z"
   },
   {
    "duration": 13,
    "start_time": "2022-06-14T17:00:25.387Z"
   },
   {
    "duration": 5,
    "start_time": "2022-06-14T17:00:25.401Z"
   },
   {
    "duration": 13,
    "start_time": "2022-06-14T17:00:25.407Z"
   },
   {
    "duration": 4,
    "start_time": "2022-06-14T17:00:25.421Z"
   },
   {
    "duration": 15,
    "start_time": "2022-06-14T17:00:25.427Z"
   },
   {
    "duration": 5,
    "start_time": "2022-06-14T17:00:25.443Z"
   },
   {
    "duration": 5,
    "start_time": "2022-06-14T17:00:25.449Z"
   },
   {
    "duration": 13,
    "start_time": "2022-06-14T17:00:25.478Z"
   },
   {
    "duration": 4,
    "start_time": "2022-06-14T17:00:25.493Z"
   },
   {
    "duration": 9,
    "start_time": "2022-06-14T17:00:25.498Z"
   },
   {
    "duration": 4,
    "start_time": "2022-06-14T17:00:25.508Z"
   },
   {
    "duration": 6,
    "start_time": "2022-06-14T17:00:25.514Z"
   },
   {
    "duration": 10,
    "start_time": "2022-06-14T17:00:25.521Z"
   },
   {
    "duration": 47,
    "start_time": "2022-06-14T17:00:25.532Z"
   },
   {
    "duration": 8,
    "start_time": "2022-06-14T17:00:25.580Z"
   },
   {
    "duration": 3,
    "start_time": "2022-06-14T17:00:25.590Z"
   },
   {
    "duration": 6,
    "start_time": "2022-06-14T17:00:25.594Z"
   },
   {
    "duration": 22,
    "start_time": "2022-06-14T17:00:25.601Z"
   },
   {
    "duration": 3,
    "start_time": "2022-06-14T17:00:25.625Z"
   },
   {
    "duration": 3,
    "start_time": "2022-06-14T17:00:25.631Z"
   },
   {
    "duration": 45,
    "start_time": "2022-06-14T17:00:25.635Z"
   },
   {
    "duration": 141,
    "start_time": "2022-06-14T17:00:25.682Z"
   },
   {
    "duration": 16,
    "start_time": "2022-06-14T17:00:25.826Z"
   },
   {
    "duration": 4,
    "start_time": "2022-06-14T17:00:25.844Z"
   },
   {
    "duration": 10,
    "start_time": "2022-06-14T17:00:25.850Z"
   },
   {
    "duration": 29,
    "start_time": "2022-06-14T17:00:25.861Z"
   },
   {
    "duration": 5,
    "start_time": "2022-06-14T17:00:25.892Z"
   },
   {
    "duration": 18,
    "start_time": "2022-06-14T17:00:25.898Z"
   },
   {
    "duration": 13,
    "start_time": "2022-06-14T17:00:25.917Z"
   },
   {
    "duration": 15,
    "start_time": "2022-06-14T17:00:25.932Z"
   },
   {
    "duration": 7,
    "start_time": "2022-06-14T17:00:25.949Z"
   },
   {
    "duration": 17,
    "start_time": "2022-06-14T17:00:25.980Z"
   },
   {
    "duration": 8,
    "start_time": "2022-06-14T17:00:26.000Z"
   },
   {
    "duration": 8,
    "start_time": "2022-06-14T17:00:26.010Z"
   },
   {
    "duration": 21,
    "start_time": "2022-06-14T17:00:26.019Z"
   },
   {
    "duration": 439,
    "start_time": "2022-06-14T17:00:26.042Z"
   },
   {
    "duration": 11,
    "start_time": "2022-06-14T17:00:26.483Z"
   },
   {
    "duration": 25,
    "start_time": "2022-06-14T17:00:26.495Z"
   },
   {
    "duration": 358,
    "start_time": "2022-06-14T17:00:26.522Z"
   },
   {
    "duration": 3,
    "start_time": "2022-06-14T17:00:26.881Z"
   },
   {
    "duration": 25,
    "start_time": "2022-06-14T17:00:26.886Z"
   },
   {
    "duration": 17,
    "start_time": "2022-06-14T17:00:26.912Z"
   },
   {
    "duration": 4,
    "start_time": "2022-06-14T17:00:26.930Z"
   },
   {
    "duration": 51,
    "start_time": "2022-06-14T17:00:26.936Z"
   },
   {
    "duration": 11,
    "start_time": "2022-06-14T17:00:26.989Z"
   },
   {
    "duration": 15,
    "start_time": "2022-06-14T17:00:27.002Z"
   },
   {
    "duration": 12,
    "start_time": "2022-06-14T17:01:36.772Z"
   },
   {
    "duration": 11,
    "start_time": "2022-06-14T17:01:43.528Z"
   },
   {
    "duration": 11,
    "start_time": "2022-06-14T17:01:56.294Z"
   },
   {
    "duration": 3,
    "start_time": "2022-06-14T17:09:43.458Z"
   },
   {
    "duration": 12,
    "start_time": "2022-06-14T17:09:44.328Z"
   },
   {
    "duration": 998,
    "start_time": "2022-06-14T17:12:36.716Z"
   },
   {
    "duration": 745,
    "start_time": "2022-06-14T17:12:37.717Z"
   },
   {
    "duration": 14,
    "start_time": "2022-06-14T17:12:38.463Z"
   },
   {
    "duration": 9,
    "start_time": "2022-06-14T17:12:38.479Z"
   },
   {
    "duration": 16,
    "start_time": "2022-06-14T17:12:38.490Z"
   },
   {
    "duration": 28,
    "start_time": "2022-06-14T17:12:38.507Z"
   },
   {
    "duration": 9,
    "start_time": "2022-06-14T17:12:38.537Z"
   },
   {
    "duration": 67,
    "start_time": "2022-06-14T17:12:38.548Z"
   },
   {
    "duration": 4,
    "start_time": "2022-06-14T17:12:38.617Z"
   },
   {
    "duration": 96,
    "start_time": "2022-06-14T17:12:38.623Z"
   },
   {
    "duration": 6,
    "start_time": "2022-06-14T17:12:38.721Z"
   },
   {
    "duration": 15,
    "start_time": "2022-06-14T17:12:38.728Z"
   },
   {
    "duration": 138,
    "start_time": "2022-06-14T17:12:38.745Z"
   },
   {
    "duration": 17,
    "start_time": "2022-06-14T17:12:38.886Z"
   },
   {
    "duration": 39,
    "start_time": "2022-06-14T17:12:38.904Z"
   },
   {
    "duration": 9,
    "start_time": "2022-06-14T17:12:38.945Z"
   },
   {
    "duration": 29,
    "start_time": "2022-06-14T17:12:38.978Z"
   },
   {
    "duration": 13,
    "start_time": "2022-06-14T17:12:39.008Z"
   },
   {
    "duration": 7,
    "start_time": "2022-06-14T17:12:39.022Z"
   },
   {
    "duration": 15,
    "start_time": "2022-06-14T17:12:39.031Z"
   },
   {
    "duration": 6,
    "start_time": "2022-06-14T17:12:39.048Z"
   },
   {
    "duration": 12,
    "start_time": "2022-06-14T17:12:39.078Z"
   },
   {
    "duration": 5,
    "start_time": "2022-06-14T17:12:39.092Z"
   },
   {
    "duration": 12,
    "start_time": "2022-06-14T17:12:39.099Z"
   },
   {
    "duration": 4,
    "start_time": "2022-06-14T17:12:39.113Z"
   },
   {
    "duration": 10,
    "start_time": "2022-06-14T17:12:39.118Z"
   },
   {
    "duration": 6,
    "start_time": "2022-06-14T17:12:39.130Z"
   },
   {
    "duration": 3,
    "start_time": "2022-06-14T17:12:39.138Z"
   },
   {
    "duration": 40,
    "start_time": "2022-06-14T17:12:39.143Z"
   },
   {
    "duration": 4,
    "start_time": "2022-06-14T17:12:39.184Z"
   },
   {
    "duration": 8,
    "start_time": "2022-06-14T17:12:39.190Z"
   },
   {
    "duration": 4,
    "start_time": "2022-06-14T17:12:39.200Z"
   },
   {
    "duration": 8,
    "start_time": "2022-06-14T17:12:39.205Z"
   },
   {
    "duration": 13,
    "start_time": "2022-06-14T17:12:39.215Z"
   },
   {
    "duration": 17,
    "start_time": "2022-06-14T17:12:39.229Z"
   },
   {
    "duration": 33,
    "start_time": "2022-06-14T17:12:39.248Z"
   },
   {
    "duration": 5,
    "start_time": "2022-06-14T17:12:39.283Z"
   },
   {
    "duration": 10,
    "start_time": "2022-06-14T17:12:39.289Z"
   },
   {
    "duration": 23,
    "start_time": "2022-06-14T17:12:39.300Z"
   },
   {
    "duration": 12,
    "start_time": "2022-06-14T17:12:39.324Z"
   },
   {
    "duration": 6,
    "start_time": "2022-06-14T17:12:39.340Z"
   },
   {
    "duration": 18,
    "start_time": "2022-06-14T17:12:39.348Z"
   },
   {
    "duration": 133,
    "start_time": "2022-06-14T17:12:39.368Z"
   },
   {
    "duration": 14,
    "start_time": "2022-06-14T17:12:39.503Z"
   },
   {
    "duration": 9,
    "start_time": "2022-06-14T17:12:39.518Z"
   },
   {
    "duration": 6,
    "start_time": "2022-06-14T17:12:39.528Z"
   },
   {
    "duration": 16,
    "start_time": "2022-06-14T17:12:39.535Z"
   },
   {
    "duration": 4,
    "start_time": "2022-06-14T17:12:39.553Z"
   },
   {
    "duration": 32,
    "start_time": "2022-06-14T17:12:39.558Z"
   },
   {
    "duration": 22,
    "start_time": "2022-06-14T17:12:39.591Z"
   },
   {
    "duration": 13,
    "start_time": "2022-06-14T17:12:39.614Z"
   },
   {
    "duration": 6,
    "start_time": "2022-06-14T17:12:39.628Z"
   },
   {
    "duration": 18,
    "start_time": "2022-06-14T17:12:39.636Z"
   },
   {
    "duration": 5,
    "start_time": "2022-06-14T17:12:39.656Z"
   },
   {
    "duration": 17,
    "start_time": "2022-06-14T17:12:39.663Z"
   },
   {
    "duration": 18,
    "start_time": "2022-06-14T17:12:39.682Z"
   },
   {
    "duration": 452,
    "start_time": "2022-06-14T17:12:39.701Z"
   },
   {
    "duration": 29,
    "start_time": "2022-06-14T17:12:40.155Z"
   },
   {
    "duration": 27,
    "start_time": "2022-06-14T17:12:40.186Z"
   },
   {
    "duration": 357,
    "start_time": "2022-06-14T17:12:40.215Z"
   },
   {
    "duration": 5,
    "start_time": "2022-06-14T17:12:40.573Z"
   },
   {
    "duration": 30,
    "start_time": "2022-06-14T17:12:40.579Z"
   },
   {
    "duration": 16,
    "start_time": "2022-06-14T17:12:40.610Z"
   },
   {
    "duration": 3,
    "start_time": "2022-06-14T17:12:40.628Z"
   },
   {
    "duration": 47,
    "start_time": "2022-06-14T17:12:40.633Z"
   },
   {
    "duration": 11,
    "start_time": "2022-06-14T17:12:40.682Z"
   },
   {
    "duration": 18,
    "start_time": "2022-06-14T17:12:40.695Z"
   },
   {
    "duration": 808,
    "start_time": "2022-06-14T17:42:55.001Z"
   },
   {
    "duration": 537,
    "start_time": "2022-06-14T17:42:55.811Z"
   },
   {
    "duration": 13,
    "start_time": "2022-06-14T17:42:56.350Z"
   },
   {
    "duration": 12,
    "start_time": "2022-06-14T17:42:56.364Z"
   },
   {
    "duration": 9,
    "start_time": "2022-06-14T17:42:56.378Z"
   },
   {
    "duration": 17,
    "start_time": "2022-06-14T17:42:56.389Z"
   },
   {
    "duration": 7,
    "start_time": "2022-06-14T17:42:56.408Z"
   },
   {
    "duration": 65,
    "start_time": "2022-06-14T17:42:56.417Z"
   },
   {
    "duration": 5,
    "start_time": "2022-06-14T17:42:56.484Z"
   },
   {
    "duration": 98,
    "start_time": "2022-06-14T17:42:56.490Z"
   },
   {
    "duration": 9,
    "start_time": "2022-06-14T17:42:56.590Z"
   },
   {
    "duration": 13,
    "start_time": "2022-06-14T17:42:56.600Z"
   },
   {
    "duration": 109,
    "start_time": "2022-06-14T17:42:56.614Z"
   },
   {
    "duration": 14,
    "start_time": "2022-06-14T17:42:56.726Z"
   },
   {
    "duration": 45,
    "start_time": "2022-06-14T17:42:56.742Z"
   },
   {
    "duration": 9,
    "start_time": "2022-06-14T17:42:56.788Z"
   },
   {
    "duration": 25,
    "start_time": "2022-06-14T17:42:56.798Z"
   },
   {
    "duration": 12,
    "start_time": "2022-06-14T17:42:56.824Z"
   },
   {
    "duration": 7,
    "start_time": "2022-06-14T17:42:56.837Z"
   },
   {
    "duration": 37,
    "start_time": "2022-06-14T17:42:56.845Z"
   },
   {
    "duration": 4,
    "start_time": "2022-06-14T17:42:56.884Z"
   },
   {
    "duration": 12,
    "start_time": "2022-06-14T17:42:56.890Z"
   },
   {
    "duration": 5,
    "start_time": "2022-06-14T17:42:56.904Z"
   },
   {
    "duration": 17,
    "start_time": "2022-06-14T17:42:56.911Z"
   },
   {
    "duration": 11,
    "start_time": "2022-06-14T17:42:56.930Z"
   },
   {
    "duration": 17,
    "start_time": "2022-06-14T17:42:56.943Z"
   },
   {
    "duration": 20,
    "start_time": "2022-06-14T17:42:56.962Z"
   },
   {
    "duration": 4,
    "start_time": "2022-06-14T17:42:56.984Z"
   },
   {
    "duration": 14,
    "start_time": "2022-06-14T17:42:56.990Z"
   },
   {
    "duration": 5,
    "start_time": "2022-06-14T17:42:57.006Z"
   },
   {
    "duration": 11,
    "start_time": "2022-06-14T17:42:57.012Z"
   },
   {
    "duration": 6,
    "start_time": "2022-06-14T17:42:57.024Z"
   },
   {
    "duration": 10,
    "start_time": "2022-06-14T17:42:57.031Z"
   },
   {
    "duration": 39,
    "start_time": "2022-06-14T17:42:57.042Z"
   },
   {
    "duration": 16,
    "start_time": "2022-06-14T17:42:57.082Z"
   },
   {
    "duration": 7,
    "start_time": "2022-06-14T17:42:57.100Z"
   },
   {
    "duration": 4,
    "start_time": "2022-06-14T17:42:57.109Z"
   },
   {
    "duration": 11,
    "start_time": "2022-06-14T17:42:57.114Z"
   },
   {
    "duration": 52,
    "start_time": "2022-06-14T17:42:57.127Z"
   },
   {
    "duration": 3,
    "start_time": "2022-06-14T17:42:57.181Z"
   },
   {
    "duration": 3,
    "start_time": "2022-06-14T17:42:57.188Z"
   },
   {
    "duration": 14,
    "start_time": "2022-06-14T17:42:57.193Z"
   },
   {
    "duration": 185,
    "start_time": "2022-06-14T17:42:57.208Z"
   },
   {
    "duration": 25,
    "start_time": "2022-06-14T17:42:57.395Z"
   },
   {
    "duration": 6,
    "start_time": "2022-06-14T17:42:57.422Z"
   },
   {
    "duration": 18,
    "start_time": "2022-06-14T17:42:57.430Z"
   },
   {
    "duration": 38,
    "start_time": "2022-06-14T17:42:57.450Z"
   },
   {
    "duration": 6,
    "start_time": "2022-06-14T17:42:57.490Z"
   },
   {
    "duration": 23,
    "start_time": "2022-06-14T17:42:57.498Z"
   },
   {
    "duration": 33,
    "start_time": "2022-06-14T17:42:57.523Z"
   },
   {
    "duration": 19,
    "start_time": "2022-06-14T17:42:57.557Z"
   },
   {
    "duration": 39,
    "start_time": "2022-06-14T17:42:57.578Z"
   },
   {
    "duration": 31,
    "start_time": "2022-06-14T17:42:57.619Z"
   },
   {
    "duration": 8,
    "start_time": "2022-06-14T17:42:57.652Z"
   },
   {
    "duration": 19,
    "start_time": "2022-06-14T17:42:57.663Z"
   },
   {
    "duration": 52,
    "start_time": "2022-06-14T17:42:57.685Z"
   },
   {
    "duration": 563,
    "start_time": "2022-06-14T17:42:57.740Z"
   },
   {
    "duration": 13,
    "start_time": "2022-06-14T17:42:58.305Z"
   },
   {
    "duration": 65,
    "start_time": "2022-06-14T17:42:58.320Z"
   },
   {
    "duration": 332,
    "start_time": "2022-06-14T17:42:58.386Z"
   },
   {
    "duration": 3,
    "start_time": "2022-06-14T17:42:58.719Z"
   },
   {
    "duration": 56,
    "start_time": "2022-06-14T17:42:58.723Z"
   },
   {
    "duration": 17,
    "start_time": "2022-06-14T17:42:58.780Z"
   },
   {
    "duration": 19,
    "start_time": "2022-06-14T17:42:58.799Z"
   },
   {
    "duration": 35,
    "start_time": "2022-06-14T17:42:58.819Z"
   },
   {
    "duration": 29,
    "start_time": "2022-06-14T17:42:58.856Z"
   },
   {
    "duration": 47,
    "start_time": "2022-06-14T17:42:58.886Z"
   },
   {
    "duration": 912,
    "start_time": "2022-06-14T20:54:27.786Z"
   },
   {
    "duration": 1329,
    "start_time": "2022-06-14T20:54:28.699Z"
   },
   {
    "duration": 16,
    "start_time": "2022-06-14T20:54:30.031Z"
   },
   {
    "duration": 11,
    "start_time": "2022-06-14T20:54:30.049Z"
   },
   {
    "duration": 49,
    "start_time": "2022-06-14T20:54:30.062Z"
   },
   {
    "duration": 21,
    "start_time": "2022-06-14T20:54:30.113Z"
   },
   {
    "duration": 18,
    "start_time": "2022-06-14T20:54:30.136Z"
   },
   {
    "duration": 98,
    "start_time": "2022-06-14T20:54:30.155Z"
   },
   {
    "duration": 4,
    "start_time": "2022-06-14T20:54:30.255Z"
   },
   {
    "duration": 175,
    "start_time": "2022-06-14T20:54:30.261Z"
   },
   {
    "duration": 9,
    "start_time": "2022-06-14T20:54:30.438Z"
   },
   {
    "duration": 39,
    "start_time": "2022-06-14T20:54:30.449Z"
   },
   {
    "duration": 160,
    "start_time": "2022-06-14T20:54:30.497Z"
   },
   {
    "duration": 35,
    "start_time": "2022-06-14T20:54:30.661Z"
   },
   {
    "duration": 114,
    "start_time": "2022-06-14T20:54:30.698Z"
   },
   {
    "duration": 13,
    "start_time": "2022-06-14T20:54:30.815Z"
   },
   {
    "duration": 65,
    "start_time": "2022-06-14T20:54:30.830Z"
   },
   {
    "duration": 54,
    "start_time": "2022-06-14T20:54:30.896Z"
   },
   {
    "duration": 19,
    "start_time": "2022-06-14T20:54:30.952Z"
   },
   {
    "duration": 59,
    "start_time": "2022-06-14T20:54:30.973Z"
   },
   {
    "duration": 25,
    "start_time": "2022-06-14T20:54:31.034Z"
   },
   {
    "duration": 64,
    "start_time": "2022-06-14T20:54:31.060Z"
   },
   {
    "duration": 7,
    "start_time": "2022-06-14T20:54:31.126Z"
   },
   {
    "duration": 21,
    "start_time": "2022-06-14T20:54:31.135Z"
   },
   {
    "duration": 15,
    "start_time": "2022-06-14T20:54:31.159Z"
   },
   {
    "duration": 62,
    "start_time": "2022-06-14T20:54:31.176Z"
   },
   {
    "duration": 85,
    "start_time": "2022-06-14T20:54:31.240Z"
   },
   {
    "duration": 56,
    "start_time": "2022-06-14T20:54:31.328Z"
   },
   {
    "duration": 66,
    "start_time": "2022-06-14T20:54:31.387Z"
   },
   {
    "duration": 6,
    "start_time": "2022-06-14T20:54:31.455Z"
   },
   {
    "duration": 64,
    "start_time": "2022-06-14T20:54:31.463Z"
   },
   {
    "duration": 18,
    "start_time": "2022-06-14T20:54:31.529Z"
   },
   {
    "duration": 10,
    "start_time": "2022-06-14T20:54:31.549Z"
   },
   {
    "duration": 13,
    "start_time": "2022-06-14T20:54:31.561Z"
   },
   {
    "duration": 70,
    "start_time": "2022-06-14T20:54:31.576Z"
   },
   {
    "duration": 9,
    "start_time": "2022-06-14T20:54:31.648Z"
   },
   {
    "duration": 47,
    "start_time": "2022-06-14T20:54:31.659Z"
   },
   {
    "duration": 9,
    "start_time": "2022-06-14T20:54:31.708Z"
   },
   {
    "duration": 29,
    "start_time": "2022-06-14T20:54:31.719Z"
   },
   {
    "duration": 5,
    "start_time": "2022-06-14T20:54:31.750Z"
   },
   {
    "duration": 49,
    "start_time": "2022-06-14T20:54:31.759Z"
   },
   {
    "duration": 30,
    "start_time": "2022-06-14T20:54:31.811Z"
   },
   {
    "duration": 187,
    "start_time": "2022-06-14T20:54:31.843Z"
   },
   {
    "duration": 38,
    "start_time": "2022-06-14T20:54:32.032Z"
   },
   {
    "duration": 9,
    "start_time": "2022-06-14T20:54:32.073Z"
   },
   {
    "duration": 55,
    "start_time": "2022-06-14T20:54:32.083Z"
   },
   {
    "duration": 32,
    "start_time": "2022-06-14T20:54:32.140Z"
   },
   {
    "duration": 6,
    "start_time": "2022-06-14T20:54:32.174Z"
   },
   {
    "duration": 56,
    "start_time": "2022-06-14T20:54:32.182Z"
   },
   {
    "duration": 14,
    "start_time": "2022-06-14T20:54:32.240Z"
   },
   {
    "duration": 32,
    "start_time": "2022-06-14T20:54:32.256Z"
   },
   {
    "duration": 33,
    "start_time": "2022-06-14T20:54:32.290Z"
   },
   {
    "duration": 23,
    "start_time": "2022-06-14T20:54:32.325Z"
   },
   {
    "duration": 9,
    "start_time": "2022-06-14T20:54:32.350Z"
   },
   {
    "duration": 25,
    "start_time": "2022-06-14T20:54:32.360Z"
   },
   {
    "duration": 44,
    "start_time": "2022-06-14T20:54:32.391Z"
   },
   {
    "duration": 786,
    "start_time": "2022-06-14T20:54:32.436Z"
   },
   {
    "duration": 10,
    "start_time": "2022-06-14T20:54:33.224Z"
   },
   {
    "duration": 56,
    "start_time": "2022-06-14T20:54:33.235Z"
   },
   {
    "duration": 592,
    "start_time": "2022-06-14T20:54:33.297Z"
   },
   {
    "duration": 6,
    "start_time": "2022-06-14T20:54:33.891Z"
   },
   {
    "duration": 54,
    "start_time": "2022-06-14T20:54:33.899Z"
   },
   {
    "duration": 32,
    "start_time": "2022-06-14T20:54:33.954Z"
   },
   {
    "duration": 40,
    "start_time": "2022-06-14T20:54:33.988Z"
   },
   {
    "duration": 27,
    "start_time": "2022-06-14T20:54:34.029Z"
   },
   {
    "duration": 20,
    "start_time": "2022-06-14T20:54:34.058Z"
   },
   {
    "duration": 62,
    "start_time": "2022-06-14T20:54:34.080Z"
   },
   {
    "duration": 10,
    "start_time": "2022-06-14T21:44:50.200Z"
   },
   {
    "duration": 12,
    "start_time": "2022-06-14T21:55:41.212Z"
   },
   {
    "duration": 136,
    "start_time": "2022-06-14T21:55:53.367Z"
   },
   {
    "duration": 15,
    "start_time": "2022-06-14T21:56:19.190Z"
   },
   {
    "duration": 12,
    "start_time": "2022-06-14T21:56:35.539Z"
   },
   {
    "duration": 12,
    "start_time": "2022-06-14T21:56:48.160Z"
   },
   {
    "duration": 14,
    "start_time": "2022-06-14T21:57:03.558Z"
   },
   {
    "duration": 24,
    "start_time": "2022-06-14T21:58:05.386Z"
   },
   {
    "duration": 14,
    "start_time": "2022-06-14T21:59:49.240Z"
   },
   {
    "duration": 11,
    "start_time": "2022-06-14T21:59:55.659Z"
   },
   {
    "duration": 11,
    "start_time": "2022-06-14T22:00:02.831Z"
   },
   {
    "duration": 12,
    "start_time": "2022-06-14T22:00:12.263Z"
   },
   {
    "duration": 12,
    "start_time": "2022-06-14T22:00:21.966Z"
   },
   {
    "duration": 33,
    "start_time": "2022-06-14T22:00:44.067Z"
   },
   {
    "duration": 23,
    "start_time": "2022-06-14T22:00:57.818Z"
   },
   {
    "duration": 20,
    "start_time": "2022-06-14T22:01:27.142Z"
   },
   {
    "duration": 23,
    "start_time": "2022-06-14T22:01:45.949Z"
   },
   {
    "duration": 14,
    "start_time": "2022-06-14T22:02:12.625Z"
   },
   {
    "duration": 868,
    "start_time": "2022-06-14T22:53:18.836Z"
   },
   {
    "duration": 615,
    "start_time": "2022-06-14T22:53:19.706Z"
   },
   {
    "duration": 14,
    "start_time": "2022-06-14T22:53:20.323Z"
   },
   {
    "duration": 11,
    "start_time": "2022-06-14T22:53:20.339Z"
   },
   {
    "duration": 14,
    "start_time": "2022-06-14T22:53:20.351Z"
   },
   {
    "duration": 19,
    "start_time": "2022-06-14T22:53:20.367Z"
   },
   {
    "duration": 9,
    "start_time": "2022-06-14T22:53:20.387Z"
   },
   {
    "duration": 80,
    "start_time": "2022-06-14T22:53:20.398Z"
   },
   {
    "duration": 5,
    "start_time": "2022-06-14T22:53:20.480Z"
   },
   {
    "duration": 110,
    "start_time": "2022-06-14T22:53:20.488Z"
   },
   {
    "duration": 8,
    "start_time": "2022-06-14T22:53:20.599Z"
   },
   {
    "duration": 15,
    "start_time": "2022-06-14T22:53:20.608Z"
   },
   {
    "duration": 111,
    "start_time": "2022-06-14T22:53:20.625Z"
   },
   {
    "duration": 16,
    "start_time": "2022-06-14T22:53:20.738Z"
   },
   {
    "duration": 45,
    "start_time": "2022-06-14T22:53:20.765Z"
   },
   {
    "duration": 9,
    "start_time": "2022-06-14T22:53:20.812Z"
   },
   {
    "duration": 65,
    "start_time": "2022-06-14T22:53:20.823Z"
   },
   {
    "duration": 13,
    "start_time": "2022-06-14T22:53:20.890Z"
   },
   {
    "duration": 18,
    "start_time": "2022-06-14T22:53:20.905Z"
   },
   {
    "duration": 30,
    "start_time": "2022-06-14T22:53:20.925Z"
   },
   {
    "duration": 19,
    "start_time": "2022-06-14T22:53:20.957Z"
   },
   {
    "duration": 21,
    "start_time": "2022-06-14T22:53:20.978Z"
   },
   {
    "duration": 21,
    "start_time": "2022-06-14T22:53:21.001Z"
   },
   {
    "duration": 31,
    "start_time": "2022-06-14T22:53:21.024Z"
   },
   {
    "duration": 14,
    "start_time": "2022-06-14T22:53:21.056Z"
   },
   {
    "duration": 26,
    "start_time": "2022-06-14T22:53:21.072Z"
   },
   {
    "duration": 17,
    "start_time": "2022-06-14T22:53:21.099Z"
   },
   {
    "duration": 15,
    "start_time": "2022-06-14T22:53:21.121Z"
   },
   {
    "duration": 28,
    "start_time": "2022-06-14T22:53:21.138Z"
   },
   {
    "duration": 10,
    "start_time": "2022-06-14T22:53:21.167Z"
   },
   {
    "duration": 29,
    "start_time": "2022-06-14T22:53:21.178Z"
   },
   {
    "duration": 13,
    "start_time": "2022-06-14T22:53:21.209Z"
   },
   {
    "duration": 21,
    "start_time": "2022-06-14T22:53:21.224Z"
   },
   {
    "duration": 16,
    "start_time": "2022-06-14T22:53:21.247Z"
   },
   {
    "duration": 17,
    "start_time": "2022-06-14T22:53:21.264Z"
   },
   {
    "duration": 8,
    "start_time": "2022-06-14T22:53:21.283Z"
   },
   {
    "duration": 5,
    "start_time": "2022-06-14T22:53:21.292Z"
   },
   {
    "duration": 9,
    "start_time": "2022-06-14T22:53:21.298Z"
   },
   {
    "duration": 25,
    "start_time": "2022-06-14T22:53:21.309Z"
   },
   {
    "duration": 4,
    "start_time": "2022-06-14T22:53:21.336Z"
   },
   {
    "duration": 4,
    "start_time": "2022-06-14T22:53:21.365Z"
   },
   {
    "duration": 16,
    "start_time": "2022-06-14T22:53:21.370Z"
   },
   {
    "duration": 162,
    "start_time": "2022-06-14T22:53:21.388Z"
   },
   {
    "duration": 20,
    "start_time": "2022-06-14T22:53:21.552Z"
   },
   {
    "duration": 7,
    "start_time": "2022-06-14T22:53:21.574Z"
   },
   {
    "duration": 12,
    "start_time": "2022-06-14T22:53:21.583Z"
   },
   {
    "duration": 19,
    "start_time": "2022-06-14T22:53:21.597Z"
   },
   {
    "duration": 4,
    "start_time": "2022-06-14T22:53:21.618Z"
   },
   {
    "duration": 13,
    "start_time": "2022-06-14T22:53:21.624Z"
   },
   {
    "duration": 32,
    "start_time": "2022-06-14T22:53:21.638Z"
   },
   {
    "duration": 14,
    "start_time": "2022-06-14T22:53:21.672Z"
   },
   {
    "duration": 6,
    "start_time": "2022-06-14T22:53:21.688Z"
   },
   {
    "duration": 19,
    "start_time": "2022-06-14T22:53:21.695Z"
   },
   {
    "duration": 6,
    "start_time": "2022-06-14T22:53:21.715Z"
   },
   {
    "duration": 5,
    "start_time": "2022-06-14T22:53:21.723Z"
   },
   {
    "duration": 51,
    "start_time": "2022-06-14T22:53:21.729Z"
   },
   {
    "duration": 513,
    "start_time": "2022-06-14T22:53:21.781Z"
   },
   {
    "duration": 10,
    "start_time": "2022-06-14T22:53:22.296Z"
   },
   {
    "duration": 22,
    "start_time": "2022-06-14T22:53:22.307Z"
   },
   {
    "duration": 348,
    "start_time": "2022-06-14T22:53:22.365Z"
   },
   {
    "duration": 4,
    "start_time": "2022-06-14T22:53:22.714Z"
   },
   {
    "duration": 48,
    "start_time": "2022-06-14T22:53:22.719Z"
   },
   {
    "duration": 17,
    "start_time": "2022-06-14T22:53:22.769Z"
   },
   {
    "duration": 4,
    "start_time": "2022-06-14T22:53:22.787Z"
   },
   {
    "duration": 14,
    "start_time": "2022-06-14T22:53:22.792Z"
   },
   {
    "duration": 12,
    "start_time": "2022-06-14T22:53:22.807Z"
   },
   {
    "duration": 51,
    "start_time": "2022-06-14T22:53:22.820Z"
   },
   {
    "duration": 814,
    "start_time": "2022-06-15T08:25:58.890Z"
   },
   {
    "duration": 1962,
    "start_time": "2022-06-15T08:25:59.706Z"
   },
   {
    "duration": 16,
    "start_time": "2022-06-15T08:26:01.670Z"
   },
   {
    "duration": 11,
    "start_time": "2022-06-15T08:26:04.499Z"
   },
   {
    "duration": 11,
    "start_time": "2022-06-15T08:26:04.512Z"
   },
   {
    "duration": 17,
    "start_time": "2022-06-15T08:26:04.525Z"
   },
   {
    "duration": 9,
    "start_time": "2022-06-15T08:26:04.544Z"
   },
   {
    "duration": 75,
    "start_time": "2022-06-15T08:26:04.555Z"
   },
   {
    "duration": 5,
    "start_time": "2022-06-15T08:26:04.632Z"
   },
   {
    "duration": 93,
    "start_time": "2022-06-15T08:26:04.638Z"
   },
   {
    "duration": 8,
    "start_time": "2022-06-15T08:26:04.733Z"
   },
   {
    "duration": 14,
    "start_time": "2022-06-15T08:26:04.743Z"
   },
   {
    "duration": 131,
    "start_time": "2022-06-15T08:26:04.758Z"
   },
   {
    "duration": 15,
    "start_time": "2022-06-15T08:26:05.847Z"
   },
   {
    "duration": 46,
    "start_time": "2022-06-15T08:26:05.863Z"
   },
   {
    "duration": 10,
    "start_time": "2022-06-15T08:26:05.910Z"
   },
   {
    "duration": 33,
    "start_time": "2022-06-15T08:26:05.922Z"
   },
   {
    "duration": 37,
    "start_time": "2022-06-15T08:26:05.957Z"
   },
   {
    "duration": 22,
    "start_time": "2022-06-15T08:26:05.996Z"
   },
   {
    "duration": 12,
    "start_time": "2022-06-15T08:26:06.020Z"
   },
   {
    "duration": 6,
    "start_time": "2022-06-15T08:26:06.034Z"
   },
   {
    "duration": 18,
    "start_time": "2022-06-15T08:26:06.041Z"
   },
   {
    "duration": 6,
    "start_time": "2022-06-15T08:26:06.061Z"
   },
   {
    "duration": 32,
    "start_time": "2022-06-15T08:26:06.070Z"
   },
   {
    "duration": 6,
    "start_time": "2022-06-15T08:26:06.105Z"
   },
   {
    "duration": 15,
    "start_time": "2022-06-15T08:26:06.113Z"
   },
   {
    "duration": 7,
    "start_time": "2022-06-15T08:26:06.130Z"
   },
   {
    "duration": 4,
    "start_time": "2022-06-15T08:26:06.139Z"
   },
   {
    "duration": 19,
    "start_time": "2022-06-15T08:26:06.145Z"
   },
   {
    "duration": 6,
    "start_time": "2022-06-15T08:26:06.195Z"
   },
   {
    "duration": 22,
    "start_time": "2022-06-15T08:26:06.202Z"
   },
   {
    "duration": 6,
    "start_time": "2022-06-15T08:26:06.226Z"
   },
   {
    "duration": 7,
    "start_time": "2022-06-15T08:26:06.234Z"
   },
   {
    "duration": 16,
    "start_time": "2022-06-15T08:26:06.243Z"
   },
   {
    "duration": 39,
    "start_time": "2022-06-15T08:26:06.260Z"
   },
   {
    "duration": 11,
    "start_time": "2022-06-15T08:26:06.301Z"
   },
   {
    "duration": 33,
    "start_time": "2022-06-15T08:26:06.314Z"
   },
   {
    "duration": 44,
    "start_time": "2022-06-15T08:26:06.349Z"
   },
   {
    "duration": 49,
    "start_time": "2022-06-15T08:26:06.395Z"
   },
   {
    "duration": 4,
    "start_time": "2022-06-15T08:26:06.446Z"
   },
   {
    "duration": 14,
    "start_time": "2022-06-15T08:26:06.452Z"
   },
   {
    "duration": 26,
    "start_time": "2022-06-15T08:26:06.468Z"
   },
   {
    "duration": 158,
    "start_time": "2022-06-15T08:26:06.496Z"
   },
   {
    "duration": 15,
    "start_time": "2022-06-15T08:26:06.658Z"
   },
   {
    "duration": 24,
    "start_time": "2022-06-15T08:26:06.674Z"
   },
   {
    "duration": 6,
    "start_time": "2022-06-15T08:26:06.700Z"
   },
   {
    "duration": 23,
    "start_time": "2022-06-15T08:26:06.708Z"
   },
   {
    "duration": 5,
    "start_time": "2022-06-15T08:26:06.733Z"
   },
   {
    "duration": 14,
    "start_time": "2022-06-15T08:26:06.739Z"
   },
   {
    "duration": 13,
    "start_time": "2022-06-15T08:26:06.754Z"
   },
   {
    "duration": 61,
    "start_time": "2022-06-15T08:26:06.795Z"
   },
   {
    "duration": 41,
    "start_time": "2022-06-15T08:26:06.858Z"
   },
   {
    "duration": 46,
    "start_time": "2022-06-15T08:26:06.901Z"
   },
   {
    "duration": 15,
    "start_time": "2022-06-15T08:26:06.949Z"
   },
   {
    "duration": 8,
    "start_time": "2022-06-15T08:26:06.965Z"
   },
   {
    "duration": 26,
    "start_time": "2022-06-15T08:26:06.974Z"
   },
   {
    "duration": 580,
    "start_time": "2022-06-15T08:26:07.001Z"
   },
   {
    "duration": 16,
    "start_time": "2022-06-15T08:26:07.584Z"
   },
   {
    "duration": 25,
    "start_time": "2022-06-15T08:26:07.603Z"
   },
   {
    "duration": 372,
    "start_time": "2022-06-15T08:26:07.630Z"
   },
   {
    "duration": 5,
    "start_time": "2022-06-15T08:26:08.004Z"
   },
   {
    "duration": 29,
    "start_time": "2022-06-15T08:26:08.010Z"
   },
   {
    "duration": 57,
    "start_time": "2022-06-15T08:26:08.043Z"
   },
   {
    "duration": 6,
    "start_time": "2022-06-15T08:26:08.102Z"
   },
   {
    "duration": 17,
    "start_time": "2022-06-15T08:26:08.109Z"
   },
   {
    "duration": 11,
    "start_time": "2022-06-15T08:26:08.128Z"
   },
   {
    "duration": 16,
    "start_time": "2022-06-15T08:26:08.141Z"
   },
   {
    "duration": 512,
    "start_time": "2022-06-15T08:33:41.416Z"
   },
   {
    "duration": 8,
    "start_time": "2022-06-15T08:33:41.930Z"
   },
   {
    "duration": 15,
    "start_time": "2022-06-15T08:33:41.940Z"
   },
   {
    "duration": 15,
    "start_time": "2022-06-15T08:33:41.957Z"
   },
   {
    "duration": 23,
    "start_time": "2022-06-15T08:33:41.974Z"
   },
   {
    "duration": 9,
    "start_time": "2022-06-15T08:33:41.998Z"
   },
   {
    "duration": 59,
    "start_time": "2022-06-15T08:33:42.008Z"
   },
   {
    "duration": 5,
    "start_time": "2022-06-15T08:33:42.069Z"
   },
   {
    "duration": 89,
    "start_time": "2022-06-15T08:33:42.075Z"
   },
   {
    "duration": 7,
    "start_time": "2022-06-15T08:33:42.166Z"
   },
   {
    "duration": 20,
    "start_time": "2022-06-15T08:33:42.175Z"
   },
   {
    "duration": 82,
    "start_time": "2022-06-15T08:33:42.197Z"
   },
   {
    "duration": 22,
    "start_time": "2022-06-15T08:33:42.281Z"
   },
   {
    "duration": 38,
    "start_time": "2022-06-15T08:33:42.308Z"
   },
   {
    "duration": 12,
    "start_time": "2022-06-15T08:33:42.348Z"
   },
   {
    "duration": 50,
    "start_time": "2022-06-15T08:33:42.362Z"
   },
   {
    "duration": 14,
    "start_time": "2022-06-15T08:33:42.414Z"
   },
   {
    "duration": 11,
    "start_time": "2022-06-15T08:33:42.430Z"
   },
   {
    "duration": 11,
    "start_time": "2022-06-15T08:33:42.443Z"
   },
   {
    "duration": 8,
    "start_time": "2022-06-15T08:33:42.456Z"
   },
   {
    "duration": 29,
    "start_time": "2022-06-15T08:33:42.467Z"
   },
   {
    "duration": 17,
    "start_time": "2022-06-15T08:33:42.498Z"
   },
   {
    "duration": 31,
    "start_time": "2022-06-15T08:33:42.517Z"
   },
   {
    "duration": 7,
    "start_time": "2022-06-15T08:33:42.549Z"
   },
   {
    "duration": 12,
    "start_time": "2022-06-15T08:33:42.558Z"
   },
   {
    "duration": 5,
    "start_time": "2022-06-15T08:33:42.572Z"
   },
   {
    "duration": 5,
    "start_time": "2022-06-15T08:33:42.579Z"
   },
   {
    "duration": 15,
    "start_time": "2022-06-15T08:33:42.586Z"
   },
   {
    "duration": 5,
    "start_time": "2022-06-15T08:33:42.603Z"
   },
   {
    "duration": 12,
    "start_time": "2022-06-15T08:33:42.610Z"
   },
   {
    "duration": 5,
    "start_time": "2022-06-15T08:33:42.624Z"
   },
   {
    "duration": 8,
    "start_time": "2022-06-15T08:33:42.631Z"
   },
   {
    "duration": 13,
    "start_time": "2022-06-15T08:33:42.641Z"
   },
   {
    "duration": 39,
    "start_time": "2022-06-15T08:33:42.656Z"
   },
   {
    "duration": 9,
    "start_time": "2022-06-15T08:33:42.697Z"
   },
   {
    "duration": 11,
    "start_time": "2022-06-15T08:33:42.707Z"
   },
   {
    "duration": 8,
    "start_time": "2022-06-15T08:33:42.719Z"
   },
   {
    "duration": 25,
    "start_time": "2022-06-15T08:33:42.728Z"
   },
   {
    "duration": 4,
    "start_time": "2022-06-15T08:33:42.754Z"
   },
   {
    "duration": 10,
    "start_time": "2022-06-15T08:33:42.759Z"
   },
   {
    "duration": 29,
    "start_time": "2022-06-15T08:33:42.770Z"
   },
   {
    "duration": 146,
    "start_time": "2022-06-15T08:33:42.801Z"
   },
   {
    "duration": 16,
    "start_time": "2022-06-15T08:33:42.948Z"
   },
   {
    "duration": 11,
    "start_time": "2022-06-15T08:33:42.966Z"
   },
   {
    "duration": 28,
    "start_time": "2022-06-15T08:33:42.979Z"
   },
   {
    "duration": 37,
    "start_time": "2022-06-15T08:33:43.009Z"
   },
   {
    "duration": 22,
    "start_time": "2022-06-15T08:33:43.047Z"
   },
   {
    "duration": 29,
    "start_time": "2022-06-15T08:33:43.071Z"
   },
   {
    "duration": 15,
    "start_time": "2022-06-15T08:33:43.102Z"
   },
   {
    "duration": 28,
    "start_time": "2022-06-15T08:33:43.119Z"
   },
   {
    "duration": 11,
    "start_time": "2022-06-15T08:33:43.148Z"
   },
   {
    "duration": 22,
    "start_time": "2022-06-15T08:33:43.160Z"
   },
   {
    "duration": 7,
    "start_time": "2022-06-15T08:33:43.183Z"
   },
   {
    "duration": 5,
    "start_time": "2022-06-15T08:33:43.191Z"
   },
   {
    "duration": 23,
    "start_time": "2022-06-15T08:33:43.198Z"
   },
   {
    "duration": 63,
    "start_time": "2022-06-15T08:33:43.222Z"
   },
   {
    "duration": 15,
    "start_time": "2022-06-15T08:33:43.287Z"
   },
   {
    "duration": 25,
    "start_time": "2022-06-15T08:33:43.303Z"
   },
   {
    "duration": 310,
    "start_time": "2022-06-15T08:33:43.329Z"
   },
   {
    "duration": 4,
    "start_time": "2022-06-15T08:33:43.640Z"
   },
   {
    "duration": 31,
    "start_time": "2022-06-15T08:33:43.646Z"
   },
   {
    "duration": 33,
    "start_time": "2022-06-15T08:33:43.679Z"
   },
   {
    "duration": 6,
    "start_time": "2022-06-15T08:33:43.714Z"
   },
   {
    "duration": 32,
    "start_time": "2022-06-15T08:33:43.722Z"
   },
   {
    "duration": 24,
    "start_time": "2022-06-15T08:33:43.756Z"
   },
   {
    "duration": 24,
    "start_time": "2022-06-15T08:33:43.782Z"
   },
   {
    "duration": 6,
    "start_time": "2022-06-15T08:40:33.286Z"
   },
   {
    "duration": 5,
    "start_time": "2022-06-15T08:41:16.237Z"
   },
   {
    "duration": 6,
    "start_time": "2022-06-15T08:50:28.437Z"
   },
   {
    "duration": 16,
    "start_time": "2022-06-15T09:02:03.352Z"
   },
   {
    "duration": 7,
    "start_time": "2022-06-15T09:02:20.134Z"
   },
   {
    "duration": 7,
    "start_time": "2022-06-15T09:02:42.464Z"
   },
   {
    "duration": 17,
    "start_time": "2022-06-15T09:37:59.490Z"
   },
   {
    "duration": 13,
    "start_time": "2022-06-15T09:38:04.946Z"
   },
   {
    "duration": 11,
    "start_time": "2022-06-15T09:38:14.386Z"
   },
   {
    "duration": 139,
    "start_time": "2022-06-15T09:39:10.051Z"
   },
   {
    "duration": 11,
    "start_time": "2022-06-15T09:39:28.788Z"
   },
   {
    "duration": 12,
    "start_time": "2022-06-15T09:40:43.359Z"
   },
   {
    "duration": 11,
    "start_time": "2022-06-15T09:40:50.511Z"
   },
   {
    "duration": 14,
    "start_time": "2022-06-15T09:41:27.443Z"
   },
   {
    "duration": 809,
    "start_time": "2022-06-15T09:45:35.490Z"
   },
   {
    "duration": 526,
    "start_time": "2022-06-15T09:45:36.301Z"
   },
   {
    "duration": 14,
    "start_time": "2022-06-15T09:45:36.829Z"
   },
   {
    "duration": 14,
    "start_time": "2022-06-15T09:45:36.845Z"
   },
   {
    "duration": 11,
    "start_time": "2022-06-15T09:45:36.862Z"
   },
   {
    "duration": 26,
    "start_time": "2022-06-15T09:45:36.875Z"
   },
   {
    "duration": 12,
    "start_time": "2022-06-15T09:45:36.903Z"
   },
   {
    "duration": 52,
    "start_time": "2022-06-15T09:45:36.917Z"
   },
   {
    "duration": 5,
    "start_time": "2022-06-15T09:45:36.970Z"
   },
   {
    "duration": 102,
    "start_time": "2022-06-15T09:45:36.977Z"
   },
   {
    "duration": 15,
    "start_time": "2022-06-15T09:45:37.080Z"
   },
   {
    "duration": 11,
    "start_time": "2022-06-15T09:45:37.096Z"
   },
   {
    "duration": 98,
    "start_time": "2022-06-15T09:45:37.108Z"
   },
   {
    "duration": 14,
    "start_time": "2022-06-15T09:45:37.209Z"
   },
   {
    "duration": 37,
    "start_time": "2022-06-15T09:45:37.225Z"
   },
   {
    "duration": 9,
    "start_time": "2022-06-15T09:45:37.264Z"
   },
   {
    "duration": 30,
    "start_time": "2022-06-15T09:45:37.294Z"
   },
   {
    "duration": 13,
    "start_time": "2022-06-15T09:45:37.325Z"
   },
   {
    "duration": 8,
    "start_time": "2022-06-15T09:45:37.340Z"
   },
   {
    "duration": 12,
    "start_time": "2022-06-15T09:45:37.349Z"
   },
   {
    "duration": 5,
    "start_time": "2022-06-15T09:45:37.362Z"
   },
   {
    "duration": 14,
    "start_time": "2022-06-15T09:45:37.395Z"
   },
   {
    "duration": 7,
    "start_time": "2022-06-15T09:45:37.411Z"
   },
   {
    "duration": 26,
    "start_time": "2022-06-15T09:45:37.420Z"
   },
   {
    "duration": 6,
    "start_time": "2022-06-15T09:45:37.449Z"
   },
   {
    "duration": 25,
    "start_time": "2022-06-15T09:45:37.457Z"
   },
   {
    "duration": 12,
    "start_time": "2022-06-15T09:45:37.486Z"
   },
   {
    "duration": 10,
    "start_time": "2022-06-15T09:45:37.500Z"
   },
   {
    "duration": 29,
    "start_time": "2022-06-15T09:45:37.512Z"
   },
   {
    "duration": 6,
    "start_time": "2022-06-15T09:45:37.543Z"
   },
   {
    "duration": 26,
    "start_time": "2022-06-15T09:45:37.551Z"
   },
   {
    "duration": 14,
    "start_time": "2022-06-15T09:45:37.580Z"
   },
   {
    "duration": 15,
    "start_time": "2022-06-15T09:45:37.596Z"
   },
   {
    "duration": 27,
    "start_time": "2022-06-15T09:45:37.613Z"
   },
   {
    "duration": 27,
    "start_time": "2022-06-15T09:45:37.643Z"
   },
   {
    "duration": 21,
    "start_time": "2022-06-15T09:45:37.673Z"
   },
   {
    "duration": 5,
    "start_time": "2022-06-15T09:45:37.697Z"
   },
   {
    "duration": 12,
    "start_time": "2022-06-15T09:45:37.704Z"
   },
   {
    "duration": 29,
    "start_time": "2022-06-15T09:45:37.718Z"
   },
   {
    "duration": 4,
    "start_time": "2022-06-15T09:45:37.749Z"
   },
   {
    "duration": 5,
    "start_time": "2022-06-15T09:45:37.757Z"
   },
   {
    "duration": 41,
    "start_time": "2022-06-15T09:45:37.764Z"
   },
   {
    "duration": 149,
    "start_time": "2022-06-15T09:45:37.806Z"
   },
   {
    "duration": 14,
    "start_time": "2022-06-15T09:45:37.957Z"
   },
   {
    "duration": 5,
    "start_time": "2022-06-15T09:45:37.973Z"
   },
   {
    "duration": 19,
    "start_time": "2022-06-15T09:45:37.980Z"
   },
   {
    "duration": 18,
    "start_time": "2022-06-15T09:45:38.001Z"
   },
   {
    "duration": 6,
    "start_time": "2022-06-15T09:45:38.021Z"
   },
   {
    "duration": 17,
    "start_time": "2022-06-15T09:45:38.028Z"
   },
   {
    "duration": 14,
    "start_time": "2022-06-15T09:45:38.047Z"
   },
   {
    "duration": 36,
    "start_time": "2022-06-15T09:45:38.063Z"
   },
   {
    "duration": 6,
    "start_time": "2022-06-15T09:45:38.101Z"
   },
   {
    "duration": 17,
    "start_time": "2022-06-15T09:45:38.108Z"
   },
   {
    "duration": 6,
    "start_time": "2022-06-15T09:45:38.127Z"
   },
   {
    "duration": 7,
    "start_time": "2022-06-15T09:45:38.134Z"
   },
   {
    "duration": 20,
    "start_time": "2022-06-15T09:45:38.142Z"
   },
   {
    "duration": 525,
    "start_time": "2022-06-15T09:45:38.163Z"
   },
   {
    "duration": 10,
    "start_time": "2022-06-15T09:45:38.689Z"
   },
   {
    "duration": 20,
    "start_time": "2022-06-15T09:45:38.700Z"
   },
   {
    "duration": 381,
    "start_time": "2022-06-15T09:45:38.722Z"
   },
   {
    "duration": 3,
    "start_time": "2022-06-15T09:45:39.105Z"
   },
   {
    "duration": 33,
    "start_time": "2022-06-15T09:45:39.110Z"
   },
   {
    "duration": 16,
    "start_time": "2022-06-15T09:45:39.145Z"
   },
   {
    "duration": 31,
    "start_time": "2022-06-15T09:45:39.163Z"
   },
   {
    "duration": 15,
    "start_time": "2022-06-15T09:45:39.196Z"
   },
   {
    "duration": 12,
    "start_time": "2022-06-15T09:45:39.213Z"
   },
   {
    "duration": 20,
    "start_time": "2022-06-15T09:45:39.227Z"
   },
   {
    "duration": 817,
    "start_time": "2022-06-15T10:18:26.391Z"
   },
   {
    "duration": 570,
    "start_time": "2022-06-15T10:18:27.210Z"
   },
   {
    "duration": 17,
    "start_time": "2022-06-15T10:18:27.781Z"
   },
   {
    "duration": 14,
    "start_time": "2022-06-15T10:18:27.800Z"
   },
   {
    "duration": 17,
    "start_time": "2022-06-15T10:18:27.816Z"
   },
   {
    "duration": 21,
    "start_time": "2022-06-15T10:18:27.835Z"
   },
   {
    "duration": 8,
    "start_time": "2022-06-15T10:18:27.858Z"
   },
   {
    "duration": 80,
    "start_time": "2022-06-15T10:18:27.868Z"
   },
   {
    "duration": 4,
    "start_time": "2022-06-15T10:18:27.950Z"
   },
   {
    "duration": 98,
    "start_time": "2022-06-15T10:18:27.956Z"
   },
   {
    "duration": 9,
    "start_time": "2022-06-15T10:18:28.057Z"
   },
   {
    "duration": 31,
    "start_time": "2022-06-15T10:18:28.068Z"
   },
   {
    "duration": 93,
    "start_time": "2022-06-15T10:18:28.101Z"
   },
   {
    "duration": 21,
    "start_time": "2022-06-15T10:18:28.199Z"
   },
   {
    "duration": 38,
    "start_time": "2022-06-15T10:18:28.221Z"
   },
   {
    "duration": 9,
    "start_time": "2022-06-15T10:18:28.261Z"
   },
   {
    "duration": 49,
    "start_time": "2022-06-15T10:18:28.272Z"
   },
   {
    "duration": 15,
    "start_time": "2022-06-15T10:18:28.323Z"
   },
   {
    "duration": 8,
    "start_time": "2022-06-15T10:18:28.339Z"
   },
   {
    "duration": 10,
    "start_time": "2022-06-15T10:18:28.349Z"
   },
   {
    "duration": 38,
    "start_time": "2022-06-15T10:18:28.361Z"
   },
   {
    "duration": 14,
    "start_time": "2022-06-15T10:18:28.401Z"
   },
   {
    "duration": 6,
    "start_time": "2022-06-15T10:18:28.416Z"
   },
   {
    "duration": 13,
    "start_time": "2022-06-15T10:18:28.424Z"
   },
   {
    "duration": 8,
    "start_time": "2022-06-15T10:18:28.438Z"
   },
   {
    "duration": 13,
    "start_time": "2022-06-15T10:18:28.448Z"
   },
   {
    "duration": 6,
    "start_time": "2022-06-15T10:18:28.462Z"
   },
   {
    "duration": 28,
    "start_time": "2022-06-15T10:18:28.469Z"
   },
   {
    "duration": 16,
    "start_time": "2022-06-15T10:18:28.498Z"
   },
   {
    "duration": 4,
    "start_time": "2022-06-15T10:18:28.516Z"
   },
   {
    "duration": 10,
    "start_time": "2022-06-15T10:18:28.522Z"
   },
   {
    "duration": 7,
    "start_time": "2022-06-15T10:18:28.534Z"
   },
   {
    "duration": 6,
    "start_time": "2022-06-15T10:18:28.542Z"
   },
   {
    "duration": 11,
    "start_time": "2022-06-15T10:18:28.550Z"
   },
   {
    "duration": 48,
    "start_time": "2022-06-15T10:18:28.562Z"
   },
   {
    "duration": 8,
    "start_time": "2022-06-15T10:18:28.611Z"
   },
   {
    "duration": 4,
    "start_time": "2022-06-15T10:18:28.620Z"
   },
   {
    "duration": 6,
    "start_time": "2022-06-15T10:18:28.625Z"
   },
   {
    "duration": 37,
    "start_time": "2022-06-15T10:18:28.633Z"
   },
   {
    "duration": 5,
    "start_time": "2022-06-15T10:18:28.695Z"
   },
   {
    "duration": 4,
    "start_time": "2022-06-15T10:18:28.705Z"
   },
   {
    "duration": 17,
    "start_time": "2022-06-15T10:18:28.711Z"
   },
   {
    "duration": 149,
    "start_time": "2022-06-15T10:18:28.730Z"
   },
   {
    "duration": 17,
    "start_time": "2022-06-15T10:18:28.880Z"
   },
   {
    "duration": 5,
    "start_time": "2022-06-15T10:18:28.898Z"
   },
   {
    "duration": 8,
    "start_time": "2022-06-15T10:18:28.905Z"
   },
   {
    "duration": 15,
    "start_time": "2022-06-15T10:18:28.915Z"
   },
   {
    "duration": 4,
    "start_time": "2022-06-15T10:18:28.932Z"
   },
   {
    "duration": 12,
    "start_time": "2022-06-15T10:18:28.937Z"
   },
   {
    "duration": 8,
    "start_time": "2022-06-15T10:18:28.950Z"
   },
   {
    "duration": 42,
    "start_time": "2022-06-15T10:18:28.960Z"
   },
   {
    "duration": 6,
    "start_time": "2022-06-15T10:18:29.004Z"
   },
   {
    "duration": 17,
    "start_time": "2022-06-15T10:18:29.012Z"
   },
   {
    "duration": 6,
    "start_time": "2022-06-15T10:18:29.031Z"
   },
   {
    "duration": 6,
    "start_time": "2022-06-15T10:18:29.038Z"
   },
   {
    "duration": 17,
    "start_time": "2022-06-15T10:18:29.046Z"
   },
   {
    "duration": 505,
    "start_time": "2022-06-15T10:18:29.064Z"
   },
   {
    "duration": 26,
    "start_time": "2022-06-15T10:18:29.571Z"
   },
   {
    "duration": 26,
    "start_time": "2022-06-15T10:18:29.599Z"
   },
   {
    "duration": 343,
    "start_time": "2022-06-15T10:18:29.626Z"
   },
   {
    "duration": 3,
    "start_time": "2022-06-15T10:18:29.970Z"
   },
   {
    "duration": 35,
    "start_time": "2022-06-15T10:18:29.975Z"
   },
   {
    "duration": 18,
    "start_time": "2022-06-15T10:18:30.012Z"
   },
   {
    "duration": 4,
    "start_time": "2022-06-15T10:18:30.032Z"
   },
   {
    "duration": 24,
    "start_time": "2022-06-15T10:18:30.037Z"
   },
   {
    "duration": 41,
    "start_time": "2022-06-15T10:18:30.063Z"
   },
   {
    "duration": 26,
    "start_time": "2022-06-15T10:18:30.106Z"
   },
   {
    "duration": 35,
    "start_time": "2022-06-15T10:45:58.677Z"
   },
   {
    "duration": 817,
    "start_time": "2022-06-15T13:47:29.442Z"
   },
   {
    "duration": 953,
    "start_time": "2022-06-15T13:47:30.261Z"
   },
   {
    "duration": 15,
    "start_time": "2022-06-15T13:47:31.215Z"
   },
   {
    "duration": 25,
    "start_time": "2022-06-15T13:47:31.232Z"
   },
   {
    "duration": 27,
    "start_time": "2022-06-15T13:47:31.260Z"
   },
   {
    "duration": 45,
    "start_time": "2022-06-15T13:47:31.289Z"
   },
   {
    "duration": 20,
    "start_time": "2022-06-15T13:47:31.336Z"
   },
   {
    "duration": 103,
    "start_time": "2022-06-15T13:47:31.357Z"
   },
   {
    "duration": 6,
    "start_time": "2022-06-15T13:47:31.461Z"
   },
   {
    "duration": 119,
    "start_time": "2022-06-15T13:47:31.468Z"
   },
   {
    "duration": 8,
    "start_time": "2022-06-15T13:47:31.589Z"
   },
   {
    "duration": 41,
    "start_time": "2022-06-15T13:47:31.598Z"
   },
   {
    "duration": 119,
    "start_time": "2022-06-15T13:47:31.640Z"
   },
   {
    "duration": 15,
    "start_time": "2022-06-15T13:47:31.762Z"
   },
   {
    "duration": 95,
    "start_time": "2022-06-15T13:47:31.779Z"
   },
   {
    "duration": 10,
    "start_time": "2022-06-15T13:47:31.876Z"
   },
   {
    "duration": 54,
    "start_time": "2022-06-15T13:47:31.889Z"
   },
   {
    "duration": 18,
    "start_time": "2022-06-15T13:47:31.944Z"
   },
   {
    "duration": 27,
    "start_time": "2022-06-15T13:47:31.964Z"
   },
   {
    "duration": 31,
    "start_time": "2022-06-15T13:47:31.994Z"
   },
   {
    "duration": 22,
    "start_time": "2022-06-15T13:47:32.027Z"
   },
   {
    "duration": 51,
    "start_time": "2022-06-15T13:47:32.051Z"
   },
   {
    "duration": 23,
    "start_time": "2022-06-15T13:47:32.104Z"
   },
   {
    "duration": 42,
    "start_time": "2022-06-15T13:47:32.129Z"
   },
   {
    "duration": 28,
    "start_time": "2022-06-15T13:47:32.172Z"
   },
   {
    "duration": 23,
    "start_time": "2022-06-15T13:47:32.202Z"
   },
   {
    "duration": 36,
    "start_time": "2022-06-15T13:47:32.226Z"
   },
   {
    "duration": 23,
    "start_time": "2022-06-15T13:47:32.264Z"
   },
   {
    "duration": 31,
    "start_time": "2022-06-15T13:47:32.289Z"
   },
   {
    "duration": 35,
    "start_time": "2022-06-15T13:47:32.321Z"
   },
   {
    "duration": 14,
    "start_time": "2022-06-15T13:47:32.358Z"
   },
   {
    "duration": 5,
    "start_time": "2022-06-15T13:47:32.374Z"
   },
   {
    "duration": 9,
    "start_time": "2022-06-15T13:47:32.381Z"
   },
   {
    "duration": 10,
    "start_time": "2022-06-15T13:47:32.392Z"
   },
   {
    "duration": 16,
    "start_time": "2022-06-15T13:47:32.404Z"
   },
   {
    "duration": 15,
    "start_time": "2022-06-15T13:47:32.422Z"
   },
   {
    "duration": 4,
    "start_time": "2022-06-15T13:47:32.439Z"
   },
   {
    "duration": 10,
    "start_time": "2022-06-15T13:47:32.444Z"
   },
   {
    "duration": 27,
    "start_time": "2022-06-15T13:47:32.455Z"
   },
   {
    "duration": 3,
    "start_time": "2022-06-15T13:47:32.484Z"
   },
   {
    "duration": 10,
    "start_time": "2022-06-15T13:47:32.491Z"
   },
   {
    "duration": 31,
    "start_time": "2022-06-15T13:47:32.503Z"
   },
   {
    "duration": 149,
    "start_time": "2022-06-15T13:47:32.536Z"
   },
   {
    "duration": 15,
    "start_time": "2022-06-15T13:47:32.687Z"
   },
   {
    "duration": 12,
    "start_time": "2022-06-15T13:47:32.703Z"
   },
   {
    "duration": 5,
    "start_time": "2022-06-15T13:47:32.730Z"
   },
   {
    "duration": 25,
    "start_time": "2022-06-15T13:47:32.736Z"
   },
   {
    "duration": 6,
    "start_time": "2022-06-15T13:47:32.763Z"
   },
   {
    "duration": 60,
    "start_time": "2022-06-15T13:47:32.771Z"
   },
   {
    "duration": 20,
    "start_time": "2022-06-15T13:47:32.833Z"
   },
   {
    "duration": 18,
    "start_time": "2022-06-15T13:47:32.854Z"
   },
   {
    "duration": 12,
    "start_time": "2022-06-15T13:47:32.874Z"
   },
   {
    "duration": 20,
    "start_time": "2022-06-15T13:47:32.888Z"
   },
   {
    "duration": 6,
    "start_time": "2022-06-15T13:47:32.910Z"
   },
   {
    "duration": 11,
    "start_time": "2022-06-15T13:47:32.918Z"
   },
   {
    "duration": 25,
    "start_time": "2022-06-15T13:47:32.931Z"
   },
   {
    "duration": 517,
    "start_time": "2022-06-15T13:47:32.958Z"
   },
   {
    "duration": 9,
    "start_time": "2022-06-15T13:47:33.477Z"
   },
   {
    "duration": 56,
    "start_time": "2022-06-15T13:47:33.488Z"
   },
   {
    "duration": 411,
    "start_time": "2022-06-15T13:47:33.546Z"
   },
   {
    "duration": 4,
    "start_time": "2022-06-15T13:47:33.959Z"
   },
   {
    "duration": 27,
    "start_time": "2022-06-15T13:47:33.965Z"
   },
   {
    "duration": 49,
    "start_time": "2022-06-15T13:47:33.994Z"
   },
   {
    "duration": 4,
    "start_time": "2022-06-15T13:47:34.045Z"
   },
   {
    "duration": 21,
    "start_time": "2022-06-15T13:47:34.050Z"
   },
   {
    "duration": 14,
    "start_time": "2022-06-15T13:47:34.072Z"
   },
   {
    "duration": 42,
    "start_time": "2022-06-15T13:47:34.088Z"
   },
   {
    "duration": 160,
    "start_time": "2022-06-15T13:55:14.765Z"
   },
   {
    "duration": 26,
    "start_time": "2022-06-15T13:55:22.769Z"
   },
   {
    "duration": 46,
    "start_time": "2022-06-15T13:55:28.614Z"
   },
   {
    "duration": 28,
    "start_time": "2022-06-15T13:55:38.221Z"
   },
   {
    "duration": 10,
    "start_time": "2022-06-15T13:55:56.237Z"
   },
   {
    "duration": 9,
    "start_time": "2022-06-15T13:56:08.814Z"
   },
   {
    "duration": 26,
    "start_time": "2022-06-15T13:56:43.049Z"
   },
   {
    "duration": 28,
    "start_time": "2022-06-15T13:56:49.656Z"
   },
   {
    "duration": 31,
    "start_time": "2022-06-15T13:56:56.614Z"
   },
   {
    "duration": 25,
    "start_time": "2022-06-15T13:57:23.474Z"
   },
   {
    "duration": 20,
    "start_time": "2022-06-15T13:57:34.034Z"
   },
   {
    "duration": 12,
    "start_time": "2022-06-15T13:59:42.007Z"
   },
   {
    "duration": 42,
    "start_time": "2022-06-15T14:00:55.192Z"
   },
   {
    "duration": 16,
    "start_time": "2022-06-15T14:01:16.193Z"
   },
   {
    "duration": 11,
    "start_time": "2022-06-15T14:01:32.140Z"
   },
   {
    "duration": 11,
    "start_time": "2022-06-15T14:01:39.513Z"
   },
   {
    "duration": 10,
    "start_time": "2022-06-15T14:05:50.231Z"
   },
   {
    "duration": 10,
    "start_time": "2022-06-15T14:06:17.140Z"
   },
   {
    "duration": 8,
    "start_time": "2022-06-15T14:06:49.803Z"
   },
   {
    "duration": 10,
    "start_time": "2022-06-15T14:08:51.550Z"
   },
   {
    "duration": 10,
    "start_time": "2022-06-15T14:09:01.871Z"
   },
   {
    "duration": 9,
    "start_time": "2022-06-15T14:09:20.731Z"
   },
   {
    "duration": 5,
    "start_time": "2022-06-15T14:19:03.129Z"
   },
   {
    "duration": 7,
    "start_time": "2022-06-15T14:20:08.747Z"
   },
   {
    "duration": 813,
    "start_time": "2022-06-15T14:32:36.127Z"
   },
   {
    "duration": 575,
    "start_time": "2022-06-15T14:32:36.942Z"
   },
   {
    "duration": 13,
    "start_time": "2022-06-15T14:32:37.519Z"
   },
   {
    "duration": 14,
    "start_time": "2022-06-15T14:32:37.534Z"
   },
   {
    "duration": 10,
    "start_time": "2022-06-15T14:32:37.549Z"
   },
   {
    "duration": 19,
    "start_time": "2022-06-15T14:32:37.560Z"
   },
   {
    "duration": 7,
    "start_time": "2022-06-15T14:32:37.581Z"
   },
   {
    "duration": 75,
    "start_time": "2022-06-15T14:32:37.590Z"
   },
   {
    "duration": 5,
    "start_time": "2022-06-15T14:32:37.666Z"
   },
   {
    "duration": 107,
    "start_time": "2022-06-15T14:32:37.673Z"
   },
   {
    "duration": 6,
    "start_time": "2022-06-15T14:32:37.782Z"
   },
   {
    "duration": 12,
    "start_time": "2022-06-15T14:32:37.790Z"
   },
   {
    "duration": 113,
    "start_time": "2022-06-15T14:32:37.804Z"
   },
   {
    "duration": 16,
    "start_time": "2022-06-15T14:32:37.919Z"
   },
   {
    "duration": 43,
    "start_time": "2022-06-15T14:32:37.937Z"
   },
   {
    "duration": 9,
    "start_time": "2022-06-15T14:32:37.982Z"
   },
   {
    "duration": 55,
    "start_time": "2022-06-15T14:32:37.992Z"
   },
   {
    "duration": 11,
    "start_time": "2022-06-15T14:32:38.048Z"
   },
   {
    "duration": 7,
    "start_time": "2022-06-15T14:32:38.060Z"
   },
   {
    "duration": 14,
    "start_time": "2022-06-15T14:32:38.068Z"
   },
   {
    "duration": 6,
    "start_time": "2022-06-15T14:32:38.084Z"
   },
   {
    "duration": 39,
    "start_time": "2022-06-15T14:32:38.091Z"
   },
   {
    "duration": 6,
    "start_time": "2022-06-15T14:32:38.132Z"
   },
   {
    "duration": 15,
    "start_time": "2022-06-15T14:32:38.140Z"
   },
   {
    "duration": 13,
    "start_time": "2022-06-15T14:32:38.157Z"
   },
   {
    "duration": 8,
    "start_time": "2022-06-15T14:32:38.172Z"
   },
   {
    "duration": 3,
    "start_time": "2022-06-15T14:32:38.182Z"
   },
   {
    "duration": 40,
    "start_time": "2022-06-15T14:32:38.190Z"
   },
   {
    "duration": 5,
    "start_time": "2022-06-15T14:32:38.232Z"
   },
   {
    "duration": 11,
    "start_time": "2022-06-15T14:32:38.239Z"
   },
   {
    "duration": 5,
    "start_time": "2022-06-15T14:32:38.252Z"
   },
   {
    "duration": 13,
    "start_time": "2022-06-15T14:32:38.258Z"
   },
   {
    "duration": 12,
    "start_time": "2022-06-15T14:32:38.273Z"
   },
   {
    "duration": 45,
    "start_time": "2022-06-15T14:32:38.287Z"
   },
   {
    "duration": 10,
    "start_time": "2022-06-15T14:32:38.334Z"
   },
   {
    "duration": 5,
    "start_time": "2022-06-15T14:32:38.345Z"
   },
   {
    "duration": 11,
    "start_time": "2022-06-15T14:32:38.351Z"
   },
   {
    "duration": 37,
    "start_time": "2022-06-15T14:32:38.363Z"
   },
   {
    "duration": 4,
    "start_time": "2022-06-15T14:32:38.402Z"
   },
   {
    "duration": 21,
    "start_time": "2022-06-15T14:32:38.407Z"
   },
   {
    "duration": 21,
    "start_time": "2022-06-15T14:32:38.429Z"
   },
   {
    "duration": 145,
    "start_time": "2022-06-15T14:32:38.452Z"
   },
   {
    "duration": 17,
    "start_time": "2022-06-15T14:32:38.598Z"
   },
   {
    "duration": 6,
    "start_time": "2022-06-15T14:32:38.628Z"
   },
   {
    "duration": 28,
    "start_time": "2022-06-15T14:32:38.636Z"
   },
   {
    "duration": 34,
    "start_time": "2022-06-15T14:32:38.666Z"
   },
   {
    "duration": 10,
    "start_time": "2022-06-15T14:32:38.702Z"
   },
   {
    "duration": 27,
    "start_time": "2022-06-15T14:32:38.713Z"
   },
   {
    "duration": 27,
    "start_time": "2022-06-15T14:32:38.742Z"
   },
   {
    "duration": 30,
    "start_time": "2022-06-15T14:32:38.770Z"
   },
   {
    "duration": 15,
    "start_time": "2022-06-15T14:32:38.802Z"
   },
   {
    "duration": 32,
    "start_time": "2022-06-15T14:32:38.819Z"
   },
   {
    "duration": 15,
    "start_time": "2022-06-15T14:32:38.852Z"
   },
   {
    "duration": 18,
    "start_time": "2022-06-15T14:32:38.868Z"
   },
   {
    "duration": 41,
    "start_time": "2022-06-15T14:32:38.888Z"
   },
   {
    "duration": 501,
    "start_time": "2022-06-15T14:32:38.931Z"
   },
   {
    "duration": 11,
    "start_time": "2022-06-15T14:32:39.433Z"
   },
   {
    "duration": 91,
    "start_time": "2022-06-15T14:32:39.446Z"
   },
   {
    "duration": 315,
    "start_time": "2022-06-15T14:32:39.539Z"
   },
   {
    "duration": 4,
    "start_time": "2022-06-15T14:32:39.856Z"
   },
   {
    "duration": 31,
    "start_time": "2022-06-15T14:32:39.861Z"
   },
   {
    "duration": 16,
    "start_time": "2022-06-15T14:32:39.928Z"
   },
   {
    "duration": 3,
    "start_time": "2022-06-15T14:32:39.946Z"
   },
   {
    "duration": 14,
    "start_time": "2022-06-15T14:32:39.951Z"
   },
   {
    "duration": 10,
    "start_time": "2022-06-15T14:32:39.966Z"
   },
   {
    "duration": 25,
    "start_time": "2022-06-15T14:32:39.978Z"
   },
   {
    "duration": 520,
    "start_time": "2022-06-15T14:54:37.149Z"
   },
   {
    "duration": 119,
    "start_time": "2022-06-15T14:54:48.823Z"
   },
   {
    "duration": 8,
    "start_time": "2022-06-15T14:54:56.975Z"
   },
   {
    "duration": 13,
    "start_time": "2022-06-15T14:55:00.274Z"
   },
   {
    "duration": 8,
    "start_time": "2022-06-15T14:56:38.743Z"
   },
   {
    "duration": 12,
    "start_time": "2022-06-15T15:08:38.576Z"
   },
   {
    "duration": 5,
    "start_time": "2022-06-15T15:12:23.325Z"
   },
   {
    "duration": 6,
    "start_time": "2022-06-15T15:12:35.498Z"
   },
   {
    "duration": 19,
    "start_time": "2022-06-15T15:13:23.578Z"
   },
   {
    "duration": 5,
    "start_time": "2022-06-15T15:24:44.205Z"
   },
   {
    "duration": 12,
    "start_time": "2022-06-15T15:24:50.890Z"
   },
   {
    "duration": 6,
    "start_time": "2022-06-15T15:25:14.150Z"
   },
   {
    "duration": 127,
    "start_time": "2022-06-15T15:25:15.025Z"
   },
   {
    "duration": 9,
    "start_time": "2022-06-15T15:27:13.365Z"
   },
   {
    "duration": 7,
    "start_time": "2022-06-15T15:28:21.591Z"
   },
   {
    "duration": 29,
    "start_time": "2022-06-15T15:29:11.579Z"
   },
   {
    "duration": 5,
    "start_time": "2022-06-15T15:35:26.932Z"
   },
   {
    "duration": 7,
    "start_time": "2022-06-15T15:35:29.590Z"
   },
   {
    "duration": 8,
    "start_time": "2022-06-15T15:35:38.811Z"
   },
   {
    "duration": 5,
    "start_time": "2022-06-15T15:36:15.342Z"
   },
   {
    "duration": 4,
    "start_time": "2022-06-15T15:36:24.260Z"
   },
   {
    "duration": 9,
    "start_time": "2022-06-15T15:36:36.524Z"
   },
   {
    "duration": 10,
    "start_time": "2022-06-15T15:37:51.138Z"
   },
   {
    "duration": 10,
    "start_time": "2022-06-15T15:40:58.139Z"
   },
   {
    "duration": 9,
    "start_time": "2022-06-15T15:41:59.079Z"
   },
   {
    "duration": 5,
    "start_time": "2022-06-15T16:09:37.366Z"
   },
   {
    "duration": 8,
    "start_time": "2022-06-15T16:09:38.025Z"
   },
   {
    "duration": 10,
    "start_time": "2022-06-15T16:09:59.199Z"
   },
   {
    "duration": 9,
    "start_time": "2022-06-15T16:10:46.578Z"
   },
   {
    "duration": 30,
    "start_time": "2022-06-15T16:43:23.038Z"
   },
   {
    "duration": 18,
    "start_time": "2022-06-15T16:43:37.739Z"
   },
   {
    "duration": 18,
    "start_time": "2022-06-15T16:43:45.196Z"
   },
   {
    "duration": 19,
    "start_time": "2022-06-15T16:43:50.588Z"
   },
   {
    "duration": 10,
    "start_time": "2022-06-15T16:44:03.857Z"
   },
   {
    "duration": 9,
    "start_time": "2022-06-15T16:44:38.238Z"
   },
   {
    "duration": 65,
    "start_time": "2022-06-15T16:53:56.661Z"
   },
   {
    "duration": 8,
    "start_time": "2022-06-15T16:54:09.780Z"
   },
   {
    "duration": 10,
    "start_time": "2022-06-15T16:57:01.983Z"
   },
   {
    "duration": 10,
    "start_time": "2022-06-15T17:02:38.563Z"
   },
   {
    "duration": 11,
    "start_time": "2022-06-15T17:02:57.265Z"
   },
   {
    "duration": 9,
    "start_time": "2022-06-15T17:03:06.159Z"
   },
   {
    "duration": 13,
    "start_time": "2022-06-15T17:08:38.796Z"
   },
   {
    "duration": 17,
    "start_time": "2022-06-15T17:08:59.804Z"
   },
   {
    "duration": 13,
    "start_time": "2022-06-15T17:09:13.904Z"
   },
   {
    "duration": 9,
    "start_time": "2022-06-15T17:09:25.778Z"
   },
   {
    "duration": 10,
    "start_time": "2022-06-15T17:18:09.282Z"
   },
   {
    "duration": 10,
    "start_time": "2022-06-15T17:19:13.154Z"
   },
   {
    "duration": 52,
    "start_time": "2022-06-15T17:25:02.018Z"
   },
   {
    "duration": 10,
    "start_time": "2022-06-15T17:25:10.089Z"
   },
   {
    "duration": 10,
    "start_time": "2022-06-15T17:41:53.254Z"
   },
   {
    "duration": 9,
    "start_time": "2022-06-15T17:47:39.404Z"
   },
   {
    "duration": 10,
    "start_time": "2022-06-15T17:50:00.339Z"
   },
   {
    "duration": 879,
    "start_time": "2022-06-15T17:59:29.905Z"
   },
   {
    "duration": 614,
    "start_time": "2022-06-15T17:59:30.786Z"
   },
   {
    "duration": 15,
    "start_time": "2022-06-15T17:59:31.401Z"
   },
   {
    "duration": 12,
    "start_time": "2022-06-15T17:59:31.418Z"
   },
   {
    "duration": 19,
    "start_time": "2022-06-15T17:59:31.432Z"
   },
   {
    "duration": 21,
    "start_time": "2022-06-15T17:59:31.453Z"
   },
   {
    "duration": 14,
    "start_time": "2022-06-15T17:59:31.476Z"
   },
   {
    "duration": 63,
    "start_time": "2022-06-15T17:59:31.491Z"
   },
   {
    "duration": 6,
    "start_time": "2022-06-15T17:59:31.556Z"
   },
   {
    "duration": 103,
    "start_time": "2022-06-15T17:59:31.563Z"
   },
   {
    "duration": 6,
    "start_time": "2022-06-15T17:59:31.668Z"
   },
   {
    "duration": 15,
    "start_time": "2022-06-15T17:59:31.675Z"
   },
   {
    "duration": 136,
    "start_time": "2022-06-15T17:59:31.692Z"
   },
   {
    "duration": 19,
    "start_time": "2022-06-15T17:59:31.831Z"
   },
   {
    "duration": 56,
    "start_time": "2022-06-15T17:59:31.851Z"
   },
   {
    "duration": 26,
    "start_time": "2022-06-15T17:59:31.908Z"
   },
   {
    "duration": 51,
    "start_time": "2022-06-15T17:59:31.936Z"
   },
   {
    "duration": 16,
    "start_time": "2022-06-15T17:59:31.989Z"
   },
   {
    "duration": 12,
    "start_time": "2022-06-15T17:59:32.007Z"
   },
   {
    "duration": 25,
    "start_time": "2022-06-15T17:59:32.020Z"
   },
   {
    "duration": 8,
    "start_time": "2022-06-15T17:59:32.047Z"
   },
   {
    "duration": 26,
    "start_time": "2022-06-15T17:59:32.057Z"
   },
   {
    "duration": 11,
    "start_time": "2022-06-15T17:59:32.085Z"
   },
   {
    "duration": 10,
    "start_time": "2022-06-15T17:59:32.098Z"
   },
   {
    "duration": 100,
    "start_time": "2022-06-15T17:59:32.110Z"
   },
   {
    "duration": 0,
    "start_time": "2022-06-15T17:59:32.212Z"
   },
   {
    "duration": 0,
    "start_time": "2022-06-15T17:59:32.213Z"
   },
   {
    "duration": 0,
    "start_time": "2022-06-15T17:59:32.214Z"
   },
   {
    "duration": 0,
    "start_time": "2022-06-15T17:59:32.216Z"
   },
   {
    "duration": 0,
    "start_time": "2022-06-15T17:59:32.217Z"
   },
   {
    "duration": 0,
    "start_time": "2022-06-15T17:59:32.228Z"
   },
   {
    "duration": 0,
    "start_time": "2022-06-15T17:59:32.230Z"
   },
   {
    "duration": 0,
    "start_time": "2022-06-15T17:59:32.230Z"
   },
   {
    "duration": 0,
    "start_time": "2022-06-15T17:59:32.231Z"
   },
   {
    "duration": 0,
    "start_time": "2022-06-15T17:59:32.232Z"
   },
   {
    "duration": 1,
    "start_time": "2022-06-15T17:59:32.233Z"
   },
   {
    "duration": 0,
    "start_time": "2022-06-15T17:59:32.235Z"
   },
   {
    "duration": 0,
    "start_time": "2022-06-15T17:59:32.235Z"
   },
   {
    "duration": 0,
    "start_time": "2022-06-15T17:59:32.236Z"
   },
   {
    "duration": 0,
    "start_time": "2022-06-15T17:59:32.237Z"
   },
   {
    "duration": 0,
    "start_time": "2022-06-15T17:59:32.239Z"
   },
   {
    "duration": 0,
    "start_time": "2022-06-15T17:59:32.240Z"
   },
   {
    "duration": 0,
    "start_time": "2022-06-15T17:59:32.241Z"
   },
   {
    "duration": 0,
    "start_time": "2022-06-15T17:59:32.242Z"
   },
   {
    "duration": 0,
    "start_time": "2022-06-15T17:59:32.243Z"
   },
   {
    "duration": 0,
    "start_time": "2022-06-15T17:59:32.244Z"
   },
   {
    "duration": 0,
    "start_time": "2022-06-15T17:59:32.245Z"
   },
   {
    "duration": 0,
    "start_time": "2022-06-15T17:59:32.246Z"
   },
   {
    "duration": 0,
    "start_time": "2022-06-15T17:59:32.247Z"
   },
   {
    "duration": 0,
    "start_time": "2022-06-15T17:59:32.248Z"
   },
   {
    "duration": 0,
    "start_time": "2022-06-15T17:59:32.249Z"
   },
   {
    "duration": 0,
    "start_time": "2022-06-15T17:59:32.250Z"
   },
   {
    "duration": 0,
    "start_time": "2022-06-15T17:59:32.251Z"
   },
   {
    "duration": 0,
    "start_time": "2022-06-15T17:59:32.253Z"
   },
   {
    "duration": 0,
    "start_time": "2022-06-15T17:59:32.253Z"
   },
   {
    "duration": 0,
    "start_time": "2022-06-15T17:59:32.254Z"
   },
   {
    "duration": 0,
    "start_time": "2022-06-15T17:59:32.255Z"
   },
   {
    "duration": 0,
    "start_time": "2022-06-15T17:59:32.256Z"
   },
   {
    "duration": 0,
    "start_time": "2022-06-15T17:59:32.257Z"
   },
   {
    "duration": 0,
    "start_time": "2022-06-15T17:59:32.258Z"
   },
   {
    "duration": 0,
    "start_time": "2022-06-15T17:59:32.258Z"
   },
   {
    "duration": 0,
    "start_time": "2022-06-15T17:59:32.260Z"
   },
   {
    "duration": 0,
    "start_time": "2022-06-15T17:59:32.260Z"
   },
   {
    "duration": 0,
    "start_time": "2022-06-15T17:59:32.261Z"
   },
   {
    "duration": 0,
    "start_time": "2022-06-15T17:59:32.262Z"
   },
   {
    "duration": 0,
    "start_time": "2022-06-15T17:59:32.263Z"
   },
   {
    "duration": 0,
    "start_time": "2022-06-15T17:59:32.329Z"
   },
   {
    "duration": 0,
    "start_time": "2022-06-15T17:59:32.330Z"
   },
   {
    "duration": 0,
    "start_time": "2022-06-15T17:59:32.332Z"
   },
   {
    "duration": 10,
    "start_time": "2022-06-15T18:01:24.276Z"
   },
   {
    "duration": 18,
    "start_time": "2022-06-15T18:02:04.317Z"
   },
   {
    "duration": 872,
    "start_time": "2022-06-15T18:03:29.094Z"
   },
   {
    "duration": 617,
    "start_time": "2022-06-15T18:03:29.968Z"
   },
   {
    "duration": 14,
    "start_time": "2022-06-15T18:03:30.587Z"
   },
   {
    "duration": 16,
    "start_time": "2022-06-15T18:03:30.603Z"
   },
   {
    "duration": 51,
    "start_time": "2022-06-15T18:03:30.620Z"
   },
   {
    "duration": 48,
    "start_time": "2022-06-15T18:03:30.672Z"
   },
   {
    "duration": 45,
    "start_time": "2022-06-15T18:03:30.722Z"
   },
   {
    "duration": 87,
    "start_time": "2022-06-15T18:03:30.769Z"
   },
   {
    "duration": 5,
    "start_time": "2022-06-15T18:03:30.858Z"
   },
   {
    "duration": 123,
    "start_time": "2022-06-15T18:03:30.865Z"
   },
   {
    "duration": 7,
    "start_time": "2022-06-15T18:03:30.990Z"
   },
   {
    "duration": 20,
    "start_time": "2022-06-15T18:03:30.999Z"
   },
   {
    "duration": 110,
    "start_time": "2022-06-15T18:03:31.021Z"
   },
   {
    "duration": 28,
    "start_time": "2022-06-15T18:03:31.134Z"
   },
   {
    "duration": 66,
    "start_time": "2022-06-15T18:03:31.164Z"
   },
   {
    "duration": 22,
    "start_time": "2022-06-15T18:03:31.233Z"
   },
   {
    "duration": 39,
    "start_time": "2022-06-15T18:03:31.256Z"
   },
   {
    "duration": 14,
    "start_time": "2022-06-15T18:03:31.297Z"
   },
   {
    "duration": 30,
    "start_time": "2022-06-15T18:03:31.312Z"
   },
   {
    "duration": 32,
    "start_time": "2022-06-15T18:03:31.345Z"
   },
   {
    "duration": 8,
    "start_time": "2022-06-15T18:03:31.379Z"
   },
   {
    "duration": 32,
    "start_time": "2022-06-15T18:03:31.389Z"
   },
   {
    "duration": 11,
    "start_time": "2022-06-15T18:03:31.422Z"
   },
   {
    "duration": 26,
    "start_time": "2022-06-15T18:03:31.436Z"
   },
   {
    "duration": 13,
    "start_time": "2022-06-15T18:03:31.464Z"
   },
   {
    "duration": 18,
    "start_time": "2022-06-15T18:03:31.478Z"
   },
   {
    "duration": 25,
    "start_time": "2022-06-15T18:03:31.497Z"
   },
   {
    "duration": 23,
    "start_time": "2022-06-15T18:03:31.525Z"
   },
   {
    "duration": 10,
    "start_time": "2022-06-15T18:03:31.550Z"
   },
   {
    "duration": 24,
    "start_time": "2022-06-15T18:03:31.561Z"
   },
   {
    "duration": 5,
    "start_time": "2022-06-15T18:03:31.586Z"
   },
   {
    "duration": 19,
    "start_time": "2022-06-15T18:03:31.593Z"
   },
   {
    "duration": 7,
    "start_time": "2022-06-15T18:03:31.614Z"
   },
   {
    "duration": 23,
    "start_time": "2022-06-15T18:03:31.623Z"
   },
   {
    "duration": 15,
    "start_time": "2022-06-15T18:03:31.649Z"
   },
   {
    "duration": 21,
    "start_time": "2022-06-15T18:03:31.666Z"
   },
   {
    "duration": 27,
    "start_time": "2022-06-15T18:03:31.688Z"
   },
   {
    "duration": 16,
    "start_time": "2022-06-15T18:03:31.717Z"
   },
   {
    "duration": 27,
    "start_time": "2022-06-15T18:03:31.735Z"
   },
   {
    "duration": 39,
    "start_time": "2022-06-15T18:03:31.763Z"
   },
   {
    "duration": 4,
    "start_time": "2022-06-15T18:03:31.804Z"
   },
   {
    "duration": 8,
    "start_time": "2022-06-15T18:03:31.809Z"
   },
   {
    "duration": 19,
    "start_time": "2022-06-15T18:03:31.819Z"
   },
   {
    "duration": 219,
    "start_time": "2022-06-15T18:03:31.839Z"
   },
   {
    "duration": 19,
    "start_time": "2022-06-15T18:03:32.060Z"
   },
   {
    "duration": 12,
    "start_time": "2022-06-15T18:03:32.080Z"
   },
   {
    "duration": 23,
    "start_time": "2022-06-15T18:03:32.094Z"
   },
   {
    "duration": 34,
    "start_time": "2022-06-15T18:03:32.119Z"
   },
   {
    "duration": 6,
    "start_time": "2022-06-15T18:03:32.155Z"
   },
   {
    "duration": 18,
    "start_time": "2022-06-15T18:03:32.162Z"
   },
   {
    "duration": 13,
    "start_time": "2022-06-15T18:03:32.182Z"
   },
   {
    "duration": 16,
    "start_time": "2022-06-15T18:03:32.197Z"
   },
   {
    "duration": 21,
    "start_time": "2022-06-15T18:03:32.215Z"
   },
   {
    "duration": 20,
    "start_time": "2022-06-15T18:03:32.240Z"
   },
   {
    "duration": 9,
    "start_time": "2022-06-15T18:03:32.262Z"
   },
   {
    "duration": 7,
    "start_time": "2022-06-15T18:03:32.272Z"
   },
   {
    "duration": 35,
    "start_time": "2022-06-15T18:03:32.281Z"
   },
   {
    "duration": 538,
    "start_time": "2022-06-15T18:03:32.318Z"
   },
   {
    "duration": 12,
    "start_time": "2022-06-15T18:03:32.859Z"
   },
   {
    "duration": 65,
    "start_time": "2022-06-15T18:03:32.873Z"
   },
   {
    "duration": 417,
    "start_time": "2022-06-15T18:03:32.941Z"
   },
   {
    "duration": 6,
    "start_time": "2022-06-15T18:03:33.360Z"
   },
   {
    "duration": 25,
    "start_time": "2022-06-15T18:03:33.368Z"
   },
   {
    "duration": 53,
    "start_time": "2022-06-15T18:03:33.394Z"
   },
   {
    "duration": 5,
    "start_time": "2022-06-15T18:03:33.449Z"
   },
   {
    "duration": 15,
    "start_time": "2022-06-15T18:03:33.456Z"
   },
   {
    "duration": 14,
    "start_time": "2022-06-15T18:03:33.473Z"
   },
   {
    "duration": 47,
    "start_time": "2022-06-15T18:03:33.489Z"
   },
   {
    "duration": 890,
    "start_time": "2022-06-15T18:07:32.161Z"
   },
   {
    "duration": 628,
    "start_time": "2022-06-15T18:07:33.053Z"
   },
   {
    "duration": 18,
    "start_time": "2022-06-15T18:07:33.683Z"
   },
   {
    "duration": 24,
    "start_time": "2022-06-15T18:07:33.703Z"
   },
   {
    "duration": 31,
    "start_time": "2022-06-15T18:07:33.728Z"
   },
   {
    "duration": 57,
    "start_time": "2022-06-15T18:07:33.761Z"
   },
   {
    "duration": 22,
    "start_time": "2022-06-15T18:07:33.821Z"
   },
   {
    "duration": 103,
    "start_time": "2022-06-15T18:07:33.845Z"
   },
   {
    "duration": 5,
    "start_time": "2022-06-15T18:07:33.951Z"
   },
   {
    "duration": 102,
    "start_time": "2022-06-15T18:07:33.959Z"
   },
   {
    "duration": 7,
    "start_time": "2022-06-15T18:07:34.063Z"
   },
   {
    "duration": 16,
    "start_time": "2022-06-15T18:07:34.073Z"
   },
   {
    "duration": 108,
    "start_time": "2022-06-15T18:07:34.090Z"
   },
   {
    "duration": 15,
    "start_time": "2022-06-15T18:07:34.200Z"
   },
   {
    "duration": 51,
    "start_time": "2022-06-15T18:07:34.217Z"
   },
   {
    "duration": 9,
    "start_time": "2022-06-15T18:07:34.270Z"
   },
   {
    "duration": 48,
    "start_time": "2022-06-15T18:07:34.281Z"
   },
   {
    "duration": 14,
    "start_time": "2022-06-15T18:07:34.330Z"
   },
   {
    "duration": 10,
    "start_time": "2022-06-15T18:07:34.345Z"
   },
   {
    "duration": 17,
    "start_time": "2022-06-15T18:07:34.356Z"
   },
   {
    "duration": 20,
    "start_time": "2022-06-15T18:07:34.375Z"
   },
   {
    "duration": 26,
    "start_time": "2022-06-15T18:07:34.397Z"
   },
   {
    "duration": 27,
    "start_time": "2022-06-15T18:07:34.425Z"
   },
   {
    "duration": 19,
    "start_time": "2022-06-15T18:07:34.454Z"
   },
   {
    "duration": 11,
    "start_time": "2022-06-15T18:07:34.475Z"
   },
   {
    "duration": 14,
    "start_time": "2022-06-15T18:07:34.488Z"
   },
   {
    "duration": 11,
    "start_time": "2022-06-15T18:07:34.504Z"
   },
   {
    "duration": 11,
    "start_time": "2022-06-15T18:07:34.518Z"
   },
   {
    "duration": 14,
    "start_time": "2022-06-15T18:07:34.532Z"
   },
   {
    "duration": 20,
    "start_time": "2022-06-15T18:07:34.548Z"
   },
   {
    "duration": 5,
    "start_time": "2022-06-15T18:07:34.570Z"
   },
   {
    "duration": 11,
    "start_time": "2022-06-15T18:07:34.577Z"
   },
   {
    "duration": 5,
    "start_time": "2022-06-15T18:07:34.590Z"
   },
   {
    "duration": 8,
    "start_time": "2022-06-15T18:07:34.597Z"
   },
   {
    "duration": 33,
    "start_time": "2022-06-15T18:07:34.607Z"
   },
   {
    "duration": 27,
    "start_time": "2022-06-15T18:07:34.643Z"
   },
   {
    "duration": 9,
    "start_time": "2022-06-15T18:07:34.672Z"
   },
   {
    "duration": 6,
    "start_time": "2022-06-15T18:07:34.682Z"
   },
   {
    "duration": 9,
    "start_time": "2022-06-15T18:07:34.690Z"
   },
   {
    "duration": 54,
    "start_time": "2022-06-15T18:07:34.700Z"
   },
   {
    "duration": 4,
    "start_time": "2022-06-15T18:07:34.755Z"
   },
   {
    "duration": 7,
    "start_time": "2022-06-15T18:07:34.761Z"
   },
   {
    "duration": 19,
    "start_time": "2022-06-15T18:07:34.769Z"
   },
   {
    "duration": 191,
    "start_time": "2022-06-15T18:07:34.790Z"
   },
   {
    "duration": 17,
    "start_time": "2022-06-15T18:07:34.982Z"
   },
   {
    "duration": 6,
    "start_time": "2022-06-15T18:07:35.000Z"
   },
   {
    "duration": 22,
    "start_time": "2022-06-15T18:07:35.008Z"
   },
   {
    "duration": 41,
    "start_time": "2022-06-15T18:07:35.032Z"
   },
   {
    "duration": 6,
    "start_time": "2022-06-15T18:07:35.075Z"
   },
   {
    "duration": 16,
    "start_time": "2022-06-15T18:07:35.082Z"
   },
   {
    "duration": 11,
    "start_time": "2022-06-15T18:07:35.100Z"
   },
   {
    "duration": 20,
    "start_time": "2022-06-15T18:07:35.113Z"
   },
   {
    "duration": 14,
    "start_time": "2022-06-15T18:07:35.136Z"
   },
   {
    "duration": 18,
    "start_time": "2022-06-15T18:07:35.151Z"
   },
   {
    "duration": 7,
    "start_time": "2022-06-15T18:07:35.171Z"
   },
   {
    "duration": 7,
    "start_time": "2022-06-15T18:07:35.179Z"
   },
   {
    "duration": 18,
    "start_time": "2022-06-15T18:07:35.187Z"
   },
   {
    "duration": 557,
    "start_time": "2022-06-15T18:07:35.227Z"
   },
   {
    "duration": 17,
    "start_time": "2022-06-15T18:07:35.786Z"
   },
   {
    "duration": 28,
    "start_time": "2022-06-15T18:07:35.826Z"
   },
   {
    "duration": 410,
    "start_time": "2022-06-15T18:07:35.856Z"
   },
   {
    "duration": 4,
    "start_time": "2022-06-15T18:07:36.268Z"
   },
   {
    "duration": 59,
    "start_time": "2022-06-15T18:07:36.274Z"
   },
   {
    "duration": 27,
    "start_time": "2022-06-15T18:07:36.336Z"
   },
   {
    "duration": 6,
    "start_time": "2022-06-15T18:07:36.365Z"
   },
   {
    "duration": 20,
    "start_time": "2022-06-15T18:07:36.373Z"
   },
   {
    "duration": 44,
    "start_time": "2022-06-15T18:07:36.395Z"
   },
   {
    "duration": 28,
    "start_time": "2022-06-15T18:07:36.442Z"
   },
   {
    "duration": 1015,
    "start_time": "2022-06-15T18:19:16.470Z"
   },
   {
    "duration": 793,
    "start_time": "2022-06-15T18:19:17.487Z"
   },
   {
    "duration": 21,
    "start_time": "2022-06-15T18:19:18.281Z"
   },
   {
    "duration": 14,
    "start_time": "2022-06-15T18:19:18.309Z"
   },
   {
    "duration": 38,
    "start_time": "2022-06-15T18:19:18.326Z"
   },
   {
    "duration": 32,
    "start_time": "2022-06-15T18:19:18.367Z"
   },
   {
    "duration": 10,
    "start_time": "2022-06-15T18:19:18.401Z"
   },
   {
    "duration": 107,
    "start_time": "2022-06-15T18:19:18.413Z"
   },
   {
    "duration": 7,
    "start_time": "2022-06-15T18:19:18.522Z"
   },
   {
    "duration": 134,
    "start_time": "2022-06-15T18:19:18.531Z"
   },
   {
    "duration": 8,
    "start_time": "2022-06-15T18:19:18.667Z"
   },
   {
    "duration": 13,
    "start_time": "2022-06-15T18:19:18.677Z"
   },
   {
    "duration": 145,
    "start_time": "2022-06-15T18:19:18.692Z"
   },
   {
    "duration": 28,
    "start_time": "2022-06-15T18:19:18.841Z"
   },
   {
    "duration": 89,
    "start_time": "2022-06-15T18:19:18.872Z"
   },
   {
    "duration": 12,
    "start_time": "2022-06-15T18:19:18.964Z"
   },
   {
    "duration": 49,
    "start_time": "2022-06-15T18:19:18.978Z"
   },
   {
    "duration": 44,
    "start_time": "2022-06-15T18:19:19.029Z"
   },
   {
    "duration": 12,
    "start_time": "2022-06-15T18:19:19.075Z"
   },
   {
    "duration": 18,
    "start_time": "2022-06-15T18:19:19.089Z"
   },
   {
    "duration": 18,
    "start_time": "2022-06-15T18:19:19.111Z"
   },
   {
    "duration": 51,
    "start_time": "2022-06-15T18:19:19.134Z"
   },
   {
    "duration": 11,
    "start_time": "2022-06-15T18:19:19.187Z"
   },
   {
    "duration": 24,
    "start_time": "2022-06-15T18:19:19.200Z"
   },
   {
    "duration": 11,
    "start_time": "2022-06-15T18:19:19.226Z"
   },
   {
    "duration": 68,
    "start_time": "2022-06-15T18:19:19.239Z"
   },
   {
    "duration": 11,
    "start_time": "2022-06-15T18:19:19.309Z"
   },
   {
    "duration": 5,
    "start_time": "2022-06-15T18:19:19.323Z"
   },
   {
    "duration": 47,
    "start_time": "2022-06-15T18:19:19.330Z"
   },
   {
    "duration": 27,
    "start_time": "2022-06-15T18:19:19.383Z"
   },
   {
    "duration": 6,
    "start_time": "2022-06-15T18:19:19.412Z"
   },
   {
    "duration": 14,
    "start_time": "2022-06-15T18:19:19.420Z"
   },
   {
    "duration": 39,
    "start_time": "2022-06-15T18:19:19.436Z"
   },
   {
    "duration": 11,
    "start_time": "2022-06-15T18:19:19.479Z"
   },
   {
    "duration": 11,
    "start_time": "2022-06-15T18:19:19.492Z"
   },
   {
    "duration": 18,
    "start_time": "2022-06-15T18:19:19.504Z"
   },
   {
    "duration": 15,
    "start_time": "2022-06-15T18:19:19.524Z"
   },
   {
    "duration": 23,
    "start_time": "2022-06-15T18:19:19.543Z"
   },
   {
    "duration": 17,
    "start_time": "2022-06-15T18:19:19.568Z"
   },
   {
    "duration": 42,
    "start_time": "2022-06-15T18:19:19.587Z"
   },
   {
    "duration": 5,
    "start_time": "2022-06-15T18:19:19.634Z"
   },
   {
    "duration": 31,
    "start_time": "2022-06-15T18:19:19.641Z"
   },
   {
    "duration": 27,
    "start_time": "2022-06-15T18:19:19.674Z"
   },
   {
    "duration": 230,
    "start_time": "2022-06-15T18:19:19.704Z"
   },
   {
    "duration": 29,
    "start_time": "2022-06-15T18:19:19.935Z"
   },
   {
    "duration": 15,
    "start_time": "2022-06-15T18:19:19.966Z"
   },
   {
    "duration": 7,
    "start_time": "2022-06-15T18:19:19.983Z"
   },
   {
    "duration": 44,
    "start_time": "2022-06-15T18:19:19.993Z"
   },
   {
    "duration": 7,
    "start_time": "2022-06-15T18:19:20.039Z"
   },
   {
    "duration": 26,
    "start_time": "2022-06-15T18:19:20.047Z"
   },
   {
    "duration": 13,
    "start_time": "2022-06-15T18:19:20.076Z"
   },
   {
    "duration": 16,
    "start_time": "2022-06-15T18:19:20.091Z"
   },
   {
    "duration": 20,
    "start_time": "2022-06-15T18:19:20.109Z"
   },
   {
    "duration": 23,
    "start_time": "2022-06-15T18:19:20.131Z"
   },
   {
    "duration": 11,
    "start_time": "2022-06-15T18:19:20.156Z"
   },
   {
    "duration": 6,
    "start_time": "2022-06-15T18:19:20.169Z"
   },
   {
    "duration": 53,
    "start_time": "2022-06-15T18:19:20.177Z"
   },
   {
    "duration": 639,
    "start_time": "2022-06-15T18:19:20.238Z"
   },
   {
    "duration": 10,
    "start_time": "2022-06-15T18:19:20.880Z"
   },
   {
    "duration": 57,
    "start_time": "2022-06-15T18:19:20.892Z"
   },
   {
    "duration": 471,
    "start_time": "2022-06-15T18:19:20.955Z"
   },
   {
    "duration": 4,
    "start_time": "2022-06-15T18:19:21.428Z"
   },
   {
    "duration": 58,
    "start_time": "2022-06-15T18:19:21.434Z"
   },
   {
    "duration": 37,
    "start_time": "2022-06-15T18:19:21.494Z"
   },
   {
    "duration": 23,
    "start_time": "2022-06-15T18:19:21.533Z"
   },
   {
    "duration": 40,
    "start_time": "2022-06-15T18:19:21.558Z"
   },
   {
    "duration": 19,
    "start_time": "2022-06-15T18:19:21.599Z"
   },
   {
    "duration": 40,
    "start_time": "2022-06-15T18:19:21.620Z"
   },
   {
    "duration": 839,
    "start_time": "2022-06-15T18:27:19.300Z"
   },
   {
    "duration": 631,
    "start_time": "2022-06-15T18:27:20.141Z"
   },
   {
    "duration": 15,
    "start_time": "2022-06-15T18:27:20.774Z"
   },
   {
    "duration": 10,
    "start_time": "2022-06-15T18:27:20.790Z"
   },
   {
    "duration": 10,
    "start_time": "2022-06-15T18:27:20.803Z"
   },
   {
    "duration": 26,
    "start_time": "2022-06-15T18:27:20.815Z"
   },
   {
    "duration": 9,
    "start_time": "2022-06-15T18:27:20.843Z"
   },
   {
    "duration": 64,
    "start_time": "2022-06-15T18:27:20.854Z"
   },
   {
    "duration": 11,
    "start_time": "2022-06-15T18:27:20.920Z"
   },
   {
    "duration": 103,
    "start_time": "2022-06-15T18:27:20.933Z"
   },
   {
    "duration": 10,
    "start_time": "2022-06-15T18:27:21.038Z"
   },
   {
    "duration": 21,
    "start_time": "2022-06-15T18:27:21.050Z"
   },
   {
    "duration": 121,
    "start_time": "2022-06-15T18:27:21.073Z"
   },
   {
    "duration": 17,
    "start_time": "2022-06-15T18:27:21.198Z"
   },
   {
    "duration": 79,
    "start_time": "2022-06-15T18:27:21.226Z"
   },
   {
    "duration": 25,
    "start_time": "2022-06-15T18:27:21.307Z"
   },
   {
    "duration": 39,
    "start_time": "2022-06-15T18:27:21.334Z"
   },
   {
    "duration": 13,
    "start_time": "2022-06-15T18:27:21.375Z"
   },
   {
    "duration": 9,
    "start_time": "2022-06-15T18:27:21.390Z"
   },
   {
    "duration": 31,
    "start_time": "2022-06-15T18:27:21.400Z"
   },
   {
    "duration": 8,
    "start_time": "2022-06-15T18:27:21.434Z"
   },
   {
    "duration": 19,
    "start_time": "2022-06-15T18:27:21.444Z"
   },
   {
    "duration": 8,
    "start_time": "2022-06-15T18:27:21.465Z"
   },
   {
    "duration": 14,
    "start_time": "2022-06-15T18:27:21.474Z"
   },
   {
    "duration": 11,
    "start_time": "2022-06-15T18:27:21.490Z"
   },
   {
    "duration": 29,
    "start_time": "2022-06-15T18:27:21.503Z"
   },
   {
    "duration": 10,
    "start_time": "2022-06-15T18:27:21.534Z"
   },
   {
    "duration": 6,
    "start_time": "2022-06-15T18:27:21.546Z"
   },
   {
    "duration": 19,
    "start_time": "2022-06-15T18:27:21.553Z"
   },
   {
    "duration": 10,
    "start_time": "2022-06-15T18:27:21.574Z"
   },
   {
    "duration": 9,
    "start_time": "2022-06-15T18:27:21.586Z"
   },
   {
    "duration": 31,
    "start_time": "2022-06-15T18:27:21.597Z"
   },
   {
    "duration": 6,
    "start_time": "2022-06-15T18:27:21.629Z"
   },
   {
    "duration": 13,
    "start_time": "2022-06-15T18:27:21.636Z"
   },
   {
    "duration": 26,
    "start_time": "2022-06-15T18:27:21.651Z"
   },
   {
    "duration": 26,
    "start_time": "2022-06-15T18:27:21.678Z"
   },
   {
    "duration": 23,
    "start_time": "2022-06-15T18:27:21.706Z"
   },
   {
    "duration": 11,
    "start_time": "2022-06-15T18:27:21.731Z"
   },
   {
    "duration": 14,
    "start_time": "2022-06-15T18:27:21.744Z"
   },
   {
    "duration": 51,
    "start_time": "2022-06-15T18:27:21.760Z"
   },
   {
    "duration": 3,
    "start_time": "2022-06-15T18:27:21.815Z"
   },
   {
    "duration": 20,
    "start_time": "2022-06-15T18:27:21.820Z"
   },
   {
    "duration": 39,
    "start_time": "2022-06-15T18:27:21.842Z"
   },
   {
    "duration": 145,
    "start_time": "2022-06-15T18:27:21.883Z"
   },
   {
    "duration": 16,
    "start_time": "2022-06-15T18:27:22.030Z"
   },
   {
    "duration": 10,
    "start_time": "2022-06-15T18:27:22.048Z"
   },
   {
    "duration": 20,
    "start_time": "2022-06-15T18:27:22.060Z"
   },
   {
    "duration": 31,
    "start_time": "2022-06-15T18:27:22.082Z"
   },
   {
    "duration": 15,
    "start_time": "2022-06-15T18:27:22.115Z"
   },
   {
    "duration": 30,
    "start_time": "2022-06-15T18:27:22.132Z"
   },
   {
    "duration": 32,
    "start_time": "2022-06-15T18:27:22.164Z"
   },
   {
    "duration": 34,
    "start_time": "2022-06-15T18:27:22.198Z"
   },
   {
    "duration": 12,
    "start_time": "2022-06-15T18:27:22.235Z"
   },
   {
    "duration": 46,
    "start_time": "2022-06-15T18:27:22.249Z"
   },
   {
    "duration": 19,
    "start_time": "2022-06-15T18:27:22.297Z"
   },
   {
    "duration": 15,
    "start_time": "2022-06-15T18:27:22.318Z"
   },
   {
    "duration": 31,
    "start_time": "2022-06-15T18:27:22.334Z"
   },
   {
    "duration": 503,
    "start_time": "2022-06-15T18:27:22.367Z"
   },
   {
    "duration": 10,
    "start_time": "2022-06-15T18:27:22.873Z"
   },
   {
    "duration": 59,
    "start_time": "2022-06-15T18:27:22.885Z"
   },
   {
    "duration": 327,
    "start_time": "2022-06-15T18:27:22.946Z"
   },
   {
    "duration": 4,
    "start_time": "2022-06-15T18:27:23.275Z"
   },
   {
    "duration": 56,
    "start_time": "2022-06-15T18:27:23.281Z"
   },
   {
    "duration": 18,
    "start_time": "2022-06-15T18:27:23.339Z"
   },
   {
    "duration": 4,
    "start_time": "2022-06-15T18:27:23.359Z"
   },
   {
    "duration": 19,
    "start_time": "2022-06-15T18:27:23.364Z"
   },
   {
    "duration": 31,
    "start_time": "2022-06-15T18:27:23.385Z"
   },
   {
    "duration": 21,
    "start_time": "2022-06-15T18:27:23.428Z"
   },
   {
    "duration": 12,
    "start_time": "2022-06-15T18:31:33.208Z"
   },
   {
    "duration": 10,
    "start_time": "2022-06-15T18:35:58.220Z"
   },
   {
    "duration": 3,
    "start_time": "2022-06-15T18:42:43.062Z"
   },
   {
    "duration": 7,
    "start_time": "2022-06-15T18:42:45.133Z"
   },
   {
    "duration": 3,
    "start_time": "2022-06-15T18:42:55.766Z"
   },
   {
    "duration": 11,
    "start_time": "2022-06-15T18:42:56.263Z"
   },
   {
    "duration": 525,
    "start_time": "2022-06-15T18:43:05.041Z"
   },
   {
    "duration": 93,
    "start_time": "2022-06-15T18:43:10.859Z"
   },
   {
    "duration": 3,
    "start_time": "2022-06-15T18:43:18.162Z"
   },
   {
    "duration": 13,
    "start_time": "2022-06-15T18:43:18.820Z"
   },
   {
    "duration": 8,
    "start_time": "2022-06-15T18:44:31.590Z"
   },
   {
    "duration": 9,
    "start_time": "2022-06-15T18:45:09.437Z"
   },
   {
    "duration": 14,
    "start_time": "2022-06-15T18:45:56.341Z"
   },
   {
    "duration": 855,
    "start_time": "2022-06-15T18:46:13.208Z"
   },
   {
    "duration": 557,
    "start_time": "2022-06-15T18:46:14.065Z"
   },
   {
    "duration": 14,
    "start_time": "2022-06-15T18:46:14.623Z"
   },
   {
    "duration": 10,
    "start_time": "2022-06-15T18:46:14.639Z"
   },
   {
    "duration": 11,
    "start_time": "2022-06-15T18:46:14.651Z"
   },
   {
    "duration": 19,
    "start_time": "2022-06-15T18:46:14.663Z"
   },
   {
    "duration": 8,
    "start_time": "2022-06-15T18:46:14.683Z"
   },
   {
    "duration": 73,
    "start_time": "2022-06-15T18:46:14.693Z"
   },
   {
    "duration": 5,
    "start_time": "2022-06-15T18:46:14.768Z"
   },
   {
    "duration": 117,
    "start_time": "2022-06-15T18:46:14.775Z"
   },
   {
    "duration": 7,
    "start_time": "2022-06-15T18:46:14.893Z"
   },
   {
    "duration": 13,
    "start_time": "2022-06-15T18:46:14.901Z"
   },
   {
    "duration": 106,
    "start_time": "2022-06-15T18:46:14.926Z"
   },
   {
    "duration": 15,
    "start_time": "2022-06-15T18:46:15.033Z"
   },
   {
    "duration": 42,
    "start_time": "2022-06-15T18:46:15.049Z"
   },
   {
    "duration": 10,
    "start_time": "2022-06-15T18:46:15.092Z"
   },
   {
    "duration": 49,
    "start_time": "2022-06-15T18:46:15.103Z"
   },
   {
    "duration": 12,
    "start_time": "2022-06-15T18:46:15.154Z"
   },
   {
    "duration": 13,
    "start_time": "2022-06-15T18:46:15.167Z"
   },
   {
    "duration": 24,
    "start_time": "2022-06-15T18:46:15.181Z"
   },
   {
    "duration": 15,
    "start_time": "2022-06-15T18:46:15.207Z"
   },
   {
    "duration": 8,
    "start_time": "2022-06-15T18:46:15.223Z"
   },
   {
    "duration": 18,
    "start_time": "2022-06-15T18:46:15.233Z"
   },
   {
    "duration": 14,
    "start_time": "2022-06-15T18:46:15.252Z"
   },
   {
    "duration": 8,
    "start_time": "2022-06-15T18:46:15.268Z"
   },
   {
    "duration": 14,
    "start_time": "2022-06-15T18:46:15.277Z"
   },
   {
    "duration": 13,
    "start_time": "2022-06-15T18:46:15.292Z"
   },
   {
    "duration": 23,
    "start_time": "2022-06-15T18:46:15.308Z"
   },
   {
    "duration": 10,
    "start_time": "2022-06-15T18:46:15.333Z"
   },
   {
    "duration": 9,
    "start_time": "2022-06-15T18:46:15.344Z"
   },
   {
    "duration": 4,
    "start_time": "2022-06-15T18:46:15.354Z"
   },
   {
    "duration": 7,
    "start_time": "2022-06-15T18:46:15.360Z"
   },
   {
    "duration": 8,
    "start_time": "2022-06-15T18:46:15.368Z"
   },
   {
    "duration": 20,
    "start_time": "2022-06-15T18:46:15.377Z"
   },
   {
    "duration": 8,
    "start_time": "2022-06-15T18:46:15.398Z"
   },
   {
    "duration": 9,
    "start_time": "2022-06-15T18:46:15.426Z"
   },
   {
    "duration": 4,
    "start_time": "2022-06-15T18:46:15.436Z"
   },
   {
    "duration": 11,
    "start_time": "2022-06-15T18:46:15.441Z"
   },
   {
    "duration": 5,
    "start_time": "2022-06-15T18:46:15.453Z"
   },
   {
    "duration": 9,
    "start_time": "2022-06-15T18:46:15.459Z"
   },
   {
    "duration": 8,
    "start_time": "2022-06-15T18:46:15.470Z"
   },
   {
    "duration": 22,
    "start_time": "2022-06-15T18:46:15.479Z"
   },
   {
    "duration": 29,
    "start_time": "2022-06-15T18:46:15.502Z"
   },
   {
    "duration": 6,
    "start_time": "2022-06-15T18:46:15.532Z"
   },
   {
    "duration": 6,
    "start_time": "2022-06-15T18:46:15.540Z"
   },
   {
    "duration": 25,
    "start_time": "2022-06-15T18:46:15.547Z"
   },
   {
    "duration": 3,
    "start_time": "2022-06-15T18:46:15.573Z"
   },
   {
    "duration": 5,
    "start_time": "2022-06-15T18:46:15.578Z"
   },
   {
    "duration": 14,
    "start_time": "2022-06-15T18:46:15.584Z"
   },
   {
    "duration": 146,
    "start_time": "2022-06-15T18:46:15.599Z"
   },
   {
    "duration": 16,
    "start_time": "2022-06-15T18:46:15.746Z"
   },
   {
    "duration": 5,
    "start_time": "2022-06-15T18:46:15.763Z"
   },
   {
    "duration": 8,
    "start_time": "2022-06-15T18:46:15.769Z"
   },
   {
    "duration": 18,
    "start_time": "2022-06-15T18:46:15.778Z"
   },
   {
    "duration": 4,
    "start_time": "2022-06-15T18:46:15.798Z"
   },
   {
    "duration": 31,
    "start_time": "2022-06-15T18:46:15.804Z"
   },
   {
    "duration": 10,
    "start_time": "2022-06-15T18:46:15.836Z"
   },
   {
    "duration": 14,
    "start_time": "2022-06-15T18:46:15.847Z"
   },
   {
    "duration": 6,
    "start_time": "2022-06-15T18:46:15.862Z"
   },
   {
    "duration": 15,
    "start_time": "2022-06-15T18:46:15.869Z"
   },
   {
    "duration": 6,
    "start_time": "2022-06-15T18:46:15.885Z"
   },
   {
    "duration": 7,
    "start_time": "2022-06-15T18:46:15.892Z"
   },
   {
    "duration": 17,
    "start_time": "2022-06-15T18:46:15.927Z"
   },
   {
    "duration": 535,
    "start_time": "2022-06-15T18:46:15.945Z"
   },
   {
    "duration": 11,
    "start_time": "2022-06-15T18:46:16.483Z"
   },
   {
    "duration": 41,
    "start_time": "2022-06-15T18:46:16.496Z"
   },
   {
    "duration": 335,
    "start_time": "2022-06-15T18:46:16.539Z"
   },
   {
    "duration": 4,
    "start_time": "2022-06-15T18:46:16.875Z"
   },
   {
    "duration": 48,
    "start_time": "2022-06-15T18:46:16.880Z"
   },
   {
    "duration": 16,
    "start_time": "2022-06-15T18:46:16.929Z"
   },
   {
    "duration": 4,
    "start_time": "2022-06-15T18:46:16.946Z"
   },
   {
    "duration": 15,
    "start_time": "2022-06-15T18:46:16.951Z"
   },
   {
    "duration": 11,
    "start_time": "2022-06-15T18:46:16.967Z"
   },
   {
    "duration": 16,
    "start_time": "2022-06-15T18:46:16.979Z"
   },
   {
    "duration": 874,
    "start_time": "2022-06-15T18:48:32.983Z"
   },
   {
    "duration": 560,
    "start_time": "2022-06-15T18:48:33.859Z"
   },
   {
    "duration": 14,
    "start_time": "2022-06-15T18:48:34.420Z"
   },
   {
    "duration": 18,
    "start_time": "2022-06-15T18:48:34.436Z"
   },
   {
    "duration": 14,
    "start_time": "2022-06-15T18:48:34.456Z"
   },
   {
    "duration": 18,
    "start_time": "2022-06-15T18:48:34.471Z"
   },
   {
    "duration": 7,
    "start_time": "2022-06-15T18:48:34.490Z"
   },
   {
    "duration": 69,
    "start_time": "2022-06-15T18:48:34.498Z"
   },
   {
    "duration": 5,
    "start_time": "2022-06-15T18:48:34.568Z"
   },
   {
    "duration": 124,
    "start_time": "2022-06-15T18:48:34.576Z"
   },
   {
    "duration": 7,
    "start_time": "2022-06-15T18:48:34.701Z"
   },
   {
    "duration": 22,
    "start_time": "2022-06-15T18:48:34.710Z"
   },
   {
    "duration": 97,
    "start_time": "2022-06-15T18:48:34.734Z"
   },
   {
    "duration": 17,
    "start_time": "2022-06-15T18:48:34.833Z"
   },
   {
    "duration": 49,
    "start_time": "2022-06-15T18:48:34.852Z"
   },
   {
    "duration": 30,
    "start_time": "2022-06-15T18:48:34.903Z"
   },
   {
    "duration": 39,
    "start_time": "2022-06-15T18:48:34.935Z"
   },
   {
    "duration": 18,
    "start_time": "2022-06-15T18:48:34.977Z"
   },
   {
    "duration": 12,
    "start_time": "2022-06-15T18:48:34.997Z"
   },
   {
    "duration": 29,
    "start_time": "2022-06-15T18:48:35.010Z"
   },
   {
    "duration": 7,
    "start_time": "2022-06-15T18:48:35.040Z"
   },
   {
    "duration": 7,
    "start_time": "2022-06-15T18:48:35.048Z"
   },
   {
    "duration": 14,
    "start_time": "2022-06-15T18:48:35.056Z"
   },
   {
    "duration": 91,
    "start_time": "2022-06-15T18:48:35.072Z"
   },
   {
    "duration": 0,
    "start_time": "2022-06-15T18:48:35.165Z"
   },
   {
    "duration": 0,
    "start_time": "2022-06-15T18:48:35.167Z"
   },
   {
    "duration": 0,
    "start_time": "2022-06-15T18:48:35.167Z"
   },
   {
    "duration": 0,
    "start_time": "2022-06-15T18:48:35.169Z"
   },
   {
    "duration": 0,
    "start_time": "2022-06-15T18:48:35.169Z"
   },
   {
    "duration": 0,
    "start_time": "2022-06-15T18:48:35.170Z"
   },
   {
    "duration": 0,
    "start_time": "2022-06-15T18:48:35.171Z"
   },
   {
    "duration": 0,
    "start_time": "2022-06-15T18:48:35.172Z"
   },
   {
    "duration": 0,
    "start_time": "2022-06-15T18:48:35.173Z"
   },
   {
    "duration": 0,
    "start_time": "2022-06-15T18:48:35.174Z"
   },
   {
    "duration": 0,
    "start_time": "2022-06-15T18:48:35.175Z"
   },
   {
    "duration": 0,
    "start_time": "2022-06-15T18:48:35.176Z"
   },
   {
    "duration": 0,
    "start_time": "2022-06-15T18:48:35.177Z"
   },
   {
    "duration": 0,
    "start_time": "2022-06-15T18:48:35.178Z"
   },
   {
    "duration": 0,
    "start_time": "2022-06-15T18:48:35.179Z"
   },
   {
    "duration": 1,
    "start_time": "2022-06-15T18:48:35.179Z"
   },
   {
    "duration": 0,
    "start_time": "2022-06-15T18:48:35.180Z"
   },
   {
    "duration": 0,
    "start_time": "2022-06-15T18:48:35.181Z"
   },
   {
    "duration": 0,
    "start_time": "2022-06-15T18:48:35.182Z"
   },
   {
    "duration": 0,
    "start_time": "2022-06-15T18:48:35.183Z"
   },
   {
    "duration": 0,
    "start_time": "2022-06-15T18:48:35.184Z"
   },
   {
    "duration": 0,
    "start_time": "2022-06-15T18:48:35.185Z"
   },
   {
    "duration": 0,
    "start_time": "2022-06-15T18:48:35.186Z"
   },
   {
    "duration": 0,
    "start_time": "2022-06-15T18:48:35.187Z"
   },
   {
    "duration": 0,
    "start_time": "2022-06-15T18:48:35.229Z"
   },
   {
    "duration": 0,
    "start_time": "2022-06-15T18:48:35.230Z"
   },
   {
    "duration": 0,
    "start_time": "2022-06-15T18:48:35.231Z"
   },
   {
    "duration": 0,
    "start_time": "2022-06-15T18:48:35.231Z"
   },
   {
    "duration": 0,
    "start_time": "2022-06-15T18:48:35.232Z"
   },
   {
    "duration": 0,
    "start_time": "2022-06-15T18:48:35.233Z"
   },
   {
    "duration": 0,
    "start_time": "2022-06-15T18:48:35.234Z"
   },
   {
    "duration": 0,
    "start_time": "2022-06-15T18:48:35.234Z"
   },
   {
    "duration": 0,
    "start_time": "2022-06-15T18:48:35.235Z"
   },
   {
    "duration": 0,
    "start_time": "2022-06-15T18:48:35.236Z"
   },
   {
    "duration": 0,
    "start_time": "2022-06-15T18:48:35.237Z"
   },
   {
    "duration": 0,
    "start_time": "2022-06-15T18:48:35.240Z"
   },
   {
    "duration": 0,
    "start_time": "2022-06-15T18:48:35.241Z"
   },
   {
    "duration": 0,
    "start_time": "2022-06-15T18:48:35.242Z"
   },
   {
    "duration": 0,
    "start_time": "2022-06-15T18:48:35.243Z"
   },
   {
    "duration": 0,
    "start_time": "2022-06-15T18:48:35.244Z"
   },
   {
    "duration": 0,
    "start_time": "2022-06-15T18:48:35.245Z"
   },
   {
    "duration": 0,
    "start_time": "2022-06-15T18:48:35.246Z"
   },
   {
    "duration": 0,
    "start_time": "2022-06-15T18:48:35.247Z"
   },
   {
    "duration": 0,
    "start_time": "2022-06-15T18:48:35.248Z"
   },
   {
    "duration": 0,
    "start_time": "2022-06-15T18:48:35.250Z"
   },
   {
    "duration": 0,
    "start_time": "2022-06-15T18:48:35.251Z"
   },
   {
    "duration": 4,
    "start_time": "2022-06-15T18:51:39.278Z"
   },
   {
    "duration": 10,
    "start_time": "2022-06-15T18:51:40.910Z"
   },
   {
    "duration": 11,
    "start_time": "2022-06-15T18:52:09.926Z"
   },
   {
    "duration": 9,
    "start_time": "2022-06-15T18:52:14.683Z"
   },
   {
    "duration": 9,
    "start_time": "2022-06-15T18:52:25.078Z"
   },
   {
    "duration": 9,
    "start_time": "2022-06-15T18:52:33.990Z"
   },
   {
    "duration": 5,
    "start_time": "2022-06-15T18:52:49.259Z"
   },
   {
    "duration": 6,
    "start_time": "2022-06-15T18:52:50.380Z"
   },
   {
    "duration": 3,
    "start_time": "2022-06-15T18:52:52.830Z"
   },
   {
    "duration": 13,
    "start_time": "2022-06-15T18:53:00.337Z"
   },
   {
    "duration": 9,
    "start_time": "2022-06-15T18:53:02.645Z"
   },
   {
    "duration": 8,
    "start_time": "2022-06-15T18:53:39.358Z"
   },
   {
    "duration": 839,
    "start_time": "2022-06-15T18:53:55.555Z"
   },
   {
    "duration": 552,
    "start_time": "2022-06-15T18:53:56.397Z"
   },
   {
    "duration": 14,
    "start_time": "2022-06-15T18:53:56.950Z"
   },
   {
    "duration": 9,
    "start_time": "2022-06-15T18:53:56.965Z"
   },
   {
    "duration": 10,
    "start_time": "2022-06-15T18:53:56.976Z"
   },
   {
    "duration": 18,
    "start_time": "2022-06-15T18:53:56.988Z"
   },
   {
    "duration": 7,
    "start_time": "2022-06-15T18:53:57.007Z"
   },
   {
    "duration": 63,
    "start_time": "2022-06-15T18:53:57.016Z"
   },
   {
    "duration": 5,
    "start_time": "2022-06-15T18:53:57.080Z"
   },
   {
    "duration": 110,
    "start_time": "2022-06-15T18:53:57.086Z"
   },
   {
    "duration": 9,
    "start_time": "2022-06-15T18:53:57.198Z"
   },
   {
    "duration": 28,
    "start_time": "2022-06-15T18:53:57.208Z"
   },
   {
    "duration": 107,
    "start_time": "2022-06-15T18:53:57.237Z"
   },
   {
    "duration": 15,
    "start_time": "2022-06-15T18:53:57.347Z"
   },
   {
    "duration": 54,
    "start_time": "2022-06-15T18:53:57.364Z"
   },
   {
    "duration": 14,
    "start_time": "2022-06-15T18:53:57.419Z"
   },
   {
    "duration": 31,
    "start_time": "2022-06-15T18:53:57.434Z"
   },
   {
    "duration": 11,
    "start_time": "2022-06-15T18:53:57.467Z"
   },
   {
    "duration": 9,
    "start_time": "2022-06-15T18:53:57.479Z"
   },
   {
    "duration": 15,
    "start_time": "2022-06-15T18:53:57.490Z"
   },
   {
    "duration": 24,
    "start_time": "2022-06-15T18:53:57.506Z"
   },
   {
    "duration": 19,
    "start_time": "2022-06-15T18:53:57.531Z"
   },
   {
    "duration": 28,
    "start_time": "2022-06-15T18:53:57.552Z"
   },
   {
    "duration": 12,
    "start_time": "2022-06-15T18:53:57.581Z"
   },
   {
    "duration": 12,
    "start_time": "2022-06-15T18:53:57.594Z"
   },
   {
    "duration": 9,
    "start_time": "2022-06-15T18:53:57.607Z"
   },
   {
    "duration": 16,
    "start_time": "2022-06-15T18:53:57.617Z"
   },
   {
    "duration": 12,
    "start_time": "2022-06-15T18:53:57.635Z"
   },
   {
    "duration": 16,
    "start_time": "2022-06-15T18:53:57.649Z"
   },
   {
    "duration": 10,
    "start_time": "2022-06-15T18:53:57.667Z"
   },
   {
    "duration": 21,
    "start_time": "2022-06-15T18:53:57.679Z"
   },
   {
    "duration": 10,
    "start_time": "2022-06-15T18:53:57.701Z"
   },
   {
    "duration": 15,
    "start_time": "2022-06-15T18:53:57.713Z"
   },
   {
    "duration": 16,
    "start_time": "2022-06-15T18:53:57.729Z"
   },
   {
    "duration": 6,
    "start_time": "2022-06-15T18:53:57.746Z"
   },
   {
    "duration": 8,
    "start_time": "2022-06-15T18:53:57.754Z"
   },
   {
    "duration": 13,
    "start_time": "2022-06-15T18:53:57.763Z"
   },
   {
    "duration": 24,
    "start_time": "2022-06-15T18:53:57.777Z"
   },
   {
    "duration": 11,
    "start_time": "2022-06-15T18:53:57.803Z"
   },
   {
    "duration": 13,
    "start_time": "2022-06-15T18:53:57.816Z"
   },
   {
    "duration": 11,
    "start_time": "2022-06-15T18:53:57.833Z"
   },
   {
    "duration": 32,
    "start_time": "2022-06-15T18:53:57.845Z"
   },
   {
    "duration": 4,
    "start_time": "2022-06-15T18:53:57.878Z"
   },
   {
    "duration": 10,
    "start_time": "2022-06-15T18:53:57.883Z"
   },
   {
    "duration": 16,
    "start_time": "2022-06-15T18:53:57.895Z"
   },
   {
    "duration": 130,
    "start_time": "2022-06-15T18:53:57.913Z"
   },
   {
    "duration": 15,
    "start_time": "2022-06-15T18:53:58.044Z"
   },
   {
    "duration": 12,
    "start_time": "2022-06-15T18:53:58.060Z"
   },
   {
    "duration": 9,
    "start_time": "2022-06-15T18:53:58.073Z"
   },
   {
    "duration": 25,
    "start_time": "2022-06-15T18:53:58.084Z"
   },
   {
    "duration": 4,
    "start_time": "2022-06-15T18:53:58.111Z"
   },
   {
    "duration": 26,
    "start_time": "2022-06-15T18:53:58.116Z"
   },
   {
    "duration": 9,
    "start_time": "2022-06-15T18:53:58.143Z"
   },
   {
    "duration": 22,
    "start_time": "2022-06-15T18:53:58.153Z"
   },
   {
    "duration": 15,
    "start_time": "2022-06-15T18:53:58.177Z"
   },
   {
    "duration": 15,
    "start_time": "2022-06-15T18:53:58.194Z"
   },
   {
    "duration": 6,
    "start_time": "2022-06-15T18:53:58.210Z"
   },
   {
    "duration": 10,
    "start_time": "2022-06-15T18:53:58.217Z"
   },
   {
    "duration": 27,
    "start_time": "2022-06-15T18:53:58.228Z"
   },
   {
    "duration": 473,
    "start_time": "2022-06-15T18:53:58.257Z"
   },
   {
    "duration": 10,
    "start_time": "2022-06-15T18:53:58.731Z"
   },
   {
    "duration": 34,
    "start_time": "2022-06-15T18:53:58.743Z"
   },
   {
    "duration": 363,
    "start_time": "2022-06-15T18:53:58.779Z"
   },
   {
    "duration": 4,
    "start_time": "2022-06-15T18:53:59.144Z"
   },
   {
    "duration": 27,
    "start_time": "2022-06-15T18:53:59.150Z"
   },
   {
    "duration": 15,
    "start_time": "2022-06-15T18:53:59.179Z"
   },
   {
    "duration": 4,
    "start_time": "2022-06-15T18:53:59.227Z"
   },
   {
    "duration": 33,
    "start_time": "2022-06-15T18:53:59.232Z"
   },
   {
    "duration": 25,
    "start_time": "2022-06-15T18:53:59.267Z"
   },
   {
    "duration": 31,
    "start_time": "2022-06-15T18:53:59.294Z"
   },
   {
    "duration": 983,
    "start_time": "2022-06-15T18:58:24.146Z"
   },
   {
    "duration": 783,
    "start_time": "2022-06-15T18:58:25.131Z"
   },
   {
    "duration": 22,
    "start_time": "2022-06-15T18:58:25.916Z"
   },
   {
    "duration": 18,
    "start_time": "2022-06-15T18:58:25.939Z"
   },
   {
    "duration": 36,
    "start_time": "2022-06-15T18:58:25.958Z"
   },
   {
    "duration": 31,
    "start_time": "2022-06-15T18:58:25.995Z"
   },
   {
    "duration": 22,
    "start_time": "2022-06-15T18:58:26.028Z"
   },
   {
    "duration": 76,
    "start_time": "2022-06-15T18:58:26.052Z"
   },
   {
    "duration": 5,
    "start_time": "2022-06-15T18:58:26.129Z"
   },
   {
    "duration": 119,
    "start_time": "2022-06-15T18:58:26.135Z"
   },
   {
    "duration": 9,
    "start_time": "2022-06-15T18:58:26.256Z"
   },
   {
    "duration": 27,
    "start_time": "2022-06-15T18:58:26.267Z"
   },
   {
    "duration": 147,
    "start_time": "2022-06-15T18:58:26.297Z"
   },
   {
    "duration": 15,
    "start_time": "2022-06-15T18:58:26.447Z"
   },
   {
    "duration": 57,
    "start_time": "2022-06-15T18:58:26.463Z"
   },
   {
    "duration": 9,
    "start_time": "2022-06-15T18:58:26.521Z"
   },
   {
    "duration": 42,
    "start_time": "2022-06-15T18:58:26.532Z"
   },
   {
    "duration": 12,
    "start_time": "2022-06-15T18:58:26.575Z"
   },
   {
    "duration": 33,
    "start_time": "2022-06-15T18:58:26.588Z"
   },
   {
    "duration": 12,
    "start_time": "2022-06-15T18:58:26.623Z"
   },
   {
    "duration": 30,
    "start_time": "2022-06-15T18:58:26.636Z"
   },
   {
    "duration": 32,
    "start_time": "2022-06-15T18:58:26.668Z"
   },
   {
    "duration": 24,
    "start_time": "2022-06-15T18:58:26.702Z"
   },
   {
    "duration": 30,
    "start_time": "2022-06-15T18:58:26.728Z"
   },
   {
    "duration": 33,
    "start_time": "2022-06-15T18:58:26.759Z"
   },
   {
    "duration": 27,
    "start_time": "2022-06-15T18:58:26.794Z"
   },
   {
    "duration": 36,
    "start_time": "2022-06-15T18:58:26.823Z"
   },
   {
    "duration": 22,
    "start_time": "2022-06-15T18:58:26.860Z"
   },
   {
    "duration": 32,
    "start_time": "2022-06-15T18:58:26.884Z"
   },
   {
    "duration": 13,
    "start_time": "2022-06-15T18:58:26.918Z"
   },
   {
    "duration": 45,
    "start_time": "2022-06-15T18:58:26.932Z"
   },
   {
    "duration": 9,
    "start_time": "2022-06-15T18:58:26.978Z"
   },
   {
    "duration": 22,
    "start_time": "2022-06-15T18:58:26.988Z"
   },
   {
    "duration": 26,
    "start_time": "2022-06-15T18:58:27.011Z"
   },
   {
    "duration": 19,
    "start_time": "2022-06-15T18:58:27.038Z"
   },
   {
    "duration": 45,
    "start_time": "2022-06-15T18:58:27.058Z"
   },
   {
    "duration": 23,
    "start_time": "2022-06-15T18:58:27.105Z"
   },
   {
    "duration": 42,
    "start_time": "2022-06-15T18:58:27.130Z"
   },
   {
    "duration": 27,
    "start_time": "2022-06-15T18:58:27.174Z"
   },
   {
    "duration": 19,
    "start_time": "2022-06-15T18:58:27.202Z"
   },
   {
    "duration": 22,
    "start_time": "2022-06-15T18:58:27.225Z"
   },
   {
    "duration": 43,
    "start_time": "2022-06-15T18:58:27.249Z"
   },
   {
    "duration": 4,
    "start_time": "2022-06-15T18:58:27.294Z"
   },
   {
    "duration": 28,
    "start_time": "2022-06-15T18:58:27.300Z"
   },
   {
    "duration": 27,
    "start_time": "2022-06-15T18:58:27.330Z"
   },
   {
    "duration": 145,
    "start_time": "2022-06-15T18:58:27.358Z"
   },
   {
    "duration": 15,
    "start_time": "2022-06-15T18:58:27.505Z"
   },
   {
    "duration": 23,
    "start_time": "2022-06-15T18:58:27.521Z"
   },
   {
    "duration": 24,
    "start_time": "2022-06-15T18:58:27.545Z"
   },
   {
    "duration": 25,
    "start_time": "2022-06-15T18:58:27.570Z"
   },
   {
    "duration": 5,
    "start_time": "2022-06-15T18:58:27.596Z"
   },
   {
    "duration": 32,
    "start_time": "2022-06-15T18:58:27.602Z"
   },
   {
    "duration": 30,
    "start_time": "2022-06-15T18:58:27.635Z"
   },
   {
    "duration": 24,
    "start_time": "2022-06-15T18:58:27.667Z"
   },
   {
    "duration": 30,
    "start_time": "2022-06-15T18:58:27.693Z"
   },
   {
    "duration": 29,
    "start_time": "2022-06-15T18:58:27.724Z"
   },
   {
    "duration": 18,
    "start_time": "2022-06-15T18:58:27.755Z"
   },
   {
    "duration": 21,
    "start_time": "2022-06-15T18:58:27.775Z"
   },
   {
    "duration": 22,
    "start_time": "2022-06-15T18:58:27.797Z"
   },
   {
    "duration": 484,
    "start_time": "2022-06-15T18:58:27.821Z"
   },
   {
    "duration": 9,
    "start_time": "2022-06-15T18:58:28.307Z"
   },
   {
    "duration": 26,
    "start_time": "2022-06-15T18:58:28.326Z"
   },
   {
    "duration": 318,
    "start_time": "2022-06-15T18:58:28.354Z"
   },
   {
    "duration": 4,
    "start_time": "2022-06-15T18:58:28.673Z"
   },
   {
    "duration": 41,
    "start_time": "2022-06-15T18:58:28.678Z"
   },
   {
    "duration": 16,
    "start_time": "2022-06-15T18:58:28.727Z"
   },
   {
    "duration": 26,
    "start_time": "2022-06-15T18:58:28.744Z"
   },
   {
    "duration": 24,
    "start_time": "2022-06-15T18:58:28.772Z"
   },
   {
    "duration": 29,
    "start_time": "2022-06-15T18:58:28.797Z"
   },
   {
    "duration": 31,
    "start_time": "2022-06-15T18:58:28.828Z"
   },
   {
    "duration": 10,
    "start_time": "2022-06-15T19:04:24.885Z"
   },
   {
    "duration": 11,
    "start_time": "2022-06-15T19:04:51.117Z"
   },
   {
    "duration": 805,
    "start_time": "2022-06-15T19:09:30.756Z"
   },
   {
    "duration": 575,
    "start_time": "2022-06-15T19:09:31.562Z"
   },
   {
    "duration": 14,
    "start_time": "2022-06-15T19:09:32.138Z"
   },
   {
    "duration": 12,
    "start_time": "2022-06-15T19:09:32.154Z"
   },
   {
    "duration": 64,
    "start_time": "2022-06-15T19:09:32.167Z"
   },
   {
    "duration": 33,
    "start_time": "2022-06-15T19:09:32.233Z"
   },
   {
    "duration": 63,
    "start_time": "2022-06-15T19:09:32.268Z"
   },
   {
    "duration": 218,
    "start_time": "2022-06-15T19:09:32.333Z"
   },
   {
    "duration": 4,
    "start_time": "2022-06-15T19:09:32.553Z"
   },
   {
    "duration": 202,
    "start_time": "2022-06-15T19:09:32.558Z"
   },
   {
    "duration": 6,
    "start_time": "2022-06-15T19:09:32.762Z"
   },
   {
    "duration": 22,
    "start_time": "2022-06-15T19:09:32.769Z"
   },
   {
    "duration": 102,
    "start_time": "2022-06-15T19:09:32.793Z"
   },
   {
    "duration": 14,
    "start_time": "2022-06-15T19:09:32.898Z"
   },
   {
    "duration": 47,
    "start_time": "2022-06-15T19:09:32.913Z"
   },
   {
    "duration": 9,
    "start_time": "2022-06-15T19:09:32.962Z"
   },
   {
    "duration": 72,
    "start_time": "2022-06-15T19:09:32.972Z"
   },
   {
    "duration": 13,
    "start_time": "2022-06-15T19:09:33.045Z"
   },
   {
    "duration": 10,
    "start_time": "2022-06-15T19:09:33.059Z"
   },
   {
    "duration": 66,
    "start_time": "2022-06-15T19:09:33.070Z"
   },
   {
    "duration": 9,
    "start_time": "2022-06-15T19:09:33.138Z"
   },
   {
    "duration": 4,
    "start_time": "2022-06-15T19:09:33.148Z"
   },
   {
    "duration": 74,
    "start_time": "2022-06-15T19:09:33.154Z"
   },
   {
    "duration": 17,
    "start_time": "2022-06-15T19:09:33.230Z"
   },
   {
    "duration": 32,
    "start_time": "2022-06-15T19:09:33.249Z"
   },
   {
    "duration": 46,
    "start_time": "2022-06-15T19:09:33.283Z"
   },
   {
    "duration": 11,
    "start_time": "2022-06-15T19:09:33.331Z"
   },
   {
    "duration": 9,
    "start_time": "2022-06-15T19:09:33.343Z"
   },
   {
    "duration": 8,
    "start_time": "2022-06-15T19:09:33.354Z"
   },
   {
    "duration": 7,
    "start_time": "2022-06-15T19:09:33.363Z"
   },
   {
    "duration": 19,
    "start_time": "2022-06-15T19:09:33.371Z"
   },
   {
    "duration": 8,
    "start_time": "2022-06-15T19:09:33.391Z"
   },
   {
    "duration": 29,
    "start_time": "2022-06-15T19:09:33.400Z"
   },
   {
    "duration": 7,
    "start_time": "2022-06-15T19:09:33.430Z"
   },
   {
    "duration": 9,
    "start_time": "2022-06-15T19:09:33.438Z"
   },
   {
    "duration": 16,
    "start_time": "2022-06-15T19:09:33.449Z"
   },
   {
    "duration": 12,
    "start_time": "2022-06-15T19:09:33.467Z"
   },
   {
    "duration": 20,
    "start_time": "2022-06-15T19:09:33.481Z"
   },
   {
    "duration": 8,
    "start_time": "2022-06-15T19:09:33.502Z"
   },
   {
    "duration": 18,
    "start_time": "2022-06-15T19:09:33.511Z"
   },
   {
    "duration": 3,
    "start_time": "2022-06-15T19:09:33.533Z"
   },
   {
    "duration": 26,
    "start_time": "2022-06-15T19:09:33.538Z"
   },
   {
    "duration": 4,
    "start_time": "2022-06-15T19:09:33.567Z"
   },
   {
    "duration": 13,
    "start_time": "2022-06-15T19:09:33.572Z"
   },
   {
    "duration": 15,
    "start_time": "2022-06-15T19:09:33.586Z"
   },
   {
    "duration": 137,
    "start_time": "2022-06-15T19:09:33.602Z"
   },
   {
    "duration": 16,
    "start_time": "2022-06-15T19:09:33.740Z"
   },
   {
    "duration": 5,
    "start_time": "2022-06-15T19:09:33.758Z"
   },
   {
    "duration": 6,
    "start_time": "2022-06-15T19:09:33.764Z"
   },
   {
    "duration": 24,
    "start_time": "2022-06-15T19:09:33.771Z"
   },
   {
    "duration": 5,
    "start_time": "2022-06-15T19:09:33.796Z"
   },
   {
    "duration": 36,
    "start_time": "2022-06-15T19:09:33.803Z"
   },
   {
    "duration": 11,
    "start_time": "2022-06-15T19:09:33.840Z"
   },
   {
    "duration": 19,
    "start_time": "2022-06-15T19:09:33.852Z"
   },
   {
    "duration": 7,
    "start_time": "2022-06-15T19:09:33.872Z"
   },
   {
    "duration": 16,
    "start_time": "2022-06-15T19:09:33.881Z"
   },
   {
    "duration": 29,
    "start_time": "2022-06-15T19:09:33.899Z"
   },
   {
    "duration": 7,
    "start_time": "2022-06-15T19:09:33.930Z"
   },
   {
    "duration": 25,
    "start_time": "2022-06-15T19:09:33.938Z"
   },
   {
    "duration": 475,
    "start_time": "2022-06-15T19:09:33.965Z"
   },
   {
    "duration": 9,
    "start_time": "2022-06-15T19:09:34.441Z"
   },
   {
    "duration": 23,
    "start_time": "2022-06-15T19:09:34.452Z"
   },
   {
    "duration": 387,
    "start_time": "2022-06-15T19:09:34.476Z"
   },
   {
    "duration": 4,
    "start_time": "2022-06-15T19:09:34.865Z"
   },
   {
    "duration": 45,
    "start_time": "2022-06-15T19:09:34.870Z"
   },
   {
    "duration": 24,
    "start_time": "2022-06-15T19:09:34.916Z"
   },
   {
    "duration": 4,
    "start_time": "2022-06-15T19:09:34.942Z"
   },
   {
    "duration": 13,
    "start_time": "2022-06-15T19:09:34.948Z"
   },
   {
    "duration": 30,
    "start_time": "2022-06-15T19:09:34.963Z"
   },
   {
    "duration": 28,
    "start_time": "2022-06-15T19:09:34.994Z"
   },
   {
    "duration": 818,
    "start_time": "2022-06-15T19:12:38.222Z"
   },
   {
    "duration": 553,
    "start_time": "2022-06-15T19:12:39.042Z"
   },
   {
    "duration": 13,
    "start_time": "2022-06-15T19:12:39.597Z"
   },
   {
    "duration": 10,
    "start_time": "2022-06-15T19:12:39.612Z"
   },
   {
    "duration": 10,
    "start_time": "2022-06-15T19:12:39.624Z"
   },
   {
    "duration": 19,
    "start_time": "2022-06-15T19:12:39.635Z"
   },
   {
    "duration": 12,
    "start_time": "2022-06-15T19:12:39.655Z"
   },
   {
    "duration": 61,
    "start_time": "2022-06-15T19:12:39.668Z"
   },
   {
    "duration": 5,
    "start_time": "2022-06-15T19:12:39.730Z"
   },
   {
    "duration": 101,
    "start_time": "2022-06-15T19:12:39.738Z"
   },
   {
    "duration": 6,
    "start_time": "2022-06-15T19:12:39.840Z"
   },
   {
    "duration": 12,
    "start_time": "2022-06-15T19:12:39.848Z"
   },
   {
    "duration": 98,
    "start_time": "2022-06-15T19:12:39.862Z"
   },
   {
    "duration": 16,
    "start_time": "2022-06-15T19:12:39.961Z"
   },
   {
    "duration": 52,
    "start_time": "2022-06-15T19:12:39.978Z"
   },
   {
    "duration": 9,
    "start_time": "2022-06-15T19:12:40.032Z"
   },
   {
    "duration": 37,
    "start_time": "2022-06-15T19:12:40.042Z"
   },
   {
    "duration": 11,
    "start_time": "2022-06-15T19:12:40.080Z"
   },
   {
    "duration": 51,
    "start_time": "2022-06-15T19:12:40.092Z"
   },
   {
    "duration": 25,
    "start_time": "2022-06-15T19:12:40.144Z"
   },
   {
    "duration": 6,
    "start_time": "2022-06-15T19:12:40.170Z"
   },
   {
    "duration": 5,
    "start_time": "2022-06-15T19:12:40.177Z"
   },
   {
    "duration": 14,
    "start_time": "2022-06-15T19:12:40.183Z"
   },
   {
    "duration": 10,
    "start_time": "2022-06-15T19:12:40.198Z"
   },
   {
    "duration": 27,
    "start_time": "2022-06-15T19:12:40.209Z"
   },
   {
    "duration": 17,
    "start_time": "2022-06-15T19:12:40.238Z"
   },
   {
    "duration": 9,
    "start_time": "2022-06-15T19:12:40.256Z"
   },
   {
    "duration": 16,
    "start_time": "2022-06-15T19:12:40.268Z"
   },
   {
    "duration": 7,
    "start_time": "2022-06-15T19:12:40.285Z"
   },
   {
    "duration": 25,
    "start_time": "2022-06-15T19:12:40.293Z"
   },
   {
    "duration": 25,
    "start_time": "2022-06-15T19:12:40.319Z"
   },
   {
    "duration": 8,
    "start_time": "2022-06-15T19:12:40.345Z"
   },
   {
    "duration": 4,
    "start_time": "2022-06-15T19:12:40.354Z"
   },
   {
    "duration": 8,
    "start_time": "2022-06-15T19:12:40.360Z"
   },
   {
    "duration": 8,
    "start_time": "2022-06-15T19:12:40.369Z"
   },
   {
    "duration": 14,
    "start_time": "2022-06-15T19:12:40.378Z"
   },
   {
    "duration": 13,
    "start_time": "2022-06-15T19:12:40.394Z"
   },
   {
    "duration": 21,
    "start_time": "2022-06-15T19:12:40.408Z"
   },
   {
    "duration": 7,
    "start_time": "2022-06-15T19:12:40.430Z"
   },
   {
    "duration": 3,
    "start_time": "2022-06-15T19:12:40.439Z"
   },
   {
    "duration": 6,
    "start_time": "2022-06-15T19:12:40.443Z"
   },
   {
    "duration": 25,
    "start_time": "2022-06-15T19:12:40.451Z"
   },
   {
    "duration": 3,
    "start_time": "2022-06-15T19:12:40.477Z"
   },
   {
    "duration": 6,
    "start_time": "2022-06-15T19:12:40.481Z"
   },
   {
    "duration": 13,
    "start_time": "2022-06-15T19:12:40.488Z"
   },
   {
    "duration": 141,
    "start_time": "2022-06-15T19:12:40.502Z"
   },
   {
    "duration": 15,
    "start_time": "2022-06-15T19:12:40.644Z"
   },
   {
    "duration": 7,
    "start_time": "2022-06-15T19:12:40.660Z"
   },
   {
    "duration": 8,
    "start_time": "2022-06-15T19:12:40.668Z"
   },
   {
    "duration": 18,
    "start_time": "2022-06-15T19:12:40.677Z"
   },
   {
    "duration": 5,
    "start_time": "2022-06-15T19:12:40.696Z"
   },
   {
    "duration": 30,
    "start_time": "2022-06-15T19:12:40.702Z"
   },
   {
    "duration": 8,
    "start_time": "2022-06-15T19:12:40.733Z"
   },
   {
    "duration": 17,
    "start_time": "2022-06-15T19:12:40.742Z"
   },
   {
    "duration": 6,
    "start_time": "2022-06-15T19:12:40.760Z"
   },
   {
    "duration": 15,
    "start_time": "2022-06-15T19:12:40.767Z"
   },
   {
    "duration": 24,
    "start_time": "2022-06-15T19:12:40.784Z"
   },
   {
    "duration": 26,
    "start_time": "2022-06-15T19:12:40.809Z"
   },
   {
    "duration": 20,
    "start_time": "2022-06-15T19:12:40.836Z"
   },
   {
    "duration": 501,
    "start_time": "2022-06-15T19:12:40.857Z"
   },
   {
    "duration": 12,
    "start_time": "2022-06-15T19:12:41.359Z"
   },
   {
    "duration": 63,
    "start_time": "2022-06-15T19:12:41.373Z"
   },
   {
    "duration": 345,
    "start_time": "2022-06-15T19:12:41.437Z"
   },
   {
    "duration": 3,
    "start_time": "2022-06-15T19:12:41.783Z"
   },
   {
    "duration": 47,
    "start_time": "2022-06-15T19:12:41.787Z"
   },
   {
    "duration": 15,
    "start_time": "2022-06-15T19:12:41.836Z"
   },
   {
    "duration": 3,
    "start_time": "2022-06-15T19:12:41.852Z"
   },
   {
    "duration": 17,
    "start_time": "2022-06-15T19:12:41.856Z"
   },
   {
    "duration": 10,
    "start_time": "2022-06-15T19:12:41.874Z"
   },
   {
    "duration": 16,
    "start_time": "2022-06-15T19:12:41.885Z"
   }
  ],
  "kernelspec": {
   "display_name": "Python 3 (ipykernel)",
   "language": "python",
   "name": "python3"
  },
  "language_info": {
   "codemirror_mode": {
    "name": "ipython",
    "version": 3
   },
   "file_extension": ".py",
   "mimetype": "text/x-python",
   "name": "python",
   "nbconvert_exporter": "python",
   "pygments_lexer": "ipython3",
   "version": "3.9.5"
  },
  "toc": {
   "base_numbering": 1,
   "nav_menu": {},
   "number_sections": true,
   "sideBar": true,
   "skip_h1_title": true,
   "title_cell": "Table of Contents",
   "title_sidebar": "Contents",
   "toc_cell": false,
   "toc_position": {
    "height": "calc(100% - 180px)",
    "left": "10px",
    "top": "150px",
    "width": "323.903px"
   },
   "toc_section_display": true,
   "toc_window_display": true
  },
  "colab": {
   "provenance": [],
   "toc_visible": true
  }
 },
 "nbformat": 4,
 "nbformat_minor": 0
}
